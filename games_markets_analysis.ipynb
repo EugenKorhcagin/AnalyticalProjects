{
 "cells": [
  {
   "cell_type": "markdown",
   "metadata": {},
   "source": [
    "<h1>Содержание сборного проекта. Игровые платформы.<span class=\"tocSkip\"></span></h1>\n",
    "<div class=\"toc\"><ul class=\"toc-item\"><li><span><a href=\"#Изучение-данных-из-файла\" data-toc-modified-id=\"Изучение-данных-из-файла-1\"><span class=\"toc-item-num\">1&nbsp;&nbsp;</span>Изучение данных из файла</a></span><ul class=\"toc-item\"><li><span><a href=\"#Вывод\" data-toc-modified-id=\"Вывод-1.1\"><span class=\"toc-item-num\">1.1&nbsp;&nbsp;</span>Вывод</a></span></li></ul></li><li><span><a href=\"#Предобработка-данных\" data-toc-modified-id=\"Предобработка-данных-2\"><span class=\"toc-item-num\">2&nbsp;&nbsp;</span>Предобработка данных</a></span></li><li><span><a href=\"#Расчёты-и-добавление-результатов-в-таблицу\" data-toc-modified-id=\"Расчёты-и-добавление-результатов-в-таблицу-3\"><span class=\"toc-item-num\">3&nbsp;&nbsp;</span>Расчёты и добавление результатов в таблицу</a></span></li><li><span><a href=\"#Исследовательский-анализ-данных\" data-toc-modified-id=\"Исследовательский-анализ-данных-4\"><span class=\"toc-item-num\">4&nbsp;&nbsp;</span>Исследовательский анализ данных</a></span></li><li><span><a href=\"#Выдвижение-и-проверка-гипотез\" data-toc-modified-id=\"Выдвижение-и-проверка-гипотез-5\"><span class=\"toc-item-num\">5&nbsp;&nbsp;</span>Выдвижение и проверка гипотез</a></span></li><li><span><a href=\"#Общий-вывод\" data-toc-modified-id=\"Общий-вывод-6\"><span class=\"toc-item-num\">6&nbsp;&nbsp;</span>Общий вывод</a></span></li><li><span><a href=\"#Чек-лист-готовности-проекта\" data-toc-modified-id=\"Чек-лист-готовности-проекта-7\"><span class=\"toc-item-num\">7&nbsp;&nbsp;</span>Чек-лист готовности проекта</a></span></li></ul></div>\n"
   ]
  },
  {
   "cell_type": "markdown",
   "metadata": {},
   "source": [
    "# Исследование "
   ]
  },
  {
   "cell_type": "markdown",
   "metadata": {},
   "source": [
    "- Исследование на тему определения оптимальных рекламных подходов для магазина \"Стримчик\".\n",
    "- Данные: данные до 2016 года, оценки пользователей и экспертов, жанры и платформы (например, Xbox или PlayStation ): ***/datasets/games.csv.***\n",
    "- Задача: выявить определяющие успешность игры закономерности для \n",
    "- Цель - поиск перспективного продукта для его продвижения и планирования рекламных кампаний.\n"
   ]
  },
  {
   "cell_type": "markdown",
   "metadata": {},
   "source": [
    "## Изучение данных из файла"
   ]
  },
  {
   "cell_type": "markdown",
   "metadata": {},
   "source": [
    "Импортируем библиотеки"
   ]
  },
  {
   "cell_type": "code",
   "execution_count": 1,
   "metadata": {},
   "outputs": [],
   "source": [
    "import pandas as pd\n",
    "import pandas as pd \n",
    "import numpy as np\n",
    "import matplotlib.pyplot as plt\n",
    "import datetime \n",
    "from scipy import stats as st\n",
    "import math\n",
    "import warnings\n",
    "from scipy.stats import levene\n",
    "import seaborn as sns\n",
    "from functools import reduce\n",
    "warnings.filterwarnings('ignore')"
   ]
  },
  {
   "cell_type": "markdown",
   "metadata": {},
   "source": [
    "Открываем файл:"
   ]
  },
  {
   "cell_type": "code",
   "execution_count": 2,
   "metadata": {},
   "outputs": [],
   "source": [
    "df = pd.read_csv('https://www.dropbox.com/s/bm0n64yuu7cy4dt/1st_games.csv?dl=1')  "
   ]
  },
  {
   "cell_type": "markdown",
   "metadata": {},
   "source": [
    "Знакомимся с файлом методом info(), смотрим первые 10 строк фрейма:"
   ]
  },
  {
   "cell_type": "code",
   "execution_count": 3,
   "metadata": {},
   "outputs": [
    {
     "data": {
      "text/html": [
       "<div>\n",
       "<style scoped>\n",
       "    .dataframe tbody tr th:only-of-type {\n",
       "        vertical-align: middle;\n",
       "    }\n",
       "\n",
       "    .dataframe tbody tr th {\n",
       "        vertical-align: top;\n",
       "    }\n",
       "\n",
       "    .dataframe thead th {\n",
       "        text-align: right;\n",
       "    }\n",
       "</style>\n",
       "<table border=\"1\" class=\"dataframe\">\n",
       "  <thead>\n",
       "    <tr style=\"text-align: right;\">\n",
       "      <th></th>\n",
       "      <th>Name</th>\n",
       "      <th>Platform</th>\n",
       "      <th>Year_of_Release</th>\n",
       "      <th>Genre</th>\n",
       "      <th>NA_sales</th>\n",
       "      <th>EU_sales</th>\n",
       "      <th>JP_sales</th>\n",
       "      <th>Other_sales</th>\n",
       "      <th>Critic_Score</th>\n",
       "      <th>User_Score</th>\n",
       "      <th>Rating</th>\n",
       "    </tr>\n",
       "  </thead>\n",
       "  <tbody>\n",
       "    <tr>\n",
       "      <th>0</th>\n",
       "      <td>Wii Sports</td>\n",
       "      <td>Wii</td>\n",
       "      <td>2006.0</td>\n",
       "      <td>Sports</td>\n",
       "      <td>41.36</td>\n",
       "      <td>28.96</td>\n",
       "      <td>3.77</td>\n",
       "      <td>8.45</td>\n",
       "      <td>76.0</td>\n",
       "      <td>8</td>\n",
       "      <td>E</td>\n",
       "    </tr>\n",
       "    <tr>\n",
       "      <th>1</th>\n",
       "      <td>Super Mario Bros.</td>\n",
       "      <td>NES</td>\n",
       "      <td>1985.0</td>\n",
       "      <td>Platform</td>\n",
       "      <td>29.08</td>\n",
       "      <td>3.58</td>\n",
       "      <td>6.81</td>\n",
       "      <td>0.77</td>\n",
       "      <td>NaN</td>\n",
       "      <td>NaN</td>\n",
       "      <td>NaN</td>\n",
       "    </tr>\n",
       "    <tr>\n",
       "      <th>2</th>\n",
       "      <td>Mario Kart Wii</td>\n",
       "      <td>Wii</td>\n",
       "      <td>2008.0</td>\n",
       "      <td>Racing</td>\n",
       "      <td>15.68</td>\n",
       "      <td>12.76</td>\n",
       "      <td>3.79</td>\n",
       "      <td>3.29</td>\n",
       "      <td>82.0</td>\n",
       "      <td>8.3</td>\n",
       "      <td>E</td>\n",
       "    </tr>\n",
       "    <tr>\n",
       "      <th>3</th>\n",
       "      <td>Wii Sports Resort</td>\n",
       "      <td>Wii</td>\n",
       "      <td>2009.0</td>\n",
       "      <td>Sports</td>\n",
       "      <td>15.61</td>\n",
       "      <td>10.93</td>\n",
       "      <td>3.28</td>\n",
       "      <td>2.95</td>\n",
       "      <td>80.0</td>\n",
       "      <td>8</td>\n",
       "      <td>E</td>\n",
       "    </tr>\n",
       "    <tr>\n",
       "      <th>4</th>\n",
       "      <td>Pokemon Red/Pokemon Blue</td>\n",
       "      <td>GB</td>\n",
       "      <td>1996.0</td>\n",
       "      <td>Role-Playing</td>\n",
       "      <td>11.27</td>\n",
       "      <td>8.89</td>\n",
       "      <td>10.22</td>\n",
       "      <td>1.00</td>\n",
       "      <td>NaN</td>\n",
       "      <td>NaN</td>\n",
       "      <td>NaN</td>\n",
       "    </tr>\n",
       "    <tr>\n",
       "      <th>5</th>\n",
       "      <td>Tetris</td>\n",
       "      <td>GB</td>\n",
       "      <td>1989.0</td>\n",
       "      <td>Puzzle</td>\n",
       "      <td>23.20</td>\n",
       "      <td>2.26</td>\n",
       "      <td>4.22</td>\n",
       "      <td>0.58</td>\n",
       "      <td>NaN</td>\n",
       "      <td>NaN</td>\n",
       "      <td>NaN</td>\n",
       "    </tr>\n",
       "    <tr>\n",
       "      <th>6</th>\n",
       "      <td>New Super Mario Bros.</td>\n",
       "      <td>DS</td>\n",
       "      <td>2006.0</td>\n",
       "      <td>Platform</td>\n",
       "      <td>11.28</td>\n",
       "      <td>9.14</td>\n",
       "      <td>6.50</td>\n",
       "      <td>2.88</td>\n",
       "      <td>89.0</td>\n",
       "      <td>8.5</td>\n",
       "      <td>E</td>\n",
       "    </tr>\n",
       "    <tr>\n",
       "      <th>7</th>\n",
       "      <td>Wii Play</td>\n",
       "      <td>Wii</td>\n",
       "      <td>2006.0</td>\n",
       "      <td>Misc</td>\n",
       "      <td>13.96</td>\n",
       "      <td>9.18</td>\n",
       "      <td>2.93</td>\n",
       "      <td>2.84</td>\n",
       "      <td>58.0</td>\n",
       "      <td>6.6</td>\n",
       "      <td>E</td>\n",
       "    </tr>\n",
       "    <tr>\n",
       "      <th>8</th>\n",
       "      <td>New Super Mario Bros. Wii</td>\n",
       "      <td>Wii</td>\n",
       "      <td>2009.0</td>\n",
       "      <td>Platform</td>\n",
       "      <td>14.44</td>\n",
       "      <td>6.94</td>\n",
       "      <td>4.70</td>\n",
       "      <td>2.24</td>\n",
       "      <td>87.0</td>\n",
       "      <td>8.4</td>\n",
       "      <td>E</td>\n",
       "    </tr>\n",
       "    <tr>\n",
       "      <th>9</th>\n",
       "      <td>Duck Hunt</td>\n",
       "      <td>NES</td>\n",
       "      <td>1984.0</td>\n",
       "      <td>Shooter</td>\n",
       "      <td>26.93</td>\n",
       "      <td>0.63</td>\n",
       "      <td>0.28</td>\n",
       "      <td>0.47</td>\n",
       "      <td>NaN</td>\n",
       "      <td>NaN</td>\n",
       "      <td>NaN</td>\n",
       "    </tr>\n",
       "  </tbody>\n",
       "</table>\n",
       "</div>"
      ],
      "text/plain": [
       "                        Name Platform  Year_of_Release         Genre  \\\n",
       "0                 Wii Sports      Wii           2006.0        Sports   \n",
       "1          Super Mario Bros.      NES           1985.0      Platform   \n",
       "2             Mario Kart Wii      Wii           2008.0        Racing   \n",
       "3          Wii Sports Resort      Wii           2009.0        Sports   \n",
       "4   Pokemon Red/Pokemon Blue       GB           1996.0  Role-Playing   \n",
       "5                     Tetris       GB           1989.0        Puzzle   \n",
       "6      New Super Mario Bros.       DS           2006.0      Platform   \n",
       "7                   Wii Play      Wii           2006.0          Misc   \n",
       "8  New Super Mario Bros. Wii      Wii           2009.0      Platform   \n",
       "9                  Duck Hunt      NES           1984.0       Shooter   \n",
       "\n",
       "   NA_sales  EU_sales  JP_sales  Other_sales  Critic_Score User_Score Rating  \n",
       "0     41.36     28.96      3.77         8.45          76.0          8      E  \n",
       "1     29.08      3.58      6.81         0.77           NaN        NaN    NaN  \n",
       "2     15.68     12.76      3.79         3.29          82.0        8.3      E  \n",
       "3     15.61     10.93      3.28         2.95          80.0          8      E  \n",
       "4     11.27      8.89     10.22         1.00           NaN        NaN    NaN  \n",
       "5     23.20      2.26      4.22         0.58           NaN        NaN    NaN  \n",
       "6     11.28      9.14      6.50         2.88          89.0        8.5      E  \n",
       "7     13.96      9.18      2.93         2.84          58.0        6.6      E  \n",
       "8     14.44      6.94      4.70         2.24          87.0        8.4      E  \n",
       "9     26.93      0.63      0.28         0.47           NaN        NaN    NaN  "
      ]
     },
     "metadata": {},
     "output_type": "display_data"
    },
    {
     "name": "stdout",
     "output_type": "stream",
     "text": [
      "<class 'pandas.core.frame.DataFrame'>\n",
      "RangeIndex: 16715 entries, 0 to 16714\n",
      "Data columns (total 11 columns):\n",
      " #   Column           Non-Null Count  Dtype  \n",
      "---  ------           --------------  -----  \n",
      " 0   Name             16713 non-null  object \n",
      " 1   Platform         16715 non-null  object \n",
      " 2   Year_of_Release  16446 non-null  float64\n",
      " 3   Genre            16713 non-null  object \n",
      " 4   NA_sales         16715 non-null  float64\n",
      " 5   EU_sales         16715 non-null  float64\n",
      " 6   JP_sales         16715 non-null  float64\n",
      " 7   Other_sales      16715 non-null  float64\n",
      " 8   Critic_Score     8137 non-null   float64\n",
      " 9   User_Score       10014 non-null  object \n",
      " 10  Rating           9949 non-null   object \n",
      "dtypes: float64(6), object(5)\n",
      "memory usage: 1.4+ MB\n"
     ]
    }
   ],
   "source": [
    "display (df.head(10))\n",
    "df.info()"
   ]
  },
  {
   "cell_type": "markdown",
   "metadata": {},
   "source": [
    "Первое знакомство показало:\n",
    "- 16715 строк, 11 столбцов\n",
    "- разнорегистровые название столбцов\n",
    "- наличие пропущенных значений (столбцы с оценками, рейтинг, жанр, имя, год)\n",
    "- несоответствие типов данных требуемым (год, оценки)\n"
   ]
  },
  {
   "cell_type": "markdown",
   "metadata": {},
   "source": [
    "Рассмотрим данные с помощью метода describe() "
   ]
  },
  {
   "cell_type": "code",
   "execution_count": 4,
   "metadata": {},
   "outputs": [
    {
     "data": {
      "text/html": [
       "<div>\n",
       "<style scoped>\n",
       "    .dataframe tbody tr th:only-of-type {\n",
       "        vertical-align: middle;\n",
       "    }\n",
       "\n",
       "    .dataframe tbody tr th {\n",
       "        vertical-align: top;\n",
       "    }\n",
       "\n",
       "    .dataframe thead th {\n",
       "        text-align: right;\n",
       "    }\n",
       "</style>\n",
       "<table border=\"1\" class=\"dataframe\">\n",
       "  <thead>\n",
       "    <tr style=\"text-align: right;\">\n",
       "      <th></th>\n",
       "      <th>Year_of_Release</th>\n",
       "      <th>NA_sales</th>\n",
       "      <th>EU_sales</th>\n",
       "      <th>JP_sales</th>\n",
       "      <th>Other_sales</th>\n",
       "      <th>Critic_Score</th>\n",
       "    </tr>\n",
       "  </thead>\n",
       "  <tbody>\n",
       "    <tr>\n",
       "      <th>count</th>\n",
       "      <td>16446.000000</td>\n",
       "      <td>16715.000000</td>\n",
       "      <td>16715.000000</td>\n",
       "      <td>16715.000000</td>\n",
       "      <td>16715.000000</td>\n",
       "      <td>8137.000000</td>\n",
       "    </tr>\n",
       "    <tr>\n",
       "      <th>mean</th>\n",
       "      <td>2006.484616</td>\n",
       "      <td>0.263377</td>\n",
       "      <td>0.145060</td>\n",
       "      <td>0.077617</td>\n",
       "      <td>0.047342</td>\n",
       "      <td>68.967679</td>\n",
       "    </tr>\n",
       "    <tr>\n",
       "      <th>std</th>\n",
       "      <td>5.877050</td>\n",
       "      <td>0.813604</td>\n",
       "      <td>0.503339</td>\n",
       "      <td>0.308853</td>\n",
       "      <td>0.186731</td>\n",
       "      <td>13.938165</td>\n",
       "    </tr>\n",
       "    <tr>\n",
       "      <th>min</th>\n",
       "      <td>1980.000000</td>\n",
       "      <td>0.000000</td>\n",
       "      <td>0.000000</td>\n",
       "      <td>0.000000</td>\n",
       "      <td>0.000000</td>\n",
       "      <td>13.000000</td>\n",
       "    </tr>\n",
       "    <tr>\n",
       "      <th>25%</th>\n",
       "      <td>2003.000000</td>\n",
       "      <td>0.000000</td>\n",
       "      <td>0.000000</td>\n",
       "      <td>0.000000</td>\n",
       "      <td>0.000000</td>\n",
       "      <td>60.000000</td>\n",
       "    </tr>\n",
       "    <tr>\n",
       "      <th>50%</th>\n",
       "      <td>2007.000000</td>\n",
       "      <td>0.080000</td>\n",
       "      <td>0.020000</td>\n",
       "      <td>0.000000</td>\n",
       "      <td>0.010000</td>\n",
       "      <td>71.000000</td>\n",
       "    </tr>\n",
       "    <tr>\n",
       "      <th>75%</th>\n",
       "      <td>2010.000000</td>\n",
       "      <td>0.240000</td>\n",
       "      <td>0.110000</td>\n",
       "      <td>0.040000</td>\n",
       "      <td>0.030000</td>\n",
       "      <td>79.000000</td>\n",
       "    </tr>\n",
       "    <tr>\n",
       "      <th>max</th>\n",
       "      <td>2016.000000</td>\n",
       "      <td>41.360000</td>\n",
       "      <td>28.960000</td>\n",
       "      <td>10.220000</td>\n",
       "      <td>10.570000</td>\n",
       "      <td>98.000000</td>\n",
       "    </tr>\n",
       "  </tbody>\n",
       "</table>\n",
       "</div>"
      ],
      "text/plain": [
       "       Year_of_Release      NA_sales      EU_sales      JP_sales  \\\n",
       "count     16446.000000  16715.000000  16715.000000  16715.000000   \n",
       "mean       2006.484616      0.263377      0.145060      0.077617   \n",
       "std           5.877050      0.813604      0.503339      0.308853   \n",
       "min        1980.000000      0.000000      0.000000      0.000000   \n",
       "25%        2003.000000      0.000000      0.000000      0.000000   \n",
       "50%        2007.000000      0.080000      0.020000      0.000000   \n",
       "75%        2010.000000      0.240000      0.110000      0.040000   \n",
       "max        2016.000000     41.360000     28.960000     10.220000   \n",
       "\n",
       "        Other_sales  Critic_Score  \n",
       "count  16715.000000   8137.000000  \n",
       "mean       0.047342     68.967679  \n",
       "std        0.186731     13.938165  \n",
       "min        0.000000     13.000000  \n",
       "25%        0.000000     60.000000  \n",
       "50%        0.010000     71.000000  \n",
       "75%        0.030000     79.000000  \n",
       "max       10.570000     98.000000  "
      ]
     },
     "execution_count": 4,
     "metadata": {},
     "output_type": "execute_result"
    }
   ],
   "source": [
    "df.describe()"
   ]
  },
  {
   "cell_type": "markdown",
   "metadata": {},
   "source": [
    "### Вывод"
   ]
  },
  {
   "cell_type": "markdown",
   "metadata": {},
   "source": [
    "Данные, представленные во фрейме имеют пропущенные значения, строковые значения в столбцах, предполагающих вещественные числа (в частности 'user_score'), а также пропуски в столбцах с различными типами. Используем косвенные данные (заполненные) для заполнения пропусков и строковых значений. Метод describe не дал полной картины, по причине строковых значений в некоторых столбцах (user_score). Перейдём к предобработке данных."
   ]
  },
  {
   "cell_type": "markdown",
   "metadata": {},
   "source": [
    "## Предобработка данных"
   ]
  },
  {
   "cell_type": "markdown",
   "metadata": {},
   "source": [
    "Ознакомимся подробнее с названиями столбцов фрейма."
   ]
  },
  {
   "cell_type": "code",
   "execution_count": 5,
   "metadata": {},
   "outputs": [
    {
     "name": "stdout",
     "output_type": "stream",
     "text": [
      "Столбцы до обработки: Index(['Name', 'Platform', 'Year_of_Release', 'Genre', 'NA_sales', 'EU_sales',\n",
      "       'JP_sales', 'Other_sales', 'Critic_Score', 'User_Score', 'Rating'],\n",
      "      dtype='object')\n"
     ]
    }
   ],
   "source": [
    "print('Столбцы до обработки:', df.columns ) #вернём текущие названия столбцов"
   ]
  },
  {
   "cell_type": "markdown",
   "metadata": {},
   "source": [
    "Приведём названия столбцов в нижний регистр"
   ]
  },
  {
   "cell_type": "code",
   "execution_count": 6,
   "metadata": {},
   "outputs": [],
   "source": [
    "df.columns = (['name', 'platform', 'year_of_release', 'genre', 'na_sales', 'eu_sales',\n",
    "      'jp_sales', 'other_sales', 'critic_score', 'user_score', 'rating']) #изменим регистр столбцов "
   ]
  },
  {
   "cell_type": "code",
   "execution_count": 7,
   "metadata": {},
   "outputs": [
    {
     "name": "stdout",
     "output_type": "stream",
     "text": [
      "Столбцы после обработки Index(['name', 'platform', 'year_of_release', 'genre', 'na_sales', 'eu_sales',\n",
      "       'jp_sales', 'other_sales', 'critic_score', 'user_score', 'rating'],\n",
      "      dtype='object')\n"
     ]
    }
   ],
   "source": [
    "print ( 'Столбцы после обработки', df.columns)"
   ]
  },
  {
   "cell_type": "markdown",
   "metadata": {},
   "source": [
    "Изменение названий столбцов прошло успешно."
   ]
  },
  {
   "cell_type": "markdown",
   "metadata": {},
   "source": [
    "Рассмотрим пропущенные значения в столбце 'year_of_release'"
   ]
  },
  {
   "cell_type": "markdown",
   "metadata": {},
   "source": [
    "Рассмотрим столбец 'year_of_release' Видимых зависимостей в фрейме с пропущенными значениями года выпуска не обнаружено. Удаление не приведёт к существенным искажениям данных фрейма для дальнейшего исследовательского и статистического анализа. Удалим строки c пропусками в столбцах:\n",
    "- year_of_release\n",
    "- name\n",
    "- genre\n",
    "по условию с методом **.drop()**"
   ]
  },
  {
   "cell_type": "code",
   "execution_count": 8,
   "metadata": {},
   "outputs": [],
   "source": [
    "df = df.drop(df[df['year_of_release'].isnull()].index) #удаление строк столбца год по условию\n",
    "df = df.drop(df[df['name'].isnull()].index) #удаление строк столбца имя по условию\n",
    "df = df.drop(df[df['genre'].isnull()].index) #удаление строк столбца жанр по условию"
   ]
  },
  {
   "cell_type": "markdown",
   "metadata": {},
   "source": [
    "Изменяем тип данных столбца с годом на целочисленный."
   ]
  },
  {
   "cell_type": "code",
   "execution_count": 9,
   "metadata": {},
   "outputs": [],
   "source": [
    "df['year_of_release'] = df['year_of_release'].astype('int64')\n"
   ]
  },
  {
   "cell_type": "code",
   "execution_count": 10,
   "metadata": {},
   "outputs": [
    {
     "data": {
      "text/plain": [
       "Need for Speed: Most Wanted                12\n",
       "Ratatouille                                 9\n",
       "LEGO Marvel Super Heroes                    9\n",
       "FIFA 14                                     9\n",
       "Lego Batman 3: Beyond Gotham                8\n",
       "Madden NFL 08                               8\n",
       "LEGO Star Wars II: The Original Trilogy     8\n",
       "LEGO Jurassic World                         8\n",
       "Madden NFL 07                               8\n",
       "Monopoly                                    8\n",
       "Name: name, dtype: int64"
      ]
     },
     "execution_count": 10,
     "metadata": {},
     "output_type": "execute_result"
    }
   ],
   "source": [
    "df.name.value_counts().head(10)"
   ]
  },
  {
   "cell_type": "markdown",
   "metadata": {},
   "source": [
    "Рассмотрим повторяющиеся значения столбца с именем "
   ]
  },
  {
   "cell_type": "code",
   "execution_count": 11,
   "metadata": {},
   "outputs": [
    {
     "data": {
      "text/html": [
       "<div>\n",
       "<style scoped>\n",
       "    .dataframe tbody tr th:only-of-type {\n",
       "        vertical-align: middle;\n",
       "    }\n",
       "\n",
       "    .dataframe tbody tr th {\n",
       "        vertical-align: top;\n",
       "    }\n",
       "\n",
       "    .dataframe thead th {\n",
       "        text-align: right;\n",
       "    }\n",
       "</style>\n",
       "<table border=\"1\" class=\"dataframe\">\n",
       "  <thead>\n",
       "    <tr style=\"text-align: right;\">\n",
       "      <th></th>\n",
       "      <th>name</th>\n",
       "      <th>platform</th>\n",
       "      <th>year_of_release</th>\n",
       "      <th>genre</th>\n",
       "      <th>na_sales</th>\n",
       "      <th>eu_sales</th>\n",
       "      <th>jp_sales</th>\n",
       "      <th>other_sales</th>\n",
       "      <th>critic_score</th>\n",
       "      <th>user_score</th>\n",
       "      <th>rating</th>\n",
       "    </tr>\n",
       "  </thead>\n",
       "  <tbody>\n",
       "    <tr>\n",
       "      <th>253</th>\n",
       "      <td>Need for Speed: Most Wanted</td>\n",
       "      <td>PS2</td>\n",
       "      <td>2005</td>\n",
       "      <td>Racing</td>\n",
       "      <td>2.03</td>\n",
       "      <td>1.79</td>\n",
       "      <td>0.08</td>\n",
       "      <td>0.47</td>\n",
       "      <td>82.0</td>\n",
       "      <td>9.1</td>\n",
       "      <td>T</td>\n",
       "    </tr>\n",
       "    <tr>\n",
       "      <th>523</th>\n",
       "      <td>Need for Speed: Most Wanted</td>\n",
       "      <td>PS3</td>\n",
       "      <td>2012</td>\n",
       "      <td>Racing</td>\n",
       "      <td>0.71</td>\n",
       "      <td>1.46</td>\n",
       "      <td>0.06</td>\n",
       "      <td>0.58</td>\n",
       "      <td>NaN</td>\n",
       "      <td>NaN</td>\n",
       "      <td>NaN</td>\n",
       "    </tr>\n",
       "    <tr>\n",
       "      <th>1190</th>\n",
       "      <td>Need for Speed: Most Wanted</td>\n",
       "      <td>X360</td>\n",
       "      <td>2012</td>\n",
       "      <td>Racing</td>\n",
       "      <td>0.62</td>\n",
       "      <td>0.78</td>\n",
       "      <td>0.01</td>\n",
       "      <td>0.15</td>\n",
       "      <td>83.0</td>\n",
       "      <td>8.5</td>\n",
       "      <td>T</td>\n",
       "    </tr>\n",
       "    <tr>\n",
       "      <th>1591</th>\n",
       "      <td>Need for Speed: Most Wanted</td>\n",
       "      <td>X360</td>\n",
       "      <td>2005</td>\n",
       "      <td>Racing</td>\n",
       "      <td>1.00</td>\n",
       "      <td>0.13</td>\n",
       "      <td>0.02</td>\n",
       "      <td>0.10</td>\n",
       "      <td>83.0</td>\n",
       "      <td>8.5</td>\n",
       "      <td>T</td>\n",
       "    </tr>\n",
       "    <tr>\n",
       "      <th>1998</th>\n",
       "      <td>Need for Speed: Most Wanted</td>\n",
       "      <td>XB</td>\n",
       "      <td>2005</td>\n",
       "      <td>Racing</td>\n",
       "      <td>0.53</td>\n",
       "      <td>0.46</td>\n",
       "      <td>0.00</td>\n",
       "      <td>0.05</td>\n",
       "      <td>83.0</td>\n",
       "      <td>8.8</td>\n",
       "      <td>T</td>\n",
       "    </tr>\n",
       "    <tr>\n",
       "      <th>2048</th>\n",
       "      <td>Need for Speed: Most Wanted</td>\n",
       "      <td>PSV</td>\n",
       "      <td>2012</td>\n",
       "      <td>Racing</td>\n",
       "      <td>0.33</td>\n",
       "      <td>0.45</td>\n",
       "      <td>0.01</td>\n",
       "      <td>0.22</td>\n",
       "      <td>NaN</td>\n",
       "      <td>NaN</td>\n",
       "      <td>NaN</td>\n",
       "    </tr>\n",
       "    <tr>\n",
       "      <th>3581</th>\n",
       "      <td>Need for Speed: Most Wanted</td>\n",
       "      <td>GC</td>\n",
       "      <td>2005</td>\n",
       "      <td>Racing</td>\n",
       "      <td>0.43</td>\n",
       "      <td>0.11</td>\n",
       "      <td>0.00</td>\n",
       "      <td>0.02</td>\n",
       "      <td>80.0</td>\n",
       "      <td>9.1</td>\n",
       "      <td>T</td>\n",
       "    </tr>\n",
       "    <tr>\n",
       "      <th>5972</th>\n",
       "      <td>Need for Speed: Most Wanted</td>\n",
       "      <td>PC</td>\n",
       "      <td>2005</td>\n",
       "      <td>Racing</td>\n",
       "      <td>0.02</td>\n",
       "      <td>0.23</td>\n",
       "      <td>0.00</td>\n",
       "      <td>0.04</td>\n",
       "      <td>82.0</td>\n",
       "      <td>8.5</td>\n",
       "      <td>T</td>\n",
       "    </tr>\n",
       "    <tr>\n",
       "      <th>6273</th>\n",
       "      <td>Need for Speed: Most Wanted</td>\n",
       "      <td>WiiU</td>\n",
       "      <td>2013</td>\n",
       "      <td>Racing</td>\n",
       "      <td>0.13</td>\n",
       "      <td>0.12</td>\n",
       "      <td>0.00</td>\n",
       "      <td>0.02</td>\n",
       "      <td>NaN</td>\n",
       "      <td>NaN</td>\n",
       "      <td>NaN</td>\n",
       "    </tr>\n",
       "    <tr>\n",
       "      <th>6410</th>\n",
       "      <td>Need for Speed: Most Wanted</td>\n",
       "      <td>DS</td>\n",
       "      <td>2005</td>\n",
       "      <td>Racing</td>\n",
       "      <td>0.24</td>\n",
       "      <td>0.01</td>\n",
       "      <td>0.00</td>\n",
       "      <td>0.02</td>\n",
       "      <td>45.0</td>\n",
       "      <td>6.1</td>\n",
       "      <td>E</td>\n",
       "    </tr>\n",
       "    <tr>\n",
       "      <th>6473</th>\n",
       "      <td>Need for Speed: Most Wanted</td>\n",
       "      <td>GBA</td>\n",
       "      <td>2005</td>\n",
       "      <td>Racing</td>\n",
       "      <td>0.19</td>\n",
       "      <td>0.07</td>\n",
       "      <td>0.00</td>\n",
       "      <td>0.00</td>\n",
       "      <td>NaN</td>\n",
       "      <td>8.3</td>\n",
       "      <td>E</td>\n",
       "    </tr>\n",
       "    <tr>\n",
       "      <th>11715</th>\n",
       "      <td>Need for Speed: Most Wanted</td>\n",
       "      <td>PC</td>\n",
       "      <td>2012</td>\n",
       "      <td>Racing</td>\n",
       "      <td>0.00</td>\n",
       "      <td>0.06</td>\n",
       "      <td>0.00</td>\n",
       "      <td>0.02</td>\n",
       "      <td>82.0</td>\n",
       "      <td>8.5</td>\n",
       "      <td>T</td>\n",
       "    </tr>\n",
       "  </tbody>\n",
       "</table>\n",
       "</div>"
      ],
      "text/plain": [
       "                              name platform  year_of_release   genre  \\\n",
       "253    Need for Speed: Most Wanted      PS2             2005  Racing   \n",
       "523    Need for Speed: Most Wanted      PS3             2012  Racing   \n",
       "1190   Need for Speed: Most Wanted     X360             2012  Racing   \n",
       "1591   Need for Speed: Most Wanted     X360             2005  Racing   \n",
       "1998   Need for Speed: Most Wanted       XB             2005  Racing   \n",
       "2048   Need for Speed: Most Wanted      PSV             2012  Racing   \n",
       "3581   Need for Speed: Most Wanted       GC             2005  Racing   \n",
       "5972   Need for Speed: Most Wanted       PC             2005  Racing   \n",
       "6273   Need for Speed: Most Wanted     WiiU             2013  Racing   \n",
       "6410   Need for Speed: Most Wanted       DS             2005  Racing   \n",
       "6473   Need for Speed: Most Wanted      GBA             2005  Racing   \n",
       "11715  Need for Speed: Most Wanted       PC             2012  Racing   \n",
       "\n",
       "       na_sales  eu_sales  jp_sales  other_sales  critic_score user_score  \\\n",
       "253        2.03      1.79      0.08         0.47          82.0        9.1   \n",
       "523        0.71      1.46      0.06         0.58           NaN        NaN   \n",
       "1190       0.62      0.78      0.01         0.15          83.0        8.5   \n",
       "1591       1.00      0.13      0.02         0.10          83.0        8.5   \n",
       "1998       0.53      0.46      0.00         0.05          83.0        8.8   \n",
       "2048       0.33      0.45      0.01         0.22           NaN        NaN   \n",
       "3581       0.43      0.11      0.00         0.02          80.0        9.1   \n",
       "5972       0.02      0.23      0.00         0.04          82.0        8.5   \n",
       "6273       0.13      0.12      0.00         0.02           NaN        NaN   \n",
       "6410       0.24      0.01      0.00         0.02          45.0        6.1   \n",
       "6473       0.19      0.07      0.00         0.00           NaN        8.3   \n",
       "11715      0.00      0.06      0.00         0.02          82.0        8.5   \n",
       "\n",
       "      rating  \n",
       "253        T  \n",
       "523      NaN  \n",
       "1190       T  \n",
       "1591       T  \n",
       "1998       T  \n",
       "2048     NaN  \n",
       "3581       T  \n",
       "5972       T  \n",
       "6273     NaN  \n",
       "6410       E  \n",
       "6473       E  \n",
       "11715      T  "
      ]
     },
     "execution_count": 11,
     "metadata": {},
     "output_type": "execute_result"
    }
   ],
   "source": [
    "df.query('name == \"Need for Speed: Most Wanted\"')"
   ]
  },
  {
   "cell_type": "markdown",
   "metadata": {},
   "source": [
    "***Промежуточный вывод:*** Данные по Need for Speed: Most Wanted, LEGO Marvel Super Heroes и другим, показывают, что повторяющиеся релизы (на разных платформах) целесообразно заполнить средними **значениями продукта по всем платформам.**"
   ]
  },
  {
   "cell_type": "markdown",
   "metadata": {},
   "source": [
    "Необходимо заменить тип данных в столбце user_score для осуществления расчётов, однако мешает присутствие строк."
   ]
  },
  {
   "cell_type": "code",
   "execution_count": 12,
   "metadata": {},
   "outputs": [
    {
     "data": {
      "text/html": [
       "<div>\n",
       "<style scoped>\n",
       "    .dataframe tbody tr th:only-of-type {\n",
       "        vertical-align: middle;\n",
       "    }\n",
       "\n",
       "    .dataframe tbody tr th {\n",
       "        vertical-align: top;\n",
       "    }\n",
       "\n",
       "    .dataframe thead th {\n",
       "        text-align: right;\n",
       "    }\n",
       "</style>\n",
       "<table border=\"1\" class=\"dataframe\">\n",
       "  <thead>\n",
       "    <tr style=\"text-align: right;\">\n",
       "      <th></th>\n",
       "      <th>name</th>\n",
       "      <th>platform</th>\n",
       "      <th>year_of_release</th>\n",
       "      <th>genre</th>\n",
       "      <th>na_sales</th>\n",
       "      <th>eu_sales</th>\n",
       "      <th>jp_sales</th>\n",
       "      <th>other_sales</th>\n",
       "      <th>critic_score</th>\n",
       "      <th>user_score</th>\n",
       "      <th>rating</th>\n",
       "    </tr>\n",
       "  </thead>\n",
       "  <tbody>\n",
       "    <tr>\n",
       "      <th>119</th>\n",
       "      <td>Zumba Fitness</td>\n",
       "      <td>Wii</td>\n",
       "      <td>2010</td>\n",
       "      <td>Sports</td>\n",
       "      <td>3.45</td>\n",
       "      <td>2.59</td>\n",
       "      <td>0.0</td>\n",
       "      <td>0.66</td>\n",
       "      <td>NaN</td>\n",
       "      <td>tbd</td>\n",
       "      <td>E</td>\n",
       "    </tr>\n",
       "    <tr>\n",
       "      <th>301</th>\n",
       "      <td>Namco Museum: 50th Anniversary</td>\n",
       "      <td>PS2</td>\n",
       "      <td>2005</td>\n",
       "      <td>Misc</td>\n",
       "      <td>2.08</td>\n",
       "      <td>1.35</td>\n",
       "      <td>0.0</td>\n",
       "      <td>0.54</td>\n",
       "      <td>61.0</td>\n",
       "      <td>tbd</td>\n",
       "      <td>E10+</td>\n",
       "    </tr>\n",
       "    <tr>\n",
       "      <th>520</th>\n",
       "      <td>Zumba Fitness 2</td>\n",
       "      <td>Wii</td>\n",
       "      <td>2011</td>\n",
       "      <td>Sports</td>\n",
       "      <td>1.51</td>\n",
       "      <td>1.03</td>\n",
       "      <td>0.0</td>\n",
       "      <td>0.27</td>\n",
       "      <td>NaN</td>\n",
       "      <td>tbd</td>\n",
       "      <td>T</td>\n",
       "    </tr>\n",
       "    <tr>\n",
       "      <th>645</th>\n",
       "      <td>uDraw Studio</td>\n",
       "      <td>Wii</td>\n",
       "      <td>2010</td>\n",
       "      <td>Misc</td>\n",
       "      <td>1.65</td>\n",
       "      <td>0.57</td>\n",
       "      <td>0.0</td>\n",
       "      <td>0.20</td>\n",
       "      <td>71.0</td>\n",
       "      <td>tbd</td>\n",
       "      <td>E</td>\n",
       "    </tr>\n",
       "    <tr>\n",
       "      <th>718</th>\n",
       "      <td>Just Dance Kids</td>\n",
       "      <td>Wii</td>\n",
       "      <td>2010</td>\n",
       "      <td>Misc</td>\n",
       "      <td>1.52</td>\n",
       "      <td>0.54</td>\n",
       "      <td>0.0</td>\n",
       "      <td>0.18</td>\n",
       "      <td>NaN</td>\n",
       "      <td>tbd</td>\n",
       "      <td>E</td>\n",
       "    </tr>\n",
       "    <tr>\n",
       "      <th>...</th>\n",
       "      <td>...</td>\n",
       "      <td>...</td>\n",
       "      <td>...</td>\n",
       "      <td>...</td>\n",
       "      <td>...</td>\n",
       "      <td>...</td>\n",
       "      <td>...</td>\n",
       "      <td>...</td>\n",
       "      <td>...</td>\n",
       "      <td>...</td>\n",
       "      <td>...</td>\n",
       "    </tr>\n",
       "    <tr>\n",
       "      <th>16695</th>\n",
       "      <td>Planet Monsters</td>\n",
       "      <td>GBA</td>\n",
       "      <td>2001</td>\n",
       "      <td>Action</td>\n",
       "      <td>0.01</td>\n",
       "      <td>0.00</td>\n",
       "      <td>0.0</td>\n",
       "      <td>0.00</td>\n",
       "      <td>67.0</td>\n",
       "      <td>tbd</td>\n",
       "      <td>E</td>\n",
       "    </tr>\n",
       "    <tr>\n",
       "      <th>16697</th>\n",
       "      <td>Bust-A-Move 3000</td>\n",
       "      <td>GC</td>\n",
       "      <td>2003</td>\n",
       "      <td>Puzzle</td>\n",
       "      <td>0.01</td>\n",
       "      <td>0.00</td>\n",
       "      <td>0.0</td>\n",
       "      <td>0.00</td>\n",
       "      <td>53.0</td>\n",
       "      <td>tbd</td>\n",
       "      <td>E</td>\n",
       "    </tr>\n",
       "    <tr>\n",
       "      <th>16698</th>\n",
       "      <td>Mega Brain Boost</td>\n",
       "      <td>DS</td>\n",
       "      <td>2008</td>\n",
       "      <td>Puzzle</td>\n",
       "      <td>0.01</td>\n",
       "      <td>0.00</td>\n",
       "      <td>0.0</td>\n",
       "      <td>0.00</td>\n",
       "      <td>48.0</td>\n",
       "      <td>tbd</td>\n",
       "      <td>E</td>\n",
       "    </tr>\n",
       "    <tr>\n",
       "      <th>16704</th>\n",
       "      <td>Plushees</td>\n",
       "      <td>DS</td>\n",
       "      <td>2008</td>\n",
       "      <td>Simulation</td>\n",
       "      <td>0.01</td>\n",
       "      <td>0.00</td>\n",
       "      <td>0.0</td>\n",
       "      <td>0.00</td>\n",
       "      <td>NaN</td>\n",
       "      <td>tbd</td>\n",
       "      <td>E</td>\n",
       "    </tr>\n",
       "    <tr>\n",
       "      <th>16706</th>\n",
       "      <td>Men in Black II: Alien Escape</td>\n",
       "      <td>GC</td>\n",
       "      <td>2003</td>\n",
       "      <td>Shooter</td>\n",
       "      <td>0.01</td>\n",
       "      <td>0.00</td>\n",
       "      <td>0.0</td>\n",
       "      <td>0.00</td>\n",
       "      <td>NaN</td>\n",
       "      <td>tbd</td>\n",
       "      <td>T</td>\n",
       "    </tr>\n",
       "  </tbody>\n",
       "</table>\n",
       "<p>2376 rows × 11 columns</p>\n",
       "</div>"
      ],
      "text/plain": [
       "                                 name platform  year_of_release       genre  \\\n",
       "119                     Zumba Fitness      Wii             2010      Sports   \n",
       "301    Namco Museum: 50th Anniversary      PS2             2005        Misc   \n",
       "520                   Zumba Fitness 2      Wii             2011      Sports   \n",
       "645                      uDraw Studio      Wii             2010        Misc   \n",
       "718                   Just Dance Kids      Wii             2010        Misc   \n",
       "...                               ...      ...              ...         ...   \n",
       "16695                 Planet Monsters      GBA             2001      Action   \n",
       "16697                Bust-A-Move 3000       GC             2003      Puzzle   \n",
       "16698                Mega Brain Boost       DS             2008      Puzzle   \n",
       "16704                        Plushees       DS             2008  Simulation   \n",
       "16706   Men in Black II: Alien Escape       GC             2003     Shooter   \n",
       "\n",
       "       na_sales  eu_sales  jp_sales  other_sales  critic_score user_score  \\\n",
       "119        3.45      2.59       0.0         0.66           NaN        tbd   \n",
       "301        2.08      1.35       0.0         0.54          61.0        tbd   \n",
       "520        1.51      1.03       0.0         0.27           NaN        tbd   \n",
       "645        1.65      0.57       0.0         0.20          71.0        tbd   \n",
       "718        1.52      0.54       0.0         0.18           NaN        tbd   \n",
       "...         ...       ...       ...          ...           ...        ...   \n",
       "16695      0.01      0.00       0.0         0.00          67.0        tbd   \n",
       "16697      0.01      0.00       0.0         0.00          53.0        tbd   \n",
       "16698      0.01      0.00       0.0         0.00          48.0        tbd   \n",
       "16704      0.01      0.00       0.0         0.00           NaN        tbd   \n",
       "16706      0.01      0.00       0.0         0.00           NaN        tbd   \n",
       "\n",
       "      rating  \n",
       "119        E  \n",
       "301     E10+  \n",
       "520        T  \n",
       "645        E  \n",
       "718        E  \n",
       "...      ...  \n",
       "16695      E  \n",
       "16697      E  \n",
       "16698      E  \n",
       "16704      E  \n",
       "16706      T  \n",
       "\n",
       "[2376 rows x 11 columns]"
      ]
     },
     "execution_count": 12,
     "metadata": {},
     "output_type": "execute_result"
    }
   ],
   "source": [
    "#df['user_score'] = df['user_score'].astype('float64') #изменение типа данных в столбце user_score невозможно, в данных присутствуют строки\n",
    "df.query('user_score == \"tbd\"')"
   ]
  },
  {
   "cell_type": "markdown",
   "metadata": {},
   "source": [
    "По условиям проекта, в столбце user_score есть строки \"tbd\", при этом в количестве 2376 строк. Это, вероятно, означает \"в ожидании данных\". Заменим их по принципу схожему с заполнением пропущенных значений: ищем среднее по продукту на всех платформах."
   ]
  },
  {
   "cell_type": "markdown",
   "metadata": {},
   "source": [
    "На случай отсутствия данных по различным платформам определим альтернативный метод для заполнения пропущенных значений. Предположительно, это возможно сделать с помощью данных critic_score. Чтобы определить возможность заполнения таким методом, определим корелляцию между столбцами фрейма (c заполненными данными, без строковых значений) для поиска линейно связанных данных."
   ]
  },
  {
   "cell_type": "code",
   "execution_count": 13,
   "metadata": {},
   "outputs": [
    {
     "data": {
      "image/png": "[encoded data removed]",
      "text/plain": [
       "<Figure size 480x400 with 2 Axes>"
      ]
     },
     "metadata": {
      "needs_background": "light"
     },
     "output_type": "display_data"
    }
   ],
   "source": [
    "\n",
    "df_corr = df.query('user_score != \"tbd\"') #исключаем tbd из столбца фрейма 'user_score'\n",
    "df_corr['user_score'] = df_corr['user_score'].astype('float64') #преобразуем тип данных для построения рисунка\n",
    "\n",
    "\n",
    "\n",
    "plt.figure(figsize=(6,5), dpi= 80) #определяем размер\n",
    "#строим график в красножелтозелёной гамме\n",
    "sns.heatmap(df_corr.corr(), xticklabels=df_corr.corr().columns, yticklabels=df_corr.corr().columns, cmap='RdYlGn', center=0, annot=True) \n",
    "plt.show()"
   ]
  },
  {
   "cell_type": "markdown",
   "metadata": {},
   "source": [
    "\n",
    "Как видно из граффика - ожидаемо присутствует сильная корелляция между оценкой критиков и оценков пользователей. В качестве альтернативного способа заполнения пропущенных значений определим следующей логики: *** (средний балл пользователей / средний балл критиков) * средний балл критиков***\n",
    "Для начала найдём отношение средних баллов, для этого приведём все оценки в 100 бальную систему."
   ]
  },
  {
   "cell_type": "code",
   "execution_count": 14,
   "metadata": {},
   "outputs": [
    {
     "name": "stdout",
     "output_type": "stream",
     "text": [
      "<class 'pandas.core.frame.DataFrame'>\n",
      "Int64Index: 16444 entries, 0 to 16714\n",
      "Data columns (total 11 columns):\n",
      " #   Column           Non-Null Count  Dtype  \n",
      "---  ------           --------------  -----  \n",
      " 0   name             16444 non-null  object \n",
      " 1   platform         16444 non-null  object \n",
      " 2   year_of_release  16444 non-null  int64  \n",
      " 3   genre            16444 non-null  object \n",
      " 4   na_sales         16444 non-null  float64\n",
      " 5   eu_sales         16444 non-null  float64\n",
      " 6   jp_sales         16444 non-null  float64\n",
      " 7   other_sales      16444 non-null  float64\n",
      " 8   critic_score     7983 non-null   float64\n",
      " 9   user_score       9839 non-null   object \n",
      " 10  rating           9768 non-null   object \n",
      "dtypes: float64(5), int64(1), object(5)\n",
      "memory usage: 2.0+ MB\n"
     ]
    }
   ],
   "source": [
    "df.info()"
   ]
  },
  {
   "cell_type": "code",
   "execution_count": 15,
   "metadata": {},
   "outputs": [
    {
     "name": "stdout",
     "output_type": "stream",
     "text": [
      "средняя оценка по пользователям выше в 1.0144424250223263 раз, чем оценка критиков\n"
     ]
    }
   ],
   "source": [
    "#добавим средние значения оценки пользователей по фрейму \n",
    "\n",
    "mean_user_scores = df_corr.pivot_table(index = 'name', values = 'user_score') #сводим таблицу для поиска средних значений по именам\n",
    "\n",
    "mean_user_scores.reset_index(col_level=True) #обнуляем двухэтажные имена столбцов\n",
    "\n",
    "\n",
    "\n",
    "df = pd.merge(df,mean_user_scores, how = 'outer', on = 'name' ) #сцепляем таблицы с средними по продукту и генеральным фреймом по имени\n",
    "#df.query('name == \"Need for Speed: Most Wanted\"') #проверяем\n",
    "\n",
    "mean_relative_score = (df_corr['user_score'].mean() * 10) / df_corr['critic_score'].mean() #ищем соотношение средних оценок критиков и пользователей\n",
    "print ('средняя оценка по пользователям выше в', mean_relative_score ,'раз, чем оценка критиков') #числитель умножаем на 10 для приведения в сопоставимые величины"
   ]
  },
  {
   "cell_type": "code",
   "execution_count": 16,
   "metadata": {},
   "outputs": [
    {
     "name": "stdout",
     "output_type": "stream",
     "text": [
      "<class 'pandas.core.frame.DataFrame'>\n",
      "Int64Index: 16444 entries, 0 to 16443\n",
      "Data columns (total 12 columns):\n",
      " #   Column           Non-Null Count  Dtype  \n",
      "---  ------           --------------  -----  \n",
      " 0   name             16444 non-null  object \n",
      " 1   platform         16444 non-null  object \n",
      " 2   year_of_release  16444 non-null  int64  \n",
      " 3   genre            16444 non-null  object \n",
      " 4   na_sales         16444 non-null  float64\n",
      " 5   eu_sales         16444 non-null  float64\n",
      " 6   jp_sales         16444 non-null  float64\n",
      " 7   other_sales      16444 non-null  float64\n",
      " 8   critic_score     7983 non-null   float64\n",
      " 9   user_score       9839 non-null   object \n",
      " 10  rating           9768 non-null   object \n",
      " 11  user_score_mean  8524 non-null   float64\n",
      "dtypes: float64(6), int64(1), object(5)\n",
      "memory usage: 1.6+ MB\n"
     ]
    }
   ],
   "source": [
    "df.columns #возвращаем имена столбцов для проверки\n",
    "df.columns = ['name', 'platform', 'year_of_release', 'genre', 'na_sales', 'eu_sales',\n",
    "       'jp_sales', 'other_sales', 'critic_score', 'user_score', 'rating',\n",
    "       'user_score_mean'] #убираем задвоенные \n",
    "df.info() #проверяем корректность столбцов"
   ]
  },
  {
   "cell_type": "markdown",
   "metadata": {},
   "source": [
    "Похожим образом заполним значения tbd средними значениями игры на разных платформах, если такой возможности нет - примем оценку критиков, увеличенную в 1.0144 раз "
   ]
  },
  {
   "cell_type": "markdown",
   "metadata": {},
   "source": [
    "Заменим данные tbd и NaN исходя из следующей логики: значение меняем в соответствии с средней оценкой user_score_mean критической оценкой (равное critic_score/1,0144), если критическое значение также пропущено, заменияем tbd на пропущенное значение. **Используем where.**"
   ]
  },
  {
   "cell_type": "code",
   "execution_count": 17,
   "metadata": {},
   "outputs": [],
   "source": [
    "df['user_score'] = np.where(df['user_score'] == 'tbd' , df['user_score_mean'], df['critic_score'] * mean_relative_score)\n",
    "df['user_score'] = np.where(df['user_score'].isnull() == True , df['user_score_mean'], df['critic_score'] * mean_relative_score)"
   ]
  },
  {
   "cell_type": "markdown",
   "metadata": {},
   "source": [
    "аналогичным образом заполняем пропущенные в critic_score (с помощью обратной пропорции)"
   ]
  },
  {
   "cell_type": "code",
   "execution_count": 18,
   "metadata": {},
   "outputs": [
    {
     "data": {
      "text/html": [
       "<div>\n",
       "<style scoped>\n",
       "    .dataframe tbody tr th:only-of-type {\n",
       "        vertical-align: middle;\n",
       "    }\n",
       "\n",
       "    .dataframe tbody tr th {\n",
       "        vertical-align: top;\n",
       "    }\n",
       "\n",
       "    .dataframe thead th {\n",
       "        text-align: right;\n",
       "    }\n",
       "</style>\n",
       "<table border=\"1\" class=\"dataframe\">\n",
       "  <thead>\n",
       "    <tr style=\"text-align: right;\">\n",
       "      <th></th>\n",
       "      <th>name</th>\n",
       "      <th>platform</th>\n",
       "      <th>year_of_release</th>\n",
       "      <th>genre</th>\n",
       "      <th>na_sales</th>\n",
       "      <th>eu_sales</th>\n",
       "      <th>jp_sales</th>\n",
       "      <th>other_sales</th>\n",
       "      <th>critic_score</th>\n",
       "      <th>user_score</th>\n",
       "      <th>rating</th>\n",
       "      <th>user_score_mean</th>\n",
       "    </tr>\n",
       "  </thead>\n",
       "  <tbody>\n",
       "  </tbody>\n",
       "</table>\n",
       "</div>"
      ],
      "text/plain": [
       "Empty DataFrame\n",
       "Columns: [name, platform, year_of_release, genre, na_sales, eu_sales, jp_sales, other_sales, critic_score, user_score, rating, user_score_mean]\n",
       "Index: []"
      ]
     },
     "metadata": {},
     "output_type": "display_data"
    }
   ],
   "source": [
    "display (df.query('user_score == \"tbd\"')) #проверяем замену \n",
    "#df.info()\n",
    "df['critic_score'] = np.where(df['critic_score'].isnull() == True , df['user_score'] / mean_relative_score , df['user_score_mean'])"
   ]
  },
  {
   "cell_type": "code",
   "execution_count": 19,
   "metadata": {},
   "outputs": [
    {
     "name": "stdout",
     "output_type": "stream",
     "text": [
      "<class 'pandas.core.frame.DataFrame'>\n",
      "Int64Index: 16444 entries, 0 to 16443\n",
      "Data columns (total 12 columns):\n",
      " #   Column           Non-Null Count  Dtype  \n",
      "---  ------           --------------  -----  \n",
      " 0   name             16444 non-null  object \n",
      " 1   platform         16444 non-null  object \n",
      " 2   year_of_release  16444 non-null  int64  \n",
      " 3   genre            16444 non-null  object \n",
      " 4   na_sales         16444 non-null  float64\n",
      " 5   eu_sales         16444 non-null  float64\n",
      " 6   jp_sales         16444 non-null  float64\n",
      " 7   other_sales      16444 non-null  float64\n",
      " 8   critic_score     8219 non-null   float64\n",
      " 9   user_score       8241 non-null   float64\n",
      " 10  rating           9768 non-null   object \n",
      " 11  user_score_mean  8524 non-null   float64\n",
      "dtypes: float64(7), int64(1), object(4)\n",
      "memory usage: 1.6+ MB\n"
     ]
    }
   ],
   "source": [
    "df.user_score = df.user_score.astype('float64') #меняем типы данных оценки пользователей на веществ. число.\n",
    "df.info()"
   ]
  },
  {
   "cell_type": "markdown",
   "metadata": {},
   "source": [
    "Промежуточные выводы данные в главном фрейме df приведены в нужный формат, заполнены некоторые пропуски. Для упрощения анализа приведём столбцы с оценками к единой метрике (100 баллов)."
   ]
  },
  {
   "cell_type": "code",
   "execution_count": 20,
   "metadata": {},
   "outputs": [],
   "source": [
    "df['user_score'] = df['user_score']*10 #приводим значения столбцов к единому виду (100 балльная система)"
   ]
  },
  {
   "cell_type": "markdown",
   "metadata": {},
   "source": []
  },
  {
   "cell_type": "markdown",
   "metadata": {},
   "source": [
    "Создадим новый фрейм, с полностью заполненными строками"
   ]
  },
  {
   "cell_type": "code",
   "execution_count": 21,
   "metadata": {},
   "outputs": [
    {
     "name": "stdout",
     "output_type": "stream",
     "text": [
      "<class 'pandas.core.frame.DataFrame'>\n",
      "Int64Index: 16444 entries, 0 to 16443\n",
      "Data columns (total 12 columns):\n",
      " #   Column           Non-Null Count  Dtype  \n",
      "---  ------           --------------  -----  \n",
      " 0   name             16444 non-null  object \n",
      " 1   platform         16444 non-null  object \n",
      " 2   year_of_release  16444 non-null  int64  \n",
      " 3   genre            16444 non-null  object \n",
      " 4   na_sales         16444 non-null  float64\n",
      " 5   eu_sales         16444 non-null  float64\n",
      " 6   jp_sales         16444 non-null  float64\n",
      " 7   other_sales      16444 non-null  float64\n",
      " 8   critic_score     8219 non-null   float64\n",
      " 9   user_score       8241 non-null   float64\n",
      " 10  rating           9768 non-null   object \n",
      " 11  user_score_mean  8524 non-null   float64\n",
      "dtypes: float64(7), int64(1), object(4)\n",
      "memory usage: 1.6+ MB\n"
     ]
    }
   ],
   "source": [
    "df_clear = df.query('user_score != \"NaN\" & critic_score != \"NaN\" & rating != \"NaN\"')  #вводим новый \"чистый\" фрейм без пропущенных значений для аналищза\n",
    "df_clear.info()\n",
    "#df_clear.query('rating.isnull() == True') #проверим данные с рейтингами"
   ]
  },
  {
   "cell_type": "markdown",
   "metadata": {},
   "source": [
    "Найдём наиболее распространённые оценки в жанрах для заполнения пропущенных значений."
   ]
  },
  {
   "cell_type": "code",
   "execution_count": 22,
   "metadata": {},
   "outputs": [
    {
     "name": "stdout",
     "output_type": "stream",
     "text": [
      "____________Action___________\n",
      "T    670\n",
      "M    596\n",
      "Name: rating, dtype: int64\n",
      "____________Sports___________\n",
      "E    1162\n",
      "T     195\n",
      "Name: rating, dtype: int64\n",
      "____________Shooter___________\n",
      "M    553\n",
      "T    340\n",
      "Name: rating, dtype: int64\n",
      "____________Role-Playing___________\n",
      "T    415\n",
      "M    161\n",
      "Name: rating, dtype: int64\n",
      "____________Racing___________\n",
      "E    576\n",
      "T    167\n",
      "Name: rating, dtype: int64\n",
      "____________Misc___________\n",
      "E    449\n",
      "T    228\n",
      "Name: rating, dtype: int64\n",
      "____________Platform___________\n",
      "E       354\n",
      "E10+    141\n",
      "Name: rating, dtype: int64\n",
      "____________Fighting___________\n",
      "T    357\n",
      "M     48\n",
      "Name: rating, dtype: int64\n",
      "____________Simulation___________\n",
      "E    321\n",
      "T    186\n",
      "Name: rating, dtype: int64\n",
      "____________Adventure___________\n",
      "E    159\n",
      "T    114\n",
      "Name: rating, dtype: int64\n",
      "____________Strategy___________\n",
      "T       160\n",
      "E10+     76\n",
      "Name: rating, dtype: int64\n",
      "____________Puzzle___________\n",
      "E       284\n",
      "E10+     42\n",
      "Name: rating, dtype: int64\n"
     ]
    }
   ],
   "source": [
    "print ('____________Action___________')\n",
    "print (df_clear.query('genre == \"Action\"')['rating'].value_counts().head(2))\n",
    "print ('____________Sports___________')\n",
    "print (df_clear.query('genre == \"Sports\"')['rating'].value_counts().head(2))\n",
    "print ('____________Shooter___________')\n",
    "print (df_clear.query('genre == \"Shooter\"')['rating'].value_counts().head(2))\n",
    "print ('____________Role-Playing___________')\n",
    "print (df_clear.query('genre == \"Role-Playing\"')['rating'].value_counts().head(2))\n",
    "print ('____________Racing___________')\n",
    "print (df_clear.query('genre == \"Racing\"')['rating'].value_counts().head(2))\n",
    "print ('____________Misc___________')\n",
    "print (df_clear.query('genre == \"Misc\"')['rating'].value_counts().head(2))\n",
    "print ('____________Platform___________')\n",
    "print (df_clear.query('genre == \"Platform\"')['rating'].value_counts().head(2))\n",
    "print ('____________Fighting___________')\n",
    "print (df_clear.query('genre == \"Fighting\"')['rating'].value_counts().head(2))\n",
    "print ('____________Simulation___________')\n",
    "print (df_clear.query('genre == \"Simulation\"')['rating'].value_counts().head(2))\n",
    "print ('____________Adventure___________')\n",
    "print (df_clear.query('genre == \"Adventure\"')['rating'].value_counts().head(2))\n",
    "print ('____________Strategy___________')\n",
    "print (df_clear.query('genre == \"Strategy\"')['rating'].value_counts().head(2))\n",
    "print ('____________Puzzle___________')\n",
    "print (df_clear.query('genre == \"Puzzle\"')['rating'].value_counts().head(2))"
   ]
  },
  {
   "cell_type": "markdown",
   "metadata": {},
   "source": [
    "Заполним пропущенные значения рейтинга в соответствии с самым распространённой оценков в жанре."
   ]
  },
  {
   "cell_type": "code",
   "execution_count": 23,
   "metadata": {},
   "outputs": [
    {
     "name": "stdout",
     "output_type": "stream",
     "text": [
      "<class 'pandas.core.frame.DataFrame'>\n",
      "Int64Index: 16444 entries, 0 to 16443\n",
      "Data columns (total 12 columns):\n",
      " #   Column           Non-Null Count  Dtype  \n",
      "---  ------           --------------  -----  \n",
      " 0   name             16444 non-null  object \n",
      " 1   platform         16444 non-null  object \n",
      " 2   year_of_release  16444 non-null  int64  \n",
      " 3   genre            16444 non-null  object \n",
      " 4   na_sales         16444 non-null  float64\n",
      " 5   eu_sales         16444 non-null  float64\n",
      " 6   jp_sales         16444 non-null  float64\n",
      " 7   other_sales      16444 non-null  float64\n",
      " 8   critic_score     8219 non-null   float64\n",
      " 9   user_score       8241 non-null   float64\n",
      " 10  rating           16444 non-null  object \n",
      " 11  user_score_mean  8524 non-null   float64\n",
      "dtypes: float64(7), int64(1), object(4)\n",
      "memory usage: 1.6+ MB\n"
     ]
    }
   ],
   "source": [
    "def fill_rating (row):\n",
    "    rate = ''\n",
    "    rating = row[\"rating\"]\n",
    "    genre =  row[\"genre\"]\n",
    "    if (pd.isnull(rating) == True) & (genre == 'Action'):\n",
    "        rate = 'T'\n",
    "        return rate\n",
    "    elif (pd.isnull(rating) == True) & (genre == 'Sports'):\n",
    "        rate = 'E'\n",
    "        return rate\n",
    "    elif (pd.isnull(rating) == True) & (genre == 'Shooter'):\n",
    "        rate = 'M'\n",
    "        return rate\n",
    "    elif (pd.isnull(rating) == True) & (genre == 'Role-Playing'):\n",
    "        rate = 'T'\n",
    "        return rate\n",
    "    elif (pd.isnull(rating) == True) & (genre == 'Racing'):\n",
    "        rate = 'E'\n",
    "        return rate\n",
    "    elif (pd.isnull(rating) == True) & (genre == 'Misc'):\n",
    "        rate = 'E'\n",
    "        return rate\n",
    "    elif (pd.isnull(rating) == True) & (genre == 'Platform'):\n",
    "        rate = 'E'\n",
    "        return rate\n",
    "    elif (pd.isnull(rating) == True) & (genre == 'Fighting'):\n",
    "        rate = 'T'\n",
    "        return rate\n",
    "    elif (pd.isnull(rating) == True) & (genre == 'Simulation'):\n",
    "        rate = 'T'\n",
    "        return rate\n",
    "    elif (pd.isnull(rating) == True) & (genre == 'Adventure'):\n",
    "        rate = 'M'\n",
    "        return rate\n",
    "    elif (pd.isnull(rating) == True) & (genre == 'Strategy'):\n",
    "        rate = 'T'\n",
    "        return rate\n",
    "    elif (pd.isnull(rating) == True) & (genre == 'Puzzle'):\n",
    "        rate = 'T'\n",
    "        return rate\n",
    "    else:\n",
    "        return rating\n",
    "    \n",
    "df_clear['rating'] = df_clear.apply(fill_rating, axis = 1)\n",
    "df_clear.info() #vois la данные заполнены\n",
    "df['rating'] = df_clear['rating'] #обновим столбец в генеральном фрейме "
   ]
  },
  {
   "cell_type": "markdown",
   "metadata": {},
   "source": [
    "***Промежуточные выводы*** Генеральный фрейм df и Чистые данные нового фрейма df_clear заполнены, готовы для анализа. Анализ также показал, что существенная доля пропусков в столбцах с рейтингами и оценками критиков и пользователей возникли одновременно, что говорит о возможной системной причине пропуска во время сбора или выгрузки данных этих блоков."
   ]
  },
  {
   "cell_type": "markdown",
   "metadata": {},
   "source": [
    "рассмотрим подробнее данные в столбце user_score с помощью метода describe()"
   ]
  },
  {
   "cell_type": "code",
   "execution_count": 24,
   "metadata": {},
   "outputs": [
    {
     "data": {
      "text/plain": [
       "count    8241.000000\n",
       "mean      638.834829\n",
       "std       238.824846\n",
       "min         0.000000\n",
       "25%       568.087758\n",
       "50%       710.109698\n",
       "75%       801.409516\n",
       "max       994.153577\n",
       "Name: user_score, dtype: float64"
      ]
     },
     "execution_count": 24,
     "metadata": {},
     "output_type": "execute_result"
    }
   ],
   "source": [
    "#df.info()\n",
    "df['user_score'].describe() "
   ]
  },
  {
   "cell_type": "markdown",
   "metadata": {},
   "source": [
    "Максимальные данные и средняя величины столбца user_score говорят о присутствии некорректных данных. Предположительно некоторые данные столбца были указаны в 10 кратном размере."
   ]
  },
  {
   "cell_type": "code",
   "execution_count": 25,
   "metadata": {},
   "outputs": [
    {
     "data": {
      "text/html": [
       "<div>\n",
       "<style scoped>\n",
       "    .dataframe tbody tr th:only-of-type {\n",
       "        vertical-align: middle;\n",
       "    }\n",
       "\n",
       "    .dataframe tbody tr th {\n",
       "        vertical-align: top;\n",
       "    }\n",
       "\n",
       "    .dataframe thead th {\n",
       "        text-align: right;\n",
       "    }\n",
       "</style>\n",
       "<table border=\"1\" class=\"dataframe\">\n",
       "  <thead>\n",
       "    <tr style=\"text-align: right;\">\n",
       "      <th></th>\n",
       "      <th>name</th>\n",
       "      <th>platform</th>\n",
       "      <th>year_of_release</th>\n",
       "      <th>genre</th>\n",
       "      <th>na_sales</th>\n",
       "      <th>eu_sales</th>\n",
       "      <th>jp_sales</th>\n",
       "      <th>other_sales</th>\n",
       "      <th>critic_score</th>\n",
       "      <th>user_score</th>\n",
       "      <th>rating</th>\n",
       "      <th>user_score_mean</th>\n",
       "    </tr>\n",
       "  </thead>\n",
       "  <tbody>\n",
       "    <tr>\n",
       "      <th>0</th>\n",
       "      <td>Wii Sports</td>\n",
       "      <td>Wii</td>\n",
       "      <td>2006</td>\n",
       "      <td>Sports</td>\n",
       "      <td>41.36</td>\n",
       "      <td>28.96</td>\n",
       "      <td>3.77</td>\n",
       "      <td>8.45</td>\n",
       "      <td>8.0</td>\n",
       "      <td>770.976243</td>\n",
       "      <td>E</td>\n",
       "      <td>8.0</td>\n",
       "    </tr>\n",
       "    <tr>\n",
       "      <th>3</th>\n",
       "      <td>Mario Kart Wii</td>\n",
       "      <td>Wii</td>\n",
       "      <td>2008</td>\n",
       "      <td>Racing</td>\n",
       "      <td>15.68</td>\n",
       "      <td>12.76</td>\n",
       "      <td>3.79</td>\n",
       "      <td>3.29</td>\n",
       "      <td>8.3</td>\n",
       "      <td>831.842789</td>\n",
       "      <td>E</td>\n",
       "      <td>8.3</td>\n",
       "    </tr>\n",
       "    <tr>\n",
       "      <th>4</th>\n",
       "      <td>Wii Sports Resort</td>\n",
       "      <td>Wii</td>\n",
       "      <td>2009</td>\n",
       "      <td>Sports</td>\n",
       "      <td>15.61</td>\n",
       "      <td>10.93</td>\n",
       "      <td>3.28</td>\n",
       "      <td>2.95</td>\n",
       "      <td>8.0</td>\n",
       "      <td>811.553940</td>\n",
       "      <td>E</td>\n",
       "      <td>8.0</td>\n",
       "    </tr>\n",
       "    <tr>\n",
       "      <th>8</th>\n",
       "      <td>New Super Mario Bros.</td>\n",
       "      <td>DS</td>\n",
       "      <td>2006</td>\n",
       "      <td>Platform</td>\n",
       "      <td>11.28</td>\n",
       "      <td>9.14</td>\n",
       "      <td>6.50</td>\n",
       "      <td>2.88</td>\n",
       "      <td>8.5</td>\n",
       "      <td>902.853758</td>\n",
       "      <td>E</td>\n",
       "      <td>8.5</td>\n",
       "    </tr>\n",
       "    <tr>\n",
       "      <th>9</th>\n",
       "      <td>Wii Play</td>\n",
       "      <td>Wii</td>\n",
       "      <td>2006</td>\n",
       "      <td>Misc</td>\n",
       "      <td>13.96</td>\n",
       "      <td>9.18</td>\n",
       "      <td>2.93</td>\n",
       "      <td>2.84</td>\n",
       "      <td>6.6</td>\n",
       "      <td>588.376607</td>\n",
       "      <td>E</td>\n",
       "      <td>6.6</td>\n",
       "    </tr>\n",
       "    <tr>\n",
       "      <th>...</th>\n",
       "      <td>...</td>\n",
       "      <td>...</td>\n",
       "      <td>...</td>\n",
       "      <td>...</td>\n",
       "      <td>...</td>\n",
       "      <td>...</td>\n",
       "      <td>...</td>\n",
       "      <td>...</td>\n",
       "      <td>...</td>\n",
       "      <td>...</td>\n",
       "      <td>...</td>\n",
       "      <td>...</td>\n",
       "    </tr>\n",
       "    <tr>\n",
       "      <th>16393</th>\n",
       "      <td>Fast Racing Neo</td>\n",
       "      <td>WiiU</td>\n",
       "      <td>2016</td>\n",
       "      <td>Action</td>\n",
       "      <td>0.00</td>\n",
       "      <td>0.01</td>\n",
       "      <td>0.00</td>\n",
       "      <td>0.00</td>\n",
       "      <td>8.5</td>\n",
       "      <td>821.698364</td>\n",
       "      <td>E</td>\n",
       "      <td>8.5</td>\n",
       "    </tr>\n",
       "    <tr>\n",
       "      <th>16402</th>\n",
       "      <td>E.T. The Extra-Terrestrial</td>\n",
       "      <td>GBA</td>\n",
       "      <td>2001</td>\n",
       "      <td>Action</td>\n",
       "      <td>0.01</td>\n",
       "      <td>0.00</td>\n",
       "      <td>0.00</td>\n",
       "      <td>0.00</td>\n",
       "      <td>2.4</td>\n",
       "      <td>466.643516</td>\n",
       "      <td>E</td>\n",
       "      <td>2.4</td>\n",
       "    </tr>\n",
       "    <tr>\n",
       "      <th>16430</th>\n",
       "      <td>Breach</td>\n",
       "      <td>PC</td>\n",
       "      <td>2011</td>\n",
       "      <td>Shooter</td>\n",
       "      <td>0.01</td>\n",
       "      <td>0.00</td>\n",
       "      <td>0.00</td>\n",
       "      <td>0.00</td>\n",
       "      <td>5.8</td>\n",
       "      <td>618.809879</td>\n",
       "      <td>T</td>\n",
       "      <td>5.8</td>\n",
       "    </tr>\n",
       "    <tr>\n",
       "      <th>16436</th>\n",
       "      <td>STORM: Frontline Nation</td>\n",
       "      <td>PC</td>\n",
       "      <td>2011</td>\n",
       "      <td>Strategy</td>\n",
       "      <td>0.00</td>\n",
       "      <td>0.01</td>\n",
       "      <td>0.00</td>\n",
       "      <td>0.00</td>\n",
       "      <td>7.2</td>\n",
       "      <td>608.665455</td>\n",
       "      <td>E10+</td>\n",
       "      <td>7.2</td>\n",
       "    </tr>\n",
       "    <tr>\n",
       "      <th>16439</th>\n",
       "      <td>15 Days</td>\n",
       "      <td>PC</td>\n",
       "      <td>2009</td>\n",
       "      <td>Adventure</td>\n",
       "      <td>0.00</td>\n",
       "      <td>0.01</td>\n",
       "      <td>0.00</td>\n",
       "      <td>0.00</td>\n",
       "      <td>5.8</td>\n",
       "      <td>639.098728</td>\n",
       "      <td>M</td>\n",
       "      <td>5.8</td>\n",
       "    </tr>\n",
       "  </tbody>\n",
       "</table>\n",
       "<p>7351 rows × 12 columns</p>\n",
       "</div>"
      ],
      "text/plain": [
       "                             name platform  year_of_release      genre  \\\n",
       "0                      Wii Sports      Wii             2006     Sports   \n",
       "3                  Mario Kart Wii      Wii             2008     Racing   \n",
       "4               Wii Sports Resort      Wii             2009     Sports   \n",
       "8           New Super Mario Bros.       DS             2006   Platform   \n",
       "9                        Wii Play      Wii             2006       Misc   \n",
       "...                           ...      ...              ...        ...   \n",
       "16393            Fast Racing Neo      WiiU             2016     Action   \n",
       "16402  E.T. The Extra-Terrestrial      GBA             2001     Action   \n",
       "16430                      Breach       PC             2011    Shooter   \n",
       "16436     STORM: Frontline Nation       PC             2011   Strategy   \n",
       "16439                     15 Days       PC             2009  Adventure   \n",
       "\n",
       "       na_sales  eu_sales  jp_sales  other_sales  critic_score  user_score  \\\n",
       "0         41.36     28.96      3.77         8.45           8.0  770.976243   \n",
       "3         15.68     12.76      3.79         3.29           8.3  831.842789   \n",
       "4         15.61     10.93      3.28         2.95           8.0  811.553940   \n",
       "8         11.28      9.14      6.50         2.88           8.5  902.853758   \n",
       "9         13.96      9.18      2.93         2.84           6.6  588.376607   \n",
       "...         ...       ...       ...          ...           ...         ...   \n",
       "16393      0.00      0.01      0.00         0.00           8.5  821.698364   \n",
       "16402      0.01      0.00      0.00         0.00           2.4  466.643516   \n",
       "16430      0.01      0.00      0.00         0.00           5.8  618.809879   \n",
       "16436      0.00      0.01      0.00         0.00           7.2  608.665455   \n",
       "16439      0.00      0.01      0.00         0.00           5.8  639.098728   \n",
       "\n",
       "      rating  user_score_mean  \n",
       "0          E              8.0  \n",
       "3          E              8.3  \n",
       "4          E              8.0  \n",
       "8          E              8.5  \n",
       "9          E              6.6  \n",
       "...      ...              ...  \n",
       "16393      E              8.5  \n",
       "16402      E              2.4  \n",
       "16430      T              5.8  \n",
       "16436   E10+              7.2  \n",
       "16439      M              5.8  \n",
       "\n",
       "[7351 rows x 12 columns]"
      ]
     },
     "metadata": {},
     "output_type": "display_data"
    }
   ],
   "source": [
    "display (df.query('user_score > 100')) #обратим внимание на срез столбца user_score"
   ]
  },
  {
   "cell_type": "markdown",
   "metadata": {},
   "source": [
    "Данные оценки - превышают максимум (**100**) в несколько раз. Для более подробного анализа построим частотную гистограмму для более подробной оценки столбца user_score"
   ]
  },
  {
   "cell_type": "code",
   "execution_count": 26,
   "metadata": {},
   "outputs": [
    {
     "data": {
      "image/png": "[encoded data removed]",
      "text/plain": [
       "<Figure size 648x288 with 1 Axes>"
      ]
     },
     "metadata": {
      "needs_background": "light"
     },
     "output_type": "display_data"
    }
   ],
   "source": [
    "df['user_score'].hist(bins = 50, figsize = (9, 4),color='green',alpha = 0.6)\n",
    "plt.show()"
   ]
  },
  {
   "cell_type": "markdown",
   "metadata": {},
   "source": [
    "Очевидно, что на графике 2 распределения, что подтверждает наличие ошибки (некоторые 10 кратные значения столбца)"
   ]
  },
  {
   "cell_type": "markdown",
   "metadata": {},
   "source": [
    "Следуя предположению поделим на 10, значения, превышающие 100 баллов в стобце user_score с помощью метода score"
   ]
  },
  {
   "cell_type": "code",
   "execution_count": 27,
   "metadata": {},
   "outputs": [],
   "source": [
    "df['user_score'] = np.where(df['user_score'] > 100, df['user_score']/10, df['user_score']) #делим некорректные значения на 10"
   ]
  },
  {
   "cell_type": "code",
   "execution_count": 28,
   "metadata": {},
   "outputs": [
    {
     "data": {
      "text/plain": [
       "count    8241.000000\n",
       "mean       70.497061\n",
       "std        14.310769\n",
       "min         0.000000\n",
       "25%        61.880988\n",
       "50%        72.750000\n",
       "75%        81.155394\n",
       "max        99.415358\n",
       "Name: user_score, dtype: float64"
      ]
     },
     "execution_count": 28,
     "metadata": {},
     "output_type": "execute_result"
    }
   ],
   "source": [
    "df['user_score'].describe()"
   ]
  },
  {
   "cell_type": "code",
   "execution_count": 29,
   "metadata": {},
   "outputs": [
    {
     "data": {
      "image/png": "[encoded data removed]",
      "text/plain": [
       "<Figure size 648x288 with 1 Axes>"
      ]
     },
     "metadata": {
      "needs_background": "light"
     },
     "output_type": "display_data"
    }
   ],
   "source": [
    "df['user_score'].hist(bins = 50, figsize = (9,4),color='green', alpha = 0.6)\n",
    "plt.show()"
   ]
  },
  {
   "cell_type": "markdown",
   "metadata": {},
   "source": [
    "Данные теперь показывают одно распределение скошенное влево. Распределение характерное для совокупности балльных оценок."
   ]
  },
  {
   "cell_type": "markdown",
   "metadata": {},
   "source": [
    "**Рассмотрим данные столбца 'name' **"
   ]
  },
  {
   "cell_type": "markdown",
   "metadata": {},
   "source": [
    "Первое знакомство с помощью метода показывает наличие дубликатов по имени. Предположительно связано с релизами на различных платформах и годами релизов. Оценим наличие дубликатов сразу по 3м критериям:"
   ]
  },
  {
   "cell_type": "code",
   "execution_count": 30,
   "metadata": {},
   "outputs": [
    {
     "data": {
      "text/plain": [
       "942    True\n",
       "dtype: bool"
      ]
     },
     "execution_count": 30,
     "metadata": {},
     "output_type": "execute_result"
    }
   ],
   "source": [
    "isdupli_df = df.duplicated(subset=['name', 'platform','year_of_release'])\n",
    "isdupli_df[isdupli_df == True]"
   ]
  },
  {
   "cell_type": "markdown",
   "metadata": {},
   "source": [
    "Всего 1 дубликат одновременно по 3м критериям. "
   ]
  },
  {
   "cell_type": "code",
   "execution_count": 31,
   "metadata": {},
   "outputs": [],
   "source": [
    "df = df.drop(df[df.index == 942].index).reset_index() #Удаляем полный дубликат\n"
   ]
  },
  {
   "cell_type": "markdown",
   "metadata": {},
   "source": [
    "### Вывод"
   ]
  },
  {
   "cell_type": "markdown",
   "metadata": {},
   "source": [
    "Данные предобработаны. Создан дополнительный \"чистый\" фрейм для дальнейшей работы. Данные не потеряли критического объёма в процессе предобработки и готовы для добавления расчётов и проведения исследовательского и статистического анализа."
   ]
  },
  {
   "cell_type": "markdown",
   "metadata": {},
   "source": [
    "## Расчёты и добавление результатов в таблицу"
   ]
  },
  {
   "cell_type": "markdown",
   "metadata": {},
   "source": [
    "Добавим новый столбец в фрейм df с общей выручкой по каждому продукту."
   ]
  },
  {
   "cell_type": "code",
   "execution_count": 32,
   "metadata": {},
   "outputs": [
    {
     "data": {
      "text/html": [
       "<div>\n",
       "<style scoped>\n",
       "    .dataframe tbody tr th:only-of-type {\n",
       "        vertical-align: middle;\n",
       "    }\n",
       "\n",
       "    .dataframe tbody tr th {\n",
       "        vertical-align: top;\n",
       "    }\n",
       "\n",
       "    .dataframe thead th {\n",
       "        text-align: right;\n",
       "    }\n",
       "</style>\n",
       "<table border=\"1\" class=\"dataframe\">\n",
       "  <thead>\n",
       "    <tr style=\"text-align: right;\">\n",
       "      <th></th>\n",
       "      <th>index</th>\n",
       "      <th>name</th>\n",
       "      <th>platform</th>\n",
       "      <th>year_of_release</th>\n",
       "      <th>genre</th>\n",
       "      <th>na_sales</th>\n",
       "      <th>eu_sales</th>\n",
       "      <th>jp_sales</th>\n",
       "      <th>other_sales</th>\n",
       "      <th>critic_score</th>\n",
       "      <th>user_score</th>\n",
       "      <th>rating</th>\n",
       "      <th>user_score_mean</th>\n",
       "      <th>total_sales</th>\n",
       "    </tr>\n",
       "  </thead>\n",
       "  <tbody>\n",
       "    <tr>\n",
       "      <th>0</th>\n",
       "      <td>0</td>\n",
       "      <td>Wii Sports</td>\n",
       "      <td>Wii</td>\n",
       "      <td>2006</td>\n",
       "      <td>Sports</td>\n",
       "      <td>41.36</td>\n",
       "      <td>28.96</td>\n",
       "      <td>3.77</td>\n",
       "      <td>8.45</td>\n",
       "      <td>8.0</td>\n",
       "      <td>77.097624</td>\n",
       "      <td>E</td>\n",
       "      <td>8.0</td>\n",
       "      <td>82.54</td>\n",
       "    </tr>\n",
       "    <tr>\n",
       "      <th>1</th>\n",
       "      <td>1</td>\n",
       "      <td>Super Mario Bros.</td>\n",
       "      <td>NES</td>\n",
       "      <td>1985</td>\n",
       "      <td>Platform</td>\n",
       "      <td>29.08</td>\n",
       "      <td>3.58</td>\n",
       "      <td>6.81</td>\n",
       "      <td>0.77</td>\n",
       "      <td>NaN</td>\n",
       "      <td>NaN</td>\n",
       "      <td>E</td>\n",
       "      <td>NaN</td>\n",
       "      <td>40.24</td>\n",
       "    </tr>\n",
       "    <tr>\n",
       "      <th>2</th>\n",
       "      <td>2</td>\n",
       "      <td>Super Mario Bros.</td>\n",
       "      <td>GB</td>\n",
       "      <td>1999</td>\n",
       "      <td>Platform</td>\n",
       "      <td>3.40</td>\n",
       "      <td>1.30</td>\n",
       "      <td>0.15</td>\n",
       "      <td>0.22</td>\n",
       "      <td>NaN</td>\n",
       "      <td>NaN</td>\n",
       "      <td>E</td>\n",
       "      <td>NaN</td>\n",
       "      <td>5.07</td>\n",
       "    </tr>\n",
       "    <tr>\n",
       "      <th>3</th>\n",
       "      <td>3</td>\n",
       "      <td>Mario Kart Wii</td>\n",
       "      <td>Wii</td>\n",
       "      <td>2008</td>\n",
       "      <td>Racing</td>\n",
       "      <td>15.68</td>\n",
       "      <td>12.76</td>\n",
       "      <td>3.79</td>\n",
       "      <td>3.29</td>\n",
       "      <td>8.3</td>\n",
       "      <td>83.184279</td>\n",
       "      <td>E</td>\n",
       "      <td>8.3</td>\n",
       "      <td>35.52</td>\n",
       "    </tr>\n",
       "    <tr>\n",
       "      <th>4</th>\n",
       "      <td>4</td>\n",
       "      <td>Wii Sports Resort</td>\n",
       "      <td>Wii</td>\n",
       "      <td>2009</td>\n",
       "      <td>Sports</td>\n",
       "      <td>15.61</td>\n",
       "      <td>10.93</td>\n",
       "      <td>3.28</td>\n",
       "      <td>2.95</td>\n",
       "      <td>8.0</td>\n",
       "      <td>81.155394</td>\n",
       "      <td>E</td>\n",
       "      <td>8.0</td>\n",
       "      <td>32.77</td>\n",
       "    </tr>\n",
       "    <tr>\n",
       "      <th>5</th>\n",
       "      <td>5</td>\n",
       "      <td>Pokemon Red/Pokemon Blue</td>\n",
       "      <td>GB</td>\n",
       "      <td>1996</td>\n",
       "      <td>Role-Playing</td>\n",
       "      <td>11.27</td>\n",
       "      <td>8.89</td>\n",
       "      <td>10.22</td>\n",
       "      <td>1.00</td>\n",
       "      <td>NaN</td>\n",
       "      <td>NaN</td>\n",
       "      <td>T</td>\n",
       "      <td>NaN</td>\n",
       "      <td>31.38</td>\n",
       "    </tr>\n",
       "    <tr>\n",
       "      <th>6</th>\n",
       "      <td>6</td>\n",
       "      <td>Tetris</td>\n",
       "      <td>GB</td>\n",
       "      <td>1989</td>\n",
       "      <td>Puzzle</td>\n",
       "      <td>23.20</td>\n",
       "      <td>2.26</td>\n",
       "      <td>4.22</td>\n",
       "      <td>0.58</td>\n",
       "      <td>NaN</td>\n",
       "      <td>NaN</td>\n",
       "      <td>T</td>\n",
       "      <td>NaN</td>\n",
       "      <td>30.26</td>\n",
       "    </tr>\n",
       "    <tr>\n",
       "      <th>7</th>\n",
       "      <td>7</td>\n",
       "      <td>Tetris</td>\n",
       "      <td>NES</td>\n",
       "      <td>1988</td>\n",
       "      <td>Puzzle</td>\n",
       "      <td>2.97</td>\n",
       "      <td>0.69</td>\n",
       "      <td>1.81</td>\n",
       "      <td>0.11</td>\n",
       "      <td>NaN</td>\n",
       "      <td>NaN</td>\n",
       "      <td>T</td>\n",
       "      <td>NaN</td>\n",
       "      <td>5.58</td>\n",
       "    </tr>\n",
       "    <tr>\n",
       "      <th>8</th>\n",
       "      <td>8</td>\n",
       "      <td>New Super Mario Bros.</td>\n",
       "      <td>DS</td>\n",
       "      <td>2006</td>\n",
       "      <td>Platform</td>\n",
       "      <td>11.28</td>\n",
       "      <td>9.14</td>\n",
       "      <td>6.50</td>\n",
       "      <td>2.88</td>\n",
       "      <td>8.5</td>\n",
       "      <td>90.285376</td>\n",
       "      <td>E</td>\n",
       "      <td>8.5</td>\n",
       "      <td>29.80</td>\n",
       "    </tr>\n",
       "    <tr>\n",
       "      <th>9</th>\n",
       "      <td>9</td>\n",
       "      <td>Wii Play</td>\n",
       "      <td>Wii</td>\n",
       "      <td>2006</td>\n",
       "      <td>Misc</td>\n",
       "      <td>13.96</td>\n",
       "      <td>9.18</td>\n",
       "      <td>2.93</td>\n",
       "      <td>2.84</td>\n",
       "      <td>6.6</td>\n",
       "      <td>58.837661</td>\n",
       "      <td>E</td>\n",
       "      <td>6.6</td>\n",
       "      <td>28.91</td>\n",
       "    </tr>\n",
       "  </tbody>\n",
       "</table>\n",
       "</div>"
      ],
      "text/plain": [
       "   index                      name platform  year_of_release         genre  \\\n",
       "0      0                Wii Sports      Wii             2006        Sports   \n",
       "1      1         Super Mario Bros.      NES             1985      Platform   \n",
       "2      2         Super Mario Bros.       GB             1999      Platform   \n",
       "3      3            Mario Kart Wii      Wii             2008        Racing   \n",
       "4      4         Wii Sports Resort      Wii             2009        Sports   \n",
       "5      5  Pokemon Red/Pokemon Blue       GB             1996  Role-Playing   \n",
       "6      6                    Tetris       GB             1989        Puzzle   \n",
       "7      7                    Tetris      NES             1988        Puzzle   \n",
       "8      8     New Super Mario Bros.       DS             2006      Platform   \n",
       "9      9                  Wii Play      Wii             2006          Misc   \n",
       "\n",
       "   na_sales  eu_sales  jp_sales  other_sales  critic_score  user_score rating  \\\n",
       "0     41.36     28.96      3.77         8.45           8.0   77.097624      E   \n",
       "1     29.08      3.58      6.81         0.77           NaN         NaN      E   \n",
       "2      3.40      1.30      0.15         0.22           NaN         NaN      E   \n",
       "3     15.68     12.76      3.79         3.29           8.3   83.184279      E   \n",
       "4     15.61     10.93      3.28         2.95           8.0   81.155394      E   \n",
       "5     11.27      8.89     10.22         1.00           NaN         NaN      T   \n",
       "6     23.20      2.26      4.22         0.58           NaN         NaN      T   \n",
       "7      2.97      0.69      1.81         0.11           NaN         NaN      T   \n",
       "8     11.28      9.14      6.50         2.88           8.5   90.285376      E   \n",
       "9     13.96      9.18      2.93         2.84           6.6   58.837661      E   \n",
       "\n",
       "   user_score_mean  total_sales  \n",
       "0              8.0        82.54  \n",
       "1              NaN        40.24  \n",
       "2              NaN         5.07  \n",
       "3              8.3        35.52  \n",
       "4              8.0        32.77  \n",
       "5              NaN        31.38  \n",
       "6              NaN        30.26  \n",
       "7              NaN         5.58  \n",
       "8              8.5        29.80  \n",
       "9              6.6        28.91  "
      ]
     },
     "metadata": {},
     "output_type": "display_data"
    },
    {
     "name": "stdout",
     "output_type": "stream",
     "text": [
      "<class 'pandas.core.frame.DataFrame'>\n",
      "RangeIndex: 16443 entries, 0 to 16442\n",
      "Data columns (total 14 columns):\n",
      " #   Column           Non-Null Count  Dtype  \n",
      "---  ------           --------------  -----  \n",
      " 0   index            16443 non-null  int64  \n",
      " 1   name             16443 non-null  object \n",
      " 2   platform         16443 non-null  object \n",
      " 3   year_of_release  16443 non-null  int64  \n",
      " 4   genre            16443 non-null  object \n",
      " 5   na_sales         16443 non-null  float64\n",
      " 6   eu_sales         16443 non-null  float64\n",
      " 7   jp_sales         16443 non-null  float64\n",
      " 8   other_sales      16443 non-null  float64\n",
      " 9   critic_score     8218 non-null   float64\n",
      " 10  user_score       8240 non-null   float64\n",
      " 11  rating           16443 non-null  object \n",
      " 12  user_score_mean  8523 non-null   float64\n",
      " 13  total_sales      16443 non-null  float64\n",
      "dtypes: float64(8), int64(2), object(4)\n",
      "memory usage: 1.8+ MB\n"
     ]
    }
   ],
   "source": [
    "df['total_sales'] = df['na_sales'] + df['jp_sales'] + df['eu_sales'] + df['other_sales']\n",
    "display(df.head(10)) #проверим корректность данных\n",
    "df.info()"
   ]
  },
  {
   "cell_type": "markdown",
   "metadata": {},
   "source": [
    "### Вывод"
   ]
  },
  {
   "cell_type": "markdown",
   "metadata": {},
   "source": [
    "Данные добавлены корректно. Столбец отображает суммарную выручку. Пропущенных данных нет."
   ]
  },
  {
   "cell_type": "markdown",
   "metadata": {},
   "source": [
    "## Исследовательский и статистический анализ данных"
   ]
  },
  {
   "cell_type": "markdown",
   "metadata": {},
   "source": [
    "Рассмотрим данные по выпуску игр в разные периоды для определения необходимости анализа каждого года из представленных."
   ]
  },
  {
   "cell_type": "code",
   "execution_count": 33,
   "metadata": {},
   "outputs": [
    {
     "data": {
      "image/png": "[encoded data removed]",
      "text/plain": [
       "<Figure size 432x288 with 1 Axes>"
      ]
     },
     "metadata": {
      "needs_background": "light"
     },
     "output_type": "display_data"
    }
   ],
   "source": [
    "count_year = df.groupby('year_of_release')['year_of_release'].count().sort_values(ascending = False)\n",
    "plt.plot(count_year.index, count_year, 'g^', alpha = 0.6)\n",
    "plt.xlabel(\"year\")    \n",
    "plt.ylabel(\"quantity\") \n",
    "plt.show()"
   ]
  },
  {
   "cell_type": "markdown",
   "metadata": {},
   "source": [
    "Исследование данных до 1995 года - представляет малую исследовательскую ценность по причинам малой выборки данных. С 1995 года начинается замедление относительного прироста количества игр. Определим этот год как \"пограничный\" для начала исследования."
   ]
  },
  {
   "cell_type": "code",
   "execution_count": 34,
   "metadata": {},
   "outputs": [],
   "source": [
    "df = df.query('year_of_release >= 1995')\n",
    "df_clean = df_clear.query('year_of_release >= 1995')"
   ]
  },
  {
   "cell_type": "code",
   "execution_count": 35,
   "metadata": {},
   "outputs": [
    {
     "data": {
      "image/png": "[encoded data removed]",
      "text/plain": [
       "<Figure size 432x288 with 1 Axes>"
      ]
     },
     "metadata": {
      "needs_background": "light"
     },
     "output_type": "display_data"
    }
   ],
   "source": [
    "df.year_of_release.hist(bins = 22, color = \"green\", alpha = 0.6) #22 корзинки нужны для равномерного отображения гистограммы за 22 года\n",
    "plt.xlabel(\"year\")    \n",
    "plt.ylabel(\"quantity\") \n",
    "plt.show()"
   ]
  },
  {
   "cell_type": "markdown",
   "metadata": {},
   "source": [
    "Определим 10 платформ с наибольшей выручкой"
   ]
  },
  {
   "cell_type": "code",
   "execution_count": 36,
   "metadata": {},
   "outputs": [
    {
     "data": {
      "text/html": [
       "<div>\n",
       "<style scoped>\n",
       "    .dataframe tbody tr th:only-of-type {\n",
       "        vertical-align: middle;\n",
       "    }\n",
       "\n",
       "    .dataframe tbody tr th {\n",
       "        vertical-align: top;\n",
       "    }\n",
       "\n",
       "    .dataframe thead th {\n",
       "        text-align: right;\n",
       "    }\n",
       "</style>\n",
       "<table border=\"1\" class=\"dataframe\">\n",
       "  <thead>\n",
       "    <tr style=\"text-align: right;\">\n",
       "      <th></th>\n",
       "      <th>platform</th>\n",
       "      <th>total_sales</th>\n",
       "    </tr>\n",
       "  </thead>\n",
       "  <tbody>\n",
       "    <tr>\n",
       "      <th>0</th>\n",
       "      <td>PS2</td>\n",
       "      <td>1233.56</td>\n",
       "    </tr>\n",
       "    <tr>\n",
       "      <th>1</th>\n",
       "      <td>X360</td>\n",
       "      <td>961.24</td>\n",
       "    </tr>\n",
       "    <tr>\n",
       "      <th>2</th>\n",
       "      <td>PS3</td>\n",
       "      <td>931.33</td>\n",
       "    </tr>\n",
       "    <tr>\n",
       "      <th>3</th>\n",
       "      <td>Wii</td>\n",
       "      <td>891.18</td>\n",
       "    </tr>\n",
       "    <tr>\n",
       "      <th>4</th>\n",
       "      <td>DS</td>\n",
       "      <td>802.76</td>\n",
       "    </tr>\n",
       "    <tr>\n",
       "      <th>5</th>\n",
       "      <td>PS</td>\n",
       "      <td>721.55</td>\n",
       "    </tr>\n",
       "    <tr>\n",
       "      <th>6</th>\n",
       "      <td>PS4</td>\n",
       "      <td>314.14</td>\n",
       "    </tr>\n",
       "    <tr>\n",
       "      <th>7</th>\n",
       "      <td>GBA</td>\n",
       "      <td>312.88</td>\n",
       "    </tr>\n",
       "    <tr>\n",
       "      <th>8</th>\n",
       "      <td>PSP</td>\n",
       "      <td>289.53</td>\n",
       "    </tr>\n",
       "    <tr>\n",
       "      <th>9</th>\n",
       "      <td>3DS</td>\n",
       "      <td>257.81</td>\n",
       "    </tr>\n",
       "  </tbody>\n",
       "</table>\n",
       "</div>"
      ],
      "text/plain": [
       "  platform  total_sales\n",
       "0      PS2      1233.56\n",
       "1     X360       961.24\n",
       "2      PS3       931.33\n",
       "3      Wii       891.18\n",
       "4       DS       802.76\n",
       "5       PS       721.55\n",
       "6      PS4       314.14\n",
       "7      GBA       312.88\n",
       "8      PSP       289.53\n",
       "9      3DS       257.81"
      ]
     },
     "execution_count": 36,
     "metadata": {},
     "output_type": "execute_result"
    }
   ],
   "source": [
    "df.pivot_table(index = 'platform', values = 'total_sales', aggfunc = 'sum').sort_values(by = 'total_sales', ascending = False).reset_index().head(10)"
   ]
  },
  {
   "cell_type": "markdown",
   "metadata": {},
   "source": [
    "Введём новые переменные с количественными данными продуктов исходя из года и платформы."
   ]
  },
  {
   "cell_type": "markdown",
   "metadata": {},
   "source": [
    "<div class=\"alert alert-info\"> <b>Попытался разместить в 2 ряда</b> Ничего не вышло, прошу разъяснить в чём проблема. Спасибо</div>"
   ]
  },
  {
   "cell_type": "code",
   "execution_count": 38,
   "metadata": {},
   "outputs": [
    {
     "data": {
      "image/png": "[encoded data removed]",
      "text/plain": [
       "<Figure size 1224x504 with 10 Axes>"
      ]
     },
     "metadata": {
      "needs_background": "light"
     },
     "output_type": "display_data"
    }
   ],
   "source": [
    "platform_list = ['PS2','X360','DS','PC', 'PS3','PS4','PSP','3DS','GBA','Wii']\n",
    "\n",
    "plt.figure(figsize=(17,7))\n",
    "i=1\n",
    "\n",
    "for plat in platform_list:\n",
    "    plt.subplot(2, 5, i)\n",
    "    plt.hist(df[df['platform']==plat]['year_of_release'] ,bins=25,color = \"green\", alpha = 0.6)\n",
    "    plt.title(plat)\n",
    "    i+=1\n",
    "\n",
    "plt.show()"
   ]
  },
  {
   "cell_type": "markdown",
   "metadata": {},
   "source": [
    "Жизненный цикл платформ предпочтительнее рассчитывать исходя из данных по выпуску продуктов с распределением, близким к нормальному, чтобы увидеть появление, развитие, стагнацию и исчезновение. Такое распределение встречается на распределении платформ:\n",
    "- PS2\n",
    "- X360\n",
    "- PS3\n",
    "- Wii\n",
    "- DS\n",
    "- PSP\n",
    "- GBA"
   ]
  },
  {
   "cell_type": "markdown",
   "metadata": {},
   "source": [
    "Определим жизненный цикл (размах распределений) игровых платформ."
   ]
  },
  {
   "cell_type": "code",
   "execution_count": 40,
   "metadata": {},
   "outputs": [],
   "source": [
    "def amplitude (series): #функция для определения жизненного цикла\n",
    "    amp = series.max() - series.min() #определим размах как разность максимального и минимального значений\n",
    "    return amp\n"
   ]
  },
  {
   "cell_type": "code",
   "execution_count": 41,
   "metadata": {},
   "outputs": [
    {
     "name": "stdout",
     "output_type": "stream",
     "text": [
      "Жизненный цикл платформ:\n",
      "PS2: 11 лет\n",
      "X360: 11 лет\n",
      "PS3: 10 лет\n",
      "Wii: 10 лет\n",
      "DS: 9 лет\n",
      "PSP: 11 лет\n",
      "GBA: 7 лет\n"
     ]
    }
   ],
   "source": [
    "print ('Жизненный цикл платформ:')\n",
    "print (\"PS2:\", amplitude(PS2), 'лет')\n",
    "print (\"X360:\", amplitude(X360), 'лет')\n",
    "print (\"PS3:\", amplitude(PS3), 'лет')\n",
    "print (\"Wii:\", amplitude(Wii), 'лет')\n",
    "print (\"DS:\", amplitude(DS), 'лет')\n",
    "print (\"PSP:\", amplitude(PSP), 'лет')\n",
    "print (\"GBA:\", amplitude(GBA), 'лет')"
   ]
  },
  {
   "cell_type": "markdown",
   "metadata": {},
   "source": [
    "Определим среднее арифметическое значение жизненного цикла: поделим сумму лет на количество платформ"
   ]
  },
  {
   "cell_type": "code",
   "execution_count": 42,
   "metadata": {},
   "outputs": [
    {
     "data": {
      "text/plain": [
       "'Среднее значение жизненного цикла платформ:'"
      ]
     },
     "metadata": {},
     "output_type": "display_data"
    },
    {
     "data": {
      "text/plain": [
       "10"
      ]
     },
     "metadata": {},
     "output_type": "display_data"
    }
   ],
   "source": [
    "mean_life_platform = (amplitude(PS2)+ amplitude(X360) + amplitude(PS3) + amplitude(Wii) + amplitude(DS) + amplitude(PSP) + amplitude(GBA))/7\n",
    "display ('Среднее значение жизненного цикла платформ:', math.ceil(mean_life_platform) )"
   ]
  },
  {
   "cell_type": "markdown",
   "metadata": {},
   "source": [
    "***Промежуточный вывод:*** любовь живёт 3 года, а любовь к платформам - 10 лет."
   ]
  },
  {
   "cell_type": "markdown",
   "metadata": {},
   "source": [
    "Определим актуальный период для исследования и прогнозирования данных 10 лет до 2016 г. Для анализа создадим сводную таблицу с выручкой по годам и платформам, оценим сумму продаж по платформам за последние 10 лет."
   ]
  },
  {
   "cell_type": "code",
   "execution_count": 43,
   "metadata": {},
   "outputs": [
    {
     "name": "stdout",
     "output_type": "stream",
     "text": [
      "Данные выручки за последние 10 лет\n"
     ]
    },
    {
     "data": {
      "text/plain": [
       "platform\n",
       "PS3     910.37\n",
       "X360    901.37\n",
       "Wii     754.03\n",
       "DS      535.54\n",
       "PS4     314.14\n",
       "3DS     257.81\n",
       "PSP     183.31\n",
       "PS2     162.38\n",
       "PC      160.57\n",
       "XOne    159.32\n",
       "WiiU     82.19\n",
       "PSV      53.81\n",
       "GBA       3.40\n",
       "XB        0.73\n",
       "GC        0.27\n",
       "DC        0.06\n",
       "Name: total_sales, dtype: float64"
      ]
     },
     "execution_count": 43,
     "metadata": {},
     "output_type": "execute_result"
    }
   ],
   "source": [
    "df_pivot_year_sales_platform = df.pivot_table(index = ['platform','year_of_release'], values = 'total_sales', aggfunc = 'sum').reset_index()\n",
    "print ('Данные выручки за последние 10 лет')\n",
    "df_pivot_year_sales_platform.query('year_of_release > 2006').groupby('platform')['total_sales'].sum().sort_values(ascending = False)"
   ]
  },
  {
   "cell_type": "markdown",
   "metadata": {},
   "source": [
    "Для разработки прогноза по перспективным платформам определим срез фрейма с растущими показателями за последний 2015 год и суммами выручки по платформам."
   ]
  },
  {
   "cell_type": "code",
   "execution_count": 44,
   "metadata": {},
   "outputs": [
    {
     "data": {
      "image/png": "[encoded data removed]",
      "text/plain": [
       "<Figure size 1080x576 with 1 Axes>"
      ]
     },
     "metadata": {
      "needs_background": "light"
     },
     "output_type": "display_data"
    }
   ],
   "source": [
    "df_sales_2015 = df_pivot_year_sales_platform.query('year_of_release == 2015').groupby('platform')['total_sales'].sum().sort_values(ascending = False)\n",
    "df_sales_2014 = df_pivot_year_sales_platform.query('year_of_release == 2014').groupby('platform')['total_sales'].sum().sort_values(ascending = False)\n",
    "df_sales_2013 = df_pivot_year_sales_platform.query('year_of_release == 2013').groupby('platform')['total_sales'].sum().sort_values(ascending = False)\n",
    "df_sales_2012 = df_pivot_year_sales_platform.query('year_of_release == 2012').groupby('platform')['total_sales'].sum().sort_values(ascending = False)\n",
    "df_sales_2011 = df_pivot_year_sales_platform.query('year_of_release == 2011').groupby('platform')['total_sales'].sum().sort_values(ascending = False)\n",
    "df_sales_2010 = df_pivot_year_sales_platform.query('year_of_release == 2010').groupby('platform')['total_sales'].sum().sort_values(ascending = False)\n",
    "df_sales_2009 = df_pivot_year_sales_platform.query('year_of_release == 2009').groupby('platform')['total_sales'].sum().sort_values(ascending = False)\n",
    "df_sales_2008 = df_pivot_year_sales_platform.query('year_of_release == 2008').groupby('platform')['total_sales'].sum().sort_values(ascending = False)\n",
    "df_sales_2007 = df_pivot_year_sales_platform.query('year_of_release == 2007').groupby('platform')['total_sales'].sum().sort_values(ascending = False)\n",
    "\n",
    "data_frames = [df_sales_2007,df_sales_2008,df_sales_2009,df_sales_2010,df_sales_2011,df_sales_2012 ,df_sales_2013, df_sales_2014, df_sales_2015]\n",
    "\n",
    "df_sales_merged = reduce(lambda  left, right: pd.merge(left,right, on=['platform'], how='outer'), data_frames)\n",
    "#объединяем методом reduce\n",
    "#поменяем имена столбцов для наглядности\n",
    "df_sales_merged.columns = ['2007', '2008', '2009', '2010',\n",
    "       '2011', '2012', '2013', '2014',\n",
    "       '2015']\n",
    "df_sales_merged.reset_index() #убираем вторые этажи\n",
    "df_sales_merged = df_sales_merged.T #транспонируем для упрощения восприятия\n",
    "df_sales_merged.plot(marker = '*', figsize = (15,8)) #делаем широкий график во всю страницу\n",
    "plt.title('Dynamic of sales values')\n",
    "plt.legend(loc = 'upper left')\n",
    "plt.show()"
   ]
  },
  {
   "cell_type": "code",
   "execution_count": 45,
   "metadata": {},
   "outputs": [
    {
     "data": {
      "text/html": [
       "<div>\n",
       "<style scoped>\n",
       "    .dataframe tbody tr th:only-of-type {\n",
       "        vertical-align: middle;\n",
       "    }\n",
       "\n",
       "    .dataframe tbody tr th {\n",
       "        vertical-align: top;\n",
       "    }\n",
       "\n",
       "    .dataframe thead th {\n",
       "        text-align: right;\n",
       "    }\n",
       "</style>\n",
       "<table border=\"1\" class=\"dataframe\">\n",
       "  <thead>\n",
       "    <tr style=\"text-align: right;\">\n",
       "      <th>platform</th>\n",
       "      <th>Wii</th>\n",
       "      <th>DS</th>\n",
       "      <th>X360</th>\n",
       "      <th>PS2</th>\n",
       "      <th>PS3</th>\n",
       "      <th>PSP</th>\n",
       "      <th>PC</th>\n",
       "      <th>GBA</th>\n",
       "      <th>XB</th>\n",
       "      <th>GC</th>\n",
       "      <th>DC</th>\n",
       "      <th>3DS</th>\n",
       "      <th>PSV</th>\n",
       "      <th>WiiU</th>\n",
       "      <th>PS4</th>\n",
       "      <th>XOne</th>\n",
       "    </tr>\n",
       "  </thead>\n",
       "  <tbody>\n",
       "    <tr>\n",
       "      <th>2007</th>\n",
       "      <td>152.77</td>\n",
       "      <td>146.94</td>\n",
       "      <td>95.41</td>\n",
       "      <td>75.99</td>\n",
       "      <td>73.19</td>\n",
       "      <td>46.93</td>\n",
       "      <td>9.28</td>\n",
       "      <td>3.4</td>\n",
       "      <td>0.55</td>\n",
       "      <td>0.27</td>\n",
       "      <td>0.02</td>\n",
       "      <td>NaN</td>\n",
       "      <td>NaN</td>\n",
       "      <td>NaN</td>\n",
       "      <td>NaN</td>\n",
       "      <td>NaN</td>\n",
       "    </tr>\n",
       "    <tr>\n",
       "      <th>2008</th>\n",
       "      <td>171.32</td>\n",
       "      <td>145.31</td>\n",
       "      <td>135.26</td>\n",
       "      <td>53.90</td>\n",
       "      <td>118.52</td>\n",
       "      <td>34.55</td>\n",
       "      <td>12.42</td>\n",
       "      <td>NaN</td>\n",
       "      <td>0.18</td>\n",
       "      <td>NaN</td>\n",
       "      <td>0.04</td>\n",
       "      <td>NaN</td>\n",
       "      <td>NaN</td>\n",
       "      <td>NaN</td>\n",
       "      <td>NaN</td>\n",
       "      <td>NaN</td>\n",
       "    </tr>\n",
       "    <tr>\n",
       "      <th>2009</th>\n",
       "      <td>206.97</td>\n",
       "      <td>119.54</td>\n",
       "      <td>120.29</td>\n",
       "      <td>26.40</td>\n",
       "      <td>130.93</td>\n",
       "      <td>37.78</td>\n",
       "      <td>16.91</td>\n",
       "      <td>NaN</td>\n",
       "      <td>NaN</td>\n",
       "      <td>NaN</td>\n",
       "      <td>NaN</td>\n",
       "      <td>NaN</td>\n",
       "      <td>NaN</td>\n",
       "      <td>NaN</td>\n",
       "      <td>NaN</td>\n",
       "      <td>NaN</td>\n",
       "    </tr>\n",
       "    <tr>\n",
       "      <th>2010</th>\n",
       "      <td>127.95</td>\n",
       "      <td>85.02</td>\n",
       "      <td>170.03</td>\n",
       "      <td>5.64</td>\n",
       "      <td>142.17</td>\n",
       "      <td>35.04</td>\n",
       "      <td>24.28</td>\n",
       "      <td>NaN</td>\n",
       "      <td>NaN</td>\n",
       "      <td>NaN</td>\n",
       "      <td>NaN</td>\n",
       "      <td>NaN</td>\n",
       "      <td>NaN</td>\n",
       "      <td>NaN</td>\n",
       "      <td>NaN</td>\n",
       "      <td>NaN</td>\n",
       "    </tr>\n",
       "    <tr>\n",
       "      <th>2011</th>\n",
       "      <td>59.65</td>\n",
       "      <td>26.18</td>\n",
       "      <td>143.84</td>\n",
       "      <td>0.45</td>\n",
       "      <td>156.78</td>\n",
       "      <td>17.82</td>\n",
       "      <td>35.03</td>\n",
       "      <td>NaN</td>\n",
       "      <td>NaN</td>\n",
       "      <td>NaN</td>\n",
       "      <td>NaN</td>\n",
       "      <td>63.20</td>\n",
       "      <td>4.63</td>\n",
       "      <td>NaN</td>\n",
       "      <td>NaN</td>\n",
       "      <td>NaN</td>\n",
       "    </tr>\n",
       "    <tr>\n",
       "      <th>2012</th>\n",
       "      <td>21.71</td>\n",
       "      <td>11.01</td>\n",
       "      <td>99.74</td>\n",
       "      <td>NaN</td>\n",
       "      <td>107.35</td>\n",
       "      <td>7.69</td>\n",
       "      <td>23.22</td>\n",
       "      <td>NaN</td>\n",
       "      <td>NaN</td>\n",
       "      <td>NaN</td>\n",
       "      <td>NaN</td>\n",
       "      <td>51.36</td>\n",
       "      <td>16.19</td>\n",
       "      <td>17.56</td>\n",
       "      <td>NaN</td>\n",
       "      <td>NaN</td>\n",
       "    </tr>\n",
       "    <tr>\n",
       "      <th>2013</th>\n",
       "      <td>8.59</td>\n",
       "      <td>1.54</td>\n",
       "      <td>88.58</td>\n",
       "      <td>NaN</td>\n",
       "      <td>113.25</td>\n",
       "      <td>3.14</td>\n",
       "      <td>12.38</td>\n",
       "      <td>NaN</td>\n",
       "      <td>NaN</td>\n",
       "      <td>NaN</td>\n",
       "      <td>NaN</td>\n",
       "      <td>56.57</td>\n",
       "      <td>10.59</td>\n",
       "      <td>21.65</td>\n",
       "      <td>25.99</td>\n",
       "      <td>18.96</td>\n",
       "    </tr>\n",
       "    <tr>\n",
       "      <th>2014</th>\n",
       "      <td>3.75</td>\n",
       "      <td>NaN</td>\n",
       "      <td>34.74</td>\n",
       "      <td>NaN</td>\n",
       "      <td>47.76</td>\n",
       "      <td>0.24</td>\n",
       "      <td>13.28</td>\n",
       "      <td>NaN</td>\n",
       "      <td>NaN</td>\n",
       "      <td>NaN</td>\n",
       "      <td>NaN</td>\n",
       "      <td>43.76</td>\n",
       "      <td>11.90</td>\n",
       "      <td>22.03</td>\n",
       "      <td>100.00</td>\n",
       "      <td>54.07</td>\n",
       "    </tr>\n",
       "    <tr>\n",
       "      <th>2015</th>\n",
       "      <td>1.14</td>\n",
       "      <td>NaN</td>\n",
       "      <td>11.96</td>\n",
       "      <td>NaN</td>\n",
       "      <td>16.82</td>\n",
       "      <td>0.12</td>\n",
       "      <td>8.52</td>\n",
       "      <td>NaN</td>\n",
       "      <td>NaN</td>\n",
       "      <td>NaN</td>\n",
       "      <td>NaN</td>\n",
       "      <td>27.78</td>\n",
       "      <td>6.25</td>\n",
       "      <td>16.35</td>\n",
       "      <td>118.90</td>\n",
       "      <td>60.14</td>\n",
       "    </tr>\n",
       "  </tbody>\n",
       "</table>\n",
       "</div>"
      ],
      "text/plain": [
       "platform     Wii      DS    X360    PS2     PS3    PSP     PC  GBA    XB  \\\n",
       "2007      152.77  146.94   95.41  75.99   73.19  46.93   9.28  3.4  0.55   \n",
       "2008      171.32  145.31  135.26  53.90  118.52  34.55  12.42  NaN  0.18   \n",
       "2009      206.97  119.54  120.29  26.40  130.93  37.78  16.91  NaN   NaN   \n",
       "2010      127.95   85.02  170.03   5.64  142.17  35.04  24.28  NaN   NaN   \n",
       "2011       59.65   26.18  143.84   0.45  156.78  17.82  35.03  NaN   NaN   \n",
       "2012       21.71   11.01   99.74    NaN  107.35   7.69  23.22  NaN   NaN   \n",
       "2013        8.59    1.54   88.58    NaN  113.25   3.14  12.38  NaN   NaN   \n",
       "2014        3.75     NaN   34.74    NaN   47.76   0.24  13.28  NaN   NaN   \n",
       "2015        1.14     NaN   11.96    NaN   16.82   0.12   8.52  NaN   NaN   \n",
       "\n",
       "platform    GC    DC    3DS    PSV   WiiU     PS4   XOne  \n",
       "2007      0.27  0.02    NaN    NaN    NaN     NaN    NaN  \n",
       "2008       NaN  0.04    NaN    NaN    NaN     NaN    NaN  \n",
       "2009       NaN   NaN    NaN    NaN    NaN     NaN    NaN  \n",
       "2010       NaN   NaN    NaN    NaN    NaN     NaN    NaN  \n",
       "2011       NaN   NaN  63.20   4.63    NaN     NaN    NaN  \n",
       "2012       NaN   NaN  51.36  16.19  17.56     NaN    NaN  \n",
       "2013       NaN   NaN  56.57  10.59  21.65   25.99  18.96  \n",
       "2014       NaN   NaN  43.76  11.90  22.03  100.00  54.07  \n",
       "2015       NaN   NaN  27.78   6.25  16.35  118.90  60.14  "
      ]
     },
     "execution_count": 45,
     "metadata": {},
     "output_type": "execute_result"
    }
   ],
   "source": [
    "df_sales_merged #оценим точные данные выручки от продаж по платформам"
   ]
  },
  {
   "cell_type": "markdown",
   "metadata": {},
   "source": [
    "Из графика и таблицы можно увидеть, что среди всех платформ  растут всего 2:\n",
    "- PS4\n",
    "- XOne"
   ]
  },
  {
   "cell_type": "markdown",
   "metadata": {},
   "source": [
    "***Промежуточный вывод.*** С учётом среднего прогнозируемого жизненного цикла платформы  10 лет, а также года начала жизненного цикла 2013 - это 2 наиболее перспективные платформы для продвижения продуктов. Возникновенипе платформы WiiU в 2012 показывает стабильно-низкую выручку в сравнении с PS4 и XOne. Другие платформы показывают низкие результаты и отражают завершение своего жизненного цикла."
   ]
  },
  {
   "cell_type": "markdown",
   "metadata": {},
   "source": [
    "Построим ящики с усами с разбивкой по перспективным платформам."
   ]
  },
  {
   "cell_type": "code",
   "execution_count": 46,
   "metadata": {},
   "outputs": [
    {
     "data": {
      "image/png": "[encoded data removed]",
      "text/plain": [
       "<Figure size 1224x360 with 3 Axes>"
      ]
     },
     "metadata": {
      "needs_background": "light"
     },
     "output_type": "display_data"
    }
   ],
   "source": [
    "df.columns = ['index', 'name', 'platform', 'year_of_release', 'genre', 'na_sales',\n",
    "       'eu_sales', 'jp_sales', 'other_sales', 'critic_score', 'user_score',\n",
    "       'rating', 'user_score_mean', 'total_sales']\n",
    "df.drop(['index'], axis = 1)\n",
    "\n",
    "df.index =  np.arange (len(df))\n",
    "df.drop(['index'], axis = 1)\n",
    "\n",
    "sales_ps4 = df.query('year_of_release >= 2005 & platform == \"PS4\"')['total_sales']\n",
    "sales_xone = df.query('year_of_release >= 2005 & platform == \"XOne\"')['total_sales']\n",
    "sales_wiiu = df.query('year_of_release >= 2005 & platform == \"WiiU\"')['total_sales']\n",
    "\n",
    "\n",
    "plt.figure(figsize=(17,5))\n",
    "plt.subplots_adjust(hspace=1.4)\n",
    "plt.subplot(3, 1, 1)\n",
    "plt.xlim(right=3)\n",
    "sns.boxplot(sales_ps4, color = 'darkseagreen')\n",
    "plt.title('PS4')\n",
    "\n",
    "plt.subplot(3, 1, 2)\n",
    "plt.xlim(right=3)\n",
    "sns.boxplot(sales_xone, color = 'darkseagreen')\n",
    "plt.title('XOne')\n",
    "\n",
    "plt.subplot(3, 1, 3)\n",
    "plt.xlim(right=3)\n",
    "sns.boxplot(sales_wiiu, color = 'darkseagreen')\n",
    "plt.title('Wiiu')\n",
    "\n",
    "plt.show()\n",
    "\n",
    "#df = df.drop(['index'], axis = 1)\n",
    "#df.reset_index()"
   ]
  },
  {
   "cell_type": "markdown",
   "metadata": {},
   "source": [
    "a1=a[['kCH4_sync','week_days']]\n",
    "ax = a1.boxplot(by='week_days', meanline=True, showmeans=True, showcaps=True, \n",
    "                showbox=True, showfliers=False, return_type='axes')\n",
    "a2 = a[['CH4_sync','week_days']]\n",
    "a2.boxplot(by='week_days', meanline=True, showmeans=True, showcaps=True, \n",
    "           showbox=True, showfliers=False, ax=ax)"
   ]
  },
  {
   "cell_type": "code",
   "execution_count": 47,
   "metadata": {},
   "outputs": [
    {
     "data": {
      "image/png": "[encoded data removed]",
      "text/plain": [
       "<Figure size 1224x576 with 1 Axes>"
      ]
     },
     "metadata": {
      "needs_background": "light"
     },
     "output_type": "display_data"
    }
   ],
   "source": [
    "boxplot_frame = pd.concat([sales_ps4,sales_xone,sales_wiiu], join = 'outer', axis = 1)\n",
    "boxplot_frame.columns = ['ps4','xone','wiiu']\n",
    "\n",
    "plt.figure(figsize=(17,8))\n",
    "plt.title('boxplot_sales')\n",
    "plt.ylabel('miliion_sales')\n",
    "boxplot_frame.boxplot()\n",
    "\n",
    "plt.show()"
   ]
  },
  {
   "cell_type": "markdown",
   "metadata": {},
   "source": [
    "***Промежуточный вывод*** Анализ размаха данных по перспективным платформам показал, сопоставимые медианные значения продаж. При этом вероятные бестселлеры платформ PS4, XOne создают ширину размаха по продажам и, как следствие, высокие суммарные и среднеарифметические значения. При этом платформа несмотря на сравнительно низкие показатели суммарной реализации Wiiu даёт более стабильный и предсказуемый результат с небольшим размахом и минимальными выбросами."
   ]
  },
  {
   "cell_type": "markdown",
   "metadata": {},
   "source": [
    "Оценим влияние рейтинга на продажи. Для этого сделаем запрос из фрейма по соответствующему услови"
   ]
  },
  {
   "cell_type": "code",
   "execution_count": 48,
   "metadata": {},
   "outputs": [
    {
     "data": {
      "text/html": [
       "<div>\n",
       "<style scoped>\n",
       "    .dataframe tbody tr th:only-of-type {\n",
       "        vertical-align: middle;\n",
       "    }\n",
       "\n",
       "    .dataframe tbody tr th {\n",
       "        vertical-align: top;\n",
       "    }\n",
       "\n",
       "    .dataframe thead th {\n",
       "        text-align: right;\n",
       "    }\n",
       "</style>\n",
       "<table border=\"1\" class=\"dataframe\">\n",
       "  <thead>\n",
       "    <tr style=\"text-align: right;\">\n",
       "      <th></th>\n",
       "      <th>index</th>\n",
       "      <th>year_of_release</th>\n",
       "      <th>na_sales</th>\n",
       "      <th>eu_sales</th>\n",
       "      <th>jp_sales</th>\n",
       "      <th>other_sales</th>\n",
       "      <th>critic_score</th>\n",
       "      <th>user_score</th>\n",
       "      <th>user_score_mean</th>\n",
       "      <th>total_sales</th>\n",
       "    </tr>\n",
       "  </thead>\n",
       "  <tbody>\n",
       "    <tr>\n",
       "      <th>index</th>\n",
       "      <td>1.000000</td>\n",
       "      <td>0.403478</td>\n",
       "      <td>-0.571834</td>\n",
       "      <td>-0.539874</td>\n",
       "      <td>-0.362466</td>\n",
       "      <td>-0.586871</td>\n",
       "      <td>0.070961</td>\n",
       "      <td>-0.475973</td>\n",
       "      <td>0.069198</td>\n",
       "      <td>-0.587864</td>\n",
       "    </tr>\n",
       "    <tr>\n",
       "      <th>year_of_release</th>\n",
       "      <td>0.403478</td>\n",
       "      <td>1.000000</td>\n",
       "      <td>-0.248961</td>\n",
       "      <td>-0.208306</td>\n",
       "      <td>-0.060993</td>\n",
       "      <td>-0.234796</td>\n",
       "      <td>0.112309</td>\n",
       "      <td>-0.033614</td>\n",
       "      <td>0.111802</td>\n",
       "      <td>-0.235032</td>\n",
       "    </tr>\n",
       "    <tr>\n",
       "      <th>na_sales</th>\n",
       "      <td>-0.571834</td>\n",
       "      <td>-0.248961</td>\n",
       "      <td>1.000000</td>\n",
       "      <td>0.785362</td>\n",
       "      <td>0.472981</td>\n",
       "      <td>0.944259</td>\n",
       "      <td>-0.152004</td>\n",
       "      <td>0.399110</td>\n",
       "      <td>-0.153656</td>\n",
       "      <td>0.928160</td>\n",
       "    </tr>\n",
       "    <tr>\n",
       "      <th>eu_sales</th>\n",
       "      <td>-0.539874</td>\n",
       "      <td>-0.208306</td>\n",
       "      <td>0.785362</td>\n",
       "      <td>1.000000</td>\n",
       "      <td>0.464563</td>\n",
       "      <td>0.944698</td>\n",
       "      <td>-0.159060</td>\n",
       "      <td>0.332401</td>\n",
       "      <td>-0.160542</td>\n",
       "      <td>0.958157</td>\n",
       "    </tr>\n",
       "    <tr>\n",
       "      <th>jp_sales</th>\n",
       "      <td>-0.362466</td>\n",
       "      <td>-0.060993</td>\n",
       "      <td>0.472981</td>\n",
       "      <td>0.464563</td>\n",
       "      <td>1.000000</td>\n",
       "      <td>0.496467</td>\n",
       "      <td>0.102102</td>\n",
       "      <td>0.318601</td>\n",
       "      <td>0.099866</td>\n",
       "      <td>0.527129</td>\n",
       "    </tr>\n",
       "    <tr>\n",
       "      <th>other_sales</th>\n",
       "      <td>-0.586871</td>\n",
       "      <td>-0.234796</td>\n",
       "      <td>0.944259</td>\n",
       "      <td>0.944698</td>\n",
       "      <td>0.496467</td>\n",
       "      <td>1.000000</td>\n",
       "      <td>-0.164608</td>\n",
       "      <td>0.392042</td>\n",
       "      <td>-0.166263</td>\n",
       "      <td>0.998051</td>\n",
       "    </tr>\n",
       "    <tr>\n",
       "      <th>critic_score</th>\n",
       "      <td>0.070961</td>\n",
       "      <td>0.112309</td>\n",
       "      <td>-0.152004</td>\n",
       "      <td>-0.159060</td>\n",
       "      <td>0.102102</td>\n",
       "      <td>-0.164608</td>\n",
       "      <td>1.000000</td>\n",
       "      <td>0.472372</td>\n",
       "      <td>0.999713</td>\n",
       "      <td>-0.159062</td>\n",
       "    </tr>\n",
       "    <tr>\n",
       "      <th>user_score</th>\n",
       "      <td>-0.475973</td>\n",
       "      <td>-0.033614</td>\n",
       "      <td>0.399110</td>\n",
       "      <td>0.332401</td>\n",
       "      <td>0.318601</td>\n",
       "      <td>0.392042</td>\n",
       "      <td>0.472372</td>\n",
       "      <td>1.000000</td>\n",
       "      <td>0.470928</td>\n",
       "      <td>0.389949</td>\n",
       "    </tr>\n",
       "    <tr>\n",
       "      <th>user_score_mean</th>\n",
       "      <td>0.069198</td>\n",
       "      <td>0.111802</td>\n",
       "      <td>-0.153656</td>\n",
       "      <td>-0.160542</td>\n",
       "      <td>0.099866</td>\n",
       "      <td>-0.166263</td>\n",
       "      <td>0.999713</td>\n",
       "      <td>0.470928</td>\n",
       "      <td>1.000000</td>\n",
       "      <td>-0.160775</td>\n",
       "    </tr>\n",
       "    <tr>\n",
       "      <th>total_sales</th>\n",
       "      <td>-0.587864</td>\n",
       "      <td>-0.235032</td>\n",
       "      <td>0.928160</td>\n",
       "      <td>0.958157</td>\n",
       "      <td>0.527129</td>\n",
       "      <td>0.998051</td>\n",
       "      <td>-0.159062</td>\n",
       "      <td>0.389949</td>\n",
       "      <td>-0.160775</td>\n",
       "      <td>1.000000</td>\n",
       "    </tr>\n",
       "  </tbody>\n",
       "</table>\n",
       "</div>"
      ],
      "text/plain": [
       "                    index  year_of_release  na_sales  eu_sales  jp_sales  \\\n",
       "index            1.000000         0.403478 -0.571834 -0.539874 -0.362466   \n",
       "year_of_release  0.403478         1.000000 -0.248961 -0.208306 -0.060993   \n",
       "na_sales        -0.571834        -0.248961  1.000000  0.785362  0.472981   \n",
       "eu_sales        -0.539874        -0.208306  0.785362  1.000000  0.464563   \n",
       "jp_sales        -0.362466        -0.060993  0.472981  0.464563  1.000000   \n",
       "other_sales     -0.586871        -0.234796  0.944259  0.944698  0.496467   \n",
       "critic_score     0.070961         0.112309 -0.152004 -0.159060  0.102102   \n",
       "user_score      -0.475973        -0.033614  0.399110  0.332401  0.318601   \n",
       "user_score_mean  0.069198         0.111802 -0.153656 -0.160542  0.099866   \n",
       "total_sales     -0.587864        -0.235032  0.928160  0.958157  0.527129   \n",
       "\n",
       "                 other_sales  critic_score  user_score  user_score_mean  \\\n",
       "index              -0.586871      0.070961   -0.475973         0.069198   \n",
       "year_of_release    -0.234796      0.112309   -0.033614         0.111802   \n",
       "na_sales            0.944259     -0.152004    0.399110        -0.153656   \n",
       "eu_sales            0.944698     -0.159060    0.332401        -0.160542   \n",
       "jp_sales            0.496467      0.102102    0.318601         0.099866   \n",
       "other_sales         1.000000     -0.164608    0.392042        -0.166263   \n",
       "critic_score       -0.164608      1.000000    0.472372         0.999713   \n",
       "user_score          0.392042      0.472372    1.000000         0.470928   \n",
       "user_score_mean    -0.166263      0.999713    0.470928         1.000000   \n",
       "total_sales         0.998051     -0.159062    0.389949        -0.160775   \n",
       "\n",
       "                 total_sales  \n",
       "index              -0.587864  \n",
       "year_of_release    -0.235032  \n",
       "na_sales            0.928160  \n",
       "eu_sales            0.958157  \n",
       "jp_sales            0.527129  \n",
       "other_sales         0.998051  \n",
       "critic_score       -0.159062  \n",
       "user_score          0.389949  \n",
       "user_score_mean    -0.160775  \n",
       "total_sales         1.000000  "
      ]
     },
     "execution_count": 48,
     "metadata": {},
     "output_type": "execute_result"
    }
   ],
   "source": [
    "ps4_2005 = df.query('platform == \"PS4\" & year_of_release >= 2005')\n",
    "ps4_2005.corr()"
   ]
  },
  {
   "cell_type": "markdown",
   "metadata": {},
   "source": [
    "Присутствует слабая корелляция Пирсона (0.39) между рейтингом и величиной выручки. Это говорит о присутствии влияния положительных оценок от величины продаж."
   ]
  },
  {
   "cell_type": "code",
   "execution_count": 49,
   "metadata": {},
   "outputs": [
    {
     "data": {
      "image/png": "[encoded data removed]",
      "text/plain": [
       "<Figure size 432x288 with 1 Axes>"
      ]
     },
     "metadata": {
      "needs_background": "light"
     },
     "output_type": "display_data"
    }
   ],
   "source": [
    "\n",
    "plt.scatter(x = ps4_2005['user_score'], y = ps4_2005['total_sales'], color = 'green', alpha = 0.6)\n",
    "\n",
    "plt.title('user_score and sales scatter')\n",
    "plt.xlabel('score')\n",
    "plt.ylabel('sales')\n",
    "\n",
    "plt.show()"
   ]
  },
  {
   "cell_type": "markdown",
   "metadata": {},
   "source": [
    "Данные показывают зависимость оценки от цены, при этом выброс (верхний левый угол) - феномен сверхпопулярности GTA-5. Это аномалия подтверждающая предположение. Как видно на графике - игры с низким рейтингом не делают выручку."
   ]
  },
  {
   "cell_type": "code",
   "execution_count": 50,
   "metadata": {},
   "outputs": [
    {
     "data": {
      "image/png": "[encoded data removed]",
      "text/plain": [
       "<Figure size 432x288 with 1 Axes>"
      ]
     },
     "metadata": {
      "needs_background": "light"
     },
     "output_type": "display_data"
    }
   ],
   "source": [
    "ps4_2005['critic_score'] = ps4_2005['critic_score']*10\n",
    "plt.scatter(x = ps4_2005['user_score'], y = ps4_2005['total_sales'], color = 'red', alpha = 0.6)\n",
    "\n",
    "plt.show()"
   ]
  },
  {
   "cell_type": "markdown",
   "metadata": {},
   "source": [
    "Как видно, критики показывают похожее рассеяние. GTA5 также на месте."
   ]
  },
  {
   "cell_type": "markdown",
   "metadata": {},
   "source": [
    "Для соотнесения этого предположения с другими платформами, найдём коэффициенты корелляции Пирсона для XOne и WiiU"
   ]
  },
  {
   "cell_type": "code",
   "execution_count": 51,
   "metadata": {},
   "outputs": [
    {
     "data": {
      "text/html": [
       "<div>\n",
       "<style scoped>\n",
       "    .dataframe tbody tr th:only-of-type {\n",
       "        vertical-align: middle;\n",
       "    }\n",
       "\n",
       "    .dataframe tbody tr th {\n",
       "        vertical-align: top;\n",
       "    }\n",
       "\n",
       "    .dataframe thead th {\n",
       "        text-align: right;\n",
       "    }\n",
       "</style>\n",
       "<table border=\"1\" class=\"dataframe\">\n",
       "  <thead>\n",
       "    <tr style=\"text-align: right;\">\n",
       "      <th></th>\n",
       "      <th>index</th>\n",
       "      <th>year_of_release</th>\n",
       "      <th>na_sales</th>\n",
       "      <th>eu_sales</th>\n",
       "      <th>jp_sales</th>\n",
       "      <th>other_sales</th>\n",
       "      <th>critic_score</th>\n",
       "      <th>user_score</th>\n",
       "      <th>user_score_mean</th>\n",
       "      <th>total_sales</th>\n",
       "    </tr>\n",
       "  </thead>\n",
       "  <tbody>\n",
       "    <tr>\n",
       "      <th>index</th>\n",
       "      <td>1.000000</td>\n",
       "      <td>0.355203</td>\n",
       "      <td>-0.547957</td>\n",
       "      <td>-0.526000</td>\n",
       "      <td>-0.225341</td>\n",
       "      <td>-0.571041</td>\n",
       "      <td>0.022869</td>\n",
       "      <td>-0.500501</td>\n",
       "      <td>0.046341</td>\n",
       "      <td>-0.571997</td>\n",
       "    </tr>\n",
       "    <tr>\n",
       "      <th>year_of_release</th>\n",
       "      <td>0.355203</td>\n",
       "      <td>1.000000</td>\n",
       "      <td>-0.242667</td>\n",
       "      <td>-0.194925</td>\n",
       "      <td>-0.127050</td>\n",
       "      <td>-0.243414</td>\n",
       "      <td>0.126919</td>\n",
       "      <td>0.024853</td>\n",
       "      <td>0.140614</td>\n",
       "      <td>-0.239183</td>\n",
       "    </tr>\n",
       "    <tr>\n",
       "      <th>na_sales</th>\n",
       "      <td>-0.547957</td>\n",
       "      <td>-0.242667</td>\n",
       "      <td>1.000000</td>\n",
       "      <td>0.765367</td>\n",
       "      <td>0.425725</td>\n",
       "      <td>0.988088</td>\n",
       "      <td>-0.157228</td>\n",
       "      <td>0.377418</td>\n",
       "      <td>-0.169168</td>\n",
       "      <td>0.970433</td>\n",
       "    </tr>\n",
       "    <tr>\n",
       "      <th>eu_sales</th>\n",
       "      <td>-0.526000</td>\n",
       "      <td>-0.194925</td>\n",
       "      <td>0.765367</td>\n",
       "      <td>1.000000</td>\n",
       "      <td>0.421071</td>\n",
       "      <td>0.852986</td>\n",
       "      <td>-0.129749</td>\n",
       "      <td>0.370575</td>\n",
       "      <td>-0.140747</td>\n",
       "      <td>0.898045</td>\n",
       "    </tr>\n",
       "    <tr>\n",
       "      <th>jp_sales</th>\n",
       "      <td>-0.225341</td>\n",
       "      <td>-0.127050</td>\n",
       "      <td>0.425725</td>\n",
       "      <td>0.421071</td>\n",
       "      <td>1.000000</td>\n",
       "      <td>0.441717</td>\n",
       "      <td>0.050632</td>\n",
       "      <td>0.202911</td>\n",
       "      <td>0.043380</td>\n",
       "      <td>0.452701</td>\n",
       "    </tr>\n",
       "    <tr>\n",
       "      <th>other_sales</th>\n",
       "      <td>-0.571041</td>\n",
       "      <td>-0.243414</td>\n",
       "      <td>0.988088</td>\n",
       "      <td>0.852986</td>\n",
       "      <td>0.441717</td>\n",
       "      <td>1.000000</td>\n",
       "      <td>-0.159040</td>\n",
       "      <td>0.400022</td>\n",
       "      <td>-0.171309</td>\n",
       "      <td>0.995238</td>\n",
       "    </tr>\n",
       "    <tr>\n",
       "      <th>critic_score</th>\n",
       "      <td>0.022869</td>\n",
       "      <td>0.126919</td>\n",
       "      <td>-0.157228</td>\n",
       "      <td>-0.129749</td>\n",
       "      <td>0.050632</td>\n",
       "      <td>-0.159040</td>\n",
       "      <td>1.000000</td>\n",
       "      <td>0.476380</td>\n",
       "      <td>0.999684</td>\n",
       "      <td>-0.157854</td>\n",
       "    </tr>\n",
       "    <tr>\n",
       "      <th>user_score</th>\n",
       "      <td>-0.500501</td>\n",
       "      <td>0.024853</td>\n",
       "      <td>0.377418</td>\n",
       "      <td>0.370575</td>\n",
       "      <td>0.202911</td>\n",
       "      <td>0.400022</td>\n",
       "      <td>0.476380</td>\n",
       "      <td>1.000000</td>\n",
       "      <td>0.471978</td>\n",
       "      <td>0.404146</td>\n",
       "    </tr>\n",
       "    <tr>\n",
       "      <th>user_score_mean</th>\n",
       "      <td>0.046341</td>\n",
       "      <td>0.140614</td>\n",
       "      <td>-0.169168</td>\n",
       "      <td>-0.140747</td>\n",
       "      <td>0.043380</td>\n",
       "      <td>-0.171309</td>\n",
       "      <td>0.999684</td>\n",
       "      <td>0.471978</td>\n",
       "      <td>1.000000</td>\n",
       "      <td>-0.170257</td>\n",
       "    </tr>\n",
       "    <tr>\n",
       "      <th>total_sales</th>\n",
       "      <td>-0.571997</td>\n",
       "      <td>-0.239183</td>\n",
       "      <td>0.970433</td>\n",
       "      <td>0.898045</td>\n",
       "      <td>0.452701</td>\n",
       "      <td>0.995238</td>\n",
       "      <td>-0.157854</td>\n",
       "      <td>0.404146</td>\n",
       "      <td>-0.170257</td>\n",
       "      <td>1.000000</td>\n",
       "    </tr>\n",
       "  </tbody>\n",
       "</table>\n",
       "</div>"
      ],
      "text/plain": [
       "                    index  year_of_release  na_sales  eu_sales  jp_sales  \\\n",
       "index            1.000000         0.355203 -0.547957 -0.526000 -0.225341   \n",
       "year_of_release  0.355203         1.000000 -0.242667 -0.194925 -0.127050   \n",
       "na_sales        -0.547957        -0.242667  1.000000  0.765367  0.425725   \n",
       "eu_sales        -0.526000        -0.194925  0.765367  1.000000  0.421071   \n",
       "jp_sales        -0.225341        -0.127050  0.425725  0.421071  1.000000   \n",
       "other_sales     -0.571041        -0.243414  0.988088  0.852986  0.441717   \n",
       "critic_score     0.022869         0.126919 -0.157228 -0.129749  0.050632   \n",
       "user_score      -0.500501         0.024853  0.377418  0.370575  0.202911   \n",
       "user_score_mean  0.046341         0.140614 -0.169168 -0.140747  0.043380   \n",
       "total_sales     -0.571997        -0.239183  0.970433  0.898045  0.452701   \n",
       "\n",
       "                 other_sales  critic_score  user_score  user_score_mean  \\\n",
       "index              -0.571041      0.022869   -0.500501         0.046341   \n",
       "year_of_release    -0.243414      0.126919    0.024853         0.140614   \n",
       "na_sales            0.988088     -0.157228    0.377418        -0.169168   \n",
       "eu_sales            0.852986     -0.129749    0.370575        -0.140747   \n",
       "jp_sales            0.441717      0.050632    0.202911         0.043380   \n",
       "other_sales         1.000000     -0.159040    0.400022        -0.171309   \n",
       "critic_score       -0.159040      1.000000    0.476380         0.999684   \n",
       "user_score          0.400022      0.476380    1.000000         0.471978   \n",
       "user_score_mean    -0.171309      0.999684    0.471978         1.000000   \n",
       "total_sales         0.995238     -0.157854    0.404146        -0.170257   \n",
       "\n",
       "                 total_sales  \n",
       "index              -0.571997  \n",
       "year_of_release    -0.239183  \n",
       "na_sales            0.970433  \n",
       "eu_sales            0.898045  \n",
       "jp_sales            0.452701  \n",
       "other_sales         0.995238  \n",
       "critic_score       -0.157854  \n",
       "user_score          0.404146  \n",
       "user_score_mean    -0.170257  \n",
       "total_sales         1.000000  "
      ]
     },
     "execution_count": 51,
     "metadata": {},
     "output_type": "execute_result"
    }
   ],
   "source": [
    "xone_2005 = df.query('platform == \"XOne\" & year_of_release >= 2005')\n",
    "xone_2005.corr()"
   ]
  },
  {
   "cell_type": "code",
   "execution_count": 52,
   "metadata": {},
   "outputs": [
    {
     "data": {
      "text/html": [
       "<div>\n",
       "<style scoped>\n",
       "    .dataframe tbody tr th:only-of-type {\n",
       "        vertical-align: middle;\n",
       "    }\n",
       "\n",
       "    .dataframe tbody tr th {\n",
       "        vertical-align: top;\n",
       "    }\n",
       "\n",
       "    .dataframe thead th {\n",
       "        text-align: right;\n",
       "    }\n",
       "</style>\n",
       "<table border=\"1\" class=\"dataframe\">\n",
       "  <thead>\n",
       "    <tr style=\"text-align: right;\">\n",
       "      <th></th>\n",
       "      <th>index</th>\n",
       "      <th>year_of_release</th>\n",
       "      <th>na_sales</th>\n",
       "      <th>eu_sales</th>\n",
       "      <th>jp_sales</th>\n",
       "      <th>other_sales</th>\n",
       "      <th>critic_score</th>\n",
       "      <th>user_score</th>\n",
       "      <th>user_score_mean</th>\n",
       "      <th>total_sales</th>\n",
       "    </tr>\n",
       "  </thead>\n",
       "  <tbody>\n",
       "    <tr>\n",
       "      <th>index</th>\n",
       "      <td>1.000000</td>\n",
       "      <td>0.207170</td>\n",
       "      <td>-0.463960</td>\n",
       "      <td>-0.505328</td>\n",
       "      <td>-0.332335</td>\n",
       "      <td>-0.478675</td>\n",
       "      <td>-0.308696</td>\n",
       "      <td>-0.475579</td>\n",
       "      <td>-0.274281</td>\n",
       "      <td>-0.464195</td>\n",
       "    </tr>\n",
       "    <tr>\n",
       "      <th>year_of_release</th>\n",
       "      <td>0.207170</td>\n",
       "      <td>1.000000</td>\n",
       "      <td>-0.040385</td>\n",
       "      <td>-0.013585</td>\n",
       "      <td>0.031670</td>\n",
       "      <td>-0.014133</td>\n",
       "      <td>0.086424</td>\n",
       "      <td>0.040915</td>\n",
       "      <td>0.111855</td>\n",
       "      <td>-0.016573</td>\n",
       "    </tr>\n",
       "    <tr>\n",
       "      <th>na_sales</th>\n",
       "      <td>-0.463960</td>\n",
       "      <td>-0.040385</td>\n",
       "      <td>1.000000</td>\n",
       "      <td>0.958772</td>\n",
       "      <td>0.808387</td>\n",
       "      <td>0.994516</td>\n",
       "      <td>0.381043</td>\n",
       "      <td>0.349033</td>\n",
       "      <td>0.362051</td>\n",
       "      <td>0.982155</td>\n",
       "    </tr>\n",
       "    <tr>\n",
       "      <th>eu_sales</th>\n",
       "      <td>-0.505328</td>\n",
       "      <td>-0.013585</td>\n",
       "      <td>0.958772</td>\n",
       "      <td>1.000000</td>\n",
       "      <td>0.860098</td>\n",
       "      <td>0.976412</td>\n",
       "      <td>0.413020</td>\n",
       "      <td>0.380803</td>\n",
       "      <td>0.394227</td>\n",
       "      <td>0.984567</td>\n",
       "    </tr>\n",
       "    <tr>\n",
       "      <th>jp_sales</th>\n",
       "      <td>-0.332335</td>\n",
       "      <td>0.031670</td>\n",
       "      <td>0.808387</td>\n",
       "      <td>0.860098</td>\n",
       "      <td>1.000000</td>\n",
       "      <td>0.824345</td>\n",
       "      <td>0.356608</td>\n",
       "      <td>0.268819</td>\n",
       "      <td>0.342588</td>\n",
       "      <td>0.895940</td>\n",
       "    </tr>\n",
       "    <tr>\n",
       "      <th>other_sales</th>\n",
       "      <td>-0.478675</td>\n",
       "      <td>-0.014133</td>\n",
       "      <td>0.994516</td>\n",
       "      <td>0.976412</td>\n",
       "      <td>0.824345</td>\n",
       "      <td>1.000000</td>\n",
       "      <td>0.399857</td>\n",
       "      <td>0.364926</td>\n",
       "      <td>0.380664</td>\n",
       "      <td>0.988421</td>\n",
       "    </tr>\n",
       "    <tr>\n",
       "      <th>critic_score</th>\n",
       "      <td>-0.308696</td>\n",
       "      <td>0.086424</td>\n",
       "      <td>0.381043</td>\n",
       "      <td>0.413020</td>\n",
       "      <td>0.356608</td>\n",
       "      <td>0.399857</td>\n",
       "      <td>1.000000</td>\n",
       "      <td>0.774258</td>\n",
       "      <td>0.999685</td>\n",
       "      <td>0.398746</td>\n",
       "    </tr>\n",
       "    <tr>\n",
       "      <th>user_score</th>\n",
       "      <td>-0.475579</td>\n",
       "      <td>0.040915</td>\n",
       "      <td>0.349033</td>\n",
       "      <td>0.380803</td>\n",
       "      <td>0.268819</td>\n",
       "      <td>0.364926</td>\n",
       "      <td>0.774258</td>\n",
       "      <td>1.000000</td>\n",
       "      <td>0.772670</td>\n",
       "      <td>0.352575</td>\n",
       "    </tr>\n",
       "    <tr>\n",
       "      <th>user_score_mean</th>\n",
       "      <td>-0.274281</td>\n",
       "      <td>0.111855</td>\n",
       "      <td>0.362051</td>\n",
       "      <td>0.394227</td>\n",
       "      <td>0.342588</td>\n",
       "      <td>0.380664</td>\n",
       "      <td>0.999685</td>\n",
       "      <td>0.772670</td>\n",
       "      <td>1.000000</td>\n",
       "      <td>0.380249</td>\n",
       "    </tr>\n",
       "    <tr>\n",
       "      <th>total_sales</th>\n",
       "      <td>-0.464195</td>\n",
       "      <td>-0.016573</td>\n",
       "      <td>0.982155</td>\n",
       "      <td>0.984567</td>\n",
       "      <td>0.895940</td>\n",
       "      <td>0.988421</td>\n",
       "      <td>0.398746</td>\n",
       "      <td>0.352575</td>\n",
       "      <td>0.380249</td>\n",
       "      <td>1.000000</td>\n",
       "    </tr>\n",
       "  </tbody>\n",
       "</table>\n",
       "</div>"
      ],
      "text/plain": [
       "                    index  year_of_release  na_sales  eu_sales  jp_sales  \\\n",
       "index            1.000000         0.207170 -0.463960 -0.505328 -0.332335   \n",
       "year_of_release  0.207170         1.000000 -0.040385 -0.013585  0.031670   \n",
       "na_sales        -0.463960        -0.040385  1.000000  0.958772  0.808387   \n",
       "eu_sales        -0.505328        -0.013585  0.958772  1.000000  0.860098   \n",
       "jp_sales        -0.332335         0.031670  0.808387  0.860098  1.000000   \n",
       "other_sales     -0.478675        -0.014133  0.994516  0.976412  0.824345   \n",
       "critic_score    -0.308696         0.086424  0.381043  0.413020  0.356608   \n",
       "user_score      -0.475579         0.040915  0.349033  0.380803  0.268819   \n",
       "user_score_mean -0.274281         0.111855  0.362051  0.394227  0.342588   \n",
       "total_sales     -0.464195        -0.016573  0.982155  0.984567  0.895940   \n",
       "\n",
       "                 other_sales  critic_score  user_score  user_score_mean  \\\n",
       "index              -0.478675     -0.308696   -0.475579        -0.274281   \n",
       "year_of_release    -0.014133      0.086424    0.040915         0.111855   \n",
       "na_sales            0.994516      0.381043    0.349033         0.362051   \n",
       "eu_sales            0.976412      0.413020    0.380803         0.394227   \n",
       "jp_sales            0.824345      0.356608    0.268819         0.342588   \n",
       "other_sales         1.000000      0.399857    0.364926         0.380664   \n",
       "critic_score        0.399857      1.000000    0.774258         0.999685   \n",
       "user_score          0.364926      0.774258    1.000000         0.772670   \n",
       "user_score_mean     0.380664      0.999685    0.772670         1.000000   \n",
       "total_sales         0.988421      0.398746    0.352575         0.380249   \n",
       "\n",
       "                 total_sales  \n",
       "index              -0.464195  \n",
       "year_of_release    -0.016573  \n",
       "na_sales            0.982155  \n",
       "eu_sales            0.984567  \n",
       "jp_sales            0.895940  \n",
       "other_sales         0.988421  \n",
       "critic_score        0.398746  \n",
       "user_score          0.352575  \n",
       "user_score_mean     0.380249  \n",
       "total_sales         1.000000  "
      ]
     },
     "execution_count": 52,
     "metadata": {},
     "output_type": "execute_result"
    }
   ],
   "source": [
    "wiiu_2005 = df.query('platform == \"WiiU\" & year_of_release >= 2005')\n",
    "wiiu_2005.corr()"
   ]
  },
  {
   "cell_type": "markdown",
   "metadata": {},
   "source": [
    "***Промежуточный вывод:*** Анализ корелляций Пирсона на платформах XOne и WiiU показал, похожие результаты (0.4 и 0.35 соответственно). Это говорит о присутствии связи между оценкой пользователями продуктов и продажами."
   ]
  },
  {
   "cell_type": "code",
   "execution_count": 53,
   "metadata": {},
   "outputs": [
    {
     "data": {
      "text/html": [
       "<div>\n",
       "<style scoped>\n",
       "    .dataframe tbody tr th:only-of-type {\n",
       "        vertical-align: middle;\n",
       "    }\n",
       "\n",
       "    .dataframe tbody tr th {\n",
       "        vertical-align: top;\n",
       "    }\n",
       "\n",
       "    .dataframe thead th {\n",
       "        text-align: right;\n",
       "    }\n",
       "</style>\n",
       "<table border=\"1\" class=\"dataframe\">\n",
       "  <thead>\n",
       "    <tr style=\"text-align: right;\">\n",
       "      <th></th>\n",
       "      <th>genre</th>\n",
       "      <th>sum_sales</th>\n",
       "      <th>mean_sales</th>\n",
       "    </tr>\n",
       "  </thead>\n",
       "  <tbody>\n",
       "    <tr>\n",
       "      <th>0</th>\n",
       "      <td>Action</td>\n",
       "      <td>1202.04</td>\n",
       "      <td>0.466993</td>\n",
       "    </tr>\n",
       "    <tr>\n",
       "      <th>10</th>\n",
       "      <td>Sports</td>\n",
       "      <td>853.33</td>\n",
       "      <td>0.617460</td>\n",
       "    </tr>\n",
       "    <tr>\n",
       "      <th>8</th>\n",
       "      <td>Shooter</td>\n",
       "      <td>758.56</td>\n",
       "      <td>0.910636</td>\n",
       "    </tr>\n",
       "    <tr>\n",
       "      <th>3</th>\n",
       "      <td>Misc</td>\n",
       "      <td>615.83</td>\n",
       "      <td>0.450168</td>\n",
       "    </tr>\n",
       "    <tr>\n",
       "      <th>7</th>\n",
       "      <td>Role-Playing</td>\n",
       "      <td>550.78</td>\n",
       "      <td>0.516195</td>\n",
       "    </tr>\n",
       "    <tr>\n",
       "      <th>6</th>\n",
       "      <td>Racing</td>\n",
       "      <td>355.03</td>\n",
       "      <td>0.556473</td>\n",
       "    </tr>\n",
       "    <tr>\n",
       "      <th>4</th>\n",
       "      <td>Platform</td>\n",
       "      <td>303.06</td>\n",
       "      <td>0.716454</td>\n",
       "    </tr>\n",
       "    <tr>\n",
       "      <th>9</th>\n",
       "      <td>Simulation</td>\n",
       "      <td>269.62</td>\n",
       "      <td>0.418665</td>\n",
       "    </tr>\n",
       "    <tr>\n",
       "      <th>2</th>\n",
       "      <td>Fighting</td>\n",
       "      <td>208.07</td>\n",
       "      <td>0.456294</td>\n",
       "    </tr>\n",
       "    <tr>\n",
       "      <th>1</th>\n",
       "      <td>Adventure</td>\n",
       "      <td>149.81</td>\n",
       "      <td>0.140667</td>\n",
       "    </tr>\n",
       "    <tr>\n",
       "      <th>5</th>\n",
       "      <td>Puzzle</td>\n",
       "      <td>110.28</td>\n",
       "      <td>0.276391</td>\n",
       "    </tr>\n",
       "    <tr>\n",
       "      <th>11</th>\n",
       "      <td>Strategy</td>\n",
       "      <td>78.42</td>\n",
       "      <td>0.185829</td>\n",
       "    </tr>\n",
       "  </tbody>\n",
       "</table>\n",
       "</div>"
      ],
      "text/plain": [
       "           genre  sum_sales  mean_sales\n",
       "0         Action    1202.04    0.466993\n",
       "10        Sports     853.33    0.617460\n",
       "8        Shooter     758.56    0.910636\n",
       "3           Misc     615.83    0.450168\n",
       "7   Role-Playing     550.78    0.516195\n",
       "6         Racing     355.03    0.556473\n",
       "4       Platform     303.06    0.716454\n",
       "9     Simulation     269.62    0.418665\n",
       "2       Fighting     208.07    0.456294\n",
       "1      Adventure     149.81    0.140667\n",
       "5         Puzzle     110.28    0.276391\n",
       "11      Strategy      78.42    0.185829"
      ]
     },
     "execution_count": 53,
     "metadata": {},
     "output_type": "execute_result"
    }
   ],
   "source": [
    "df_2005 = df.query('year_of_release >= 2005').pivot_table(index = 'genre', values = 'total_sales', aggfunc = ['sum' , 'mean']).reset_index()\n",
    "df_2005.columns = ['genre','sum_sales','mean_sales']\n",
    "df_2005.sort_values(by = 'sum_sales', ascending = False)"
   ]
  },
  {
   "cell_type": "code",
   "execution_count": 54,
   "metadata": {},
   "outputs": [
    {
     "data": {
      "image/png": "[encoded data removed]",
      "text/plain": [
       "<Figure size 432x432 with 1 Axes>"
      ]
     },
     "metadata": {},
     "output_type": "display_data"
    }
   ],
   "source": [
    "plt.figure(figsize=(6,6))\n",
    "plt.pie(df_2005['sum_sales'], labels = df_2005['genre'])\n",
    "\n",
    "plt.show()"
   ]
  },
  {
   "cell_type": "markdown",
   "metadata": {},
   "source": [
    "Как видно из графика (выше) основной жанр, приносящий больше всего выручки - Action. Затем расположились Shooter и Sports. Очевидно, что эти жанры отражают общие предпочтения рынка сбыта. "
   ]
  },
  {
   "cell_type": "code",
   "execution_count": 77,
   "metadata": {},
   "outputs": [
    {
     "data": {
      "image/png": "[encoded data removed]",
      "text/plain": [
       "<Figure size 936x288 with 1 Axes>"
      ]
     },
     "metadata": {
      "needs_background": "light"
     },
     "output_type": "display_data"
    }
   ],
   "source": [
    "\n",
    "plt.figure(figsize=(13,4))\n",
    "plt.grid()\n",
    "plt.title('genre_mean_sales')\n",
    "plt.ylabel('sales')\n",
    "plt.plot(df_2005['genre'],df_2005['mean_sales'], '^', color = 'green', alpha = 0.6)\n",
    "plt.show()"
   ]
  },
  {
   "cell_type": "markdown",
   "metadata": {},
   "source": [
    "Среди прочего, стоит отметить среднюю выручку по продуктам: наибольшая средняя величина - Shooter, затем расположились Platform, Sports, Racing, Roleplaying. Разработчикам следует обратить внимание на эти жанры."
   ]
  },
  {
   "cell_type": "markdown",
   "metadata": {},
   "source": [
    "**Рассмотрим самые низкие показатели средней выручки и суммарной выручки:**"
   ]
  },
  {
   "cell_type": "code",
   "execution_count": 56,
   "metadata": {},
   "outputs": [
    {
     "name": "stdout",
     "output_type": "stream",
     "text": [
      "Платформы по стратегиям\n",
      "PC      130\n",
      "DS       73\n",
      "PSP      54\n",
      "X360     27\n",
      "PS2      27\n",
      "Name: platform, dtype: int64\n",
      "Платформы по приключениям\n",
      "DS     231\n",
      "PSP    210\n",
      "PS2    140\n",
      "PSV     93\n",
      "Wii     82\n",
      "Name: platform, dtype: int64\n",
      "Платформы по паззлу\n",
      "DS     212\n",
      "Wii     54\n",
      "PSP     31\n",
      "PC      25\n",
      "3DS     20\n",
      "Name: platform, dtype: int64\n"
     ]
    }
   ],
   "source": [
    "print ('Платформы по стратегиям')\n",
    "print (df.query('genre == \"Strategy\" & year_of_release > 2005')['platform'].value_counts().head(5))\n",
    "print ('Платформы по приключениям')\n",
    "print  ( df.query('genre == \"Adventure\" & year_of_release > 2005')['platform'].value_counts().head(5))\n",
    "print ('Платформы по паззлу')\n",
    "print ( df.query('genre == \"Puzzle\" & year_of_release > 2005')['platform'].value_counts().head(5))\n",
    "\n"
   ]
  },
  {
   "cell_type": "markdown",
   "metadata": {},
   "source": [
    "Самые низкие показатели выручки распространены на платформах PC и DS. Очевидно присутствуют факторы сложностей в монетизации на этих платформах."
   ]
  },
  {
   "cell_type": "markdown",
   "metadata": {},
   "source": [
    "СОСТАВЛЕНИЕ ПОРТРЕТА ПОЛЬЗОВАТЕЛЯ Определите для пользователя каждого региона (NA, EU, JP):"
   ]
  },
  {
   "cell_type": "markdown",
   "metadata": {},
   "source": [
    "Определим самые популярные платформы исходя из гео"
   ]
  },
  {
   "cell_type": "code",
   "execution_count": 57,
   "metadata": {},
   "outputs": [],
   "source": [
    "na_sales_2005 = df.query('year_of_release > 2005').pivot_table(index = 'platform', values = 'na_sales', aggfunc = 'sum').sort_values(by = 'na_sales', ascending = False).reset_index().head(5)\n",
    "jp_sales_2005 = df.query('year_of_release > 2005').pivot_table(index = 'platform', values = 'jp_sales', aggfunc = 'sum').sort_values(by = 'jp_sales', ascending = False).reset_index().head(5)\n",
    "eu_sales_2005 = df.query('year_of_release > 2005').pivot_table(index = 'platform', values = 'eu_sales', aggfunc = 'sum').sort_values(by = 'eu_sales', ascending = False).reset_index().head(5)\n",
    "\n",
    "na_sales_2005_sum = df.query('year_of_release > 2005')['na_sales'].sum()\n",
    "jp_sales_2005_sum = df.query('year_of_release > 2005')['jp_sales'].sum()\n",
    "eu_sales_2005_sum = df.query('year_of_release > 2005')['eu_sales'].sum()\n"
   ]
  },
  {
   "cell_type": "code",
   "execution_count": 58,
   "metadata": {},
   "outputs": [],
   "source": [
    "na_sales_2005['part'] = na_sales_2005['na_sales'] / na_sales_2005_sum\n",
    "jp_sales_2005['part'] = jp_sales_2005['jp_sales'] / jp_sales_2005_sum\n",
    "eu_sales_2005['part'] = eu_sales_2005['eu_sales'] / eu_sales_2005_sum"
   ]
  },
  {
   "cell_type": "markdown",
   "metadata": {},
   "source": [
    "Рассмотрим рейтинг и доли на рынке различных платформ по регионам"
   ]
  },
  {
   "cell_type": "code",
   "execution_count": 59,
   "metadata": {},
   "outputs": [
    {
     "name": "stdout",
     "output_type": "stream",
     "text": [
      "North America\n"
     ]
    },
    {
     "data": {
      "text/html": [
       "<div>\n",
       "<style scoped>\n",
       "    .dataframe tbody tr th:only-of-type {\n",
       "        vertical-align: middle;\n",
       "    }\n",
       "\n",
       "    .dataframe tbody tr th {\n",
       "        vertical-align: top;\n",
       "    }\n",
       "\n",
       "    .dataframe thead th {\n",
       "        text-align: right;\n",
       "    }\n",
       "</style>\n",
       "<table border=\"1\" class=\"dataframe\">\n",
       "  <thead>\n",
       "    <tr style=\"text-align: right;\">\n",
       "      <th></th>\n",
       "      <th>platform</th>\n",
       "      <th>na_sales</th>\n",
       "      <th>part</th>\n",
       "    </tr>\n",
       "  </thead>\n",
       "  <tbody>\n",
       "    <tr>\n",
       "      <th>0</th>\n",
       "      <td>X360</td>\n",
       "      <td>588.84</td>\n",
       "      <td>0.246720</td>\n",
       "    </tr>\n",
       "    <tr>\n",
       "      <th>1</th>\n",
       "      <td>Wii</td>\n",
       "      <td>486.87</td>\n",
       "      <td>0.203996</td>\n",
       "    </tr>\n",
       "    <tr>\n",
       "      <th>2</th>\n",
       "      <td>PS3</td>\n",
       "      <td>390.13</td>\n",
       "      <td>0.163462</td>\n",
       "    </tr>\n",
       "    <tr>\n",
       "      <th>3</th>\n",
       "      <td>DS</td>\n",
       "      <td>323.99</td>\n",
       "      <td>0.135750</td>\n",
       "    </tr>\n",
       "    <tr>\n",
       "      <th>4</th>\n",
       "      <td>PS2</td>\n",
       "      <td>114.89</td>\n",
       "      <td>0.048138</td>\n",
       "    </tr>\n",
       "  </tbody>\n",
       "</table>\n",
       "</div>"
      ],
      "text/plain": [
       "  platform  na_sales      part\n",
       "0     X360    588.84  0.246720\n",
       "1      Wii    486.87  0.203996\n",
       "2      PS3    390.13  0.163462\n",
       "3       DS    323.99  0.135750\n",
       "4      PS2    114.89  0.048138"
      ]
     },
     "metadata": {},
     "output_type": "display_data"
    },
    {
     "name": "stdout",
     "output_type": "stream",
     "text": [
      "Japan\n"
     ]
    },
    {
     "data": {
      "text/html": [
       "<div>\n",
       "<style scoped>\n",
       "    .dataframe tbody tr th:only-of-type {\n",
       "        vertical-align: middle;\n",
       "    }\n",
       "\n",
       "    .dataframe tbody tr th {\n",
       "        vertical-align: top;\n",
       "    }\n",
       "\n",
       "    .dataframe thead th {\n",
       "        text-align: right;\n",
       "    }\n",
       "</style>\n",
       "<table border=\"1\" class=\"dataframe\">\n",
       "  <thead>\n",
       "    <tr style=\"text-align: right;\">\n",
       "      <th></th>\n",
       "      <th>platform</th>\n",
       "      <th>jp_sales</th>\n",
       "      <th>part</th>\n",
       "    </tr>\n",
       "  </thead>\n",
       "  <tbody>\n",
       "    <tr>\n",
       "      <th>0</th>\n",
       "      <td>DS</td>\n",
       "      <td>141.49</td>\n",
       "      <td>0.252071</td>\n",
       "    </tr>\n",
       "    <tr>\n",
       "      <th>1</th>\n",
       "      <td>3DS</td>\n",
       "      <td>100.62</td>\n",
       "      <td>0.179259</td>\n",
       "    </tr>\n",
       "    <tr>\n",
       "      <th>2</th>\n",
       "      <td>PS3</td>\n",
       "      <td>79.41</td>\n",
       "      <td>0.141473</td>\n",
       "    </tr>\n",
       "    <tr>\n",
       "      <th>3</th>\n",
       "      <td>PSP</td>\n",
       "      <td>70.63</td>\n",
       "      <td>0.125831</td>\n",
       "    </tr>\n",
       "    <tr>\n",
       "      <th>4</th>\n",
       "      <td>Wii</td>\n",
       "      <td>68.28</td>\n",
       "      <td>0.121644</td>\n",
       "    </tr>\n",
       "  </tbody>\n",
       "</table>\n",
       "</div>"
      ],
      "text/plain": [
       "  platform  jp_sales      part\n",
       "0       DS    141.49  0.252071\n",
       "1      3DS    100.62  0.179259\n",
       "2      PS3     79.41  0.141473\n",
       "3      PSP     70.63  0.125831\n",
       "4      Wii     68.28  0.121644"
      ]
     },
     "metadata": {},
     "output_type": "display_data"
    },
    {
     "name": "stdout",
     "output_type": "stream",
     "text": [
      "Europe\n"
     ]
    },
    {
     "data": {
      "text/html": [
       "<div>\n",
       "<style scoped>\n",
       "    .dataframe tbody tr th:only-of-type {\n",
       "        vertical-align: middle;\n",
       "    }\n",
       "\n",
       "    .dataframe tbody tr th {\n",
       "        vertical-align: top;\n",
       "    }\n",
       "\n",
       "    .dataframe thead th {\n",
       "        text-align: right;\n",
       "    }\n",
       "</style>\n",
       "<table border=\"1\" class=\"dataframe\">\n",
       "  <thead>\n",
       "    <tr style=\"text-align: right;\">\n",
       "      <th></th>\n",
       "      <th>platform</th>\n",
       "      <th>eu_sales</th>\n",
       "      <th>part</th>\n",
       "    </tr>\n",
       "  </thead>\n",
       "  <tbody>\n",
       "    <tr>\n",
       "      <th>0</th>\n",
       "      <td>PS3</td>\n",
       "      <td>327.20</td>\n",
       "      <td>0.218718</td>\n",
       "    </tr>\n",
       "    <tr>\n",
       "      <th>1</th>\n",
       "      <td>X360</td>\n",
       "      <td>267.89</td>\n",
       "      <td>0.179072</td>\n",
       "    </tr>\n",
       "    <tr>\n",
       "      <th>2</th>\n",
       "      <td>Wii</td>\n",
       "      <td>258.32</td>\n",
       "      <td>0.172675</td>\n",
       "    </tr>\n",
       "    <tr>\n",
       "      <th>3</th>\n",
       "      <td>DS</td>\n",
       "      <td>142.99</td>\n",
       "      <td>0.095582</td>\n",
       "    </tr>\n",
       "    <tr>\n",
       "      <th>4</th>\n",
       "      <td>PS4</td>\n",
       "      <td>141.09</td>\n",
       "      <td>0.094312</td>\n",
       "    </tr>\n",
       "  </tbody>\n",
       "</table>\n",
       "</div>"
      ],
      "text/plain": [
       "  platform  eu_sales      part\n",
       "0      PS3    327.20  0.218718\n",
       "1     X360    267.89  0.179072\n",
       "2      Wii    258.32  0.172675\n",
       "3       DS    142.99  0.095582\n",
       "4      PS4    141.09  0.094312"
      ]
     },
     "metadata": {},
     "output_type": "display_data"
    }
   ],
   "source": [
    "print ('North America')\n",
    "display(na_sales_2005)\n",
    "print ('Japan')\n",
    "display(jp_sales_2005)\n",
    "print ('Europe')\n",
    "display(eu_sales_2005)"
   ]
  },
  {
   "cell_type": "code",
   "execution_count": 60,
   "metadata": {},
   "outputs": [
    {
     "name": "stdout",
     "output_type": "stream",
     "text": [
      "na_sales\n"
     ]
    },
    {
     "data": {
      "text/html": [
       "<div>\n",
       "<style scoped>\n",
       "    .dataframe tbody tr th:only-of-type {\n",
       "        vertical-align: middle;\n",
       "    }\n",
       "\n",
       "    .dataframe tbody tr th {\n",
       "        vertical-align: top;\n",
       "    }\n",
       "\n",
       "    .dataframe thead th {\n",
       "        text-align: right;\n",
       "    }\n",
       "</style>\n",
       "<table border=\"1\" class=\"dataframe\">\n",
       "  <thead>\n",
       "    <tr style=\"text-align: right;\">\n",
       "      <th></th>\n",
       "      <th>platform</th>\n",
       "      <th>na_sales</th>\n",
       "      <th>part</th>\n",
       "    </tr>\n",
       "  </thead>\n",
       "  <tbody>\n",
       "    <tr>\n",
       "      <th>0</th>\n",
       "      <td>X360</td>\n",
       "      <td>588.84</td>\n",
       "      <td>0.246720</td>\n",
       "    </tr>\n",
       "    <tr>\n",
       "      <th>1</th>\n",
       "      <td>Wii</td>\n",
       "      <td>486.87</td>\n",
       "      <td>0.203996</td>\n",
       "    </tr>\n",
       "    <tr>\n",
       "      <th>2</th>\n",
       "      <td>PS3</td>\n",
       "      <td>390.13</td>\n",
       "      <td>0.163462</td>\n",
       "    </tr>\n",
       "    <tr>\n",
       "      <th>3</th>\n",
       "      <td>DS</td>\n",
       "      <td>323.99</td>\n",
       "      <td>0.135750</td>\n",
       "    </tr>\n",
       "    <tr>\n",
       "      <th>4</th>\n",
       "      <td>PS2</td>\n",
       "      <td>114.89</td>\n",
       "      <td>0.048138</td>\n",
       "    </tr>\n",
       "  </tbody>\n",
       "</table>\n",
       "</div>"
      ],
      "text/plain": [
       "  platform  na_sales      part\n",
       "0     X360    588.84  0.246720\n",
       "1      Wii    486.87  0.203996\n",
       "2      PS3    390.13  0.163462\n",
       "3       DS    323.99  0.135750\n",
       "4      PS2    114.89  0.048138"
      ]
     },
     "metadata": {},
     "output_type": "display_data"
    },
    {
     "data": {
      "image/png": "[encoded data removed]",
      "text/plain": [
       "<Figure size 1080x1080 with 1 Axes>"
      ]
     },
     "metadata": {},
     "output_type": "display_data"
    },
    {
     "name": "stdout",
     "output_type": "stream",
     "text": [
      "jp_sales\n"
     ]
    },
    {
     "data": {
      "text/html": [
       "<div>\n",
       "<style scoped>\n",
       "    .dataframe tbody tr th:only-of-type {\n",
       "        vertical-align: middle;\n",
       "    }\n",
       "\n",
       "    .dataframe tbody tr th {\n",
       "        vertical-align: top;\n",
       "    }\n",
       "\n",
       "    .dataframe thead th {\n",
       "        text-align: right;\n",
       "    }\n",
       "</style>\n",
       "<table border=\"1\" class=\"dataframe\">\n",
       "  <thead>\n",
       "    <tr style=\"text-align: right;\">\n",
       "      <th></th>\n",
       "      <th>platform</th>\n",
       "      <th>jp_sales</th>\n",
       "      <th>part</th>\n",
       "    </tr>\n",
       "  </thead>\n",
       "  <tbody>\n",
       "    <tr>\n",
       "      <th>0</th>\n",
       "      <td>DS</td>\n",
       "      <td>141.49</td>\n",
       "      <td>0.252071</td>\n",
       "    </tr>\n",
       "    <tr>\n",
       "      <th>1</th>\n",
       "      <td>3DS</td>\n",
       "      <td>100.62</td>\n",
       "      <td>0.179259</td>\n",
       "    </tr>\n",
       "    <tr>\n",
       "      <th>2</th>\n",
       "      <td>PS3</td>\n",
       "      <td>79.41</td>\n",
       "      <td>0.141473</td>\n",
       "    </tr>\n",
       "    <tr>\n",
       "      <th>3</th>\n",
       "      <td>PSP</td>\n",
       "      <td>70.63</td>\n",
       "      <td>0.125831</td>\n",
       "    </tr>\n",
       "    <tr>\n",
       "      <th>4</th>\n",
       "      <td>Wii</td>\n",
       "      <td>68.28</td>\n",
       "      <td>0.121644</td>\n",
       "    </tr>\n",
       "  </tbody>\n",
       "</table>\n",
       "</div>"
      ],
      "text/plain": [
       "  platform  jp_sales      part\n",
       "0       DS    141.49  0.252071\n",
       "1      3DS    100.62  0.179259\n",
       "2      PS3     79.41  0.141473\n",
       "3      PSP     70.63  0.125831\n",
       "4      Wii     68.28  0.121644"
      ]
     },
     "metadata": {},
     "output_type": "display_data"
    },
    {
     "data": {
      "image/png": "[encoded data removed]",
      "text/plain": [
       "<Figure size 1080x1080 with 1 Axes>"
      ]
     },
     "metadata": {},
     "output_type": "display_data"
    },
    {
     "name": "stdout",
     "output_type": "stream",
     "text": [
      "eu_sales\n"
     ]
    },
    {
     "data": {
      "text/html": [
       "<div>\n",
       "<style scoped>\n",
       "    .dataframe tbody tr th:only-of-type {\n",
       "        vertical-align: middle;\n",
       "    }\n",
       "\n",
       "    .dataframe tbody tr th {\n",
       "        vertical-align: top;\n",
       "    }\n",
       "\n",
       "    .dataframe thead th {\n",
       "        text-align: right;\n",
       "    }\n",
       "</style>\n",
       "<table border=\"1\" class=\"dataframe\">\n",
       "  <thead>\n",
       "    <tr style=\"text-align: right;\">\n",
       "      <th></th>\n",
       "      <th>platform</th>\n",
       "      <th>eu_sales</th>\n",
       "      <th>part</th>\n",
       "    </tr>\n",
       "  </thead>\n",
       "  <tbody>\n",
       "    <tr>\n",
       "      <th>0</th>\n",
       "      <td>PS3</td>\n",
       "      <td>327.20</td>\n",
       "      <td>0.218718</td>\n",
       "    </tr>\n",
       "    <tr>\n",
       "      <th>1</th>\n",
       "      <td>X360</td>\n",
       "      <td>267.89</td>\n",
       "      <td>0.179072</td>\n",
       "    </tr>\n",
       "    <tr>\n",
       "      <th>2</th>\n",
       "      <td>Wii</td>\n",
       "      <td>258.32</td>\n",
       "      <td>0.172675</td>\n",
       "    </tr>\n",
       "    <tr>\n",
       "      <th>3</th>\n",
       "      <td>DS</td>\n",
       "      <td>142.99</td>\n",
       "      <td>0.095582</td>\n",
       "    </tr>\n",
       "    <tr>\n",
       "      <th>4</th>\n",
       "      <td>PS4</td>\n",
       "      <td>141.09</td>\n",
       "      <td>0.094312</td>\n",
       "    </tr>\n",
       "  </tbody>\n",
       "</table>\n",
       "</div>"
      ],
      "text/plain": [
       "  platform  eu_sales      part\n",
       "0      PS3    327.20  0.218718\n",
       "1     X360    267.89  0.179072\n",
       "2      Wii    258.32  0.172675\n",
       "3       DS    142.99  0.095582\n",
       "4      PS4    141.09  0.094312"
      ]
     },
     "metadata": {},
     "output_type": "display_data"
    },
    {
     "data": {
      "image/png": "[encoded data removed]",
      "text/plain": [
       "<Figure size 1080x1080 with 1 Axes>"
      ]
     },
     "metadata": {},
     "output_type": "display_data"
    }
   ],
   "source": [
    "geo_sale_list = ['na_sales','jp_sales','eu_sales'] #лист продаж для цикла\n",
    "\n",
    "\n",
    "for each_sales in geo_sale_list: #сделал сводную по платформам, затем сумму по платформе локальную - sum_platform, затем столбик с долей.\n",
    "   \n",
    "    pivot_platform = df.query('year_of_release > 2005').pivot_table(index = 'platform', values = each_sales, aggfunc = 'sum').sort_values(by = each_sales, ascending = False).reset_index().head(5)\n",
    "    sum_platform = df[df['year_of_release'] > 2005][each_sales].sum()\n",
    "    pivot_platform['part'] = pivot_platform[each_sales] / sum_platform\n",
    "    \n",
    "    plt.figure(figsize = (15,15))\n",
    "    plt.subplot(1, 3, 1)\n",
    "    plt.pie(pivot_platform[each_sales], labels = pivot_platform['platform'])\n",
    "    plt.title(each_sales)\n",
    "    print (each_sales)\n",
    "    display (pivot_platform)\n",
    "    plt.show()\n",
    "    "
   ]
  },
  {
   "cell_type": "markdown",
   "metadata": {},
   "source": []
  },
  {
   "cell_type": "code",
   "execution_count": 61,
   "metadata": {},
   "outputs": [
    {
     "data": {
      "image/png": "[encoded data removed]",
      "text/plain": [
       "<Figure size 1080x504 with 3 Axes>"
      ]
     },
     "metadata": {},
     "output_type": "display_data"
    }
   ],
   "source": [
    "plt.figure(figsize=(15,7))\n",
    "plt.title('Platforms in regions')\n",
    "plt.subplot(1, 3, 1)\n",
    "plt.pie(na_sales_2005['na_sales'], labels = na_sales_2005['platform'])\n",
    "plt.title('North America')\n",
    "\n",
    "plt.subplot(1, 3, 2)\n",
    "plt.pie(jp_sales_2005['jp_sales'], labels = jp_sales_2005['platform'])\n",
    "plt.title('Japan')\n",
    "\n",
    "plt.subplot(1, 3, 3)\n",
    "plt.pie(eu_sales_2005['eu_sales'], labels = eu_sales_2005['platform'])\n",
    "plt.title('Europe')\n",
    "\n",
    "plt.show()"
   ]
  },
  {
   "cell_type": "markdown",
   "metadata": {},
   "source": [
    "***Промежуточный вывод:*** Как видно - различные регионы имеют абсолютно разные предпочтения в консолях. В выборе платформ в  Японии прослеживается патриотизм, американцы на первое место ставят отечественный Xbox и другие (иностранные) консоли, европейцы больше предпочитают Японскую технику, однако XOne также на первом месте."
   ]
  },
  {
   "cell_type": "markdown",
   "metadata": {},
   "source": [
    "Рассмотрим жанровые предпочтения в различных регионах"
   ]
  },
  {
   "cell_type": "code",
   "execution_count": 62,
   "metadata": {},
   "outputs": [],
   "source": [
    "na_genres = df.query('year_of_release > 2005').pivot_table(index = 'genre', values = 'na_sales', aggfunc = 'sum').sort_values(by = 'na_sales', ascending = False).reset_index().head(5)\n",
    "jp_genres = df.query('year_of_release > 2005').pivot_table(index = 'genre', values = 'jp_sales', aggfunc = 'sum').sort_values(by = 'jp_sales', ascending = False).reset_index().head(5)\n",
    "eu_genres = df.query('year_of_release > 2005').pivot_table(index = 'genre', values = 'eu_sales', aggfunc = 'sum').sort_values(by = 'eu_sales', ascending = False).reset_index().head(5)\n"
   ]
  },
  {
   "cell_type": "code",
   "execution_count": 63,
   "metadata": {},
   "outputs": [
    {
     "name": "stdout",
     "output_type": "stream",
     "text": [
      "North America\n"
     ]
    },
    {
     "data": {
      "text/html": [
       "<div>\n",
       "<style scoped>\n",
       "    .dataframe tbody tr th:only-of-type {\n",
       "        vertical-align: middle;\n",
       "    }\n",
       "\n",
       "    .dataframe tbody tr th {\n",
       "        vertical-align: top;\n",
       "    }\n",
       "\n",
       "    .dataframe thead th {\n",
       "        text-align: right;\n",
       "    }\n",
       "</style>\n",
       "<table border=\"1\" class=\"dataframe\">\n",
       "  <thead>\n",
       "    <tr style=\"text-align: right;\">\n",
       "      <th></th>\n",
       "      <th>genre</th>\n",
       "      <th>na_sales</th>\n",
       "    </tr>\n",
       "  </thead>\n",
       "  <tbody>\n",
       "    <tr>\n",
       "      <th>0</th>\n",
       "      <td>Action</td>\n",
       "      <td>530.44</td>\n",
       "    </tr>\n",
       "    <tr>\n",
       "      <th>1</th>\n",
       "      <td>Sports</td>\n",
       "      <td>396.64</td>\n",
       "    </tr>\n",
       "    <tr>\n",
       "      <th>2</th>\n",
       "      <td>Shooter</td>\n",
       "      <td>373.13</td>\n",
       "    </tr>\n",
       "    <tr>\n",
       "      <th>3</th>\n",
       "      <td>Misc</td>\n",
       "      <td>285.06</td>\n",
       "    </tr>\n",
       "    <tr>\n",
       "      <th>4</th>\n",
       "      <td>Role-Playing</td>\n",
       "      <td>199.63</td>\n",
       "    </tr>\n",
       "  </tbody>\n",
       "</table>\n",
       "</div>"
      ],
      "text/plain": [
       "          genre  na_sales\n",
       "0        Action    530.44\n",
       "1        Sports    396.64\n",
       "2       Shooter    373.13\n",
       "3          Misc    285.06\n",
       "4  Role-Playing    199.63"
      ]
     },
     "metadata": {},
     "output_type": "display_data"
    },
    {
     "name": "stdout",
     "output_type": "stream",
     "text": [
      "Japan\n"
     ]
    },
    {
     "data": {
      "text/html": [
       "<div>\n",
       "<style scoped>\n",
       "    .dataframe tbody tr th:only-of-type {\n",
       "        vertical-align: middle;\n",
       "    }\n",
       "\n",
       "    .dataframe tbody tr th {\n",
       "        vertical-align: top;\n",
       "    }\n",
       "\n",
       "    .dataframe thead th {\n",
       "        text-align: right;\n",
       "    }\n",
       "</style>\n",
       "<table border=\"1\" class=\"dataframe\">\n",
       "  <thead>\n",
       "    <tr style=\"text-align: right;\">\n",
       "      <th></th>\n",
       "      <th>genre</th>\n",
       "      <th>jp_sales</th>\n",
       "    </tr>\n",
       "  </thead>\n",
       "  <tbody>\n",
       "    <tr>\n",
       "      <th>0</th>\n",
       "      <td>Role-Playing</td>\n",
       "      <td>170.38</td>\n",
       "    </tr>\n",
       "    <tr>\n",
       "      <th>1</th>\n",
       "      <td>Action</td>\n",
       "      <td>102.07</td>\n",
       "    </tr>\n",
       "    <tr>\n",
       "      <th>2</th>\n",
       "      <td>Misc</td>\n",
       "      <td>64.53</td>\n",
       "    </tr>\n",
       "    <tr>\n",
       "      <th>3</th>\n",
       "      <td>Sports</td>\n",
       "      <td>48.97</td>\n",
       "    </tr>\n",
       "    <tr>\n",
       "      <th>4</th>\n",
       "      <td>Platform</td>\n",
       "      <td>35.20</td>\n",
       "    </tr>\n",
       "  </tbody>\n",
       "</table>\n",
       "</div>"
      ],
      "text/plain": [
       "          genre  jp_sales\n",
       "0  Role-Playing    170.38\n",
       "1        Action    102.07\n",
       "2          Misc     64.53\n",
       "3        Sports     48.97\n",
       "4      Platform     35.20"
      ]
     },
     "metadata": {},
     "output_type": "display_data"
    },
    {
     "name": "stdout",
     "output_type": "stream",
     "text": [
      "Europe\n"
     ]
    },
    {
     "data": {
      "text/html": [
       "<div>\n",
       "<style scoped>\n",
       "    .dataframe tbody tr th:only-of-type {\n",
       "        vertical-align: middle;\n",
       "    }\n",
       "\n",
       "    .dataframe tbody tr th {\n",
       "        vertical-align: top;\n",
       "    }\n",
       "\n",
       "    .dataframe thead th {\n",
       "        text-align: right;\n",
       "    }\n",
       "</style>\n",
       "<table border=\"1\" class=\"dataframe\">\n",
       "  <thead>\n",
       "    <tr style=\"text-align: right;\">\n",
       "      <th></th>\n",
       "      <th>genre</th>\n",
       "      <th>eu_sales</th>\n",
       "    </tr>\n",
       "  </thead>\n",
       "  <tbody>\n",
       "    <tr>\n",
       "      <th>0</th>\n",
       "      <td>Action</td>\n",
       "      <td>350.70</td>\n",
       "    </tr>\n",
       "    <tr>\n",
       "      <th>1</th>\n",
       "      <td>Sports</td>\n",
       "      <td>251.54</td>\n",
       "    </tr>\n",
       "    <tr>\n",
       "      <th>2</th>\n",
       "      <td>Shooter</td>\n",
       "      <td>238.89</td>\n",
       "    </tr>\n",
       "    <tr>\n",
       "      <th>3</th>\n",
       "      <td>Misc</td>\n",
       "      <td>146.88</td>\n",
       "    </tr>\n",
       "    <tr>\n",
       "      <th>4</th>\n",
       "      <td>Racing</td>\n",
       "      <td>113.39</td>\n",
       "    </tr>\n",
       "  </tbody>\n",
       "</table>\n",
       "</div>"
      ],
      "text/plain": [
       "     genre  eu_sales\n",
       "0   Action    350.70\n",
       "1   Sports    251.54\n",
       "2  Shooter    238.89\n",
       "3     Misc    146.88\n",
       "4   Racing    113.39"
      ]
     },
     "metadata": {},
     "output_type": "display_data"
    }
   ],
   "source": [
    "print('North America')\n",
    "display (na_genres)\n",
    "print('Japan')\n",
    "display (jp_genres)\n",
    "print('Europe')\n",
    "display (eu_genres)"
   ]
  },
  {
   "cell_type": "code",
   "execution_count": 64,
   "metadata": {},
   "outputs": [
    {
     "data": {
      "image/png": "[encoded data removed]",
      "text/plain": [
       "<Figure size 1080x504 with 3 Axes>"
      ]
     },
     "metadata": {},
     "output_type": "display_data"
    }
   ],
   "source": [
    "\n",
    "plt.figure(figsize=(15,7))\n",
    "\n",
    "plt.subplot(1, 3, 1)\n",
    "plt.pie(na_genres['na_sales'], labels = na_genres['genre'])\n",
    "plt.title('North America')\n",
    "\n",
    "plt.subplot(1, 3, 2)\n",
    "plt.pie(jp_genres['jp_sales'], labels = jp_genres['genre'])\n",
    "plt.title('Japan')\n",
    "\n",
    "plt.subplot(1, 3, 3)\n",
    "plt.pie(eu_genres['eu_sales'], labels = eu_genres['genre'])\n",
    "plt.title('Europe')\n",
    "\n",
    "plt.show()"
   ]
  },
  {
   "cell_type": "markdown",
   "metadata": {},
   "source": [
    "***Промежуточный вывод:*** Из круговых диаграмм видно, что выбор жанров в Европе и Америке очень близок. Выбор жанров в Японии существенно отличается. \"Японский выбор\" в пользу RPG интересен по особенностям общественного устройства (коллективизм). Размытая общественная роль (самоощущение) требует компенсации - в этом иногда помогает RPG."
   ]
  },
  {
   "cell_type": "markdown",
   "metadata": {},
   "source": [
    "Оценка влияния рейтинга ESRB в отдельном регионе:"
   ]
  },
  {
   "cell_type": "code",
   "execution_count": 65,
   "metadata": {},
   "outputs": [],
   "source": [
    "rating_na = df.query('year_of_release > 2005').pivot_table(index = 'rating', values = 'na_sales', aggfunc = 'sum').reset_index()\n",
    "rating_jp = df.query('year_of_release > 2005').pivot_table(index = 'rating', values = 'jp_sales', aggfunc = 'sum').reset_index()\n",
    "rating_eu = df.query('year_of_release > 2005').pivot_table(index = 'rating', values = 'eu_sales', aggfunc = 'sum').reset_index()"
   ]
  },
  {
   "cell_type": "code",
   "execution_count": 66,
   "metadata": {},
   "outputs": [
    {
     "data": {
      "image/png": "[encoded data removed]",
      "text/plain": [
       "<Figure size 1080x504 with 3 Axes>"
      ]
     },
     "metadata": {},
     "output_type": "display_data"
    }
   ],
   "source": [
    "plt.figure(figsize=(15,7))\n",
    "\n",
    "plt.subplot(1, 3, 1)\n",
    "plt.pie(rating_na['na_sales'], labels = rating_na['rating'])\n",
    "plt.title('North America')\n",
    "\n",
    "plt.subplot(1, 3, 2)\n",
    "plt.pie(rating_jp['jp_sales'], labels = rating_jp['rating'])\n",
    "plt.title('Japan')\n",
    "\n",
    "plt.subplot(1, 3, 3)\n",
    "plt.pie(rating_eu['eu_sales'], labels = rating_eu['rating'])\n",
    "plt.title('Europe')\n",
    "\n",
    "plt.show()"
   ]
  },
  {
   "cell_type": "markdown",
   "metadata": {},
   "source": [
    "Продажи продуктов в Европе и Северной Америке в зависимости от рейтинга ESRB очень похожи, чего нельзя сказать о Японии. Япония, после Е-рейтинга в большей степени предпочитает рейтинг T, в то время как Европа и Америка предпочитает после E-рейтинга, рейтинг - М. Либерализм и вседозволенность."
   ]
  },
  {
   "cell_type": "markdown",
   "metadata": {},
   "source": [
    "### Вывод"
   ]
  },
  {
   "cell_type": "markdown",
   "metadata": {},
   "source": [
    "Исследовательский анализ проведён успешно:\n",
    "- В целом оценка рынка игровых платформ показывает довольно большой жизненный цикл платформ, который позволяет строить планы и продуктовые стратегии. \n",
    "- Пользовательские оценки важны, однако их влияние на продажи не так сильно, как могло показаться перед исследованием (корелляция 0,4).\n",
    "- Многообразие и конкуренция платформ в начале нулевых сменяется монополией 2х монстров - Sony и  Microsoft. \n",
    "- Иные платформы в значительной степени отстают. \n",
    "- Что касается предпочтений жанра, платформы, рейтингов - Америка и Европа похожи, Япония - особенная почти во всём. \n",
    "- Япония покупает только японские платформы и играет RPG, Америка и Европа любит Экшны и покупают всё подряд."
   ]
  },
  {
   "cell_type": "markdown",
   "metadata": {},
   "source": [
    "## Выдвижение и проверка гипотез"
   ]
  },
  {
   "cell_type": "markdown",
   "metadata": {},
   "source": [
    "Для проверки предположений из условия будем выдвигать пары гипотез: нулевую и альтернативную. Нулевую будем принимать как предположение равенства средних массивов, альтернативную - напротив."
   ]
  },
  {
   "cell_type": "markdown",
   "metadata": {},
   "source": [
    "**Первая пара гипотез**\n",
    "- H0 = Средние пользовательские рейтинги платформ Xbox One и PC ***одинаковые***\n",
    "- H1 = Средние пользовательские рейтинги платформ Xbox One и PC ***разные***"
   ]
  },
  {
   "cell_type": "code",
   "execution_count": 67,
   "metadata": {},
   "outputs": [
    {
     "data": {
      "image/png": "[encoded data removed]",
      "text/plain": [
       "<Figure size 432x288 with 1 Axes>"
      ]
     },
     "metadata": {
      "needs_background": "light"
     },
     "output_type": "display_data"
    }
   ],
   "source": [
    "df_more_2005 = df.query('year_of_release > 2005')\n",
    "xbox_df = df_more_2005.query('platform == \"XOne\" or platform == \"X360\" or platform ==\"XB\" ')\n",
    "pc_df = df_more_2005.query('platform == \"PC\"')\n",
    "\n",
    "plt.title('comparaison: rating XOne to PC')\n",
    "\n",
    "plt.ylabel('count')\n",
    "plt.xlabel('rating')\n",
    "xbox_df['user_score'].hist(bins = 50, alpha = 0.6, color = 'g')\n",
    "pc_df['user_score'].hist(bins = 50, alpha = 0.6, color = 'y')\n",
    "\n",
    "plt.show()"
   ]
  },
  {
   "cell_type": "markdown",
   "metadata": {},
   "source": [
    "Распределение - скошено влево, для проверки используем тест стьюдента и тест Левене для оценки вероятности равенства дисперсий."
   ]
  },
  {
   "cell_type": "code",
   "execution_count": 68,
   "metadata": {},
   "outputs": [
    {
     "name": "stdout",
     "output_type": "stream",
     "text": [
      "Дисперсия по Xbox 234.35170948913623\n",
      "Дисперсия по PC 140.26747797700284\n",
      "pvalue по тесту Левене 1.4421105246045096e-11\n"
     ]
    }
   ],
   "source": [
    "\n",
    "\n",
    "print('Дисперсия по Xbox',np.var(xbox_df['user_score'], ddof = 1))\n",
    "print('Дисперсия по PC',np.var(pc_df['user_score'], ddof = 1))\n",
    "\n",
    "\n",
    "\n",
    "\n",
    "stat, p = levene(xbox_df['user_score'].dropna(), pc_df['user_score'].dropna(), center = 'median')\n",
    "print ('pvalue по тесту Левене',p)"
   ]
  },
  {
   "cell_type": "markdown",
   "metadata": {},
   "source": [
    "P-value по тесту Левене показало исчезающе малое значение, ниже 0,05. При проведении теста Стьюдента примем значение equal_var равное False."
   ]
  },
  {
   "cell_type": "code",
   "execution_count": 69,
   "metadata": {},
   "outputs": [
    {
     "name": "stdout",
     "output_type": "stream",
     "text": [
      "p-значение 3.478827601625053e-18\n",
      "Отвергаем нулевую гипотезу, cредние пользовательские рейтинги платформ Xbox One и PC, вероятно, разные\n"
     ]
    }
   ],
   "source": [
    "ttest_xbox_pc = st.ttest_ind(xbox_df['user_score'].dropna(), pc_df['user_score'].dropna(), equal_var = False)\n",
    "print('p-значение', ttest_xbox_pc.pvalue)\n",
    "alpha = 0.05\n",
    "\n",
    "if (ttest_xbox_pc.pvalue < alpha) :\n",
    "    print(\"Отвергаем нулевую гипотезу, cредние пользовательские рейтинги платформ Xbox One и PC, вероятно, разные\")\n",
    "else:\n",
    "    print('Не получилось отвергнуть нулевую гипотезу, cредние пользовательские рейтинги платформ Xbox One и PC могут быть равны') "
   ]
  },
  {
   "cell_type": "markdown",
   "metadata": {},
   "source": [
    "Гипотеза о равенстве не нашла подтверждение p-value теста стьюдента составило исчезающе малую величину."
   ]
  },
  {
   "cell_type": "markdown",
   "metadata": {},
   "source": [
    "**Вторая пара гипотез:**\n",
    "- H0 Средние пользовательские рейтинги жанров Action (англ. «действие», экшен-игры) и Sports (англ. «спортивные соревнования») ***одинаковы.***\n",
    "- H1 Средние пользовательские рейтинги жанров Action (англ. «действие», экшен-игры) и Sports (англ. «спортивные соревнования») ***разные.***"
   ]
  },
  {
   "cell_type": "code",
   "execution_count": 70,
   "metadata": {},
   "outputs": [
    {
     "data": {
      "image/png": "[encoded data removed]",
      "text/plain": [
       "<Figure size 432x288 with 1 Axes>"
      ]
     },
     "metadata": {
      "needs_background": "light"
     },
     "output_type": "display_data"
    }
   ],
   "source": [
    "action_df = df_more_2005.query('genre == \"Action\"')\n",
    "sports_df = df_more_2005.query('genre == \"Sports\"')\n",
    "\n",
    "plt.title('comparaison: Action and Sports')\n",
    "\n",
    "plt.ylabel('count')\n",
    "plt.xlabel('rating')\n",
    "\n",
    "action_df['user_score'].hist(bins = 50, alpha = 0.6, color = 'g')\n",
    "sports_df['user_score'].hist(bins = 50, alpha = 0.6, color = 'y')\n",
    "\n",
    "plt.show()"
   ]
  },
  {
   "cell_type": "code",
   "execution_count": 71,
   "metadata": {},
   "outputs": [
    {
     "name": "stdout",
     "output_type": "stream",
     "text": [
      "Дисперсия по Xbox 194.35743861810838\n",
      "Дисперсия по PC 236.0057596423614\n"
     ]
    }
   ],
   "source": [
    "print('Дисперсия по Xbox',np.var(action_df['user_score'], ddof = 1))\n",
    "print('Дисперсия по PC',np.var(sports_df['user_score'], ddof = 1))"
   ]
  },
  {
   "cell_type": "code",
   "execution_count": 72,
   "metadata": {},
   "outputs": [
    {
     "name": "stdout",
     "output_type": "stream",
     "text": [
      "pvalue по тесту Левене 0.1454935018174367\n"
     ]
    }
   ],
   "source": [
    "stat, p = levene(action_df['user_score'].dropna(), sports_df['user_score'].dropna(), center = 'median') #распределение ненормальное, с хвостом, примем параметр center как median \n",
    "print ('pvalue по тесту Левене',p)"
   ]
  },
  {
   "cell_type": "markdown",
   "metadata": {},
   "source": [
    "P-value по тесту Левене показало значение, выше 0,05. При проведении теста Стьюдента примем значение equal_var равное True."
   ]
  },
  {
   "cell_type": "code",
   "execution_count": 73,
   "metadata": {},
   "outputs": [
    {
     "name": "stdout",
     "output_type": "stream",
     "text": [
      "p-значение 0.031482605224395506\n",
      "Отвергаем нулевую гипотезу, cредние пользовательские рейтинги жанров Action и Sports, вероятно, разные\n"
     ]
    }
   ],
   "source": [
    "ttest_action_sports = st.ttest_ind(action_df['user_score'].dropna(), sports_df['user_score'].dropna(), equal_var = True)\n",
    "print('p-значение', ttest_action_sports.pvalue)\n",
    "\n",
    "\n",
    "if (ttest_action_sports.pvalue < alpha):\n",
    "    print(\"Отвергаем нулевую гипотезу, cредние пользовательские рейтинги жанров Action и Sports, вероятно, разные\")\n",
    "else:\n",
    "    print('Не получилось отвергнуть нулевую гипотезу, cредние пользовательские  рейтинги жанров Action и Sports могут быть равны') "
   ]
  },
  {
   "cell_type": "markdown",
   "metadata": {},
   "source": [
    "### Вывод"
   ]
  },
  {
   "cell_type": "markdown",
   "metadata": {},
   "source": [
    "Анализ гипотез показал:\n",
    "\n",
    "- первое предположение из условия о том, что средние пользовательские рейтинги платформ Xbox One и PC одинаковые - не нашло статистического подтверждения.\n",
    "\n",
    "- второе предположение о том, что средние пользовательские рейтинги жанров Action (англ. «действие», экшен-игры) и Sports (англ. «спортивные соревнования») разные - оказалось верно, однако с оговоркой: при  alpha в более \"либеральном\" пороге - нулевая гипотеза о равенстве Action и Sports могла быть НЕ отвергнутой и предположение из условия оказалось бы ложным."
   ]
  },
  {
   "cell_type": "markdown",
   "metadata": {},
   "source": [
    "## Общий вывод"
   ]
  },
  {
   "cell_type": "markdown",
   "metadata": {},
   "source": [
    "Исследовательский и статистический анализы показали следующие основные результаты:\n",
    "- платформы живут в среднем 10 лет, выбирать продукты для рекламирования следует исходя из этапа жизненного цикла продукта\n",
    "- смотреть данные исходя из жизненного цикла целесообразно за последних 10 полных лет (с 2005 года)\n",
    "- предпочтения в разных странах разные: в Японии нужно продавать продукты для Японских консолей, в Европе и Америке можно продавать разное\n",
    "- популярность жанров обусловлена географией - в Японии многое отличается от Америки и Европы (РПГ в японии в разы популярнее)\n",
    "- рейтинги ESRB также в японии отличаются и популярность продуктов во многом от них зависит. Америка и Европа опять близнецы, Япония отличается.\n",
    "- Сосредоточить рекламу нужно в 3х основных точках: PS4, XOne, WiiU. Расходы на рекламу нужно бюджетировать исходя из того, что популярные платформы PS4 и Xone имеют большую непредсказуемость (размах) нежели Wiiu. Однако вместе с риском и неопределённостью у PS4 XOne огромные перспективы роста в ближайшие 4 года (исходя из среднего жизненного цикла 10 лет).\n"
   ]
  }
 ],
 "metadata": {
  "ExecuteTimeLog": [
   {
    "duration": 766,
    "start_time": "2021-08-15T08:55:05.214Z"
   },
   {
    "duration": 32,
    "start_time": "2021-08-15T08:55:05.983Z"
   },
   {
    "duration": 15,
    "start_time": "2021-08-15T08:55:16.017Z"
   },
   {
    "duration": 20,
    "start_time": "2021-08-15T08:56:24.711Z"
   },
   {
    "duration": 5,
    "start_time": "2021-08-15T09:00:17.664Z"
   },
   {
    "duration": 5,
    "start_time": "2021-08-15T09:01:53.983Z"
   },
   {
    "duration": 468,
    "start_time": "2021-08-15T09:05:00.212Z"
   },
   {
    "duration": 14,
    "start_time": "2021-08-15T09:05:16.519Z"
   },
   {
    "duration": 401,
    "start_time": "2021-08-15T09:05:58.946Z"
   },
   {
    "duration": 420,
    "start_time": "2021-08-15T09:06:15.545Z"
   },
   {
    "duration": 35,
    "start_time": "2021-08-15T09:06:27.080Z"
   },
   {
    "duration": 352,
    "start_time": "2021-08-15T09:06:51.196Z"
   },
   {
    "duration": 14,
    "start_time": "2021-08-15T09:07:11.145Z"
   },
   {
    "duration": 121,
    "start_time": "2021-08-15T13:00:19.339Z"
   },
   {
    "duration": 354,
    "start_time": "2021-08-15T13:00:53.555Z"
   },
   {
    "duration": 804,
    "start_time": "2021-08-15T13:01:03.786Z"
   },
   {
    "duration": 14,
    "start_time": "2021-08-15T13:01:04.593Z"
   },
   {
    "duration": 22,
    "start_time": "2021-08-15T13:01:04.609Z"
   },
   {
    "duration": 7,
    "start_time": "2021-08-15T13:01:04.634Z"
   },
   {
    "duration": 39,
    "start_time": "2021-08-15T13:01:04.643Z"
   },
   {
    "duration": 33,
    "start_time": "2021-08-15T13:01:04.684Z"
   },
   {
    "duration": 761,
    "start_time": "2021-08-15T13:03:47.715Z"
   },
   {
    "duration": 14,
    "start_time": "2021-08-15T13:03:48.478Z"
   },
   {
    "duration": 18,
    "start_time": "2021-08-15T13:03:48.495Z"
   },
   {
    "duration": 8,
    "start_time": "2021-08-15T13:03:48.516Z"
   },
   {
    "duration": 46,
    "start_time": "2021-08-15T13:03:48.526Z"
   },
   {
    "duration": 8,
    "start_time": "2021-08-15T13:03:48.575Z"
   },
   {
    "duration": 372,
    "start_time": "2021-08-15T13:03:48.586Z"
   },
   {
    "duration": 5,
    "start_time": "2021-08-15T13:03:59.677Z"
   },
   {
    "duration": 30,
    "start_time": "2021-08-15T13:04:08.052Z"
   },
   {
    "duration": 772,
    "start_time": "2021-08-15T18:36:13.405Z"
   },
   {
    "duration": 15,
    "start_time": "2021-08-15T18:36:14.180Z"
   },
   {
    "duration": 32,
    "start_time": "2021-08-15T18:36:14.198Z"
   },
   {
    "duration": 13,
    "start_time": "2021-08-15T18:36:14.233Z"
   },
   {
    "duration": 46,
    "start_time": "2021-08-15T18:36:14.248Z"
   },
   {
    "duration": 9,
    "start_time": "2021-08-15T18:36:14.296Z"
   },
   {
    "duration": 18,
    "start_time": "2021-08-15T18:36:14.307Z"
   },
   {
    "duration": 65,
    "start_time": "2021-08-15T18:36:14.328Z"
   },
   {
    "duration": 1367,
    "start_time": "2021-08-15T19:18:25.353Z"
   },
   {
    "duration": 48,
    "start_time": "2021-08-15T19:18:26.723Z"
   },
   {
    "duration": 14,
    "start_time": "2021-08-15T19:18:26.774Z"
   },
   {
    "duration": 9,
    "start_time": "2021-08-15T19:18:26.791Z"
   },
   {
    "duration": 8,
    "start_time": "2021-08-15T19:18:26.802Z"
   },
   {
    "duration": 20,
    "start_time": "2021-08-15T19:18:26.812Z"
   },
   {
    "duration": 33,
    "start_time": "2021-08-15T19:18:26.834Z"
   },
   {
    "duration": 4,
    "start_time": "2021-08-15T19:18:26.871Z"
   },
   {
    "duration": 28,
    "start_time": "2021-08-15T19:18:26.878Z"
   },
   {
    "duration": 30,
    "start_time": "2021-08-15T19:18:57.806Z"
   },
   {
    "duration": 5,
    "start_time": "2021-08-15T19:28:14.226Z"
   },
   {
    "duration": 46,
    "start_time": "2021-08-15T19:28:14.246Z"
   },
   {
    "duration": 34,
    "start_time": "2021-08-15T19:28:14.295Z"
   },
   {
    "duration": 533,
    "start_time": "2021-08-15T19:31:16.195Z"
   },
   {
    "duration": 362,
    "start_time": "2021-08-15T19:31:35.993Z"
   },
   {
    "duration": 391,
    "start_time": "2021-08-15T19:32:15.932Z"
   },
   {
    "duration": 4,
    "start_time": "2021-08-15T19:33:25.493Z"
   },
   {
    "duration": 1410,
    "start_time": "2021-08-15T19:34:29.232Z"
   },
   {
    "duration": 48,
    "start_time": "2021-08-15T19:34:30.644Z"
   },
   {
    "duration": 36,
    "start_time": "2021-08-15T19:34:30.695Z"
   },
   {
    "duration": 29,
    "start_time": "2021-08-15T19:34:30.734Z"
   },
   {
    "duration": 18,
    "start_time": "2021-08-15T19:34:30.766Z"
   },
   {
    "duration": 9,
    "start_time": "2021-08-15T19:34:30.787Z"
   },
   {
    "duration": 28,
    "start_time": "2021-08-15T19:34:30.798Z"
   },
   {
    "duration": 33,
    "start_time": "2021-08-15T19:34:30.829Z"
   },
   {
    "duration": 5,
    "start_time": "2021-08-15T19:34:30.865Z"
   },
   {
    "duration": 42,
    "start_time": "2021-08-15T19:34:30.872Z"
   },
   {
    "duration": 15,
    "start_time": "2021-08-15T19:39:14.966Z"
   },
   {
    "duration": 15,
    "start_time": "2021-08-15T19:39:22.795Z"
   },
   {
    "duration": 11,
    "start_time": "2021-08-15T19:39:34.067Z"
   },
   {
    "duration": 1369,
    "start_time": "2021-08-15T19:39:40.964Z"
   },
   {
    "duration": 47,
    "start_time": "2021-08-15T19:39:42.335Z"
   },
   {
    "duration": 42,
    "start_time": "2021-08-15T19:39:42.386Z"
   },
   {
    "duration": 29,
    "start_time": "2021-08-15T19:39:42.432Z"
   },
   {
    "duration": 5,
    "start_time": "2021-08-15T19:39:42.465Z"
   },
   {
    "duration": 7,
    "start_time": "2021-08-15T19:39:42.473Z"
   },
   {
    "duration": 29,
    "start_time": "2021-08-15T19:39:42.483Z"
   },
   {
    "duration": 51,
    "start_time": "2021-08-15T19:39:42.514Z"
   },
   {
    "duration": 5,
    "start_time": "2021-08-15T19:39:42.569Z"
   },
   {
    "duration": 29,
    "start_time": "2021-08-15T19:39:42.576Z"
   },
   {
    "duration": 15,
    "start_time": "2021-08-15T19:39:52.452Z"
   },
   {
    "duration": 1368,
    "start_time": "2021-08-15T19:40:01.851Z"
   },
   {
    "duration": 46,
    "start_time": "2021-08-15T19:40:03.222Z"
   },
   {
    "duration": 35,
    "start_time": "2021-08-15T19:40:03.271Z"
   },
   {
    "duration": 20,
    "start_time": "2021-08-15T19:40:03.309Z"
   },
   {
    "duration": 29,
    "start_time": "2021-08-15T19:40:03.331Z"
   },
   {
    "duration": 30,
    "start_time": "2021-08-15T19:40:03.362Z"
   },
   {
    "duration": 49,
    "start_time": "2021-08-15T19:40:03.395Z"
   },
   {
    "duration": 9,
    "start_time": "2021-08-15T19:40:03.448Z"
   },
   {
    "duration": 18,
    "start_time": "2021-08-15T19:40:03.460Z"
   },
   {
    "duration": 44,
    "start_time": "2021-08-15T19:40:03.481Z"
   },
   {
    "duration": 16,
    "start_time": "2021-08-15T19:43:42.621Z"
   },
   {
    "duration": 1467,
    "start_time": "2021-08-15T19:43:50.555Z"
   },
   {
    "duration": 49,
    "start_time": "2021-08-15T19:43:52.025Z"
   },
   {
    "duration": 37,
    "start_time": "2021-08-15T19:43:52.078Z"
   },
   {
    "duration": 5,
    "start_time": "2021-08-15T19:43:52.118Z"
   },
   {
    "duration": 36,
    "start_time": "2021-08-15T19:43:52.126Z"
   },
   {
    "duration": 7,
    "start_time": "2021-08-15T19:43:52.165Z"
   },
   {
    "duration": 47,
    "start_time": "2021-08-15T19:43:52.175Z"
   },
   {
    "duration": 39,
    "start_time": "2021-08-15T19:43:52.226Z"
   },
   {
    "duration": 7,
    "start_time": "2021-08-15T19:43:52.268Z"
   },
   {
    "duration": 31,
    "start_time": "2021-08-15T19:43:52.278Z"
   },
   {
    "duration": 121,
    "start_time": "2021-08-15T19:58:34.949Z"
   },
   {
    "duration": 128,
    "start_time": "2021-08-15T19:58:43.598Z"
   },
   {
    "duration": 6,
    "start_time": "2021-08-15T19:59:01.476Z"
   },
   {
    "duration": 134,
    "start_time": "2021-08-15T20:00:39.932Z"
   },
   {
    "duration": 141,
    "start_time": "2021-08-15T20:01:01.878Z"
   },
   {
    "duration": 122,
    "start_time": "2021-08-15T20:01:24.829Z"
   },
   {
    "duration": 1451,
    "start_time": "2021-08-15T20:01:30.236Z"
   },
   {
    "duration": 49,
    "start_time": "2021-08-15T20:01:31.691Z"
   },
   {
    "duration": 51,
    "start_time": "2021-08-15T20:01:31.744Z"
   },
   {
    "duration": 5,
    "start_time": "2021-08-15T20:01:31.798Z"
   },
   {
    "duration": 20,
    "start_time": "2021-08-15T20:01:31.806Z"
   },
   {
    "duration": 29,
    "start_time": "2021-08-15T20:01:31.829Z"
   },
   {
    "duration": 132,
    "start_time": "2021-08-15T20:01:31.861Z"
   },
   {
    "duration": 87,
    "start_time": "2021-08-15T20:01:31.908Z"
   },
   {
    "duration": 87,
    "start_time": "2021-08-15T20:01:31.910Z"
   },
   {
    "duration": 86,
    "start_time": "2021-08-15T20:01:31.912Z"
   },
   {
    "duration": 73,
    "start_time": "2021-08-15T20:01:31.927Z"
   },
   {
    "duration": 70,
    "start_time": "2021-08-15T20:01:31.931Z"
   },
   {
    "duration": 119,
    "start_time": "2021-08-15T20:01:47.832Z"
   },
   {
    "duration": 38,
    "start_time": "2021-08-15T20:01:56.323Z"
   },
   {
    "duration": 126,
    "start_time": "2021-08-15T20:02:17.231Z"
   },
   {
    "duration": 721,
    "start_time": "2021-08-15T20:02:23.925Z"
   },
   {
    "duration": 646,
    "start_time": "2021-08-15T20:02:47.460Z"
   },
   {
    "duration": 605,
    "start_time": "2021-08-15T20:03:05.404Z"
   },
   {
    "duration": 548,
    "start_time": "2021-08-15T20:03:17.218Z"
   },
   {
    "duration": 566,
    "start_time": "2021-08-15T20:03:41.822Z"
   },
   {
    "duration": 622,
    "start_time": "2021-08-15T20:04:00.632Z"
   },
   {
    "duration": 479,
    "start_time": "2021-08-15T20:04:09.509Z"
   },
   {
    "duration": 1328,
    "start_time": "2021-08-16T05:55:38.818Z"
   },
   {
    "duration": 49,
    "start_time": "2021-08-16T05:55:40.149Z"
   },
   {
    "duration": 39,
    "start_time": "2021-08-16T05:55:40.201Z"
   },
   {
    "duration": 7,
    "start_time": "2021-08-16T05:55:40.263Z"
   },
   {
    "duration": 20,
    "start_time": "2021-08-16T05:55:40.273Z"
   },
   {
    "duration": 24,
    "start_time": "2021-08-16T05:55:40.295Z"
   },
   {
    "duration": 41,
    "start_time": "2021-08-16T05:55:40.321Z"
   },
   {
    "duration": 114,
    "start_time": "2021-08-16T05:55:40.365Z"
   },
   {
    "duration": -8,
    "start_time": "2021-08-16T05:55:40.490Z"
   },
   {
    "duration": -12,
    "start_time": "2021-08-16T05:55:40.495Z"
   },
   {
    "duration": -13,
    "start_time": "2021-08-16T05:55:40.498Z"
   },
   {
    "duration": -14,
    "start_time": "2021-08-16T05:55:40.500Z"
   },
   {
    "duration": 1312,
    "start_time": "2021-08-16T05:56:19.705Z"
   },
   {
    "duration": 52,
    "start_time": "2021-08-16T05:56:21.020Z"
   },
   {
    "duration": 40,
    "start_time": "2021-08-16T05:56:21.076Z"
   },
   {
    "duration": 6,
    "start_time": "2021-08-16T05:56:21.119Z"
   },
   {
    "duration": 36,
    "start_time": "2021-08-16T05:56:21.128Z"
   },
   {
    "duration": 9,
    "start_time": "2021-08-16T05:56:21.167Z"
   },
   {
    "duration": 41,
    "start_time": "2021-08-16T05:56:21.179Z"
   },
   {
    "duration": 509,
    "start_time": "2021-08-16T05:56:21.225Z"
   },
   {
    "duration": 8,
    "start_time": "2021-08-16T05:56:21.736Z"
   },
   {
    "duration": 22,
    "start_time": "2021-08-16T05:56:21.746Z"
   },
   {
    "duration": 31,
    "start_time": "2021-08-16T05:56:21.771Z"
   },
   {
    "duration": 11,
    "start_time": "2021-08-16T06:00:56.045Z"
   },
   {
    "duration": 44,
    "start_time": "2021-08-16T06:13:47.673Z"
   },
   {
    "duration": 475,
    "start_time": "2021-08-16T06:56:46.729Z"
   },
   {
    "duration": 5,
    "start_time": "2021-08-16T06:58:05.193Z"
   },
   {
    "duration": 31,
    "start_time": "2021-08-16T06:58:07.281Z"
   },
   {
    "duration": 18,
    "start_time": "2021-08-16T07:05:16.362Z"
   },
   {
    "duration": 36,
    "start_time": "2021-08-16T07:08:20.222Z"
   },
   {
    "duration": 35,
    "start_time": "2021-08-16T07:09:22.231Z"
   },
   {
    "duration": 27,
    "start_time": "2021-08-16T07:09:50.406Z"
   },
   {
    "duration": 32,
    "start_time": "2021-08-16T07:10:02.142Z"
   },
   {
    "duration": 25,
    "start_time": "2021-08-16T07:10:09.934Z"
   },
   {
    "duration": 14,
    "start_time": "2021-08-16T07:11:28.862Z"
   },
   {
    "duration": 12,
    "start_time": "2021-08-16T07:11:47.516Z"
   },
   {
    "duration": 14,
    "start_time": "2021-08-16T07:11:50.085Z"
   },
   {
    "duration": 41,
    "start_time": "2021-08-16T07:12:03.164Z"
   },
   {
    "duration": 183,
    "start_time": "2021-08-16T07:18:15.560Z"
   },
   {
    "duration": 791,
    "start_time": "2021-08-16T07:19:02.878Z"
   },
   {
    "duration": 636,
    "start_time": "2021-08-16T07:20:00.189Z"
   },
   {
    "duration": 671,
    "start_time": "2021-08-16T07:20:27.356Z"
   },
   {
    "duration": 7,
    "start_time": "2021-08-16T07:53:43.613Z"
   },
   {
    "duration": 8,
    "start_time": "2021-08-16T07:54:28.284Z"
   },
   {
    "duration": 389,
    "start_time": "2021-08-16T07:56:42.115Z"
   },
   {
    "duration": 177,
    "start_time": "2021-08-16T07:56:50.227Z"
   },
   {
    "duration": 6,
    "start_time": "2021-08-16T07:57:07.259Z"
   },
   {
    "duration": 6,
    "start_time": "2021-08-16T07:57:56.450Z"
   },
   {
    "duration": 6,
    "start_time": "2021-08-16T08:04:45.362Z"
   },
   {
    "duration": 663,
    "start_time": "2021-08-16T08:07:49.352Z"
   },
   {
    "duration": 635,
    "start_time": "2021-08-16T08:08:06.241Z"
   },
   {
    "duration": 822,
    "start_time": "2021-08-16T08:08:18.520Z"
   },
   {
    "duration": 621,
    "start_time": "2021-08-16T08:08:23.937Z"
   },
   {
    "duration": 775,
    "start_time": "2021-08-16T08:08:46.730Z"
   },
   {
    "duration": 891,
    "start_time": "2021-08-16T08:08:52.640Z"
   },
   {
    "duration": 866,
    "start_time": "2021-08-16T08:09:24.447Z"
   },
   {
    "duration": 878,
    "start_time": "2021-08-16T08:09:39.055Z"
   },
   {
    "duration": 845,
    "start_time": "2021-08-16T08:09:57.520Z"
   },
   {
    "duration": 473,
    "start_time": "2021-08-16T08:12:52.604Z"
   },
   {
    "duration": 491,
    "start_time": "2021-08-16T08:13:24.819Z"
   },
   {
    "duration": 475,
    "start_time": "2021-08-16T08:14:16.739Z"
   },
   {
    "duration": 506,
    "start_time": "2021-08-16T08:14:20.762Z"
   },
   {
    "duration": 1478,
    "start_time": "2021-08-16T08:14:39.597Z"
   },
   {
    "duration": 47,
    "start_time": "2021-08-16T08:14:41.078Z"
   },
   {
    "duration": 45,
    "start_time": "2021-08-16T08:14:41.128Z"
   },
   {
    "duration": 4,
    "start_time": "2021-08-16T08:14:41.177Z"
   },
   {
    "duration": 40,
    "start_time": "2021-08-16T08:14:41.184Z"
   },
   {
    "duration": 28,
    "start_time": "2021-08-16T08:14:41.226Z"
   },
   {
    "duration": 68,
    "start_time": "2021-08-16T08:14:41.257Z"
   },
   {
    "duration": 43,
    "start_time": "2021-08-16T08:14:41.328Z"
   },
   {
    "duration": 8,
    "start_time": "2021-08-16T08:14:41.374Z"
   },
   {
    "duration": 12,
    "start_time": "2021-08-16T08:14:41.385Z"
   },
   {
    "duration": 42,
    "start_time": "2021-08-16T08:14:41.400Z"
   },
   {
    "duration": 672,
    "start_time": "2021-08-16T08:14:41.444Z"
   },
   {
    "duration": 6,
    "start_time": "2021-08-16T08:14:42.119Z"
   },
   {
    "duration": 592,
    "start_time": "2021-08-16T08:14:42.127Z"
   },
   {
    "duration": 987,
    "start_time": "2021-08-16T08:15:13.632Z"
   },
   {
    "duration": 1452,
    "start_time": "2021-08-16T08:15:40.173Z"
   },
   {
    "duration": 46,
    "start_time": "2021-08-16T08:15:41.628Z"
   },
   {
    "duration": 35,
    "start_time": "2021-08-16T08:15:41.677Z"
   },
   {
    "duration": 5,
    "start_time": "2021-08-16T08:15:41.715Z"
   },
   {
    "duration": 4,
    "start_time": "2021-08-16T08:15:41.723Z"
   },
   {
    "duration": 35,
    "start_time": "2021-08-16T08:15:41.729Z"
   },
   {
    "duration": 52,
    "start_time": "2021-08-16T08:15:41.766Z"
   },
   {
    "duration": 55,
    "start_time": "2021-08-16T08:15:41.821Z"
   },
   {
    "duration": 9,
    "start_time": "2021-08-16T08:15:41.878Z"
   },
   {
    "duration": 16,
    "start_time": "2021-08-16T08:15:41.889Z"
   },
   {
    "duration": 46,
    "start_time": "2021-08-16T08:15:41.907Z"
   },
   {
    "duration": 654,
    "start_time": "2021-08-16T08:15:41.955Z"
   },
   {
    "duration": 6,
    "start_time": "2021-08-16T08:15:42.612Z"
   },
   {
    "duration": 486,
    "start_time": "2021-08-16T08:15:42.620Z"
   },
   {
    "duration": 17,
    "start_time": "2021-08-16T08:15:43.108Z"
   },
   {
    "duration": 26,
    "start_time": "2021-08-16T08:16:08.027Z"
   },
   {
    "duration": 1536,
    "start_time": "2021-08-16T08:19:04.110Z"
   },
   {
    "duration": 46,
    "start_time": "2021-08-16T08:19:05.649Z"
   },
   {
    "duration": 36,
    "start_time": "2021-08-16T08:19:05.698Z"
   },
   {
    "duration": 27,
    "start_time": "2021-08-16T08:19:05.737Z"
   },
   {
    "duration": 13,
    "start_time": "2021-08-16T08:19:05.766Z"
   },
   {
    "duration": 15,
    "start_time": "2021-08-16T08:19:05.781Z"
   },
   {
    "duration": 42,
    "start_time": "2021-08-16T08:19:05.798Z"
   },
   {
    "duration": 57,
    "start_time": "2021-08-16T08:19:05.843Z"
   },
   {
    "duration": 9,
    "start_time": "2021-08-16T08:19:05.902Z"
   },
   {
    "duration": 9,
    "start_time": "2021-08-16T08:19:05.914Z"
   },
   {
    "duration": 65,
    "start_time": "2021-08-16T08:19:05.925Z"
   },
   {
    "duration": 645,
    "start_time": "2021-08-16T08:19:05.993Z"
   },
   {
    "duration": 6,
    "start_time": "2021-08-16T08:19:06.641Z"
   },
   {
    "duration": 635,
    "start_time": "2021-08-16T08:19:06.661Z"
   },
   {
    "duration": 28,
    "start_time": "2021-08-16T08:19:07.298Z"
   },
   {
    "duration": 14,
    "start_time": "2021-08-16T08:19:25.856Z"
   },
   {
    "duration": 26,
    "start_time": "2021-08-16T08:20:39.766Z"
   },
   {
    "duration": 1928,
    "start_time": "2021-08-16T08:21:31.168Z"
   },
   {
    "duration": 61,
    "start_time": "2021-08-16T08:21:33.099Z"
   },
   {
    "duration": 35,
    "start_time": "2021-08-16T08:21:33.163Z"
   },
   {
    "duration": 5,
    "start_time": "2021-08-16T08:21:33.201Z"
   },
   {
    "duration": 14,
    "start_time": "2021-08-16T08:21:33.209Z"
   },
   {
    "duration": 11,
    "start_time": "2021-08-16T08:21:33.226Z"
   },
   {
    "duration": 58,
    "start_time": "2021-08-16T08:21:33.239Z"
   },
   {
    "duration": 64,
    "start_time": "2021-08-16T08:21:33.301Z"
   },
   {
    "duration": 9,
    "start_time": "2021-08-16T08:21:33.368Z"
   },
   {
    "duration": 9,
    "start_time": "2021-08-16T08:21:33.379Z"
   },
   {
    "duration": 51,
    "start_time": "2021-08-16T08:21:33.390Z"
   },
   {
    "duration": 684,
    "start_time": "2021-08-16T08:21:33.444Z"
   },
   {
    "duration": 6,
    "start_time": "2021-08-16T08:21:34.131Z"
   },
   {
    "duration": 31,
    "start_time": "2021-08-16T08:21:34.140Z"
   },
   {
    "duration": 640,
    "start_time": "2021-08-16T08:21:34.174Z"
   },
   {
    "duration": 28,
    "start_time": "2021-08-16T08:21:34.816Z"
   },
   {
    "duration": 656,
    "start_time": "2021-08-16T08:22:50.208Z"
   },
   {
    "duration": 28,
    "start_time": "2021-08-16T08:22:53.544Z"
   },
   {
    "duration": 1580,
    "start_time": "2021-08-16T08:23:30.265Z"
   },
   {
    "duration": 46,
    "start_time": "2021-08-16T08:23:31.848Z"
   },
   {
    "duration": 41,
    "start_time": "2021-08-16T08:23:31.897Z"
   },
   {
    "duration": 69,
    "start_time": "2021-08-16T08:23:31.940Z"
   },
   {
    "duration": 110,
    "start_time": "2021-08-16T08:23:32.012Z"
   },
   {
    "duration": 22,
    "start_time": "2021-08-16T08:23:32.125Z"
   },
   {
    "duration": 126,
    "start_time": "2021-08-16T08:23:32.150Z"
   },
   {
    "duration": 43,
    "start_time": "2021-08-16T08:23:32.280Z"
   },
   {
    "duration": 21,
    "start_time": "2021-08-16T08:23:32.326Z"
   },
   {
    "duration": 213,
    "start_time": "2021-08-16T08:23:32.350Z"
   },
   {
    "duration": 584,
    "start_time": "2021-08-16T08:23:32.565Z"
   },
   {
    "duration": 658,
    "start_time": "2021-08-16T08:23:33.152Z"
   },
   {
    "duration": 6,
    "start_time": "2021-08-16T08:23:33.812Z"
   },
   {
    "duration": 39,
    "start_time": "2021-08-16T08:23:33.821Z"
   },
   {
    "duration": 651,
    "start_time": "2021-08-16T08:23:33.865Z"
   },
   {
    "duration": 44,
    "start_time": "2021-08-16T08:23:34.518Z"
   },
   {
    "duration": 15,
    "start_time": "2021-08-16T08:24:23.486Z"
   },
   {
    "duration": 1874,
    "start_time": "2021-08-16T08:26:01.018Z"
   },
   {
    "duration": 48,
    "start_time": "2021-08-16T08:26:02.895Z"
   },
   {
    "duration": 46,
    "start_time": "2021-08-16T08:26:02.946Z"
   },
   {
    "duration": 5,
    "start_time": "2021-08-16T08:26:02.994Z"
   },
   {
    "duration": 30,
    "start_time": "2021-08-16T08:26:03.001Z"
   },
   {
    "duration": 19,
    "start_time": "2021-08-16T08:26:03.033Z"
   },
   {
    "duration": 42,
    "start_time": "2021-08-16T08:26:03.054Z"
   },
   {
    "duration": 43,
    "start_time": "2021-08-16T08:26:03.099Z"
   },
   {
    "duration": 25,
    "start_time": "2021-08-16T08:26:03.144Z"
   },
   {
    "duration": 7,
    "start_time": "2021-08-16T08:26:03.172Z"
   },
   {
    "duration": 36,
    "start_time": "2021-08-16T08:26:03.181Z"
   },
   {
    "duration": 677,
    "start_time": "2021-08-16T08:26:03.221Z"
   },
   {
    "duration": 8,
    "start_time": "2021-08-16T08:26:03.901Z"
   },
   {
    "duration": 16,
    "start_time": "2021-08-16T08:26:03.912Z"
   },
   {
    "duration": 520,
    "start_time": "2021-08-16T08:26:03.963Z"
   },
   {
    "duration": 17,
    "start_time": "2021-08-16T08:26:04.486Z"
   },
   {
    "duration": 148,
    "start_time": "2021-08-16T08:27:05.399Z"
   },
   {
    "duration": 719,
    "start_time": "2021-08-16T08:27:20.567Z"
   },
   {
    "duration": 695,
    "start_time": "2021-08-16T08:27:25.871Z"
   },
   {
    "duration": 652,
    "start_time": "2021-08-16T08:27:37.006Z"
   },
   {
    "duration": 656,
    "start_time": "2021-08-16T08:27:43.270Z"
   },
   {
    "duration": 602,
    "start_time": "2021-08-16T08:28:12.982Z"
   },
   {
    "duration": 638,
    "start_time": "2021-08-16T08:29:01.478Z"
   },
   {
    "duration": 636,
    "start_time": "2021-08-16T08:35:29.182Z"
   },
   {
    "duration": 466,
    "start_time": "2021-08-16T08:36:42.869Z"
   },
   {
    "duration": 36,
    "start_time": "2021-08-16T08:36:49.653Z"
   },
   {
    "duration": 1554,
    "start_time": "2021-08-16T08:37:36.585Z"
   },
   {
    "duration": 63,
    "start_time": "2021-08-16T08:37:38.143Z"
   },
   {
    "duration": 66,
    "start_time": "2021-08-16T08:37:38.211Z"
   },
   {
    "duration": 5,
    "start_time": "2021-08-16T08:37:38.280Z"
   },
   {
    "duration": 11,
    "start_time": "2021-08-16T08:37:38.287Z"
   },
   {
    "duration": 9,
    "start_time": "2021-08-16T08:37:38.301Z"
   },
   {
    "duration": 90,
    "start_time": "2021-08-16T08:37:38.314Z"
   },
   {
    "duration": 81,
    "start_time": "2021-08-16T08:37:38.409Z"
   },
   {
    "duration": 9,
    "start_time": "2021-08-16T08:37:38.492Z"
   },
   {
    "duration": 6,
    "start_time": "2021-08-16T08:37:38.503Z"
   },
   {
    "duration": 59,
    "start_time": "2021-08-16T08:37:38.512Z"
   },
   {
    "duration": 677,
    "start_time": "2021-08-16T08:37:38.573Z"
   },
   {
    "duration": 13,
    "start_time": "2021-08-16T08:37:39.252Z"
   },
   {
    "duration": 14,
    "start_time": "2021-08-16T08:37:39.267Z"
   },
   {
    "duration": 505,
    "start_time": "2021-08-16T08:37:39.283Z"
   },
   {
    "duration": 514,
    "start_time": "2021-08-16T08:37:39.791Z"
   },
   {
    "duration": 27,
    "start_time": "2021-08-16T08:37:42.351Z"
   },
   {
    "duration": 16,
    "start_time": "2021-08-16T08:38:31.927Z"
   },
   {
    "duration": 381,
    "start_time": "2021-08-16T08:47:45.982Z"
   },
   {
    "duration": 6,
    "start_time": "2021-08-16T08:47:53.710Z"
   },
   {
    "duration": 30,
    "start_time": "2021-08-16T08:48:03.494Z"
   },
   {
    "duration": 2011,
    "start_time": "2021-08-16T08:48:48.854Z"
   },
   {
    "duration": 62,
    "start_time": "2021-08-16T08:48:50.868Z"
   },
   {
    "duration": 61,
    "start_time": "2021-08-16T08:48:50.934Z"
   },
   {
    "duration": 8,
    "start_time": "2021-08-16T08:48:50.998Z"
   },
   {
    "duration": 21,
    "start_time": "2021-08-16T08:48:51.009Z"
   },
   {
    "duration": 10,
    "start_time": "2021-08-16T08:48:51.033Z"
   },
   {
    "duration": 54,
    "start_time": "2021-08-16T08:48:51.064Z"
   },
   {
    "duration": 83,
    "start_time": "2021-08-16T08:48:51.123Z"
   },
   {
    "duration": 11,
    "start_time": "2021-08-16T08:48:51.210Z"
   },
   {
    "duration": 10,
    "start_time": "2021-08-16T08:48:51.224Z"
   },
   {
    "duration": 54,
    "start_time": "2021-08-16T08:48:51.237Z"
   },
   {
    "duration": 719,
    "start_time": "2021-08-16T08:48:51.294Z"
   },
   {
    "duration": 7,
    "start_time": "2021-08-16T08:48:52.015Z"
   },
   {
    "duration": 15,
    "start_time": "2021-08-16T08:48:52.024Z"
   },
   {
    "duration": 504,
    "start_time": "2021-08-16T08:48:52.063Z"
   },
   {
    "duration": 4,
    "start_time": "2021-08-16T08:48:52.570Z"
   },
   {
    "duration": 36,
    "start_time": "2021-08-16T08:48:52.577Z"
   },
   {
    "duration": 6,
    "start_time": "2021-08-16T08:49:03.043Z"
   },
   {
    "duration": 30,
    "start_time": "2021-08-16T08:49:04.682Z"
   },
   {
    "duration": 15,
    "start_time": "2021-08-16T08:49:11.729Z"
   },
   {
    "duration": 1513,
    "start_time": "2021-08-16T08:53:06.939Z"
   },
   {
    "duration": 47,
    "start_time": "2021-08-16T08:53:08.455Z"
   },
   {
    "duration": 57,
    "start_time": "2021-08-16T08:53:08.505Z"
   },
   {
    "duration": 7,
    "start_time": "2021-08-16T08:53:08.566Z"
   },
   {
    "duration": 19,
    "start_time": "2021-08-16T08:53:08.576Z"
   },
   {
    "duration": 17,
    "start_time": "2021-08-16T08:53:08.598Z"
   },
   {
    "duration": 65,
    "start_time": "2021-08-16T08:53:08.619Z"
   },
   {
    "duration": 42,
    "start_time": "2021-08-16T08:53:08.688Z"
   },
   {
    "duration": 33,
    "start_time": "2021-08-16T08:53:08.733Z"
   },
   {
    "duration": 6,
    "start_time": "2021-08-16T08:53:08.768Z"
   },
   {
    "duration": 37,
    "start_time": "2021-08-16T08:53:08.776Z"
   },
   {
    "duration": 695,
    "start_time": "2021-08-16T08:53:08.815Z"
   },
   {
    "duration": 7,
    "start_time": "2021-08-16T08:53:09.512Z"
   },
   {
    "duration": 40,
    "start_time": "2021-08-16T08:53:09.522Z"
   },
   {
    "duration": 853,
    "start_time": "2021-08-16T08:53:09.566Z"
   },
   {
    "duration": -50,
    "start_time": "2021-08-16T08:53:10.473Z"
   },
   {
    "duration": -53,
    "start_time": "2021-08-16T08:53:10.478Z"
   },
   {
    "duration": 464,
    "start_time": "2021-08-16T08:54:51.385Z"
   },
   {
    "duration": 6,
    "start_time": "2021-08-16T08:54:55.440Z"
   },
   {
    "duration": 15,
    "start_time": "2021-08-16T08:54:55.944Z"
   },
   {
    "duration": 26,
    "start_time": "2021-08-16T08:55:15.224Z"
   },
   {
    "duration": 1486,
    "start_time": "2021-08-16T08:55:35.642Z"
   },
   {
    "duration": 47,
    "start_time": "2021-08-16T08:55:37.131Z"
   },
   {
    "duration": 36,
    "start_time": "2021-08-16T08:55:37.181Z"
   },
   {
    "duration": 5,
    "start_time": "2021-08-16T08:55:37.220Z"
   },
   {
    "duration": 6,
    "start_time": "2021-08-16T08:55:37.227Z"
   },
   {
    "duration": 30,
    "start_time": "2021-08-16T08:55:37.235Z"
   },
   {
    "duration": 39,
    "start_time": "2021-08-16T08:55:37.267Z"
   },
   {
    "duration": 70,
    "start_time": "2021-08-16T08:55:37.310Z"
   },
   {
    "duration": 9,
    "start_time": "2021-08-16T08:55:37.383Z"
   },
   {
    "duration": 5,
    "start_time": "2021-08-16T08:55:37.395Z"
   },
   {
    "duration": 61,
    "start_time": "2021-08-16T08:55:37.403Z"
   },
   {
    "duration": 643,
    "start_time": "2021-08-16T08:55:37.466Z"
   },
   {
    "duration": 7,
    "start_time": "2021-08-16T08:55:38.111Z"
   },
   {
    "duration": 41,
    "start_time": "2021-08-16T08:55:38.121Z"
   },
   {
    "duration": 27,
    "start_time": "2021-08-16T08:55:38.165Z"
   },
   {
    "duration": 492,
    "start_time": "2021-08-16T08:55:38.195Z"
   },
   {
    "duration": 6,
    "start_time": "2021-08-16T08:55:38.690Z"
   },
   {
    "duration": 44,
    "start_time": "2021-08-16T08:55:38.699Z"
   },
   {
    "duration": 1477,
    "start_time": "2021-08-16T08:56:59.459Z"
   },
   {
    "duration": 48,
    "start_time": "2021-08-16T08:57:00.938Z"
   },
   {
    "duration": 36,
    "start_time": "2021-08-16T08:57:00.989Z"
   },
   {
    "duration": 11,
    "start_time": "2021-08-16T08:57:01.028Z"
   },
   {
    "duration": 5,
    "start_time": "2021-08-16T08:57:01.063Z"
   },
   {
    "duration": 20,
    "start_time": "2021-08-16T08:57:01.070Z"
   },
   {
    "duration": 52,
    "start_time": "2021-08-16T08:57:01.092Z"
   },
   {
    "duration": 46,
    "start_time": "2021-08-16T08:57:01.148Z"
   },
   {
    "duration": 9,
    "start_time": "2021-08-16T08:57:01.196Z"
   },
   {
    "duration": 14,
    "start_time": "2021-08-16T08:57:01.207Z"
   },
   {
    "duration": 56,
    "start_time": "2021-08-16T08:57:01.224Z"
   },
   {
    "duration": 694,
    "start_time": "2021-08-16T08:57:01.282Z"
   },
   {
    "duration": 7,
    "start_time": "2021-08-16T08:57:01.978Z"
   },
   {
    "duration": 28,
    "start_time": "2021-08-16T08:57:01.987Z"
   },
   {
    "duration": 58,
    "start_time": "2021-08-16T08:57:02.018Z"
   },
   {
    "duration": 511,
    "start_time": "2021-08-16T08:57:02.079Z"
   },
   {
    "duration": 511,
    "start_time": "2021-08-16T08:57:02.593Z"
   },
   {
    "duration": -61,
    "start_time": "2021-08-16T08:57:03.167Z"
   },
   {
    "duration": 32,
    "start_time": "2021-08-16T08:58:12.707Z"
   },
   {
    "duration": 1516,
    "start_time": "2021-08-16T08:58:47.221Z"
   },
   {
    "duration": 49,
    "start_time": "2021-08-16T08:58:48.739Z"
   },
   {
    "duration": 37,
    "start_time": "2021-08-16T08:58:48.790Z"
   },
   {
    "duration": 10,
    "start_time": "2021-08-16T08:58:48.829Z"
   },
   {
    "duration": 4,
    "start_time": "2021-08-16T08:58:48.862Z"
   },
   {
    "duration": 33,
    "start_time": "2021-08-16T08:58:48.869Z"
   },
   {
    "duration": 48,
    "start_time": "2021-08-16T08:58:48.905Z"
   },
   {
    "duration": 45,
    "start_time": "2021-08-16T08:58:48.959Z"
   },
   {
    "duration": 11,
    "start_time": "2021-08-16T08:58:49.007Z"
   },
   {
    "duration": 23,
    "start_time": "2021-08-16T08:58:49.020Z"
   },
   {
    "duration": 54,
    "start_time": "2021-08-16T08:58:49.045Z"
   },
   {
    "duration": 632,
    "start_time": "2021-08-16T08:58:49.102Z"
   },
   {
    "duration": 8,
    "start_time": "2021-08-16T08:58:49.737Z"
   },
   {
    "duration": 17,
    "start_time": "2021-08-16T08:58:49.763Z"
   },
   {
    "duration": 28,
    "start_time": "2021-08-16T08:58:49.783Z"
   },
   {
    "duration": 501,
    "start_time": "2021-08-16T08:58:49.814Z"
   },
   {
    "duration": 17,
    "start_time": "2021-08-16T08:58:50.317Z"
   },
   {
    "duration": 46,
    "start_time": "2021-08-16T08:58:50.336Z"
   },
   {
    "duration": 13,
    "start_time": "2021-08-16T08:59:15.699Z"
   },
   {
    "duration": 9,
    "start_time": "2021-08-16T09:00:07.097Z"
   },
   {
    "duration": 6,
    "start_time": "2021-08-16T09:00:21.433Z"
   },
   {
    "duration": 16,
    "start_time": "2021-08-16T09:00:28.528Z"
   },
   {
    "duration": 484,
    "start_time": "2021-08-16T09:16:18.905Z"
   },
   {
    "duration": 15,
    "start_time": "2021-08-16T09:16:19.451Z"
   },
   {
    "duration": 14,
    "start_time": "2021-08-16T09:18:40.039Z"
   },
   {
    "duration": 26,
    "start_time": "2021-08-16T09:18:59.335Z"
   },
   {
    "duration": 4,
    "start_time": "2021-08-16T09:19:19.439Z"
   },
   {
    "duration": 5,
    "start_time": "2021-08-16T09:19:51.630Z"
   },
   {
    "duration": 28,
    "start_time": "2021-08-16T09:19:57.589Z"
   },
   {
    "duration": 1447,
    "start_time": "2021-08-16T09:20:12.204Z"
   },
   {
    "duration": 51,
    "start_time": "2021-08-16T09:20:13.654Z"
   },
   {
    "duration": 58,
    "start_time": "2021-08-16T09:20:13.708Z"
   },
   {
    "duration": 6,
    "start_time": "2021-08-16T09:20:13.769Z"
   },
   {
    "duration": 5,
    "start_time": "2021-08-16T09:20:13.779Z"
   },
   {
    "duration": 5,
    "start_time": "2021-08-16T09:20:13.790Z"
   },
   {
    "duration": 82,
    "start_time": "2021-08-16T09:20:13.798Z"
   },
   {
    "duration": 78,
    "start_time": "2021-08-16T09:20:13.883Z"
   },
   {
    "duration": 11,
    "start_time": "2021-08-16T09:20:13.965Z"
   },
   {
    "duration": 6,
    "start_time": "2021-08-16T09:20:13.979Z"
   },
   {
    "duration": 72,
    "start_time": "2021-08-16T09:20:13.989Z"
   },
   {
    "duration": 648,
    "start_time": "2021-08-16T09:20:14.064Z"
   },
   {
    "duration": 7,
    "start_time": "2021-08-16T09:20:14.715Z"
   },
   {
    "duration": 14,
    "start_time": "2021-08-16T09:20:14.724Z"
   },
   {
    "duration": 27,
    "start_time": "2021-08-16T09:20:14.763Z"
   },
   {
    "duration": 821,
    "start_time": "2021-08-16T09:20:14.793Z"
   },
   {
    "duration": 45,
    "start_time": "2021-08-16T09:20:15.617Z"
   },
   {
    "duration": 17,
    "start_time": "2021-08-16T09:20:15.666Z"
   },
   {
    "duration": 5,
    "start_time": "2021-08-16T09:20:15.685Z"
   },
   {
    "duration": 31,
    "start_time": "2021-08-16T09:20:15.692Z"
   },
   {
    "duration": 465,
    "start_time": "2021-08-16T09:25:16.462Z"
   },
   {
    "duration": 325,
    "start_time": "2021-08-16T09:25:48.950Z"
   },
   {
    "duration": 11,
    "start_time": "2021-08-16T09:26:03.837Z"
   },
   {
    "duration": 24,
    "start_time": "2021-08-16T09:27:51.171Z"
   },
   {
    "duration": 1513,
    "start_time": "2021-08-16T09:28:01.062Z"
   },
   {
    "duration": 49,
    "start_time": "2021-08-16T09:28:02.578Z"
   },
   {
    "duration": 44,
    "start_time": "2021-08-16T09:28:02.630Z"
   },
   {
    "duration": 6,
    "start_time": "2021-08-16T09:28:02.677Z"
   },
   {
    "duration": 14,
    "start_time": "2021-08-16T09:28:02.685Z"
   },
   {
    "duration": 23,
    "start_time": "2021-08-16T09:28:02.702Z"
   },
   {
    "duration": 61,
    "start_time": "2021-08-16T09:28:02.728Z"
   },
   {
    "duration": 45,
    "start_time": "2021-08-16T09:28:02.793Z"
   },
   {
    "duration": 24,
    "start_time": "2021-08-16T09:28:02.861Z"
   },
   {
    "duration": 6,
    "start_time": "2021-08-16T09:28:02.888Z"
   },
   {
    "duration": 42,
    "start_time": "2021-08-16T09:28:02.897Z"
   },
   {
    "duration": 674,
    "start_time": "2021-08-16T09:28:02.962Z"
   },
   {
    "duration": 6,
    "start_time": "2021-08-16T09:28:03.638Z"
   },
   {
    "duration": 17,
    "start_time": "2021-08-16T09:28:03.662Z"
   },
   {
    "duration": 34,
    "start_time": "2021-08-16T09:28:03.681Z"
   },
   {
    "duration": 518,
    "start_time": "2021-08-16T09:28:03.717Z"
   },
   {
    "duration": 33,
    "start_time": "2021-08-16T09:28:04.237Z"
   },
   {
    "duration": 40,
    "start_time": "2021-08-16T09:28:04.273Z"
   },
   {
    "duration": 12,
    "start_time": "2021-08-16T09:28:04.316Z"
   },
   {
    "duration": 58,
    "start_time": "2021-08-16T09:28:04.331Z"
   },
   {
    "duration": 50,
    "start_time": "2021-08-16T09:30:04.439Z"
   },
   {
    "duration": 27,
    "start_time": "2021-08-16T09:30:35.501Z"
   },
   {
    "duration": 27,
    "start_time": "2021-08-16T11:00:06.567Z"
   },
   {
    "duration": 18,
    "start_time": "2021-08-16T11:01:02.710Z"
   },
   {
    "duration": 49,
    "start_time": "2021-08-16T12:17:41.744Z"
   },
   {
    "duration": 2293,
    "start_time": "2021-08-16T12:17:57.033Z"
   },
   {
    "duration": 52,
    "start_time": "2021-08-16T12:17:59.329Z"
   },
   {
    "duration": 36,
    "start_time": "2021-08-16T12:17:59.384Z"
   },
   {
    "duration": 5,
    "start_time": "2021-08-16T12:17:59.423Z"
   },
   {
    "duration": 33,
    "start_time": "2021-08-16T12:17:59.431Z"
   },
   {
    "duration": 19,
    "start_time": "2021-08-16T12:17:59.466Z"
   },
   {
    "duration": 47,
    "start_time": "2021-08-16T12:17:59.487Z"
   },
   {
    "duration": 52,
    "start_time": "2021-08-16T12:17:59.538Z"
   },
   {
    "duration": 21,
    "start_time": "2021-08-16T12:17:59.593Z"
   },
   {
    "duration": 28,
    "start_time": "2021-08-16T12:17:59.616Z"
   },
   {
    "duration": 42,
    "start_time": "2021-08-16T12:17:59.646Z"
   },
   {
    "duration": 678,
    "start_time": "2021-08-16T12:17:59.690Z"
   },
   {
    "duration": 9,
    "start_time": "2021-08-16T12:18:00.371Z"
   },
   {
    "duration": 46,
    "start_time": "2021-08-16T12:18:00.383Z"
   },
   {
    "duration": 40,
    "start_time": "2021-08-16T12:18:00.433Z"
   },
   {
    "duration": 516,
    "start_time": "2021-08-16T12:18:00.476Z"
   },
   {
    "duration": 17,
    "start_time": "2021-08-16T12:18:00.995Z"
   },
   {
    "duration": 28,
    "start_time": "2021-08-16T12:18:01.015Z"
   },
   {
    "duration": 17,
    "start_time": "2021-08-16T12:18:01.046Z"
   },
   {
    "duration": 31,
    "start_time": "2021-08-16T12:18:01.065Z"
   },
   {
    "duration": 48,
    "start_time": "2021-08-16T12:18:01.098Z"
   },
   {
    "duration": 15,
    "start_time": "2021-08-16T12:55:14.797Z"
   },
   {
    "duration": 34,
    "start_time": "2021-08-16T13:02:58.602Z"
   },
   {
    "duration": 446,
    "start_time": "2021-08-16T13:33:18.085Z"
   },
   {
    "duration": 6,
    "start_time": "2021-08-16T13:33:28.981Z"
   },
   {
    "duration": 15,
    "start_time": "2021-08-16T13:33:40.685Z"
   },
   {
    "duration": 14,
    "start_time": "2021-08-16T13:33:57.565Z"
   },
   {
    "duration": 423,
    "start_time": "2021-08-16T13:52:37.020Z"
   },
   {
    "duration": 401,
    "start_time": "2021-08-16T13:52:53.787Z"
   },
   {
    "duration": 1419,
    "start_time": "2021-08-16T13:54:13.616Z"
   },
   {
    "duration": 45,
    "start_time": "2021-08-16T13:54:15.038Z"
   },
   {
    "duration": 35,
    "start_time": "2021-08-16T13:54:15.086Z"
   },
   {
    "duration": 7,
    "start_time": "2021-08-16T13:54:15.124Z"
   },
   {
    "duration": 33,
    "start_time": "2021-08-16T13:54:15.133Z"
   },
   {
    "duration": 9,
    "start_time": "2021-08-16T13:54:15.169Z"
   },
   {
    "duration": 45,
    "start_time": "2021-08-16T13:54:15.180Z"
   },
   {
    "duration": 60,
    "start_time": "2021-08-16T13:54:15.229Z"
   },
   {
    "duration": 23,
    "start_time": "2021-08-16T13:54:15.292Z"
   },
   {
    "duration": 6,
    "start_time": "2021-08-16T13:54:15.317Z"
   },
   {
    "duration": 62,
    "start_time": "2021-08-16T13:54:15.325Z"
   },
   {
    "duration": 949,
    "start_time": "2021-08-16T13:54:15.390Z"
   },
   {
    "duration": 19,
    "start_time": "2021-08-16T13:54:16.343Z"
   },
   {
    "duration": 14,
    "start_time": "2021-08-16T13:54:16.366Z"
   },
   {
    "duration": 27,
    "start_time": "2021-08-16T13:54:16.384Z"
   },
   {
    "duration": 493,
    "start_time": "2021-08-16T13:54:16.413Z"
   },
   {
    "duration": 23,
    "start_time": "2021-08-16T13:54:16.909Z"
   },
   {
    "duration": 46,
    "start_time": "2021-08-16T13:54:16.935Z"
   },
   {
    "duration": 6,
    "start_time": "2021-08-16T13:54:16.984Z"
   },
   {
    "duration": 30,
    "start_time": "2021-08-16T13:54:16.993Z"
   },
   {
    "duration": 43,
    "start_time": "2021-08-16T13:54:17.026Z"
   },
   {
    "duration": 46,
    "start_time": "2021-08-16T13:54:17.073Z"
   },
   {
    "duration": 441,
    "start_time": "2021-08-16T13:54:17.126Z"
   },
   {
    "duration": 6,
    "start_time": "2021-08-16T13:54:17.570Z"
   },
   {
    "duration": 21,
    "start_time": "2021-08-16T13:54:17.578Z"
   },
   {
    "duration": 408,
    "start_time": "2021-08-16T13:54:17.602Z"
   },
   {
    "duration": 6,
    "start_time": "2021-08-16T14:08:46.645Z"
   },
   {
    "duration": 30,
    "start_time": "2021-08-16T15:05:44.771Z"
   },
   {
    "duration": 16,
    "start_time": "2021-08-16T15:06:27.159Z"
   },
   {
    "duration": 17,
    "start_time": "2021-08-16T15:06:48.989Z"
   },
   {
    "duration": 22,
    "start_time": "2021-08-16T15:09:16.881Z"
   },
   {
    "duration": 37,
    "start_time": "2021-08-16T15:10:11.666Z"
   },
   {
    "duration": 36,
    "start_time": "2021-08-16T15:11:47.500Z"
   },
   {
    "duration": 19,
    "start_time": "2021-08-16T15:15:06.878Z"
   },
   {
    "duration": 478,
    "start_time": "2021-08-16T15:16:11.944Z"
   },
   {
    "duration": 19,
    "start_time": "2021-08-16T15:17:50.210Z"
   },
   {
    "duration": 14,
    "start_time": "2021-08-16T15:17:56.778Z"
   },
   {
    "duration": 16,
    "start_time": "2021-08-16T15:19:00.912Z"
   },
   {
    "duration": 20,
    "start_time": "2021-08-16T15:23:13.199Z"
   },
   {
    "duration": 48,
    "start_time": "2021-08-16T15:23:29.292Z"
   },
   {
    "duration": 363,
    "start_time": "2021-08-16T15:25:14.647Z"
   },
   {
    "duration": 27,
    "start_time": "2021-08-16T15:25:19.951Z"
   },
   {
    "duration": 655,
    "start_time": "2021-08-16T15:30:52.496Z"
   },
   {
    "duration": 677,
    "start_time": "2021-08-16T15:33:54.581Z"
   },
   {
    "duration": 357,
    "start_time": "2021-08-16T15:34:31.777Z"
   },
   {
    "duration": 354,
    "start_time": "2021-08-16T15:36:56.793Z"
   },
   {
    "duration": 366,
    "start_time": "2021-08-16T15:37:09.169Z"
   },
   {
    "duration": 1563,
    "start_time": "2021-08-16T15:37:18.736Z"
   },
   {
    "duration": 48,
    "start_time": "2021-08-16T15:37:20.302Z"
   },
   {
    "duration": 43,
    "start_time": "2021-08-16T15:37:20.354Z"
   },
   {
    "duration": 6,
    "start_time": "2021-08-16T15:37:20.399Z"
   },
   {
    "duration": 10,
    "start_time": "2021-08-16T15:37:20.409Z"
   },
   {
    "duration": 5,
    "start_time": "2021-08-16T15:37:20.463Z"
   },
   {
    "duration": 41,
    "start_time": "2021-08-16T15:37:20.470Z"
   },
   {
    "duration": 76,
    "start_time": "2021-08-16T15:37:20.515Z"
   },
   {
    "duration": 21,
    "start_time": "2021-08-16T15:37:20.594Z"
   },
   {
    "duration": 5,
    "start_time": "2021-08-16T15:37:20.618Z"
   },
   {
    "duration": 31,
    "start_time": "2021-08-16T15:37:20.661Z"
   },
   {
    "duration": 674,
    "start_time": "2021-08-16T15:37:20.695Z"
   },
   {
    "duration": 7,
    "start_time": "2021-08-16T15:37:21.372Z"
   },
   {
    "duration": 14,
    "start_time": "2021-08-16T15:37:21.382Z"
   },
   {
    "duration": 65,
    "start_time": "2021-08-16T15:37:21.399Z"
   },
   {
    "duration": 505,
    "start_time": "2021-08-16T15:37:21.467Z"
   },
   {
    "duration": 25,
    "start_time": "2021-08-16T15:37:21.975Z"
   },
   {
    "duration": 59,
    "start_time": "2021-08-16T15:37:22.003Z"
   },
   {
    "duration": 6,
    "start_time": "2021-08-16T15:37:22.065Z"
   },
   {
    "duration": 33,
    "start_time": "2021-08-16T15:37:22.075Z"
   },
   {
    "duration": 15,
    "start_time": "2021-08-16T15:37:22.111Z"
   },
   {
    "duration": 33,
    "start_time": "2021-08-16T15:37:22.163Z"
   },
   {
    "duration": 467,
    "start_time": "2021-08-16T15:37:22.202Z"
   },
   {
    "duration": 6,
    "start_time": "2021-08-16T15:37:22.673Z"
   },
   {
    "duration": 26,
    "start_time": "2021-08-16T15:37:22.682Z"
   },
   {
    "duration": 645,
    "start_time": "2021-08-16T15:37:22.711Z"
   },
   {
    "duration": 23,
    "start_time": "2021-08-16T15:37:23.363Z"
   },
   {
    "duration": 22,
    "start_time": "2021-08-16T15:37:23.389Z"
   },
   {
    "duration": 54,
    "start_time": "2021-08-16T15:37:23.414Z"
   },
   {
    "duration": 31,
    "start_time": "2021-08-16T15:37:23.471Z"
   },
   {
    "duration": 566,
    "start_time": "2021-08-16T15:37:23.505Z"
   },
   {
    "duration": 1499,
    "start_time": "2021-08-17T05:47:43.572Z"
   },
   {
    "duration": 50,
    "start_time": "2021-08-17T05:47:45.074Z"
   },
   {
    "duration": 61,
    "start_time": "2021-08-17T05:47:45.127Z"
   },
   {
    "duration": 9,
    "start_time": "2021-08-17T05:47:45.191Z"
   },
   {
    "duration": 22,
    "start_time": "2021-08-17T05:47:45.203Z"
   },
   {
    "duration": 29,
    "start_time": "2021-08-17T05:47:45.228Z"
   },
   {
    "duration": 43,
    "start_time": "2021-08-17T05:47:45.260Z"
   },
   {
    "duration": 45,
    "start_time": "2021-08-17T05:47:45.307Z"
   },
   {
    "duration": 38,
    "start_time": "2021-08-17T05:47:45.355Z"
   },
   {
    "duration": 5,
    "start_time": "2021-08-17T05:47:45.396Z"
   },
   {
    "duration": 50,
    "start_time": "2021-08-17T05:47:45.403Z"
   },
   {
    "duration": 633,
    "start_time": "2021-08-17T05:47:45.455Z"
   },
   {
    "duration": 6,
    "start_time": "2021-08-17T05:47:46.090Z"
   },
   {
    "duration": 23,
    "start_time": "2021-08-17T05:47:46.098Z"
   },
   {
    "duration": 27,
    "start_time": "2021-08-17T05:47:46.124Z"
   },
   {
    "duration": 506,
    "start_time": "2021-08-17T05:47:46.153Z"
   },
   {
    "duration": 24,
    "start_time": "2021-08-17T05:47:46.661Z"
   },
   {
    "duration": 17,
    "start_time": "2021-08-17T05:47:46.687Z"
   },
   {
    "duration": 5,
    "start_time": "2021-08-17T05:47:46.706Z"
   },
   {
    "duration": 24,
    "start_time": "2021-08-17T05:47:46.713Z"
   },
   {
    "duration": 48,
    "start_time": "2021-08-17T05:47:46.739Z"
   },
   {
    "duration": 30,
    "start_time": "2021-08-17T05:47:46.790Z"
   },
   {
    "duration": 435,
    "start_time": "2021-08-17T05:47:46.824Z"
   },
   {
    "duration": 6,
    "start_time": "2021-08-17T05:47:47.262Z"
   },
   {
    "duration": 12,
    "start_time": "2021-08-17T05:47:47.286Z"
   },
   {
    "duration": 418,
    "start_time": "2021-08-17T05:47:47.301Z"
   },
   {
    "duration": 15,
    "start_time": "2021-08-17T05:47:47.722Z"
   },
   {
    "duration": 15,
    "start_time": "2021-08-17T05:47:47.739Z"
   },
   {
    "duration": 37,
    "start_time": "2021-08-17T05:47:47.757Z"
   },
   {
    "duration": 32,
    "start_time": "2021-08-17T05:47:47.796Z"
   },
   {
    "duration": 454,
    "start_time": "2021-08-17T05:47:47.830Z"
   },
   {
    "duration": 38,
    "start_time": "2021-08-17T05:48:56.626Z"
   },
   {
    "duration": 34,
    "start_time": "2021-08-17T05:49:44.268Z"
   },
   {
    "duration": 40,
    "start_time": "2021-08-17T05:50:52.175Z"
   },
   {
    "duration": 34,
    "start_time": "2021-08-17T05:51:24.479Z"
   },
   {
    "duration": 571,
    "start_time": "2021-08-17T06:03:29.459Z"
   },
   {
    "duration": 596,
    "start_time": "2021-08-17T06:06:40.433Z"
   },
   {
    "duration": 568,
    "start_time": "2021-08-17T06:07:11.873Z"
   },
   {
    "duration": 556,
    "start_time": "2021-08-17T06:07:19.065Z"
   },
   {
    "duration": 569,
    "start_time": "2021-08-17T06:07:33.528Z"
   },
   {
    "duration": 602,
    "start_time": "2021-08-17T06:07:50.324Z"
   },
   {
    "duration": -136,
    "start_time": "2021-08-17T06:08:10.759Z"
   },
   {
    "duration": 7808,
    "start_time": "2021-08-17T06:08:23.456Z"
   },
   {
    "duration": 30,
    "start_time": "2021-08-17T06:09:03.534Z"
   },
   {
    "duration": 8463,
    "start_time": "2021-08-17T06:10:37.006Z"
   },
   {
    "duration": 12,
    "start_time": "2021-08-17T06:11:32.908Z"
   },
   {
    "duration": 7667,
    "start_time": "2021-08-17T06:12:33.549Z"
   },
   {
    "duration": 440,
    "start_time": "2021-08-17T06:14:26.307Z"
   },
   {
    "duration": 8381,
    "start_time": "2021-08-17T06:14:44.737Z"
   },
   {
    "duration": 95,
    "start_time": "2021-08-17T06:16:31.288Z"
   },
   {
    "duration": 551,
    "start_time": "2021-08-17T06:16:38.694Z"
   },
   {
    "duration": 11,
    "start_time": "2021-08-17T06:19:21.260Z"
   },
   {
    "duration": 8496,
    "start_time": "2021-08-17T06:19:30.309Z"
   },
   {
    "duration": 35,
    "start_time": "2021-08-17T06:23:11.177Z"
   },
   {
    "duration": 420,
    "start_time": "2021-08-17T06:24:12.447Z"
   },
   {
    "duration": 405,
    "start_time": "2021-08-17T06:24:21.735Z"
   },
   {
    "duration": 344,
    "start_time": "2021-08-17T06:24:29.711Z"
   },
   {
    "duration": 429,
    "start_time": "2021-08-17T06:27:53.573Z"
   },
   {
    "duration": 431,
    "start_time": "2021-08-17T06:28:08.820Z"
   },
   {
    "duration": 634,
    "start_time": "2021-08-17T06:28:24.109Z"
   },
   {
    "duration": 339,
    "start_time": "2021-08-17T06:28:59.980Z"
   },
   {
    "duration": 275,
    "start_time": "2021-08-17T06:30:02.739Z"
   },
   {
    "duration": 71,
    "start_time": "2021-08-17T06:30:09.971Z"
   },
   {
    "duration": 954,
    "start_time": "2021-08-17T06:33:14.808Z"
   },
   {
    "duration": 503,
    "start_time": "2021-08-17T06:33:26.695Z"
   },
   {
    "duration": 471,
    "start_time": "2021-08-17T06:33:34.583Z"
   },
   {
    "duration": 422,
    "start_time": "2021-08-17T06:33:47.846Z"
   },
   {
    "duration": 48,
    "start_time": "2021-08-17T06:34:04.232Z"
   },
   {
    "duration": 76,
    "start_time": "2021-08-17T06:34:18.022Z"
   },
   {
    "duration": 81,
    "start_time": "2021-08-17T06:34:30.424Z"
   },
   {
    "duration": 73,
    "start_time": "2021-08-17T06:35:28.230Z"
   },
   {
    "duration": 79,
    "start_time": "2021-08-17T06:36:09.525Z"
   },
   {
    "duration": 16,
    "start_time": "2021-08-17T12:35:59.258Z"
   },
   {
    "duration": 1653,
    "start_time": "2021-08-17T16:30:25.117Z"
   },
   {
    "duration": 50,
    "start_time": "2021-08-17T16:30:26.773Z"
   },
   {
    "duration": 35,
    "start_time": "2021-08-17T16:30:26.826Z"
   },
   {
    "duration": 5,
    "start_time": "2021-08-17T16:30:26.886Z"
   },
   {
    "duration": 16,
    "start_time": "2021-08-17T16:30:26.894Z"
   },
   {
    "duration": 15,
    "start_time": "2021-08-17T16:30:26.913Z"
   },
   {
    "duration": 59,
    "start_time": "2021-08-17T16:30:26.931Z"
   },
   {
    "duration": 46,
    "start_time": "2021-08-17T16:30:26.993Z"
   },
   {
    "duration": 52,
    "start_time": "2021-08-17T16:30:27.041Z"
   },
   {
    "duration": 5,
    "start_time": "2021-08-17T16:30:27.095Z"
   },
   {
    "duration": 37,
    "start_time": "2021-08-17T16:30:27.102Z"
   },
   {
    "duration": 48,
    "start_time": "2021-08-17T16:30:27.141Z"
   },
   {
    "duration": 3,
    "start_time": "2021-08-17T16:30:27.191Z"
   },
   {
    "duration": 657,
    "start_time": "2021-08-17T16:30:27.197Z"
   },
   {
    "duration": 451,
    "start_time": "2021-08-17T16:30:27.856Z"
   },
   {
    "duration": -16,
    "start_time": "2021-08-17T16:30:28.327Z"
   },
   {
    "duration": -17,
    "start_time": "2021-08-17T16:30:28.330Z"
   },
   {
    "duration": -41,
    "start_time": "2021-08-17T16:30:28.356Z"
   },
   {
    "duration": -42,
    "start_time": "2021-08-17T16:30:28.360Z"
   },
   {
    "duration": -43,
    "start_time": "2021-08-17T16:30:28.363Z"
   },
   {
    "duration": -44,
    "start_time": "2021-08-17T16:30:28.366Z"
   },
   {
    "duration": -64,
    "start_time": "2021-08-17T16:30:28.388Z"
   },
   {
    "duration": -67,
    "start_time": "2021-08-17T16:30:28.394Z"
   },
   {
    "duration": -72,
    "start_time": "2021-08-17T16:30:28.401Z"
   },
   {
    "duration": -73,
    "start_time": "2021-08-17T16:30:28.404Z"
   },
   {
    "duration": -73,
    "start_time": "2021-08-17T16:30:28.406Z"
   },
   {
    "duration": -75,
    "start_time": "2021-08-17T16:30:28.410Z"
   },
   {
    "duration": -77,
    "start_time": "2021-08-17T16:30:28.414Z"
   },
   {
    "duration": -77,
    "start_time": "2021-08-17T16:30:28.416Z"
   },
   {
    "duration": -77,
    "start_time": "2021-08-17T16:30:28.418Z"
   },
   {
    "duration": -79,
    "start_time": "2021-08-17T16:30:28.422Z"
   },
   {
    "duration": -39,
    "start_time": "2021-08-17T16:30:28.425Z"
   },
   {
    "duration": 12,
    "start_time": "2021-08-17T16:31:14.719Z"
   },
   {
    "duration": 341,
    "start_time": "2021-08-17T16:31:53.862Z"
   },
   {
    "duration": 9,
    "start_time": "2021-08-17T16:32:04.286Z"
   },
   {
    "duration": 99,
    "start_time": "2021-08-17T16:37:11.227Z"
   },
   {
    "duration": 27,
    "start_time": "2021-08-17T16:37:32.648Z"
   },
   {
    "duration": 322,
    "start_time": "2021-08-17T16:52:34.544Z"
   },
   {
    "duration": 29,
    "start_time": "2021-08-17T16:53:45.835Z"
   },
   {
    "duration": 39,
    "start_time": "2021-08-17T16:54:00.209Z"
   },
   {
    "duration": 50,
    "start_time": "2021-08-17T16:57:29.528Z"
   },
   {
    "duration": 24,
    "start_time": "2021-08-17T16:57:58.897Z"
   },
   {
    "duration": 49,
    "start_time": "2021-08-17T17:01:45.063Z"
   },
   {
    "duration": 6,
    "start_time": "2021-08-17T17:02:01.176Z"
   },
   {
    "duration": 6,
    "start_time": "2021-08-17T17:02:07.802Z"
   },
   {
    "duration": 17,
    "start_time": "2021-08-17T17:02:42.013Z"
   },
   {
    "duration": 1549,
    "start_time": "2021-08-17T17:03:03.254Z"
   },
   {
    "duration": 50,
    "start_time": "2021-08-17T17:03:04.807Z"
   },
   {
    "duration": 49,
    "start_time": "2021-08-17T17:03:04.866Z"
   },
   {
    "duration": 5,
    "start_time": "2021-08-17T17:03:04.918Z"
   },
   {
    "duration": 17,
    "start_time": "2021-08-17T17:03:04.926Z"
   },
   {
    "duration": 42,
    "start_time": "2021-08-17T17:03:04.947Z"
   },
   {
    "duration": 48,
    "start_time": "2021-08-17T17:03:04.992Z"
   },
   {
    "duration": 64,
    "start_time": "2021-08-17T17:03:05.043Z"
   },
   {
    "duration": 20,
    "start_time": "2021-08-17T17:03:05.110Z"
   },
   {
    "duration": 23,
    "start_time": "2021-08-17T17:03:05.132Z"
   },
   {
    "duration": 55,
    "start_time": "2021-08-17T17:03:05.157Z"
   },
   {
    "duration": 41,
    "start_time": "2021-08-17T17:03:05.215Z"
   },
   {
    "duration": 46,
    "start_time": "2021-08-17T17:03:05.259Z"
   },
   {
    "duration": 693,
    "start_time": "2021-08-17T17:03:05.309Z"
   },
   {
    "duration": 50,
    "start_time": "2021-08-17T17:03:06.004Z"
   },
   {
    "duration": 296,
    "start_time": "2021-08-17T17:03:06.056Z"
   },
   {
    "duration": -472,
    "start_time": "2021-08-17T17:03:06.827Z"
   },
   {
    "duration": -475,
    "start_time": "2021-08-17T17:03:06.832Z"
   },
   {
    "duration": -477,
    "start_time": "2021-08-17T17:03:06.835Z"
   },
   {
    "duration": -477,
    "start_time": "2021-08-17T17:03:06.837Z"
   },
   {
    "duration": -479,
    "start_time": "2021-08-17T17:03:06.840Z"
   },
   {
    "duration": -482,
    "start_time": "2021-08-17T17:03:06.844Z"
   },
   {
    "duration": -483,
    "start_time": "2021-08-17T17:03:06.847Z"
   },
   {
    "duration": -484,
    "start_time": "2021-08-17T17:03:06.850Z"
   },
   {
    "duration": -486,
    "start_time": "2021-08-17T17:03:06.853Z"
   },
   {
    "duration": -486,
    "start_time": "2021-08-17T17:03:06.855Z"
   },
   {
    "duration": -487,
    "start_time": "2021-08-17T17:03:06.857Z"
   },
   {
    "duration": -489,
    "start_time": "2021-08-17T17:03:06.860Z"
   },
   {
    "duration": -489,
    "start_time": "2021-08-17T17:03:06.862Z"
   },
   {
    "duration": -490,
    "start_time": "2021-08-17T17:03:06.864Z"
   },
   {
    "duration": -491,
    "start_time": "2021-08-17T17:03:06.867Z"
   },
   {
    "duration": -492,
    "start_time": "2021-08-17T17:03:06.869Z"
   },
   {
    "duration": -515,
    "start_time": "2021-08-17T17:03:06.894Z"
   },
   {
    "duration": 6,
    "start_time": "2021-08-17T17:03:49.197Z"
   },
   {
    "duration": 4,
    "start_time": "2021-08-17T17:04:10.391Z"
   },
   {
    "duration": 19,
    "start_time": "2021-08-17T17:04:16.536Z"
   },
   {
    "duration": 466,
    "start_time": "2021-08-17T17:07:56.944Z"
   },
   {
    "duration": 34,
    "start_time": "2021-08-17T17:08:02.296Z"
   },
   {
    "duration": 1445,
    "start_time": "2021-08-17T17:08:43.012Z"
   },
   {
    "duration": 50,
    "start_time": "2021-08-17T17:08:44.459Z"
   },
   {
    "duration": 35,
    "start_time": "2021-08-17T17:08:44.515Z"
   },
   {
    "duration": 33,
    "start_time": "2021-08-17T17:08:44.553Z"
   },
   {
    "duration": 5,
    "start_time": "2021-08-17T17:08:44.588Z"
   },
   {
    "duration": 10,
    "start_time": "2021-08-17T17:08:44.595Z"
   },
   {
    "duration": 76,
    "start_time": "2021-08-17T17:08:44.609Z"
   },
   {
    "duration": 42,
    "start_time": "2021-08-17T17:08:44.689Z"
   },
   {
    "duration": 51,
    "start_time": "2021-08-17T17:08:44.734Z"
   },
   {
    "duration": 6,
    "start_time": "2021-08-17T17:08:44.788Z"
   },
   {
    "duration": 25,
    "start_time": "2021-08-17T17:08:44.796Z"
   },
   {
    "duration": 31,
    "start_time": "2021-08-17T17:08:44.824Z"
   },
   {
    "duration": 57,
    "start_time": "2021-08-17T17:08:44.858Z"
   },
   {
    "duration": 660,
    "start_time": "2021-08-17T17:08:44.918Z"
   },
   {
    "duration": 49,
    "start_time": "2021-08-17T17:08:45.580Z"
   },
   {
    "duration": 5,
    "start_time": "2021-08-17T17:08:45.631Z"
   },
   {
    "duration": 75,
    "start_time": "2021-08-17T17:08:45.638Z"
   },
   {
    "duration": 29,
    "start_time": "2021-08-17T17:08:45.716Z"
   },
   {
    "duration": 101,
    "start_time": "2021-08-17T17:08:45.748Z"
   },
   {
    "duration": 7,
    "start_time": "2021-08-17T17:08:45.845Z"
   },
   {
    "duration": 4,
    "start_time": "2021-08-17T17:08:45.849Z"
   },
   {
    "duration": 1,
    "start_time": "2021-08-17T17:08:45.853Z"
   },
   {
    "duration": 1,
    "start_time": "2021-08-17T17:08:45.855Z"
   },
   {
    "duration": -2,
    "start_time": "2021-08-17T17:08:45.859Z"
   },
   {
    "duration": -4,
    "start_time": "2021-08-17T17:08:45.862Z"
   },
   {
    "duration": -6,
    "start_time": "2021-08-17T17:08:45.865Z"
   },
   {
    "duration": -7,
    "start_time": "2021-08-17T17:08:45.868Z"
   },
   {
    "duration": -8,
    "start_time": "2021-08-17T17:08:45.870Z"
   },
   {
    "duration": -8,
    "start_time": "2021-08-17T17:08:45.872Z"
   },
   {
    "duration": -9,
    "start_time": "2021-08-17T17:08:45.875Z"
   },
   {
    "duration": -11,
    "start_time": "2021-08-17T17:08:45.878Z"
   },
   {
    "duration": -12,
    "start_time": "2021-08-17T17:08:45.880Z"
   },
   {
    "duration": -12,
    "start_time": "2021-08-17T17:08:45.882Z"
   },
   {
    "duration": 1506,
    "start_time": "2021-08-17T17:09:33.144Z"
   },
   {
    "duration": 50,
    "start_time": "2021-08-17T17:09:34.652Z"
   },
   {
    "duration": 42,
    "start_time": "2021-08-17T17:09:34.706Z"
   },
   {
    "duration": 6,
    "start_time": "2021-08-17T17:09:34.751Z"
   },
   {
    "duration": 5,
    "start_time": "2021-08-17T17:09:34.786Z"
   },
   {
    "duration": 19,
    "start_time": "2021-08-17T17:09:34.793Z"
   },
   {
    "duration": 42,
    "start_time": "2021-08-17T17:09:34.815Z"
   },
   {
    "duration": 71,
    "start_time": "2021-08-17T17:09:34.859Z"
   },
   {
    "duration": 51,
    "start_time": "2021-08-17T17:09:34.934Z"
   },
   {
    "duration": 5,
    "start_time": "2021-08-17T17:09:34.989Z"
   },
   {
    "duration": 23,
    "start_time": "2021-08-17T17:09:34.996Z"
   },
   {
    "duration": 36,
    "start_time": "2021-08-17T17:09:35.022Z"
   },
   {
    "duration": 52,
    "start_time": "2021-08-17T17:09:35.062Z"
   },
   {
    "duration": 694,
    "start_time": "2021-08-17T17:09:35.117Z"
   },
   {
    "duration": 20,
    "start_time": "2021-08-17T17:09:35.813Z"
   },
   {
    "duration": 79,
    "start_time": "2021-08-17T17:09:35.836Z"
   },
   {
    "duration": 4,
    "start_time": "2021-08-17T17:09:35.918Z"
   },
   {
    "duration": 66,
    "start_time": "2021-08-17T17:09:35.924Z"
   },
   {
    "duration": 30,
    "start_time": "2021-08-17T17:09:35.993Z"
   },
   {
    "duration": 106,
    "start_time": "2021-08-17T17:09:36.026Z"
   },
   {
    "duration": -50,
    "start_time": "2021-08-17T17:09:36.186Z"
   },
   {
    "duration": -53,
    "start_time": "2021-08-17T17:09:36.190Z"
   },
   {
    "duration": -53,
    "start_time": "2021-08-17T17:09:36.192Z"
   },
   {
    "duration": -54,
    "start_time": "2021-08-17T17:09:36.195Z"
   },
   {
    "duration": -67,
    "start_time": "2021-08-17T17:09:36.209Z"
   },
   {
    "duration": -69,
    "start_time": "2021-08-17T17:09:36.213Z"
   },
   {
    "duration": -70,
    "start_time": "2021-08-17T17:09:36.215Z"
   },
   {
    "duration": -72,
    "start_time": "2021-08-17T17:09:36.219Z"
   },
   {
    "duration": -80,
    "start_time": "2021-08-17T17:09:36.228Z"
   },
   {
    "duration": -80,
    "start_time": "2021-08-17T17:09:36.230Z"
   },
   {
    "duration": -81,
    "start_time": "2021-08-17T17:09:36.233Z"
   },
   {
    "duration": -82,
    "start_time": "2021-08-17T17:09:36.235Z"
   },
   {
    "duration": -83,
    "start_time": "2021-08-17T17:09:36.238Z"
   },
   {
    "duration": -92,
    "start_time": "2021-08-17T17:09:36.248Z"
   },
   {
    "duration": 25,
    "start_time": "2021-08-17T17:10:17.172Z"
   },
   {
    "duration": 647,
    "start_time": "2021-08-17T17:16:56.052Z"
   },
   {
    "duration": 19,
    "start_time": "2021-08-17T17:17:18.112Z"
   },
   {
    "duration": 22,
    "start_time": "2021-08-17T17:17:30.268Z"
   },
   {
    "duration": 1538,
    "start_time": "2021-08-17T17:18:33.218Z"
   },
   {
    "duration": 54,
    "start_time": "2021-08-17T17:18:34.759Z"
   },
   {
    "duration": 37,
    "start_time": "2021-08-17T17:18:34.816Z"
   },
   {
    "duration": 31,
    "start_time": "2021-08-17T17:18:34.855Z"
   },
   {
    "duration": 35,
    "start_time": "2021-08-17T17:18:34.889Z"
   },
   {
    "duration": 22,
    "start_time": "2021-08-17T17:18:34.926Z"
   },
   {
    "duration": 49,
    "start_time": "2021-08-17T17:18:34.951Z"
   },
   {
    "duration": 45,
    "start_time": "2021-08-17T17:18:35.002Z"
   },
   {
    "duration": 43,
    "start_time": "2021-08-17T17:18:35.051Z"
   },
   {
    "duration": 5,
    "start_time": "2021-08-17T17:18:35.097Z"
   },
   {
    "duration": 19,
    "start_time": "2021-08-17T17:18:35.105Z"
   },
   {
    "duration": 61,
    "start_time": "2021-08-17T17:18:35.126Z"
   },
   {
    "duration": 61,
    "start_time": "2021-08-17T17:18:35.190Z"
   },
   {
    "duration": 650,
    "start_time": "2021-08-17T17:18:35.253Z"
   },
   {
    "duration": 14,
    "start_time": "2021-08-17T17:18:35.906Z"
   },
   {
    "duration": 85,
    "start_time": "2021-08-17T17:18:35.923Z"
   },
   {
    "duration": 16,
    "start_time": "2021-08-17T17:18:36.011Z"
   },
   {
    "duration": 61,
    "start_time": "2021-08-17T17:18:36.030Z"
   },
   {
    "duration": 649,
    "start_time": "2021-08-17T17:18:36.094Z"
   },
   {
    "duration": 19,
    "start_time": "2021-08-17T17:18:36.746Z"
   },
   {
    "duration": 31,
    "start_time": "2021-08-17T17:18:36.768Z"
   },
   {
    "duration": 6,
    "start_time": "2021-08-17T17:18:36.803Z"
   },
   {
    "duration": 25,
    "start_time": "2021-08-17T17:18:36.813Z"
   },
   {
    "duration": 55,
    "start_time": "2021-08-17T17:18:36.841Z"
   },
   {
    "duration": 14,
    "start_time": "2021-08-17T17:18:36.899Z"
   },
   {
    "duration": 430,
    "start_time": "2021-08-17T17:18:36.916Z"
   },
   {
    "duration": 6,
    "start_time": "2021-08-17T17:18:37.351Z"
   },
   {
    "duration": 33,
    "start_time": "2021-08-17T17:18:37.360Z"
   },
   {
    "duration": 412,
    "start_time": "2021-08-17T17:18:37.395Z"
   },
   {
    "duration": 14,
    "start_time": "2021-08-17T17:18:37.810Z"
   },
   {
    "duration": 12,
    "start_time": "2021-08-17T17:18:37.826Z"
   },
   {
    "duration": 46,
    "start_time": "2021-08-17T17:18:37.841Z"
   },
   {
    "duration": 13,
    "start_time": "2021-08-17T17:18:37.889Z"
   },
   {
    "duration": 6,
    "start_time": "2021-08-17T17:21:09.878Z"
   },
   {
    "duration": 518,
    "start_time": "2021-08-17T17:21:41.743Z"
   },
   {
    "duration": 309,
    "start_time": "2021-08-17T17:21:59.424Z"
   },
   {
    "duration": 6,
    "start_time": "2021-08-17T17:22:21.210Z"
   },
   {
    "duration": 1466,
    "start_time": "2021-08-17T17:22:34.199Z"
   },
   {
    "duration": 53,
    "start_time": "2021-08-17T17:22:35.668Z"
   },
   {
    "duration": 38,
    "start_time": "2021-08-17T17:22:35.725Z"
   },
   {
    "duration": 6,
    "start_time": "2021-08-17T17:22:35.785Z"
   },
   {
    "duration": 20,
    "start_time": "2021-08-17T17:22:35.793Z"
   },
   {
    "duration": 32,
    "start_time": "2021-08-17T17:22:35.815Z"
   },
   {
    "duration": 51,
    "start_time": "2021-08-17T17:22:35.850Z"
   },
   {
    "duration": 44,
    "start_time": "2021-08-17T17:22:35.903Z"
   },
   {
    "duration": 47,
    "start_time": "2021-08-17T17:22:35.952Z"
   },
   {
    "duration": 6,
    "start_time": "2021-08-17T17:22:36.002Z"
   },
   {
    "duration": 28,
    "start_time": "2021-08-17T17:22:36.010Z"
   },
   {
    "duration": 27,
    "start_time": "2021-08-17T17:22:36.040Z"
   },
   {
    "duration": 34,
    "start_time": "2021-08-17T17:22:36.086Z"
   },
   {
    "duration": 720,
    "start_time": "2021-08-17T17:22:36.123Z"
   },
   {
    "duration": 17,
    "start_time": "2021-08-17T17:22:36.847Z"
   },
   {
    "duration": 73,
    "start_time": "2021-08-17T17:22:36.867Z"
   },
   {
    "duration": 47,
    "start_time": "2021-08-17T17:22:36.943Z"
   },
   {
    "duration": 43,
    "start_time": "2021-08-17T17:22:36.993Z"
   },
   {
    "duration": 617,
    "start_time": "2021-08-17T17:22:37.038Z"
   },
   {
    "duration": -17,
    "start_time": "2021-08-17T17:22:37.675Z"
   },
   {
    "duration": -20,
    "start_time": "2021-08-17T17:22:37.679Z"
   },
   {
    "duration": -34,
    "start_time": "2021-08-17T17:22:37.695Z"
   },
   {
    "duration": -35,
    "start_time": "2021-08-17T17:22:37.698Z"
   },
   {
    "duration": -38,
    "start_time": "2021-08-17T17:22:37.702Z"
   },
   {
    "duration": -40,
    "start_time": "2021-08-17T17:22:37.705Z"
   },
   {
    "duration": -57,
    "start_time": "2021-08-17T17:22:37.724Z"
   },
   {
    "duration": -60,
    "start_time": "2021-08-17T17:22:37.728Z"
   },
   {
    "duration": -71,
    "start_time": "2021-08-17T17:22:37.741Z"
   },
   {
    "duration": -74,
    "start_time": "2021-08-17T17:22:37.745Z"
   },
   {
    "duration": -78,
    "start_time": "2021-08-17T17:22:37.750Z"
   },
   {
    "duration": -86,
    "start_time": "2021-08-17T17:22:37.760Z"
   },
   {
    "duration": -89,
    "start_time": "2021-08-17T17:22:37.764Z"
   },
   {
    "duration": -91,
    "start_time": "2021-08-17T17:22:37.767Z"
   },
   {
    "duration": 7,
    "start_time": "2021-08-17T17:23:28.462Z"
   },
   {
    "duration": 1521,
    "start_time": "2021-08-17T17:23:36.692Z"
   },
   {
    "duration": 53,
    "start_time": "2021-08-17T17:23:38.217Z"
   },
   {
    "duration": 43,
    "start_time": "2021-08-17T17:23:38.274Z"
   },
   {
    "duration": 7,
    "start_time": "2021-08-17T17:23:38.320Z"
   },
   {
    "duration": 13,
    "start_time": "2021-08-17T17:23:38.329Z"
   },
   {
    "duration": 9,
    "start_time": "2021-08-17T17:23:38.345Z"
   },
   {
    "duration": 37,
    "start_time": "2021-08-17T17:23:38.385Z"
   },
   {
    "duration": 73,
    "start_time": "2021-08-17T17:23:38.426Z"
   },
   {
    "duration": 26,
    "start_time": "2021-08-17T17:23:38.502Z"
   },
   {
    "duration": 6,
    "start_time": "2021-08-17T17:23:38.531Z"
   },
   {
    "duration": 58,
    "start_time": "2021-08-17T17:23:38.540Z"
   },
   {
    "duration": 27,
    "start_time": "2021-08-17T17:23:38.601Z"
   },
   {
    "duration": 67,
    "start_time": "2021-08-17T17:23:38.631Z"
   },
   {
    "duration": 685,
    "start_time": "2021-08-17T17:23:38.700Z"
   },
   {
    "duration": 14,
    "start_time": "2021-08-17T17:23:39.388Z"
   },
   {
    "duration": 83,
    "start_time": "2021-08-17T17:23:39.404Z"
   },
   {
    "duration": 18,
    "start_time": "2021-08-17T17:23:39.489Z"
   },
   {
    "duration": 31,
    "start_time": "2021-08-17T17:23:39.510Z"
   },
   {
    "duration": 44,
    "start_time": "2021-08-17T17:23:39.543Z"
   },
   {
    "duration": 28,
    "start_time": "2021-08-17T17:23:39.590Z"
   },
   {
    "duration": 14,
    "start_time": "2021-08-17T17:23:39.621Z"
   },
   {
    "duration": 5,
    "start_time": "2021-08-17T17:23:39.638Z"
   },
   {
    "duration": 57,
    "start_time": "2021-08-17T17:23:39.648Z"
   },
   {
    "duration": 20,
    "start_time": "2021-08-17T17:23:39.708Z"
   },
   {
    "duration": 68,
    "start_time": "2021-08-17T17:23:39.731Z"
   },
   {
    "duration": 432,
    "start_time": "2021-08-17T17:23:39.802Z"
   },
   {
    "duration": 7,
    "start_time": "2021-08-17T17:23:40.237Z"
   },
   {
    "duration": 39,
    "start_time": "2021-08-17T17:23:40.247Z"
   },
   {
    "duration": 408,
    "start_time": "2021-08-17T17:23:40.289Z"
   },
   {
    "duration": 15,
    "start_time": "2021-08-17T17:23:40.700Z"
   },
   {
    "duration": 11,
    "start_time": "2021-08-17T17:23:40.717Z"
   },
   {
    "duration": 12,
    "start_time": "2021-08-17T17:23:40.731Z"
   },
   {
    "duration": 51,
    "start_time": "2021-08-17T17:23:40.745Z"
   },
   {
    "duration": 1536,
    "start_time": "2021-08-17T17:24:36.725Z"
   },
   {
    "duration": 50,
    "start_time": "2021-08-17T17:24:38.264Z"
   },
   {
    "duration": 37,
    "start_time": "2021-08-17T17:24:38.317Z"
   },
   {
    "duration": 5,
    "start_time": "2021-08-17T17:24:38.356Z"
   },
   {
    "duration": 4,
    "start_time": "2021-08-17T17:24:38.386Z"
   },
   {
    "duration": 7,
    "start_time": "2021-08-17T17:24:38.393Z"
   },
   {
    "duration": 37,
    "start_time": "2021-08-17T17:24:38.402Z"
   },
   {
    "duration": 76,
    "start_time": "2021-08-17T17:24:38.443Z"
   },
   {
    "duration": 21,
    "start_time": "2021-08-17T17:24:38.522Z"
   },
   {
    "duration": 4,
    "start_time": "2021-08-17T17:24:38.546Z"
   },
   {
    "duration": 59,
    "start_time": "2021-08-17T17:24:38.553Z"
   },
   {
    "duration": 26,
    "start_time": "2021-08-17T17:24:38.615Z"
   },
   {
    "duration": 43,
    "start_time": "2021-08-17T17:24:38.644Z"
   },
   {
    "duration": 651,
    "start_time": "2021-08-17T17:24:38.689Z"
   },
   {
    "duration": 14,
    "start_time": "2021-08-17T17:24:39.342Z"
   },
   {
    "duration": 66,
    "start_time": "2021-08-17T17:24:39.358Z"
   },
   {
    "duration": 17,
    "start_time": "2021-08-17T17:24:39.426Z"
   },
   {
    "duration": 53,
    "start_time": "2021-08-17T17:24:39.446Z"
   },
   {
    "duration": 7,
    "start_time": "2021-08-17T17:24:39.502Z"
   },
   {
    "duration": 19,
    "start_time": "2021-08-17T17:24:39.511Z"
   },
   {
    "duration": 15,
    "start_time": "2021-08-17T17:24:39.533Z"
   },
   {
    "duration": 37,
    "start_time": "2021-08-17T17:24:39.551Z"
   },
   {
    "duration": 25,
    "start_time": "2021-08-17T17:24:39.593Z"
   },
   {
    "duration": 11,
    "start_time": "2021-08-17T17:24:39.621Z"
   },
   {
    "duration": 16,
    "start_time": "2021-08-17T17:24:39.635Z"
   },
   {
    "duration": 514,
    "start_time": "2021-08-17T17:24:39.653Z"
   },
   {
    "duration": 16,
    "start_time": "2021-08-17T17:24:40.170Z"
   },
   {
    "duration": 19,
    "start_time": "2021-08-17T17:24:40.189Z"
   },
   {
    "duration": 435,
    "start_time": "2021-08-17T17:24:40.210Z"
   },
   {
    "duration": 15,
    "start_time": "2021-08-17T17:24:40.647Z"
   },
   {
    "duration": 30,
    "start_time": "2021-08-17T17:24:40.665Z"
   },
   {
    "duration": 18,
    "start_time": "2021-08-17T17:24:40.697Z"
   },
   {
    "duration": 13,
    "start_time": "2021-08-17T17:24:40.718Z"
   },
   {
    "duration": 9,
    "start_time": "2021-08-17T17:25:25.170Z"
   },
   {
    "duration": 19,
    "start_time": "2021-08-17T17:25:27.835Z"
   },
   {
    "duration": 10,
    "start_time": "2021-08-17T17:28:17.435Z"
   },
   {
    "duration": 18,
    "start_time": "2021-08-17T17:28:19.948Z"
   },
   {
    "duration": 11,
    "start_time": "2021-08-17T17:31:51.625Z"
   },
   {
    "duration": 18,
    "start_time": "2021-08-17T17:31:55.820Z"
   },
   {
    "duration": 1493,
    "start_time": "2021-08-17T17:32:14.070Z"
   },
   {
    "duration": 70,
    "start_time": "2021-08-17T17:32:15.565Z"
   },
   {
    "duration": 47,
    "start_time": "2021-08-17T17:32:15.638Z"
   },
   {
    "duration": 7,
    "start_time": "2021-08-17T17:32:15.689Z"
   },
   {
    "duration": 7,
    "start_time": "2021-08-17T17:32:15.699Z"
   },
   {
    "duration": 7,
    "start_time": "2021-08-17T17:32:15.709Z"
   },
   {
    "duration": 71,
    "start_time": "2021-08-17T17:32:15.719Z"
   },
   {
    "duration": 51,
    "start_time": "2021-08-17T17:32:15.793Z"
   },
   {
    "duration": 52,
    "start_time": "2021-08-17T17:32:15.848Z"
   },
   {
    "duration": 5,
    "start_time": "2021-08-17T17:32:15.904Z"
   },
   {
    "duration": 18,
    "start_time": "2021-08-17T17:32:15.912Z"
   },
   {
    "duration": 54,
    "start_time": "2021-08-17T17:32:15.933Z"
   },
   {
    "duration": 30,
    "start_time": "2021-08-17T17:32:15.990Z"
   },
   {
    "duration": 788,
    "start_time": "2021-08-17T17:32:16.022Z"
   },
   {
    "duration": 17,
    "start_time": "2021-08-17T17:32:16.812Z"
   },
   {
    "duration": 102,
    "start_time": "2021-08-17T17:32:16.832Z"
   },
   {
    "duration": 24,
    "start_time": "2021-08-17T17:32:16.937Z"
   },
   {
    "duration": 62,
    "start_time": "2021-08-17T17:32:16.965Z"
   },
   {
    "duration": 138,
    "start_time": "2021-08-17T17:32:17.030Z"
   },
   {
    "duration": -41,
    "start_time": "2021-08-17T17:32:17.212Z"
   },
   {
    "duration": -70,
    "start_time": "2021-08-17T17:32:17.242Z"
   },
   {
    "duration": -77,
    "start_time": "2021-08-17T17:32:17.251Z"
   },
   {
    "duration": -79,
    "start_time": "2021-08-17T17:32:17.254Z"
   },
   {
    "duration": -81,
    "start_time": "2021-08-17T17:32:17.257Z"
   },
   {
    "duration": -82,
    "start_time": "2021-08-17T17:32:17.259Z"
   },
   {
    "duration": -84,
    "start_time": "2021-08-17T17:32:17.263Z"
   },
   {
    "duration": -94,
    "start_time": "2021-08-17T17:32:17.274Z"
   },
   {
    "duration": -98,
    "start_time": "2021-08-17T17:32:17.279Z"
   },
   {
    "duration": -99,
    "start_time": "2021-08-17T17:32:17.282Z"
   },
   {
    "duration": -105,
    "start_time": "2021-08-17T17:32:17.289Z"
   },
   {
    "duration": -106,
    "start_time": "2021-08-17T17:32:17.292Z"
   },
   {
    "duration": -107,
    "start_time": "2021-08-17T17:32:17.295Z"
   },
   {
    "duration": -108,
    "start_time": "2021-08-17T17:32:17.298Z"
   },
   {
    "duration": 110,
    "start_time": "2021-08-17T17:32:46.238Z"
   },
   {
    "duration": 543,
    "start_time": "2021-08-17T17:32:54.771Z"
   },
   {
    "duration": 1639,
    "start_time": "2021-08-17T17:33:04.003Z"
   },
   {
    "duration": 50,
    "start_time": "2021-08-17T17:33:05.645Z"
   },
   {
    "duration": 36,
    "start_time": "2021-08-17T17:33:05.698Z"
   },
   {
    "duration": 5,
    "start_time": "2021-08-17T17:33:05.737Z"
   },
   {
    "duration": 16,
    "start_time": "2021-08-17T17:33:05.744Z"
   },
   {
    "duration": 23,
    "start_time": "2021-08-17T17:33:05.762Z"
   },
   {
    "duration": 60,
    "start_time": "2021-08-17T17:33:05.788Z"
   },
   {
    "duration": 42,
    "start_time": "2021-08-17T17:33:05.851Z"
   },
   {
    "duration": 39,
    "start_time": "2021-08-17T17:33:05.897Z"
   },
   {
    "duration": 53,
    "start_time": "2021-08-17T17:33:05.940Z"
   },
   {
    "duration": 41,
    "start_time": "2021-08-17T17:33:05.995Z"
   },
   {
    "duration": 41,
    "start_time": "2021-08-17T17:33:06.038Z"
   },
   {
    "duration": 30,
    "start_time": "2021-08-17T17:33:06.082Z"
   },
   {
    "duration": 909,
    "start_time": "2021-08-17T17:33:06.115Z"
   },
   {
    "duration": 13,
    "start_time": "2021-08-17T17:33:07.026Z"
   },
   {
    "duration": 74,
    "start_time": "2021-08-17T17:33:07.041Z"
   },
   {
    "duration": 16,
    "start_time": "2021-08-17T17:33:07.117Z"
   },
   {
    "duration": 56,
    "start_time": "2021-08-17T17:33:07.135Z"
   },
   {
    "duration": 445,
    "start_time": "2021-08-17T17:33:07.194Z"
   },
   {
    "duration": -12,
    "start_time": "2021-08-17T17:33:07.654Z"
   },
   {
    "duration": -13,
    "start_time": "2021-08-17T17:33:07.656Z"
   },
   {
    "duration": -14,
    "start_time": "2021-08-17T17:33:07.659Z"
   },
   {
    "duration": -16,
    "start_time": "2021-08-17T17:33:07.662Z"
   },
   {
    "duration": -20,
    "start_time": "2021-08-17T17:33:07.667Z"
   },
   {
    "duration": -21,
    "start_time": "2021-08-17T17:33:07.670Z"
   },
   {
    "duration": -25,
    "start_time": "2021-08-17T17:33:07.675Z"
   },
   {
    "duration": -26,
    "start_time": "2021-08-17T17:33:07.677Z"
   },
   {
    "duration": -32,
    "start_time": "2021-08-17T17:33:07.685Z"
   },
   {
    "duration": -33,
    "start_time": "2021-08-17T17:33:07.687Z"
   },
   {
    "duration": -38,
    "start_time": "2021-08-17T17:33:07.693Z"
   },
   {
    "duration": -40,
    "start_time": "2021-08-17T17:33:07.697Z"
   },
   {
    "duration": -43,
    "start_time": "2021-08-17T17:33:07.701Z"
   },
   {
    "duration": -46,
    "start_time": "2021-08-17T17:33:07.705Z"
   },
   {
    "duration": 10,
    "start_time": "2021-08-17T17:34:05.435Z"
   },
   {
    "duration": 13,
    "start_time": "2021-08-17T17:34:10.828Z"
   },
   {
    "duration": 14,
    "start_time": "2021-08-17T17:34:11.319Z"
   },
   {
    "duration": 12,
    "start_time": "2021-08-17T17:34:25.109Z"
   },
   {
    "duration": 9,
    "start_time": "2021-08-17T17:34:25.383Z"
   },
   {
    "duration": 11,
    "start_time": "2021-08-17T17:34:27.060Z"
   },
   {
    "duration": 1491,
    "start_time": "2021-08-17T17:34:32.081Z"
   },
   {
    "duration": 49,
    "start_time": "2021-08-17T17:34:33.575Z"
   },
   {
    "duration": 39,
    "start_time": "2021-08-17T17:34:33.627Z"
   },
   {
    "duration": 21,
    "start_time": "2021-08-17T17:34:33.669Z"
   },
   {
    "duration": 46,
    "start_time": "2021-08-17T17:34:33.692Z"
   },
   {
    "duration": 16,
    "start_time": "2021-08-17T17:34:33.741Z"
   },
   {
    "duration": 68,
    "start_time": "2021-08-17T17:34:33.759Z"
   },
   {
    "duration": 52,
    "start_time": "2021-08-17T17:34:33.833Z"
   },
   {
    "duration": 22,
    "start_time": "2021-08-17T17:34:33.890Z"
   },
   {
    "duration": 38,
    "start_time": "2021-08-17T17:34:33.915Z"
   },
   {
    "duration": 31,
    "start_time": "2021-08-17T17:34:33.956Z"
   },
   {
    "duration": 36,
    "start_time": "2021-08-17T17:34:33.990Z"
   },
   {
    "duration": 64,
    "start_time": "2021-08-17T17:34:34.030Z"
   },
   {
    "duration": 660,
    "start_time": "2021-08-17T17:34:34.097Z"
   },
   {
    "duration": 29,
    "start_time": "2021-08-17T17:34:34.760Z"
   },
   {
    "duration": 49,
    "start_time": "2021-08-17T17:34:34.791Z"
   },
   {
    "duration": 43,
    "start_time": "2021-08-17T17:34:34.843Z"
   },
   {
    "duration": 30,
    "start_time": "2021-08-17T17:34:34.889Z"
   },
   {
    "duration": 16,
    "start_time": "2021-08-17T17:34:34.921Z"
   },
   {
    "duration": 17,
    "start_time": "2021-08-17T17:34:34.939Z"
   },
   {
    "duration": 32,
    "start_time": "2021-08-17T17:34:34.959Z"
   },
   {
    "duration": 14,
    "start_time": "2021-08-17T17:34:34.994Z"
   },
   {
    "duration": 6,
    "start_time": "2021-08-17T17:34:35.013Z"
   },
   {
    "duration": 38,
    "start_time": "2021-08-17T17:34:35.022Z"
   },
   {
    "duration": 28,
    "start_time": "2021-08-17T17:34:35.062Z"
   },
   {
    "duration": 32,
    "start_time": "2021-08-17T17:34:35.092Z"
   },
   {
    "duration": 419,
    "start_time": "2021-08-17T17:34:35.126Z"
   },
   {
    "duration": 7,
    "start_time": "2021-08-17T17:34:35.547Z"
   },
   {
    "duration": 32,
    "start_time": "2021-08-17T17:34:35.557Z"
   },
   {
    "duration": 410,
    "start_time": "2021-08-17T17:34:35.591Z"
   },
   {
    "duration": 15,
    "start_time": "2021-08-17T17:34:36.003Z"
   },
   {
    "duration": 26,
    "start_time": "2021-08-17T17:34:36.021Z"
   },
   {
    "duration": 49,
    "start_time": "2021-08-17T17:34:36.049Z"
   },
   {
    "duration": 32,
    "start_time": "2021-08-17T17:34:36.100Z"
   },
   {
    "duration": 1514,
    "start_time": "2021-08-17T18:04:18.750Z"
   },
   {
    "duration": 51,
    "start_time": "2021-08-17T18:04:20.267Z"
   },
   {
    "duration": 38,
    "start_time": "2021-08-17T18:04:20.322Z"
   },
   {
    "duration": 24,
    "start_time": "2021-08-17T18:04:20.363Z"
   },
   {
    "duration": 7,
    "start_time": "2021-08-17T18:04:20.390Z"
   },
   {
    "duration": 7,
    "start_time": "2021-08-17T18:04:20.400Z"
   },
   {
    "duration": 40,
    "start_time": "2021-08-17T18:04:20.410Z"
   },
   {
    "duration": 45,
    "start_time": "2021-08-17T18:04:20.486Z"
   },
   {
    "duration": 21,
    "start_time": "2021-08-17T18:04:20.535Z"
   },
   {
    "duration": 31,
    "start_time": "2021-08-17T18:04:20.559Z"
   },
   {
    "duration": 33,
    "start_time": "2021-08-17T18:04:20.593Z"
   },
   {
    "duration": 34,
    "start_time": "2021-08-17T18:04:20.629Z"
   },
   {
    "duration": 42,
    "start_time": "2021-08-17T18:04:20.665Z"
   },
   {
    "duration": 636,
    "start_time": "2021-08-17T18:04:20.709Z"
   },
   {
    "duration": 13,
    "start_time": "2021-08-17T18:04:21.347Z"
   },
   {
    "duration": 69,
    "start_time": "2021-08-17T18:04:21.362Z"
   },
   {
    "duration": 16,
    "start_time": "2021-08-17T18:04:21.433Z"
   },
   {
    "duration": 55,
    "start_time": "2021-08-17T18:04:21.452Z"
   },
   {
    "duration": 25,
    "start_time": "2021-08-17T18:04:21.510Z"
   },
   {
    "duration": 17,
    "start_time": "2021-08-17T18:04:21.537Z"
   },
   {
    "duration": 22,
    "start_time": "2021-08-17T18:04:21.556Z"
   },
   {
    "duration": 18,
    "start_time": "2021-08-17T18:04:21.581Z"
   },
   {
    "duration": 5,
    "start_time": "2021-08-17T18:04:21.604Z"
   },
   {
    "duration": 29,
    "start_time": "2021-08-17T18:04:21.611Z"
   },
   {
    "duration": 11,
    "start_time": "2021-08-17T18:04:21.642Z"
   },
   {
    "duration": 57,
    "start_time": "2021-08-17T18:04:21.657Z"
   },
   {
    "duration": 412,
    "start_time": "2021-08-17T18:04:21.716Z"
   },
   {
    "duration": 6,
    "start_time": "2021-08-17T18:04:22.131Z"
   },
   {
    "duration": 27,
    "start_time": "2021-08-17T18:04:22.139Z"
   },
   {
    "duration": 332,
    "start_time": "2021-08-17T18:04:22.168Z"
   },
   {
    "duration": 15,
    "start_time": "2021-08-17T18:04:22.502Z"
   },
   {
    "duration": 21,
    "start_time": "2021-08-17T18:04:22.519Z"
   },
   {
    "duration": 16,
    "start_time": "2021-08-17T18:04:22.542Z"
   },
   {
    "duration": 34,
    "start_time": "2021-08-17T18:04:22.560Z"
   },
   {
    "duration": 516,
    "start_time": "2021-08-17T18:05:24.295Z"
   },
   {
    "duration": 22,
    "start_time": "2021-08-17T18:08:31.732Z"
   },
   {
    "duration": 19,
    "start_time": "2021-08-17T18:08:55.456Z"
   },
   {
    "duration": 54,
    "start_time": "2021-08-17T18:13:05.025Z"
   },
   {
    "duration": 19,
    "start_time": "2021-08-17T18:19:24.903Z"
   },
   {
    "duration": 454,
    "start_time": "2021-08-17T18:21:11.387Z"
   },
   {
    "duration": 20,
    "start_time": "2021-08-17T18:21:23.081Z"
   },
   {
    "duration": 800,
    "start_time": "2021-08-17T18:21:48.413Z"
   },
   {
    "duration": 337,
    "start_time": "2021-08-17T18:22:16.861Z"
   },
   {
    "duration": 7,
    "start_time": "2021-08-17T18:23:15.754Z"
   },
   {
    "duration": 12,
    "start_time": "2021-08-17T18:23:28.964Z"
   },
   {
    "duration": 335,
    "start_time": "2021-08-17T18:27:17.677Z"
   },
   {
    "duration": 62,
    "start_time": "2021-08-17T18:28:10.462Z"
   },
   {
    "duration": 84,
    "start_time": "2021-08-17T18:28:39.578Z"
   },
   {
    "duration": 12,
    "start_time": "2021-08-17T18:29:03.866Z"
   },
   {
    "duration": 12,
    "start_time": "2021-08-17T18:29:10.751Z"
   },
   {
    "duration": 319,
    "start_time": "2021-08-17T18:31:21.805Z"
   },
   {
    "duration": 37,
    "start_time": "2021-08-17T18:31:56.912Z"
   },
   {
    "duration": 13,
    "start_time": "2021-08-17T18:32:25.281Z"
   },
   {
    "duration": 67,
    "start_time": "2021-08-17T18:33:40.669Z"
   },
   {
    "duration": 65,
    "start_time": "2021-08-17T18:33:51.936Z"
   },
   {
    "duration": 74,
    "start_time": "2021-08-17T18:34:59.045Z"
   },
   {
    "duration": 71,
    "start_time": "2021-08-17T18:35:47.935Z"
   },
   {
    "duration": 315,
    "start_time": "2021-08-17T18:38:03.203Z"
   },
   {
    "duration": 83,
    "start_time": "2021-08-17T18:38:49.425Z"
   },
   {
    "duration": 536,
    "start_time": "2021-08-17T19:01:30.641Z"
   },
   {
    "duration": 528,
    "start_time": "2021-08-17T19:02:16.090Z"
   },
   {
    "duration": 512,
    "start_time": "2021-08-17T19:03:46.737Z"
   },
   {
    "duration": 355,
    "start_time": "2021-08-17T19:05:00.167Z"
   },
   {
    "duration": 274,
    "start_time": "2021-08-17T19:05:28.480Z"
   },
   {
    "duration": 1496,
    "start_time": "2021-08-17T19:06:25.478Z"
   },
   {
    "duration": 50,
    "start_time": "2021-08-17T19:06:26.977Z"
   },
   {
    "duration": 34,
    "start_time": "2021-08-17T19:06:27.030Z"
   },
   {
    "duration": 22,
    "start_time": "2021-08-17T19:06:27.067Z"
   },
   {
    "duration": 12,
    "start_time": "2021-08-17T19:06:27.091Z"
   },
   {
    "duration": 15,
    "start_time": "2021-08-17T19:06:27.105Z"
   },
   {
    "duration": 41,
    "start_time": "2021-08-17T19:06:27.123Z"
   },
   {
    "duration": 54,
    "start_time": "2021-08-17T19:06:27.167Z"
   },
   {
    "duration": 20,
    "start_time": "2021-08-17T19:06:27.224Z"
   },
   {
    "duration": 9,
    "start_time": "2021-08-17T19:06:27.246Z"
   },
   {
    "duration": 36,
    "start_time": "2021-08-17T19:06:27.258Z"
   },
   {
    "duration": 30,
    "start_time": "2021-08-17T19:06:27.297Z"
   },
   {
    "duration": 41,
    "start_time": "2021-08-17T19:06:27.330Z"
   },
   {
    "duration": 648,
    "start_time": "2021-08-17T19:06:27.385Z"
   },
   {
    "duration": 13,
    "start_time": "2021-08-17T19:06:28.035Z"
   },
   {
    "duration": 73,
    "start_time": "2021-08-17T19:06:28.051Z"
   },
   {
    "duration": 17,
    "start_time": "2021-08-17T19:06:28.126Z"
   },
   {
    "duration": 53,
    "start_time": "2021-08-17T19:06:28.145Z"
   },
   {
    "duration": 14,
    "start_time": "2021-08-17T19:06:28.201Z"
   },
   {
    "duration": 19,
    "start_time": "2021-08-17T19:06:28.218Z"
   },
   {
    "duration": 25,
    "start_time": "2021-08-17T19:06:28.239Z"
   },
   {
    "duration": 31,
    "start_time": "2021-08-17T19:06:28.266Z"
   },
   {
    "duration": 9,
    "start_time": "2021-08-17T19:06:28.302Z"
   },
   {
    "duration": 42,
    "start_time": "2021-08-17T19:06:28.314Z"
   },
   {
    "duration": 104,
    "start_time": "2021-08-17T19:06:28.358Z"
   },
   {
    "duration": 285,
    "start_time": "2021-08-17T19:06:28.464Z"
   },
   {
    "duration": 10,
    "start_time": "2021-08-17T19:06:28.752Z"
   },
   {
    "duration": 48,
    "start_time": "2021-08-17T19:06:28.765Z"
   },
   {
    "duration": 425,
    "start_time": "2021-08-17T19:06:28.815Z"
   },
   {
    "duration": 6,
    "start_time": "2021-08-17T19:06:29.243Z"
   },
   {
    "duration": 14,
    "start_time": "2021-08-17T19:06:29.251Z"
   },
   {
    "duration": 430,
    "start_time": "2021-08-17T19:06:29.267Z"
   },
   {
    "duration": 17,
    "start_time": "2021-08-17T19:06:29.699Z"
   },
   {
    "duration": 12,
    "start_time": "2021-08-17T19:06:29.718Z"
   },
   {
    "duration": 13,
    "start_time": "2021-08-17T19:06:29.733Z"
   },
   {
    "duration": 43,
    "start_time": "2021-08-17T19:06:29.748Z"
   },
   {
    "duration": 296,
    "start_time": "2021-08-17T19:09:32.190Z"
   },
   {
    "duration": 18,
    "start_time": "2021-08-17T19:12:54.141Z"
   },
   {
    "duration": 301,
    "start_time": "2021-08-17T19:15:51.764Z"
   },
   {
    "duration": 28,
    "start_time": "2021-08-17T19:16:09.614Z"
   },
   {
    "duration": 15,
    "start_time": "2021-08-17T20:02:29.158Z"
   },
   {
    "duration": 404,
    "start_time": "2021-08-17T20:02:33.902Z"
   },
   {
    "duration": 1496,
    "start_time": "2021-08-17T20:02:58.419Z"
   },
   {
    "duration": 53,
    "start_time": "2021-08-17T20:02:59.918Z"
   },
   {
    "duration": 39,
    "start_time": "2021-08-17T20:02:59.973Z"
   },
   {
    "duration": 14,
    "start_time": "2021-08-17T20:03:00.015Z"
   },
   {
    "duration": 28,
    "start_time": "2021-08-17T20:03:00.032Z"
   },
   {
    "duration": 18,
    "start_time": "2021-08-17T20:03:00.062Z"
   },
   {
    "duration": 57,
    "start_time": "2021-08-17T20:03:00.083Z"
   },
   {
    "duration": 43,
    "start_time": "2021-08-17T20:03:00.144Z"
   },
   {
    "duration": 21,
    "start_time": "2021-08-17T20:03:00.191Z"
   },
   {
    "duration": 7,
    "start_time": "2021-08-17T20:03:00.215Z"
   },
   {
    "duration": 32,
    "start_time": "2021-08-17T20:03:00.224Z"
   },
   {
    "duration": 41,
    "start_time": "2021-08-17T20:03:00.258Z"
   },
   {
    "duration": 31,
    "start_time": "2021-08-17T20:03:00.302Z"
   },
   {
    "duration": 665,
    "start_time": "2021-08-17T20:03:00.336Z"
   },
   {
    "duration": 14,
    "start_time": "2021-08-17T20:03:01.004Z"
   },
   {
    "duration": 72,
    "start_time": "2021-08-17T20:03:01.021Z"
   },
   {
    "duration": 17,
    "start_time": "2021-08-17T20:03:01.096Z"
   },
   {
    "duration": 72,
    "start_time": "2021-08-17T20:03:01.117Z"
   },
   {
    "duration": 34,
    "start_time": "2021-08-17T20:03:01.192Z"
   },
   {
    "duration": 21,
    "start_time": "2021-08-17T20:03:01.229Z"
   },
   {
    "duration": 37,
    "start_time": "2021-08-17T20:03:01.253Z"
   },
   {
    "duration": 91,
    "start_time": "2021-08-17T20:03:01.293Z"
   },
   {
    "duration": 32,
    "start_time": "2021-08-17T20:03:01.392Z"
   },
   {
    "duration": 46,
    "start_time": "2021-08-17T20:03:01.428Z"
   },
   {
    "duration": 82,
    "start_time": "2021-08-17T20:03:01.476Z"
   },
   {
    "duration": 338,
    "start_time": "2021-08-17T20:03:01.561Z"
   },
   {
    "duration": 13,
    "start_time": "2021-08-17T20:03:01.902Z"
   },
   {
    "duration": 73,
    "start_time": "2021-08-17T20:03:01.917Z"
   },
   {
    "duration": 555,
    "start_time": "2021-08-17T20:03:01.993Z"
   },
   {
    "duration": 9,
    "start_time": "2021-08-17T20:03:02.551Z"
   },
   {
    "duration": 36,
    "start_time": "2021-08-17T20:03:02.563Z"
   },
   {
    "duration": 441,
    "start_time": "2021-08-17T20:03:02.602Z"
   },
   {
    "duration": 20,
    "start_time": "2021-08-17T20:03:03.046Z"
   },
   {
    "duration": 31,
    "start_time": "2021-08-17T20:03:03.068Z"
   },
   {
    "duration": 15,
    "start_time": "2021-08-17T20:03:03.103Z"
   },
   {
    "duration": 26,
    "start_time": "2021-08-17T20:03:03.121Z"
   },
   {
    "duration": 15,
    "start_time": "2021-08-17T20:08:22.472Z"
   },
   {
    "duration": 34,
    "start_time": "2021-08-17T20:25:34.115Z"
   },
   {
    "duration": 47,
    "start_time": "2021-08-17T20:29:37.412Z"
   },
   {
    "duration": 548,
    "start_time": "2021-08-17T20:33:16.544Z"
   },
   {
    "duration": 1478,
    "start_time": "2021-08-17T20:33:57.078Z"
   },
   {
    "duration": 48,
    "start_time": "2021-08-17T20:33:58.559Z"
   },
   {
    "duration": 35,
    "start_time": "2021-08-17T20:33:58.611Z"
   },
   {
    "duration": 63,
    "start_time": "2021-08-17T20:33:58.649Z"
   },
   {
    "duration": 5,
    "start_time": "2021-08-17T20:33:58.714Z"
   },
   {
    "duration": 12,
    "start_time": "2021-08-17T20:33:58.721Z"
   },
   {
    "duration": 21,
    "start_time": "2021-08-17T20:33:58.736Z"
   },
   {
    "duration": 43,
    "start_time": "2021-08-17T20:33:58.760Z"
   },
   {
    "duration": 21,
    "start_time": "2021-08-17T20:33:58.806Z"
   },
   {
    "duration": 5,
    "start_time": "2021-08-17T20:33:58.830Z"
   },
   {
    "duration": 47,
    "start_time": "2021-08-17T20:33:58.838Z"
   },
   {
    "duration": 27,
    "start_time": "2021-08-17T20:33:58.888Z"
   },
   {
    "duration": 68,
    "start_time": "2021-08-17T20:33:58.918Z"
   },
   {
    "duration": 680,
    "start_time": "2021-08-17T20:33:58.989Z"
   },
   {
    "duration": 22,
    "start_time": "2021-08-17T20:33:59.671Z"
   },
   {
    "duration": 60,
    "start_time": "2021-08-17T20:33:59.696Z"
   },
   {
    "duration": 29,
    "start_time": "2021-08-17T20:33:59.759Z"
   },
   {
    "duration": 10,
    "start_time": "2021-08-17T20:33:59.791Z"
   },
   {
    "duration": 21,
    "start_time": "2021-08-17T20:33:59.804Z"
   },
   {
    "duration": 15,
    "start_time": "2021-08-17T20:33:59.828Z"
   },
   {
    "duration": 39,
    "start_time": "2021-08-17T20:33:59.846Z"
   },
   {
    "duration": 33,
    "start_time": "2021-08-17T20:33:59.888Z"
   },
   {
    "duration": 85,
    "start_time": "2021-08-17T20:33:59.925Z"
   },
   {
    "duration": 327,
    "start_time": "2021-08-17T20:34:00.012Z"
   },
   {
    "duration": 14,
    "start_time": "2021-08-17T20:34:00.342Z"
   },
   {
    "duration": 52,
    "start_time": "2021-08-17T20:34:00.359Z"
   },
   {
    "duration": 423,
    "start_time": "2021-08-17T20:34:00.415Z"
   },
   {
    "duration": 7,
    "start_time": "2021-08-17T20:34:00.841Z"
   },
   {
    "duration": 37,
    "start_time": "2021-08-17T20:34:00.851Z"
   },
   {
    "duration": 423,
    "start_time": "2021-08-17T20:34:00.892Z"
   },
   {
    "duration": 17,
    "start_time": "2021-08-17T20:34:01.319Z"
   },
   {
    "duration": 23,
    "start_time": "2021-08-17T20:34:01.339Z"
   },
   {
    "duration": 22,
    "start_time": "2021-08-17T20:35:38.872Z"
   },
   {
    "duration": 534,
    "start_time": "2021-08-17T20:41:00.414Z"
   },
   {
    "duration": 595,
    "start_time": "2021-08-17T20:41:12.604Z"
   },
   {
    "duration": 771,
    "start_time": "2021-08-17T20:41:55.839Z"
   },
   {
    "duration": 684,
    "start_time": "2021-08-17T20:42:02.666Z"
   },
   {
    "duration": 1500,
    "start_time": "2021-08-17T20:42:42.471Z"
   },
   {
    "duration": 51,
    "start_time": "2021-08-17T20:42:43.974Z"
   },
   {
    "duration": 37,
    "start_time": "2021-08-17T20:42:44.028Z"
   },
   {
    "duration": 56,
    "start_time": "2021-08-17T20:42:44.068Z"
   },
   {
    "duration": 6,
    "start_time": "2021-08-17T20:42:44.126Z"
   },
   {
    "duration": 13,
    "start_time": "2021-08-17T20:42:44.134Z"
   },
   {
    "duration": 36,
    "start_time": "2021-08-17T20:42:44.149Z"
   },
   {
    "duration": 37,
    "start_time": "2021-08-17T20:42:44.189Z"
   },
   {
    "duration": 20,
    "start_time": "2021-08-17T20:42:44.229Z"
   },
   {
    "duration": 34,
    "start_time": "2021-08-17T20:42:44.252Z"
   },
   {
    "duration": 30,
    "start_time": "2021-08-17T20:42:44.288Z"
   },
   {
    "duration": 28,
    "start_time": "2021-08-17T20:42:44.320Z"
   },
   {
    "duration": 45,
    "start_time": "2021-08-17T20:42:44.351Z"
   },
   {
    "duration": 649,
    "start_time": "2021-08-17T20:42:44.399Z"
   },
   {
    "duration": 14,
    "start_time": "2021-08-17T20:42:45.052Z"
   },
   {
    "duration": 51,
    "start_time": "2021-08-17T20:42:45.085Z"
   },
   {
    "duration": 17,
    "start_time": "2021-08-17T20:42:45.138Z"
   },
   {
    "duration": 34,
    "start_time": "2021-08-17T20:42:45.158Z"
   },
   {
    "duration": 23,
    "start_time": "2021-08-17T20:42:45.194Z"
   },
   {
    "duration": 17,
    "start_time": "2021-08-17T20:42:45.220Z"
   },
   {
    "duration": 7,
    "start_time": "2021-08-17T20:42:45.239Z"
   },
   {
    "duration": 469,
    "start_time": "2021-08-17T20:42:45.248Z"
   },
   {
    "duration": -169,
    "start_time": "2021-08-17T20:42:45.889Z"
   },
   {
    "duration": -172,
    "start_time": "2021-08-17T20:42:45.893Z"
   },
   {
    "duration": -174,
    "start_time": "2021-08-17T20:42:45.897Z"
   },
   {
    "duration": -175,
    "start_time": "2021-08-17T20:42:45.900Z"
   },
   {
    "duration": -177,
    "start_time": "2021-08-17T20:42:45.903Z"
   },
   {
    "duration": -177,
    "start_time": "2021-08-17T20:42:45.905Z"
   },
   {
    "duration": -179,
    "start_time": "2021-08-17T20:42:45.909Z"
   },
   {
    "duration": -180,
    "start_time": "2021-08-17T20:42:45.911Z"
   },
   {
    "duration": -182,
    "start_time": "2021-08-17T20:42:45.915Z"
   },
   {
    "duration": -184,
    "start_time": "2021-08-17T20:42:45.918Z"
   },
   {
    "duration": 1866,
    "start_time": "2021-08-17T20:43:06.283Z"
   },
   {
    "duration": 50,
    "start_time": "2021-08-17T20:43:08.152Z"
   },
   {
    "duration": 37,
    "start_time": "2021-08-17T20:43:08.206Z"
   },
   {
    "duration": 65,
    "start_time": "2021-08-17T20:43:08.246Z"
   },
   {
    "duration": 5,
    "start_time": "2021-08-17T20:43:08.313Z"
   },
   {
    "duration": 7,
    "start_time": "2021-08-17T20:43:08.321Z"
   },
   {
    "duration": 12,
    "start_time": "2021-08-17T20:43:08.330Z"
   },
   {
    "duration": 64,
    "start_time": "2021-08-17T20:43:08.346Z"
   },
   {
    "duration": 20,
    "start_time": "2021-08-17T20:43:08.413Z"
   },
   {
    "duration": 6,
    "start_time": "2021-08-17T20:43:08.436Z"
   },
   {
    "duration": 43,
    "start_time": "2021-08-17T20:43:08.444Z"
   },
   {
    "duration": 25,
    "start_time": "2021-08-17T20:43:08.489Z"
   },
   {
    "duration": 32,
    "start_time": "2021-08-17T20:43:08.517Z"
   },
   {
    "duration": 659,
    "start_time": "2021-08-17T20:43:08.551Z"
   },
   {
    "duration": 14,
    "start_time": "2021-08-17T20:43:09.213Z"
   },
   {
    "duration": 77,
    "start_time": "2021-08-17T20:43:09.230Z"
   },
   {
    "duration": 19,
    "start_time": "2021-08-17T20:43:09.309Z"
   },
   {
    "duration": 9,
    "start_time": "2021-08-17T20:43:09.331Z"
   },
   {
    "duration": 58,
    "start_time": "2021-08-17T20:43:09.343Z"
   },
   {
    "duration": 16,
    "start_time": "2021-08-17T20:43:09.404Z"
   },
   {
    "duration": 5,
    "start_time": "2021-08-17T20:43:09.423Z"
   },
   {
    "duration": 454,
    "start_time": "2021-08-17T20:43:09.431Z"
   },
   {
    "duration": -119,
    "start_time": "2021-08-17T20:43:10.007Z"
   },
   {
    "duration": -121,
    "start_time": "2021-08-17T20:43:10.011Z"
   },
   {
    "duration": -123,
    "start_time": "2021-08-17T20:43:10.014Z"
   },
   {
    "duration": -164,
    "start_time": "2021-08-17T20:43:10.056Z"
   },
   {
    "duration": -168,
    "start_time": "2021-08-17T20:43:10.062Z"
   },
   {
    "duration": -172,
    "start_time": "2021-08-17T20:43:10.067Z"
   },
   {
    "duration": -174,
    "start_time": "2021-08-17T20:43:10.071Z"
   },
   {
    "duration": -189,
    "start_time": "2021-08-17T20:43:10.087Z"
   },
   {
    "duration": -190,
    "start_time": "2021-08-17T20:43:10.090Z"
   },
   {
    "duration": -194,
    "start_time": "2021-08-17T20:43:10.095Z"
   },
   {
    "duration": 1532,
    "start_time": "2021-08-17T20:43:47.248Z"
   },
   {
    "duration": 52,
    "start_time": "2021-08-17T20:43:48.783Z"
   },
   {
    "duration": 51,
    "start_time": "2021-08-17T20:43:48.838Z"
   },
   {
    "duration": 48,
    "start_time": "2021-08-17T20:43:48.892Z"
   },
   {
    "duration": 5,
    "start_time": "2021-08-17T20:43:48.942Z"
   },
   {
    "duration": 37,
    "start_time": "2021-08-17T20:43:48.949Z"
   },
   {
    "duration": 13,
    "start_time": "2021-08-17T20:43:48.989Z"
   },
   {
    "duration": 51,
    "start_time": "2021-08-17T20:43:49.008Z"
   },
   {
    "duration": 38,
    "start_time": "2021-08-17T20:43:49.062Z"
   },
   {
    "duration": 6,
    "start_time": "2021-08-17T20:43:49.103Z"
   },
   {
    "duration": 34,
    "start_time": "2021-08-17T20:43:49.111Z"
   },
   {
    "duration": 44,
    "start_time": "2021-08-17T20:43:49.148Z"
   },
   {
    "duration": 46,
    "start_time": "2021-08-17T20:43:49.195Z"
   },
   {
    "duration": 641,
    "start_time": "2021-08-17T20:43:49.244Z"
   },
   {
    "duration": 16,
    "start_time": "2021-08-17T20:43:49.889Z"
   },
   {
    "duration": 80,
    "start_time": "2021-08-17T20:43:49.908Z"
   },
   {
    "duration": 19,
    "start_time": "2021-08-17T20:43:49.991Z"
   },
   {
    "duration": 15,
    "start_time": "2021-08-17T20:43:50.013Z"
   },
   {
    "duration": 34,
    "start_time": "2021-08-17T20:43:50.031Z"
   },
   {
    "duration": 14,
    "start_time": "2021-08-17T20:43:50.086Z"
   },
   {
    "duration": 18,
    "start_time": "2021-08-17T20:43:50.102Z"
   },
   {
    "duration": 24,
    "start_time": "2021-08-17T20:43:50.122Z"
   },
   {
    "duration": 98,
    "start_time": "2021-08-17T20:43:50.150Z"
   },
   {
    "duration": 321,
    "start_time": "2021-08-17T20:43:50.251Z"
   },
   {
    "duration": 19,
    "start_time": "2021-08-17T20:43:50.574Z"
   },
   {
    "duration": 44,
    "start_time": "2021-08-17T20:43:50.596Z"
   },
   {
    "duration": 668,
    "start_time": "2021-08-17T20:43:50.643Z"
   },
   {
    "duration": 7,
    "start_time": "2021-08-17T20:43:51.313Z"
   },
   {
    "duration": 17,
    "start_time": "2021-08-17T20:43:51.323Z"
   },
   {
    "duration": 451,
    "start_time": "2021-08-17T20:43:51.343Z"
   },
   {
    "duration": 15,
    "start_time": "2021-08-17T20:43:51.797Z"
   },
   {
    "duration": 15,
    "start_time": "2021-08-17T20:43:51.814Z"
   },
   {
    "duration": 627,
    "start_time": "2021-08-17T20:44:35.247Z"
   },
   {
    "duration": 597,
    "start_time": "2021-08-17T20:46:34.694Z"
   },
   {
    "duration": 493,
    "start_time": "2021-08-17T20:46:55.108Z"
   },
   {
    "duration": 1585,
    "start_time": "2021-08-17T20:47:01.995Z"
   },
   {
    "duration": 52,
    "start_time": "2021-08-17T20:47:03.583Z"
   },
   {
    "duration": 47,
    "start_time": "2021-08-17T20:47:03.638Z"
   },
   {
    "duration": 47,
    "start_time": "2021-08-17T20:47:03.688Z"
   },
   {
    "duration": 5,
    "start_time": "2021-08-17T20:47:03.738Z"
   },
   {
    "duration": 7,
    "start_time": "2021-08-17T20:47:03.746Z"
   },
   {
    "duration": 6,
    "start_time": "2021-08-17T20:47:03.784Z"
   },
   {
    "duration": 49,
    "start_time": "2021-08-17T20:47:03.793Z"
   },
   {
    "duration": 21,
    "start_time": "2021-08-17T20:47:03.845Z"
   },
   {
    "duration": 6,
    "start_time": "2021-08-17T20:47:03.886Z"
   },
   {
    "duration": 31,
    "start_time": "2021-08-17T20:47:03.894Z"
   },
   {
    "duration": 29,
    "start_time": "2021-08-17T20:47:03.928Z"
   },
   {
    "duration": 56,
    "start_time": "2021-08-17T20:47:03.961Z"
   },
   {
    "duration": 699,
    "start_time": "2021-08-17T20:47:04.020Z"
   },
   {
    "duration": 14,
    "start_time": "2021-08-17T20:47:04.721Z"
   },
   {
    "duration": 75,
    "start_time": "2021-08-17T20:47:04.738Z"
   },
   {
    "duration": 19,
    "start_time": "2021-08-17T20:47:04.815Z"
   },
   {
    "duration": 18,
    "start_time": "2021-08-17T20:47:04.837Z"
   },
   {
    "duration": 43,
    "start_time": "2021-08-17T20:47:04.859Z"
   },
   {
    "duration": 23,
    "start_time": "2021-08-17T20:47:04.904Z"
   },
   {
    "duration": 5,
    "start_time": "2021-08-17T20:47:04.929Z"
   },
   {
    "duration": 32,
    "start_time": "2021-08-17T20:47:04.937Z"
   },
   {
    "duration": 112,
    "start_time": "2021-08-17T20:47:04.986Z"
   },
   {
    "duration": 335,
    "start_time": "2021-08-17T20:47:05.101Z"
   },
   {
    "duration": 12,
    "start_time": "2021-08-17T20:47:05.438Z"
   },
   {
    "duration": 58,
    "start_time": "2021-08-17T20:47:05.453Z"
   },
   {
    "duration": 630,
    "start_time": "2021-08-17T20:47:05.514Z"
   },
   {
    "duration": 6,
    "start_time": "2021-08-17T20:47:06.146Z"
   },
   {
    "duration": 31,
    "start_time": "2021-08-17T20:47:06.155Z"
   },
   {
    "duration": 524,
    "start_time": "2021-08-17T20:47:06.188Z"
   },
   {
    "duration": 15,
    "start_time": "2021-08-17T20:47:06.715Z"
   },
   {
    "duration": 12,
    "start_time": "2021-08-17T20:47:06.732Z"
   },
   {
    "duration": 486,
    "start_time": "2021-08-17T20:48:05.992Z"
   },
   {
    "duration": 42,
    "start_time": "2021-08-17T20:52:56.776Z"
   },
   {
    "duration": 26,
    "start_time": "2021-08-17T20:54:15.273Z"
   },
   {
    "duration": 39,
    "start_time": "2021-08-17T20:55:11.533Z"
   },
   {
    "duration": 8,
    "start_time": "2021-08-17T20:57:31.443Z"
   },
   {
    "duration": 9,
    "start_time": "2021-08-17T20:57:45.761Z"
   },
   {
    "duration": 10,
    "start_time": "2021-08-17T20:57:54.546Z"
   },
   {
    "duration": 443,
    "start_time": "2021-08-17T20:58:48.823Z"
   },
   {
    "duration": 327,
    "start_time": "2021-08-17T20:58:54.825Z"
   },
   {
    "duration": 317,
    "start_time": "2021-08-17T20:59:06.753Z"
   },
   {
    "duration": 11,
    "start_time": "2021-08-17T20:59:23.269Z"
   },
   {
    "duration": 14,
    "start_time": "2021-08-17T20:59:37.478Z"
   },
   {
    "duration": 10,
    "start_time": "2021-08-17T21:00:14.046Z"
   },
   {
    "duration": 320,
    "start_time": "2021-08-17T21:05:56.912Z"
   },
   {
    "duration": 13,
    "start_time": "2021-08-17T21:06:35.405Z"
   },
   {
    "duration": 551,
    "start_time": "2021-08-18T06:34:05.515Z"
   },
   {
    "duration": 331,
    "start_time": "2021-08-18T06:34:19.803Z"
   },
   {
    "duration": 1535,
    "start_time": "2021-08-18T06:34:24.221Z"
   },
   {
    "duration": 48,
    "start_time": "2021-08-18T06:34:25.759Z"
   },
   {
    "duration": 36,
    "start_time": "2021-08-18T06:34:25.810Z"
   },
   {
    "duration": 55,
    "start_time": "2021-08-18T06:34:25.849Z"
   },
   {
    "duration": 6,
    "start_time": "2021-08-18T06:34:25.906Z"
   },
   {
    "duration": 10,
    "start_time": "2021-08-18T06:34:25.915Z"
   },
   {
    "duration": 13,
    "start_time": "2021-08-18T06:34:25.927Z"
   },
   {
    "duration": 35,
    "start_time": "2021-08-18T06:34:25.968Z"
   },
   {
    "duration": 20,
    "start_time": "2021-08-18T06:34:26.007Z"
   },
   {
    "duration": 5,
    "start_time": "2021-08-18T06:34:26.030Z"
   },
   {
    "duration": 16,
    "start_time": "2021-08-18T06:34:26.068Z"
   },
   {
    "duration": 25,
    "start_time": "2021-08-18T06:34:26.086Z"
   },
   {
    "duration": 61,
    "start_time": "2021-08-18T06:34:26.114Z"
   },
   {
    "duration": 648,
    "start_time": "2021-08-18T06:34:26.178Z"
   },
   {
    "duration": 13,
    "start_time": "2021-08-18T06:34:26.828Z"
   },
   {
    "duration": 67,
    "start_time": "2021-08-18T06:34:26.844Z"
   },
   {
    "duration": 17,
    "start_time": "2021-08-18T06:34:26.914Z"
   },
   {
    "duration": 35,
    "start_time": "2021-08-18T06:34:26.934Z"
   },
   {
    "duration": 21,
    "start_time": "2021-08-18T06:34:26.971Z"
   },
   {
    "duration": 13,
    "start_time": "2021-08-18T06:34:26.994Z"
   },
   {
    "duration": 4,
    "start_time": "2021-08-18T06:34:27.010Z"
   },
   {
    "duration": 61,
    "start_time": "2021-08-18T06:34:27.016Z"
   },
   {
    "duration": 103,
    "start_time": "2021-08-18T06:34:27.082Z"
   },
   {
    "duration": 327,
    "start_time": "2021-08-18T06:34:27.188Z"
   },
   {
    "duration": 11,
    "start_time": "2021-08-18T06:34:27.517Z"
   },
   {
    "duration": 53,
    "start_time": "2021-08-18T06:34:27.530Z"
   },
   {
    "duration": 423,
    "start_time": "2021-08-18T06:34:27.585Z"
   },
   {
    "duration": 6,
    "start_time": "2021-08-18T06:34:28.010Z"
   },
   {
    "duration": 21,
    "start_time": "2021-08-18T06:34:28.018Z"
   },
   {
    "duration": 432,
    "start_time": "2021-08-18T06:34:28.041Z"
   },
   {
    "duration": 14,
    "start_time": "2021-08-18T06:34:28.475Z"
   },
   {
    "duration": 12,
    "start_time": "2021-08-18T06:34:28.491Z"
   },
   {
    "duration": 67,
    "start_time": "2021-08-18T06:34:28.506Z"
   },
   {
    "duration": 9,
    "start_time": "2021-08-18T06:34:28.576Z"
   },
   {
    "duration": 11,
    "start_time": "2021-08-18T06:34:28.588Z"
   },
   {
    "duration": 505,
    "start_time": "2021-08-18T07:24:26.420Z"
   },
   {
    "duration": 264,
    "start_time": "2021-08-18T07:24:37.428Z"
   },
   {
    "duration": 264,
    "start_time": "2021-08-18T07:24:54.363Z"
   },
   {
    "duration": 322,
    "start_time": "2021-08-18T07:25:56.778Z"
   },
   {
    "duration": 665,
    "start_time": "2021-08-18T07:26:13.226Z"
   },
   {
    "duration": 250,
    "start_time": "2021-08-18T07:26:42.412Z"
   },
   {
    "duration": 253,
    "start_time": "2021-08-18T07:26:57.602Z"
   },
   {
    "duration": 252,
    "start_time": "2021-08-18T07:29:52.127Z"
   },
   {
    "duration": 600,
    "start_time": "2021-08-18T07:30:15.527Z"
   },
   {
    "duration": 261,
    "start_time": "2021-08-18T07:30:32.439Z"
   },
   {
    "duration": 244,
    "start_time": "2021-08-18T07:30:39.086Z"
   },
   {
    "duration": 599,
    "start_time": "2021-08-18T07:32:58.796Z"
   },
   {
    "duration": 629,
    "start_time": "2021-08-18T07:33:16.540Z"
   },
   {
    "duration": 578,
    "start_time": "2021-08-18T07:33:35.668Z"
   },
   {
    "duration": 251,
    "start_time": "2021-08-18T07:34:55.970Z"
   },
   {
    "duration": 256,
    "start_time": "2021-08-18T07:35:34.370Z"
   },
   {
    "duration": 421,
    "start_time": "2021-08-18T07:36:26.849Z"
   },
   {
    "duration": 505,
    "start_time": "2021-08-18T07:36:41.792Z"
   },
   {
    "duration": 595,
    "start_time": "2021-08-18T07:37:24.728Z"
   },
   {
    "duration": 258,
    "start_time": "2021-08-18T07:37:39.017Z"
   },
   {
    "duration": 1534,
    "start_time": "2021-08-18T07:38:17.317Z"
   },
   {
    "duration": 48,
    "start_time": "2021-08-18T07:38:18.854Z"
   },
   {
    "duration": 36,
    "start_time": "2021-08-18T07:38:18.905Z"
   },
   {
    "duration": 64,
    "start_time": "2021-08-18T07:38:18.945Z"
   },
   {
    "duration": 7,
    "start_time": "2021-08-18T07:38:19.012Z"
   },
   {
    "duration": 6,
    "start_time": "2021-08-18T07:38:19.021Z"
   },
   {
    "duration": 38,
    "start_time": "2021-08-18T07:38:19.029Z"
   },
   {
    "duration": 42,
    "start_time": "2021-08-18T07:38:19.071Z"
   },
   {
    "duration": 22,
    "start_time": "2021-08-18T07:38:19.117Z"
   },
   {
    "duration": 28,
    "start_time": "2021-08-18T07:38:19.141Z"
   },
   {
    "duration": 21,
    "start_time": "2021-08-18T07:38:19.171Z"
   },
   {
    "duration": 32,
    "start_time": "2021-08-18T07:38:19.195Z"
   },
   {
    "duration": 49,
    "start_time": "2021-08-18T07:38:19.230Z"
   },
   {
    "duration": 651,
    "start_time": "2021-08-18T07:38:19.282Z"
   },
   {
    "duration": 15,
    "start_time": "2021-08-18T07:38:19.935Z"
   },
   {
    "duration": 50,
    "start_time": "2021-08-18T07:38:19.968Z"
   },
   {
    "duration": 17,
    "start_time": "2021-08-18T07:38:20.020Z"
   },
   {
    "duration": 36,
    "start_time": "2021-08-18T07:38:20.040Z"
   },
   {
    "duration": 26,
    "start_time": "2021-08-18T07:38:20.079Z"
   },
   {
    "duration": 17,
    "start_time": "2021-08-18T07:38:20.108Z"
   },
   {
    "duration": 39,
    "start_time": "2021-08-18T07:38:20.128Z"
   },
   {
    "duration": 24,
    "start_time": "2021-08-18T07:38:20.169Z"
   },
   {
    "duration": 110,
    "start_time": "2021-08-18T07:38:20.197Z"
   },
   {
    "duration": 346,
    "start_time": "2021-08-18T07:38:20.309Z"
   },
   {
    "duration": 17,
    "start_time": "2021-08-18T07:38:20.658Z"
   },
   {
    "duration": 36,
    "start_time": "2021-08-18T07:38:20.677Z"
   },
   {
    "duration": 455,
    "start_time": "2021-08-18T07:38:20.715Z"
   },
   {
    "duration": 6,
    "start_time": "2021-08-18T07:38:21.173Z"
   },
   {
    "duration": 22,
    "start_time": "2021-08-18T07:38:21.181Z"
   },
   {
    "duration": 457,
    "start_time": "2021-08-18T07:38:21.206Z"
   },
   {
    "duration": 16,
    "start_time": "2021-08-18T07:38:21.667Z"
   },
   {
    "duration": 28,
    "start_time": "2021-08-18T07:38:21.685Z"
   },
   {
    "duration": 63,
    "start_time": "2021-08-18T07:38:21.716Z"
   },
   {
    "duration": 296,
    "start_time": "2021-08-18T07:38:21.782Z"
   },
   {
    "duration": 12,
    "start_time": "2021-08-18T07:38:22.080Z"
   },
   {
    "duration": 496,
    "start_time": "2021-08-18T07:42:04.175Z"
   },
   {
    "duration": 280,
    "start_time": "2021-08-18T07:42:25.558Z"
   },
   {
    "duration": 404,
    "start_time": "2021-08-18T07:42:59.958Z"
   },
   {
    "duration": 325,
    "start_time": "2021-08-18T07:43:53.302Z"
   },
   {
    "duration": 332,
    "start_time": "2021-08-18T07:44:00.406Z"
   },
   {
    "duration": 335,
    "start_time": "2021-08-18T07:44:05.766Z"
   },
   {
    "duration": 304,
    "start_time": "2021-08-18T07:46:06.980Z"
   },
   {
    "duration": 866,
    "start_time": "2021-08-18T07:46:39.531Z"
   },
   {
    "duration": 405,
    "start_time": "2021-08-18T07:46:45.206Z"
   },
   {
    "duration": 407,
    "start_time": "2021-08-18T07:46:58.524Z"
   },
   {
    "duration": 255,
    "start_time": "2021-08-18T07:47:21.546Z"
   },
   {
    "duration": 320,
    "start_time": "2021-08-18T08:01:37.766Z"
   },
   {
    "duration": 21,
    "start_time": "2021-08-18T08:08:22.727Z"
   },
   {
    "duration": 354,
    "start_time": "2021-08-18T08:08:46.278Z"
   },
   {
    "duration": 22,
    "start_time": "2021-08-18T08:09:10.542Z"
   },
   {
    "duration": 26,
    "start_time": "2021-08-18T08:12:44.283Z"
   },
   {
    "duration": 25,
    "start_time": "2021-08-18T08:12:56.683Z"
   },
   {
    "duration": 460,
    "start_time": "2021-08-18T08:15:00.345Z"
   },
   {
    "duration": 23,
    "start_time": "2021-08-18T08:15:13.904Z"
   },
   {
    "duration": 324,
    "start_time": "2021-08-18T08:16:29.823Z"
   },
   {
    "duration": 408,
    "start_time": "2021-08-18T08:18:19.446Z"
   },
   {
    "duration": 2285,
    "start_time": "2021-08-18T08:35:06.335Z"
   },
   {
    "duration": 324,
    "start_time": "2021-08-18T08:36:35.100Z"
   },
   {
    "duration": 415,
    "start_time": "2021-08-18T08:36:44.332Z"
   },
   {
    "duration": 297,
    "start_time": "2021-08-18T08:36:53.411Z"
   },
   {
    "duration": 393,
    "start_time": "2021-08-18T08:36:59.811Z"
   },
   {
    "duration": 289,
    "start_time": "2021-08-18T08:37:05.587Z"
   },
   {
    "duration": 308,
    "start_time": "2021-08-18T08:37:33.259Z"
   },
   {
    "duration": 303,
    "start_time": "2021-08-18T08:37:44.851Z"
   },
   {
    "duration": 292,
    "start_time": "2021-08-18T08:37:49.300Z"
   },
   {
    "duration": 291,
    "start_time": "2021-08-18T08:38:12.170Z"
   },
   {
    "duration": 296,
    "start_time": "2021-08-18T08:38:42.909Z"
   },
   {
    "duration": 295,
    "start_time": "2021-08-18T08:39:23.603Z"
   },
   {
    "duration": 301,
    "start_time": "2021-08-18T08:39:33.505Z"
   },
   {
    "duration": 748,
    "start_time": "2021-08-18T09:01:32.472Z"
   },
   {
    "duration": 1085,
    "start_time": "2021-08-18T09:01:57.982Z"
   },
   {
    "duration": 1658,
    "start_time": "2021-08-18T09:02:50.439Z"
   },
   {
    "duration": 1904,
    "start_time": "2021-08-18T09:03:10.100Z"
   },
   {
    "duration": 2229,
    "start_time": "2021-08-18T09:06:37.234Z"
   },
   {
    "duration": 1890,
    "start_time": "2021-08-18T09:07:20.048Z"
   },
   {
    "duration": 1974,
    "start_time": "2021-08-18T09:08:09.039Z"
   },
   {
    "duration": 459,
    "start_time": "2021-08-18T10:32:24.349Z"
   },
   {
    "duration": 418,
    "start_time": "2021-08-18T10:32:42.182Z"
   },
   {
    "duration": 1958,
    "start_time": "2021-08-18T10:33:59.284Z"
   },
   {
    "duration": 2925,
    "start_time": "2021-08-18T10:34:42.322Z"
   },
   {
    "duration": 1666,
    "start_time": "2021-08-18T10:35:38.492Z"
   },
   {
    "duration": 47,
    "start_time": "2021-08-18T10:35:40.161Z"
   },
   {
    "duration": 38,
    "start_time": "2021-08-18T10:35:40.211Z"
   },
   {
    "duration": 45,
    "start_time": "2021-08-18T10:35:40.267Z"
   },
   {
    "duration": 5,
    "start_time": "2021-08-18T10:35:40.314Z"
   },
   {
    "duration": 10,
    "start_time": "2021-08-18T10:35:40.321Z"
   },
   {
    "duration": 7,
    "start_time": "2021-08-18T10:35:40.333Z"
   },
   {
    "duration": 39,
    "start_time": "2021-08-18T10:35:40.367Z"
   },
   {
    "duration": 21,
    "start_time": "2021-08-18T10:35:40.409Z"
   },
   {
    "duration": 5,
    "start_time": "2021-08-18T10:35:40.433Z"
   },
   {
    "duration": 40,
    "start_time": "2021-08-18T10:35:40.440Z"
   },
   {
    "duration": 25,
    "start_time": "2021-08-18T10:35:40.483Z"
   },
   {
    "duration": 69,
    "start_time": "2021-08-18T10:35:40.511Z"
   },
   {
    "duration": 651,
    "start_time": "2021-08-18T10:35:40.583Z"
   },
   {
    "duration": 30,
    "start_time": "2021-08-18T10:35:41.237Z"
   },
   {
    "duration": 49,
    "start_time": "2021-08-18T10:35:41.269Z"
   },
   {
    "duration": 19,
    "start_time": "2021-08-18T10:35:41.320Z"
   },
   {
    "duration": 36,
    "start_time": "2021-08-18T10:35:41.341Z"
   },
   {
    "duration": 23,
    "start_time": "2021-08-18T10:35:41.380Z"
   },
   {
    "duration": 14,
    "start_time": "2021-08-18T10:35:41.406Z"
   },
   {
    "duration": 4,
    "start_time": "2021-08-18T10:35:41.422Z"
   },
   {
    "duration": 57,
    "start_time": "2021-08-18T10:35:41.428Z"
   },
   {
    "duration": 107,
    "start_time": "2021-08-18T10:35:41.491Z"
   },
   {
    "duration": 347,
    "start_time": "2021-08-18T10:35:41.602Z"
   },
   {
    "duration": 19,
    "start_time": "2021-08-18T10:35:41.951Z"
   },
   {
    "duration": 34,
    "start_time": "2021-08-18T10:35:41.973Z"
   },
   {
    "duration": 481,
    "start_time": "2021-08-18T10:35:42.010Z"
   },
   {
    "duration": 8,
    "start_time": "2021-08-18T10:35:42.494Z"
   },
   {
    "duration": 19,
    "start_time": "2021-08-18T10:35:42.504Z"
   },
   {
    "duration": 457,
    "start_time": "2021-08-18T10:35:42.525Z"
   },
   {
    "duration": 15,
    "start_time": "2021-08-18T10:35:42.985Z"
   },
   {
    "duration": 12,
    "start_time": "2021-08-18T10:35:43.003Z"
   },
   {
    "duration": 71,
    "start_time": "2021-08-18T10:35:43.018Z"
   },
   {
    "duration": 337,
    "start_time": "2021-08-18T10:35:43.092Z"
   },
   {
    "duration": 13,
    "start_time": "2021-08-18T10:35:43.432Z"
   },
   {
    "duration": 374,
    "start_time": "2021-08-18T10:35:43.448Z"
   },
   {
    "duration": 22,
    "start_time": "2021-08-18T10:35:43.825Z"
   },
   {
    "duration": 2860,
    "start_time": "2021-08-18T10:35:43.850Z"
   },
   {
    "duration": 2369,
    "start_time": "2021-08-18T10:35:51.920Z"
   },
   {
    "duration": 2562,
    "start_time": "2021-08-18T10:36:04.136Z"
   },
   {
    "duration": 2827,
    "start_time": "2021-08-18T10:36:43.214Z"
   },
   {
    "duration": 2707,
    "start_time": "2021-08-18T10:37:09.190Z"
   },
   {
    "duration": 3023,
    "start_time": "2021-08-18T10:37:40.961Z"
   },
   {
    "duration": 2893,
    "start_time": "2021-08-18T10:52:58.524Z"
   },
   {
    "duration": 3148,
    "start_time": "2021-08-18T10:54:11.671Z"
   },
   {
    "duration": 3912,
    "start_time": "2021-08-18T10:55:42.685Z"
   },
   {
    "duration": 3034,
    "start_time": "2021-08-18T10:57:10.651Z"
   },
   {
    "duration": 3245,
    "start_time": "2021-08-18T11:09:16.417Z"
   },
   {
    "duration": 2955,
    "start_time": "2021-08-18T11:09:37.887Z"
   },
   {
    "duration": 482,
    "start_time": "2021-08-18T11:16:38.577Z"
   },
   {
    "duration": 4,
    "start_time": "2021-08-18T11:16:40.720Z"
   },
   {
    "duration": 5,
    "start_time": "2021-08-18T11:16:43.496Z"
   },
   {
    "duration": 12,
    "start_time": "2021-08-18T11:20:31.445Z"
   },
   {
    "duration": 13,
    "start_time": "2021-08-18T11:21:56.451Z"
   },
   {
    "duration": 11,
    "start_time": "2021-08-18T11:22:23.818Z"
   },
   {
    "duration": 10,
    "start_time": "2021-08-18T11:26:58.870Z"
   },
   {
    "duration": 10,
    "start_time": "2021-08-18T11:27:26.230Z"
   },
   {
    "duration": 157,
    "start_time": "2021-08-18T11:30:11.333Z"
   },
   {
    "duration": 738,
    "start_time": "2021-08-18T11:30:32.379Z"
   },
   {
    "duration": 7,
    "start_time": "2021-08-18T11:30:42.683Z"
   },
   {
    "duration": 7,
    "start_time": "2021-08-18T11:31:20.154Z"
   },
   {
    "duration": 10,
    "start_time": "2021-08-18T11:31:53.306Z"
   },
   {
    "duration": 359,
    "start_time": "2021-08-18T11:32:20.290Z"
   },
   {
    "duration": 378,
    "start_time": "2021-08-18T11:32:31.025Z"
   },
   {
    "duration": 9,
    "start_time": "2021-08-18T11:33:06.443Z"
   },
   {
    "duration": 9,
    "start_time": "2021-08-18T11:33:26.161Z"
   },
   {
    "duration": 6,
    "start_time": "2021-08-18T11:36:49.909Z"
   },
   {
    "duration": 392,
    "start_time": "2021-08-18T13:43:48.323Z"
   },
   {
    "duration": 47,
    "start_time": "2021-08-18T13:44:11.246Z"
   },
   {
    "duration": 331,
    "start_time": "2021-08-18T13:44:37.665Z"
   },
   {
    "duration": 33,
    "start_time": "2021-08-18T13:44:47.034Z"
   },
   {
    "duration": 30,
    "start_time": "2021-08-18T13:45:06.826Z"
   },
   {
    "duration": 326,
    "start_time": "2021-08-18T13:45:48.042Z"
   },
   {
    "duration": 19,
    "start_time": "2021-08-18T13:45:55.481Z"
   },
   {
    "duration": 38,
    "start_time": "2021-08-18T13:47:56.415Z"
   },
   {
    "duration": 36,
    "start_time": "2021-08-18T13:48:15.831Z"
   },
   {
    "duration": 29,
    "start_time": "2021-08-18T13:51:59.027Z"
   },
   {
    "duration": 332,
    "start_time": "2021-08-18T13:52:30.322Z"
   },
   {
    "duration": 28,
    "start_time": "2021-08-18T13:52:38.740Z"
   },
   {
    "duration": 32,
    "start_time": "2021-08-18T13:54:28.296Z"
   },
   {
    "duration": 364,
    "start_time": "2021-08-18T14:00:46.452Z"
   },
   {
    "duration": 13,
    "start_time": "2021-08-18T14:00:54.482Z"
   },
   {
    "duration": 14,
    "start_time": "2021-08-18T14:01:09.553Z"
   },
   {
    "duration": 1449,
    "start_time": "2021-08-18T17:22:36.596Z"
   },
   {
    "duration": 52,
    "start_time": "2021-08-18T17:22:38.048Z"
   },
   {
    "duration": 36,
    "start_time": "2021-08-18T17:22:38.103Z"
   },
   {
    "duration": 63,
    "start_time": "2021-08-18T17:22:38.143Z"
   },
   {
    "duration": 6,
    "start_time": "2021-08-18T17:22:38.209Z"
   },
   {
    "duration": 6,
    "start_time": "2021-08-18T17:22:38.218Z"
   },
   {
    "duration": 43,
    "start_time": "2021-08-18T17:22:38.227Z"
   },
   {
    "duration": 39,
    "start_time": "2021-08-18T17:22:38.274Z"
   },
   {
    "duration": 58,
    "start_time": "2021-08-18T17:22:38.316Z"
   },
   {
    "duration": 6,
    "start_time": "2021-08-18T17:22:38.376Z"
   },
   {
    "duration": 18,
    "start_time": "2021-08-18T17:22:38.384Z"
   },
   {
    "duration": 25,
    "start_time": "2021-08-18T17:22:38.404Z"
   },
   {
    "duration": 65,
    "start_time": "2021-08-18T17:22:38.431Z"
   },
   {
    "duration": 673,
    "start_time": "2021-08-18T17:22:38.499Z"
   },
   {
    "duration": 12,
    "start_time": "2021-08-18T17:22:39.175Z"
   },
   {
    "duration": 82,
    "start_time": "2021-08-18T17:22:39.189Z"
   },
   {
    "duration": 16,
    "start_time": "2021-08-18T17:22:39.274Z"
   },
   {
    "duration": 9,
    "start_time": "2021-08-18T17:22:39.293Z"
   },
   {
    "duration": 21,
    "start_time": "2021-08-18T17:22:39.304Z"
   },
   {
    "duration": 51,
    "start_time": "2021-08-18T17:22:39.327Z"
   },
   {
    "duration": 5,
    "start_time": "2021-08-18T17:22:39.381Z"
   },
   {
    "duration": 22,
    "start_time": "2021-08-18T17:22:39.388Z"
   },
   {
    "duration": 123,
    "start_time": "2021-08-18T17:22:39.415Z"
   },
   {
    "duration": 346,
    "start_time": "2021-08-18T17:22:39.541Z"
   },
   {
    "duration": 12,
    "start_time": "2021-08-18T17:22:39.889Z"
   },
   {
    "duration": 65,
    "start_time": "2021-08-18T17:22:39.904Z"
   },
   {
    "duration": 422,
    "start_time": "2021-08-18T17:22:39.971Z"
   },
   {
    "duration": 5,
    "start_time": "2021-08-18T17:22:40.396Z"
   },
   {
    "duration": 14,
    "start_time": "2021-08-18T17:22:40.404Z"
   },
   {
    "duration": 447,
    "start_time": "2021-08-18T17:22:40.420Z"
   },
   {
    "duration": 15,
    "start_time": "2021-08-18T17:22:40.870Z"
   },
   {
    "duration": 12,
    "start_time": "2021-08-18T17:22:40.887Z"
   },
   {
    "duration": 76,
    "start_time": "2021-08-18T17:22:40.902Z"
   },
   {
    "duration": 290,
    "start_time": "2021-08-18T17:22:40.981Z"
   },
   {
    "duration": 11,
    "start_time": "2021-08-18T17:22:41.274Z"
   },
   {
    "duration": 357,
    "start_time": "2021-08-18T17:22:41.288Z"
   },
   {
    "duration": 37,
    "start_time": "2021-08-18T17:22:41.647Z"
   },
   {
    "duration": 2740,
    "start_time": "2021-08-18T17:22:41.686Z"
   },
   {
    "duration": 3,
    "start_time": "2021-08-18T17:22:44.429Z"
   },
   {
    "duration": 36,
    "start_time": "2021-08-18T17:22:44.435Z"
   },
   {
    "duration": 9,
    "start_time": "2021-08-18T17:22:44.474Z"
   },
   {
    "duration": 31,
    "start_time": "2021-08-18T17:22:44.486Z"
   },
   {
    "duration": 62,
    "start_time": "2021-08-18T17:22:44.519Z"
   },
   {
    "duration": 2220,
    "start_time": "2021-08-18T17:33:28.654Z"
   },
   {
    "duration": 5,
    "start_time": "2021-08-18T17:34:05.334Z"
   },
   {
    "duration": 613,
    "start_time": "2021-08-18T17:34:27.499Z"
   },
   {
    "duration": 32,
    "start_time": "2021-08-18T17:34:51.021Z"
   },
   {
    "duration": 42,
    "start_time": "2021-08-18T17:35:04.347Z"
   },
   {
    "duration": 123,
    "start_time": "2021-08-18T17:35:40.454Z"
   },
   {
    "duration": 45,
    "start_time": "2021-08-18T17:36:00.873Z"
   },
   {
    "duration": 45,
    "start_time": "2021-08-18T17:36:21.692Z"
   },
   {
    "duration": 112,
    "start_time": "2021-08-18T17:40:44.764Z"
   },
   {
    "duration": 100,
    "start_time": "2021-08-18T17:41:11.705Z"
   },
   {
    "duration": 134,
    "start_time": "2021-08-18T17:43:28.844Z"
   },
   {
    "duration": 125,
    "start_time": "2021-08-18T17:44:10.516Z"
   },
   {
    "duration": 684,
    "start_time": "2021-08-18T17:45:25.827Z"
   },
   {
    "duration": 652,
    "start_time": "2021-08-18T17:46:19.554Z"
   },
   {
    "duration": 353,
    "start_time": "2021-08-18T17:46:38.768Z"
   },
   {
    "duration": 249,
    "start_time": "2021-08-18T17:46:59.188Z"
   },
   {
    "duration": 2965,
    "start_time": "2021-08-18T17:47:15.545Z"
   },
   {
    "duration": 3591,
    "start_time": "2021-08-18T17:47:42.370Z"
   },
   {
    "duration": 3646,
    "start_time": "2021-08-18T17:47:53.632Z"
   },
   {
    "duration": 185,
    "start_time": "2021-08-18T17:48:33.365Z"
   },
   {
    "duration": 115,
    "start_time": "2021-08-18T17:48:53.907Z"
   },
   {
    "duration": 102,
    "start_time": "2021-08-18T17:49:41.448Z"
   },
   {
    "duration": 125,
    "start_time": "2021-08-18T17:49:48.816Z"
   },
   {
    "duration": 113,
    "start_time": "2021-08-18T17:50:24.387Z"
   },
   {
    "duration": 395,
    "start_time": "2021-08-18T17:50:30.692Z"
   },
   {
    "duration": 327,
    "start_time": "2021-08-18T17:50:42.050Z"
   },
   {
    "duration": 530,
    "start_time": "2021-08-18T17:50:54.962Z"
   },
   {
    "duration": 792,
    "start_time": "2021-08-18T17:51:23.476Z"
   },
   {
    "duration": 682,
    "start_time": "2021-08-18T17:51:53.660Z"
   },
   {
    "duration": 122,
    "start_time": "2021-08-18T17:54:46.074Z"
   },
   {
    "duration": 1063,
    "start_time": "2021-08-18T17:55:07.838Z"
   },
   {
    "duration": 1138,
    "start_time": "2021-08-18T17:55:11.304Z"
   },
   {
    "duration": 599,
    "start_time": "2021-08-18T17:55:21.209Z"
   },
   {
    "duration": 697,
    "start_time": "2021-08-18T17:55:28.998Z"
   },
   {
    "duration": 1076,
    "start_time": "2021-08-18T17:55:36.285Z"
   },
   {
    "duration": 1176,
    "start_time": "2021-08-18T17:56:47.639Z"
   },
   {
    "duration": 610,
    "start_time": "2021-08-18T17:56:53.736Z"
   },
   {
    "duration": 696,
    "start_time": "2021-08-18T17:57:01.941Z"
   },
   {
    "duration": 707,
    "start_time": "2021-08-18T17:58:46.931Z"
   },
   {
    "duration": 682,
    "start_time": "2021-08-18T17:58:53.828Z"
   },
   {
    "duration": 663,
    "start_time": "2021-08-18T17:59:22.627Z"
   },
   {
    "duration": 680,
    "start_time": "2021-08-18T18:01:40.804Z"
   },
   {
    "duration": 28,
    "start_time": "2021-08-18T18:06:42.541Z"
   },
   {
    "duration": 923,
    "start_time": "2021-08-18T18:09:02.450Z"
   },
   {
    "duration": 926,
    "start_time": "2021-08-18T18:09:19.741Z"
   },
   {
    "duration": 683,
    "start_time": "2021-08-18T18:09:29.099Z"
   },
   {
    "duration": 2858,
    "start_time": "2021-08-18T18:21:53.374Z"
   },
   {
    "duration": 36,
    "start_time": "2021-08-18T18:37:03.156Z"
   },
   {
    "duration": 36,
    "start_time": "2021-08-18T18:37:25.366Z"
   },
   {
    "duration": 340,
    "start_time": "2021-08-18T18:37:41.160Z"
   },
   {
    "duration": 38,
    "start_time": "2021-08-18T18:39:01.736Z"
   },
   {
    "duration": 1608,
    "start_time": "2021-08-18T18:39:16.340Z"
   },
   {
    "duration": 52,
    "start_time": "2021-08-18T18:39:17.951Z"
   },
   {
    "duration": 67,
    "start_time": "2021-08-18T18:39:18.006Z"
   },
   {
    "duration": 49,
    "start_time": "2021-08-18T18:39:18.076Z"
   },
   {
    "duration": 40,
    "start_time": "2021-08-18T18:39:18.128Z"
   },
   {
    "duration": 14,
    "start_time": "2021-08-18T18:39:18.171Z"
   },
   {
    "duration": 16,
    "start_time": "2021-08-18T18:39:18.187Z"
   },
   {
    "duration": 69,
    "start_time": "2021-08-18T18:39:18.208Z"
   },
   {
    "duration": 25,
    "start_time": "2021-08-18T18:39:18.281Z"
   },
   {
    "duration": 7,
    "start_time": "2021-08-18T18:39:18.308Z"
   },
   {
    "duration": 60,
    "start_time": "2021-08-18T18:39:18.318Z"
   },
   {
    "duration": 33,
    "start_time": "2021-08-18T18:39:18.381Z"
   },
   {
    "duration": 63,
    "start_time": "2021-08-18T18:39:18.417Z"
   },
   {
    "duration": 665,
    "start_time": "2021-08-18T18:39:18.483Z"
   },
   {
    "duration": 27,
    "start_time": "2021-08-18T18:39:19.151Z"
   },
   {
    "duration": 87,
    "start_time": "2021-08-18T18:39:19.181Z"
   },
   {
    "duration": 22,
    "start_time": "2021-08-18T18:39:19.272Z"
   },
   {
    "duration": 13,
    "start_time": "2021-08-18T18:39:19.297Z"
   },
   {
    "duration": 68,
    "start_time": "2021-08-18T18:39:19.313Z"
   },
   {
    "duration": 17,
    "start_time": "2021-08-18T18:39:19.385Z"
   },
   {
    "duration": 6,
    "start_time": "2021-08-18T18:39:19.406Z"
   },
   {
    "duration": 66,
    "start_time": "2021-08-18T18:39:19.415Z"
   },
   {
    "duration": 103,
    "start_time": "2021-08-18T18:39:19.490Z"
   },
   {
    "duration": 349,
    "start_time": "2021-08-18T18:39:19.598Z"
   },
   {
    "duration": 27,
    "start_time": "2021-08-18T18:39:19.950Z"
   },
   {
    "duration": 37,
    "start_time": "2021-08-18T18:39:19.980Z"
   },
   {
    "duration": 475,
    "start_time": "2021-08-18T18:39:20.019Z"
   },
   {
    "duration": 6,
    "start_time": "2021-08-18T18:39:20.496Z"
   },
   {
    "duration": 16,
    "start_time": "2021-08-18T18:39:20.505Z"
   },
   {
    "duration": 444,
    "start_time": "2021-08-18T18:39:20.523Z"
   },
   {
    "duration": 17,
    "start_time": "2021-08-18T18:39:20.969Z"
   },
   {
    "duration": 16,
    "start_time": "2021-08-18T18:39:20.990Z"
   },
   {
    "duration": 90,
    "start_time": "2021-08-18T18:39:21.008Z"
   },
   {
    "duration": 318,
    "start_time": "2021-08-18T18:39:21.100Z"
   },
   {
    "duration": 13,
    "start_time": "2021-08-18T18:39:21.420Z"
   },
   {
    "duration": 360,
    "start_time": "2021-08-18T18:39:21.435Z"
   },
   {
    "duration": 28,
    "start_time": "2021-08-18T18:39:21.797Z"
   },
   {
    "duration": 2833,
    "start_time": "2021-08-18T18:39:21.827Z"
   },
   {
    "duration": 6,
    "start_time": "2021-08-18T18:39:24.662Z"
   },
   {
    "duration": 13,
    "start_time": "2021-08-18T18:39:24.670Z"
   },
   {
    "duration": 9,
    "start_time": "2021-08-18T18:39:24.685Z"
   },
   {
    "duration": 83,
    "start_time": "2021-08-18T18:39:24.696Z"
   },
   {
    "duration": 718,
    "start_time": "2021-08-18T18:39:24.781Z"
   },
   {
    "duration": 27,
    "start_time": "2021-08-18T18:39:25.501Z"
   },
   {
    "duration": 67,
    "start_time": "2021-08-18T18:39:25.531Z"
   },
   {
    "duration": 498,
    "start_time": "2021-08-18T18:39:40.836Z"
   },
   {
    "duration": 38,
    "start_time": "2021-08-18T18:40:00.135Z"
   },
   {
    "duration": 6,
    "start_time": "2021-08-18T18:40:34.224Z"
   },
   {
    "duration": 14,
    "start_time": "2021-08-18T18:41:29.068Z"
   },
   {
    "duration": 6,
    "start_time": "2021-08-18T18:42:19.850Z"
   },
   {
    "duration": -205,
    "start_time": "2021-08-18T18:42:59.683Z"
   },
   {
    "duration": 1607,
    "start_time": "2021-08-18T18:43:19.346Z"
   },
   {
    "duration": 57,
    "start_time": "2021-08-18T18:43:20.956Z"
   },
   {
    "duration": 51,
    "start_time": "2021-08-18T18:43:21.016Z"
   },
   {
    "duration": 45,
    "start_time": "2021-08-18T18:43:21.070Z"
   },
   {
    "duration": 6,
    "start_time": "2021-08-18T18:43:21.117Z"
   },
   {
    "duration": 41,
    "start_time": "2021-08-18T18:43:21.127Z"
   },
   {
    "duration": 14,
    "start_time": "2021-08-18T18:43:21.171Z"
   },
   {
    "duration": 36,
    "start_time": "2021-08-18T18:43:21.189Z"
   },
   {
    "duration": 57,
    "start_time": "2021-08-18T18:43:21.228Z"
   },
   {
    "duration": 6,
    "start_time": "2021-08-18T18:43:21.288Z"
   },
   {
    "duration": 19,
    "start_time": "2021-08-18T18:43:21.296Z"
   },
   {
    "duration": 67,
    "start_time": "2021-08-18T18:43:21.318Z"
   },
   {
    "duration": 31,
    "start_time": "2021-08-18T18:43:21.387Z"
   },
   {
    "duration": 660,
    "start_time": "2021-08-18T18:43:21.420Z"
   },
   {
    "duration": 14,
    "start_time": "2021-08-18T18:43:22.083Z"
   },
   {
    "duration": 84,
    "start_time": "2021-08-18T18:43:22.099Z"
   },
   {
    "duration": 16,
    "start_time": "2021-08-18T18:43:22.186Z"
   },
   {
    "duration": 10,
    "start_time": "2021-08-18T18:43:22.205Z"
   },
   {
    "duration": 58,
    "start_time": "2021-08-18T18:43:22.217Z"
   },
   {
    "duration": 14,
    "start_time": "2021-08-18T18:43:22.278Z"
   },
   {
    "duration": 6,
    "start_time": "2021-08-18T18:43:22.295Z"
   },
   {
    "duration": 21,
    "start_time": "2021-08-18T18:43:22.304Z"
   },
   {
    "duration": 105,
    "start_time": "2021-08-18T18:43:22.370Z"
   },
   {
    "duration": 316,
    "start_time": "2021-08-18T18:43:22.478Z"
   },
   {
    "duration": 11,
    "start_time": "2021-08-18T18:43:22.797Z"
   },
   {
    "duration": 67,
    "start_time": "2021-08-18T18:43:22.811Z"
   },
   {
    "duration": 421,
    "start_time": "2021-08-18T18:43:22.880Z"
   },
   {
    "duration": 5,
    "start_time": "2021-08-18T18:43:23.304Z"
   },
   {
    "duration": 13,
    "start_time": "2021-08-18T18:43:23.311Z"
   },
   {
    "duration": 722,
    "start_time": "2021-08-18T18:43:23.327Z"
   },
   {
    "duration": 29,
    "start_time": "2021-08-18T18:43:24.053Z"
   },
   {
    "duration": 17,
    "start_time": "2021-08-18T18:43:24.085Z"
   },
   {
    "duration": 95,
    "start_time": "2021-08-18T18:43:24.105Z"
   },
   {
    "duration": 313,
    "start_time": "2021-08-18T18:43:24.203Z"
   },
   {
    "duration": 12,
    "start_time": "2021-08-18T18:43:24.519Z"
   },
   {
    "duration": 353,
    "start_time": "2021-08-18T18:43:24.535Z"
   },
   {
    "duration": 23,
    "start_time": "2021-08-18T18:43:24.891Z"
   },
   {
    "duration": 2909,
    "start_time": "2021-08-18T18:43:24.917Z"
   },
   {
    "duration": 5,
    "start_time": "2021-08-18T18:43:27.828Z"
   },
   {
    "duration": 39,
    "start_time": "2021-08-18T18:43:27.835Z"
   },
   {
    "duration": 14,
    "start_time": "2021-08-18T18:43:27.877Z"
   },
   {
    "duration": 84,
    "start_time": "2021-08-18T18:43:27.894Z"
   },
   {
    "duration": 733,
    "start_time": "2021-08-18T18:43:27.981Z"
   },
   {
    "duration": 26,
    "start_time": "2021-08-18T18:43:28.717Z"
   },
   {
    "duration": 8362,
    "start_time": "2021-08-18T18:43:28.768Z"
   },
   {
    "duration": 34,
    "start_time": "2021-08-18T18:44:04.039Z"
   },
   {
    "duration": 408,
    "start_time": "2021-08-18T18:44:33.344Z"
   },
   {
    "duration": 59,
    "start_time": "2021-08-18T18:44:40.884Z"
   },
   {
    "duration": 332,
    "start_time": "2021-08-18T18:45:53.507Z"
   },
   {
    "duration": 5,
    "start_time": "2021-08-18T18:45:58.676Z"
   },
   {
    "duration": 6,
    "start_time": "2021-08-18T18:46:14.424Z"
   },
   {
    "duration": 356,
    "start_time": "2021-08-18T18:46:47.457Z"
   },
   {
    "duration": 34,
    "start_time": "2021-08-18T18:47:01.496Z"
   },
   {
    "duration": 59,
    "start_time": "2021-08-18T18:47:15.255Z"
   },
   {
    "duration": 6,
    "start_time": "2021-08-18T18:49:53.557Z"
   },
   {
    "duration": 5,
    "start_time": "2021-08-18T18:50:15.353Z"
   },
   {
    "duration": 38,
    "start_time": "2021-08-18T18:51:04.142Z"
   },
   {
    "duration": 42,
    "start_time": "2021-08-18T18:51:21.414Z"
   },
   {
    "duration": 57,
    "start_time": "2021-08-18T18:51:33.342Z"
   },
   {
    "duration": 439,
    "start_time": "2021-08-18T18:52:14.471Z"
   },
   {
    "duration": 11,
    "start_time": "2021-08-18T18:52:24.722Z"
   },
   {
    "duration": 8,
    "start_time": "2021-08-18T18:53:29.981Z"
   },
   {
    "duration": 39,
    "start_time": "2021-08-18T18:53:35.245Z"
   },
   {
    "duration": 37,
    "start_time": "2021-08-18T18:53:45.351Z"
   },
   {
    "duration": 1459,
    "start_time": "2021-08-18T18:54:11.688Z"
   },
   {
    "duration": 46,
    "start_time": "2021-08-18T18:54:13.149Z"
   },
   {
    "duration": 36,
    "start_time": "2021-08-18T18:54:13.198Z"
   },
   {
    "duration": 69,
    "start_time": "2021-08-18T18:54:13.236Z"
   },
   {
    "duration": 5,
    "start_time": "2021-08-18T18:54:13.309Z"
   },
   {
    "duration": 6,
    "start_time": "2021-08-18T18:54:13.317Z"
   },
   {
    "duration": 45,
    "start_time": "2021-08-18T18:54:13.326Z"
   },
   {
    "duration": 40,
    "start_time": "2021-08-18T18:54:13.376Z"
   },
   {
    "duration": 68,
    "start_time": "2021-08-18T18:54:13.420Z"
   },
   {
    "duration": 6,
    "start_time": "2021-08-18T18:54:13.491Z"
   },
   {
    "duration": 20,
    "start_time": "2021-08-18T18:54:13.500Z"
   },
   {
    "duration": 71,
    "start_time": "2021-08-18T18:54:13.522Z"
   },
   {
    "duration": 72,
    "start_time": "2021-08-18T18:54:13.596Z"
   },
   {
    "duration": 668,
    "start_time": "2021-08-18T18:54:13.672Z"
   },
   {
    "duration": 35,
    "start_time": "2021-08-18T18:54:14.343Z"
   },
   {
    "duration": 53,
    "start_time": "2021-08-18T18:54:14.381Z"
   },
   {
    "duration": 21,
    "start_time": "2021-08-18T18:54:14.468Z"
   },
   {
    "duration": 11,
    "start_time": "2021-08-18T18:54:14.492Z"
   },
   {
    "duration": 72,
    "start_time": "2021-08-18T18:54:14.506Z"
   },
   {
    "duration": 17,
    "start_time": "2021-08-18T18:54:14.581Z"
   },
   {
    "duration": 6,
    "start_time": "2021-08-18T18:54:14.601Z"
   },
   {
    "duration": 68,
    "start_time": "2021-08-18T18:54:14.610Z"
   },
   {
    "duration": 101,
    "start_time": "2021-08-18T18:54:14.686Z"
   },
   {
    "duration": 336,
    "start_time": "2021-08-18T18:54:14.792Z"
   },
   {
    "duration": 15,
    "start_time": "2021-08-18T18:54:15.136Z"
   },
   {
    "duration": 47,
    "start_time": "2021-08-18T18:54:15.153Z"
   },
   {
    "duration": 446,
    "start_time": "2021-08-18T18:54:15.203Z"
   },
   {
    "duration": 16,
    "start_time": "2021-08-18T18:54:15.651Z"
   },
   {
    "duration": 11,
    "start_time": "2021-08-18T18:54:15.670Z"
   },
   {
    "duration": 468,
    "start_time": "2021-08-18T18:54:15.684Z"
   },
   {
    "duration": 22,
    "start_time": "2021-08-18T18:54:16.155Z"
   },
   {
    "duration": 12,
    "start_time": "2021-08-18T18:54:16.180Z"
   },
   {
    "duration": 84,
    "start_time": "2021-08-18T18:54:16.194Z"
   },
   {
    "duration": 313,
    "start_time": "2021-08-18T18:54:16.280Z"
   },
   {
    "duration": 15,
    "start_time": "2021-08-18T18:54:16.597Z"
   },
   {
    "duration": 432,
    "start_time": "2021-08-18T18:54:16.616Z"
   },
   {
    "duration": 38,
    "start_time": "2021-08-18T18:54:17.051Z"
   },
   {
    "duration": 2903,
    "start_time": "2021-08-18T18:54:17.092Z"
   },
   {
    "duration": 4,
    "start_time": "2021-08-18T18:54:19.997Z"
   },
   {
    "duration": 22,
    "start_time": "2021-08-18T18:54:20.003Z"
   },
   {
    "duration": 39,
    "start_time": "2021-08-18T18:54:20.027Z"
   },
   {
    "duration": 31,
    "start_time": "2021-08-18T18:54:20.069Z"
   },
   {
    "duration": 753,
    "start_time": "2021-08-18T18:54:20.103Z"
   },
   {
    "duration": 32,
    "start_time": "2021-08-18T18:54:20.858Z"
   },
   {
    "duration": 44,
    "start_time": "2021-08-18T18:54:20.892Z"
   },
   {
    "duration": 274,
    "start_time": "2021-08-18T18:56:42.775Z"
   },
   {
    "duration": 332,
    "start_time": "2021-08-18T18:57:41.035Z"
   },
   {
    "duration": 42,
    "start_time": "2021-08-18T18:58:02.149Z"
   },
   {
    "duration": 122,
    "start_time": "2021-08-18T19:02:59.236Z"
   },
   {
    "duration": 588,
    "start_time": "2021-08-18T19:03:03.992Z"
   },
   {
    "duration": 466,
    "start_time": "2021-08-18T19:03:39.018Z"
   },
   {
    "duration": 233,
    "start_time": "2021-08-18T19:05:55.431Z"
   },
   {
    "duration": 387,
    "start_time": "2021-08-18T19:10:07.670Z"
   },
   {
    "duration": 374,
    "start_time": "2021-08-18T19:10:28.738Z"
   },
   {
    "duration": 363,
    "start_time": "2021-08-18T19:11:45.947Z"
   },
   {
    "duration": 379,
    "start_time": "2021-08-18T19:13:19.570Z"
   },
   {
    "duration": 221,
    "start_time": "2021-08-18T19:13:30.820Z"
   },
   {
    "duration": 5369,
    "start_time": "2021-08-18T19:13:46.493Z"
   },
   {
    "duration": 238,
    "start_time": "2021-08-18T19:13:56.988Z"
   },
   {
    "duration": 232,
    "start_time": "2021-08-18T19:16:19.927Z"
   },
   {
    "duration": 2983,
    "start_time": "2021-08-18T19:16:34.806Z"
   },
   {
    "duration": 4405,
    "start_time": "2021-08-18T19:16:47.247Z"
   },
   {
    "duration": 279,
    "start_time": "2021-08-18T19:17:24.023Z"
   },
   {
    "duration": 380,
    "start_time": "2021-08-18T19:17:57.641Z"
   },
   {
    "duration": 430,
    "start_time": "2021-08-18T19:19:03.509Z"
   },
   {
    "duration": 571,
    "start_time": "2021-08-18T19:19:23.431Z"
   },
   {
    "duration": 651,
    "start_time": "2021-08-18T19:19:52.210Z"
   },
   {
    "duration": 741,
    "start_time": "2021-08-18T19:20:13.764Z"
   },
   {
    "duration": 587,
    "start_time": "2021-08-18T19:24:47.718Z"
   },
   {
    "duration": 678,
    "start_time": "2021-08-18T19:28:41.702Z"
   },
   {
    "duration": 631,
    "start_time": "2021-08-18T19:29:43.145Z"
   },
   {
    "duration": 618,
    "start_time": "2021-08-18T19:29:53.024Z"
   },
   {
    "duration": 590,
    "start_time": "2021-08-18T19:30:14.186Z"
   },
   {
    "duration": 374,
    "start_time": "2021-08-18T19:31:52.386Z"
   },
   {
    "duration": 695,
    "start_time": "2021-08-18T19:32:03.907Z"
   },
   {
    "duration": 785,
    "start_time": "2021-08-18T19:32:15.969Z"
   },
   {
    "duration": 663,
    "start_time": "2021-08-18T19:32:35.880Z"
   },
   {
    "duration": 616,
    "start_time": "2021-08-18T19:32:59.360Z"
   },
   {
    "duration": 576,
    "start_time": "2021-08-18T19:33:42.975Z"
   },
   {
    "duration": 596,
    "start_time": "2021-08-18T19:33:55.201Z"
   },
   {
    "duration": 593,
    "start_time": "2021-08-18T19:34:56.844Z"
   },
   {
    "duration": 719,
    "start_time": "2021-08-18T19:35:44.253Z"
   },
   {
    "duration": 622,
    "start_time": "2021-08-18T19:37:39.295Z"
   },
   {
    "duration": 696,
    "start_time": "2021-08-18T19:38:24.980Z"
   },
   {
    "duration": 643,
    "start_time": "2021-08-18T19:38:42.298Z"
   },
   {
    "duration": 665,
    "start_time": "2021-08-18T19:39:12.533Z"
   },
   {
    "duration": 775,
    "start_time": "2021-08-18T19:40:36.417Z"
   },
   {
    "duration": 672,
    "start_time": "2021-08-18T19:40:58.527Z"
   },
   {
    "duration": 1164,
    "start_time": "2021-08-18T19:41:31.972Z"
   },
   {
    "duration": 707,
    "start_time": "2021-08-18T19:41:40.731Z"
   },
   {
    "duration": 591,
    "start_time": "2021-08-18T19:41:47.686Z"
   },
   {
    "duration": 616,
    "start_time": "2021-08-18T19:42:04.029Z"
   },
   {
    "duration": 27,
    "start_time": "2021-08-19T07:59:39.172Z"
   },
   {
    "duration": 1498,
    "start_time": "2021-08-19T08:01:48.852Z"
   },
   {
    "duration": 49,
    "start_time": "2021-08-19T08:01:50.352Z"
   },
   {
    "duration": 36,
    "start_time": "2021-08-19T08:01:50.407Z"
   },
   {
    "duration": 64,
    "start_time": "2021-08-19T08:01:50.445Z"
   },
   {
    "duration": 5,
    "start_time": "2021-08-19T08:01:50.511Z"
   },
   {
    "duration": 11,
    "start_time": "2021-08-19T08:01:50.518Z"
   },
   {
    "duration": 12,
    "start_time": "2021-08-19T08:01:50.533Z"
   },
   {
    "duration": 57,
    "start_time": "2021-08-19T08:01:50.548Z"
   },
   {
    "duration": 20,
    "start_time": "2021-08-19T08:01:50.607Z"
   },
   {
    "duration": 5,
    "start_time": "2021-08-19T08:01:50.629Z"
   },
   {
    "duration": 43,
    "start_time": "2021-08-19T08:01:50.636Z"
   },
   {
    "duration": 27,
    "start_time": "2021-08-19T08:01:50.681Z"
   },
   {
    "duration": 34,
    "start_time": "2021-08-19T08:01:50.710Z"
   },
   {
    "duration": 651,
    "start_time": "2021-08-19T08:01:50.767Z"
   },
   {
    "duration": 12,
    "start_time": "2021-08-19T08:01:51.421Z"
   },
   {
    "duration": 74,
    "start_time": "2021-08-19T08:01:51.436Z"
   },
   {
    "duration": 18,
    "start_time": "2021-08-19T08:01:51.513Z"
   },
   {
    "duration": 10,
    "start_time": "2021-08-19T08:01:51.533Z"
   },
   {
    "duration": 21,
    "start_time": "2021-08-19T08:01:51.568Z"
   },
   {
    "duration": 13,
    "start_time": "2021-08-19T08:01:51.592Z"
   },
   {
    "duration": 5,
    "start_time": "2021-08-19T08:01:51.608Z"
   },
   {
    "duration": 61,
    "start_time": "2021-08-19T08:01:51.618Z"
   },
   {
    "duration": 97,
    "start_time": "2021-08-19T08:01:51.682Z"
   },
   {
    "duration": 317,
    "start_time": "2021-08-19T08:01:51.782Z"
   },
   {
    "duration": 12,
    "start_time": "2021-08-19T08:01:52.101Z"
   },
   {
    "duration": 53,
    "start_time": "2021-08-19T08:01:52.116Z"
   },
   {
    "duration": 425,
    "start_time": "2021-08-19T08:01:52.172Z"
   },
   {
    "duration": 6,
    "start_time": "2021-08-19T08:01:52.600Z"
   },
   {
    "duration": 16,
    "start_time": "2021-08-19T08:01:52.608Z"
   },
   {
    "duration": 436,
    "start_time": "2021-08-19T08:01:52.626Z"
   },
   {
    "duration": 15,
    "start_time": "2021-08-19T08:01:53.066Z"
   },
   {
    "duration": 12,
    "start_time": "2021-08-19T08:01:53.083Z"
   },
   {
    "duration": 70,
    "start_time": "2021-08-19T08:01:53.097Z"
   },
   {
    "duration": 297,
    "start_time": "2021-08-19T08:01:53.170Z"
   },
   {
    "duration": 12,
    "start_time": "2021-08-19T08:01:53.470Z"
   },
   {
    "duration": 364,
    "start_time": "2021-08-19T08:01:53.485Z"
   },
   {
    "duration": 32,
    "start_time": "2021-08-19T08:01:53.852Z"
   },
   {
    "duration": 2794,
    "start_time": "2021-08-19T08:01:53.887Z"
   },
   {
    "duration": 3,
    "start_time": "2021-08-19T08:01:56.683Z"
   },
   {
    "duration": 25,
    "start_time": "2021-08-19T08:01:56.688Z"
   },
   {
    "duration": 24,
    "start_time": "2021-08-19T08:01:56.715Z"
   },
   {
    "duration": 46,
    "start_time": "2021-08-19T08:01:56.742Z"
   },
   {
    "duration": 772,
    "start_time": "2021-08-19T08:01:56.790Z"
   },
   {
    "duration": 27,
    "start_time": "2021-08-19T08:01:57.567Z"
   },
   {
    "duration": 658,
    "start_time": "2021-08-19T08:01:57.596Z"
   },
   {
    "duration": 31,
    "start_time": "2021-08-19T08:04:33.427Z"
   },
   {
    "duration": 122,
    "start_time": "2021-08-19T08:04:55.877Z"
   },
   {
    "duration": 37,
    "start_time": "2021-08-19T08:05:09.571Z"
   },
   {
    "duration": 503,
    "start_time": "2021-08-19T08:05:44.130Z"
   },
   {
    "duration": 150,
    "start_time": "2021-08-19T08:05:52.133Z"
   },
   {
    "duration": 24,
    "start_time": "2021-08-19T08:06:39.250Z"
   },
   {
    "duration": 36,
    "start_time": "2021-08-19T08:08:11.816Z"
   },
   {
    "duration": 26,
    "start_time": "2021-08-19T08:08:58.499Z"
   },
   {
    "duration": 470,
    "start_time": "2021-08-19T13:31:45.358Z"
   },
   {
    "duration": 404,
    "start_time": "2021-08-19T13:31:56.775Z"
   },
   {
    "duration": 406,
    "start_time": "2021-08-19T13:32:12.381Z"
   },
   {
    "duration": 464,
    "start_time": "2021-08-19T13:33:16.844Z"
   },
   {
    "duration": 401,
    "start_time": "2021-08-19T13:34:25.723Z"
   },
   {
    "duration": 439,
    "start_time": "2021-08-19T13:35:06.635Z"
   },
   {
    "duration": 452,
    "start_time": "2021-08-19T13:35:54.250Z"
   },
   {
    "duration": 451,
    "start_time": "2021-08-19T13:35:59.649Z"
   },
   {
    "duration": 318,
    "start_time": "2021-08-19T13:37:06.330Z"
   },
   {
    "duration": 358,
    "start_time": "2021-08-19T13:37:24.608Z"
   },
   {
    "duration": 445,
    "start_time": "2021-08-19T13:37:33.648Z"
   },
   {
    "duration": 422,
    "start_time": "2021-08-19T13:38:39.896Z"
   },
   {
    "duration": 584,
    "start_time": "2021-08-19T13:39:22.088Z"
   },
   {
    "duration": 621,
    "start_time": "2021-08-19T13:40:10.126Z"
   },
   {
    "duration": 730,
    "start_time": "2021-08-19T13:40:29.237Z"
   },
   {
    "duration": 579,
    "start_time": "2021-08-19T13:44:58.874Z"
   },
   {
    "duration": 592,
    "start_time": "2021-08-19T13:45:12.121Z"
   },
   {
    "duration": 9,
    "start_time": "2021-08-19T13:53:00.185Z"
   },
   {
    "duration": 46,
    "start_time": "2021-08-19T13:53:07.744Z"
   },
   {
    "duration": 45,
    "start_time": "2021-08-19T13:53:47.818Z"
   },
   {
    "duration": 498,
    "start_time": "2021-08-19T13:54:12.736Z"
   },
   {
    "duration": 26,
    "start_time": "2021-08-19T13:54:19.152Z"
   },
   {
    "duration": 23,
    "start_time": "2021-08-19T14:01:49.185Z"
   },
   {
    "duration": 26,
    "start_time": "2021-08-19T14:02:15.315Z"
   },
   {
    "duration": 1392,
    "start_time": "2021-08-19T14:02:39.528Z"
   },
   {
    "duration": 932,
    "start_time": "2021-08-19T14:02:51.512Z"
   },
   {
    "duration": 40,
    "start_time": "2021-08-19T14:03:03.320Z"
   },
   {
    "duration": 41,
    "start_time": "2021-08-19T14:03:25.792Z"
   },
   {
    "duration": 397,
    "start_time": "2021-08-19T14:03:59.463Z"
   },
   {
    "duration": 411,
    "start_time": "2021-08-19T14:04:16.790Z"
   },
   {
    "duration": 40,
    "start_time": "2021-08-19T14:04:24.504Z"
   },
   {
    "duration": 33,
    "start_time": "2021-08-19T14:04:30.423Z"
   },
   {
    "duration": 31,
    "start_time": "2021-08-19T14:05:44.669Z"
   },
   {
    "duration": 34,
    "start_time": "2021-08-19T14:05:49.877Z"
   },
   {
    "duration": 38,
    "start_time": "2021-08-19T14:05:54.004Z"
   },
   {
    "duration": 47,
    "start_time": "2021-08-19T14:06:30.853Z"
   },
   {
    "duration": 39,
    "start_time": "2021-08-19T14:06:42.805Z"
   },
   {
    "duration": 318,
    "start_time": "2021-08-19T14:08:46.188Z"
   },
   {
    "duration": 112,
    "start_time": "2021-08-19T14:08:57.347Z"
   },
   {
    "duration": 154,
    "start_time": "2021-08-19T14:09:23.286Z"
   },
   {
    "duration": 156,
    "start_time": "2021-08-19T14:09:38.419Z"
   },
   {
    "duration": 515,
    "start_time": "2021-08-19T14:09:57.385Z"
   },
   {
    "duration": 160,
    "start_time": "2021-08-19T14:10:26.027Z"
   },
   {
    "duration": 159,
    "start_time": "2021-08-19T14:10:42.409Z"
   },
   {
    "duration": 795,
    "start_time": "2021-08-19T14:10:53.160Z"
   },
   {
    "duration": 301,
    "start_time": "2021-08-19T14:11:04.847Z"
   },
   {
    "duration": 262,
    "start_time": "2021-08-19T14:11:30.232Z"
   },
   {
    "duration": 784,
    "start_time": "2021-08-19T14:21:10.846Z"
   },
   {
    "duration": 437,
    "start_time": "2021-08-19T14:21:25.111Z"
   },
   {
    "duration": 8378,
    "start_time": "2021-08-19T14:23:45.763Z"
   },
   {
    "duration": 287,
    "start_time": "2021-08-19T14:23:58.173Z"
   },
   {
    "duration": 303,
    "start_time": "2021-08-19T14:24:10.723Z"
   },
   {
    "duration": 290,
    "start_time": "2021-08-19T14:24:17.658Z"
   },
   {
    "duration": 271,
    "start_time": "2021-08-19T14:24:34.683Z"
   },
   {
    "duration": 117,
    "start_time": "2021-08-19T14:24:46.580Z"
   },
   {
    "duration": 295,
    "start_time": "2021-08-19T14:24:52.267Z"
   },
   {
    "duration": 610,
    "start_time": "2021-08-19T14:25:19.946Z"
   },
   {
    "duration": 372,
    "start_time": "2021-08-19T14:25:43.738Z"
   },
   {
    "duration": 434,
    "start_time": "2021-08-19T14:25:56.722Z"
   },
   {
    "duration": 434,
    "start_time": "2021-08-19T14:26:04.185Z"
   },
   {
    "duration": 940,
    "start_time": "2021-08-19T14:26:17.488Z"
   },
   {
    "duration": 445,
    "start_time": "2021-08-19T14:26:25.997Z"
   },
   {
    "duration": 372,
    "start_time": "2021-08-19T14:26:42.832Z"
   },
   {
    "duration": 777,
    "start_time": "2021-08-19T14:26:59.209Z"
   },
   {
    "duration": 366,
    "start_time": "2021-08-19T14:27:10.601Z"
   },
   {
    "duration": 843,
    "start_time": "2021-08-19T16:15:17.137Z"
   },
   {
    "duration": 1585,
    "start_time": "2021-08-19T16:15:41.072Z"
   },
   {
    "duration": 54,
    "start_time": "2021-08-19T16:15:42.660Z"
   },
   {
    "duration": 55,
    "start_time": "2021-08-19T16:15:42.717Z"
   },
   {
    "duration": 43,
    "start_time": "2021-08-19T16:15:42.775Z"
   },
   {
    "duration": 5,
    "start_time": "2021-08-19T16:15:42.821Z"
   },
   {
    "duration": 38,
    "start_time": "2021-08-19T16:15:42.829Z"
   },
   {
    "duration": 12,
    "start_time": "2021-08-19T16:15:42.871Z"
   },
   {
    "duration": 56,
    "start_time": "2021-08-19T16:15:42.888Z"
   },
   {
    "duration": 47,
    "start_time": "2021-08-19T16:15:42.948Z"
   },
   {
    "duration": 6,
    "start_time": "2021-08-19T16:15:42.998Z"
   },
   {
    "duration": 24,
    "start_time": "2021-08-19T16:15:43.007Z"
   },
   {
    "duration": 69,
    "start_time": "2021-08-19T16:15:43.035Z"
   },
   {
    "duration": 69,
    "start_time": "2021-08-19T16:15:43.107Z"
   },
   {
    "duration": 653,
    "start_time": "2021-08-19T16:15:43.179Z"
   },
   {
    "duration": 13,
    "start_time": "2021-08-19T16:15:43.834Z"
   },
   {
    "duration": 66,
    "start_time": "2021-08-19T16:15:43.849Z"
   },
   {
    "duration": 17,
    "start_time": "2021-08-19T16:15:43.917Z"
   },
   {
    "duration": 30,
    "start_time": "2021-08-19T16:15:43.937Z"
   },
   {
    "duration": 26,
    "start_time": "2021-08-19T16:15:43.970Z"
   },
   {
    "duration": 14,
    "start_time": "2021-08-19T16:15:43.998Z"
   },
   {
    "duration": 4,
    "start_time": "2021-08-19T16:15:44.014Z"
   },
   {
    "duration": 62,
    "start_time": "2021-08-19T16:15:44.021Z"
   },
   {
    "duration": 112,
    "start_time": "2021-08-19T16:15:44.088Z"
   },
   {
    "duration": 638,
    "start_time": "2021-08-19T16:15:44.203Z"
   },
   {
    "duration": 25,
    "start_time": "2021-08-19T16:15:44.844Z"
   },
   {
    "duration": 35,
    "start_time": "2021-08-19T16:15:44.871Z"
   },
   {
    "duration": 428,
    "start_time": "2021-08-19T16:15:44.908Z"
   },
   {
    "duration": 5,
    "start_time": "2021-08-19T16:15:45.339Z"
   },
   {
    "duration": 29,
    "start_time": "2021-08-19T16:15:45.346Z"
   },
   {
    "duration": 430,
    "start_time": "2021-08-19T16:15:45.377Z"
   },
   {
    "duration": 15,
    "start_time": "2021-08-19T16:15:45.810Z"
   },
   {
    "duration": 12,
    "start_time": "2021-08-19T16:15:45.827Z"
   },
   {
    "duration": 62,
    "start_time": "2021-08-19T16:15:45.842Z"
   },
   {
    "duration": 300,
    "start_time": "2021-08-19T16:15:45.906Z"
   },
   {
    "duration": 12,
    "start_time": "2021-08-19T16:15:46.209Z"
   },
   {
    "duration": 354,
    "start_time": "2021-08-19T16:15:46.224Z"
   },
   {
    "duration": 29,
    "start_time": "2021-08-19T16:15:46.581Z"
   },
   {
    "duration": 2831,
    "start_time": "2021-08-19T16:15:46.614Z"
   },
   {
    "duration": 4,
    "start_time": "2021-08-19T16:15:49.448Z"
   },
   {
    "duration": 24,
    "start_time": "2021-08-19T16:15:49.454Z"
   },
   {
    "duration": 23,
    "start_time": "2021-08-19T16:15:49.482Z"
   },
   {
    "duration": 86,
    "start_time": "2021-08-19T16:15:49.509Z"
   },
   {
    "duration": 771,
    "start_time": "2021-08-19T16:15:49.598Z"
   },
   {
    "duration": 33,
    "start_time": "2021-08-19T16:15:50.372Z"
   },
   {
    "duration": 630,
    "start_time": "2021-08-19T16:15:50.408Z"
   },
   {
    "duration": 38,
    "start_time": "2021-08-19T16:15:51.041Z"
   },
   {
    "duration": 497,
    "start_time": "2021-08-19T16:15:51.081Z"
   },
   {
    "duration": 25,
    "start_time": "2021-08-19T16:15:51.580Z"
   },
   {
    "duration": 28,
    "start_time": "2021-08-19T16:15:51.608Z"
   },
   {
    "duration": 66,
    "start_time": "2021-08-19T16:15:51.639Z"
   },
   {
    "duration": 252,
    "start_time": "2021-08-19T16:15:51.708Z"
   },
   {
    "duration": 364,
    "start_time": "2021-08-19T16:15:51.962Z"
   },
   {
    "duration": 357,
    "start_time": "2021-08-19T16:16:47.346Z"
   },
   {
    "duration": 797,
    "start_time": "2021-08-19T16:17:05.686Z"
   },
   {
    "duration": 677,
    "start_time": "2021-08-19T16:17:13.764Z"
   },
   {
    "duration": 373,
    "start_time": "2021-08-19T16:17:20.283Z"
   },
   {
    "duration": 587,
    "start_time": "2021-08-19T16:17:51.213Z"
   },
   {
    "duration": 354,
    "start_time": "2021-08-19T16:17:58.198Z"
   },
   {
    "duration": 356,
    "start_time": "2021-08-19T16:18:10.880Z"
   },
   {
    "duration": 362,
    "start_time": "2021-08-19T16:18:55.272Z"
   },
   {
    "duration": 310,
    "start_time": "2021-08-19T16:26:26.716Z"
   },
   {
    "duration": 307,
    "start_time": "2021-08-19T16:26:32.649Z"
   },
   {
    "duration": 406,
    "start_time": "2021-08-19T16:27:51.272Z"
   },
   {
    "duration": 36,
    "start_time": "2021-08-19T16:27:59.488Z"
   },
   {
    "duration": 45,
    "start_time": "2021-08-19T16:29:00.465Z"
   },
   {
    "duration": 44,
    "start_time": "2021-08-19T16:29:30.275Z"
   },
   {
    "duration": 46,
    "start_time": "2021-08-19T16:29:45.790Z"
   },
   {
    "duration": 36,
    "start_time": "2021-08-19T16:30:00.482Z"
   },
   {
    "duration": 19,
    "start_time": "2021-08-19T16:30:39.170Z"
   },
   {
    "duration": 21,
    "start_time": "2021-08-19T16:30:53.954Z"
   },
   {
    "duration": 15,
    "start_time": "2021-08-19T16:31:03.893Z"
   },
   {
    "duration": 24,
    "start_time": "2021-08-19T16:31:41.666Z"
   },
   {
    "duration": 25,
    "start_time": "2021-08-19T16:32:16.337Z"
   },
   {
    "duration": 30,
    "start_time": "2021-08-19T16:32:45.759Z"
   },
   {
    "duration": 30,
    "start_time": "2021-08-19T16:33:09.674Z"
   },
   {
    "duration": 28,
    "start_time": "2021-08-19T16:33:42.525Z"
   },
   {
    "duration": 28,
    "start_time": "2021-08-19T16:35:12.414Z"
   },
   {
    "duration": 17,
    "start_time": "2021-08-19T16:42:05.863Z"
   },
   {
    "duration": 22,
    "start_time": "2021-08-19T16:42:37.623Z"
   },
   {
    "duration": 21,
    "start_time": "2021-08-19T16:43:00.390Z"
   },
   {
    "duration": 25,
    "start_time": "2021-08-19T16:44:06.670Z"
   },
   {
    "duration": 24,
    "start_time": "2021-08-19T16:47:13.352Z"
   },
   {
    "duration": 30,
    "start_time": "2021-08-19T16:47:55.857Z"
   },
   {
    "duration": 29,
    "start_time": "2021-08-19T16:47:56.958Z"
   },
   {
    "duration": 26,
    "start_time": "2021-08-19T16:52:19.187Z"
   },
   {
    "duration": 100,
    "start_time": "2021-08-19T16:52:36.051Z"
   },
   {
    "duration": 115,
    "start_time": "2021-08-19T16:52:47.268Z"
   },
   {
    "duration": 23,
    "start_time": "2021-08-19T16:53:02.035Z"
   },
   {
    "duration": 339,
    "start_time": "2021-08-19T16:59:26.983Z"
   },
   {
    "duration": 334,
    "start_time": "2021-08-19T16:59:33.293Z"
   },
   {
    "duration": 321,
    "start_time": "2021-08-19T16:59:46.234Z"
   },
   {
    "duration": 344,
    "start_time": "2021-08-19T16:59:52.667Z"
   },
   {
    "duration": 1527,
    "start_time": "2021-08-19T17:21:15.695Z"
   },
   {
    "duration": 55,
    "start_time": "2021-08-19T17:21:17.225Z"
   },
   {
    "duration": 37,
    "start_time": "2021-08-19T17:21:17.283Z"
   },
   {
    "duration": 64,
    "start_time": "2021-08-19T17:21:17.322Z"
   },
   {
    "duration": 5,
    "start_time": "2021-08-19T17:21:17.388Z"
   },
   {
    "duration": 10,
    "start_time": "2021-08-19T17:21:17.396Z"
   },
   {
    "duration": 9,
    "start_time": "2021-08-19T17:21:17.408Z"
   },
   {
    "duration": 68,
    "start_time": "2021-08-19T17:21:17.421Z"
   },
   {
    "duration": 22,
    "start_time": "2021-08-19T17:21:17.491Z"
   },
   {
    "duration": 7,
    "start_time": "2021-08-19T17:21:17.516Z"
   },
   {
    "duration": 16,
    "start_time": "2021-08-19T17:21:17.526Z"
   },
   {
    "duration": 31,
    "start_time": "2021-08-19T17:21:17.568Z"
   },
   {
    "duration": 32,
    "start_time": "2021-08-19T17:21:17.601Z"
   },
   {
    "duration": 688,
    "start_time": "2021-08-19T17:21:17.635Z"
   },
   {
    "duration": 14,
    "start_time": "2021-08-19T17:21:18.325Z"
   },
   {
    "duration": 79,
    "start_time": "2021-08-19T17:21:18.342Z"
   },
   {
    "duration": 18,
    "start_time": "2021-08-19T17:21:18.423Z"
   },
   {
    "duration": 31,
    "start_time": "2021-08-19T17:21:18.443Z"
   },
   {
    "duration": 23,
    "start_time": "2021-08-19T17:21:18.476Z"
   },
   {
    "duration": 17,
    "start_time": "2021-08-19T17:21:18.501Z"
   },
   {
    "duration": 4,
    "start_time": "2021-08-19T17:21:18.521Z"
   },
   {
    "duration": 64,
    "start_time": "2021-08-19T17:21:18.528Z"
   },
   {
    "duration": 94,
    "start_time": "2021-08-19T17:21:18.597Z"
   },
   {
    "duration": 341,
    "start_time": "2021-08-19T17:21:18.694Z"
   },
   {
    "duration": 10,
    "start_time": "2021-08-19T17:21:19.038Z"
   },
   {
    "duration": 52,
    "start_time": "2021-08-19T17:21:19.050Z"
   },
   {
    "duration": 432,
    "start_time": "2021-08-19T17:21:19.104Z"
   },
   {
    "duration": 6,
    "start_time": "2021-08-19T17:21:19.538Z"
   },
   {
    "duration": 38,
    "start_time": "2021-08-19T17:21:19.546Z"
   },
   {
    "duration": 442,
    "start_time": "2021-08-19T17:21:19.587Z"
   },
   {
    "duration": 14,
    "start_time": "2021-08-19T17:21:20.031Z"
   },
   {
    "duration": 26,
    "start_time": "2021-08-19T17:21:20.047Z"
   },
   {
    "duration": 39,
    "start_time": "2021-08-19T17:21:20.075Z"
   },
   {
    "duration": 321,
    "start_time": "2021-08-19T17:21:20.116Z"
   },
   {
    "duration": 13,
    "start_time": "2021-08-19T17:21:20.439Z"
   },
   {
    "duration": 441,
    "start_time": "2021-08-19T17:21:20.467Z"
   },
   {
    "duration": 23,
    "start_time": "2021-08-19T17:21:20.911Z"
   },
   {
    "duration": 3086,
    "start_time": "2021-08-19T17:21:20.936Z"
   },
   {
    "duration": 3,
    "start_time": "2021-08-19T17:21:24.025Z"
   },
   {
    "duration": 16,
    "start_time": "2021-08-19T17:21:24.030Z"
   },
   {
    "duration": 13,
    "start_time": "2021-08-19T17:21:24.071Z"
   },
   {
    "duration": 27,
    "start_time": "2021-08-19T17:21:24.086Z"
   },
   {
    "duration": 739,
    "start_time": "2021-08-19T17:21:24.116Z"
   },
   {
    "duration": 43,
    "start_time": "2021-08-19T17:21:24.857Z"
   },
   {
    "duration": 623,
    "start_time": "2021-08-19T17:21:24.902Z"
   },
   {
    "duration": 39,
    "start_time": "2021-08-19T17:21:25.527Z"
   },
   {
    "duration": 518,
    "start_time": "2021-08-19T17:21:25.580Z"
   },
   {
    "duration": 25,
    "start_time": "2021-08-19T17:21:26.100Z"
   },
   {
    "duration": 55,
    "start_time": "2021-08-19T17:21:26.127Z"
   },
   {
    "duration": 40,
    "start_time": "2021-08-19T17:21:26.184Z"
   },
   {
    "duration": 262,
    "start_time": "2021-08-19T17:21:26.226Z"
   },
   {
    "duration": 355,
    "start_time": "2021-08-19T17:21:26.491Z"
   },
   {
    "duration": 39,
    "start_time": "2021-08-19T17:21:26.850Z"
   },
   {
    "duration": 25,
    "start_time": "2021-08-19T17:21:26.892Z"
   },
   {
    "duration": 485,
    "start_time": "2021-08-19T17:21:57.430Z"
   },
   {
    "duration": 24,
    "start_time": "2021-08-19T17:22:24.157Z"
   },
   {
    "duration": 408,
    "start_time": "2021-08-19T17:22:56.502Z"
   },
   {
    "duration": 25,
    "start_time": "2021-08-19T17:23:06.396Z"
   },
   {
    "duration": 27,
    "start_time": "2021-08-19T17:23:25.778Z"
   },
   {
    "duration": 55,
    "start_time": "2021-08-19T17:26:12.425Z"
   },
   {
    "duration": 21,
    "start_time": "2021-08-19T17:27:08.183Z"
   },
   {
    "duration": 855,
    "start_time": "2021-08-19T17:31:27.823Z"
   },
   {
    "duration": 65,
    "start_time": "2021-08-19T17:33:28.567Z"
   },
   {
    "duration": 815,
    "start_time": "2021-08-19T17:34:24.515Z"
   },
   {
    "duration": 21,
    "start_time": "2021-08-19T17:34:33.278Z"
   },
   {
    "duration": 75,
    "start_time": "2021-08-19T17:35:43.919Z"
   },
   {
    "duration": 64,
    "start_time": "2021-08-19T17:36:55.622Z"
   },
   {
    "duration": 8001,
    "start_time": "2021-08-19T17:36:57.224Z"
   },
   {
    "duration": 63,
    "start_time": "2021-08-19T17:37:22.405Z"
   },
   {
    "duration": 56,
    "start_time": "2021-08-19T17:37:22.413Z"
   },
   {
    "duration": 7,
    "start_time": "2021-08-19T17:37:38.343Z"
   },
   {
    "duration": 25,
    "start_time": "2021-08-19T17:37:38.726Z"
   },
   {
    "duration": 916,
    "start_time": "2021-08-19T17:38:52.087Z"
   },
   {
    "duration": 399,
    "start_time": "2021-08-19T17:41:46.216Z"
   },
   {
    "duration": 388,
    "start_time": "2021-08-19T17:42:07.761Z"
   },
   {
    "duration": 359,
    "start_time": "2021-08-19T17:45:27.962Z"
   },
   {
    "duration": 185,
    "start_time": "2021-08-19T17:56:31.052Z"
   },
   {
    "duration": 363,
    "start_time": "2021-08-19T18:08:37.202Z"
   },
   {
    "duration": 311,
    "start_time": "2021-08-19T18:08:46.193Z"
   },
   {
    "duration": 347,
    "start_time": "2021-08-19T18:08:58.826Z"
   },
   {
    "duration": 30,
    "start_time": "2021-08-19T18:09:06.264Z"
   },
   {
    "duration": 32,
    "start_time": "2021-08-19T18:09:34.463Z"
   },
   {
    "duration": 63,
    "start_time": "2021-08-19T18:11:02.165Z"
   },
   {
    "duration": 57,
    "start_time": "2021-08-19T18:11:41.328Z"
   },
   {
    "duration": 4,
    "start_time": "2021-08-19T18:12:35.402Z"
   },
   {
    "duration": 20,
    "start_time": "2021-08-19T18:12:49.033Z"
   },
   {
    "duration": 8637,
    "start_time": "2021-08-19T18:16:58.032Z"
   },
   {
    "duration": 440,
    "start_time": "2021-08-19T18:17:43.414Z"
   },
   {
    "duration": 368,
    "start_time": "2021-08-19T18:18:46.055Z"
   },
   {
    "duration": 603,
    "start_time": "2021-08-19T18:18:57.982Z"
   },
   {
    "duration": 462,
    "start_time": "2021-08-19T18:19:06.274Z"
   },
   {
    "duration": 351,
    "start_time": "2021-08-19T18:19:14.832Z"
   },
   {
    "duration": 369,
    "start_time": "2021-08-19T18:28:57.777Z"
   },
   {
    "duration": 25,
    "start_time": "2021-08-19T18:29:47.984Z"
   },
   {
    "duration": 27,
    "start_time": "2021-08-19T19:02:53.462Z"
   },
   {
    "duration": 15,
    "start_time": "2021-08-19T19:05:04.575Z"
   },
   {
    "duration": 325,
    "start_time": "2021-08-19T19:07:08.198Z"
   },
   {
    "duration": 26,
    "start_time": "2021-08-19T19:07:16.770Z"
   },
   {
    "duration": 46,
    "start_time": "2021-08-19T19:09:10.037Z"
   },
   {
    "duration": 46,
    "start_time": "2021-08-19T19:09:46.498Z"
   },
   {
    "duration": 332,
    "start_time": "2021-08-19T19:11:39.607Z"
   },
   {
    "duration": 12,
    "start_time": "2021-08-19T19:58:16.832Z"
   },
   {
    "duration": 323,
    "start_time": "2021-08-19T19:58:59.503Z"
   },
   {
    "duration": 337,
    "start_time": "2021-08-19T19:59:22.616Z"
   },
   {
    "duration": 432,
    "start_time": "2021-08-19T20:00:11.787Z"
   },
   {
    "duration": 549,
    "start_time": "2021-08-19T20:00:30.230Z"
   },
   {
    "duration": 358,
    "start_time": "2021-08-19T20:01:40.909Z"
   },
   {
    "duration": 441,
    "start_time": "2021-08-19T20:02:32.060Z"
   },
   {
    "duration": 573,
    "start_time": "2021-08-19T20:02:44.327Z"
   },
   {
    "duration": 588,
    "start_time": "2021-08-19T20:02:57.348Z"
   },
   {
    "duration": 574,
    "start_time": "2021-08-19T20:04:13.743Z"
   },
   {
    "duration": 5,
    "start_time": "2021-08-19T20:08:41.507Z"
   },
   {
    "duration": 9,
    "start_time": "2021-08-19T20:09:01.861Z"
   },
   {
    "duration": 7,
    "start_time": "2021-08-19T20:09:07.333Z"
   },
   {
    "duration": 677,
    "start_time": "2021-08-19T20:09:34.563Z"
   },
   {
    "duration": 6,
    "start_time": "2021-08-19T20:09:35.525Z"
   },
   {
    "duration": 9,
    "start_time": "2021-08-19T20:11:27.190Z"
   },
   {
    "duration": 1479,
    "start_time": "2021-08-19T20:12:24.955Z"
   },
   {
    "duration": 48,
    "start_time": "2021-08-19T20:12:26.437Z"
   },
   {
    "duration": 39,
    "start_time": "2021-08-19T20:12:26.492Z"
   },
   {
    "duration": 74,
    "start_time": "2021-08-19T20:12:26.534Z"
   },
   {
    "duration": 5,
    "start_time": "2021-08-19T20:12:26.611Z"
   },
   {
    "duration": 7,
    "start_time": "2021-08-19T20:12:26.619Z"
   },
   {
    "duration": 5,
    "start_time": "2021-08-19T20:12:26.667Z"
   },
   {
    "duration": 48,
    "start_time": "2021-08-19T20:12:26.676Z"
   },
   {
    "duration": 43,
    "start_time": "2021-08-19T20:12:26.727Z"
   },
   {
    "duration": 6,
    "start_time": "2021-08-19T20:12:26.773Z"
   },
   {
    "duration": 25,
    "start_time": "2021-08-19T20:12:26.782Z"
   },
   {
    "duration": 27,
    "start_time": "2021-08-19T20:12:26.810Z"
   },
   {
    "duration": 59,
    "start_time": "2021-08-19T20:12:26.840Z"
   },
   {
    "duration": 668,
    "start_time": "2021-08-19T20:12:26.902Z"
   },
   {
    "duration": 13,
    "start_time": "2021-08-19T20:12:27.572Z"
   },
   {
    "duration": 48,
    "start_time": "2021-08-19T20:12:27.587Z"
   },
   {
    "duration": 43,
    "start_time": "2021-08-19T20:12:27.638Z"
   },
   {
    "duration": 10,
    "start_time": "2021-08-19T20:12:27.683Z"
   },
   {
    "duration": 20,
    "start_time": "2021-08-19T20:12:27.695Z"
   },
   {
    "duration": 49,
    "start_time": "2021-08-19T20:12:27.718Z"
   },
   {
    "duration": 5,
    "start_time": "2021-08-19T20:12:27.769Z"
   },
   {
    "duration": 19,
    "start_time": "2021-08-19T20:12:27.780Z"
   },
   {
    "duration": 110,
    "start_time": "2021-08-19T20:12:27.802Z"
   },
   {
    "duration": 334,
    "start_time": "2021-08-19T20:12:27.914Z"
   },
   {
    "duration": 19,
    "start_time": "2021-08-19T20:12:28.251Z"
   },
   {
    "duration": 37,
    "start_time": "2021-08-19T20:12:28.272Z"
   },
   {
    "duration": 443,
    "start_time": "2021-08-19T20:12:28.311Z"
   },
   {
    "duration": 12,
    "start_time": "2021-08-19T20:12:28.757Z"
   },
   {
    "duration": 17,
    "start_time": "2021-08-19T20:12:28.771Z"
   },
   {
    "duration": 442,
    "start_time": "2021-08-19T20:12:28.790Z"
   },
   {
    "duration": 15,
    "start_time": "2021-08-19T20:12:29.235Z"
   },
   {
    "duration": 13,
    "start_time": "2021-08-19T20:12:29.267Z"
   },
   {
    "duration": 38,
    "start_time": "2021-08-19T20:12:29.283Z"
   },
   {
    "duration": 312,
    "start_time": "2021-08-19T20:12:29.323Z"
   },
   {
    "duration": 12,
    "start_time": "2021-08-19T20:12:29.638Z"
   },
   {
    "duration": 346,
    "start_time": "2021-08-19T20:12:29.667Z"
   },
   {
    "duration": 22,
    "start_time": "2021-08-19T20:12:30.016Z"
   },
   {
    "duration": 2917,
    "start_time": "2021-08-19T20:12:30.040Z"
   },
   {
    "duration": 9,
    "start_time": "2021-08-19T20:12:32.960Z"
   },
   {
    "duration": 23,
    "start_time": "2021-08-19T20:12:32.972Z"
   },
   {
    "duration": 15,
    "start_time": "2021-08-19T20:12:32.998Z"
   },
   {
    "duration": 72,
    "start_time": "2021-08-19T20:12:33.017Z"
   },
   {
    "duration": 820,
    "start_time": "2021-08-19T20:12:33.092Z"
   },
   {
    "duration": 26,
    "start_time": "2021-08-19T20:12:33.915Z"
   },
   {
    "duration": 611,
    "start_time": "2021-08-19T20:12:33.967Z"
   },
   {
    "duration": 26,
    "start_time": "2021-08-19T20:12:34.581Z"
   },
   {
    "duration": 554,
    "start_time": "2021-08-19T20:12:34.609Z"
   },
   {
    "duration": 25,
    "start_time": "2021-08-19T20:12:35.166Z"
   },
   {
    "duration": 28,
    "start_time": "2021-08-19T20:12:35.194Z"
   },
   {
    "duration": 68,
    "start_time": "2021-08-19T20:12:35.224Z"
   },
   {
    "duration": 190,
    "start_time": "2021-08-19T20:12:35.294Z"
   },
   {
    "duration": 352,
    "start_time": "2021-08-19T20:12:35.486Z"
   },
   {
    "duration": 43,
    "start_time": "2021-08-19T20:12:35.840Z"
   },
   {
    "duration": 63,
    "start_time": "2021-08-19T20:12:35.885Z"
   },
   {
    "duration": 21,
    "start_time": "2021-08-19T20:12:35.950Z"
   },
   {
    "duration": 34,
    "start_time": "2021-08-19T20:12:35.974Z"
   },
   {
    "duration": 402,
    "start_time": "2021-08-19T20:12:36.011Z"
   },
   {
    "duration": 71,
    "start_time": "2021-08-19T20:12:36.416Z"
   },
   {
    "duration": 27,
    "start_time": "2021-08-19T20:12:36.490Z"
   },
   {
    "duration": 407,
    "start_time": "2021-08-19T20:12:36.520Z"
   },
   {
    "duration": 60,
    "start_time": "2021-08-19T20:12:36.929Z"
   },
   {
    "duration": 357,
    "start_time": "2021-08-19T20:12:36.992Z"
   },
   {
    "duration": 608,
    "start_time": "2021-08-19T20:12:37.351Z"
   },
   {
    "duration": 12,
    "start_time": "2021-08-19T20:12:37.962Z"
   },
   {
    "duration": 37,
    "start_time": "2021-08-19T20:15:37.723Z"
   },
   {
    "duration": 38,
    "start_time": "2021-08-19T20:16:14.330Z"
   },
   {
    "duration": 22,
    "start_time": "2021-08-19T20:16:22.251Z"
   },
   {
    "duration": 10,
    "start_time": "2021-08-19T20:19:09.849Z"
   },
   {
    "duration": 687,
    "start_time": "2021-08-19T20:22:38.048Z"
   },
   {
    "duration": 24,
    "start_time": "2021-08-19T20:22:41.586Z"
   },
   {
    "duration": 8,
    "start_time": "2021-08-19T20:24:08.239Z"
   },
   {
    "duration": 475,
    "start_time": "2021-08-19T20:27:07.844Z"
   },
   {
    "duration": 8,
    "start_time": "2021-08-19T20:29:39.479Z"
   },
   {
    "duration": 131,
    "start_time": "2021-08-19T20:34:54.175Z"
   },
   {
    "duration": 348,
    "start_time": "2021-08-19T20:35:13.435Z"
   },
   {
    "duration": 687,
    "start_time": "2021-08-19T20:35:34.397Z"
   },
   {
    "duration": 8,
    "start_time": "2021-08-19T20:35:42.199Z"
   },
   {
    "duration": 528,
    "start_time": "2021-08-19T20:36:46.139Z"
   },
   {
    "duration": 9,
    "start_time": "2021-08-19T20:36:52.048Z"
   },
   {
    "duration": 9,
    "start_time": "2021-08-19T20:36:58.201Z"
   },
   {
    "duration": 11,
    "start_time": "2021-08-19T20:38:29.997Z"
   },
   {
    "duration": 12,
    "start_time": "2021-08-19T20:38:51.125Z"
   },
   {
    "duration": 6,
    "start_time": "2021-08-19T20:39:17.924Z"
   },
   {
    "duration": 13,
    "start_time": "2021-08-19T20:39:24.596Z"
   },
   {
    "duration": 13,
    "start_time": "2021-08-19T20:39:29.852Z"
   },
   {
    "duration": 10,
    "start_time": "2021-08-19T20:43:53.270Z"
   },
   {
    "duration": 11,
    "start_time": "2021-08-19T20:46:03.987Z"
   },
   {
    "duration": 11,
    "start_time": "2021-08-19T20:46:10.872Z"
   },
   {
    "duration": 11,
    "start_time": "2021-08-19T20:46:19.497Z"
   },
   {
    "duration": 7,
    "start_time": "2021-08-19T20:47:24.547Z"
   },
   {
    "duration": 10,
    "start_time": "2021-08-19T20:47:48.064Z"
   },
   {
    "duration": 12,
    "start_time": "2021-08-19T20:51:35.312Z"
   },
   {
    "duration": 115,
    "start_time": "2021-08-19T20:51:58.545Z"
   },
   {
    "duration": 13,
    "start_time": "2021-08-19T20:52:04.382Z"
   },
   {
    "duration": 11,
    "start_time": "2021-08-19T20:52:47.864Z"
   },
   {
    "duration": 425,
    "start_time": "2021-08-19T21:02:35.446Z"
   },
   {
    "duration": 573,
    "start_time": "2021-08-19T21:03:00.119Z"
   },
   {
    "duration": 7,
    "start_time": "2021-08-19T21:03:21.813Z"
   },
   {
    "duration": 14,
    "start_time": "2021-08-19T21:04:05.853Z"
   },
   {
    "duration": 10,
    "start_time": "2021-08-19T21:04:25.426Z"
   },
   {
    "duration": 11,
    "start_time": "2021-08-19T21:06:19.817Z"
   },
   {
    "duration": 8,
    "start_time": "2021-08-19T21:06:35.625Z"
   },
   {
    "duration": 8,
    "start_time": "2021-08-19T21:07:28.443Z"
   },
   {
    "duration": 392,
    "start_time": "2021-08-19T21:09:26.098Z"
   },
   {
    "duration": 9,
    "start_time": "2021-08-19T21:10:48.889Z"
   },
   {
    "duration": 667,
    "start_time": "2021-08-19T21:12:16.655Z"
   },
   {
    "duration": 624,
    "start_time": "2021-08-19T21:12:54.218Z"
   },
   {
    "duration": 413,
    "start_time": "2021-08-19T21:34:43.577Z"
   },
   {
    "duration": 373,
    "start_time": "2021-08-19T21:35:20.604Z"
   },
   {
    "duration": 421,
    "start_time": "2021-08-19T21:36:27.154Z"
   },
   {
    "duration": 35,
    "start_time": "2021-08-19T21:36:59.940Z"
   },
   {
    "duration": 1458,
    "start_time": "2021-08-19T21:37:43.877Z"
   },
   {
    "duration": 45,
    "start_time": "2021-08-19T21:37:45.337Z"
   },
   {
    "duration": 35,
    "start_time": "2021-08-19T21:37:45.385Z"
   },
   {
    "duration": 64,
    "start_time": "2021-08-19T21:37:45.423Z"
   },
   {
    "duration": 4,
    "start_time": "2021-08-19T21:37:45.490Z"
   },
   {
    "duration": 6,
    "start_time": "2021-08-19T21:37:45.497Z"
   },
   {
    "duration": 7,
    "start_time": "2021-08-19T21:37:45.505Z"
   },
   {
    "duration": 74,
    "start_time": "2021-08-19T21:37:45.516Z"
   },
   {
    "duration": 19,
    "start_time": "2021-08-19T21:37:45.593Z"
   },
   {
    "duration": 5,
    "start_time": "2021-08-19T21:37:45.614Z"
   },
   {
    "duration": 15,
    "start_time": "2021-08-19T21:37:45.621Z"
   },
   {
    "duration": 51,
    "start_time": "2021-08-19T21:37:45.638Z"
   },
   {
    "duration": 30,
    "start_time": "2021-08-19T21:37:45.691Z"
   },
   {
    "duration": 672,
    "start_time": "2021-08-19T21:37:45.723Z"
   },
   {
    "duration": 13,
    "start_time": "2021-08-19T21:37:46.397Z"
   },
   {
    "duration": 73,
    "start_time": "2021-08-19T21:37:46.413Z"
   },
   {
    "duration": 17,
    "start_time": "2021-08-19T21:37:46.488Z"
   },
   {
    "duration": 9,
    "start_time": "2021-08-19T21:37:46.507Z"
   },
   {
    "duration": 49,
    "start_time": "2021-08-19T21:37:46.519Z"
   },
   {
    "duration": 14,
    "start_time": "2021-08-19T21:37:46.570Z"
   },
   {
    "duration": 8,
    "start_time": "2021-08-19T21:37:46.587Z"
   },
   {
    "duration": 30,
    "start_time": "2021-08-19T21:37:46.598Z"
   },
   {
    "duration": 110,
    "start_time": "2021-08-19T21:37:46.638Z"
   },
   {
    "duration": 328,
    "start_time": "2021-08-19T21:37:46.770Z"
   },
   {
    "duration": 10,
    "start_time": "2021-08-19T21:37:47.101Z"
   },
   {
    "duration": 57,
    "start_time": "2021-08-19T21:37:47.114Z"
   },
   {
    "duration": 420,
    "start_time": "2021-08-19T21:37:47.174Z"
   },
   {
    "duration": 6,
    "start_time": "2021-08-19T21:37:47.597Z"
   },
   {
    "duration": 15,
    "start_time": "2021-08-19T21:37:47.605Z"
   },
   {
    "duration": 432,
    "start_time": "2021-08-19T21:37:47.623Z"
   },
   {
    "duration": 19,
    "start_time": "2021-08-19T21:37:48.057Z"
   },
   {
    "duration": 13,
    "start_time": "2021-08-19T21:37:48.078Z"
   },
   {
    "duration": 47,
    "start_time": "2021-08-19T21:37:48.093Z"
   },
   {
    "duration": 306,
    "start_time": "2021-08-19T21:37:48.143Z"
   },
   {
    "duration": 21,
    "start_time": "2021-08-19T21:37:48.452Z"
   },
   {
    "duration": 342,
    "start_time": "2021-08-19T21:37:48.476Z"
   },
   {
    "duration": 22,
    "start_time": "2021-08-19T21:37:48.821Z"
   },
   {
    "duration": 2959,
    "start_time": "2021-08-19T21:37:48.845Z"
   },
   {
    "duration": 3,
    "start_time": "2021-08-19T21:37:51.806Z"
   },
   {
    "duration": 14,
    "start_time": "2021-08-19T21:37:51.812Z"
   },
   {
    "duration": 39,
    "start_time": "2021-08-19T21:37:51.828Z"
   },
   {
    "duration": 29,
    "start_time": "2021-08-19T21:37:51.870Z"
   },
   {
    "duration": 736,
    "start_time": "2021-08-19T21:37:51.901Z"
   },
   {
    "duration": 39,
    "start_time": "2021-08-19T21:37:52.639Z"
   },
   {
    "duration": 614,
    "start_time": "2021-08-19T21:37:52.682Z"
   },
   {
    "duration": 26,
    "start_time": "2021-08-19T21:37:53.298Z"
   },
   {
    "duration": 552,
    "start_time": "2021-08-19T21:37:53.327Z"
   },
   {
    "duration": 36,
    "start_time": "2021-08-19T21:37:53.882Z"
   },
   {
    "duration": 49,
    "start_time": "2021-08-19T21:37:53.920Z"
   },
   {
    "duration": 26,
    "start_time": "2021-08-19T21:37:53.971Z"
   },
   {
    "duration": 56,
    "start_time": "2021-08-19T21:37:53.999Z"
   },
   {
    "duration": 188,
    "start_time": "2021-08-19T21:37:54.067Z"
   },
   {
    "duration": 363,
    "start_time": "2021-08-19T21:37:54.257Z"
   },
   {
    "duration": 27,
    "start_time": "2021-08-19T21:37:54.623Z"
   },
   {
    "duration": 73,
    "start_time": "2021-08-19T21:37:54.652Z"
   },
   {
    "duration": 8,
    "start_time": "2021-08-19T21:37:54.727Z"
   },
   {
    "duration": 54,
    "start_time": "2021-08-19T21:37:54.737Z"
   },
   {
    "duration": 387,
    "start_time": "2021-08-19T21:37:54.793Z"
   },
   {
    "duration": 50,
    "start_time": "2021-08-19T21:37:55.183Z"
   },
   {
    "duration": 45,
    "start_time": "2021-08-19T21:37:55.235Z"
   },
   {
    "duration": 373,
    "start_time": "2021-08-19T21:37:55.283Z"
   },
   {
    "duration": 50,
    "start_time": "2021-08-19T21:37:55.658Z"
   },
   {
    "duration": 357,
    "start_time": "2021-08-19T21:37:55.711Z"
   },
   {
    "duration": 571,
    "start_time": "2021-08-19T21:37:56.071Z"
   },
   {
    "duration": 23,
    "start_time": "2021-08-19T21:37:56.645Z"
   },
   {
    "duration": 10,
    "start_time": "2021-08-19T21:37:56.671Z"
   },
   {
    "duration": 561,
    "start_time": "2021-08-19T21:37:56.684Z"
   },
   {
    "duration": 16,
    "start_time": "2021-08-19T21:37:57.253Z"
   },
   {
    "duration": 18,
    "start_time": "2021-08-19T21:37:57.271Z"
   },
   {
    "duration": 10,
    "start_time": "2021-08-19T21:37:57.291Z"
   },
   {
    "duration": 5,
    "start_time": "2021-08-19T21:39:06.681Z"
   },
   {
    "duration": 534,
    "start_time": "2021-08-19T21:39:28.047Z"
   },
   {
    "duration": 375,
    "start_time": "2021-08-19T21:39:42.519Z"
   },
   {
    "duration": 98,
    "start_time": "2021-08-20T07:02:03.294Z"
   },
   {
    "duration": 113,
    "start_time": "2021-08-20T07:07:24.799Z"
   },
   {
    "duration": 101,
    "start_time": "2021-08-20T07:07:42.037Z"
   },
   {
    "duration": 92,
    "start_time": "2021-08-20T07:08:25.139Z"
   },
   {
    "duration": 1490,
    "start_time": "2021-08-20T07:13:38.139Z"
   },
   {
    "duration": 49,
    "start_time": "2021-08-20T07:13:39.632Z"
   },
   {
    "duration": 36,
    "start_time": "2021-08-20T07:13:41.480Z"
   },
   {
    "duration": 44,
    "start_time": "2021-08-20T07:13:42.383Z"
   },
   {
    "duration": 4,
    "start_time": "2021-08-20T07:13:43.745Z"
   },
   {
    "duration": 4,
    "start_time": "2021-08-20T07:13:45.293Z"
   },
   {
    "duration": 11,
    "start_time": "2021-08-20T07:13:45.300Z"
   },
   {
    "duration": 36,
    "start_time": "2021-08-20T07:13:45.314Z"
   },
   {
    "duration": 22,
    "start_time": "2021-08-20T07:13:45.928Z"
   },
   {
    "duration": 5,
    "start_time": "2021-08-20T07:13:46.244Z"
   },
   {
    "duration": 15,
    "start_time": "2021-08-20T07:13:46.399Z"
   },
   {
    "duration": 25,
    "start_time": "2021-08-20T07:13:46.746Z"
   },
   {
    "duration": 31,
    "start_time": "2021-08-20T07:13:47.273Z"
   },
   {
    "duration": 625,
    "start_time": "2021-08-20T07:13:47.683Z"
   },
   {
    "duration": 13,
    "start_time": "2021-08-20T07:13:48.311Z"
   },
   {
    "duration": 73,
    "start_time": "2021-08-20T07:13:48.327Z"
   },
   {
    "duration": 16,
    "start_time": "2021-08-20T07:13:48.409Z"
   },
   {
    "duration": 10,
    "start_time": "2021-08-20T07:13:48.898Z"
   },
   {
    "duration": 20,
    "start_time": "2021-08-20T07:13:49.206Z"
   },
   {
    "duration": 14,
    "start_time": "2021-08-20T07:13:49.369Z"
   },
   {
    "duration": 5,
    "start_time": "2021-08-20T07:13:49.654Z"
   },
   {
    "duration": 19,
    "start_time": "2021-08-20T07:13:50.428Z"
   },
   {
    "duration": 72,
    "start_time": "2021-08-20T07:13:50.935Z"
   },
   {
    "duration": 299,
    "start_time": "2021-08-20T07:13:51.673Z"
   },
   {
    "duration": 11,
    "start_time": "2021-08-20T07:13:53.261Z"
   },
   {
    "duration": 32,
    "start_time": "2021-08-20T07:13:53.645Z"
   },
   {
    "duration": 398,
    "start_time": "2021-08-20T07:13:54.298Z"
   },
   {
    "duration": 6,
    "start_time": "2021-08-20T07:13:54.888Z"
   },
   {
    "duration": 10,
    "start_time": "2021-08-20T07:13:55.032Z"
   },
   {
    "duration": 400,
    "start_time": "2021-08-20T07:13:55.122Z"
   },
   {
    "duration": 15,
    "start_time": "2021-08-20T07:13:56.457Z"
   },
   {
    "duration": 14,
    "start_time": "2021-08-20T07:13:56.904Z"
   },
   {
    "duration": 38,
    "start_time": "2021-08-20T07:13:58.774Z"
   },
   {
    "duration": 273,
    "start_time": "2021-08-20T07:14:00.458Z"
   },
   {
    "duration": 12,
    "start_time": "2021-08-20T07:14:01.760Z"
   },
   {
    "duration": 322,
    "start_time": "2021-08-20T07:14:02.604Z"
   },
   {
    "duration": 23,
    "start_time": "2021-08-20T07:14:03.216Z"
   },
   {
    "duration": 1789,
    "start_time": "2021-08-20T07:14:30.201Z"
   },
   {
    "duration": 19,
    "start_time": "2021-08-20T07:17:29.599Z"
   },
   {
    "duration": 133,
    "start_time": "2021-08-20T07:29:34.005Z"
   },
   {
    "duration": 1367,
    "start_time": "2021-08-20T08:54:54.800Z"
   },
   {
    "duration": 1127,
    "start_time": "2021-08-20T08:55:13.798Z"
   },
   {
    "duration": 37,
    "start_time": "2021-08-20T08:55:14.926Z"
   },
   {
    "duration": 22,
    "start_time": "2021-08-20T08:55:14.965Z"
   },
   {
    "duration": 26,
    "start_time": "2021-08-20T08:55:14.989Z"
   },
   {
    "duration": 3,
    "start_time": "2021-08-20T08:55:15.017Z"
   },
   {
    "duration": 3,
    "start_time": "2021-08-20T08:55:15.041Z"
   },
   {
    "duration": 7,
    "start_time": "2021-08-20T08:55:15.045Z"
   },
   {
    "duration": 24,
    "start_time": "2021-08-20T08:55:15.054Z"
   },
   {
    "duration": 12,
    "start_time": "2021-08-20T08:55:15.081Z"
   },
   {
    "duration": 9,
    "start_time": "2021-08-20T08:55:15.095Z"
   },
   {
    "duration": 36,
    "start_time": "2021-08-20T08:55:15.106Z"
   },
   {
    "duration": 17,
    "start_time": "2021-08-20T08:55:15.144Z"
   },
   {
    "duration": 28,
    "start_time": "2021-08-20T08:55:15.163Z"
   },
   {
    "duration": 485,
    "start_time": "2021-08-20T08:55:15.193Z"
   },
   {
    "duration": 10,
    "start_time": "2021-08-20T08:55:15.680Z"
   },
   {
    "duration": 30,
    "start_time": "2021-08-20T08:55:15.691Z"
   },
   {
    "duration": 12,
    "start_time": "2021-08-20T08:55:15.740Z"
   },
   {
    "duration": 7,
    "start_time": "2021-08-20T08:55:15.754Z"
   },
   {
    "duration": 15,
    "start_time": "2021-08-20T08:55:15.762Z"
   },
   {
    "duration": 10,
    "start_time": "2021-08-20T08:55:15.778Z"
   },
   {
    "duration": 3,
    "start_time": "2021-08-20T08:55:15.789Z"
   },
   {
    "duration": 14,
    "start_time": "2021-08-20T08:55:15.794Z"
   },
   {
    "duration": 50,
    "start_time": "2021-08-20T08:55:15.841Z"
   },
   {
    "duration": 188,
    "start_time": "2021-08-20T08:55:15.892Z"
   },
   {
    "duration": 8,
    "start_time": "2021-08-20T08:55:16.081Z"
   },
   {
    "duration": 19,
    "start_time": "2021-08-20T08:55:16.091Z"
   },
   {
    "duration": 245,
    "start_time": "2021-08-20T08:55:16.114Z"
   },
   {
    "duration": 4,
    "start_time": "2021-08-20T08:55:16.361Z"
   },
   {
    "duration": 16,
    "start_time": "2021-08-20T08:55:16.367Z"
   },
   {
    "duration": 238,
    "start_time": "2021-08-20T08:55:16.385Z"
   },
   {
    "duration": 18,
    "start_time": "2021-08-20T08:55:16.625Z"
   },
   {
    "duration": 8,
    "start_time": "2021-08-20T08:55:16.644Z"
   },
   {
    "duration": 23,
    "start_time": "2021-08-20T08:55:16.654Z"
   },
   {
    "duration": 176,
    "start_time": "2021-08-20T08:55:16.679Z"
   },
   {
    "duration": 8,
    "start_time": "2021-08-20T08:55:16.856Z"
   },
   {
    "duration": 193,
    "start_time": "2021-08-20T08:55:16.865Z"
   },
   {
    "duration": 15,
    "start_time": "2021-08-20T08:55:17.059Z"
   },
   {
    "duration": 1565,
    "start_time": "2021-08-20T08:55:17.075Z"
   },
   {
    "duration": 3,
    "start_time": "2021-08-20T08:55:18.642Z"
   },
   {
    "duration": 13,
    "start_time": "2021-08-20T08:55:18.646Z"
   },
   {
    "duration": 6,
    "start_time": "2021-08-20T08:55:18.661Z"
   },
   {
    "duration": 19,
    "start_time": "2021-08-20T08:55:18.669Z"
   },
   {
    "duration": 425,
    "start_time": "2021-08-20T08:55:18.690Z"
   },
   {
    "duration": 34,
    "start_time": "2021-08-20T08:55:19.117Z"
   },
   {
    "duration": 348,
    "start_time": "2021-08-20T08:55:19.153Z"
   },
   {
    "duration": 261,
    "start_time": "2021-08-20T08:55:19.503Z"
   },
   {
    "duration": 18,
    "start_time": "2021-08-20T08:55:19.766Z"
   },
   {
    "duration": 277,
    "start_time": "2021-08-20T08:55:19.785Z"
   },
   {
    "duration": 286,
    "start_time": "2021-08-20T08:55:20.063Z"
   },
   {
    "duration": 16,
    "start_time": "2021-08-20T08:55:20.351Z"
   },
   {
    "duration": 17,
    "start_time": "2021-08-20T08:55:20.369Z"
   },
   {
    "duration": 24,
    "start_time": "2021-08-20T08:55:20.388Z"
   },
   {
    "duration": 120,
    "start_time": "2021-08-20T08:55:20.414Z"
   },
   {
    "duration": 205,
    "start_time": "2021-08-20T08:55:20.536Z"
   },
   {
    "duration": 19,
    "start_time": "2021-08-20T08:55:20.743Z"
   },
   {
    "duration": 44,
    "start_time": "2021-08-20T08:55:20.764Z"
   },
   {
    "duration": 5,
    "start_time": "2021-08-20T08:55:20.810Z"
   },
   {
    "duration": 38,
    "start_time": "2021-08-20T08:55:20.816Z"
   },
   {
    "duration": 227,
    "start_time": "2021-08-20T08:55:20.856Z"
   },
   {
    "duration": 32,
    "start_time": "2021-08-20T08:55:21.084Z"
   },
   {
    "duration": 33,
    "start_time": "2021-08-20T08:55:21.117Z"
   },
   {
    "duration": 217,
    "start_time": "2021-08-20T08:55:21.151Z"
   },
   {
    "duration": 30,
    "start_time": "2021-08-20T08:55:21.369Z"
   },
   {
    "duration": 207,
    "start_time": "2021-08-20T08:55:21.401Z"
   },
   {
    "duration": 318,
    "start_time": "2021-08-20T08:55:21.609Z"
   },
   {
    "duration": 13,
    "start_time": "2021-08-20T08:55:21.929Z"
   },
   {
    "duration": 18,
    "start_time": "2021-08-20T08:55:21.944Z"
   },
   {
    "duration": 382,
    "start_time": "2021-08-20T08:55:21.963Z"
   },
   {
    "duration": 5,
    "start_time": "2021-08-20T08:55:22.346Z"
   },
   {
    "duration": 11,
    "start_time": "2021-08-20T08:55:22.352Z"
   },
   {
    "duration": 5,
    "start_time": "2021-08-20T08:55:22.365Z"
   },
   {
    "duration": 299,
    "start_time": "2021-08-20T08:56:38.946Z"
   },
   {
    "duration": 194,
    "start_time": "2021-08-20T08:59:12.735Z"
   },
   {
    "duration": 90,
    "start_time": "2021-08-20T08:59:21.992Z"
   },
   {
    "duration": 80,
    "start_time": "2021-08-20T08:59:26.918Z"
   },
   {
    "duration": 746,
    "start_time": "2021-08-20T09:02:59.345Z"
   },
   {
    "duration": 1140,
    "start_time": "2021-08-20T09:03:13.353Z"
   },
   {
    "duration": 39,
    "start_time": "2021-08-20T09:03:14.495Z"
   },
   {
    "duration": 25,
    "start_time": "2021-08-20T09:03:14.536Z"
   },
   {
    "duration": 38,
    "start_time": "2021-08-20T09:03:14.563Z"
   },
   {
    "duration": 4,
    "start_time": "2021-08-20T09:03:14.603Z"
   },
   {
    "duration": 24,
    "start_time": "2021-08-20T09:03:14.609Z"
   },
   {
    "duration": 22,
    "start_time": "2021-08-20T09:03:14.635Z"
   },
   {
    "duration": 48,
    "start_time": "2021-08-20T09:03:14.660Z"
   },
   {
    "duration": 15,
    "start_time": "2021-08-20T09:03:14.711Z"
   },
   {
    "duration": 10,
    "start_time": "2021-08-20T09:03:14.728Z"
   },
   {
    "duration": 25,
    "start_time": "2021-08-20T09:03:14.740Z"
   },
   {
    "duration": 31,
    "start_time": "2021-08-20T09:03:14.767Z"
   },
   {
    "duration": 20,
    "start_time": "2021-08-20T09:03:14.800Z"
   },
   {
    "duration": 383,
    "start_time": "2021-08-20T09:03:14.822Z"
   },
   {
    "duration": 9,
    "start_time": "2021-08-20T09:03:15.207Z"
   },
   {
    "duration": 49,
    "start_time": "2021-08-20T09:03:15.217Z"
   },
   {
    "duration": 11,
    "start_time": "2021-08-20T09:03:15.267Z"
   },
   {
    "duration": 30,
    "start_time": "2021-08-20T09:03:15.280Z"
   },
   {
    "duration": 24,
    "start_time": "2021-08-20T09:03:15.312Z"
   },
   {
    "duration": 10,
    "start_time": "2021-08-20T09:03:15.338Z"
   },
   {
    "duration": 4,
    "start_time": "2021-08-20T09:03:15.350Z"
   },
   {
    "duration": 21,
    "start_time": "2021-08-20T09:03:15.356Z"
   },
   {
    "duration": 83,
    "start_time": "2021-08-20T09:03:15.382Z"
   },
   {
    "duration": 178,
    "start_time": "2021-08-20T09:03:15.467Z"
   },
   {
    "duration": 8,
    "start_time": "2021-08-20T09:03:15.647Z"
   },
   {
    "duration": 19,
    "start_time": "2021-08-20T09:03:15.656Z"
   },
   {
    "duration": 247,
    "start_time": "2021-08-20T09:03:15.677Z"
   },
   {
    "duration": 4,
    "start_time": "2021-08-20T09:03:15.926Z"
   },
   {
    "duration": 11,
    "start_time": "2021-08-20T09:03:15.941Z"
   },
   {
    "duration": 240,
    "start_time": "2021-08-20T09:03:15.954Z"
   },
   {
    "duration": 10,
    "start_time": "2021-08-20T09:03:16.195Z"
   },
   {
    "duration": 8,
    "start_time": "2021-08-20T09:03:16.207Z"
   },
   {
    "duration": 39,
    "start_time": "2021-08-20T09:03:16.217Z"
   },
   {
    "duration": 163,
    "start_time": "2021-08-20T09:03:16.257Z"
   },
   {
    "duration": 18,
    "start_time": "2021-08-20T09:03:16.422Z"
   },
   {
    "duration": 185,
    "start_time": "2021-08-20T09:03:16.442Z"
   },
   {
    "duration": 19,
    "start_time": "2021-08-20T09:03:16.628Z"
   },
   {
    "duration": 1679,
    "start_time": "2021-08-20T09:03:16.649Z"
   },
   {
    "duration": 3,
    "start_time": "2021-08-20T09:03:18.329Z"
   },
   {
    "duration": 8,
    "start_time": "2021-08-20T09:03:18.342Z"
   },
   {
    "duration": 6,
    "start_time": "2021-08-20T09:03:18.352Z"
   },
   {
    "duration": 19,
    "start_time": "2021-08-20T09:03:18.360Z"
   },
   {
    "duration": 421,
    "start_time": "2021-08-20T09:03:18.381Z"
   },
   {
    "duration": 16,
    "start_time": "2021-08-20T09:03:18.804Z"
   },
   {
    "duration": 351,
    "start_time": "2021-08-20T09:03:18.821Z"
   },
   {
    "duration": 558,
    "start_time": "2021-08-20T09:03:19.174Z"
   },
   {
    "duration": -378,
    "start_time": "2021-08-20T09:03:20.112Z"
   },
   {
    "duration": -388,
    "start_time": "2021-08-20T09:03:20.123Z"
   },
   {
    "duration": -397,
    "start_time": "2021-08-20T09:03:20.133Z"
   },
   {
    "duration": -413,
    "start_time": "2021-08-20T09:03:20.150Z"
   },
   {
    "duration": -416,
    "start_time": "2021-08-20T09:03:20.156Z"
   },
   {
    "duration": -425,
    "start_time": "2021-08-20T09:03:20.166Z"
   },
   {
    "duration": -430,
    "start_time": "2021-08-20T09:03:20.172Z"
   },
   {
    "duration": -440,
    "start_time": "2021-08-20T09:03:20.183Z"
   },
   {
    "duration": -446,
    "start_time": "2021-08-20T09:03:20.190Z"
   },
   {
    "duration": -453,
    "start_time": "2021-08-20T09:03:20.197Z"
   },
   {
    "duration": -458,
    "start_time": "2021-08-20T09:03:20.203Z"
   },
   {
    "duration": -465,
    "start_time": "2021-08-20T09:03:20.211Z"
   },
   {
    "duration": -470,
    "start_time": "2021-08-20T09:03:20.217Z"
   },
   {
    "duration": -475,
    "start_time": "2021-08-20T09:03:20.223Z"
   },
   {
    "duration": -481,
    "start_time": "2021-08-20T09:03:20.230Z"
   },
   {
    "duration": -486,
    "start_time": "2021-08-20T09:03:20.235Z"
   },
   {
    "duration": -493,
    "start_time": "2021-08-20T09:03:20.243Z"
   },
   {
    "duration": -505,
    "start_time": "2021-08-20T09:03:20.256Z"
   },
   {
    "duration": -515,
    "start_time": "2021-08-20T09:03:20.267Z"
   },
   {
    "duration": -520,
    "start_time": "2021-08-20T09:03:20.273Z"
   },
   {
    "duration": -531,
    "start_time": "2021-08-20T09:03:20.284Z"
   },
   {
    "duration": -542,
    "start_time": "2021-08-20T09:03:20.296Z"
   },
   {
    "duration": -548,
    "start_time": "2021-08-20T09:03:20.303Z"
   },
   {
    "duration": -555,
    "start_time": "2021-08-20T09:03:20.311Z"
   },
   {
    "duration": -560,
    "start_time": "2021-08-20T09:03:20.317Z"
   },
   {
    "duration": 288,
    "start_time": "2021-08-20T09:06:06.532Z"
   },
   {
    "duration": 2395,
    "start_time": "2021-08-20T09:06:19.412Z"
   },
   {
    "duration": 383,
    "start_time": "2021-08-20T09:07:02.339Z"
   },
   {
    "duration": 1187,
    "start_time": "2021-08-20T15:52:12.010Z"
   },
   {
    "duration": 42,
    "start_time": "2021-08-20T15:52:13.199Z"
   },
   {
    "duration": 24,
    "start_time": "2021-08-20T15:52:13.243Z"
   },
   {
    "duration": 29,
    "start_time": "2021-08-20T15:52:13.268Z"
   },
   {
    "duration": 4,
    "start_time": "2021-08-20T15:52:13.298Z"
   },
   {
    "duration": 7,
    "start_time": "2021-08-20T15:52:13.303Z"
   },
   {
    "duration": 30,
    "start_time": "2021-08-20T15:52:13.312Z"
   },
   {
    "duration": 31,
    "start_time": "2021-08-20T15:52:13.345Z"
   },
   {
    "duration": 14,
    "start_time": "2021-08-20T15:52:13.378Z"
   },
   {
    "duration": 3,
    "start_time": "2021-08-20T15:52:13.394Z"
   },
   {
    "duration": 14,
    "start_time": "2021-08-20T15:52:13.399Z"
   },
   {
    "duration": 39,
    "start_time": "2021-08-20T15:52:13.414Z"
   },
   {
    "duration": 19,
    "start_time": "2021-08-20T15:52:13.455Z"
   },
   {
    "duration": 403,
    "start_time": "2021-08-20T15:52:13.476Z"
   },
   {
    "duration": 11,
    "start_time": "2021-08-20T15:52:13.881Z"
   },
   {
    "duration": 52,
    "start_time": "2021-08-20T15:52:13.893Z"
   },
   {
    "duration": 12,
    "start_time": "2021-08-20T15:52:13.947Z"
   },
   {
    "duration": 7,
    "start_time": "2021-08-20T15:52:13.961Z"
   },
   {
    "duration": 17,
    "start_time": "2021-08-20T15:52:13.969Z"
   },
   {
    "duration": 10,
    "start_time": "2021-08-20T15:52:13.988Z"
   },
   {
    "duration": 7,
    "start_time": "2021-08-20T15:52:14.000Z"
   },
   {
    "duration": 47,
    "start_time": "2021-08-20T15:52:14.008Z"
   },
   {
    "duration": 51,
    "start_time": "2021-08-20T15:52:14.059Z"
   },
   {
    "duration": 204,
    "start_time": "2021-08-20T15:52:14.113Z"
   },
   {
    "duration": 9,
    "start_time": "2021-08-20T15:52:14.319Z"
   },
   {
    "duration": 25,
    "start_time": "2021-08-20T15:52:14.342Z"
   },
   {
    "duration": 265,
    "start_time": "2021-08-20T15:52:14.368Z"
   },
   {
    "duration": 8,
    "start_time": "2021-08-20T15:52:14.634Z"
   },
   {
    "duration": 12,
    "start_time": "2021-08-20T15:52:14.643Z"
   },
   {
    "duration": 360,
    "start_time": "2021-08-20T15:52:14.657Z"
   },
   {
    "duration": 10,
    "start_time": "2021-08-20T15:52:15.018Z"
   },
   {
    "duration": 9,
    "start_time": "2021-08-20T15:52:15.041Z"
   },
   {
    "duration": 26,
    "start_time": "2021-08-20T15:52:15.051Z"
   },
   {
    "duration": 184,
    "start_time": "2021-08-20T15:52:15.079Z"
   },
   {
    "duration": 8,
    "start_time": "2021-08-20T15:52:15.265Z"
   },
   {
    "duration": 233,
    "start_time": "2021-08-20T15:52:15.275Z"
   },
   {
    "duration": 16,
    "start_time": "2021-08-20T15:52:15.510Z"
   },
   {
    "duration": 1768,
    "start_time": "2021-08-20T15:52:15.528Z"
   },
   {
    "duration": 4,
    "start_time": "2021-08-20T15:52:17.298Z"
   },
   {
    "duration": 11,
    "start_time": "2021-08-20T15:52:17.304Z"
   },
   {
    "duration": 27,
    "start_time": "2021-08-20T15:52:17.316Z"
   },
   {
    "duration": 20,
    "start_time": "2021-08-20T15:52:17.345Z"
   },
   {
    "duration": 442,
    "start_time": "2021-08-20T15:52:17.366Z"
   },
   {
    "duration": 15,
    "start_time": "2021-08-20T15:52:17.810Z"
   },
   {
    "duration": 382,
    "start_time": "2021-08-20T15:52:17.827Z"
   },
   {
    "duration": 29,
    "start_time": "2021-08-20T15:52:18.212Z"
   },
   {
    "duration": 389,
    "start_time": "2021-08-20T15:52:18.243Z"
   },
   {
    "duration": 298,
    "start_time": "2021-08-20T15:52:18.634Z"
   },
   {
    "duration": 18,
    "start_time": "2021-08-20T15:52:18.940Z"
   },
   {
    "duration": 18,
    "start_time": "2021-08-20T15:52:18.960Z"
   },
   {
    "duration": 28,
    "start_time": "2021-08-20T15:52:18.980Z"
   },
   {
    "duration": 142,
    "start_time": "2021-08-20T15:52:19.010Z"
   },
   {
    "duration": 212,
    "start_time": "2021-08-20T15:52:19.154Z"
   },
   {
    "duration": 20,
    "start_time": "2021-08-20T15:52:19.368Z"
   },
   {
    "duration": 61,
    "start_time": "2021-08-20T15:52:19.390Z"
   },
   {
    "duration": 5,
    "start_time": "2021-08-20T15:52:19.452Z"
   },
   {
    "duration": 21,
    "start_time": "2021-08-20T15:52:19.459Z"
   },
   {
    "duration": 239,
    "start_time": "2021-08-20T15:52:19.482Z"
   },
   {
    "duration": 42,
    "start_time": "2021-08-20T15:52:19.724Z"
   },
   {
    "duration": 19,
    "start_time": "2021-08-20T15:52:19.768Z"
   },
   {
    "duration": 236,
    "start_time": "2021-08-20T15:52:19.790Z"
   },
   {
    "duration": 40,
    "start_time": "2021-08-20T15:52:20.028Z"
   },
   {
    "duration": 219,
    "start_time": "2021-08-20T15:52:20.070Z"
   },
   {
    "duration": 352,
    "start_time": "2021-08-20T15:52:20.291Z"
   },
   {
    "duration": 9,
    "start_time": "2021-08-20T15:52:20.645Z"
   },
   {
    "duration": 10,
    "start_time": "2021-08-20T15:52:20.656Z"
   },
   {
    "duration": 455,
    "start_time": "2021-08-20T15:52:20.668Z"
   },
   {
    "duration": 15,
    "start_time": "2021-08-20T15:52:21.129Z"
   },
   {
    "duration": 8,
    "start_time": "2021-08-20T15:52:21.146Z"
   },
   {
    "duration": 16,
    "start_time": "2021-08-20T15:52:21.156Z"
   },
   {
    "duration": 382,
    "start_time": "2021-08-20T15:55:00.356Z"
   },
   {
    "duration": 290,
    "start_time": "2021-08-20T15:55:12.093Z"
   },
   {
    "duration": 270,
    "start_time": "2021-08-20T17:47:01.615Z"
   },
   {
    "duration": 89,
    "start_time": "2021-08-20T17:47:39.073Z"
   },
   {
    "duration": 1149,
    "start_time": "2021-08-20T17:47:47.957Z"
   },
   {
    "duration": 37,
    "start_time": "2021-08-20T17:47:49.108Z"
   },
   {
    "duration": 24,
    "start_time": "2021-08-20T17:47:49.147Z"
   },
   {
    "duration": 29,
    "start_time": "2021-08-20T17:47:49.173Z"
   },
   {
    "duration": 3,
    "start_time": "2021-08-20T17:47:49.204Z"
   },
   {
    "duration": 8,
    "start_time": "2021-08-20T17:47:49.209Z"
   },
   {
    "duration": 24,
    "start_time": "2021-08-20T17:47:49.219Z"
   },
   {
    "duration": 31,
    "start_time": "2021-08-20T17:47:49.245Z"
   },
   {
    "duration": 14,
    "start_time": "2021-08-20T17:47:49.278Z"
   },
   {
    "duration": 9,
    "start_time": "2021-08-20T17:47:49.293Z"
   },
   {
    "duration": 13,
    "start_time": "2021-08-20T17:47:49.304Z"
   },
   {
    "duration": 29,
    "start_time": "2021-08-20T17:47:49.319Z"
   },
   {
    "duration": 18,
    "start_time": "2021-08-20T17:47:49.350Z"
   },
   {
    "duration": 397,
    "start_time": "2021-08-20T17:47:49.370Z"
   },
   {
    "duration": 11,
    "start_time": "2021-08-20T17:47:49.768Z"
   },
   {
    "duration": 34,
    "start_time": "2021-08-20T17:47:49.781Z"
   },
   {
    "duration": 33,
    "start_time": "2021-08-20T17:47:49.817Z"
   },
   {
    "duration": 7,
    "start_time": "2021-08-20T17:47:49.852Z"
   },
   {
    "duration": 14,
    "start_time": "2021-08-20T17:47:49.861Z"
   },
   {
    "duration": 10,
    "start_time": "2021-08-20T17:47:49.876Z"
   },
   {
    "duration": 4,
    "start_time": "2021-08-20T17:47:49.888Z"
   },
   {
    "duration": 49,
    "start_time": "2021-08-20T17:47:49.893Z"
   },
   {
    "duration": 54,
    "start_time": "2021-08-20T17:47:49.946Z"
   },
   {
    "duration": 208,
    "start_time": "2021-08-20T17:47:50.003Z"
   },
   {
    "duration": 8,
    "start_time": "2021-08-20T17:47:50.213Z"
   },
   {
    "duration": 34,
    "start_time": "2021-08-20T17:47:50.223Z"
   },
   {
    "duration": 249,
    "start_time": "2021-08-20T17:47:50.259Z"
   },
   {
    "duration": 4,
    "start_time": "2021-08-20T17:47:50.510Z"
   },
   {
    "duration": 24,
    "start_time": "2021-08-20T17:47:50.516Z"
   },
   {
    "duration": 245,
    "start_time": "2021-08-20T17:47:50.541Z"
   },
   {
    "duration": 10,
    "start_time": "2021-08-20T17:47:50.788Z"
   },
   {
    "duration": 10,
    "start_time": "2021-08-20T17:47:50.799Z"
   },
   {
    "duration": 45,
    "start_time": "2021-08-20T17:47:50.811Z"
   },
   {
    "duration": 179,
    "start_time": "2021-08-20T17:47:50.857Z"
   },
   {
    "duration": 11,
    "start_time": "2021-08-20T17:47:51.038Z"
   },
   {
    "duration": 206,
    "start_time": "2021-08-20T17:47:51.051Z"
   },
   {
    "duration": 17,
    "start_time": "2021-08-20T17:47:51.259Z"
   },
   {
    "duration": 1656,
    "start_time": "2021-08-20T17:47:51.278Z"
   },
   {
    "duration": 4,
    "start_time": "2021-08-20T17:47:52.940Z"
   },
   {
    "duration": 18,
    "start_time": "2021-08-20T17:47:52.946Z"
   },
   {
    "duration": 15,
    "start_time": "2021-08-20T17:47:52.966Z"
   },
   {
    "duration": 23,
    "start_time": "2021-08-20T17:47:52.982Z"
   },
   {
    "duration": 434,
    "start_time": "2021-08-20T17:47:53.007Z"
   },
   {
    "duration": 15,
    "start_time": "2021-08-20T17:47:53.443Z"
   },
   {
    "duration": 368,
    "start_time": "2021-08-20T17:47:53.460Z"
   },
   {
    "duration": 87,
    "start_time": "2021-08-20T17:47:53.830Z"
   },
   {
    "duration": 2171,
    "start_time": "2021-08-20T17:47:51.748Z"
   },
   {
    "duration": 2166,
    "start_time": "2021-08-20T17:47:51.754Z"
   },
   {
    "duration": 2160,
    "start_time": "2021-08-20T17:47:51.761Z"
   },
   {
    "duration": 2096,
    "start_time": "2021-08-20T17:47:51.825Z"
   },
   {
    "duration": 2091,
    "start_time": "2021-08-20T17:47:51.831Z"
   },
   {
    "duration": 2054,
    "start_time": "2021-08-20T17:47:51.869Z"
   },
   {
    "duration": 2050,
    "start_time": "2021-08-20T17:47:51.874Z"
   },
   {
    "duration": 2044,
    "start_time": "2021-08-20T17:47:51.880Z"
   },
   {
    "duration": 2009,
    "start_time": "2021-08-20T17:47:51.916Z"
   },
   {
    "duration": 2004,
    "start_time": "2021-08-20T17:47:51.922Z"
   },
   {
    "duration": 1979,
    "start_time": "2021-08-20T17:47:51.948Z"
   },
   {
    "duration": 1972,
    "start_time": "2021-08-20T17:47:51.955Z"
   },
   {
    "duration": 1968,
    "start_time": "2021-08-20T17:47:51.960Z"
   },
   {
    "duration": 1936,
    "start_time": "2021-08-20T17:47:51.993Z"
   },
   {
    "duration": 1929,
    "start_time": "2021-08-20T17:47:52.001Z"
   },
   {
    "duration": 1924,
    "start_time": "2021-08-20T17:47:52.007Z"
   },
   {
    "duration": 1917,
    "start_time": "2021-08-20T17:47:52.015Z"
   },
   {
    "duration": 1912,
    "start_time": "2021-08-20T17:47:52.021Z"
   },
   {
    "duration": 1907,
    "start_time": "2021-08-20T17:47:52.027Z"
   },
   {
    "duration": 1902,
    "start_time": "2021-08-20T17:47:52.033Z"
   },
   {
    "duration": 1899,
    "start_time": "2021-08-20T17:47:52.037Z"
   },
   {
    "duration": 1893,
    "start_time": "2021-08-20T17:47:52.044Z"
   },
   {
    "duration": 1887,
    "start_time": "2021-08-20T17:47:52.051Z"
   },
   {
    "duration": 1880,
    "start_time": "2021-08-20T17:47:52.059Z"
   },
   {
    "duration": 1875,
    "start_time": "2021-08-20T17:47:52.065Z"
   },
   {
    "duration": 84,
    "start_time": "2021-08-20T17:48:26.667Z"
   },
   {
    "duration": 356,
    "start_time": "2021-08-20T17:48:34.002Z"
   },
   {
    "duration": 6,
    "start_time": "2021-08-20T17:49:05.320Z"
   },
   {
    "duration": 6,
    "start_time": "2021-08-20T17:49:11.957Z"
   },
   {
    "duration": 6,
    "start_time": "2021-08-20T17:49:15.603Z"
   },
   {
    "duration": 5,
    "start_time": "2021-08-20T17:49:23.456Z"
   },
   {
    "duration": 250,
    "start_time": "2021-08-20T17:51:16.811Z"
   },
   {
    "duration": 269,
    "start_time": "2021-08-20T17:51:41.282Z"
   },
   {
    "duration": 6,
    "start_time": "2021-08-20T17:51:55.625Z"
   },
   {
    "duration": 230,
    "start_time": "2021-08-20T17:52:25.072Z"
   },
   {
    "duration": 142,
    "start_time": "2021-08-20T17:52:39.945Z"
   },
   {
    "duration": 129,
    "start_time": "2021-08-20T17:53:11.556Z"
   },
   {
    "duration": 6,
    "start_time": "2021-08-20T17:53:20.688Z"
   },
   {
    "duration": 254,
    "start_time": "2021-08-20T17:55:16.396Z"
   },
   {
    "duration": 13,
    "start_time": "2021-08-20T17:57:36.065Z"
   },
   {
    "duration": 1192,
    "start_time": "2021-08-20T18:17:02.418Z"
   },
   {
    "duration": 37,
    "start_time": "2021-08-20T18:17:03.612Z"
   },
   {
    "duration": 23,
    "start_time": "2021-08-20T18:17:03.652Z"
   },
   {
    "duration": 45,
    "start_time": "2021-08-20T18:17:03.677Z"
   },
   {
    "duration": 3,
    "start_time": "2021-08-20T18:17:03.724Z"
   },
   {
    "duration": 15,
    "start_time": "2021-08-20T18:17:03.729Z"
   },
   {
    "duration": 11,
    "start_time": "2021-08-20T18:17:03.746Z"
   },
   {
    "duration": 26,
    "start_time": "2021-08-20T18:17:03.760Z"
   },
   {
    "duration": 13,
    "start_time": "2021-08-20T18:17:03.788Z"
   },
   {
    "duration": 4,
    "start_time": "2021-08-20T18:17:03.803Z"
   },
   {
    "duration": 14,
    "start_time": "2021-08-20T18:17:03.808Z"
   },
   {
    "duration": 30,
    "start_time": "2021-08-20T18:17:03.824Z"
   },
   {
    "duration": 21,
    "start_time": "2021-08-20T18:17:03.856Z"
   },
   {
    "duration": 410,
    "start_time": "2021-08-20T18:17:03.879Z"
   },
   {
    "duration": 9,
    "start_time": "2021-08-20T18:17:04.291Z"
   },
   {
    "duration": 47,
    "start_time": "2021-08-20T18:17:04.302Z"
   },
   {
    "duration": 12,
    "start_time": "2021-08-20T18:17:04.351Z"
   },
   {
    "duration": 8,
    "start_time": "2021-08-20T18:17:04.365Z"
   },
   {
    "duration": 15,
    "start_time": "2021-08-20T18:17:04.374Z"
   },
   {
    "duration": 10,
    "start_time": "2021-08-20T18:17:04.391Z"
   },
   {
    "duration": 3,
    "start_time": "2021-08-20T18:17:04.403Z"
   },
   {
    "duration": 46,
    "start_time": "2021-08-20T18:17:04.408Z"
   },
   {
    "duration": 48,
    "start_time": "2021-08-20T18:17:04.459Z"
   },
   {
    "duration": 199,
    "start_time": "2021-08-20T18:17:04.510Z"
   },
   {
    "duration": 8,
    "start_time": "2021-08-20T18:17:04.711Z"
   },
   {
    "duration": 33,
    "start_time": "2021-08-20T18:17:04.720Z"
   },
   {
    "duration": 247,
    "start_time": "2021-08-20T18:17:04.755Z"
   },
   {
    "duration": 4,
    "start_time": "2021-08-20T18:17:05.004Z"
   },
   {
    "duration": 18,
    "start_time": "2021-08-20T18:17:05.009Z"
   },
   {
    "duration": 246,
    "start_time": "2021-08-20T18:17:05.029Z"
   },
   {
    "duration": 10,
    "start_time": "2021-08-20T18:17:05.276Z"
   },
   {
    "duration": 9,
    "start_time": "2021-08-20T18:17:05.288Z"
   },
   {
    "duration": 48,
    "start_time": "2021-08-20T18:17:05.299Z"
   },
   {
    "duration": 178,
    "start_time": "2021-08-20T18:17:05.348Z"
   },
   {
    "duration": 18,
    "start_time": "2021-08-20T18:17:05.527Z"
   },
   {
    "duration": 198,
    "start_time": "2021-08-20T18:17:05.546Z"
   },
   {
    "duration": 15,
    "start_time": "2021-08-20T18:17:05.745Z"
   },
   {
    "duration": 1672,
    "start_time": "2021-08-20T18:17:05.761Z"
   },
   {
    "duration": 8,
    "start_time": "2021-08-20T18:17:07.435Z"
   },
   {
    "duration": 13,
    "start_time": "2021-08-20T18:17:07.444Z"
   },
   {
    "duration": 43,
    "start_time": "2021-08-20T18:17:07.458Z"
   },
   {
    "duration": 41,
    "start_time": "2021-08-20T18:17:07.502Z"
   },
   {
    "duration": 443,
    "start_time": "2021-08-20T18:17:07.545Z"
   },
   {
    "duration": 18,
    "start_time": "2021-08-20T18:17:07.990Z"
   },
   {
    "duration": 395,
    "start_time": "2021-08-20T18:17:08.010Z"
   },
   {
    "duration": 15,
    "start_time": "2021-08-20T18:17:08.407Z"
   },
   {
    "duration": 33,
    "start_time": "2021-08-20T18:17:08.424Z"
   },
   {
    "duration": 405,
    "start_time": "2021-08-20T18:17:08.460Z"
   },
   {
    "duration": 297,
    "start_time": "2021-08-20T18:17:08.867Z"
   },
   {
    "duration": 17,
    "start_time": "2021-08-20T18:17:09.166Z"
   },
   {
    "duration": 39,
    "start_time": "2021-08-20T18:17:09.185Z"
   },
   {
    "duration": 40,
    "start_time": "2021-08-20T18:17:09.226Z"
   },
   {
    "duration": 126,
    "start_time": "2021-08-20T18:17:09.268Z"
   },
   {
    "duration": 219,
    "start_time": "2021-08-20T18:17:09.396Z"
   },
   {
    "duration": 29,
    "start_time": "2021-08-20T18:17:09.617Z"
   },
   {
    "duration": 46,
    "start_time": "2021-08-20T18:17:09.648Z"
   },
   {
    "duration": 5,
    "start_time": "2021-08-20T18:17:09.696Z"
   },
   {
    "duration": 45,
    "start_time": "2021-08-20T18:17:09.703Z"
   },
   {
    "duration": 242,
    "start_time": "2021-08-20T18:17:09.750Z"
   },
   {
    "duration": 47,
    "start_time": "2021-08-20T18:17:09.994Z"
   },
   {
    "duration": 16,
    "start_time": "2021-08-20T18:17:10.042Z"
   },
   {
    "duration": 232,
    "start_time": "2021-08-20T18:17:10.059Z"
   },
   {
    "duration": 28,
    "start_time": "2021-08-20T18:17:10.293Z"
   },
   {
    "duration": 212,
    "start_time": "2021-08-20T18:17:10.323Z"
   },
   {
    "duration": 336,
    "start_time": "2021-08-20T18:17:10.540Z"
   },
   {
    "duration": 9,
    "start_time": "2021-08-20T18:17:10.877Z"
   },
   {
    "duration": 12,
    "start_time": "2021-08-20T18:17:10.887Z"
   },
   {
    "duration": 418,
    "start_time": "2021-08-20T18:17:10.903Z"
   },
   {
    "duration": 4,
    "start_time": "2021-08-20T18:17:11.323Z"
   },
   {
    "duration": 15,
    "start_time": "2021-08-20T18:17:11.329Z"
   },
   {
    "duration": 13,
    "start_time": "2021-08-20T18:17:11.346Z"
   },
   {
    "duration": 164,
    "start_time": "2021-08-20T18:17:36.974Z"
   },
   {
    "duration": 489,
    "start_time": "2021-08-20T18:17:57.753Z"
   },
   {
    "duration": 156,
    "start_time": "2021-08-20T18:18:03.024Z"
   },
   {
    "duration": 174,
    "start_time": "2021-08-20T18:18:51.710Z"
   },
   {
    "duration": 438,
    "start_time": "2021-08-20T18:19:06.044Z"
   },
   {
    "duration": 178,
    "start_time": "2021-08-20T18:19:12.753Z"
   },
   {
    "duration": 175,
    "start_time": "2021-08-20T18:19:47.091Z"
   },
   {
    "duration": 178,
    "start_time": "2021-08-20T18:20:47.284Z"
   },
   {
    "duration": 315,
    "start_time": "2021-08-20T18:21:12.451Z"
   },
   {
    "duration": 265,
    "start_time": "2021-08-20T18:21:18.888Z"
   },
   {
    "duration": 793,
    "start_time": "2021-08-20T18:42:07.775Z"
   },
   {
    "duration": 279,
    "start_time": "2021-08-20T18:43:53.989Z"
   },
   {
    "duration": 1688,
    "start_time": "2021-08-20T18:44:06.168Z"
   },
   {
    "duration": 1783,
    "start_time": "2021-08-20T18:44:50.645Z"
   },
   {
    "duration": 1649,
    "start_time": "2021-08-20T18:45:04.516Z"
   },
   {
    "duration": 2587,
    "start_time": "2021-08-20T18:45:16.801Z"
   },
   {
    "duration": 419,
    "start_time": "2021-08-20T18:45:46.467Z"
   },
   {
    "duration": 463,
    "start_time": "2021-08-20T18:46:07.066Z"
   },
   {
    "duration": 2693,
    "start_time": "2021-08-20T18:46:11.710Z"
   },
   {
    "duration": 260,
    "start_time": "2021-08-20T18:47:07.086Z"
   },
   {
    "duration": 2352,
    "start_time": "2021-08-20T18:47:19.506Z"
   },
   {
    "duration": 2454,
    "start_time": "2021-08-20T18:47:29.636Z"
   },
   {
    "duration": 91,
    "start_time": "2021-08-20T18:47:51.740Z"
   },
   {
    "duration": 2719,
    "start_time": "2021-08-20T18:47:58.156Z"
   },
   {
    "duration": 3145,
    "start_time": "2021-08-20T18:48:32.699Z"
   },
   {
    "duration": 2186,
    "start_time": "2021-08-20T18:49:05.990Z"
   },
   {
    "duration": 1845,
    "start_time": "2021-08-20T18:50:44.834Z"
   },
   {
    "duration": 2488,
    "start_time": "2021-08-20T18:51:45.529Z"
   },
   {
    "duration": 2634,
    "start_time": "2021-08-20T18:52:12.899Z"
   },
   {
    "duration": 2584,
    "start_time": "2021-08-20T18:52:58.484Z"
   },
   {
    "duration": 1213,
    "start_time": "2021-08-20T18:53:09.501Z"
   },
   {
    "duration": 40,
    "start_time": "2021-08-20T18:53:10.715Z"
   },
   {
    "duration": 26,
    "start_time": "2021-08-20T18:53:10.757Z"
   },
   {
    "duration": 32,
    "start_time": "2021-08-20T18:53:10.785Z"
   },
   {
    "duration": 8,
    "start_time": "2021-08-20T18:53:10.818Z"
   },
   {
    "duration": 4,
    "start_time": "2021-08-20T18:53:10.841Z"
   },
   {
    "duration": 19,
    "start_time": "2021-08-20T18:53:10.847Z"
   },
   {
    "duration": 35,
    "start_time": "2021-08-20T18:53:10.869Z"
   },
   {
    "duration": 14,
    "start_time": "2021-08-20T18:53:10.906Z"
   },
   {
    "duration": 25,
    "start_time": "2021-08-20T18:53:10.922Z"
   },
   {
    "duration": 26,
    "start_time": "2021-08-20T18:53:10.949Z"
   },
   {
    "duration": 28,
    "start_time": "2021-08-20T18:53:10.977Z"
   },
   {
    "duration": 34,
    "start_time": "2021-08-20T18:53:11.007Z"
   },
   {
    "duration": 426,
    "start_time": "2021-08-20T18:53:11.043Z"
   },
   {
    "duration": 10,
    "start_time": "2021-08-20T18:53:11.471Z"
   },
   {
    "duration": 43,
    "start_time": "2021-08-20T18:53:11.483Z"
   },
   {
    "duration": 23,
    "start_time": "2021-08-20T18:53:11.528Z"
   },
   {
    "duration": 8,
    "start_time": "2021-08-20T18:53:11.553Z"
   },
   {
    "duration": 31,
    "start_time": "2021-08-20T18:53:11.563Z"
   },
   {
    "duration": 13,
    "start_time": "2021-08-20T18:53:11.596Z"
   },
   {
    "duration": 21,
    "start_time": "2021-08-20T18:53:11.610Z"
   },
   {
    "duration": 25,
    "start_time": "2021-08-20T18:53:11.633Z"
   },
   {
    "duration": 61,
    "start_time": "2021-08-20T18:53:11.663Z"
   },
   {
    "duration": 176,
    "start_time": "2021-08-20T18:53:11.726Z"
   },
   {
    "duration": 8,
    "start_time": "2021-08-20T18:53:11.903Z"
   },
   {
    "duration": 34,
    "start_time": "2021-08-20T18:53:11.913Z"
   },
   {
    "duration": 241,
    "start_time": "2021-08-20T18:53:11.949Z"
   },
   {
    "duration": 4,
    "start_time": "2021-08-20T18:53:12.192Z"
   },
   {
    "duration": 22,
    "start_time": "2021-08-20T18:53:12.198Z"
   },
   {
    "duration": 253,
    "start_time": "2021-08-20T18:53:12.222Z"
   },
   {
    "duration": 10,
    "start_time": "2021-08-20T18:53:12.477Z"
   },
   {
    "duration": 13,
    "start_time": "2021-08-20T18:53:12.489Z"
   },
   {
    "duration": 39,
    "start_time": "2021-08-20T18:53:12.504Z"
   },
   {
    "duration": 178,
    "start_time": "2021-08-20T18:53:12.545Z"
   },
   {
    "duration": 19,
    "start_time": "2021-08-20T18:53:12.726Z"
   },
   {
    "duration": 208,
    "start_time": "2021-08-20T18:53:12.747Z"
   },
   {
    "duration": 17,
    "start_time": "2021-08-20T18:53:12.957Z"
   },
   {
    "duration": 1685,
    "start_time": "2021-08-20T18:53:12.976Z"
   },
   {
    "duration": 577,
    "start_time": "2021-08-20T18:53:14.664Z"
   },
   {
    "duration": -110,
    "start_time": "2021-08-20T18:53:15.354Z"
   },
   {
    "duration": -122,
    "start_time": "2021-08-20T18:53:15.367Z"
   },
   {
    "duration": -127,
    "start_time": "2021-08-20T18:53:15.374Z"
   },
   {
    "duration": -133,
    "start_time": "2021-08-20T18:53:15.381Z"
   },
   {
    "duration": -139,
    "start_time": "2021-08-20T18:53:15.389Z"
   },
   {
    "duration": -146,
    "start_time": "2021-08-20T18:53:15.397Z"
   },
   {
    "duration": -150,
    "start_time": "2021-08-20T18:53:15.403Z"
   },
   {
    "duration": -154,
    "start_time": "2021-08-20T18:53:15.408Z"
   },
   {
    "duration": -159,
    "start_time": "2021-08-20T18:53:15.415Z"
   },
   {
    "duration": -163,
    "start_time": "2021-08-20T18:53:15.420Z"
   },
   {
    "duration": -169,
    "start_time": "2021-08-20T18:53:15.428Z"
   },
   {
    "duration": -175,
    "start_time": "2021-08-20T18:53:15.435Z"
   },
   {
    "duration": -181,
    "start_time": "2021-08-20T18:53:15.442Z"
   },
   {
    "duration": -186,
    "start_time": "2021-08-20T18:53:15.449Z"
   },
   {
    "duration": -207,
    "start_time": "2021-08-20T18:53:15.471Z"
   },
   {
    "duration": -212,
    "start_time": "2021-08-20T18:53:15.478Z"
   },
   {
    "duration": -220,
    "start_time": "2021-08-20T18:53:15.487Z"
   },
   {
    "duration": -230,
    "start_time": "2021-08-20T18:53:15.499Z"
   },
   {
    "duration": -237,
    "start_time": "2021-08-20T18:53:15.507Z"
   },
   {
    "duration": -244,
    "start_time": "2021-08-20T18:53:15.516Z"
   },
   {
    "duration": -255,
    "start_time": "2021-08-20T18:53:15.528Z"
   },
   {
    "duration": -262,
    "start_time": "2021-08-20T18:53:15.536Z"
   },
   {
    "duration": -267,
    "start_time": "2021-08-20T18:53:15.543Z"
   },
   {
    "duration": -272,
    "start_time": "2021-08-20T18:53:15.549Z"
   },
   {
    "duration": -278,
    "start_time": "2021-08-20T18:53:15.557Z"
   },
   {
    "duration": -285,
    "start_time": "2021-08-20T18:53:15.565Z"
   },
   {
    "duration": -315,
    "start_time": "2021-08-20T18:53:15.597Z"
   },
   {
    "duration": -319,
    "start_time": "2021-08-20T18:53:15.602Z"
   },
   {
    "duration": -327,
    "start_time": "2021-08-20T18:53:15.611Z"
   },
   {
    "duration": -277,
    "start_time": "2021-08-20T18:53:15.618Z"
   },
   {
    "duration": -282,
    "start_time": "2021-08-20T18:53:15.624Z"
   },
   {
    "duration": -287,
    "start_time": "2021-08-20T18:53:15.630Z"
   },
   {
    "duration": -293,
    "start_time": "2021-08-20T18:53:15.638Z"
   },
   {
    "duration": 2454,
    "start_time": "2021-08-20T18:53:25.971Z"
   },
   {
    "duration": 2417,
    "start_time": "2021-08-20T18:53:46.491Z"
   },
   {
    "duration": 3264,
    "start_time": "2021-08-20T18:53:57.261Z"
   },
   {
    "duration": 269,
    "start_time": "2021-08-20T18:54:22.704Z"
   },
   {
    "duration": 296,
    "start_time": "2021-08-20T18:54:27.755Z"
   },
   {
    "duration": 2721,
    "start_time": "2021-08-20T18:54:31.864Z"
   },
   {
    "duration": 278,
    "start_time": "2021-08-20T18:55:10.172Z"
   },
   {
    "duration": 2387,
    "start_time": "2021-08-20T18:55:33.097Z"
   },
   {
    "duration": 2367,
    "start_time": "2021-08-20T18:55:53.530Z"
   },
   {
    "duration": 2066,
    "start_time": "2021-08-20T18:56:15.670Z"
   },
   {
    "duration": 1933,
    "start_time": "2021-08-20T18:56:24.420Z"
   },
   {
    "duration": 2431,
    "start_time": "2021-08-20T18:57:16.713Z"
   },
   {
    "duration": 2702,
    "start_time": "2021-08-20T18:57:31.981Z"
   },
   {
    "duration": 275,
    "start_time": "2021-08-20T19:00:00.527Z"
   },
   {
    "duration": 1927,
    "start_time": "2021-08-20T19:00:27.040Z"
   },
   {
    "duration": 2489,
    "start_time": "2021-08-20T19:00:35.860Z"
   },
   {
    "duration": 2839,
    "start_time": "2021-08-20T19:00:42.456Z"
   },
   {
    "duration": 2820,
    "start_time": "2021-08-20T19:00:49.608Z"
   },
   {
    "duration": 2484,
    "start_time": "2021-08-20T19:01:00.068Z"
   },
   {
    "duration": 2187,
    "start_time": "2021-08-20T19:01:05.187Z"
   },
   {
    "duration": 2331,
    "start_time": "2021-08-20T19:01:13.523Z"
   },
   {
    "duration": 2187,
    "start_time": "2021-08-20T19:02:23.926Z"
   },
   {
    "duration": 2178,
    "start_time": "2021-08-20T19:02:44.087Z"
   },
   {
    "duration": 1118,
    "start_time": "2021-08-20T19:03:47.698Z"
   },
   {
    "duration": 39,
    "start_time": "2021-08-20T19:03:48.818Z"
   },
   {
    "duration": 25,
    "start_time": "2021-08-20T19:03:48.859Z"
   },
   {
    "duration": 29,
    "start_time": "2021-08-20T19:03:48.886Z"
   },
   {
    "duration": 3,
    "start_time": "2021-08-20T19:03:48.917Z"
   },
   {
    "duration": 4,
    "start_time": "2021-08-20T19:03:48.941Z"
   },
   {
    "duration": 6,
    "start_time": "2021-08-20T19:03:48.947Z"
   },
   {
    "duration": 34,
    "start_time": "2021-08-20T19:03:48.955Z"
   },
   {
    "duration": 14,
    "start_time": "2021-08-20T19:03:48.991Z"
   },
   {
    "duration": 4,
    "start_time": "2021-08-20T19:03:49.007Z"
   },
   {
    "duration": 34,
    "start_time": "2021-08-20T19:03:49.013Z"
   },
   {
    "duration": 16,
    "start_time": "2021-08-20T19:03:49.049Z"
   },
   {
    "duration": 22,
    "start_time": "2021-08-20T19:03:49.067Z"
   },
   {
    "duration": 421,
    "start_time": "2021-08-20T19:03:49.091Z"
   },
   {
    "duration": 12,
    "start_time": "2021-08-20T19:03:49.514Z"
   },
   {
    "duration": 36,
    "start_time": "2021-08-20T19:03:49.541Z"
   },
   {
    "duration": 15,
    "start_time": "2021-08-20T19:03:49.579Z"
   },
   {
    "duration": 8,
    "start_time": "2021-08-20T19:03:49.596Z"
   },
   {
    "duration": 48,
    "start_time": "2021-08-20T19:03:49.606Z"
   },
   {
    "duration": 10,
    "start_time": "2021-08-20T19:03:49.655Z"
   },
   {
    "duration": 5,
    "start_time": "2021-08-20T19:03:49.667Z"
   },
   {
    "duration": 16,
    "start_time": "2021-08-20T19:03:49.673Z"
   },
   {
    "duration": 81,
    "start_time": "2021-08-20T19:03:49.693Z"
   },
   {
    "duration": 188,
    "start_time": "2021-08-20T19:03:49.777Z"
   },
   {
    "duration": 8,
    "start_time": "2021-08-20T19:03:49.967Z"
   },
   {
    "duration": 21,
    "start_time": "2021-08-20T19:03:49.977Z"
   },
   {
    "duration": 268,
    "start_time": "2021-08-20T19:03:50.000Z"
   },
   {
    "duration": 5,
    "start_time": "2021-08-20T19:03:50.270Z"
   },
   {
    "duration": 14,
    "start_time": "2021-08-20T19:03:50.276Z"
   },
   {
    "duration": 259,
    "start_time": "2021-08-20T19:03:50.291Z"
   },
   {
    "duration": 11,
    "start_time": "2021-08-20T19:03:50.551Z"
   },
   {
    "duration": 8,
    "start_time": "2021-08-20T19:03:50.564Z"
   },
   {
    "duration": 26,
    "start_time": "2021-08-20T19:03:50.574Z"
   },
   {
    "duration": 205,
    "start_time": "2021-08-20T19:03:50.602Z"
   },
   {
    "duration": 9,
    "start_time": "2021-08-20T19:03:50.809Z"
   },
   {
    "duration": 223,
    "start_time": "2021-08-20T19:03:50.820Z"
   },
   {
    "duration": 18,
    "start_time": "2021-08-20T19:03:51.045Z"
   },
   {
    "duration": 1879,
    "start_time": "2021-08-20T19:03:51.065Z"
   },
   {
    "duration": 2218,
    "start_time": "2021-08-20T19:03:52.946Z"
   },
   {
    "duration": 3,
    "start_time": "2021-08-20T19:03:55.166Z"
   },
   {
    "duration": 18,
    "start_time": "2021-08-20T19:03:55.170Z"
   },
   {
    "duration": 6,
    "start_time": "2021-08-20T19:03:55.190Z"
   },
   {
    "duration": 20,
    "start_time": "2021-08-20T19:03:55.198Z"
   },
   {
    "duration": 443,
    "start_time": "2021-08-20T19:03:55.219Z"
   },
   {
    "duration": 16,
    "start_time": "2021-08-20T19:03:55.664Z"
   },
   {
    "duration": 379,
    "start_time": "2021-08-20T19:03:55.682Z"
   },
   {
    "duration": 194,
    "start_time": "2021-08-20T19:03:56.063Z"
   },
   {
    "duration": 16,
    "start_time": "2021-08-20T19:03:56.259Z"
   },
   {
    "duration": 299,
    "start_time": "2021-08-20T19:03:56.277Z"
   },
   {
    "duration": 284,
    "start_time": "2021-08-20T19:03:56.578Z"
   },
   {
    "duration": 16,
    "start_time": "2021-08-20T19:03:56.864Z"
   },
   {
    "duration": 16,
    "start_time": "2021-08-20T19:03:56.882Z"
   },
   {
    "duration": 50,
    "start_time": "2021-08-20T19:03:56.900Z"
   },
   {
    "duration": 115,
    "start_time": "2021-08-20T19:03:56.952Z"
   },
   {
    "duration": 322,
    "start_time": "2021-08-20T19:03:57.069Z"
   },
   {
    "duration": 20,
    "start_time": "2021-08-20T19:03:57.393Z"
   },
   {
    "duration": 57,
    "start_time": "2021-08-20T19:03:57.414Z"
   },
   {
    "duration": 5,
    "start_time": "2021-08-20T19:03:57.473Z"
   },
   {
    "duration": 22,
    "start_time": "2021-08-20T19:03:57.480Z"
   },
   {
    "duration": 233,
    "start_time": "2021-08-20T19:03:57.504Z"
   },
   {
    "duration": 33,
    "start_time": "2021-08-20T19:03:57.739Z"
   },
   {
    "duration": 17,
    "start_time": "2021-08-20T19:03:57.773Z"
   },
   {
    "duration": 239,
    "start_time": "2021-08-20T19:03:57.792Z"
   },
   {
    "duration": 36,
    "start_time": "2021-08-20T19:03:58.033Z"
   },
   {
    "duration": 208,
    "start_time": "2021-08-20T19:03:58.071Z"
   },
   {
    "duration": 338,
    "start_time": "2021-08-20T19:03:58.281Z"
   },
   {
    "duration": 8,
    "start_time": "2021-08-20T19:03:58.621Z"
   },
   {
    "duration": 7,
    "start_time": "2021-08-20T19:03:58.645Z"
   },
   {
    "duration": 337,
    "start_time": "2021-08-20T19:03:58.654Z"
   },
   {
    "duration": 5,
    "start_time": "2021-08-20T19:03:58.993Z"
   },
   {
    "duration": 8,
    "start_time": "2021-08-20T19:03:59.000Z"
   },
   {
    "duration": 14,
    "start_time": "2021-08-20T19:03:59.010Z"
   },
   {
    "duration": 2359,
    "start_time": "2021-08-20T19:12:13.943Z"
   },
   {
    "duration": 3065,
    "start_time": "2021-08-20T19:12:25.898Z"
   },
   {
    "duration": 2141,
    "start_time": "2021-08-20T19:12:48.782Z"
   },
   {
    "duration": 223,
    "start_time": "2021-08-20T19:13:54.660Z"
   },
   {
    "duration": 173,
    "start_time": "2021-08-20T19:14:01.591Z"
   },
   {
    "duration": 284,
    "start_time": "2021-08-20T19:14:07.901Z"
   },
   {
    "duration": 600,
    "start_time": "2021-08-20T19:16:56.511Z"
   },
   {
    "duration": 1427,
    "start_time": "2021-08-21T10:16:51.297Z"
   },
   {
    "duration": 51,
    "start_time": "2021-08-21T10:16:52.726Z"
   },
   {
    "duration": 39,
    "start_time": "2021-08-21T10:16:52.781Z"
   },
   {
    "duration": 71,
    "start_time": "2021-08-21T10:16:52.824Z"
   },
   {
    "duration": 5,
    "start_time": "2021-08-21T10:16:52.898Z"
   },
   {
    "duration": 4,
    "start_time": "2021-08-21T10:16:52.905Z"
   },
   {
    "duration": 7,
    "start_time": "2021-08-21T10:16:52.912Z"
   },
   {
    "duration": 34,
    "start_time": "2021-08-21T10:16:52.955Z"
   },
   {
    "duration": 19,
    "start_time": "2021-08-21T10:16:52.993Z"
   },
   {
    "duration": 5,
    "start_time": "2021-08-21T10:16:53.014Z"
   },
   {
    "duration": 42,
    "start_time": "2021-08-21T10:16:53.021Z"
   },
   {
    "duration": 27,
    "start_time": "2021-08-21T10:16:53.065Z"
   },
   {
    "duration": 59,
    "start_time": "2021-08-21T10:16:53.095Z"
   },
   {
    "duration": 787,
    "start_time": "2021-08-21T10:16:53.157Z"
   },
   {
    "duration": 14,
    "start_time": "2021-08-21T10:16:53.946Z"
   },
   {
    "duration": 49,
    "start_time": "2021-08-21T10:16:53.963Z"
   },
   {
    "duration": 45,
    "start_time": "2021-08-21T10:16:54.015Z"
   },
   {
    "duration": 9,
    "start_time": "2021-08-21T10:16:54.062Z"
   },
   {
    "duration": 22,
    "start_time": "2021-08-21T10:16:54.074Z"
   },
   {
    "duration": 16,
    "start_time": "2021-08-21T10:16:54.099Z"
   },
   {
    "duration": 40,
    "start_time": "2021-08-21T10:16:54.117Z"
   },
   {
    "duration": 29,
    "start_time": "2021-08-21T10:16:54.159Z"
   },
   {
    "duration": 102,
    "start_time": "2021-08-21T10:16:54.197Z"
   },
   {
    "duration": 327,
    "start_time": "2021-08-21T10:16:54.303Z"
   },
   {
    "duration": 23,
    "start_time": "2021-08-21T10:16:54.633Z"
   },
   {
    "duration": 36,
    "start_time": "2021-08-21T10:16:54.658Z"
   },
   {
    "duration": 446,
    "start_time": "2021-08-21T10:16:54.697Z"
   },
   {
    "duration": 9,
    "start_time": "2021-08-21T10:16:55.146Z"
   },
   {
    "duration": 15,
    "start_time": "2021-08-21T10:16:55.158Z"
   },
   {
    "duration": 416,
    "start_time": "2021-08-21T10:16:55.176Z"
   },
   {
    "duration": 14,
    "start_time": "2021-08-21T10:16:55.594Z"
   },
   {
    "duration": 22,
    "start_time": "2021-08-21T10:16:55.611Z"
   },
   {
    "duration": 52,
    "start_time": "2021-08-21T10:16:55.635Z"
   },
   {
    "duration": 303,
    "start_time": "2021-08-21T10:16:55.689Z"
   },
   {
    "duration": 15,
    "start_time": "2021-08-21T10:16:55.994Z"
   },
   {
    "duration": 346,
    "start_time": "2021-08-21T10:16:56.012Z"
   },
   {
    "duration": 23,
    "start_time": "2021-08-21T10:16:56.360Z"
   },
   {
    "duration": 2742,
    "start_time": "2021-08-21T10:16:56.385Z"
   },
   {
    "duration": 3852,
    "start_time": "2021-08-21T10:16:59.129Z"
   },
   {
    "duration": 3,
    "start_time": "2021-08-21T10:17:02.984Z"
   },
   {
    "duration": 17,
    "start_time": "2021-08-21T10:17:02.990Z"
   },
   {
    "duration": 10,
    "start_time": "2021-08-21T10:17:03.010Z"
   },
   {
    "duration": 30,
    "start_time": "2021-08-21T10:17:03.053Z"
   },
   {
    "duration": 710,
    "start_time": "2021-08-21T10:17:03.085Z"
   },
   {
    "duration": 27,
    "start_time": "2021-08-21T10:17:03.797Z"
   },
   {
    "duration": 606,
    "start_time": "2021-08-21T10:17:03.826Z"
   },
   {
    "duration": 523,
    "start_time": "2021-08-21T10:17:04.435Z"
   },
   {
    "duration": 26,
    "start_time": "2021-08-21T10:17:04.960Z"
   },
   {
    "duration": 381,
    "start_time": "2021-08-21T10:17:04.989Z"
   },
   {
    "duration": 373,
    "start_time": "2021-08-21T10:17:05.372Z"
   },
   {
    "duration": 28,
    "start_time": "2021-08-21T10:17:05.747Z"
   },
   {
    "duration": 26,
    "start_time": "2021-08-21T10:17:05.777Z"
   },
   {
    "duration": 67,
    "start_time": "2021-08-21T10:17:05.806Z"
   },
   {
    "duration": 180,
    "start_time": "2021-08-21T10:17:05.875Z"
   },
   {
    "duration": 466,
    "start_time": "2021-08-21T10:17:06.057Z"
   },
   {
    "duration": 34,
    "start_time": "2021-08-21T10:17:06.525Z"
   },
   {
    "duration": 61,
    "start_time": "2021-08-21T10:17:06.562Z"
   },
   {
    "duration": 32,
    "start_time": "2021-08-21T10:17:06.625Z"
   },
   {
    "duration": 37,
    "start_time": "2021-08-21T10:17:06.659Z"
   },
   {
    "duration": 368,
    "start_time": "2021-08-21T10:17:06.699Z"
   },
   {
    "duration": 47,
    "start_time": "2021-08-21T10:17:07.069Z"
   },
   {
    "duration": 43,
    "start_time": "2021-08-21T10:17:07.119Z"
   },
   {
    "duration": 367,
    "start_time": "2021-08-21T10:17:07.165Z"
   },
   {
    "duration": 55,
    "start_time": "2021-08-21T10:17:07.534Z"
   },
   {
    "duration": 339,
    "start_time": "2021-08-21T10:17:07.591Z"
   },
   {
    "duration": 574,
    "start_time": "2021-08-21T10:17:07.932Z"
   },
   {
    "duration": 12,
    "start_time": "2021-08-21T10:17:08.508Z"
   },
   {
    "duration": 32,
    "start_time": "2021-08-21T10:17:08.528Z"
   },
   {
    "duration": 540,
    "start_time": "2021-08-21T10:17:08.563Z"
   },
   {
    "duration": 7,
    "start_time": "2021-08-21T10:17:09.105Z"
   },
   {
    "duration": 8,
    "start_time": "2021-08-21T10:17:09.114Z"
   },
   {
    "duration": 33,
    "start_time": "2021-08-21T10:17:09.125Z"
   },
   {
    "duration": 100,
    "start_time": "2021-08-21T10:32:39.121Z"
   },
   {
    "duration": 102,
    "start_time": "2021-08-21T10:34:32.854Z"
   },
   {
    "duration": 1460,
    "start_time": "2021-08-21T10:47:47.280Z"
   },
   {
    "duration": 48,
    "start_time": "2021-08-21T10:47:48.742Z"
   },
   {
    "duration": 35,
    "start_time": "2021-08-21T10:47:48.793Z"
   },
   {
    "duration": 58,
    "start_time": "2021-08-21T10:47:48.831Z"
   },
   {
    "duration": 6,
    "start_time": "2021-08-21T10:47:48.892Z"
   },
   {
    "duration": 24,
    "start_time": "2021-08-21T10:47:48.901Z"
   },
   {
    "duration": 20,
    "start_time": "2021-08-21T10:47:48.928Z"
   },
   {
    "duration": 41,
    "start_time": "2021-08-21T10:47:48.951Z"
   },
   {
    "duration": 21,
    "start_time": "2021-08-21T10:47:48.995Z"
   },
   {
    "duration": 6,
    "start_time": "2021-08-21T10:47:49.018Z"
   },
   {
    "duration": 40,
    "start_time": "2021-08-21T10:47:49.027Z"
   },
   {
    "duration": 33,
    "start_time": "2021-08-21T10:47:49.070Z"
   },
   {
    "duration": 56,
    "start_time": "2021-08-21T10:47:49.106Z"
   },
   {
    "duration": 1123,
    "start_time": "2021-08-21T10:47:49.166Z"
   },
   {
    "duration": 21,
    "start_time": "2021-08-21T10:47:50.292Z"
   },
   {
    "duration": 96,
    "start_time": "2021-08-21T10:47:50.317Z"
   },
   {
    "duration": 38,
    "start_time": "2021-08-21T10:47:50.416Z"
   },
   {
    "duration": 14,
    "start_time": "2021-08-21T10:47:50.457Z"
   },
   {
    "duration": 30,
    "start_time": "2021-08-21T10:47:50.474Z"
   },
   {
    "duration": 52,
    "start_time": "2021-08-21T10:47:50.507Z"
   },
   {
    "duration": 5,
    "start_time": "2021-08-21T10:47:50.563Z"
   },
   {
    "duration": 48,
    "start_time": "2021-08-21T10:47:50.571Z"
   },
   {
    "duration": 91,
    "start_time": "2021-08-21T10:47:50.630Z"
   },
   {
    "duration": 329,
    "start_time": "2021-08-21T10:47:50.725Z"
   },
   {
    "duration": 16,
    "start_time": "2021-08-21T10:47:51.057Z"
   },
   {
    "duration": 58,
    "start_time": "2021-08-21T10:47:51.076Z"
   },
   {
    "duration": 402,
    "start_time": "2021-08-21T10:47:51.155Z"
   },
   {
    "duration": 6,
    "start_time": "2021-08-21T10:47:51.559Z"
   },
   {
    "duration": 18,
    "start_time": "2021-08-21T10:47:51.567Z"
   },
   {
    "duration": 438,
    "start_time": "2021-08-21T10:47:51.587Z"
   },
   {
    "duration": 28,
    "start_time": "2021-08-21T10:47:52.028Z"
   },
   {
    "duration": 12,
    "start_time": "2021-08-21T10:47:52.058Z"
   },
   {
    "duration": 36,
    "start_time": "2021-08-21T10:47:52.073Z"
   },
   {
    "duration": 303,
    "start_time": "2021-08-21T10:47:52.112Z"
   },
   {
    "duration": 12,
    "start_time": "2021-08-21T10:47:52.417Z"
   },
   {
    "duration": 492,
    "start_time": "2021-08-21T10:47:52.432Z"
   },
   {
    "duration": 44,
    "start_time": "2021-08-21T10:47:52.927Z"
   },
   {
    "duration": 2906,
    "start_time": "2021-08-21T10:47:52.973Z"
   },
   {
    "duration": 3812,
    "start_time": "2021-08-21T10:47:55.882Z"
   },
   {
    "duration": 4,
    "start_time": "2021-08-21T10:47:59.697Z"
   },
   {
    "duration": 29,
    "start_time": "2021-08-21T10:47:59.704Z"
   },
   {
    "duration": 21,
    "start_time": "2021-08-21T10:47:59.736Z"
   },
   {
    "duration": 29,
    "start_time": "2021-08-21T10:47:59.760Z"
   },
   {
    "duration": 723,
    "start_time": "2021-08-21T10:47:59.792Z"
   },
   {
    "duration": 39,
    "start_time": "2021-08-21T10:48:00.517Z"
   },
   {
    "duration": 613,
    "start_time": "2021-08-21T10:48:00.559Z"
   },
   {
    "duration": 470,
    "start_time": "2021-08-21T10:48:01.175Z"
   },
   {
    "duration": 25,
    "start_time": "2021-08-21T10:48:01.654Z"
   },
   {
    "duration": 387,
    "start_time": "2021-08-21T10:48:01.681Z"
   },
   {
    "duration": 374,
    "start_time": "2021-08-21T10:48:02.071Z"
   },
   {
    "duration": 27,
    "start_time": "2021-08-21T10:48:02.447Z"
   },
   {
    "duration": 26,
    "start_time": "2021-08-21T10:48:02.477Z"
   },
   {
    "duration": 71,
    "start_time": "2021-08-21T10:48:02.506Z"
   },
   {
    "duration": 175,
    "start_time": "2021-08-21T10:48:02.579Z"
   },
   {
    "duration": 467,
    "start_time": "2021-08-21T10:48:02.756Z"
   },
   {
    "duration": 40,
    "start_time": "2021-08-21T10:48:03.226Z"
   },
   {
    "duration": 59,
    "start_time": "2021-08-21T10:48:03.269Z"
   },
   {
    "duration": 24,
    "start_time": "2021-08-21T10:48:03.331Z"
   },
   {
    "duration": 33,
    "start_time": "2021-08-21T10:48:03.358Z"
   },
   {
    "duration": 112,
    "start_time": "2021-08-21T10:48:03.394Z"
   },
   {
    "duration": 372,
    "start_time": "2021-08-21T10:48:03.509Z"
   },
   {
    "duration": 49,
    "start_time": "2021-08-21T10:48:03.883Z"
   },
   {
    "duration": 41,
    "start_time": "2021-08-21T10:48:03.935Z"
   },
   {
    "duration": 362,
    "start_time": "2021-08-21T10:48:03.979Z"
   },
   {
    "duration": 53,
    "start_time": "2021-08-21T10:48:04.344Z"
   },
   {
    "duration": 346,
    "start_time": "2021-08-21T10:48:04.400Z"
   },
   {
    "duration": 590,
    "start_time": "2021-08-21T10:48:04.748Z"
   },
   {
    "duration": 19,
    "start_time": "2021-08-21T10:48:05.345Z"
   },
   {
    "duration": 12,
    "start_time": "2021-08-21T10:48:05.367Z"
   },
   {
    "duration": 576,
    "start_time": "2021-08-21T10:48:05.381Z"
   },
   {
    "duration": 7,
    "start_time": "2021-08-21T10:48:05.959Z"
   },
   {
    "duration": 9,
    "start_time": "2021-08-21T10:48:05.968Z"
   },
   {
    "duration": 9,
    "start_time": "2021-08-21T10:48:05.979Z"
   },
   {
    "duration": 589,
    "start_time": "2021-08-21T10:50:48.859Z"
   },
   {
    "duration": 235,
    "start_time": "2021-08-21T10:51:21.019Z"
   },
   {
    "duration": 483,
    "start_time": "2021-08-21T10:51:44.602Z"
   },
   {
    "duration": 486,
    "start_time": "2021-08-21T10:52:47.070Z"
   },
   {
    "duration": 1005,
    "start_time": "2021-08-21T10:53:01.623Z"
   },
   {
    "duration": 1116,
    "start_time": "2021-08-21T10:54:46.352Z"
   },
   {
    "duration": 1446,
    "start_time": "2021-08-22T03:35:56.102Z"
   },
   {
    "duration": 515,
    "start_time": "2021-08-22T03:35:57.550Z"
   },
   {
    "duration": 34,
    "start_time": "2021-08-22T03:35:58.068Z"
   },
   {
    "duration": 41,
    "start_time": "2021-08-22T03:35:58.104Z"
   },
   {
    "duration": 5,
    "start_time": "2021-08-22T03:35:58.160Z"
   },
   {
    "duration": 4,
    "start_time": "2021-08-22T03:35:58.455Z"
   },
   {
    "duration": 5,
    "start_time": "2021-08-22T03:35:58.617Z"
   },
   {
    "duration": 36,
    "start_time": "2021-08-22T03:35:59.088Z"
   },
   {
    "duration": 21,
    "start_time": "2021-08-22T03:35:59.600Z"
   },
   {
    "duration": 6,
    "start_time": "2021-08-22T03:35:59.919Z"
   },
   {
    "duration": 17,
    "start_time": "2021-08-22T03:36:00.080Z"
   },
   {
    "duration": 27,
    "start_time": "2021-08-22T03:36:00.408Z"
   },
   {
    "duration": 34,
    "start_time": "2021-08-22T03:36:00.898Z"
   },
   {
    "duration": 627,
    "start_time": "2021-08-22T03:36:01.393Z"
   },
   {
    "duration": 13,
    "start_time": "2021-08-22T03:36:02.023Z"
   },
   {
    "duration": 49,
    "start_time": "2021-08-22T03:36:02.100Z"
   },
   {
    "duration": 17,
    "start_time": "2021-08-22T03:36:02.256Z"
   },
   {
    "duration": 9,
    "start_time": "2021-08-22T03:36:02.831Z"
   },
   {
    "duration": 20,
    "start_time": "2021-08-22T03:36:03.192Z"
   },
   {
    "duration": 14,
    "start_time": "2021-08-22T03:36:03.375Z"
   },
   {
    "duration": 4,
    "start_time": "2021-08-22T03:36:03.729Z"
   },
   {
    "duration": 21,
    "start_time": "2021-08-22T03:36:04.447Z"
   },
   {
    "duration": 76,
    "start_time": "2021-08-22T03:36:04.970Z"
   },
   {
    "duration": 294,
    "start_time": "2021-08-22T03:36:05.330Z"
   },
   {
    "duration": 12,
    "start_time": "2021-08-22T03:36:06.056Z"
   },
   {
    "duration": 32,
    "start_time": "2021-08-22T03:36:06.404Z"
   },
   {
    "duration": 393,
    "start_time": "2021-08-22T03:36:06.753Z"
   },
   {
    "duration": 6,
    "start_time": "2021-08-22T03:36:07.295Z"
   },
   {
    "duration": 12,
    "start_time": "2021-08-22T03:36:07.481Z"
   },
   {
    "duration": 400,
    "start_time": "2021-08-22T03:36:07.655Z"
   },
   {
    "duration": 15,
    "start_time": "2021-08-22T03:36:08.363Z"
   },
   {
    "duration": 12,
    "start_time": "2021-08-22T03:36:08.710Z"
   },
   {
    "duration": 38,
    "start_time": "2021-08-22T03:36:09.600Z"
   },
   {
    "duration": 266,
    "start_time": "2021-08-22T03:36:10.729Z"
   },
   {
    "duration": 13,
    "start_time": "2021-08-22T03:36:11.111Z"
   },
   {
    "duration": 311,
    "start_time": "2021-08-22T03:36:11.582Z"
   },
   {
    "duration": 24,
    "start_time": "2021-08-22T03:36:11.964Z"
   },
   {
    "duration": 2689,
    "start_time": "2021-08-22T03:36:12.325Z"
   },
   {
    "duration": 1257,
    "start_time": "2021-08-22T03:36:25.777Z"
   },
   {
    "duration": 5,
    "start_time": "2021-08-22T03:39:01.220Z"
   },
   {
    "duration": 52,
    "start_time": "2021-08-22T03:39:01.524Z"
   },
   {
    "duration": 34,
    "start_time": "2021-08-22T03:39:01.837Z"
   },
   {
    "duration": 44,
    "start_time": "2021-08-22T03:39:02.448Z"
   },
   {
    "duration": 6,
    "start_time": "2021-08-22T03:39:03.220Z"
   },
   {
    "duration": 4,
    "start_time": "2021-08-22T03:39:03.535Z"
   },
   {
    "duration": 5,
    "start_time": "2021-08-22T03:39:03.684Z"
   },
   {
    "duration": 128,
    "start_time": "2021-08-22T03:39:04.158Z"
   },
   {
    "duration": 20,
    "start_time": "2021-08-22T03:39:05.045Z"
   },
   {
    "duration": 6,
    "start_time": "2021-08-22T03:39:05.497Z"
   },
   {
    "duration": 16,
    "start_time": "2021-08-22T03:39:05.691Z"
   },
   {
    "duration": 25,
    "start_time": "2021-08-22T03:39:06.021Z"
   },
   {
    "duration": 30,
    "start_time": "2021-08-22T03:39:07.925Z"
   },
   {
    "duration": 592,
    "start_time": "2021-08-22T03:39:09.244Z"
   },
   {
    "duration": 14,
    "start_time": "2021-08-22T03:39:10.060Z"
   },
   {
    "duration": 45,
    "start_time": "2021-08-22T03:39:10.996Z"
   },
   {
    "duration": 16,
    "start_time": "2021-08-22T03:39:11.644Z"
   },
   {
    "duration": 9,
    "start_time": "2021-08-22T03:39:13.173Z"
   },
   {
    "duration": 21,
    "start_time": "2021-08-22T03:39:14.029Z"
   },
   {
    "duration": 14,
    "start_time": "2021-08-22T03:39:14.196Z"
   },
   {
    "duration": 5,
    "start_time": "2021-08-22T03:39:14.948Z"
   },
   {
    "duration": 20,
    "start_time": "2021-08-22T03:39:15.718Z"
   },
   {
    "duration": 77,
    "start_time": "2021-08-22T03:39:17.221Z"
   },
   {
    "duration": 293,
    "start_time": "2021-08-22T03:39:17.613Z"
   },
   {
    "duration": 12,
    "start_time": "2021-08-22T03:39:18.884Z"
   },
   {
    "duration": 35,
    "start_time": "2021-08-22T03:39:20.012Z"
   },
   {
    "duration": 404,
    "start_time": "2021-08-22T03:39:23.785Z"
   },
   {
    "duration": 11,
    "start_time": "2021-08-22T03:39:24.191Z"
   },
   {
    "duration": 20,
    "start_time": "2021-08-22T03:39:24.204Z"
   },
   {
    "duration": 401,
    "start_time": "2021-08-22T03:39:24.226Z"
   },
   {
    "duration": 15,
    "start_time": "2021-08-22T03:39:24.629Z"
   },
   {
    "duration": 13,
    "start_time": "2021-08-22T03:39:24.646Z"
   },
   {
    "duration": 66,
    "start_time": "2021-08-22T03:39:24.662Z"
   },
   {
    "duration": 267,
    "start_time": "2021-08-22T03:39:26.546Z"
   },
   {
    "duration": 14,
    "start_time": "2021-08-22T03:39:28.994Z"
   },
   {
    "duration": 321,
    "start_time": "2021-08-22T03:39:29.011Z"
   },
   {
    "duration": 24,
    "start_time": "2021-08-22T03:39:30.012Z"
   },
   {
    "duration": 2715,
    "start_time": "2021-08-22T03:39:34.560Z"
   },
   {
    "duration": 2082,
    "start_time": "2021-08-22T03:41:47.223Z"
   },
   {
    "duration": 90,
    "start_time": "2021-08-22T03:42:17.706Z"
   },
   {
    "duration": 2761,
    "start_time": "2021-08-22T03:42:21.288Z"
   },
   {
    "duration": 405,
    "start_time": "2021-09-09T07:18:48.112Z"
   },
   {
    "duration": 1402,
    "start_time": "2021-09-09T07:18:54.612Z"
   },
   {
    "duration": 46,
    "start_time": "2021-09-09T07:18:56.018Z"
   },
   {
    "duration": 41,
    "start_time": "2021-09-09T07:18:56.068Z"
   },
   {
    "duration": 41,
    "start_time": "2021-09-09T07:18:56.112Z"
   },
   {
    "duration": 5,
    "start_time": "2021-09-09T07:18:56.183Z"
   },
   {
    "duration": 8,
    "start_time": "2021-09-09T07:18:56.191Z"
   },
   {
    "duration": 8,
    "start_time": "2021-09-09T07:18:56.201Z"
   },
   {
    "duration": 31,
    "start_time": "2021-09-09T07:18:56.213Z"
   },
   {
    "duration": 18,
    "start_time": "2021-09-09T07:18:56.284Z"
   },
   {
    "duration": 5,
    "start_time": "2021-09-09T07:18:56.304Z"
   },
   {
    "duration": 15,
    "start_time": "2021-09-09T07:18:56.311Z"
   },
   {
    "duration": 54,
    "start_time": "2021-09-09T07:18:56.328Z"
   },
   {
    "duration": 30,
    "start_time": "2021-09-09T07:18:56.384Z"
   },
   {
    "duration": 613,
    "start_time": "2021-09-09T07:18:56.417Z"
   },
   {
    "duration": 16,
    "start_time": "2021-09-09T07:18:57.033Z"
   },
   {
    "duration": 68,
    "start_time": "2021-09-09T07:18:57.051Z"
   },
   {
    "duration": 18,
    "start_time": "2021-09-09T07:18:57.122Z"
   },
   {
    "duration": 10,
    "start_time": "2021-09-09T07:18:57.142Z"
   },
   {
    "duration": 22,
    "start_time": "2021-09-09T07:18:57.183Z"
   },
   {
    "duration": 14,
    "start_time": "2021-09-09T07:18:57.208Z"
   },
   {
    "duration": 5,
    "start_time": "2021-09-09T07:18:57.225Z"
   },
   {
    "duration": 63,
    "start_time": "2021-09-09T07:18:57.233Z"
   },
   {
    "duration": 93,
    "start_time": "2021-09-09T07:18:57.302Z"
   },
   {
    "duration": 295,
    "start_time": "2021-09-09T07:18:57.399Z"
   },
   {
    "duration": 11,
    "start_time": "2021-09-09T07:18:57.696Z"
   },
   {
    "duration": 31,
    "start_time": "2021-09-09T07:18:57.710Z"
   },
   {
    "duration": 400,
    "start_time": "2021-09-09T07:18:57.743Z"
   },
   {
    "duration": 6,
    "start_time": "2021-09-09T07:18:58.145Z"
   },
   {
    "duration": 14,
    "start_time": "2021-09-09T07:18:58.153Z"
   },
   {
    "duration": 387,
    "start_time": "2021-09-09T07:18:58.183Z"
   },
   {
    "duration": 18,
    "start_time": "2021-09-09T07:18:58.572Z"
   },
   {
    "duration": 10,
    "start_time": "2021-09-09T07:18:58.592Z"
   },
   {
    "duration": 35,
    "start_time": "2021-09-09T07:18:58.605Z"
   },
   {
    "duration": 299,
    "start_time": "2021-09-09T07:18:58.642Z"
   },
   {
    "duration": 12,
    "start_time": "2021-09-09T07:18:58.943Z"
   },
   {
    "duration": 318,
    "start_time": "2021-09-09T07:18:58.958Z"
   },
   {
    "duration": 22,
    "start_time": "2021-09-09T07:18:59.282Z"
   },
   {
    "duration": 2763,
    "start_time": "2021-09-09T07:18:59.306Z"
   },
   {
    "duration": 2681,
    "start_time": "2021-09-09T07:19:02.071Z"
   },
   {
    "duration": 1179,
    "start_time": "2021-09-09T07:19:04.755Z"
   },
   {
    "duration": 4,
    "start_time": "2021-09-09T07:19:05.936Z"
   },
   {
    "duration": 16,
    "start_time": "2021-09-09T07:19:05.942Z"
   },
   {
    "duration": 26,
    "start_time": "2021-09-09T07:19:05.960Z"
   },
   {
    "duration": 29,
    "start_time": "2021-09-09T07:19:05.988Z"
   },
   {
    "duration": 656,
    "start_time": "2021-09-09T07:19:06.020Z"
   },
   {
    "duration": 27,
    "start_time": "2021-09-09T07:19:06.683Z"
   },
   {
    "duration": 588,
    "start_time": "2021-09-09T07:19:06.712Z"
   },
   {
    "duration": 541,
    "start_time": "2021-09-09T07:19:07.303Z"
   },
   {
    "duration": 39,
    "start_time": "2021-09-09T07:19:07.846Z"
   },
   {
    "duration": 385,
    "start_time": "2021-09-09T07:19:07.888Z"
   },
   {
    "duration": 383,
    "start_time": "2021-09-09T07:19:08.276Z"
   },
   {
    "duration": 33,
    "start_time": "2021-09-09T07:19:08.662Z"
   },
   {
    "duration": 23,
    "start_time": "2021-09-09T07:19:08.698Z"
   },
   {
    "duration": 64,
    "start_time": "2021-09-09T07:19:08.723Z"
   },
   {
    "duration": 168,
    "start_time": "2021-09-09T07:19:08.790Z"
   },
   {
    "duration": 730,
    "start_time": "2021-09-09T07:19:08.960Z"
   },
   {
    "duration": -68,
    "start_time": "2021-09-09T07:19:09.761Z"
   },
   {
    "duration": -74,
    "start_time": "2021-09-09T07:19:09.768Z"
   },
   {
    "duration": -80,
    "start_time": "2021-09-09T07:19:09.775Z"
   },
   {
    "duration": -84,
    "start_time": "2021-09-09T07:19:09.781Z"
   },
   {
    "duration": -90,
    "start_time": "2021-09-09T07:19:09.788Z"
   },
   {
    "duration": -94,
    "start_time": "2021-09-09T07:19:09.794Z"
   },
   {
    "duration": -100,
    "start_time": "2021-09-09T07:19:09.801Z"
   },
   {
    "duration": -105,
    "start_time": "2021-09-09T07:19:09.807Z"
   },
   {
    "duration": -109,
    "start_time": "2021-09-09T07:19:09.813Z"
   },
   {
    "duration": -114,
    "start_time": "2021-09-09T07:19:09.819Z"
   },
   {
    "duration": -119,
    "start_time": "2021-09-09T07:19:09.825Z"
   },
   {
    "duration": -124,
    "start_time": "2021-09-09T07:19:09.831Z"
   },
   {
    "duration": -130,
    "start_time": "2021-09-09T07:19:09.838Z"
   },
   {
    "duration": -141,
    "start_time": "2021-09-09T07:19:09.851Z"
   },
   {
    "duration": -146,
    "start_time": "2021-09-09T07:19:09.857Z"
   },
   {
    "duration": -150,
    "start_time": "2021-09-09T07:19:09.863Z"
   },
   {
    "duration": -158,
    "start_time": "2021-09-09T07:19:09.872Z"
   },
   {
    "duration": -162,
    "start_time": "2021-09-09T07:19:09.878Z"
   },
   {
    "duration": 651,
    "start_time": "2021-09-09T07:19:20.585Z"
   },
   {
    "duration": 579,
    "start_time": "2021-09-09T07:19:33.089Z"
   },
   {
    "duration": 594,
    "start_time": "2021-09-09T07:19:43.353Z"
   },
   {
    "duration": 606,
    "start_time": "2021-09-09T07:19:51.992Z"
   },
   {
    "duration": 296,
    "start_time": "2021-09-09T07:20:20.678Z"
   }
  ],
  "kernelspec": {
   "display_name": "Python 3",
   "language": "python",
   "name": "python3"
  },
  "language_info": {
   "codemirror_mode": {
    "name": "ipython",
    "version": 3
   },
   "file_extension": ".py",
   "mimetype": "text/x-python",
   "name": "python",
   "nbconvert_exporter": "python",
   "pygments_lexer": "ipython3",
   "version": "3.8.8"
  },
  "toc": {
   "base_numbering": 1,
   "nav_menu": {},
   "number_sections": true,
   "sideBar": true,
   "skip_h1_title": true,
   "title_cell": "Table of Contents",
   "title_sidebar": "Contents",
   "toc_cell": false,
   "toc_position": {},
   "toc_section_display": true,
   "toc_window_display": false
  }
 },
 "nbformat": 4,
 "nbformat_minor": 2
}
