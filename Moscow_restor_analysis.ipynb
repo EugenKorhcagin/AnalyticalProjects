{
 "cells": [
  {
   "cell_type": "markdown",
   "metadata": {},
   "source": [
    "<h1>Содержание проекта по анализу данных<span class=\"tocSkip\"></span></h1>\n",
    "<div class=\"toc\"><ul class=\"toc-item\"><li><span><a href=\"#Изучение-данных-из-файла\" data-toc-modified-id=\"Изучение-данных-из-файла-1\"><span class=\"toc-item-num\">1&nbsp;&nbsp;</span>Изучение данных из файла</a></span><ul class=\"toc-item\"><li><span><a href=\"#Вывод\" data-toc-modified-id=\"Вывод-1.1\"><span class=\"toc-item-num\">1.1&nbsp;&nbsp;</span>Вывод</a></span></li></ul></li><li><span><a href=\"#Предобработка-данных\" data-toc-modified-id=\"Предобработка-данных-2\"><span class=\"toc-item-num\">2&nbsp;&nbsp;</span>Предобработка данных</a></span></li><li><span><a href=\"#Расчёты-и-добавление-результатов-в-таблицу\" data-toc-modified-id=\"Расчёты-и-добавление-результатов-в-таблицу-3\"><span class=\"toc-item-num\">3&nbsp;&nbsp;</span>Расчёты и добавление результатов в таблицу</a></span></li><li><span><a href=\"#Исследовательский-анализ-данных\" data-toc-modified-id=\"Исследовательский-анализ-данных-4\"><span class=\"toc-item-num\">4&nbsp;&nbsp;</span>Исследовательский анализ данных</a></span></li></li><li><span><a href=\"#Общий-вывод\" data-toc-modified-id=\"Общий-вывод-6\"><span class=\"toc-item-num\">6&nbsp;&nbsp;</span>Общий вывод</a></span></li><li><span><a href=\"#Чек-лист-готовности-проекта\" data-toc-modified-id=\"Чек-лист-готовности-проекта-7\"><span class=\"toc-item-num\">7&nbsp;&nbsp;</span>Чек-лист готовности проекта</a></span></li></ul></div>\n"
   ]
  },
  {
   "cell_type": "markdown",
   "metadata": {},
   "source": [
    "# Исследование "
   ]
  },
  {
   "cell_type": "markdown",
   "metadata": {},
   "source": [
    "Цель: определить органический и постоянный трафик ресторана\n",
    "Данные: открытые данные по заведениям общественного питания в Москве\n",
    "Задача: определить улицы с сетевыми и несетевыми заведениями, выявить эти улицы, визуализировать данные по улицам, заведениям и числу посадочных мест \n"
   ]
  },
  {
   "cell_type": "markdown",
   "metadata": {},
   "source": [
    "## Изучение данных из файла"
   ]
  },
  {
   "cell_type": "code",
   "execution_count": 1,
   "metadata": {},
   "outputs": [
    {
     "name": "stdout",
     "output_type": "stream",
     "text": [
      "Requirement already satisfied: plotly in ./opt/anaconda3/lib/python3.8/site-packages (5.3.1)\n",
      "Requirement already satisfied: tenacity>=6.2.0 in ./opt/anaconda3/lib/python3.8/site-packages (from plotly) (8.0.1)\n",
      "Requirement already satisfied: six in ./opt/anaconda3/lib/python3.8/site-packages (from plotly) (1.15.0)\n"
     ]
    },
    {
     "data": {
      "text/html": [
       "        <script type=\"text/javascript\">\n",
       "        window.PlotlyConfig = {MathJaxConfig: 'local'};\n",
       "        if (window.MathJax) {MathJax.Hub.Config({SVG: {font: \"STIX-Web\"}});}\n",
       "        if (typeof require !== 'undefined') {\n",
       "        require.undef(\"plotly\");\n",
       "        requirejs.config({\n",
       "            paths: {\n",
       "                'plotly': ['https://cdn.plot.ly/plotly-2.4.2.min']\n",
       "            }\n",
       "        });\n",
       "        require(['plotly'], function(Plotly) {\n",
       "            window._Plotly = Plotly;\n",
       "        });\n",
       "        }\n",
       "        </script>\n",
       "        "
      ]
     },
     "metadata": {},
     "output_type": "display_data"
    }
   ],
   "source": [
    "#загружаем библиотеки\n",
    "import pandas as pd \n",
    "import numpy as np\n",
    "import matplotlib.pyplot as plt\n",
    "import datetime \n",
    "from scipy import stats as st\n",
    "import math\n",
    "import warnings\n",
    "from scipy.stats import levene\n",
    "import seaborn as sns\n",
    "from numpy import median\n",
    "import sys\n",
    "!{sys.executable} -m pip install plotly\n",
    "import plotly.graph_objs as go\n",
    "from plotly import __version__\n",
    "from plotly.offline import download_plotlyjs, init_notebook_mode, plot, iplot\n",
    "init_notebook_mode(connected=True)\n",
    "import plotly.express as px\n",
    "\n",
    "warnings.filterwarnings('ignore')"
   ]
  },
  {
   "cell_type": "code",
   "execution_count": 2,
   "metadata": {},
   "outputs": [],
   "source": [
    "#читаем данные из файла\n",
    "df = pd.read_csv('https://www.dropbox.com/s/8dercedyvk0wixy/rest_data.csv?dl=1')"
   ]
  },
  {
   "cell_type": "markdown",
   "metadata": {},
   "source": [
    "## Предобработка данных"
   ]
  },
  {
   "cell_type": "markdown",
   "metadata": {},
   "source": [
    "отфильтруем фрейм. Удалим все строки с числом посадочных мест равным нулю, кроме предприятий быстрого обслуживания."
   ]
  },
  {
   "cell_type": "code",
   "execution_count": 3,
   "metadata": {
    "scrolled": true
   },
   "outputs": [
    {
     "data": {
      "text/plain": [
       "предприятие быстрого обслуживания    704\n",
       "кафе                                 310\n",
       "закусочная                           189\n",
       "магазин (отдел кулинарии)            145\n",
       "кафетерий                            113\n",
       "буфет                                 68\n",
       "ресторан                              45\n",
       "бар                                   28\n",
       "столовая                              19\n",
       "Name: object_type, dtype: int64"
      ]
     },
     "execution_count": 3,
     "metadata": {},
     "output_type": "execute_result"
    }
   ],
   "source": [
    "df[df['number'] == 0]['object_type'].value_counts()"
   ]
  },
  {
   "cell_type": "code",
   "execution_count": 4,
   "metadata": {},
   "outputs": [],
   "source": [
    "#удаляем все аномальные строки где посадочные места равны 0 и тип заведения НЕ предприятия быстрого обслуживания\n",
    "#df = df.drop(np.where((df['number'] == 0) & (df['object_type'] != 'предприятие быстрого обслуживания'))[0])"
   ]
  },
  {
   "cell_type": "code",
   "execution_count": 5,
   "metadata": {},
   "outputs": [
    {
     "data": {
      "text/html": [
       "<div>\n",
       "<style scoped>\n",
       "    .dataframe tbody tr th:only-of-type {\n",
       "        vertical-align: middle;\n",
       "    }\n",
       "\n",
       "    .dataframe tbody tr th {\n",
       "        vertical-align: top;\n",
       "    }\n",
       "\n",
       "    .dataframe thead th {\n",
       "        text-align: right;\n",
       "    }\n",
       "</style>\n",
       "<table border=\"1\" class=\"dataframe\">\n",
       "  <thead>\n",
       "    <tr style=\"text-align: right;\">\n",
       "      <th></th>\n",
       "      <th>id</th>\n",
       "      <th>object_name</th>\n",
       "      <th>chain</th>\n",
       "      <th>object_type</th>\n",
       "      <th>address</th>\n",
       "      <th>number</th>\n",
       "    </tr>\n",
       "  </thead>\n",
       "  <tbody>\n",
       "    <tr>\n",
       "      <th>0</th>\n",
       "      <td>151635</td>\n",
       "      <td>сметана</td>\n",
       "      <td>нет</td>\n",
       "      <td>кафе</td>\n",
       "      <td>город Москва, улица Егора Абакумова, дом 9</td>\n",
       "      <td>48</td>\n",
       "    </tr>\n",
       "    <tr>\n",
       "      <th>1</th>\n",
       "      <td>77874</td>\n",
       "      <td>родник</td>\n",
       "      <td>нет</td>\n",
       "      <td>кафе</td>\n",
       "      <td>город Москва, улица Талалихина, дом 2/1, корпус 1</td>\n",
       "      <td>35</td>\n",
       "    </tr>\n",
       "    <tr>\n",
       "      <th>2</th>\n",
       "      <td>24309</td>\n",
       "      <td>кафе «академия»</td>\n",
       "      <td>нет</td>\n",
       "      <td>кафе</td>\n",
       "      <td>город Москва, Абельмановская улица, дом 6</td>\n",
       "      <td>95</td>\n",
       "    </tr>\n",
       "    <tr>\n",
       "      <th>3</th>\n",
       "      <td>21894</td>\n",
       "      <td>пиццетория</td>\n",
       "      <td>да</td>\n",
       "      <td>кафе</td>\n",
       "      <td>город Москва, Абрамцевская улица, дом 1</td>\n",
       "      <td>40</td>\n",
       "    </tr>\n",
       "    <tr>\n",
       "      <th>4</th>\n",
       "      <td>119365</td>\n",
       "      <td>кафе «вишневая метель»</td>\n",
       "      <td>нет</td>\n",
       "      <td>кафе</td>\n",
       "      <td>город Москва, Абрамцевская улица, дом 9, корпус 1</td>\n",
       "      <td>50</td>\n",
       "    </tr>\n",
       "    <tr>\n",
       "      <th>...</th>\n",
       "      <td>...</td>\n",
       "      <td>...</td>\n",
       "      <td>...</td>\n",
       "      <td>...</td>\n",
       "      <td>...</td>\n",
       "      <td>...</td>\n",
       "    </tr>\n",
       "    <tr>\n",
       "      <th>15361</th>\n",
       "      <td>208537</td>\n",
       "      <td>шоколадница</td>\n",
       "      <td>да</td>\n",
       "      <td>кафе</td>\n",
       "      <td>город Москва, 3-й Крутицкий переулок, дом 18</td>\n",
       "      <td>50</td>\n",
       "    </tr>\n",
       "    <tr>\n",
       "      <th>15362</th>\n",
       "      <td>209264</td>\n",
       "      <td>шоколадница</td>\n",
       "      <td>да</td>\n",
       "      <td>кафе</td>\n",
       "      <td>город Москва, улица Земляной Вал, дом 33</td>\n",
       "      <td>10</td>\n",
       "    </tr>\n",
       "    <tr>\n",
       "      <th>15363</th>\n",
       "      <td>209186</td>\n",
       "      <td>шоколадница</td>\n",
       "      <td>да</td>\n",
       "      <td>кафе</td>\n",
       "      <td>город Москва, улица Земляной Вал, дом 33</td>\n",
       "      <td>20</td>\n",
       "    </tr>\n",
       "    <tr>\n",
       "      <th>15364</th>\n",
       "      <td>221900</td>\n",
       "      <td>шоколадница</td>\n",
       "      <td>да</td>\n",
       "      <td>кафе</td>\n",
       "      <td>город Москва, поселение Московский, Киевское ш...</td>\n",
       "      <td>36</td>\n",
       "    </tr>\n",
       "    <tr>\n",
       "      <th>15365</th>\n",
       "      <td>222535</td>\n",
       "      <td>шоколадница</td>\n",
       "      <td>да</td>\n",
       "      <td>кафе</td>\n",
       "      <td>город Москва, Ходынский бульвар, дом 4</td>\n",
       "      <td>10</td>\n",
       "    </tr>\n",
       "  </tbody>\n",
       "</table>\n",
       "<p>15366 rows × 6 columns</p>\n",
       "</div>"
      ],
      "text/plain": [
       "           id             object_name chain object_type  \\\n",
       "0      151635                 сметана   нет        кафе   \n",
       "1       77874                  родник   нет        кафе   \n",
       "2       24309         кафе «академия»   нет        кафе   \n",
       "3       21894              пиццетория    да        кафе   \n",
       "4      119365  кафе «вишневая метель»   нет        кафе   \n",
       "...       ...                     ...   ...         ...   \n",
       "15361  208537             шоколадница    да        кафе   \n",
       "15362  209264             шоколадница    да        кафе   \n",
       "15363  209186             шоколадница    да        кафе   \n",
       "15364  221900             шоколадница    да        кафе   \n",
       "15365  222535             шоколадница    да        кафе   \n",
       "\n",
       "                                                 address  number  \n",
       "0             город Москва, улица Егора Абакумова, дом 9      48  \n",
       "1      город Москва, улица Талалихина, дом 2/1, корпус 1      35  \n",
       "2              город Москва, Абельмановская улица, дом 6      95  \n",
       "3                город Москва, Абрамцевская улица, дом 1      40  \n",
       "4      город Москва, Абрамцевская улица, дом 9, корпус 1      50  \n",
       "...                                                  ...     ...  \n",
       "15361       город Москва, 3-й Крутицкий переулок, дом 18      50  \n",
       "15362           город Москва, улица Земляной Вал, дом 33      10  \n",
       "15363           город Москва, улица Земляной Вал, дом 33      20  \n",
       "15364  город Москва, поселение Московский, Киевское ш...      36  \n",
       "15365             город Москва, Ходынский бульвар, дом 4      10  \n",
       "\n",
       "[15366 rows x 6 columns]"
      ]
     },
     "metadata": {},
     "output_type": "display_data"
    },
    {
     "data": {
      "text/plain": [
       "False    15366\n",
       "dtype: int64"
      ]
     },
     "execution_count": 5,
     "metadata": {},
     "output_type": "execute_result"
    }
   ],
   "source": [
    "#определяем наличие дубликатов в данных\n",
    "\n",
    "\n",
    "df['object_name'] = df['object_name'].str.lower()\n",
    "display(df)\n",
    "df.duplicated().value_counts()"
   ]
  },
  {
   "cell_type": "code",
   "execution_count": 6,
   "metadata": {},
   "outputs": [
    {
     "data": {
      "text/html": [
       "<div>\n",
       "<style scoped>\n",
       "    .dataframe tbody tr th:only-of-type {\n",
       "        vertical-align: middle;\n",
       "    }\n",
       "\n",
       "    .dataframe tbody tr th {\n",
       "        vertical-align: top;\n",
       "    }\n",
       "\n",
       "    .dataframe thead th {\n",
       "        text-align: right;\n",
       "    }\n",
       "</style>\n",
       "<table border=\"1\" class=\"dataframe\">\n",
       "  <thead>\n",
       "    <tr style=\"text-align: right;\">\n",
       "      <th></th>\n",
       "      <th>object_type</th>\n",
       "      <th>id</th>\n",
       "      <th>object_name</th>\n",
       "      <th>chain</th>\n",
       "      <th>address</th>\n",
       "      <th>number</th>\n",
       "    </tr>\n",
       "  </thead>\n",
       "  <tbody>\n",
       "    <tr>\n",
       "      <th>0</th>\n",
       "      <td>бар</td>\n",
       "      <td>856</td>\n",
       "      <td>856</td>\n",
       "      <td>856</td>\n",
       "      <td>856</td>\n",
       "      <td>856</td>\n",
       "    </tr>\n",
       "    <tr>\n",
       "      <th>1</th>\n",
       "      <td>буфет</td>\n",
       "      <td>585</td>\n",
       "      <td>585</td>\n",
       "      <td>585</td>\n",
       "      <td>585</td>\n",
       "      <td>585</td>\n",
       "    </tr>\n",
       "    <tr>\n",
       "      <th>2</th>\n",
       "      <td>закусочная</td>\n",
       "      <td>360</td>\n",
       "      <td>360</td>\n",
       "      <td>360</td>\n",
       "      <td>360</td>\n",
       "      <td>360</td>\n",
       "    </tr>\n",
       "    <tr>\n",
       "      <th>3</th>\n",
       "      <td>кафе</td>\n",
       "      <td>6099</td>\n",
       "      <td>6099</td>\n",
       "      <td>6099</td>\n",
       "      <td>6099</td>\n",
       "      <td>6099</td>\n",
       "    </tr>\n",
       "    <tr>\n",
       "      <th>4</th>\n",
       "      <td>кафетерий</td>\n",
       "      <td>398</td>\n",
       "      <td>398</td>\n",
       "      <td>398</td>\n",
       "      <td>398</td>\n",
       "      <td>398</td>\n",
       "    </tr>\n",
       "    <tr>\n",
       "      <th>5</th>\n",
       "      <td>магазин (отдел кулинарии)</td>\n",
       "      <td>273</td>\n",
       "      <td>273</td>\n",
       "      <td>273</td>\n",
       "      <td>273</td>\n",
       "      <td>273</td>\n",
       "    </tr>\n",
       "    <tr>\n",
       "      <th>6</th>\n",
       "      <td>предприятие быстрого обслуживания</td>\n",
       "      <td>1923</td>\n",
       "      <td>1923</td>\n",
       "      <td>1923</td>\n",
       "      <td>1923</td>\n",
       "      <td>1923</td>\n",
       "    </tr>\n",
       "    <tr>\n",
       "      <th>7</th>\n",
       "      <td>ресторан</td>\n",
       "      <td>2285</td>\n",
       "      <td>2285</td>\n",
       "      <td>2285</td>\n",
       "      <td>2285</td>\n",
       "      <td>2285</td>\n",
       "    </tr>\n",
       "    <tr>\n",
       "      <th>8</th>\n",
       "      <td>столовая</td>\n",
       "      <td>2587</td>\n",
       "      <td>2587</td>\n",
       "      <td>2587</td>\n",
       "      <td>2587</td>\n",
       "      <td>2587</td>\n",
       "    </tr>\n",
       "  </tbody>\n",
       "</table>\n",
       "</div>"
      ],
      "text/plain": [
       "                         object_type    id  object_name  chain  address  \\\n",
       "0                                бар   856          856    856      856   \n",
       "1                              буфет   585          585    585      585   \n",
       "2                         закусочная   360          360    360      360   \n",
       "3                               кафе  6099         6099   6099     6099   \n",
       "4                          кафетерий   398          398    398      398   \n",
       "5          магазин (отдел кулинарии)   273          273    273      273   \n",
       "6  предприятие быстрого обслуживания  1923         1923   1923     1923   \n",
       "7                           ресторан  2285         2285   2285     2285   \n",
       "8                           столовая  2587         2587   2587     2587   \n",
       "\n",
       "   number  \n",
       "0     856  \n",
       "1     585  \n",
       "2     360  \n",
       "3    6099  \n",
       "4     398  \n",
       "5     273  \n",
       "6    1923  \n",
       "7    2285  \n",
       "8    2587  "
      ]
     },
     "execution_count": 6,
     "metadata": {},
     "output_type": "execute_result"
    }
   ],
   "source": [
    "#считаем число видов объектов и число заведений в каждом виде\n",
    "df.groupby('object_type').count().reset_index()"
   ]
  },
  {
   "cell_type": "code",
   "execution_count": 7,
   "metadata": {},
   "outputs": [
    {
     "name": "stdout",
     "output_type": "stream",
     "text": [
      "в данных 0 пропусков\n"
     ]
    }
   ],
   "source": [
    "# проверяем  данные на предмет пропусков\n",
    "print('в данных', df.isna().sum(axis=1).sum(), 'пропусков')"
   ]
  },
  {
   "cell_type": "code",
   "execution_count": 8,
   "metadata": {},
   "outputs": [
    {
     "name": "stdout",
     "output_type": "stream",
     "text": [
      "<class 'pandas.core.frame.DataFrame'>\n",
      "RangeIndex: 15366 entries, 0 to 15365\n",
      "Data columns (total 6 columns):\n",
      " #   Column       Non-Null Count  Dtype \n",
      "---  ------       --------------  ----- \n",
      " 0   id           15366 non-null  int64 \n",
      " 1   object_name  15366 non-null  object\n",
      " 2   chain        15366 non-null  object\n",
      " 3   object_type  15366 non-null  object\n",
      " 4   address      15366 non-null  object\n",
      " 5   number       15366 non-null  int64 \n",
      "dtypes: int64(2), object(4)\n",
      "memory usage: 720.4+ KB\n"
     ]
    }
   ],
   "source": [
    "df.info() "
   ]
  },
  {
   "cell_type": "markdown",
   "metadata": {},
   "source": [
    "пропущенные данные в поле с адресом, всего 130 строк. Очистим данные"
   ]
  },
  {
   "cell_type": "code",
   "execution_count": 9,
   "metadata": {},
   "outputs": [],
   "source": [
    "df = df.dropna()"
   ]
  },
  {
   "cell_type": "markdown",
   "metadata": {},
   "source": [
    "пропущенных данных нет. Проверим данные на корректность."
   ]
  },
  {
   "cell_type": "markdown",
   "metadata": {},
   "source": [
    "Всего 9 типов заведений."
   ]
  },
  {
   "cell_type": "markdown",
   "metadata": {},
   "source": [
    "Поле chain содержит адекватные значения. Теперь попробуем найти неявные дубликаты"
   ]
  },
  {
   "cell_type": "code",
   "execution_count": 10,
   "metadata": {},
   "outputs": [
    {
     "data": {
      "text/plain": [
       "False    15366\n",
       "dtype: int64"
      ]
     },
     "execution_count": 10,
     "metadata": {},
     "output_type": "execute_result"
    }
   ],
   "source": [
    "df.duplicated().value_counts()"
   ]
  },
  {
   "cell_type": "markdown",
   "metadata": {},
   "source": [
    "Явных дубликатов не обнаружено. Проверим на дубликаты выборочно по полям с объектами, типами, адресом. "
   ]
  },
  {
   "cell_type": "code",
   "execution_count": 11,
   "metadata": {},
   "outputs": [
    {
     "name": "stdout",
     "output_type": "stream",
     "text": [
      "<class 'pandas.core.frame.DataFrame'>\n",
      "Int64Index: 15366 entries, 0 to 15365\n",
      "Data columns (total 6 columns):\n",
      " #   Column       Non-Null Count  Dtype \n",
      "---  ------       --------------  ----- \n",
      " 0   id           15366 non-null  int64 \n",
      " 1   object_name  15366 non-null  object\n",
      " 2   chain        15366 non-null  object\n",
      " 3   object_type  15366 non-null  object\n",
      " 4   address      15366 non-null  object\n",
      " 5   number       15366 non-null  int64 \n",
      "dtypes: int64(2), object(4)\n",
      "memory usage: 840.3+ KB\n",
      "до None\n",
      "<class 'pandas.core.frame.DataFrame'>\n",
      "Int64Index: 15182 entries, 0 to 15364\n",
      "Data columns (total 6 columns):\n",
      " #   Column       Non-Null Count  Dtype \n",
      "---  ------       --------------  ----- \n",
      " 0   id           15182 non-null  int64 \n",
      " 1   object_name  15182 non-null  object\n",
      " 2   chain        15182 non-null  object\n",
      " 3   object_type  15182 non-null  object\n",
      " 4   address      15182 non-null  object\n",
      " 5   number       15182 non-null  int64 \n",
      "dtypes: int64(2), object(4)\n",
      "memory usage: 830.3+ KB\n",
      "после None\n"
     ]
    }
   ],
   "source": [
    "print('до', df.info())\n",
    "df = df.drop_duplicates(subset=['object_name','object_type','address'])\n",
    "print('после', df.info())"
   ]
  },
  {
   "cell_type": "markdown",
   "metadata": {},
   "source": [
    "Рассмотрим данные о числе посадочных мест"
   ]
  },
  {
   "cell_type": "code",
   "execution_count": 12,
   "metadata": {},
   "outputs": [
    {
     "name": "stdout",
     "output_type": "stream",
     "text": [
      "<class 'pandas.core.frame.DataFrame'>\n",
      "Int64Index: 15182 entries, 0 to 15364\n",
      "Data columns (total 6 columns):\n",
      " #   Column       Non-Null Count  Dtype \n",
      "---  ------       --------------  ----- \n",
      " 0   id           15182 non-null  int64 \n",
      " 1   object_name  15182 non-null  object\n",
      " 2   chain        15182 non-null  object\n",
      " 3   object_type  15182 non-null  object\n",
      " 4   address      15182 non-null  object\n",
      " 5   number       15182 non-null  int64 \n",
      "dtypes: int64(2), object(4)\n",
      "memory usage: 830.3+ KB\n"
     ]
    }
   ],
   "source": [
    "df.info()"
   ]
  },
  {
   "cell_type": "markdown",
   "metadata": {},
   "source": [
    "### Вывод"
   ]
  },
  {
   "cell_type": "markdown",
   "metadata": {},
   "source": [
    "данные предобработаны и готовы к анализу"
   ]
  },
  {
   "cell_type": "markdown",
   "metadata": {},
   "source": [
    "## Расчёты и добавление результатов в таблицу"
   ]
  },
  {
   "cell_type": "code",
   "execution_count": 13,
   "metadata": {},
   "outputs": [],
   "source": [
    "rest_counts = df.object_type.value_counts() #вводим переменную. с количеством заведений по каждому типу"
   ]
  },
  {
   "cell_type": "markdown",
   "metadata": {},
   "source": [
    "рассмотрим соотношение видов объектов"
   ]
  },
  {
   "cell_type": "code",
   "execution_count": 14,
   "metadata": {},
   "outputs": [],
   "source": [
    "rest_counts = rest_counts.to_frame() #делаем фрейм из серии"
   ]
  },
  {
   "cell_type": "markdown",
   "metadata": {},
   "source": [
    "### Вывод"
   ]
  },
  {
   "cell_type": "markdown",
   "metadata": {},
   "source": [
    "фрейм с общим числом в разрезе типов заведений создан, данные готовы к исследовательскому анализу"
   ]
  },
  {
   "cell_type": "markdown",
   "metadata": {},
   "source": [
    "## Исследовательский и статистический анализ данных"
   ]
  },
  {
   "cell_type": "code",
   "execution_count": 15,
   "metadata": {},
   "outputs": [
    {
     "data": {
      "text/html": [
       "<div>\n",
       "<style scoped>\n",
       "    .dataframe tbody tr th:only-of-type {\n",
       "        vertical-align: middle;\n",
       "    }\n",
       "\n",
       "    .dataframe tbody tr th {\n",
       "        vertical-align: top;\n",
       "    }\n",
       "\n",
       "    .dataframe thead th {\n",
       "        text-align: right;\n",
       "    }\n",
       "</style>\n",
       "<table border=\"1\" class=\"dataframe\">\n",
       "  <thead>\n",
       "    <tr style=\"text-align: right;\">\n",
       "      <th></th>\n",
       "      <th>object_type</th>\n",
       "      <th>part</th>\n",
       "    </tr>\n",
       "  </thead>\n",
       "  <tbody>\n",
       "    <tr>\n",
       "      <th>кафе</th>\n",
       "      <td>6008</td>\n",
       "      <td>0.395732</td>\n",
       "    </tr>\n",
       "    <tr>\n",
       "      <th>столовая</th>\n",
       "      <td>2575</td>\n",
       "      <td>0.169609</td>\n",
       "    </tr>\n",
       "    <tr>\n",
       "      <th>ресторан</th>\n",
       "      <td>2274</td>\n",
       "      <td>0.149783</td>\n",
       "    </tr>\n",
       "    <tr>\n",
       "      <th>предприятие быстрого обслуживания</th>\n",
       "      <td>1890</td>\n",
       "      <td>0.124490</td>\n",
       "    </tr>\n",
       "    <tr>\n",
       "      <th>бар</th>\n",
       "      <td>853</td>\n",
       "      <td>0.056185</td>\n",
       "    </tr>\n",
       "    <tr>\n",
       "      <th>буфет</th>\n",
       "      <td>570</td>\n",
       "      <td>0.037544</td>\n",
       "    </tr>\n",
       "    <tr>\n",
       "      <th>кафетерий</th>\n",
       "      <td>393</td>\n",
       "      <td>0.025886</td>\n",
       "    </tr>\n",
       "    <tr>\n",
       "      <th>закусочная</th>\n",
       "      <td>347</td>\n",
       "      <td>0.022856</td>\n",
       "    </tr>\n",
       "    <tr>\n",
       "      <th>магазин (отдел кулинарии)</th>\n",
       "      <td>272</td>\n",
       "      <td>0.017916</td>\n",
       "    </tr>\n",
       "  </tbody>\n",
       "</table>\n",
       "</div>"
      ],
      "text/plain": [
       "                                   object_type      part\n",
       "кафе                                      6008  0.395732\n",
       "столовая                                  2575  0.169609\n",
       "ресторан                                  2274  0.149783\n",
       "предприятие быстрого обслуживания         1890  0.124490\n",
       "бар                                        853  0.056185\n",
       "буфет                                      570  0.037544\n",
       "кафетерий                                  393  0.025886\n",
       "закусочная                                 347  0.022856\n",
       "магазин (отдел кулинарии)                  272  0.017916"
      ]
     },
     "execution_count": 15,
     "metadata": {},
     "output_type": "execute_result"
    }
   ],
   "source": [
    "#создаём столбец с отношением каждого типа заведения от общего числа\n",
    "rest_counts['part'] = rest_counts['object_type'] / rest_counts['object_type'].sum()\n",
    "rest_counts"
   ]
  },
  {
   "cell_type": "markdown",
   "metadata": {},
   "source": [
    "Строим фигуру с частями по видам заведений (от целого) с помощью сиборна"
   ]
  },
  {
   "cell_type": "code",
   "execution_count": 16,
   "metadata": {},
   "outputs": [
    {
     "data": {
      "image/png": "[encoded data removed]",
      "text/plain": [
       "<Figure size 1080x576 with 1 Axes>"
      ]
     },
     "metadata": {},
     "output_type": "display_data"
    }
   ],
   "source": [
    "plt.figure(figsize = (15,8))\n",
    "\n",
    "colors = sns.color_palette('pastel')[0:5]\n",
    "\n",
    "#create pie chart\n",
    "plt.pie(rest_counts['part'], colors = colors,autopct='%1.0f%%', labels = rest_counts.index)\n",
    "plt.show()"
   ]
  },
  {
   "cell_type": "markdown",
   "metadata": {},
   "source": [
    "определяем доли рынка общепита Москвы (сетевые и несетевые)"
   ]
  },
  {
   "cell_type": "code",
   "execution_count": 17,
   "metadata": {},
   "outputs": [],
   "source": [
    "chain_part = df['chain'].value_counts()\n",
    "chain_part = chain_part.to_frame()"
   ]
  },
  {
   "cell_type": "code",
   "execution_count": 18,
   "metadata": {},
   "outputs": [],
   "source": [
    "chain_part['part'] = chain_part['chain'] / chain_part['chain'].sum() #находим отношение частного к общему"
   ]
  },
  {
   "cell_type": "code",
   "execution_count": 19,
   "metadata": {},
   "outputs": [
    {
     "data": {
      "text/html": [
       "<div>\n",
       "<style scoped>\n",
       "    .dataframe tbody tr th:only-of-type {\n",
       "        vertical-align: middle;\n",
       "    }\n",
       "\n",
       "    .dataframe tbody tr th {\n",
       "        vertical-align: top;\n",
       "    }\n",
       "\n",
       "    .dataframe thead th {\n",
       "        text-align: right;\n",
       "    }\n",
       "</style>\n",
       "<table border=\"1\" class=\"dataframe\">\n",
       "  <thead>\n",
       "    <tr style=\"text-align: right;\">\n",
       "      <th></th>\n",
       "      <th>chain</th>\n",
       "      <th>part</th>\n",
       "    </tr>\n",
       "  </thead>\n",
       "  <tbody>\n",
       "    <tr>\n",
       "      <th>нет</th>\n",
       "      <td>12234</td>\n",
       "      <td>0.805823</td>\n",
       "    </tr>\n",
       "    <tr>\n",
       "      <th>да</th>\n",
       "      <td>2948</td>\n",
       "      <td>0.194177</td>\n",
       "    </tr>\n",
       "  </tbody>\n",
       "</table>\n",
       "</div>"
      ],
      "text/plain": [
       "     chain      part\n",
       "нет  12234  0.805823\n",
       "да    2948  0.194177"
      ]
     },
     "execution_count": 19,
     "metadata": {},
     "output_type": "execute_result"
    }
   ],
   "source": [
    "chain_part"
   ]
  },
  {
   "cell_type": "code",
   "execution_count": 20,
   "metadata": {},
   "outputs": [
    {
     "data": {
      "image/png": "[encoded data removed]",
      "text/plain": [
       "<Figure size 1080x432 with 1 Axes>"
      ]
     },
     "metadata": {},
     "output_type": "display_data"
    }
   ],
   "source": [
    "plt.figure(figsize = (15,6))\n",
    "plt.pie(chain_part['part'], colors = colors, autopct='%1.0f%%', labels = chain_part.index)\n",
    "plt.show()"
   ]
  },
  {
   "cell_type": "markdown",
   "metadata": {},
   "source": [
    "рассмотрим сегмент сетевых заведений для оценки характерных видов"
   ]
  },
  {
   "cell_type": "code",
   "execution_count": 21,
   "metadata": {},
   "outputs": [],
   "source": [
    "#создаём срезы данных сетевые и несетевые \n",
    "df_chain_yes = df.query('chain == \"да\"')\n",
    "df_chain_yes = df_chain_yes['object_type'].value_counts().to_frame().reset_index()\n",
    "df_chain_not = df.query('chain == \"нет\"')\n",
    "df_chain_not = df_chain_not['object_type'].value_counts().to_frame().reset_index()\n",
    "\n",
    "\n"
   ]
  },
  {
   "cell_type": "code",
   "execution_count": 22,
   "metadata": {},
   "outputs": [
    {
     "data": {
      "text/html": [
       "<div>\n",
       "<style scoped>\n",
       "    .dataframe tbody tr th:only-of-type {\n",
       "        vertical-align: middle;\n",
       "    }\n",
       "\n",
       "    .dataframe tbody tr th {\n",
       "        vertical-align: top;\n",
       "    }\n",
       "\n",
       "    .dataframe thead th {\n",
       "        text-align: right;\n",
       "    }\n",
       "</style>\n",
       "<table border=\"1\" class=\"dataframe\">\n",
       "  <thead>\n",
       "    <tr style=\"text-align: right;\">\n",
       "      <th></th>\n",
       "      <th>index</th>\n",
       "      <th>object_type</th>\n",
       "    </tr>\n",
       "  </thead>\n",
       "  <tbody>\n",
       "    <tr>\n",
       "      <th>0</th>\n",
       "      <td>кафе</td>\n",
       "      <td>1387</td>\n",
       "    </tr>\n",
       "    <tr>\n",
       "      <th>1</th>\n",
       "      <td>предприятие быстрого обслуживания</td>\n",
       "      <td>784</td>\n",
       "    </tr>\n",
       "    <tr>\n",
       "      <th>2</th>\n",
       "      <td>ресторан</td>\n",
       "      <td>541</td>\n",
       "    </tr>\n",
       "    <tr>\n",
       "      <th>3</th>\n",
       "      <td>магазин (отдел кулинарии)</td>\n",
       "      <td>78</td>\n",
       "    </tr>\n",
       "    <tr>\n",
       "      <th>4</th>\n",
       "      <td>закусочная</td>\n",
       "      <td>56</td>\n",
       "    </tr>\n",
       "    <tr>\n",
       "      <th>5</th>\n",
       "      <td>кафетерий</td>\n",
       "      <td>51</td>\n",
       "    </tr>\n",
       "    <tr>\n",
       "      <th>6</th>\n",
       "      <td>бар</td>\n",
       "      <td>37</td>\n",
       "    </tr>\n",
       "    <tr>\n",
       "      <th>7</th>\n",
       "      <td>буфет</td>\n",
       "      <td>11</td>\n",
       "    </tr>\n",
       "    <tr>\n",
       "      <th>8</th>\n",
       "      <td>столовая</td>\n",
       "      <td>3</td>\n",
       "    </tr>\n",
       "  </tbody>\n",
       "</table>\n",
       "</div>"
      ],
      "text/plain": [
       "                               index  object_type\n",
       "0                               кафе         1387\n",
       "1  предприятие быстрого обслуживания          784\n",
       "2                           ресторан          541\n",
       "3          магазин (отдел кулинарии)           78\n",
       "4                         закусочная           56\n",
       "5                          кафетерий           51\n",
       "6                                бар           37\n",
       "7                              буфет           11\n",
       "8                           столовая            3"
      ]
     },
     "metadata": {},
     "output_type": "display_data"
    },
    {
     "data": {
      "text/html": [
       "<div>\n",
       "<style scoped>\n",
       "    .dataframe tbody tr th:only-of-type {\n",
       "        vertical-align: middle;\n",
       "    }\n",
       "\n",
       "    .dataframe tbody tr th {\n",
       "        vertical-align: top;\n",
       "    }\n",
       "\n",
       "    .dataframe thead th {\n",
       "        text-align: right;\n",
       "    }\n",
       "</style>\n",
       "<table border=\"1\" class=\"dataframe\">\n",
       "  <thead>\n",
       "    <tr style=\"text-align: right;\">\n",
       "      <th></th>\n",
       "      <th>index</th>\n",
       "      <th>object_type</th>\n",
       "    </tr>\n",
       "  </thead>\n",
       "  <tbody>\n",
       "    <tr>\n",
       "      <th>0</th>\n",
       "      <td>кафе</td>\n",
       "      <td>4621</td>\n",
       "    </tr>\n",
       "    <tr>\n",
       "      <th>1</th>\n",
       "      <td>столовая</td>\n",
       "      <td>2572</td>\n",
       "    </tr>\n",
       "    <tr>\n",
       "      <th>2</th>\n",
       "      <td>ресторан</td>\n",
       "      <td>1733</td>\n",
       "    </tr>\n",
       "    <tr>\n",
       "      <th>3</th>\n",
       "      <td>предприятие быстрого обслуживания</td>\n",
       "      <td>1106</td>\n",
       "    </tr>\n",
       "    <tr>\n",
       "      <th>4</th>\n",
       "      <td>бар</td>\n",
       "      <td>816</td>\n",
       "    </tr>\n",
       "    <tr>\n",
       "      <th>5</th>\n",
       "      <td>буфет</td>\n",
       "      <td>559</td>\n",
       "    </tr>\n",
       "    <tr>\n",
       "      <th>6</th>\n",
       "      <td>кафетерий</td>\n",
       "      <td>342</td>\n",
       "    </tr>\n",
       "    <tr>\n",
       "      <th>7</th>\n",
       "      <td>закусочная</td>\n",
       "      <td>291</td>\n",
       "    </tr>\n",
       "    <tr>\n",
       "      <th>8</th>\n",
       "      <td>магазин (отдел кулинарии)</td>\n",
       "      <td>194</td>\n",
       "    </tr>\n",
       "  </tbody>\n",
       "</table>\n",
       "</div>"
      ],
      "text/plain": [
       "                               index  object_type\n",
       "0                               кафе         4621\n",
       "1                           столовая         2572\n",
       "2                           ресторан         1733\n",
       "3  предприятие быстрого обслуживания         1106\n",
       "4                                бар          816\n",
       "5                              буфет          559\n",
       "6                          кафетерий          342\n",
       "7                         закусочная          291\n",
       "8          магазин (отдел кулинарии)          194"
      ]
     },
     "metadata": {},
     "output_type": "display_data"
    }
   ],
   "source": [
    "display(df_chain_yes)\n",
    "display(df_chain_not)"
   ]
  },
  {
   "cell_type": "markdown",
   "metadata": {},
   "source": [
    "построим визуализацию по типам заведений в сетевых и несетевых сегментах"
   ]
  },
  {
   "cell_type": "code",
   "execution_count": 23,
   "metadata": {},
   "outputs": [
    {
     "data": {
      "image/png": "[encoded data removed]",
      "text/plain": [
       "<Figure size 1080x216 with 1 Axes>"
      ]
     },
     "metadata": {
      "needs_background": "light"
     },
     "output_type": "display_data"
    }
   ],
   "source": [
    "plt.figure(figsize = (15,3))\n",
    "fig = sns.barplot(data=df_chain_yes, x='index', y = 'object_type', alpha = 0.7)\n",
    "plt.xlabel(\"тип\")\n",
    "plt.ylabel(\"количество заведений\")\n",
    "plt.title('распределение сетевых заведений')\n",
    "fig.set_xticklabels(fig.get_xticklabels(), rotation=45, horizontalalignment='right')\n",
    "\n",
    "plt.show()"
   ]
  },
  {
   "cell_type": "code",
   "execution_count": 24,
   "metadata": {},
   "outputs": [
    {
     "data": {
      "image/png": "[encoded data removed]",
      "text/plain": [
       "<Figure size 1080x216 with 1 Axes>"
      ]
     },
     "metadata": {
      "needs_background": "light"
     },
     "output_type": "display_data"
    }
   ],
   "source": [
    "plt.figure(figsize = (15,3))\n",
    "fig = sns.barplot(data=df_chain_not, x='index', y = 'object_type', alpha = 0.7)\n",
    "plt.xlabel(\"тип\")\n",
    "plt.ylabel(\"количество заведений\")\n",
    "plt.title('распределение сетевых заведений')\n",
    "fig.set_xticklabels(fig.get_xticklabels(), rotation=45, horizontalalignment='right')\n",
    "plt.show()"
   ]
  },
  {
   "cell_type": "markdown",
   "metadata": {},
   "source": [
    "наиболее распространённый тип заведения среди сетевых и несетевых - кафе. Однако среди сетевых и несетевых есть различия - в сетевых преобладают предприятия быстрого обслуживания, в несетевых - столовые."
   ]
  },
  {
   "cell_type": "code",
   "execution_count": 25,
   "metadata": {},
   "outputs": [
    {
     "data": {
      "image/png": "[encoded data removed]",
      "text/plain": [
       "<Figure size 1080x432 with 1 Axes>"
      ]
     },
     "metadata": {
      "needs_background": "light"
     },
     "output_type": "display_data"
    }
   ],
   "source": [
    "plt.figure(figsize = (15,6))\n",
    "w = 0.3\n",
    "plt.bar(df_chain_not['index'], df_chain_not['object_type'], width=w, color = 'green', alpha = 0.5)\n",
    "plt.bar(df_chain_yes['index'], df_chain_yes['object_type'], width=w,color = 'orange', alpha = 0.9)\n",
    "plt.xticks(rotation=45, horizontalalignment='right')\n",
    "plt.xlabel(\"тип\")\n",
    "plt.ylabel(\"количество заведений\")\n",
    "plt.title('различия в распределениях по виду заведений в аспекте сетевых и несетевых ')\n",
    "plt.show()"
   ]
  },
  {
   "cell_type": "code",
   "execution_count": 26,
   "metadata": {},
   "outputs": [],
   "source": [
    "#переназначим переменные\n",
    "df_chain_yes = df.query('chain == \"да\"')\n",
    "df_chain_not = df.query('chain == \"нет\"')"
   ]
  },
  {
   "cell_type": "markdown",
   "metadata": {},
   "source": [
    "рассмотрим распределения по количеству посадочных мест в сетевых и несетевых сегментах"
   ]
  },
  {
   "cell_type": "code",
   "execution_count": 27,
   "metadata": {},
   "outputs": [
    {
     "data": {
      "image/png": "[encoded data removed]",
      "text/plain": [
       "<Figure size 1080x432 with 1 Axes>"
      ]
     },
     "metadata": {
      "needs_background": "light"
     },
     "output_type": "display_data"
    }
   ],
   "source": [
    "plt.figure(figsize = (15,6))\n",
    "plt.title('распределение по количеству мест для посадки сетевых и несетевых предприятий')\n",
    "df_chain_yes['number'].hist(bins = 50, grid = 10, color = 'green', alpha = 0.7) #зелёные - сетевые \n",
    "plt.xlabel(\"число посадочных мест\")\n",
    "plt.ylabel(\"количество\")\n",
    "df_chain_not['number'].hist(bins = 50, grid = 10, color = 'orange', alpha = 0.4) #оранжевые - несетевые \n",
    "\n",
    "plt.show()"
   ]
  },
  {
   "cell_type": "code",
   "execution_count": 28,
   "metadata": {},
   "outputs": [
    {
     "name": "stdout",
     "output_type": "stream",
     "text": [
      "медианное число посадочных мест сетевых предприятий 40.0\n",
      "медианное число посадочных мест несетевых предприятий 40.0\n"
     ]
    }
   ],
   "source": [
    "print('медианное число посадочных мест сетевых предприятий', df_chain_yes['number'].median())\n",
    "print('медианное число посадочных мест несетевых предприятий', df_chain_not['number'].median())\n"
   ]
  },
  {
   "cell_type": "code",
   "execution_count": 29,
   "metadata": {},
   "outputs": [
    {
     "name": "stdout",
     "output_type": "stream",
     "text": [
      "наиболее частое число посадочных мест сетевых предприятий 0    0\n",
      "dtype: int64\n",
      "наиболее частое число посадочных мест несетевых предприятий 0    0\n",
      "dtype: int64\n"
     ]
    }
   ],
   "source": [
    "print('наиболее частое число посадочных мест сетевых предприятий', df_chain_yes['number'].mode())\n",
    "print('наиболее частое число посадочных мест несетевых предприятий', df_chain_not['number'].mode())"
   ]
  },
  {
   "cell_type": "markdown",
   "metadata": {},
   "source": [
    "Медианные значения количества посадочных мест не отличаются. Однако очевидно, что для сетевых и несетевых предприятий характерно большое количество заведений с малой посадкой (если считать 40 человек - малой вместительностью)."
   ]
  },
  {
   "cell_type": "markdown",
   "metadata": {},
   "source": [
    "<div class=\"alert alert-block alert-success\">\n",
    "<b>Комментарий от ревьюера</b>\n",
    "\n",
    "Отличный график! Не так много мест нам требуется в заведении. :)\n",
    "</div>"
   ]
  },
  {
   "cell_type": "markdown",
   "metadata": {},
   "source": [
    "Определим среднее количество посадочных мест для каждого объекта."
   ]
  },
  {
   "cell_type": "code",
   "execution_count": 30,
   "metadata": {},
   "outputs": [
    {
     "data": {
      "text/html": [
       "<div>\n",
       "<style scoped>\n",
       "    .dataframe tbody tr th:only-of-type {\n",
       "        vertical-align: middle;\n",
       "    }\n",
       "\n",
       "    .dataframe tbody tr th {\n",
       "        vertical-align: top;\n",
       "    }\n",
       "\n",
       "    .dataframe thead th {\n",
       "        text-align: right;\n",
       "    }\n",
       "</style>\n",
       "<table border=\"1\" class=\"dataframe\">\n",
       "  <thead>\n",
       "    <tr style=\"text-align: right;\">\n",
       "      <th></th>\n",
       "      <th>object_type</th>\n",
       "      <th>number</th>\n",
       "    </tr>\n",
       "  </thead>\n",
       "  <tbody>\n",
       "    <tr>\n",
       "      <th>0</th>\n",
       "      <td>столовая</td>\n",
       "      <td>130.367767</td>\n",
       "    </tr>\n",
       "    <tr>\n",
       "      <th>1</th>\n",
       "      <td>ресторан</td>\n",
       "      <td>97.065963</td>\n",
       "    </tr>\n",
       "    <tr>\n",
       "      <th>2</th>\n",
       "      <td>буфет</td>\n",
       "      <td>51.487719</td>\n",
       "    </tr>\n",
       "    <tr>\n",
       "      <th>3</th>\n",
       "      <td>бар</td>\n",
       "      <td>43.602579</td>\n",
       "    </tr>\n",
       "    <tr>\n",
       "      <th>4</th>\n",
       "      <td>кафе</td>\n",
       "      <td>39.886984</td>\n",
       "    </tr>\n",
       "    <tr>\n",
       "      <th>5</th>\n",
       "      <td>предприятие быстрого обслуживания</td>\n",
       "      <td>20.787302</td>\n",
       "    </tr>\n",
       "    <tr>\n",
       "      <th>6</th>\n",
       "      <td>кафетерий</td>\n",
       "      <td>9.221374</td>\n",
       "    </tr>\n",
       "    <tr>\n",
       "      <th>7</th>\n",
       "      <td>закусочная</td>\n",
       "      <td>7.685879</td>\n",
       "    </tr>\n",
       "    <tr>\n",
       "      <th>8</th>\n",
       "      <td>магазин (отдел кулинарии)</td>\n",
       "      <td>5.610294</td>\n",
       "    </tr>\n",
       "  </tbody>\n",
       "</table>\n",
       "</div>"
      ],
      "text/plain": [
       "                         object_type      number\n",
       "0                           столовая  130.367767\n",
       "1                           ресторан   97.065963\n",
       "2                              буфет   51.487719\n",
       "3                                бар   43.602579\n",
       "4                               кафе   39.886984\n",
       "5  предприятие быстрого обслуживания   20.787302\n",
       "6                          кафетерий    9.221374\n",
       "7                         закусочная    7.685879\n",
       "8          магазин (отдел кулинарии)    5.610294"
      ]
     },
     "execution_count": 30,
     "metadata": {},
     "output_type": "execute_result"
    }
   ],
   "source": [
    "df_mean_number = df.groupby('object_type')['number'].mean().sort_values(ascending = False).reset_index()\n",
    "df_mean_number\n",
    "\n"
   ]
  },
  {
   "cell_type": "code",
   "execution_count": null,
   "metadata": {},
   "outputs": [],
   "source": []
  },
  {
   "cell_type": "code",
   "execution_count": 31,
   "metadata": {},
   "outputs": [
    {
     "data": {
      "image/png": "[encoded data removed]",
      "text/plain": [
       "<Figure size 1080x216 with 1 Axes>"
      ]
     },
     "metadata": {
      "needs_background": "light"
     },
     "output_type": "display_data"
    }
   ],
   "source": [
    "plt.figure(figsize = (15,3))\n",
    "plt.title('распределение по количеству мест для посадки по видам заведений')\n",
    "plt.plot(df_mean_number.object_type, df_mean_number.number, 'g^', alpha = 0.6)\n",
    "plt.xticks(rotation=45,  horizontalalignment='right')\n",
    "plt.xlabel(\"тип\")\n",
    "plt.ylabel(\"среднее количество посадочных мест\")\n",
    "plt.show()"
   ]
  },
  {
   "cell_type": "markdown",
   "metadata": {},
   "source": [
    "Столовые в среднем обладают самым большиим числом посадочных мест в среднем 130."
   ]
  },
  {
   "cell_type": "code",
   "execution_count": 32,
   "metadata": {},
   "outputs": [],
   "source": [
    "df['address_street'] = df['address'].str.extract('(([а-яА-Я1-9\\-ё\\s\"]+)?(улица|километр|территория|аллея|бульвар|деревня|квартал|линия|микрорайон|мост|набережная|парк|переулок|площадь|посёлок|село|проезд|проектируемый проезд|просек|поселение|проспект|тупик|шоссе|зеленоград)([а-яА-Яё1-9\\-\\s\"]+)?)')[0]\n",
    "\n"
   ]
  },
  {
   "cell_type": "code",
   "execution_count": 33,
   "metadata": {},
   "outputs": [
    {
     "data": {
      "image/png": "[encoded data removed]",
      "text/plain": [
       "<Figure size 1080x432 with 1 Axes>"
      ]
     },
     "metadata": {
      "needs_background": "light"
     },
     "output_type": "display_data"
    }
   ],
   "source": [
    "most_density = df['address_street'].value_counts().head(10).to_frame().reset_index()\n",
    "plt.figure(figsize = (15,6))\n",
    "plt.title('распределение по количеству заведений по локациям')\n",
    "plt.xlabel(\"локация\")\n",
    "plt.ylabel(\"количество заведений\")\n",
    "plt.bar(most_density['index'], most_density['address_street'], width=w,color = 'orange', alpha = 0.5)\n",
    "plt.xticks(rotation=45,  horizontalalignment='right')\n",
    "plt.show()"
   ]
  },
  {
   "cell_type": "code",
   "execution_count": 34,
   "metadata": {},
   "outputs": [
    {
     "data": {
      "text/html": [
       "<div>\n",
       "<style scoped>\n",
       "    .dataframe tbody tr th:only-of-type {\n",
       "        vertical-align: middle;\n",
       "    }\n",
       "\n",
       "    .dataframe tbody tr th {\n",
       "        vertical-align: top;\n",
       "    }\n",
       "\n",
       "    .dataframe thead th {\n",
       "        text-align: right;\n",
       "    }\n",
       "</style>\n",
       "<table border=\"1\" class=\"dataframe\">\n",
       "  <thead>\n",
       "    <tr style=\"text-align: right;\">\n",
       "      <th></th>\n",
       "      <th>index</th>\n",
       "      <th>address_street</th>\n",
       "    </tr>\n",
       "  </thead>\n",
       "  <tbody>\n",
       "    <tr>\n",
       "      <th>0</th>\n",
       "      <td>проспект Мира</td>\n",
       "      <td>196</td>\n",
       "    </tr>\n",
       "    <tr>\n",
       "      <th>1</th>\n",
       "      <td>Профсоюзная улица</td>\n",
       "      <td>180</td>\n",
       "    </tr>\n",
       "    <tr>\n",
       "      <th>2</th>\n",
       "      <td>Ленинградский проспект</td>\n",
       "      <td>170</td>\n",
       "    </tr>\n",
       "    <tr>\n",
       "      <th>3</th>\n",
       "      <td>Пресненская набережная</td>\n",
       "      <td>165</td>\n",
       "    </tr>\n",
       "    <tr>\n",
       "      <th>4</th>\n",
       "      <td>Варшавское шоссе</td>\n",
       "      <td>161</td>\n",
       "    </tr>\n",
       "    <tr>\n",
       "      <th>5</th>\n",
       "      <td>Ленинский проспект</td>\n",
       "      <td>147</td>\n",
       "    </tr>\n",
       "    <tr>\n",
       "      <th>6</th>\n",
       "      <td>поселение Сосенское</td>\n",
       "      <td>137</td>\n",
       "    </tr>\n",
       "    <tr>\n",
       "      <th>7</th>\n",
       "      <td>проспект Вернадского</td>\n",
       "      <td>126</td>\n",
       "    </tr>\n",
       "    <tr>\n",
       "      <th>8</th>\n",
       "      <td>Кутузовский проспект</td>\n",
       "      <td>114</td>\n",
       "    </tr>\n",
       "    <tr>\n",
       "      <th>9</th>\n",
       "      <td>Каширское шоссе</td>\n",
       "      <td>110</td>\n",
       "    </tr>\n",
       "  </tbody>\n",
       "</table>\n",
       "</div>"
      ],
      "text/plain": [
       "                     index  address_street\n",
       "0            проспект Мира             196\n",
       "1        Профсоюзная улица             180\n",
       "2   Ленинградский проспект             170\n",
       "3   Пресненская набережная             165\n",
       "4         Варшавское шоссе             161\n",
       "5       Ленинский проспект             147\n",
       "6      поселение Сосенское             137\n",
       "7     проспект Вернадского             126\n",
       "8     Кутузовский проспект             114\n",
       "9          Каширское шоссе             110"
      ]
     },
     "execution_count": 34,
     "metadata": {},
     "output_type": "execute_result"
    }
   ],
   "source": [
    "most_density"
   ]
  },
  {
   "cell_type": "markdown",
   "metadata": {},
   "source": [
    "Логично, что наибольшее число заведений расположено на длинных и шоссе, проспектах и магистралях, соприкасающихся с кольцевыми дорогами. "
   ]
  },
  {
   "cell_type": "code",
   "execution_count": 35,
   "metadata": {},
   "outputs": [
    {
     "data": {
      "text/plain": [
       "False    1359\n",
       "True      590\n",
       "Name: address_street, dtype: int64"
      ]
     },
     "execution_count": 35,
     "metadata": {},
     "output_type": "execute_result"
    }
   ],
   "source": [
    "(df['address_street'].value_counts() == 1).value_counts()"
   ]
  },
  {
   "cell_type": "markdown",
   "metadata": {},
   "source": [
    "Почти 600 улиц с единственным заведением"
   ]
  },
  {
   "cell_type": "code",
   "execution_count": 36,
   "metadata": {},
   "outputs": [
    {
     "data": {
      "text/plain": [
       " 2-й Иртышский проезд               1\n",
       " Лечебная улица                     1\n",
       " Курганская улица                   1\n",
       " Олонецкий проезд                   1\n",
       " проезд Черепановых                 1\n",
       " 2-й Новоподмосковный переулок      1\n",
       " 5-й Монетчиковский переулок        1\n",
       " улица Рогожский Посёлок            1\n",
       " 2-я улица Марьиной Рощи            1\n",
       "Краснобогатырская улица             1\n",
       " Пожарский переулок                 1\n",
       " Песчаная улица                     1\n",
       " 2-й Сельскохозяйственный проезд    1\n",
       " Тарусская улица                    1\n",
       " 3-й Павловский переулок            1\n",
       " улица Богородский Вал              1\n",
       " 2-й Балтийский переулок            1\n",
       " проспект 4                         1\n",
       " Скатертный переулок                1\n",
       " Козицкий переулок                  1\n",
       " Садовая-Сухаревская улица          1\n",
       "Калашный переулок                   1\n",
       " 2-я улица Бухвостова               1\n",
       " Малый Ивановский переулок          1\n",
       " улица Можайский Вал                1\n",
       " 1-й Кожуховский проезд             1\n",
       " Бескудниковский проезд             1\n",
       " улица Рокотова                     1\n",
       " Верхний Золоторожский переулок     1\n",
       " Черниговский переулок              1\n",
       " 2-й Курьяновский проезд            1\n",
       " Жуков проезд                       1\n",
       " Интернациональная улица            1\n",
       " Парусный проезд                    1\n",
       " Сумская улица                      1\n",
       " Платовская улица                   1\n",
       " Лениногорская улица                1\n",
       " Петроверигский переулок            1\n",
       " 2-я Ямская улица                   1\n",
       " 2-я Прядильная улица               1\n",
       " 14-я Парковая улица                1\n",
       " улица Айвазовского                 1\n",
       " Таганрогская улица                 1\n",
       " Учинская улица                     1\n",
       " Гончарная набережная               1\n",
       " 1-й Лучевой просек                 1\n",
       " 17-й проезд Марьиной Рощи          1\n",
       " 3-я Железногорская улица           1\n",
       " улица Академика Петровского        1\n",
       " Нелидовская улица                  1\n",
       "Name: address_street, dtype: int64"
      ]
     },
     "execution_count": 36,
     "metadata": {},
     "output_type": "execute_result"
    }
   ],
   "source": [
    "df['address_street'].value_counts().tail(50)"
   ]
  },
  {
   "cell_type": "markdown",
   "metadata": {},
   "source": [
    "Объяснимо, что наибольшее число улиц с единственным заведением - это переулки, либо короткие улицы, а также малозаселённые улицы новой Москвы, либо аллеи в парках (типа просек в Сокольниках). "
   ]
  },
  {
   "cell_type": "code",
   "execution_count": 37,
   "metadata": {},
   "outputs": [],
   "source": [
    "#загружаем фрейм с районами г. Москвы и улицами\n",
    "districts = pd.read_csv('https://www.dropbox.com/s/rmraw6o3vtiwdd3/mosgaz-streets.csv?dl=1')"
   ]
  },
  {
   "cell_type": "code",
   "execution_count": 38,
   "metadata": {},
   "outputs": [],
   "source": [
    "#делаем фрейм: группируем по количеству заведений на улице, при этом фильтруем по единственному заведению на улице \n",
    "one_caffee = (df.groupby('address_street').count() == 1).reset_index()"
   ]
  },
  {
   "cell_type": "code",
   "execution_count": 39,
   "metadata": {},
   "outputs": [
    {
     "data": {
      "text/html": [
       "<div>\n",
       "<style scoped>\n",
       "    .dataframe tbody tr th:only-of-type {\n",
       "        vertical-align: middle;\n",
       "    }\n",
       "\n",
       "    .dataframe tbody tr th {\n",
       "        vertical-align: top;\n",
       "    }\n",
       "\n",
       "    .dataframe thead th {\n",
       "        text-align: right;\n",
       "    }\n",
       "</style>\n",
       "<table border=\"1\" class=\"dataframe\">\n",
       "  <thead>\n",
       "    <tr style=\"text-align: right;\">\n",
       "      <th></th>\n",
       "      <th>index</th>\n",
       "      <th>address_street</th>\n",
       "    </tr>\n",
       "  </thead>\n",
       "  <tbody>\n",
       "    <tr>\n",
       "      <th>0</th>\n",
       "      <td>2</td>\n",
       "      <td>1-й Балтийский переулок</td>\n",
       "    </tr>\n",
       "    <tr>\n",
       "      <th>1</th>\n",
       "      <td>3</td>\n",
       "      <td>1-й Басманный переулок</td>\n",
       "    </tr>\n",
       "    <tr>\n",
       "      <th>2</th>\n",
       "      <td>4</td>\n",
       "      <td>1-й Ботанический проезд</td>\n",
       "    </tr>\n",
       "    <tr>\n",
       "      <th>3</th>\n",
       "      <td>7</td>\n",
       "      <td>1-й Вешняковский проезд</td>\n",
       "    </tr>\n",
       "    <tr>\n",
       "      <th>4</th>\n",
       "      <td>9</td>\n",
       "      <td>1-й Голутвинский переулок</td>\n",
       "    </tr>\n",
       "    <tr>\n",
       "      <th>...</th>\n",
       "      <td>...</td>\n",
       "      <td>...</td>\n",
       "    </tr>\n",
       "    <tr>\n",
       "      <th>585</th>\n",
       "      <td>1942</td>\n",
       "      <td>улица Знаменка</td>\n",
       "    </tr>\n",
       "    <tr>\n",
       "      <th>586</th>\n",
       "      <td>1943</td>\n",
       "      <td>улица Каманина</td>\n",
       "    </tr>\n",
       "    <tr>\n",
       "      <th>587</th>\n",
       "      <td>1946</td>\n",
       "      <td>улица Миклухо-Маклая</td>\n",
       "    </tr>\n",
       "    <tr>\n",
       "      <th>588</th>\n",
       "      <td>1947</td>\n",
       "      <td>улица Обручева</td>\n",
       "    </tr>\n",
       "    <tr>\n",
       "      <th>589</th>\n",
       "      <td>1948</td>\n",
       "      <td>улица Сергея Макеева</td>\n",
       "    </tr>\n",
       "  </tbody>\n",
       "</table>\n",
       "<p>590 rows × 2 columns</p>\n",
       "</div>"
      ],
      "text/plain": [
       "     index             address_street\n",
       "0        2    1-й Балтийский переулок\n",
       "1        3     1-й Басманный переулок\n",
       "2        4    1-й Ботанический проезд\n",
       "3        7    1-й Вешняковский проезд\n",
       "4        9  1-й Голутвинский переулок\n",
       "..     ...                        ...\n",
       "585   1942             улица Знаменка\n",
       "586   1943             улица Каманина\n",
       "587   1946       улица Миклухо-Маклая\n",
       "588   1947             улица Обручева\n",
       "589   1948       улица Сергея Макеева\n",
       "\n",
       "[590 rows x 2 columns]"
      ]
     },
     "metadata": {},
     "output_type": "display_data"
    }
   ],
   "source": [
    "#сделаем фрейм с \"одинокими\" улицами \n",
    "one_caffee_series = one_caffee[one_caffee['id'] == True]['address_street'].to_frame().reset_index()\n",
    "one_caffee_series['address_street'] = one_caffee_series['address_street'].map(str.strip) #уберём лишний пробельчик в названии улиц\n",
    "display(one_caffee_series)"
   ]
  },
  {
   "cell_type": "markdown",
   "metadata": {},
   "source": [
    "Мерджим районы с \"одинокими\" улицами"
   ]
  },
  {
   "cell_type": "code",
   "execution_count": 40,
   "metadata": {},
   "outputs": [],
   "source": [
    "one_caffee_series_district = one_caffee_series.merge(districts, how = 'left', right_on = 'streetname', left_on = 'address_street', )"
   ]
  },
  {
   "cell_type": "code",
   "execution_count": 41,
   "metadata": {},
   "outputs": [],
   "source": [
    "one_caffee_series_district = one_caffee_series_district.dropna() #дропаем все пустоты\n",
    "one_cafee_street_top_10_areas = one_caffee_series_district['area'].value_counts().head(10).to_frame().reset_index()"
   ]
  },
  {
   "cell_type": "code",
   "execution_count": 42,
   "metadata": {},
   "outputs": [
    {
     "data": {
      "text/html": [
       "<div>\n",
       "<style scoped>\n",
       "    .dataframe tbody tr th:only-of-type {\n",
       "        vertical-align: middle;\n",
       "    }\n",
       "\n",
       "    .dataframe tbody tr th {\n",
       "        vertical-align: top;\n",
       "    }\n",
       "\n",
       "    .dataframe thead th {\n",
       "        text-align: right;\n",
       "    }\n",
       "</style>\n",
       "<table border=\"1\" class=\"dataframe\">\n",
       "  <thead>\n",
       "    <tr style=\"text-align: right;\">\n",
       "      <th></th>\n",
       "      <th>index</th>\n",
       "      <th>area</th>\n",
       "    </tr>\n",
       "  </thead>\n",
       "  <tbody>\n",
       "    <tr>\n",
       "      <th>0</th>\n",
       "      <td>Таганский район</td>\n",
       "      <td>32</td>\n",
       "    </tr>\n",
       "    <tr>\n",
       "      <th>1</th>\n",
       "      <td>Район Хамовники</td>\n",
       "      <td>28</td>\n",
       "    </tr>\n",
       "    <tr>\n",
       "      <th>2</th>\n",
       "      <td>Басманный район</td>\n",
       "      <td>26</td>\n",
       "    </tr>\n",
       "    <tr>\n",
       "      <th>3</th>\n",
       "      <td>Тверской район</td>\n",
       "      <td>25</td>\n",
       "    </tr>\n",
       "    <tr>\n",
       "      <th>4</th>\n",
       "      <td>Пресненский район</td>\n",
       "      <td>24</td>\n",
       "    </tr>\n",
       "    <tr>\n",
       "      <th>5</th>\n",
       "      <td>Район Арбат</td>\n",
       "      <td>19</td>\n",
       "    </tr>\n",
       "    <tr>\n",
       "      <th>6</th>\n",
       "      <td>Район Марьина роща</td>\n",
       "      <td>18</td>\n",
       "    </tr>\n",
       "    <tr>\n",
       "      <th>7</th>\n",
       "      <td>Мещанский район</td>\n",
       "      <td>18</td>\n",
       "    </tr>\n",
       "    <tr>\n",
       "      <th>8</th>\n",
       "      <td>Район Сокольники</td>\n",
       "      <td>15</td>\n",
       "    </tr>\n",
       "    <tr>\n",
       "      <th>9</th>\n",
       "      <td>Район Замоскворечье</td>\n",
       "      <td>15</td>\n",
       "    </tr>\n",
       "  </tbody>\n",
       "</table>\n",
       "</div>"
      ],
      "text/plain": [
       "                 index  area\n",
       "0      Таганский район    32\n",
       "1      Район Хамовники    28\n",
       "2      Басманный район    26\n",
       "3       Тверской район    25\n",
       "4    Пресненский район    24\n",
       "5          Район Арбат    19\n",
       "6   Район Марьина роща    18\n",
       "7      Мещанский район    18\n",
       "8     Район Сокольники    15\n",
       "9  Район Замоскворечье    15"
      ]
     },
     "metadata": {},
     "output_type": "display_data"
    },
    {
     "data": {
      "image/png": "[encoded data removed]",
      "text/plain": [
       "<Figure size 1080x432 with 1 Axes>"
      ]
     },
     "metadata": {
      "needs_background": "light"
     },
     "output_type": "display_data"
    }
   ],
   "source": [
    "display(one_cafee_street_top_10_areas)\n",
    "plt.figure(figsize = (15,6))\n",
    "plt.title('распределение по количеству заведений по локациям')\n",
    "plt.xlabel(\"район\")\n",
    "plt.ylabel(\"количество улиц с единственным заведением\")\n",
    "plt.bar(one_cafee_street_top_10_areas['index'], one_cafee_street_top_10_areas['area'], width=w,color = 'green', alpha = 0.5)\n",
    "plt.xticks(rotation=45,  horizontalalignment='right')\n",
    "plt.show()"
   ]
  },
  {
   "cell_type": "code",
   "execution_count": 43,
   "metadata": {},
   "outputs": [],
   "source": [
    "list_one_cafee = one_caffee[one_caffee['id'] == True]['address_street'].to_list()"
   ]
  },
  {
   "cell_type": "code",
   "execution_count": 44,
   "metadata": {},
   "outputs": [
    {
     "data": {
      "image/png": "[encoded data removed]",
      "text/plain": [
       "<Figure size 432x288 with 1 Axes>"
      ]
     },
     "metadata": {
      "needs_background": "light"
     },
     "output_type": "display_data"
    }
   ],
   "source": [
    "df[df['address_street'].isin(list_one_cafee)]['number'].hist(bins = 100, color = 'green', alpha = 0.5)\n",
    "plt.title('число посадочных мест на улицах с одним заведением')\n",
    "plt.xlabel(\"количество\")\n",
    "plt.ylabel(\"число посадочных мест\")\n",
    "plt.xlim([0, 500])\n",
    "plt.show()"
   ]
  },
  {
   "cell_type": "code",
   "execution_count": 45,
   "metadata": {},
   "outputs": [
    {
     "data": {
      "image/png": "[encoded data removed]",
      "text/plain": [
       "<Figure size 432x288 with 1 Axes>"
      ]
     },
     "metadata": {
      "needs_background": "light"
     },
     "output_type": "display_data"
    }
   ],
   "source": [
    "df[df['address_street'].isin(list_one_cafee) == False]['number'].hist(bins = 100, color = 'orange', alpha = 0.5)\n",
    "plt.title('число посадочных мест на улицах с БОЛЕЕ чем одним заведением')\n",
    "plt.xlabel(\"количество\")\n",
    "plt.ylabel(\"число посадочных мест\")\n",
    "plt.xlim([0, 500])\n",
    "plt.show()"
   ]
  },
  {
   "cell_type": "code",
   "execution_count": 46,
   "metadata": {},
   "outputs": [
    {
     "name": "stdout",
     "output_type": "stream",
     "text": [
      "описание распределений на малых улицах с одним заведением:\n",
      "count    590.000000\n",
      "mean      80.247458\n",
      "std       74.240213\n",
      "min        0.000000\n",
      "25%       30.000000\n",
      "50%       50.000000\n",
      "75%      100.000000\n",
      "max      456.000000\n",
      "Name: number, dtype: float64\n",
      "\n",
      "\n",
      "\n",
      "описание распределений на больших улицах с множеством заведений:\n",
      "count    14592.000000\n",
      "mean        59.098547\n",
      "std         74.896908\n",
      "min          0.000000\n",
      "25%         12.000000\n",
      "50%         40.000000\n",
      "75%         80.000000\n",
      "max       1700.000000\n",
      "Name: number, dtype: float64\n"
     ]
    }
   ],
   "source": [
    "print('описание распределений на малых улицах с одним заведением:')\n",
    "print(df[df['address_street'].isin(list_one_cafee)]['number'].describe())\n",
    "print('')\n",
    "print('')\n",
    "print('')\n",
    "print('описание распределений на больших улицах с множеством заведений:')\n",
    "print(df[df['address_street'].isin(list_one_cafee) == False]['number'].describe())"
   ]
  },
  {
   "cell_type": "markdown",
   "metadata": {},
   "source": [
    "### Вывод"
   ]
  },
  {
   "cell_type": "markdown",
   "metadata": {},
   "source": [
    "Описание показало, что среднее число посадочных мест выше на малых улицах. Возможно это связано с стоимостью аренды и наличием банкетных и столовых, существенно влияющих на средние показатели."
   ]
  },
  {
   "cell_type": "markdown",
   "metadata": {},
   "source": [
    "## Общий вывод"
   ]
  },
  {
   "cell_type": "markdown",
   "metadata": {},
   "source": [
    "Кафе для целей нашего перспективного проекта - наиболее предпочтительное заведение. Количество мест, в заведении, необходимое для начала реализации проекта - 40. Локацией-началом реализации проекта следует принять - коммунарку или пресненскую наб. (как наиболее плотные). Для проверки продуктовых гипотез на улицах с плотностью заведений общепита - следует рассмотреть Таганский район, Хамовники, и Басманный. Реализация сетевых проектов потребует поиска локаций с постоянным и ежедневным трафиком - преимущественно бизнес-центры и густонаселённые перспективные спальные районы типа коммунарки (Сосенское)."
   ]
  },
  {
   "cell_type": "markdown",
   "metadata": {},
   "source": [
    "**Презентация** https://disk.yandex.ru/i/W22fgLLqdnwRlQ"
   ]
  }
 ],
 "metadata": {
  "ExecuteTimeLog": [
   {
    "duration": 1469,
    "start_time": "2021-10-22T17:53:04.787Z"
   },
   {
    "duration": 59,
    "start_time": "2021-10-22T17:53:06.259Z"
   },
   {
    "duration": 23,
    "start_time": "2021-10-22T17:53:21.856Z"
   },
   {
    "duration": 18,
    "start_time": "2021-10-22T17:54:25.363Z"
   },
   {
    "duration": 37,
    "start_time": "2021-10-22T17:56:07.371Z"
   },
   {
    "duration": 18,
    "start_time": "2021-10-22T17:56:21.069Z"
   },
   {
    "duration": 21,
    "start_time": "2021-10-22T17:57:26.889Z"
   },
   {
    "duration": 25,
    "start_time": "2021-10-22T18:05:27.639Z"
   },
   {
    "duration": 21,
    "start_time": "2021-10-22T18:05:32.472Z"
   },
   {
    "duration": 22,
    "start_time": "2021-10-22T18:06:23.349Z"
   },
   {
    "duration": 23,
    "start_time": "2021-10-22T18:06:35.136Z"
   },
   {
    "duration": 29,
    "start_time": "2021-10-22T18:06:41.264Z"
   },
   {
    "duration": 41,
    "start_time": "2021-10-22T18:07:12.991Z"
   },
   {
    "duration": 11,
    "start_time": "2021-10-22T18:10:18.884Z"
   },
   {
    "duration": 212,
    "start_time": "2021-10-23T11:31:48.245Z"
   },
   {
    "duration": 1017,
    "start_time": "2021-10-23T11:31:54.216Z"
   },
   {
    "duration": 45,
    "start_time": "2021-10-23T11:31:55.235Z"
   },
   {
    "duration": 30,
    "start_time": "2021-10-23T11:31:55.281Z"
   },
   {
    "duration": 12,
    "start_time": "2021-10-23T11:31:55.312Z"
   },
   {
    "duration": 9,
    "start_time": "2021-10-23T11:31:55.326Z"
   },
   {
    "duration": 6,
    "start_time": "2021-10-23T11:31:55.336Z"
   },
   {
    "duration": 8,
    "start_time": "2021-10-23T11:32:34.711Z"
   },
   {
    "duration": 7,
    "start_time": "2021-10-23T11:34:22.442Z"
   },
   {
    "duration": 14,
    "start_time": "2021-10-23T11:38:51.135Z"
   },
   {
    "duration": 23,
    "start_time": "2021-10-23T11:39:01.860Z"
   },
   {
    "duration": 4360,
    "start_time": "2021-10-23T11:44:06.452Z"
   },
   {
    "duration": 4924,
    "start_time": "2021-10-23T11:44:22.931Z"
   },
   {
    "duration": 4711,
    "start_time": "2021-10-23T11:44:39.575Z"
   },
   {
    "duration": 4378,
    "start_time": "2021-10-23T11:44:59.717Z"
   },
   {
    "duration": 4,
    "start_time": "2021-10-23T11:45:53.955Z"
   },
   {
    "duration": 5,
    "start_time": "2021-10-23T11:47:05.948Z"
   },
   {
    "duration": 10,
    "start_time": "2021-10-23T11:47:11.336Z"
   },
   {
    "duration": 10,
    "start_time": "2021-10-23T11:47:19.677Z"
   },
   {
    "duration": 12,
    "start_time": "2021-10-23T11:47:32.522Z"
   },
   {
    "duration": 13,
    "start_time": "2021-10-23T11:48:06.077Z"
   },
   {
    "duration": 31,
    "start_time": "2021-10-23T12:07:50.075Z"
   },
   {
    "duration": 23,
    "start_time": "2021-10-23T12:08:17.300Z"
   },
   {
    "duration": 16,
    "start_time": "2021-10-23T12:08:35.801Z"
   },
   {
    "duration": 22,
    "start_time": "2021-10-23T12:22:28.724Z"
   },
   {
    "duration": 1184,
    "start_time": "2021-10-23T12:22:34.598Z"
   },
   {
    "duration": 43,
    "start_time": "2021-10-23T12:22:35.784Z"
   },
   {
    "duration": 29,
    "start_time": "2021-10-23T12:22:35.829Z"
   },
   {
    "duration": 13,
    "start_time": "2021-10-23T12:22:35.860Z"
   },
   {
    "duration": 22,
    "start_time": "2021-10-23T12:22:35.874Z"
   },
   {
    "duration": 15,
    "start_time": "2021-10-23T12:22:35.898Z"
   },
   {
    "duration": 22,
    "start_time": "2021-10-23T12:22:35.914Z"
   },
   {
    "duration": 23,
    "start_time": "2021-10-23T12:23:18.030Z"
   },
   {
    "duration": 1059,
    "start_time": "2021-10-24T10:39:30.011Z"
   },
   {
    "duration": 43,
    "start_time": "2021-10-24T10:39:31.072Z"
   },
   {
    "duration": 34,
    "start_time": "2021-10-24T10:39:31.117Z"
   },
   {
    "duration": 13,
    "start_time": "2021-10-24T10:39:31.152Z"
   },
   {
    "duration": 26,
    "start_time": "2021-10-24T10:39:31.166Z"
   },
   {
    "duration": 22,
    "start_time": "2021-10-24T10:39:31.194Z"
   },
   {
    "duration": 22,
    "start_time": "2021-10-24T10:39:31.218Z"
   },
   {
    "duration": 12,
    "start_time": "2021-10-24T10:39:31.242Z"
   },
   {
    "duration": 183,
    "start_time": "2021-10-24T10:40:06.810Z"
   },
   {
    "duration": 7,
    "start_time": "2021-10-24T10:40:25.581Z"
   },
   {
    "duration": 1074,
    "start_time": "2021-10-24T13:34:51.762Z"
   },
   {
    "duration": 61,
    "start_time": "2021-10-24T13:34:52.839Z"
   },
   {
    "duration": 51,
    "start_time": "2021-10-24T13:34:52.903Z"
   },
   {
    "duration": 16,
    "start_time": "2021-10-24T13:34:52.957Z"
   },
   {
    "duration": 17,
    "start_time": "2021-10-24T13:34:52.974Z"
   },
   {
    "duration": 14,
    "start_time": "2021-10-24T13:34:52.992Z"
   },
   {
    "duration": 20,
    "start_time": "2021-10-24T13:34:53.008Z"
   },
   {
    "duration": 5,
    "start_time": "2021-10-24T13:34:53.030Z"
   },
   {
    "duration": 6,
    "start_time": "2021-10-24T13:34:58.490Z"
   },
   {
    "duration": 271,
    "start_time": "2021-10-24T13:35:08.977Z"
   },
   {
    "duration": 4,
    "start_time": "2021-10-24T13:35:13.805Z"
   },
   {
    "duration": 6,
    "start_time": "2021-10-24T13:35:24.186Z"
   },
   {
    "duration": 6,
    "start_time": "2021-10-24T13:35:28.252Z"
   },
   {
    "duration": 712,
    "start_time": "2021-10-24T13:37:28.940Z"
   },
   {
    "duration": 4,
    "start_time": "2021-10-24T13:37:43.244Z"
   },
   {
    "duration": 6,
    "start_time": "2021-10-24T13:37:52.643Z"
   },
   {
    "duration": 178,
    "start_time": "2021-10-24T13:39:52.095Z"
   },
   {
    "duration": 5,
    "start_time": "2021-10-24T13:39:54.903Z"
   },
   {
    "duration": 6,
    "start_time": "2021-10-24T13:39:55.344Z"
   },
   {
    "duration": 4,
    "start_time": "2021-10-24T13:41:20.177Z"
   },
   {
    "duration": 4904,
    "start_time": "2021-10-24T13:41:32.854Z"
   },
   {
    "duration": 4,
    "start_time": "2021-10-24T13:41:40.099Z"
   },
   {
    "duration": 319,
    "start_time": "2021-10-24T13:43:46.977Z"
   },
   {
    "duration": 324,
    "start_time": "2021-10-24T13:44:09.197Z"
   },
   {
    "duration": 311,
    "start_time": "2021-10-24T13:44:12.832Z"
   },
   {
    "duration": 55,
    "start_time": "2021-10-24T13:44:31.464Z"
   },
   {
    "duration": 87,
    "start_time": "2021-10-24T13:44:45.044Z"
   },
   {
    "duration": 92,
    "start_time": "2021-10-24T13:46:19.814Z"
   },
   {
    "duration": 128,
    "start_time": "2021-10-24T13:46:25.337Z"
   },
   {
    "duration": 5,
    "start_time": "2021-10-24T13:46:41.671Z"
   },
   {
    "duration": 5,
    "start_time": "2021-10-24T13:47:16.182Z"
   },
   {
    "duration": 4,
    "start_time": "2021-10-24T13:47:18.793Z"
   },
   {
    "duration": 6,
    "start_time": "2021-10-24T13:47:32.426Z"
   },
   {
    "duration": 3,
    "start_time": "2021-10-24T13:48:25.902Z"
   },
   {
    "duration": 12,
    "start_time": "2021-10-24T13:50:36.125Z"
   },
   {
    "duration": 7,
    "start_time": "2021-10-24T13:51:07.571Z"
   },
   {
    "duration": 409,
    "start_time": "2021-10-24T13:51:10.928Z"
   },
   {
    "duration": 132,
    "start_time": "2021-10-24T13:51:29.576Z"
   },
   {
    "duration": 5,
    "start_time": "2021-10-24T13:52:12.695Z"
   },
   {
    "duration": 7,
    "start_time": "2021-10-24T13:52:24.067Z"
   },
   {
    "duration": 6,
    "start_time": "2021-10-24T13:55:08.026Z"
   },
   {
    "duration": 6,
    "start_time": "2021-10-24T13:55:33.471Z"
   },
   {
    "duration": 4,
    "start_time": "2021-10-24T13:55:58.895Z"
   },
   {
    "duration": 7,
    "start_time": "2021-10-24T13:56:01.075Z"
   },
   {
    "duration": 53,
    "start_time": "2021-10-24T13:56:36.197Z"
   },
   {
    "duration": 200,
    "start_time": "2021-10-24T13:58:58.225Z"
   },
   {
    "duration": 203,
    "start_time": "2021-10-24T13:59:18.600Z"
   },
   {
    "duration": 6,
    "start_time": "2021-10-24T13:59:55.233Z"
   },
   {
    "duration": 9,
    "start_time": "2021-10-24T13:59:59.021Z"
   },
   {
    "duration": 13,
    "start_time": "2021-10-24T14:18:38.410Z"
   },
   {
    "duration": 327,
    "start_time": "2021-10-24T14:24:39.019Z"
   },
   {
    "duration": 303,
    "start_time": "2021-10-24T14:27:43.777Z"
   },
   {
    "duration": 12,
    "start_time": "2021-10-24T14:27:47.537Z"
   },
   {
    "duration": 142,
    "start_time": "2021-10-24T14:27:52.486Z"
   },
   {
    "duration": 136,
    "start_time": "2021-10-24T14:28:05.761Z"
   },
   {
    "duration": 144,
    "start_time": "2021-10-24T14:28:25.287Z"
   },
   {
    "duration": 96,
    "start_time": "2021-10-24T14:28:37.216Z"
   },
   {
    "duration": 178,
    "start_time": "2021-10-24T14:28:42.247Z"
   },
   {
    "duration": 219,
    "start_time": "2021-10-24T14:28:46.746Z"
   },
   {
    "duration": 313,
    "start_time": "2021-10-24T14:29:08.333Z"
   },
   {
    "duration": 446,
    "start_time": "2021-10-24T14:29:41.260Z"
   },
   {
    "duration": 554,
    "start_time": "2021-10-24T14:29:49.175Z"
   },
   {
    "duration": 437,
    "start_time": "2021-10-24T14:31:30.888Z"
   },
   {
    "duration": 422,
    "start_time": "2021-10-24T14:31:42.929Z"
   },
   {
    "duration": 450,
    "start_time": "2021-10-24T14:33:24.600Z"
   },
   {
    "duration": 178,
    "start_time": "2021-10-24T15:02:51.490Z"
   },
   {
    "duration": 270,
    "start_time": "2021-10-24T15:02:58.955Z"
   },
   {
    "duration": 601,
    "start_time": "2021-10-24T15:03:04.292Z"
   },
   {
    "duration": 195,
    "start_time": "2021-10-24T15:03:57.251Z"
   },
   {
    "duration": 183,
    "start_time": "2021-10-24T15:04:11.968Z"
   },
   {
    "duration": 192,
    "start_time": "2021-10-24T15:04:49.053Z"
   },
   {
    "duration": 190,
    "start_time": "2021-10-24T15:05:27.346Z"
   },
   {
    "duration": 184,
    "start_time": "2021-10-24T15:05:38.378Z"
   },
   {
    "duration": 14,
    "start_time": "2021-10-24T15:06:00.594Z"
   },
   {
    "duration": 187,
    "start_time": "2021-10-24T15:06:02.475Z"
   },
   {
    "duration": 217,
    "start_time": "2021-10-24T15:06:17.771Z"
   },
   {
    "duration": 4705,
    "start_time": "2021-10-24T15:06:29.407Z"
   },
   {
    "duration": 190,
    "start_time": "2021-10-24T15:06:49.662Z"
   },
   {
    "duration": 7,
    "start_time": "2021-10-24T15:07:09.238Z"
   },
   {
    "duration": 201,
    "start_time": "2021-10-24T15:08:58.274Z"
   },
   {
    "duration": 177,
    "start_time": "2021-10-24T15:09:28.663Z"
   },
   {
    "duration": 185,
    "start_time": "2021-10-24T15:09:49.888Z"
   },
   {
    "duration": 180,
    "start_time": "2021-10-24T15:09:55.824Z"
   },
   {
    "duration": 203,
    "start_time": "2021-10-24T15:10:06.846Z"
   },
   {
    "duration": 358,
    "start_time": "2021-10-24T15:10:42.973Z"
   },
   {
    "duration": 178,
    "start_time": "2021-10-24T15:11:05.081Z"
   },
   {
    "duration": 178,
    "start_time": "2021-10-24T15:12:29.451Z"
   },
   {
    "duration": 13,
    "start_time": "2021-10-24T15:25:57.509Z"
   },
   {
    "duration": 6,
    "start_time": "2021-10-24T15:25:58.257Z"
   },
   {
    "duration": 13,
    "start_time": "2021-10-24T15:26:03.145Z"
   },
   {
    "duration": 8,
    "start_time": "2021-10-24T15:26:03.485Z"
   },
   {
    "duration": 188,
    "start_time": "2021-10-24T15:26:14.554Z"
   },
   {
    "duration": 63,
    "start_time": "2021-10-24T16:00:58.893Z"
   },
   {
    "duration": 193,
    "start_time": "2021-10-24T16:01:07.277Z"
   },
   {
    "duration": 181,
    "start_time": "2021-10-24T16:01:17.626Z"
   },
   {
    "duration": 204,
    "start_time": "2021-10-24T16:01:25.572Z"
   },
   {
    "duration": 338,
    "start_time": "2021-10-24T16:02:20.797Z"
   },
   {
    "duration": 189,
    "start_time": "2021-10-24T16:02:28.741Z"
   },
   {
    "duration": 199,
    "start_time": "2021-10-24T16:02:50.035Z"
   },
   {
    "duration": 191,
    "start_time": "2021-10-24T16:03:01.022Z"
   },
   {
    "duration": 183,
    "start_time": "2021-10-24T16:03:07.023Z"
   },
   {
    "duration": 192,
    "start_time": "2021-10-24T16:04:12.297Z"
   },
   {
    "duration": 1411,
    "start_time": "2021-10-24T16:04:25.276Z"
   },
   {
    "duration": 45,
    "start_time": "2021-10-24T16:04:26.689Z"
   },
   {
    "duration": 30,
    "start_time": "2021-10-24T16:04:26.737Z"
   },
   {
    "duration": 24,
    "start_time": "2021-10-24T16:04:26.768Z"
   },
   {
    "duration": 9,
    "start_time": "2021-10-24T16:04:26.793Z"
   },
   {
    "duration": 14,
    "start_time": "2021-10-24T16:04:26.804Z"
   },
   {
    "duration": 22,
    "start_time": "2021-10-24T16:04:26.820Z"
   },
   {
    "duration": 4,
    "start_time": "2021-10-24T16:04:26.844Z"
   },
   {
    "duration": 6,
    "start_time": "2021-10-24T16:04:26.850Z"
   },
   {
    "duration": 39,
    "start_time": "2021-10-24T16:04:26.857Z"
   },
   {
    "duration": 296,
    "start_time": "2021-10-24T16:04:26.897Z"
   },
   {
    "duration": -27,
    "start_time": "2021-10-24T16:04:27.222Z"
   },
   {
    "duration": -31,
    "start_time": "2021-10-24T16:04:27.227Z"
   },
   {
    "duration": -41,
    "start_time": "2021-10-24T16:04:27.238Z"
   },
   {
    "duration": -45,
    "start_time": "2021-10-24T16:04:27.243Z"
   },
   {
    "duration": -47,
    "start_time": "2021-10-24T16:04:27.246Z"
   },
   {
    "duration": -48,
    "start_time": "2021-10-24T16:04:27.248Z"
   },
   {
    "duration": -50,
    "start_time": "2021-10-24T16:04:27.251Z"
   },
   {
    "duration": -52,
    "start_time": "2021-10-24T16:04:27.253Z"
   },
   {
    "duration": 136,
    "start_time": "2021-10-24T16:04:56.333Z"
   },
   {
    "duration": 5,
    "start_time": "2021-10-24T16:04:56.531Z"
   },
   {
    "duration": 4,
    "start_time": "2021-10-24T16:04:56.725Z"
   },
   {
    "duration": 8,
    "start_time": "2021-10-24T16:04:56.918Z"
   },
   {
    "duration": 96,
    "start_time": "2021-10-24T16:04:57.123Z"
   },
   {
    "duration": 15,
    "start_time": "2021-10-24T16:04:57.505Z"
   },
   {
    "duration": 6,
    "start_time": "2021-10-24T16:04:57.775Z"
   },
   {
    "duration": 367,
    "start_time": "2021-10-24T16:04:57.898Z"
   },
   {
    "duration": 375,
    "start_time": "2021-10-24T16:05:09.543Z"
   },
   {
    "duration": 376,
    "start_time": "2021-10-24T16:07:42.009Z"
   },
   {
    "duration": 386,
    "start_time": "2021-10-24T16:08:48.763Z"
   },
   {
    "duration": 416,
    "start_time": "2021-10-24T16:09:06.516Z"
   },
   {
    "duration": 1268,
    "start_time": "2021-10-24T16:09:34.610Z"
   },
   {
    "duration": 43,
    "start_time": "2021-10-24T16:09:35.880Z"
   },
   {
    "duration": 30,
    "start_time": "2021-10-24T16:09:35.924Z"
   },
   {
    "duration": 14,
    "start_time": "2021-10-24T16:09:35.956Z"
   },
   {
    "duration": 27,
    "start_time": "2021-10-24T16:09:35.972Z"
   },
   {
    "duration": 14,
    "start_time": "2021-10-24T16:09:36.001Z"
   },
   {
    "duration": 22,
    "start_time": "2021-10-24T16:09:36.017Z"
   },
   {
    "duration": 4,
    "start_time": "2021-10-24T16:09:36.042Z"
   },
   {
    "duration": 6,
    "start_time": "2021-10-24T16:09:36.048Z"
   },
   {
    "duration": 41,
    "start_time": "2021-10-24T16:09:36.055Z"
   },
   {
    "duration": 147,
    "start_time": "2021-10-24T16:09:36.098Z"
   },
   {
    "duration": 5,
    "start_time": "2021-10-24T16:09:36.247Z"
   },
   {
    "duration": 6,
    "start_time": "2021-10-24T16:09:36.254Z"
   },
   {
    "duration": 8,
    "start_time": "2021-10-24T16:09:36.261Z"
   },
   {
    "duration": 112,
    "start_time": "2021-10-24T16:09:36.271Z"
   },
   {
    "duration": 16,
    "start_time": "2021-10-24T16:09:36.392Z"
   },
   {
    "duration": 7,
    "start_time": "2021-10-24T16:09:36.409Z"
   },
   {
    "duration": 482,
    "start_time": "2021-10-24T16:09:36.418Z"
   },
   {
    "duration": 199,
    "start_time": "2021-10-24T16:09:53.124Z"
   },
   {
    "duration": 202,
    "start_time": "2021-10-24T16:10:28.324Z"
   },
   {
    "duration": 1363,
    "start_time": "2021-10-24T16:11:17.454Z"
   },
   {
    "duration": 45,
    "start_time": "2021-10-24T16:11:18.819Z"
   },
   {
    "duration": 31,
    "start_time": "2021-10-24T16:11:18.868Z"
   },
   {
    "duration": 13,
    "start_time": "2021-10-24T16:11:18.901Z"
   },
   {
    "duration": 8,
    "start_time": "2021-10-24T16:11:18.915Z"
   },
   {
    "duration": 19,
    "start_time": "2021-10-24T16:11:18.924Z"
   },
   {
    "duration": 53,
    "start_time": "2021-10-24T16:11:18.945Z"
   },
   {
    "duration": 5,
    "start_time": "2021-10-24T16:11:18.999Z"
   },
   {
    "duration": 12,
    "start_time": "2021-10-24T16:11:19.006Z"
   },
   {
    "duration": 12,
    "start_time": "2021-10-24T16:11:19.020Z"
   },
   {
    "duration": 141,
    "start_time": "2021-10-24T16:11:19.034Z"
   },
   {
    "duration": 5,
    "start_time": "2021-10-24T16:11:19.176Z"
   },
   {
    "duration": 17,
    "start_time": "2021-10-24T16:11:19.182Z"
   },
   {
    "duration": 16,
    "start_time": "2021-10-24T16:11:19.201Z"
   },
   {
    "duration": 104,
    "start_time": "2021-10-24T16:11:19.219Z"
   },
   {
    "duration": 15,
    "start_time": "2021-10-24T16:11:19.325Z"
   },
   {
    "duration": 6,
    "start_time": "2021-10-24T16:11:19.342Z"
   },
   {
    "duration": 243,
    "start_time": "2021-10-24T16:11:19.350Z"
   },
   {
    "duration": 697,
    "start_time": "2021-10-24T16:11:48.820Z"
   },
   {
    "duration": 368,
    "start_time": "2021-10-24T16:12:07.991Z"
   },
   {
    "duration": 196,
    "start_time": "2021-10-24T16:12:24.308Z"
   },
   {
    "duration": 359,
    "start_time": "2021-10-24T16:12:34.102Z"
   },
   {
    "duration": 447,
    "start_time": "2021-10-24T16:12:57.659Z"
   },
   {
    "duration": 790,
    "start_time": "2021-10-24T16:13:19.656Z"
   },
   {
    "duration": 383,
    "start_time": "2021-10-24T16:14:46.032Z"
   },
   {
    "duration": 385,
    "start_time": "2021-10-24T16:15:08.071Z"
   },
   {
    "duration": 416,
    "start_time": "2021-10-24T16:15:53.797Z"
   },
   {
    "duration": 1334,
    "start_time": "2021-10-24T16:16:00.382Z"
   },
   {
    "duration": 46,
    "start_time": "2021-10-24T16:16:01.718Z"
   },
   {
    "duration": 32,
    "start_time": "2021-10-24T16:16:01.766Z"
   },
   {
    "duration": 13,
    "start_time": "2021-10-24T16:16:01.800Z"
   },
   {
    "duration": 7,
    "start_time": "2021-10-24T16:16:01.815Z"
   },
   {
    "duration": 29,
    "start_time": "2021-10-24T16:16:01.824Z"
   },
   {
    "duration": 25,
    "start_time": "2021-10-24T16:16:01.855Z"
   },
   {
    "duration": 5,
    "start_time": "2021-10-24T16:16:01.890Z"
   },
   {
    "duration": 10,
    "start_time": "2021-10-24T16:16:01.897Z"
   },
   {
    "duration": 11,
    "start_time": "2021-10-24T16:16:01.909Z"
   },
   {
    "duration": 151,
    "start_time": "2021-10-24T16:16:01.921Z"
   },
   {
    "duration": 6,
    "start_time": "2021-10-24T16:16:02.073Z"
   },
   {
    "duration": 18,
    "start_time": "2021-10-24T16:16:02.080Z"
   },
   {
    "duration": 16,
    "start_time": "2021-10-24T16:16:02.100Z"
   },
   {
    "duration": 104,
    "start_time": "2021-10-24T16:16:02.118Z"
   },
   {
    "duration": 14,
    "start_time": "2021-10-24T16:16:02.224Z"
   },
   {
    "duration": 7,
    "start_time": "2021-10-24T16:16:02.239Z"
   },
   {
    "duration": 541,
    "start_time": "2021-10-24T16:16:02.247Z"
   },
   {
    "duration": 383,
    "start_time": "2021-10-24T16:16:28.804Z"
   },
   {
    "duration": 383,
    "start_time": "2021-10-24T16:16:54.109Z"
   },
   {
    "duration": 194,
    "start_time": "2021-10-24T16:17:04.054Z"
   },
   {
    "duration": 383,
    "start_time": "2021-10-24T16:20:00.751Z"
   },
   {
    "duration": 272,
    "start_time": "2021-10-24T16:20:28.532Z"
   },
   {
    "duration": 206,
    "start_time": "2021-10-24T16:20:50.549Z"
   },
   {
    "duration": 236,
    "start_time": "2021-10-24T16:21:11.710Z"
   },
   {
    "duration": 220,
    "start_time": "2021-10-24T16:21:21.611Z"
   },
   {
    "duration": 218,
    "start_time": "2021-10-24T16:21:33.939Z"
   },
   {
    "duration": 224,
    "start_time": "2021-10-24T16:22:02.415Z"
   },
   {
    "duration": 199,
    "start_time": "2021-10-24T16:35:08.047Z"
   },
   {
    "duration": 191,
    "start_time": "2021-10-24T16:35:09.033Z"
   },
   {
    "duration": 487,
    "start_time": "2021-10-24T16:38:18.407Z"
   },
   {
    "duration": 580,
    "start_time": "2021-10-24T16:38:35.031Z"
   },
   {
    "duration": 488,
    "start_time": "2021-10-24T16:39:05.916Z"
   },
   {
    "duration": 391,
    "start_time": "2021-10-24T16:39:20.734Z"
   },
   {
    "duration": 815,
    "start_time": "2021-10-24T16:40:50.346Z"
   },
   {
    "duration": 496,
    "start_time": "2021-10-24T16:41:00.689Z"
   },
   {
    "duration": 1023,
    "start_time": "2021-10-24T16:41:12.615Z"
   },
   {
    "duration": 388,
    "start_time": "2021-10-24T16:41:19.072Z"
   },
   {
    "duration": 207,
    "start_time": "2021-10-24T16:42:23.918Z"
   },
   {
    "duration": 201,
    "start_time": "2021-10-24T16:42:33.355Z"
   },
   {
    "duration": 190,
    "start_time": "2021-10-24T16:42:34.011Z"
   },
   {
    "duration": 6,
    "start_time": "2021-10-24T16:46:11.069Z"
   },
   {
    "duration": 9,
    "start_time": "2021-10-24T16:46:22.061Z"
   },
   {
    "duration": 183,
    "start_time": "2021-10-24T16:47:19.621Z"
   },
   {
    "duration": 351,
    "start_time": "2021-10-24T16:47:52.253Z"
   },
   {
    "duration": 223,
    "start_time": "2021-10-24T16:50:25.876Z"
   },
   {
    "duration": 217,
    "start_time": "2021-10-24T16:51:23.548Z"
   },
   {
    "duration": 241,
    "start_time": "2021-10-24T16:51:30.888Z"
   },
   {
    "duration": 311,
    "start_time": "2021-10-24T16:51:38.227Z"
   },
   {
    "duration": 199,
    "start_time": "2021-10-24T16:51:42.166Z"
   },
   {
    "duration": 309,
    "start_time": "2021-10-24T16:52:28.330Z"
   },
   {
    "duration": 324,
    "start_time": "2021-10-24T16:52:34.980Z"
   },
   {
    "duration": 9,
    "start_time": "2021-10-24T16:52:42.393Z"
   },
   {
    "duration": 317,
    "start_time": "2021-10-24T16:52:42.685Z"
   },
   {
    "duration": 374,
    "start_time": "2021-10-24T16:53:50.838Z"
   },
   {
    "duration": 377,
    "start_time": "2021-10-24T16:54:02.277Z"
   },
   {
    "duration": 481,
    "start_time": "2021-10-24T16:54:47.652Z"
   },
   {
    "duration": 372,
    "start_time": "2021-10-24T16:55:15.678Z"
   },
   {
    "duration": 393,
    "start_time": "2021-10-24T16:55:26.891Z"
   },
   {
    "duration": 191,
    "start_time": "2021-10-24T16:55:39.888Z"
   },
   {
    "duration": 1265,
    "start_time": "2021-10-24T16:55:51.519Z"
   },
   {
    "duration": 46,
    "start_time": "2021-10-24T16:55:52.785Z"
   },
   {
    "duration": 30,
    "start_time": "2021-10-24T16:55:52.832Z"
   },
   {
    "duration": 12,
    "start_time": "2021-10-24T16:55:52.864Z"
   },
   {
    "duration": 19,
    "start_time": "2021-10-24T16:55:52.877Z"
   },
   {
    "duration": 14,
    "start_time": "2021-10-24T16:55:52.897Z"
   },
   {
    "duration": 20,
    "start_time": "2021-10-24T16:55:52.913Z"
   },
   {
    "duration": 4,
    "start_time": "2021-10-24T16:55:52.935Z"
   },
   {
    "duration": 7,
    "start_time": "2021-10-24T16:55:52.940Z"
   },
   {
    "duration": 11,
    "start_time": "2021-10-24T16:55:52.948Z"
   },
   {
    "duration": 161,
    "start_time": "2021-10-24T16:55:52.961Z"
   },
   {
    "duration": 5,
    "start_time": "2021-10-24T16:55:53.124Z"
   },
   {
    "duration": 10,
    "start_time": "2021-10-24T16:55:53.130Z"
   },
   {
    "duration": 10,
    "start_time": "2021-10-24T16:55:53.141Z"
   },
   {
    "duration": 107,
    "start_time": "2021-10-24T16:55:53.153Z"
   },
   {
    "duration": 14,
    "start_time": "2021-10-24T16:55:53.262Z"
   },
   {
    "duration": 20,
    "start_time": "2021-10-24T16:55:53.278Z"
   },
   {
    "duration": 216,
    "start_time": "2021-10-24T16:55:53.300Z"
   },
   {
    "duration": 186,
    "start_time": "2021-10-24T16:55:53.517Z"
   },
   {
    "duration": 10,
    "start_time": "2021-10-24T16:55:53.706Z"
   },
   {
    "duration": 413,
    "start_time": "2021-10-24T16:55:53.717Z"
   },
   {
    "duration": 1283,
    "start_time": "2021-10-24T16:56:14.818Z"
   },
   {
    "duration": 44,
    "start_time": "2021-10-24T16:56:16.103Z"
   },
   {
    "duration": 30,
    "start_time": "2021-10-24T16:56:16.149Z"
   },
   {
    "duration": 17,
    "start_time": "2021-10-24T16:56:16.181Z"
   },
   {
    "duration": 8,
    "start_time": "2021-10-24T16:56:16.199Z"
   },
   {
    "duration": 17,
    "start_time": "2021-10-24T16:56:16.209Z"
   },
   {
    "duration": 24,
    "start_time": "2021-10-24T16:56:16.227Z"
   },
   {
    "duration": 5,
    "start_time": "2021-10-24T16:56:16.253Z"
   },
   {
    "duration": 32,
    "start_time": "2021-10-24T16:56:16.259Z"
   },
   {
    "duration": 8,
    "start_time": "2021-10-24T16:56:16.293Z"
   },
   {
    "duration": 152,
    "start_time": "2021-10-24T16:56:16.303Z"
   },
   {
    "duration": 5,
    "start_time": "2021-10-24T16:56:16.456Z"
   },
   {
    "duration": 6,
    "start_time": "2021-10-24T16:56:16.463Z"
   },
   {
    "duration": 9,
    "start_time": "2021-10-24T16:56:16.470Z"
   },
   {
    "duration": 102,
    "start_time": "2021-10-24T16:56:16.491Z"
   },
   {
    "duration": 14,
    "start_time": "2021-10-24T16:56:16.594Z"
   },
   {
    "duration": 9,
    "start_time": "2021-10-24T16:56:16.610Z"
   },
   {
    "duration": 214,
    "start_time": "2021-10-24T16:56:16.620Z"
   },
   {
    "duration": 201,
    "start_time": "2021-10-24T16:56:16.836Z"
   },
   {
    "duration": 8,
    "start_time": "2021-10-24T16:56:17.039Z"
   },
   {
    "duration": 402,
    "start_time": "2021-10-24T16:56:17.049Z"
   },
   {
    "duration": 1259,
    "start_time": "2021-10-24T16:56:31.931Z"
   },
   {
    "duration": 44,
    "start_time": "2021-10-24T16:56:33.191Z"
   },
   {
    "duration": 30,
    "start_time": "2021-10-24T16:56:33.237Z"
   },
   {
    "duration": 25,
    "start_time": "2021-10-24T16:56:33.269Z"
   },
   {
    "duration": 9,
    "start_time": "2021-10-24T16:56:33.297Z"
   },
   {
    "duration": 20,
    "start_time": "2021-10-24T16:56:33.308Z"
   },
   {
    "duration": 21,
    "start_time": "2021-10-24T16:56:33.330Z"
   },
   {
    "duration": 4,
    "start_time": "2021-10-24T16:56:33.353Z"
   },
   {
    "duration": 7,
    "start_time": "2021-10-24T16:56:33.359Z"
   },
   {
    "duration": 31,
    "start_time": "2021-10-24T16:56:33.368Z"
   },
   {
    "duration": 144,
    "start_time": "2021-10-24T16:56:33.401Z"
   },
   {
    "duration": 5,
    "start_time": "2021-10-24T16:56:33.547Z"
   },
   {
    "duration": 8,
    "start_time": "2021-10-24T16:56:33.553Z"
   },
   {
    "duration": 8,
    "start_time": "2021-10-24T16:56:33.562Z"
   },
   {
    "duration": 105,
    "start_time": "2021-10-24T16:56:33.571Z"
   },
   {
    "duration": 18,
    "start_time": "2021-10-24T16:56:33.678Z"
   },
   {
    "duration": 10,
    "start_time": "2021-10-24T16:56:33.697Z"
   },
   {
    "duration": 244,
    "start_time": "2021-10-24T16:56:33.709Z"
   },
   {
    "duration": 226,
    "start_time": "2021-10-24T16:56:33.955Z"
   },
   {
    "duration": 12,
    "start_time": "2021-10-24T16:56:34.182Z"
   },
   {
    "duration": 386,
    "start_time": "2021-10-24T16:56:34.196Z"
   },
   {
    "duration": 270,
    "start_time": "2021-10-24T16:57:00.541Z"
   },
   {
    "duration": 414,
    "start_time": "2021-10-24T16:57:28.756Z"
   },
   {
    "duration": 352,
    "start_time": "2021-10-24T16:58:12.139Z"
   },
   {
    "duration": 378,
    "start_time": "2021-10-24T16:58:17.089Z"
   },
   {
    "duration": 387,
    "start_time": "2021-10-24T16:59:10.450Z"
   },
   {
    "duration": 405,
    "start_time": "2021-10-24T16:59:57.982Z"
   },
   {
    "duration": 5,
    "start_time": "2021-10-24T17:01:37.620Z"
   },
   {
    "duration": 293,
    "start_time": "2021-10-24T17:04:52.043Z"
   },
   {
    "duration": 183,
    "start_time": "2021-10-24T17:05:02.891Z"
   },
   {
    "duration": 125,
    "start_time": "2021-10-24T17:05:08.952Z"
   },
   {
    "duration": 219,
    "start_time": "2021-10-24T17:05:22.421Z"
   },
   {
    "duration": 152,
    "start_time": "2021-10-24T17:05:48.895Z"
   },
   {
    "duration": 337,
    "start_time": "2021-10-24T17:08:22.987Z"
   },
   {
    "duration": 327,
    "start_time": "2021-10-24T17:11:40.577Z"
   },
   {
    "duration": 1526,
    "start_time": "2021-10-24T17:20:17.416Z"
   },
   {
    "duration": 7,
    "start_time": "2021-10-24T17:20:24.207Z"
   },
   {
    "duration": 8,
    "start_time": "2021-10-24T17:20:33.825Z"
   },
   {
    "duration": 197,
    "start_time": "2021-10-24T17:20:58.811Z"
   },
   {
    "duration": 8,
    "start_time": "2021-10-24T17:21:11.020Z"
   },
   {
    "duration": 195,
    "start_time": "2021-10-24T17:23:13.032Z"
   },
   {
    "duration": 7,
    "start_time": "2021-10-24T17:23:32.399Z"
   },
   {
    "duration": 11,
    "start_time": "2021-10-24T17:23:36.800Z"
   },
   {
    "duration": 209,
    "start_time": "2021-10-24T17:23:53.348Z"
   },
   {
    "duration": 310,
    "start_time": "2021-10-24T17:24:21.239Z"
   },
   {
    "duration": 222,
    "start_time": "2021-10-24T17:24:56.946Z"
   },
   {
    "duration": 189,
    "start_time": "2021-10-24T17:25:28.297Z"
   },
   {
    "duration": 8,
    "start_time": "2021-10-24T17:25:29.975Z"
   },
   {
    "duration": 195,
    "start_time": "2021-10-24T17:25:52.415Z"
   },
   {
    "duration": 328,
    "start_time": "2021-10-24T17:26:11.386Z"
   },
   {
    "duration": 178,
    "start_time": "2021-10-24T17:30:49.187Z"
   },
   {
    "duration": 189,
    "start_time": "2021-10-24T17:31:14.437Z"
   },
   {
    "duration": 8,
    "start_time": "2021-10-24T17:31:46.837Z"
   },
   {
    "duration": 7,
    "start_time": "2021-10-24T17:32:08.073Z"
   },
   {
    "duration": 228,
    "start_time": "2021-10-24T17:32:43.042Z"
   },
   {
    "duration": 7,
    "start_time": "2021-10-24T17:33:43.786Z"
   },
   {
    "duration": 185,
    "start_time": "2021-10-24T17:35:53.648Z"
   },
   {
    "duration": 13,
    "start_time": "2021-10-24T17:36:01.644Z"
   },
   {
    "duration": 8,
    "start_time": "2021-10-24T17:36:02.037Z"
   },
   {
    "duration": 198,
    "start_time": "2021-10-24T17:36:02.693Z"
   },
   {
    "duration": 169,
    "start_time": "2021-10-24T17:36:20.178Z"
   },
   {
    "duration": 333,
    "start_time": "2021-10-24T17:36:39.393Z"
   },
   {
    "duration": 169,
    "start_time": "2021-10-24T17:36:51.977Z"
   },
   {
    "duration": 147,
    "start_time": "2021-10-24T18:02:06.392Z"
   },
   {
    "duration": 160,
    "start_time": "2021-10-24T18:02:50.194Z"
   },
   {
    "duration": 150,
    "start_time": "2021-10-24T18:03:10.179Z"
   },
   {
    "duration": 167,
    "start_time": "2021-10-24T18:03:56.986Z"
   },
   {
    "duration": 13,
    "start_time": "2021-10-24T18:30:58.008Z"
   },
   {
    "duration": 157,
    "start_time": "2021-10-24T18:46:41.744Z"
   },
   {
    "duration": 253,
    "start_time": "2021-10-24T18:46:59.240Z"
   },
   {
    "duration": 163,
    "start_time": "2021-10-24T18:47:40.530Z"
   },
   {
    "duration": 157,
    "start_time": "2021-10-24T18:48:47.255Z"
   },
   {
    "duration": 14,
    "start_time": "2021-10-24T18:49:14.662Z"
   },
   {
    "duration": 227,
    "start_time": "2021-10-24T18:55:04.964Z"
   },
   {
    "duration": 184,
    "start_time": "2021-10-24T18:55:17.402Z"
   },
   {
    "duration": 10,
    "start_time": "2021-10-24T18:55:24.494Z"
   },
   {
    "duration": 10,
    "start_time": "2021-10-24T18:55:32.911Z"
   },
   {
    "duration": 10,
    "start_time": "2021-10-24T18:55:42.829Z"
   },
   {
    "duration": 10,
    "start_time": "2021-10-24T18:55:53.884Z"
   },
   {
    "duration": 10,
    "start_time": "2021-10-24T18:56:03.545Z"
   },
   {
    "duration": 10,
    "start_time": "2021-10-24T18:56:14.827Z"
   },
   {
    "duration": 12,
    "start_time": "2021-10-24T18:56:20.070Z"
   },
   {
    "duration": 11,
    "start_time": "2021-10-24T18:56:23.697Z"
   },
   {
    "duration": 16,
    "start_time": "2021-10-24T18:57:56.539Z"
   },
   {
    "duration": 16,
    "start_time": "2021-10-24T18:58:08.657Z"
   },
   {
    "duration": 9,
    "start_time": "2021-10-24T18:58:37.465Z"
   },
   {
    "duration": 9,
    "start_time": "2021-10-24T18:58:41.224Z"
   },
   {
    "duration": 63,
    "start_time": "2021-10-24T18:59:32.354Z"
   },
   {
    "duration": 11,
    "start_time": "2021-10-24T18:59:39.487Z"
   },
   {
    "duration": 11,
    "start_time": "2021-10-24T18:59:58.569Z"
   },
   {
    "duration": 10,
    "start_time": "2021-10-24T19:02:12.072Z"
   },
   {
    "duration": 10,
    "start_time": "2021-10-24T19:03:48.014Z"
   },
   {
    "duration": 22,
    "start_time": "2021-10-24T20:04:07.583Z"
   },
   {
    "duration": 17,
    "start_time": "2021-10-24T20:04:32.161Z"
   },
   {
    "duration": 11,
    "start_time": "2021-10-24T20:04:41.537Z"
   },
   {
    "duration": 5170,
    "start_time": "2021-10-24T20:05:23.331Z"
   },
   {
    "duration": 18,
    "start_time": "2021-10-24T20:05:29.558Z"
   },
   {
    "duration": 5,
    "start_time": "2021-10-24T20:05:29.847Z"
   },
   {
    "duration": 9,
    "start_time": "2021-10-24T20:05:57.908Z"
   },
   {
    "duration": 8,
    "start_time": "2021-10-24T20:06:14.075Z"
   },
   {
    "duration": 19,
    "start_time": "2021-10-24T20:06:17.016Z"
   },
   {
    "duration": 8,
    "start_time": "2021-10-24T20:06:17.974Z"
   },
   {
    "duration": 12,
    "start_time": "2021-10-24T20:06:27.271Z"
   },
   {
    "duration": 13,
    "start_time": "2021-10-24T20:07:01.832Z"
   },
   {
    "duration": 5,
    "start_time": "2021-10-24T20:07:54.443Z"
   },
   {
    "duration": 182,
    "start_time": "2021-10-24T20:08:56.311Z"
   },
   {
    "duration": 303,
    "start_time": "2021-10-24T20:09:04.524Z"
   },
   {
    "duration": 1228,
    "start_time": "2021-10-24T20:09:23.189Z"
   },
   {
    "duration": 248,
    "start_time": "2021-10-24T20:09:45.769Z"
   },
   {
    "duration": 251,
    "start_time": "2021-10-24T20:10:16.752Z"
   },
   {
    "duration": 346,
    "start_time": "2021-10-24T20:11:25.217Z"
   },
   {
    "duration": 237,
    "start_time": "2021-10-24T20:11:39.779Z"
   },
   {
    "duration": 423,
    "start_time": "2021-10-24T20:12:55.005Z"
   },
   {
    "duration": 231,
    "start_time": "2021-10-24T20:13:50.221Z"
   },
   {
    "duration": 226,
    "start_time": "2021-10-24T20:13:51.630Z"
   },
   {
    "duration": 303,
    "start_time": "2021-10-24T20:14:06.513Z"
   },
   {
    "duration": 427,
    "start_time": "2021-10-24T20:14:17.221Z"
   },
   {
    "duration": 214,
    "start_time": "2021-10-24T20:15:24.955Z"
   },
   {
    "duration": 12,
    "start_time": "2021-10-24T20:15:32.393Z"
   },
   {
    "duration": 17,
    "start_time": "2021-10-24T20:15:48.212Z"
   },
   {
    "duration": 308,
    "start_time": "2021-10-24T20:16:42.990Z"
   },
   {
    "duration": 294,
    "start_time": "2021-10-24T20:16:43.899Z"
   },
   {
    "duration": 302,
    "start_time": "2021-10-24T20:17:12.960Z"
   },
   {
    "duration": 301,
    "start_time": "2021-10-24T20:17:13.265Z"
   },
   {
    "duration": 20,
    "start_time": "2021-10-24T20:18:21.213Z"
   },
   {
    "duration": 19,
    "start_time": "2021-10-24T20:18:48.380Z"
   },
   {
    "duration": 1496,
    "start_time": "2021-10-25T15:59:59.503Z"
   },
   {
    "duration": 48,
    "start_time": "2021-10-25T16:00:01.001Z"
   },
   {
    "duration": 36,
    "start_time": "2021-10-25T16:00:01.051Z"
   },
   {
    "duration": 16,
    "start_time": "2021-10-25T16:00:01.090Z"
   },
   {
    "duration": 9,
    "start_time": "2021-10-25T16:00:01.108Z"
   },
   {
    "duration": 20,
    "start_time": "2021-10-25T16:00:01.119Z"
   },
   {
    "duration": 61,
    "start_time": "2021-10-25T16:00:01.141Z"
   },
   {
    "duration": 5,
    "start_time": "2021-10-25T16:00:01.205Z"
   },
   {
    "duration": 7,
    "start_time": "2021-10-25T16:00:01.212Z"
   },
   {
    "duration": 21,
    "start_time": "2021-10-25T16:00:01.221Z"
   },
   {
    "duration": 158,
    "start_time": "2021-10-25T16:00:01.244Z"
   },
   {
    "duration": 6,
    "start_time": "2021-10-25T16:00:01.404Z"
   },
   {
    "duration": 7,
    "start_time": "2021-10-25T16:00:01.412Z"
   },
   {
    "duration": 14,
    "start_time": "2021-10-25T16:00:01.421Z"
   },
   {
    "duration": 121,
    "start_time": "2021-10-25T16:00:01.437Z"
   },
   {
    "duration": 27,
    "start_time": "2021-10-25T16:00:01.559Z"
   },
   {
    "duration": 12,
    "start_time": "2021-10-25T16:00:01.588Z"
   },
   {
    "duration": 263,
    "start_time": "2021-10-25T16:00:01.602Z"
   },
   {
    "duration": 248,
    "start_time": "2021-10-25T16:00:01.867Z"
   },
   {
    "duration": 9,
    "start_time": "2021-10-25T16:00:02.117Z"
   },
   {
    "duration": 520,
    "start_time": "2021-10-25T16:00:02.128Z"
   },
   {
    "duration": 5,
    "start_time": "2021-10-25T16:00:02.650Z"
   },
   {
    "duration": 33,
    "start_time": "2021-10-25T16:00:02.659Z"
   },
   {
    "duration": 16,
    "start_time": "2021-10-25T16:00:02.694Z"
   },
   {
    "duration": 189,
    "start_time": "2021-10-25T16:00:02.712Z"
   },
   {
    "duration": 253,
    "start_time": "2021-10-25T16:00:02.903Z"
   },
   {
    "duration": 8,
    "start_time": "2021-10-25T16:00:03.158Z"
   },
   {
    "duration": 14,
    "start_time": "2021-10-25T16:00:03.177Z"
   },
   {
    "duration": 14,
    "start_time": "2021-10-25T16:00:03.193Z"
   },
   {
    "duration": 17,
    "start_time": "2021-10-25T16:00:03.209Z"
   },
   {
    "duration": 12,
    "start_time": "2021-10-25T16:00:03.228Z"
   },
   {
    "duration": 7,
    "start_time": "2021-10-25T16:00:03.241Z"
   },
   {
    "duration": 341,
    "start_time": "2021-10-25T16:00:03.250Z"
   },
   {
    "duration": 327,
    "start_time": "2021-10-25T16:00:03.593Z"
   },
   {
    "duration": 19,
    "start_time": "2021-10-25T16:00:03.922Z"
   },
   {
    "duration": 325,
    "start_time": "2021-10-25T16:02:29.338Z"
   },
   {
    "duration": 527,
    "start_time": "2021-10-25T16:03:01.200Z"
   },
   {
    "duration": 6,
    "start_time": "2021-10-25T18:12:35.256Z"
   },
   {
    "duration": 1654,
    "start_time": "2021-10-25T18:12:43.151Z"
   },
   {
    "duration": 51,
    "start_time": "2021-10-25T18:12:44.807Z"
   },
   {
    "duration": 37,
    "start_time": "2021-10-25T18:12:44.860Z"
   },
   {
    "duration": 17,
    "start_time": "2021-10-25T18:12:44.900Z"
   },
   {
    "duration": 11,
    "start_time": "2021-10-25T18:12:44.919Z"
   },
   {
    "duration": 47,
    "start_time": "2021-10-25T18:12:44.932Z"
   },
   {
    "duration": 30,
    "start_time": "2021-10-25T18:12:44.981Z"
   },
   {
    "duration": 5,
    "start_time": "2021-10-25T18:12:45.014Z"
   },
   {
    "duration": 8,
    "start_time": "2021-10-25T18:12:45.021Z"
   },
   {
    "duration": 14,
    "start_time": "2021-10-25T18:12:45.030Z"
   },
   {
    "duration": 168,
    "start_time": "2021-10-25T18:12:45.046Z"
   },
   {
    "duration": 6,
    "start_time": "2021-10-25T18:12:45.216Z"
   },
   {
    "duration": 14,
    "start_time": "2021-10-25T18:12:45.224Z"
   },
   {
    "duration": 11,
    "start_time": "2021-10-25T18:12:45.240Z"
   },
   {
    "duration": 112,
    "start_time": "2021-10-25T18:12:45.253Z"
   },
   {
    "duration": 23,
    "start_time": "2021-10-25T18:12:45.367Z"
   },
   {
    "duration": 44,
    "start_time": "2021-10-25T18:12:45.392Z"
   },
   {
    "duration": 262,
    "start_time": "2021-10-25T18:12:45.438Z"
   },
   {
    "duration": 255,
    "start_time": "2021-10-25T18:12:45.703Z"
   },
   {
    "duration": 19,
    "start_time": "2021-10-25T18:12:45.960Z"
   },
   {
    "duration": 438,
    "start_time": "2021-10-25T18:12:45.981Z"
   },
   {
    "duration": 5,
    "start_time": "2021-10-25T18:12:46.420Z"
   },
   {
    "duration": 8,
    "start_time": "2021-10-25T18:12:46.429Z"
   },
   {
    "duration": 13,
    "start_time": "2021-10-25T18:12:46.439Z"
   },
   {
    "duration": 29,
    "start_time": "2021-10-25T18:12:46.453Z"
   },
   {
    "duration": 184,
    "start_time": "2021-10-25T18:12:46.484Z"
   },
   {
    "duration": 271,
    "start_time": "2021-10-25T18:12:46.676Z"
   },
   {
    "duration": 9,
    "start_time": "2021-10-25T18:12:46.949Z"
   },
   {
    "duration": 21,
    "start_time": "2021-10-25T18:12:46.960Z"
   },
   {
    "duration": 9,
    "start_time": "2021-10-25T18:12:46.983Z"
   },
   {
    "duration": 17,
    "start_time": "2021-10-25T18:12:46.994Z"
   },
   {
    "duration": 12,
    "start_time": "2021-10-25T18:12:47.013Z"
   },
   {
    "duration": 5,
    "start_time": "2021-10-25T18:12:47.027Z"
   },
   {
    "duration": 358,
    "start_time": "2021-10-25T18:12:47.034Z"
   },
   {
    "duration": 327,
    "start_time": "2021-10-25T18:12:47.394Z"
   },
   {
    "duration": 19,
    "start_time": "2021-10-25T18:12:47.722Z"
   },
   {
    "duration": 8,
    "start_time": "2021-10-25T18:13:43.034Z"
   },
   {
    "duration": 18,
    "start_time": "2021-10-25T18:14:03.227Z"
   },
   {
    "duration": 7,
    "start_time": "2021-10-25T18:15:30.906Z"
   },
   {
    "duration": 10,
    "start_time": "2021-10-25T18:20:20.130Z"
   },
   {
    "duration": 1544,
    "start_time": "2021-10-25T18:24:54.652Z"
   },
   {
    "duration": 372,
    "start_time": "2021-10-25T18:25:19.690Z"
   },
   {
    "duration": 1677,
    "start_time": "2021-10-25T18:26:07.086Z"
   },
   {
    "duration": 49,
    "start_time": "2021-10-25T18:26:08.765Z"
   },
   {
    "duration": 33,
    "start_time": "2021-10-25T18:26:08.818Z"
   },
   {
    "duration": 24,
    "start_time": "2021-10-25T18:26:08.853Z"
   },
   {
    "duration": 10,
    "start_time": "2021-10-25T18:26:08.879Z"
   },
   {
    "duration": 18,
    "start_time": "2021-10-25T18:26:08.890Z"
   },
   {
    "duration": 7,
    "start_time": "2021-10-25T18:26:08.911Z"
   },
   {
    "duration": 7,
    "start_time": "2021-10-25T18:26:08.920Z"
   },
   {
    "duration": 25,
    "start_time": "2021-10-25T18:26:08.929Z"
   },
   {
    "duration": 22,
    "start_time": "2021-10-25T18:26:08.956Z"
   },
   {
    "duration": 5,
    "start_time": "2021-10-25T18:26:08.980Z"
   },
   {
    "duration": 12,
    "start_time": "2021-10-25T18:26:08.987Z"
   },
   {
    "duration": 201,
    "start_time": "2021-10-25T18:26:09.001Z"
   },
   {
    "duration": 5,
    "start_time": "2021-10-25T18:26:09.204Z"
   },
   {
    "duration": 6,
    "start_time": "2021-10-25T18:26:09.211Z"
   },
   {
    "duration": 10,
    "start_time": "2021-10-25T18:26:09.219Z"
   },
   {
    "duration": 125,
    "start_time": "2021-10-25T18:26:09.231Z"
   },
   {
    "duration": 19,
    "start_time": "2021-10-25T18:26:09.358Z"
   },
   {
    "duration": 12,
    "start_time": "2021-10-25T18:26:09.379Z"
   },
   {
    "duration": 256,
    "start_time": "2021-10-25T18:26:09.393Z"
   },
   {
    "duration": 239,
    "start_time": "2021-10-25T18:26:09.650Z"
   },
   {
    "duration": 8,
    "start_time": "2021-10-25T18:26:09.893Z"
   },
   {
    "duration": 422,
    "start_time": "2021-10-25T18:26:09.903Z"
   },
   {
    "duration": 5,
    "start_time": "2021-10-25T18:26:10.327Z"
   },
   {
    "duration": 19,
    "start_time": "2021-10-25T18:26:10.334Z"
   },
   {
    "duration": 24,
    "start_time": "2021-10-25T18:26:10.355Z"
   },
   {
    "duration": 7,
    "start_time": "2021-10-25T18:26:10.381Z"
   },
   {
    "duration": 181,
    "start_time": "2021-10-25T18:26:10.390Z"
   },
   {
    "duration": 256,
    "start_time": "2021-10-25T18:26:10.576Z"
   },
   {
    "duration": 9,
    "start_time": "2021-10-25T18:26:10.833Z"
   },
   {
    "duration": 11,
    "start_time": "2021-10-25T18:26:10.844Z"
   },
   {
    "duration": 24,
    "start_time": "2021-10-25T18:26:10.858Z"
   },
   {
    "duration": 18,
    "start_time": "2021-10-25T18:26:10.884Z"
   },
   {
    "duration": 12,
    "start_time": "2021-10-25T18:26:10.903Z"
   },
   {
    "duration": 6,
    "start_time": "2021-10-25T18:26:10.917Z"
   },
   {
    "duration": 454,
    "start_time": "2021-10-25T18:26:10.924Z"
   },
   {
    "duration": 331,
    "start_time": "2021-10-25T18:26:11.381Z"
   },
   {
    "duration": 18,
    "start_time": "2021-10-25T18:26:11.714Z"
   },
   {
    "duration": 1563,
    "start_time": "2021-10-25T18:26:48.078Z"
   },
   {
    "duration": 50,
    "start_time": "2021-10-25T18:26:49.644Z"
   },
   {
    "duration": 34,
    "start_time": "2021-10-25T18:26:49.696Z"
   },
   {
    "duration": 14,
    "start_time": "2021-10-25T18:26:49.732Z"
   },
   {
    "duration": 9,
    "start_time": "2021-10-25T18:26:49.747Z"
   },
   {
    "duration": 16,
    "start_time": "2021-10-25T18:26:49.777Z"
   },
   {
    "duration": 7,
    "start_time": "2021-10-25T18:26:49.795Z"
   },
   {
    "duration": 9,
    "start_time": "2021-10-25T18:26:49.805Z"
   },
   {
    "duration": 8,
    "start_time": "2021-10-25T18:26:49.816Z"
   },
   {
    "duration": 53,
    "start_time": "2021-10-25T18:26:49.826Z"
   },
   {
    "duration": 5,
    "start_time": "2021-10-25T18:26:49.880Z"
   },
   {
    "duration": 5,
    "start_time": "2021-10-25T18:26:49.887Z"
   },
   {
    "duration": 14,
    "start_time": "2021-10-25T18:26:49.894Z"
   },
   {
    "duration": 164,
    "start_time": "2021-10-25T18:26:49.910Z"
   },
   {
    "duration": 6,
    "start_time": "2021-10-25T18:26:50.077Z"
   },
   {
    "duration": 6,
    "start_time": "2021-10-25T18:26:50.085Z"
   },
   {
    "duration": 8,
    "start_time": "2021-10-25T18:26:50.092Z"
   },
   {
    "duration": 128,
    "start_time": "2021-10-25T18:26:50.102Z"
   },
   {
    "duration": 17,
    "start_time": "2021-10-25T18:26:50.232Z"
   },
   {
    "duration": 26,
    "start_time": "2021-10-25T18:26:50.251Z"
   },
   {
    "duration": 244,
    "start_time": "2021-10-25T18:26:50.279Z"
   },
   {
    "duration": 240,
    "start_time": "2021-10-25T18:26:50.525Z"
   },
   {
    "duration": 11,
    "start_time": "2021-10-25T18:26:50.777Z"
   },
   {
    "duration": 427,
    "start_time": "2021-10-25T18:26:50.790Z"
   },
   {
    "duration": 6,
    "start_time": "2021-10-25T18:26:51.220Z"
   },
   {
    "duration": 11,
    "start_time": "2021-10-25T18:26:51.228Z"
   },
   {
    "duration": 13,
    "start_time": "2021-10-25T18:26:51.241Z"
   },
   {
    "duration": 8,
    "start_time": "2021-10-25T18:26:51.277Z"
   },
   {
    "duration": 185,
    "start_time": "2021-10-25T18:26:51.287Z"
   },
   {
    "duration": 258,
    "start_time": "2021-10-25T18:26:51.476Z"
   },
   {
    "duration": 8,
    "start_time": "2021-10-25T18:26:51.736Z"
   },
   {
    "duration": 20,
    "start_time": "2021-10-25T18:26:51.746Z"
   },
   {
    "duration": 18,
    "start_time": "2021-10-25T18:26:51.768Z"
   },
   {
    "duration": 34,
    "start_time": "2021-10-25T18:26:51.788Z"
   },
   {
    "duration": 13,
    "start_time": "2021-10-25T18:26:51.824Z"
   },
   {
    "duration": 5,
    "start_time": "2021-10-25T18:26:51.839Z"
   },
   {
    "duration": 334,
    "start_time": "2021-10-25T18:26:51.846Z"
   },
   {
    "duration": 336,
    "start_time": "2021-10-25T18:26:52.182Z"
   },
   {
    "duration": 19,
    "start_time": "2021-10-25T18:26:52.520Z"
   },
   {
    "duration": 31,
    "start_time": "2021-10-25T20:12:50.085Z"
   },
   {
    "duration": 5,
    "start_time": "2021-10-25T20:20:05.639Z"
   },
   {
    "duration": 1516,
    "start_time": "2021-10-25T20:26:29.995Z"
   },
   {
    "duration": 49,
    "start_time": "2021-10-25T20:26:31.513Z"
   },
   {
    "duration": 33,
    "start_time": "2021-10-25T20:26:31.564Z"
   },
   {
    "duration": 14,
    "start_time": "2021-10-25T20:26:31.599Z"
   },
   {
    "duration": 9,
    "start_time": "2021-10-25T20:26:31.615Z"
   },
   {
    "duration": 17,
    "start_time": "2021-10-25T20:26:31.625Z"
   },
   {
    "duration": 52,
    "start_time": "2021-10-25T20:26:31.644Z"
   },
   {
    "duration": 7,
    "start_time": "2021-10-25T20:26:31.699Z"
   },
   {
    "duration": 481,
    "start_time": "2021-10-25T20:26:31.708Z"
   },
   {
    "duration": 19,
    "start_time": "2021-10-25T20:26:32.174Z"
   },
   {
    "duration": 16,
    "start_time": "2021-10-25T20:26:32.178Z"
   },
   {
    "duration": 15,
    "start_time": "2021-10-25T20:26:32.180Z"
   },
   {
    "duration": 13,
    "start_time": "2021-10-25T20:26:32.183Z"
   },
   {
    "duration": 11,
    "start_time": "2021-10-25T20:26:32.186Z"
   },
   {
    "duration": 9,
    "start_time": "2021-10-25T20:26:32.189Z"
   },
   {
    "duration": 8,
    "start_time": "2021-10-25T20:26:32.191Z"
   },
   {
    "duration": 6,
    "start_time": "2021-10-25T20:26:32.194Z"
   },
   {
    "duration": 3,
    "start_time": "2021-10-25T20:26:32.198Z"
   },
   {
    "duration": 1,
    "start_time": "2021-10-25T20:26:32.201Z"
   },
   {
    "duration": 0,
    "start_time": "2021-10-25T20:26:32.203Z"
   },
   {
    "duration": -2,
    "start_time": "2021-10-25T20:26:32.206Z"
   },
   {
    "duration": -3,
    "start_time": "2021-10-25T20:26:32.208Z"
   },
   {
    "duration": -4,
    "start_time": "2021-10-25T20:26:32.210Z"
   },
   {
    "duration": -5,
    "start_time": "2021-10-25T20:26:32.212Z"
   },
   {
    "duration": -13,
    "start_time": "2021-10-25T20:26:32.221Z"
   },
   {
    "duration": -15,
    "start_time": "2021-10-25T20:26:32.224Z"
   },
   {
    "duration": -16,
    "start_time": "2021-10-25T20:26:32.226Z"
   },
   {
    "duration": -18,
    "start_time": "2021-10-25T20:26:32.229Z"
   },
   {
    "duration": -19,
    "start_time": "2021-10-25T20:26:32.231Z"
   },
   {
    "duration": -21,
    "start_time": "2021-10-25T20:26:32.234Z"
   },
   {
    "duration": -23,
    "start_time": "2021-10-25T20:26:32.237Z"
   },
   {
    "duration": -24,
    "start_time": "2021-10-25T20:26:32.239Z"
   },
   {
    "duration": -26,
    "start_time": "2021-10-25T20:26:32.242Z"
   },
   {
    "duration": -28,
    "start_time": "2021-10-25T20:26:32.245Z"
   },
   {
    "duration": -31,
    "start_time": "2021-10-25T20:26:32.249Z"
   },
   {
    "duration": -32,
    "start_time": "2021-10-25T20:26:32.251Z"
   },
   {
    "duration": -34,
    "start_time": "2021-10-25T20:26:32.254Z"
   },
   {
    "duration": -37,
    "start_time": "2021-10-25T20:26:32.258Z"
   },
   {
    "duration": -39,
    "start_time": "2021-10-25T20:26:32.261Z"
   },
   {
    "duration": 1596,
    "start_time": "2021-10-25T20:26:54.438Z"
   },
   {
    "duration": 49,
    "start_time": "2021-10-25T20:26:56.036Z"
   },
   {
    "duration": 36,
    "start_time": "2021-10-25T20:26:56.087Z"
   },
   {
    "duration": 16,
    "start_time": "2021-10-25T20:26:56.125Z"
   },
   {
    "duration": 35,
    "start_time": "2021-10-25T20:26:56.144Z"
   },
   {
    "duration": 18,
    "start_time": "2021-10-25T20:26:56.181Z"
   },
   {
    "duration": 26,
    "start_time": "2021-10-25T20:26:56.201Z"
   },
   {
    "duration": 8,
    "start_time": "2021-10-25T20:26:56.231Z"
   },
   {
    "duration": 491,
    "start_time": "2021-10-25T20:26:56.241Z"
   },
   {
    "duration": 14,
    "start_time": "2021-10-25T20:26:56.723Z"
   },
   {
    "duration": 11,
    "start_time": "2021-10-25T20:26:56.727Z"
   },
   {
    "duration": 10,
    "start_time": "2021-10-25T20:26:56.730Z"
   },
   {
    "duration": 2,
    "start_time": "2021-10-25T20:26:56.739Z"
   },
   {
    "duration": 0,
    "start_time": "2021-10-25T20:26:56.742Z"
   },
   {
    "duration": -2,
    "start_time": "2021-10-25T20:26:56.746Z"
   },
   {
    "duration": -4,
    "start_time": "2021-10-25T20:26:56.749Z"
   },
   {
    "duration": -5,
    "start_time": "2021-10-25T20:26:56.752Z"
   },
   {
    "duration": -8,
    "start_time": "2021-10-25T20:26:56.756Z"
   },
   {
    "duration": -9,
    "start_time": "2021-10-25T20:26:56.759Z"
   },
   {
    "duration": -11,
    "start_time": "2021-10-25T20:26:56.762Z"
   },
   {
    "duration": -13,
    "start_time": "2021-10-25T20:26:56.765Z"
   },
   {
    "duration": -13,
    "start_time": "2021-10-25T20:26:56.767Z"
   },
   {
    "duration": -15,
    "start_time": "2021-10-25T20:26:56.770Z"
   },
   {
    "duration": -16,
    "start_time": "2021-10-25T20:26:56.773Z"
   },
   {
    "duration": -18,
    "start_time": "2021-10-25T20:26:56.776Z"
   },
   {
    "duration": -18,
    "start_time": "2021-10-25T20:26:56.778Z"
   },
   {
    "duration": -19,
    "start_time": "2021-10-25T20:26:56.780Z"
   },
   {
    "duration": -20,
    "start_time": "2021-10-25T20:26:56.783Z"
   },
   {
    "duration": -21,
    "start_time": "2021-10-25T20:26:56.785Z"
   },
   {
    "duration": -21,
    "start_time": "2021-10-25T20:26:56.787Z"
   },
   {
    "duration": -22,
    "start_time": "2021-10-25T20:26:56.789Z"
   },
   {
    "duration": -21,
    "start_time": "2021-10-25T20:26:56.790Z"
   },
   {
    "duration": -30,
    "start_time": "2021-10-25T20:26:56.800Z"
   },
   {
    "duration": -30,
    "start_time": "2021-10-25T20:26:56.802Z"
   },
   {
    "duration": -32,
    "start_time": "2021-10-25T20:26:56.805Z"
   },
   {
    "duration": -34,
    "start_time": "2021-10-25T20:26:56.808Z"
   },
   {
    "duration": -35,
    "start_time": "2021-10-25T20:26:56.811Z"
   },
   {
    "duration": -36,
    "start_time": "2021-10-25T20:26:56.813Z"
   },
   {
    "duration": -37,
    "start_time": "2021-10-25T20:26:56.816Z"
   },
   {
    "duration": 2465,
    "start_time": "2021-10-25T20:28:37.035Z"
   },
   {
    "duration": 1512,
    "start_time": "2021-10-25T20:30:09.778Z"
   },
   {
    "duration": 50,
    "start_time": "2021-10-25T20:30:11.292Z"
   },
   {
    "duration": 11,
    "start_time": "2021-10-25T20:30:11.344Z"
   },
   {
    "duration": 9,
    "start_time": "2021-10-25T20:30:11.357Z"
   },
   {
    "duration": 34,
    "start_time": "2021-10-25T20:30:11.368Z"
   },
   {
    "duration": 14,
    "start_time": "2021-10-25T20:30:11.404Z"
   },
   {
    "duration": 13,
    "start_time": "2021-10-25T20:30:11.420Z"
   },
   {
    "duration": 21,
    "start_time": "2021-10-25T20:30:11.435Z"
   },
   {
    "duration": 41,
    "start_time": "2021-10-25T20:30:11.458Z"
   },
   {
    "duration": 8,
    "start_time": "2021-10-25T20:30:11.500Z"
   },
   {
    "duration": 130,
    "start_time": "2021-10-25T20:30:11.510Z"
   },
   {
    "duration": -2,
    "start_time": "2021-10-25T20:30:11.646Z"
   },
   {
    "duration": -4,
    "start_time": "2021-10-25T20:30:11.649Z"
   },
   {
    "duration": -15,
    "start_time": "2021-10-25T20:30:11.661Z"
   },
   {
    "duration": -17,
    "start_time": "2021-10-25T20:30:11.663Z"
   },
   {
    "duration": -18,
    "start_time": "2021-10-25T20:30:11.665Z"
   },
   {
    "duration": -20,
    "start_time": "2021-10-25T20:30:11.668Z"
   },
   {
    "duration": -21,
    "start_time": "2021-10-25T20:30:11.670Z"
   },
   {
    "duration": -21,
    "start_time": "2021-10-25T20:30:11.671Z"
   },
   {
    "duration": -26,
    "start_time": "2021-10-25T20:30:11.676Z"
   },
   {
    "duration": -27,
    "start_time": "2021-10-25T20:30:11.678Z"
   },
   {
    "duration": -28,
    "start_time": "2021-10-25T20:30:11.680Z"
   },
   {
    "duration": -30,
    "start_time": "2021-10-25T20:30:11.683Z"
   },
   {
    "duration": -32,
    "start_time": "2021-10-25T20:30:11.686Z"
   },
   {
    "duration": -35,
    "start_time": "2021-10-25T20:30:11.689Z"
   },
   {
    "duration": -36,
    "start_time": "2021-10-25T20:30:11.691Z"
   },
   {
    "duration": -37,
    "start_time": "2021-10-25T20:30:11.693Z"
   },
   {
    "duration": -39,
    "start_time": "2021-10-25T20:30:11.696Z"
   },
   {
    "duration": -39,
    "start_time": "2021-10-25T20:30:11.697Z"
   },
   {
    "duration": -42,
    "start_time": "2021-10-25T20:30:11.700Z"
   },
   {
    "duration": -43,
    "start_time": "2021-10-25T20:30:11.702Z"
   },
   {
    "duration": -44,
    "start_time": "2021-10-25T20:30:11.704Z"
   },
   {
    "duration": -45,
    "start_time": "2021-10-25T20:30:11.706Z"
   },
   {
    "duration": -46,
    "start_time": "2021-10-25T20:30:11.708Z"
   },
   {
    "duration": -48,
    "start_time": "2021-10-25T20:30:11.710Z"
   },
   {
    "duration": -49,
    "start_time": "2021-10-25T20:30:11.712Z"
   },
   {
    "duration": -50,
    "start_time": "2021-10-25T20:30:11.714Z"
   },
   {
    "duration": -52,
    "start_time": "2021-10-25T20:30:11.717Z"
   },
   {
    "duration": -54,
    "start_time": "2021-10-25T20:30:11.719Z"
   },
   {
    "duration": 1661,
    "start_time": "2021-10-25T20:30:46.383Z"
   },
   {
    "duration": 46,
    "start_time": "2021-10-25T20:30:48.046Z"
   },
   {
    "duration": 10,
    "start_time": "2021-10-25T20:30:48.094Z"
   },
   {
    "duration": 8,
    "start_time": "2021-10-25T20:30:48.106Z"
   },
   {
    "duration": 35,
    "start_time": "2021-10-25T20:30:48.115Z"
   },
   {
    "duration": 37,
    "start_time": "2021-10-25T20:30:48.152Z"
   },
   {
    "duration": 8,
    "start_time": "2021-10-25T20:30:48.190Z"
   },
   {
    "duration": 16,
    "start_time": "2021-10-25T20:30:48.201Z"
   },
   {
    "duration": 59,
    "start_time": "2021-10-25T20:30:48.219Z"
   },
   {
    "duration": 8,
    "start_time": "2021-10-25T20:30:48.280Z"
   },
   {
    "duration": 6,
    "start_time": "2021-10-25T20:30:48.289Z"
   },
   {
    "duration": 6,
    "start_time": "2021-10-25T20:30:48.297Z"
   },
   {
    "duration": 12,
    "start_time": "2021-10-25T20:30:48.304Z"
   },
   {
    "duration": 172,
    "start_time": "2021-10-25T20:30:48.317Z"
   },
   {
    "duration": 6,
    "start_time": "2021-10-25T20:30:48.490Z"
   },
   {
    "duration": 6,
    "start_time": "2021-10-25T20:30:48.497Z"
   },
   {
    "duration": 12,
    "start_time": "2021-10-25T20:30:48.505Z"
   },
   {
    "duration": 131,
    "start_time": "2021-10-25T20:30:48.519Z"
   },
   {
    "duration": 16,
    "start_time": "2021-10-25T20:30:48.651Z"
   },
   {
    "duration": 11,
    "start_time": "2021-10-25T20:30:48.677Z"
   },
   {
    "duration": 277,
    "start_time": "2021-10-25T20:30:48.690Z"
   },
   {
    "duration": 248,
    "start_time": "2021-10-25T20:30:48.968Z"
   },
   {
    "duration": 10,
    "start_time": "2021-10-25T20:30:49.219Z"
   },
   {
    "duration": 434,
    "start_time": "2021-10-25T20:30:49.230Z"
   },
   {
    "duration": 10,
    "start_time": "2021-10-25T20:30:49.666Z"
   },
   {
    "duration": 6,
    "start_time": "2021-10-25T20:30:49.678Z"
   },
   {
    "duration": 19,
    "start_time": "2021-10-25T20:30:49.686Z"
   },
   {
    "duration": 194,
    "start_time": "2021-10-25T20:30:49.707Z"
   },
   {
    "duration": 275,
    "start_time": "2021-10-25T20:30:49.903Z"
   },
   {
    "duration": 10,
    "start_time": "2021-10-25T20:30:50.180Z"
   },
   {
    "duration": 21,
    "start_time": "2021-10-25T20:30:50.192Z"
   },
   {
    "duration": 17,
    "start_time": "2021-10-25T20:30:50.215Z"
   },
   {
    "duration": 25,
    "start_time": "2021-10-25T20:30:50.235Z"
   },
   {
    "duration": 31,
    "start_time": "2021-10-25T20:30:50.262Z"
   },
   {
    "duration": 6,
    "start_time": "2021-10-25T20:30:50.296Z"
   },
   {
    "duration": 337,
    "start_time": "2021-10-25T20:30:50.304Z"
   },
   {
    "duration": 324,
    "start_time": "2021-10-25T20:30:50.642Z"
   },
   {
    "duration": 24,
    "start_time": "2021-10-25T20:30:50.968Z"
   },
   {
    "duration": 2511,
    "start_time": "2021-10-26T16:26:17.730Z"
   },
   {
    "duration": 57,
    "start_time": "2021-10-26T16:26:20.244Z"
   },
   {
    "duration": 12,
    "start_time": "2021-10-26T16:26:20.305Z"
   },
   {
    "duration": 9,
    "start_time": "2021-10-26T16:26:20.320Z"
   },
   {
    "duration": 596,
    "start_time": "2021-10-26T16:26:20.331Z"
   },
   {
    "duration": 582,
    "start_time": "2021-10-26T16:26:20.350Z"
   },
   {
    "duration": 580,
    "start_time": "2021-10-26T16:26:20.353Z"
   },
   {
    "duration": 577,
    "start_time": "2021-10-26T16:26:20.358Z"
   },
   {
    "duration": 565,
    "start_time": "2021-10-26T16:26:20.371Z"
   },
   {
    "duration": 564,
    "start_time": "2021-10-26T16:26:20.374Z"
   },
   {
    "duration": 562,
    "start_time": "2021-10-26T16:26:20.377Z"
   },
   {
    "duration": 557,
    "start_time": "2021-10-26T16:26:20.383Z"
   },
   {
    "duration": 532,
    "start_time": "2021-10-26T16:26:20.410Z"
   },
   {
    "duration": 522,
    "start_time": "2021-10-26T16:26:20.421Z"
   },
   {
    "duration": 506,
    "start_time": "2021-10-26T16:26:20.438Z"
   },
   {
    "duration": 493,
    "start_time": "2021-10-26T16:26:20.453Z"
   },
   {
    "duration": 482,
    "start_time": "2021-10-26T16:26:20.465Z"
   },
   {
    "duration": 474,
    "start_time": "2021-10-26T16:26:20.475Z"
   },
   {
    "duration": 462,
    "start_time": "2021-10-26T16:26:20.488Z"
   },
   {
    "duration": 440,
    "start_time": "2021-10-26T16:26:20.511Z"
   },
   {
    "duration": 431,
    "start_time": "2021-10-26T16:26:20.522Z"
   },
   {
    "duration": 427,
    "start_time": "2021-10-26T16:26:20.527Z"
   },
   {
    "duration": 415,
    "start_time": "2021-10-26T16:26:20.540Z"
   },
   {
    "duration": 408,
    "start_time": "2021-10-26T16:26:20.549Z"
   },
   {
    "duration": 405,
    "start_time": "2021-10-26T16:26:20.553Z"
   },
   {
    "duration": 404,
    "start_time": "2021-10-26T16:26:20.556Z"
   },
   {
    "duration": 396,
    "start_time": "2021-10-26T16:26:20.565Z"
   },
   {
    "duration": 394,
    "start_time": "2021-10-26T16:26:20.568Z"
   },
   {
    "duration": 393,
    "start_time": "2021-10-26T16:26:20.571Z"
   },
   {
    "duration": 387,
    "start_time": "2021-10-26T16:26:20.578Z"
   },
   {
    "duration": 385,
    "start_time": "2021-10-26T16:26:20.581Z"
   },
   {
    "duration": 386,
    "start_time": "2021-10-26T16:26:20.583Z"
   },
   {
    "duration": 414,
    "start_time": "2021-10-26T16:26:20.586Z"
   },
   {
    "duration": 413,
    "start_time": "2021-10-26T16:26:20.589Z"
   },
   {
    "duration": 408,
    "start_time": "2021-10-26T16:26:20.595Z"
   },
   {
    "duration": 407,
    "start_time": "2021-10-26T16:26:20.598Z"
   },
   {
    "duration": 406,
    "start_time": "2021-10-26T16:26:20.600Z"
   },
   {
    "duration": 405,
    "start_time": "2021-10-26T16:26:20.603Z"
   },
   {
    "duration": 56,
    "start_time": "2021-10-26T16:27:03.824Z"
   },
   {
    "duration": 48,
    "start_time": "2021-10-26T16:27:14.520Z"
   },
   {
    "duration": 1952,
    "start_time": "2021-10-26T16:27:19.477Z"
   },
   {
    "duration": 57,
    "start_time": "2021-10-26T16:27:21.432Z"
   },
   {
    "duration": 14,
    "start_time": "2021-10-26T16:27:21.493Z"
   },
   {
    "duration": 16,
    "start_time": "2021-10-26T16:27:21.510Z"
   },
   {
    "duration": 71,
    "start_time": "2021-10-26T16:27:21.529Z"
   },
   {
    "duration": 20,
    "start_time": "2021-10-26T16:27:21.602Z"
   },
   {
    "duration": 11,
    "start_time": "2021-10-26T16:27:21.625Z"
   },
   {
    "duration": 30,
    "start_time": "2021-10-26T16:27:21.640Z"
   },
   {
    "duration": 57,
    "start_time": "2021-10-26T16:27:21.673Z"
   },
   {
    "duration": 11,
    "start_time": "2021-10-26T16:27:21.732Z"
   },
   {
    "duration": 11,
    "start_time": "2021-10-26T16:27:21.745Z"
   },
   {
    "duration": 13,
    "start_time": "2021-10-26T16:27:21.758Z"
   },
   {
    "duration": 14,
    "start_time": "2021-10-26T16:27:21.800Z"
   },
   {
    "duration": 250,
    "start_time": "2021-10-26T16:27:21.816Z"
   },
   {
    "duration": 7,
    "start_time": "2021-10-26T16:27:22.069Z"
   },
   {
    "duration": 22,
    "start_time": "2021-10-26T16:27:22.078Z"
   },
   {
    "duration": 20,
    "start_time": "2021-10-26T16:27:22.102Z"
   },
   {
    "duration": 174,
    "start_time": "2021-10-26T16:27:22.124Z"
   },
   {
    "duration": 21,
    "start_time": "2021-10-26T16:27:22.300Z"
   },
   {
    "duration": 15,
    "start_time": "2021-10-26T16:27:22.324Z"
   },
   {
    "duration": 409,
    "start_time": "2021-10-26T16:27:22.341Z"
   },
   {
    "duration": 387,
    "start_time": "2021-10-26T16:27:22.753Z"
   },
   {
    "duration": 13,
    "start_time": "2021-10-26T16:27:23.145Z"
   },
   {
    "duration": 712,
    "start_time": "2021-10-26T16:27:23.161Z"
   },
   {
    "duration": 8,
    "start_time": "2021-10-26T16:27:23.875Z"
   },
   {
    "duration": 20,
    "start_time": "2021-10-26T16:27:23.885Z"
   },
   {
    "duration": 27,
    "start_time": "2021-10-26T16:27:23.907Z"
   },
   {
    "duration": 294,
    "start_time": "2021-10-26T16:27:23.936Z"
   },
   {
    "duration": 361,
    "start_time": "2021-10-26T16:27:24.232Z"
   },
   {
    "duration": 12,
    "start_time": "2021-10-26T16:27:24.595Z"
   },
   {
    "duration": 26,
    "start_time": "2021-10-26T16:27:24.610Z"
   },
   {
    "duration": 12,
    "start_time": "2021-10-26T16:27:24.639Z"
   },
   {
    "duration": 47,
    "start_time": "2021-10-26T16:27:24.653Z"
   },
   {
    "duration": 19,
    "start_time": "2021-10-26T16:27:24.703Z"
   },
   {
    "duration": 10,
    "start_time": "2021-10-26T16:27:24.724Z"
   },
   {
    "duration": 560,
    "start_time": "2021-10-26T16:27:24.736Z"
   },
   {
    "duration": 548,
    "start_time": "2021-10-26T16:27:25.301Z"
   },
   {
    "duration": 24,
    "start_time": "2021-10-26T16:27:25.852Z"
   },
   {
    "duration": 60,
    "start_time": "2021-10-26T16:28:13.232Z"
   },
   {
    "duration": 595,
    "start_time": "2021-10-26T16:28:53.106Z"
   },
   {
    "duration": 23,
    "start_time": "2021-10-26T16:28:58.950Z"
   },
   {
    "duration": 331,
    "start_time": "2021-10-26T16:29:23.089Z"
   },
   {
    "duration": 25,
    "start_time": "2021-10-26T16:29:47.420Z"
   },
   {
    "duration": 13,
    "start_time": "2021-10-26T16:33:59.982Z"
   },
   {
    "duration": 13,
    "start_time": "2021-10-26T16:34:20.255Z"
   },
   {
    "duration": 13,
    "start_time": "2021-10-26T16:34:40.208Z"
   },
   {
    "duration": 15,
    "start_time": "2021-10-26T16:34:56.093Z"
   },
   {
    "duration": 12,
    "start_time": "2021-10-26T16:35:51.894Z"
   },
   {
    "duration": 11,
    "start_time": "2021-10-26T16:35:58.503Z"
   },
   {
    "duration": 13,
    "start_time": "2021-10-26T16:36:31.566Z"
   },
   {
    "duration": 34,
    "start_time": "2021-10-26T16:38:42.493Z"
   },
   {
    "duration": 17,
    "start_time": "2021-10-26T16:38:56.697Z"
   },
   {
    "duration": 943,
    "start_time": "2021-10-26T16:41:14.765Z"
   },
   {
    "duration": 1393,
    "start_time": "2021-10-26T16:41:32.194Z"
   },
   {
    "duration": 247,
    "start_time": "2021-10-26T16:45:18.544Z"
   },
   {
    "duration": 696,
    "start_time": "2021-10-26T16:45:27.644Z"
   },
   {
    "duration": 246,
    "start_time": "2021-10-26T16:45:43.856Z"
   },
   {
    "duration": 301,
    "start_time": "2021-10-26T16:45:49.594Z"
   },
   {
    "duration": 271,
    "start_time": "2021-10-26T16:48:57.294Z"
   },
   {
    "duration": 106,
    "start_time": "2021-10-26T17:03:39.005Z"
   },
   {
    "duration": 437,
    "start_time": "2021-10-26T17:03:45.556Z"
   },
   {
    "duration": 112,
    "start_time": "2021-10-26T17:03:55.144Z"
   },
   {
    "duration": 368,
    "start_time": "2021-10-26T17:04:00.766Z"
   },
   {
    "duration": 2356,
    "start_time": "2021-10-26T17:04:14.195Z"
   },
   {
    "duration": 58,
    "start_time": "2021-10-26T17:04:16.554Z"
   },
   {
    "duration": 14,
    "start_time": "2021-10-26T17:04:16.615Z"
   },
   {
    "duration": 7,
    "start_time": "2021-10-26T17:04:16.631Z"
   },
   {
    "duration": 81,
    "start_time": "2021-10-26T17:04:16.641Z"
   },
   {
    "duration": 20,
    "start_time": "2021-10-26T17:04:16.725Z"
   },
   {
    "duration": 10,
    "start_time": "2021-10-26T17:04:16.748Z"
   },
   {
    "duration": 45,
    "start_time": "2021-10-26T17:04:16.762Z"
   },
   {
    "duration": 12,
    "start_time": "2021-10-26T17:04:16.810Z"
   },
   {
    "duration": 24,
    "start_time": "2021-10-26T17:04:16.824Z"
   },
   {
    "duration": 65,
    "start_time": "2021-10-26T17:04:16.851Z"
   },
   {
    "duration": 10,
    "start_time": "2021-10-26T17:04:16.919Z"
   },
   {
    "duration": 13,
    "start_time": "2021-10-26T17:04:16.932Z"
   },
   {
    "duration": 7,
    "start_time": "2021-10-26T17:04:16.948Z"
   },
   {
    "duration": 15,
    "start_time": "2021-10-26T17:04:16.957Z"
   },
   {
    "duration": 318,
    "start_time": "2021-10-26T17:04:17.001Z"
   },
   {
    "duration": 8,
    "start_time": "2021-10-26T17:04:17.322Z"
   },
   {
    "duration": 9,
    "start_time": "2021-10-26T17:04:17.332Z"
   },
   {
    "duration": 14,
    "start_time": "2021-10-26T17:04:17.343Z"
   },
   {
    "duration": 211,
    "start_time": "2021-10-26T17:04:17.359Z"
   },
   {
    "duration": 30,
    "start_time": "2021-10-26T17:04:17.572Z"
   },
   {
    "duration": 15,
    "start_time": "2021-10-26T17:04:17.605Z"
   },
   {
    "duration": 428,
    "start_time": "2021-10-26T17:04:17.625Z"
   },
   {
    "duration": 409,
    "start_time": "2021-10-26T17:04:18.056Z"
   },
   {
    "duration": 30,
    "start_time": "2021-10-26T17:04:18.470Z"
   },
   {
    "duration": 768,
    "start_time": "2021-10-26T17:04:18.504Z"
   },
   {
    "duration": 8,
    "start_time": "2021-10-26T17:04:19.274Z"
   },
   {
    "duration": 9,
    "start_time": "2021-10-26T17:04:19.302Z"
   },
   {
    "duration": 20,
    "start_time": "2021-10-26T17:04:19.314Z"
   },
   {
    "duration": 326,
    "start_time": "2021-10-26T17:04:19.337Z"
   },
   {
    "duration": 406,
    "start_time": "2021-10-26T17:04:19.666Z"
   },
   {
    "duration": 14,
    "start_time": "2021-10-26T17:04:20.075Z"
   },
   {
    "duration": 28,
    "start_time": "2021-10-26T17:04:20.103Z"
   },
   {
    "duration": 18,
    "start_time": "2021-10-26T17:04:20.134Z"
   },
   {
    "duration": 52,
    "start_time": "2021-10-26T17:04:20.155Z"
   },
   {
    "duration": 28,
    "start_time": "2021-10-26T17:04:20.210Z"
   },
   {
    "duration": 9,
    "start_time": "2021-10-26T17:04:20.241Z"
   },
   {
    "duration": 554,
    "start_time": "2021-10-26T17:04:20.253Z"
   },
   {
    "duration": 545,
    "start_time": "2021-10-26T17:04:20.809Z"
   },
   {
    "duration": 52,
    "start_time": "2021-10-26T17:04:21.357Z"
   },
   {
    "duration": 545,
    "start_time": "2021-10-26T17:06:47.900Z"
   },
   {
    "duration": 1919,
    "start_time": "2021-10-26T17:07:03.522Z"
   },
   {
    "duration": 59,
    "start_time": "2021-10-26T17:07:05.444Z"
   },
   {
    "duration": 14,
    "start_time": "2021-10-26T17:07:05.506Z"
   },
   {
    "duration": 9,
    "start_time": "2021-10-26T17:07:05.522Z"
   },
   {
    "duration": 80,
    "start_time": "2021-10-26T17:07:05.533Z"
   },
   {
    "duration": 21,
    "start_time": "2021-10-26T17:07:05.616Z"
   },
   {
    "duration": 10,
    "start_time": "2021-10-26T17:07:05.639Z"
   },
   {
    "duration": 18,
    "start_time": "2021-10-26T17:07:05.653Z"
   },
   {
    "duration": 12,
    "start_time": "2021-10-26T17:07:05.699Z"
   },
   {
    "duration": 23,
    "start_time": "2021-10-26T17:07:05.714Z"
   },
   {
    "duration": 33,
    "start_time": "2021-10-26T17:07:05.740Z"
   },
   {
    "duration": 11,
    "start_time": "2021-10-26T17:07:05.802Z"
   },
   {
    "duration": 11,
    "start_time": "2021-10-26T17:07:05.816Z"
   },
   {
    "duration": 13,
    "start_time": "2021-10-26T17:07:05.829Z"
   },
   {
    "duration": 21,
    "start_time": "2021-10-26T17:07:05.844Z"
   },
   {
    "duration": 339,
    "start_time": "2021-10-26T17:07:05.868Z"
   },
   {
    "duration": 7,
    "start_time": "2021-10-26T17:07:06.210Z"
   },
   {
    "duration": 15,
    "start_time": "2021-10-26T17:07:06.219Z"
   },
   {
    "duration": 11,
    "start_time": "2021-10-26T17:07:06.237Z"
   },
   {
    "duration": 198,
    "start_time": "2021-10-26T17:07:06.250Z"
   },
   {
    "duration": 21,
    "start_time": "2021-10-26T17:07:06.450Z"
   },
   {
    "duration": 34,
    "start_time": "2021-10-26T17:07:06.473Z"
   },
   {
    "duration": 404,
    "start_time": "2021-10-26T17:07:06.512Z"
   },
   {
    "duration": 397,
    "start_time": "2021-10-26T17:07:06.919Z"
   },
   {
    "duration": 12,
    "start_time": "2021-10-26T17:07:07.319Z"
   },
   {
    "duration": 717,
    "start_time": "2021-10-26T17:07:07.334Z"
   },
   {
    "duration": 7,
    "start_time": "2021-10-26T17:07:08.054Z"
   },
   {
    "duration": 11,
    "start_time": "2021-10-26T17:07:08.064Z"
   },
   {
    "duration": 37,
    "start_time": "2021-10-26T17:07:08.078Z"
   },
   {
    "duration": 311,
    "start_time": "2021-10-26T17:07:08.118Z"
   },
   {
    "duration": 383,
    "start_time": "2021-10-26T17:07:08.431Z"
   },
   {
    "duration": 14,
    "start_time": "2021-10-26T17:07:08.816Z"
   },
   {
    "duration": 17,
    "start_time": "2021-10-26T17:07:08.833Z"
   },
   {
    "duration": 14,
    "start_time": "2021-10-26T17:07:08.853Z"
   },
   {
    "duration": 24,
    "start_time": "2021-10-26T17:07:08.902Z"
   },
   {
    "duration": 19,
    "start_time": "2021-10-26T17:07:08.928Z"
   },
   {
    "duration": 7,
    "start_time": "2021-10-26T17:07:08.949Z"
   },
   {
    "duration": 581,
    "start_time": "2021-10-26T17:07:08.958Z"
   },
   {
    "duration": 561,
    "start_time": "2021-10-26T17:07:09.542Z"
   },
   {
    "duration": 26,
    "start_time": "2021-10-26T17:07:10.105Z"
   },
   {
    "duration": 938,
    "start_time": "2021-10-26T17:11:36.174Z"
   },
   {
    "duration": 948,
    "start_time": "2021-10-26T17:11:47.685Z"
   },
   {
    "duration": 1048,
    "start_time": "2021-10-26T17:11:59.361Z"
   },
   {
    "duration": 526,
    "start_time": "2021-10-26T17:12:09.980Z"
   },
   {
    "duration": 9585,
    "start_time": "2021-10-26T17:13:19.926Z"
   },
   {
    "duration": 1996,
    "start_time": "2021-10-26T17:13:46.776Z"
   },
   {
    "duration": 58,
    "start_time": "2021-10-26T17:13:48.775Z"
   },
   {
    "duration": 13,
    "start_time": "2021-10-26T17:13:48.836Z"
   },
   {
    "duration": 5,
    "start_time": "2021-10-26T17:13:48.852Z"
   },
   {
    "duration": 79,
    "start_time": "2021-10-26T17:13:48.859Z"
   },
   {
    "duration": 20,
    "start_time": "2021-10-26T17:13:48.941Z"
   },
   {
    "duration": 9,
    "start_time": "2021-10-26T17:13:48.963Z"
   },
   {
    "duration": 14,
    "start_time": "2021-10-26T17:13:49.001Z"
   },
   {
    "duration": 12,
    "start_time": "2021-10-26T17:13:49.021Z"
   },
   {
    "duration": 25,
    "start_time": "2021-10-26T17:13:49.037Z"
   },
   {
    "duration": 36,
    "start_time": "2021-10-26T17:13:49.102Z"
   },
   {
    "duration": 11,
    "start_time": "2021-10-26T17:13:49.141Z"
   },
   {
    "duration": 12,
    "start_time": "2021-10-26T17:13:49.154Z"
   },
   {
    "duration": 35,
    "start_time": "2021-10-26T17:13:49.168Z"
   },
   {
    "duration": 21,
    "start_time": "2021-10-26T17:13:49.205Z"
   },
   {
    "duration": 329,
    "start_time": "2021-10-26T17:13:49.229Z"
   },
   {
    "duration": 8,
    "start_time": "2021-10-26T17:13:49.560Z"
   },
   {
    "duration": 12,
    "start_time": "2021-10-26T17:13:49.571Z"
   },
   {
    "duration": 18,
    "start_time": "2021-10-26T17:13:49.586Z"
   },
   {
    "duration": 189,
    "start_time": "2021-10-26T17:13:49.606Z"
   },
   {
    "duration": 20,
    "start_time": "2021-10-26T17:13:49.801Z"
   },
   {
    "duration": 15,
    "start_time": "2021-10-26T17:13:49.824Z"
   },
   {
    "duration": 433,
    "start_time": "2021-10-26T17:13:49.841Z"
   },
   {
    "duration": 393,
    "start_time": "2021-10-26T17:13:50.276Z"
   },
   {
    "duration": 308,
    "start_time": "2021-10-26T17:13:50.671Z"
   },
   {
    "duration": 20,
    "start_time": "2021-10-26T17:13:50.981Z"
   },
   {
    "duration": 701,
    "start_time": "2021-10-26T17:13:51.006Z"
   },
   {
    "duration": 6,
    "start_time": "2021-10-26T17:13:51.710Z"
   },
   {
    "duration": 13,
    "start_time": "2021-10-26T17:13:51.719Z"
   },
   {
    "duration": 24,
    "start_time": "2021-10-26T17:13:51.734Z"
   },
   {
    "duration": 394,
    "start_time": "2021-10-26T17:13:51.760Z"
   },
   {
    "duration": 276,
    "start_time": "2021-10-26T17:13:52.156Z"
   },
   {
    "duration": 12,
    "start_time": "2021-10-26T17:13:52.435Z"
   },
   {
    "duration": 16,
    "start_time": "2021-10-26T17:13:52.450Z"
   },
   {
    "duration": 37,
    "start_time": "2021-10-26T17:13:52.469Z"
   },
   {
    "duration": 24,
    "start_time": "2021-10-26T17:13:52.509Z"
   },
   {
    "duration": 19,
    "start_time": "2021-10-26T17:13:52.536Z"
   },
   {
    "duration": 11,
    "start_time": "2021-10-26T17:13:52.558Z"
   },
   {
    "duration": 568,
    "start_time": "2021-10-26T17:13:52.571Z"
   },
   {
    "duration": 543,
    "start_time": "2021-10-26T17:13:53.141Z"
   },
   {
    "duration": 34,
    "start_time": "2021-10-26T17:13:53.687Z"
   },
   {
    "duration": -29,
    "start_time": "2021-10-26T17:15:05.580Z"
   },
   {
    "duration": 2049,
    "start_time": "2021-10-26T17:15:12.996Z"
   },
   {
    "duration": 63,
    "start_time": "2021-10-26T17:15:15.048Z"
   },
   {
    "duration": 16,
    "start_time": "2021-10-26T17:15:15.119Z"
   },
   {
    "duration": 5,
    "start_time": "2021-10-26T17:15:15.138Z"
   },
   {
    "duration": 93,
    "start_time": "2021-10-26T17:15:15.145Z"
   },
   {
    "duration": 21,
    "start_time": "2021-10-26T17:15:15.241Z"
   },
   {
    "duration": 9,
    "start_time": "2021-10-26T17:15:15.266Z"
   },
   {
    "duration": 12,
    "start_time": "2021-10-26T17:15:15.302Z"
   },
   {
    "duration": 14,
    "start_time": "2021-10-26T17:15:15.317Z"
   },
   {
    "duration": 23,
    "start_time": "2021-10-26T17:15:15.334Z"
   },
   {
    "duration": 68,
    "start_time": "2021-10-26T17:15:15.359Z"
   },
   {
    "duration": 11,
    "start_time": "2021-10-26T17:15:15.429Z"
   },
   {
    "duration": 9,
    "start_time": "2021-10-26T17:15:15.442Z"
   },
   {
    "duration": 7,
    "start_time": "2021-10-26T17:15:15.454Z"
   },
   {
    "duration": 45,
    "start_time": "2021-10-26T17:15:15.464Z"
   },
   {
    "duration": 326,
    "start_time": "2021-10-26T17:15:15.512Z"
   },
   {
    "duration": 8,
    "start_time": "2021-10-26T17:15:15.841Z"
   },
   {
    "duration": 16,
    "start_time": "2021-10-26T17:15:15.852Z"
   },
   {
    "duration": 30,
    "start_time": "2021-10-26T17:15:15.870Z"
   },
   {
    "duration": 186,
    "start_time": "2021-10-26T17:15:15.903Z"
   },
   {
    "duration": 28,
    "start_time": "2021-10-26T17:15:16.091Z"
   },
   {
    "duration": 14,
    "start_time": "2021-10-26T17:15:16.124Z"
   },
   {
    "duration": 407,
    "start_time": "2021-10-26T17:15:16.141Z"
   },
   {
    "duration": 380,
    "start_time": "2021-10-26T17:15:16.551Z"
   },
   {
    "duration": 336,
    "start_time": "2021-10-26T17:15:16.934Z"
   },
   {
    "duration": 13,
    "start_time": "2021-10-26T17:15:17.273Z"
   },
   {
    "duration": 780,
    "start_time": "2021-10-26T17:15:17.288Z"
   },
   {
    "duration": 9,
    "start_time": "2021-10-26T17:15:18.071Z"
   },
   {
    "duration": 9,
    "start_time": "2021-10-26T17:15:18.101Z"
   },
   {
    "duration": 19,
    "start_time": "2021-10-26T17:15:18.113Z"
   },
   {
    "duration": 425,
    "start_time": "2021-10-26T17:15:18.137Z"
   },
   {
    "duration": 276,
    "start_time": "2021-10-26T17:15:18.566Z"
   },
   {
    "duration": 12,
    "start_time": "2021-10-26T17:15:18.845Z"
   },
   {
    "duration": 17,
    "start_time": "2021-10-26T17:15:18.859Z"
   },
   {
    "duration": 20,
    "start_time": "2021-10-26T17:15:18.899Z"
   },
   {
    "duration": 39,
    "start_time": "2021-10-26T17:15:18.922Z"
   },
   {
    "duration": 53,
    "start_time": "2021-10-26T17:15:18.964Z"
   },
   {
    "duration": 8,
    "start_time": "2021-10-26T17:15:19.020Z"
   },
   {
    "duration": 569,
    "start_time": "2021-10-26T17:15:19.031Z"
   },
   {
    "duration": 535,
    "start_time": "2021-10-26T17:15:19.602Z"
   },
   {
    "duration": 25,
    "start_time": "2021-10-26T17:15:20.140Z"
   },
   {
    "duration": 8732,
    "start_time": "2021-10-26T17:15:31.058Z"
   },
   {
    "duration": 1989,
    "start_time": "2021-10-26T17:16:19.168Z"
   },
   {
    "duration": 58,
    "start_time": "2021-10-26T17:16:21.160Z"
   },
   {
    "duration": 15,
    "start_time": "2021-10-26T17:16:21.221Z"
   },
   {
    "duration": 6,
    "start_time": "2021-10-26T17:16:21.238Z"
   },
   {
    "duration": 78,
    "start_time": "2021-10-26T17:16:21.247Z"
   },
   {
    "duration": 21,
    "start_time": "2021-10-26T17:16:21.327Z"
   },
   {
    "duration": 11,
    "start_time": "2021-10-26T17:16:21.351Z"
   },
   {
    "duration": 40,
    "start_time": "2021-10-26T17:16:21.366Z"
   },
   {
    "duration": 11,
    "start_time": "2021-10-26T17:16:21.409Z"
   },
   {
    "duration": 24,
    "start_time": "2021-10-26T17:16:21.422Z"
   },
   {
    "duration": 68,
    "start_time": "2021-10-26T17:16:21.448Z"
   },
   {
    "duration": 13,
    "start_time": "2021-10-26T17:16:21.518Z"
   },
   {
    "duration": 7,
    "start_time": "2021-10-26T17:16:21.534Z"
   },
   {
    "duration": 11,
    "start_time": "2021-10-26T17:16:21.544Z"
   },
   {
    "duration": 15,
    "start_time": "2021-10-26T17:16:21.557Z"
   },
   {
    "duration": 345,
    "start_time": "2021-10-26T17:16:21.574Z"
   },
   {
    "duration": 8,
    "start_time": "2021-10-26T17:16:21.922Z"
   },
   {
    "duration": 9,
    "start_time": "2021-10-26T17:16:21.933Z"
   },
   {
    "duration": 16,
    "start_time": "2021-10-26T17:16:21.945Z"
   },
   {
    "duration": 203,
    "start_time": "2021-10-26T17:16:21.964Z"
   },
   {
    "duration": 34,
    "start_time": "2021-10-26T17:16:22.169Z"
   },
   {
    "duration": 24,
    "start_time": "2021-10-26T17:16:22.205Z"
   },
   {
    "duration": 407,
    "start_time": "2021-10-26T17:16:22.234Z"
   },
   {
    "duration": 392,
    "start_time": "2021-10-26T17:16:22.644Z"
   },
   {
    "duration": 359,
    "start_time": "2021-10-26T17:16:23.038Z"
   },
   {
    "duration": 13,
    "start_time": "2021-10-26T17:16:23.399Z"
   },
   {
    "duration": 700,
    "start_time": "2021-10-26T17:16:23.414Z"
   },
   {
    "duration": 6,
    "start_time": "2021-10-26T17:16:24.117Z"
   },
   {
    "duration": 9,
    "start_time": "2021-10-26T17:16:24.126Z"
   },
   {
    "duration": 18,
    "start_time": "2021-10-26T17:16:24.137Z"
   },
   {
    "duration": 413,
    "start_time": "2021-10-26T17:16:24.157Z"
   },
   {
    "duration": 272,
    "start_time": "2021-10-26T17:16:24.573Z"
   },
   {
    "duration": 11,
    "start_time": "2021-10-26T17:16:24.848Z"
   },
   {
    "duration": 14,
    "start_time": "2021-10-26T17:16:24.862Z"
   },
   {
    "duration": 12,
    "start_time": "2021-10-26T17:16:24.900Z"
   },
   {
    "duration": 23,
    "start_time": "2021-10-26T17:16:24.915Z"
   },
   {
    "duration": 19,
    "start_time": "2021-10-26T17:16:24.941Z"
   },
   {
    "duration": 38,
    "start_time": "2021-10-26T17:16:24.963Z"
   },
   {
    "duration": 679,
    "start_time": "2021-10-26T17:16:25.004Z"
   },
   {
    "duration": 563,
    "start_time": "2021-10-26T17:16:25.686Z"
   },
   {
    "duration": 26,
    "start_time": "2021-10-26T17:16:26.252Z"
   },
   {
    "duration": 2083,
    "start_time": "2021-10-26T17:17:53.480Z"
   },
   {
    "duration": 56,
    "start_time": "2021-10-26T17:17:55.566Z"
   },
   {
    "duration": 14,
    "start_time": "2021-10-26T17:17:55.628Z"
   },
   {
    "duration": 5,
    "start_time": "2021-10-26T17:17:55.644Z"
   },
   {
    "duration": 101,
    "start_time": "2021-10-26T17:17:55.651Z"
   },
   {
    "duration": 24,
    "start_time": "2021-10-26T17:17:55.755Z"
   },
   {
    "duration": 12,
    "start_time": "2021-10-26T17:17:55.804Z"
   },
   {
    "duration": 19,
    "start_time": "2021-10-26T17:17:55.820Z"
   },
   {
    "duration": 16,
    "start_time": "2021-10-26T17:17:55.842Z"
   },
   {
    "duration": 58,
    "start_time": "2021-10-26T17:17:55.861Z"
   },
   {
    "duration": 33,
    "start_time": "2021-10-26T17:17:55.922Z"
   },
   {
    "duration": 10,
    "start_time": "2021-10-26T17:17:55.957Z"
   },
   {
    "duration": 7,
    "start_time": "2021-10-26T17:17:56.001Z"
   },
   {
    "duration": 6,
    "start_time": "2021-10-26T17:17:56.010Z"
   },
   {
    "duration": 15,
    "start_time": "2021-10-26T17:17:56.018Z"
   },
   {
    "duration": 377,
    "start_time": "2021-10-26T17:17:56.037Z"
   },
   {
    "duration": 10,
    "start_time": "2021-10-26T17:17:56.417Z"
   },
   {
    "duration": 9,
    "start_time": "2021-10-26T17:17:56.430Z"
   },
   {
    "duration": 12,
    "start_time": "2021-10-26T17:17:56.441Z"
   },
   {
    "duration": 208,
    "start_time": "2021-10-26T17:17:56.456Z"
   },
   {
    "duration": 34,
    "start_time": "2021-10-26T17:17:56.667Z"
   },
   {
    "duration": 15,
    "start_time": "2021-10-26T17:17:56.706Z"
   },
   {
    "duration": 415,
    "start_time": "2021-10-26T17:17:56.724Z"
   },
   {
    "duration": 392,
    "start_time": "2021-10-26T17:17:57.142Z"
   },
   {
    "duration": 388,
    "start_time": "2021-10-26T17:17:57.537Z"
   },
   {
    "duration": 12,
    "start_time": "2021-10-26T17:17:57.928Z"
   },
   {
    "duration": 740,
    "start_time": "2021-10-26T17:17:57.943Z"
   },
   {
    "duration": 16,
    "start_time": "2021-10-26T17:17:58.686Z"
   },
   {
    "duration": 9,
    "start_time": "2021-10-26T17:17:58.705Z"
   },
   {
    "duration": 18,
    "start_time": "2021-10-26T17:17:58.717Z"
   },
   {
    "duration": 532,
    "start_time": "2021-10-26T17:17:58.738Z"
   },
   {
    "duration": 282,
    "start_time": "2021-10-26T17:17:59.273Z"
   },
   {
    "duration": 11,
    "start_time": "2021-10-26T17:17:59.558Z"
   },
   {
    "duration": 31,
    "start_time": "2021-10-26T17:17:59.572Z"
   },
   {
    "duration": 14,
    "start_time": "2021-10-26T17:17:59.606Z"
   },
   {
    "duration": 24,
    "start_time": "2021-10-26T17:17:59.623Z"
   },
   {
    "duration": 56,
    "start_time": "2021-10-26T17:17:59.650Z"
   },
   {
    "duration": 6,
    "start_time": "2021-10-26T17:17:59.709Z"
   },
   {
    "duration": 548,
    "start_time": "2021-10-26T17:17:59.718Z"
   },
   {
    "duration": 561,
    "start_time": "2021-10-26T17:18:00.269Z"
   },
   {
    "duration": 27,
    "start_time": "2021-10-26T17:18:00.833Z"
   },
   {
    "duration": 2123,
    "start_time": "2021-10-26T17:18:19.858Z"
   },
   {
    "duration": 59,
    "start_time": "2021-10-26T17:18:21.984Z"
   },
   {
    "duration": 16,
    "start_time": "2021-10-26T17:18:22.051Z"
   },
   {
    "duration": 4,
    "start_time": "2021-10-26T17:18:22.070Z"
   },
   {
    "duration": 79,
    "start_time": "2021-10-26T17:18:22.077Z"
   },
   {
    "duration": 51,
    "start_time": "2021-10-26T17:18:22.159Z"
   },
   {
    "duration": 10,
    "start_time": "2021-10-26T17:18:22.215Z"
   },
   {
    "duration": 13,
    "start_time": "2021-10-26T17:18:22.229Z"
   },
   {
    "duration": 10,
    "start_time": "2021-10-26T17:18:22.245Z"
   },
   {
    "duration": 61,
    "start_time": "2021-10-26T17:18:22.258Z"
   },
   {
    "duration": 45,
    "start_time": "2021-10-26T17:18:22.321Z"
   },
   {
    "duration": 41,
    "start_time": "2021-10-26T17:18:22.369Z"
   },
   {
    "duration": 7,
    "start_time": "2021-10-26T17:18:22.414Z"
   },
   {
    "duration": 8,
    "start_time": "2021-10-26T17:18:22.424Z"
   },
   {
    "duration": 16,
    "start_time": "2021-10-26T17:18:22.435Z"
   },
   {
    "duration": 335,
    "start_time": "2021-10-26T17:18:22.453Z"
   },
   {
    "duration": 18,
    "start_time": "2021-10-26T17:18:22.791Z"
   },
   {
    "duration": 12,
    "start_time": "2021-10-26T17:18:22.812Z"
   },
   {
    "duration": 19,
    "start_time": "2021-10-26T17:18:22.827Z"
   },
   {
    "duration": 192,
    "start_time": "2021-10-26T17:18:22.849Z"
   },
   {
    "duration": 21,
    "start_time": "2021-10-26T17:18:23.043Z"
   },
   {
    "duration": 35,
    "start_time": "2021-10-26T17:18:23.069Z"
   },
   {
    "duration": 431,
    "start_time": "2021-10-26T17:18:23.108Z"
   },
   {
    "duration": 398,
    "start_time": "2021-10-26T17:18:23.541Z"
   },
   {
    "duration": 385,
    "start_time": "2021-10-26T17:18:23.941Z"
   },
   {
    "duration": 14,
    "start_time": "2021-10-26T17:18:24.329Z"
   },
   {
    "duration": 722,
    "start_time": "2021-10-26T17:18:24.346Z"
   },
   {
    "duration": 6,
    "start_time": "2021-10-26T17:18:25.071Z"
   },
   {
    "duration": 25,
    "start_time": "2021-10-26T17:18:25.080Z"
   },
   {
    "duration": 16,
    "start_time": "2021-10-26T17:18:25.108Z"
   },
   {
    "duration": 414,
    "start_time": "2021-10-26T17:18:25.127Z"
   },
   {
    "duration": 277,
    "start_time": "2021-10-26T17:18:25.544Z"
   },
   {
    "duration": 12,
    "start_time": "2021-10-26T17:18:25.823Z"
   },
   {
    "duration": 15,
    "start_time": "2021-10-26T17:18:25.837Z"
   },
   {
    "duration": 12,
    "start_time": "2021-10-26T17:18:25.854Z"
   },
   {
    "duration": 23,
    "start_time": "2021-10-26T17:18:25.900Z"
   },
   {
    "duration": 18,
    "start_time": "2021-10-26T17:18:25.926Z"
   },
   {
    "duration": 10,
    "start_time": "2021-10-26T17:18:25.947Z"
   },
   {
    "duration": 584,
    "start_time": "2021-10-26T17:18:25.959Z"
   },
   {
    "duration": 573,
    "start_time": "2021-10-26T17:18:26.546Z"
   },
   {
    "duration": 26,
    "start_time": "2021-10-26T17:18:27.122Z"
   },
   {
    "duration": 2026,
    "start_time": "2021-10-26T17:19:07.221Z"
   },
   {
    "duration": 58,
    "start_time": "2021-10-26T17:19:09.250Z"
   },
   {
    "duration": 19,
    "start_time": "2021-10-26T17:19:09.311Z"
   },
   {
    "duration": 8,
    "start_time": "2021-10-26T17:19:09.334Z"
   },
   {
    "duration": 77,
    "start_time": "2021-10-26T17:19:09.344Z"
   },
   {
    "duration": 19,
    "start_time": "2021-10-26T17:19:09.424Z"
   },
   {
    "duration": 9,
    "start_time": "2021-10-26T17:19:09.445Z"
   },
   {
    "duration": 42,
    "start_time": "2021-10-26T17:19:09.458Z"
   },
   {
    "duration": 11,
    "start_time": "2021-10-26T17:19:09.503Z"
   },
   {
    "duration": 33,
    "start_time": "2021-10-26T17:19:09.516Z"
   },
   {
    "duration": 50,
    "start_time": "2021-10-26T17:19:09.551Z"
   },
   {
    "duration": 13,
    "start_time": "2021-10-26T17:19:09.603Z"
   },
   {
    "duration": 20,
    "start_time": "2021-10-26T17:19:09.618Z"
   },
   {
    "duration": 19,
    "start_time": "2021-10-26T17:19:09.640Z"
   },
   {
    "duration": 29,
    "start_time": "2021-10-26T17:19:09.661Z"
   },
   {
    "duration": 315,
    "start_time": "2021-10-26T17:19:09.692Z"
   },
   {
    "duration": 8,
    "start_time": "2021-10-26T17:19:10.009Z"
   },
   {
    "duration": 21,
    "start_time": "2021-10-26T17:19:10.019Z"
   },
   {
    "duration": 19,
    "start_time": "2021-10-26T17:19:10.042Z"
   },
   {
    "duration": 186,
    "start_time": "2021-10-26T17:19:10.063Z"
   },
   {
    "duration": 20,
    "start_time": "2021-10-26T17:19:10.251Z"
   },
   {
    "duration": 37,
    "start_time": "2021-10-26T17:19:10.273Z"
   },
   {
    "duration": 404,
    "start_time": "2021-10-26T17:19:10.314Z"
   },
   {
    "duration": 407,
    "start_time": "2021-10-26T17:19:10.720Z"
   },
   {
    "duration": 377,
    "start_time": "2021-10-26T17:19:11.130Z"
   },
   {
    "duration": 15,
    "start_time": "2021-10-26T17:19:11.510Z"
   },
   {
    "duration": 721,
    "start_time": "2021-10-26T17:19:11.527Z"
   },
   {
    "duration": 8,
    "start_time": "2021-10-26T17:19:12.251Z"
   },
   {
    "duration": 9,
    "start_time": "2021-10-26T17:19:12.262Z"
   },
   {
    "duration": 18,
    "start_time": "2021-10-26T17:19:12.302Z"
   },
   {
    "duration": 396,
    "start_time": "2021-10-26T17:19:12.323Z"
   },
   {
    "duration": 279,
    "start_time": "2021-10-26T17:19:12.722Z"
   },
   {
    "duration": 13,
    "start_time": "2021-10-26T17:19:13.004Z"
   },
   {
    "duration": 16,
    "start_time": "2021-10-26T17:19:13.020Z"
   },
   {
    "duration": 15,
    "start_time": "2021-10-26T17:19:13.038Z"
   },
   {
    "duration": 56,
    "start_time": "2021-10-26T17:19:13.055Z"
   },
   {
    "duration": 18,
    "start_time": "2021-10-26T17:19:13.113Z"
   },
   {
    "duration": 10,
    "start_time": "2021-10-26T17:19:13.133Z"
   },
   {
    "duration": 584,
    "start_time": "2021-10-26T17:19:13.146Z"
   },
   {
    "duration": 575,
    "start_time": "2021-10-26T17:19:13.732Z"
   },
   {
    "duration": 26,
    "start_time": "2021-10-26T17:19:14.309Z"
   },
   {
    "duration": 1999,
    "start_time": "2021-10-26T17:20:18.824Z"
   },
   {
    "duration": 56,
    "start_time": "2021-10-26T17:20:20.825Z"
   },
   {
    "duration": 14,
    "start_time": "2021-10-26T17:20:20.884Z"
   },
   {
    "duration": 8,
    "start_time": "2021-10-26T17:20:20.901Z"
   },
   {
    "duration": 63,
    "start_time": "2021-10-26T17:20:20.912Z"
   },
   {
    "duration": 39,
    "start_time": "2021-10-26T17:20:20.978Z"
   },
   {
    "duration": 10,
    "start_time": "2021-10-26T17:20:21.019Z"
   },
   {
    "duration": 17,
    "start_time": "2021-10-26T17:20:21.031Z"
   },
   {
    "duration": 16,
    "start_time": "2021-10-26T17:20:21.055Z"
   },
   {
    "duration": 25,
    "start_time": "2021-10-26T17:20:21.101Z"
   },
   {
    "duration": 37,
    "start_time": "2021-10-26T17:20:21.129Z"
   },
   {
    "duration": 12,
    "start_time": "2021-10-26T17:20:21.201Z"
   },
   {
    "duration": 6,
    "start_time": "2021-10-26T17:20:21.216Z"
   },
   {
    "duration": 8,
    "start_time": "2021-10-26T17:20:21.224Z"
   },
   {
    "duration": 15,
    "start_time": "2021-10-26T17:20:21.234Z"
   },
   {
    "duration": 340,
    "start_time": "2021-10-26T17:20:21.252Z"
   },
   {
    "duration": 12,
    "start_time": "2021-10-26T17:20:21.594Z"
   },
   {
    "duration": 7,
    "start_time": "2021-10-26T17:20:21.609Z"
   },
   {
    "duration": 12,
    "start_time": "2021-10-26T17:20:21.618Z"
   },
   {
    "duration": 196,
    "start_time": "2021-10-26T17:20:21.633Z"
   },
   {
    "duration": 21,
    "start_time": "2021-10-26T17:20:21.831Z"
   },
   {
    "duration": 15,
    "start_time": "2021-10-26T17:20:21.855Z"
   },
   {
    "duration": 400,
    "start_time": "2021-10-26T17:20:21.900Z"
   },
   {
    "duration": 411,
    "start_time": "2021-10-26T17:20:22.303Z"
   },
   {
    "duration": 465,
    "start_time": "2021-10-26T17:20:22.718Z"
   },
   {
    "duration": 23,
    "start_time": "2021-10-26T17:20:23.186Z"
   },
   {
    "duration": 720,
    "start_time": "2021-10-26T17:20:23.216Z"
   },
   {
    "duration": 7,
    "start_time": "2021-10-26T17:20:23.939Z"
   },
   {
    "duration": 15,
    "start_time": "2021-10-26T17:20:23.948Z"
   },
   {
    "duration": 37,
    "start_time": "2021-10-26T17:20:23.965Z"
   },
   {
    "duration": 398,
    "start_time": "2021-10-26T17:20:24.005Z"
   },
   {
    "duration": 265,
    "start_time": "2021-10-26T17:20:24.406Z"
   },
   {
    "duration": 12,
    "start_time": "2021-10-26T17:20:24.674Z"
   },
   {
    "duration": 27,
    "start_time": "2021-10-26T17:20:24.688Z"
   },
   {
    "duration": 20,
    "start_time": "2021-10-26T17:20:24.718Z"
   },
   {
    "duration": 35,
    "start_time": "2021-10-26T17:20:24.741Z"
   },
   {
    "duration": 34,
    "start_time": "2021-10-26T17:20:24.779Z"
   },
   {
    "duration": 14,
    "start_time": "2021-10-26T17:20:24.816Z"
   },
   {
    "duration": 586,
    "start_time": "2021-10-26T17:20:24.833Z"
   },
   {
    "duration": 566,
    "start_time": "2021-10-26T17:20:25.422Z"
   },
   {
    "duration": 32,
    "start_time": "2021-10-26T17:20:25.990Z"
   },
   {
    "duration": 2015,
    "start_time": "2021-10-26T17:21:42.217Z"
   },
   {
    "duration": 57,
    "start_time": "2021-10-26T17:21:44.234Z"
   },
   {
    "duration": 15,
    "start_time": "2021-10-26T17:21:44.294Z"
   },
   {
    "duration": 4,
    "start_time": "2021-10-26T17:21:44.312Z"
   },
   {
    "duration": 61,
    "start_time": "2021-10-26T17:21:44.319Z"
   },
   {
    "duration": 22,
    "start_time": "2021-10-26T17:21:44.401Z"
   },
   {
    "duration": 10,
    "start_time": "2021-10-26T17:21:44.425Z"
   },
   {
    "duration": 15,
    "start_time": "2021-10-26T17:21:44.439Z"
   },
   {
    "duration": 48,
    "start_time": "2021-10-26T17:21:44.457Z"
   },
   {
    "duration": 24,
    "start_time": "2021-10-26T17:21:44.508Z"
   },
   {
    "duration": 33,
    "start_time": "2021-10-26T17:21:44.534Z"
   },
   {
    "duration": 37,
    "start_time": "2021-10-26T17:21:44.569Z"
   },
   {
    "duration": 8,
    "start_time": "2021-10-26T17:21:44.609Z"
   },
   {
    "duration": 8,
    "start_time": "2021-10-26T17:21:44.619Z"
   },
   {
    "duration": 16,
    "start_time": "2021-10-26T17:21:44.629Z"
   },
   {
    "duration": 346,
    "start_time": "2021-10-26T17:21:44.648Z"
   },
   {
    "duration": 7,
    "start_time": "2021-10-26T17:21:45.000Z"
   },
   {
    "duration": 23,
    "start_time": "2021-10-26T17:21:45.010Z"
   },
   {
    "duration": 14,
    "start_time": "2021-10-26T17:21:45.035Z"
   },
   {
    "duration": 193,
    "start_time": "2021-10-26T17:21:45.051Z"
   },
   {
    "duration": 23,
    "start_time": "2021-10-26T17:21:45.247Z"
   },
   {
    "duration": 31,
    "start_time": "2021-10-26T17:21:45.272Z"
   },
   {
    "duration": 526,
    "start_time": "2021-10-26T17:21:45.308Z"
   },
   {
    "duration": 404,
    "start_time": "2021-10-26T17:21:45.838Z"
   },
   {
    "duration": 453,
    "start_time": "2021-10-26T17:21:46.244Z"
   },
   {
    "duration": 12,
    "start_time": "2021-10-26T17:21:46.701Z"
   },
   {
    "duration": 870,
    "start_time": "2021-10-26T17:21:46.715Z"
   },
   {
    "duration": 17,
    "start_time": "2021-10-26T17:21:47.588Z"
   },
   {
    "duration": 14,
    "start_time": "2021-10-26T17:21:47.608Z"
   },
   {
    "duration": 16,
    "start_time": "2021-10-26T17:21:47.625Z"
   },
   {
    "duration": 427,
    "start_time": "2021-10-26T17:21:47.644Z"
   },
   {
    "duration": 262,
    "start_time": "2021-10-26T17:21:48.073Z"
   },
   {
    "duration": 11,
    "start_time": "2021-10-26T17:21:48.338Z"
   },
   {
    "duration": 16,
    "start_time": "2021-10-26T17:21:48.352Z"
   },
   {
    "duration": 38,
    "start_time": "2021-10-26T17:21:48.371Z"
   },
   {
    "duration": 35,
    "start_time": "2021-10-26T17:21:48.412Z"
   },
   {
    "duration": 52,
    "start_time": "2021-10-26T17:21:48.450Z"
   },
   {
    "duration": 6,
    "start_time": "2021-10-26T17:21:48.504Z"
   },
   {
    "duration": 545,
    "start_time": "2021-10-26T17:21:48.512Z"
   },
   {
    "duration": 542,
    "start_time": "2021-10-26T17:21:49.059Z"
   },
   {
    "duration": 25,
    "start_time": "2021-10-26T17:21:49.603Z"
   },
   {
    "duration": 1972,
    "start_time": "2021-10-26T17:23:53.451Z"
   },
   {
    "duration": 59,
    "start_time": "2021-10-26T17:23:55.426Z"
   },
   {
    "duration": 14,
    "start_time": "2021-10-26T17:23:55.488Z"
   },
   {
    "duration": 3,
    "start_time": "2021-10-26T17:23:55.506Z"
   },
   {
    "duration": 89,
    "start_time": "2021-10-26T17:23:55.511Z"
   },
   {
    "duration": 21,
    "start_time": "2021-10-26T17:23:55.602Z"
   },
   {
    "duration": 11,
    "start_time": "2021-10-26T17:23:55.625Z"
   },
   {
    "duration": 11,
    "start_time": "2021-10-26T17:23:55.640Z"
   },
   {
    "duration": 53,
    "start_time": "2021-10-26T17:23:55.654Z"
   },
   {
    "duration": 25,
    "start_time": "2021-10-26T17:23:55.709Z"
   },
   {
    "duration": 63,
    "start_time": "2021-10-26T17:23:55.737Z"
   },
   {
    "duration": 13,
    "start_time": "2021-10-26T17:23:55.802Z"
   },
   {
    "duration": 14,
    "start_time": "2021-10-26T17:23:55.818Z"
   },
   {
    "duration": 13,
    "start_time": "2021-10-26T17:23:55.836Z"
   },
   {
    "duration": 23,
    "start_time": "2021-10-26T17:23:55.852Z"
   },
   {
    "duration": 316,
    "start_time": "2021-10-26T17:23:55.901Z"
   },
   {
    "duration": 8,
    "start_time": "2021-10-26T17:23:56.220Z"
   },
   {
    "duration": 8,
    "start_time": "2021-10-26T17:23:56.230Z"
   },
   {
    "duration": 11,
    "start_time": "2021-10-26T17:23:56.240Z"
   },
   {
    "duration": 209,
    "start_time": "2021-10-26T17:23:56.253Z"
   },
   {
    "duration": 22,
    "start_time": "2021-10-26T17:23:56.464Z"
   },
   {
    "duration": 14,
    "start_time": "2021-10-26T17:23:56.501Z"
   },
   {
    "duration": 412,
    "start_time": "2021-10-26T17:23:56.520Z"
   },
   {
    "duration": 390,
    "start_time": "2021-10-26T17:23:56.935Z"
   },
   {
    "duration": 468,
    "start_time": "2021-10-26T17:23:57.327Z"
   },
   {
    "duration": 13,
    "start_time": "2021-10-26T17:23:57.797Z"
   },
   {
    "duration": 717,
    "start_time": "2021-10-26T17:23:57.812Z"
   },
   {
    "duration": 7,
    "start_time": "2021-10-26T17:23:58.531Z"
   },
   {
    "duration": 9,
    "start_time": "2021-10-26T17:23:58.541Z"
   },
   {
    "duration": 17,
    "start_time": "2021-10-26T17:23:58.552Z"
   },
   {
    "duration": 481,
    "start_time": "2021-10-26T17:23:58.600Z"
   },
   {
    "duration": 277,
    "start_time": "2021-10-26T17:23:59.084Z"
   },
   {
    "duration": 11,
    "start_time": "2021-10-26T17:23:59.364Z"
   },
   {
    "duration": 32,
    "start_time": "2021-10-26T17:23:59.377Z"
   },
   {
    "duration": 15,
    "start_time": "2021-10-26T17:23:59.411Z"
   },
   {
    "duration": 27,
    "start_time": "2021-10-26T17:23:59.429Z"
   },
   {
    "duration": 44,
    "start_time": "2021-10-26T17:23:59.458Z"
   },
   {
    "duration": 6,
    "start_time": "2021-10-26T17:23:59.505Z"
   },
   {
    "duration": 586,
    "start_time": "2021-10-26T17:23:59.514Z"
   },
   {
    "duration": 558,
    "start_time": "2021-10-26T17:24:00.102Z"
   },
   {
    "duration": 41,
    "start_time": "2021-10-26T17:24:00.662Z"
   },
   {
    "duration": 1083,
    "start_time": "2021-10-26T17:36:22.072Z"
   },
   {
    "duration": 338,
    "start_time": "2021-10-26T17:36:31.254Z"
   },
   {
    "duration": 536,
    "start_time": "2021-10-26T17:36:49.832Z"
   },
   {
    "duration": 76380,
    "start_time": "2021-10-26T17:36:55.197Z"
   },
   {
    "duration": 432,
    "start_time": "2021-10-26T17:39:33.114Z"
   },
   {
    "duration": 2064,
    "start_time": "2021-10-26T17:39:54.071Z"
   },
   {
    "duration": 1727,
    "start_time": "2021-10-26T17:39:56.137Z"
   },
   {
    "duration": 14,
    "start_time": "2021-10-26T17:39:57.867Z"
   },
   {
    "duration": 6,
    "start_time": "2021-10-26T17:39:57.883Z"
   },
   {
    "duration": 66,
    "start_time": "2021-10-26T17:39:57.892Z"
   },
   {
    "duration": 44,
    "start_time": "2021-10-26T17:39:57.961Z"
   },
   {
    "duration": 10,
    "start_time": "2021-10-26T17:39:58.008Z"
   },
   {
    "duration": 11,
    "start_time": "2021-10-26T17:39:58.022Z"
   },
   {
    "duration": 11,
    "start_time": "2021-10-26T17:39:58.036Z"
   },
   {
    "duration": 64,
    "start_time": "2021-10-26T17:39:58.050Z"
   },
   {
    "duration": 35,
    "start_time": "2021-10-26T17:39:58.117Z"
   },
   {
    "duration": 12,
    "start_time": "2021-10-26T17:39:58.154Z"
   },
   {
    "duration": 37,
    "start_time": "2021-10-26T17:39:58.169Z"
   },
   {
    "duration": 7,
    "start_time": "2021-10-26T17:39:58.208Z"
   },
   {
    "duration": 18,
    "start_time": "2021-10-26T17:39:58.217Z"
   },
   {
    "duration": 328,
    "start_time": "2021-10-26T17:39:58.238Z"
   },
   {
    "duration": 7,
    "start_time": "2021-10-26T17:39:58.569Z"
   },
   {
    "duration": 22,
    "start_time": "2021-10-26T17:39:58.579Z"
   },
   {
    "duration": 10,
    "start_time": "2021-10-26T17:39:58.604Z"
   },
   {
    "duration": 193,
    "start_time": "2021-10-26T17:39:58.616Z"
   },
   {
    "duration": 23,
    "start_time": "2021-10-26T17:39:58.813Z"
   },
   {
    "duration": 15,
    "start_time": "2021-10-26T17:39:58.838Z"
   },
   {
    "duration": 422,
    "start_time": "2021-10-26T17:39:58.858Z"
   },
   {
    "duration": 401,
    "start_time": "2021-10-26T17:39:59.284Z"
   },
   {
    "duration": 466,
    "start_time": "2021-10-26T17:39:59.688Z"
   },
   {
    "duration": 16,
    "start_time": "2021-10-26T17:40:00.157Z"
   },
   {
    "duration": 820,
    "start_time": "2021-10-26T17:40:00.176Z"
   },
   {
    "duration": 9,
    "start_time": "2021-10-26T17:40:01.001Z"
   },
   {
    "duration": 27,
    "start_time": "2021-10-26T17:40:01.013Z"
   },
   {
    "duration": 32,
    "start_time": "2021-10-26T17:40:01.044Z"
   },
   {
    "duration": 581,
    "start_time": "2021-10-26T17:40:01.079Z"
   },
   {
    "duration": 403,
    "start_time": "2021-10-26T17:40:01.663Z"
   },
   {
    "duration": 418,
    "start_time": "2021-10-26T17:40:02.069Z"
   },
   {
    "duration": 26,
    "start_time": "2021-10-26T17:40:02.491Z"
   },
   {
    "duration": 33,
    "start_time": "2021-10-26T17:40:02.520Z"
   },
   {
    "duration": 48,
    "start_time": "2021-10-26T17:40:02.555Z"
   },
   {
    "duration": 19,
    "start_time": "2021-10-26T17:40:02.605Z"
   },
   {
    "duration": 21,
    "start_time": "2021-10-26T17:40:02.626Z"
   },
   {
    "duration": 635,
    "start_time": "2021-10-26T17:40:02.649Z"
   },
   {
    "duration": 547,
    "start_time": "2021-10-26T17:40:03.286Z"
   },
   {
    "duration": 23,
    "start_time": "2021-10-26T17:40:03.835Z"
   },
   {
    "duration": 11,
    "start_time": "2021-10-26T18:17:58.079Z"
   },
   {
    "duration": 12,
    "start_time": "2021-10-26T18:18:15.633Z"
   },
   {
    "duration": 13,
    "start_time": "2021-10-26T18:18:21.403Z"
   },
   {
    "duration": 10,
    "start_time": "2021-10-26T18:19:44.301Z"
   },
   {
    "duration": 10,
    "start_time": "2021-10-26T18:20:50.156Z"
   },
   {
    "duration": 11,
    "start_time": "2021-10-26T18:20:59.337Z"
   },
   {
    "duration": 10,
    "start_time": "2021-10-26T18:20:59.896Z"
   },
   {
    "duration": 11005,
    "start_time": "2021-10-26T18:22:24.689Z"
   },
   {
    "duration": 2751,
    "start_time": "2021-10-26T18:22:40.759Z"
   },
   {
    "duration": 59,
    "start_time": "2021-10-26T18:22:43.512Z"
   },
   {
    "duration": 39,
    "start_time": "2021-10-26T18:22:43.574Z"
   },
   {
    "duration": 3,
    "start_time": "2021-10-26T18:22:43.617Z"
   },
   {
    "duration": 94,
    "start_time": "2021-10-26T18:22:43.622Z"
   },
   {
    "duration": 24,
    "start_time": "2021-10-26T18:22:43.719Z"
   },
   {
    "duration": 12,
    "start_time": "2021-10-26T18:22:43.746Z"
   },
   {
    "duration": 45,
    "start_time": "2021-10-26T18:22:43.763Z"
   },
   {
    "duration": 16,
    "start_time": "2021-10-26T18:22:43.811Z"
   },
   {
    "duration": 28,
    "start_time": "2021-10-26T18:22:43.830Z"
   },
   {
    "duration": 74,
    "start_time": "2021-10-26T18:22:43.861Z"
   },
   {
    "duration": 12,
    "start_time": "2021-10-26T18:22:43.938Z"
   },
   {
    "duration": 8,
    "start_time": "2021-10-26T18:22:43.953Z"
   },
   {
    "duration": 7,
    "start_time": "2021-10-26T18:22:43.964Z"
   },
   {
    "duration": 13,
    "start_time": "2021-10-26T18:22:44.000Z"
   },
   {
    "duration": 323,
    "start_time": "2021-10-26T18:22:44.016Z"
   },
   {
    "duration": 7,
    "start_time": "2021-10-26T18:22:44.342Z"
   },
   {
    "duration": 10,
    "start_time": "2021-10-26T18:22:44.352Z"
   },
   {
    "duration": 14,
    "start_time": "2021-10-26T18:22:44.364Z"
   },
   {
    "duration": 204,
    "start_time": "2021-10-26T18:22:44.381Z"
   },
   {
    "duration": 30,
    "start_time": "2021-10-26T18:22:44.587Z"
   },
   {
    "duration": 15,
    "start_time": "2021-10-26T18:22:44.619Z"
   },
   {
    "duration": 514,
    "start_time": "2021-10-26T18:22:44.639Z"
   },
   {
    "duration": 390,
    "start_time": "2021-10-26T18:22:45.157Z"
   },
   {
    "duration": 675,
    "start_time": "2021-10-26T18:22:45.550Z"
   },
   {
    "duration": 12,
    "start_time": "2021-10-26T18:22:46.228Z"
   },
   {
    "duration": 822,
    "start_time": "2021-10-26T18:22:46.243Z"
   },
   {
    "duration": 7,
    "start_time": "2021-10-26T18:22:47.067Z"
   },
   {
    "duration": 26,
    "start_time": "2021-10-26T18:22:47.077Z"
   },
   {
    "duration": 16,
    "start_time": "2021-10-26T18:22:47.106Z"
   },
   {
    "duration": 405,
    "start_time": "2021-10-26T18:22:47.124Z"
   },
   {
    "duration": 268,
    "start_time": "2021-10-26T18:22:47.532Z"
   },
   {
    "duration": 9312,
    "start_time": "2021-10-26T18:22:47.802Z"
   },
   {
    "duration": -27,
    "start_time": "2021-10-26T18:22:57.144Z"
   },
   {
    "duration": -29,
    "start_time": "2021-10-26T18:22:57.147Z"
   },
   {
    "duration": -30,
    "start_time": "2021-10-26T18:22:57.150Z"
   },
   {
    "duration": -53,
    "start_time": "2021-10-26T18:22:57.174Z"
   },
   {
    "duration": -59,
    "start_time": "2021-10-26T18:22:57.181Z"
   },
   {
    "duration": -70,
    "start_time": "2021-10-26T18:22:57.194Z"
   },
   {
    "duration": -73,
    "start_time": "2021-10-26T18:22:57.198Z"
   },
   {
    "duration": -85,
    "start_time": "2021-10-26T18:22:57.211Z"
   },
   {
    "duration": -97,
    "start_time": "2021-10-26T18:22:57.225Z"
   },
   {
    "duration": 348,
    "start_time": "2021-10-26T18:23:14.385Z"
   },
   {
    "duration": 446,
    "start_time": "2021-10-26T18:23:52.624Z"
   },
   {
    "duration": 445,
    "start_time": "2021-10-26T18:24:03.164Z"
   },
   {
    "duration": 464,
    "start_time": "2021-10-26T18:24:33.788Z"
   },
   {
    "duration": 14,
    "start_time": "2021-10-26T18:37:45.013Z"
   },
   {
    "duration": 14,
    "start_time": "2021-10-26T18:44:34.264Z"
   },
   {
    "duration": 2054,
    "start_time": "2021-10-26T19:10:56.646Z"
   },
   {
    "duration": 61,
    "start_time": "2021-10-26T19:10:58.705Z"
   },
   {
    "duration": 14,
    "start_time": "2021-10-26T19:10:58.769Z"
   },
   {
    "duration": 23,
    "start_time": "2021-10-26T19:10:58.785Z"
   },
   {
    "duration": 67,
    "start_time": "2021-10-26T19:10:58.811Z"
   },
   {
    "duration": 32,
    "start_time": "2021-10-26T19:10:58.880Z"
   },
   {
    "duration": 13,
    "start_time": "2021-10-26T19:10:58.916Z"
   },
   {
    "duration": 11,
    "start_time": "2021-10-26T19:10:58.933Z"
   },
   {
    "duration": 14,
    "start_time": "2021-10-26T19:10:58.947Z"
   },
   {
    "duration": 67,
    "start_time": "2021-10-26T19:10:58.964Z"
   },
   {
    "duration": 34,
    "start_time": "2021-10-26T19:10:59.033Z"
   },
   {
    "duration": 40,
    "start_time": "2021-10-26T19:10:59.069Z"
   },
   {
    "duration": 10,
    "start_time": "2021-10-26T19:10:59.112Z"
   },
   {
    "duration": 9,
    "start_time": "2021-10-26T19:10:59.125Z"
   },
   {
    "duration": 20,
    "start_time": "2021-10-26T19:10:59.136Z"
   },
   {
    "duration": 352,
    "start_time": "2021-10-26T19:10:59.158Z"
   },
   {
    "duration": 13,
    "start_time": "2021-10-26T19:10:59.513Z"
   },
   {
    "duration": 7,
    "start_time": "2021-10-26T19:10:59.529Z"
   },
   {
    "duration": 11,
    "start_time": "2021-10-26T19:10:59.539Z"
   },
   {
    "duration": 218,
    "start_time": "2021-10-26T19:10:59.553Z"
   },
   {
    "duration": 34,
    "start_time": "2021-10-26T19:10:59.774Z"
   },
   {
    "duration": 17,
    "start_time": "2021-10-26T19:10:59.810Z"
   },
   {
    "duration": 431,
    "start_time": "2021-10-26T19:10:59.834Z"
   },
   {
    "duration": 438,
    "start_time": "2021-10-26T19:11:00.269Z"
   },
   {
    "duration": 493,
    "start_time": "2021-10-26T19:11:00.710Z"
   },
   {
    "duration": 16,
    "start_time": "2021-10-26T19:11:01.206Z"
   },
   {
    "duration": 790,
    "start_time": "2021-10-26T19:11:01.226Z"
   },
   {
    "duration": 8,
    "start_time": "2021-10-26T19:11:02.019Z"
   },
   {
    "duration": 23,
    "start_time": "2021-10-26T19:11:02.030Z"
   },
   {
    "duration": 23,
    "start_time": "2021-10-26T19:11:02.057Z"
   },
   {
    "duration": 424,
    "start_time": "2021-10-26T19:11:02.083Z"
   },
   {
    "duration": 299,
    "start_time": "2021-10-26T19:11:02.510Z"
   },
   {
    "duration": 510,
    "start_time": "2021-10-26T19:11:02.815Z"
   },
   {
    "duration": 13,
    "start_time": "2021-10-26T19:11:03.329Z"
   },
   {
    "duration": 17,
    "start_time": "2021-10-26T19:11:03.345Z"
   },
   {
    "duration": 43,
    "start_time": "2021-10-26T19:11:03.364Z"
   },
   {
    "duration": 6187,
    "start_time": "2021-10-26T19:11:03.409Z"
   },
   {
    "duration": 17,
    "start_time": "2021-10-26T19:11:09.581Z"
   },
   {
    "duration": 19,
    "start_time": "2021-10-26T19:11:09.585Z"
   },
   {
    "duration": 17,
    "start_time": "2021-10-26T19:11:09.589Z"
   },
   {
    "duration": 16,
    "start_time": "2021-10-26T19:11:09.592Z"
   },
   {
    "duration": 14,
    "start_time": "2021-10-26T19:11:09.595Z"
   },
   {
    "duration": 8,
    "start_time": "2021-10-26T19:11:09.603Z"
   },
   {
    "duration": 6771,
    "start_time": "2021-10-26T19:14:35.563Z"
   },
   {
    "duration": 6269,
    "start_time": "2021-10-26T19:16:01.729Z"
   },
   {
    "duration": 8594,
    "start_time": "2021-10-26T19:17:14.387Z"
   },
   {
    "duration": 2627,
    "start_time": "2021-10-26T19:19:15.905Z"
   },
   {
    "duration": 364,
    "start_time": "2021-10-26T19:21:50.984Z"
   },
   {
    "duration": 27,
    "start_time": "2021-10-26T19:21:54.076Z"
   },
   {
    "duration": 25,
    "start_time": "2021-10-26T19:21:54.480Z"
   },
   {
    "duration": 132,
    "start_time": "2021-10-26T19:24:04.780Z"
   },
   {
    "duration": 8,
    "start_time": "2021-10-26T19:24:36.506Z"
   },
   {
    "duration": 10,
    "start_time": "2021-10-26T19:24:45.855Z"
   },
   {
    "duration": 17,
    "start_time": "2021-10-26T19:29:44.712Z"
   },
   {
    "duration": 457,
    "start_time": "2021-10-26T19:30:05.351Z"
   },
   {
    "duration": 9,
    "start_time": "2021-10-26T19:30:18.683Z"
   },
   {
    "duration": 22,
    "start_time": "2021-10-26T19:30:28.304Z"
   },
   {
    "duration": 12,
    "start_time": "2021-10-26T19:31:07.897Z"
   },
   {
    "duration": 23,
    "start_time": "2021-10-26T19:31:08.630Z"
   },
   {
    "duration": 24,
    "start_time": "2021-10-26T19:31:44.573Z"
   },
   {
    "duration": 22,
    "start_time": "2021-10-26T19:32:02.521Z"
   },
   {
    "duration": 384,
    "start_time": "2021-10-26T19:35:00.676Z"
   },
   {
    "duration": 17,
    "start_time": "2021-10-26T19:36:58.013Z"
   },
   {
    "duration": 405,
    "start_time": "2021-10-26T19:38:00.693Z"
   },
   {
    "duration": 14,
    "start_time": "2021-10-26T19:38:35.484Z"
   },
   {
    "duration": 16,
    "start_time": "2021-10-26T19:38:52.257Z"
   },
   {
    "duration": 11,
    "start_time": "2021-10-26T19:38:52.888Z"
   },
   {
    "duration": 23,
    "start_time": "2021-10-26T19:38:53.607Z"
   },
   {
    "duration": 14,
    "start_time": "2021-10-26T19:38:56.866Z"
   },
   {
    "duration": 18,
    "start_time": "2021-10-26T19:39:16.381Z"
   },
   {
    "duration": 10,
    "start_time": "2021-10-26T19:39:34.266Z"
   },
   {
    "duration": 26,
    "start_time": "2021-10-26T19:39:34.786Z"
   },
   {
    "duration": 1923,
    "start_time": "2021-10-26T19:39:55.721Z"
   },
   {
    "duration": 59,
    "start_time": "2021-10-26T19:39:57.647Z"
   },
   {
    "duration": 15,
    "start_time": "2021-10-26T19:39:57.709Z"
   },
   {
    "duration": 3,
    "start_time": "2021-10-26T19:39:57.726Z"
   },
   {
    "duration": 84,
    "start_time": "2021-10-26T19:39:57.732Z"
   },
   {
    "duration": 21,
    "start_time": "2021-10-26T19:39:57.819Z"
   },
   {
    "duration": 11,
    "start_time": "2021-10-26T19:39:57.842Z"
   },
   {
    "duration": 51,
    "start_time": "2021-10-26T19:39:57.857Z"
   },
   {
    "duration": 13,
    "start_time": "2021-10-26T19:39:57.911Z"
   },
   {
    "duration": 23,
    "start_time": "2021-10-26T19:39:57.926Z"
   },
   {
    "duration": 60,
    "start_time": "2021-10-26T19:39:57.952Z"
   },
   {
    "duration": 14,
    "start_time": "2021-10-26T19:39:58.015Z"
   },
   {
    "duration": 7,
    "start_time": "2021-10-26T19:39:58.031Z"
   },
   {
    "duration": 6,
    "start_time": "2021-10-26T19:39:58.041Z"
   },
   {
    "duration": 15,
    "start_time": "2021-10-26T19:39:58.050Z"
   },
   {
    "duration": 326,
    "start_time": "2021-10-26T19:39:58.101Z"
   },
   {
    "duration": 8,
    "start_time": "2021-10-26T19:39:58.431Z"
   },
   {
    "duration": 8,
    "start_time": "2021-10-26T19:39:58.442Z"
   },
   {
    "duration": 12,
    "start_time": "2021-10-26T19:39:58.452Z"
   },
   {
    "duration": 221,
    "start_time": "2021-10-26T19:39:58.467Z"
   },
   {
    "duration": 27,
    "start_time": "2021-10-26T19:39:58.691Z"
   },
   {
    "duration": 15,
    "start_time": "2021-10-26T19:39:58.720Z"
   },
   {
    "duration": 438,
    "start_time": "2021-10-26T19:39:58.741Z"
   },
   {
    "duration": 409,
    "start_time": "2021-10-26T19:39:59.182Z"
   },
   {
    "duration": 476,
    "start_time": "2021-10-26T19:39:59.601Z"
   },
   {
    "duration": 28,
    "start_time": "2021-10-26T19:40:00.080Z"
   },
   {
    "duration": 750,
    "start_time": "2021-10-26T19:40:00.111Z"
   },
   {
    "duration": 8,
    "start_time": "2021-10-26T19:40:00.864Z"
   },
   {
    "duration": 37,
    "start_time": "2021-10-26T19:40:00.875Z"
   },
   {
    "duration": 17,
    "start_time": "2021-10-26T19:40:00.916Z"
   },
   {
    "duration": 419,
    "start_time": "2021-10-26T19:40:00.935Z"
   },
   {
    "duration": 290,
    "start_time": "2021-10-26T19:40:01.357Z"
   },
   {
    "duration": 489,
    "start_time": "2021-10-26T19:40:01.649Z"
   },
   {
    "duration": 10,
    "start_time": "2021-10-26T19:40:02.140Z"
   },
   {
    "duration": 26,
    "start_time": "2021-10-26T19:40:02.152Z"
   },
   {
    "duration": 30,
    "start_time": "2021-10-26T19:40:02.181Z"
   },
   {
    "duration": 131,
    "start_time": "2021-10-26T19:40:02.214Z"
   },
   {
    "duration": 31,
    "start_time": "2021-10-26T19:40:02.317Z"
   },
   {
    "duration": 28,
    "start_time": "2021-10-26T19:40:02.321Z"
   },
   {
    "duration": 17,
    "start_time": "2021-10-26T19:40:02.334Z"
   },
   {
    "duration": 15,
    "start_time": "2021-10-26T19:40:02.338Z"
   },
   {
    "duration": 12,
    "start_time": "2021-10-26T19:40:02.343Z"
   },
   {
    "duration": 10,
    "start_time": "2021-10-26T19:40:02.347Z"
   },
   {
    "duration": 9,
    "start_time": "2021-10-26T19:40:02.350Z"
   },
   {
    "duration": 7,
    "start_time": "2021-10-26T19:40:02.353Z"
   },
   {
    "duration": 1950,
    "start_time": "2021-10-26T19:40:20.699Z"
   },
   {
    "duration": 64,
    "start_time": "2021-10-26T19:40:22.652Z"
   },
   {
    "duration": 16,
    "start_time": "2021-10-26T19:40:22.719Z"
   },
   {
    "duration": 3,
    "start_time": "2021-10-26T19:40:22.738Z"
   },
   {
    "duration": 95,
    "start_time": "2021-10-26T19:40:22.744Z"
   },
   {
    "duration": 20,
    "start_time": "2021-10-26T19:40:22.842Z"
   },
   {
    "duration": 10,
    "start_time": "2021-10-26T19:40:22.865Z"
   },
   {
    "duration": 15,
    "start_time": "2021-10-26T19:40:22.906Z"
   },
   {
    "duration": 13,
    "start_time": "2021-10-26T19:40:22.924Z"
   },
   {
    "duration": 25,
    "start_time": "2021-10-26T19:40:22.940Z"
   },
   {
    "duration": 73,
    "start_time": "2021-10-26T19:40:22.967Z"
   },
   {
    "duration": 11,
    "start_time": "2021-10-26T19:40:23.042Z"
   },
   {
    "duration": 9,
    "start_time": "2021-10-26T19:40:23.056Z"
   },
   {
    "duration": 33,
    "start_time": "2021-10-26T19:40:23.067Z"
   },
   {
    "duration": 16,
    "start_time": "2021-10-26T19:40:23.109Z"
   },
   {
    "duration": 327,
    "start_time": "2021-10-26T19:40:23.127Z"
   },
   {
    "duration": 7,
    "start_time": "2021-10-26T19:40:23.457Z"
   },
   {
    "duration": 8,
    "start_time": "2021-10-26T19:40:23.466Z"
   },
   {
    "duration": 36,
    "start_time": "2021-10-26T19:40:23.476Z"
   },
   {
    "duration": 196,
    "start_time": "2021-10-26T19:40:23.515Z"
   },
   {
    "duration": 22,
    "start_time": "2021-10-26T19:40:23.713Z"
   },
   {
    "duration": 16,
    "start_time": "2021-10-26T19:40:23.738Z"
   },
   {
    "duration": 429,
    "start_time": "2021-10-26T19:40:23.759Z"
   },
   {
    "duration": 396,
    "start_time": "2021-10-26T19:40:24.191Z"
   },
   {
    "duration": 476,
    "start_time": "2021-10-26T19:40:24.589Z"
   },
   {
    "duration": 12,
    "start_time": "2021-10-26T19:40:25.068Z"
   },
   {
    "duration": 723,
    "start_time": "2021-10-26T19:40:25.083Z"
   },
   {
    "duration": 12,
    "start_time": "2021-10-26T19:40:25.808Z"
   },
   {
    "duration": 10,
    "start_time": "2021-10-26T19:40:25.822Z"
   },
   {
    "duration": 16,
    "start_time": "2021-10-26T19:40:25.834Z"
   },
   {
    "duration": 421,
    "start_time": "2021-10-26T19:40:25.852Z"
   },
   {
    "duration": 276,
    "start_time": "2021-10-26T19:40:26.276Z"
   },
   {
    "duration": 495,
    "start_time": "2021-10-26T19:40:26.555Z"
   },
   {
    "duration": 9,
    "start_time": "2021-10-26T19:40:27.052Z"
   },
   {
    "duration": 45,
    "start_time": "2021-10-26T19:40:27.064Z"
   },
   {
    "duration": 13,
    "start_time": "2021-10-26T19:40:27.112Z"
   },
   {
    "duration": 2214,
    "start_time": "2021-10-26T19:40:27.127Z"
   },
   {
    "duration": 25,
    "start_time": "2021-10-26T19:40:29.344Z"
   },
   {
    "duration": 19,
    "start_time": "2021-10-26T19:40:29.371Z"
   },
   {
    "duration": 15,
    "start_time": "2021-10-26T19:40:29.392Z"
   },
   {
    "duration": 33,
    "start_time": "2021-10-26T19:40:29.410Z"
   },
   {
    "duration": 15,
    "start_time": "2021-10-26T19:40:29.445Z"
   },
   {
    "duration": 561,
    "start_time": "2021-10-26T19:40:29.462Z"
   },
   {
    "duration": 574,
    "start_time": "2021-10-26T19:40:30.026Z"
   },
   {
    "duration": 27,
    "start_time": "2021-10-26T19:40:30.604Z"
   },
   {
    "duration": 20,
    "start_time": "2021-10-26T19:41:29.693Z"
   },
   {
    "duration": 16,
    "start_time": "2021-10-26T19:41:43.214Z"
   },
   {
    "duration": 13,
    "start_time": "2021-10-26T19:41:52.768Z"
   },
   {
    "duration": 15,
    "start_time": "2021-10-26T19:42:07.158Z"
   },
   {
    "duration": 12,
    "start_time": "2021-10-26T19:43:19.109Z"
   },
   {
    "duration": 454,
    "start_time": "2021-10-26T19:43:46.525Z"
   },
   {
    "duration": 21,
    "start_time": "2021-10-26T20:36:44.844Z"
   },
   {
    "duration": 472,
    "start_time": "2021-10-26T20:38:00.815Z"
   },
   {
    "duration": 564,
    "start_time": "2021-10-26T20:47:18.505Z"
   },
   {
    "duration": 2037,
    "start_time": "2021-10-26T20:47:34.408Z"
   },
   {
    "duration": 64,
    "start_time": "2021-10-26T20:47:36.448Z"
   },
   {
    "duration": 15,
    "start_time": "2021-10-26T20:47:36.515Z"
   },
   {
    "duration": 7,
    "start_time": "2021-10-26T20:47:36.532Z"
   },
   {
    "duration": 80,
    "start_time": "2021-10-26T20:47:36.541Z"
   },
   {
    "duration": 20,
    "start_time": "2021-10-26T20:47:36.624Z"
   },
   {
    "duration": 11,
    "start_time": "2021-10-26T20:47:36.646Z"
   },
   {
    "duration": 11,
    "start_time": "2021-10-26T20:47:36.661Z"
   },
   {
    "duration": 15,
    "start_time": "2021-10-26T20:47:36.702Z"
   },
   {
    "duration": 23,
    "start_time": "2021-10-26T20:47:36.720Z"
   },
   {
    "duration": 69,
    "start_time": "2021-10-26T20:47:36.745Z"
   },
   {
    "duration": 12,
    "start_time": "2021-10-26T20:47:36.816Z"
   },
   {
    "duration": 7,
    "start_time": "2021-10-26T20:47:36.831Z"
   },
   {
    "duration": 9,
    "start_time": "2021-10-26T20:47:36.841Z"
   },
   {
    "duration": 18,
    "start_time": "2021-10-26T20:47:36.852Z"
   },
   {
    "duration": 349,
    "start_time": "2021-10-26T20:47:36.872Z"
   },
   {
    "duration": 7,
    "start_time": "2021-10-26T20:47:37.223Z"
   },
   {
    "duration": 7,
    "start_time": "2021-10-26T20:47:37.233Z"
   },
   {
    "duration": 12,
    "start_time": "2021-10-26T20:47:37.242Z"
   },
   {
    "duration": 210,
    "start_time": "2021-10-26T20:47:37.257Z"
   },
   {
    "duration": 35,
    "start_time": "2021-10-26T20:47:37.470Z"
   },
   {
    "duration": 18,
    "start_time": "2021-10-26T20:47:37.509Z"
   },
   {
    "duration": 449,
    "start_time": "2021-10-26T20:47:37.533Z"
   },
   {
    "duration": 392,
    "start_time": "2021-10-26T20:47:37.986Z"
   },
   {
    "duration": 475,
    "start_time": "2021-10-26T20:47:38.380Z"
   },
   {
    "duration": 12,
    "start_time": "2021-10-26T20:47:38.857Z"
   },
   {
    "duration": 722,
    "start_time": "2021-10-26T20:47:38.872Z"
   },
   {
    "duration": 11,
    "start_time": "2021-10-26T20:47:39.597Z"
   },
   {
    "duration": 12,
    "start_time": "2021-10-26T20:47:39.611Z"
   },
   {
    "duration": 20,
    "start_time": "2021-10-26T20:47:39.625Z"
   },
   {
    "duration": 429,
    "start_time": "2021-10-26T20:47:39.648Z"
   },
   {
    "duration": 290,
    "start_time": "2021-10-26T20:47:40.080Z"
   },
   {
    "duration": 481,
    "start_time": "2021-10-26T20:47:40.373Z"
   },
   {
    "duration": 11,
    "start_time": "2021-10-26T20:47:40.857Z"
   },
   {
    "duration": 36,
    "start_time": "2021-10-26T20:47:40.871Z"
   },
   {
    "duration": 15,
    "start_time": "2021-10-26T20:47:40.910Z"
   },
   {
    "duration": 2212,
    "start_time": "2021-10-26T20:47:40.927Z"
   },
   {
    "duration": 23,
    "start_time": "2021-10-26T20:47:43.142Z"
   },
   {
    "duration": 19,
    "start_time": "2021-10-26T20:47:43.168Z"
   },
   {
    "duration": 10,
    "start_time": "2021-10-26T20:47:43.189Z"
   },
   {
    "duration": 13,
    "start_time": "2021-10-26T20:47:43.204Z"
   },
   {
    "duration": 485,
    "start_time": "2021-10-26T20:47:43.219Z"
   },
   {
    "duration": 10,
    "start_time": "2021-10-26T20:47:43.706Z"
   },
   {
    "duration": 559,
    "start_time": "2021-10-26T20:47:43.723Z"
   },
   {
    "duration": 564,
    "start_time": "2021-10-26T20:47:44.284Z"
   },
   {
    "duration": 26,
    "start_time": "2021-10-26T20:47:44.851Z"
   },
   {
    "duration": 703,
    "start_time": "2021-10-26T20:48:08.918Z"
   },
   {
    "duration": 472,
    "start_time": "2021-10-26T20:50:35.450Z"
   },
   {
    "duration": 547,
    "start_time": "2021-10-26T20:54:17.494Z"
   },
   {
    "duration": 1986,
    "start_time": "2021-10-26T20:56:25.179Z"
   },
   {
    "duration": 60,
    "start_time": "2021-10-26T20:56:27.168Z"
   },
   {
    "duration": 15,
    "start_time": "2021-10-26T20:56:27.231Z"
   },
   {
    "duration": 4,
    "start_time": "2021-10-26T20:56:27.249Z"
   },
   {
    "duration": 91,
    "start_time": "2021-10-26T20:56:27.256Z"
   },
   {
    "duration": 22,
    "start_time": "2021-10-26T20:56:27.349Z"
   },
   {
    "duration": 35,
    "start_time": "2021-10-26T20:56:27.373Z"
   },
   {
    "duration": 12,
    "start_time": "2021-10-26T20:56:27.413Z"
   },
   {
    "duration": 11,
    "start_time": "2021-10-26T20:56:27.428Z"
   },
   {
    "duration": 59,
    "start_time": "2021-10-26T20:56:27.442Z"
   },
   {
    "duration": 37,
    "start_time": "2021-10-26T20:56:27.513Z"
   },
   {
    "duration": 14,
    "start_time": "2021-10-26T20:56:27.553Z"
   },
   {
    "duration": 30,
    "start_time": "2021-10-26T20:56:27.570Z"
   },
   {
    "duration": 6,
    "start_time": "2021-10-26T20:56:27.613Z"
   },
   {
    "duration": 23,
    "start_time": "2021-10-26T20:56:27.622Z"
   },
   {
    "duration": 341,
    "start_time": "2021-10-26T20:56:27.648Z"
   },
   {
    "duration": 16,
    "start_time": "2021-10-26T20:56:27.992Z"
   },
   {
    "duration": 8,
    "start_time": "2021-10-26T20:56:28.012Z"
   },
   {
    "duration": 9,
    "start_time": "2021-10-26T20:56:28.023Z"
   },
   {
    "duration": 204,
    "start_time": "2021-10-26T20:56:28.034Z"
   },
   {
    "duration": 21,
    "start_time": "2021-10-26T20:56:28.240Z"
   },
   {
    "duration": 41,
    "start_time": "2021-10-26T20:56:28.263Z"
   },
   {
    "duration": 412,
    "start_time": "2021-10-26T20:56:28.310Z"
   },
   {
    "duration": 411,
    "start_time": "2021-10-26T20:56:28.726Z"
   },
   {
    "duration": 482,
    "start_time": "2021-10-26T20:56:29.140Z"
   },
   {
    "duration": 14,
    "start_time": "2021-10-26T20:56:29.625Z"
   },
   {
    "duration": 749,
    "start_time": "2021-10-26T20:56:29.642Z"
   },
   {
    "duration": 11,
    "start_time": "2021-10-26T20:56:30.400Z"
   },
   {
    "duration": 12,
    "start_time": "2021-10-26T20:56:30.414Z"
   },
   {
    "duration": 24,
    "start_time": "2021-10-26T20:56:30.429Z"
   },
   {
    "duration": 488,
    "start_time": "2021-10-26T20:56:30.456Z"
   },
   {
    "duration": 284,
    "start_time": "2021-10-26T20:56:30.946Z"
   },
   {
    "duration": 492,
    "start_time": "2021-10-26T20:56:31.232Z"
   },
   {
    "duration": 10,
    "start_time": "2021-10-26T20:56:31.726Z"
   },
   {
    "duration": 28,
    "start_time": "2021-10-26T20:56:31.739Z"
   },
   {
    "duration": 39,
    "start_time": "2021-10-26T20:56:31.770Z"
   },
   {
    "duration": 2975,
    "start_time": "2021-10-26T20:56:31.811Z"
   },
   {
    "duration": 36,
    "start_time": "2021-10-26T20:56:34.789Z"
   },
   {
    "duration": 20,
    "start_time": "2021-10-26T20:56:34.827Z"
   },
   {
    "duration": 13,
    "start_time": "2021-10-26T20:56:34.850Z"
   },
   {
    "duration": 42,
    "start_time": "2021-10-26T20:56:34.865Z"
   },
   {
    "duration": 538,
    "start_time": "2021-10-26T20:56:34.911Z"
   },
   {
    "duration": 6,
    "start_time": "2021-10-26T20:56:35.451Z"
   },
   {
    "duration": 587,
    "start_time": "2021-10-26T20:56:35.460Z"
   },
   {
    "duration": 563,
    "start_time": "2021-10-26T20:56:36.050Z"
   },
   {
    "duration": 30,
    "start_time": "2021-10-26T20:56:36.616Z"
   },
   {
    "duration": 123,
    "start_time": "2021-10-26T20:57:17.506Z"
   },
   {
    "duration": 9363,
    "start_time": "2021-10-26T20:57:26.103Z"
   },
   {
    "duration": 461,
    "start_time": "2021-10-26T20:57:54.216Z"
   },
   {
    "duration": 663,
    "start_time": "2021-10-26T20:59:18.737Z"
   },
   {
    "duration": 547,
    "start_time": "2021-10-26T20:59:29.259Z"
   },
   {
    "duration": 699,
    "start_time": "2021-10-26T21:15:45.882Z"
   },
   {
    "duration": 2444,
    "start_time": "2021-10-26T22:06:52.336Z"
   },
   {
    "duration": 57,
    "start_time": "2021-10-26T22:06:54.783Z"
   },
   {
    "duration": 14,
    "start_time": "2021-10-26T22:06:54.843Z"
   },
   {
    "duration": 7,
    "start_time": "2021-10-26T22:06:54.861Z"
   },
   {
    "duration": 78,
    "start_time": "2021-10-26T22:06:54.870Z"
   },
   {
    "duration": 19,
    "start_time": "2021-10-26T22:06:54.951Z"
   },
   {
    "duration": 10,
    "start_time": "2021-10-26T22:06:55.001Z"
   },
   {
    "duration": 13,
    "start_time": "2021-10-26T22:06:55.016Z"
   },
   {
    "duration": 12,
    "start_time": "2021-10-26T22:06:55.032Z"
   },
   {
    "duration": 63,
    "start_time": "2021-10-26T22:06:55.047Z"
   },
   {
    "duration": 36,
    "start_time": "2021-10-26T22:06:55.113Z"
   },
   {
    "duration": 46,
    "start_time": "2021-10-26T22:06:55.153Z"
   },
   {
    "duration": 11,
    "start_time": "2021-10-26T22:06:55.203Z"
   },
   {
    "duration": 8,
    "start_time": "2021-10-26T22:06:55.217Z"
   },
   {
    "duration": 16,
    "start_time": "2021-10-26T22:06:55.228Z"
   },
   {
    "duration": 448,
    "start_time": "2021-10-26T22:06:55.247Z"
   },
   {
    "duration": 10,
    "start_time": "2021-10-26T22:06:55.701Z"
   },
   {
    "duration": 8,
    "start_time": "2021-10-26T22:06:55.714Z"
   },
   {
    "duration": 12,
    "start_time": "2021-10-26T22:06:55.725Z"
   },
   {
    "duration": 213,
    "start_time": "2021-10-26T22:06:55.740Z"
   },
   {
    "duration": 24,
    "start_time": "2021-10-26T22:06:55.956Z"
   },
   {
    "duration": 33,
    "start_time": "2021-10-26T22:06:55.983Z"
   },
   {
    "duration": 429,
    "start_time": "2021-10-26T22:06:56.022Z"
   },
   {
    "duration": 401,
    "start_time": "2021-10-26T22:06:56.455Z"
   },
   {
    "duration": 474,
    "start_time": "2021-10-26T22:06:56.859Z"
   },
   {
    "duration": 18,
    "start_time": "2021-10-26T22:06:57.337Z"
   },
   {
    "duration": 999,
    "start_time": "2021-10-26T22:06:57.358Z"
   },
   {
    "duration": 9,
    "start_time": "2021-10-26T22:06:58.360Z"
   },
   {
    "duration": 30,
    "start_time": "2021-10-26T22:06:58.371Z"
   },
   {
    "duration": 21,
    "start_time": "2021-10-26T22:06:58.404Z"
   },
   {
    "duration": 611,
    "start_time": "2021-10-26T22:06:58.427Z"
   },
   {
    "duration": 384,
    "start_time": "2021-10-26T22:06:59.041Z"
   },
   {
    "duration": 676,
    "start_time": "2021-10-26T22:06:59.428Z"
   },
   {
    "duration": 12,
    "start_time": "2021-10-26T22:07:00.107Z"
   },
   {
    "duration": 24,
    "start_time": "2021-10-26T22:07:00.123Z"
   },
   {
    "duration": 35,
    "start_time": "2021-10-26T22:07:00.150Z"
   },
   {
    "duration": 2838,
    "start_time": "2021-10-26T22:07:00.187Z"
   },
   {
    "duration": 37,
    "start_time": "2021-10-26T22:07:03.029Z"
   },
   {
    "duration": 40,
    "start_time": "2021-10-26T22:07:03.070Z"
   },
   {
    "duration": 29,
    "start_time": "2021-10-26T22:07:03.113Z"
   },
   {
    "duration": 32,
    "start_time": "2021-10-26T22:07:03.146Z"
   },
   {
    "duration": 619,
    "start_time": "2021-10-26T22:07:03.181Z"
   },
   {
    "duration": 6,
    "start_time": "2021-10-26T22:07:03.803Z"
   },
   {
    "duration": 664,
    "start_time": "2021-10-26T22:07:03.812Z"
   },
   {
    "duration": 948,
    "start_time": "2021-10-26T22:07:04.479Z"
   },
   {
    "duration": 36,
    "start_time": "2021-10-26T22:07:05.431Z"
   }
  ],
  "kernelspec": {
   "display_name": "Python 3",
   "language": "python",
   "name": "python3"
  },
  "language_info": {
   "codemirror_mode": {
    "name": "ipython",
    "version": 3
   },
   "file_extension": ".py",
   "mimetype": "text/x-python",
   "name": "python",
   "nbconvert_exporter": "python",
   "pygments_lexer": "ipython3",
   "version": "3.8.8"
  },
  "toc": {
   "base_numbering": 1,
   "nav_menu": {},
   "number_sections": true,
   "sideBar": true,
   "skip_h1_title": true,
   "title_cell": "Table of Contents",
   "title_sidebar": "Contents",
   "toc_cell": false,
   "toc_position": {},
   "toc_section_display": true,
   "toc_window_display": false
  }
 },
 "nbformat": 4,
 "nbformat_minor": 2
}
