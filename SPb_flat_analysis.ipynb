{
 "cells": [
  {
   "cell_type": "markdown",
   "metadata": {
    "toc": true
   },
   "source": [
    "<h1>Содержание<span class=\"tocSkip\"></span></h1>\n",
    "<div class=\"toc\"><ul class=\"toc-item\"><li><span><a href=\"#Изучение-данных-из-файла\" data-toc-modified-id=\"Изучение-данных-из-файла-1\"><span class=\"toc-item-num\">1&nbsp;&nbsp;</span>Изучение данных из файла</a></span><ul class=\"toc-item\"><li><span><a href=\"#Вывод\" data-toc-modified-id=\"Вывод-1.1\"><span class=\"toc-item-num\">1.1&nbsp;&nbsp;</span>Вывод</a></span></li></ul></li><li><span><a href=\"#Предобработка-данных\" data-toc-modified-id=\"Предобработка-данных-2\"><span class=\"toc-item-num\">2&nbsp;&nbsp;</span>Предобработка данных</a></span></li><li><span><a href=\"#Расчёты-и-добавление-результатов-в-таблицу\" data-toc-modified-id=\"Расчёты-и-добавление-результатов-в-таблицу-3\"><span class=\"toc-item-num\">3&nbsp;&nbsp;</span>Расчёты и добавление результатов в таблицу</a></span></li><li><span><a href=\"#Исследовательский-анализ-данных\" data-toc-modified-id=\"Исследовательский-анализ-данных-4\"><span class=\"toc-item-num\">4&nbsp;&nbsp;</span>Исследовательский анализ данных</a></span></li><li><span><a href=\"#Общий-вывод\" data-toc-modified-id=\"Общий-вывод-5\"><span class=\"toc-item-num\">5&nbsp;&nbsp;</span>Общий вывод</a></span></li><li><span><a href=\"#Чек-лист-готовности-проекта\" data-toc-modified-id=\"Чек-лист-готовности-проекта-6\"><span class=\"toc-item-num\">6&nbsp;&nbsp;</span>Чек-лист готовности проекта</a></span></li></ul></div>"
   ]
  },
  {
   "cell_type": "markdown",
   "metadata": {},
   "source": [
    "# Исследование объявлений о продаже квартир\n",
    "Цель - определить центр и нецентр в данных. Задачи - провести исследовательский анализ и определить зону увеличения темпов роста."
   ]
  },
  {
   "cell_type": "markdown",
   "metadata": {},
   "source": [
    "## Изучение данных из файла"
   ]
  },
  {
   "cell_type": "code",
   "execution_count": 1,
   "metadata": {},
   "outputs": [],
   "source": [
    "import pandas as pd \n",
    "import numpy as np\n",
    "import matplotlib.pyplot as plt\n",
    "import datetime \n"
   ]
  },
  {
   "cell_type": "code",
   "execution_count": 2,
   "metadata": {},
   "outputs": [],
   "source": [
    "df = pd.read_csv('https://www.dropbox.com/s/yshqe0327a4k8b9/real_estate_data_Petersburg.csv?dl=1', sep = '\\t', decimal = '.') #разделим данные с помощью табуляции, десятые доли разделим точкой"
   ]
  },
  {
   "cell_type": "code",
   "execution_count": 3,
   "metadata": {},
   "outputs": [
    {
     "name": "stdout",
     "output_type": "stream",
     "text": [
      "<class 'pandas.core.frame.DataFrame'>\n",
      "RangeIndex: 23699 entries, 0 to 23698\n",
      "Data columns (total 22 columns):\n",
      "total_images            23699 non-null int64\n",
      "last_price              23699 non-null float64\n",
      "total_area              23699 non-null float64\n",
      "first_day_exposition    23699 non-null object\n",
      "rooms                   23699 non-null int64\n",
      "ceiling_height          14504 non-null float64\n",
      "floors_total            23613 non-null float64\n",
      "living_area             21796 non-null float64\n",
      "floor                   23699 non-null int64\n",
      "is_apartment            2775 non-null object\n",
      "studio                  23699 non-null bool\n",
      "open_plan               23699 non-null bool\n",
      "kitchen_area            21421 non-null float64\n",
      "balcony                 12180 non-null float64\n",
      "locality_name           23650 non-null object\n",
      "airports_nearest        18157 non-null float64\n",
      "cityCenters_nearest     18180 non-null float64\n",
      "parks_around3000        18181 non-null float64\n",
      "parks_nearest           8079 non-null float64\n",
      "ponds_around3000        18181 non-null float64\n",
      "ponds_nearest           9110 non-null float64\n",
      "days_exposition         20518 non-null float64\n",
      "dtypes: bool(2), float64(14), int64(3), object(3)\n",
      "memory usage: 3.7+ MB\n"
     ]
    }
   ],
   "source": [
    "df.info() #исследуем данные на предмет пропущенных значений и количества строк, а также формата"
   ]
  },
  {
   "cell_type": "code",
   "execution_count": 4,
   "metadata": {},
   "outputs": [
    {
     "data": {
      "text/html": [
       "<div>\n",
       "<style scoped>\n",
       "    .dataframe tbody tr th:only-of-type {\n",
       "        vertical-align: middle;\n",
       "    }\n",
       "\n",
       "    .dataframe tbody tr th {\n",
       "        vertical-align: top;\n",
       "    }\n",
       "\n",
       "    .dataframe thead th {\n",
       "        text-align: right;\n",
       "    }\n",
       "</style>\n",
       "<table border=\"1\" class=\"dataframe\">\n",
       "  <thead>\n",
       "    <tr style=\"text-align: right;\">\n",
       "      <th></th>\n",
       "      <th>total_images</th>\n",
       "      <th>last_price</th>\n",
       "      <th>total_area</th>\n",
       "      <th>first_day_exposition</th>\n",
       "      <th>rooms</th>\n",
       "      <th>ceiling_height</th>\n",
       "      <th>floors_total</th>\n",
       "      <th>living_area</th>\n",
       "      <th>floor</th>\n",
       "      <th>is_apartment</th>\n",
       "      <th>...</th>\n",
       "      <th>kitchen_area</th>\n",
       "      <th>balcony</th>\n",
       "      <th>locality_name</th>\n",
       "      <th>airports_nearest</th>\n",
       "      <th>cityCenters_nearest</th>\n",
       "      <th>parks_around3000</th>\n",
       "      <th>parks_nearest</th>\n",
       "      <th>ponds_around3000</th>\n",
       "      <th>ponds_nearest</th>\n",
       "      <th>days_exposition</th>\n",
       "    </tr>\n",
       "  </thead>\n",
       "  <tbody>\n",
       "    <tr>\n",
       "      <td>0</td>\n",
       "      <td>20</td>\n",
       "      <td>13000000.0</td>\n",
       "      <td>108.0</td>\n",
       "      <td>2019-03-07T00:00:00</td>\n",
       "      <td>3</td>\n",
       "      <td>2.70</td>\n",
       "      <td>16.0</td>\n",
       "      <td>51.0</td>\n",
       "      <td>8</td>\n",
       "      <td>NaN</td>\n",
       "      <td>...</td>\n",
       "      <td>25.0</td>\n",
       "      <td>NaN</td>\n",
       "      <td>Санкт-Петербург</td>\n",
       "      <td>18863.0</td>\n",
       "      <td>16028.0</td>\n",
       "      <td>1.0</td>\n",
       "      <td>482.0</td>\n",
       "      <td>2.0</td>\n",
       "      <td>755.0</td>\n",
       "      <td>NaN</td>\n",
       "    </tr>\n",
       "    <tr>\n",
       "      <td>1</td>\n",
       "      <td>7</td>\n",
       "      <td>3350000.0</td>\n",
       "      <td>40.4</td>\n",
       "      <td>2018-12-04T00:00:00</td>\n",
       "      <td>1</td>\n",
       "      <td>NaN</td>\n",
       "      <td>11.0</td>\n",
       "      <td>18.6</td>\n",
       "      <td>1</td>\n",
       "      <td>NaN</td>\n",
       "      <td>...</td>\n",
       "      <td>11.0</td>\n",
       "      <td>2.0</td>\n",
       "      <td>посёлок Шушары</td>\n",
       "      <td>12817.0</td>\n",
       "      <td>18603.0</td>\n",
       "      <td>0.0</td>\n",
       "      <td>NaN</td>\n",
       "      <td>0.0</td>\n",
       "      <td>NaN</td>\n",
       "      <td>81.0</td>\n",
       "    </tr>\n",
       "    <tr>\n",
       "      <td>2</td>\n",
       "      <td>10</td>\n",
       "      <td>5196000.0</td>\n",
       "      <td>56.0</td>\n",
       "      <td>2015-08-20T00:00:00</td>\n",
       "      <td>2</td>\n",
       "      <td>NaN</td>\n",
       "      <td>5.0</td>\n",
       "      <td>34.3</td>\n",
       "      <td>4</td>\n",
       "      <td>NaN</td>\n",
       "      <td>...</td>\n",
       "      <td>8.3</td>\n",
       "      <td>0.0</td>\n",
       "      <td>Санкт-Петербург</td>\n",
       "      <td>21741.0</td>\n",
       "      <td>13933.0</td>\n",
       "      <td>1.0</td>\n",
       "      <td>90.0</td>\n",
       "      <td>2.0</td>\n",
       "      <td>574.0</td>\n",
       "      <td>558.0</td>\n",
       "    </tr>\n",
       "    <tr>\n",
       "      <td>3</td>\n",
       "      <td>0</td>\n",
       "      <td>64900000.0</td>\n",
       "      <td>159.0</td>\n",
       "      <td>2015-07-24T00:00:00</td>\n",
       "      <td>3</td>\n",
       "      <td>NaN</td>\n",
       "      <td>14.0</td>\n",
       "      <td>NaN</td>\n",
       "      <td>9</td>\n",
       "      <td>NaN</td>\n",
       "      <td>...</td>\n",
       "      <td>NaN</td>\n",
       "      <td>0.0</td>\n",
       "      <td>Санкт-Петербург</td>\n",
       "      <td>28098.0</td>\n",
       "      <td>6800.0</td>\n",
       "      <td>2.0</td>\n",
       "      <td>84.0</td>\n",
       "      <td>3.0</td>\n",
       "      <td>234.0</td>\n",
       "      <td>424.0</td>\n",
       "    </tr>\n",
       "    <tr>\n",
       "      <td>4</td>\n",
       "      <td>2</td>\n",
       "      <td>10000000.0</td>\n",
       "      <td>100.0</td>\n",
       "      <td>2018-06-19T00:00:00</td>\n",
       "      <td>2</td>\n",
       "      <td>3.03</td>\n",
       "      <td>14.0</td>\n",
       "      <td>32.0</td>\n",
       "      <td>13</td>\n",
       "      <td>NaN</td>\n",
       "      <td>...</td>\n",
       "      <td>41.0</td>\n",
       "      <td>NaN</td>\n",
       "      <td>Санкт-Петербург</td>\n",
       "      <td>31856.0</td>\n",
       "      <td>8098.0</td>\n",
       "      <td>2.0</td>\n",
       "      <td>112.0</td>\n",
       "      <td>1.0</td>\n",
       "      <td>48.0</td>\n",
       "      <td>121.0</td>\n",
       "    </tr>\n",
       "  </tbody>\n",
       "</table>\n",
       "<p>5 rows × 22 columns</p>\n",
       "</div>"
      ],
      "text/plain": [
       "   total_images  last_price  total_area first_day_exposition  rooms  \\\n",
       "0            20  13000000.0       108.0  2019-03-07T00:00:00      3   \n",
       "1             7   3350000.0        40.4  2018-12-04T00:00:00      1   \n",
       "2            10   5196000.0        56.0  2015-08-20T00:00:00      2   \n",
       "3             0  64900000.0       159.0  2015-07-24T00:00:00      3   \n",
       "4             2  10000000.0       100.0  2018-06-19T00:00:00      2   \n",
       "\n",
       "   ceiling_height  floors_total  living_area  floor is_apartment  ...  \\\n",
       "0            2.70          16.0         51.0      8          NaN  ...   \n",
       "1             NaN          11.0         18.6      1          NaN  ...   \n",
       "2             NaN           5.0         34.3      4          NaN  ...   \n",
       "3             NaN          14.0          NaN      9          NaN  ...   \n",
       "4            3.03          14.0         32.0     13          NaN  ...   \n",
       "\n",
       "   kitchen_area  balcony    locality_name  airports_nearest  \\\n",
       "0          25.0      NaN  Санкт-Петербург           18863.0   \n",
       "1          11.0      2.0   посёлок Шушары           12817.0   \n",
       "2           8.3      0.0  Санкт-Петербург           21741.0   \n",
       "3           NaN      0.0  Санкт-Петербург           28098.0   \n",
       "4          41.0      NaN  Санкт-Петербург           31856.0   \n",
       "\n",
       "  cityCenters_nearest  parks_around3000  parks_nearest  ponds_around3000  \\\n",
       "0             16028.0               1.0          482.0               2.0   \n",
       "1             18603.0               0.0            NaN               0.0   \n",
       "2             13933.0               1.0           90.0               2.0   \n",
       "3              6800.0               2.0           84.0               3.0   \n",
       "4              8098.0               2.0          112.0               1.0   \n",
       "\n",
       "   ponds_nearest  days_exposition  \n",
       "0          755.0              NaN  \n",
       "1            NaN             81.0  \n",
       "2          574.0            558.0  \n",
       "3          234.0            424.0  \n",
       "4           48.0            121.0  \n",
       "\n",
       "[5 rows x 22 columns]"
      ]
     },
     "metadata": {},
     "output_type": "display_data"
    },
    {
     "data": {
      "text/html": [
       "<div>\n",
       "<style scoped>\n",
       "    .dataframe tbody tr th:only-of-type {\n",
       "        vertical-align: middle;\n",
       "    }\n",
       "\n",
       "    .dataframe tbody tr th {\n",
       "        vertical-align: top;\n",
       "    }\n",
       "\n",
       "    .dataframe thead th {\n",
       "        text-align: right;\n",
       "    }\n",
       "</style>\n",
       "<table border=\"1\" class=\"dataframe\">\n",
       "  <thead>\n",
       "    <tr style=\"text-align: right;\">\n",
       "      <th></th>\n",
       "      <th>total_images</th>\n",
       "      <th>last_price</th>\n",
       "      <th>total_area</th>\n",
       "      <th>first_day_exposition</th>\n",
       "      <th>rooms</th>\n",
       "      <th>ceiling_height</th>\n",
       "      <th>floors_total</th>\n",
       "      <th>living_area</th>\n",
       "      <th>floor</th>\n",
       "      <th>is_apartment</th>\n",
       "      <th>...</th>\n",
       "      <th>kitchen_area</th>\n",
       "      <th>balcony</th>\n",
       "      <th>locality_name</th>\n",
       "      <th>airports_nearest</th>\n",
       "      <th>cityCenters_nearest</th>\n",
       "      <th>parks_around3000</th>\n",
       "      <th>parks_nearest</th>\n",
       "      <th>ponds_around3000</th>\n",
       "      <th>ponds_nearest</th>\n",
       "      <th>days_exposition</th>\n",
       "    </tr>\n",
       "  </thead>\n",
       "  <tbody>\n",
       "    <tr>\n",
       "      <td>23694</td>\n",
       "      <td>9</td>\n",
       "      <td>9700000.0</td>\n",
       "      <td>133.81</td>\n",
       "      <td>2017-03-21T00:00:00</td>\n",
       "      <td>3</td>\n",
       "      <td>3.7</td>\n",
       "      <td>5.0</td>\n",
       "      <td>73.3</td>\n",
       "      <td>3</td>\n",
       "      <td>NaN</td>\n",
       "      <td>...</td>\n",
       "      <td>13.83</td>\n",
       "      <td>NaN</td>\n",
       "      <td>Санкт-Петербург</td>\n",
       "      <td>24665.0</td>\n",
       "      <td>4232.0</td>\n",
       "      <td>1.0</td>\n",
       "      <td>796.0</td>\n",
       "      <td>3.0</td>\n",
       "      <td>381.0</td>\n",
       "      <td>NaN</td>\n",
       "    </tr>\n",
       "    <tr>\n",
       "      <td>23695</td>\n",
       "      <td>14</td>\n",
       "      <td>3100000.0</td>\n",
       "      <td>59.00</td>\n",
       "      <td>2018-01-15T00:00:00</td>\n",
       "      <td>3</td>\n",
       "      <td>NaN</td>\n",
       "      <td>5.0</td>\n",
       "      <td>38.0</td>\n",
       "      <td>4</td>\n",
       "      <td>NaN</td>\n",
       "      <td>...</td>\n",
       "      <td>8.50</td>\n",
       "      <td>NaN</td>\n",
       "      <td>Тосно</td>\n",
       "      <td>NaN</td>\n",
       "      <td>NaN</td>\n",
       "      <td>NaN</td>\n",
       "      <td>NaN</td>\n",
       "      <td>NaN</td>\n",
       "      <td>NaN</td>\n",
       "      <td>45.0</td>\n",
       "    </tr>\n",
       "    <tr>\n",
       "      <td>23696</td>\n",
       "      <td>18</td>\n",
       "      <td>2500000.0</td>\n",
       "      <td>56.70</td>\n",
       "      <td>2018-02-11T00:00:00</td>\n",
       "      <td>2</td>\n",
       "      <td>NaN</td>\n",
       "      <td>3.0</td>\n",
       "      <td>29.7</td>\n",
       "      <td>1</td>\n",
       "      <td>NaN</td>\n",
       "      <td>...</td>\n",
       "      <td>NaN</td>\n",
       "      <td>NaN</td>\n",
       "      <td>село Рождествено</td>\n",
       "      <td>NaN</td>\n",
       "      <td>NaN</td>\n",
       "      <td>NaN</td>\n",
       "      <td>NaN</td>\n",
       "      <td>NaN</td>\n",
       "      <td>NaN</td>\n",
       "      <td>NaN</td>\n",
       "    </tr>\n",
       "    <tr>\n",
       "      <td>23697</td>\n",
       "      <td>13</td>\n",
       "      <td>11475000.0</td>\n",
       "      <td>76.75</td>\n",
       "      <td>2017-03-28T00:00:00</td>\n",
       "      <td>2</td>\n",
       "      <td>3.0</td>\n",
       "      <td>17.0</td>\n",
       "      <td>NaN</td>\n",
       "      <td>12</td>\n",
       "      <td>NaN</td>\n",
       "      <td>...</td>\n",
       "      <td>23.30</td>\n",
       "      <td>2.0</td>\n",
       "      <td>Санкт-Петербург</td>\n",
       "      <td>39140.0</td>\n",
       "      <td>10364.0</td>\n",
       "      <td>2.0</td>\n",
       "      <td>173.0</td>\n",
       "      <td>3.0</td>\n",
       "      <td>196.0</td>\n",
       "      <td>602.0</td>\n",
       "    </tr>\n",
       "    <tr>\n",
       "      <td>23698</td>\n",
       "      <td>4</td>\n",
       "      <td>1350000.0</td>\n",
       "      <td>32.30</td>\n",
       "      <td>2017-07-21T00:00:00</td>\n",
       "      <td>1</td>\n",
       "      <td>2.5</td>\n",
       "      <td>5.0</td>\n",
       "      <td>12.3</td>\n",
       "      <td>1</td>\n",
       "      <td>NaN</td>\n",
       "      <td>...</td>\n",
       "      <td>9.00</td>\n",
       "      <td>NaN</td>\n",
       "      <td>поселок Новый Учхоз</td>\n",
       "      <td>NaN</td>\n",
       "      <td>NaN</td>\n",
       "      <td>NaN</td>\n",
       "      <td>NaN</td>\n",
       "      <td>NaN</td>\n",
       "      <td>NaN</td>\n",
       "      <td>NaN</td>\n",
       "    </tr>\n",
       "  </tbody>\n",
       "</table>\n",
       "<p>5 rows × 22 columns</p>\n",
       "</div>"
      ],
      "text/plain": [
       "       total_images  last_price  total_area first_day_exposition  rooms  \\\n",
       "23694             9   9700000.0      133.81  2017-03-21T00:00:00      3   \n",
       "23695            14   3100000.0       59.00  2018-01-15T00:00:00      3   \n",
       "23696            18   2500000.0       56.70  2018-02-11T00:00:00      2   \n",
       "23697            13  11475000.0       76.75  2017-03-28T00:00:00      2   \n",
       "23698             4   1350000.0       32.30  2017-07-21T00:00:00      1   \n",
       "\n",
       "       ceiling_height  floors_total  living_area  floor is_apartment  ...  \\\n",
       "23694             3.7           5.0         73.3      3          NaN  ...   \n",
       "23695             NaN           5.0         38.0      4          NaN  ...   \n",
       "23696             NaN           3.0         29.7      1          NaN  ...   \n",
       "23697             3.0          17.0          NaN     12          NaN  ...   \n",
       "23698             2.5           5.0         12.3      1          NaN  ...   \n",
       "\n",
       "       kitchen_area  balcony        locality_name  airports_nearest  \\\n",
       "23694         13.83      NaN      Санкт-Петербург           24665.0   \n",
       "23695          8.50      NaN                Тосно               NaN   \n",
       "23696           NaN      NaN     село Рождествено               NaN   \n",
       "23697         23.30      2.0      Санкт-Петербург           39140.0   \n",
       "23698          9.00      NaN  поселок Новый Учхоз               NaN   \n",
       "\n",
       "      cityCenters_nearest  parks_around3000  parks_nearest  ponds_around3000  \\\n",
       "23694              4232.0               1.0          796.0               3.0   \n",
       "23695                 NaN               NaN            NaN               NaN   \n",
       "23696                 NaN               NaN            NaN               NaN   \n",
       "23697             10364.0               2.0          173.0               3.0   \n",
       "23698                 NaN               NaN            NaN               NaN   \n",
       "\n",
       "       ponds_nearest  days_exposition  \n",
       "23694          381.0              NaN  \n",
       "23695            NaN             45.0  \n",
       "23696            NaN              NaN  \n",
       "23697          196.0            602.0  \n",
       "23698            NaN              NaN  \n",
       "\n",
       "[5 rows x 22 columns]"
      ]
     },
     "metadata": {},
     "output_type": "display_data"
    }
   ],
   "source": [
    "display(df.head(5)) #рассмотрим \"голову и хвост\" информации для  определения характера данных (в т.ч. типа object)\n",
    "display(df.tail(5))"
   ]
  },
  {
   "cell_type": "markdown",
   "metadata": {},
   "source": [
    "### Вывод"
   ]
  },
  {
   "cell_type": "markdown",
   "metadata": {},
   "source": [
    "Первоначальное знакомство с файлом показало, что из 22 столбцов фрейма, 14 содержат пропущенные значения, при этом пропуски встречаются как в категориях, так и в количественных значениях. Для заполнения пропущенных значений, необходимо оценить их характер и степень случайности."
   ]
  },
  {
   "cell_type": "markdown",
   "metadata": {},
   "source": [
    "## Предобработка данных"
   ]
  },
  {
   "cell_type": "markdown",
   "metadata": {},
   "source": [
    "Для заполнения пропущенных значений в столбцах оценим коэффициенты корелляции Пирсона между ними. При наличии связи между столбцами, возможно определить характер этой связи, а также дополнительную информацию (принадлежность к категории) для заполнения пропущенных значений."
   ]
  },
  {
   "cell_type": "code",
   "execution_count": 5,
   "metadata": {},
   "outputs": [
    {
     "data": {
      "text/html": [
       "<div>\n",
       "<style scoped>\n",
       "    .dataframe tbody tr th:only-of-type {\n",
       "        vertical-align: middle;\n",
       "    }\n",
       "\n",
       "    .dataframe tbody tr th {\n",
       "        vertical-align: top;\n",
       "    }\n",
       "\n",
       "    .dataframe thead th {\n",
       "        text-align: right;\n",
       "    }\n",
       "</style>\n",
       "<table border=\"1\" class=\"dataframe\">\n",
       "  <thead>\n",
       "    <tr style=\"text-align: right;\">\n",
       "      <th></th>\n",
       "      <th>total_images</th>\n",
       "      <th>last_price</th>\n",
       "      <th>total_area</th>\n",
       "      <th>rooms</th>\n",
       "      <th>ceiling_height</th>\n",
       "      <th>floors_total</th>\n",
       "      <th>living_area</th>\n",
       "      <th>floor</th>\n",
       "      <th>studio</th>\n",
       "      <th>open_plan</th>\n",
       "      <th>kitchen_area</th>\n",
       "      <th>balcony</th>\n",
       "      <th>airports_nearest</th>\n",
       "      <th>cityCenters_nearest</th>\n",
       "      <th>parks_around3000</th>\n",
       "      <th>parks_nearest</th>\n",
       "      <th>ponds_around3000</th>\n",
       "      <th>ponds_nearest</th>\n",
       "      <th>days_exposition</th>\n",
       "    </tr>\n",
       "  </thead>\n",
       "  <tbody>\n",
       "    <tr>\n",
       "      <td>total_images</td>\n",
       "      <td>1.000000</td>\n",
       "      <td>0.104473</td>\n",
       "      <td>0.115352</td>\n",
       "      <td>0.099288</td>\n",
       "      <td>-0.001987</td>\n",
       "      <td>0.010427</td>\n",
       "      <td>0.104780</td>\n",
       "      <td>0.031340</td>\n",
       "      <td>-0.029303</td>\n",
       "      <td>-0.024407</td>\n",
       "      <td>0.104756</td>\n",
       "      <td>0.121693</td>\n",
       "      <td>-0.002298</td>\n",
       "      <td>-0.047666</td>\n",
       "      <td>0.021120</td>\n",
       "      <td>-0.008347</td>\n",
       "      <td>-0.011553</td>\n",
       "      <td>-0.003034</td>\n",
       "      <td>-0.026657</td>\n",
       "    </tr>\n",
       "    <tr>\n",
       "      <td>last_price</td>\n",
       "      <td>0.104473</td>\n",
       "      <td>1.000000</td>\n",
       "      <td>0.653675</td>\n",
       "      <td>0.363343</td>\n",
       "      <td>0.085430</td>\n",
       "      <td>-0.006984</td>\n",
       "      <td>0.566492</td>\n",
       "      <td>0.026576</td>\n",
       "      <td>-0.025362</td>\n",
       "      <td>-0.008802</td>\n",
       "      <td>0.519869</td>\n",
       "      <td>0.029646</td>\n",
       "      <td>-0.026239</td>\n",
       "      <td>-0.206747</td>\n",
       "      <td>0.151058</td>\n",
       "      <td>-0.016414</td>\n",
       "      <td>0.159996</td>\n",
       "      <td>-0.084809</td>\n",
       "      <td>0.081146</td>\n",
       "    </tr>\n",
       "    <tr>\n",
       "      <td>total_area</td>\n",
       "      <td>0.115352</td>\n",
       "      <td>0.653675</td>\n",
       "      <td>1.000000</td>\n",
       "      <td>0.758344</td>\n",
       "      <td>0.095490</td>\n",
       "      <td>-0.075774</td>\n",
       "      <td>0.939537</td>\n",
       "      <td>-0.024754</td>\n",
       "      <td>-0.072653</td>\n",
       "      <td>-0.034885</td>\n",
       "      <td>0.609121</td>\n",
       "      <td>0.047937</td>\n",
       "      <td>-0.030753</td>\n",
       "      <td>-0.231446</td>\n",
       "      <td>0.164689</td>\n",
       "      <td>-0.021497</td>\n",
       "      <td>0.162346</td>\n",
       "      <td>-0.097969</td>\n",
       "      <td>0.149675</td>\n",
       "    </tr>\n",
       "    <tr>\n",
       "      <td>rooms</td>\n",
       "      <td>0.099288</td>\n",
       "      <td>0.363343</td>\n",
       "      <td>0.758344</td>\n",
       "      <td>1.000000</td>\n",
       "      <td>0.054457</td>\n",
       "      <td>-0.228215</td>\n",
       "      <td>0.845977</td>\n",
       "      <td>-0.150862</td>\n",
       "      <td>-0.147286</td>\n",
       "      <td>-0.087500</td>\n",
       "      <td>0.269945</td>\n",
       "      <td>0.017991</td>\n",
       "      <td>-0.061199</td>\n",
       "      <td>-0.184864</td>\n",
       "      <td>0.137257</td>\n",
       "      <td>-0.054549</td>\n",
       "      <td>0.092693</td>\n",
       "      <td>-0.057689</td>\n",
       "      <td>0.126961</td>\n",
       "    </tr>\n",
       "    <tr>\n",
       "      <td>ceiling_height</td>\n",
       "      <td>-0.001987</td>\n",
       "      <td>0.085430</td>\n",
       "      <td>0.095490</td>\n",
       "      <td>0.054457</td>\n",
       "      <td>1.000000</td>\n",
       "      <td>-0.028732</td>\n",
       "      <td>0.090650</td>\n",
       "      <td>-0.011798</td>\n",
       "      <td>0.001674</td>\n",
       "      <td>0.042777</td>\n",
       "      <td>0.087641</td>\n",
       "      <td>0.040523</td>\n",
       "      <td>-0.023947</td>\n",
       "      <td>-0.091689</td>\n",
       "      <td>0.065915</td>\n",
       "      <td>-0.019167</td>\n",
       "      <td>0.078209</td>\n",
       "      <td>-0.059090</td>\n",
       "      <td>0.019091</td>\n",
       "    </tr>\n",
       "    <tr>\n",
       "      <td>floors_total</td>\n",
       "      <td>0.010427</td>\n",
       "      <td>-0.006984</td>\n",
       "      <td>-0.075774</td>\n",
       "      <td>-0.228215</td>\n",
       "      <td>-0.028732</td>\n",
       "      <td>1.000000</td>\n",
       "      <td>-0.169311</td>\n",
       "      <td>0.678059</td>\n",
       "      <td>0.070151</td>\n",
       "      <td>0.050791</td>\n",
       "      <td>0.163944</td>\n",
       "      <td>0.194065</td>\n",
       "      <td>0.108288</td>\n",
       "      <td>0.019774</td>\n",
       "      <td>-0.252833</td>\n",
       "      <td>0.097527</td>\n",
       "      <td>-0.122735</td>\n",
       "      <td>0.038864</td>\n",
       "      <td>-0.052234</td>\n",
       "    </tr>\n",
       "    <tr>\n",
       "      <td>living_area</td>\n",
       "      <td>0.104780</td>\n",
       "      <td>0.566492</td>\n",
       "      <td>0.939537</td>\n",
       "      <td>0.845977</td>\n",
       "      <td>0.090650</td>\n",
       "      <td>-0.169311</td>\n",
       "      <td>1.000000</td>\n",
       "      <td>-0.097210</td>\n",
       "      <td>-0.056231</td>\n",
       "      <td>-0.033711</td>\n",
       "      <td>0.428674</td>\n",
       "      <td>0.018849</td>\n",
       "      <td>-0.057912</td>\n",
       "      <td>-0.231368</td>\n",
       "      <td>0.184453</td>\n",
       "      <td>-0.050167</td>\n",
       "      <td>0.148933</td>\n",
       "      <td>-0.081674</td>\n",
       "      <td>0.142454</td>\n",
       "    </tr>\n",
       "    <tr>\n",
       "      <td>floor</td>\n",
       "      <td>0.031340</td>\n",
       "      <td>0.026576</td>\n",
       "      <td>-0.024754</td>\n",
       "      <td>-0.150862</td>\n",
       "      <td>-0.011798</td>\n",
       "      <td>0.678059</td>\n",
       "      <td>-0.097210</td>\n",
       "      <td>1.000000</td>\n",
       "      <td>0.036940</td>\n",
       "      <td>0.035824</td>\n",
       "      <td>0.135531</td>\n",
       "      <td>0.168773</td>\n",
       "      <td>0.071597</td>\n",
       "      <td>0.009084</td>\n",
       "      <td>-0.163784</td>\n",
       "      <td>0.073045</td>\n",
       "      <td>-0.076312</td>\n",
       "      <td>0.024850</td>\n",
       "      <td>-0.039463</td>\n",
       "    </tr>\n",
       "    <tr>\n",
       "      <td>studio</td>\n",
       "      <td>-0.029303</td>\n",
       "      <td>-0.025362</td>\n",
       "      <td>-0.072653</td>\n",
       "      <td>-0.147286</td>\n",
       "      <td>0.001674</td>\n",
       "      <td>0.070151</td>\n",
       "      <td>-0.056231</td>\n",
       "      <td>0.036940</td>\n",
       "      <td>1.000000</td>\n",
       "      <td>-0.004235</td>\n",
       "      <td>NaN</td>\n",
       "      <td>0.031455</td>\n",
       "      <td>-0.021876</td>\n",
       "      <td>-0.007029</td>\n",
       "      <td>-0.030202</td>\n",
       "      <td>0.009134</td>\n",
       "      <td>0.000939</td>\n",
       "      <td>0.002606</td>\n",
       "      <td>-0.022476</td>\n",
       "    </tr>\n",
       "    <tr>\n",
       "      <td>open_plan</td>\n",
       "      <td>-0.024407</td>\n",
       "      <td>-0.008802</td>\n",
       "      <td>-0.034885</td>\n",
       "      <td>-0.087500</td>\n",
       "      <td>0.042777</td>\n",
       "      <td>0.050791</td>\n",
       "      <td>-0.033711</td>\n",
       "      <td>0.035824</td>\n",
       "      <td>-0.004235</td>\n",
       "      <td>1.000000</td>\n",
       "      <td>NaN</td>\n",
       "      <td>0.019491</td>\n",
       "      <td>-0.013583</td>\n",
       "      <td>-0.004204</td>\n",
       "      <td>-0.010077</td>\n",
       "      <td>0.010612</td>\n",
       "      <td>0.008455</td>\n",
       "      <td>-0.003328</td>\n",
       "      <td>-0.024112</td>\n",
       "    </tr>\n",
       "    <tr>\n",
       "      <td>kitchen_area</td>\n",
       "      <td>0.104756</td>\n",
       "      <td>0.519869</td>\n",
       "      <td>0.609121</td>\n",
       "      <td>0.269945</td>\n",
       "      <td>0.087641</td>\n",
       "      <td>0.163944</td>\n",
       "      <td>0.428674</td>\n",
       "      <td>0.135531</td>\n",
       "      <td>NaN</td>\n",
       "      <td>NaN</td>\n",
       "      <td>1.000000</td>\n",
       "      <td>0.098634</td>\n",
       "      <td>0.008200</td>\n",
       "      <td>-0.190049</td>\n",
       "      <td>0.087503</td>\n",
       "      <td>0.029641</td>\n",
       "      <td>0.150148</td>\n",
       "      <td>-0.105223</td>\n",
       "      <td>0.100586</td>\n",
       "    </tr>\n",
       "    <tr>\n",
       "      <td>balcony</td>\n",
       "      <td>0.121693</td>\n",
       "      <td>0.029646</td>\n",
       "      <td>0.047937</td>\n",
       "      <td>0.017991</td>\n",
       "      <td>0.040523</td>\n",
       "      <td>0.194065</td>\n",
       "      <td>0.018849</td>\n",
       "      <td>0.168773</td>\n",
       "      <td>0.031455</td>\n",
       "      <td>0.019491</td>\n",
       "      <td>0.098634</td>\n",
       "      <td>1.000000</td>\n",
       "      <td>0.066834</td>\n",
       "      <td>0.051051</td>\n",
       "      <td>-0.082850</td>\n",
       "      <td>0.052328</td>\n",
       "      <td>-0.032709</td>\n",
       "      <td>0.010847</td>\n",
       "      <td>-0.032909</td>\n",
       "    </tr>\n",
       "    <tr>\n",
       "      <td>airports_nearest</td>\n",
       "      <td>-0.002298</td>\n",
       "      <td>-0.026239</td>\n",
       "      <td>-0.030753</td>\n",
       "      <td>-0.061199</td>\n",
       "      <td>-0.023947</td>\n",
       "      <td>0.108288</td>\n",
       "      <td>-0.057912</td>\n",
       "      <td>0.071597</td>\n",
       "      <td>-0.021876</td>\n",
       "      <td>-0.013583</td>\n",
       "      <td>0.008200</td>\n",
       "      <td>0.066834</td>\n",
       "      <td>1.000000</td>\n",
       "      <td>0.272184</td>\n",
       "      <td>0.000759</td>\n",
       "      <td>-0.070058</td>\n",
       "      <td>-0.049583</td>\n",
       "      <td>0.014049</td>\n",
       "      <td>-0.018271</td>\n",
       "    </tr>\n",
       "    <tr>\n",
       "      <td>cityCenters_nearest</td>\n",
       "      <td>-0.047666</td>\n",
       "      <td>-0.206747</td>\n",
       "      <td>-0.231446</td>\n",
       "      <td>-0.184864</td>\n",
       "      <td>-0.091689</td>\n",
       "      <td>0.019774</td>\n",
       "      <td>-0.231368</td>\n",
       "      <td>0.009084</td>\n",
       "      <td>-0.007029</td>\n",
       "      <td>-0.004204</td>\n",
       "      <td>-0.190049</td>\n",
       "      <td>0.051051</td>\n",
       "      <td>0.272184</td>\n",
       "      <td>1.000000</td>\n",
       "      <td>-0.161738</td>\n",
       "      <td>-0.040650</td>\n",
       "      <td>-0.074577</td>\n",
       "      <td>0.028903</td>\n",
       "      <td>-0.060714</td>\n",
       "    </tr>\n",
       "    <tr>\n",
       "      <td>parks_around3000</td>\n",
       "      <td>0.021120</td>\n",
       "      <td>0.151058</td>\n",
       "      <td>0.164689</td>\n",
       "      <td>0.137257</td>\n",
       "      <td>0.065915</td>\n",
       "      <td>-0.252833</td>\n",
       "      <td>0.184453</td>\n",
       "      <td>-0.163784</td>\n",
       "      <td>-0.030202</td>\n",
       "      <td>-0.010077</td>\n",
       "      <td>0.087503</td>\n",
       "      <td>-0.082850</td>\n",
       "      <td>0.000759</td>\n",
       "      <td>-0.161738</td>\n",
       "      <td>1.000000</td>\n",
       "      <td>-0.259514</td>\n",
       "      <td>0.304316</td>\n",
       "      <td>-0.167103</td>\n",
       "      <td>0.060491</td>\n",
       "    </tr>\n",
       "    <tr>\n",
       "      <td>parks_nearest</td>\n",
       "      <td>-0.008347</td>\n",
       "      <td>-0.016414</td>\n",
       "      <td>-0.021497</td>\n",
       "      <td>-0.054549</td>\n",
       "      <td>-0.019167</td>\n",
       "      <td>0.097527</td>\n",
       "      <td>-0.050167</td>\n",
       "      <td>0.073045</td>\n",
       "      <td>0.009134</td>\n",
       "      <td>0.010612</td>\n",
       "      <td>0.029641</td>\n",
       "      <td>0.052328</td>\n",
       "      <td>-0.070058</td>\n",
       "      <td>-0.040650</td>\n",
       "      <td>-0.259514</td>\n",
       "      <td>1.000000</td>\n",
       "      <td>0.077280</td>\n",
       "      <td>0.000692</td>\n",
       "      <td>0.023254</td>\n",
       "    </tr>\n",
       "    <tr>\n",
       "      <td>ponds_around3000</td>\n",
       "      <td>-0.011553</td>\n",
       "      <td>0.159996</td>\n",
       "      <td>0.162346</td>\n",
       "      <td>0.092693</td>\n",
       "      <td>0.078209</td>\n",
       "      <td>-0.122735</td>\n",
       "      <td>0.148933</td>\n",
       "      <td>-0.076312</td>\n",
       "      <td>0.000939</td>\n",
       "      <td>0.008455</td>\n",
       "      <td>0.150148</td>\n",
       "      <td>-0.032709</td>\n",
       "      <td>-0.049583</td>\n",
       "      <td>-0.074577</td>\n",
       "      <td>0.304316</td>\n",
       "      <td>0.077280</td>\n",
       "      <td>1.000000</td>\n",
       "      <td>-0.341840</td>\n",
       "      <td>0.073162</td>\n",
       "    </tr>\n",
       "    <tr>\n",
       "      <td>ponds_nearest</td>\n",
       "      <td>-0.003034</td>\n",
       "      <td>-0.084809</td>\n",
       "      <td>-0.097969</td>\n",
       "      <td>-0.057689</td>\n",
       "      <td>-0.059090</td>\n",
       "      <td>0.038864</td>\n",
       "      <td>-0.081674</td>\n",
       "      <td>0.024850</td>\n",
       "      <td>0.002606</td>\n",
       "      <td>-0.003328</td>\n",
       "      <td>-0.105223</td>\n",
       "      <td>0.010847</td>\n",
       "      <td>0.014049</td>\n",
       "      <td>0.028903</td>\n",
       "      <td>-0.167103</td>\n",
       "      <td>0.000692</td>\n",
       "      <td>-0.341840</td>\n",
       "      <td>1.000000</td>\n",
       "      <td>-0.077879</td>\n",
       "    </tr>\n",
       "    <tr>\n",
       "      <td>days_exposition</td>\n",
       "      <td>-0.026657</td>\n",
       "      <td>0.081146</td>\n",
       "      <td>0.149675</td>\n",
       "      <td>0.126961</td>\n",
       "      <td>0.019091</td>\n",
       "      <td>-0.052234</td>\n",
       "      <td>0.142454</td>\n",
       "      <td>-0.039463</td>\n",
       "      <td>-0.022476</td>\n",
       "      <td>-0.024112</td>\n",
       "      <td>0.100586</td>\n",
       "      <td>-0.032909</td>\n",
       "      <td>-0.018271</td>\n",
       "      <td>-0.060714</td>\n",
       "      <td>0.060491</td>\n",
       "      <td>0.023254</td>\n",
       "      <td>0.073162</td>\n",
       "      <td>-0.077879</td>\n",
       "      <td>1.000000</td>\n",
       "    </tr>\n",
       "  </tbody>\n",
       "</table>\n",
       "</div>"
      ],
      "text/plain": [
       "                     total_images  last_price  total_area     rooms  \\\n",
       "total_images             1.000000    0.104473    0.115352  0.099288   \n",
       "last_price               0.104473    1.000000    0.653675  0.363343   \n",
       "total_area               0.115352    0.653675    1.000000  0.758344   \n",
       "rooms                    0.099288    0.363343    0.758344  1.000000   \n",
       "ceiling_height          -0.001987    0.085430    0.095490  0.054457   \n",
       "floors_total             0.010427   -0.006984   -0.075774 -0.228215   \n",
       "living_area              0.104780    0.566492    0.939537  0.845977   \n",
       "floor                    0.031340    0.026576   -0.024754 -0.150862   \n",
       "studio                  -0.029303   -0.025362   -0.072653 -0.147286   \n",
       "open_plan               -0.024407   -0.008802   -0.034885 -0.087500   \n",
       "kitchen_area             0.104756    0.519869    0.609121  0.269945   \n",
       "balcony                  0.121693    0.029646    0.047937  0.017991   \n",
       "airports_nearest        -0.002298   -0.026239   -0.030753 -0.061199   \n",
       "cityCenters_nearest     -0.047666   -0.206747   -0.231446 -0.184864   \n",
       "parks_around3000         0.021120    0.151058    0.164689  0.137257   \n",
       "parks_nearest           -0.008347   -0.016414   -0.021497 -0.054549   \n",
       "ponds_around3000        -0.011553    0.159996    0.162346  0.092693   \n",
       "ponds_nearest           -0.003034   -0.084809   -0.097969 -0.057689   \n",
       "days_exposition         -0.026657    0.081146    0.149675  0.126961   \n",
       "\n",
       "                     ceiling_height  floors_total  living_area     floor  \\\n",
       "total_images              -0.001987      0.010427     0.104780  0.031340   \n",
       "last_price                 0.085430     -0.006984     0.566492  0.026576   \n",
       "total_area                 0.095490     -0.075774     0.939537 -0.024754   \n",
       "rooms                      0.054457     -0.228215     0.845977 -0.150862   \n",
       "ceiling_height             1.000000     -0.028732     0.090650 -0.011798   \n",
       "floors_total              -0.028732      1.000000    -0.169311  0.678059   \n",
       "living_area                0.090650     -0.169311     1.000000 -0.097210   \n",
       "floor                     -0.011798      0.678059    -0.097210  1.000000   \n",
       "studio                     0.001674      0.070151    -0.056231  0.036940   \n",
       "open_plan                  0.042777      0.050791    -0.033711  0.035824   \n",
       "kitchen_area               0.087641      0.163944     0.428674  0.135531   \n",
       "balcony                    0.040523      0.194065     0.018849  0.168773   \n",
       "airports_nearest          -0.023947      0.108288    -0.057912  0.071597   \n",
       "cityCenters_nearest       -0.091689      0.019774    -0.231368  0.009084   \n",
       "parks_around3000           0.065915     -0.252833     0.184453 -0.163784   \n",
       "parks_nearest             -0.019167      0.097527    -0.050167  0.073045   \n",
       "ponds_around3000           0.078209     -0.122735     0.148933 -0.076312   \n",
       "ponds_nearest             -0.059090      0.038864    -0.081674  0.024850   \n",
       "days_exposition            0.019091     -0.052234     0.142454 -0.039463   \n",
       "\n",
       "                       studio  open_plan  kitchen_area   balcony  \\\n",
       "total_images        -0.029303  -0.024407      0.104756  0.121693   \n",
       "last_price          -0.025362  -0.008802      0.519869  0.029646   \n",
       "total_area          -0.072653  -0.034885      0.609121  0.047937   \n",
       "rooms               -0.147286  -0.087500      0.269945  0.017991   \n",
       "ceiling_height       0.001674   0.042777      0.087641  0.040523   \n",
       "floors_total         0.070151   0.050791      0.163944  0.194065   \n",
       "living_area         -0.056231  -0.033711      0.428674  0.018849   \n",
       "floor                0.036940   0.035824      0.135531  0.168773   \n",
       "studio               1.000000  -0.004235           NaN  0.031455   \n",
       "open_plan           -0.004235   1.000000           NaN  0.019491   \n",
       "kitchen_area              NaN        NaN      1.000000  0.098634   \n",
       "balcony              0.031455   0.019491      0.098634  1.000000   \n",
       "airports_nearest    -0.021876  -0.013583      0.008200  0.066834   \n",
       "cityCenters_nearest -0.007029  -0.004204     -0.190049  0.051051   \n",
       "parks_around3000    -0.030202  -0.010077      0.087503 -0.082850   \n",
       "parks_nearest        0.009134   0.010612      0.029641  0.052328   \n",
       "ponds_around3000     0.000939   0.008455      0.150148 -0.032709   \n",
       "ponds_nearest        0.002606  -0.003328     -0.105223  0.010847   \n",
       "days_exposition     -0.022476  -0.024112      0.100586 -0.032909   \n",
       "\n",
       "                     airports_nearest  cityCenters_nearest  parks_around3000  \\\n",
       "total_images                -0.002298            -0.047666          0.021120   \n",
       "last_price                  -0.026239            -0.206747          0.151058   \n",
       "total_area                  -0.030753            -0.231446          0.164689   \n",
       "rooms                       -0.061199            -0.184864          0.137257   \n",
       "ceiling_height              -0.023947            -0.091689          0.065915   \n",
       "floors_total                 0.108288             0.019774         -0.252833   \n",
       "living_area                 -0.057912            -0.231368          0.184453   \n",
       "floor                        0.071597             0.009084         -0.163784   \n",
       "studio                      -0.021876            -0.007029         -0.030202   \n",
       "open_plan                   -0.013583            -0.004204         -0.010077   \n",
       "kitchen_area                 0.008200            -0.190049          0.087503   \n",
       "balcony                      0.066834             0.051051         -0.082850   \n",
       "airports_nearest             1.000000             0.272184          0.000759   \n",
       "cityCenters_nearest          0.272184             1.000000         -0.161738   \n",
       "parks_around3000             0.000759            -0.161738          1.000000   \n",
       "parks_nearest               -0.070058            -0.040650         -0.259514   \n",
       "ponds_around3000            -0.049583            -0.074577          0.304316   \n",
       "ponds_nearest                0.014049             0.028903         -0.167103   \n",
       "days_exposition             -0.018271            -0.060714          0.060491   \n",
       "\n",
       "                     parks_nearest  ponds_around3000  ponds_nearest  \\\n",
       "total_images             -0.008347         -0.011553      -0.003034   \n",
       "last_price               -0.016414          0.159996      -0.084809   \n",
       "total_area               -0.021497          0.162346      -0.097969   \n",
       "rooms                    -0.054549          0.092693      -0.057689   \n",
       "ceiling_height           -0.019167          0.078209      -0.059090   \n",
       "floors_total              0.097527         -0.122735       0.038864   \n",
       "living_area              -0.050167          0.148933      -0.081674   \n",
       "floor                     0.073045         -0.076312       0.024850   \n",
       "studio                    0.009134          0.000939       0.002606   \n",
       "open_plan                 0.010612          0.008455      -0.003328   \n",
       "kitchen_area              0.029641          0.150148      -0.105223   \n",
       "balcony                   0.052328         -0.032709       0.010847   \n",
       "airports_nearest         -0.070058         -0.049583       0.014049   \n",
       "cityCenters_nearest      -0.040650         -0.074577       0.028903   \n",
       "parks_around3000         -0.259514          0.304316      -0.167103   \n",
       "parks_nearest             1.000000          0.077280       0.000692   \n",
       "ponds_around3000          0.077280          1.000000      -0.341840   \n",
       "ponds_nearest             0.000692         -0.341840       1.000000   \n",
       "days_exposition           0.023254          0.073162      -0.077879   \n",
       "\n",
       "                     days_exposition  \n",
       "total_images               -0.026657  \n",
       "last_price                  0.081146  \n",
       "total_area                  0.149675  \n",
       "rooms                       0.126961  \n",
       "ceiling_height              0.019091  \n",
       "floors_total               -0.052234  \n",
       "living_area                 0.142454  \n",
       "floor                      -0.039463  \n",
       "studio                     -0.022476  \n",
       "open_plan                  -0.024112  \n",
       "kitchen_area                0.100586  \n",
       "balcony                    -0.032909  \n",
       "airports_nearest           -0.018271  \n",
       "cityCenters_nearest        -0.060714  \n",
       "parks_around3000            0.060491  \n",
       "parks_nearest               0.023254  \n",
       "ponds_around3000            0.073162  \n",
       "ponds_nearest              -0.077879  \n",
       "days_exposition             1.000000  "
      ]
     },
     "execution_count": 5,
     "metadata": {},
     "output_type": "execute_result"
    }
   ],
   "source": [
    "df.corr() #с помощью даного метода определим наиболее связанные между собой параметры"
   ]
  },
  {
   "cell_type": "markdown",
   "metadata": {},
   "source": [
    "Опишем основные показатели столбцов с количественнымии данными (далее будем использовать эти данные):"
   ]
  },
  {
   "cell_type": "code",
   "execution_count": 6,
   "metadata": {},
   "outputs": [
    {
     "name": "stdout",
     "output_type": "stream",
     "text": [
      "       total_images    last_price    total_area         rooms  ceiling_height  \\\n",
      "count  23699.000000  2.369900e+04  23699.000000  23699.000000    14504.000000   \n",
      "mean       9.858475  6.541549e+06     60.348651      2.070636        2.771499   \n",
      "std        5.682529  1.088701e+07     35.654083      1.078405        1.261056   \n",
      "min        0.000000  1.219000e+04     12.000000      0.000000        1.000000   \n",
      "25%        6.000000  3.400000e+06     40.000000      1.000000        2.520000   \n",
      "50%        9.000000  4.650000e+06     52.000000      2.000000        2.650000   \n",
      "75%       14.000000  6.800000e+06     69.900000      3.000000        2.800000   \n",
      "max       50.000000  7.630000e+08    900.000000     19.000000      100.000000   \n",
      "\n",
      "       floors_total   living_area         floor  kitchen_area       balcony  \\\n",
      "count  23613.000000  21796.000000  23699.000000  21421.000000  12180.000000   \n",
      "mean      10.673824     34.457852      5.892358     10.569807      1.150082   \n",
      "std        6.597173     22.030445      4.885249      5.905438      1.071300   \n",
      "min        1.000000      2.000000      1.000000      1.300000      0.000000   \n",
      "25%        5.000000     18.600000      2.000000      7.000000      0.000000   \n",
      "50%        9.000000     30.000000      4.000000      9.100000      1.000000   \n",
      "75%       16.000000     42.300000      8.000000     12.000000      2.000000   \n",
      "max       60.000000    409.700000     33.000000    112.000000      5.000000   \n",
      "\n",
      "       airports_nearest  cityCenters_nearest  parks_around3000  parks_nearest  \\\n",
      "count      18157.000000         18180.000000      18181.000000    8079.000000   \n",
      "mean       28793.672193         14191.277833          0.611408     490.804555   \n",
      "std        12630.880622          8608.386210          0.802074     342.317995   \n",
      "min            0.000000           181.000000          0.000000       1.000000   \n",
      "25%        18585.000000          9238.000000          0.000000     288.000000   \n",
      "50%        26726.000000         13098.500000          0.000000     455.000000   \n",
      "75%        37273.000000         16293.000000          1.000000     612.000000   \n",
      "max        84869.000000         65968.000000          3.000000    3190.000000   \n",
      "\n",
      "       ponds_around3000  ponds_nearest  days_exposition  \n",
      "count      18181.000000    9110.000000     20518.000000  \n",
      "mean           0.770255     517.980900       180.888634  \n",
      "std            0.938346     277.720643       219.727988  \n",
      "min            0.000000      13.000000         1.000000  \n",
      "25%            0.000000     294.000000        45.000000  \n",
      "50%            1.000000     502.000000        95.000000  \n",
      "75%            1.000000     729.000000       232.000000  \n",
      "max            3.000000    1344.000000      1580.000000  \n"
     ]
    }
   ],
   "source": [
    "print (df.describe()) #рассмотрим подробнее каждый столбец количественных данных с помощью метода describe()"
   ]
  },
  {
   "cell_type": "markdown",
   "metadata": {},
   "source": [
    "**Замена пропущенных значений:**"
   ]
  },
  {
   "cell_type": "markdown",
   "metadata": {},
   "source": [
    "***Пропущенные значению по столбцу 'ceiling_height'*** "
   ]
  },
  {
   "cell_type": "code",
   "execution_count": 7,
   "metadata": {},
   "outputs": [
    {
     "data": {
      "text/html": [
       "<div>\n",
       "<style scoped>\n",
       "    .dataframe tbody tr th:only-of-type {\n",
       "        vertical-align: middle;\n",
       "    }\n",
       "\n",
       "    .dataframe tbody tr th {\n",
       "        vertical-align: top;\n",
       "    }\n",
       "\n",
       "    .dataframe thead th {\n",
       "        text-align: right;\n",
       "    }\n",
       "</style>\n",
       "<table border=\"1\" class=\"dataframe\">\n",
       "  <thead>\n",
       "    <tr style=\"text-align: right;\">\n",
       "      <th></th>\n",
       "      <th>total_images</th>\n",
       "      <th>last_price</th>\n",
       "      <th>total_area</th>\n",
       "      <th>first_day_exposition</th>\n",
       "      <th>rooms</th>\n",
       "      <th>ceiling_height</th>\n",
       "      <th>floors_total</th>\n",
       "      <th>living_area</th>\n",
       "      <th>floor</th>\n",
       "      <th>is_apartment</th>\n",
       "      <th>...</th>\n",
       "      <th>kitchen_area</th>\n",
       "      <th>balcony</th>\n",
       "      <th>locality_name</th>\n",
       "      <th>airports_nearest</th>\n",
       "      <th>cityCenters_nearest</th>\n",
       "      <th>parks_around3000</th>\n",
       "      <th>parks_nearest</th>\n",
       "      <th>ponds_around3000</th>\n",
       "      <th>ponds_nearest</th>\n",
       "      <th>days_exposition</th>\n",
       "    </tr>\n",
       "  </thead>\n",
       "  <tbody>\n",
       "    <tr>\n",
       "      <td>1</td>\n",
       "      <td>7</td>\n",
       "      <td>3350000.0</td>\n",
       "      <td>40.4</td>\n",
       "      <td>2018-12-04T00:00:00</td>\n",
       "      <td>1</td>\n",
       "      <td>NaN</td>\n",
       "      <td>11.0</td>\n",
       "      <td>18.6</td>\n",
       "      <td>1</td>\n",
       "      <td>NaN</td>\n",
       "      <td>...</td>\n",
       "      <td>11.0</td>\n",
       "      <td>2.0</td>\n",
       "      <td>посёлок Шушары</td>\n",
       "      <td>12817.0</td>\n",
       "      <td>18603.0</td>\n",
       "      <td>0.0</td>\n",
       "      <td>NaN</td>\n",
       "      <td>0.0</td>\n",
       "      <td>NaN</td>\n",
       "      <td>81.0</td>\n",
       "    </tr>\n",
       "    <tr>\n",
       "      <td>2</td>\n",
       "      <td>10</td>\n",
       "      <td>5196000.0</td>\n",
       "      <td>56.0</td>\n",
       "      <td>2015-08-20T00:00:00</td>\n",
       "      <td>2</td>\n",
       "      <td>NaN</td>\n",
       "      <td>5.0</td>\n",
       "      <td>34.3</td>\n",
       "      <td>4</td>\n",
       "      <td>NaN</td>\n",
       "      <td>...</td>\n",
       "      <td>8.3</td>\n",
       "      <td>0.0</td>\n",
       "      <td>Санкт-Петербург</td>\n",
       "      <td>21741.0</td>\n",
       "      <td>13933.0</td>\n",
       "      <td>1.0</td>\n",
       "      <td>90.0</td>\n",
       "      <td>2.0</td>\n",
       "      <td>574.0</td>\n",
       "      <td>558.0</td>\n",
       "    </tr>\n",
       "    <tr>\n",
       "      <td>3</td>\n",
       "      <td>0</td>\n",
       "      <td>64900000.0</td>\n",
       "      <td>159.0</td>\n",
       "      <td>2015-07-24T00:00:00</td>\n",
       "      <td>3</td>\n",
       "      <td>NaN</td>\n",
       "      <td>14.0</td>\n",
       "      <td>NaN</td>\n",
       "      <td>9</td>\n",
       "      <td>NaN</td>\n",
       "      <td>...</td>\n",
       "      <td>NaN</td>\n",
       "      <td>0.0</td>\n",
       "      <td>Санкт-Петербург</td>\n",
       "      <td>28098.0</td>\n",
       "      <td>6800.0</td>\n",
       "      <td>2.0</td>\n",
       "      <td>84.0</td>\n",
       "      <td>3.0</td>\n",
       "      <td>234.0</td>\n",
       "      <td>424.0</td>\n",
       "    </tr>\n",
       "    <tr>\n",
       "      <td>5</td>\n",
       "      <td>10</td>\n",
       "      <td>2890000.0</td>\n",
       "      <td>30.4</td>\n",
       "      <td>2018-09-10T00:00:00</td>\n",
       "      <td>1</td>\n",
       "      <td>NaN</td>\n",
       "      <td>12.0</td>\n",
       "      <td>14.4</td>\n",
       "      <td>5</td>\n",
       "      <td>NaN</td>\n",
       "      <td>...</td>\n",
       "      <td>9.1</td>\n",
       "      <td>NaN</td>\n",
       "      <td>городской посёлок Янино-1</td>\n",
       "      <td>NaN</td>\n",
       "      <td>NaN</td>\n",
       "      <td>NaN</td>\n",
       "      <td>NaN</td>\n",
       "      <td>NaN</td>\n",
       "      <td>NaN</td>\n",
       "      <td>55.0</td>\n",
       "    </tr>\n",
       "    <tr>\n",
       "      <td>6</td>\n",
       "      <td>6</td>\n",
       "      <td>3700000.0</td>\n",
       "      <td>37.3</td>\n",
       "      <td>2017-11-02T00:00:00</td>\n",
       "      <td>1</td>\n",
       "      <td>NaN</td>\n",
       "      <td>26.0</td>\n",
       "      <td>10.6</td>\n",
       "      <td>6</td>\n",
       "      <td>NaN</td>\n",
       "      <td>...</td>\n",
       "      <td>14.4</td>\n",
       "      <td>1.0</td>\n",
       "      <td>посёлок Парголово</td>\n",
       "      <td>52996.0</td>\n",
       "      <td>19143.0</td>\n",
       "      <td>0.0</td>\n",
       "      <td>NaN</td>\n",
       "      <td>0.0</td>\n",
       "      <td>NaN</td>\n",
       "      <td>155.0</td>\n",
       "    </tr>\n",
       "    <tr>\n",
       "      <td>...</td>\n",
       "      <td>...</td>\n",
       "      <td>...</td>\n",
       "      <td>...</td>\n",
       "      <td>...</td>\n",
       "      <td>...</td>\n",
       "      <td>...</td>\n",
       "      <td>...</td>\n",
       "      <td>...</td>\n",
       "      <td>...</td>\n",
       "      <td>...</td>\n",
       "      <td>...</td>\n",
       "      <td>...</td>\n",
       "      <td>...</td>\n",
       "      <td>...</td>\n",
       "      <td>...</td>\n",
       "      <td>...</td>\n",
       "      <td>...</td>\n",
       "      <td>...</td>\n",
       "      <td>...</td>\n",
       "      <td>...</td>\n",
       "      <td>...</td>\n",
       "    </tr>\n",
       "    <tr>\n",
       "      <td>23687</td>\n",
       "      <td>6</td>\n",
       "      <td>3200000.0</td>\n",
       "      <td>39.0</td>\n",
       "      <td>2017-12-16T00:00:00</td>\n",
       "      <td>1</td>\n",
       "      <td>NaN</td>\n",
       "      <td>9.0</td>\n",
       "      <td>20.0</td>\n",
       "      <td>6</td>\n",
       "      <td>NaN</td>\n",
       "      <td>...</td>\n",
       "      <td>11.0</td>\n",
       "      <td>2.0</td>\n",
       "      <td>Санкт-Петербург</td>\n",
       "      <td>40837.0</td>\n",
       "      <td>16704.0</td>\n",
       "      <td>0.0</td>\n",
       "      <td>NaN</td>\n",
       "      <td>0.0</td>\n",
       "      <td>NaN</td>\n",
       "      <td>38.0</td>\n",
       "    </tr>\n",
       "    <tr>\n",
       "      <td>23690</td>\n",
       "      <td>3</td>\n",
       "      <td>5500000.0</td>\n",
       "      <td>52.0</td>\n",
       "      <td>2018-07-19T00:00:00</td>\n",
       "      <td>2</td>\n",
       "      <td>NaN</td>\n",
       "      <td>5.0</td>\n",
       "      <td>31.0</td>\n",
       "      <td>2</td>\n",
       "      <td>NaN</td>\n",
       "      <td>...</td>\n",
       "      <td>6.0</td>\n",
       "      <td>NaN</td>\n",
       "      <td>Санкт-Петербург</td>\n",
       "      <td>20151.0</td>\n",
       "      <td>6263.0</td>\n",
       "      <td>1.0</td>\n",
       "      <td>300.0</td>\n",
       "      <td>0.0</td>\n",
       "      <td>NaN</td>\n",
       "      <td>15.0</td>\n",
       "    </tr>\n",
       "    <tr>\n",
       "      <td>23692</td>\n",
       "      <td>2</td>\n",
       "      <td>1350000.0</td>\n",
       "      <td>30.0</td>\n",
       "      <td>2017-07-07T00:00:00</td>\n",
       "      <td>1</td>\n",
       "      <td>NaN</td>\n",
       "      <td>5.0</td>\n",
       "      <td>17.5</td>\n",
       "      <td>4</td>\n",
       "      <td>NaN</td>\n",
       "      <td>...</td>\n",
       "      <td>6.0</td>\n",
       "      <td>NaN</td>\n",
       "      <td>Тихвин</td>\n",
       "      <td>NaN</td>\n",
       "      <td>NaN</td>\n",
       "      <td>NaN</td>\n",
       "      <td>NaN</td>\n",
       "      <td>NaN</td>\n",
       "      <td>NaN</td>\n",
       "      <td>413.0</td>\n",
       "    </tr>\n",
       "    <tr>\n",
       "      <td>23695</td>\n",
       "      <td>14</td>\n",
       "      <td>3100000.0</td>\n",
       "      <td>59.0</td>\n",
       "      <td>2018-01-15T00:00:00</td>\n",
       "      <td>3</td>\n",
       "      <td>NaN</td>\n",
       "      <td>5.0</td>\n",
       "      <td>38.0</td>\n",
       "      <td>4</td>\n",
       "      <td>NaN</td>\n",
       "      <td>...</td>\n",
       "      <td>8.5</td>\n",
       "      <td>NaN</td>\n",
       "      <td>Тосно</td>\n",
       "      <td>NaN</td>\n",
       "      <td>NaN</td>\n",
       "      <td>NaN</td>\n",
       "      <td>NaN</td>\n",
       "      <td>NaN</td>\n",
       "      <td>NaN</td>\n",
       "      <td>45.0</td>\n",
       "    </tr>\n",
       "    <tr>\n",
       "      <td>23696</td>\n",
       "      <td>18</td>\n",
       "      <td>2500000.0</td>\n",
       "      <td>56.7</td>\n",
       "      <td>2018-02-11T00:00:00</td>\n",
       "      <td>2</td>\n",
       "      <td>NaN</td>\n",
       "      <td>3.0</td>\n",
       "      <td>29.7</td>\n",
       "      <td>1</td>\n",
       "      <td>NaN</td>\n",
       "      <td>...</td>\n",
       "      <td>NaN</td>\n",
       "      <td>NaN</td>\n",
       "      <td>село Рождествено</td>\n",
       "      <td>NaN</td>\n",
       "      <td>NaN</td>\n",
       "      <td>NaN</td>\n",
       "      <td>NaN</td>\n",
       "      <td>NaN</td>\n",
       "      <td>NaN</td>\n",
       "      <td>NaN</td>\n",
       "    </tr>\n",
       "  </tbody>\n",
       "</table>\n",
       "<p>9195 rows × 22 columns</p>\n",
       "</div>"
      ],
      "text/plain": [
       "       total_images  last_price  total_area first_day_exposition  rooms  \\\n",
       "1                 7   3350000.0        40.4  2018-12-04T00:00:00      1   \n",
       "2                10   5196000.0        56.0  2015-08-20T00:00:00      2   \n",
       "3                 0  64900000.0       159.0  2015-07-24T00:00:00      3   \n",
       "5                10   2890000.0        30.4  2018-09-10T00:00:00      1   \n",
       "6                 6   3700000.0        37.3  2017-11-02T00:00:00      1   \n",
       "...             ...         ...         ...                  ...    ...   \n",
       "23687             6   3200000.0        39.0  2017-12-16T00:00:00      1   \n",
       "23690             3   5500000.0        52.0  2018-07-19T00:00:00      2   \n",
       "23692             2   1350000.0        30.0  2017-07-07T00:00:00      1   \n",
       "23695            14   3100000.0        59.0  2018-01-15T00:00:00      3   \n",
       "23696            18   2500000.0        56.7  2018-02-11T00:00:00      2   \n",
       "\n",
       "       ceiling_height  floors_total  living_area  floor is_apartment  ...  \\\n",
       "1                 NaN          11.0         18.6      1          NaN  ...   \n",
       "2                 NaN           5.0         34.3      4          NaN  ...   \n",
       "3                 NaN          14.0          NaN      9          NaN  ...   \n",
       "5                 NaN          12.0         14.4      5          NaN  ...   \n",
       "6                 NaN          26.0         10.6      6          NaN  ...   \n",
       "...               ...           ...          ...    ...          ...  ...   \n",
       "23687             NaN           9.0         20.0      6          NaN  ...   \n",
       "23690             NaN           5.0         31.0      2          NaN  ...   \n",
       "23692             NaN           5.0         17.5      4          NaN  ...   \n",
       "23695             NaN           5.0         38.0      4          NaN  ...   \n",
       "23696             NaN           3.0         29.7      1          NaN  ...   \n",
       "\n",
       "       kitchen_area  balcony              locality_name  airports_nearest  \\\n",
       "1              11.0      2.0             посёлок Шушары           12817.0   \n",
       "2               8.3      0.0            Санкт-Петербург           21741.0   \n",
       "3               NaN      0.0            Санкт-Петербург           28098.0   \n",
       "5               9.1      NaN  городской посёлок Янино-1               NaN   \n",
       "6              14.4      1.0          посёлок Парголово           52996.0   \n",
       "...             ...      ...                        ...               ...   \n",
       "23687          11.0      2.0            Санкт-Петербург           40837.0   \n",
       "23690           6.0      NaN            Санкт-Петербург           20151.0   \n",
       "23692           6.0      NaN                     Тихвин               NaN   \n",
       "23695           8.5      NaN                      Тосно               NaN   \n",
       "23696           NaN      NaN           село Рождествено               NaN   \n",
       "\n",
       "      cityCenters_nearest  parks_around3000  parks_nearest  ponds_around3000  \\\n",
       "1                 18603.0               0.0            NaN               0.0   \n",
       "2                 13933.0               1.0           90.0               2.0   \n",
       "3                  6800.0               2.0           84.0               3.0   \n",
       "5                     NaN               NaN            NaN               NaN   \n",
       "6                 19143.0               0.0            NaN               0.0   \n",
       "...                   ...               ...            ...               ...   \n",
       "23687             16704.0               0.0            NaN               0.0   \n",
       "23690              6263.0               1.0          300.0               0.0   \n",
       "23692                 NaN               NaN            NaN               NaN   \n",
       "23695                 NaN               NaN            NaN               NaN   \n",
       "23696                 NaN               NaN            NaN               NaN   \n",
       "\n",
       "       ponds_nearest  days_exposition  \n",
       "1                NaN             81.0  \n",
       "2              574.0            558.0  \n",
       "3              234.0            424.0  \n",
       "5                NaN             55.0  \n",
       "6                NaN            155.0  \n",
       "...              ...              ...  \n",
       "23687            NaN             38.0  \n",
       "23690            NaN             15.0  \n",
       "23692            NaN            413.0  \n",
       "23695            NaN             45.0  \n",
       "23696            NaN              NaN  \n",
       "\n",
       "[9195 rows x 22 columns]"
      ]
     },
     "execution_count": 7,
     "metadata": {},
     "output_type": "execute_result"
    }
   ],
   "source": [
    "df.query('ceiling_height == \"NaN\"')"
   ]
  },
  {
   "cell_type": "markdown",
   "metadata": {},
   "source": [
    "Столбец 'ceiling_height' слабо коррелирует с другими столбцами (исходя из данных функции corr(), вызванной ранее). Исходя из информации, которую вернул describe, стандартное отклонение говорит о значительных выбросах, повлияющих на **среднее** значение Таким образом заполнение пропущенных значений можно произвести устойчивой к выбросам медианой."
   ]
  },
  {
   "cell_type": "code",
   "execution_count": 8,
   "metadata": {},
   "outputs": [],
   "source": [
    "df['ceiling_height'].fillna(df['ceiling_height'].median(), inplace = True) #заполняем пропущенные значения медианой"
   ]
  },
  {
   "cell_type": "markdown",
   "metadata": {},
   "source": [
    "***Подобным образом заполним пропущенные значения в столбце 'days_exposition'.***"
   ]
  },
  {
   "cell_type": "code",
   "execution_count": 9,
   "metadata": {},
   "outputs": [],
   "source": [
    "df['days_exposition'].fillna(df['days_exposition'].median(), inplace = True)"
   ]
  },
  {
   "cell_type": "markdown",
   "metadata": {},
   "source": [
    "***Значения в столбце floors_total*** заменим в следующей логике:\n",
    "    пропущенное floors_total заменить на медианное значение, если медианное выше чем в столбце floor, принять значение floor. формат Floor total изменить на int."
   ]
  },
  {
   "cell_type": "code",
   "execution_count": 10,
   "metadata": {},
   "outputs": [],
   "source": [
    "df['floors_total'] = df['floors_total'].fillna(df['floors_total'].median()) #меняем пропущенные значения на медианные\n",
    "\n",
    "floor_incorrect = df[df['floor'] > df['floors_total']] #проверяем логику: этаж квартиры не должен превышать этажность строения\n",
    "#floor_incorrect.info()\n",
    "\n",
    "\n",
    "def floor_incorrect_fill (row): #если этаж квартиры превышает этажность дома, меняем значение этажность на квартирное\n",
    "    floor = row['floor']\n",
    "    floors_total = row['floors_total']\n",
    "    if floor > floors_total:\n",
    "        return floor\n",
    "    else:\n",
    "        return floors_total\n",
    "df['floors_total'] = df.apply(floor_incorrect_fill, axis = 1) #преобразуем столбец с этажностью с помощью метода apply\n",
    "#print (df.info())\n",
    "\n",
    "floor_incorrect = df[df['floor'] > df['floors_total']] #проверяем наличие некорректных значений\n",
    "#print (floor_incorrect)\n",
    "\n",
    "df['floors_total'] = df['floors_total'].astype('int') #изменим тип данныхМолодец, хороший тон использовать метод info() для получения общей информации из таблицы. Для более детального исследования можно воспользоваться методом describe().\n",
    "    \n",
    "#df.info()"
   ]
  },
  {
   "cell_type": "markdown",
   "metadata": {},
   "source": [
    "***Заполним столбец 'living_area'***. Данный столбец показывает сильную корелляцию со столбцом 'total_area' и 'rooms' \n",
    "Воспользуемся уже известными данными из столбца 'rooms'. Заменим соответствующие средние значения жилой площади в соответствии с количеством комнат квартиры.\n"
   ]
  },
  {
   "cell_type": "code",
   "execution_count": 11,
   "metadata": {},
   "outputs": [
    {
     "name": "stdout",
     "output_type": "stream",
     "text": [
      "       total_images  last_price  total_area first_day_exposition  rooms  \\\n",
      "3                 0  64900000.0      159.00  2015-07-24T00:00:00      3   \n",
      "7                 5   7915000.0       71.60  2019-04-18T00:00:00      2   \n",
      "30               12   2200000.0       32.80  2018-02-19T00:00:00      1   \n",
      "37               10   1990000.0       45.80  2017-10-28T00:00:00      2   \n",
      "44               13   5350000.0       40.00  2018-11-18T00:00:00      1   \n",
      "...             ...         ...         ...                  ...    ...   \n",
      "23642            14   5950000.0       80.30  2018-07-03T00:00:00      3   \n",
      "23663            12   6400000.0       88.00  2018-01-12T00:00:00      4   \n",
      "23670             9   2450000.0       45.60  2018-02-08T00:00:00      1   \n",
      "23679             0   2500000.0       35.00  2017-12-08T00:00:00      1   \n",
      "23697            13  11475000.0       76.75  2017-03-28T00:00:00      2   \n",
      "\n",
      "       ceiling_height  floors_total  living_area  floor is_apartment  ...  \\\n",
      "3                2.65            14          NaN      9          NaN  ...   \n",
      "7                2.65            24          NaN     22          NaN  ...   \n",
      "30               2.65             9          NaN      2          NaN  ...   \n",
      "37               2.50             5          NaN      1          NaN  ...   \n",
      "44               2.65            22          NaN      3          NaN  ...   \n",
      "...               ...           ...          ...    ...          ...  ...   \n",
      "23642            2.70            12          NaN      5          NaN  ...   \n",
      "23663            2.55            10          NaN      1          NaN  ...   \n",
      "23670            2.80             9          NaN      2          NaN  ...   \n",
      "23679            2.65             9          NaN      4          NaN  ...   \n",
      "23697            3.00            17          NaN     12          NaN  ...   \n",
      "\n",
      "       kitchen_area  balcony                        locality_name  \\\n",
      "3               NaN      0.0                      Санкт-Петербург   \n",
      "7              18.9      2.0                      Санкт-Петербург   \n",
      "30              NaN      NaN                             Коммунар   \n",
      "37              NaN      NaN  поселок городского типа Красный Бор   \n",
      "44              NaN      1.0                      Санкт-Петербург   \n",
      "...             ...      ...                                  ...   \n",
      "23642           NaN      NaN                              Колпино   \n",
      "23663           NaN      NaN                      Санкт-Петербург   \n",
      "23670           NaN      NaN     поселок городского типа Синявино   \n",
      "23679           NaN      NaN                         Сосновый Бор   \n",
      "23697          23.3      2.0                      Санкт-Петербург   \n",
      "\n",
      "       airports_nearest cityCenters_nearest  parks_around3000  parks_nearest  \\\n",
      "3               28098.0              6800.0               2.0           84.0   \n",
      "7               23982.0             11634.0               0.0            NaN   \n",
      "30                  NaN                 NaN               NaN            NaN   \n",
      "37                  NaN                 NaN               NaN            NaN   \n",
      "44              30471.0             11603.0               1.0          620.0   \n",
      "...                 ...                 ...               ...            ...   \n",
      "23642           27933.0             33719.0               0.0            NaN   \n",
      "23663           33642.0             13943.0               0.0            NaN   \n",
      "23670               NaN                 NaN               NaN            NaN   \n",
      "23679               NaN                 NaN               NaN            NaN   \n",
      "23697           39140.0             10364.0               2.0          173.0   \n",
      "\n",
      "       ponds_around3000  ponds_nearest  days_exposition  \n",
      "3                   3.0          234.0            424.0  \n",
      "7                   0.0            NaN             95.0  \n",
      "30                  NaN            NaN             63.0  \n",
      "37                  NaN            NaN            196.0  \n",
      "44                  1.0         1152.0             95.0  \n",
      "...                 ...            ...              ...  \n",
      "23642               2.0          562.0             60.0  \n",
      "23663               2.0          844.0             59.0  \n",
      "23670               NaN            NaN             45.0  \n",
      "23679               NaN            NaN             45.0  \n",
      "23697               3.0          196.0            602.0  \n",
      "\n",
      "[1903 rows x 22 columns]\n"
     ]
    }
   ],
   "source": [
    "#df['living_area'].value_counts()\n",
    "empty_living_area = df[df['living_area'].isna() == True] #создадим и рассмотрим фрейм с пропущенными значениями\n",
    "print (empty_living_area)"
   ]
  },
  {
   "cell_type": "markdown",
   "metadata": {},
   "source": [
    "Определим ***медианные значения*** жилой площади квартиры в соответствии с ***числом комнат***. И заполним пропущенные значения в соответствии с числом комнат."
   ]
  },
  {
   "cell_type": "code",
   "execution_count": 12,
   "metadata": {},
   "outputs": [
    {
     "name": "stdout",
     "output_type": "stream",
     "text": [
      "<class 'pandas.core.frame.DataFrame'>\n",
      "RangeIndex: 23699 entries, 0 to 23698\n",
      "Data columns (total 22 columns):\n",
      "total_images            23699 non-null int64\n",
      "last_price              23699 non-null float64\n",
      "total_area              23699 non-null float64\n",
      "first_day_exposition    23699 non-null object\n",
      "rooms                   23699 non-null int64\n",
      "ceiling_height          23699 non-null float64\n",
      "floors_total            23699 non-null int64\n",
      "living_area             23699 non-null float64\n",
      "floor                   23699 non-null int64\n",
      "is_apartment            2775 non-null object\n",
      "studio                  23699 non-null bool\n",
      "open_plan               23699 non-null bool\n",
      "kitchen_area            21421 non-null float64\n",
      "balcony                 12180 non-null float64\n",
      "locality_name           23650 non-null object\n",
      "airports_nearest        18157 non-null float64\n",
      "cityCenters_nearest     18180 non-null float64\n",
      "parks_around3000        18181 non-null float64\n",
      "parks_nearest           8079 non-null float64\n",
      "ponds_around3000        18181 non-null float64\n",
      "ponds_nearest           9110 non-null float64\n",
      "days_exposition         23699 non-null float64\n",
      "dtypes: bool(2), float64(13), int64(4), object(3)\n",
      "memory usage: 3.7+ MB\n"
     ]
    }
   ],
   "source": [
    "empty_living_area['rooms'].value_counts()\n",
    "#обнаружены квартиры с числом комнат 0\n",
    "#создаём переменные - медианные значения жилой площади в соответствии с общей площадью\n",
    "median_area_0_rooms = df[df['rooms'] == 0]['living_area'].median()\n",
    "median_area_1_rooms = df[df['rooms'] == 1]['living_area'].median()\n",
    "median_area_2_rooms = df[df['rooms'] == 2]['living_area'].median()\n",
    "median_area_3_rooms = df[df['rooms'] == 3]['living_area'].median()\n",
    "median_area_4_rooms = df[df['rooms'] == 4]['living_area'].median()\n",
    "median_area_5_rooms = df[df['rooms'] == 5]['living_area'].median()\n",
    "median_area_6_rooms = df[df['rooms'] == 6]['living_area'].median()\n",
    "median_area_7_rooms = df[df['rooms'] == 7]['living_area'].median()\n",
    "median_area_9_rooms = df[df['rooms'] == 9]['living_area'].median()\n",
    "\n",
    "\n",
    "df['area_empty'] = df['living_area'].isna() == True #создаём столбец с булевыми значениями на предмет пропусков в 'living_area'\n",
    "\n",
    "def empty_living_area_fill(row): #создаём функцию для замены пропущенных значений площади по медиане по количеству комнат\n",
    "    living_area = row['living_area']\n",
    "    if (row['area_empty'] == True) and (row['rooms'] == 0):\n",
    "        return median_area_0_rooms\n",
    "    elif (row['area_empty'] == True) and (row['rooms'] == 1):\n",
    "        return median_area_1_rooms\n",
    "    elif (row['area_empty'] == True) and (row['rooms'] == 2):\n",
    "        return median_area_2_rooms\n",
    "    elif (row['area_empty'] == True) and (row['rooms'] == 3):\n",
    "        return median_area_3_rooms\n",
    "    elif (row['area_empty'] == True) and (row['rooms'] == 4):\n",
    "        return median_area_4_rooms\n",
    "    elif (row['area_empty'] == True) and (row['rooms'] == 5):\n",
    "        return median_area_5_rooms\n",
    "    elif (row['area_empty'] == True) and (row['rooms'] == 6):\n",
    "        return median_area_6_rooms\n",
    "    elif (row['area_empty'] == True) and (row['rooms'] == 7):\n",
    "        return median_area_7_rooms\n",
    "    elif (row['area_empty'] == True) and (row['rooms'] == 9):\n",
    "        return median_area_9_rooms\n",
    "    else:\n",
    "        return living_area\n",
    "\n",
    "df['living_area'] = df.apply(empty_living_area_fill, axis = 1) #применяем метод apply \n",
    "df = df.drop('area_empty', axis = 1) #удаляем лишний столбец\n",
    "df.info()"
   ]
  },
  {
   "cell_type": "markdown",
   "metadata": {},
   "source": []
  },
  {
   "cell_type": "markdown",
   "metadata": {},
   "source": [
    "Проверим логику заполнения столбца living_area. В случае превышения living_area над total_area изменим значение столбца living_area в соответствии со средним процентом. В случае превышения living_area над total_area изменим значение в соответствии с долей жилой площади к общей, взятой по медиане столбцов."
   ]
  },
  {
   "cell_type": "code",
   "execution_count": 13,
   "metadata": {},
   "outputs": [
    {
     "name": "stdout",
     "output_type": "stream",
     "text": [
      "0.5826923076923077\n",
      "Empty DataFrame\n",
      "Columns: [total_images, last_price, total_area, first_day_exposition, rooms, ceiling_height, floors_total, living_area, floor, is_apartment, studio, open_plan, kitchen_area, balcony, locality_name, airports_nearest, cityCenters_nearest, parks_around3000, parks_nearest, ponds_around3000, ponds_nearest, days_exposition]\n",
      "Index: []\n",
      "\n",
      "[0 rows x 22 columns]\n"
     ]
    }
   ],
   "source": [
    "median_part_living_area = df['living_area'].median()/df['total_area'].median()\n",
    "print (median_part_living_area)\n",
    "\n",
    "def median_part_living_area_fill(row):   #функция для корректировки нарушений логики, если жилая выше общей = заменить жилую, умножив среднюю долю жилой на общую\n",
    "    total_area = row['total_area']\n",
    "    living_area = row['living_area']\n",
    "    true_living_area = total_area * median_part_living_area\n",
    "    if living_area > total_area:\n",
    "        return true_living_area\n",
    "    else:\n",
    "        return living_area\n",
    "\n",
    "df['living_area'] = df.apply(median_part_living_area_fill, axis = 1)\n",
    "\n",
    "print (df.query('living_area > total_area'))\n",
    "\n",
    "# ошибки в количестве 22 строк исправлены"
   ]
  },
  {
   "cell_type": "code",
   "execution_count": 14,
   "metadata": {},
   "outputs": [
    {
     "name": "stdout",
     "output_type": "stream",
     "text": [
      "<class 'pandas.core.frame.DataFrame'>\n",
      "RangeIndex: 23699 entries, 0 to 23698\n",
      "Data columns (total 22 columns):\n",
      "total_images            23699 non-null int64\n",
      "last_price              23699 non-null float64\n",
      "total_area              23699 non-null float64\n",
      "first_day_exposition    23699 non-null object\n",
      "rooms                   23699 non-null int64\n",
      "ceiling_height          23699 non-null float64\n",
      "floors_total            23699 non-null int64\n",
      "living_area             23699 non-null float64\n",
      "floor                   23699 non-null int64\n",
      "is_apartment            23699 non-null bool\n",
      "studio                  23699 non-null bool\n",
      "open_plan               23699 non-null bool\n",
      "kitchen_area            21421 non-null float64\n",
      "balcony                 12180 non-null float64\n",
      "locality_name           23650 non-null object\n",
      "airports_nearest        18157 non-null float64\n",
      "cityCenters_nearest     18180 non-null float64\n",
      "parks_around3000        18181 non-null float64\n",
      "parks_nearest           8079 non-null float64\n",
      "ponds_around3000        18181 non-null float64\n",
      "ponds_nearest           9110 non-null float64\n",
      "days_exposition         23699 non-null float64\n",
      "dtypes: bool(3), float64(13), int64(4), object(2)\n",
      "memory usage: 3.5+ MB\n",
      "None\n"
     ]
    }
   ],
   "source": [
    "\n",
    "df['is_apartment'].value_counts()\n",
    "df['is_apartment'] = df['is_apartment'].fillna(False) #пропущенные значения в столбце 'is_appartment' примем как отрицательное булево значение, исходя из принципа - не указано, значит \"нет\"\n",
    "print (df.info())"
   ]
  },
  {
   "cell_type": "markdown",
   "metadata": {},
   "source": [
    "***Заполним пропущенные значения в столбце 'balcony'*** на нулевое значение, исходя из принципа: не указано - не существует."
   ]
  },
  {
   "cell_type": "code",
   "execution_count": 15,
   "metadata": {},
   "outputs": [
    {
     "name": "stdout",
     "output_type": "stream",
     "text": [
      "<class 'pandas.core.frame.DataFrame'>\n",
      "RangeIndex: 23699 entries, 0 to 23698\n",
      "Data columns (total 22 columns):\n",
      "total_images            23699 non-null int64\n",
      "last_price              23699 non-null float64\n",
      "total_area              23699 non-null float64\n",
      "first_day_exposition    23699 non-null object\n",
      "rooms                   23699 non-null int64\n",
      "ceiling_height          23699 non-null float64\n",
      "floors_total            23699 non-null int64\n",
      "living_area             23699 non-null float64\n",
      "floor                   23699 non-null int64\n",
      "is_apartment            23699 non-null bool\n",
      "studio                  23699 non-null bool\n",
      "open_plan               23699 non-null bool\n",
      "kitchen_area            21421 non-null float64\n",
      "balcony                 23699 non-null float64\n",
      "locality_name           23650 non-null object\n",
      "airports_nearest        18157 non-null float64\n",
      "cityCenters_nearest     18180 non-null float64\n",
      "parks_around3000        18181 non-null float64\n",
      "parks_nearest           8079 non-null float64\n",
      "ponds_around3000        18181 non-null float64\n",
      "ponds_nearest           9110 non-null float64\n",
      "days_exposition         23699 non-null float64\n",
      "dtypes: bool(3), float64(13), int64(4), object(2)\n",
      "memory usage: 3.5+ MB\n"
     ]
    }
   ],
   "source": [
    "df['balcony'] = df['balcony'].fillna(0)\n",
    "df.info()"
   ]
  },
  {
   "cell_type": "markdown",
   "metadata": {},
   "source": [
    "***заполним площадь кухни 'kitchen_area' исходя из медианной доли площади приходящейся на кухню от общей площади.***"
   ]
  },
  {
   "cell_type": "code",
   "execution_count": 16,
   "metadata": {},
   "outputs": [
    {
     "name": "stdout",
     "output_type": "stream",
     "text": [
      "<class 'pandas.core.frame.DataFrame'>\n",
      "RangeIndex: 23699 entries, 0 to 23698\n",
      "Data columns (total 22 columns):\n",
      "total_images            23699 non-null int64\n",
      "last_price              23699 non-null float64\n",
      "total_area              23699 non-null float64\n",
      "first_day_exposition    23699 non-null object\n",
      "rooms                   23699 non-null int64\n",
      "ceiling_height          23699 non-null float64\n",
      "floors_total            23699 non-null int64\n",
      "living_area             23699 non-null float64\n",
      "floor                   23699 non-null int64\n",
      "is_apartment            23699 non-null bool\n",
      "studio                  23699 non-null bool\n",
      "open_plan               23699 non-null bool\n",
      "kitchen_area            23699 non-null float64\n",
      "balcony                 23699 non-null float64\n",
      "locality_name           23650 non-null object\n",
      "airports_nearest        18157 non-null float64\n",
      "cityCenters_nearest     18180 non-null float64\n",
      "parks_around3000        18181 non-null float64\n",
      "parks_nearest           8079 non-null float64\n",
      "ponds_around3000        18181 non-null float64\n",
      "ponds_nearest           9110 non-null float64\n",
      "days_exposition         23699 non-null float64\n",
      "dtypes: bool(3), float64(13), int64(4), object(2)\n",
      "memory usage: 3.5+ MB\n",
      "None\n"
     ]
    }
   ],
   "source": [
    "df['empty_kitchen'] = df['kitchen_area'].isnull()\n",
    "part_of_kitchen = df['kitchen_area'].median()/ df['total_area'].median()\n",
    "def empty_kitchen_fill(row):\n",
    "    total_area = row['total_area']\n",
    "    kitchen_area = row['kitchen_area']\n",
    "    empty_kitchen = row['empty_kitchen']\n",
    "    true_kitchen = total_area * part_of_kitchen\n",
    "    if empty_kitchen == True:\n",
    "        return true_kitchen\n",
    "    else:\n",
    "        return kitchen_area\n",
    "    \n",
    "df['kitchen_area'] = df.apply(empty_kitchen_fill, axis = 1)\n",
    "\n",
    "df = df.drop('empty_kitchen', axis = 1)\n",
    "print (df.info())"
   ]
  },
  {
   "cell_type": "markdown",
   "metadata": {},
   "source": [
    "Удалим дубликаты"
   ]
  },
  {
   "cell_type": "code",
   "execution_count": 17,
   "metadata": {},
   "outputs": [],
   "source": [
    "#df.info()\n",
    "df = df.drop_duplicates() \n",
    "#df.info()\n",
    "#дубликатов не обнаружено\n"
   ]
  },
  {
   "cell_type": "markdown",
   "metadata": {},
   "source": []
  },
  {
   "cell_type": "markdown",
   "metadata": {},
   "source": [
    "Пропущенные значения в сопоставимом количестве встречаются одновременно в столбцах: \n",
    "'airports_nearest'        \n",
    "'cityCenters_nearest'     \n",
    "'parks_around3000'        \n",
    "'ponds_around3000'        \n",
    "что может быть связано с ошибками программного/системного характера, или применением таких признаков только к крупному городу (в данном случае СПб) автоматического расчёта расстояния до объектов, сформированный баг фрейм - ниже."
   ]
  },
  {
   "cell_type": "code",
   "execution_count": 18,
   "metadata": {},
   "outputs": [],
   "source": [
    "bug_geo_df = df.query('ponds_nearest.isnull() == True & ponds_around3000.isnull() == True & parks_nearest.isnull() == True & parks_around3000.isnull() == True & cityCenters_nearest.isnull() == True')\n",
    "#фрейм с одновременным отсутствием значений,"
   ]
  },
  {
   "cell_type": "markdown",
   "metadata": {},
   "source": [
    "заполнить пропуски данных в этих столбцах невозможно, в рамках задач - без них можно обойтись."
   ]
  },
  {
   "cell_type": "markdown",
   "metadata": {},
   "source": [
    "***Изменение типа данных***\n",
    "Изменим типы данных в столбцах first_day_exposition на datetime, balcony,days_exsposition  на int64 (в данный момент там вещественные числа, число балконов в доме не может быть дробным, число дней также представлено в виде целых чисел (с нулевой дробной частью))"
   ]
  },
  {
   "cell_type": "code",
   "execution_count": 19,
   "metadata": {},
   "outputs": [
    {
     "name": "stdout",
     "output_type": "stream",
     "text": [
      "<class 'pandas.core.frame.DataFrame'>\n",
      "Int64Index: 23699 entries, 0 to 23698\n",
      "Data columns (total 22 columns):\n",
      "total_images            23699 non-null int64\n",
      "last_price              23699 non-null float64\n",
      "total_area              23699 non-null float64\n",
      "first_day_exposition    23699 non-null datetime64[ns]\n",
      "rooms                   23699 non-null int64\n",
      "ceiling_height          23699 non-null float64\n",
      "floors_total            23699 non-null int64\n",
      "living_area             23699 non-null float64\n",
      "floor                   23699 non-null int64\n",
      "is_apartment            23699 non-null bool\n",
      "studio                  23699 non-null bool\n",
      "open_plan               23699 non-null bool\n",
      "kitchen_area            23699 non-null float64\n",
      "balcony                 23699 non-null int64\n",
      "locality_name           23650 non-null object\n",
      "airports_nearest        18157 non-null float64\n",
      "cityCenters_nearest     18180 non-null float64\n",
      "parks_around3000        18181 non-null float64\n",
      "parks_nearest           8079 non-null float64\n",
      "ponds_around3000        18181 non-null float64\n",
      "ponds_nearest           9110 non-null float64\n",
      "days_exposition         23699 non-null int64\n",
      "dtypes: bool(3), datetime64[ns](1), float64(11), int64(6), object(1)\n",
      "memory usage: 3.7+ MB\n",
      "None\n"
     ]
    }
   ],
   "source": [
    "df['first_day_exposition'] = pd.to_datetime(df['first_day_exposition'], format='%Y-%m-%dT%H:%M:%S')\n",
    "df['balcony'] = df['balcony'].astype('int64')\n",
    "df['days_exposition'] = df['days_exposition'].astype('int64')\n",
    "print (df.info())"
   ]
  },
  {
   "cell_type": "markdown",
   "metadata": {},
   "source": [
    "**Вывод** \n",
    "Таблица предобработана, типы данных приведены в соответствие по существу и готовы для анализа."
   ]
  },
  {
   "cell_type": "markdown",
   "metadata": {},
   "source": [
    "## Расчёты и добавление результатов в таблицу"
   ]
  },
  {
   "cell_type": "markdown",
   "metadata": {},
   "source": [
    "Добавим в таблицу 5 столбцов:\n",
    "\n",
    "- цена квадратного метра;\n",
    "- день недели, месяц и год публикации объявления;\n",
    "- этаж квартиры (варианты группы: первый, последний, другой)\n",
    "- соотношение жилой и общей площади\n",
    "- отношение площади кухни к общей."
   ]
  },
  {
   "cell_type": "code",
   "execution_count": 20,
   "metadata": {},
   "outputs": [
    {
     "name": "stdout",
     "output_type": "stream",
     "text": [
      "3    4295\n",
      "1    4183\n",
      "4    4000\n",
      "2    3974\n",
      "0    3612\n",
      "5    1936\n",
      "6    1699\n",
      "Name: weekday_publication, dtype: int64\n",
      "2     2640\n",
      "3     2587\n",
      "4     2379\n",
      "11    2371\n",
      "10    2127\n",
      "9     1981\n",
      "6     1760\n",
      "8     1744\n",
      "7     1695\n",
      "12    1641\n",
      "1     1500\n",
      "5     1274\n",
      "Name: month_publication, dtype: int64\n",
      "2018    8519\n",
      "2017    8190\n",
      "2019    2879\n",
      "2016    2783\n",
      "2015    1191\n",
      "2014     137\n",
      "Name: year_publication, dtype: int64\n",
      "       price_square  weekday_publication  month_publication  year_publication  \\\n",
      "count  2.369900e+04         23699.000000       23699.000000      23699.000000   \n",
      "mean   9.942166e+04             2.569307           6.400101       2017.367146   \n",
      "std    5.030680e+04             1.789082           3.491561          1.039771   \n",
      "min    1.118349e+02             0.000000           1.000000       2014.000000   \n",
      "25%    7.658547e+04             1.000000           3.000000       2017.000000   \n",
      "50%    9.500000e+04             3.000000           6.000000       2017.000000   \n",
      "75%    1.142563e+05             4.000000          10.000000       2018.000000   \n",
      "max    1.907500e+06             6.000000          12.000000       2019.000000   \n",
      "\n",
      "       part_of_living_area  part_of_kitchen_area  \n",
      "count         23699.000000          23699.000000  \n",
      "mean              0.563108              0.186167  \n",
      "std               0.108651              0.069468  \n",
      "min               0.021583              0.025381  \n",
      "25%               0.490326              0.136859  \n",
      "50%               0.566596              0.175000  \n",
      "75%               0.637795              0.223717  \n",
      "max               1.000000              0.787879  \n"
     ]
    }
   ],
   "source": [
    "df['price_square'] = df['last_price'] / df['total_area'] #цену за метр определим отношением столбцов \n",
    "\n",
    "df['weekday_publication'] = pd.DatetimeIndex(df['first_day_exposition']).weekday #создаём столбец с днём недели\n",
    "df['month_publication'] = pd.DatetimeIndex(df['first_day_exposition']).month #создаём столбец с месяцем\n",
    "df['year_publication'] = pd.DatetimeIndex(df['first_day_exposition']).year #создаём столбец с годом\n",
    "\n",
    "def floor_type_fill (row): #создаём функцию для заполнения нового столбца с типом этажа (первый последний другой)\n",
    "    floor = row['floor']\n",
    "    floors_total = row['floors_total']\n",
    "    if floor == 1 or floor == 0:\n",
    "        return str('первый')\n",
    "    elif floor == floors_total:\n",
    "        return str('последний')\n",
    "    else:\n",
    "        return str('другой')\n",
    "df['floor_type'] = df.apply(floor_type_fill, axis = 1) #заполняем столбец методом apply\n",
    "\n",
    "df['part_of_living_area'] = df['living_area'] / df['total_area'] #создаём столбец с долей жилой площади\n",
    "\n",
    "df['part_of_kitchen_area'] = df['kitchen_area'] / df['total_area']  #создаём столбец с долей кухонной площади\n",
    "\n",
    "#создадим новый фрейм с 5ю новыми столбцами, опишем их с помощью describe\n",
    "new_table = pd.concat([df['price_square'], df['weekday_publication'], df['month_publication'], df['year_publication'], df['floor_type'], df['part_of_living_area'], df['part_of_kitchen_area']], axis=1)\n",
    "\n",
    "print (df['weekday_publication'].value_counts())\n",
    "print (df['month_publication'].value_counts())\n",
    "print (df['year_publication'].value_counts())\n",
    "print (new_table.describe())"
   ]
  },
  {
   "cell_type": "markdown",
   "metadata": {},
   "source": []
  },
  {
   "cell_type": "markdown",
   "metadata": {},
   "source": [
    "**Выводы** основные показатели по столбцам:\n",
    "- нормальные значения цены квадратного метра: от 76,5 тыс. руб/м2 до 114,2 тыс. руб. м2\n",
    "- больше всего публикаций происходит в рабочие дни (четверг), в выходные гораздо меньше (более чем в 2 раза). По месяцам с февраля по апрель, с октября по ноябрь. Больше всего объявлений было размещено в 2018 году.\n",
    "- нормальные значения доли жилой площади и кухни составляют от 49% до 63,8% (внутри boxplot())и от 13,7% од 22,4% соответственно.\n",
    "- Максимальные значения вместе с данными о межквартильном размахе в этих столбцах показывают наличие выбросов, которые необходимо обработать (привести в соответствие или удалить)"
   ]
  },
  {
   "cell_type": "markdown",
   "metadata": {},
   "source": [
    "## Исследовательский анализ данных"
   ]
  },
  {
   "cell_type": "markdown",
   "metadata": {},
   "source": [
    "Изучим следующие параметры: площадь, цена, число комнат, высота потолков посредством вызова метода describe() к соответствующим столбцам. Для этого создадим новый датафрейм с этими столбцами (в том числе для поиска взаимозависимости между ниими)"
   ]
  },
  {
   "cell_type": "code",
   "execution_count": 21,
   "metadata": {},
   "outputs": [
    {
     "name": "stdout",
     "output_type": "stream",
     "text": [
      "__________________describing_data__________________\n",
      "         total_area    last_price         rooms  ceiling_height\n",
      "count  23699.000000  2.369900e+04  23699.000000    23699.000000\n",
      "mean      60.348651  6.541549e+06      2.070636        2.724358\n",
      "std       35.654083  1.088701e+07      1.078405        0.988298\n",
      "min       12.000000  1.219000e+04      0.000000        1.000000\n",
      "25%       40.000000  3.400000e+06      1.000000        2.600000\n",
      "50%       52.000000  4.650000e+06      2.000000        2.650000\n",
      "75%       69.900000  6.800000e+06      3.000000        2.700000\n",
      "max      900.000000  7.630000e+08     19.000000      100.000000\n",
      "___________________correlation_____________________\n",
      "                total_area  last_price     rooms  ceiling_height\n",
      "total_area        1.000000    0.653675  0.758344        0.080613\n",
      "last_price        0.653675    1.000000  0.363343        0.064425\n",
      "rooms             0.758344    0.363343  1.000000        0.047991\n",
      "ceiling_height    0.080613    0.064425  0.047991        1.000000\n",
      "AxesSubplot(0.125,0.125;0.775x0.755)\n"
     ]
    },
    {
     "data": {
      "image/png": "[encoded data removed]",
      "text/plain": [
       "<Figure size 432x288 with 1 Axes>"
      ]
     },
     "metadata": {
      "needs_background": "light"
     },
     "output_type": "display_data"
    }
   ],
   "source": [
    "#объединяем столбцы с общей площадью, ценой помещения, количеством комнат, высотой потолков)\n",
    "research_tablet = pd.concat([df['total_area'], df['last_price'], df['rooms'], df['ceiling_height']], axis=1)\n",
    "print('__________________describing_data__________________')\n",
    "print (research_tablet.describe())    #описываем столбцы\n",
    "print('___________________correlation_____________________')\n",
    "print (research_tablet.corr()) #находим зависимости между этими столбцами\n",
    "\n",
    "print(research_tablet['total_area'].hist(bins = 100, range = (0,400))) #построим гистограмму столбца площади жилья"
   ]
  },
  {
   "cell_type": "code",
   "execution_count": 22,
   "metadata": {},
   "outputs": [
    {
     "name": "stdout",
     "output_type": "stream",
     "text": [
      "AxesSubplot(0.125,0.125;0.775x0.755)\n"
     ]
    },
    {
     "data": {
      "image/png": "[encoded data removed]",
      "text/plain": [
       "<Figure size 432x288 with 1 Axes>"
      ]
     },
     "metadata": {
      "needs_background": "light"
     },
     "output_type": "display_data"
    }
   ],
   "source": [
    "print (research_tablet['last_price'].hist(bins = 70, range = (0,60000000))) #строим гистограмму стоимости жилья"
   ]
  },
  {
   "cell_type": "code",
   "execution_count": 23,
   "metadata": {},
   "outputs": [
    {
     "name": "stdout",
     "output_type": "stream",
     "text": [
      "AxesSubplot(0.125,0.125;0.775x0.755)\n"
     ]
    },
    {
     "data": {
      "image/png": "[encoded data removed]",
      "text/plain": [
       "<Figure size 432x288 with 1 Axes>"
      ]
     },
     "metadata": {
      "needs_background": "light"
     },
     "output_type": "display_data"
    }
   ],
   "source": [
    "print (research_tablet['rooms'].hist(bins = 20, range = (0,10)))#строим гистограмму по количеству комнат"
   ]
  },
  {
   "cell_type": "code",
   "execution_count": 24,
   "metadata": {},
   "outputs": [
    {
     "name": "stdout",
     "output_type": "stream",
     "text": [
      "AxesSubplot(0.125,0.125;0.775x0.755)\n"
     ]
    },
    {
     "data": {
      "image/png": "[encoded data removed]",
      "text/plain": [
       "<Figure size 432x288 with 1 Axes>"
      ]
     },
     "metadata": {
      "needs_background": "light"
     },
     "output_type": "display_data"
    }
   ],
   "source": [
    "print (research_tablet['ceiling_height'].hist(bins = 17, range = (2.3,6))) #строим гистограмму высоты потолков"
   ]
  },
  {
   "cell_type": "markdown",
   "metadata": {},
   "source": [
    "Все параметры имеют распределение близкое к Пуассоновскому. На графиках видны выбросы, которые также подтверждаются вызовами метода describe(). В качестве необычных значений - ноль комнат, не всегда совпадающих с параметром studio - \"True\".\n"
   ]
  },
  {
   "cell_type": "markdown",
   "metadata": {},
   "source": [
    "***Изучим время продажи квартиры(в днях). Определим средние и медианные значения, а также выбросы в данных***"
   ]
  },
  {
   "cell_type": "code",
   "execution_count": 25,
   "metadata": {},
   "outputs": [
    {
     "data": {
      "text/plain": [
       "<matplotlib.axes._subplots.AxesSubplot at 0x7fab498cb710>"
      ]
     },
     "execution_count": 25,
     "metadata": {},
     "output_type": "execute_result"
    },
    {
     "data": {
      "image/png": "[encoded data removed]",
      "text/plain": [
       "<Figure size 432x288 with 1 Axes>"
      ]
     },
     "metadata": {
      "needs_background": "light"
     },
     "output_type": "display_data"
    }
   ],
   "source": [
    "\n",
    "df['days_exposition'].hist(bins = 100, range = (0, 1500))"
   ]
  },
  {
   "cell_type": "markdown",
   "metadata": {},
   "source": [
    " на гистограмме виден выброс в районе 95 дней. Рассмотрим столбец на предмет частоты встречающихся величин."
   ]
  },
  {
   "cell_type": "code",
   "execution_count": 26,
   "metadata": {},
   "outputs": [
    {
     "name": "stdout",
     "output_type": "stream",
     "text": [
      "95      3245\n",
      "45       880\n",
      "60       538\n",
      "7        234\n",
      "30       208\n",
      "        ... \n",
      "807        1\n",
      "871        1\n",
      "951        1\n",
      "999        1\n",
      "1223       1\n",
      "Name: days_exposition, Length: 1141, dtype: int64\n"
     ]
    }
   ],
   "source": [
    "print (df['days_exposition'].value_counts())"
   ]
  },
  {
   "cell_type": "markdown",
   "metadata": {},
   "source": [
    "Очевидно, что нормальное Пуассоновское распределение \"испорчено\" выбивающимся значением 95 дней, вместе с тем, относительно \"круглые\" цифры, будь то 7, 30, 60, 45 дней, говорят об искусственной \"отсечке\". Что касается 95 дней - возможно это связано с максимальным сроком размещения объявления; 7, 30, 60, 45 дней - возможно пользователи сервиса предустанавливали срок хранения объявления (или нечто подобное)."
   ]
  },
  {
   "cell_type": "code",
   "execution_count": 27,
   "metadata": {},
   "outputs": [
    {
     "name": "stdout",
     "output_type": "stream",
     "text": [
      "count    23699.000000\n",
      "mean       169.360226\n",
      "std        206.535633\n",
      "min          1.000000\n",
      "25%         45.000000\n",
      "50%         95.000000\n",
      "75%        199.000000\n",
      "max       1580.000000\n",
      "Name: days_exposition, dtype: float64\n"
     ]
    },
    {
     "data": {
      "text/html": [
       "<div>\n",
       "<style scoped>\n",
       "    .dataframe tbody tr th:only-of-type {\n",
       "        vertical-align: middle;\n",
       "    }\n",
       "\n",
       "    .dataframe tbody tr th {\n",
       "        vertical-align: top;\n",
       "    }\n",
       "\n",
       "    .dataframe thead th {\n",
       "        text-align: right;\n",
       "    }\n",
       "</style>\n",
       "<table border=\"1\" class=\"dataframe\">\n",
       "  <thead>\n",
       "    <tr style=\"text-align: right;\">\n",
       "      <th></th>\n",
       "      <th>total_images</th>\n",
       "      <th>last_price</th>\n",
       "      <th>total_area</th>\n",
       "      <th>first_day_exposition</th>\n",
       "      <th>rooms</th>\n",
       "      <th>ceiling_height</th>\n",
       "      <th>floors_total</th>\n",
       "      <th>living_area</th>\n",
       "      <th>floor</th>\n",
       "      <th>is_apartment</th>\n",
       "      <th>...</th>\n",
       "      <th>ponds_around3000</th>\n",
       "      <th>ponds_nearest</th>\n",
       "      <th>days_exposition</th>\n",
       "      <th>price_square</th>\n",
       "      <th>weekday_publication</th>\n",
       "      <th>month_publication</th>\n",
       "      <th>year_publication</th>\n",
       "      <th>floor_type</th>\n",
       "      <th>part_of_living_area</th>\n",
       "      <th>part_of_kitchen_area</th>\n",
       "    </tr>\n",
       "  </thead>\n",
       "  <tbody>\n",
       "    <tr>\n",
       "      <td>0</td>\n",
       "      <td>20</td>\n",
       "      <td>13000000.0</td>\n",
       "      <td>108.00</td>\n",
       "      <td>2019-03-07</td>\n",
       "      <td>3</td>\n",
       "      <td>2.70</td>\n",
       "      <td>16</td>\n",
       "      <td>51.0</td>\n",
       "      <td>8</td>\n",
       "      <td>False</td>\n",
       "      <td>...</td>\n",
       "      <td>2.0</td>\n",
       "      <td>755.0</td>\n",
       "      <td>95</td>\n",
       "      <td>120370.370370</td>\n",
       "      <td>3</td>\n",
       "      <td>3</td>\n",
       "      <td>2019</td>\n",
       "      <td>другой</td>\n",
       "      <td>0.472222</td>\n",
       "      <td>0.231481</td>\n",
       "    </tr>\n",
       "    <tr>\n",
       "      <td>7</td>\n",
       "      <td>5</td>\n",
       "      <td>7915000.0</td>\n",
       "      <td>71.60</td>\n",
       "      <td>2019-04-18</td>\n",
       "      <td>2</td>\n",
       "      <td>2.65</td>\n",
       "      <td>24</td>\n",
       "      <td>30.5</td>\n",
       "      <td>22</td>\n",
       "      <td>False</td>\n",
       "      <td>...</td>\n",
       "      <td>0.0</td>\n",
       "      <td>NaN</td>\n",
       "      <td>95</td>\n",
       "      <td>110544.692737</td>\n",
       "      <td>3</td>\n",
       "      <td>4</td>\n",
       "      <td>2019</td>\n",
       "      <td>другой</td>\n",
       "      <td>0.425978</td>\n",
       "      <td>0.263966</td>\n",
       "    </tr>\n",
       "    <tr>\n",
       "      <td>44</td>\n",
       "      <td>13</td>\n",
       "      <td>5350000.0</td>\n",
       "      <td>40.00</td>\n",
       "      <td>2018-11-18</td>\n",
       "      <td>1</td>\n",
       "      <td>2.65</td>\n",
       "      <td>22</td>\n",
       "      <td>17.6</td>\n",
       "      <td>3</td>\n",
       "      <td>False</td>\n",
       "      <td>...</td>\n",
       "      <td>1.0</td>\n",
       "      <td>1152.0</td>\n",
       "      <td>95</td>\n",
       "      <td>133750.000000</td>\n",
       "      <td>6</td>\n",
       "      <td>11</td>\n",
       "      <td>2018</td>\n",
       "      <td>другой</td>\n",
       "      <td>0.440000</td>\n",
       "      <td>0.175000</td>\n",
       "    </tr>\n",
       "    <tr>\n",
       "      <td>45</td>\n",
       "      <td>17</td>\n",
       "      <td>5200000.0</td>\n",
       "      <td>50.60</td>\n",
       "      <td>2018-12-02</td>\n",
       "      <td>2</td>\n",
       "      <td>2.65</td>\n",
       "      <td>9</td>\n",
       "      <td>30.3</td>\n",
       "      <td>7</td>\n",
       "      <td>False</td>\n",
       "      <td>...</td>\n",
       "      <td>0.0</td>\n",
       "      <td>NaN</td>\n",
       "      <td>95</td>\n",
       "      <td>102766.798419</td>\n",
       "      <td>6</td>\n",
       "      <td>12</td>\n",
       "      <td>2018</td>\n",
       "      <td>другой</td>\n",
       "      <td>0.598814</td>\n",
       "      <td>0.138340</td>\n",
       "    </tr>\n",
       "    <tr>\n",
       "      <td>46</td>\n",
       "      <td>17</td>\n",
       "      <td>6600000.0</td>\n",
       "      <td>52.10</td>\n",
       "      <td>2019-01-31</td>\n",
       "      <td>2</td>\n",
       "      <td>2.60</td>\n",
       "      <td>24</td>\n",
       "      <td>29.7</td>\n",
       "      <td>9</td>\n",
       "      <td>False</td>\n",
       "      <td>...</td>\n",
       "      <td>0.0</td>\n",
       "      <td>NaN</td>\n",
       "      <td>95</td>\n",
       "      <td>126679.462572</td>\n",
       "      <td>3</td>\n",
       "      <td>1</td>\n",
       "      <td>2019</td>\n",
       "      <td>другой</td>\n",
       "      <td>0.570058</td>\n",
       "      <td>0.159309</td>\n",
       "    </tr>\n",
       "    <tr>\n",
       "      <td>...</td>\n",
       "      <td>...</td>\n",
       "      <td>...</td>\n",
       "      <td>...</td>\n",
       "      <td>...</td>\n",
       "      <td>...</td>\n",
       "      <td>...</td>\n",
       "      <td>...</td>\n",
       "      <td>...</td>\n",
       "      <td>...</td>\n",
       "      <td>...</td>\n",
       "      <td>...</td>\n",
       "      <td>...</td>\n",
       "      <td>...</td>\n",
       "      <td>...</td>\n",
       "      <td>...</td>\n",
       "      <td>...</td>\n",
       "      <td>...</td>\n",
       "      <td>...</td>\n",
       "      <td>...</td>\n",
       "      <td>...</td>\n",
       "      <td>...</td>\n",
       "    </tr>\n",
       "    <tr>\n",
       "      <td>23684</td>\n",
       "      <td>20</td>\n",
       "      <td>21400000.0</td>\n",
       "      <td>145.00</td>\n",
       "      <td>2018-11-02</td>\n",
       "      <td>4</td>\n",
       "      <td>3.00</td>\n",
       "      <td>26</td>\n",
       "      <td>71.4</td>\n",
       "      <td>17</td>\n",
       "      <td>False</td>\n",
       "      <td>...</td>\n",
       "      <td>0.0</td>\n",
       "      <td>NaN</td>\n",
       "      <td>95</td>\n",
       "      <td>147586.206897</td>\n",
       "      <td>4</td>\n",
       "      <td>11</td>\n",
       "      <td>2018</td>\n",
       "      <td>другой</td>\n",
       "      <td>0.492414</td>\n",
       "      <td>0.107586</td>\n",
       "    </tr>\n",
       "    <tr>\n",
       "      <td>23685</td>\n",
       "      <td>15</td>\n",
       "      <td>2490000.0</td>\n",
       "      <td>31.00</td>\n",
       "      <td>2019-01-24</td>\n",
       "      <td>1</td>\n",
       "      <td>2.50</td>\n",
       "      <td>5</td>\n",
       "      <td>17.3</td>\n",
       "      <td>5</td>\n",
       "      <td>False</td>\n",
       "      <td>...</td>\n",
       "      <td>0.0</td>\n",
       "      <td>NaN</td>\n",
       "      <td>95</td>\n",
       "      <td>80322.580645</td>\n",
       "      <td>3</td>\n",
       "      <td>1</td>\n",
       "      <td>2019</td>\n",
       "      <td>последний</td>\n",
       "      <td>0.558065</td>\n",
       "      <td>0.180645</td>\n",
       "    </tr>\n",
       "    <tr>\n",
       "      <td>23694</td>\n",
       "      <td>9</td>\n",
       "      <td>9700000.0</td>\n",
       "      <td>133.81</td>\n",
       "      <td>2017-03-21</td>\n",
       "      <td>3</td>\n",
       "      <td>3.70</td>\n",
       "      <td>5</td>\n",
       "      <td>73.3</td>\n",
       "      <td>3</td>\n",
       "      <td>False</td>\n",
       "      <td>...</td>\n",
       "      <td>3.0</td>\n",
       "      <td>381.0</td>\n",
       "      <td>95</td>\n",
       "      <td>72490.845228</td>\n",
       "      <td>1</td>\n",
       "      <td>3</td>\n",
       "      <td>2017</td>\n",
       "      <td>другой</td>\n",
       "      <td>0.547792</td>\n",
       "      <td>0.103356</td>\n",
       "    </tr>\n",
       "    <tr>\n",
       "      <td>23696</td>\n",
       "      <td>18</td>\n",
       "      <td>2500000.0</td>\n",
       "      <td>56.70</td>\n",
       "      <td>2018-02-11</td>\n",
       "      <td>2</td>\n",
       "      <td>2.65</td>\n",
       "      <td>3</td>\n",
       "      <td>29.7</td>\n",
       "      <td>1</td>\n",
       "      <td>False</td>\n",
       "      <td>...</td>\n",
       "      <td>NaN</td>\n",
       "      <td>NaN</td>\n",
       "      <td>95</td>\n",
       "      <td>44091.710758</td>\n",
       "      <td>6</td>\n",
       "      <td>2</td>\n",
       "      <td>2018</td>\n",
       "      <td>первый</td>\n",
       "      <td>0.523810</td>\n",
       "      <td>0.175000</td>\n",
       "    </tr>\n",
       "    <tr>\n",
       "      <td>23698</td>\n",
       "      <td>4</td>\n",
       "      <td>1350000.0</td>\n",
       "      <td>32.30</td>\n",
       "      <td>2017-07-21</td>\n",
       "      <td>1</td>\n",
       "      <td>2.50</td>\n",
       "      <td>5</td>\n",
       "      <td>12.3</td>\n",
       "      <td>1</td>\n",
       "      <td>False</td>\n",
       "      <td>...</td>\n",
       "      <td>NaN</td>\n",
       "      <td>NaN</td>\n",
       "      <td>95</td>\n",
       "      <td>41795.665635</td>\n",
       "      <td>4</td>\n",
       "      <td>7</td>\n",
       "      <td>2017</td>\n",
       "      <td>первый</td>\n",
       "      <td>0.380805</td>\n",
       "      <td>0.278638</td>\n",
       "    </tr>\n",
       "  </tbody>\n",
       "</table>\n",
       "<p>3245 rows × 29 columns</p>\n",
       "</div>"
      ],
      "text/plain": [
       "       total_images  last_price  total_area first_day_exposition  rooms  \\\n",
       "0                20  13000000.0      108.00           2019-03-07      3   \n",
       "7                 5   7915000.0       71.60           2019-04-18      2   \n",
       "44               13   5350000.0       40.00           2018-11-18      1   \n",
       "45               17   5200000.0       50.60           2018-12-02      2   \n",
       "46               17   6600000.0       52.10           2019-01-31      2   \n",
       "...             ...         ...         ...                  ...    ...   \n",
       "23684            20  21400000.0      145.00           2018-11-02      4   \n",
       "23685            15   2490000.0       31.00           2019-01-24      1   \n",
       "23694             9   9700000.0      133.81           2017-03-21      3   \n",
       "23696            18   2500000.0       56.70           2018-02-11      2   \n",
       "23698             4   1350000.0       32.30           2017-07-21      1   \n",
       "\n",
       "       ceiling_height  floors_total  living_area  floor  is_apartment  ...  \\\n",
       "0                2.70            16         51.0      8         False  ...   \n",
       "7                2.65            24         30.5     22         False  ...   \n",
       "44               2.65            22         17.6      3         False  ...   \n",
       "45               2.65             9         30.3      7         False  ...   \n",
       "46               2.60            24         29.7      9         False  ...   \n",
       "...               ...           ...          ...    ...           ...  ...   \n",
       "23684            3.00            26         71.4     17         False  ...   \n",
       "23685            2.50             5         17.3      5         False  ...   \n",
       "23694            3.70             5         73.3      3         False  ...   \n",
       "23696            2.65             3         29.7      1         False  ...   \n",
       "23698            2.50             5         12.3      1         False  ...   \n",
       "\n",
       "       ponds_around3000  ponds_nearest  days_exposition   price_square  \\\n",
       "0                   2.0          755.0               95  120370.370370   \n",
       "7                   0.0            NaN               95  110544.692737   \n",
       "44                  1.0         1152.0               95  133750.000000   \n",
       "45                  0.0            NaN               95  102766.798419   \n",
       "46                  0.0            NaN               95  126679.462572   \n",
       "...                 ...            ...              ...            ...   \n",
       "23684               0.0            NaN               95  147586.206897   \n",
       "23685               0.0            NaN               95   80322.580645   \n",
       "23694               3.0          381.0               95   72490.845228   \n",
       "23696               NaN            NaN               95   44091.710758   \n",
       "23698               NaN            NaN               95   41795.665635   \n",
       "\n",
       "      weekday_publication  month_publication  year_publication  floor_type  \\\n",
       "0                       3                  3              2019      другой   \n",
       "7                       3                  4              2019      другой   \n",
       "44                      6                 11              2018      другой   \n",
       "45                      6                 12              2018      другой   \n",
       "46                      3                  1              2019      другой   \n",
       "...                   ...                ...               ...         ...   \n",
       "23684                   4                 11              2018      другой   \n",
       "23685                   3                  1              2019   последний   \n",
       "23694                   1                  3              2017      другой   \n",
       "23696                   6                  2              2018      первый   \n",
       "23698                   4                  7              2017      первый   \n",
       "\n",
       "       part_of_living_area  part_of_kitchen_area  \n",
       "0                 0.472222              0.231481  \n",
       "7                 0.425978              0.263966  \n",
       "44                0.440000              0.175000  \n",
       "45                0.598814              0.138340  \n",
       "46                0.570058              0.159309  \n",
       "...                    ...                   ...  \n",
       "23684             0.492414              0.107586  \n",
       "23685             0.558065              0.180645  \n",
       "23694             0.547792              0.103356  \n",
       "23696             0.523810              0.175000  \n",
       "23698             0.380805              0.278638  \n",
       "\n",
       "[3245 rows x 29 columns]"
      ]
     },
     "execution_count": 27,
     "metadata": {},
     "output_type": "execute_result"
    },
    {
     "data": {
      "image/png": "[encoded data removed]",
      "text/plain": [
       "<Figure size 432x288 with 1 Axes>"
      ]
     },
     "metadata": {
      "needs_background": "light"
     },
     "output_type": "display_data"
    }
   ],
   "source": [
    "print (df['days_exposition'].describe())\n",
    "df.boxplot('days_exposition') #оценим выбросы рассматриваемого столбца\n",
    "df.query('days_exposition == 95') #оценим аномалию, связанную с количеством дней размещения, равному 95 дней"
   ]
  },
  {
   "cell_type": "markdown",
   "metadata": {},
   "source": [
    "**Фильтры необычных и выдающихся значений** основная задача очистить таблицу от таких значений, сохранив репрезентативную часть таблицы."
   ]
  },
  {
   "cell_type": "markdown",
   "metadata": {},
   "source": [
    "С учётом полученных данных и межквартильного размаха, можно отметить, что нормальные значения времени размещения расположены в диапазоне от 45 дней до 199 дней, ниже 45 (граница Q1) расположены крайне быстрые, выше 430 дней (1,5 межквартильного размаха) дней - необычайно долгие продажи. Распределение Пуассоновское, основные выбросы расположены в сторону высоких значений."
   ]
  },
  {
   "cell_type": "markdown",
   "metadata": {},
   "source": [
    "Отфильтруем все выдающиеся значения, выходящие за 1.5 межквартильного размаха. Фильтрацию будем проводить по столбцам без пропусков с количественными характеристиками квартиры, имеющим завышенные максимальные значения. Посчитали границу выброса (1,5 интерквартильного размаха от границы третьего квартиля (75% процентиль) для каждого столбца."
   ]
  },
  {
   "cell_type": "code",
   "execution_count": 28,
   "metadata": {},
   "outputs": [
    {
     "name": "stdout",
     "output_type": "stream",
     "text": [
      "Количество строк до фильтрации 23699\n",
      "Количество строк после фильтрации выбросов по цене квартир 21638 разница составила: 2061\n"
     ]
    },
    {
     "data": {
      "text/plain": [
       "<matplotlib.axes._subplots.AxesSubplot at 0x7fab4969f510>"
      ]
     },
     "execution_count": 28,
     "metadata": {},
     "output_type": "execute_result"
    },
    {
     "data": {
      "image/png": "[encoded data removed]",
      "text/plain": [
       "<Figure size 432x288 with 1 Axes>"
      ]
     },
     "metadata": {
      "needs_background": "light"
     },
     "output_type": "display_data"
    }
   ],
   "source": [
    "#фильтрация выбросов колонки с ценой квартиры, столбец last_price\n",
    "print ('Количество строк до фильтрации', len(df))\n",
    "#определим границу выбросов, 1.5 межквартильного размаха от 3го квартиля\n",
    "outlie_last_price = (df['last_price'].describe().loc['75%'] - df['last_price'].describe().loc['25%']) * 1.5 + df['last_price'].describe().loc['75%']\n",
    "\n",
    "filtered_df = df.query ('last_price < @outlie_last_price')\n",
    "print('Количество строк после фильтрации выбросов по цене квартир', len(filtered_df), 'разница составила:', len(df) - len(filtered_df))\n",
    "filtered_df['last_price'].hist(bins = 70)"
   ]
  },
  {
   "cell_type": "code",
   "execution_count": 29,
   "metadata": {},
   "outputs": [
    {
     "name": "stdout",
     "output_type": "stream",
     "text": [
      "Количество строк до фильтрации на предмет выбросов по столбцу с общей площадью 21638\n",
      "Количество строк после фильтрации 21186\n"
     ]
    },
    {
     "data": {
      "text/plain": [
       "<matplotlib.axes._subplots.AxesSubplot at 0x7fab4a6bfb90>"
      ]
     },
     "execution_count": 29,
     "metadata": {},
     "output_type": "execute_result"
    },
    {
     "data": {
      "image/png": "[encoded data removed]",
      "text/plain": [
       "<Figure size 432x288 with 1 Axes>"
      ]
     },
     "metadata": {
      "needs_background": "light"
     },
     "output_type": "display_data"
    }
   ],
   "source": [
    "#фильтрация выбросов колонки с общей площадью, столбец 'total_area'\n",
    "outlie_total_area = (filtered_df['total_area'].describe().loc['75%'] - filtered_df['total_area'].describe().loc['25%']) * 1.5 + filtered_df['total_area'].describe().loc['75%']\n",
    "print ('Количество строк до фильтрации на предмет выбросов по столбцу с общей площадью', len(filtered_df) )\n",
    "filtered_df = filtered_df.query ('total_area < @outlie_total_area')\n",
    "print ('Количество строк после фильтрации', len(filtered_df) )\n",
    "#print (filtered_df.info())\n",
    "filtered_df['total_area'].hist(bins = 70)"
   ]
  },
  {
   "cell_type": "code",
   "execution_count": 30,
   "metadata": {},
   "outputs": [
    {
     "name": "stdout",
     "output_type": "stream",
     "text": [
      "Количество строк до фильтрации на предмет выбросов по столбцу с количеством комнат 21186\n",
      "Количество строк после фильтрации 21184\n"
     ]
    },
    {
     "data": {
      "text/plain": [
       "<matplotlib.axes._subplots.AxesSubplot at 0x7fab496c9090>"
      ]
     },
     "execution_count": 30,
     "metadata": {},
     "output_type": "execute_result"
    },
    {
     "data": {
      "image/png": "[encoded data removed]",
      "text/plain": [
       "<Figure size 432x288 with 1 Axes>"
      ]
     },
     "metadata": {
      "needs_background": "light"
     },
     "output_type": "display_data"
    }
   ],
   "source": [
    "#фильтрация выбросов колонки с количеством комнат, столбец 'rooms'\n",
    "outlie_rooms = (filtered_df['rooms'].describe().loc['75%'] - filtered_df['rooms'].describe().loc['25%']) * 1.5 + filtered_df['rooms'].describe().loc['75%']\n",
    "print ('Количество строк до фильтрации на предмет выбросов по столбцу с количеством комнат', len(filtered_df))\n",
    "filtered_df = filtered_df.query ('rooms < @outlie_rooms')\n",
    "print ('Количество строк после фильтрации',  len(filtered_df))\n",
    "#print (filtered_df.info())\n",
    "filtered_df['rooms'].hist(bins = 10)"
   ]
  },
  {
   "cell_type": "code",
   "execution_count": 31,
   "metadata": {},
   "outputs": [
    {
     "name": "stdout",
     "output_type": "stream",
     "text": [
      "Количество строк до фильтрации на предмет выбросов по этажности 21184\n",
      "Количество строк после фильтрации 21155\n"
     ]
    },
    {
     "data": {
      "text/plain": [
       "<matplotlib.axes._subplots.AxesSubplot at 0x7fab493f0cd0>"
      ]
     },
     "execution_count": 31,
     "metadata": {},
     "output_type": "execute_result"
    },
    {
     "data": {
      "image/png": "[encoded data removed]",
      "text/plain": [
       "<Figure size 432x288 with 1 Axes>"
      ]
     },
     "metadata": {
      "needs_background": "light"
     },
     "output_type": "display_data"
    }
   ],
   "source": [
    "#фильтрация выбросов колонки с высотой этажностью дома, столбец 'floors_total'\n",
    "#print (filtered_df['floors_total'].describe())\n",
    "outlie_floors_total = (filtered_df['floors_total'].describe().loc['75%'] - filtered_df['floors_total'].describe().loc['25%']) * 1.5 + filtered_df['floors_total'].describe().loc['75%']\n",
    "print ('Количество строк до фильтрации на предмет выбросов по этажности', len(filtered_df))\n",
    "filtered_df = filtered_df.query ('floors_total < @outlie_floors_total')\n",
    "#filtered_df.info()\n",
    "filtered_df['floors_total'].min()\n",
    "print ('Количество строк после фильтрации', len(filtered_df))\n",
    "#print (outlie_ceiling_height)\n",
    "filtered_df['floors_total'].hist(bins = 70)"
   ]
  },
  {
   "cell_type": "markdown",
   "metadata": {},
   "source": [
    "Как видно на графике, есть 2 основные превалирующие категории этажности застройки - это 5 и 9 этажные дома (что объясняется объективными причиными). Синусоидообразность может быть объяснена возрастающими требованиями застройщику (2 лифта на подъезд в случае превышения 9 этажей и пр.), что объясняет снижение числа домов после \"границ\" таких требований."
   ]
  },
  {
   "cell_type": "code",
   "execution_count": 32,
   "metadata": {},
   "outputs": [
    {
     "name": "stdout",
     "output_type": "stream",
     "text": [
      "Количество строк до фильтрации на предмет выбросов по количеству балконов 21155\n",
      "2\n",
      "Количество строк после фильтрации 20730\n"
     ]
    },
    {
     "data": {
      "text/plain": [
       "<matplotlib.axes._subplots.AxesSubplot at 0x7fab4a2c6bd0>"
      ]
     },
     "execution_count": 32,
     "metadata": {},
     "output_type": "execute_result"
    },
    {
     "data": {
      "image/png": "[encoded data removed]",
      "text/plain": [
       "<Figure size 432x288 with 1 Axes>"
      ]
     },
     "metadata": {
      "needs_background": "light"
     },
     "output_type": "display_data"
    }
   ],
   "source": [
    "#фильтрация выбросов колонки с числом балконов, столбец 'balcony'\n",
    "\n",
    "outlie_balcony = (filtered_df['balcony'].describe().loc['75%'] - filtered_df['balcony'].describe().loc['25%']) * 1.5 + filtered_df['balcony'].describe().loc['75%']\n",
    "print ('Количество строк до фильтрации на предмет выбросов по количеству балконов',len(filtered_df))\n",
    "filtered_df = filtered_df.query ('balcony < @outlie_balcony')\n",
    "#filtered_df.info()\n",
    "print (filtered_df['balcony'].max())\n",
    "print ('Количество строк после фильтрации', len(filtered_df))\n",
    "len(filtered_df)\n",
    "filtered_df['balcony'].hist(bins =5)"
   ]
  },
  {
   "cell_type": "code",
   "execution_count": 33,
   "metadata": {},
   "outputs": [
    {
     "name": "stdout",
     "output_type": "stream",
     "text": [
      "Количество строк до фильтрации на предмет длительности размещения 20730\n",
      "Количество строк после фильтрации 18633\n"
     ]
    },
    {
     "data": {
      "text/plain": [
       "<matplotlib.axes._subplots.AxesSubplot at 0x7fab4a146f90>"
      ]
     },
     "execution_count": 33,
     "metadata": {},
     "output_type": "execute_result"
    },
    {
     "data": {
      "image/png": "[encoded data removed]",
      "text/plain": [
       "<Figure size 432x288 with 1 Axes>"
      ]
     },
     "metadata": {
      "needs_background": "light"
     },
     "output_type": "display_data"
    }
   ],
   "source": [
    "#фильтрация выбросов колонки с числом балконов, столбец 'days_exposition'\n",
    "\n",
    "outlie_days_exposition = (filtered_df['days_exposition'].describe().loc['75%'] - filtered_df['days_exposition'].describe().loc['25%']) * 1.5 + filtered_df['days_exposition'].describe().loc['75%']\n",
    "\n",
    "print ('Количество строк до фильтрации на предмет длительности размещения', len(filtered_df))\n",
    "filtered_df = filtered_df.query ('days_exposition < @outlie_days_exposition')\n",
    "#filtered_df.info()\n",
    "\n",
    "print ('Количество строк после фильтрации', len(filtered_df))\n",
    "filtered_df['days_exposition'].hist(bins = 70)"
   ]
  },
  {
   "cell_type": "code",
   "execution_count": 34,
   "metadata": {},
   "outputs": [
    {
     "name": "stdout",
     "output_type": "stream",
     "text": [
      "Количество строк до фильтрации на предмет высоты потолков 18633\n",
      "Количество строк после фильтрации 18593\n"
     ]
    },
    {
     "data": {
      "text/plain": [
       "<matplotlib.axes._subplots.AxesSubplot at 0x7fab4ce1a8d0>"
      ]
     },
     "execution_count": 34,
     "metadata": {},
     "output_type": "execute_result"
    },
    {
     "data": {
      "image/png": "[encoded data removed]",
      "text/plain": [
       "<Figure size 432x288 with 1 Axes>"
      ]
     },
     "metadata": {
      "needs_background": "light"
     },
     "output_type": "display_data"
    }
   ],
   "source": [
    "#фильтрация выбросов колонки с высотой потолков, столбец 'ceil_height'. \n",
    "#Полтора размаха недостаточно для отсечения выбросов, ввиду особенностей выборки. Определим более или менее разумные величины.\n",
    "\n",
    "print ('Количество строк до фильтрации на предмет высоты потолков', len(filtered_df))\n",
    "filtered_df = filtered_df.query ('2 < ceiling_height < 4.5')\n",
    "#filtered_df.info()\n",
    "\n",
    "print ('Количество строк после фильтрации', len(filtered_df))\n",
    "filtered_df['ceiling_height'].hist(bins = 70)"
   ]
  },
  {
   "cell_type": "markdown",
   "metadata": {},
   "source": [
    "**Выводы по фильтрации** сокращение фрейма составило 5106 строк, содержащих выбросы. 18633 строк - достаточная выборка для продолжения исследования."
   ]
  },
  {
   "cell_type": "markdown",
   "metadata": {},
   "source": [
    "**Исследуем зависимости**\n",
    "\n",
    "- Какие факторы больше всего влияют на стоимость квартиры? \n",
    "- Изучите, зависит ли цена от квадратного метра, \n",
    "- числа комнат, \n",
    "- этажа (первого или последнего), \n",
    "- удалённости от центра. \n",
    "- Также изучите зависимость от даты размещения: дня недели, месяца и года. \n",
    "- \"Выберите 10 населённых пунктов с наибольшим числом объявлений. \n",
    "- Посчитайте среднюю цену квадратного метра в этих населённых пунктах. \n",
    "- Выделите населённые пункты с самой высокой и низкой стоимостью жилья. Эти данные можно найти по имени в столбце 'locality_name'."
   ]
  },
  {
   "cell_type": "code",
   "execution_count": 35,
   "metadata": {},
   "outputs": [
    {
     "data": {
      "text/plain": [
       "last_price              1.000000\n",
       "total_area              0.674954\n",
       "price_square            0.650708\n",
       "living_area             0.517256\n",
       "kitchen_area            0.482650\n",
       "rooms                   0.409503\n",
       "ceiling_height          0.330679\n",
       "floors_total            0.212002\n",
       "total_images            0.174133\n",
       "floor                   0.145767\n",
       "ponds_around3000        0.128088\n",
       "parks_around3000        0.103525\n",
       "year_publication        0.040346\n",
       "parks_nearest           0.034599\n",
       "days_exposition         0.025638\n",
       "is_apartment            0.024668\n",
       "balcony                 0.022218\n",
       "month_publication       0.001053\n",
       "weekday_publication    -0.008046\n",
       "airports_nearest       -0.026767\n",
       "part_of_living_area    -0.028186\n",
       "ponds_nearest          -0.040652\n",
       "open_plan              -0.048619\n",
       "studio                 -0.071904\n",
       "part_of_kitchen_area   -0.082802\n",
       "cityCenters_nearest    -0.336329\n",
       "Name: last_price, dtype: float64"
      ]
     },
     "metadata": {},
     "output_type": "display_data"
    }
   ],
   "source": [
    "corellation_df = filtered_df.corr() #определяем зависимости стоимости квартир от других признаков и столбцов\n",
    "display (corellation_df['last_price'].sort_values(ascending = False))"
   ]
  },
  {
   "cell_type": "markdown",
   "metadata": {},
   "source": [
    "**Цены на квартиры зависят от (в порядке убывания):**\n",
    "- общая площадь\n",
    "- цена квадрата\n",
    "- жилая площадь (опосредовано - общая площадь)\n",
    "- площадь кухни (опосредовано - общая площадь)\n",
    "- количество комнат (слабая зависимость)\n",
    "- высота потолков (слабая зависимость)\n",
    "- отдалённость от центра (слабая обратная зависимость)\n",
    "- этажность (слабая зависимость)\n",
    "\n",
    "Остальные признаки - имеют меньшую связь со столбцом 'last_price'"
   ]
  },
  {
   "cell_type": "code",
   "execution_count": 36,
   "metadata": {},
   "outputs": [
    {
     "data": {
      "text/html": [
       "<div>\n",
       "<style scoped>\n",
       "    .dataframe tbody tr th:only-of-type {\n",
       "        vertical-align: middle;\n",
       "    }\n",
       "\n",
       "    .dataframe tbody tr th {\n",
       "        vertical-align: top;\n",
       "    }\n",
       "\n",
       "    .dataframe thead th {\n",
       "        text-align: right;\n",
       "    }\n",
       "</style>\n",
       "<table border=\"1\" class=\"dataframe\">\n",
       "  <thead>\n",
       "    <tr style=\"text-align: right;\">\n",
       "      <th></th>\n",
       "      <th>last_price</th>\n",
       "    </tr>\n",
       "    <tr>\n",
       "      <th>floor_type</th>\n",
       "      <th></th>\n",
       "    </tr>\n",
       "  </thead>\n",
       "  <tbody>\n",
       "    <tr>\n",
       "      <td>другой</td>\n",
       "      <td>4500000.0</td>\n",
       "    </tr>\n",
       "    <tr>\n",
       "      <td>первый</td>\n",
       "      <td>3750000.0</td>\n",
       "    </tr>\n",
       "    <tr>\n",
       "      <td>последний</td>\n",
       "      <td>3950000.0</td>\n",
       "    </tr>\n",
       "  </tbody>\n",
       "</table>\n",
       "</div>"
      ],
      "text/plain": [
       "            last_price\n",
       "floor_type            \n",
       "другой       4500000.0\n",
       "первый       3750000.0\n",
       "последний    3950000.0"
      ]
     },
     "execution_count": 36,
     "metadata": {},
     "output_type": "execute_result"
    }
   ],
   "source": [
    "filtered_df.pivot_table(index = 'floor_type', values = 'last_price', aggfunc = 'median')"
   ]
  },
  {
   "cell_type": "markdown",
   "metadata": {},
   "source": [
    "Как видно из сводной таблицы, самые низкие цены квартир на **первом этаже и последнем этаже**."
   ]
  },
  {
   "cell_type": "code",
   "execution_count": 37,
   "metadata": {},
   "outputs": [
    {
     "name": "stdout",
     "output_type": "stream",
     "text": [
      "10 населённых пунктов с наибольшим числом объявлений:\n",
      "locality_name\n",
      "Санкт-Петербург      11768\n",
      "посёлок Мурино         464\n",
      "посёлок Шушары         387\n",
      "Всеволожск             330\n",
      "Колпино                296\n",
      "посёлок Парголово      294\n",
      "Пушкин                 291\n",
      "деревня Кудрово        255\n",
      "Гатчина                254\n",
      "Выборг                 194\n",
      "Name: rooms, dtype: int64\n"
     ]
    }
   ],
   "source": [
    "pivot_df_locality = filtered_df.pivot_table(index = 'locality_name', values = 'rooms', aggfunc = 'count')\n",
    "top10 = pivot_df_locality['rooms'].sort_values(ascending = False).head(10) #10 нас. пунктов с самым большим количеством объявлений\n",
    "print ('10 населённых пунктов с наибольшим числом объявлений:')\n",
    "print (top10)\n",
    "list_top10 = top10.index.to_list()"
   ]
  },
  {
   "cell_type": "code",
   "execution_count": 38,
   "metadata": {},
   "outputs": [
    {
     "data": {
      "text/html": [
       "<div>\n",
       "<style scoped>\n",
       "    .dataframe tbody tr th:only-of-type {\n",
       "        vertical-align: middle;\n",
       "    }\n",
       "\n",
       "    .dataframe tbody tr th {\n",
       "        vertical-align: top;\n",
       "    }\n",
       "\n",
       "    .dataframe thead tr th {\n",
       "        text-align: left;\n",
       "    }\n",
       "\n",
       "    .dataframe thead tr:last-of-type th {\n",
       "        text-align: right;\n",
       "    }\n",
       "</style>\n",
       "<table border=\"1\" class=\"dataframe\">\n",
       "  <thead>\n",
       "    <tr>\n",
       "      <th></th>\n",
       "      <th>mean</th>\n",
       "      <th>count</th>\n",
       "    </tr>\n",
       "    <tr>\n",
       "      <th></th>\n",
       "      <th>last_price</th>\n",
       "      <th>last_price</th>\n",
       "    </tr>\n",
       "    <tr>\n",
       "      <th>weekday_publication</th>\n",
       "      <th></th>\n",
       "      <th></th>\n",
       "    </tr>\n",
       "  </thead>\n",
       "  <tbody>\n",
       "    <tr>\n",
       "      <td>0</td>\n",
       "      <td>4.694151e+06</td>\n",
       "      <td>2826</td>\n",
       "    </tr>\n",
       "    <tr>\n",
       "      <td>1</td>\n",
       "      <td>4.719913e+06</td>\n",
       "      <td>3281</td>\n",
       "    </tr>\n",
       "    <tr>\n",
       "      <td>2</td>\n",
       "      <td>4.703340e+06</td>\n",
       "      <td>3080</td>\n",
       "    </tr>\n",
       "    <tr>\n",
       "      <td>3</td>\n",
       "      <td>4.721611e+06</td>\n",
       "      <td>3308</td>\n",
       "    </tr>\n",
       "    <tr>\n",
       "      <td>4</td>\n",
       "      <td>4.704236e+06</td>\n",
       "      <td>3173</td>\n",
       "    </tr>\n",
       "    <tr>\n",
       "      <td>5</td>\n",
       "      <td>4.614877e+06</td>\n",
       "      <td>1551</td>\n",
       "    </tr>\n",
       "    <tr>\n",
       "      <td>6</td>\n",
       "      <td>4.651446e+06</td>\n",
       "      <td>1374</td>\n",
       "    </tr>\n",
       "  </tbody>\n",
       "</table>\n",
       "</div>"
      ],
      "text/plain": [
       "                             mean      count\n",
       "                       last_price last_price\n",
       "weekday_publication                         \n",
       "0                    4.694151e+06       2826\n",
       "1                    4.719913e+06       3281\n",
       "2                    4.703340e+06       3080\n",
       "3                    4.721611e+06       3308\n",
       "4                    4.704236e+06       3173\n",
       "5                    4.614877e+06       1551\n",
       "6                    4.651446e+06       1374"
      ]
     },
     "metadata": {},
     "output_type": "display_data"
    }
   ],
   "source": [
    "pivot_df_weekday = filtered_df.pivot_table(index = 'weekday_publication', values = 'last_price', aggfunc = ['mean','count'])\n",
    "display(pivot_df_weekday)"
   ]
  },
  {
   "cell_type": "code",
   "execution_count": 39,
   "metadata": {},
   "outputs": [
    {
     "data": {
      "text/html": [
       "<div>\n",
       "<style scoped>\n",
       "    .dataframe tbody tr th:only-of-type {\n",
       "        vertical-align: middle;\n",
       "    }\n",
       "\n",
       "    .dataframe tbody tr th {\n",
       "        vertical-align: top;\n",
       "    }\n",
       "\n",
       "    .dataframe thead tr th {\n",
       "        text-align: left;\n",
       "    }\n",
       "\n",
       "    .dataframe thead tr:last-of-type th {\n",
       "        text-align: right;\n",
       "    }\n",
       "</style>\n",
       "<table border=\"1\" class=\"dataframe\">\n",
       "  <thead>\n",
       "    <tr>\n",
       "      <th></th>\n",
       "      <th>mean</th>\n",
       "      <th>count</th>\n",
       "    </tr>\n",
       "    <tr>\n",
       "      <th></th>\n",
       "      <th>last_price</th>\n",
       "      <th>last_price</th>\n",
       "    </tr>\n",
       "    <tr>\n",
       "      <th>month_publication</th>\n",
       "      <th></th>\n",
       "      <th></th>\n",
       "    </tr>\n",
       "  </thead>\n",
       "  <tbody>\n",
       "    <tr>\n",
       "      <td>1</td>\n",
       "      <td>4.674685e+06</td>\n",
       "      <td>1174</td>\n",
       "    </tr>\n",
       "    <tr>\n",
       "      <td>2</td>\n",
       "      <td>4.690402e+06</td>\n",
       "      <td>2117</td>\n",
       "    </tr>\n",
       "    <tr>\n",
       "      <td>3</td>\n",
       "      <td>4.695500e+06</td>\n",
       "      <td>2029</td>\n",
       "    </tr>\n",
       "    <tr>\n",
       "      <td>4</td>\n",
       "      <td>4.788520e+06</td>\n",
       "      <td>1892</td>\n",
       "    </tr>\n",
       "    <tr>\n",
       "      <td>5</td>\n",
       "      <td>4.691023e+06</td>\n",
       "      <td>943</td>\n",
       "    </tr>\n",
       "    <tr>\n",
       "      <td>6</td>\n",
       "      <td>4.548158e+06</td>\n",
       "      <td>1356</td>\n",
       "    </tr>\n",
       "    <tr>\n",
       "      <td>7</td>\n",
       "      <td>4.698839e+06</td>\n",
       "      <td>1309</td>\n",
       "    </tr>\n",
       "    <tr>\n",
       "      <td>8</td>\n",
       "      <td>4.733036e+06</td>\n",
       "      <td>1390</td>\n",
       "    </tr>\n",
       "    <tr>\n",
       "      <td>9</td>\n",
       "      <td>4.718481e+06</td>\n",
       "      <td>1542</td>\n",
       "    </tr>\n",
       "    <tr>\n",
       "      <td>10</td>\n",
       "      <td>4.661190e+06</td>\n",
       "      <td>1722</td>\n",
       "    </tr>\n",
       "    <tr>\n",
       "      <td>11</td>\n",
       "      <td>4.694003e+06</td>\n",
       "      <td>1872</td>\n",
       "    </tr>\n",
       "    <tr>\n",
       "      <td>12</td>\n",
       "      <td>4.745306e+06</td>\n",
       "      <td>1247</td>\n",
       "    </tr>\n",
       "  </tbody>\n",
       "</table>\n",
       "</div>"
      ],
      "text/plain": [
       "                           mean      count\n",
       "                     last_price last_price\n",
       "month_publication                         \n",
       "1                  4.674685e+06       1174\n",
       "2                  4.690402e+06       2117\n",
       "3                  4.695500e+06       2029\n",
       "4                  4.788520e+06       1892\n",
       "5                  4.691023e+06        943\n",
       "6                  4.548158e+06       1356\n",
       "7                  4.698839e+06       1309\n",
       "8                  4.733036e+06       1390\n",
       "9                  4.718481e+06       1542\n",
       "10                 4.661190e+06       1722\n",
       "11                 4.694003e+06       1872\n",
       "12                 4.745306e+06       1247"
      ]
     },
     "metadata": {},
     "output_type": "display_data"
    }
   ],
   "source": [
    "pivot_df_month = filtered_df.pivot_table(index = 'month_publication', values = 'last_price', aggfunc = ['mean','count'])\n",
    "display(pivot_df_month)"
   ]
  },
  {
   "cell_type": "markdown",
   "metadata": {},
   "source": [
    "наибольшее число объявлений - февраль,март,апрель,октябрь,ноябрь."
   ]
  },
  {
   "cell_type": "code",
   "execution_count": 40,
   "metadata": {},
   "outputs": [
    {
     "data": {
      "text/html": [
       "<div>\n",
       "<style scoped>\n",
       "    .dataframe tbody tr th:only-of-type {\n",
       "        vertical-align: middle;\n",
       "    }\n",
       "\n",
       "    .dataframe tbody tr th {\n",
       "        vertical-align: top;\n",
       "    }\n",
       "\n",
       "    .dataframe thead tr th {\n",
       "        text-align: left;\n",
       "    }\n",
       "\n",
       "    .dataframe thead tr:last-of-type th {\n",
       "        text-align: right;\n",
       "    }\n",
       "</style>\n",
       "<table border=\"1\" class=\"dataframe\">\n",
       "  <thead>\n",
       "    <tr>\n",
       "      <th></th>\n",
       "      <th>mean</th>\n",
       "      <th>count</th>\n",
       "    </tr>\n",
       "    <tr>\n",
       "      <th></th>\n",
       "      <th>last_price</th>\n",
       "      <th>last_price</th>\n",
       "    </tr>\n",
       "    <tr>\n",
       "      <th>year_publication</th>\n",
       "      <th></th>\n",
       "      <th></th>\n",
       "    </tr>\n",
       "  </thead>\n",
       "  <tbody>\n",
       "    <tr>\n",
       "      <td>2014</td>\n",
       "      <td>6.491429e+06</td>\n",
       "      <td>7</td>\n",
       "    </tr>\n",
       "    <tr>\n",
       "      <td>2015</td>\n",
       "      <td>4.915244e+06</td>\n",
       "      <td>290</td>\n",
       "    </tr>\n",
       "    <tr>\n",
       "      <td>2016</td>\n",
       "      <td>4.634341e+06</td>\n",
       "      <td>1668</td>\n",
       "    </tr>\n",
       "    <tr>\n",
       "      <td>2017</td>\n",
       "      <td>4.600115e+06</td>\n",
       "      <td>6558</td>\n",
       "    </tr>\n",
       "    <tr>\n",
       "      <td>2018</td>\n",
       "      <td>4.679432e+06</td>\n",
       "      <td>7566</td>\n",
       "    </tr>\n",
       "    <tr>\n",
       "      <td>2019</td>\n",
       "      <td>5.015699e+06</td>\n",
       "      <td>2504</td>\n",
       "    </tr>\n",
       "  </tbody>\n",
       "</table>\n",
       "</div>"
      ],
      "text/plain": [
       "                          mean      count\n",
       "                    last_price last_price\n",
       "year_publication                         \n",
       "2014              6.491429e+06          7\n",
       "2015              4.915244e+06        290\n",
       "2016              4.634341e+06       1668\n",
       "2017              4.600115e+06       6558\n",
       "2018              4.679432e+06       7566\n",
       "2019              5.015699e+06       2504"
      ]
     },
     "metadata": {},
     "output_type": "display_data"
    }
   ],
   "source": [
    "pivot_df_year = filtered_df.pivot_table(index = 'year_publication', values = 'last_price', aggfunc = ['mean','count'])\n",
    "display(pivot_df_year)"
   ]
  },
  {
   "cell_type": "markdown",
   "metadata": {},
   "source": [
    "Годы с наибольшим числом публикаций - 17,18 годы. 14,19 годы - аутсайдеры, вероятно, ввиду неполного года."
   ]
  },
  {
   "cell_type": "code",
   "execution_count": 41,
   "metadata": {},
   "outputs": [
    {
     "name": "stdout",
     "output_type": "stream",
     "text": [
      "Средняя цена квадрата:\n"
     ]
    },
    {
     "data": {
      "text/html": [
       "<div>\n",
       "<style scoped>\n",
       "    .dataframe tbody tr th:only-of-type {\n",
       "        vertical-align: middle;\n",
       "    }\n",
       "\n",
       "    .dataframe tbody tr th {\n",
       "        vertical-align: top;\n",
       "    }\n",
       "\n",
       "    .dataframe thead th {\n",
       "        text-align: right;\n",
       "    }\n",
       "</style>\n",
       "<table border=\"1\" class=\"dataframe\">\n",
       "  <thead>\n",
       "    <tr style=\"text-align: right;\">\n",
       "      <th></th>\n",
       "      <th>price_square</th>\n",
       "    </tr>\n",
       "    <tr>\n",
       "      <th>locality_name</th>\n",
       "      <th></th>\n",
       "    </tr>\n",
       "  </thead>\n",
       "  <tbody>\n",
       "    <tr>\n",
       "      <td>Санкт-Петербург</td>\n",
       "      <td>106012.413358</td>\n",
       "    </tr>\n",
       "    <tr>\n",
       "      <td>Пушкин</td>\n",
       "      <td>100175.202135</td>\n",
       "    </tr>\n",
       "    <tr>\n",
       "      <td>деревня Кудрово</td>\n",
       "      <td>92915.478746</td>\n",
       "    </tr>\n",
       "    <tr>\n",
       "      <td>посёлок Парголово</td>\n",
       "      <td>90038.963000</td>\n",
       "    </tr>\n",
       "    <tr>\n",
       "      <td>посёлок Мурино</td>\n",
       "      <td>86098.826801</td>\n",
       "    </tr>\n",
       "    <tr>\n",
       "      <td>посёлок Шушары</td>\n",
       "      <td>79097.081591</td>\n",
       "    </tr>\n",
       "    <tr>\n",
       "      <td>Колпино</td>\n",
       "      <td>75228.404387</td>\n",
       "    </tr>\n",
       "    <tr>\n",
       "      <td>Гатчина</td>\n",
       "      <td>68960.934607</td>\n",
       "    </tr>\n",
       "    <tr>\n",
       "      <td>Всеволожск</td>\n",
       "      <td>67423.144926</td>\n",
       "    </tr>\n",
       "    <tr>\n",
       "      <td>Выборг</td>\n",
       "      <td>58435.726810</td>\n",
       "    </tr>\n",
       "  </tbody>\n",
       "</table>\n",
       "</div>"
      ],
      "text/plain": [
       "                    price_square\n",
       "locality_name                   \n",
       "Санкт-Петербург    106012.413358\n",
       "Пушкин             100175.202135\n",
       "деревня Кудрово     92915.478746\n",
       "посёлок Парголово   90038.963000\n",
       "посёлок Мурино      86098.826801\n",
       "посёлок Шушары      79097.081591\n",
       "Колпино             75228.404387\n",
       "Гатчина             68960.934607\n",
       "Всеволожск          67423.144926\n",
       "Выборг              58435.726810"
      ]
     },
     "execution_count": 41,
     "metadata": {},
     "output_type": "execute_result"
    }
   ],
   "source": [
    "print ('Средняя цена квадрата:')\n",
    "top10_publication = filtered_df[filtered_df['locality_name'].isin(list_top10) == True]\n",
    "top10_publication.pivot_table(index = 'locality_name', values = 'price_square', aggfunc = 'mean').sort_values(by = 'price_square', ascending = False)"
   ]
  },
  {
   "cell_type": "markdown",
   "metadata": {},
   "source": [
    "Ожидаемо, что наибольшее значение - СПб. Средняя стоимость в Выборге - 58435 руб., в 2 раза ниже СПб."
   ]
  },
  {
   "cell_type": "markdown",
   "metadata": {},
   "source": [
    "**Изучение особенностей рынка недвижимости в СПб**:"
   ]
  },
  {
   "cell_type": "code",
   "execution_count": 42,
   "metadata": {},
   "outputs": [
    {
     "name": "stdout",
     "output_type": "stream",
     "text": [
      "4         8.0\n",
      "7        12.0\n",
      "9        15.0\n",
      "10       14.0\n",
      "15       14.0\n",
      "         ... \n",
      "23681     7.0\n",
      "23686    12.0\n",
      "23687    17.0\n",
      "23689    16.0\n",
      "23690     6.0\n",
      "Name: km, Length: 11768, dtype: float64\n"
     ]
    },
    {
     "name": "stderr",
     "output_type": "stream",
     "text": [
      "/opt/conda/lib/python3.7/site-packages/ipykernel_launcher.py:4: SettingWithCopyWarning: \n",
      "A value is trying to be set on a copy of a slice from a DataFrame.\n",
      "Try using .loc[row_indexer,col_indexer] = value instead\n",
      "\n",
      "See the caveats in the documentation: http://pandas.pydata.org/pandas-docs/stable/user_guide/indexing.html#returning-a-view-versus-a-copy\n",
      "  after removing the cwd from sys.path.\n"
     ]
    }
   ],
   "source": [
    "spb_locality = filtered_df.query('locality_name == \"Санкт-Петербург\"') #новый фрейм локации СПб\n",
    "#spb_locality.info()\n",
    "\n",
    "spb_locality['km'] = round(spb_locality['cityCenters_nearest'] / 1000, 0) #создаём новый столбец в фрейме с километрами вместо метров\n",
    "print (spb_locality['km'])"
   ]
  },
  {
   "cell_type": "code",
   "execution_count": 43,
   "metadata": {},
   "outputs": [
    {
     "data": {
      "text/html": [
       "<div>\n",
       "<style scoped>\n",
       "    .dataframe tbody tr th:only-of-type {\n",
       "        vertical-align: middle;\n",
       "    }\n",
       "\n",
       "    .dataframe tbody tr th {\n",
       "        vertical-align: top;\n",
       "    }\n",
       "\n",
       "    .dataframe thead tr th {\n",
       "        text-align: left;\n",
       "    }\n",
       "\n",
       "    .dataframe thead tr:last-of-type th {\n",
       "        text-align: right;\n",
       "    }\n",
       "</style>\n",
       "<table border=\"1\" class=\"dataframe\">\n",
       "  <thead>\n",
       "    <tr>\n",
       "      <th></th>\n",
       "      <th>mean</th>\n",
       "      <th>count</th>\n",
       "    </tr>\n",
       "    <tr>\n",
       "      <th></th>\n",
       "      <th>price_square</th>\n",
       "      <th>price_square</th>\n",
       "    </tr>\n",
       "    <tr>\n",
       "      <th>km</th>\n",
       "      <th></th>\n",
       "      <th></th>\n",
       "    </tr>\n",
       "  </thead>\n",
       "  <tbody>\n",
       "    <tr>\n",
       "      <td>0.0</td>\n",
       "      <td>120940.049353</td>\n",
       "      <td>6</td>\n",
       "    </tr>\n",
       "    <tr>\n",
       "      <td>1.0</td>\n",
       "      <td>123463.990209</td>\n",
       "      <td>65</td>\n",
       "    </tr>\n",
       "    <tr>\n",
       "      <td>2.0</td>\n",
       "      <td>119857.385118</td>\n",
       "      <td>132</td>\n",
       "    </tr>\n",
       "    <tr>\n",
       "      <td>3.0</td>\n",
       "      <td>112610.155347</td>\n",
       "      <td>196</td>\n",
       "    </tr>\n",
       "    <tr>\n",
       "      <td>4.0</td>\n",
       "      <td>119252.737385</td>\n",
       "      <td>328</td>\n",
       "    </tr>\n",
       "    <tr>\n",
       "      <td>5.0</td>\n",
       "      <td>122846.603610</td>\n",
       "      <td>437</td>\n",
       "    </tr>\n",
       "    <tr>\n",
       "      <td>6.0</td>\n",
       "      <td>123216.999980</td>\n",
       "      <td>343</td>\n",
       "    </tr>\n",
       "    <tr>\n",
       "      <td>7.0</td>\n",
       "      <td>117514.262322</td>\n",
       "      <td>260</td>\n",
       "    </tr>\n",
       "    <tr>\n",
       "      <td>8.0</td>\n",
       "      <td>115133.961669</td>\n",
       "      <td>383</td>\n",
       "    </tr>\n",
       "    <tr>\n",
       "      <td>9.0</td>\n",
       "      <td>107449.914466</td>\n",
       "      <td>446</td>\n",
       "    </tr>\n",
       "    <tr>\n",
       "      <td>10.0</td>\n",
       "      <td>107986.200625</td>\n",
       "      <td>573</td>\n",
       "    </tr>\n",
       "    <tr>\n",
       "      <td>11.0</td>\n",
       "      <td>104745.426068</td>\n",
       "      <td>946</td>\n",
       "    </tr>\n",
       "    <tr>\n",
       "      <td>12.0</td>\n",
       "      <td>106403.457118</td>\n",
       "      <td>1350</td>\n",
       "    </tr>\n",
       "    <tr>\n",
       "      <td>13.0</td>\n",
       "      <td>107255.009093</td>\n",
       "      <td>1193</td>\n",
       "    </tr>\n",
       "    <tr>\n",
       "      <td>14.0</td>\n",
       "      <td>103786.008845</td>\n",
       "      <td>1077</td>\n",
       "    </tr>\n",
       "    <tr>\n",
       "      <td>15.0</td>\n",
       "      <td>102640.148005</td>\n",
       "      <td>1330</td>\n",
       "    </tr>\n",
       "    <tr>\n",
       "      <td>16.0</td>\n",
       "      <td>99608.785403</td>\n",
       "      <td>1097</td>\n",
       "    </tr>\n",
       "    <tr>\n",
       "      <td>17.0</td>\n",
       "      <td>95935.822690</td>\n",
       "      <td>742</td>\n",
       "    </tr>\n",
       "    <tr>\n",
       "      <td>18.0</td>\n",
       "      <td>96285.887506</td>\n",
       "      <td>218</td>\n",
       "    </tr>\n",
       "    <tr>\n",
       "      <td>19.0</td>\n",
       "      <td>98097.201784</td>\n",
       "      <td>136</td>\n",
       "    </tr>\n",
       "    <tr>\n",
       "      <td>20.0</td>\n",
       "      <td>87262.193886</td>\n",
       "      <td>18</td>\n",
       "    </tr>\n",
       "    <tr>\n",
       "      <td>21.0</td>\n",
       "      <td>93458.861155</td>\n",
       "      <td>97</td>\n",
       "    </tr>\n",
       "    <tr>\n",
       "      <td>22.0</td>\n",
       "      <td>91522.594926</td>\n",
       "      <td>168</td>\n",
       "    </tr>\n",
       "    <tr>\n",
       "      <td>23.0</td>\n",
       "      <td>92174.860210</td>\n",
       "      <td>75</td>\n",
       "    </tr>\n",
       "    <tr>\n",
       "      <td>24.0</td>\n",
       "      <td>84566.647090</td>\n",
       "      <td>25</td>\n",
       "    </tr>\n",
       "    <tr>\n",
       "      <td>25.0</td>\n",
       "      <td>91531.371618</td>\n",
       "      <td>26</td>\n",
       "    </tr>\n",
       "    <tr>\n",
       "      <td>26.0</td>\n",
       "      <td>89271.235212</td>\n",
       "      <td>50</td>\n",
       "    </tr>\n",
       "    <tr>\n",
       "      <td>27.0</td>\n",
       "      <td>70312.500000</td>\n",
       "      <td>1</td>\n",
       "    </tr>\n",
       "    <tr>\n",
       "      <td>28.0</td>\n",
       "      <td>83277.489795</td>\n",
       "      <td>6</td>\n",
       "    </tr>\n",
       "    <tr>\n",
       "      <td>29.0</td>\n",
       "      <td>66418.254784</td>\n",
       "      <td>4</td>\n",
       "    </tr>\n",
       "  </tbody>\n",
       "</table>\n",
       "</div>"
      ],
      "text/plain": [
       "               mean        count\n",
       "       price_square price_square\n",
       "km                              \n",
       "0.0   120940.049353            6\n",
       "1.0   123463.990209           65\n",
       "2.0   119857.385118          132\n",
       "3.0   112610.155347          196\n",
       "4.0   119252.737385          328\n",
       "5.0   122846.603610          437\n",
       "6.0   123216.999980          343\n",
       "7.0   117514.262322          260\n",
       "8.0   115133.961669          383\n",
       "9.0   107449.914466          446\n",
       "10.0  107986.200625          573\n",
       "11.0  104745.426068          946\n",
       "12.0  106403.457118         1350\n",
       "13.0  107255.009093         1193\n",
       "14.0  103786.008845         1077\n",
       "15.0  102640.148005         1330\n",
       "16.0   99608.785403         1097\n",
       "17.0   95935.822690          742\n",
       "18.0   96285.887506          218\n",
       "19.0   98097.201784          136\n",
       "20.0   87262.193886           18\n",
       "21.0   93458.861155           97\n",
       "22.0   91522.594926          168\n",
       "23.0   92174.860210           75\n",
       "24.0   84566.647090           25\n",
       "25.0   91531.371618           26\n",
       "26.0   89271.235212           50\n",
       "27.0   70312.500000            1\n",
       "28.0   83277.489795            6\n",
       "29.0   66418.254784            4"
      ]
     },
     "metadata": {},
     "output_type": "display_data"
    },
    {
     "data": {
      "image/png": "[encoded data removed]",
      "text/plain": [
       "<Figure size 720x360 with 1 Axes>"
      ]
     },
     "metadata": {
      "needs_background": "light"
     },
     "output_type": "display_data"
    }
   ],
   "source": [
    "#делаем сводку по средней стоимости квадрата от удалённости\n",
    "pivot_spb_km = spb_locality.pivot_table(index = 'km', values = 'price_square', aggfunc = 'mean')\n",
    "#display (pivot_spb_km) \n",
    "plt.ylim([60000,125000])\n",
    "\n",
    "pivot_spb_km['price_square'].plot(kind='bar', figsize = (10,5), title = 'Зависимость цены кв.м от удаления от центра')\n",
    "display (spb_locality.pivot_table(index = 'km', values = 'price_square', aggfunc = ['mean','count']))"
   ]
  },
  {
   "cell_type": "markdown",
   "metadata": {},
   "source": [
    "***Вывод*** Наибольший рост цены отмечается с 9 до 8 км. от центра., условно определим её как радиус центральной зоны. Существенные скачки цены с 27 до 26, и с 20 до 19 км. от центра невозможно принять ввиду крайне малой выборки (18 и 1 объявление соответственно). Также наблюдается рост стоимости на протяжении от 17 до 13 км от центра города, однако динамика роста меньше, нежели в центральной зоне."
   ]
  },
  {
   "cell_type": "code",
   "execution_count": 44,
   "metadata": {},
   "outputs": [
    {
     "name": "stdout",
     "output_type": "stream",
     "text": [
      "Средняя цена квадратного метра на километр отдаления от центра 1901 руб.\n"
     ]
    }
   ],
   "source": [
    "price_of_1km_to_center = (pivot_spb_km['price_square'].max() - pivot_spb_km['price_square'].min()) / len(pivot_spb_km['price_square'])\n",
    "print ('Средняя цена квадратного метра на километр отдаления от центра', int(price_of_1km_to_center), 'руб.')"
   ]
  },
  {
   "cell_type": "markdown",
   "metadata": {},
   "source": [
    "**Анализ центральной зоны** \"\n",
    "вопросы:\n",
    "- Выделите сегмент квартир в центре. \n",
    "- Проанализируйте эту территорию и изучите следующие параметры: площадь, цена, число комнат, высота потолков. \n",
    "- Также выделите факторы, которые влияют на стоимость квартиры (число комнат, этаж, удалённость от центра, дата размещения объявления).\n",
    "- Сделайте выводы. Отличаются ли они от общих выводов по всему городу?\n",
    "\n",
    "Разделим массив объявлений на 'центр' и 'нецентр', по условиям: меньше 9 км до центра, больше либо равно 9 км до центра"
   ]
  },
  {
   "cell_type": "code",
   "execution_count": 45,
   "metadata": {},
   "outputs": [],
   "source": [
    "center_spb_df = spb_locality[spb_locality['km'] < 9]\n",
    "not_center_spb_df = spb_locality[spb_locality['km'] >= 9]"
   ]
  },
  {
   "cell_type": "code",
   "execution_count": 46,
   "metadata": {
    "scrolled": true
   },
   "outputs": [
    {
     "data": {
      "text/html": [
       "<div>\n",
       "<style scoped>\n",
       "    .dataframe tbody tr th:only-of-type {\n",
       "        vertical-align: middle;\n",
       "    }\n",
       "\n",
       "    .dataframe tbody tr th {\n",
       "        vertical-align: top;\n",
       "    }\n",
       "\n",
       "    .dataframe thead th {\n",
       "        text-align: right;\n",
       "    }\n",
       "</style>\n",
       "<table border=\"1\" class=\"dataframe\">\n",
       "  <thead>\n",
       "    <tr style=\"text-align: right;\">\n",
       "      <th></th>\n",
       "      <th>total_images</th>\n",
       "      <th>last_price</th>\n",
       "      <th>total_area</th>\n",
       "      <th>rooms</th>\n",
       "      <th>ceiling_height</th>\n",
       "      <th>floors_total</th>\n",
       "      <th>living_area</th>\n",
       "      <th>floor</th>\n",
       "      <th>kitchen_area</th>\n",
       "      <th>balcony</th>\n",
       "      <th>...</th>\n",
       "      <th>ponds_around3000</th>\n",
       "      <th>ponds_nearest</th>\n",
       "      <th>days_exposition</th>\n",
       "      <th>price_square</th>\n",
       "      <th>weekday_publication</th>\n",
       "      <th>month_publication</th>\n",
       "      <th>year_publication</th>\n",
       "      <th>part_of_living_area</th>\n",
       "      <th>part_of_kitchen_area</th>\n",
       "      <th>km</th>\n",
       "    </tr>\n",
       "  </thead>\n",
       "  <tbody>\n",
       "    <tr>\n",
       "      <td>count</td>\n",
       "      <td>2150.000000</td>\n",
       "      <td>2.150000e+03</td>\n",
       "      <td>2150.000000</td>\n",
       "      <td>2150.000000</td>\n",
       "      <td>2150.000000</td>\n",
       "      <td>2150.000000</td>\n",
       "      <td>2150.000000</td>\n",
       "      <td>2150.000000</td>\n",
       "      <td>2150.000000</td>\n",
       "      <td>2150.000000</td>\n",
       "      <td>...</td>\n",
       "      <td>2150.000000</td>\n",
       "      <td>1512.000000</td>\n",
       "      <td>2150.000000</td>\n",
       "      <td>2150.000000</td>\n",
       "      <td>2150.000000</td>\n",
       "      <td>2150.000000</td>\n",
       "      <td>2150.000000</td>\n",
       "      <td>2150.000000</td>\n",
       "      <td>2150.000000</td>\n",
       "      <td>2150.000000</td>\n",
       "    </tr>\n",
       "    <tr>\n",
       "      <td>mean</td>\n",
       "      <td>9.739535</td>\n",
       "      <td>6.990743e+06</td>\n",
       "      <td>60.449977</td>\n",
       "      <td>2.146512</td>\n",
       "      <td>2.845949</td>\n",
       "      <td>7.518605</td>\n",
       "      <td>34.994952</td>\n",
       "      <td>4.204651</td>\n",
       "      <td>10.579696</td>\n",
       "      <td>0.267907</td>\n",
       "      <td>...</td>\n",
       "      <td>1.211628</td>\n",
       "      <td>486.541667</td>\n",
       "      <td>114.896279</td>\n",
       "      <td>119235.290744</td>\n",
       "      <td>2.592558</td>\n",
       "      <td>6.515349</td>\n",
       "      <td>2017.485581</td>\n",
       "      <td>0.573052</td>\n",
       "      <td>0.182711</td>\n",
       "      <td>5.281860</td>\n",
       "    </tr>\n",
       "    <tr>\n",
       "      <td>std</td>\n",
       "      <td>5.614834</td>\n",
       "      <td>2.131197e+06</td>\n",
       "      <td>18.726382</td>\n",
       "      <td>0.887546</td>\n",
       "      <td>0.299689</td>\n",
       "      <td>4.389100</td>\n",
       "      <td>13.754860</td>\n",
       "      <td>3.118562</td>\n",
       "      <td>4.594579</td>\n",
       "      <td>0.593781</td>\n",
       "      <td>...</td>\n",
       "      <td>1.050761</td>\n",
       "      <td>261.991330</td>\n",
       "      <td>95.372166</td>\n",
       "      <td>28856.301928</td>\n",
       "      <td>1.740638</td>\n",
       "      <td>3.441392</td>\n",
       "      <td>0.913436</td>\n",
       "      <td>0.111857</td>\n",
       "      <td>0.073992</td>\n",
       "      <td>1.947328</td>\n",
       "    </tr>\n",
       "    <tr>\n",
       "      <td>min</td>\n",
       "      <td>0.000000</td>\n",
       "      <td>1.600000e+06</td>\n",
       "      <td>12.000000</td>\n",
       "      <td>0.000000</td>\n",
       "      <td>2.400000</td>\n",
       "      <td>2.000000</td>\n",
       "      <td>2.000000</td>\n",
       "      <td>1.000000</td>\n",
       "      <td>2.000000</td>\n",
       "      <td>0.000000</td>\n",
       "      <td>...</td>\n",
       "      <td>0.000000</td>\n",
       "      <td>22.000000</td>\n",
       "      <td>3.000000</td>\n",
       "      <td>17391.304348</td>\n",
       "      <td>0.000000</td>\n",
       "      <td>1.000000</td>\n",
       "      <td>2015.000000</td>\n",
       "      <td>0.038462</td>\n",
       "      <td>0.060606</td>\n",
       "      <td>0.000000</td>\n",
       "    </tr>\n",
       "    <tr>\n",
       "      <td>25%</td>\n",
       "      <td>6.000000</td>\n",
       "      <td>5.400000e+06</td>\n",
       "      <td>45.600000</td>\n",
       "      <td>2.000000</td>\n",
       "      <td>2.650000</td>\n",
       "      <td>5.000000</td>\n",
       "      <td>24.000000</td>\n",
       "      <td>2.000000</td>\n",
       "      <td>7.800000</td>\n",
       "      <td>0.000000</td>\n",
       "      <td>...</td>\n",
       "      <td>0.000000</td>\n",
       "      <td>266.000000</td>\n",
       "      <td>45.000000</td>\n",
       "      <td>98126.045806</td>\n",
       "      <td>1.000000</td>\n",
       "      <td>3.000000</td>\n",
       "      <td>2017.000000</td>\n",
       "      <td>0.506360</td>\n",
       "      <td>0.133441</td>\n",
       "      <td>4.000000</td>\n",
       "    </tr>\n",
       "    <tr>\n",
       "      <td>50%</td>\n",
       "      <td>9.000000</td>\n",
       "      <td>6.850000e+06</td>\n",
       "      <td>60.000000</td>\n",
       "      <td>2.000000</td>\n",
       "      <td>2.700000</td>\n",
       "      <td>6.000000</td>\n",
       "      <td>33.600000</td>\n",
       "      <td>3.000000</td>\n",
       "      <td>9.800000</td>\n",
       "      <td>0.000000</td>\n",
       "      <td>...</td>\n",
       "      <td>1.000000</td>\n",
       "      <td>471.000000</td>\n",
       "      <td>95.000000</td>\n",
       "      <td>115135.895033</td>\n",
       "      <td>3.000000</td>\n",
       "      <td>7.000000</td>\n",
       "      <td>2018.000000</td>\n",
       "      <td>0.585462</td>\n",
       "      <td>0.172288</td>\n",
       "      <td>5.000000</td>\n",
       "    </tr>\n",
       "    <tr>\n",
       "      <td>75%</td>\n",
       "      <td>14.000000</td>\n",
       "      <td>8.500000e+06</td>\n",
       "      <td>74.775000</td>\n",
       "      <td>3.000000</td>\n",
       "      <td>3.000000</td>\n",
       "      <td>9.000000</td>\n",
       "      <td>45.000000</td>\n",
       "      <td>5.000000</td>\n",
       "      <td>12.250000</td>\n",
       "      <td>0.000000</td>\n",
       "      <td>...</td>\n",
       "      <td>2.000000</td>\n",
       "      <td>688.250000</td>\n",
       "      <td>158.000000</td>\n",
       "      <td>135714.285714</td>\n",
       "      <td>4.000000</td>\n",
       "      <td>10.000000</td>\n",
       "      <td>2018.000000</td>\n",
       "      <td>0.652367</td>\n",
       "      <td>0.206734</td>\n",
       "      <td>7.000000</td>\n",
       "    </tr>\n",
       "    <tr>\n",
       "      <td>max</td>\n",
       "      <td>32.000000</td>\n",
       "      <td>1.189440e+07</td>\n",
       "      <td>100.200000</td>\n",
       "      <td>5.000000</td>\n",
       "      <td>4.370000</td>\n",
       "      <td>28.000000</td>\n",
       "      <td>76.000000</td>\n",
       "      <td>23.000000</td>\n",
       "      <td>48.300000</td>\n",
       "      <td>2.000000</td>\n",
       "      <td>...</td>\n",
       "      <td>3.000000</td>\n",
       "      <td>1199.000000</td>\n",
       "      <td>403.000000</td>\n",
       "      <td>292307.692308</td>\n",
       "      <td>6.000000</td>\n",
       "      <td>12.000000</td>\n",
       "      <td>2019.000000</td>\n",
       "      <td>0.972222</td>\n",
       "      <td>0.612648</td>\n",
       "      <td>8.000000</td>\n",
       "    </tr>\n",
       "  </tbody>\n",
       "</table>\n",
       "<p>8 rows × 24 columns</p>\n",
       "</div>"
      ],
      "text/plain": [
       "       total_images    last_price   total_area        rooms  ceiling_height  \\\n",
       "count   2150.000000  2.150000e+03  2150.000000  2150.000000     2150.000000   \n",
       "mean       9.739535  6.990743e+06    60.449977     2.146512        2.845949   \n",
       "std        5.614834  2.131197e+06    18.726382     0.887546        0.299689   \n",
       "min        0.000000  1.600000e+06    12.000000     0.000000        2.400000   \n",
       "25%        6.000000  5.400000e+06    45.600000     2.000000        2.650000   \n",
       "50%        9.000000  6.850000e+06    60.000000     2.000000        2.700000   \n",
       "75%       14.000000  8.500000e+06    74.775000     3.000000        3.000000   \n",
       "max       32.000000  1.189440e+07   100.200000     5.000000        4.370000   \n",
       "\n",
       "       floors_total  living_area        floor  kitchen_area      balcony  ...  \\\n",
       "count   2150.000000  2150.000000  2150.000000   2150.000000  2150.000000  ...   \n",
       "mean       7.518605    34.994952     4.204651     10.579696     0.267907  ...   \n",
       "std        4.389100    13.754860     3.118562      4.594579     0.593781  ...   \n",
       "min        2.000000     2.000000     1.000000      2.000000     0.000000  ...   \n",
       "25%        5.000000    24.000000     2.000000      7.800000     0.000000  ...   \n",
       "50%        6.000000    33.600000     3.000000      9.800000     0.000000  ...   \n",
       "75%        9.000000    45.000000     5.000000     12.250000     0.000000  ...   \n",
       "max       28.000000    76.000000    23.000000     48.300000     2.000000  ...   \n",
       "\n",
       "       ponds_around3000  ponds_nearest  days_exposition   price_square  \\\n",
       "count       2150.000000    1512.000000      2150.000000    2150.000000   \n",
       "mean           1.211628     486.541667       114.896279  119235.290744   \n",
       "std            1.050761     261.991330        95.372166   28856.301928   \n",
       "min            0.000000      22.000000         3.000000   17391.304348   \n",
       "25%            0.000000     266.000000        45.000000   98126.045806   \n",
       "50%            1.000000     471.000000        95.000000  115135.895033   \n",
       "75%            2.000000     688.250000       158.000000  135714.285714   \n",
       "max            3.000000    1199.000000       403.000000  292307.692308   \n",
       "\n",
       "       weekday_publication  month_publication  year_publication  \\\n",
       "count          2150.000000        2150.000000       2150.000000   \n",
       "mean              2.592558           6.515349       2017.485581   \n",
       "std               1.740638           3.441392          0.913436   \n",
       "min               0.000000           1.000000       2015.000000   \n",
       "25%               1.000000           3.000000       2017.000000   \n",
       "50%               3.000000           7.000000       2018.000000   \n",
       "75%               4.000000          10.000000       2018.000000   \n",
       "max               6.000000          12.000000       2019.000000   \n",
       "\n",
       "       part_of_living_area  part_of_kitchen_area           km  \n",
       "count          2150.000000           2150.000000  2150.000000  \n",
       "mean              0.573052              0.182711     5.281860  \n",
       "std               0.111857              0.073992     1.947328  \n",
       "min               0.038462              0.060606     0.000000  \n",
       "25%               0.506360              0.133441     4.000000  \n",
       "50%               0.585462              0.172288     5.000000  \n",
       "75%               0.652367              0.206734     7.000000  \n",
       "max               0.972222              0.612648     8.000000  \n",
       "\n",
       "[8 rows x 24 columns]"
      ]
     },
     "metadata": {},
     "output_type": "display_data"
    },
    {
     "data": {
      "text/html": [
       "<div>\n",
       "<style scoped>\n",
       "    .dataframe tbody tr th:only-of-type {\n",
       "        vertical-align: middle;\n",
       "    }\n",
       "\n",
       "    .dataframe tbody tr th {\n",
       "        vertical-align: top;\n",
       "    }\n",
       "\n",
       "    .dataframe thead th {\n",
       "        text-align: right;\n",
       "    }\n",
       "</style>\n",
       "<table border=\"1\" class=\"dataframe\">\n",
       "  <thead>\n",
       "    <tr style=\"text-align: right;\">\n",
       "      <th></th>\n",
       "      <th>total_images</th>\n",
       "      <th>last_price</th>\n",
       "      <th>total_area</th>\n",
       "      <th>rooms</th>\n",
       "      <th>ceiling_height</th>\n",
       "      <th>floors_total</th>\n",
       "      <th>living_area</th>\n",
       "      <th>floor</th>\n",
       "      <th>kitchen_area</th>\n",
       "      <th>balcony</th>\n",
       "      <th>...</th>\n",
       "      <th>ponds_around3000</th>\n",
       "      <th>ponds_nearest</th>\n",
       "      <th>days_exposition</th>\n",
       "      <th>price_square</th>\n",
       "      <th>weekday_publication</th>\n",
       "      <th>month_publication</th>\n",
       "      <th>year_publication</th>\n",
       "      <th>part_of_living_area</th>\n",
       "      <th>part_of_kitchen_area</th>\n",
       "      <th>km</th>\n",
       "    </tr>\n",
       "  </thead>\n",
       "  <tbody>\n",
       "    <tr>\n",
       "      <td>count</td>\n",
       "      <td>9578.000000</td>\n",
       "      <td>9.578000e+03</td>\n",
       "      <td>9578.000000</td>\n",
       "      <td>9578.000000</td>\n",
       "      <td>9578.000000</td>\n",
       "      <td>9578.000000</td>\n",
       "      <td>9578.000000</td>\n",
       "      <td>9578.000000</td>\n",
       "      <td>9578.000000</td>\n",
       "      <td>9578.000000</td>\n",
       "      <td>...</td>\n",
       "      <td>9578.000000</td>\n",
       "      <td>4119.000000</td>\n",
       "      <td>9578.000000</td>\n",
       "      <td>9578.000000</td>\n",
       "      <td>9578.000000</td>\n",
       "      <td>9578.000000</td>\n",
       "      <td>9578.000000</td>\n",
       "      <td>9578.000000</td>\n",
       "      <td>9578.000000</td>\n",
       "      <td>9578.000000</td>\n",
       "    </tr>\n",
       "    <tr>\n",
       "      <td>mean</td>\n",
       "      <td>10.104510</td>\n",
       "      <td>5.146981e+06</td>\n",
       "      <td>50.636213</td>\n",
       "      <td>1.849969</td>\n",
       "      <td>2.642746</td>\n",
       "      <td>12.539883</td>\n",
       "      <td>28.809417</td>\n",
       "      <td>6.738881</td>\n",
       "      <td>9.215151</td>\n",
       "      <td>0.568281</td>\n",
       "      <td>...</td>\n",
       "      <td>0.557632</td>\n",
       "      <td>564.790483</td>\n",
       "      <td>102.994466</td>\n",
       "      <td>102973.673385</td>\n",
       "      <td>2.571622</td>\n",
       "      <td>6.396951</td>\n",
       "      <td>2017.558676</td>\n",
       "      <td>0.561393</td>\n",
       "      <td>0.190167</td>\n",
       "      <td>14.015452</td>\n",
       "    </tr>\n",
       "    <tr>\n",
       "      <td>std</td>\n",
       "      <td>5.545641</td>\n",
       "      <td>1.755366e+06</td>\n",
       "      <td>15.779670</td>\n",
       "      <td>0.862440</td>\n",
       "      <td>0.121466</td>\n",
       "      <td>6.249129</td>\n",
       "      <td>11.453938</td>\n",
       "      <td>5.066416</td>\n",
       "      <td>3.379916</td>\n",
       "      <td>0.787673</td>\n",
       "      <td>...</td>\n",
       "      <td>0.742136</td>\n",
       "      <td>279.169935</td>\n",
       "      <td>89.543438</td>\n",
       "      <td>20380.652248</td>\n",
       "      <td>1.799359</td>\n",
       "      <td>3.465319</td>\n",
       "      <td>0.897104</td>\n",
       "      <td>0.103769</td>\n",
       "      <td>0.065098</td>\n",
       "      <td>3.099844</td>\n",
       "    </tr>\n",
       "    <tr>\n",
       "      <td>min</td>\n",
       "      <td>0.000000</td>\n",
       "      <td>1.190000e+06</td>\n",
       "      <td>14.000000</td>\n",
       "      <td>0.000000</td>\n",
       "      <td>2.300000</td>\n",
       "      <td>1.000000</td>\n",
       "      <td>3.000000</td>\n",
       "      <td>1.000000</td>\n",
       "      <td>1.300000</td>\n",
       "      <td>0.000000</td>\n",
       "      <td>...</td>\n",
       "      <td>0.000000</td>\n",
       "      <td>16.000000</td>\n",
       "      <td>1.000000</td>\n",
       "      <td>24439.918534</td>\n",
       "      <td>0.000000</td>\n",
       "      <td>1.000000</td>\n",
       "      <td>2014.000000</td>\n",
       "      <td>0.069588</td>\n",
       "      <td>0.043524</td>\n",
       "      <td>9.000000</td>\n",
       "    </tr>\n",
       "    <tr>\n",
       "      <td>25%</td>\n",
       "      <td>6.000000</td>\n",
       "      <td>3.899000e+06</td>\n",
       "      <td>38.500000</td>\n",
       "      <td>1.000000</td>\n",
       "      <td>2.550000</td>\n",
       "      <td>9.000000</td>\n",
       "      <td>18.000000</td>\n",
       "      <td>3.000000</td>\n",
       "      <td>6.900000</td>\n",
       "      <td>0.000000</td>\n",
       "      <td>...</td>\n",
       "      <td>0.000000</td>\n",
       "      <td>350.000000</td>\n",
       "      <td>38.000000</td>\n",
       "      <td>88888.888889</td>\n",
       "      <td>1.000000</td>\n",
       "      <td>3.000000</td>\n",
       "      <td>2017.000000</td>\n",
       "      <td>0.492188</td>\n",
       "      <td>0.143478</td>\n",
       "      <td>12.000000</td>\n",
       "    </tr>\n",
       "    <tr>\n",
       "      <td>50%</td>\n",
       "      <td>10.000000</td>\n",
       "      <td>4.700000e+06</td>\n",
       "      <td>46.800000</td>\n",
       "      <td>2.000000</td>\n",
       "      <td>2.650000</td>\n",
       "      <td>10.000000</td>\n",
       "      <td>28.300000</td>\n",
       "      <td>5.000000</td>\n",
       "      <td>8.500000</td>\n",
       "      <td>0.000000</td>\n",
       "      <td>...</td>\n",
       "      <td>0.000000</td>\n",
       "      <td>559.000000</td>\n",
       "      <td>86.000000</td>\n",
       "      <td>100432.015825</td>\n",
       "      <td>2.000000</td>\n",
       "      <td>6.000000</td>\n",
       "      <td>2018.000000</td>\n",
       "      <td>0.562500</td>\n",
       "      <td>0.175000</td>\n",
       "      <td>14.000000</td>\n",
       "    </tr>\n",
       "    <tr>\n",
       "      <td>75%</td>\n",
       "      <td>14.000000</td>\n",
       "      <td>6.000000e+06</td>\n",
       "      <td>60.487500</td>\n",
       "      <td>2.000000</td>\n",
       "      <td>2.650000</td>\n",
       "      <td>16.000000</td>\n",
       "      <td>37.000000</td>\n",
       "      <td>9.000000</td>\n",
       "      <td>10.800000</td>\n",
       "      <td>1.000000</td>\n",
       "      <td>...</td>\n",
       "      <td>1.000000</td>\n",
       "      <td>782.000000</td>\n",
       "      <td>134.000000</td>\n",
       "      <td>114552.805685</td>\n",
       "      <td>4.000000</td>\n",
       "      <td>10.000000</td>\n",
       "      <td>2018.000000</td>\n",
       "      <td>0.633600</td>\n",
       "      <td>0.230769</td>\n",
       "      <td>16.000000</td>\n",
       "    </tr>\n",
       "    <tr>\n",
       "      <td>max</td>\n",
       "      <td>37.000000</td>\n",
       "      <td>1.188000e+07</td>\n",
       "      <td>100.100000</td>\n",
       "      <td>5.000000</td>\n",
       "      <td>4.190000</td>\n",
       "      <td>28.000000</td>\n",
       "      <td>91.785000</td>\n",
       "      <td>26.000000</td>\n",
       "      <td>41.100000</td>\n",
       "      <td>2.000000</td>\n",
       "      <td>...</td>\n",
       "      <td>3.000000</td>\n",
       "      <td>1337.000000</td>\n",
       "      <td>404.000000</td>\n",
       "      <td>312240.000000</td>\n",
       "      <td>6.000000</td>\n",
       "      <td>12.000000</td>\n",
       "      <td>2019.000000</td>\n",
       "      <td>1.000000</td>\n",
       "      <td>0.787879</td>\n",
       "      <td>29.000000</td>\n",
       "    </tr>\n",
       "  </tbody>\n",
       "</table>\n",
       "<p>8 rows × 24 columns</p>\n",
       "</div>"
      ],
      "text/plain": [
       "       total_images    last_price   total_area        rooms  ceiling_height  \\\n",
       "count   9578.000000  9.578000e+03  9578.000000  9578.000000     9578.000000   \n",
       "mean      10.104510  5.146981e+06    50.636213     1.849969        2.642746   \n",
       "std        5.545641  1.755366e+06    15.779670     0.862440        0.121466   \n",
       "min        0.000000  1.190000e+06    14.000000     0.000000        2.300000   \n",
       "25%        6.000000  3.899000e+06    38.500000     1.000000        2.550000   \n",
       "50%       10.000000  4.700000e+06    46.800000     2.000000        2.650000   \n",
       "75%       14.000000  6.000000e+06    60.487500     2.000000        2.650000   \n",
       "max       37.000000  1.188000e+07   100.100000     5.000000        4.190000   \n",
       "\n",
       "       floors_total  living_area        floor  kitchen_area      balcony  ...  \\\n",
       "count   9578.000000  9578.000000  9578.000000   9578.000000  9578.000000  ...   \n",
       "mean      12.539883    28.809417     6.738881      9.215151     0.568281  ...   \n",
       "std        6.249129    11.453938     5.066416      3.379916     0.787673  ...   \n",
       "min        1.000000     3.000000     1.000000      1.300000     0.000000  ...   \n",
       "25%        9.000000    18.000000     3.000000      6.900000     0.000000  ...   \n",
       "50%       10.000000    28.300000     5.000000      8.500000     0.000000  ...   \n",
       "75%       16.000000    37.000000     9.000000     10.800000     1.000000  ...   \n",
       "max       28.000000    91.785000    26.000000     41.100000     2.000000  ...   \n",
       "\n",
       "       ponds_around3000  ponds_nearest  days_exposition   price_square  \\\n",
       "count       9578.000000    4119.000000      9578.000000    9578.000000   \n",
       "mean           0.557632     564.790483       102.994466  102973.673385   \n",
       "std            0.742136     279.169935        89.543438   20380.652248   \n",
       "min            0.000000      16.000000         1.000000   24439.918534   \n",
       "25%            0.000000     350.000000        38.000000   88888.888889   \n",
       "50%            0.000000     559.000000        86.000000  100432.015825   \n",
       "75%            1.000000     782.000000       134.000000  114552.805685   \n",
       "max            3.000000    1337.000000       404.000000  312240.000000   \n",
       "\n",
       "       weekday_publication  month_publication  year_publication  \\\n",
       "count          9578.000000        9578.000000       9578.000000   \n",
       "mean              2.571622           6.396951       2017.558676   \n",
       "std               1.799359           3.465319          0.897104   \n",
       "min               0.000000           1.000000       2014.000000   \n",
       "25%               1.000000           3.000000       2017.000000   \n",
       "50%               2.000000           6.000000       2018.000000   \n",
       "75%               4.000000          10.000000       2018.000000   \n",
       "max               6.000000          12.000000       2019.000000   \n",
       "\n",
       "       part_of_living_area  part_of_kitchen_area           km  \n",
       "count          9578.000000           9578.000000  9578.000000  \n",
       "mean              0.561393              0.190167    14.015452  \n",
       "std               0.103769              0.065098     3.099844  \n",
       "min               0.069588              0.043524     9.000000  \n",
       "25%               0.492188              0.143478    12.000000  \n",
       "50%               0.562500              0.175000    14.000000  \n",
       "75%               0.633600              0.230769    16.000000  \n",
       "max               1.000000              0.787879    29.000000  \n",
       "\n",
       "[8 rows x 24 columns]"
      ]
     },
     "metadata": {},
     "output_type": "display_data"
    }
   ],
   "source": [
    "display (center_spb_df.describe())\n",
    "display (not_center_spb_df.describe())"
   ]
  },
  {
   "cell_type": "markdown",
   "metadata": {},
   "source": [
    "Определим связи между колонками, совместим колонки для сравнительного анализа."
   ]
  },
  {
   "cell_type": "code",
   "execution_count": 47,
   "metadata": {},
   "outputs": [
    {
     "name": "stdout",
     "output_type": "stream",
     "text": [
      "last_price              1.000000\n",
      "total_area              0.704943\n",
      "living_area             0.529757\n",
      "kitchen_area            0.463957\n",
      "rooms                   0.431281\n",
      "price_square            0.326092\n",
      "ceiling_height          0.187995\n",
      "floor                   0.150296\n",
      "floors_total            0.117621\n",
      "total_images            0.117344\n",
      "ponds_around3000        0.093949\n",
      "days_exposition         0.073278\n",
      "parks_around3000        0.064265\n",
      "balcony                 0.055543\n",
      "parks_nearest           0.052720\n",
      "year_publication        0.046678\n",
      "weekday_publication     0.031240\n",
      "airports_nearest       -0.011648\n",
      "is_apartment           -0.015116\n",
      "month_publication      -0.028272\n",
      "ponds_nearest          -0.036599\n",
      "part_of_kitchen_area   -0.060605\n",
      "part_of_living_area    -0.069891\n",
      "open_plan              -0.080833\n",
      "studio                 -0.101878\n",
      "cityCenters_nearest    -0.169504\n",
      "km                     -0.171271\n",
      "Name: last_price, dtype: float64\n",
      "_______________________________________________________________________________________________________\n",
      "Сравнительный анализ корелляции Пирсона между ценой и иными показателям, в центральной части и всем СПб\n",
      "                   index  center_price  total_spb_price\n",
      "0           total_images      0.117344         0.160303\n",
      "1             last_price      1.000000         1.000000\n",
      "2             total_area      0.704943         0.783086\n",
      "3                  rooms      0.431281         0.481781\n",
      "4         ceiling_height      0.187995         0.343354\n",
      "5           floors_total      0.117621         0.090358\n",
      "6            living_area      0.529757         0.611736\n",
      "7                  floor      0.150296         0.065857\n",
      "8           is_apartment     -0.015116         0.011329\n",
      "9                 studio     -0.101878        -0.083408\n",
      "10             open_plan     -0.080833        -0.052847\n",
      "11          kitchen_area      0.463957         0.534015\n",
      "12               balcony      0.055543         0.007122\n",
      "13      airports_nearest     -0.011648        -0.000038\n",
      "14   cityCenters_nearest     -0.169504        -0.341386\n",
      "15      parks_around3000      0.064265         0.110026\n",
      "16         parks_nearest      0.052720         0.023146\n",
      "17      ponds_around3000      0.093949         0.155162\n",
      "18         ponds_nearest     -0.036599        -0.058360\n",
      "19       days_exposition      0.073278         0.063934\n",
      "20          price_square      0.326092         0.439381\n",
      "21   weekday_publication      0.031240        -0.000300\n",
      "22     month_publication     -0.028272        -0.008182\n",
      "23      year_publication      0.046678         0.073936\n",
      "24   part_of_living_area     -0.069891         0.000304\n",
      "25  part_of_kitchen_area     -0.060605        -0.129636\n",
      "26                    km     -0.171271        -0.341226\n"
     ]
    }
   ],
   "source": [
    "corr_center = center_spb_df.corr()['last_price']\n",
    "corr_spb = spb_locality.corr()['last_price']\n",
    "compare_center = pd.concat([corr_center, corr_spb], axis=1).reset_index()\n",
    "compare_center.columns = ['index','center_price','total_spb_price']\n",
    "print (corr_center.sort_values(ascending = False))\n",
    "print ('_______________________________________________________________________________________________________')\n",
    "print ('Сравнительный анализ корелляции Пирсона между ценой и иными показателям, в центральной части и всем СПб')\n",
    "print ( compare_center)"
   ]
  },
  {
   "cell_type": "markdown",
   "metadata": {},
   "source": [
    "Исследовательский анализ показал, что большинство распределений в столбцах имеют вид близкий к Пуассоновским. Данные обладали выбросами, чаще сосредоточенными в сторону \"справа\" от основной массы точек распределения. Фильтрация лишила данные существенной части (более 20%) строк, однако, не лишив данные репрезентативности. "
   ]
  },
  {
   "cell_type": "markdown",
   "metadata": {},
   "source": [
    "## Общий вывод"
   ]
  },
  {
   "cell_type": "markdown",
   "metadata": {},
   "source": [
    "Работа с данными показала, что существует ряд зависимостей, которые могут объяснить рост цены квартиры и стоимости квартиры. Определяющими из них являются: \n",
    "- локация\n",
    "- количество комнат\n",
    "- этаж (первый или последний - дешевле)\n",
    "- в СПб - отдалённость от центра\n",
    "- стоимость квадратного метра\n",
    "- высота потолков (за пределами центральной зоны в большей части)\n",
    "\n",
    "Центральная часть СПб определена в радиусе 9 км. от условного центра.\n",
    "\n",
    "При этом, сравнивая СПб в целом и его центральную часть, можно отметить, что внутри центральной зоны корелляция цены квартир и расстояния до самого центра - ниже. Иными словами - внутри центральной зоны - отдалённость от условного центра меньше влияет на цену, нежели за пределами этой зоны.\n",
    "\n",
    "Высота потолков в центральной зоне выше, чем в целом по СПб, что может быть объяснено плотностью \"старой\" застройки с высокими потолками. Этим может объясняться положительная корелляция между стоимостью и высотой потолков.\n",
    "\n",
    "Каждый километр приближения к центру добавляет к стоимости 1,9 тыс руб, однако если рассматривать эту зависимость (отдаления от центра), всё выглядит не так однородно. Визуально, на графике чётко отражены три зоны: 26 - 17 км, 17 - 9 км, 9 и менее км. Очевидно, что среди геохарактеристик именно отдаление от центра является наиболее существенным фактором роста цены квадратного метра, наличие водоёмов, парков, аэропорта влияют на цену метра в меньшей степени.\n",
    "\n",
    "\n"
   ]
  },
  {
   "cell_type": "code",
   "execution_count": 48,
   "metadata": {},
   "outputs": [
    {
     "data": {
      "text/html": [
       "<div>\n",
       "<style scoped>\n",
       "    .dataframe tbody tr th:only-of-type {\n",
       "        vertical-align: middle;\n",
       "    }\n",
       "\n",
       "    .dataframe tbody tr th {\n",
       "        vertical-align: top;\n",
       "    }\n",
       "\n",
       "    .dataframe thead th {\n",
       "        text-align: right;\n",
       "    }\n",
       "</style>\n",
       "<table border=\"1\" class=\"dataframe\">\n",
       "  <thead>\n",
       "    <tr style=\"text-align: right;\">\n",
       "      <th></th>\n",
       "      <th>index</th>\n",
       "      <th>price_square</th>\n",
       "      <th>price_square</th>\n",
       "    </tr>\n",
       "  </thead>\n",
       "  <tbody>\n",
       "    <tr>\n",
       "      <td>0</td>\n",
       "      <td>total_images</td>\n",
       "      <td>0.125723</td>\n",
       "      <td>0.118822</td>\n",
       "    </tr>\n",
       "    <tr>\n",
       "      <td>1</td>\n",
       "      <td>last_price</td>\n",
       "      <td>0.439381</td>\n",
       "      <td>0.326092</td>\n",
       "    </tr>\n",
       "    <tr>\n",
       "      <td>2</td>\n",
       "      <td>total_area</td>\n",
       "      <td>-0.182018</td>\n",
       "      <td>-0.401811</td>\n",
       "    </tr>\n",
       "    <tr>\n",
       "      <td>3</td>\n",
       "      <td>rooms</td>\n",
       "      <td>-0.354470</td>\n",
       "      <td>-0.472235</td>\n",
       "    </tr>\n",
       "    <tr>\n",
       "      <td>4</td>\n",
       "      <td>ceiling_height</td>\n",
       "      <td>0.201232</td>\n",
       "      <td>-0.026191</td>\n",
       "    </tr>\n",
       "    <tr>\n",
       "      <td>5</td>\n",
       "      <td>floors_total</td>\n",
       "      <td>0.206903</td>\n",
       "      <td>0.270321</td>\n",
       "    </tr>\n",
       "    <tr>\n",
       "      <td>6</td>\n",
       "      <td>living_area</td>\n",
       "      <td>-0.290139</td>\n",
       "      <td>-0.461836</td>\n",
       "    </tr>\n",
       "    <tr>\n",
       "      <td>7</td>\n",
       "      <td>floor</td>\n",
       "      <td>0.170125</td>\n",
       "      <td>0.221107</td>\n",
       "    </tr>\n",
       "    <tr>\n",
       "      <td>8</td>\n",
       "      <td>is_apartment</td>\n",
       "      <td>0.007185</td>\n",
       "      <td>-0.003800</td>\n",
       "    </tr>\n",
       "    <tr>\n",
       "      <td>9</td>\n",
       "      <td>studio</td>\n",
       "      <td>0.057610</td>\n",
       "      <td>0.056938</td>\n",
       "    </tr>\n",
       "    <tr>\n",
       "      <td>10</td>\n",
       "      <td>open_plan</td>\n",
       "      <td>0.026797</td>\n",
       "      <td>0.015663</td>\n",
       "    </tr>\n",
       "    <tr>\n",
       "      <td>11</td>\n",
       "      <td>kitchen_area</td>\n",
       "      <td>0.185677</td>\n",
       "      <td>0.047254</td>\n",
       "    </tr>\n",
       "    <tr>\n",
       "      <td>12</td>\n",
       "      <td>balcony</td>\n",
       "      <td>0.048675</td>\n",
       "      <td>0.191918</td>\n",
       "    </tr>\n",
       "    <tr>\n",
       "      <td>13</td>\n",
       "      <td>airports_nearest</td>\n",
       "      <td>-0.011330</td>\n",
       "      <td>0.043892</td>\n",
       "    </tr>\n",
       "    <tr>\n",
       "      <td>14</td>\n",
       "      <td>cityCenters_nearest</td>\n",
       "      <td>-0.312560</td>\n",
       "      <td>-0.026710</td>\n",
       "    </tr>\n",
       "    <tr>\n",
       "      <td>15</td>\n",
       "      <td>parks_around3000</td>\n",
       "      <td>0.086914</td>\n",
       "      <td>0.004060</td>\n",
       "    </tr>\n",
       "    <tr>\n",
       "      <td>16</td>\n",
       "      <td>parks_nearest</td>\n",
       "      <td>0.052272</td>\n",
       "      <td>0.082279</td>\n",
       "    </tr>\n",
       "    <tr>\n",
       "      <td>17</td>\n",
       "      <td>ponds_around3000</td>\n",
       "      <td>0.107288</td>\n",
       "      <td>0.075447</td>\n",
       "    </tr>\n",
       "    <tr>\n",
       "      <td>18</td>\n",
       "      <td>ponds_nearest</td>\n",
       "      <td>-0.038872</td>\n",
       "      <td>0.027112</td>\n",
       "    </tr>\n",
       "    <tr>\n",
       "      <td>19</td>\n",
       "      <td>days_exposition</td>\n",
       "      <td>-0.024753</td>\n",
       "      <td>-0.049651</td>\n",
       "    </tr>\n",
       "    <tr>\n",
       "      <td>20</td>\n",
       "      <td>price_square</td>\n",
       "      <td>1.000000</td>\n",
       "      <td>1.000000</td>\n",
       "    </tr>\n",
       "    <tr>\n",
       "      <td>21</td>\n",
       "      <td>weekday_publication</td>\n",
       "      <td>0.003529</td>\n",
       "      <td>0.043472</td>\n",
       "    </tr>\n",
       "    <tr>\n",
       "      <td>22</td>\n",
       "      <td>month_publication</td>\n",
       "      <td>-0.022601</td>\n",
       "      <td>-0.034161</td>\n",
       "    </tr>\n",
       "    <tr>\n",
       "      <td>23</td>\n",
       "      <td>year_publication</td>\n",
       "      <td>0.173834</td>\n",
       "      <td>0.140465</td>\n",
       "    </tr>\n",
       "    <tr>\n",
       "      <td>24</td>\n",
       "      <td>part_of_living_area</td>\n",
       "      <td>-0.308305</td>\n",
       "      <td>-0.314833</td>\n",
       "    </tr>\n",
       "    <tr>\n",
       "      <td>25</td>\n",
       "      <td>part_of_kitchen_area</td>\n",
       "      <td>0.359178</td>\n",
       "      <td>0.372715</td>\n",
       "    </tr>\n",
       "    <tr>\n",
       "      <td>26</td>\n",
       "      <td>km</td>\n",
       "      <td>-0.312235</td>\n",
       "      <td>-0.025234</td>\n",
       "    </tr>\n",
       "  </tbody>\n",
       "</table>\n",
       "</div>"
      ],
      "text/plain": [
       "                   index  price_square  price_square\n",
       "0           total_images      0.125723      0.118822\n",
       "1             last_price      0.439381      0.326092\n",
       "2             total_area     -0.182018     -0.401811\n",
       "3                  rooms     -0.354470     -0.472235\n",
       "4         ceiling_height      0.201232     -0.026191\n",
       "5           floors_total      0.206903      0.270321\n",
       "6            living_area     -0.290139     -0.461836\n",
       "7                  floor      0.170125      0.221107\n",
       "8           is_apartment      0.007185     -0.003800\n",
       "9                 studio      0.057610      0.056938\n",
       "10             open_plan      0.026797      0.015663\n",
       "11          kitchen_area      0.185677      0.047254\n",
       "12               balcony      0.048675      0.191918\n",
       "13      airports_nearest     -0.011330      0.043892\n",
       "14   cityCenters_nearest     -0.312560     -0.026710\n",
       "15      parks_around3000      0.086914      0.004060\n",
       "16         parks_nearest      0.052272      0.082279\n",
       "17      ponds_around3000      0.107288      0.075447\n",
       "18         ponds_nearest     -0.038872      0.027112\n",
       "19       days_exposition     -0.024753     -0.049651\n",
       "20          price_square      1.000000      1.000000\n",
       "21   weekday_publication      0.003529      0.043472\n",
       "22     month_publication     -0.022601     -0.034161\n",
       "23      year_publication      0.173834      0.140465\n",
       "24   part_of_living_area     -0.308305     -0.314833\n",
       "25  part_of_kitchen_area      0.359178      0.372715\n",
       "26                    km     -0.312235     -0.025234"
      ]
     },
     "metadata": {},
     "output_type": "display_data"
    }
   ],
   "source": [
    "price_square_corr = spb_locality.corr()['price_square']\n",
    "price_square_center_corr = center_spb_df.corr()['price_square']\n",
    "compare_square_concat = pd.concat([price_square_corr , price_square_center_corr], axis=1).reset_index()\n",
    "display (compare_square_concat)"
   ]
  },
  {
   "cell_type": "markdown",
   "metadata": {},
   "source": [
    "Любопытный факт - стоимость квадратного метра имеет обратную зависимость с метражом квартиры и количеством комнат. Таким образом, формирование системы оценки объектов недвижимости может использовать эту зависимость для расчёта. Покупать квадратные метры выгоднее - оптом, в центральной зоне - особенно."
   ]
  }
 ],
 "metadata": {
  "ExecuteTimeLog": [
   {
    "duration": 328,
    "start_time": "2021-07-19T15:51:25.329Z"
   },
   {
    "duration": 895,
    "start_time": "2021-07-19T15:51:29.301Z"
   },
   {
    "duration": 38,
    "start_time": "2021-07-19T15:51:30.160Z"
   },
   {
    "duration": 268,
    "start_time": "2021-07-19T15:51:30.660Z"
   },
   {
    "duration": 73,
    "start_time": "2021-07-19T15:51:38.290Z"
   },
   {
    "duration": 91,
    "start_time": "2021-07-19T15:51:39.978Z"
   },
   {
    "duration": 84,
    "start_time": "2021-07-19T15:51:47.467Z"
   },
   {
    "duration": 268,
    "start_time": "2021-07-19T15:52:09.226Z"
   },
   {
    "duration": 2,
    "start_time": "2021-07-19T15:52:15.213Z"
   },
   {
    "duration": 271,
    "start_time": "2021-07-19T15:52:16.292Z"
   },
   {
    "duration": 257,
    "start_time": "2021-07-19T15:52:21.522Z"
   },
   {
    "duration": 57,
    "start_time": "2021-07-19T15:52:38.713Z"
   },
   {
    "duration": 8,
    "start_time": "2021-07-19T15:52:40.334Z"
   },
   {
    "duration": 12,
    "start_time": "2021-07-19T15:57:13.935Z"
   },
   {
    "duration": 4575,
    "start_time": "2021-07-19T15:59:50.627Z"
   },
   {
    "duration": 42,
    "start_time": "2021-07-19T15:59:55.162Z"
   },
   {
    "duration": 117,
    "start_time": "2021-07-19T16:00:50.285Z"
   },
   {
    "duration": 923,
    "start_time": "2021-07-19T16:01:02.144Z"
   },
   {
    "duration": 7638,
    "start_time": "2021-07-19T16:01:20.574Z"
   },
   {
    "duration": -29,
    "start_time": "2021-07-19T16:01:28.243Z"
   },
   {
    "duration": 55,
    "start_time": "2021-07-19T16:01:39.492Z"
   },
   {
    "duration": 11,
    "start_time": "2021-07-19T16:01:47.990Z"
   },
   {
    "duration": 151,
    "start_time": "2021-07-19T16:03:58.793Z"
   },
   {
    "duration": 2,
    "start_time": "2021-07-19T16:04:03.383Z"
   },
   {
    "duration": 101,
    "start_time": "2021-07-19T16:04:04.078Z"
   },
   {
    "duration": 66,
    "start_time": "2021-07-19T16:04:11.736Z"
   },
   {
    "duration": 39,
    "start_time": "2021-07-19T16:22:53.580Z"
   },
   {
    "duration": 9,
    "start_time": "2021-07-19T16:23:32.405Z"
   },
   {
    "duration": 268,
    "start_time": "2021-07-19T17:23:01.686Z"
   },
   {
    "duration": 255,
    "start_time": "2021-07-19T17:23:28.827Z"
   },
   {
    "duration": 50,
    "start_time": "2021-07-19T17:24:31.586Z"
   },
   {
    "duration": 290,
    "start_time": "2021-07-19T17:28:15.400Z"
   },
   {
    "duration": 262,
    "start_time": "2021-07-19T17:28:36.671Z"
   },
   {
    "duration": 49,
    "start_time": "2021-07-19T17:28:46.243Z"
   },
   {
    "duration": 34,
    "start_time": "2021-07-19T17:40:45.819Z"
   },
   {
    "duration": 65,
    "start_time": "2021-07-19T17:41:33.073Z"
   },
   {
    "duration": 80,
    "start_time": "2021-07-19T17:46:04.811Z"
   },
   {
    "duration": 2,
    "start_time": "2021-07-19T17:46:08.368Z"
   },
   {
    "duration": 61,
    "start_time": "2021-07-19T17:46:08.870Z"
   },
   {
    "duration": 11,
    "start_time": "2021-07-19T17:46:09.532Z"
   },
   {
    "duration": 42,
    "start_time": "2021-07-19T17:46:32.828Z"
   },
   {
    "duration": 2,
    "start_time": "2021-07-19T17:46:36.602Z"
   },
   {
    "duration": 63,
    "start_time": "2021-07-19T17:46:37.153Z"
   },
   {
    "duration": 11,
    "start_time": "2021-07-19T17:46:37.815Z"
   },
   {
    "duration": 7124,
    "start_time": "2021-07-19T17:46:39.092Z"
   },
   {
    "duration": 12,
    "start_time": "2021-07-19T17:46:53.197Z"
   },
   {
    "duration": 14,
    "start_time": "2021-07-19T17:47:29.310Z"
   },
   {
    "duration": 291,
    "start_time": "2021-07-19T18:24:55.132Z"
   },
   {
    "duration": 286,
    "start_time": "2021-07-19T18:25:14.023Z"
   },
   {
    "duration": 349,
    "start_time": "2021-07-19T18:25:36.625Z"
   },
   {
    "duration": 313,
    "start_time": "2021-07-19T18:31:38.558Z"
   },
   {
    "duration": 38,
    "start_time": "2021-07-19T18:31:57.853Z"
   },
   {
    "duration": 7,
    "start_time": "2021-07-19T18:33:35.704Z"
   },
   {
    "duration": 7,
    "start_time": "2021-07-19T18:35:29.613Z"
   },
   {
    "duration": 7,
    "start_time": "2021-07-19T18:35:39.028Z"
   },
   {
    "duration": 747,
    "start_time": "2021-07-19T18:36:40.103Z"
   },
   {
    "duration": 62,
    "start_time": "2021-07-19T18:36:40.852Z"
   },
   {
    "duration": 10,
    "start_time": "2021-07-19T18:36:40.916Z"
   },
   {
    "duration": 14,
    "start_time": "2021-07-19T18:36:40.928Z"
   },
   {
    "duration": 6,
    "start_time": "2021-07-19T18:40:21.069Z"
   },
   {
    "duration": 6,
    "start_time": "2021-07-19T18:40:35.425Z"
   },
   {
    "duration": 2,
    "start_time": "2021-07-19T18:40:38.835Z"
   },
   {
    "duration": 63,
    "start_time": "2021-07-19T18:40:39.609Z"
   },
   {
    "duration": 11,
    "start_time": "2021-07-19T18:40:40.400Z"
   },
   {
    "duration": 6,
    "start_time": "2021-07-19T18:40:52.536Z"
   },
   {
    "duration": 20,
    "start_time": "2021-07-19T18:41:08.285Z"
   },
   {
    "duration": 36,
    "start_time": "2021-07-19T18:44:51.858Z"
   },
   {
    "duration": 34,
    "start_time": "2021-07-19T18:47:26.907Z"
   },
   {
    "duration": 16,
    "start_time": "2021-07-19T18:58:58.947Z"
   },
   {
    "duration": 9,
    "start_time": "2021-07-19T19:19:08.956Z"
   },
   {
    "duration": 34,
    "start_time": "2021-07-19T19:22:18.001Z"
   },
   {
    "duration": 21,
    "start_time": "2021-07-19T19:23:48.998Z"
   },
   {
    "duration": 21,
    "start_time": "2021-07-19T19:25:54.068Z"
   },
   {
    "duration": 95,
    "start_time": "2021-07-19T19:28:49.635Z"
   },
   {
    "duration": 7,
    "start_time": "2021-07-19T19:28:56.228Z"
   },
   {
    "duration": 76,
    "start_time": "2021-07-19T19:31:38.533Z"
   },
   {
    "duration": 405,
    "start_time": "2021-07-19T19:37:37.748Z"
   },
   {
    "duration": 262,
    "start_time": "2021-07-19T19:37:43.476Z"
   },
   {
    "duration": 299,
    "start_time": "2021-07-19T19:37:58.508Z"
   },
   {
    "duration": 74,
    "start_time": "2021-07-19T19:38:06.415Z"
   },
   {
    "duration": 349,
    "start_time": "2021-07-20T07:10:09.092Z"
   },
   {
    "duration": 853,
    "start_time": "2021-07-20T07:10:14.697Z"
   },
   {
    "duration": 109,
    "start_time": "2021-07-20T07:10:15.552Z"
   },
   {
    "duration": 16,
    "start_time": "2021-07-20T07:10:15.752Z"
   },
   {
    "duration": 183,
    "start_time": "2021-07-20T07:10:17.352Z"
   },
   {
    "duration": 166,
    "start_time": "2021-07-20T07:10:27.105Z"
   },
   {
    "duration": 605,
    "start_time": "2021-07-20T07:20:44.511Z"
   },
   {
    "duration": 1089,
    "start_time": "2021-07-20T07:26:36.338Z"
   },
   {
    "duration": 220,
    "start_time": "2021-07-20T07:26:58.015Z"
   },
   {
    "duration": 80,
    "start_time": "2021-07-20T07:29:52.528Z"
   },
   {
    "duration": 108,
    "start_time": "2021-07-20T09:20:33.749Z"
   },
   {
    "duration": 237,
    "start_time": "2021-07-20T09:24:12.418Z"
   },
   {
    "duration": 81,
    "start_time": "2021-07-20T09:25:41.969Z"
   },
   {
    "duration": 77,
    "start_time": "2021-07-20T09:25:45.791Z"
   },
   {
    "duration": 84,
    "start_time": "2021-07-20T09:26:00.192Z"
   },
   {
    "duration": 79,
    "start_time": "2021-07-20T09:28:23.610Z"
   },
   {
    "duration": 68,
    "start_time": "2021-07-20T09:44:29.091Z"
   },
   {
    "duration": 107,
    "start_time": "2021-07-20T09:54:36.408Z"
   },
   {
    "duration": 108,
    "start_time": "2021-07-20T10:00:05.288Z"
   },
   {
    "duration": 93,
    "start_time": "2021-07-20T10:00:20.707Z"
   },
   {
    "duration": 319,
    "start_time": "2021-07-20T10:11:17.025Z"
   },
   {
    "duration": 332,
    "start_time": "2021-07-20T10:11:42.675Z"
   },
   {
    "duration": 11,
    "start_time": "2021-07-20T10:11:54.975Z"
   },
   {
    "duration": 112,
    "start_time": "2021-07-20T10:12:24.512Z"
   },
   {
    "duration": 8,
    "start_time": "2021-07-20T10:12:40.052Z"
   },
   {
    "duration": 7,
    "start_time": "2021-07-20T10:13:05.569Z"
   },
   {
    "duration": 8,
    "start_time": "2021-07-20T10:13:17.866Z"
   },
   {
    "duration": 8,
    "start_time": "2021-07-20T10:13:20.128Z"
   },
   {
    "duration": 8,
    "start_time": "2021-07-20T10:13:27.519Z"
   },
   {
    "duration": 313,
    "start_time": "2021-07-20T10:13:34.989Z"
   },
   {
    "duration": 312,
    "start_time": "2021-07-20T10:14:39.924Z"
   },
   {
    "duration": 318,
    "start_time": "2021-07-20T10:15:03.650Z"
   },
   {
    "duration": 14,
    "start_time": "2021-07-20T10:15:23.268Z"
   },
   {
    "duration": 8,
    "start_time": "2021-07-20T10:15:58.773Z"
   },
   {
    "duration": 8,
    "start_time": "2021-07-20T10:16:44.988Z"
   },
   {
    "duration": 25,
    "start_time": "2021-07-20T10:16:56.308Z"
   },
   {
    "duration": -49,
    "start_time": "2021-07-20T10:17:32.108Z"
   },
   {
    "duration": 4,
    "start_time": "2021-07-20T10:17:35.152Z"
   },
   {
    "duration": 113,
    "start_time": "2021-07-20T10:17:35.636Z"
   },
   {
    "duration": 16,
    "start_time": "2021-07-20T10:17:36.095Z"
   },
   {
    "duration": 65,
    "start_time": "2021-07-20T10:17:36.651Z"
   },
   {
    "duration": 103,
    "start_time": "2021-07-20T10:17:38.911Z"
   },
   {
    "duration": 93,
    "start_time": "2021-07-20T10:17:40.215Z"
   },
   {
    "duration": -17,
    "start_time": "2021-07-20T10:17:50.131Z"
   },
   {
    "duration": 378,
    "start_time": "2021-07-20T10:18:25.258Z"
   },
   {
    "duration": 348,
    "start_time": "2021-07-20T10:18:42.268Z"
   },
   {
    "duration": 11,
    "start_time": "2021-07-20T10:19:09.148Z"
   },
   {
    "duration": 129,
    "start_time": "2021-07-20T10:21:55.132Z"
   },
   {
    "duration": 113,
    "start_time": "2021-07-20T10:22:17.224Z"
   },
   {
    "duration": 118,
    "start_time": "2021-07-20T10:23:03.878Z"
   },
   {
    "duration": 112,
    "start_time": "2021-07-20T10:23:20.296Z"
   },
   {
    "duration": 336,
    "start_time": "2021-07-20T10:23:28.870Z"
   },
   {
    "duration": 66,
    "start_time": "2021-07-20T10:23:53.191Z"
   },
   {
    "duration": 57,
    "start_time": "2021-07-20T10:25:40.385Z"
   },
   {
    "duration": 59,
    "start_time": "2021-07-20T10:26:04.785Z"
   },
   {
    "duration": 75,
    "start_time": "2021-07-20T10:27:03.724Z"
   },
   {
    "duration": 10,
    "start_time": "2021-07-20T10:32:53.778Z"
   },
   {
    "duration": 16,
    "start_time": "2021-07-20T10:33:07.254Z"
   },
   {
    "duration": 21,
    "start_time": "2021-07-20T10:33:22.781Z"
   },
   {
    "duration": 6,
    "start_time": "2021-07-20T10:34:21.865Z"
   },
   {
    "duration": 5,
    "start_time": "2021-07-20T11:04:09.255Z"
   },
   {
    "duration": 8,
    "start_time": "2021-07-20T11:05:27.354Z"
   },
   {
    "duration": 115,
    "start_time": "2021-07-20T12:07:52.029Z"
   },
   {
    "duration": 14952,
    "start_time": "2021-07-20T12:08:53.149Z"
   },
   {
    "duration": 8537,
    "start_time": "2021-07-20T12:12:08.959Z"
   },
   {
    "duration": 8565,
    "start_time": "2021-07-20T12:14:51.974Z"
   },
   {
    "duration": 9330,
    "start_time": "2021-07-20T12:15:15.317Z"
   },
   {
    "duration": 800,
    "start_time": "2021-07-20T12:16:07.531Z"
   },
   {
    "duration": 601,
    "start_time": "2021-07-20T12:16:41.267Z"
   },
   {
    "duration": 692,
    "start_time": "2021-07-20T12:17:32.241Z"
   },
   {
    "duration": 1249,
    "start_time": "2021-07-20T12:19:49.073Z"
   },
   {
    "duration": 1236,
    "start_time": "2021-07-20T12:21:16.503Z"
   },
   {
    "duration": 1250,
    "start_time": "2021-07-20T12:21:22.891Z"
   },
   {
    "duration": 1252,
    "start_time": "2021-07-20T12:21:59.315Z"
   },
   {
    "duration": 1390,
    "start_time": "2021-07-20T12:22:14.710Z"
   },
   {
    "duration": 756,
    "start_time": "2021-07-20T12:31:57.936Z"
   },
   {
    "duration": 706,
    "start_time": "2021-07-20T12:32:50.912Z"
   },
   {
    "duration": 104,
    "start_time": "2021-07-20T12:33:34.183Z"
   },
   {
    "duration": 1096,
    "start_time": "2021-07-20T12:33:40.425Z"
   },
   {
    "duration": 791,
    "start_time": "2021-07-20T12:35:49.269Z"
   },
   {
    "duration": 336,
    "start_time": "2021-07-20T12:36:15.586Z"
   },
   {
    "duration": 753,
    "start_time": "2021-07-20T12:36:39.065Z"
   },
   {
    "duration": 4,
    "start_time": "2021-07-20T12:38:13.655Z"
   },
   {
    "duration": 105,
    "start_time": "2021-07-20T12:38:14.081Z"
   },
   {
    "duration": 16,
    "start_time": "2021-07-20T12:38:14.543Z"
   },
   {
    "duration": 82,
    "start_time": "2021-07-20T12:38:15.233Z"
   },
   {
    "duration": 99,
    "start_time": "2021-07-20T12:38:19.496Z"
   },
   {
    "duration": 96,
    "start_time": "2021-07-20T12:38:20.935Z"
   },
   {
    "duration": 60,
    "start_time": "2021-07-20T12:38:23.270Z"
   },
   {
    "duration": 6,
    "start_time": "2021-07-20T12:38:27.866Z"
   },
   {
    "duration": 6,
    "start_time": "2021-07-20T12:38:29.934Z"
   },
   {
    "duration": 734,
    "start_time": "2021-07-20T12:38:32.683Z"
   },
   {
    "duration": 1204,
    "start_time": "2021-07-20T12:38:42.652Z"
   },
   {
    "duration": 4,
    "start_time": "2021-07-20T12:39:28.851Z"
   },
   {
    "duration": 100,
    "start_time": "2021-07-20T12:39:29.370Z"
   },
   {
    "duration": 15,
    "start_time": "2021-07-20T12:39:29.966Z"
   },
   {
    "duration": 67,
    "start_time": "2021-07-20T12:39:30.597Z"
   },
   {
    "duration": 99,
    "start_time": "2021-07-20T12:39:33.602Z"
   },
   {
    "duration": 101,
    "start_time": "2021-07-20T12:39:35.154Z"
   },
   {
    "duration": 61,
    "start_time": "2021-07-20T12:39:36.430Z"
   },
   {
    "duration": 6,
    "start_time": "2021-07-20T12:39:37.741Z"
   },
   {
    "duration": 6,
    "start_time": "2021-07-20T12:39:39.044Z"
   },
   {
    "duration": 724,
    "start_time": "2021-07-20T12:39:40.867Z"
   },
   {
    "duration": 14,
    "start_time": "2021-07-20T12:42:34.806Z"
   },
   {
    "duration": 40,
    "start_time": "2021-07-20T12:42:53.799Z"
   },
   {
    "duration": 3,
    "start_time": "2021-07-20T12:42:59.466Z"
   },
   {
    "duration": 105,
    "start_time": "2021-07-20T12:42:59.859Z"
   },
   {
    "duration": 16,
    "start_time": "2021-07-20T12:43:00.140Z"
   },
   {
    "duration": 72,
    "start_time": "2021-07-20T12:43:00.578Z"
   },
   {
    "duration": 95,
    "start_time": "2021-07-20T12:43:02.707Z"
   },
   {
    "duration": 89,
    "start_time": "2021-07-20T12:43:03.751Z"
   },
   {
    "duration": 58,
    "start_time": "2021-07-20T12:43:04.989Z"
   },
   {
    "duration": 7,
    "start_time": "2021-07-20T12:43:06.361Z"
   },
   {
    "duration": 7,
    "start_time": "2021-07-20T12:43:07.654Z"
   },
   {
    "duration": 32,
    "start_time": "2021-07-20T12:43:08.826Z"
   },
   {
    "duration": 16,
    "start_time": "2021-07-20T12:43:32.339Z"
   },
   {
    "duration": 17,
    "start_time": "2021-07-20T12:44:40.864Z"
   },
   {
    "duration": 23,
    "start_time": "2021-07-20T13:39:46.822Z"
   },
   {
    "duration": 6,
    "start_time": "2021-07-20T13:39:46.913Z"
   },
   {
    "duration": 6,
    "start_time": "2021-07-20T13:39:48.388Z"
   },
   {
    "duration": 294,
    "start_time": "2021-07-20T13:39:49.454Z"
   },
   {
    "duration": 32,
    "start_time": "2021-07-20T13:40:04.558Z"
   },
   {
    "duration": 70,
    "start_time": "2021-07-20T13:40:28.854Z"
   },
   {
    "duration": 385,
    "start_time": "2021-07-20T13:47:18.869Z"
   },
   {
    "duration": 695,
    "start_time": "2021-07-20T13:47:28.212Z"
   },
   {
    "duration": 722,
    "start_time": "2021-07-20T13:48:06.157Z"
   },
   {
    "duration": 701,
    "start_time": "2021-07-20T13:48:18.684Z"
   },
   {
    "duration": 694,
    "start_time": "2021-07-20T13:49:35.243Z"
   },
   {
    "duration": 692,
    "start_time": "2021-07-20T13:50:01.329Z"
   },
   {
    "duration": 693,
    "start_time": "2021-07-20T13:53:54.782Z"
   },
   {
    "duration": 20,
    "start_time": "2021-07-20T13:54:55.720Z"
   },
   {
    "duration": 96,
    "start_time": "2021-07-20T13:56:38.725Z"
   },
   {
    "duration": 5,
    "start_time": "2021-07-20T14:36:47.009Z"
   },
   {
    "duration": 12,
    "start_time": "2021-07-20T14:37:09.565Z"
   },
   {
    "duration": 11,
    "start_time": "2021-07-20T14:37:47.636Z"
   },
   {
    "duration": 12,
    "start_time": "2021-07-20T14:39:07.130Z"
   },
   {
    "duration": 12,
    "start_time": "2021-07-20T14:39:14.094Z"
   },
   {
    "duration": 334,
    "start_time": "2021-07-20T14:39:53.391Z"
   },
   {
    "duration": 312,
    "start_time": "2021-07-20T14:40:01.309Z"
   },
   {
    "duration": 33,
    "start_time": "2021-07-20T14:40:06.879Z"
   },
   {
    "duration": 10,
    "start_time": "2021-07-20T14:40:48.988Z"
   },
   {
    "duration": 317,
    "start_time": "2021-07-20T14:41:05.052Z"
   },
   {
    "duration": 7,
    "start_time": "2021-07-20T14:41:11.388Z"
   },
   {
    "duration": 33,
    "start_time": "2021-07-20T14:41:41.366Z"
   },
   {
    "duration": 4,
    "start_time": "2021-07-20T14:41:41.639Z"
   },
   {
    "duration": 100,
    "start_time": "2021-07-20T14:41:44.518Z"
   },
   {
    "duration": 15,
    "start_time": "2021-07-20T14:41:45.310Z"
   },
   {
    "duration": 64,
    "start_time": "2021-07-20T14:41:45.948Z"
   },
   {
    "duration": 98,
    "start_time": "2021-07-20T14:41:48.574Z"
   },
   {
    "duration": 92,
    "start_time": "2021-07-20T14:41:49.739Z"
   },
   {
    "duration": 57,
    "start_time": "2021-07-20T14:41:50.863Z"
   },
   {
    "duration": 7,
    "start_time": "2021-07-20T14:41:52.296Z"
   },
   {
    "duration": 7,
    "start_time": "2021-07-20T14:41:53.249Z"
   },
   {
    "duration": 674,
    "start_time": "2021-07-20T14:41:54.249Z"
   },
   {
    "duration": -2234,
    "start_time": "2021-07-20T14:42:06.379Z"
   },
   {
    "duration": 7747,
    "start_time": "2021-07-20T14:42:25.329Z"
   },
   {
    "duration": -43,
    "start_time": "2021-07-20T14:42:33.122Z"
   },
   {
    "duration": -46,
    "start_time": "2021-07-20T14:42:33.127Z"
   },
   {
    "duration": 17,
    "start_time": "2021-07-20T14:42:33.159Z"
   },
   {
    "duration": 88,
    "start_time": "2021-07-20T14:42:34.016Z"
   },
   {
    "duration": 98,
    "start_time": "2021-07-20T14:42:37.078Z"
   },
   {
    "duration": 90,
    "start_time": "2021-07-20T14:42:38.549Z"
   },
   {
    "duration": 33,
    "start_time": "2021-07-20T14:42:39.887Z"
   },
   {
    "duration": 6,
    "start_time": "2021-07-20T14:42:41.080Z"
   },
   {
    "duration": 7,
    "start_time": "2021-07-20T14:42:42.035Z"
   },
   {
    "duration": 684,
    "start_time": "2021-07-20T14:42:43.228Z"
   },
   {
    "duration": 7850,
    "start_time": "2021-07-20T14:42:44.594Z"
   },
   {
    "duration": 10,
    "start_time": "2021-07-20T14:43:00.475Z"
   },
   {
    "duration": 8,
    "start_time": "2021-07-20T14:47:10.587Z"
   },
   {
    "duration": 108,
    "start_time": "2021-07-20T14:50:51.467Z"
   },
   {
    "duration": 32,
    "start_time": "2021-07-20T14:51:00.302Z"
   },
   {
    "duration": 33,
    "start_time": "2021-07-20T14:51:49.914Z"
   },
   {
    "duration": 34,
    "start_time": "2021-07-20T14:51:59.523Z"
   },
   {
    "duration": 34,
    "start_time": "2021-07-20T14:52:45.523Z"
   },
   {
    "duration": 10,
    "start_time": "2021-07-20T14:52:50.800Z"
   },
   {
    "duration": 100,
    "start_time": "2021-07-20T14:53:04.146Z"
   },
   {
    "duration": 32,
    "start_time": "2021-07-20T14:54:01.486Z"
   },
   {
    "duration": 26,
    "start_time": "2021-07-20T14:54:22.083Z"
   },
   {
    "duration": 7,
    "start_time": "2021-07-20T14:55:27.627Z"
   },
   {
    "duration": 24,
    "start_time": "2021-07-20T14:57:18.001Z"
   },
   {
    "duration": 30,
    "start_time": "2021-07-20T14:57:37.443Z"
   },
   {
    "duration": 14,
    "start_time": "2021-07-20T14:57:57.097Z"
   },
   {
    "duration": 122,
    "start_time": "2021-07-20T14:58:04.980Z"
   },
   {
    "duration": 113,
    "start_time": "2021-07-20T14:58:18.230Z"
   },
   {
    "duration": 23,
    "start_time": "2021-07-20T14:58:24.265Z"
   },
   {
    "duration": 8,
    "start_time": "2021-07-20T15:00:59.268Z"
   },
   {
    "duration": 7,
    "start_time": "2021-07-20T15:09:09.111Z"
   },
   {
    "duration": 7712,
    "start_time": "2021-07-20T15:09:22.599Z"
   },
   {
    "duration": 586,
    "start_time": "2021-07-20T15:10:14.485Z"
   },
   {
    "duration": 8,
    "start_time": "2021-07-20T15:11:02.184Z"
   },
   {
    "duration": 4,
    "start_time": "2021-07-20T15:11:15.999Z"
   },
   {
    "duration": 112,
    "start_time": "2021-07-20T15:11:16.582Z"
   },
   {
    "duration": 16,
    "start_time": "2021-07-20T15:11:17.109Z"
   },
   {
    "duration": 65,
    "start_time": "2021-07-20T15:11:17.710Z"
   },
   {
    "duration": 103,
    "start_time": "2021-07-20T15:11:20.240Z"
   },
   {
    "duration": 94,
    "start_time": "2021-07-20T15:11:21.498Z"
   },
   {
    "duration": 60,
    "start_time": "2021-07-20T15:11:22.750Z"
   },
   {
    "duration": 6,
    "start_time": "2021-07-20T15:11:24.085Z"
   },
   {
    "duration": 8,
    "start_time": "2021-07-20T15:11:24.976Z"
   },
   {
    "duration": 713,
    "start_time": "2021-07-20T15:11:26.021Z"
   },
   {
    "duration": 9,
    "start_time": "2021-07-20T15:11:27.551Z"
   },
   {
    "duration": 583,
    "start_time": "2021-07-20T15:11:29.094Z"
   },
   {
    "duration": 502,
    "start_time": "2021-07-20T15:13:03.147Z"
   },
   {
    "duration": 4,
    "start_time": "2021-07-20T15:13:25.327Z"
   },
   {
    "duration": 109,
    "start_time": "2021-07-20T15:13:25.801Z"
   },
   {
    "duration": 16,
    "start_time": "2021-07-20T15:13:26.478Z"
   },
   {
    "duration": 86,
    "start_time": "2021-07-20T15:13:27.090Z"
   },
   {
    "duration": 108,
    "start_time": "2021-07-20T15:13:29.255Z"
   },
   {
    "duration": 92,
    "start_time": "2021-07-20T15:13:30.200Z"
   },
   {
    "duration": 61,
    "start_time": "2021-07-20T15:13:31.190Z"
   },
   {
    "duration": 5,
    "start_time": "2021-07-20T15:13:32.191Z"
   },
   {
    "duration": 6,
    "start_time": "2021-07-20T15:13:33.137Z"
   },
   {
    "duration": 710,
    "start_time": "2021-07-20T15:13:34.138Z"
   },
   {
    "duration": 9,
    "start_time": "2021-07-20T15:13:35.250Z"
   },
   {
    "duration": 789,
    "start_time": "2021-07-20T15:13:37.513Z"
   },
   {
    "duration": 4,
    "start_time": "2021-07-20T15:14:14.705Z"
   },
   {
    "duration": 139,
    "start_time": "2021-07-20T15:14:15.141Z"
   },
   {
    "duration": 25,
    "start_time": "2021-07-20T15:14:15.616Z"
   },
   {
    "duration": 119,
    "start_time": "2021-07-20T15:14:16.179Z"
   },
   {
    "duration": 110,
    "start_time": "2021-07-20T15:14:18.375Z"
   },
   {
    "duration": 98,
    "start_time": "2021-07-20T15:14:19.261Z"
   },
   {
    "duration": 61,
    "start_time": "2021-07-20T15:14:20.173Z"
   },
   {
    "duration": 6,
    "start_time": "2021-07-20T15:14:21.050Z"
   },
   {
    "duration": 6,
    "start_time": "2021-07-20T15:14:21.974Z"
   },
   {
    "duration": 727,
    "start_time": "2021-07-20T15:14:22.750Z"
   },
   {
    "duration": 8,
    "start_time": "2021-07-20T15:14:23.885Z"
   },
   {
    "duration": 599,
    "start_time": "2021-07-20T15:14:26.351Z"
   },
   {
    "duration": 552,
    "start_time": "2021-07-20T15:17:28.313Z"
   },
   {
    "duration": 120,
    "start_time": "2021-07-20T15:17:35.193Z"
   },
   {
    "duration": 15,
    "start_time": "2021-07-20T15:17:37.280Z"
   },
   {
    "duration": 602,
    "start_time": "2021-07-20T15:17:42.622Z"
   },
   {
    "duration": 628,
    "start_time": "2021-07-20T15:21:03.260Z"
   },
   {
    "duration": 115,
    "start_time": "2021-07-20T15:22:54.330Z"
   },
   {
    "duration": 631,
    "start_time": "2021-07-20T15:22:59.085Z"
   },
   {
    "duration": 606,
    "start_time": "2021-07-20T15:24:54.771Z"
   },
   {
    "duration": 623,
    "start_time": "2021-07-20T15:27:36.123Z"
   },
   {
    "duration": 647,
    "start_time": "2021-07-20T15:40:50.851Z"
   },
   {
    "duration": 721,
    "start_time": "2021-07-20T15:43:37.209Z"
   },
   {
    "duration": 325,
    "start_time": "2021-07-20T15:44:41.197Z"
   },
   {
    "duration": 659,
    "start_time": "2021-07-20T15:44:46.294Z"
   },
   {
    "duration": 35,
    "start_time": "2021-07-20T15:47:29.564Z"
   },
   {
    "duration": 39,
    "start_time": "2021-07-20T15:48:34.884Z"
   },
   {
    "duration": 36,
    "start_time": "2021-07-20T15:48:51.040Z"
   },
   {
    "duration": 2521,
    "start_time": "2021-07-20T15:51:15.665Z"
   },
   {
    "duration": 2557,
    "start_time": "2021-07-20T15:52:22.431Z"
   },
   {
    "duration": 4,
    "start_time": "2021-07-20T15:52:38.641Z"
   },
   {
    "duration": 104,
    "start_time": "2021-07-20T15:52:39.204Z"
   },
   {
    "duration": 17,
    "start_time": "2021-07-20T15:52:39.838Z"
   },
   {
    "duration": 66,
    "start_time": "2021-07-20T15:52:40.871Z"
   },
   {
    "duration": 109,
    "start_time": "2021-07-20T15:52:44.245Z"
   },
   {
    "duration": 98,
    "start_time": "2021-07-20T15:52:45.989Z"
   },
   {
    "duration": 61,
    "start_time": "2021-07-20T15:52:47.565Z"
   },
   {
    "duration": 6,
    "start_time": "2021-07-20T15:52:48.978Z"
   },
   {
    "duration": 6,
    "start_time": "2021-07-20T15:52:50.602Z"
   },
   {
    "duration": 708,
    "start_time": "2021-07-20T15:52:51.883Z"
   },
   {
    "duration": 33,
    "start_time": "2021-07-20T15:52:54.425Z"
   },
   {
    "duration": 2575,
    "start_time": "2021-07-20T15:52:56.203Z"
   },
   {
    "duration": 30,
    "start_time": "2021-07-20T16:00:08.383Z"
   },
   {
    "duration": 57,
    "start_time": "2021-07-20T16:00:25.223Z"
   },
   {
    "duration": -86,
    "start_time": "2021-07-20T16:02:22.980Z"
   },
   {
    "duration": 8121,
    "start_time": "2021-07-20T16:02:34.321Z"
   },
   {
    "duration": -39,
    "start_time": "2021-07-20T16:02:42.484Z"
   },
   {
    "duration": -41,
    "start_time": "2021-07-20T16:02:42.487Z"
   },
   {
    "duration": -42,
    "start_time": "2021-07-20T16:02:42.489Z"
   },
   {
    "duration": 74,
    "start_time": "2021-07-20T16:02:43.179Z"
   },
   {
    "duration": 106,
    "start_time": "2021-07-20T16:02:46.202Z"
   },
   {
    "duration": 95,
    "start_time": "2021-07-20T16:02:47.681Z"
   },
   {
    "duration": 26,
    "start_time": "2021-07-20T16:02:49.212Z"
   },
   {
    "duration": 5,
    "start_time": "2021-07-20T16:02:50.658Z"
   },
   {
    "duration": 6,
    "start_time": "2021-07-20T16:02:51.465Z"
   },
   {
    "duration": 712,
    "start_time": "2021-07-20T16:02:52.490Z"
   },
   {
    "duration": 12,
    "start_time": "2021-07-20T16:02:53.979Z"
   },
   {
    "duration": 2687,
    "start_time": "2021-07-20T16:02:56.140Z"
   },
   {
    "duration": -38,
    "start_time": "2021-07-20T16:03:10.655Z"
   },
   {
    "duration": -39,
    "start_time": "2021-07-20T16:03:10.659Z"
   },
   {
    "duration": 2646,
    "start_time": "2021-07-20T16:03:12.363Z"
   },
   {
    "duration": 7660,
    "start_time": "2021-07-20T16:03:18.930Z"
   },
   {
    "duration": 58,
    "start_time": "2021-07-20T16:03:39.733Z"
   },
   {
    "duration": 61,
    "start_time": "2021-07-20T16:07:59.949Z"
   },
   {
    "duration": 717,
    "start_time": "2021-07-20T16:11:27.699Z"
   },
   {
    "duration": 678,
    "start_time": "2021-07-20T16:12:14.130Z"
   },
   {
    "duration": 102,
    "start_time": "2021-07-20T16:14:09.210Z"
   },
   {
    "duration": 709,
    "start_time": "2021-07-20T16:14:18.135Z"
   },
   {
    "duration": 105,
    "start_time": "2021-07-20T16:17:11.898Z"
   },
   {
    "duration": 538,
    "start_time": "2021-07-20T16:17:58.238Z"
   },
   {
    "duration": 106,
    "start_time": "2021-07-20T16:18:09.250Z"
   },
   {
    "duration": 749,
    "start_time": "2021-07-20T16:19:04.571Z"
   },
   {
    "duration": 108,
    "start_time": "2021-07-20T16:19:43.843Z"
   },
   {
    "duration": 4,
    "start_time": "2021-07-20T16:19:57.839Z"
   },
   {
    "duration": 103,
    "start_time": "2021-07-20T16:19:58.381Z"
   },
   {
    "duration": 16,
    "start_time": "2021-07-20T16:19:58.862Z"
   },
   {
    "duration": 65,
    "start_time": "2021-07-20T16:19:59.351Z"
   },
   {
    "duration": 110,
    "start_time": "2021-07-20T16:20:02.006Z"
   },
   {
    "duration": 93,
    "start_time": "2021-07-20T16:20:03.137Z"
   },
   {
    "duration": 60,
    "start_time": "2021-07-20T16:20:04.199Z"
   },
   {
    "duration": 5,
    "start_time": "2021-07-20T16:20:05.537Z"
   },
   {
    "duration": 7,
    "start_time": "2021-07-20T16:20:06.479Z"
   },
   {
    "duration": 694,
    "start_time": "2021-07-20T16:20:07.456Z"
   },
   {
    "duration": 32,
    "start_time": "2021-07-20T16:20:08.453Z"
   },
   {
    "duration": 2523,
    "start_time": "2021-07-20T16:20:09.519Z"
   },
   {
    "duration": 721,
    "start_time": "2021-07-20T16:20:12.045Z"
   },
   {
    "duration": 4,
    "start_time": "2021-07-20T16:21:18.187Z"
   },
   {
    "duration": 97,
    "start_time": "2021-07-20T16:21:18.716Z"
   },
   {
    "duration": 15,
    "start_time": "2021-07-20T16:21:19.381Z"
   },
   {
    "duration": 67,
    "start_time": "2021-07-20T16:21:20.259Z"
   },
   {
    "duration": 94,
    "start_time": "2021-07-20T16:21:23.155Z"
   },
   {
    "duration": 93,
    "start_time": "2021-07-20T16:21:24.635Z"
   },
   {
    "duration": 59,
    "start_time": "2021-07-20T16:21:26.054Z"
   },
   {
    "duration": 6,
    "start_time": "2021-07-20T16:21:27.851Z"
   },
   {
    "duration": 5,
    "start_time": "2021-07-20T16:21:29.089Z"
   },
   {
    "duration": 722,
    "start_time": "2021-07-20T16:21:30.308Z"
   },
   {
    "duration": 35,
    "start_time": "2021-07-20T16:21:32.240Z"
   },
   {
    "duration": 2604,
    "start_time": "2021-07-20T16:21:33.658Z"
   },
   {
    "duration": 739,
    "start_time": "2021-07-20T16:21:36.264Z"
   },
   {
    "duration": 118,
    "start_time": "2021-07-20T16:22:00.510Z"
   },
   {
    "duration": 743,
    "start_time": "2021-07-20T16:22:23.078Z"
   },
   {
    "duration": 782,
    "start_time": "2021-07-20T16:23:46.597Z"
   },
   {
    "duration": 759,
    "start_time": "2021-07-20T16:24:05.085Z"
   },
   {
    "duration": 1151,
    "start_time": "2021-07-20T16:24:13.209Z"
   },
   {
    "duration": 784,
    "start_time": "2021-07-20T16:24:20.462Z"
   },
   {
    "duration": 755,
    "start_time": "2021-07-20T16:25:29.832Z"
   },
   {
    "duration": 738,
    "start_time": "2021-07-20T16:25:35.794Z"
   },
   {
    "duration": 16,
    "start_time": "2021-07-20T16:27:41.222Z"
   },
   {
    "duration": 7891,
    "start_time": "2021-07-20T16:28:08.663Z"
   },
   {
    "duration": -77,
    "start_time": "2021-07-20T16:28:27.317Z"
   },
   {
    "duration": 3,
    "start_time": "2021-07-20T16:28:30.777Z"
   },
   {
    "duration": 104,
    "start_time": "2021-07-20T16:28:31.362Z"
   },
   {
    "duration": 15,
    "start_time": "2021-07-20T16:28:31.902Z"
   },
   {
    "duration": 69,
    "start_time": "2021-07-20T16:28:32.666Z"
   },
   {
    "duration": 106,
    "start_time": "2021-07-20T16:28:35.685Z"
   },
   {
    "duration": 98,
    "start_time": "2021-07-20T16:28:37.120Z"
   },
   {
    "duration": 62,
    "start_time": "2021-07-20T16:28:38.799Z"
   },
   {
    "duration": 6,
    "start_time": "2021-07-20T16:28:40.339Z"
   },
   {
    "duration": 6,
    "start_time": "2021-07-20T16:28:41.510Z"
   },
   {
    "duration": 695,
    "start_time": "2021-07-20T16:28:42.792Z"
   },
   {
    "duration": 33,
    "start_time": "2021-07-20T16:28:44.324Z"
   },
   {
    "duration": 2743,
    "start_time": "2021-07-20T16:28:45.942Z"
   },
   {
    "duration": 730,
    "start_time": "2021-07-20T16:28:48.687Z"
   },
   {
    "duration": 8311,
    "start_time": "2021-07-20T16:28:49.419Z"
   },
   {
    "duration": 10,
    "start_time": "2021-07-20T16:29:37.795Z"
   },
   {
    "duration": 12,
    "start_time": "2021-07-20T16:30:22.164Z"
   },
   {
    "duration": 21,
    "start_time": "2021-07-20T16:30:39.799Z"
   },
   {
    "duration": 24,
    "start_time": "2021-07-20T16:31:00.562Z"
   },
   {
    "duration": 16,
    "start_time": "2021-07-20T16:50:36.305Z"
   },
   {
    "duration": 16,
    "start_time": "2021-07-20T16:53:57.927Z"
   },
   {
    "duration": 684,
    "start_time": "2021-07-20T16:59:16.862Z"
   },
   {
    "duration": 107,
    "start_time": "2021-07-20T17:08:23.321Z"
   },
   {
    "duration": 954,
    "start_time": "2021-07-20T17:08:31.093Z"
   },
   {
    "duration": 940,
    "start_time": "2021-07-20T17:09:58.753Z"
   },
   {
    "duration": 910,
    "start_time": "2021-07-20T17:10:19.498Z"
   },
   {
    "duration": 955,
    "start_time": "2021-07-20T17:10:34.632Z"
   },
   {
    "duration": 37,
    "start_time": "2021-07-20T17:14:26.527Z"
   },
   {
    "duration": 65,
    "start_time": "2021-07-20T17:14:36.582Z"
   },
   {
    "duration": 1094,
    "start_time": "2021-07-20T17:14:53.341Z"
   },
   {
    "duration": 214,
    "start_time": "2021-07-20T17:38:46.315Z"
   },
   {
    "duration": 125,
    "start_time": "2021-07-20T17:40:18.209Z"
   },
   {
    "duration": 130,
    "start_time": "2021-07-20T17:40:36.111Z"
   },
   {
    "duration": 328,
    "start_time": "2021-07-20T17:40:50.170Z"
   },
   {
    "duration": 35,
    "start_time": "2021-07-20T17:41:34.363Z"
   },
   {
    "duration": 134,
    "start_time": "2021-07-20T17:41:57.498Z"
   },
   {
    "duration": 63,
    "start_time": "2021-07-20T17:42:09.915Z"
   },
   {
    "duration": 62,
    "start_time": "2021-07-20T17:43:16.563Z"
   },
   {
    "duration": 65,
    "start_time": "2021-07-20T17:43:49.818Z"
   },
   {
    "duration": 69,
    "start_time": "2021-07-20T17:44:35.144Z"
   },
   {
    "duration": 69,
    "start_time": "2021-07-20T17:45:05.487Z"
   },
   {
    "duration": 98,
    "start_time": "2021-07-20T17:46:25.036Z"
   },
   {
    "duration": 70,
    "start_time": "2021-07-20T17:50:55.815Z"
   },
   {
    "duration": 65,
    "start_time": "2021-07-20T17:52:12.949Z"
   },
   {
    "duration": 63,
    "start_time": "2021-07-20T17:52:28.889Z"
   },
   {
    "duration": 58,
    "start_time": "2021-07-20T17:52:59.028Z"
   },
   {
    "duration": 65,
    "start_time": "2021-07-20T17:53:58.079Z"
   },
   {
    "duration": 37,
    "start_time": "2021-07-20T17:54:48.007Z"
   },
   {
    "duration": 66,
    "start_time": "2021-07-20T17:55:15.345Z"
   },
   {
    "duration": 604,
    "start_time": "2021-07-21T12:50:58.006Z"
   },
   {
    "duration": 62,
    "start_time": "2021-07-21T12:50:58.611Z"
   },
   {
    "duration": 10,
    "start_time": "2021-07-21T12:50:59.422Z"
   },
   {
    "duration": 38,
    "start_time": "2021-07-21T12:51:00.554Z"
   },
   {
    "duration": 69,
    "start_time": "2021-07-21T12:51:04.732Z"
   },
   {
    "duration": 55,
    "start_time": "2021-07-21T12:51:06.324Z"
   },
   {
    "duration": 36,
    "start_time": "2021-07-21T12:51:08.001Z"
   },
   {
    "duration": 4,
    "start_time": "2021-07-21T12:51:09.450Z"
   },
   {
    "duration": 4,
    "start_time": "2021-07-21T12:51:10.696Z"
   },
   {
    "duration": 356,
    "start_time": "2021-07-21T12:51:11.862Z"
   },
   {
    "duration": 19,
    "start_time": "2021-07-21T12:51:13.604Z"
   },
   {
    "duration": 1287,
    "start_time": "2021-07-21T12:51:14.953Z"
   },
   {
    "duration": 361,
    "start_time": "2021-07-21T12:51:16.586Z"
   },
   {
    "duration": 15,
    "start_time": "2021-07-21T12:51:17.593Z"
   },
   {
    "duration": 10,
    "start_time": "2021-07-21T12:51:19.207Z"
   },
   {
    "duration": 484,
    "start_time": "2021-07-21T12:51:20.693Z"
   },
   {
    "duration": 23,
    "start_time": "2021-07-21T12:51:22.451Z"
   },
   {
    "duration": 16,
    "start_time": "2021-07-21T12:51:24.831Z"
   },
   {
    "duration": 1567,
    "start_time": "2021-07-21T12:51:27.341Z"
   },
   {
    "duration": 8,
    "start_time": "2021-07-21T12:51:49.760Z"
   },
   {
    "duration": 11,
    "start_time": "2021-07-21T12:52:13.597Z"
   },
   {
    "duration": 12,
    "start_time": "2021-07-21T13:19:06.678Z"
   },
   {
    "duration": 9,
    "start_time": "2021-07-21T13:39:10.707Z"
   },
   {
    "duration": 229,
    "start_time": "2021-07-21T13:48:59.072Z"
   },
   {
    "duration": 213,
    "start_time": "2021-07-21T13:49:07.877Z"
   },
   {
    "duration": 3,
    "start_time": "2021-07-21T13:49:43.541Z"
   },
   {
    "duration": 219,
    "start_time": "2021-07-21T13:49:58.237Z"
   },
   {
    "duration": 7,
    "start_time": "2021-07-21T14:05:08.672Z"
   },
   {
    "duration": 8,
    "start_time": "2021-07-21T14:05:34.372Z"
   },
   {
    "duration": 9,
    "start_time": "2021-07-21T14:05:43.683Z"
   },
   {
    "duration": 2,
    "start_time": "2021-07-21T14:17:43.665Z"
   },
   {
    "duration": 62,
    "start_time": "2021-07-21T14:17:44.240Z"
   },
   {
    "duration": 10,
    "start_time": "2021-07-21T14:17:44.814Z"
   },
   {
    "duration": 38,
    "start_time": "2021-07-21T14:17:45.406Z"
   },
   {
    "duration": 72,
    "start_time": "2021-07-21T14:17:48.128Z"
   },
   {
    "duration": 54,
    "start_time": "2021-07-21T14:17:49.456Z"
   },
   {
    "duration": 41,
    "start_time": "2021-07-21T14:17:50.900Z"
   },
   {
    "duration": 4,
    "start_time": "2021-07-21T14:17:52.187Z"
   },
   {
    "duration": 4,
    "start_time": "2021-07-21T14:17:53.276Z"
   },
   {
    "duration": 365,
    "start_time": "2021-07-21T14:17:54.313Z"
   },
   {
    "duration": 20,
    "start_time": "2021-07-21T14:17:55.588Z"
   },
   {
    "duration": 1413,
    "start_time": "2021-07-21T14:17:56.980Z"
   },
   {
    "duration": 375,
    "start_time": "2021-07-21T14:17:58.394Z"
   },
   {
    "duration": 14,
    "start_time": "2021-07-21T14:17:58.998Z"
   },
   {
    "duration": 11,
    "start_time": "2021-07-21T14:18:00.375Z"
   },
   {
    "duration": 479,
    "start_time": "2021-07-21T14:18:01.791Z"
   },
   {
    "duration": 23,
    "start_time": "2021-07-21T14:18:03.313Z"
   },
   {
    "duration": 13,
    "start_time": "2021-07-21T14:18:05.145Z"
   },
   {
    "duration": 15,
    "start_time": "2021-07-21T14:18:06.576Z"
   },
   {
    "duration": 78,
    "start_time": "2021-07-21T14:18:09.262Z"
   },
   {
    "duration": 78,
    "start_time": "2021-07-21T14:18:21.225Z"
   },
   {
    "duration": 310,
    "start_time": "2021-07-21T14:18:37.662Z"
   },
   {
    "duration": 419,
    "start_time": "2021-07-21T14:19:05.961Z"
   },
   {
    "duration": 444,
    "start_time": "2021-07-21T14:19:34.950Z"
   },
   {
    "duration": 646,
    "start_time": "2021-07-21T15:00:58.486Z"
   },
   {
    "duration": 443,
    "start_time": "2021-07-21T15:01:11.503Z"
   },
   {
    "duration": 500,
    "start_time": "2021-07-21T16:22:16.579Z"
   },
   {
    "duration": 5760,
    "start_time": "2021-07-21T16:23:32.959Z"
   },
   {
    "duration": 646,
    "start_time": "2021-07-21T16:24:12.885Z"
   },
   {
    "duration": 645,
    "start_time": "2021-07-21T16:25:24.348Z"
   },
   {
    "duration": 433,
    "start_time": "2021-07-21T16:25:49.753Z"
   },
   {
    "duration": 954,
    "start_time": "2021-07-21T16:37:50.500Z"
   },
   {
    "duration": 422,
    "start_time": "2021-07-21T16:39:37.019Z"
   },
   {
    "duration": 450,
    "start_time": "2021-07-21T16:39:52.196Z"
   },
   {
    "duration": 593,
    "start_time": "2021-07-21T17:16:59.886Z"
   },
   {
    "duration": 429,
    "start_time": "2021-07-21T17:18:11.966Z"
   },
   {
    "duration": 437,
    "start_time": "2021-07-21T17:18:27.976Z"
   },
   {
    "duration": 435,
    "start_time": "2021-07-21T17:19:16.269Z"
   },
   {
    "duration": 437,
    "start_time": "2021-07-21T17:19:29.061Z"
   },
   {
    "duration": 11,
    "start_time": "2021-07-21T18:16:28.646Z"
   },
   {
    "duration": 69,
    "start_time": "2021-07-21T18:23:07.126Z"
   },
   {
    "duration": 28,
    "start_time": "2021-07-21T18:24:09.338Z"
   },
   {
    "duration": 22,
    "start_time": "2021-07-21T18:29:34.388Z"
   },
   {
    "duration": 22,
    "start_time": "2021-07-21T18:29:51.824Z"
   },
   {
    "duration": 23,
    "start_time": "2021-07-21T18:32:20.703Z"
   },
   {
    "duration": 258,
    "start_time": "2021-07-21T18:35:56.353Z"
   },
   {
    "duration": 672,
    "start_time": "2021-07-21T18:36:05.127Z"
   },
   {
    "duration": 923,
    "start_time": "2021-07-21T18:36:34.635Z"
   },
   {
    "duration": 496,
    "start_time": "2021-07-21T18:36:54.569Z"
   },
   {
    "duration": 563,
    "start_time": "2021-07-21T18:37:00.656Z"
   },
   {
    "duration": 749,
    "start_time": "2021-07-21T18:37:51.777Z"
   },
   {
    "duration": 6351,
    "start_time": "2021-07-21T18:38:36.089Z"
   },
   {
    "duration": 1624,
    "start_time": "2021-07-21T18:38:42.715Z"
   },
   {
    "duration": 502,
    "start_time": "2021-07-21T18:44:59.178Z"
   },
   {
    "duration": 497,
    "start_time": "2021-07-21T18:45:42.120Z"
   },
   {
    "duration": 854,
    "start_time": "2021-07-22T15:31:42.104Z"
   },
   {
    "duration": 87,
    "start_time": "2021-07-22T15:31:42.960Z"
   },
   {
    "duration": 16,
    "start_time": "2021-07-22T15:31:43.345Z"
   },
   {
    "duration": 69,
    "start_time": "2021-07-22T15:31:44.075Z"
   },
   {
    "duration": 111,
    "start_time": "2021-07-22T15:31:47.731Z"
   },
   {
    "duration": 91,
    "start_time": "2021-07-22T15:31:48.925Z"
   },
   {
    "duration": 61,
    "start_time": "2021-07-22T15:31:50.283Z"
   },
   {
    "duration": 6,
    "start_time": "2021-07-22T15:31:51.533Z"
   },
   {
    "duration": 6,
    "start_time": "2021-07-22T15:31:52.749Z"
   },
   {
    "duration": 670,
    "start_time": "2021-07-22T15:31:54.100Z"
   },
   {
    "duration": 31,
    "start_time": "2021-07-22T15:31:55.446Z"
   },
   {
    "duration": 2666,
    "start_time": "2021-07-22T15:31:56.808Z"
   },
   {
    "duration": 688,
    "start_time": "2021-07-22T15:31:59.476Z"
   },
   {
    "duration": 39,
    "start_time": "2021-07-22T15:32:00.168Z"
   },
   {
    "duration": 18,
    "start_time": "2021-07-22T15:32:00.464Z"
   },
   {
    "duration": 921,
    "start_time": "2021-07-22T15:32:01.850Z"
   },
   {
    "duration": 37,
    "start_time": "2021-07-22T15:32:03.192Z"
   },
   {
    "duration": 23,
    "start_time": "2021-07-22T15:32:05.077Z"
   },
   {
    "duration": 25,
    "start_time": "2021-07-22T15:32:06.316Z"
   },
   {
    "duration": 850,
    "start_time": "2021-07-22T15:32:09.038Z"
   },
   {
    "duration": 1020,
    "start_time": "2021-07-22T15:32:16.723Z"
   },
   {
    "duration": 543,
    "start_time": "2021-07-22T15:33:03.962Z"
   },
   {
    "duration": 539,
    "start_time": "2021-07-22T15:33:40.964Z"
   },
   {
    "duration": 282,
    "start_time": "2021-07-22T15:33:58.279Z"
   },
   {
    "duration": 598,
    "start_time": "2021-07-22T15:34:12.071Z"
   },
   {
    "duration": 359,
    "start_time": "2021-07-22T15:34:35.583Z"
   },
   {
    "duration": 426,
    "start_time": "2021-07-22T15:34:48.589Z"
   },
   {
    "duration": 554,
    "start_time": "2021-07-22T15:36:01.293Z"
   },
   {
    "duration": 371,
    "start_time": "2021-07-22T15:36:01.851Z"
   },
   {
    "duration": 386,
    "start_time": "2021-07-22T15:36:02.226Z"
   },
   {
    "duration": 299,
    "start_time": "2021-07-22T15:36:02.615Z"
   },
   {
    "duration": 353,
    "start_time": "2021-07-22T15:36:36.847Z"
   },
   {
    "duration": 351,
    "start_time": "2021-07-22T15:36:39.628Z"
   },
   {
    "duration": 368,
    "start_time": "2021-07-22T15:36:43.364Z"
   },
   {
    "duration": 281,
    "start_time": "2021-07-22T15:36:56.222Z"
   },
   {
    "duration": 340,
    "start_time": "2021-07-22T15:37:27.204Z"
   },
   {
    "duration": 422,
    "start_time": "2021-07-22T15:37:52.003Z"
   },
   {
    "duration": 439,
    "start_time": "2021-07-22T15:37:57.861Z"
   },
   {
    "duration": 399,
    "start_time": "2021-07-22T15:38:03.218Z"
   },
   {
    "duration": 352,
    "start_time": "2021-07-22T15:43:17.567Z"
   },
   {
    "duration": 11,
    "start_time": "2021-07-22T15:47:39.456Z"
   },
   {
    "duration": 317,
    "start_time": "2021-07-23T10:00:27.122Z"
   },
   {
    "duration": 673,
    "start_time": "2021-07-23T10:00:36.704Z"
   },
   {
    "duration": 74,
    "start_time": "2021-07-23T10:00:37.379Z"
   },
   {
    "duration": 13,
    "start_time": "2021-07-23T10:00:37.888Z"
   },
   {
    "duration": 48,
    "start_time": "2021-07-23T10:00:38.593Z"
   },
   {
    "duration": 79,
    "start_time": "2021-07-23T10:00:41.678Z"
   },
   {
    "duration": 59,
    "start_time": "2021-07-23T10:00:43.405Z"
   },
   {
    "duration": 36,
    "start_time": "2021-07-23T10:00:44.322Z"
   },
   {
    "duration": 4,
    "start_time": "2021-07-23T10:00:45.796Z"
   },
   {
    "duration": 4,
    "start_time": "2021-07-23T10:00:46.909Z"
   },
   {
    "duration": 385,
    "start_time": "2021-07-23T10:00:48.148Z"
   },
   {
    "duration": 20,
    "start_time": "2021-07-23T10:00:49.613Z"
   },
   {
    "duration": 1474,
    "start_time": "2021-07-23T10:00:51.006Z"
   },
   {
    "duration": 389,
    "start_time": "2021-07-23T10:00:52.511Z"
   },
   {
    "duration": 16,
    "start_time": "2021-07-23T10:00:53.453Z"
   },
   {
    "duration": 11,
    "start_time": "2021-07-23T10:00:54.896Z"
   },
   {
    "duration": 515,
    "start_time": "2021-07-23T10:00:56.494Z"
   },
   {
    "duration": 28,
    "start_time": "2021-07-23T10:00:58.149Z"
   },
   {
    "duration": 16,
    "start_time": "2021-07-23T10:00:59.981Z"
   },
   {
    "duration": 17,
    "start_time": "2021-07-23T10:01:01.345Z"
   },
   {
    "duration": 494,
    "start_time": "2021-07-23T10:01:04.336Z"
   },
   {
    "duration": 13,
    "start_time": "2021-07-23T10:01:07.901Z"
   },
   {
    "duration": 594,
    "start_time": "2021-07-23T10:01:08.746Z"
   },
   {
    "duration": 508,
    "start_time": "2021-07-23T10:01:09.577Z"
   },
   {
    "duration": 196,
    "start_time": "2021-07-23T10:01:10.297Z"
   },
   {
    "duration": 156,
    "start_time": "2021-07-23T10:01:11.233Z"
   },
   {
    "duration": 479,
    "start_time": "2021-07-23T10:02:01.858Z"
   },
   {
    "duration": 193,
    "start_time": "2021-07-23T10:05:10.095Z"
   },
   {
    "duration": 166,
    "start_time": "2021-07-23T10:05:53.509Z"
   },
   {
    "duration": 160,
    "start_time": "2021-07-23T10:06:04.501Z"
   },
   {
    "duration": 163,
    "start_time": "2021-07-23T10:06:10.858Z"
   },
   {
    "duration": 154,
    "start_time": "2021-07-23T10:06:23.547Z"
   },
   {
    "duration": 265,
    "start_time": "2021-07-23T10:06:30.705Z"
   },
   {
    "duration": 231,
    "start_time": "2021-07-23T10:06:40.561Z"
   },
   {
    "duration": 178,
    "start_time": "2021-07-23T10:06:45.438Z"
   },
   {
    "duration": 182,
    "start_time": "2021-07-23T10:06:55.924Z"
   },
   {
    "duration": 178,
    "start_time": "2021-07-23T10:08:50.079Z"
   },
   {
    "duration": 26,
    "start_time": "2021-07-23T10:59:46.637Z"
   },
   {
    "duration": 665,
    "start_time": "2021-07-23T13:58:05.012Z"
   },
   {
    "duration": 67,
    "start_time": "2021-07-23T13:58:05.678Z"
   },
   {
    "duration": 10,
    "start_time": "2021-07-23T13:58:05.747Z"
   },
   {
    "duration": 47,
    "start_time": "2021-07-23T13:58:05.759Z"
   },
   {
    "duration": 91,
    "start_time": "2021-07-23T13:58:05.807Z"
   },
   {
    "duration": 68,
    "start_time": "2021-07-23T13:58:05.900Z"
   },
   {
    "duration": 34,
    "start_time": "2021-07-23T13:58:05.969Z"
   },
   {
    "duration": 4,
    "start_time": "2021-07-23T13:58:06.005Z"
   },
   {
    "duration": 5,
    "start_time": "2021-07-23T13:58:06.011Z"
   },
   {
    "duration": 398,
    "start_time": "2021-07-23T13:58:06.018Z"
   },
   {
    "duration": 27,
    "start_time": "2021-07-23T13:58:06.418Z"
   },
   {
    "duration": 1612,
    "start_time": "2021-07-23T13:58:06.447Z"
   },
   {
    "duration": 395,
    "start_time": "2021-07-23T13:58:08.061Z"
   },
   {
    "duration": 17,
    "start_time": "2021-07-23T13:58:08.458Z"
   },
   {
    "duration": 11,
    "start_time": "2021-07-23T13:58:08.477Z"
   },
   {
    "duration": 536,
    "start_time": "2021-07-23T13:58:08.490Z"
   },
   {
    "duration": 28,
    "start_time": "2021-07-23T13:58:09.028Z"
   },
   {
    "duration": 14,
    "start_time": "2021-07-23T13:58:09.058Z"
   },
   {
    "duration": 16,
    "start_time": "2021-07-23T13:58:09.073Z"
   },
   {
    "duration": 490,
    "start_time": "2021-07-23T13:58:09.091Z"
   },
   {
    "duration": 7,
    "start_time": "2021-07-23T13:58:09.582Z"
   },
   {
    "duration": 357,
    "start_time": "2021-07-23T13:58:09.591Z"
   },
   {
    "duration": 204,
    "start_time": "2021-07-23T13:58:09.951Z"
   },
   {
    "duration": 190,
    "start_time": "2021-07-23T13:58:10.157Z"
   },
   {
    "duration": 191,
    "start_time": "2021-07-23T13:58:10.349Z"
   },
   {
    "duration": 9,
    "start_time": "2021-07-23T14:21:55.109Z"
   },
   {
    "duration": 303,
    "start_time": "2021-07-23T14:22:42.669Z"
   },
   {
    "duration": 304,
    "start_time": "2021-07-23T14:23:46.238Z"
   },
   {
    "duration": 301,
    "start_time": "2021-07-23T14:24:07.358Z"
   },
   {
    "duration": 7,
    "start_time": "2021-07-23T14:26:29.946Z"
   },
   {
    "duration": 39,
    "start_time": "2021-07-23T14:35:12.973Z"
   },
   {
    "duration": 51,
    "start_time": "2021-07-23T14:36:18.715Z"
   },
   {
    "duration": 47,
    "start_time": "2021-07-23T14:38:56.812Z"
   },
   {
    "duration": 345,
    "start_time": "2021-07-23T14:46:50.885Z"
   },
   {
    "duration": 40,
    "start_time": "2021-07-23T14:46:57.574Z"
   },
   {
    "duration": 298,
    "start_time": "2021-07-23T14:58:06.566Z"
   },
   {
    "duration": 333,
    "start_time": "2021-07-23T14:58:17.415Z"
   },
   {
    "duration": 280,
    "start_time": "2021-07-23T14:58:38.924Z"
   },
   {
    "duration": 290,
    "start_time": "2021-07-23T14:58:47.511Z"
   },
   {
    "duration": 278,
    "start_time": "2021-07-23T14:59:10.116Z"
   },
   {
    "duration": 291,
    "start_time": "2021-07-23T14:59:59.056Z"
   },
   {
    "duration": 23,
    "start_time": "2021-07-23T15:00:15.978Z"
   },
   {
    "duration": 22,
    "start_time": "2021-07-23T15:01:26.799Z"
   },
   {
    "duration": 35,
    "start_time": "2021-07-23T15:03:30.057Z"
   },
   {
    "duration": 26,
    "start_time": "2021-07-23T15:03:57.618Z"
   },
   {
    "duration": 19,
    "start_time": "2021-07-23T15:06:29.201Z"
   },
   {
    "duration": 20,
    "start_time": "2021-07-23T15:06:43.721Z"
   },
   {
    "duration": 284,
    "start_time": "2021-07-23T15:06:50.613Z"
   },
   {
    "duration": 606,
    "start_time": "2021-07-23T15:07:01.499Z"
   },
   {
    "duration": 77,
    "start_time": "2021-07-23T15:07:02.107Z"
   },
   {
    "duration": 10,
    "start_time": "2021-07-23T15:07:02.186Z"
   },
   {
    "duration": 63,
    "start_time": "2021-07-23T15:07:02.198Z"
   },
   {
    "duration": 102,
    "start_time": "2021-07-23T15:07:02.263Z"
   },
   {
    "duration": 85,
    "start_time": "2021-07-23T15:07:02.367Z"
   },
   {
    "duration": 41,
    "start_time": "2021-07-23T15:07:02.454Z"
   },
   {
    "duration": 6,
    "start_time": "2021-07-23T15:07:02.499Z"
   },
   {
    "duration": 38,
    "start_time": "2021-07-23T15:07:02.507Z"
   },
   {
    "duration": 421,
    "start_time": "2021-07-23T15:07:02.548Z"
   },
   {
    "duration": 20,
    "start_time": "2021-07-23T15:07:02.971Z"
   },
   {
    "duration": 1480,
    "start_time": "2021-07-23T15:07:02.993Z"
   },
   {
    "duration": 424,
    "start_time": "2021-07-23T15:07:04.475Z"
   },
   {
    "duration": 14,
    "start_time": "2021-07-23T15:07:04.901Z"
   },
   {
    "duration": 28,
    "start_time": "2021-07-23T15:07:04.916Z"
   },
   {
    "duration": 548,
    "start_time": "2021-07-23T15:07:04.946Z"
   },
   {
    "duration": 22,
    "start_time": "2021-07-23T15:07:05.496Z"
   },
   {
    "duration": 30,
    "start_time": "2021-07-23T15:07:05.519Z"
   },
   {
    "duration": 18,
    "start_time": "2021-07-23T15:07:05.551Z"
   },
   {
    "duration": 520,
    "start_time": "2021-07-23T15:07:05.571Z"
   },
   {
    "duration": 7,
    "start_time": "2021-07-23T15:07:06.092Z"
   },
   {
    "duration": 388,
    "start_time": "2021-07-23T15:07:06.100Z"
   },
   {
    "duration": 215,
    "start_time": "2021-07-23T15:07:06.490Z"
   },
   {
    "duration": 203,
    "start_time": "2021-07-23T15:07:06.706Z"
   },
   {
    "duration": 209,
    "start_time": "2021-07-23T15:07:06.911Z"
   },
   {
    "duration": 351,
    "start_time": "2021-07-23T15:07:07.123Z"
   },
   {
    "duration": 8,
    "start_time": "2021-07-23T15:07:07.476Z"
   },
   {
    "duration": 382,
    "start_time": "2021-07-23T15:07:07.485Z"
   },
   {
    "duration": -70,
    "start_time": "2021-07-23T15:07:07.939Z"
   },
   {
    "duration": 281,
    "start_time": "2021-07-23T15:07:16.909Z"
   },
   {
    "duration": 6,
    "start_time": "2021-07-23T15:07:23.581Z"
   },
   {
    "duration": 262,
    "start_time": "2021-07-23T15:07:29.046Z"
   },
   {
    "duration": 8,
    "start_time": "2021-07-23T15:07:40.651Z"
   },
   {
    "duration": 44,
    "start_time": "2021-07-23T15:08:01.152Z"
   },
   {
    "duration": 20,
    "start_time": "2021-07-23T15:08:08.983Z"
   },
   {
    "duration": 36,
    "start_time": "2021-07-23T15:08:33.928Z"
   },
   {
    "duration": 1255,
    "start_time": "2021-07-23T15:12:50.814Z"
   },
   {
    "duration": 19,
    "start_time": "2021-07-23T15:13:09.509Z"
   },
   {
    "duration": 25,
    "start_time": "2021-07-23T15:13:20.955Z"
   },
   {
    "duration": 302,
    "start_time": "2021-07-23T15:14:36.877Z"
   },
   {
    "duration": 282,
    "start_time": "2021-07-23T15:14:52.121Z"
   },
   {
    "duration": 28,
    "start_time": "2021-07-23T15:15:02.056Z"
   },
   {
    "duration": 38,
    "start_time": "2021-07-23T15:15:22.035Z"
   },
   {
    "duration": 54,
    "start_time": "2021-07-23T15:18:10.425Z"
   },
   {
    "duration": 28,
    "start_time": "2021-07-23T15:19:59.176Z"
   },
   {
    "duration": 44,
    "start_time": "2021-07-23T15:23:02.522Z"
   },
   {
    "duration": 6988,
    "start_time": "2021-07-23T15:25:40.240Z"
   },
   {
    "duration": 24,
    "start_time": "2021-07-23T15:26:11.267Z"
   },
   {
    "duration": 21,
    "start_time": "2021-07-23T15:27:12.018Z"
   },
   {
    "duration": 30,
    "start_time": "2021-07-23T15:27:23.729Z"
   },
   {
    "duration": 449,
    "start_time": "2021-07-23T15:36:56.643Z"
   },
   {
    "duration": 292,
    "start_time": "2021-07-23T15:37:18.432Z"
   },
   {
    "duration": 33,
    "start_time": "2021-07-23T15:38:05.741Z"
   },
   {
    "duration": 323,
    "start_time": "2021-07-23T15:39:07.737Z"
   },
   {
    "duration": 306,
    "start_time": "2021-07-23T15:39:15.523Z"
   },
   {
    "duration": 336,
    "start_time": "2021-07-23T16:57:43.660Z"
   },
   {
    "duration": 31,
    "start_time": "2021-07-23T16:58:08.535Z"
   },
   {
    "duration": 26,
    "start_time": "2021-07-23T16:58:33.665Z"
   },
   {
    "duration": 100,
    "start_time": "2021-07-23T16:59:21.138Z"
   },
   {
    "duration": 26,
    "start_time": "2021-07-23T16:59:26.026Z"
   },
   {
    "duration": 309,
    "start_time": "2021-07-23T16:59:58.661Z"
   },
   {
    "duration": 298,
    "start_time": "2021-07-23T17:01:17.153Z"
   },
   {
    "duration": 26,
    "start_time": "2021-07-23T17:01:24.476Z"
   },
   {
    "duration": 21,
    "start_time": "2021-07-23T17:02:51.991Z"
   },
   {
    "duration": 22,
    "start_time": "2021-07-23T17:03:21.502Z"
   },
   {
    "duration": 26,
    "start_time": "2021-07-23T17:03:38.001Z"
   },
   {
    "duration": 29,
    "start_time": "2021-07-23T17:04:18.897Z"
   },
   {
    "duration": 27,
    "start_time": "2021-07-23T17:05:16.032Z"
   },
   {
    "duration": 23,
    "start_time": "2021-07-23T17:12:15.556Z"
   },
   {
    "duration": 24,
    "start_time": "2021-07-23T17:12:37.413Z"
   },
   {
    "duration": 298,
    "start_time": "2021-07-23T17:14:31.949Z"
   },
   {
    "duration": 424,
    "start_time": "2021-07-23T17:14:55.285Z"
   },
   {
    "duration": 22,
    "start_time": "2021-07-23T17:15:08.930Z"
   },
   {
    "duration": 24,
    "start_time": "2021-07-23T17:15:20.189Z"
   },
   {
    "duration": 34,
    "start_time": "2021-07-23T17:15:33.903Z"
   },
   {
    "duration": 33,
    "start_time": "2021-07-23T17:15:58.125Z"
   },
   {
    "duration": 29,
    "start_time": "2021-07-23T17:16:31.841Z"
   },
   {
    "duration": 27,
    "start_time": "2021-07-23T17:16:57.157Z"
   },
   {
    "duration": 37,
    "start_time": "2021-07-23T17:17:03.522Z"
   },
   {
    "duration": 50,
    "start_time": "2021-07-23T17:17:13.283Z"
   },
   {
    "duration": 89,
    "start_time": "2021-07-23T17:17:32.672Z"
   },
   {
    "duration": 52,
    "start_time": "2021-07-23T17:17:39.432Z"
   },
   {
    "duration": 50,
    "start_time": "2021-07-23T17:18:07.311Z"
   },
   {
    "duration": 25,
    "start_time": "2021-07-23T17:18:14.668Z"
   },
   {
    "duration": 52,
    "start_time": "2021-07-23T17:19:07.239Z"
   },
   {
    "duration": 39,
    "start_time": "2021-07-23T17:19:21.179Z"
   },
   {
    "duration": 109,
    "start_time": "2021-07-23T17:20:31.210Z"
   },
   {
    "duration": 39,
    "start_time": "2021-07-23T17:20:49.122Z"
   },
   {
    "duration": 28,
    "start_time": "2021-07-23T17:21:03.975Z"
   },
   {
    "duration": 29,
    "start_time": "2021-07-23T17:22:41.913Z"
   },
   {
    "duration": 27,
    "start_time": "2021-07-23T17:23:11.320Z"
   },
   {
    "duration": 34,
    "start_time": "2021-07-23T17:25:40.238Z"
   },
   {
    "duration": 458,
    "start_time": "2021-07-23T17:26:33.857Z"
   },
   {
    "duration": 698,
    "start_time": "2021-07-23T17:26:43.731Z"
   },
   {
    "duration": 26,
    "start_time": "2021-07-23T17:27:04.535Z"
   },
   {
    "duration": 26,
    "start_time": "2021-07-23T17:28:36.538Z"
   },
   {
    "duration": 42,
    "start_time": "2021-07-23T17:29:05.294Z"
   },
   {
    "duration": 281,
    "start_time": "2021-07-23T17:29:41.329Z"
   },
   {
    "duration": 39,
    "start_time": "2021-07-23T17:29:49.483Z"
   },
   {
    "duration": 25,
    "start_time": "2021-07-23T17:30:00.125Z"
   },
   {
    "duration": 26,
    "start_time": "2021-07-23T17:30:29.107Z"
   },
   {
    "duration": 24,
    "start_time": "2021-07-23T17:30:59.329Z"
   },
   {
    "duration": 24,
    "start_time": "2021-07-23T17:31:14.869Z"
   },
   {
    "duration": 35,
    "start_time": "2021-07-23T17:31:34.646Z"
   },
   {
    "duration": 21,
    "start_time": "2021-07-23T17:32:28.121Z"
   },
   {
    "duration": 23,
    "start_time": "2021-07-23T17:32:33.600Z"
   },
   {
    "duration": 25,
    "start_time": "2021-07-23T17:32:44.242Z"
   },
   {
    "duration": 24,
    "start_time": "2021-07-23T17:33:49.032Z"
   },
   {
    "duration": 27,
    "start_time": "2021-07-23T17:33:54.601Z"
   },
   {
    "duration": 1084,
    "start_time": "2021-07-23T17:36:06.642Z"
   },
   {
    "duration": 28,
    "start_time": "2021-07-23T17:36:25.837Z"
   },
   {
    "duration": 1391,
    "start_time": "2021-07-23T17:36:32.846Z"
   },
   {
    "duration": 28,
    "start_time": "2021-07-23T17:36:39.179Z"
   },
   {
    "duration": 299,
    "start_time": "2021-07-23T17:37:24.720Z"
   },
   {
    "duration": 31,
    "start_time": "2021-07-23T17:37:43.960Z"
   },
   {
    "duration": 34,
    "start_time": "2021-07-23T17:38:33.051Z"
   },
   {
    "duration": 31,
    "start_time": "2021-07-23T17:39:49.591Z"
   },
   {
    "duration": 42,
    "start_time": "2021-07-23T17:40:56.063Z"
   },
   {
    "duration": 41,
    "start_time": "2021-07-23T17:41:05.137Z"
   },
   {
    "duration": 46,
    "start_time": "2021-07-23T17:41:13.815Z"
   },
   {
    "duration": 262,
    "start_time": "2021-07-23T17:42:35.982Z"
   },
   {
    "duration": 7,
    "start_time": "2021-07-23T17:42:51.196Z"
   },
   {
    "duration": 6,
    "start_time": "2021-07-23T17:42:58.221Z"
   },
   {
    "duration": 173,
    "start_time": "2021-07-23T17:52:55.836Z"
   },
   {
    "duration": 1401,
    "start_time": "2021-07-23T17:58:35.729Z"
   },
   {
    "duration": 135,
    "start_time": "2021-07-23T17:59:22.027Z"
   },
   {
    "duration": 137,
    "start_time": "2021-07-23T17:59:31.645Z"
   },
   {
    "duration": 233,
    "start_time": "2021-07-23T18:19:11.638Z"
   },
   {
    "duration": 858,
    "start_time": "2021-07-23T19:41:28.732Z"
   },
   {
    "duration": 135,
    "start_time": "2021-07-23T19:42:13.684Z"
   },
   {
    "duration": 153,
    "start_time": "2021-07-23T19:43:16.696Z"
   },
   {
    "duration": 145,
    "start_time": "2021-07-23T19:43:29.567Z"
   },
   {
    "duration": 83,
    "start_time": "2021-07-23T19:44:26.566Z"
   },
   {
    "duration": 126,
    "start_time": "2021-07-23T19:44:30.676Z"
   },
   {
    "duration": 801,
    "start_time": "2021-07-25T16:44:46.920Z"
   },
   {
    "duration": 87,
    "start_time": "2021-07-25T16:44:47.724Z"
   },
   {
    "duration": 16,
    "start_time": "2021-07-25T16:44:47.813Z"
   },
   {
    "duration": 84,
    "start_time": "2021-07-25T16:44:47.832Z"
   },
   {
    "duration": 128,
    "start_time": "2021-07-25T16:44:47.918Z"
   },
   {
    "duration": 105,
    "start_time": "2021-07-25T16:44:48.048Z"
   },
   {
    "duration": 71,
    "start_time": "2021-07-25T16:44:48.155Z"
   },
   {
    "duration": 7,
    "start_time": "2021-07-25T16:44:48.232Z"
   },
   {
    "duration": 9,
    "start_time": "2021-07-25T16:44:48.242Z"
   },
   {
    "duration": 803,
    "start_time": "2021-07-25T16:44:48.254Z"
   },
   {
    "duration": 44,
    "start_time": "2021-07-25T16:44:49.060Z"
   },
   {
    "duration": 2456,
    "start_time": "2021-07-25T16:44:49.107Z"
   },
   {
    "duration": 693,
    "start_time": "2021-07-25T16:44:51.566Z"
   },
   {
    "duration": 36,
    "start_time": "2021-07-25T16:44:52.262Z"
   },
   {
    "duration": 17,
    "start_time": "2021-07-25T16:44:52.301Z"
   },
   {
    "duration": 941,
    "start_time": "2021-07-25T16:44:52.320Z"
   },
   {
    "duration": 49,
    "start_time": "2021-07-25T16:44:53.264Z"
   },
   {
    "duration": 21,
    "start_time": "2021-07-25T16:44:53.316Z"
   },
   {
    "duration": 44,
    "start_time": "2021-07-25T16:44:53.340Z"
   },
   {
    "duration": 816,
    "start_time": "2021-07-25T16:44:53.386Z"
   },
   {
    "duration": 11,
    "start_time": "2021-07-25T16:44:54.205Z"
   },
   {
    "duration": 687,
    "start_time": "2021-07-25T16:44:54.219Z"
   },
   {
    "duration": 376,
    "start_time": "2021-07-25T16:44:54.910Z"
   },
   {
    "duration": 355,
    "start_time": "2021-07-25T16:44:55.288Z"
   },
   {
    "duration": 328,
    "start_time": "2021-07-25T16:44:55.645Z"
   },
   {
    "duration": 570,
    "start_time": "2021-07-25T16:44:55.982Z"
   },
   {
    "duration": 7,
    "start_time": "2021-07-25T16:44:56.554Z"
   },
   {
    "duration": 321,
    "start_time": "2021-07-25T16:44:56.564Z"
   },
   {
    "duration": 238,
    "start_time": "2021-07-25T16:44:56.887Z"
   },
   {
    "duration": 840,
    "start_time": "2021-07-25T17:04:36.443Z"
   },
   {
    "duration": 84,
    "start_time": "2021-07-25T17:04:37.285Z"
   },
   {
    "duration": 15,
    "start_time": "2021-07-25T17:04:37.372Z"
   },
   {
    "duration": 93,
    "start_time": "2021-07-25T17:04:37.391Z"
   },
   {
    "duration": 118,
    "start_time": "2021-07-25T17:04:37.486Z"
   },
   {
    "duration": 102,
    "start_time": "2021-07-25T17:04:37.606Z"
   },
   {
    "duration": 71,
    "start_time": "2021-07-25T17:04:37.711Z"
   },
   {
    "duration": 5,
    "start_time": "2021-07-25T17:04:37.786Z"
   },
   {
    "duration": 7,
    "start_time": "2021-07-25T17:04:37.794Z"
   },
   {
    "duration": 700,
    "start_time": "2021-07-25T17:04:37.803Z"
   },
   {
    "duration": 31,
    "start_time": "2021-07-25T17:04:38.505Z"
   },
   {
    "duration": 2467,
    "start_time": "2021-07-25T17:04:38.539Z"
   },
   {
    "duration": 693,
    "start_time": "2021-07-25T17:04:41.009Z"
   },
   {
    "duration": 22,
    "start_time": "2021-07-25T17:04:41.705Z"
   },
   {
    "duration": 14,
    "start_time": "2021-07-25T17:04:41.730Z"
   },
   {
    "duration": 957,
    "start_time": "2021-07-25T17:04:41.746Z"
   },
   {
    "duration": 36,
    "start_time": "2021-07-25T17:04:42.705Z"
   },
   {
    "duration": 43,
    "start_time": "2021-07-25T17:04:42.743Z"
   },
   {
    "duration": 25,
    "start_time": "2021-07-25T17:04:42.788Z"
   },
   {
    "duration": 815,
    "start_time": "2021-07-25T17:04:42.815Z"
   },
   {
    "duration": 10,
    "start_time": "2021-07-25T17:04:43.633Z"
   },
   {
    "duration": 613,
    "start_time": "2021-07-25T17:04:43.646Z"
   },
   {
    "duration": 377,
    "start_time": "2021-07-25T17:04:44.263Z"
   },
   {
    "duration": 342,
    "start_time": "2021-07-25T17:04:44.643Z"
   },
   {
    "duration": 361,
    "start_time": "2021-07-25T17:04:44.987Z"
   },
   {
    "duration": 559,
    "start_time": "2021-07-25T17:04:45.351Z"
   },
   {
    "duration": 8,
    "start_time": "2021-07-25T17:04:45.912Z"
   },
   {
    "duration": 326,
    "start_time": "2021-07-25T17:04:45.922Z"
   },
   {
    "duration": 233,
    "start_time": "2021-07-25T17:04:46.251Z"
   },
   {
    "duration": 140,
    "start_time": "2021-07-25T17:10:39.539Z"
   },
   {
    "duration": 428,
    "start_time": "2021-07-25T17:13:49.752Z"
   },
   {
    "duration": 431,
    "start_time": "2021-07-25T17:14:01.959Z"
   },
   {
    "duration": 100,
    "start_time": "2021-07-25T17:14:12.857Z"
   },
   {
    "duration": 104,
    "start_time": "2021-07-25T17:17:26.942Z"
   },
   {
    "duration": 102,
    "start_time": "2021-07-25T17:17:58.283Z"
   },
   {
    "duration": 97,
    "start_time": "2021-07-25T17:18:00.780Z"
   },
   {
    "duration": 111,
    "start_time": "2021-07-25T17:18:14.617Z"
   },
   {
    "duration": 128,
    "start_time": "2021-07-25T17:25:50.674Z"
   },
   {
    "duration": 367,
    "start_time": "2021-07-25T17:55:23.452Z"
   },
   {
    "duration": 18,
    "start_time": "2021-07-25T17:55:50.084Z"
   },
   {
    "duration": 121,
    "start_time": "2021-07-25T17:56:48.736Z"
   },
   {
    "duration": 134,
    "start_time": "2021-07-25T17:56:55.148Z"
   },
   {
    "duration": 20,
    "start_time": "2021-07-25T18:01:11.125Z"
   },
   {
    "duration": 524,
    "start_time": "2021-07-25T18:10:06.377Z"
   },
   {
    "duration": 324,
    "start_time": "2021-07-25T18:10:18.338Z"
   },
   {
    "duration": 384,
    "start_time": "2021-07-25T18:12:02.731Z"
   },
   {
    "duration": 392,
    "start_time": "2021-07-25T18:12:18.330Z"
   },
   {
    "duration": 380,
    "start_time": "2021-07-25T18:12:58.025Z"
   },
   {
    "duration": 313,
    "start_time": "2021-07-25T18:13:07.760Z"
   },
   {
    "duration": 341,
    "start_time": "2021-07-25T18:14:09.655Z"
   },
   {
    "duration": 375,
    "start_time": "2021-07-25T18:14:21.870Z"
   },
   {
    "duration": 333,
    "start_time": "2021-07-25T18:14:52.841Z"
   },
   {
    "duration": 4,
    "start_time": "2021-07-25T18:15:27.952Z"
   },
   {
    "duration": 240,
    "start_time": "2021-07-25T18:15:43.284Z"
   },
   {
    "duration": 330,
    "start_time": "2021-07-25T18:15:48.188Z"
   },
   {
    "duration": 12,
    "start_time": "2021-07-25T18:19:27.888Z"
   },
   {
    "duration": 868,
    "start_time": "2021-07-25T19:17:10.042Z"
   },
   {
    "duration": 85,
    "start_time": "2021-07-25T19:17:10.912Z"
   },
   {
    "duration": 15,
    "start_time": "2021-07-25T19:17:11.000Z"
   },
   {
    "duration": 94,
    "start_time": "2021-07-25T19:17:11.018Z"
   },
   {
    "duration": 127,
    "start_time": "2021-07-25T19:17:11.115Z"
   },
   {
    "duration": 105,
    "start_time": "2021-07-25T19:17:11.245Z"
   },
   {
    "duration": 74,
    "start_time": "2021-07-25T19:17:11.352Z"
   },
   {
    "duration": 5,
    "start_time": "2021-07-25T19:17:11.430Z"
   },
   {
    "duration": 10,
    "start_time": "2021-07-25T19:17:11.438Z"
   },
   {
    "duration": 696,
    "start_time": "2021-07-25T19:17:11.450Z"
   },
   {
    "duration": 39,
    "start_time": "2021-07-25T19:17:12.148Z"
   },
   {
    "duration": 2463,
    "start_time": "2021-07-25T19:17:12.190Z"
   },
   {
    "duration": 675,
    "start_time": "2021-07-25T19:17:14.656Z"
   },
   {
    "duration": 21,
    "start_time": "2021-07-25T19:17:15.334Z"
   },
   {
    "duration": 38,
    "start_time": "2021-07-25T19:17:15.357Z"
   },
   {
    "duration": 896,
    "start_time": "2021-07-25T19:17:15.397Z"
   },
   {
    "duration": 36,
    "start_time": "2021-07-25T19:17:16.295Z"
   },
   {
    "duration": 22,
    "start_time": "2021-07-25T19:17:16.333Z"
   },
   {
    "duration": 24,
    "start_time": "2021-07-25T19:17:16.383Z"
   },
   {
    "duration": 886,
    "start_time": "2021-07-25T19:17:16.410Z"
   },
   {
    "duration": 10,
    "start_time": "2021-07-25T19:17:17.299Z"
   },
   {
    "duration": 683,
    "start_time": "2021-07-25T19:17:17.312Z"
   },
   {
    "duration": 364,
    "start_time": "2021-07-25T19:17:18.000Z"
   },
   {
    "duration": 335,
    "start_time": "2021-07-25T19:17:18.366Z"
   },
   {
    "duration": 345,
    "start_time": "2021-07-25T19:17:18.704Z"
   },
   {
    "duration": 593,
    "start_time": "2021-07-25T19:17:19.053Z"
   },
   {
    "duration": 11,
    "start_time": "2021-07-25T19:17:19.649Z"
   },
   {
    "duration": 315,
    "start_time": "2021-07-25T19:17:19.684Z"
   },
   {
    "duration": 240,
    "start_time": "2021-07-25T19:17:20.001Z"
   },
   {
    "duration": 13,
    "start_time": "2021-07-25T19:17:20.245Z"
   },
   {
    "duration": 38,
    "start_time": "2021-07-25T19:17:20.261Z"
   },
   {
    "duration": 10,
    "start_time": "2021-07-25T19:18:29.178Z"
   },
   {
    "duration": 11,
    "start_time": "2021-07-25T19:18:41.043Z"
   },
   {
    "duration": 11,
    "start_time": "2021-07-25T19:18:46.901Z"
   },
   {
    "duration": 8712,
    "start_time": "2021-07-25T19:18:53.759Z"
   },
   {
    "duration": 12,
    "start_time": "2021-07-25T19:19:02.813Z"
   },
   {
    "duration": 311,
    "start_time": "2021-07-26T08:04:43.250Z"
   },
   {
    "duration": 779,
    "start_time": "2021-07-26T08:04:50.802Z"
   },
   {
    "duration": 89,
    "start_time": "2021-07-26T08:04:51.583Z"
   },
   {
    "duration": 17,
    "start_time": "2021-07-26T08:04:51.675Z"
   },
   {
    "duration": 90,
    "start_time": "2021-07-26T08:04:51.695Z"
   },
   {
    "duration": 125,
    "start_time": "2021-07-26T08:04:51.788Z"
   },
   {
    "duration": 95,
    "start_time": "2021-07-26T08:04:51.915Z"
   },
   {
    "duration": 69,
    "start_time": "2021-07-26T08:04:52.012Z"
   },
   {
    "duration": 6,
    "start_time": "2021-07-26T08:04:52.085Z"
   },
   {
    "duration": 5,
    "start_time": "2021-07-26T08:04:52.093Z"
   },
   {
    "duration": 682,
    "start_time": "2021-07-26T08:04:52.101Z"
   },
   {
    "duration": 30,
    "start_time": "2021-07-26T08:04:52.786Z"
   },
   {
    "duration": 2382,
    "start_time": "2021-07-26T08:04:52.818Z"
   },
   {
    "duration": 700,
    "start_time": "2021-07-26T08:04:55.202Z"
   },
   {
    "duration": 25,
    "start_time": "2021-07-26T08:04:55.905Z"
   },
   {
    "duration": 37,
    "start_time": "2021-07-26T08:04:55.932Z"
   },
   {
    "duration": 906,
    "start_time": "2021-07-26T08:04:55.971Z"
   },
   {
    "duration": 36,
    "start_time": "2021-07-26T08:04:56.880Z"
   },
   {
    "duration": 46,
    "start_time": "2021-07-26T08:04:56.919Z"
   },
   {
    "duration": 24,
    "start_time": "2021-07-26T08:04:56.968Z"
   },
   {
    "duration": 920,
    "start_time": "2021-07-26T08:04:56.995Z"
   },
   {
    "duration": 12,
    "start_time": "2021-07-26T08:04:57.918Z"
   },
   {
    "duration": 616,
    "start_time": "2021-07-26T08:04:57.933Z"
   },
   {
    "duration": 346,
    "start_time": "2021-07-26T08:04:58.556Z"
   },
   {
    "duration": 316,
    "start_time": "2021-07-26T08:04:58.905Z"
   },
   {
    "duration": 335,
    "start_time": "2021-07-26T08:04:59.223Z"
   },
   {
    "duration": 555,
    "start_time": "2021-07-26T08:04:59.560Z"
   },
   {
    "duration": 9,
    "start_time": "2021-07-26T08:05:00.117Z"
   },
   {
    "duration": 319,
    "start_time": "2021-07-26T08:05:00.128Z"
   },
   {
    "duration": 227,
    "start_time": "2021-07-26T08:05:00.455Z"
   },
   {
    "duration": 11,
    "start_time": "2021-07-26T08:05:00.684Z"
   },
   {
    "duration": 21,
    "start_time": "2021-07-26T08:05:00.697Z"
   },
   {
    "duration": 12,
    "start_time": "2021-07-26T08:05:59.613Z"
   },
   {
    "duration": 470,
    "start_time": "2021-07-26T08:10:42.999Z"
   },
   {
    "duration": 36,
    "start_time": "2021-07-26T08:10:58.675Z"
   },
   {
    "duration": 273,
    "start_time": "2021-07-26T08:13:17.302Z"
   },
   {
    "duration": 49,
    "start_time": "2021-07-26T08:13:23.654Z"
   },
   {
    "duration": 3962,
    "start_time": "2021-07-26T08:17:03.764Z"
   },
   {
    "duration": 74,
    "start_time": "2021-07-26T08:17:28.108Z"
   },
   {
    "duration": 34,
    "start_time": "2021-07-26T08:18:14.052Z"
   },
   {
    "duration": 38,
    "start_time": "2021-07-26T08:18:21.497Z"
   },
   {
    "duration": 41,
    "start_time": "2021-07-26T08:19:42.609Z"
   },
   {
    "duration": 38,
    "start_time": "2021-07-26T08:19:49.256Z"
   },
   {
    "duration": 300,
    "start_time": "2021-07-26T08:20:57.367Z"
   },
   {
    "duration": 39,
    "start_time": "2021-07-26T08:21:15.072Z"
   },
   {
    "duration": 26,
    "start_time": "2021-07-26T08:24:08.885Z"
   },
   {
    "duration": 524,
    "start_time": "2021-07-26T08:31:17.901Z"
   },
   {
    "duration": 126,
    "start_time": "2021-07-26T08:31:38.272Z"
   },
   {
    "duration": 140,
    "start_time": "2021-07-26T08:32:08.461Z"
   },
   {
    "duration": 25,
    "start_time": "2021-07-26T08:32:35.747Z"
   },
   {
    "duration": 871,
    "start_time": "2021-07-26T08:34:01.733Z"
   },
   {
    "duration": 88,
    "start_time": "2021-07-26T08:34:02.606Z"
   },
   {
    "duration": 16,
    "start_time": "2021-07-26T08:34:02.697Z"
   },
   {
    "duration": 82,
    "start_time": "2021-07-26T08:34:02.715Z"
   },
   {
    "duration": 124,
    "start_time": "2021-07-26T08:34:02.800Z"
   },
   {
    "duration": 102,
    "start_time": "2021-07-26T08:34:02.926Z"
   },
   {
    "duration": 70,
    "start_time": "2021-07-26T08:34:03.031Z"
   },
   {
    "duration": 5,
    "start_time": "2021-07-26T08:34:03.105Z"
   },
   {
    "duration": 7,
    "start_time": "2021-07-26T08:34:03.113Z"
   },
   {
    "duration": 701,
    "start_time": "2021-07-26T08:34:03.122Z"
   },
   {
    "duration": 40,
    "start_time": "2021-07-26T08:34:03.825Z"
   },
   {
    "duration": 2730,
    "start_time": "2021-07-26T08:34:03.867Z"
   },
   {
    "duration": 664,
    "start_time": "2021-07-26T08:34:06.600Z"
   },
   {
    "duration": 22,
    "start_time": "2021-07-26T08:34:07.266Z"
   },
   {
    "duration": 15,
    "start_time": "2021-07-26T08:34:07.290Z"
   },
   {
    "duration": 930,
    "start_time": "2021-07-26T08:34:07.307Z"
   },
   {
    "duration": 47,
    "start_time": "2021-07-26T08:34:08.239Z"
   },
   {
    "duration": 22,
    "start_time": "2021-07-26T08:34:08.289Z"
   },
   {
    "duration": 44,
    "start_time": "2021-07-26T08:34:08.313Z"
   },
   {
    "duration": 799,
    "start_time": "2021-07-26T08:34:08.360Z"
   },
   {
    "duration": 10,
    "start_time": "2021-07-26T08:34:09.162Z"
   },
   {
    "duration": 609,
    "start_time": "2021-07-26T08:34:09.174Z"
   },
   {
    "duration": 354,
    "start_time": "2021-07-26T08:34:09.787Z"
   },
   {
    "duration": 332,
    "start_time": "2021-07-26T08:34:10.144Z"
   },
   {
    "duration": 353,
    "start_time": "2021-07-26T08:34:10.479Z"
   },
   {
    "duration": 563,
    "start_time": "2021-07-26T08:34:10.834Z"
   },
   {
    "duration": 8,
    "start_time": "2021-07-26T08:34:11.400Z"
   },
   {
    "duration": 308,
    "start_time": "2021-07-26T08:34:11.410Z"
   },
   {
    "duration": 231,
    "start_time": "2021-07-26T08:34:11.720Z"
   },
   {
    "duration": 17,
    "start_time": "2021-07-26T08:34:11.955Z"
   },
   {
    "duration": 34,
    "start_time": "2021-07-26T08:34:11.975Z"
   },
   {
    "duration": 401,
    "start_time": "2021-07-26T08:34:12.012Z"
   },
   {
    "duration": 25,
    "start_time": "2021-07-26T08:49:37.484Z"
   },
   {
    "duration": 281,
    "start_time": "2021-07-26T08:49:48.199Z"
   },
   {
    "duration": 350,
    "start_time": "2021-07-26T08:52:10.740Z"
   },
   {
    "duration": 23,
    "start_time": "2021-07-26T08:52:20.291Z"
   },
   {
    "duration": 27,
    "start_time": "2021-07-26T08:52:34.747Z"
   },
   {
    "duration": 781,
    "start_time": "2021-07-26T08:52:39.295Z"
   },
   {
    "duration": 93,
    "start_time": "2021-07-26T08:52:40.078Z"
   },
   {
    "duration": 15,
    "start_time": "2021-07-26T08:52:40.174Z"
   },
   {
    "duration": 88,
    "start_time": "2021-07-26T08:52:40.192Z"
   },
   {
    "duration": 136,
    "start_time": "2021-07-26T08:52:40.283Z"
   },
   {
    "duration": 109,
    "start_time": "2021-07-26T08:52:40.422Z"
   },
   {
    "duration": 68,
    "start_time": "2021-07-26T08:52:40.534Z"
   },
   {
    "duration": 6,
    "start_time": "2021-07-26T08:52:40.608Z"
   },
   {
    "duration": 5,
    "start_time": "2021-07-26T08:52:40.616Z"
   },
   {
    "duration": 705,
    "start_time": "2021-07-26T08:52:40.623Z"
   },
   {
    "duration": 39,
    "start_time": "2021-07-26T08:52:41.331Z"
   },
   {
    "duration": 2420,
    "start_time": "2021-07-26T08:52:41.372Z"
   },
   {
    "duration": 681,
    "start_time": "2021-07-26T08:52:43.794Z"
   },
   {
    "duration": 20,
    "start_time": "2021-07-26T08:52:44.478Z"
   },
   {
    "duration": 14,
    "start_time": "2021-07-26T08:52:44.500Z"
   },
   {
    "duration": 924,
    "start_time": "2021-07-26T08:52:44.517Z"
   },
   {
    "duration": 45,
    "start_time": "2021-07-26T08:52:45.443Z"
   },
   {
    "duration": 21,
    "start_time": "2021-07-26T08:52:45.490Z"
   },
   {
    "duration": 44,
    "start_time": "2021-07-26T08:52:45.513Z"
   },
   {
    "duration": 805,
    "start_time": "2021-07-26T08:52:45.560Z"
   },
   {
    "duration": 10,
    "start_time": "2021-07-26T08:52:46.367Z"
   },
   {
    "duration": 636,
    "start_time": "2021-07-26T08:52:46.380Z"
   },
   {
    "duration": 400,
    "start_time": "2021-07-26T08:52:47.023Z"
   },
   {
    "duration": 336,
    "start_time": "2021-07-26T08:52:47.425Z"
   },
   {
    "duration": 330,
    "start_time": "2021-07-26T08:52:47.763Z"
   },
   {
    "duration": 563,
    "start_time": "2021-07-26T08:52:48.095Z"
   },
   {
    "duration": 10,
    "start_time": "2021-07-26T08:52:48.661Z"
   },
   {
    "duration": 334,
    "start_time": "2021-07-26T08:52:48.674Z"
   },
   {
    "duration": 231,
    "start_time": "2021-07-26T08:52:49.010Z"
   },
   {
    "duration": 24,
    "start_time": "2021-07-26T08:52:49.243Z"
   },
   {
    "duration": 29,
    "start_time": "2021-07-26T08:52:49.269Z"
   },
   {
    "duration": 15,
    "start_time": "2021-07-26T08:52:49.300Z"
   },
   {
    "duration": 133,
    "start_time": "2021-07-26T08:53:14.623Z"
   },
   {
    "duration": 423,
    "start_time": "2021-07-26T08:55:08.859Z"
   },
   {
    "duration": 282,
    "start_time": "2021-07-26T08:55:16.908Z"
   },
   {
    "duration": 853,
    "start_time": "2021-07-26T08:55:34.327Z"
   },
   {
    "duration": 86,
    "start_time": "2021-07-26T08:55:35.183Z"
   },
   {
    "duration": 15,
    "start_time": "2021-07-26T08:55:35.272Z"
   },
   {
    "duration": 87,
    "start_time": "2021-07-26T08:55:35.290Z"
   },
   {
    "duration": 123,
    "start_time": "2021-07-26T08:55:35.379Z"
   },
   {
    "duration": 102,
    "start_time": "2021-07-26T08:55:35.504Z"
   },
   {
    "duration": 67,
    "start_time": "2021-07-26T08:55:35.609Z"
   },
   {
    "duration": 5,
    "start_time": "2021-07-26T08:55:35.680Z"
   },
   {
    "duration": 6,
    "start_time": "2021-07-26T08:55:35.688Z"
   },
   {
    "duration": 677,
    "start_time": "2021-07-26T08:55:35.696Z"
   },
   {
    "duration": 32,
    "start_time": "2021-07-26T08:55:36.375Z"
   },
   {
    "duration": 2429,
    "start_time": "2021-07-26T08:55:36.410Z"
   },
   {
    "duration": 668,
    "start_time": "2021-07-26T08:55:38.842Z"
   },
   {
    "duration": 24,
    "start_time": "2021-07-26T08:55:39.513Z"
   },
   {
    "duration": 17,
    "start_time": "2021-07-26T08:55:39.556Z"
   },
   {
    "duration": 946,
    "start_time": "2021-07-26T08:55:39.576Z"
   },
   {
    "duration": 47,
    "start_time": "2021-07-26T08:55:40.525Z"
   },
   {
    "duration": 22,
    "start_time": "2021-07-26T08:55:40.574Z"
   },
   {
    "duration": 32,
    "start_time": "2021-07-26T08:55:40.599Z"
   },
   {
    "duration": 816,
    "start_time": "2021-07-26T08:55:40.634Z"
   },
   {
    "duration": 10,
    "start_time": "2021-07-26T08:55:41.456Z"
   },
   {
    "duration": 579,
    "start_time": "2021-07-26T08:55:41.469Z"
   },
   {
    "duration": 359,
    "start_time": "2021-07-26T08:55:42.056Z"
   },
   {
    "duration": 311,
    "start_time": "2021-07-26T08:55:42.418Z"
   },
   {
    "duration": 347,
    "start_time": "2021-07-26T08:55:42.731Z"
   },
   {
    "duration": 555,
    "start_time": "2021-07-26T08:55:43.081Z"
   },
   {
    "duration": 18,
    "start_time": "2021-07-26T08:55:43.638Z"
   },
   {
    "duration": 300,
    "start_time": "2021-07-26T08:55:43.658Z"
   },
   {
    "duration": 225,
    "start_time": "2021-07-26T08:55:43.960Z"
   },
   {
    "duration": 14,
    "start_time": "2021-07-26T08:55:44.187Z"
   },
   {
    "duration": 29,
    "start_time": "2021-07-26T08:55:44.203Z"
   },
   {
    "duration": 61,
    "start_time": "2021-07-26T08:55:44.234Z"
   },
   {
    "duration": 23,
    "start_time": "2021-07-26T09:02:35.311Z"
   },
   {
    "duration": 25,
    "start_time": "2021-07-26T09:02:39.240Z"
   },
   {
    "duration": 26,
    "start_time": "2021-07-26T09:05:25.709Z"
   },
   {
    "duration": 817,
    "start_time": "2021-07-26T09:05:31.862Z"
   },
   {
    "duration": 82,
    "start_time": "2021-07-26T09:05:32.681Z"
   },
   {
    "duration": 14,
    "start_time": "2021-07-26T09:05:32.766Z"
   },
   {
    "duration": 83,
    "start_time": "2021-07-26T09:05:32.783Z"
   },
   {
    "duration": 117,
    "start_time": "2021-07-26T09:05:32.868Z"
   },
   {
    "duration": 105,
    "start_time": "2021-07-26T09:05:32.987Z"
   },
   {
    "duration": 64,
    "start_time": "2021-07-26T09:05:33.094Z"
   },
   {
    "duration": 5,
    "start_time": "2021-07-26T09:05:33.161Z"
   },
   {
    "duration": 7,
    "start_time": "2021-07-26T09:05:33.169Z"
   },
   {
    "duration": 683,
    "start_time": "2021-07-26T09:05:33.178Z"
   },
   {
    "duration": 30,
    "start_time": "2021-07-26T09:05:33.864Z"
   },
   {
    "duration": 2430,
    "start_time": "2021-07-26T09:05:33.896Z"
   },
   {
    "duration": 676,
    "start_time": "2021-07-26T09:05:36.328Z"
   },
   {
    "duration": 22,
    "start_time": "2021-07-26T09:05:37.006Z"
   },
   {
    "duration": 30,
    "start_time": "2021-07-26T09:05:37.030Z"
   },
   {
    "duration": 1000,
    "start_time": "2021-07-26T09:05:37.063Z"
   },
   {
    "duration": 37,
    "start_time": "2021-07-26T09:05:38.065Z"
   },
   {
    "duration": 23,
    "start_time": "2021-07-26T09:05:38.104Z"
   },
   {
    "duration": 45,
    "start_time": "2021-07-26T09:05:38.129Z"
   },
   {
    "duration": 805,
    "start_time": "2021-07-26T09:05:38.177Z"
   },
   {
    "duration": 11,
    "start_time": "2021-07-26T09:05:38.985Z"
   },
   {
    "duration": 611,
    "start_time": "2021-07-26T09:05:38.999Z"
   },
   {
    "duration": 362,
    "start_time": "2021-07-26T09:05:39.616Z"
   },
   {
    "duration": 322,
    "start_time": "2021-07-26T09:05:39.981Z"
   },
   {
    "duration": 357,
    "start_time": "2021-07-26T09:05:40.306Z"
   },
   {
    "duration": 595,
    "start_time": "2021-07-26T09:05:40.666Z"
   },
   {
    "duration": 7,
    "start_time": "2021-07-26T09:05:41.263Z"
   },
   {
    "duration": 311,
    "start_time": "2021-07-26T09:05:41.272Z"
   },
   {
    "duration": 235,
    "start_time": "2021-07-26T09:05:41.585Z"
   },
   {
    "duration": 14,
    "start_time": "2021-07-26T09:05:41.823Z"
   },
   {
    "duration": 38,
    "start_time": "2021-07-26T09:05:41.839Z"
   },
   {
    "duration": 25,
    "start_time": "2021-07-26T09:05:41.879Z"
   },
   {
    "duration": 49,
    "start_time": "2021-07-26T09:05:41.907Z"
   },
   {
    "duration": 35,
    "start_time": "2021-07-26T09:06:00.851Z"
   },
   {
    "duration": 30,
    "start_time": "2021-07-26T09:08:02.507Z"
   },
   {
    "duration": 33,
    "start_time": "2021-07-26T09:08:08.898Z"
   },
   {
    "duration": 27,
    "start_time": "2021-07-26T09:13:41.207Z"
   },
   {
    "duration": 24,
    "start_time": "2021-07-26T09:14:03.285Z"
   },
   {
    "duration": 388,
    "start_time": "2021-07-26T09:16:02.410Z"
   },
   {
    "duration": 37,
    "start_time": "2021-07-26T09:16:15.721Z"
   },
   {
    "duration": 101,
    "start_time": "2021-07-26T09:17:19.371Z"
   },
   {
    "duration": 117,
    "start_time": "2021-07-26T09:17:24.337Z"
   },
   {
    "duration": 315,
    "start_time": "2021-07-26T09:17:53.212Z"
   },
   {
    "duration": 92,
    "start_time": "2021-07-26T09:18:06.168Z"
   },
   {
    "duration": 84,
    "start_time": "2021-07-26T09:18:10.975Z"
   },
   {
    "duration": 37,
    "start_time": "2021-07-26T09:18:16.017Z"
   },
   {
    "duration": 116,
    "start_time": "2021-07-26T09:18:32.503Z"
   },
   {
    "duration": 36,
    "start_time": "2021-07-26T09:18:41.392Z"
   },
   {
    "duration": 292,
    "start_time": "2021-07-26T09:21:12.622Z"
   },
   {
    "duration": 831,
    "start_time": "2021-07-26T09:21:35.239Z"
   },
   {
    "duration": 88,
    "start_time": "2021-07-26T09:21:36.073Z"
   },
   {
    "duration": 14,
    "start_time": "2021-07-26T09:21:36.164Z"
   },
   {
    "duration": 83,
    "start_time": "2021-07-26T09:21:36.181Z"
   },
   {
    "duration": 124,
    "start_time": "2021-07-26T09:21:36.266Z"
   },
   {
    "duration": 105,
    "start_time": "2021-07-26T09:21:36.392Z"
   },
   {
    "duration": 69,
    "start_time": "2021-07-26T09:21:36.499Z"
   },
   {
    "duration": 6,
    "start_time": "2021-07-26T09:21:36.572Z"
   },
   {
    "duration": 17,
    "start_time": "2021-07-26T09:21:36.581Z"
   },
   {
    "duration": 691,
    "start_time": "2021-07-26T09:21:36.601Z"
   },
   {
    "duration": 32,
    "start_time": "2021-07-26T09:21:37.295Z"
   },
   {
    "duration": 2410,
    "start_time": "2021-07-26T09:21:37.329Z"
   },
   {
    "duration": 672,
    "start_time": "2021-07-26T09:21:39.741Z"
   },
   {
    "duration": 21,
    "start_time": "2021-07-26T09:21:40.415Z"
   },
   {
    "duration": 14,
    "start_time": "2021-07-26T09:21:40.455Z"
   },
   {
    "duration": 923,
    "start_time": "2021-07-26T09:21:40.472Z"
   },
   {
    "duration": 35,
    "start_time": "2021-07-26T09:21:41.397Z"
   },
   {
    "duration": 34,
    "start_time": "2021-07-26T09:21:41.435Z"
   },
   {
    "duration": 25,
    "start_time": "2021-07-26T09:21:41.471Z"
   },
   {
    "duration": 814,
    "start_time": "2021-07-26T09:21:41.499Z"
   },
   {
    "duration": 10,
    "start_time": "2021-07-26T09:21:42.316Z"
   },
   {
    "duration": 698,
    "start_time": "2021-07-26T09:21:42.329Z"
   },
   {
    "duration": 352,
    "start_time": "2021-07-26T09:21:43.032Z"
   },
   {
    "duration": 334,
    "start_time": "2021-07-26T09:21:43.386Z"
   },
   {
    "duration": 345,
    "start_time": "2021-07-26T09:21:43.723Z"
   },
   {
    "duration": 544,
    "start_time": "2021-07-26T09:21:44.070Z"
   },
   {
    "duration": 7,
    "start_time": "2021-07-26T09:21:44.616Z"
   },
   {
    "duration": 300,
    "start_time": "2021-07-26T09:21:44.625Z"
   },
   {
    "duration": 233,
    "start_time": "2021-07-26T09:21:44.927Z"
   },
   {
    "duration": 15,
    "start_time": "2021-07-26T09:21:45.163Z"
   },
   {
    "duration": 25,
    "start_time": "2021-07-26T09:21:45.180Z"
   },
   {
    "duration": 54,
    "start_time": "2021-07-26T09:21:45.208Z"
   },
   {
    "duration": 28,
    "start_time": "2021-07-26T09:21:45.264Z"
   },
   {
    "duration": 374,
    "start_time": "2021-07-26T09:21:45.295Z"
   },
   {
    "duration": 277,
    "start_time": "2021-07-26T09:22:22.772Z"
   },
   {
    "duration": 19,
    "start_time": "2021-07-26T09:22:45.962Z"
   },
   {
    "duration": 25,
    "start_time": "2021-07-26T09:23:00.234Z"
   },
   {
    "duration": 801,
    "start_time": "2021-07-26T09:23:15.474Z"
   },
   {
    "duration": 85,
    "start_time": "2021-07-26T09:23:16.277Z"
   },
   {
    "duration": 14,
    "start_time": "2021-07-26T09:23:16.365Z"
   },
   {
    "duration": 89,
    "start_time": "2021-07-26T09:23:16.383Z"
   },
   {
    "duration": 125,
    "start_time": "2021-07-26T09:23:16.475Z"
   },
   {
    "duration": 106,
    "start_time": "2021-07-26T09:23:16.603Z"
   },
   {
    "duration": 72,
    "start_time": "2021-07-26T09:23:16.712Z"
   },
   {
    "duration": 7,
    "start_time": "2021-07-26T09:23:16.789Z"
   },
   {
    "duration": 9,
    "start_time": "2021-07-26T09:23:16.800Z"
   },
   {
    "duration": 714,
    "start_time": "2021-07-26T09:23:16.811Z"
   },
   {
    "duration": 46,
    "start_time": "2021-07-26T09:23:17.527Z"
   },
   {
    "duration": 2680,
    "start_time": "2021-07-26T09:23:17.576Z"
   },
   {
    "duration": 684,
    "start_time": "2021-07-26T09:23:20.259Z"
   },
   {
    "duration": 28,
    "start_time": "2021-07-26T09:23:20.946Z"
   },
   {
    "duration": 16,
    "start_time": "2021-07-26T09:23:20.976Z"
   },
   {
    "duration": 1029,
    "start_time": "2021-07-26T09:23:20.994Z"
   },
   {
    "duration": 46,
    "start_time": "2021-07-26T09:23:22.025Z"
   },
   {
    "duration": 31,
    "start_time": "2021-07-26T09:23:22.074Z"
   },
   {
    "duration": 51,
    "start_time": "2021-07-26T09:23:22.108Z"
   },
   {
    "duration": 867,
    "start_time": "2021-07-26T09:23:22.162Z"
   },
   {
    "duration": 10,
    "start_time": "2021-07-26T09:23:23.031Z"
   },
   {
    "duration": 606,
    "start_time": "2021-07-26T09:23:23.043Z"
   },
   {
    "duration": 366,
    "start_time": "2021-07-26T09:23:23.657Z"
   },
   {
    "duration": 339,
    "start_time": "2021-07-26T09:23:24.027Z"
   },
   {
    "duration": 329,
    "start_time": "2021-07-26T09:23:24.368Z"
   },
   {
    "duration": 570,
    "start_time": "2021-07-26T09:23:24.700Z"
   },
   {
    "duration": 8,
    "start_time": "2021-07-26T09:23:25.272Z"
   },
   {
    "duration": 314,
    "start_time": "2021-07-26T09:23:25.282Z"
   },
   {
    "duration": 245,
    "start_time": "2021-07-26T09:23:25.599Z"
   },
   {
    "duration": 20,
    "start_time": "2021-07-26T09:23:25.847Z"
   },
   {
    "duration": 24,
    "start_time": "2021-07-26T09:23:25.869Z"
   },
   {
    "duration": 25,
    "start_time": "2021-07-26T09:23:25.895Z"
   },
   {
    "duration": 50,
    "start_time": "2021-07-26T09:23:25.923Z"
   },
   {
    "duration": 32,
    "start_time": "2021-07-26T09:23:25.975Z"
   },
   {
    "duration": 812,
    "start_time": "2021-07-26T09:24:06.410Z"
   },
   {
    "duration": 90,
    "start_time": "2021-07-26T09:24:07.225Z"
   },
   {
    "duration": 17,
    "start_time": "2021-07-26T09:24:07.318Z"
   },
   {
    "duration": 80,
    "start_time": "2021-07-26T09:24:07.338Z"
   },
   {
    "duration": 145,
    "start_time": "2021-07-26T09:24:07.420Z"
   },
   {
    "duration": 105,
    "start_time": "2021-07-26T09:24:07.567Z"
   },
   {
    "duration": 60,
    "start_time": "2021-07-26T09:24:07.675Z"
   },
   {
    "duration": 19,
    "start_time": "2021-07-26T09:24:07.739Z"
   },
   {
    "duration": 11,
    "start_time": "2021-07-26T09:24:07.761Z"
   },
   {
    "duration": 711,
    "start_time": "2021-07-26T09:24:07.775Z"
   },
   {
    "duration": 30,
    "start_time": "2021-07-26T09:24:08.488Z"
   },
   {
    "duration": 2637,
    "start_time": "2021-07-26T09:24:08.521Z"
   },
   {
    "duration": 671,
    "start_time": "2021-07-26T09:24:11.160Z"
   },
   {
    "duration": 28,
    "start_time": "2021-07-26T09:24:11.833Z"
   },
   {
    "duration": 15,
    "start_time": "2021-07-26T09:24:11.863Z"
   },
   {
    "duration": 925,
    "start_time": "2021-07-26T09:24:11.880Z"
   },
   {
    "duration": 35,
    "start_time": "2021-07-26T09:24:12.808Z"
   },
   {
    "duration": 22,
    "start_time": "2021-07-26T09:24:12.856Z"
   },
   {
    "duration": 30,
    "start_time": "2021-07-26T09:24:12.880Z"
   },
   {
    "duration": 808,
    "start_time": "2021-07-26T09:24:12.912Z"
   },
   {
    "duration": 11,
    "start_time": "2021-07-26T09:24:13.722Z"
   },
   {
    "duration": 593,
    "start_time": "2021-07-26T09:24:13.735Z"
   },
   {
    "duration": 357,
    "start_time": "2021-07-26T09:24:14.333Z"
   },
   {
    "duration": 320,
    "start_time": "2021-07-26T09:24:14.693Z"
   },
   {
    "duration": 332,
    "start_time": "2021-07-26T09:24:15.016Z"
   },
   {
    "duration": 543,
    "start_time": "2021-07-26T09:24:15.357Z"
   },
   {
    "duration": 8,
    "start_time": "2021-07-26T09:24:15.902Z"
   },
   {
    "duration": 320,
    "start_time": "2021-07-26T09:24:15.912Z"
   },
   {
    "duration": 230,
    "start_time": "2021-07-26T09:24:16.234Z"
   },
   {
    "duration": 15,
    "start_time": "2021-07-26T09:24:16.466Z"
   },
   {
    "duration": 23,
    "start_time": "2021-07-26T09:24:16.483Z"
   },
   {
    "duration": 53,
    "start_time": "2021-07-26T09:24:16.508Z"
   },
   {
    "duration": 22,
    "start_time": "2021-07-26T09:24:16.563Z"
   },
   {
    "duration": 31,
    "start_time": "2021-07-26T09:24:16.587Z"
   },
   {
    "duration": 32,
    "start_time": "2021-07-26T09:24:50.214Z"
   },
   {
    "duration": 20,
    "start_time": "2021-07-26T09:25:38.285Z"
   },
   {
    "duration": 23,
    "start_time": "2021-07-26T09:26:15.083Z"
   },
   {
    "duration": 30,
    "start_time": "2021-07-26T09:26:58.179Z"
   },
   {
    "duration": 830,
    "start_time": "2021-07-26T09:27:03.365Z"
   },
   {
    "duration": 92,
    "start_time": "2021-07-26T09:27:04.197Z"
   },
   {
    "duration": 15,
    "start_time": "2021-07-26T09:27:04.291Z"
   },
   {
    "duration": 78,
    "start_time": "2021-07-26T09:27:04.308Z"
   },
   {
    "duration": 126,
    "start_time": "2021-07-26T09:27:04.388Z"
   },
   {
    "duration": 103,
    "start_time": "2021-07-26T09:27:04.516Z"
   },
   {
    "duration": 65,
    "start_time": "2021-07-26T09:27:04.621Z"
   },
   {
    "duration": 6,
    "start_time": "2021-07-26T09:27:04.690Z"
   },
   {
    "duration": 13,
    "start_time": "2021-07-26T09:27:04.698Z"
   },
   {
    "duration": 817,
    "start_time": "2021-07-26T09:27:04.713Z"
   },
   {
    "duration": 45,
    "start_time": "2021-07-26T09:27:05.533Z"
   },
   {
    "duration": 2637,
    "start_time": "2021-07-26T09:27:05.581Z"
   },
   {
    "duration": 709,
    "start_time": "2021-07-26T09:27:08.222Z"
   },
   {
    "duration": 34,
    "start_time": "2021-07-26T09:27:08.934Z"
   },
   {
    "duration": 16,
    "start_time": "2021-07-26T09:27:08.971Z"
   },
   {
    "duration": 954,
    "start_time": "2021-07-26T09:27:08.990Z"
   },
   {
    "duration": 41,
    "start_time": "2021-07-26T09:27:09.946Z"
   },
   {
    "duration": 24,
    "start_time": "2021-07-26T09:27:09.989Z"
   },
   {
    "duration": 53,
    "start_time": "2021-07-26T09:27:10.016Z"
   },
   {
    "duration": 829,
    "start_time": "2021-07-26T09:27:10.072Z"
   },
   {
    "duration": 10,
    "start_time": "2021-07-26T09:27:10.904Z"
   },
   {
    "duration": 594,
    "start_time": "2021-07-26T09:27:10.916Z"
   },
   {
    "duration": 355,
    "start_time": "2021-07-26T09:27:11.515Z"
   },
   {
    "duration": 327,
    "start_time": "2021-07-26T09:27:11.873Z"
   },
   {
    "duration": 341,
    "start_time": "2021-07-26T09:27:12.203Z"
   },
   {
    "duration": 537,
    "start_time": "2021-07-26T09:27:12.555Z"
   },
   {
    "duration": 9,
    "start_time": "2021-07-26T09:27:13.095Z"
   },
   {
    "duration": 318,
    "start_time": "2021-07-26T09:27:13.107Z"
   },
   {
    "duration": 228,
    "start_time": "2021-07-26T09:27:13.428Z"
   },
   {
    "duration": 15,
    "start_time": "2021-07-26T09:27:13.658Z"
   },
   {
    "duration": 24,
    "start_time": "2021-07-26T09:27:13.675Z"
   },
   {
    "duration": 25,
    "start_time": "2021-07-26T09:27:13.701Z"
   },
   {
    "duration": 56,
    "start_time": "2021-07-26T09:27:13.728Z"
   },
   {
    "duration": 29,
    "start_time": "2021-07-26T09:27:13.786Z"
   },
   {
    "duration": 1123,
    "start_time": "2021-07-26T12:09:30.739Z"
   },
   {
    "duration": 89,
    "start_time": "2021-07-26T12:09:31.865Z"
   },
   {
    "duration": 16,
    "start_time": "2021-07-26T12:09:31.957Z"
   },
   {
    "duration": 86,
    "start_time": "2021-07-26T12:09:31.976Z"
   },
   {
    "duration": 125,
    "start_time": "2021-07-26T12:09:32.065Z"
   },
   {
    "duration": 105,
    "start_time": "2021-07-26T12:09:32.193Z"
   },
   {
    "duration": 69,
    "start_time": "2021-07-26T12:09:32.300Z"
   },
   {
    "duration": 7,
    "start_time": "2021-07-26T12:09:32.373Z"
   },
   {
    "duration": 6,
    "start_time": "2021-07-26T12:09:32.382Z"
   },
   {
    "duration": 686,
    "start_time": "2021-07-26T12:09:32.391Z"
   },
   {
    "duration": 30,
    "start_time": "2021-07-26T12:09:33.080Z"
   },
   {
    "duration": 2504,
    "start_time": "2021-07-26T12:09:33.112Z"
   },
   {
    "duration": 666,
    "start_time": "2021-07-26T12:09:35.619Z"
   },
   {
    "duration": 21,
    "start_time": "2021-07-26T12:09:36.288Z"
   },
   {
    "duration": 22,
    "start_time": "2021-07-26T12:09:36.311Z"
   },
   {
    "duration": 891,
    "start_time": "2021-07-26T12:09:36.356Z"
   },
   {
    "duration": 37,
    "start_time": "2021-07-26T12:09:37.255Z"
   },
   {
    "duration": 30,
    "start_time": "2021-07-26T12:09:37.295Z"
   },
   {
    "duration": 44,
    "start_time": "2021-07-26T12:09:37.327Z"
   },
   {
    "duration": 807,
    "start_time": "2021-07-26T12:09:37.373Z"
   },
   {
    "duration": 12,
    "start_time": "2021-07-26T12:09:38.183Z"
   },
   {
    "duration": 596,
    "start_time": "2021-07-26T12:09:38.197Z"
   },
   {
    "duration": 361,
    "start_time": "2021-07-26T12:09:38.797Z"
   },
   {
    "duration": 329,
    "start_time": "2021-07-26T12:09:39.161Z"
   },
   {
    "duration": 330,
    "start_time": "2021-07-26T12:09:39.492Z"
   },
   {
    "duration": 561,
    "start_time": "2021-07-26T12:09:39.824Z"
   },
   {
    "duration": 10,
    "start_time": "2021-07-26T12:09:40.388Z"
   },
   {
    "duration": 323,
    "start_time": "2021-07-26T12:09:40.402Z"
   },
   {
    "duration": 237,
    "start_time": "2021-07-26T12:09:40.728Z"
   },
   {
    "duration": 15,
    "start_time": "2021-07-26T12:09:40.967Z"
   },
   {
    "duration": 25,
    "start_time": "2021-07-26T12:09:40.984Z"
   },
   {
    "duration": 54,
    "start_time": "2021-07-26T12:09:41.011Z"
   },
   {
    "duration": 32,
    "start_time": "2021-07-26T12:09:41.067Z"
   },
   {
    "duration": 30,
    "start_time": "2021-07-26T12:09:41.101Z"
   },
   {
    "duration": 402,
    "start_time": "2021-07-26T12:12:15.506Z"
   },
   {
    "duration": 317,
    "start_time": "2021-07-26T12:12:39.785Z"
   },
   {
    "duration": 34,
    "start_time": "2021-07-26T12:15:19.161Z"
   },
   {
    "duration": 25,
    "start_time": "2021-07-26T12:16:08.412Z"
   },
   {
    "duration": 11,
    "start_time": "2021-07-26T12:26:53.458Z"
   },
   {
    "duration": 6,
    "start_time": "2021-07-26T12:27:01.538Z"
   },
   {
    "duration": 7,
    "start_time": "2021-07-26T12:27:18.219Z"
   },
   {
    "duration": 6,
    "start_time": "2021-07-26T12:28:58.200Z"
   },
   {
    "duration": -99,
    "start_time": "2021-07-26T12:31:06.724Z"
   },
   {
    "duration": 798,
    "start_time": "2021-07-26T12:31:20.014Z"
   },
   {
    "duration": 87,
    "start_time": "2021-07-26T12:31:20.814Z"
   },
   {
    "duration": 16,
    "start_time": "2021-07-26T12:31:20.905Z"
   },
   {
    "duration": 86,
    "start_time": "2021-07-26T12:31:20.924Z"
   },
   {
    "duration": 132,
    "start_time": "2021-07-26T12:31:21.013Z"
   },
   {
    "duration": 101,
    "start_time": "2021-07-26T12:31:21.155Z"
   },
   {
    "duration": 62,
    "start_time": "2021-07-26T12:31:21.259Z"
   },
   {
    "duration": 6,
    "start_time": "2021-07-26T12:31:21.325Z"
   },
   {
    "duration": 24,
    "start_time": "2021-07-26T12:31:21.334Z"
   },
   {
    "duration": 790,
    "start_time": "2021-07-26T12:31:21.361Z"
   },
   {
    "duration": 32,
    "start_time": "2021-07-26T12:31:22.153Z"
   },
   {
    "duration": 2457,
    "start_time": "2021-07-26T12:31:22.187Z"
   },
   {
    "duration": 685,
    "start_time": "2021-07-26T12:31:24.646Z"
   },
   {
    "duration": 29,
    "start_time": "2021-07-26T12:31:25.333Z"
   },
   {
    "duration": 16,
    "start_time": "2021-07-26T12:31:25.364Z"
   },
   {
    "duration": 945,
    "start_time": "2021-07-26T12:31:25.382Z"
   },
   {
    "duration": 52,
    "start_time": "2021-07-26T12:31:26.329Z"
   },
   {
    "duration": 23,
    "start_time": "2021-07-26T12:31:26.383Z"
   },
   {
    "duration": 26,
    "start_time": "2021-07-26T12:31:26.409Z"
   },
   {
    "duration": 1089,
    "start_time": "2021-07-26T12:31:26.437Z"
   },
   {
    "duration": 11,
    "start_time": "2021-07-26T12:31:27.528Z"
   },
   {
    "duration": 888,
    "start_time": "2021-07-26T12:31:27.542Z"
   },
   {
    "duration": 363,
    "start_time": "2021-07-26T12:31:28.436Z"
   },
   {
    "duration": 331,
    "start_time": "2021-07-26T12:31:28.802Z"
   },
   {
    "duration": 335,
    "start_time": "2021-07-26T12:31:29.135Z"
   },
   {
    "duration": 551,
    "start_time": "2021-07-26T12:31:29.473Z"
   },
   {
    "duration": 8,
    "start_time": "2021-07-26T12:31:30.026Z"
   },
   {
    "duration": 328,
    "start_time": "2021-07-26T12:31:30.036Z"
   },
   {
    "duration": 229,
    "start_time": "2021-07-26T12:31:30.366Z"
   },
   {
    "duration": 16,
    "start_time": "2021-07-26T12:31:30.597Z"
   },
   {
    "duration": 49,
    "start_time": "2021-07-26T12:31:30.615Z"
   },
   {
    "duration": 27,
    "start_time": "2021-07-26T12:31:30.667Z"
   },
   {
    "duration": 59,
    "start_time": "2021-07-26T12:31:30.697Z"
   },
   {
    "duration": 26,
    "start_time": "2021-07-26T12:31:30.759Z"
   },
   {
    "duration": 6800,
    "start_time": "2021-07-26T12:31:30.788Z"
   },
   {
    "duration": 25,
    "start_time": "2021-07-26T12:32:17.032Z"
   },
   {
    "duration": 300,
    "start_time": "2021-07-26T12:32:40.730Z"
   },
   {
    "duration": 26,
    "start_time": "2021-07-26T12:32:54.687Z"
   },
   {
    "duration": 7928,
    "start_time": "2021-07-26T12:45:28.636Z"
   },
   {
    "duration": 310,
    "start_time": "2021-07-26T12:46:24.307Z"
   },
   {
    "duration": 6402,
    "start_time": "2021-07-26T12:46:55.388Z"
   },
   {
    "duration": 792,
    "start_time": "2021-07-26T12:47:51.606Z"
   },
   {
    "duration": 87,
    "start_time": "2021-07-26T12:47:52.400Z"
   },
   {
    "duration": 16,
    "start_time": "2021-07-26T12:47:52.490Z"
   },
   {
    "duration": 88,
    "start_time": "2021-07-26T12:47:52.509Z"
   },
   {
    "duration": 126,
    "start_time": "2021-07-26T12:47:52.599Z"
   },
   {
    "duration": 103,
    "start_time": "2021-07-26T12:47:52.727Z"
   },
   {
    "duration": 68,
    "start_time": "2021-07-26T12:47:52.832Z"
   },
   {
    "duration": 6,
    "start_time": "2021-07-26T12:47:52.903Z"
   },
   {
    "duration": 6,
    "start_time": "2021-07-26T12:47:52.912Z"
   },
   {
    "duration": 759,
    "start_time": "2021-07-26T12:47:52.921Z"
   },
   {
    "duration": 32,
    "start_time": "2021-07-26T12:47:53.683Z"
   },
   {
    "duration": 2641,
    "start_time": "2021-07-26T12:47:53.718Z"
   },
   {
    "duration": 716,
    "start_time": "2021-07-26T12:47:56.362Z"
   },
   {
    "duration": 24,
    "start_time": "2021-07-26T12:47:57.081Z"
   },
   {
    "duration": 22,
    "start_time": "2021-07-26T12:47:57.107Z"
   },
   {
    "duration": 956,
    "start_time": "2021-07-26T12:47:57.131Z"
   },
   {
    "duration": 35,
    "start_time": "2021-07-26T12:47:58.090Z"
   },
   {
    "duration": 40,
    "start_time": "2021-07-26T12:47:58.127Z"
   },
   {
    "duration": 37,
    "start_time": "2021-07-26T12:47:58.170Z"
   },
   {
    "duration": 827,
    "start_time": "2021-07-26T12:47:58.209Z"
   },
   {
    "duration": 19,
    "start_time": "2021-07-26T12:47:59.038Z"
   },
   {
    "duration": 596,
    "start_time": "2021-07-26T12:47:59.059Z"
   },
   {
    "duration": 353,
    "start_time": "2021-07-26T12:47:59.660Z"
   },
   {
    "duration": 324,
    "start_time": "2021-07-26T12:48:00.016Z"
   },
   {
    "duration": 349,
    "start_time": "2021-07-26T12:48:00.342Z"
   },
   {
    "duration": 554,
    "start_time": "2021-07-26T12:48:00.693Z"
   },
   {
    "duration": 9,
    "start_time": "2021-07-26T12:48:01.255Z"
   },
   {
    "duration": 300,
    "start_time": "2021-07-26T12:48:01.266Z"
   },
   {
    "duration": 227,
    "start_time": "2021-07-26T12:48:01.568Z"
   },
   {
    "duration": 14,
    "start_time": "2021-07-26T12:48:01.798Z"
   },
   {
    "duration": 48,
    "start_time": "2021-07-26T12:48:01.815Z"
   },
   {
    "duration": 27,
    "start_time": "2021-07-26T12:48:01.865Z"
   },
   {
    "duration": 22,
    "start_time": "2021-07-26T12:48:01.894Z"
   },
   {
    "duration": 46,
    "start_time": "2021-07-26T12:48:01.919Z"
   },
   {
    "duration": 24,
    "start_time": "2021-07-26T12:48:01.967Z"
   },
   {
    "duration": 6658,
    "start_time": "2021-07-26T12:48:01.993Z"
   },
   {
    "duration": 25,
    "start_time": "2021-07-26T12:48:48.231Z"
   },
   {
    "duration": 28,
    "start_time": "2021-07-26T12:50:43.996Z"
   },
   {
    "duration": 25,
    "start_time": "2021-07-26T12:50:51.819Z"
   },
   {
    "duration": 842,
    "start_time": "2021-07-26T12:51:05.047Z"
   },
   {
    "duration": 87,
    "start_time": "2021-07-26T12:51:05.892Z"
   },
   {
    "duration": 15,
    "start_time": "2021-07-26T12:51:05.981Z"
   },
   {
    "duration": 83,
    "start_time": "2021-07-26T12:51:05.998Z"
   },
   {
    "duration": 124,
    "start_time": "2021-07-26T12:51:06.083Z"
   },
   {
    "duration": 98,
    "start_time": "2021-07-26T12:51:06.209Z"
   },
   {
    "duration": 70,
    "start_time": "2021-07-26T12:51:06.309Z"
   },
   {
    "duration": 6,
    "start_time": "2021-07-26T12:51:06.382Z"
   },
   {
    "duration": 31,
    "start_time": "2021-07-26T12:51:06.391Z"
   },
   {
    "duration": 725,
    "start_time": "2021-07-26T12:51:06.424Z"
   },
   {
    "duration": 32,
    "start_time": "2021-07-26T12:51:07.152Z"
   },
   {
    "duration": 2517,
    "start_time": "2021-07-26T12:51:07.186Z"
   },
   {
    "duration": 695,
    "start_time": "2021-07-26T12:51:09.705Z"
   },
   {
    "duration": 23,
    "start_time": "2021-07-26T12:51:10.403Z"
   },
   {
    "duration": 36,
    "start_time": "2021-07-26T12:51:10.428Z"
   },
   {
    "duration": 1028,
    "start_time": "2021-07-26T12:51:10.466Z"
   },
   {
    "duration": 35,
    "start_time": "2021-07-26T12:51:11.497Z"
   },
   {
    "duration": 38,
    "start_time": "2021-07-26T12:51:11.534Z"
   },
   {
    "duration": 30,
    "start_time": "2021-07-26T12:51:11.575Z"
   },
   {
    "duration": 806,
    "start_time": "2021-07-26T12:51:11.608Z"
   },
   {
    "duration": 10,
    "start_time": "2021-07-26T12:51:12.416Z"
   },
   {
    "duration": 604,
    "start_time": "2021-07-26T12:51:12.428Z"
   },
   {
    "duration": 366,
    "start_time": "2021-07-26T12:51:13.036Z"
   },
   {
    "duration": 309,
    "start_time": "2021-07-26T12:51:13.405Z"
   },
   {
    "duration": 346,
    "start_time": "2021-07-26T12:51:13.717Z"
   },
   {
    "duration": 538,
    "start_time": "2021-07-26T12:51:14.066Z"
   },
   {
    "duration": 7,
    "start_time": "2021-07-26T12:51:14.607Z"
   },
   {
    "duration": 320,
    "start_time": "2021-07-26T12:51:14.617Z"
   },
   {
    "duration": 222,
    "start_time": "2021-07-26T12:51:14.939Z"
   },
   {
    "duration": 14,
    "start_time": "2021-07-26T12:51:15.163Z"
   },
   {
    "duration": 41,
    "start_time": "2021-07-26T12:51:15.180Z"
   },
   {
    "duration": 33,
    "start_time": "2021-07-26T12:51:15.223Z"
   },
   {
    "duration": 21,
    "start_time": "2021-07-26T12:51:15.258Z"
   },
   {
    "duration": 23,
    "start_time": "2021-07-26T12:51:15.281Z"
   },
   {
    "duration": 49,
    "start_time": "2021-07-26T12:51:15.307Z"
   },
   {
    "duration": 29,
    "start_time": "2021-07-26T12:51:15.359Z"
   },
   {
    "duration": 7,
    "start_time": "2021-07-26T12:54:41.177Z"
   },
   {
    "duration": 6,
    "start_time": "2021-07-26T12:54:57.954Z"
   },
   {
    "duration": 25,
    "start_time": "2021-07-26T13:23:22.527Z"
   },
   {
    "duration": 25,
    "start_time": "2021-07-26T13:24:29.198Z"
   },
   {
    "duration": 26,
    "start_time": "2021-07-26T13:24:41.902Z"
   },
   {
    "duration": 25,
    "start_time": "2021-07-26T13:27:15.218Z"
   },
   {
    "duration": 23,
    "start_time": "2021-07-26T13:30:29.945Z"
   },
   {
    "duration": 26,
    "start_time": "2021-07-26T13:38:55.887Z"
   },
   {
    "duration": 569,
    "start_time": "2021-07-26T13:45:04.770Z"
   },
   {
    "duration": 610,
    "start_time": "2021-07-26T13:45:49.346Z"
   },
   {
    "duration": 858,
    "start_time": "2021-07-26T13:48:38.131Z"
   },
   {
    "duration": 87,
    "start_time": "2021-07-26T13:48:38.992Z"
   },
   {
    "duration": 18,
    "start_time": "2021-07-26T13:48:39.087Z"
   },
   {
    "duration": 98,
    "start_time": "2021-07-26T13:48:39.108Z"
   },
   {
    "duration": 146,
    "start_time": "2021-07-26T13:48:39.209Z"
   },
   {
    "duration": 108,
    "start_time": "2021-07-26T13:48:39.358Z"
   },
   {
    "duration": 61,
    "start_time": "2021-07-26T13:48:39.471Z"
   },
   {
    "duration": 23,
    "start_time": "2021-07-26T13:48:39.535Z"
   },
   {
    "duration": 7,
    "start_time": "2021-07-26T13:48:39.561Z"
   },
   {
    "duration": 706,
    "start_time": "2021-07-26T13:48:39.570Z"
   },
   {
    "duration": 31,
    "start_time": "2021-07-26T13:48:40.279Z"
   },
   {
    "duration": 2549,
    "start_time": "2021-07-26T13:48:40.312Z"
   },
   {
    "duration": 706,
    "start_time": "2021-07-26T13:48:42.864Z"
   },
   {
    "duration": 21,
    "start_time": "2021-07-26T13:48:43.573Z"
   },
   {
    "duration": 23,
    "start_time": "2021-07-26T13:48:43.597Z"
   },
   {
    "duration": 959,
    "start_time": "2021-07-26T13:48:43.624Z"
   },
   {
    "duration": 35,
    "start_time": "2021-07-26T13:48:44.585Z"
   },
   {
    "duration": 41,
    "start_time": "2021-07-26T13:48:44.622Z"
   },
   {
    "duration": 25,
    "start_time": "2021-07-26T13:48:44.665Z"
   },
   {
    "duration": 824,
    "start_time": "2021-07-26T13:48:44.692Z"
   },
   {
    "duration": 12,
    "start_time": "2021-07-26T13:48:45.518Z"
   },
   {
    "duration": 599,
    "start_time": "2021-07-26T13:48:45.556Z"
   },
   {
    "duration": 378,
    "start_time": "2021-07-26T13:48:46.159Z"
   },
   {
    "duration": 330,
    "start_time": "2021-07-26T13:48:46.540Z"
   },
   {
    "duration": 346,
    "start_time": "2021-07-26T13:48:46.873Z"
   },
   {
    "duration": 591,
    "start_time": "2021-07-26T13:48:47.223Z"
   },
   {
    "duration": 10,
    "start_time": "2021-07-26T13:48:47.817Z"
   },
   {
    "duration": 321,
    "start_time": "2021-07-26T13:48:47.829Z"
   },
   {
    "duration": 235,
    "start_time": "2021-07-26T13:48:48.156Z"
   },
   {
    "duration": 14,
    "start_time": "2021-07-26T13:48:48.394Z"
   },
   {
    "duration": 498,
    "start_time": "2021-07-26T13:48:48.411Z"
   },
   {
    "duration": 525,
    "start_time": "2021-07-26T13:48:48.912Z"
   },
   {
    "duration": 455,
    "start_time": "2021-07-26T13:48:49.440Z"
   },
   {
    "duration": 452,
    "start_time": "2021-07-26T13:48:49.898Z"
   },
   {
    "duration": 498,
    "start_time": "2021-07-26T13:48:50.355Z"
   },
   {
    "duration": 496,
    "start_time": "2021-07-26T13:48:50.856Z"
   },
   {
    "duration": 6,
    "start_time": "2021-07-26T13:48:51.356Z"
   },
   {
    "duration": 306,
    "start_time": "2021-07-26T13:49:32.949Z"
   },
   {
    "duration": 366,
    "start_time": "2021-07-26T13:49:53.724Z"
   },
   {
    "duration": 299,
    "start_time": "2021-07-26T13:50:52.899Z"
   },
   {
    "duration": 885,
    "start_time": "2021-07-26T13:54:36.724Z"
   },
   {
    "duration": 94,
    "start_time": "2021-07-26T13:54:37.613Z"
   },
   {
    "duration": 16,
    "start_time": "2021-07-26T13:54:37.713Z"
   },
   {
    "duration": 86,
    "start_time": "2021-07-26T13:54:37.731Z"
   },
   {
    "duration": 145,
    "start_time": "2021-07-26T13:54:37.820Z"
   },
   {
    "duration": 103,
    "start_time": "2021-07-26T13:54:37.968Z"
   },
   {
    "duration": 64,
    "start_time": "2021-07-26T13:54:38.075Z"
   },
   {
    "duration": 6,
    "start_time": "2021-07-26T13:54:38.155Z"
   },
   {
    "duration": 10,
    "start_time": "2021-07-26T13:54:38.164Z"
   },
   {
    "duration": 680,
    "start_time": "2021-07-26T13:54:38.177Z"
   },
   {
    "duration": 30,
    "start_time": "2021-07-26T13:54:38.860Z"
   },
   {
    "duration": 2519,
    "start_time": "2021-07-26T13:54:38.892Z"
   },
   {
    "duration": 674,
    "start_time": "2021-07-26T13:54:41.414Z"
   },
   {
    "duration": 30,
    "start_time": "2021-07-26T13:54:42.091Z"
   },
   {
    "duration": 41,
    "start_time": "2021-07-26T13:54:42.124Z"
   },
   {
    "duration": 964,
    "start_time": "2021-07-26T13:54:42.168Z"
   },
   {
    "duration": 48,
    "start_time": "2021-07-26T13:54:43.134Z"
   },
   {
    "duration": 24,
    "start_time": "2021-07-26T13:54:43.184Z"
   },
   {
    "duration": 51,
    "start_time": "2021-07-26T13:54:43.211Z"
   },
   {
    "duration": 917,
    "start_time": "2021-07-26T13:54:43.265Z"
   },
   {
    "duration": 11,
    "start_time": "2021-07-26T13:54:44.184Z"
   },
   {
    "duration": 604,
    "start_time": "2021-07-26T13:54:44.202Z"
   },
   {
    "duration": 371,
    "start_time": "2021-07-26T13:54:44.808Z"
   },
   {
    "duration": 333,
    "start_time": "2021-07-26T13:54:45.182Z"
   },
   {
    "duration": 365,
    "start_time": "2021-07-26T13:54:45.517Z"
   },
   {
    "duration": 574,
    "start_time": "2021-07-26T13:54:45.884Z"
   },
   {
    "duration": 8,
    "start_time": "2021-07-26T13:54:46.460Z"
   },
   {
    "duration": 303,
    "start_time": "2021-07-26T13:54:46.470Z"
   },
   {
    "duration": 219,
    "start_time": "2021-07-26T13:54:46.775Z"
   },
   {
    "duration": 14,
    "start_time": "2021-07-26T13:54:46.997Z"
   },
   {
    "duration": 581,
    "start_time": "2021-07-26T13:54:47.014Z"
   },
   {
    "duration": 620,
    "start_time": "2021-07-26T13:54:47.598Z"
   },
   {
    "duration": 314,
    "start_time": "2021-07-26T13:54:48.221Z"
   },
   {
    "duration": 452,
    "start_time": "2021-07-26T13:54:48.538Z"
   },
   {
    "duration": 346,
    "start_time": "2021-07-26T13:54:48.992Z"
   },
   {
    "duration": 528,
    "start_time": "2021-07-26T13:54:49.340Z"
   },
   {
    "duration": 7,
    "start_time": "2021-07-26T13:54:49.870Z"
   },
   {
    "duration": 353,
    "start_time": "2021-07-26T13:57:02.653Z"
   },
   {
    "duration": 946,
    "start_time": "2021-07-26T19:09:07.034Z"
   },
   {
    "duration": 89,
    "start_time": "2021-07-26T19:09:07.982Z"
   },
   {
    "duration": 18,
    "start_time": "2021-07-26T19:09:08.075Z"
   },
   {
    "duration": 103,
    "start_time": "2021-07-26T19:09:08.096Z"
   },
   {
    "duration": 125,
    "start_time": "2021-07-26T19:09:08.202Z"
   },
   {
    "duration": 112,
    "start_time": "2021-07-26T19:09:08.329Z"
   },
   {
    "duration": 72,
    "start_time": "2021-07-26T19:09:08.444Z"
   },
   {
    "duration": 6,
    "start_time": "2021-07-26T19:09:08.520Z"
   },
   {
    "duration": 6,
    "start_time": "2021-07-26T19:09:08.529Z"
   },
   {
    "duration": 742,
    "start_time": "2021-07-26T19:09:08.537Z"
   },
   {
    "duration": 34,
    "start_time": "2021-07-26T19:09:09.281Z"
   },
   {
    "duration": 2528,
    "start_time": "2021-07-26T19:09:09.318Z"
   },
   {
    "duration": 743,
    "start_time": "2021-07-26T19:09:11.849Z"
   },
   {
    "duration": 23,
    "start_time": "2021-07-26T19:09:12.595Z"
   },
   {
    "duration": 15,
    "start_time": "2021-07-26T19:09:12.620Z"
   },
   {
    "duration": 1005,
    "start_time": "2021-07-26T19:09:12.637Z"
   },
   {
    "duration": 53,
    "start_time": "2021-07-26T19:09:13.645Z"
   },
   {
    "duration": 22,
    "start_time": "2021-07-26T19:09:13.701Z"
   },
   {
    "duration": 43,
    "start_time": "2021-07-26T19:09:13.726Z"
   },
   {
    "duration": 878,
    "start_time": "2021-07-26T19:09:13.771Z"
   },
   {
    "duration": 23,
    "start_time": "2021-07-26T19:09:14.652Z"
   },
   {
    "duration": 638,
    "start_time": "2021-07-26T19:09:14.677Z"
   },
   {
    "duration": 382,
    "start_time": "2021-07-26T19:09:15.321Z"
   },
   {
    "duration": 349,
    "start_time": "2021-07-26T19:09:15.706Z"
   },
   {
    "duration": 349,
    "start_time": "2021-07-26T19:09:16.057Z"
   },
   {
    "duration": 686,
    "start_time": "2021-07-26T19:09:16.408Z"
   },
   {
    "duration": 7,
    "start_time": "2021-07-26T19:09:17.097Z"
   },
   {
    "duration": 344,
    "start_time": "2021-07-26T19:09:17.107Z"
   },
   {
    "duration": 240,
    "start_time": "2021-07-26T19:09:17.454Z"
   },
   {
    "duration": 15,
    "start_time": "2021-07-26T19:09:17.696Z"
   },
   {
    "duration": 500,
    "start_time": "2021-07-26T19:09:17.713Z"
   },
   {
    "duration": 554,
    "start_time": "2021-07-26T19:09:18.215Z"
   },
   {
    "duration": 337,
    "start_time": "2021-07-26T19:09:18.771Z"
   },
   {
    "duration": 497,
    "start_time": "2021-07-26T19:09:19.111Z"
   },
   {
    "duration": 350,
    "start_time": "2021-07-26T19:09:19.611Z"
   },
   {
    "duration": 520,
    "start_time": "2021-07-26T19:09:19.968Z"
   },
   {
    "duration": 6,
    "start_time": "2021-07-26T19:09:20.490Z"
   },
   {
    "duration": 485,
    "start_time": "2021-07-26T19:41:11.384Z"
   },
   {
    "duration": 426,
    "start_time": "2021-07-26T19:41:32.681Z"
   },
   {
    "duration": 78,
    "start_time": "2021-07-26T19:42:22.001Z"
   },
   {
    "duration": 143,
    "start_time": "2021-07-26T19:42:35.414Z"
   },
   {
    "duration": 88,
    "start_time": "2021-07-26T19:44:26.283Z"
   },
   {
    "duration": 75,
    "start_time": "2021-07-26T19:44:43.053Z"
   },
   {
    "duration": 76,
    "start_time": "2021-07-26T19:51:24.350Z"
   },
   {
    "duration": 18,
    "start_time": "2021-07-26T19:56:16.268Z"
   },
   {
    "duration": 20,
    "start_time": "2021-07-26T19:56:41.701Z"
   },
   {
    "duration": 424,
    "start_time": "2021-07-26T20:00:05.560Z"
   },
   {
    "duration": 22,
    "start_time": "2021-07-26T20:00:29.602Z"
   },
   {
    "duration": 425,
    "start_time": "2021-07-26T20:01:04.720Z"
   },
   {
    "duration": 18,
    "start_time": "2021-07-26T20:01:10.430Z"
   },
   {
    "duration": 19,
    "start_time": "2021-07-26T20:01:53.478Z"
   },
   {
    "duration": 19,
    "start_time": "2021-07-26T20:02:05.594Z"
   },
   {
    "duration": 323,
    "start_time": "2021-07-26T20:15:59.238Z"
   },
   {
    "duration": 21,
    "start_time": "2021-07-26T20:16:11.360Z"
   },
   {
    "duration": 899,
    "start_time": "2021-07-26T20:26:56.784Z"
   },
   {
    "duration": 88,
    "start_time": "2021-07-26T20:26:57.686Z"
   },
   {
    "duration": 15,
    "start_time": "2021-07-26T20:26:57.781Z"
   },
   {
    "duration": 96,
    "start_time": "2021-07-26T20:26:57.799Z"
   },
   {
    "duration": 134,
    "start_time": "2021-07-26T20:26:57.897Z"
   },
   {
    "duration": 108,
    "start_time": "2021-07-26T20:26:58.033Z"
   },
   {
    "duration": 75,
    "start_time": "2021-07-26T20:26:58.144Z"
   },
   {
    "duration": 7,
    "start_time": "2021-07-26T20:26:58.223Z"
   },
   {
    "duration": 8,
    "start_time": "2021-07-26T20:26:58.233Z"
   },
   {
    "duration": 707,
    "start_time": "2021-07-26T20:26:58.269Z"
   },
   {
    "duration": 34,
    "start_time": "2021-07-26T20:26:58.978Z"
   },
   {
    "duration": 2559,
    "start_time": "2021-07-26T20:26:59.015Z"
   },
   {
    "duration": 719,
    "start_time": "2021-07-26T20:27:01.577Z"
   },
   {
    "duration": 22,
    "start_time": "2021-07-26T20:27:02.299Z"
   },
   {
    "duration": 16,
    "start_time": "2021-07-26T20:27:02.323Z"
   },
   {
    "duration": 987,
    "start_time": "2021-07-26T20:27:02.341Z"
   },
   {
    "duration": 50,
    "start_time": "2021-07-26T20:27:03.331Z"
   },
   {
    "duration": 22,
    "start_time": "2021-07-26T20:27:03.383Z"
   },
   {
    "duration": 36,
    "start_time": "2021-07-26T20:27:03.408Z"
   },
   {
    "duration": 874,
    "start_time": "2021-07-26T20:27:03.447Z"
   },
   {
    "duration": 11,
    "start_time": "2021-07-26T20:27:04.324Z"
   },
   {
    "duration": 651,
    "start_time": "2021-07-26T20:27:04.340Z"
   },
   {
    "duration": 391,
    "start_time": "2021-07-26T20:27:04.994Z"
   },
   {
    "duration": 357,
    "start_time": "2021-07-26T20:27:05.387Z"
   },
   {
    "duration": 387,
    "start_time": "2021-07-26T20:27:05.747Z"
   },
   {
    "duration": 595,
    "start_time": "2021-07-26T20:27:06.137Z"
   },
   {
    "duration": 7,
    "start_time": "2021-07-26T20:27:06.734Z"
   },
   {
    "duration": 346,
    "start_time": "2021-07-26T20:27:06.744Z"
   },
   {
    "duration": 243,
    "start_time": "2021-07-26T20:27:07.092Z"
   },
   {
    "duration": 15,
    "start_time": "2021-07-26T20:27:07.337Z"
   },
   {
    "duration": 493,
    "start_time": "2021-07-26T20:27:07.368Z"
   },
   {
    "duration": 565,
    "start_time": "2021-07-26T20:27:07.866Z"
   },
   {
    "duration": 349,
    "start_time": "2021-07-26T20:27:08.433Z"
   },
   {
    "duration": 504,
    "start_time": "2021-07-26T20:27:08.785Z"
   },
   {
    "duration": 360,
    "start_time": "2021-07-26T20:27:09.292Z"
   },
   {
    "duration": 512,
    "start_time": "2021-07-26T20:27:09.655Z"
   },
   {
    "duration": 5,
    "start_time": "2021-07-26T20:27:10.169Z"
   },
   {
    "duration": 107,
    "start_time": "2021-07-26T20:27:10.177Z"
   },
   {
    "duration": 20,
    "start_time": "2021-07-26T20:27:10.286Z"
   },
   {
    "duration": 20,
    "start_time": "2021-07-26T20:27:10.309Z"
   },
   {
    "duration": 9,
    "start_time": "2021-07-26T20:28:15.210Z"
   },
   {
    "duration": 827,
    "start_time": "2021-07-26T20:35:47.845Z"
   },
   {
    "duration": 895,
    "start_time": "2021-07-26T20:35:54.064Z"
   },
   {
    "duration": 86,
    "start_time": "2021-07-26T20:35:54.962Z"
   },
   {
    "duration": 24,
    "start_time": "2021-07-26T20:35:55.051Z"
   },
   {
    "duration": 89,
    "start_time": "2021-07-26T20:35:55.078Z"
   },
   {
    "duration": 122,
    "start_time": "2021-07-26T20:35:55.170Z"
   },
   {
    "duration": 106,
    "start_time": "2021-07-26T20:35:55.294Z"
   },
   {
    "duration": 69,
    "start_time": "2021-07-26T20:35:55.402Z"
   },
   {
    "duration": 5,
    "start_time": "2021-07-26T20:35:55.473Z"
   },
   {
    "duration": 8,
    "start_time": "2021-07-26T20:35:55.482Z"
   },
   {
    "duration": 743,
    "start_time": "2021-07-26T20:35:55.493Z"
   },
   {
    "duration": 45,
    "start_time": "2021-07-26T20:35:56.239Z"
   },
   {
    "duration": 2618,
    "start_time": "2021-07-26T20:35:56.286Z"
   },
   {
    "duration": 718,
    "start_time": "2021-07-26T20:35:58.907Z"
   },
   {
    "duration": 23,
    "start_time": "2021-07-26T20:35:59.628Z"
   },
   {
    "duration": 16,
    "start_time": "2021-07-26T20:35:59.668Z"
   },
   {
    "duration": 1037,
    "start_time": "2021-07-26T20:35:59.687Z"
   },
   {
    "duration": 37,
    "start_time": "2021-07-26T20:36:00.726Z"
   },
   {
    "duration": 24,
    "start_time": "2021-07-26T20:36:00.768Z"
   },
   {
    "duration": 34,
    "start_time": "2021-07-26T20:36:00.794Z"
   },
   {
    "duration": 1037,
    "start_time": "2021-07-26T20:36:00.830Z"
   },
   {
    "duration": 7,
    "start_time": "2021-07-26T20:36:01.869Z"
   },
   {
    "duration": 20,
    "start_time": "2021-07-26T20:36:01.878Z"
   },
   {
    "duration": 642,
    "start_time": "2021-07-26T20:36:01.901Z"
   },
   {
    "duration": 400,
    "start_time": "2021-07-26T20:36:02.547Z"
   },
   {
    "duration": 343,
    "start_time": "2021-07-26T20:36:02.949Z"
   },
   {
    "duration": 351,
    "start_time": "2021-07-26T20:36:03.294Z"
   },
   {
    "duration": 608,
    "start_time": "2021-07-26T20:36:03.650Z"
   },
   {
    "duration": 12,
    "start_time": "2021-07-26T20:36:04.261Z"
   },
   {
    "duration": 328,
    "start_time": "2021-07-26T20:36:04.275Z"
   },
   {
    "duration": 247,
    "start_time": "2021-07-26T20:36:04.606Z"
   },
   {
    "duration": 24,
    "start_time": "2021-07-26T20:36:04.855Z"
   },
   {
    "duration": 508,
    "start_time": "2021-07-26T20:36:04.882Z"
   },
   {
    "duration": 567,
    "start_time": "2021-07-26T20:36:05.393Z"
   },
   {
    "duration": 347,
    "start_time": "2021-07-26T20:36:05.962Z"
   },
   {
    "duration": 485,
    "start_time": "2021-07-26T20:36:06.312Z"
   },
   {
    "duration": 335,
    "start_time": "2021-07-26T20:36:06.799Z"
   },
   {
    "duration": 525,
    "start_time": "2021-07-26T20:36:07.137Z"
   },
   {
    "duration": 7,
    "start_time": "2021-07-26T20:36:07.668Z"
   },
   {
    "duration": 112,
    "start_time": "2021-07-26T20:36:07.678Z"
   },
   {
    "duration": 21,
    "start_time": "2021-07-26T20:36:07.793Z"
   },
   {
    "duration": 51,
    "start_time": "2021-07-26T20:36:07.817Z"
   },
   {
    "duration": 550,
    "start_time": "2021-07-26T20:36:07.872Z"
   },
   {
    "duration": 24,
    "start_time": "2021-07-26T20:36:54.709Z"
   },
   {
    "duration": 30,
    "start_time": "2021-07-26T20:37:19.674Z"
   },
   {
    "duration": 31,
    "start_time": "2021-07-26T20:38:32.744Z"
   },
   {
    "duration": 746,
    "start_time": "2021-07-26T20:39:15.734Z"
   },
   {
    "duration": 29,
    "start_time": "2021-07-26T20:40:27.342Z"
   },
   {
    "duration": 31,
    "start_time": "2021-07-26T20:41:40.414Z"
   },
   {
    "duration": 31,
    "start_time": "2021-07-26T20:41:48.745Z"
   },
   {
    "duration": 18,
    "start_time": "2021-07-26T20:47:29.204Z"
   },
   {
    "duration": 19,
    "start_time": "2021-07-26T20:49:21.294Z"
   },
   {
    "duration": 7,
    "start_time": "2021-07-26T20:49:57.123Z"
   },
   {
    "duration": 13,
    "start_time": "2021-07-26T20:50:15.165Z"
   },
   {
    "duration": 15,
    "start_time": "2021-07-26T20:50:26.439Z"
   },
   {
    "duration": 9,
    "start_time": "2021-07-26T20:50:58.956Z"
   },
   {
    "duration": 19,
    "start_time": "2021-07-26T20:52:03.857Z"
   },
   {
    "duration": 13,
    "start_time": "2021-07-26T20:52:08.683Z"
   },
   {
    "duration": 35,
    "start_time": "2021-07-26T20:52:17.175Z"
   },
   {
    "duration": 412,
    "start_time": "2021-07-26T20:55:02.440Z"
   },
   {
    "duration": 25,
    "start_time": "2021-07-26T20:55:20.631Z"
   },
   {
    "duration": 355,
    "start_time": "2021-07-26T20:55:49.310Z"
   },
   {
    "duration": 24,
    "start_time": "2021-07-26T20:56:19.987Z"
   },
   {
    "duration": 11,
    "start_time": "2021-07-26T21:05:23.920Z"
   },
   {
    "duration": 21,
    "start_time": "2021-07-26T21:05:38.103Z"
   },
   {
    "duration": 10246,
    "start_time": "2021-07-26T21:11:52.693Z"
   },
   {
    "duration": 9751,
    "start_time": "2021-07-26T21:12:22.741Z"
   },
   {
    "duration": 18,
    "start_time": "2021-07-26T21:13:06.752Z"
   },
   {
    "duration": 19,
    "start_time": "2021-07-26T21:17:05.152Z"
   },
   {
    "duration": 17,
    "start_time": "2021-07-26T21:17:18.931Z"
   },
   {
    "duration": 17,
    "start_time": "2021-07-26T21:17:29.421Z"
   },
   {
    "duration": 953,
    "start_time": "2021-07-26T21:17:41.447Z"
   },
   {
    "duration": 87,
    "start_time": "2021-07-26T21:17:42.403Z"
   },
   {
    "duration": 16,
    "start_time": "2021-07-26T21:17:42.493Z"
   },
   {
    "duration": 92,
    "start_time": "2021-07-26T21:17:42.512Z"
   },
   {
    "duration": 130,
    "start_time": "2021-07-26T21:17:42.606Z"
   },
   {
    "duration": 107,
    "start_time": "2021-07-26T21:17:42.739Z"
   },
   {
    "duration": 74,
    "start_time": "2021-07-26T21:17:42.848Z"
   },
   {
    "duration": 6,
    "start_time": "2021-07-26T21:17:42.925Z"
   },
   {
    "duration": 5,
    "start_time": "2021-07-26T21:17:42.934Z"
   },
   {
    "duration": 732,
    "start_time": "2021-07-26T21:17:42.942Z"
   },
   {
    "duration": 32,
    "start_time": "2021-07-26T21:17:43.677Z"
   },
   {
    "duration": 2600,
    "start_time": "2021-07-26T21:17:43.712Z"
   },
   {
    "duration": 799,
    "start_time": "2021-07-26T21:17:46.315Z"
   },
   {
    "duration": 23,
    "start_time": "2021-07-26T21:17:47.117Z"
   },
   {
    "duration": 32,
    "start_time": "2021-07-26T21:17:47.142Z"
   },
   {
    "duration": 989,
    "start_time": "2021-07-26T21:17:47.176Z"
   },
   {
    "duration": 39,
    "start_time": "2021-07-26T21:17:48.167Z"
   },
   {
    "duration": 22,
    "start_time": "2021-07-26T21:17:48.209Z"
   },
   {
    "duration": 48,
    "start_time": "2021-07-26T21:17:48.234Z"
   },
   {
    "duration": 887,
    "start_time": "2021-07-26T21:17:48.284Z"
   },
   {
    "duration": 7,
    "start_time": "2021-07-26T21:17:49.173Z"
   },
   {
    "duration": 16,
    "start_time": "2021-07-26T21:17:49.183Z"
   },
   {
    "duration": 642,
    "start_time": "2021-07-26T21:17:49.204Z"
   },
   {
    "duration": 387,
    "start_time": "2021-07-26T21:17:49.849Z"
   },
   {
    "duration": 348,
    "start_time": "2021-07-26T21:17:50.239Z"
   },
   {
    "duration": 353,
    "start_time": "2021-07-26T21:17:50.590Z"
   },
   {
    "duration": 592,
    "start_time": "2021-07-26T21:17:50.945Z"
   },
   {
    "duration": 8,
    "start_time": "2021-07-26T21:17:51.539Z"
   },
   {
    "duration": 344,
    "start_time": "2021-07-26T21:17:51.549Z"
   },
   {
    "duration": 251,
    "start_time": "2021-07-26T21:17:51.896Z"
   },
   {
    "duration": 24,
    "start_time": "2021-07-26T21:17:52.150Z"
   },
   {
    "duration": 505,
    "start_time": "2021-07-26T21:17:52.176Z"
   },
   {
    "duration": 575,
    "start_time": "2021-07-26T21:17:52.683Z"
   },
   {
    "duration": 356,
    "start_time": "2021-07-26T21:17:53.261Z"
   },
   {
    "duration": 515,
    "start_time": "2021-07-26T21:17:53.619Z"
   },
   {
    "duration": 348,
    "start_time": "2021-07-26T21:17:54.136Z"
   },
   {
    "duration": 518,
    "start_time": "2021-07-26T21:17:54.486Z"
   },
   {
    "duration": 6,
    "start_time": "2021-07-26T21:17:55.006Z"
   },
   {
    "duration": 108,
    "start_time": "2021-07-26T21:17:55.014Z"
   },
   {
    "duration": 20,
    "start_time": "2021-07-26T21:17:55.124Z"
   },
   {
    "duration": 33,
    "start_time": "2021-07-26T21:17:55.147Z"
   },
   {
    "duration": 29,
    "start_time": "2021-07-26T21:17:55.182Z"
   },
   {
    "duration": 60,
    "start_time": "2021-07-26T21:17:55.214Z"
   },
   {
    "duration": 30,
    "start_time": "2021-07-26T21:17:55.276Z"
   },
   {
    "duration": 26,
    "start_time": "2021-07-26T21:17:55.309Z"
   },
   {
    "duration": 48,
    "start_time": "2021-07-26T21:17:55.337Z"
   },
   {
    "duration": 19,
    "start_time": "2021-07-26T21:18:51.703Z"
   },
   {
    "duration": 12,
    "start_time": "2021-07-26T21:20:29.424Z"
   },
   {
    "duration": 12,
    "start_time": "2021-07-26T21:20:50.733Z"
   },
   {
    "duration": 21,
    "start_time": "2021-07-26T21:22:06.473Z"
   },
   {
    "duration": 21,
    "start_time": "2021-07-26T21:22:47.392Z"
   },
   {
    "duration": 926,
    "start_time": "2021-07-26T21:25:27.832Z"
   },
   {
    "duration": 91,
    "start_time": "2021-07-26T21:25:28.761Z"
   },
   {
    "duration": 22,
    "start_time": "2021-07-26T21:25:28.855Z"
   },
   {
    "duration": 87,
    "start_time": "2021-07-26T21:25:28.880Z"
   },
   {
    "duration": 123,
    "start_time": "2021-07-26T21:25:28.969Z"
   },
   {
    "duration": 106,
    "start_time": "2021-07-26T21:25:29.095Z"
   },
   {
    "duration": 66,
    "start_time": "2021-07-26T21:25:29.203Z"
   },
   {
    "duration": 6,
    "start_time": "2021-07-26T21:25:29.273Z"
   },
   {
    "duration": 5,
    "start_time": "2021-07-26T21:25:29.282Z"
   },
   {
    "duration": 709,
    "start_time": "2021-07-26T21:25:29.290Z"
   },
   {
    "duration": 32,
    "start_time": "2021-07-26T21:25:30.002Z"
   },
   {
    "duration": 2568,
    "start_time": "2021-07-26T21:25:30.037Z"
   },
   {
    "duration": 731,
    "start_time": "2021-07-26T21:25:32.608Z"
   },
   {
    "duration": 31,
    "start_time": "2021-07-26T21:25:33.341Z"
   },
   {
    "duration": 16,
    "start_time": "2021-07-26T21:25:33.374Z"
   },
   {
    "duration": 962,
    "start_time": "2021-07-26T21:25:33.393Z"
   },
   {
    "duration": 43,
    "start_time": "2021-07-26T21:25:34.357Z"
   },
   {
    "duration": 22,
    "start_time": "2021-07-26T21:25:34.402Z"
   },
   {
    "duration": 45,
    "start_time": "2021-07-26T21:25:34.426Z"
   },
   {
    "duration": 865,
    "start_time": "2021-07-26T21:25:34.473Z"
   },
   {
    "duration": 7,
    "start_time": "2021-07-26T21:25:35.341Z"
   },
   {
    "duration": 11,
    "start_time": "2021-07-26T21:25:35.367Z"
   },
   {
    "duration": 649,
    "start_time": "2021-07-26T21:25:35.383Z"
   },
   {
    "duration": 394,
    "start_time": "2021-07-26T21:25:36.035Z"
   },
   {
    "duration": 348,
    "start_time": "2021-07-26T21:25:36.431Z"
   },
   {
    "duration": 362,
    "start_time": "2021-07-26T21:25:36.782Z"
   },
   {
    "duration": 598,
    "start_time": "2021-07-26T21:25:37.146Z"
   },
   {
    "duration": 8,
    "start_time": "2021-07-26T21:25:37.747Z"
   },
   {
    "duration": 327,
    "start_time": "2021-07-26T21:25:37.768Z"
   },
   {
    "duration": 238,
    "start_time": "2021-07-26T21:25:38.098Z"
   },
   {
    "duration": 16,
    "start_time": "2021-07-26T21:25:38.338Z"
   },
   {
    "duration": 521,
    "start_time": "2021-07-26T21:25:38.368Z"
   },
   {
    "duration": 560,
    "start_time": "2021-07-26T21:25:38.892Z"
   },
   {
    "duration": 352,
    "start_time": "2021-07-26T21:25:39.455Z"
   },
   {
    "duration": 602,
    "start_time": "2021-07-26T21:25:39.809Z"
   },
   {
    "duration": 349,
    "start_time": "2021-07-26T21:25:40.414Z"
   },
   {
    "duration": 525,
    "start_time": "2021-07-26T21:25:40.767Z"
   },
   {
    "duration": 6,
    "start_time": "2021-07-26T21:25:41.295Z"
   },
   {
    "duration": 110,
    "start_time": "2021-07-26T21:25:41.303Z"
   },
   {
    "duration": 19,
    "start_time": "2021-07-26T21:25:41.416Z"
   },
   {
    "duration": 38,
    "start_time": "2021-07-26T21:25:41.437Z"
   },
   {
    "duration": 30,
    "start_time": "2021-07-26T21:25:41.477Z"
   },
   {
    "duration": 60,
    "start_time": "2021-07-26T21:25:41.509Z"
   },
   {
    "duration": 31,
    "start_time": "2021-07-26T21:25:41.571Z"
   },
   {
    "duration": 25,
    "start_time": "2021-07-26T21:25:41.604Z"
   },
   {
    "duration": 52,
    "start_time": "2021-07-26T21:25:41.631Z"
   },
   {
    "duration": 13,
    "start_time": "2021-07-26T21:27:10.398Z"
   },
   {
    "duration": 15,
    "start_time": "2021-07-26T21:27:50.669Z"
   },
   {
    "duration": 13,
    "start_time": "2021-07-26T21:28:11.438Z"
   },
   {
    "duration": 14,
    "start_time": "2021-07-26T21:28:26.925Z"
   },
   {
    "duration": 487,
    "start_time": "2021-07-26T21:28:39.040Z"
   },
   {
    "duration": 488,
    "start_time": "2021-07-26T21:28:43.747Z"
   },
   {
    "duration": 383,
    "start_time": "2021-07-26T21:28:50.468Z"
   },
   {
    "duration": 15,
    "start_time": "2021-07-26T21:29:05.470Z"
   },
   {
    "duration": 23,
    "start_time": "2021-07-26T21:33:05.548Z"
   },
   {
    "duration": 401,
    "start_time": "2021-07-26T21:34:34.469Z"
   },
   {
    "duration": 545,
    "start_time": "2021-07-26T21:35:17.566Z"
   },
   {
    "duration": 615,
    "start_time": "2021-07-26T21:35:44.019Z"
   },
   {
    "duration": 384,
    "start_time": "2021-07-26T21:35:49.983Z"
   },
   {
    "duration": 23,
    "start_time": "2021-07-26T21:37:18.538Z"
   },
   {
    "duration": 32,
    "start_time": "2021-07-26T21:37:52.529Z"
   },
   {
    "duration": 382,
    "start_time": "2021-07-27T05:39:47.295Z"
   },
   {
    "duration": 822,
    "start_time": "2021-07-27T05:39:53.876Z"
   },
   {
    "duration": 89,
    "start_time": "2021-07-27T05:39:54.700Z"
   },
   {
    "duration": 15,
    "start_time": "2021-07-27T05:39:54.792Z"
   },
   {
    "duration": 83,
    "start_time": "2021-07-27T05:39:54.809Z"
   },
   {
    "duration": 122,
    "start_time": "2021-07-27T05:39:54.894Z"
   },
   {
    "duration": 103,
    "start_time": "2021-07-27T05:39:55.018Z"
   },
   {
    "duration": 64,
    "start_time": "2021-07-27T05:39:55.124Z"
   },
   {
    "duration": 5,
    "start_time": "2021-07-27T05:39:55.191Z"
   },
   {
    "duration": 5,
    "start_time": "2021-07-27T05:39:55.199Z"
   },
   {
    "duration": 708,
    "start_time": "2021-07-27T05:39:55.207Z"
   },
   {
    "duration": 39,
    "start_time": "2021-07-27T05:39:55.918Z"
   },
   {
    "duration": 2313,
    "start_time": "2021-07-27T05:39:55.959Z"
   },
   {
    "duration": 646,
    "start_time": "2021-07-27T05:39:58.275Z"
   },
   {
    "duration": 34,
    "start_time": "2021-07-27T05:39:58.924Z"
   },
   {
    "duration": 14,
    "start_time": "2021-07-27T05:39:58.961Z"
   },
   {
    "duration": 1092,
    "start_time": "2021-07-27T05:39:58.978Z"
   },
   {
    "duration": 36,
    "start_time": "2021-07-27T05:40:00.073Z"
   },
   {
    "duration": 47,
    "start_time": "2021-07-27T05:40:00.111Z"
   },
   {
    "duration": 24,
    "start_time": "2021-07-27T05:40:00.160Z"
   },
   {
    "duration": 787,
    "start_time": "2021-07-27T05:40:00.186Z"
   },
   {
    "duration": 6,
    "start_time": "2021-07-27T05:40:00.976Z"
   },
   {
    "duration": 21,
    "start_time": "2021-07-27T05:40:00.984Z"
   },
   {
    "duration": 593,
    "start_time": "2021-07-27T05:40:01.010Z"
   },
   {
    "duration": 369,
    "start_time": "2021-07-27T05:40:01.606Z"
   },
   {
    "duration": 332,
    "start_time": "2021-07-27T05:40:01.978Z"
   },
   {
    "duration": 327,
    "start_time": "2021-07-27T05:40:02.312Z"
   },
   {
    "duration": 589,
    "start_time": "2021-07-27T05:40:02.641Z"
   },
   {
    "duration": 7,
    "start_time": "2021-07-27T05:40:03.233Z"
   },
   {
    "duration": 294,
    "start_time": "2021-07-27T05:40:03.256Z"
   },
   {
    "duration": 232,
    "start_time": "2021-07-27T05:40:03.555Z"
   },
   {
    "duration": 14,
    "start_time": "2021-07-27T05:40:03.789Z"
   },
   {
    "duration": 480,
    "start_time": "2021-07-27T05:40:03.805Z"
   },
   {
    "duration": 552,
    "start_time": "2021-07-27T05:40:04.287Z"
   },
   {
    "duration": 377,
    "start_time": "2021-07-27T05:40:04.841Z"
   },
   {
    "duration": 568,
    "start_time": "2021-07-27T05:40:05.221Z"
   },
   {
    "duration": 312,
    "start_time": "2021-07-27T05:40:05.792Z"
   },
   {
    "duration": 495,
    "start_time": "2021-07-27T05:40:06.106Z"
   },
   {
    "duration": 6,
    "start_time": "2021-07-27T05:40:06.605Z"
   },
   {
    "duration": 110,
    "start_time": "2021-07-27T05:40:06.614Z"
   },
   {
    "duration": 30,
    "start_time": "2021-07-27T05:40:06.727Z"
   },
   {
    "duration": 16,
    "start_time": "2021-07-27T05:40:06.759Z"
   },
   {
    "duration": 28,
    "start_time": "2021-07-27T05:40:06.777Z"
   },
   {
    "duration": 56,
    "start_time": "2021-07-27T05:40:06.808Z"
   },
   {
    "duration": 28,
    "start_time": "2021-07-27T05:40:06.866Z"
   },
   {
    "duration": 23,
    "start_time": "2021-07-27T05:40:06.897Z"
   },
   {
    "duration": 46,
    "start_time": "2021-07-27T05:40:06.922Z"
   },
   {
    "duration": 499,
    "start_time": "2021-07-27T05:40:06.970Z"
   },
   {
    "duration": 470,
    "start_time": "2021-07-27T06:19:41.265Z"
   },
   {
    "duration": 481,
    "start_time": "2021-07-27T06:26:34.612Z"
   },
   {
    "duration": 542,
    "start_time": "2021-07-27T06:29:52.599Z"
   },
   {
    "duration": 939,
    "start_time": "2021-07-27T06:31:40.271Z"
   },
   {
    "duration": 545,
    "start_time": "2021-07-27T06:31:52.117Z"
   },
   {
    "duration": 522,
    "start_time": "2021-07-27T06:32:33.931Z"
   },
   {
    "duration": 8317,
    "start_time": "2021-07-27T06:33:46.820Z"
   },
   {
    "duration": 6452,
    "start_time": "2021-07-27T06:50:22.691Z"
   },
   {
    "duration": 504,
    "start_time": "2021-07-27T06:50:43.859Z"
   },
   {
    "duration": 24,
    "start_time": "2021-07-27T06:55:37.475Z"
   },
   {
    "duration": 899,
    "start_time": "2021-07-27T06:56:11.579Z"
   },
   {
    "duration": 88,
    "start_time": "2021-07-27T06:56:12.480Z"
   },
   {
    "duration": 16,
    "start_time": "2021-07-27T06:56:12.571Z"
   },
   {
    "duration": 91,
    "start_time": "2021-07-27T06:56:12.590Z"
   },
   {
    "duration": 130,
    "start_time": "2021-07-27T06:56:12.684Z"
   },
   {
    "duration": 103,
    "start_time": "2021-07-27T06:56:12.816Z"
   },
   {
    "duration": 74,
    "start_time": "2021-07-27T06:56:12.922Z"
   },
   {
    "duration": 6,
    "start_time": "2021-07-27T06:56:12.999Z"
   },
   {
    "duration": 8,
    "start_time": "2021-07-27T06:56:13.008Z"
   },
   {
    "duration": 1007,
    "start_time": "2021-07-27T06:56:13.018Z"
   },
   {
    "duration": 44,
    "start_time": "2021-07-27T06:56:14.028Z"
   },
   {
    "duration": 2550,
    "start_time": "2021-07-27T06:56:14.075Z"
   },
   {
    "duration": 694,
    "start_time": "2021-07-27T06:56:16.627Z"
   },
   {
    "duration": 43,
    "start_time": "2021-07-27T06:56:17.323Z"
   },
   {
    "duration": 22,
    "start_time": "2021-07-27T06:56:17.369Z"
   },
   {
    "duration": 973,
    "start_time": "2021-07-27T06:56:17.394Z"
   },
   {
    "duration": 38,
    "start_time": "2021-07-27T06:56:18.370Z"
   },
   {
    "duration": 50,
    "start_time": "2021-07-27T06:56:18.410Z"
   },
   {
    "duration": 25,
    "start_time": "2021-07-27T06:56:18.463Z"
   },
   {
    "duration": 960,
    "start_time": "2021-07-27T06:56:18.491Z"
   },
   {
    "duration": 7,
    "start_time": "2021-07-27T06:56:19.456Z"
   },
   {
    "duration": 14,
    "start_time": "2021-07-27T06:56:19.465Z"
   },
   {
    "duration": 699,
    "start_time": "2021-07-27T06:56:19.485Z"
   },
   {
    "duration": 503,
    "start_time": "2021-07-27T06:56:20.188Z"
   },
   {
    "duration": 321,
    "start_time": "2021-07-27T06:56:20.693Z"
   },
   {
    "duration": 324,
    "start_time": "2021-07-27T06:56:21.017Z"
   },
   {
    "duration": 626,
    "start_time": "2021-07-27T06:56:21.356Z"
   },
   {
    "duration": 8,
    "start_time": "2021-07-27T06:56:21.984Z"
   },
   {
    "duration": 314,
    "start_time": "2021-07-27T06:56:21.994Z"
   },
   {
    "duration": 236,
    "start_time": "2021-07-27T06:56:22.310Z"
   },
   {
    "duration": 17,
    "start_time": "2021-07-27T06:56:22.557Z"
   },
   {
    "duration": 491,
    "start_time": "2021-07-27T06:56:22.578Z"
   },
   {
    "duration": 545,
    "start_time": "2021-07-27T06:56:23.072Z"
   },
   {
    "duration": 328,
    "start_time": "2021-07-27T06:56:23.620Z"
   },
   {
    "duration": 480,
    "start_time": "2021-07-27T06:56:23.951Z"
   },
   {
    "duration": 351,
    "start_time": "2021-07-27T06:56:24.434Z"
   },
   {
    "duration": 495,
    "start_time": "2021-07-27T06:56:24.787Z"
   },
   {
    "duration": 6,
    "start_time": "2021-07-27T06:56:25.284Z"
   },
   {
    "duration": 108,
    "start_time": "2021-07-27T06:56:25.292Z"
   },
   {
    "duration": 20,
    "start_time": "2021-07-27T06:56:25.402Z"
   },
   {
    "duration": 35,
    "start_time": "2021-07-27T06:56:25.425Z"
   },
   {
    "duration": 31,
    "start_time": "2021-07-27T06:56:25.463Z"
   },
   {
    "duration": 61,
    "start_time": "2021-07-27T06:56:25.496Z"
   },
   {
    "duration": 31,
    "start_time": "2021-07-27T06:56:25.561Z"
   },
   {
    "duration": 25,
    "start_time": "2021-07-27T06:56:25.595Z"
   },
   {
    "duration": 47,
    "start_time": "2021-07-27T06:56:25.622Z"
   },
   {
    "duration": 544,
    "start_time": "2021-07-27T06:56:25.671Z"
   },
   {
    "duration": 884,
    "start_time": "2021-07-27T06:58:39.816Z"
   },
   {
    "duration": 100,
    "start_time": "2021-07-27T06:58:40.703Z"
   },
   {
    "duration": 17,
    "start_time": "2021-07-27T06:58:40.807Z"
   },
   {
    "duration": 89,
    "start_time": "2021-07-27T06:58:40.828Z"
   },
   {
    "duration": 130,
    "start_time": "2021-07-27T06:58:40.920Z"
   },
   {
    "duration": 110,
    "start_time": "2021-07-27T06:58:41.052Z"
   },
   {
    "duration": 63,
    "start_time": "2021-07-27T06:58:41.165Z"
   },
   {
    "duration": 25,
    "start_time": "2021-07-27T06:58:41.234Z"
   },
   {
    "duration": 5,
    "start_time": "2021-07-27T06:58:41.263Z"
   },
   {
    "duration": 672,
    "start_time": "2021-07-27T06:58:41.271Z"
   },
   {
    "duration": 32,
    "start_time": "2021-07-27T06:58:41.945Z"
   },
   {
    "duration": 2384,
    "start_time": "2021-07-27T06:58:41.979Z"
   },
   {
    "duration": 669,
    "start_time": "2021-07-27T06:58:44.366Z"
   },
   {
    "duration": 25,
    "start_time": "2021-07-27T06:58:45.037Z"
   },
   {
    "duration": 14,
    "start_time": "2021-07-27T06:58:45.065Z"
   },
   {
    "duration": 903,
    "start_time": "2021-07-27T06:58:45.082Z"
   },
   {
    "duration": 35,
    "start_time": "2021-07-27T06:58:45.987Z"
   },
   {
    "duration": 40,
    "start_time": "2021-07-27T06:58:46.024Z"
   },
   {
    "duration": 25,
    "start_time": "2021-07-27T06:58:46.066Z"
   },
   {
    "duration": 794,
    "start_time": "2021-07-27T06:58:46.093Z"
   },
   {
    "duration": 7,
    "start_time": "2021-07-27T06:58:46.890Z"
   },
   {
    "duration": 12,
    "start_time": "2021-07-27T06:58:46.900Z"
   },
   {
    "duration": 636,
    "start_time": "2021-07-27T06:58:46.917Z"
   },
   {
    "duration": 349,
    "start_time": "2021-07-27T06:58:47.556Z"
   },
   {
    "duration": 311,
    "start_time": "2021-07-27T06:58:47.907Z"
   },
   {
    "duration": 326,
    "start_time": "2021-07-27T06:58:48.220Z"
   },
   {
    "duration": 554,
    "start_time": "2021-07-27T06:58:48.556Z"
   },
   {
    "duration": 8,
    "start_time": "2021-07-27T06:58:49.113Z"
   },
   {
    "duration": 316,
    "start_time": "2021-07-27T06:58:49.123Z"
   },
   {
    "duration": 239,
    "start_time": "2021-07-27T06:58:49.441Z"
   },
   {
    "duration": 15,
    "start_time": "2021-07-27T06:58:49.682Z"
   },
   {
    "duration": 480,
    "start_time": "2021-07-27T06:58:49.700Z"
   },
   {
    "duration": 525,
    "start_time": "2021-07-27T06:58:50.183Z"
   },
   {
    "duration": 327,
    "start_time": "2021-07-27T06:58:50.710Z"
   },
   {
    "duration": 473,
    "start_time": "2021-07-27T06:58:51.040Z"
   },
   {
    "duration": 321,
    "start_time": "2021-07-27T06:58:51.516Z"
   },
   {
    "duration": 573,
    "start_time": "2021-07-27T06:58:51.840Z"
   },
   {
    "duration": 5,
    "start_time": "2021-07-27T06:58:52.416Z"
   },
   {
    "duration": 105,
    "start_time": "2021-07-27T06:58:52.425Z"
   },
   {
    "duration": 30,
    "start_time": "2021-07-27T06:58:52.533Z"
   },
   {
    "duration": 17,
    "start_time": "2021-07-27T06:58:52.566Z"
   },
   {
    "duration": 35,
    "start_time": "2021-07-27T06:58:52.586Z"
   },
   {
    "duration": 49,
    "start_time": "2021-07-27T06:58:52.623Z"
   },
   {
    "duration": 27,
    "start_time": "2021-07-27T06:58:52.675Z"
   },
   {
    "duration": 53,
    "start_time": "2021-07-27T06:58:52.704Z"
   },
   {
    "duration": 15,
    "start_time": "2021-07-27T06:58:52.760Z"
   },
   {
    "duration": 509,
    "start_time": "2021-07-27T06:58:52.778Z"
   },
   {
    "duration": 133370,
    "start_time": "2021-07-27T06:58:53.290Z"
   },
   {
    "duration": 496,
    "start_time": "2021-07-27T07:02:11.077Z"
   },
   {
    "duration": 684,
    "start_time": "2021-07-27T07:04:14.423Z"
   },
   {
    "duration": 514,
    "start_time": "2021-07-27T07:06:34.935Z"
   },
   {
    "duration": 507,
    "start_time": "2021-07-27T07:06:54.006Z"
   },
   {
    "duration": 5,
    "start_time": "2021-07-27T07:13:36.190Z"
   },
   {
    "duration": 6,
    "start_time": "2021-07-27T07:14:02.606Z"
   },
   {
    "duration": 5,
    "start_time": "2021-07-27T07:14:13.059Z"
   },
   {
    "duration": 7,
    "start_time": "2021-07-27T07:16:05.092Z"
   },
   {
    "duration": 103,
    "start_time": "2021-07-27T07:16:15.837Z"
   },
   {
    "duration": 6,
    "start_time": "2021-07-27T07:16:33.379Z"
   },
   {
    "duration": 382,
    "start_time": "2021-07-27T07:40:30.740Z"
   },
   {
    "duration": 10,
    "start_time": "2021-07-27T07:40:47.909Z"
   },
   {
    "duration": 216,
    "start_time": "2021-07-27T07:42:21.683Z"
   },
   {
    "duration": 233,
    "start_time": "2021-07-27T07:52:39.755Z"
   },
   {
    "duration": 282,
    "start_time": "2021-07-27T08:18:59.727Z"
   },
   {
    "duration": 17,
    "start_time": "2021-07-27T08:19:09.240Z"
   },
   {
    "duration": 64,
    "start_time": "2021-07-27T08:19:34.176Z"
   },
   {
    "duration": 316,
    "start_time": "2021-07-27T08:28:50.949Z"
   },
   {
    "duration": 68,
    "start_time": "2021-07-27T08:29:58.935Z"
   },
   {
    "duration": 61,
    "start_time": "2021-07-27T08:31:29.388Z"
   },
   {
    "duration": 65,
    "start_time": "2021-07-27T08:31:52.892Z"
   },
   {
    "duration": 62,
    "start_time": "2021-07-27T08:32:19.597Z"
   },
   {
    "duration": 68,
    "start_time": "2021-07-27T08:32:32.499Z"
   },
   {
    "duration": 89,
    "start_time": "2021-07-27T08:33:25.766Z"
   },
   {
    "duration": 325,
    "start_time": "2021-07-27T08:33:39.338Z"
   },
   {
    "duration": 320,
    "start_time": "2021-07-27T08:33:55.610Z"
   },
   {
    "duration": 321,
    "start_time": "2021-07-27T08:34:03.170Z"
   },
   {
    "duration": 60,
    "start_time": "2021-07-27T08:34:09.145Z"
   },
   {
    "duration": 113,
    "start_time": "2021-07-27T08:36:43.336Z"
   },
   {
    "duration": 465,
    "start_time": "2021-07-27T08:36:51.135Z"
   },
   {
    "duration": 321,
    "start_time": "2021-07-27T08:37:21.936Z"
   },
   {
    "duration": 307,
    "start_time": "2021-07-27T08:37:32.974Z"
   },
   {
    "duration": 327,
    "start_time": "2021-07-27T08:39:40.476Z"
   },
   {
    "duration": 56,
    "start_time": "2021-07-27T08:40:54.597Z"
   },
   {
    "duration": 65,
    "start_time": "2021-07-27T08:41:05.027Z"
   },
   {
    "duration": 125,
    "start_time": "2021-07-27T08:42:14.986Z"
   },
   {
    "duration": 62,
    "start_time": "2021-07-27T08:42:25.834Z"
   },
   {
    "duration": 356,
    "start_time": "2021-07-27T08:42:45.993Z"
   },
   {
    "duration": 85,
    "start_time": "2021-07-27T08:42:52.233Z"
   },
   {
    "duration": 61,
    "start_time": "2021-07-27T08:43:21.106Z"
   },
   {
    "duration": 98,
    "start_time": "2021-07-27T08:43:36.001Z"
   },
   {
    "duration": 69,
    "start_time": "2021-07-27T08:48:24.652Z"
   },
   {
    "duration": 64,
    "start_time": "2021-07-27T08:49:31.581Z"
   },
   {
    "duration": 661,
    "start_time": "2021-07-27T08:54:16.695Z"
   },
   {
    "duration": 4,
    "start_time": "2021-07-27T10:39:20.963Z"
   },
   {
    "duration": 83,
    "start_time": "2021-07-27T10:39:21.802Z"
   },
   {
    "duration": 78,
    "start_time": "2021-07-27T10:39:59.418Z"
   },
   {
    "duration": 57,
    "start_time": "2021-07-27T10:45:22.486Z"
   },
   {
    "duration": 32,
    "start_time": "2021-07-27T11:06:29.696Z"
   },
   {
    "duration": 37,
    "start_time": "2021-07-27T11:31:48.304Z"
   },
   {
    "duration": 21,
    "start_time": "2021-07-27T11:35:24.965Z"
   },
   {
    "duration": 1428,
    "start_time": "2021-07-27T11:52:01.582Z"
   },
   {
    "duration": 770,
    "start_time": "2021-07-27T11:53:37.851Z"
   },
   {
    "duration": 7,
    "start_time": "2021-07-27T12:22:18.631Z"
   },
   {
    "duration": 455,
    "start_time": "2021-07-27T12:41:43.203Z"
   },
   {
    "duration": 809,
    "start_time": "2021-07-27T12:56:23.689Z"
   },
   {
    "duration": 86,
    "start_time": "2021-07-27T12:56:24.500Z"
   },
   {
    "duration": 15,
    "start_time": "2021-07-27T12:56:24.589Z"
   },
   {
    "duration": 84,
    "start_time": "2021-07-27T12:56:24.606Z"
   },
   {
    "duration": 140,
    "start_time": "2021-07-27T12:56:24.692Z"
   },
   {
    "duration": 105,
    "start_time": "2021-07-27T12:56:24.835Z"
   },
   {
    "duration": 70,
    "start_time": "2021-07-27T12:56:24.943Z"
   },
   {
    "duration": 6,
    "start_time": "2021-07-27T12:56:25.019Z"
   },
   {
    "duration": 40,
    "start_time": "2021-07-27T12:56:25.029Z"
   },
   {
    "duration": 718,
    "start_time": "2021-07-27T12:56:25.071Z"
   },
   {
    "duration": 32,
    "start_time": "2021-07-27T12:56:25.791Z"
   },
   {
    "duration": 2543,
    "start_time": "2021-07-27T12:56:25.825Z"
   },
   {
    "duration": 687,
    "start_time": "2021-07-27T12:56:28.370Z"
   },
   {
    "duration": 21,
    "start_time": "2021-07-27T12:56:29.060Z"
   },
   {
    "duration": 24,
    "start_time": "2021-07-27T12:56:29.083Z"
   },
   {
    "duration": 982,
    "start_time": "2021-07-27T12:56:29.109Z"
   },
   {
    "duration": 37,
    "start_time": "2021-07-27T12:56:30.093Z"
   },
   {
    "duration": 38,
    "start_time": "2021-07-27T12:56:30.132Z"
   },
   {
    "duration": 37,
    "start_time": "2021-07-27T12:56:30.173Z"
   },
   {
    "duration": 848,
    "start_time": "2021-07-27T12:56:30.212Z"
   },
   {
    "duration": 600,
    "start_time": "2021-07-27T12:56:31.062Z"
   },
   {
    "duration": 462,
    "start_time": "2021-07-27T12:56:31.665Z"
   },
   {
    "duration": 344,
    "start_time": "2021-07-27T12:56:32.133Z"
   },
   {
    "duration": 321,
    "start_time": "2021-07-27T12:56:32.480Z"
   },
   {
    "duration": 663,
    "start_time": "2021-07-27T12:56:32.803Z"
   },
   {
    "duration": 8,
    "start_time": "2021-07-27T12:56:33.469Z"
   },
   {
    "duration": 327,
    "start_time": "2021-07-27T12:56:33.479Z"
   },
   {
    "duration": 224,
    "start_time": "2021-07-27T12:56:33.808Z"
   },
   {
    "duration": 23,
    "start_time": "2021-07-27T12:56:34.034Z"
   },
   {
    "duration": 463,
    "start_time": "2021-07-27T12:56:34.059Z"
   },
   {
    "duration": 558,
    "start_time": "2021-07-27T12:56:34.525Z"
   },
   {
    "duration": 359,
    "start_time": "2021-07-27T12:56:35.086Z"
   },
   {
    "duration": 506,
    "start_time": "2021-07-27T12:56:35.455Z"
   },
   {
    "duration": 319,
    "start_time": "2021-07-27T12:56:35.963Z"
   },
   {
    "duration": 464,
    "start_time": "2021-07-27T12:56:36.284Z"
   },
   {
    "duration": 6,
    "start_time": "2021-07-27T12:56:36.755Z"
   },
   {
    "duration": 100,
    "start_time": "2021-07-27T12:56:36.763Z"
   },
   {
    "duration": 17,
    "start_time": "2021-07-27T12:56:36.866Z"
   },
   {
    "duration": 16,
    "start_time": "2021-07-27T12:56:36.886Z"
   },
   {
    "duration": 58,
    "start_time": "2021-07-27T12:56:36.904Z"
   },
   {
    "duration": 28,
    "start_time": "2021-07-27T12:56:36.964Z"
   },
   {
    "duration": 27,
    "start_time": "2021-07-27T12:56:36.994Z"
   },
   {
    "duration": 52,
    "start_time": "2021-07-27T12:56:37.023Z"
   },
   {
    "duration": 16,
    "start_time": "2021-07-27T12:56:37.077Z"
   },
   {
    "duration": 546,
    "start_time": "2021-07-27T12:56:37.095Z"
   },
   {
    "duration": 14,
    "start_time": "2021-07-27T12:56:37.644Z"
   },
   {
    "duration": 28,
    "start_time": "2021-07-27T12:56:37.660Z"
   },
   {
    "duration": 217,
    "start_time": "2021-07-27T12:56:37.690Z"
   },
   {
    "duration": 85,
    "start_time": "2021-07-27T12:56:37.909Z"
   },
   {
    "duration": 564,
    "start_time": "2021-07-27T13:27:39.004Z"
   },
   {
    "duration": 399,
    "start_time": "2021-07-27T13:39:06.041Z"
   },
   {
    "duration": 434,
    "start_time": "2021-07-27T13:39:39.010Z"
   },
   {
    "duration": 846,
    "start_time": "2021-07-27T13:43:06.169Z"
   },
   {
    "duration": 88,
    "start_time": "2021-07-27T13:43:07.018Z"
   },
   {
    "duration": 15,
    "start_time": "2021-07-27T13:43:07.110Z"
   },
   {
    "duration": 85,
    "start_time": "2021-07-27T13:43:07.128Z"
   },
   {
    "duration": 135,
    "start_time": "2021-07-27T13:43:07.216Z"
   },
   {
    "duration": 109,
    "start_time": "2021-07-27T13:43:07.356Z"
   },
   {
    "duration": 62,
    "start_time": "2021-07-27T13:43:07.468Z"
   },
   {
    "duration": 24,
    "start_time": "2021-07-27T13:43:07.535Z"
   },
   {
    "duration": 6,
    "start_time": "2021-07-27T13:43:07.562Z"
   },
   {
    "duration": 698,
    "start_time": "2021-07-27T13:43:07.571Z"
   },
   {
    "duration": 31,
    "start_time": "2021-07-27T13:43:08.271Z"
   },
   {
    "duration": 2864,
    "start_time": "2021-07-27T13:43:08.305Z"
   },
   {
    "duration": 808,
    "start_time": "2021-07-27T13:43:11.171Z"
   },
   {
    "duration": 36,
    "start_time": "2021-07-27T13:43:11.982Z"
   },
   {
    "duration": 39,
    "start_time": "2021-07-27T13:43:12.020Z"
   },
   {
    "duration": 943,
    "start_time": "2021-07-27T13:43:12.062Z"
   },
   {
    "duration": 49,
    "start_time": "2021-07-27T13:43:13.008Z"
   },
   {
    "duration": 24,
    "start_time": "2021-07-27T13:43:13.059Z"
   },
   {
    "duration": 25,
    "start_time": "2021-07-27T13:43:13.085Z"
   },
   {
    "duration": 897,
    "start_time": "2021-07-27T13:43:13.113Z"
   },
   {
    "duration": 626,
    "start_time": "2021-07-27T13:43:14.013Z"
   },
   {
    "duration": 483,
    "start_time": "2021-07-27T13:43:14.641Z"
   },
   {
    "duration": 346,
    "start_time": "2021-07-27T13:43:15.130Z"
   },
   {
    "duration": 340,
    "start_time": "2021-07-27T13:43:15.480Z"
   },
   {
    "duration": 584,
    "start_time": "2021-07-27T13:43:15.822Z"
   },
   {
    "duration": 10,
    "start_time": "2021-07-27T13:43:16.408Z"
   },
   {
    "duration": 323,
    "start_time": "2021-07-27T13:43:16.421Z"
   },
   {
    "duration": 484,
    "start_time": "2021-07-27T13:43:16.747Z"
   },
   {
    "duration": 587,
    "start_time": "2021-07-27T13:43:17.233Z"
   },
   {
    "duration": 328,
    "start_time": "2021-07-27T13:43:17.822Z"
   },
   {
    "duration": 570,
    "start_time": "2021-07-27T13:43:18.157Z"
   },
   {
    "duration": 319,
    "start_time": "2021-07-27T13:43:18.730Z"
   },
   {
    "duration": 739,
    "start_time": "2021-07-27T13:43:19.055Z"
   },
   {
    "duration": 778,
    "start_time": "2021-07-27T13:43:19.797Z"
   },
   {
    "duration": 145,
    "start_time": "2021-07-27T13:43:20.578Z"
   },
   {
    "duration": 41,
    "start_time": "2021-07-27T13:43:20.726Z"
   },
   {
    "duration": 27,
    "start_time": "2021-07-27T13:43:20.771Z"
   },
   {
    "duration": 66,
    "start_time": "2021-07-27T13:43:20.801Z"
   },
   {
    "duration": 44,
    "start_time": "2021-07-27T13:43:20.870Z"
   },
   {
    "duration": 67,
    "start_time": "2021-07-27T13:43:20.918Z"
   },
   {
    "duration": 25,
    "start_time": "2021-07-27T13:43:20.987Z"
   },
   {
    "duration": 41,
    "start_time": "2021-07-27T13:43:21.015Z"
   },
   {
    "duration": 636,
    "start_time": "2021-07-27T13:43:21.058Z"
   },
   {
    "duration": 6,
    "start_time": "2021-07-27T13:43:21.697Z"
   },
   {
    "duration": 22,
    "start_time": "2021-07-27T13:43:21.707Z"
   },
   {
    "duration": 324,
    "start_time": "2021-07-27T13:43:21.732Z"
   },
   {
    "duration": 76,
    "start_time": "2021-07-27T13:43:22.059Z"
   },
   {
    "duration": 445,
    "start_time": "2021-07-27T13:53:56.858Z"
   },
   {
    "duration": 89,
    "start_time": "2021-07-27T13:55:59.167Z"
   },
   {
    "duration": 82,
    "start_time": "2021-07-27T14:00:33.507Z"
   },
   {
    "duration": 86,
    "start_time": "2021-07-27T14:00:48.334Z"
   },
   {
    "duration": 19,
    "start_time": "2021-07-27T14:15:50.844Z"
   },
   {
    "duration": 19,
    "start_time": "2021-07-27T14:16:14.592Z"
   },
   {
    "duration": 19,
    "start_time": "2021-07-27T14:16:20.987Z"
   },
   {
    "duration": 26,
    "start_time": "2021-07-27T14:23:43.877Z"
   },
   {
    "duration": 16,
    "start_time": "2021-07-27T14:31:53.590Z"
   },
   {
    "duration": 14,
    "start_time": "2021-07-27T14:33:20.972Z"
   },
   {
    "duration": 9,
    "start_time": "2021-07-27T15:15:51.515Z"
   },
   {
    "duration": 892,
    "start_time": "2021-07-27T15:15:55.950Z"
   },
   {
    "duration": 89,
    "start_time": "2021-07-27T15:15:56.845Z"
   },
   {
    "duration": 29,
    "start_time": "2021-07-27T15:15:56.941Z"
   },
   {
    "duration": 88,
    "start_time": "2021-07-27T15:15:56.972Z"
   },
   {
    "duration": 131,
    "start_time": "2021-07-27T15:15:57.062Z"
   },
   {
    "duration": 110,
    "start_time": "2021-07-27T15:15:57.196Z"
   },
   {
    "duration": 67,
    "start_time": "2021-07-27T15:15:57.310Z"
   },
   {
    "duration": 6,
    "start_time": "2021-07-27T15:15:57.380Z"
   },
   {
    "duration": 6,
    "start_time": "2021-07-27T15:15:57.388Z"
   },
   {
    "duration": 765,
    "start_time": "2021-07-27T15:15:57.396Z"
   },
   {
    "duration": 33,
    "start_time": "2021-07-27T15:15:58.163Z"
   },
   {
    "duration": 2536,
    "start_time": "2021-07-27T15:15:58.198Z"
   },
   {
    "duration": 683,
    "start_time": "2021-07-27T15:16:00.736Z"
   },
   {
    "duration": 21,
    "start_time": "2021-07-27T15:16:01.421Z"
   },
   {
    "duration": 24,
    "start_time": "2021-07-27T15:16:01.444Z"
   },
   {
    "duration": 930,
    "start_time": "2021-07-27T15:16:01.470Z"
   },
   {
    "duration": 36,
    "start_time": "2021-07-27T15:16:02.402Z"
   },
   {
    "duration": 34,
    "start_time": "2021-07-27T15:16:02.440Z"
   },
   {
    "duration": 48,
    "start_time": "2021-07-27T15:16:02.476Z"
   },
   {
    "duration": 891,
    "start_time": "2021-07-27T15:16:02.527Z"
   },
   {
    "duration": 638,
    "start_time": "2021-07-27T15:16:03.420Z"
   },
   {
    "duration": 498,
    "start_time": "2021-07-27T15:16:04.064Z"
   },
   {
    "duration": 352,
    "start_time": "2021-07-27T15:16:04.565Z"
   },
   {
    "duration": 344,
    "start_time": "2021-07-27T15:16:04.920Z"
   },
   {
    "duration": 590,
    "start_time": "2021-07-27T15:16:05.266Z"
   },
   {
    "duration": 8,
    "start_time": "2021-07-27T15:16:05.858Z"
   },
   {
    "duration": 333,
    "start_time": "2021-07-27T15:16:05.868Z"
   },
   {
    "duration": 504,
    "start_time": "2021-07-27T15:16:06.204Z"
   },
   {
    "duration": 679,
    "start_time": "2021-07-27T15:16:06.710Z"
   },
   {
    "duration": 367,
    "start_time": "2021-07-27T15:16:07.392Z"
   },
   {
    "duration": 471,
    "start_time": "2021-07-27T15:16:07.761Z"
   },
   {
    "duration": 336,
    "start_time": "2021-07-27T15:16:08.234Z"
   },
   {
    "duration": 489,
    "start_time": "2021-07-27T15:16:08.574Z"
   },
   {
    "duration": 461,
    "start_time": "2021-07-27T15:16:09.065Z"
   },
   {
    "duration": 96,
    "start_time": "2021-07-27T15:16:09.528Z"
   },
   {
    "duration": 30,
    "start_time": "2021-07-27T15:16:09.627Z"
   },
   {
    "duration": 18,
    "start_time": "2021-07-27T15:16:09.659Z"
   },
   {
    "duration": 32,
    "start_time": "2021-07-27T15:16:09.679Z"
   },
   {
    "duration": 57,
    "start_time": "2021-07-27T15:16:09.713Z"
   },
   {
    "duration": 28,
    "start_time": "2021-07-27T15:16:09.772Z"
   },
   {
    "duration": 26,
    "start_time": "2021-07-27T15:16:09.803Z"
   },
   {
    "duration": 41,
    "start_time": "2021-07-27T15:16:09.831Z"
   },
   {
    "duration": 614,
    "start_time": "2021-07-27T15:16:09.875Z"
   },
   {
    "duration": 8,
    "start_time": "2021-07-27T15:16:10.492Z"
   },
   {
    "duration": 12,
    "start_time": "2021-07-27T15:16:10.502Z"
   },
   {
    "duration": 284,
    "start_time": "2021-07-27T15:16:10.517Z"
   },
   {
    "duration": 88,
    "start_time": "2021-07-27T15:16:10.803Z"
   },
   {
    "duration": 1313,
    "start_time": "2021-07-27T15:19:03.798Z"
   },
   {
    "duration": 98,
    "start_time": "2021-07-27T16:06:03.580Z"
   },
   {
    "duration": 60,
    "start_time": "2021-07-27T16:16:48.712Z"
   },
   {
    "duration": 66,
    "start_time": "2021-07-27T16:17:05.166Z"
   },
   {
    "duration": 844,
    "start_time": "2021-07-28T05:05:30.712Z"
   },
   {
    "duration": 84,
    "start_time": "2021-07-28T05:05:31.558Z"
   },
   {
    "duration": 22,
    "start_time": "2021-07-28T05:05:31.646Z"
   },
   {
    "duration": 67,
    "start_time": "2021-07-28T05:05:31.671Z"
   },
   {
    "duration": 116,
    "start_time": "2021-07-28T05:05:31.756Z"
   },
   {
    "duration": 99,
    "start_time": "2021-07-28T05:05:31.874Z"
   },
   {
    "duration": 59,
    "start_time": "2021-07-28T05:05:31.975Z"
   },
   {
    "duration": 23,
    "start_time": "2021-07-28T05:05:32.037Z"
   },
   {
    "duration": 8,
    "start_time": "2021-07-28T05:05:32.063Z"
   },
   {
    "duration": 723,
    "start_time": "2021-07-28T05:05:32.073Z"
   },
   {
    "duration": 32,
    "start_time": "2021-07-28T05:05:32.799Z"
   },
   {
    "duration": 2436,
    "start_time": "2021-07-28T05:05:32.833Z"
   },
   {
    "duration": 684,
    "start_time": "2021-07-28T05:05:35.272Z"
   },
   {
    "duration": 24,
    "start_time": "2021-07-28T05:05:35.959Z"
   },
   {
    "duration": 18,
    "start_time": "2021-07-28T05:05:35.986Z"
   },
   {
    "duration": 912,
    "start_time": "2021-07-28T05:05:36.007Z"
   },
   {
    "duration": 48,
    "start_time": "2021-07-28T05:05:36.922Z"
   },
   {
    "duration": 24,
    "start_time": "2021-07-28T05:05:36.973Z"
   },
   {
    "duration": 25,
    "start_time": "2021-07-28T05:05:37.000Z"
   },
   {
    "duration": 948,
    "start_time": "2021-07-28T05:05:37.028Z"
   },
   {
    "duration": 611,
    "start_time": "2021-07-28T05:05:37.979Z"
   },
   {
    "duration": 470,
    "start_time": "2021-07-28T05:05:38.593Z"
   },
   {
    "duration": 311,
    "start_time": "2021-07-28T05:05:39.070Z"
   },
   {
    "duration": 314,
    "start_time": "2021-07-28T05:05:39.384Z"
   },
   {
    "duration": 536,
    "start_time": "2021-07-28T05:05:39.700Z"
   },
   {
    "duration": 17,
    "start_time": "2021-07-28T05:05:40.239Z"
   },
   {
    "duration": 306,
    "start_time": "2021-07-28T05:05:40.258Z"
   },
   {
    "duration": 491,
    "start_time": "2021-07-28T05:05:40.566Z"
   },
   {
    "duration": 512,
    "start_time": "2021-07-28T05:05:41.060Z"
   },
   {
    "duration": 320,
    "start_time": "2021-07-28T05:05:41.574Z"
   },
   {
    "duration": 553,
    "start_time": "2021-07-28T05:05:41.896Z"
   },
   {
    "duration": 316,
    "start_time": "2021-07-28T05:05:42.455Z"
   },
   {
    "duration": 469,
    "start_time": "2021-07-28T05:05:42.773Z"
   },
   {
    "duration": 441,
    "start_time": "2021-07-28T05:05:43.244Z"
   },
   {
    "duration": 95,
    "start_time": "2021-07-28T05:05:43.687Z"
   },
   {
    "duration": 19,
    "start_time": "2021-07-28T05:05:43.785Z"
   },
   {
    "duration": 17,
    "start_time": "2021-07-28T05:05:43.806Z"
   },
   {
    "duration": 54,
    "start_time": "2021-07-28T05:05:43.825Z"
   },
   {
    "duration": 27,
    "start_time": "2021-07-28T05:05:43.881Z"
   },
   {
    "duration": 55,
    "start_time": "2021-07-28T05:05:43.910Z"
   },
   {
    "duration": 24,
    "start_time": "2021-07-28T05:05:43.967Z"
   },
   {
    "duration": 14,
    "start_time": "2021-07-28T05:05:43.993Z"
   },
   {
    "duration": 535,
    "start_time": "2021-07-28T05:05:44.009Z"
   },
   {
    "duration": 11,
    "start_time": "2021-07-28T05:05:44.546Z"
   },
   {
    "duration": 12,
    "start_time": "2021-07-28T05:05:44.559Z"
   },
   {
    "duration": 291,
    "start_time": "2021-07-28T05:05:44.573Z"
   },
   {
    "duration": 67,
    "start_time": "2021-07-28T05:05:44.867Z"
   },
   {
    "duration": 79,
    "start_time": "2021-07-28T05:05:44.937Z"
   },
   {
    "duration": 405,
    "start_time": "2021-07-29T08:28:00.334Z"
   },
   {
    "duration": -67,
    "start_time": "2021-07-29T08:28:00.810Z"
   },
   {
    "duration": -97,
    "start_time": "2021-07-29T08:28:00.842Z"
   },
   {
    "duration": -118,
    "start_time": "2021-07-29T08:28:00.864Z"
   },
   {
    "duration": -121,
    "start_time": "2021-07-29T08:28:00.868Z"
   },
   {
    "duration": -128,
    "start_time": "2021-07-29T08:28:00.877Z"
   },
   {
    "duration": -131,
    "start_time": "2021-07-29T08:28:00.881Z"
   },
   {
    "duration": -135,
    "start_time": "2021-07-29T08:28:00.886Z"
   },
   {
    "duration": -143,
    "start_time": "2021-07-29T08:28:00.895Z"
   },
   {
    "duration": -147,
    "start_time": "2021-07-29T08:28:00.901Z"
   },
   {
    "duration": -155,
    "start_time": "2021-07-29T08:28:00.910Z"
   },
   {
    "duration": -159,
    "start_time": "2021-07-29T08:28:00.915Z"
   },
   {
    "duration": -166,
    "start_time": "2021-07-29T08:28:00.923Z"
   },
   {
    "duration": -172,
    "start_time": "2021-07-29T08:28:00.930Z"
   },
   {
    "duration": -176,
    "start_time": "2021-07-29T08:28:00.935Z"
   },
   {
    "duration": -180,
    "start_time": "2021-07-29T08:28:00.940Z"
   },
   {
    "duration": -182,
    "start_time": "2021-07-29T08:28:00.944Z"
   },
   {
    "duration": -186,
    "start_time": "2021-07-29T08:28:00.949Z"
   },
   {
    "duration": -189,
    "start_time": "2021-07-29T08:28:00.953Z"
   },
   {
    "duration": -201,
    "start_time": "2021-07-29T08:28:00.966Z"
   },
   {
    "duration": -205,
    "start_time": "2021-07-29T08:28:00.971Z"
   },
   {
    "duration": -207,
    "start_time": "2021-07-29T08:28:00.975Z"
   },
   {
    "duration": -210,
    "start_time": "2021-07-29T08:28:00.979Z"
   },
   {
    "duration": -213,
    "start_time": "2021-07-29T08:28:00.983Z"
   },
   {
    "duration": -217,
    "start_time": "2021-07-29T08:28:00.988Z"
   },
   {
    "duration": -223,
    "start_time": "2021-07-29T08:28:00.995Z"
   },
   {
    "duration": -228,
    "start_time": "2021-07-29T08:28:01.001Z"
   },
   {
    "duration": -236,
    "start_time": "2021-07-29T08:28:01.010Z"
   },
   {
    "duration": -239,
    "start_time": "2021-07-29T08:28:01.015Z"
   },
   {
    "duration": -242,
    "start_time": "2021-07-29T08:28:01.019Z"
   },
   {
    "duration": -246,
    "start_time": "2021-07-29T08:28:01.024Z"
   },
   {
    "duration": -249,
    "start_time": "2021-07-29T08:28:01.028Z"
   },
   {
    "duration": -252,
    "start_time": "2021-07-29T08:28:01.032Z"
   },
   {
    "duration": -268,
    "start_time": "2021-07-29T08:28:01.053Z"
   },
   {
    "duration": -270,
    "start_time": "2021-07-29T08:28:01.056Z"
   },
   {
    "duration": -289,
    "start_time": "2021-07-29T08:28:01.077Z"
   },
   {
    "duration": 875,
    "start_time": "2021-07-29T08:34:52.934Z"
   },
   {
    "duration": 84,
    "start_time": "2021-07-29T08:34:53.811Z"
   },
   {
    "duration": 16,
    "start_time": "2021-07-29T08:34:53.898Z"
   },
   {
    "duration": 89,
    "start_time": "2021-07-29T08:34:53.917Z"
   },
   {
    "duration": 124,
    "start_time": "2021-07-29T08:34:54.009Z"
   },
   {
    "duration": 100,
    "start_time": "2021-07-29T08:34:54.135Z"
   },
   {
    "duration": 69,
    "start_time": "2021-07-29T08:34:54.238Z"
   },
   {
    "duration": 6,
    "start_time": "2021-07-29T08:34:54.310Z"
   },
   {
    "duration": 14,
    "start_time": "2021-07-29T08:34:54.319Z"
   },
   {
    "duration": 747,
    "start_time": "2021-07-29T08:34:54.335Z"
   },
   {
    "duration": 32,
    "start_time": "2021-07-29T08:34:55.085Z"
   },
   {
    "duration": 2827,
    "start_time": "2021-07-29T08:34:55.119Z"
   },
   {
    "duration": 686,
    "start_time": "2021-07-29T08:34:57.949Z"
   },
   {
    "duration": 22,
    "start_time": "2021-07-29T08:34:58.638Z"
   },
   {
    "duration": 30,
    "start_time": "2021-07-29T08:34:58.663Z"
   },
   {
    "duration": 908,
    "start_time": "2021-07-29T08:34:58.695Z"
   },
   {
    "duration": 33,
    "start_time": "2021-07-29T08:34:59.605Z"
   },
   {
    "duration": 42,
    "start_time": "2021-07-29T08:34:59.640Z"
   },
   {
    "duration": 23,
    "start_time": "2021-07-29T08:34:59.684Z"
   },
   {
    "duration": 817,
    "start_time": "2021-07-29T08:34:59.709Z"
   },
   {
    "duration": 620,
    "start_time": "2021-07-29T08:35:00.529Z"
   },
   {
    "duration": 477,
    "start_time": "2021-07-29T08:35:01.151Z"
   },
   {
    "duration": 330,
    "start_time": "2021-07-29T08:35:01.635Z"
   },
   {
    "duration": 340,
    "start_time": "2021-07-29T08:35:01.968Z"
   },
   {
    "duration": 529,
    "start_time": "2021-07-29T08:35:02.310Z"
   },
   {
    "duration": 7,
    "start_time": "2021-07-29T08:35:02.842Z"
   },
   {
    "duration": 442,
    "start_time": "2021-07-29T08:35:02.852Z"
   },
   {
    "duration": 454,
    "start_time": "2021-07-29T08:35:03.296Z"
   },
   {
    "duration": 529,
    "start_time": "2021-07-29T08:35:03.753Z"
   },
   {
    "duration": 306,
    "start_time": "2021-07-29T08:35:04.284Z"
   },
   {
    "duration": 460,
    "start_time": "2021-07-29T08:35:04.592Z"
   },
   {
    "duration": 316,
    "start_time": "2021-07-29T08:35:05.054Z"
   },
   {
    "duration": 478,
    "start_time": "2021-07-29T08:35:05.373Z"
   },
   {
    "duration": 454,
    "start_time": "2021-07-29T08:35:05.854Z"
   },
   {
    "duration": 95,
    "start_time": "2021-07-29T08:35:06.311Z"
   },
   {
    "duration": 18,
    "start_time": "2021-07-29T08:35:06.408Z"
   },
   {
    "duration": 17,
    "start_time": "2021-07-29T08:35:06.429Z"
   },
   {
    "duration": 54,
    "start_time": "2021-07-29T08:35:06.448Z"
   },
   {
    "duration": 27,
    "start_time": "2021-07-29T08:35:06.505Z"
   },
   {
    "duration": 60,
    "start_time": "2021-07-29T08:35:06.535Z"
   },
   {
    "duration": 27,
    "start_time": "2021-07-29T08:35:06.598Z"
   },
   {
    "duration": 55,
    "start_time": "2021-07-29T08:35:06.628Z"
   },
   {
    "duration": 518,
    "start_time": "2021-07-29T08:35:06.686Z"
   },
   {
    "duration": 6,
    "start_time": "2021-07-29T08:35:07.208Z"
   },
   {
    "duration": 14,
    "start_time": "2021-07-29T08:35:07.217Z"
   },
   {
    "duration": 302,
    "start_time": "2021-07-29T08:35:07.234Z"
   },
   {
    "duration": 86,
    "start_time": "2021-07-29T08:35:07.539Z"
   },
   {
    "duration": 77,
    "start_time": "2021-07-29T08:35:07.628Z"
   }
  ],
  "kernelspec": {
   "display_name": "Python 3",
   "language": "python",
   "name": "python3"
  },
  "language_info": {
   "codemirror_mode": {
    "name": "ipython",
    "version": 3
   },
   "file_extension": ".py",
   "mimetype": "text/x-python",
   "name": "python",
   "nbconvert_exporter": "python",
   "pygments_lexer": "ipython3",
   "version": "3.8.8"
  },
  "toc": {
   "base_numbering": 1,
   "nav_menu": {},
   "number_sections": true,
   "sideBar": true,
   "skip_h1_title": true,
   "title_cell": "Содержание",
   "title_sidebar": "Contents",
   "toc_cell": true,
   "toc_position": {
    "height": "calc(100% - 180px)",
    "left": "10px",
    "top": "150px",
    "width": "165px"
   },
   "toc_section_display": true,
   "toc_window_display": true
  }
 },
 "nbformat": 4,
 "nbformat_minor": 2
}
