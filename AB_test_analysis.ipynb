{
 "cells": [
  {
   "cell_type": "markdown",
   "metadata": {},
   "source": [
    "<h1>Содержание проекта по A/B тестированию и проверке гипотез<span class=\"tocSkip\"></span></h1>\n",
    "<div class=\"toc\"><ul class=\"toc-item\"><li><span><a href=\"#Изучение-данных-из-файла\" data-toc-modified-id=\"Изучение-данных-из-файла-1\"><span class=\"toc-item-num\">1&nbsp;&nbsp;</span>Изучение данных из файла</a></span><ul class=\"toc-item\"><li><span><a href=\"#Вывод\" data-toc-modified-id=\"Вывод-1.1\"><span class=\"toc-item-num\">1.1&nbsp;&nbsp;</span>Вывод</a></span></li></ul></li><li><span><a href=\"#Предобработка-данных\" data-toc-modified-id=\"Предобработка-данных-2\"><span class=\"toc-item-num\">2&nbsp;&nbsp;</span>Предобработка данных</a></span></li><li><span><a href=\"#Расчёты-и-добавление-результатов-в-таблицу\" data-toc-modified-id=\"Расчёты-и-добавление-результатов-в-таблицу-3\"><span class=\"toc-item-num\">3&nbsp;&nbsp;</span>Расчёты и добавление результатов в таблицу</a></span></li><li><span><a href=\"#Исследовательский-анализ-данных\" data-toc-modified-id=\"Исследовательский-анализ-данных-4\"><span class=\"toc-item-num\">4&nbsp;&nbsp;</span>Исследовательский анализ данных</a></span></li><li><span><a href=\"#Выдвижение-и-проверка-гипотез\" data-toc-modified-id=\"Выдвижение-и-проверка-гипотез-5\"><span class=\"toc-item-num\">5&nbsp;&nbsp;</span>Выдвижение и проверка гипотез</a></span></li><li><span><a href=\"#Общий-вывод\" data-toc-modified-id=\"Общий-вывод-6\"><span class=\"toc-item-num\">6&nbsp;&nbsp;</span>Общий вывод</a></span></li><li><span><a href=\"#Чек-лист-готовности-проекта\" data-toc-modified-id=\"Чек-лист-готовности-проекта-7\"><span class=\"toc-item-num\">7&nbsp;&nbsp;</span>Чек-лист готовности проекта</a></span></li></ul></div>"
   ]
  },
  {
   "cell_type": "markdown",
   "metadata": {},
   "source": [
    "# Исследование "
   ]
  },
  {
   "cell_type": "markdown",
   "metadata": {},
   "source": [
    "Аналитика деятельности интернет-магазина с целью проверки гипотез в группе A и группе B"
   ]
  },
  {
   "cell_type": "markdown",
   "metadata": {},
   "source": [
    "- **Цель:**\n",
    "- проанализировать данные, приоритизировать гипотезы, запустить A/B-тест и проанализировать результаты. \n",
    "- провести А/В тест и сделать выводы по итогам.\n",
    "- **Данные:**\n",
    "-/datasets/hypothesis.csv  - данные о гипотезах\n",
    "-/datasets/orders.csv и /datasets/visitors.csv"
   ]
  },
  {
   "cell_type": "markdown",
   "metadata": {},
   "source": [
    "## Изучение данных из файла"
   ]
  },
  {
   "cell_type": "markdown",
   "metadata": {},
   "source": [
    "Импортируем нужные библиотеки для анализа"
   ]
  },
  {
   "cell_type": "code",
   "execution_count": 1,
   "metadata": {},
   "outputs": [],
   "source": [
    "import pandas as pd \n",
    "import numpy as np\n",
    "import matplotlib.pyplot as plt\n",
    "import datetime \n",
    "from scipy import stats as st\n",
    "import scipy.stats as stats\n",
    "import math\n",
    "import warnings\n",
    "from scipy.stats import levene\n",
    "\n",
    "\n",
    "warnings.filterwarnings('ignore')"
   ]
  },
  {
   "cell_type": "markdown",
   "metadata": {},
   "source": [
    "Введём переменные "
   ]
  },
  {
   "cell_type": "code",
   "execution_count": 2,
   "metadata": {},
   "outputs": [],
   "source": [
    "hypothesis = pd.read_csv('https://www.dropbox.com/s/wtn3lapvyk4s5dw/hypothesisAB.csv?dl=1')\n",
    "orders = pd.read_csv('https://www.dropbox.com/s/e19onndar16xho7/orders.csv?dl=1')\n",
    "visits = pd.read_csv('https://www.dropbox.com/s/6t8dx2i3r9r9001/visitors.csv?dl=1')"
   ]
  },
  {
   "cell_type": "markdown",
   "metadata": {},
   "source": [
    "Изучим информацию о фреймах данных"
   ]
  },
  {
   "cell_type": "code",
   "execution_count": 3,
   "metadata": {},
   "outputs": [
    {
     "name": "stdout",
     "output_type": "stream",
     "text": [
      "<class 'pandas.core.frame.DataFrame'>\n",
      "RangeIndex: 9 entries, 0 to 8\n",
      "Data columns (total 5 columns):\n",
      " #   Column      Non-Null Count  Dtype \n",
      "---  ------      --------------  ----- \n",
      " 0   Hypothesis  9 non-null      object\n",
      " 1   Reach       9 non-null      int64 \n",
      " 2   Impact      9 non-null      int64 \n",
      " 3   Confidence  9 non-null      int64 \n",
      " 4   Efforts     9 non-null      int64 \n",
      "dtypes: int64(4), object(1)\n",
      "memory usage: 488.0+ bytes\n",
      "None\n",
      "<class 'pandas.core.frame.DataFrame'>\n",
      "RangeIndex: 1197 entries, 0 to 1196\n",
      "Data columns (total 5 columns):\n",
      " #   Column         Non-Null Count  Dtype \n",
      "---  ------         --------------  ----- \n",
      " 0   transactionId  1197 non-null   int64 \n",
      " 1   visitorId      1197 non-null   int64 \n",
      " 2   date           1197 non-null   object\n",
      " 3   revenue        1197 non-null   int64 \n",
      " 4   group          1197 non-null   object\n",
      "dtypes: int64(3), object(2)\n",
      "memory usage: 46.9+ KB\n",
      "None\n",
      "<class 'pandas.core.frame.DataFrame'>\n",
      "RangeIndex: 62 entries, 0 to 61\n",
      "Data columns (total 3 columns):\n",
      " #   Column    Non-Null Count  Dtype \n",
      "---  ------    --------------  ----- \n",
      " 0   date      62 non-null     object\n",
      " 1   group     62 non-null     object\n",
      " 2   visitors  62 non-null     int64 \n",
      "dtypes: int64(1), object(2)\n",
      "memory usage: 1.6+ KB\n",
      "None\n"
     ]
    }
   ],
   "source": [
    "print(hypothesis.info())\n",
    "print(orders.info())\n",
    "print(visits.info())"
   ]
  },
  {
   "cell_type": "markdown",
   "metadata": {},
   "source": [
    "### Вывод"
   ]
  },
  {
   "cell_type": "markdown",
   "metadata": {},
   "source": [
    "фреймы имеют столбцы с датами с типом данных object, а также названия столбцов с разным регистром. Приведём данные в соответствие для анализ"
   ]
  },
  {
   "cell_type": "markdown",
   "metadata": {},
   "source": [
    "## Предобработка данныха"
   ]
  },
  {
   "cell_type": "code",
   "execution_count": 4,
   "metadata": {},
   "outputs": [],
   "source": [
    "orders['date'] = pd.to_datetime(orders['date']) #меняем типы серий, приводим их к дате\n",
    "visits['date'] = pd.to_datetime(visits['date'])"
   ]
  },
  {
   "cell_type": "code",
   "execution_count": 5,
   "metadata": {},
   "outputs": [],
   "source": [
    "hypothesis.columns = hypothesis.columns.str.lower() #меняем регистр названий столбцов"
   ]
  },
  {
   "cell_type": "markdown",
   "metadata": {},
   "source": [
    "### Вывод"
   ]
  },
  {
   "cell_type": "code",
   "execution_count": 6,
   "metadata": {},
   "outputs": [],
   "source": [
    "users_group_A = orders.query('group == \"A\"')['visitorId']\n",
    "users_group_B = orders.query('group == \"B\"')['visitorId']\n",
    "#duplicated_group_users = orders.query('visitorId')\n"
   ]
  },
  {
   "cell_type": "code",
   "execution_count": 7,
   "metadata": {},
   "outputs": [],
   "source": [
    "users_group_A = users_group_A.drop_duplicates()\n",
    "users_group_A = users_group_A.tolist()\n",
    "users_group_B = users_group_B.drop_duplicates()\n",
    "users_group_B.tolist()\n",
    "duplicated_groups = list(set(users_group_A) & set(users_group_B))\n"
   ]
  },
  {
   "cell_type": "code",
   "execution_count": 8,
   "metadata": {},
   "outputs": [
    {
     "data": {
      "text/html": [
       "<div>\n",
       "<style scoped>\n",
       "    .dataframe tbody tr th:only-of-type {\n",
       "        vertical-align: middle;\n",
       "    }\n",
       "\n",
       "    .dataframe tbody tr th {\n",
       "        vertical-align: top;\n",
       "    }\n",
       "\n",
       "    .dataframe thead th {\n",
       "        text-align: right;\n",
       "    }\n",
       "</style>\n",
       "<table border=\"1\" class=\"dataframe\">\n",
       "  <thead>\n",
       "    <tr style=\"text-align: right;\">\n",
       "      <th></th>\n",
       "      <th>transactionId</th>\n",
       "      <th>visitorId</th>\n",
       "      <th>date</th>\n",
       "      <th>revenue</th>\n",
       "      <th>group</th>\n",
       "    </tr>\n",
       "  </thead>\n",
       "  <tbody>\n",
       "    <tr>\n",
       "      <th>0</th>\n",
       "      <td>3667963787</td>\n",
       "      <td>3312258926</td>\n",
       "      <td>2019-08-15</td>\n",
       "      <td>1650</td>\n",
       "      <td>B</td>\n",
       "    </tr>\n",
       "    <tr>\n",
       "      <th>1</th>\n",
       "      <td>2804400009</td>\n",
       "      <td>3642806036</td>\n",
       "      <td>2019-08-15</td>\n",
       "      <td>730</td>\n",
       "      <td>B</td>\n",
       "    </tr>\n",
       "    <tr>\n",
       "      <th>3</th>\n",
       "      <td>3797467345</td>\n",
       "      <td>1196621759</td>\n",
       "      <td>2019-08-15</td>\n",
       "      <td>9759</td>\n",
       "      <td>B</td>\n",
       "    </tr>\n",
       "    <tr>\n",
       "      <th>4</th>\n",
       "      <td>2282983706</td>\n",
       "      <td>2322279887</td>\n",
       "      <td>2019-08-15</td>\n",
       "      <td>2308</td>\n",
       "      <td>B</td>\n",
       "    </tr>\n",
       "    <tr>\n",
       "      <th>5</th>\n",
       "      <td>182168103</td>\n",
       "      <td>935554773</td>\n",
       "      <td>2019-08-15</td>\n",
       "      <td>2210</td>\n",
       "      <td>B</td>\n",
       "    </tr>\n",
       "    <tr>\n",
       "      <th>...</th>\n",
       "      <td>...</td>\n",
       "      <td>...</td>\n",
       "      <td>...</td>\n",
       "      <td>...</td>\n",
       "      <td>...</td>\n",
       "    </tr>\n",
       "    <tr>\n",
       "      <th>1191</th>\n",
       "      <td>3592955527</td>\n",
       "      <td>608641596</td>\n",
       "      <td>2019-08-14</td>\n",
       "      <td>16490</td>\n",
       "      <td>B</td>\n",
       "    </tr>\n",
       "    <tr>\n",
       "      <th>1192</th>\n",
       "      <td>2662137336</td>\n",
       "      <td>3733762160</td>\n",
       "      <td>2019-08-14</td>\n",
       "      <td>6490</td>\n",
       "      <td>B</td>\n",
       "    </tr>\n",
       "    <tr>\n",
       "      <th>1193</th>\n",
       "      <td>2203539145</td>\n",
       "      <td>370388673</td>\n",
       "      <td>2019-08-14</td>\n",
       "      <td>3190</td>\n",
       "      <td>A</td>\n",
       "    </tr>\n",
       "    <tr>\n",
       "      <th>1194</th>\n",
       "      <td>1807773912</td>\n",
       "      <td>573423106</td>\n",
       "      <td>2019-08-14</td>\n",
       "      <td>10550</td>\n",
       "      <td>A</td>\n",
       "    </tr>\n",
       "    <tr>\n",
       "      <th>1196</th>\n",
       "      <td>3936777065</td>\n",
       "      <td>2108080724</td>\n",
       "      <td>2019-08-15</td>\n",
       "      <td>202740</td>\n",
       "      <td>B</td>\n",
       "    </tr>\n",
       "  </tbody>\n",
       "</table>\n",
       "<p>1016 rows × 5 columns</p>\n",
       "</div>"
      ],
      "text/plain": [
       "      transactionId   visitorId       date  revenue group\n",
       "0        3667963787  3312258926 2019-08-15     1650     B\n",
       "1        2804400009  3642806036 2019-08-15      730     B\n",
       "3        3797467345  1196621759 2019-08-15     9759     B\n",
       "4        2282983706  2322279887 2019-08-15     2308     B\n",
       "5         182168103   935554773 2019-08-15     2210     B\n",
       "...             ...         ...        ...      ...   ...\n",
       "1191     3592955527   608641596 2019-08-14    16490     B\n",
       "1192     2662137336  3733762160 2019-08-14     6490     B\n",
       "1193     2203539145   370388673 2019-08-14     3190     A\n",
       "1194     1807773912   573423106 2019-08-14    10550     A\n",
       "1196     3936777065  2108080724 2019-08-15   202740     B\n",
       "\n",
       "[1016 rows x 5 columns]"
      ]
     },
     "execution_count": 8,
     "metadata": {},
     "output_type": "execute_result"
    }
   ],
   "source": [
    "\n",
    "orders[orders['visitorId'].isin(duplicated_groups) == False]\n"
   ]
  },
  {
   "cell_type": "code",
   "execution_count": 9,
   "metadata": {},
   "outputs": [],
   "source": [
    "orders = orders[orders['visitorId'].isin(duplicated_groups) == False]"
   ]
  },
  {
   "cell_type": "code",
   "execution_count": 10,
   "metadata": {},
   "outputs": [
    {
     "data": {
      "text/html": [
       "<div>\n",
       "<style scoped>\n",
       "    .dataframe tbody tr th:only-of-type {\n",
       "        vertical-align: middle;\n",
       "    }\n",
       "\n",
       "    .dataframe tbody tr th {\n",
       "        vertical-align: top;\n",
       "    }\n",
       "\n",
       "    .dataframe thead th {\n",
       "        text-align: right;\n",
       "    }\n",
       "</style>\n",
       "<table border=\"1\" class=\"dataframe\">\n",
       "  <thead>\n",
       "    <tr style=\"text-align: right;\">\n",
       "      <th></th>\n",
       "      <th>transactionId</th>\n",
       "      <th>visitorId</th>\n",
       "      <th>date</th>\n",
       "      <th>revenue</th>\n",
       "      <th>group</th>\n",
       "    </tr>\n",
       "  </thead>\n",
       "  <tbody>\n",
       "    <tr>\n",
       "      <th>0</th>\n",
       "      <td>3667963787</td>\n",
       "      <td>3312258926</td>\n",
       "      <td>2019-08-15</td>\n",
       "      <td>1650</td>\n",
       "      <td>B</td>\n",
       "    </tr>\n",
       "    <tr>\n",
       "      <th>1</th>\n",
       "      <td>2804400009</td>\n",
       "      <td>3642806036</td>\n",
       "      <td>2019-08-15</td>\n",
       "      <td>730</td>\n",
       "      <td>B</td>\n",
       "    </tr>\n",
       "    <tr>\n",
       "      <th>3</th>\n",
       "      <td>3797467345</td>\n",
       "      <td>1196621759</td>\n",
       "      <td>2019-08-15</td>\n",
       "      <td>9759</td>\n",
       "      <td>B</td>\n",
       "    </tr>\n",
       "    <tr>\n",
       "      <th>4</th>\n",
       "      <td>2282983706</td>\n",
       "      <td>2322279887</td>\n",
       "      <td>2019-08-15</td>\n",
       "      <td>2308</td>\n",
       "      <td>B</td>\n",
       "    </tr>\n",
       "    <tr>\n",
       "      <th>5</th>\n",
       "      <td>182168103</td>\n",
       "      <td>935554773</td>\n",
       "      <td>2019-08-15</td>\n",
       "      <td>2210</td>\n",
       "      <td>B</td>\n",
       "    </tr>\n",
       "    <tr>\n",
       "      <th>...</th>\n",
       "      <td>...</td>\n",
       "      <td>...</td>\n",
       "      <td>...</td>\n",
       "      <td>...</td>\n",
       "      <td>...</td>\n",
       "    </tr>\n",
       "    <tr>\n",
       "      <th>1191</th>\n",
       "      <td>3592955527</td>\n",
       "      <td>608641596</td>\n",
       "      <td>2019-08-14</td>\n",
       "      <td>16490</td>\n",
       "      <td>B</td>\n",
       "    </tr>\n",
       "    <tr>\n",
       "      <th>1192</th>\n",
       "      <td>2662137336</td>\n",
       "      <td>3733762160</td>\n",
       "      <td>2019-08-14</td>\n",
       "      <td>6490</td>\n",
       "      <td>B</td>\n",
       "    </tr>\n",
       "    <tr>\n",
       "      <th>1193</th>\n",
       "      <td>2203539145</td>\n",
       "      <td>370388673</td>\n",
       "      <td>2019-08-14</td>\n",
       "      <td>3190</td>\n",
       "      <td>A</td>\n",
       "    </tr>\n",
       "    <tr>\n",
       "      <th>1194</th>\n",
       "      <td>1807773912</td>\n",
       "      <td>573423106</td>\n",
       "      <td>2019-08-14</td>\n",
       "      <td>10550</td>\n",
       "      <td>A</td>\n",
       "    </tr>\n",
       "    <tr>\n",
       "      <th>1196</th>\n",
       "      <td>3936777065</td>\n",
       "      <td>2108080724</td>\n",
       "      <td>2019-08-15</td>\n",
       "      <td>202740</td>\n",
       "      <td>B</td>\n",
       "    </tr>\n",
       "  </tbody>\n",
       "</table>\n",
       "<p>1016 rows × 5 columns</p>\n",
       "</div>"
      ],
      "text/plain": [
       "      transactionId   visitorId       date  revenue group\n",
       "0        3667963787  3312258926 2019-08-15     1650     B\n",
       "1        2804400009  3642806036 2019-08-15      730     B\n",
       "3        3797467345  1196621759 2019-08-15     9759     B\n",
       "4        2282983706  2322279887 2019-08-15     2308     B\n",
       "5         182168103   935554773 2019-08-15     2210     B\n",
       "...             ...         ...        ...      ...   ...\n",
       "1191     3592955527   608641596 2019-08-14    16490     B\n",
       "1192     2662137336  3733762160 2019-08-14     6490     B\n",
       "1193     2203539145   370388673 2019-08-14     3190     A\n",
       "1194     1807773912   573423106 2019-08-14    10550     A\n",
       "1196     3936777065  2108080724 2019-08-15   202740     B\n",
       "\n",
       "[1016 rows x 5 columns]"
      ]
     },
     "execution_count": 10,
     "metadata": {},
     "output_type": "execute_result"
    }
   ],
   "source": [
    "orders"
   ]
  },
  {
   "cell_type": "markdown",
   "metadata": {},
   "source": [
    "## Расчёты и добавление результатов в таблицу"
   ]
  },
  {
   "cell_type": "markdown",
   "metadata": {},
   "source": [
    "рассчитаем необходимые метрики в соответствии с формулами:"
   ]
  },
  {
   "cell_type": "code",
   "execution_count": 11,
   "metadata": {},
   "outputs": [],
   "source": [
    "hypothesis['ice'] = (hypothesis['impact'] * hypothesis['confidence']) / hypothesis['efforts']\n",
    "hypothesis['rice'] = (hypothesis['reach'] * hypothesis['impact'] * hypothesis['confidence']) / hypothesis['efforts']"
   ]
  },
  {
   "cell_type": "markdown",
   "metadata": {},
   "source": [
    "Отсортируем фрейм гипотез по метрике ICE, по убыванию."
   ]
  },
  {
   "cell_type": "code",
   "execution_count": 12,
   "metadata": {},
   "outputs": [
    {
     "data": {
      "text/html": [
       "<div>\n",
       "<style scoped>\n",
       "    .dataframe tbody tr th:only-of-type {\n",
       "        vertical-align: middle;\n",
       "    }\n",
       "\n",
       "    .dataframe tbody tr th {\n",
       "        vertical-align: top;\n",
       "    }\n",
       "\n",
       "    .dataframe thead th {\n",
       "        text-align: right;\n",
       "    }\n",
       "</style>\n",
       "<table border=\"1\" class=\"dataframe\">\n",
       "  <thead>\n",
       "    <tr style=\"text-align: right;\">\n",
       "      <th></th>\n",
       "      <th>hypothesis</th>\n",
       "      <th>reach</th>\n",
       "      <th>impact</th>\n",
       "      <th>confidence</th>\n",
       "      <th>efforts</th>\n",
       "      <th>ice</th>\n",
       "      <th>rice</th>\n",
       "    </tr>\n",
       "  </thead>\n",
       "  <tbody>\n",
       "    <tr>\n",
       "      <th>8</th>\n",
       "      <td>Запустить акцию, дающую скидку на товар в день...</td>\n",
       "      <td>1</td>\n",
       "      <td>9</td>\n",
       "      <td>9</td>\n",
       "      <td>5</td>\n",
       "      <td>16.200000</td>\n",
       "      <td>16.2</td>\n",
       "    </tr>\n",
       "    <tr>\n",
       "      <th>0</th>\n",
       "      <td>Добавить два новых канала привлечения трафика,...</td>\n",
       "      <td>3</td>\n",
       "      <td>10</td>\n",
       "      <td>8</td>\n",
       "      <td>6</td>\n",
       "      <td>13.333333</td>\n",
       "      <td>40.0</td>\n",
       "    </tr>\n",
       "    <tr>\n",
       "      <th>7</th>\n",
       "      <td>Добавить форму подписки на все основные страни...</td>\n",
       "      <td>10</td>\n",
       "      <td>7</td>\n",
       "      <td>8</td>\n",
       "      <td>5</td>\n",
       "      <td>11.200000</td>\n",
       "      <td>112.0</td>\n",
       "    </tr>\n",
       "    <tr>\n",
       "      <th>6</th>\n",
       "      <td>Показать на главной странице баннеры с актуаль...</td>\n",
       "      <td>5</td>\n",
       "      <td>3</td>\n",
       "      <td>8</td>\n",
       "      <td>3</td>\n",
       "      <td>8.000000</td>\n",
       "      <td>40.0</td>\n",
       "    </tr>\n",
       "    <tr>\n",
       "      <th>2</th>\n",
       "      <td>Добавить блоки рекомендаций товаров на сайт ин...</td>\n",
       "      <td>8</td>\n",
       "      <td>3</td>\n",
       "      <td>7</td>\n",
       "      <td>3</td>\n",
       "      <td>7.000000</td>\n",
       "      <td>56.0</td>\n",
       "    </tr>\n",
       "    <tr>\n",
       "      <th>1</th>\n",
       "      <td>Запустить собственную службу доставки, что сок...</td>\n",
       "      <td>2</td>\n",
       "      <td>5</td>\n",
       "      <td>4</td>\n",
       "      <td>10</td>\n",
       "      <td>2.000000</td>\n",
       "      <td>4.0</td>\n",
       "    </tr>\n",
       "    <tr>\n",
       "      <th>5</th>\n",
       "      <td>Добавить страницу отзывов клиентов о магазине,...</td>\n",
       "      <td>3</td>\n",
       "      <td>2</td>\n",
       "      <td>2</td>\n",
       "      <td>3</td>\n",
       "      <td>1.333333</td>\n",
       "      <td>4.0</td>\n",
       "    </tr>\n",
       "    <tr>\n",
       "      <th>3</th>\n",
       "      <td>Изменить структура категорий, что увеличит кон...</td>\n",
       "      <td>8</td>\n",
       "      <td>3</td>\n",
       "      <td>3</td>\n",
       "      <td>8</td>\n",
       "      <td>1.125000</td>\n",
       "      <td>9.0</td>\n",
       "    </tr>\n",
       "    <tr>\n",
       "      <th>4</th>\n",
       "      <td>Изменить цвет фона главной страницы, чтобы уве...</td>\n",
       "      <td>3</td>\n",
       "      <td>1</td>\n",
       "      <td>1</td>\n",
       "      <td>1</td>\n",
       "      <td>1.000000</td>\n",
       "      <td>3.0</td>\n",
       "    </tr>\n",
       "  </tbody>\n",
       "</table>\n",
       "</div>"
      ],
      "text/plain": [
       "                                          hypothesis  reach  impact  \\\n",
       "8  Запустить акцию, дающую скидку на товар в день...      1       9   \n",
       "0  Добавить два новых канала привлечения трафика,...      3      10   \n",
       "7  Добавить форму подписки на все основные страни...     10       7   \n",
       "6  Показать на главной странице баннеры с актуаль...      5       3   \n",
       "2  Добавить блоки рекомендаций товаров на сайт ин...      8       3   \n",
       "1  Запустить собственную службу доставки, что сок...      2       5   \n",
       "5  Добавить страницу отзывов клиентов о магазине,...      3       2   \n",
       "3  Изменить структура категорий, что увеличит кон...      8       3   \n",
       "4  Изменить цвет фона главной страницы, чтобы уве...      3       1   \n",
       "\n",
       "   confidence  efforts        ice   rice  \n",
       "8           9        5  16.200000   16.2  \n",
       "0           8        6  13.333333   40.0  \n",
       "7           8        5  11.200000  112.0  \n",
       "6           8        3   8.000000   40.0  \n",
       "2           7        3   7.000000   56.0  \n",
       "1           4       10   2.000000    4.0  \n",
       "5           2        3   1.333333    4.0  \n",
       "3           3        8   1.125000    9.0  \n",
       "4           1        1   1.000000    3.0  "
      ]
     },
     "execution_count": 12,
     "metadata": {},
     "output_type": "execute_result"
    }
   ],
   "source": [
    "hypothesis.sort_values(by = 'ice', ascending = False)"
   ]
  },
  {
   "cell_type": "markdown",
   "metadata": {},
   "source": [
    "Тоже самое для метрики RICE"
   ]
  },
  {
   "cell_type": "code",
   "execution_count": 13,
   "metadata": {},
   "outputs": [
    {
     "data": {
      "text/html": [
       "<div>\n",
       "<style scoped>\n",
       "    .dataframe tbody tr th:only-of-type {\n",
       "        vertical-align: middle;\n",
       "    }\n",
       "\n",
       "    .dataframe tbody tr th {\n",
       "        vertical-align: top;\n",
       "    }\n",
       "\n",
       "    .dataframe thead th {\n",
       "        text-align: right;\n",
       "    }\n",
       "</style>\n",
       "<table border=\"1\" class=\"dataframe\">\n",
       "  <thead>\n",
       "    <tr style=\"text-align: right;\">\n",
       "      <th></th>\n",
       "      <th>hypothesis</th>\n",
       "      <th>reach</th>\n",
       "      <th>impact</th>\n",
       "      <th>confidence</th>\n",
       "      <th>efforts</th>\n",
       "      <th>ice</th>\n",
       "      <th>rice</th>\n",
       "    </tr>\n",
       "  </thead>\n",
       "  <tbody>\n",
       "    <tr>\n",
       "      <th>7</th>\n",
       "      <td>Добавить форму подписки на все основные страни...</td>\n",
       "      <td>10</td>\n",
       "      <td>7</td>\n",
       "      <td>8</td>\n",
       "      <td>5</td>\n",
       "      <td>11.200000</td>\n",
       "      <td>112.0</td>\n",
       "    </tr>\n",
       "    <tr>\n",
       "      <th>2</th>\n",
       "      <td>Добавить блоки рекомендаций товаров на сайт ин...</td>\n",
       "      <td>8</td>\n",
       "      <td>3</td>\n",
       "      <td>7</td>\n",
       "      <td>3</td>\n",
       "      <td>7.000000</td>\n",
       "      <td>56.0</td>\n",
       "    </tr>\n",
       "    <tr>\n",
       "      <th>0</th>\n",
       "      <td>Добавить два новых канала привлечения трафика,...</td>\n",
       "      <td>3</td>\n",
       "      <td>10</td>\n",
       "      <td>8</td>\n",
       "      <td>6</td>\n",
       "      <td>13.333333</td>\n",
       "      <td>40.0</td>\n",
       "    </tr>\n",
       "    <tr>\n",
       "      <th>6</th>\n",
       "      <td>Показать на главной странице баннеры с актуаль...</td>\n",
       "      <td>5</td>\n",
       "      <td>3</td>\n",
       "      <td>8</td>\n",
       "      <td>3</td>\n",
       "      <td>8.000000</td>\n",
       "      <td>40.0</td>\n",
       "    </tr>\n",
       "    <tr>\n",
       "      <th>8</th>\n",
       "      <td>Запустить акцию, дающую скидку на товар в день...</td>\n",
       "      <td>1</td>\n",
       "      <td>9</td>\n",
       "      <td>9</td>\n",
       "      <td>5</td>\n",
       "      <td>16.200000</td>\n",
       "      <td>16.2</td>\n",
       "    </tr>\n",
       "    <tr>\n",
       "      <th>3</th>\n",
       "      <td>Изменить структура категорий, что увеличит кон...</td>\n",
       "      <td>8</td>\n",
       "      <td>3</td>\n",
       "      <td>3</td>\n",
       "      <td>8</td>\n",
       "      <td>1.125000</td>\n",
       "      <td>9.0</td>\n",
       "    </tr>\n",
       "    <tr>\n",
       "      <th>1</th>\n",
       "      <td>Запустить собственную службу доставки, что сок...</td>\n",
       "      <td>2</td>\n",
       "      <td>5</td>\n",
       "      <td>4</td>\n",
       "      <td>10</td>\n",
       "      <td>2.000000</td>\n",
       "      <td>4.0</td>\n",
       "    </tr>\n",
       "    <tr>\n",
       "      <th>5</th>\n",
       "      <td>Добавить страницу отзывов клиентов о магазине,...</td>\n",
       "      <td>3</td>\n",
       "      <td>2</td>\n",
       "      <td>2</td>\n",
       "      <td>3</td>\n",
       "      <td>1.333333</td>\n",
       "      <td>4.0</td>\n",
       "    </tr>\n",
       "    <tr>\n",
       "      <th>4</th>\n",
       "      <td>Изменить цвет фона главной страницы, чтобы уве...</td>\n",
       "      <td>3</td>\n",
       "      <td>1</td>\n",
       "      <td>1</td>\n",
       "      <td>1</td>\n",
       "      <td>1.000000</td>\n",
       "      <td>3.0</td>\n",
       "    </tr>\n",
       "  </tbody>\n",
       "</table>\n",
       "</div>"
      ],
      "text/plain": [
       "                                          hypothesis  reach  impact  \\\n",
       "7  Добавить форму подписки на все основные страни...     10       7   \n",
       "2  Добавить блоки рекомендаций товаров на сайт ин...      8       3   \n",
       "0  Добавить два новых канала привлечения трафика,...      3      10   \n",
       "6  Показать на главной странице баннеры с актуаль...      5       3   \n",
       "8  Запустить акцию, дающую скидку на товар в день...      1       9   \n",
       "3  Изменить структура категорий, что увеличит кон...      8       3   \n",
       "1  Запустить собственную службу доставки, что сок...      2       5   \n",
       "5  Добавить страницу отзывов клиентов о магазине,...      3       2   \n",
       "4  Изменить цвет фона главной страницы, чтобы уве...      3       1   \n",
       "\n",
       "   confidence  efforts        ice   rice  \n",
       "7           8        5  11.200000  112.0  \n",
       "2           7        3   7.000000   56.0  \n",
       "0           8        6  13.333333   40.0  \n",
       "6           8        3   8.000000   40.0  \n",
       "8           9        5  16.200000   16.2  \n",
       "3           3        8   1.125000    9.0  \n",
       "1           4       10   2.000000    4.0  \n",
       "5           2        3   1.333333    4.0  \n",
       "4           1        1   1.000000    3.0  "
      ]
     },
     "execution_count": 13,
     "metadata": {},
     "output_type": "execute_result"
    }
   ],
   "source": [
    "hypothesis.sort_values(by = 'rice', ascending = False)"
   ]
  },
  {
   "cell_type": "markdown",
   "metadata": {},
   "source": [
    "***Промежуточный вывод*** Сортированная иерархия гипотез по методами rice и ice отличается по причине использования дополнительного параметра в методе rice, который учитывает охват (reach) для каждого внедрения (изменения). Например: изменение формы подписки на всех основных страницах очевидно имеет наибольший охват среди прочих изменений, поэтому rice этой гипотезы оставляет все остальные гипотезы позади. При этом проведение акции в определённый день - очень сильная гипотеза, если не учитывать масштаб её охвата."
   ]
  },
  {
   "cell_type": "markdown",
   "metadata": {},
   "source": [
    "Построим график кумулятивной выручки по группам (Урок - стабильность кумулятивных метрик)\n",
    "Найдём 90 перцентили (Урок - анализ выбросов и всплесков: крайние значения данных)\n",
    "Считаем статистическую значимость различий (Урок - анализ А/B шаг за шагом)\n",
    "Сделать выводы и решения."
   ]
  },
  {
   "cell_type": "markdown",
   "metadata": {},
   "source": [
    "Соберём кумулятивные данные в единый фрейм:"
   ]
  },
  {
   "cell_type": "code",
   "execution_count": 14,
   "metadata": {},
   "outputs": [
    {
     "data": {
      "text/plain": [
       "True     954\n",
       "False     62\n",
       "dtype: int64"
      ]
     },
     "execution_count": 14,
     "metadata": {},
     "output_type": "execute_result"
    }
   ],
   "source": [
    "orders[['date','group']].duplicated().value_counts() #оценим наличие дубликатов значений"
   ]
  },
  {
   "cell_type": "code",
   "execution_count": 15,
   "metadata": {},
   "outputs": [],
   "source": [
    "datesGroups = orders[['date','group']].drop_duplicates() #сформируем пары даты-группы для аггрегированного фрейма\n",
    "\n",
    "ordersAggregated = datesGroups.apply(lambda x: orders[np.logical_and(orders['date'] <= x['date'], orders['group'] == x['group'])].agg({'date' : 'max','group' : 'max','transactionId' : pd.Series.nunique,\n",
    "'visitorId' : pd.Series.nunique,'revenue' : 'sum'}), axis=1).sort_values(by=['date','group']) "
   ]
  },
  {
   "cell_type": "code",
   "execution_count": 16,
   "metadata": {
    "scrolled": true
   },
   "outputs": [
    {
     "data": {
      "text/html": [
       "<div>\n",
       "<style scoped>\n",
       "    .dataframe tbody tr th:only-of-type {\n",
       "        vertical-align: middle;\n",
       "    }\n",
       "\n",
       "    .dataframe tbody tr th {\n",
       "        vertical-align: top;\n",
       "    }\n",
       "\n",
       "    .dataframe thead th {\n",
       "        text-align: right;\n",
       "    }\n",
       "</style>\n",
       "<table border=\"1\" class=\"dataframe\">\n",
       "  <thead>\n",
       "    <tr style=\"text-align: right;\">\n",
       "      <th></th>\n",
       "      <th>date</th>\n",
       "      <th>group</th>\n",
       "      <th>transactionId</th>\n",
       "      <th>visitorId</th>\n",
       "      <th>revenue</th>\n",
       "    </tr>\n",
       "  </thead>\n",
       "  <tbody>\n",
       "    <tr>\n",
       "      <th>55</th>\n",
       "      <td>2019-08-01</td>\n",
       "      <td>A</td>\n",
       "      <td>23</td>\n",
       "      <td>19</td>\n",
       "      <td>142779</td>\n",
       "    </tr>\n",
       "    <tr>\n",
       "      <th>66</th>\n",
       "      <td>2019-08-01</td>\n",
       "      <td>B</td>\n",
       "      <td>17</td>\n",
       "      <td>17</td>\n",
       "      <td>59758</td>\n",
       "    </tr>\n",
       "    <tr>\n",
       "      <th>175</th>\n",
       "      <td>2019-08-02</td>\n",
       "      <td>A</td>\n",
       "      <td>42</td>\n",
       "      <td>36</td>\n",
       "      <td>234381</td>\n",
       "    </tr>\n",
       "    <tr>\n",
       "      <th>173</th>\n",
       "      <td>2019-08-02</td>\n",
       "      <td>B</td>\n",
       "      <td>40</td>\n",
       "      <td>39</td>\n",
       "      <td>221801</td>\n",
       "    </tr>\n",
       "    <tr>\n",
       "      <th>291</th>\n",
       "      <td>2019-08-03</td>\n",
       "      <td>A</td>\n",
       "      <td>66</td>\n",
       "      <td>60</td>\n",
       "      <td>346854</td>\n",
       "    </tr>\n",
       "    <tr>\n",
       "      <th>...</th>\n",
       "      <td>...</td>\n",
       "      <td>...</td>\n",
       "      <td>...</td>\n",
       "      <td>...</td>\n",
       "      <td>...</td>\n",
       "    </tr>\n",
       "    <tr>\n",
       "      <th>533</th>\n",
       "      <td>2019-08-29</td>\n",
       "      <td>B</td>\n",
       "      <td>510</td>\n",
       "      <td>490</td>\n",
       "      <td>4746610</td>\n",
       "    </tr>\n",
       "    <tr>\n",
       "      <th>757</th>\n",
       "      <td>2019-08-30</td>\n",
       "      <td>A</td>\n",
       "      <td>460</td>\n",
       "      <td>437</td>\n",
       "      <td>3311413</td>\n",
       "    </tr>\n",
       "    <tr>\n",
       "      <th>690</th>\n",
       "      <td>2019-08-30</td>\n",
       "      <td>B</td>\n",
       "      <td>531</td>\n",
       "      <td>511</td>\n",
       "      <td>4955833</td>\n",
       "    </tr>\n",
       "    <tr>\n",
       "      <th>958</th>\n",
       "      <td>2019-08-31</td>\n",
       "      <td>A</td>\n",
       "      <td>468</td>\n",
       "      <td>445</td>\n",
       "      <td>3364656</td>\n",
       "    </tr>\n",
       "    <tr>\n",
       "      <th>930</th>\n",
       "      <td>2019-08-31</td>\n",
       "      <td>B</td>\n",
       "      <td>548</td>\n",
       "      <td>528</td>\n",
       "      <td>5068972</td>\n",
       "    </tr>\n",
       "  </tbody>\n",
       "</table>\n",
       "<p>62 rows × 5 columns</p>\n",
       "</div>"
      ],
      "text/plain": [
       "          date group  transactionId  visitorId  revenue\n",
       "55  2019-08-01     A             23         19   142779\n",
       "66  2019-08-01     B             17         17    59758\n",
       "175 2019-08-02     A             42         36   234381\n",
       "173 2019-08-02     B             40         39   221801\n",
       "291 2019-08-03     A             66         60   346854\n",
       "..         ...   ...            ...        ...      ...\n",
       "533 2019-08-29     B            510        490  4746610\n",
       "757 2019-08-30     A            460        437  3311413\n",
       "690 2019-08-30     B            531        511  4955833\n",
       "958 2019-08-31     A            468        445  3364656\n",
       "930 2019-08-31     B            548        528  5068972\n",
       "\n",
       "[62 rows x 5 columns]"
      ]
     },
     "execution_count": 16,
     "metadata": {},
     "output_type": "execute_result"
    }
   ],
   "source": [
    "ordersAggregated"
   ]
  },
  {
   "cell_type": "code",
   "execution_count": 17,
   "metadata": {},
   "outputs": [],
   "source": [
    "#саггрегируем и сгруппируем фреймы по датам из логики \"суммируем всё, что раньше определённой даты\" группируем по дате и группе\n",
    "visitorsAggregated = datesGroups.apply(lambda x: visits[np.logical_and(visits['date'] <= x['date'], visits['group'] == x['group'])].agg({'date' : 'max','group' : 'max',\n",
    "'visitors' : pd.Series.sum}), axis=1).sort_values(by=['date','group']) "
   ]
  },
  {
   "cell_type": "code",
   "execution_count": 18,
   "metadata": {},
   "outputs": [],
   "source": [
    "#мерджим фреймы с заказами и посещениями по дате и группе\n",
    "cumulativeData = ordersAggregated.merge(visitorsAggregated, left_on=['date', 'group'], right_on=['date', 'group'])"
   ]
  },
  {
   "cell_type": "code",
   "execution_count": 19,
   "metadata": {},
   "outputs": [],
   "source": [
    "#переименовываем столбцы\n",
    "cumulativeData.columns = ['date', 'group', 'orders', 'buyers', 'revenue', 'visitors']"
   ]
  },
  {
   "cell_type": "code",
   "execution_count": 20,
   "metadata": {},
   "outputs": [],
   "source": [
    "#разбиваем фрем по группам А и Б\n",
    "cumulativeRevenueA = cumulativeData[cumulativeData['group']=='A'][['date','revenue', 'orders']]\n",
    "cumulativeRevenueB = cumulativeData[cumulativeData['group']=='B'][['date','revenue', 'orders']]"
   ]
  },
  {
   "cell_type": "markdown",
   "metadata": {},
   "source": [
    "### Вывод"
   ]
  },
  {
   "cell_type": "markdown",
   "metadata": {},
   "source": [
    "Данные предобработаны, готовы к первичному анализу и визуализациям"
   ]
  },
  {
   "cell_type": "markdown",
   "metadata": {},
   "source": [
    "## Исследовательский и статистический анализ данных"
   ]
  },
  {
   "cell_type": "code",
   "execution_count": 21,
   "metadata": {},
   "outputs": [
    {
     "data": {
      "image/png": "[encoded data removed]",
      "text/plain": [
       "<Figure size 1080x216 with 1 Axes>"
      ]
     },
     "metadata": {
      "needs_background": "light"
     },
     "output_type": "display_data"
    }
   ],
   "source": [
    "plt.figure(figsize = (15,3))\n",
    "\n",
    "plt.plot(cumulativeRevenueA['date'], cumulativeRevenueA['revenue'], label='группа A', color = 'green')\n",
    "plt.title('кумулятивный доход по группам А и B')\n",
    "plt.xlabel(\"дата\")    \n",
    "plt.ylabel(\"у.е.\") \n",
    "plt.plot(cumulativeRevenueB['date'], cumulativeRevenueB['revenue'], label='группа B', color = 'orange')\n",
    "\n",
    "plt.legend()\n",
    "plt.show()"
   ]
  },
  {
   "cell_type": "markdown",
   "metadata": {},
   "source": [
    "Построим график среднего чека по дням:"
   ]
  },
  {
   "cell_type": "code",
   "execution_count": 22,
   "metadata": {},
   "outputs": [
    {
     "data": {
      "image/png": "[encoded data removed]",
      "text/plain": [
       "<Figure size 1080x216 with 1 Axes>"
      ]
     },
     "metadata": {
      "needs_background": "light"
     },
     "output_type": "display_data"
    }
   ],
   "source": [
    "plt.figure(figsize = (15,3))\n",
    "plt.plot(cumulativeRevenueA['date'], cumulativeRevenueA['revenue']/cumulativeRevenueA['orders'], label='A', color = 'green')\n",
    "plt.plot(cumulativeRevenueB['date'], cumulativeRevenueB['revenue']/cumulativeRevenueB['orders'], label='B', color = 'orange')\n",
    "plt.xlabel(\"дата\")    \n",
    "plt.ylabel(\"у.е. на заказ\") \n",
    "plt.title('средний чек А и B')\n",
    "plt.legend() \n",
    "plt.show()"
   ]
  },
  {
   "cell_type": "markdown",
   "metadata": {},
   "source": [
    "построим график относительного различия"
   ]
  },
  {
   "cell_type": "code",
   "execution_count": 23,
   "metadata": {},
   "outputs": [
    {
     "data": {
      "image/png": "[encoded data removed]",
      "text/plain": [
       "<Figure size 1080x216 with 1 Axes>"
      ]
     },
     "metadata": {
      "needs_background": "light"
     },
     "output_type": "display_data"
    }
   ],
   "source": [
    "plt.figure(figsize = (15,3))\n",
    "mergedCumulativeRevenue = cumulativeRevenueA.merge(cumulativeRevenueB, left_on='date', right_on='date', how='left', suffixes=['A', 'B']) \n",
    "# cтроим отношение средних чеков\n",
    "plt.title('разница между средними чеками')\n",
    "plt.xlabel(\"дата\")    \n",
    " \n",
    "plt.plot(mergedCumulativeRevenue['date'], (mergedCumulativeRevenue['revenueB']/mergedCumulativeRevenue['ordersB'])/(mergedCumulativeRevenue['revenueA']/mergedCumulativeRevenue['ordersA'])-1, color = 'green')\n",
    "\n",
    "# добавляем ось X\n",
    "plt.axhline(y=0, color='black', linestyle='--') \n",
    "plt.show()"
   ]
  },
  {
   "cell_type": "markdown",
   "metadata": {},
   "source": [
    "Метрика B очевидно опережает, однако между 18 и 19 августа есть аномалия. Данные следует отфильтровать."
   ]
  },
  {
   "cell_type": "code",
   "execution_count": 24,
   "metadata": {},
   "outputs": [
    {
     "data": {
      "image/png": "[encoded data removed]",
      "text/plain": [
       "<Figure size 1080x216 with 1 Axes>"
      ]
     },
     "metadata": {
      "needs_background": "light"
     },
     "output_type": "display_data"
    }
   ],
   "source": [
    "#строим график конверсий по группам\n",
    "plt.figure(figsize = (15,3))\n",
    "\n",
    "cumulativeData['conversion'] = cumulativeData['orders']/cumulativeData['visitors']\n",
    "\n",
    "cumulativeDataA = cumulativeData[cumulativeData['group']=='A']\n",
    "\n",
    "cumulativeDataB = cumulativeData[cumulativeData['group']=='B'] \n",
    "\n",
    "plt.plot(cumulativeDataA['date'], cumulativeDataA['conversion'], label='A', color = 'green')\n",
    "plt.plot(cumulativeDataB['date'], cumulativeDataB['conversion'], label='B', color = 'orange')\n",
    "plt.xlabel(\"дата\")    \n",
    "\n",
    "plt.title('конверсии по группам')\n",
    "plt.legend()\n",
    "plt.show()"
   ]
  },
  {
   "cell_type": "code",
   "execution_count": 25,
   "metadata": {},
   "outputs": [
    {
     "data": {
      "image/png": "[encoded data removed]",
      "text/plain": [
       "<Figure size 1080x216 with 1 Axes>"
      ]
     },
     "metadata": {
      "needs_background": "light"
     },
     "output_type": "display_data"
    }
   ],
   "source": [
    "#строим граффик отличий кумулятивных конверсий между группами а и б\n",
    "mergedCumulativeConversions = cumulativeDataA[['date','conversion']].merge(cumulativeDataB[['date','conversion']], left_on='date', right_on='date', how='left', suffixes=['A', 'B']) \n",
    "plt.figure(figsize = (15,3))\n",
    "plt.plot(mergedCumulativeConversions['date'], mergedCumulativeConversions['conversionB']/mergedCumulativeConversions['conversionA']-1, label=\"Относительный прирост конверсии группы B относительно группы A\", color = 'green')\n",
    "plt.legend()\n",
    "plt.xlabel(\"дата\")    \n",
    "\n",
    "plt.axhline(y=0, color='black', linestyle='--')\n",
    "plt.axhline(y= 0.1, color='grey', linestyle='--')\n",
    "plt.title('относительная кумулятивная разница между конверсиями')\n",
    "plt.show()"
   ]
  },
  {
   "cell_type": "markdown",
   "metadata": {},
   "source": [
    "создадим фрейм с группировкой количества заказов по пользователям для реализации скаттера (в рамках оценки аномалий)"
   ]
  },
  {
   "cell_type": "code",
   "execution_count": 26,
   "metadata": {},
   "outputs": [],
   "source": [
    "ordersbyusers = (orders.drop(['group', 'revenue', 'date'], axis=1).groupby('visitorId', as_index=False).agg({'transactionId': pd.Series.nunique}))"
   ]
  },
  {
   "cell_type": "code",
   "execution_count": 27,
   "metadata": {},
   "outputs": [],
   "source": [
    "ordersbyusers.columns = ['userId', 'orders']"
   ]
  },
  {
   "cell_type": "code",
   "execution_count": 28,
   "metadata": {},
   "outputs": [
    {
     "data": {
      "image/png": "[encoded data removed]",
      "text/plain": [
       "<Figure size 1080x216 with 1 Axes>"
      ]
     },
     "metadata": {
      "needs_background": "light"
     },
     "output_type": "display_data"
    }
   ],
   "source": [
    "plt.figure(figsize = (15,3))\n",
    "x_values = pd.Series(range(0, len(ordersbyusers)))\n",
    "plt.title('граффик рассеяния количества заказов на одного пользователя')\n",
    "plt.xlabel(\"номер посетителя\")    \n",
    "plt.ylabel(\"количество заказов\") \n",
    "plt.scatter(x_values, ordersbyusers['orders'], color = 'green')\n",
    "plt.show()"
   ]
  },
  {
   "cell_type": "markdown",
   "metadata": {},
   "source": [
    "Видны явные выбросы, которые следует отсечь. Обратимся к перцентилям"
   ]
  },
  {
   "cell_type": "code",
   "execution_count": 29,
   "metadata": {},
   "outputs": [
    {
     "name": "stdout",
     "output_type": "stream",
     "text": [
      "[1. 2.]\n"
     ]
    }
   ],
   "source": [
    "print(np.percentile(ordersbyusers['orders'], [95,99]))"
   ]
  },
  {
   "cell_type": "markdown",
   "metadata": {},
   "source": [
    "не более 5% совершали более 2х заказов, не более 1% - больше 4х."
   ]
  },
  {
   "cell_type": "code",
   "execution_count": 30,
   "metadata": {},
   "outputs": [
    {
     "data": {
      "image/png": "[encoded data removed]",
      "text/plain": [
       "<Figure size 1080x432 with 1 Axes>"
      ]
     },
     "metadata": {
      "needs_background": "light"
     },
     "output_type": "display_data"
    }
   ],
   "source": [
    "#построим скаттер для доходов\n",
    "plt.figure(figsize = (15,6))\n",
    "\n",
    "x_values = pd.Series(range(0, len(orders['revenue'])))\n",
    "plt.xlabel(\"номер посетителя\")    \n",
    "plt.ylabel(\"количество заказов\") \n",
    "plt.title('граффик рассеяния количества заказов на одного пользователя')\n",
    "plt.scatter(x_values, orders['revenue'], color = 'orange')\n",
    "\n",
    "plt.show()"
   ]
  },
  {
   "cell_type": "markdown",
   "metadata": {},
   "source": [
    "обратимся к перцентилям для определения зоны отсечки"
   ]
  },
  {
   "cell_type": "code",
   "execution_count": 31,
   "metadata": {},
   "outputs": [
    {
     "name": "stdout",
     "output_type": "stream",
     "text": [
      "[26785. 53904.]\n"
     ]
    }
   ],
   "source": [
    "print(np.percentile(orders['revenue'], [ 95, 99]))"
   ]
  },
  {
   "cell_type": "markdown",
   "metadata": {},
   "source": [
    "не больше 5% за заказ потратили 28 тыс.; не более 1% не более 58 тыс. "
   ]
  },
  {
   "cell_type": "markdown",
   "metadata": {},
   "source": [
    "***Промежуточный вывод*** мы получили относительные уровни, за которыми следуют выбросы. Проверим гипотезы."
   ]
  },
  {
   "cell_type": "markdown",
   "metadata": {},
   "source": [
    "## Выдвижение и проверка гипотез"
   ]
  },
  {
   "cell_type": "code",
   "execution_count": 32,
   "metadata": {},
   "outputs": [
    {
     "name": "stdout",
     "output_type": "stream",
     "text": [
      "p-значение:  0.08790925494395196 %\n",
      "Отвергаем нулевую гипотезу: распределение не нормально\n"
     ]
    }
   ],
   "source": [
    "alpha = 0.05# ваш код\n",
    "\n",
    "results = st.shapiro(cumulativeData['conversion'])# ваш код\n",
    "p_value = results[1]\n",
    "\n",
    "print('p-значение: ', p_value*100,'%')\n",
    "\n",
    "if p_value < alpha:\n",
    "    print('Отвергаем нулевую гипотезу: распределение не нормально')\n",
    "else:\n",
    "    print('Не получилось отвергнуть нулевую гипотезу, всё нормально') "
   ]
  },
  {
   "cell_type": "code",
   "execution_count": 33,
   "metadata": {},
   "outputs": [
    {
     "name": "stdout",
     "output_type": "stream",
     "text": [
      "p-значение:  0.007311606896109879 %\n",
      "Отвергаем нулевую гипотезу: распределение не нормально\n"
     ]
    }
   ],
   "source": [
    "results = st.shapiro(cumulativeData['revenue'] / cumulativeData['orders'])# ваш код\n",
    "p_value = results[1]\n",
    "\n",
    "print('p-значение: ', p_value*100,'%')\n",
    "\n",
    "if p_value < alpha:\n",
    "    print('Отвергаем нулевую гипотезу: распределение не нормально')\n",
    "else:\n",
    "    print('Не получилось отвергнуть нулевую гипотезу, всё нормально') "
   ]
  },
  {
   "cell_type": "markdown",
   "metadata": {},
   "source": [
    "Распределения ненормальны. Используем тест Уилкоксона-Манна-Уитни для проверки статистической значимости различий массивов."
   ]
  },
  {
   "cell_type": "markdown",
   "metadata": {},
   "source": [
    "Определим статистическую значимость разницы конверсий по неочищенным данным. Нулевая гипотеза - между конверсиями групп A и B нет статистической разницы. Альтернативная - статистическая разница имеется."
   ]
  },
  {
   "cell_type": "code",
   "execution_count": 34,
   "metadata": {},
   "outputs": [
    {
     "name": "stdout",
     "output_type": "stream",
     "text": [
      "p-value. Разница конверсий A и B - 0.000725%\n"
     ]
    }
   ],
   "source": [
    "print('p-value. Разница конверсий A и B -', '{:%}'.format(stats.mannwhitneyu(cumulativeDataA['conversion'],cumulativeDataB['conversion'])[1],alternative=\"two-sided\"))\n"
   ]
  },
  {
   "cell_type": "markdown",
   "metadata": {},
   "source": [
    "Исчезающе малое значение p-value по тесту показал, что между массивами есть статистически значимая разница. "
   ]
  },
  {
   "cell_type": "markdown",
   "metadata": {},
   "source": [
    "Проверим нулевую гипотезу о равенстве средних чеков по группам A и B в сыром варианте. P-value примем за 0,05. Альтернативная - статистически значимая разница чеков отсутствует."
   ]
  },
  {
   "cell_type": "code",
   "execution_count": 35,
   "metadata": {},
   "outputs": [
    {
     "name": "stdout",
     "output_type": "stream",
     "text": [
      "p-value. Разница средних чеков A и B - 7.958666%\n"
     ]
    }
   ],
   "source": [
    "print('p-value. Разница средних чеков A и B -', '{:%}'.format(stats.mannwhitneyu(cumulativeDataA['revenue'] / cumulativeDataA['orders'] ,cumulativeDataB['revenue'] / cumulativeDataB['orders'])[1],alternative=\"two-sided\"))\n",
    "\n"
   ]
  },
  {
   "cell_type": "markdown",
   "metadata": {},
   "source": [
    "Нулевая гипотеза подтвердилась. Средние чеки между группами не имеют статистически значимой разницы."
   ]
  },
  {
   "cell_type": "markdown",
   "metadata": {},
   "source": [
    "Оценим статистическую разницу по очищенным данным. Для начала"
   ]
  },
  {
   "cell_type": "code",
   "execution_count": 36,
   "metadata": {},
   "outputs": [],
   "source": [
    "#примем пороговое значение количества заказов равное 2м\n",
    "to_many_orders = ordersbyusers[ordersbyusers['orders'] > 2]['userId']\n",
    "\n",
    "#примем пороговое значение величины заказа 28 тыс. \n",
    "to_expensive_orders = orders[orders['revenue'] > 28000]['visitorId']\n",
    "\n",
    "#оба критерия примем по процентилю - 95"
   ]
  },
  {
   "cell_type": "code",
   "execution_count": 37,
   "metadata": {},
   "outputs": [],
   "source": [
    "#создадим перечень аномальных юзеров\n",
    "abnormalUsers = (pd.concat([to_many_orders, to_expensive_orders], axis=0).drop_duplicates().sort_values())"
   ]
  },
  {
   "cell_type": "code",
   "execution_count": 38,
   "metadata": {},
   "outputs": [
    {
     "data": {
      "text/html": [
       "<div>\n",
       "<style scoped>\n",
       "    .dataframe tbody tr th:only-of-type {\n",
       "        vertical-align: middle;\n",
       "    }\n",
       "\n",
       "    .dataframe tbody tr th {\n",
       "        vertical-align: top;\n",
       "    }\n",
       "\n",
       "    .dataframe thead th {\n",
       "        text-align: right;\n",
       "    }\n",
       "</style>\n",
       "<table border=\"1\" class=\"dataframe\">\n",
       "  <thead>\n",
       "    <tr style=\"text-align: right;\">\n",
       "      <th></th>\n",
       "      <th>transactionId</th>\n",
       "      <th>visitorId</th>\n",
       "      <th>date</th>\n",
       "      <th>revenue</th>\n",
       "      <th>group</th>\n",
       "    </tr>\n",
       "  </thead>\n",
       "  <tbody>\n",
       "    <tr>\n",
       "      <th>0</th>\n",
       "      <td>3667963787</td>\n",
       "      <td>3312258926</td>\n",
       "      <td>2019-08-15</td>\n",
       "      <td>1650</td>\n",
       "      <td>B</td>\n",
       "    </tr>\n",
       "    <tr>\n",
       "      <th>1</th>\n",
       "      <td>2804400009</td>\n",
       "      <td>3642806036</td>\n",
       "      <td>2019-08-15</td>\n",
       "      <td>730</td>\n",
       "      <td>B</td>\n",
       "    </tr>\n",
       "    <tr>\n",
       "      <th>3</th>\n",
       "      <td>3797467345</td>\n",
       "      <td>1196621759</td>\n",
       "      <td>2019-08-15</td>\n",
       "      <td>9759</td>\n",
       "      <td>B</td>\n",
       "    </tr>\n",
       "    <tr>\n",
       "      <th>4</th>\n",
       "      <td>2282983706</td>\n",
       "      <td>2322279887</td>\n",
       "      <td>2019-08-15</td>\n",
       "      <td>2308</td>\n",
       "      <td>B</td>\n",
       "    </tr>\n",
       "    <tr>\n",
       "      <th>5</th>\n",
       "      <td>182168103</td>\n",
       "      <td>935554773</td>\n",
       "      <td>2019-08-15</td>\n",
       "      <td>2210</td>\n",
       "      <td>B</td>\n",
       "    </tr>\n",
       "    <tr>\n",
       "      <th>...</th>\n",
       "      <td>...</td>\n",
       "      <td>...</td>\n",
       "      <td>...</td>\n",
       "      <td>...</td>\n",
       "      <td>...</td>\n",
       "    </tr>\n",
       "    <tr>\n",
       "      <th>1191</th>\n",
       "      <td>3592955527</td>\n",
       "      <td>608641596</td>\n",
       "      <td>2019-08-14</td>\n",
       "      <td>16490</td>\n",
       "      <td>B</td>\n",
       "    </tr>\n",
       "    <tr>\n",
       "      <th>1192</th>\n",
       "      <td>2662137336</td>\n",
       "      <td>3733762160</td>\n",
       "      <td>2019-08-14</td>\n",
       "      <td>6490</td>\n",
       "      <td>B</td>\n",
       "    </tr>\n",
       "    <tr>\n",
       "      <th>1193</th>\n",
       "      <td>2203539145</td>\n",
       "      <td>370388673</td>\n",
       "      <td>2019-08-14</td>\n",
       "      <td>3190</td>\n",
       "      <td>A</td>\n",
       "    </tr>\n",
       "    <tr>\n",
       "      <th>1194</th>\n",
       "      <td>1807773912</td>\n",
       "      <td>573423106</td>\n",
       "      <td>2019-08-14</td>\n",
       "      <td>10550</td>\n",
       "      <td>A</td>\n",
       "    </tr>\n",
       "    <tr>\n",
       "      <th>1196</th>\n",
       "      <td>3936777065</td>\n",
       "      <td>2108080724</td>\n",
       "      <td>2019-08-15</td>\n",
       "      <td>202740</td>\n",
       "      <td>B</td>\n",
       "    </tr>\n",
       "  </tbody>\n",
       "</table>\n",
       "<p>1016 rows × 5 columns</p>\n",
       "</div>"
      ],
      "text/plain": [
       "      transactionId   visitorId       date  revenue group\n",
       "0        3667963787  3312258926 2019-08-15     1650     B\n",
       "1        2804400009  3642806036 2019-08-15      730     B\n",
       "3        3797467345  1196621759 2019-08-15     9759     B\n",
       "4        2282983706  2322279887 2019-08-15     2308     B\n",
       "5         182168103   935554773 2019-08-15     2210     B\n",
       "...             ...         ...        ...      ...   ...\n",
       "1191     3592955527   608641596 2019-08-14    16490     B\n",
       "1192     2662137336  3733762160 2019-08-14     6490     B\n",
       "1193     2203539145   370388673 2019-08-14     3190     A\n",
       "1194     1807773912   573423106 2019-08-14    10550     A\n",
       "1196     3936777065  2108080724 2019-08-15   202740     B\n",
       "\n",
       "[1016 rows x 5 columns]"
      ]
     },
     "execution_count": 38,
     "metadata": {},
     "output_type": "execute_result"
    }
   ],
   "source": [
    "orders\n"
   ]
  },
  {
   "cell_type": "markdown",
   "metadata": {},
   "source": [
    "Очистим фреймы от аномальных юзеров для расчёта конверсии:"
   ]
  },
  {
   "cell_type": "code",
   "execution_count": 39,
   "metadata": {},
   "outputs": [],
   "source": [
    "#удаляем всё ненормальное из самых первых фреймов и создаём очищенные кумулятивные фреймы\n",
    "orders = orders[orders['visitorId'].isin(abnormalUsers) != True]\n",
    "visitorsAggregated = datesGroups.apply(lambda x: visits[np.logical_and(visits['date'] <= x['date'], visits['group'] == x['group'])].agg({'date' : 'max','group' : 'max',\n",
    "'visitors' : pd.Series.sum}), axis=1).sort_values(by=['date','group']) \n",
    "ordersAggregated = datesGroups.apply(lambda x: orders[np.logical_and(orders['date'] <= x['date'], orders['group'] == x['group'])].agg({'date' : 'max','group' : 'max','transactionId' : pd.Series.nunique,\n",
    "'visitorId' : pd.Series.nunique,'revenue' : 'sum'}), axis=1).sort_values(by=['date','group']) \n",
    "cumulativeData_clear = ordersAggregated.merge(visitorsAggregated, left_on=['date', 'group'], right_on=['date', 'group'])\n",
    "cumulativeData_clear.columns = ['date', 'group', 'orders', 'visitorId', 'revenue', 'visitors']\n",
    "cumulativeData_clear['conversion'] = cumulativeData_clear['orders']/cumulativeData_clear['visitors']\n"
   ]
  },
  {
   "cell_type": "markdown",
   "metadata": {},
   "source": [
    "переназначим переменные кумулятивных данных по группам"
   ]
  },
  {
   "cell_type": "code",
   "execution_count": 40,
   "metadata": {},
   "outputs": [],
   "source": [
    "cumulativeData_clear_A = cumulativeData_clear[cumulativeData_clear['group']=='A']\n",
    "\n",
    "cumulativeData_clear_B = cumulativeData_clear[cumulativeData_clear['group']=='B'] "
   ]
  },
  {
   "cell_type": "code",
   "execution_count": 41,
   "metadata": {},
   "outputs": [
    {
     "data": {
      "image/png": "[encoded data removed]",
      "text/plain": [
       "<Figure size 1080x216 with 2 Axes>"
      ]
     },
     "metadata": {
      "needs_background": "light"
     },
     "output_type": "display_data"
    }
   ],
   "source": [
    "plt.figure(figsize = (15,3)) #сравним распределения до и после очистки данных от аномальных пользователей\n",
    "plt.subplot(1,2,1)\n",
    "plt.title('граффик распределения конверсий до фильтрации')\n",
    "cumulativeDataA['conversion'].hist(bins = 30, color = 'green', alpha = 0.5)\n",
    "cumulativeDataB['conversion'].hist(bins = 30, color = 'orange', alpha = 0.5)\n",
    "plt.subplot(1,2,2)\n",
    "plt.title('граффик распределения конверсий после фильтрации')\n",
    "cumulativeData_clear_A['conversion'].hist(bins = 30, color = 'green', alpha = 0.5)\n",
    "cumulativeData_clear_B['conversion'].hist(bins = 30, color = 'orange', alpha = 0.5)\n",
    "plt.show()"
   ]
  },
  {
   "cell_type": "markdown",
   "metadata": {},
   "source": [
    "Считаем статистическую значимость разницы между группами по очищенным данным"
   ]
  },
  {
   "cell_type": "code",
   "execution_count": 42,
   "metadata": {},
   "outputs": [
    {
     "name": "stdout",
     "output_type": "stream",
     "text": [
      "p-value. Разница конверсий A и B по очищенным данным - 0.000000%\n"
     ]
    }
   ],
   "source": [
    "print('p-value. Разница конверсий A и B по очищенным данным -', '{:%}'.format(stats.mannwhitneyu(cumulativeData_clear_A['conversion'],cumulativeData_clear_B['conversion'])[1],alternative=\"two-sided\"))"
   ]
  },
  {
   "cell_type": "markdown",
   "metadata": {},
   "source": [
    "Конверсии по группам после очистки показали более явные отличия"
   ]
  },
  {
   "cell_type": "markdown",
   "metadata": {},
   "source": []
  },
  {
   "cell_type": "code",
   "execution_count": 43,
   "metadata": {},
   "outputs": [
    {
     "name": "stdout",
     "output_type": "stream",
     "text": [
      "p-value. Разница средних чеков A и B по очищенным данным - 33.126029%\n"
     ]
    }
   ],
   "source": [
    "print('p-value. Разница средних чеков A и B по очищенным данным -', '{:%}'.format(stats.mannwhitneyu(cumulativeData_clear_A['revenue'] / cumulativeData_clear_A['orders'] ,cumulativeData_clear_B['revenue'] / cumulativeData_clear_B['orders'])[1],alternative=\"two-sided\"))"
   ]
  },
  {
   "cell_type": "markdown",
   "metadata": {},
   "source": [
    "Нулевая гипотеза о равенстве средних чеков по 2м группам подтвердилась, и с ещё большой долей вероятности можно утверждать о равенстве средних чеках в 2х группах."
   ]
  },
  {
   "cell_type": "markdown",
   "metadata": {},
   "source": [
    "Визуализируем кумулятивные метрики (конверсия, средний чек) по очищенным данным."
   ]
  },
  {
   "cell_type": "code",
   "execution_count": 44,
   "metadata": {},
   "outputs": [
    {
     "data": {
      "image/png": "[encoded data removed]",
      "text/plain": [
       "<Figure size 1080x216 with 1 Axes>"
      ]
     },
     "metadata": {
      "needs_background": "light"
     },
     "output_type": "display_data"
    }
   ],
   "source": [
    "plt.figure(figsize = (15,3))\n",
    "plt.plot(cumulativeData_clear_A['date'], cumulativeData_clear_A['revenue']/cumulativeData_clear_A['orders'], label='A', color = 'green')\n",
    "plt.plot(cumulativeData_clear_B['date'], cumulativeData_clear_B['revenue']/cumulativeData_clear_B['orders'], label='B', color = 'orange')\n",
    "plt.title('средний чек после фильтрации')\n",
    "plt.legend() \n",
    "plt.show()"
   ]
  },
  {
   "cell_type": "code",
   "execution_count": 45,
   "metadata": {},
   "outputs": [
    {
     "data": {
      "image/png": "[encoded data removed]",
      "text/plain": [
       "<Figure size 1080x216 with 1 Axes>"
      ]
     },
     "metadata": {
      "needs_background": "light"
     },
     "output_type": "display_data"
    }
   ],
   "source": [
    "plt.figure(figsize = (15,3))\n",
    "plt.title('конверсия по группам после фильтрации')\n",
    "plt.plot(cumulativeData_clear_A['date'], cumulativeData_clear_A['conversion'], label='A', color = 'green')\n",
    "plt.plot(cumulativeData_clear_B['date'], cumulativeData_clear_B['conversion'], label='B', color = 'orange')\n",
    "plt.legend()\n",
    "plt.show()"
   ]
  },
  {
   "cell_type": "code",
   "execution_count": 46,
   "metadata": {},
   "outputs": [
    {
     "name": "stdout",
     "output_type": "stream",
     "text": [
      "разница в конверсиях по очищенным данным на конец периода составляет 0.432802%\n"
     ]
    }
   ],
   "source": [
    "difference_conversion = cumulativeData_clear_B[cumulativeData_clear_B['date'].max() == cumulativeData_clear_B['date']]['conversion'].max() - cumulativeData_clear_A[cumulativeData_clear_A['date'].max() == cumulativeData_clear_A['date']]['conversion'].max()\n",
    "\n",
    "print('разница в конверсиях по очищенным данным на конец периода составляет','{:%}'.format(difference_conversion))"
   ]
  },
  {
   "cell_type": "markdown",
   "metadata": {},
   "source": [
    "### Вывод"
   ]
  },
  {
   "cell_type": "markdown",
   "metadata": {},
   "source": [
    "Проверка статистической значимости различий и оценка стабильности кумулятивных метрик групп А и B показали, что при условно равных средних чеках, группа B показывает более \"выгодные\" показатели по конверсии. "
   ]
  },
  {
   "cell_type": "markdown",
   "metadata": {},
   "source": [
    "## Общий вывод"
   ]
  },
  {
   "cell_type": "markdown",
   "metadata": {},
   "source": [
    "По результатам проверки очищенных данных - тест можно остановить и признать, что группа \"B\" рентабельнее."
   ]
  }
 ],
 "metadata": {
  "ExecuteTimeLog": [
   {
    "duration": 1301,
    "start_time": "2021-10-08T18:26:56.494Z"
   },
   {
    "duration": 352,
    "start_time": "2021-10-08T18:42:17.656Z"
   },
   {
    "duration": 20,
    "start_time": "2021-10-08T18:42:22.443Z"
   },
   {
    "duration": 19,
    "start_time": "2021-10-08T18:42:24.166Z"
   },
   {
    "duration": 5220,
    "start_time": "2021-10-08T18:45:19.085Z"
   },
   {
    "duration": 8,
    "start_time": "2021-10-08T18:45:47.994Z"
   },
   {
    "duration": 6,
    "start_time": "2021-10-08T18:47:55.086Z"
   },
   {
    "duration": 4,
    "start_time": "2021-10-08T18:48:11.337Z"
   },
   {
    "duration": 12,
    "start_time": "2021-10-08T18:48:12.112Z"
   },
   {
    "duration": 6,
    "start_time": "2021-10-08T18:48:28.831Z"
   },
   {
    "duration": 8,
    "start_time": "2021-10-08T18:49:20.854Z"
   },
   {
    "duration": 14,
    "start_time": "2021-10-08T18:49:25.792Z"
   },
   {
    "duration": 16,
    "start_time": "2021-10-08T18:50:00.067Z"
   },
   {
    "duration": 15,
    "start_time": "2021-10-08T18:50:12.727Z"
   },
   {
    "duration": 15,
    "start_time": "2021-10-08T18:51:54.098Z"
   },
   {
    "duration": 15,
    "start_time": "2021-10-08T18:56:43.870Z"
   },
   {
    "duration": 67,
    "start_time": "2021-10-08T18:59:30.279Z"
   },
   {
    "duration": 20,
    "start_time": "2021-10-08T19:12:45.080Z"
   },
   {
    "duration": 12,
    "start_time": "2021-10-08T19:13:14.781Z"
   },
   {
    "duration": 8,
    "start_time": "2021-10-08T19:13:22.407Z"
   },
   {
    "duration": 16,
    "start_time": "2021-10-08T19:14:46.550Z"
   },
   {
    "duration": 14,
    "start_time": "2021-10-08T19:16:52.580Z"
   },
   {
    "duration": 7,
    "start_time": "2021-10-08T19:22:07.552Z"
   },
   {
    "duration": 9,
    "start_time": "2021-10-08T19:22:32.731Z"
   },
   {
    "duration": 12,
    "start_time": "2021-10-08T19:22:43.101Z"
   },
   {
    "duration": 17,
    "start_time": "2021-10-08T19:22:57.850Z"
   },
   {
    "duration": 173,
    "start_time": "2021-10-10T12:32:04.416Z"
   },
   {
    "duration": 976,
    "start_time": "2021-10-10T12:32:08.596Z"
   },
   {
    "duration": 58,
    "start_time": "2021-10-10T12:32:09.574Z"
   },
   {
    "duration": 12,
    "start_time": "2021-10-10T12:32:09.634Z"
   },
   {
    "duration": 10,
    "start_time": "2021-10-10T12:32:09.648Z"
   },
   {
    "duration": 17,
    "start_time": "2021-10-10T12:32:09.659Z"
   },
   {
    "duration": 23,
    "start_time": "2021-10-10T12:32:09.677Z"
   },
   {
    "duration": 29,
    "start_time": "2021-10-10T12:32:09.702Z"
   },
   {
    "duration": 19,
    "start_time": "2021-10-10T12:32:09.733Z"
   },
   {
    "duration": 13,
    "start_time": "2021-10-10T12:32:09.754Z"
   },
   {
    "duration": 26,
    "start_time": "2021-10-10T12:32:09.769Z"
   },
   {
    "duration": 961,
    "start_time": "2021-10-10T15:42:51.810Z"
   },
   {
    "duration": 57,
    "start_time": "2021-10-10T15:42:52.773Z"
   },
   {
    "duration": 12,
    "start_time": "2021-10-10T15:42:52.832Z"
   },
   {
    "duration": 8,
    "start_time": "2021-10-10T15:42:52.846Z"
   },
   {
    "duration": 5,
    "start_time": "2021-10-10T15:42:52.856Z"
   },
   {
    "duration": 7,
    "start_time": "2021-10-10T15:42:52.862Z"
   },
   {
    "duration": 13,
    "start_time": "2021-10-10T15:42:52.871Z"
   },
   {
    "duration": 9,
    "start_time": "2021-10-10T15:42:52.886Z"
   },
   {
    "duration": 4587,
    "start_time": "2021-10-10T15:42:52.900Z"
   },
   {
    "duration": 4204,
    "start_time": "2021-10-10T15:43:44.885Z"
   },
   {
    "duration": 4103,
    "start_time": "2021-10-10T15:44:12.781Z"
   },
   {
    "duration": 13,
    "start_time": "2021-10-10T15:44:58.862Z"
   },
   {
    "duration": 202,
    "start_time": "2021-10-10T15:45:18.169Z"
   },
   {
    "duration": 11,
    "start_time": "2021-10-10T15:45:24.361Z"
   },
   {
    "duration": 263,
    "start_time": "2021-10-10T15:51:08.783Z"
   },
   {
    "duration": 224,
    "start_time": "2021-10-10T15:52:51.457Z"
   },
   {
    "duration": 170,
    "start_time": "2021-10-10T15:53:34.053Z"
   },
   {
    "duration": 6,
    "start_time": "2021-10-10T15:54:04.176Z"
   },
   {
    "duration": 12,
    "start_time": "2021-10-10T15:54:09.893Z"
   },
   {
    "duration": 3,
    "start_time": "2021-10-10T15:54:51.425Z"
   },
   {
    "duration": 3,
    "start_time": "2021-10-10T16:05:44.991Z"
   },
   {
    "duration": 136,
    "start_time": "2021-10-10T16:36:15.643Z"
   },
   {
    "duration": 6,
    "start_time": "2021-10-10T16:36:18.567Z"
   },
   {
    "duration": 3,
    "start_time": "2021-10-10T16:36:18.917Z"
   },
   {
    "duration": 8,
    "start_time": "2021-10-10T16:36:19.088Z"
   },
   {
    "duration": 201,
    "start_time": "2021-10-10T16:36:19.443Z"
   },
   {
    "duration": 230,
    "start_time": "2021-10-10T16:52:43.140Z"
   },
   {
    "duration": 210,
    "start_time": "2021-10-10T16:53:50.791Z"
   },
   {
    "duration": 44,
    "start_time": "2021-10-10T16:57:33.595Z"
   },
   {
    "duration": 208,
    "start_time": "2021-10-10T16:57:41.865Z"
   },
   {
    "duration": 229,
    "start_time": "2021-10-10T16:57:52.376Z"
   },
   {
    "duration": 227,
    "start_time": "2021-10-10T17:10:49.354Z"
   },
   {
    "duration": 223,
    "start_time": "2021-10-10T17:10:56.695Z"
   },
   {
    "duration": 217,
    "start_time": "2021-10-10T17:11:10.397Z"
   },
   {
    "duration": 214,
    "start_time": "2021-10-10T17:27:02.554Z"
   },
   {
    "duration": 282,
    "start_time": "2021-10-10T17:28:22.710Z"
   },
   {
    "duration": 205,
    "start_time": "2021-10-10T17:28:54.648Z"
   },
   {
    "duration": 308,
    "start_time": "2021-10-10T17:32:56.123Z"
   },
   {
    "duration": 308,
    "start_time": "2021-10-10T17:33:05.260Z"
   },
   {
    "duration": 316,
    "start_time": "2021-10-10T17:33:32.922Z"
   },
   {
    "duration": 337,
    "start_time": "2021-10-10T17:33:49.304Z"
   },
   {
    "duration": 345,
    "start_time": "2021-10-10T17:38:52.826Z"
   },
   {
    "duration": 335,
    "start_time": "2021-10-10T17:38:56.991Z"
   },
   {
    "duration": 133,
    "start_time": "2021-10-10T17:52:29.791Z"
   },
   {
    "duration": 3726,
    "start_time": "2021-10-10T17:53:09.076Z"
   },
   {
    "duration": 220,
    "start_time": "2021-10-10T17:53:37.874Z"
   },
   {
    "duration": 214,
    "start_time": "2021-10-10T17:54:24.500Z"
   },
   {
    "duration": 212,
    "start_time": "2021-10-10T17:54:45.906Z"
   },
   {
    "duration": 410,
    "start_time": "2021-10-10T17:55:44.519Z"
   },
   {
    "duration": 381,
    "start_time": "2021-10-10T17:56:11.675Z"
   },
   {
    "duration": 322,
    "start_time": "2021-10-10T17:56:21.756Z"
   },
   {
    "duration": 383,
    "start_time": "2021-10-10T17:56:45.977Z"
   },
   {
    "duration": 42,
    "start_time": "2021-10-10T18:52:46.946Z"
   },
   {
    "duration": 39,
    "start_time": "2021-10-10T18:52:53.630Z"
   },
   {
    "duration": 138,
    "start_time": "2021-10-10T18:53:06.332Z"
   },
   {
    "duration": 128,
    "start_time": "2021-10-10T18:53:16.770Z"
   },
   {
    "duration": 3,
    "start_time": "2021-10-10T18:53:30.451Z"
   },
   {
    "duration": 127,
    "start_time": "2021-10-10T18:55:49.436Z"
   },
   {
    "duration": 325,
    "start_time": "2021-10-10T18:56:02.377Z"
   },
   {
    "duration": 242,
    "start_time": "2021-10-10T18:56:29.741Z"
   },
   {
    "duration": 259,
    "start_time": "2021-10-10T18:57:55.659Z"
   },
   {
    "duration": 5,
    "start_time": "2021-10-10T19:03:32.578Z"
   },
   {
    "duration": 302,
    "start_time": "2021-10-10T19:28:38.288Z"
   },
   {
    "duration": 275,
    "start_time": "2021-10-10T19:32:43.855Z"
   },
   {
    "duration": 333,
    "start_time": "2021-10-10T19:33:34.969Z"
   },
   {
    "duration": 156,
    "start_time": "2021-10-10T19:37:54.467Z"
   },
   {
    "duration": 5,
    "start_time": "2021-10-10T19:38:01.808Z"
   },
   {
    "duration": 319,
    "start_time": "2021-10-10T19:43:22.157Z"
   },
   {
    "duration": 5,
    "start_time": "2021-10-10T20:09:40.241Z"
   },
   {
    "duration": 5,
    "start_time": "2021-10-10T20:15:15.402Z"
   },
   {
    "duration": 185,
    "start_time": "2021-10-11T11:44:46.731Z"
   },
   {
    "duration": 993,
    "start_time": "2021-10-11T11:44:58.974Z"
   },
   {
    "duration": 67,
    "start_time": "2021-10-11T11:44:59.969Z"
   },
   {
    "duration": 11,
    "start_time": "2021-10-11T11:45:00.038Z"
   },
   {
    "duration": 7,
    "start_time": "2021-10-11T11:45:00.050Z"
   },
   {
    "duration": 11,
    "start_time": "2021-10-11T11:45:00.058Z"
   },
   {
    "duration": 15,
    "start_time": "2021-10-11T11:45:00.071Z"
   },
   {
    "duration": 14,
    "start_time": "2021-10-11T11:45:00.087Z"
   },
   {
    "duration": 13,
    "start_time": "2021-10-11T11:45:00.104Z"
   },
   {
    "duration": 14,
    "start_time": "2021-10-11T11:45:00.118Z"
   },
   {
    "duration": 199,
    "start_time": "2021-10-11T11:45:00.134Z"
   },
   {
    "duration": 10,
    "start_time": "2021-10-11T11:45:00.335Z"
   },
   {
    "duration": 157,
    "start_time": "2021-10-11T11:45:00.346Z"
   },
   {
    "duration": 6,
    "start_time": "2021-10-11T11:45:00.505Z"
   },
   {
    "duration": 15,
    "start_time": "2021-10-11T11:45:00.512Z"
   },
   {
    "duration": 20,
    "start_time": "2021-10-11T11:45:00.529Z"
   },
   {
    "duration": 214,
    "start_time": "2021-10-11T11:45:00.550Z"
   },
   {
    "duration": 222,
    "start_time": "2021-10-11T11:45:00.765Z"
   },
   {
    "duration": 331,
    "start_time": "2021-10-11T11:45:00.989Z"
   },
   {
    "duration": 207,
    "start_time": "2021-10-11T11:45:01.322Z"
   },
   {
    "duration": 322,
    "start_time": "2021-10-11T11:45:01.531Z"
   },
   {
    "duration": 108,
    "start_time": "2021-10-11T11:45:01.855Z"
   },
   {
    "duration": 3,
    "start_time": "2021-10-11T11:45:01.965Z"
   },
   {
    "duration": 337,
    "start_time": "2021-10-11T11:45:01.971Z"
   },
   {
    "duration": 5,
    "start_time": "2021-10-11T11:45:02.309Z"
   },
   {
    "duration": 346,
    "start_time": "2021-10-11T11:45:02.315Z"
   },
   {
    "duration": 5,
    "start_time": "2021-10-11T11:45:02.665Z"
   },
   {
    "duration": 32,
    "start_time": "2021-10-11T11:45:02.672Z"
   },
   {
    "duration": 5,
    "start_time": "2021-10-11T11:45:02.706Z"
   },
   {
    "duration": 7,
    "start_time": "2021-10-11T11:45:02.713Z"
   },
   {
    "duration": 15,
    "start_time": "2021-10-11T11:45:02.721Z"
   },
   {
    "duration": 12,
    "start_time": "2021-10-11T11:45:58.364Z"
   },
   {
    "duration": 11,
    "start_time": "2021-10-11T11:46:05.501Z"
   },
   {
    "duration": 11,
    "start_time": "2021-10-11T12:18:13.188Z"
   },
   {
    "duration": 204,
    "start_time": "2021-10-11T12:18:17.292Z"
   },
   {
    "duration": 13,
    "start_time": "2021-10-11T12:18:52.299Z"
   },
   {
    "duration": 1124,
    "start_time": "2021-10-11T19:27:26.145Z"
   },
   {
    "duration": 58,
    "start_time": "2021-10-11T19:27:27.271Z"
   },
   {
    "duration": 11,
    "start_time": "2021-10-11T19:27:27.333Z"
   },
   {
    "duration": 8,
    "start_time": "2021-10-11T19:27:27.346Z"
   },
   {
    "duration": 5,
    "start_time": "2021-10-11T19:27:27.355Z"
   },
   {
    "duration": 7,
    "start_time": "2021-10-11T19:27:27.362Z"
   },
   {
    "duration": 12,
    "start_time": "2021-10-11T19:27:27.372Z"
   },
   {
    "duration": 17,
    "start_time": "2021-10-11T19:27:27.386Z"
   },
   {
    "duration": 11,
    "start_time": "2021-10-11T19:27:27.405Z"
   },
   {
    "duration": 217,
    "start_time": "2021-10-11T19:27:27.417Z"
   },
   {
    "duration": 10,
    "start_time": "2021-10-11T19:27:27.636Z"
   },
   {
    "duration": 165,
    "start_time": "2021-10-11T19:27:27.647Z"
   },
   {
    "duration": 6,
    "start_time": "2021-10-11T19:27:27.813Z"
   },
   {
    "duration": 6,
    "start_time": "2021-10-11T19:27:27.820Z"
   },
   {
    "duration": 10,
    "start_time": "2021-10-11T19:27:27.828Z"
   },
   {
    "duration": 228,
    "start_time": "2021-10-11T19:27:27.839Z"
   },
   {
    "duration": 203,
    "start_time": "2021-10-11T19:27:28.068Z"
   },
   {
    "duration": 321,
    "start_time": "2021-10-11T19:27:28.272Z"
   },
   {
    "duration": 217,
    "start_time": "2021-10-11T19:27:28.594Z"
   },
   {
    "duration": 328,
    "start_time": "2021-10-11T19:27:28.812Z"
   },
   {
    "duration": 112,
    "start_time": "2021-10-11T19:27:29.141Z"
   },
   {
    "duration": 3,
    "start_time": "2021-10-11T19:27:29.256Z"
   },
   {
    "duration": 270,
    "start_time": "2021-10-11T19:27:29.260Z"
   },
   {
    "duration": 3,
    "start_time": "2021-10-11T19:27:29.532Z"
   },
   {
    "duration": 337,
    "start_time": "2021-10-11T19:27:29.537Z"
   },
   {
    "duration": 4,
    "start_time": "2021-10-11T19:27:29.875Z"
   },
   {
    "duration": 18,
    "start_time": "2021-10-11T19:27:29.881Z"
   },
   {
    "duration": 10,
    "start_time": "2021-10-11T19:27:29.901Z"
   },
   {
    "duration": 52,
    "start_time": "2021-10-11T19:27:29.913Z"
   },
   {
    "duration": 12,
    "start_time": "2021-10-11T19:33:53.292Z"
   },
   {
    "duration": 217,
    "start_time": "2021-10-11T19:36:26.420Z"
   },
   {
    "duration": 335,
    "start_time": "2021-10-11T19:37:13.027Z"
   },
   {
    "duration": 136,
    "start_time": "2021-10-11T19:38:02.868Z"
   },
   {
    "duration": 988,
    "start_time": "2021-10-11T19:38:08.267Z"
   },
   {
    "duration": 58,
    "start_time": "2021-10-11T19:38:09.257Z"
   },
   {
    "duration": 12,
    "start_time": "2021-10-11T19:38:09.318Z"
   },
   {
    "duration": 7,
    "start_time": "2021-10-11T19:38:09.331Z"
   },
   {
    "duration": 6,
    "start_time": "2021-10-11T19:38:09.340Z"
   },
   {
    "duration": 16,
    "start_time": "2021-10-11T19:38:09.347Z"
   },
   {
    "duration": 12,
    "start_time": "2021-10-11T19:38:09.365Z"
   },
   {
    "duration": 26,
    "start_time": "2021-10-11T19:38:09.379Z"
   },
   {
    "duration": 21,
    "start_time": "2021-10-11T19:38:09.407Z"
   },
   {
    "duration": 205,
    "start_time": "2021-10-11T19:38:09.430Z"
   },
   {
    "duration": 11,
    "start_time": "2021-10-11T19:38:09.636Z"
   },
   {
    "duration": 163,
    "start_time": "2021-10-11T19:38:09.649Z"
   },
   {
    "duration": 7,
    "start_time": "2021-10-11T19:38:09.813Z"
   },
   {
    "duration": 9,
    "start_time": "2021-10-11T19:38:09.822Z"
   },
   {
    "duration": 11,
    "start_time": "2021-10-11T19:38:09.833Z"
   },
   {
    "duration": 229,
    "start_time": "2021-10-11T19:38:09.845Z"
   },
   {
    "duration": 220,
    "start_time": "2021-10-11T19:38:10.076Z"
   },
   {
    "duration": 340,
    "start_time": "2021-10-11T19:38:10.300Z"
   },
   {
    "duration": 212,
    "start_time": "2021-10-11T19:38:10.642Z"
   },
   {
    "duration": 308,
    "start_time": "2021-10-11T19:38:10.855Z"
   },
   {
    "duration": 108,
    "start_time": "2021-10-11T19:38:11.164Z"
   },
   {
    "duration": 2,
    "start_time": "2021-10-11T19:38:11.275Z"
   },
   {
    "duration": 323,
    "start_time": "2021-10-11T19:38:11.279Z"
   },
   {
    "duration": 5,
    "start_time": "2021-10-11T19:38:11.604Z"
   },
   {
    "duration": 355,
    "start_time": "2021-10-11T19:38:11.610Z"
   },
   {
    "duration": 4,
    "start_time": "2021-10-11T19:38:11.967Z"
   },
   {
    "duration": 5,
    "start_time": "2021-10-11T19:38:11.973Z"
   },
   {
    "duration": 20,
    "start_time": "2021-10-11T19:38:11.980Z"
   },
   {
    "duration": 5,
    "start_time": "2021-10-11T19:38:12.002Z"
   },
   {
    "duration": 16,
    "start_time": "2021-10-11T19:38:12.008Z"
   },
   {
    "duration": 5,
    "start_time": "2021-10-11T19:38:38.348Z"
   },
   {
    "duration": 5,
    "start_time": "2021-10-11T19:49:51.844Z"
   },
   {
    "duration": 43,
    "start_time": "2021-10-11T19:50:12.201Z"
   },
   {
    "duration": 5,
    "start_time": "2021-10-11T19:57:17.542Z"
   },
   {
    "duration": 8,
    "start_time": "2021-10-11T20:38:13.208Z"
   },
   {
    "duration": 12,
    "start_time": "2021-10-11T20:38:42.281Z"
   },
   {
    "duration": 6,
    "start_time": "2021-10-11T20:43:43.990Z"
   },
   {
    "duration": 5,
    "start_time": "2021-10-11T20:44:41.156Z"
   },
   {
    "duration": 8,
    "start_time": "2021-10-11T20:44:53.740Z"
   },
   {
    "duration": 6,
    "start_time": "2021-10-11T20:45:44.187Z"
   },
   {
    "duration": 5,
    "start_time": "2021-10-11T20:45:51.579Z"
   },
   {
    "duration": 5,
    "start_time": "2021-10-11T20:46:14.481Z"
   },
   {
    "duration": 5,
    "start_time": "2021-10-11T20:46:16.035Z"
   },
   {
    "duration": 5,
    "start_time": "2021-10-11T20:46:57.549Z"
   },
   {
    "duration": 991,
    "start_time": "2021-10-11T20:47:04.848Z"
   },
   {
    "duration": 59,
    "start_time": "2021-10-11T20:47:05.841Z"
   },
   {
    "duration": 11,
    "start_time": "2021-10-11T20:47:05.906Z"
   },
   {
    "duration": 6,
    "start_time": "2021-10-11T20:47:05.919Z"
   },
   {
    "duration": 6,
    "start_time": "2021-10-11T20:47:05.926Z"
   },
   {
    "duration": 8,
    "start_time": "2021-10-11T20:47:05.934Z"
   },
   {
    "duration": 12,
    "start_time": "2021-10-11T20:47:05.944Z"
   },
   {
    "duration": 47,
    "start_time": "2021-10-11T20:47:05.957Z"
   },
   {
    "duration": 12,
    "start_time": "2021-10-11T20:47:06.006Z"
   },
   {
    "duration": 221,
    "start_time": "2021-10-11T20:47:06.019Z"
   },
   {
    "duration": 9,
    "start_time": "2021-10-11T20:47:06.242Z"
   },
   {
    "duration": 165,
    "start_time": "2021-10-11T20:47:06.252Z"
   },
   {
    "duration": 6,
    "start_time": "2021-10-11T20:47:06.418Z"
   },
   {
    "duration": 8,
    "start_time": "2021-10-11T20:47:06.426Z"
   },
   {
    "duration": 16,
    "start_time": "2021-10-11T20:47:06.435Z"
   },
   {
    "duration": 223,
    "start_time": "2021-10-11T20:47:06.453Z"
   },
   {
    "duration": 218,
    "start_time": "2021-10-11T20:47:06.677Z"
   },
   {
    "duration": 334,
    "start_time": "2021-10-11T20:47:06.899Z"
   },
   {
    "duration": 219,
    "start_time": "2021-10-11T20:47:07.235Z"
   },
   {
    "duration": 324,
    "start_time": "2021-10-11T20:47:07.455Z"
   },
   {
    "duration": 102,
    "start_time": "2021-10-11T20:47:07.782Z"
   },
   {
    "duration": 15,
    "start_time": "2021-10-11T20:47:07.886Z"
   },
   {
    "duration": 305,
    "start_time": "2021-10-11T20:47:07.903Z"
   },
   {
    "duration": 4,
    "start_time": "2021-10-11T20:47:08.210Z"
   },
   {
    "duration": 358,
    "start_time": "2021-10-11T20:47:08.216Z"
   },
   {
    "duration": 5,
    "start_time": "2021-10-11T20:47:08.576Z"
   },
   {
    "duration": 6,
    "start_time": "2021-10-11T20:47:08.582Z"
   },
   {
    "duration": 5,
    "start_time": "2021-10-11T20:47:08.600Z"
   },
   {
    "duration": 8,
    "start_time": "2021-10-11T20:47:08.606Z"
   },
   {
    "duration": 6,
    "start_time": "2021-10-11T20:47:08.616Z"
   },
   {
    "duration": 7,
    "start_time": "2021-10-11T20:47:08.624Z"
   },
   {
    "duration": 8,
    "start_time": "2021-10-11T20:47:08.633Z"
   },
   {
    "duration": 4,
    "start_time": "2021-10-11T20:48:19.760Z"
   },
   {
    "duration": 4411,
    "start_time": "2021-10-11T20:50:34.697Z"
   },
   {
    "duration": 13,
    "start_time": "2021-10-11T20:52:27.290Z"
   },
   {
    "duration": 12,
    "start_time": "2021-10-11T20:54:18.350Z"
   },
   {
    "duration": 1394,
    "start_time": "2021-10-12T18:16:05.290Z"
   },
   {
    "duration": 71,
    "start_time": "2021-10-12T18:16:06.687Z"
   },
   {
    "duration": 18,
    "start_time": "2021-10-12T18:16:06.762Z"
   },
   {
    "duration": 15,
    "start_time": "2021-10-12T18:16:06.785Z"
   },
   {
    "duration": 8,
    "start_time": "2021-10-12T18:16:06.802Z"
   },
   {
    "duration": 19,
    "start_time": "2021-10-12T18:16:06.813Z"
   },
   {
    "duration": 22,
    "start_time": "2021-10-12T18:16:06.835Z"
   },
   {
    "duration": 15,
    "start_time": "2021-10-12T18:16:06.861Z"
   },
   {
    "duration": 48,
    "start_time": "2021-10-12T18:16:06.879Z"
   },
   {
    "duration": 374,
    "start_time": "2021-10-12T18:16:06.930Z"
   },
   {
    "duration": 26,
    "start_time": "2021-10-12T18:16:07.307Z"
   },
   {
    "duration": 317,
    "start_time": "2021-10-12T18:16:07.337Z"
   },
   {
    "duration": 10,
    "start_time": "2021-10-12T18:16:07.657Z"
   },
   {
    "duration": 7,
    "start_time": "2021-10-12T18:16:07.670Z"
   },
   {
    "duration": 12,
    "start_time": "2021-10-12T18:16:07.679Z"
   },
   {
    "duration": 404,
    "start_time": "2021-10-12T18:16:07.694Z"
   },
   {
    "duration": 360,
    "start_time": "2021-10-12T18:16:08.100Z"
   },
   {
    "duration": 464,
    "start_time": "2021-10-12T18:16:08.462Z"
   },
   {
    "duration": 363,
    "start_time": "2021-10-12T18:16:08.930Z"
   },
   {
    "duration": 496,
    "start_time": "2021-10-12T18:16:09.295Z"
   },
   {
    "duration": 200,
    "start_time": "2021-10-12T18:16:09.793Z"
   },
   {
    "duration": 4,
    "start_time": "2021-10-12T18:16:09.996Z"
   },
   {
    "duration": 434,
    "start_time": "2021-10-12T18:16:10.004Z"
   },
   {
    "duration": 6,
    "start_time": "2021-10-12T18:16:10.440Z"
   },
   {
    "duration": 520,
    "start_time": "2021-10-12T18:16:10.448Z"
   },
   {
    "duration": 7,
    "start_time": "2021-10-12T18:16:10.971Z"
   },
   {
    "duration": 11,
    "start_time": "2021-10-12T18:16:10.981Z"
   },
   {
    "duration": 37,
    "start_time": "2021-10-12T18:16:10.995Z"
   },
   {
    "duration": 21,
    "start_time": "2021-10-12T18:16:11.035Z"
   },
   {
    "duration": 8,
    "start_time": "2021-10-12T18:16:11.059Z"
   },
   {
    "duration": 8,
    "start_time": "2021-10-12T18:16:11.069Z"
   },
   {
    "duration": 10,
    "start_time": "2021-10-12T18:16:11.079Z"
   },
   {
    "duration": 34,
    "start_time": "2021-10-12T18:16:11.091Z"
   },
   {
    "duration": 22,
    "start_time": "2021-10-12T18:16:11.132Z"
   },
   {
    "duration": 1415,
    "start_time": "2021-10-14T16:40:23.062Z"
   },
   {
    "duration": 107,
    "start_time": "2021-10-14T16:40:24.479Z"
   },
   {
    "duration": 17,
    "start_time": "2021-10-14T16:40:24.589Z"
   },
   {
    "duration": 13,
    "start_time": "2021-10-14T16:40:24.610Z"
   },
   {
    "duration": 4,
    "start_time": "2021-10-14T16:40:24.625Z"
   },
   {
    "duration": 9,
    "start_time": "2021-10-14T16:40:24.632Z"
   },
   {
    "duration": 67,
    "start_time": "2021-10-14T16:40:24.644Z"
   },
   {
    "duration": 15,
    "start_time": "2021-10-14T16:40:24.716Z"
   },
   {
    "duration": 19,
    "start_time": "2021-10-14T16:40:24.734Z"
   },
   {
    "duration": 396,
    "start_time": "2021-10-14T16:40:24.755Z"
   },
   {
    "duration": 17,
    "start_time": "2021-10-14T16:40:25.153Z"
   },
   {
    "duration": 307,
    "start_time": "2021-10-14T16:40:25.172Z"
   },
   {
    "duration": 8,
    "start_time": "2021-10-14T16:40:25.481Z"
   },
   {
    "duration": 11,
    "start_time": "2021-10-14T16:40:25.492Z"
   },
   {
    "duration": 12,
    "start_time": "2021-10-14T16:40:25.506Z"
   },
   {
    "duration": 404,
    "start_time": "2021-10-14T16:40:25.520Z"
   },
   {
    "duration": 361,
    "start_time": "2021-10-14T16:40:25.927Z"
   },
   {
    "duration": 465,
    "start_time": "2021-10-14T16:40:26.291Z"
   },
   {
    "duration": 367,
    "start_time": "2021-10-14T16:40:26.759Z"
   },
   {
    "duration": 493,
    "start_time": "2021-10-14T16:40:27.129Z"
   },
   {
    "duration": 227,
    "start_time": "2021-10-14T16:40:27.624Z"
   },
   {
    "duration": 4,
    "start_time": "2021-10-14T16:40:27.853Z"
   },
   {
    "duration": 489,
    "start_time": "2021-10-14T16:40:27.862Z"
   },
   {
    "duration": 6,
    "start_time": "2021-10-14T16:40:28.354Z"
   },
   {
    "duration": 595,
    "start_time": "2021-10-14T16:40:28.363Z"
   },
   {
    "duration": 7,
    "start_time": "2021-10-14T16:40:28.961Z"
   },
   {
    "duration": 29,
    "start_time": "2021-10-14T16:40:28.971Z"
   },
   {
    "duration": 9,
    "start_time": "2021-10-14T16:40:29.004Z"
   },
   {
    "duration": 9,
    "start_time": "2021-10-14T16:40:29.016Z"
   },
   {
    "duration": 7,
    "start_time": "2021-10-14T16:40:29.027Z"
   },
   {
    "duration": 11,
    "start_time": "2021-10-14T16:40:29.037Z"
   },
   {
    "duration": 11,
    "start_time": "2021-10-14T16:40:29.050Z"
   },
   {
    "duration": 11,
    "start_time": "2021-10-14T16:40:29.102Z"
   },
   {
    "duration": 435,
    "start_time": "2021-10-14T16:40:29.116Z"
   },
   {
    "duration": 347,
    "start_time": "2021-10-14T16:40:29.207Z"
   },
   {
    "duration": 8455,
    "start_time": "2021-10-14T16:40:56.528Z"
   },
   {
    "duration": 10753,
    "start_time": "2021-10-14T16:41:21.799Z"
   },
   {
    "duration": 14,
    "start_time": "2021-10-14T16:41:37.147Z"
   },
   {
    "duration": 17,
    "start_time": "2021-10-14T16:42:15.705Z"
   },
   {
    "duration": 8457,
    "start_time": "2021-10-14T16:42:51.449Z"
   },
   {
    "duration": 8644,
    "start_time": "2021-10-14T16:43:12.429Z"
   },
   {
    "duration": 636,
    "start_time": "2021-10-14T16:44:32.023Z"
   },
   {
    "duration": 19,
    "start_time": "2021-10-14T16:44:40.753Z"
   },
   {
    "duration": 1397,
    "start_time": "2021-10-14T16:46:57.803Z"
   },
   {
    "duration": 90,
    "start_time": "2021-10-14T16:46:59.204Z"
   },
   {
    "duration": 18,
    "start_time": "2021-10-14T16:46:59.297Z"
   },
   {
    "duration": 11,
    "start_time": "2021-10-14T16:46:59.318Z"
   },
   {
    "duration": 8,
    "start_time": "2021-10-14T16:46:59.331Z"
   },
   {
    "duration": 15,
    "start_time": "2021-10-14T16:46:59.341Z"
   },
   {
    "duration": 44,
    "start_time": "2021-10-14T16:46:59.358Z"
   },
   {
    "duration": 18,
    "start_time": "2021-10-14T16:46:59.408Z"
   },
   {
    "duration": 22,
    "start_time": "2021-10-14T16:46:59.429Z"
   },
   {
    "duration": 397,
    "start_time": "2021-10-14T16:46:59.453Z"
   },
   {
    "duration": 15,
    "start_time": "2021-10-14T16:46:59.853Z"
   },
   {
    "duration": 309,
    "start_time": "2021-10-14T16:46:59.870Z"
   },
   {
    "duration": 24,
    "start_time": "2021-10-14T16:47:00.181Z"
   },
   {
    "duration": 15,
    "start_time": "2021-10-14T16:47:00.209Z"
   },
   {
    "duration": 29,
    "start_time": "2021-10-14T16:47:00.226Z"
   },
   {
    "duration": 413,
    "start_time": "2021-10-14T16:47:00.257Z"
   },
   {
    "duration": 382,
    "start_time": "2021-10-14T16:47:00.674Z"
   },
   {
    "duration": 486,
    "start_time": "2021-10-14T16:47:01.059Z"
   },
   {
    "duration": 378,
    "start_time": "2021-10-14T16:47:01.548Z"
   },
   {
    "duration": 489,
    "start_time": "2021-10-14T16:47:01.930Z"
   },
   {
    "duration": 262,
    "start_time": "2021-10-14T16:47:02.422Z"
   },
   {
    "duration": 17,
    "start_time": "2021-10-14T16:47:02.686Z"
   },
   {
    "duration": 428,
    "start_time": "2021-10-14T16:47:02.711Z"
   },
   {
    "duration": 6,
    "start_time": "2021-10-14T16:47:03.141Z"
   },
   {
    "duration": 619,
    "start_time": "2021-10-14T16:47:03.149Z"
   },
   {
    "duration": 5,
    "start_time": "2021-10-14T16:47:03.770Z"
   },
   {
    "duration": 26,
    "start_time": "2021-10-14T16:47:03.777Z"
   },
   {
    "duration": 9,
    "start_time": "2021-10-14T16:47:03.806Z"
   },
   {
    "duration": 6,
    "start_time": "2021-10-14T16:47:03.818Z"
   },
   {
    "duration": 8,
    "start_time": "2021-10-14T16:47:03.826Z"
   },
   {
    "duration": 7,
    "start_time": "2021-10-14T16:47:03.836Z"
   },
   {
    "duration": 62,
    "start_time": "2021-10-14T16:47:03.845Z"
   },
   {
    "duration": 21,
    "start_time": "2021-10-14T16:47:03.911Z"
   },
   {
    "duration": 120,
    "start_time": "2021-10-14T16:47:03.934Z"
   },
   {
    "duration": 375,
    "start_time": "2021-10-14T16:47:03.681Z"
   },
   {
    "duration": 1600,
    "start_time": "2021-10-14T16:48:09.766Z"
   },
   {
    "duration": 78,
    "start_time": "2021-10-14T16:48:11.369Z"
   },
   {
    "duration": 16,
    "start_time": "2021-10-14T16:48:11.450Z"
   },
   {
    "duration": 11,
    "start_time": "2021-10-14T16:48:11.469Z"
   },
   {
    "duration": 4,
    "start_time": "2021-10-14T16:48:11.482Z"
   },
   {
    "duration": 19,
    "start_time": "2021-10-14T16:48:11.488Z"
   },
   {
    "duration": 28,
    "start_time": "2021-10-14T16:48:11.510Z"
   },
   {
    "duration": 17,
    "start_time": "2021-10-14T16:48:11.544Z"
   },
   {
    "duration": 46,
    "start_time": "2021-10-14T16:48:11.564Z"
   },
   {
    "duration": 377,
    "start_time": "2021-10-14T16:48:11.613Z"
   },
   {
    "duration": 20,
    "start_time": "2021-10-14T16:48:11.993Z"
   },
   {
    "duration": 324,
    "start_time": "2021-10-14T16:48:12.017Z"
   },
   {
    "duration": 8,
    "start_time": "2021-10-14T16:48:12.343Z"
   },
   {
    "duration": 6,
    "start_time": "2021-10-14T16:48:12.354Z"
   },
   {
    "duration": 15,
    "start_time": "2021-10-14T16:48:12.362Z"
   },
   {
    "duration": 398,
    "start_time": "2021-10-14T16:48:12.380Z"
   },
   {
    "duration": 370,
    "start_time": "2021-10-14T16:48:12.781Z"
   },
   {
    "duration": 477,
    "start_time": "2021-10-14T16:48:13.153Z"
   },
   {
    "duration": 359,
    "start_time": "2021-10-14T16:48:13.632Z"
   },
   {
    "duration": 485,
    "start_time": "2021-10-14T16:48:13.994Z"
   },
   {
    "duration": 257,
    "start_time": "2021-10-14T16:48:14.481Z"
   },
   {
    "duration": 5,
    "start_time": "2021-10-14T16:48:14.740Z"
   },
   {
    "duration": 469,
    "start_time": "2021-10-14T16:48:14.752Z"
   },
   {
    "duration": 5,
    "start_time": "2021-10-14T16:48:15.225Z"
   },
   {
    "duration": 519,
    "start_time": "2021-10-14T16:48:15.233Z"
   },
   {
    "duration": 5,
    "start_time": "2021-10-14T16:48:15.754Z"
   },
   {
    "duration": 8,
    "start_time": "2021-10-14T16:48:15.762Z"
   },
   {
    "duration": 35,
    "start_time": "2021-10-14T16:48:15.773Z"
   },
   {
    "duration": 7,
    "start_time": "2021-10-14T16:48:15.813Z"
   },
   {
    "duration": 9,
    "start_time": "2021-10-14T16:48:15.822Z"
   },
   {
    "duration": 7,
    "start_time": "2021-10-14T16:48:15.834Z"
   },
   {
    "duration": 10,
    "start_time": "2021-10-14T16:48:15.843Z"
   },
   {
    "duration": 73,
    "start_time": "2021-10-14T16:48:15.856Z"
   },
   {
    "duration": 9381,
    "start_time": "2021-10-14T16:48:15.931Z"
   },
   {
    "duration": 349,
    "start_time": "2021-10-14T16:48:24.965Z"
   },
   {
    "duration": 18,
    "start_time": "2021-10-14T16:48:50.339Z"
   },
   {
    "duration": 6,
    "start_time": "2021-10-14T16:49:42.629Z"
   },
   {
    "duration": 1401,
    "start_time": "2021-10-14T16:50:09.771Z"
   },
   {
    "duration": 80,
    "start_time": "2021-10-14T16:50:11.175Z"
   },
   {
    "duration": 18,
    "start_time": "2021-10-14T16:50:11.259Z"
   },
   {
    "duration": 12,
    "start_time": "2021-10-14T16:50:11.281Z"
   },
   {
    "duration": 17,
    "start_time": "2021-10-14T16:50:11.295Z"
   },
   {
    "duration": 15,
    "start_time": "2021-10-14T16:50:11.315Z"
   },
   {
    "duration": 21,
    "start_time": "2021-10-14T16:50:11.333Z"
   },
   {
    "duration": 16,
    "start_time": "2021-10-14T16:50:11.358Z"
   },
   {
    "duration": 35,
    "start_time": "2021-10-14T16:50:11.377Z"
   },
   {
    "duration": 366,
    "start_time": "2021-10-14T16:50:11.415Z"
   },
   {
    "duration": 20,
    "start_time": "2021-10-14T16:50:11.783Z"
   },
   {
    "duration": 300,
    "start_time": "2021-10-14T16:50:11.806Z"
   },
   {
    "duration": 12,
    "start_time": "2021-10-14T16:50:12.108Z"
   },
   {
    "duration": 6,
    "start_time": "2021-10-14T16:50:12.122Z"
   },
   {
    "duration": 13,
    "start_time": "2021-10-14T16:50:12.131Z"
   },
   {
    "duration": 374,
    "start_time": "2021-10-14T16:50:12.146Z"
   },
   {
    "duration": 359,
    "start_time": "2021-10-14T16:50:12.522Z"
   },
   {
    "duration": 477,
    "start_time": "2021-10-14T16:50:12.883Z"
   },
   {
    "duration": 346,
    "start_time": "2021-10-14T16:50:13.364Z"
   },
   {
    "duration": 473,
    "start_time": "2021-10-14T16:50:13.712Z"
   },
   {
    "duration": 279,
    "start_time": "2021-10-14T16:50:14.187Z"
   },
   {
    "duration": 4,
    "start_time": "2021-10-14T16:50:14.468Z"
   },
   {
    "duration": 455,
    "start_time": "2021-10-14T16:50:14.477Z"
   },
   {
    "duration": 6,
    "start_time": "2021-10-14T16:50:14.935Z"
   },
   {
    "duration": 525,
    "start_time": "2021-10-14T16:50:14.944Z"
   },
   {
    "duration": 6,
    "start_time": "2021-10-14T16:50:15.472Z"
   },
   {
    "duration": 23,
    "start_time": "2021-10-14T16:50:15.480Z"
   },
   {
    "duration": 8,
    "start_time": "2021-10-14T16:50:15.505Z"
   },
   {
    "duration": 6,
    "start_time": "2021-10-14T16:50:15.516Z"
   },
   {
    "duration": 7,
    "start_time": "2021-10-14T16:50:15.524Z"
   },
   {
    "duration": 7,
    "start_time": "2021-10-14T16:50:15.533Z"
   },
   {
    "duration": 8,
    "start_time": "2021-10-14T16:50:15.543Z"
   },
   {
    "duration": 66,
    "start_time": "2021-10-14T16:50:15.553Z"
   },
   {
    "duration": 645,
    "start_time": "2021-10-14T16:50:15.622Z"
   },
   {
    "duration": 6,
    "start_time": "2021-10-14T16:50:16.269Z"
   },
   {
    "duration": 457,
    "start_time": "2021-10-14T16:58:16.491Z"
   },
   {
    "duration": 9,
    "start_time": "2021-10-14T16:58:20.170Z"
   },
   {
    "duration": 7,
    "start_time": "2021-10-14T16:58:22.139Z"
   },
   {
    "duration": 7,
    "start_time": "2021-10-14T16:59:43.063Z"
   },
   {
    "duration": 325,
    "start_time": "2021-10-14T16:59:58.418Z"
   },
   {
    "duration": 652,
    "start_time": "2021-10-14T17:00:02.143Z"
   },
   {
    "duration": 9,
    "start_time": "2021-10-14T17:00:04.123Z"
   },
   {
    "duration": 6,
    "start_time": "2021-10-14T17:00:07.777Z"
   },
   {
    "duration": 1099,
    "start_time": "2021-10-14T17:00:42.459Z"
   },
   {
    "duration": 307,
    "start_time": "2021-10-14T17:01:01.157Z"
   },
   {
    "duration": 335,
    "start_time": "2021-10-14T17:01:20.225Z"
   },
   {
    "duration": 459,
    "start_time": "2021-10-14T17:02:01.528Z"
   },
   {
    "duration": 388,
    "start_time": "2021-10-14T17:02:12.636Z"
   },
   {
    "duration": 386,
    "start_time": "2021-10-14T17:02:27.094Z"
   },
   {
    "duration": 356,
    "start_time": "2021-10-14T17:02:38.340Z"
   },
   {
    "duration": 349,
    "start_time": "2021-10-14T17:02:46.203Z"
   },
   {
    "duration": 381,
    "start_time": "2021-10-14T17:02:59.623Z"
   },
   {
    "duration": 454,
    "start_time": "2021-10-14T17:03:16.174Z"
   },
   {
    "duration": 367,
    "start_time": "2021-10-14T17:03:43.487Z"
   },
   {
    "duration": 317,
    "start_time": "2021-10-14T17:05:15.242Z"
   },
   {
    "duration": 609,
    "start_time": "2021-10-14T17:07:39.848Z"
   },
   {
    "duration": 644,
    "start_time": "2021-10-14T17:08:10.027Z"
   },
   {
    "duration": 878,
    "start_time": "2021-10-14T17:09:29.640Z"
   },
   {
    "duration": 1335,
    "start_time": "2021-10-14T17:10:03.135Z"
   },
   {
    "duration": 69,
    "start_time": "2021-10-14T17:10:04.473Z"
   },
   {
    "duration": 18,
    "start_time": "2021-10-14T17:10:04.545Z"
   },
   {
    "duration": 9,
    "start_time": "2021-10-14T17:10:04.566Z"
   },
   {
    "duration": 10,
    "start_time": "2021-10-14T17:10:04.578Z"
   },
   {
    "duration": 14,
    "start_time": "2021-10-14T17:10:04.590Z"
   },
   {
    "duration": 21,
    "start_time": "2021-10-14T17:10:04.607Z"
   },
   {
    "duration": 14,
    "start_time": "2021-10-14T17:10:04.632Z"
   },
   {
    "duration": 21,
    "start_time": "2021-10-14T17:10:04.649Z"
   },
   {
    "duration": 368,
    "start_time": "2021-10-14T17:10:04.701Z"
   },
   {
    "duration": 15,
    "start_time": "2021-10-14T17:10:05.072Z"
   },
   {
    "duration": 322,
    "start_time": "2021-10-14T17:10:05.101Z"
   },
   {
    "duration": 8,
    "start_time": "2021-10-14T17:10:05.426Z"
   },
   {
    "duration": 10,
    "start_time": "2021-10-14T17:10:05.437Z"
   },
   {
    "duration": 14,
    "start_time": "2021-10-14T17:10:05.450Z"
   },
   {
    "duration": 369,
    "start_time": "2021-10-14T17:10:05.467Z"
   },
   {
    "duration": 367,
    "start_time": "2021-10-14T17:10:05.838Z"
   },
   {
    "duration": 526,
    "start_time": "2021-10-14T17:10:06.207Z"
   },
   {
    "duration": 403,
    "start_time": "2021-10-14T17:10:06.735Z"
   },
   {
    "duration": 500,
    "start_time": "2021-10-14T17:10:07.140Z"
   },
   {
    "duration": 209,
    "start_time": "2021-10-14T17:10:07.642Z"
   },
   {
    "duration": 3,
    "start_time": "2021-10-14T17:10:07.854Z"
   },
   {
    "duration": 437,
    "start_time": "2021-10-14T17:10:07.863Z"
   },
   {
    "duration": 6,
    "start_time": "2021-10-14T17:10:08.303Z"
   },
   {
    "duration": 505,
    "start_time": "2021-10-14T17:10:08.312Z"
   },
   {
    "duration": 5,
    "start_time": "2021-10-14T17:10:08.820Z"
   },
   {
    "duration": 23,
    "start_time": "2021-10-14T17:10:08.828Z"
   },
   {
    "duration": 15,
    "start_time": "2021-10-14T17:10:08.854Z"
   },
   {
    "duration": 14,
    "start_time": "2021-10-14T17:10:08.872Z"
   },
   {
    "duration": 7,
    "start_time": "2021-10-14T17:10:08.901Z"
   },
   {
    "duration": 12,
    "start_time": "2021-10-14T17:10:08.910Z"
   },
   {
    "duration": 12,
    "start_time": "2021-10-14T17:10:08.925Z"
   },
   {
    "duration": 27,
    "start_time": "2021-10-14T17:10:08.940Z"
   },
   {
    "duration": 668,
    "start_time": "2021-10-14T17:10:08.969Z"
   },
   {
    "duration": 7,
    "start_time": "2021-10-14T17:10:09.640Z"
   },
   {
    "duration": 977,
    "start_time": "2021-10-14T17:10:09.649Z"
   },
   {
    "duration": 7,
    "start_time": "2021-10-14T17:10:10.628Z"
   },
   {
    "duration": 22,
    "start_time": "2021-10-14T17:10:10.637Z"
   },
   {
    "duration": 878,
    "start_time": "2021-10-14T17:11:33.482Z"
   },
   {
    "duration": 1120,
    "start_time": "2021-10-14T17:12:10.766Z"
   },
   {
    "duration": 881,
    "start_time": "2021-10-14T17:13:31.201Z"
   },
   {
    "duration": 7,
    "start_time": "2021-10-14T17:17:15.205Z"
   },
   {
    "duration": 344,
    "start_time": "2021-10-14T20:12:46.446Z"
   },
   {
    "duration": 350,
    "start_time": "2021-10-14T20:13:11.298Z"
   },
   {
    "duration": 338,
    "start_time": "2021-10-14T20:16:03.209Z"
   },
   {
    "duration": 427,
    "start_time": "2021-10-14T20:16:30.582Z"
   },
   {
    "duration": 346,
    "start_time": "2021-10-14T20:16:53.654Z"
   },
   {
    "duration": 1392,
    "start_time": "2021-10-14T20:51:07.377Z"
   },
   {
    "duration": 69,
    "start_time": "2021-10-14T20:51:08.771Z"
   },
   {
    "duration": 20,
    "start_time": "2021-10-14T20:51:08.843Z"
   },
   {
    "duration": 21,
    "start_time": "2021-10-14T20:51:08.866Z"
   },
   {
    "duration": 5,
    "start_time": "2021-10-14T20:51:08.890Z"
   },
   {
    "duration": 13,
    "start_time": "2021-10-14T20:51:08.897Z"
   },
   {
    "duration": 19,
    "start_time": "2021-10-14T20:51:08.912Z"
   },
   {
    "duration": 19,
    "start_time": "2021-10-14T20:51:08.934Z"
   },
   {
    "duration": 17,
    "start_time": "2021-10-14T20:51:08.957Z"
   },
   {
    "duration": 392,
    "start_time": "2021-10-14T20:51:08.977Z"
   },
   {
    "duration": 16,
    "start_time": "2021-10-14T20:51:09.371Z"
   },
   {
    "duration": 306,
    "start_time": "2021-10-14T20:51:09.401Z"
   },
   {
    "duration": 9,
    "start_time": "2021-10-14T20:51:09.709Z"
   },
   {
    "duration": 7,
    "start_time": "2021-10-14T20:51:09.720Z"
   },
   {
    "duration": 23,
    "start_time": "2021-10-14T20:51:09.730Z"
   },
   {
    "duration": 374,
    "start_time": "2021-10-14T20:51:09.755Z"
   },
   {
    "duration": 350,
    "start_time": "2021-10-14T20:51:10.132Z"
   },
   {
    "duration": 459,
    "start_time": "2021-10-14T20:51:10.484Z"
   },
   {
    "duration": 348,
    "start_time": "2021-10-14T20:51:10.945Z"
   },
   {
    "duration": 491,
    "start_time": "2021-10-14T20:51:11.295Z"
   },
   {
    "duration": 225,
    "start_time": "2021-10-14T20:51:11.788Z"
   },
   {
    "duration": 3,
    "start_time": "2021-10-14T20:51:12.016Z"
   },
   {
    "duration": 393,
    "start_time": "2021-10-14T20:51:12.022Z"
   },
   {
    "duration": 6,
    "start_time": "2021-10-14T20:51:12.417Z"
   },
   {
    "duration": 491,
    "start_time": "2021-10-14T20:51:12.425Z"
   },
   {
    "duration": 6,
    "start_time": "2021-10-14T20:51:12.918Z"
   },
   {
    "duration": 6,
    "start_time": "2021-10-14T20:51:12.929Z"
   },
   {
    "duration": 8,
    "start_time": "2021-10-14T20:51:12.938Z"
   },
   {
    "duration": 7,
    "start_time": "2021-10-14T20:51:12.948Z"
   },
   {
    "duration": 48,
    "start_time": "2021-10-14T20:51:12.957Z"
   },
   {
    "duration": 10,
    "start_time": "2021-10-14T20:51:13.008Z"
   },
   {
    "duration": 9,
    "start_time": "2021-10-14T20:51:13.020Z"
   },
   {
    "duration": 20,
    "start_time": "2021-10-14T20:51:13.031Z"
   },
   {
    "duration": 669,
    "start_time": "2021-10-14T20:51:13.053Z"
   },
   {
    "duration": 7,
    "start_time": "2021-10-14T20:51:13.724Z"
   },
   {
    "duration": 924,
    "start_time": "2021-10-14T20:51:13.733Z"
   },
   {
    "duration": 6,
    "start_time": "2021-10-14T20:51:14.659Z"
   },
   {
    "duration": 15,
    "start_time": "2021-10-14T20:51:14.668Z"
   },
   {
    "duration": 385,
    "start_time": "2021-10-14T20:51:14.685Z"
   },
   {
    "duration": 341,
    "start_time": "2021-10-14T20:51:15.072Z"
   },
   {
    "duration": 381,
    "start_time": "2021-10-17T17:22:47.561Z"
   },
   {
    "duration": 318,
    "start_time": "2021-10-17T17:26:49.522Z"
   },
   {
    "duration": 1400,
    "start_time": "2021-10-18T07:09:24.534Z"
   },
   {
    "duration": 66,
    "start_time": "2021-10-18T07:09:25.936Z"
   },
   {
    "duration": 19,
    "start_time": "2021-10-18T07:09:26.005Z"
   },
   {
    "duration": 9,
    "start_time": "2021-10-18T07:09:26.027Z"
   },
   {
    "duration": 6,
    "start_time": "2021-10-18T07:09:26.039Z"
   },
   {
    "duration": 12,
    "start_time": "2021-10-18T07:09:26.047Z"
   },
   {
    "duration": 19,
    "start_time": "2021-10-18T07:09:26.067Z"
   },
   {
    "duration": 14,
    "start_time": "2021-10-18T07:09:26.090Z"
   },
   {
    "duration": 373,
    "start_time": "2021-10-18T07:09:26.106Z"
   },
   {
    "duration": 16,
    "start_time": "2021-10-18T07:09:26.481Z"
   },
   {
    "duration": 300,
    "start_time": "2021-10-18T07:09:26.500Z"
   },
   {
    "duration": 10,
    "start_time": "2021-10-18T07:09:26.802Z"
   },
   {
    "duration": 7,
    "start_time": "2021-10-18T07:09:26.814Z"
   },
   {
    "duration": 12,
    "start_time": "2021-10-18T07:09:26.823Z"
   },
   {
    "duration": 382,
    "start_time": "2021-10-18T07:09:26.837Z"
   },
   {
    "duration": 367,
    "start_time": "2021-10-18T07:09:27.221Z"
   },
   {
    "duration": 428,
    "start_time": "2021-10-18T07:09:27.590Z"
   },
   {
    "duration": 370,
    "start_time": "2021-10-18T07:09:28.021Z"
   },
   {
    "duration": 456,
    "start_time": "2021-10-18T07:09:28.394Z"
   },
   {
    "duration": 238,
    "start_time": "2021-10-18T07:09:28.853Z"
   },
   {
    "duration": 4,
    "start_time": "2021-10-18T07:09:29.093Z"
   },
   {
    "duration": 399,
    "start_time": "2021-10-18T07:09:29.100Z"
   },
   {
    "duration": 6,
    "start_time": "2021-10-18T07:09:29.505Z"
   },
   {
    "duration": 555,
    "start_time": "2021-10-18T07:09:29.515Z"
   },
   {
    "duration": 5,
    "start_time": "2021-10-18T07:09:30.073Z"
   },
   {
    "duration": 11,
    "start_time": "2021-10-18T07:09:30.081Z"
   },
   {
    "duration": 14,
    "start_time": "2021-10-18T07:09:30.095Z"
   },
   {
    "duration": 18,
    "start_time": "2021-10-18T07:09:30.111Z"
   },
   {
    "duration": 11,
    "start_time": "2021-10-18T07:09:30.132Z"
   },
   {
    "duration": 7,
    "start_time": "2021-10-18T07:09:30.168Z"
   },
   {
    "duration": 22,
    "start_time": "2021-10-18T07:09:30.178Z"
   },
   {
    "duration": 39,
    "start_time": "2021-10-18T07:09:30.202Z"
   },
   {
    "duration": 651,
    "start_time": "2021-10-18T07:09:30.244Z"
   },
   {
    "duration": 8,
    "start_time": "2021-10-18T07:09:30.897Z"
   },
   {
    "duration": 973,
    "start_time": "2021-10-18T07:09:30.908Z"
   },
   {
    "duration": 7,
    "start_time": "2021-10-18T07:09:31.884Z"
   },
   {
    "duration": 9,
    "start_time": "2021-10-18T07:09:31.894Z"
   },
   {
    "duration": 386,
    "start_time": "2021-10-18T07:09:31.906Z"
   },
   {
    "duration": 351,
    "start_time": "2021-10-18T07:09:32.294Z"
   },
   {
    "duration": 211,
    "start_time": "2021-10-20T08:09:56.989Z"
   },
   {
    "duration": 1022,
    "start_time": "2021-10-20T08:10:01.986Z"
   },
   {
    "duration": 77,
    "start_time": "2021-10-20T08:10:03.010Z"
   },
   {
    "duration": 18,
    "start_time": "2021-10-20T08:10:03.089Z"
   },
   {
    "duration": 7,
    "start_time": "2021-10-20T08:10:03.109Z"
   },
   {
    "duration": 13,
    "start_time": "2021-10-20T08:10:03.118Z"
   },
   {
    "duration": 13,
    "start_time": "2021-10-20T08:10:03.133Z"
   },
   {
    "duration": 19,
    "start_time": "2021-10-20T08:10:03.148Z"
   },
   {
    "duration": 23,
    "start_time": "2021-10-20T08:10:03.171Z"
   },
   {
    "duration": 17,
    "start_time": "2021-10-20T08:10:03.196Z"
   },
   {
    "duration": 206,
    "start_time": "2021-10-20T08:10:03.215Z"
   },
   {
    "duration": 11,
    "start_time": "2021-10-20T08:10:03.422Z"
   },
   {
    "duration": 182,
    "start_time": "2021-10-20T08:10:03.434Z"
   },
   {
    "duration": 6,
    "start_time": "2021-10-20T08:10:03.618Z"
   },
   {
    "duration": 8,
    "start_time": "2021-10-20T08:10:03.625Z"
   },
   {
    "duration": 12,
    "start_time": "2021-10-20T08:10:03.634Z"
   },
   {
    "duration": 255,
    "start_time": "2021-10-20T08:10:03.648Z"
   },
   {
    "duration": 229,
    "start_time": "2021-10-20T08:10:03.904Z"
   },
   {
    "duration": 313,
    "start_time": "2021-10-20T08:10:04.136Z"
   },
   {
    "duration": 235,
    "start_time": "2021-10-20T08:10:04.451Z"
   },
   {
    "duration": 380,
    "start_time": "2021-10-20T08:10:04.689Z"
   },
   {
    "duration": 113,
    "start_time": "2021-10-20T08:10:05.071Z"
   },
   {
    "duration": 10,
    "start_time": "2021-10-20T08:10:05.186Z"
   },
   {
    "duration": 318,
    "start_time": "2021-10-20T08:10:05.200Z"
   },
   {
    "duration": 4,
    "start_time": "2021-10-20T08:10:05.520Z"
   },
   {
    "duration": 347,
    "start_time": "2021-10-20T08:10:05.526Z"
   },
   {
    "duration": 5,
    "start_time": "2021-10-20T08:10:05.875Z"
   },
   {
    "duration": 5,
    "start_time": "2021-10-20T08:10:05.894Z"
   },
   {
    "duration": 8,
    "start_time": "2021-10-20T08:10:05.901Z"
   },
   {
    "duration": 6,
    "start_time": "2021-10-20T08:10:05.911Z"
   },
   {
    "duration": 7,
    "start_time": "2021-10-20T08:10:05.919Z"
   },
   {
    "duration": 8,
    "start_time": "2021-10-20T08:10:05.928Z"
   },
   {
    "duration": 6,
    "start_time": "2021-10-20T08:10:05.938Z"
   },
   {
    "duration": 18,
    "start_time": "2021-10-20T08:10:05.946Z"
   },
   {
    "duration": 406,
    "start_time": "2021-10-20T08:10:05.966Z"
   },
   {
    "duration": 5,
    "start_time": "2021-10-20T08:10:06.373Z"
   },
   {
    "duration": 613,
    "start_time": "2021-10-20T08:10:06.380Z"
   },
   {
    "duration": 5,
    "start_time": "2021-10-20T08:10:06.995Z"
   },
   {
    "duration": 12,
    "start_time": "2021-10-20T08:10:07.002Z"
   },
   {
    "duration": 245,
    "start_time": "2021-10-20T08:10:07.016Z"
   },
   {
    "duration": 212,
    "start_time": "2021-10-20T08:10:07.263Z"
   },
   {
    "duration": 7,
    "start_time": "2021-10-20T08:10:43.201Z"
   },
   {
    "duration": 9,
    "start_time": "2021-10-20T08:10:49.285Z"
   },
   {
    "duration": 8,
    "start_time": "2021-10-20T08:11:01.663Z"
   },
   {
    "duration": 11,
    "start_time": "2021-10-20T08:32:44.323Z"
   },
   {
    "duration": 306,
    "start_time": "2021-10-20T08:36:57.616Z"
   },
   {
    "duration": 8,
    "start_time": "2021-10-20T08:37:11.777Z"
   },
   {
    "duration": 5,
    "start_time": "2021-10-20T08:37:22.424Z"
   },
   {
    "duration": 6,
    "start_time": "2021-10-20T08:38:07.824Z"
   },
   {
    "duration": 7,
    "start_time": "2021-10-20T08:38:25.819Z"
   },
   {
    "duration": 9,
    "start_time": "2021-10-20T08:39:33.090Z"
   },
   {
    "duration": 6,
    "start_time": "2021-10-20T08:40:03.910Z"
   },
   {
    "duration": 187,
    "start_time": "2021-10-20T08:42:04.922Z"
   },
   {
    "duration": 9,
    "start_time": "2021-10-20T08:42:16.580Z"
   },
   {
    "duration": 8,
    "start_time": "2021-10-20T08:43:08.707Z"
   },
   {
    "duration": 1085,
    "start_time": "2021-10-20T19:03:40.768Z"
   },
   {
    "duration": 67,
    "start_time": "2021-10-20T19:03:41.855Z"
   },
   {
    "duration": 12,
    "start_time": "2021-10-20T19:03:41.924Z"
   },
   {
    "duration": 6,
    "start_time": "2021-10-20T19:03:41.937Z"
   },
   {
    "duration": 5,
    "start_time": "2021-10-20T19:03:41.944Z"
   },
   {
    "duration": 13,
    "start_time": "2021-10-20T19:03:41.950Z"
   },
   {
    "duration": 9,
    "start_time": "2021-10-20T19:03:41.965Z"
   },
   {
    "duration": 5,
    "start_time": "2021-10-20T19:03:41.976Z"
   },
   {
    "duration": 12,
    "start_time": "2021-10-20T19:03:41.983Z"
   },
   {
    "duration": 9,
    "start_time": "2021-10-20T19:03:41.996Z"
   },
   {
    "duration": 8,
    "start_time": "2021-10-20T19:03:42.006Z"
   },
   {
    "duration": 217,
    "start_time": "2021-10-20T19:03:42.016Z"
   },
   {
    "duration": 10,
    "start_time": "2021-10-20T19:03:42.235Z"
   },
   {
    "duration": 166,
    "start_time": "2021-10-20T19:03:42.246Z"
   },
   {
    "duration": 6,
    "start_time": "2021-10-20T19:03:42.414Z"
   },
   {
    "duration": 10,
    "start_time": "2021-10-20T19:03:42.421Z"
   },
   {
    "duration": 10,
    "start_time": "2021-10-20T19:03:42.432Z"
   },
   {
    "duration": 224,
    "start_time": "2021-10-20T19:03:42.443Z"
   },
   {
    "duration": 209,
    "start_time": "2021-10-20T19:03:42.669Z"
   },
   {
    "duration": 332,
    "start_time": "2021-10-20T19:03:42.879Z"
   },
   {
    "duration": 206,
    "start_time": "2021-10-20T19:03:43.213Z"
   },
   {
    "duration": 323,
    "start_time": "2021-10-20T19:03:43.421Z"
   },
   {
    "duration": 105,
    "start_time": "2021-10-20T19:03:43.748Z"
   },
   {
    "duration": 3,
    "start_time": "2021-10-20T19:03:43.854Z"
   },
   {
    "duration": 332,
    "start_time": "2021-10-20T19:03:43.859Z"
   },
   {
    "duration": 4,
    "start_time": "2021-10-20T19:03:44.193Z"
   },
   {
    "duration": 361,
    "start_time": "2021-10-20T19:03:44.199Z"
   },
   {
    "duration": 4,
    "start_time": "2021-10-20T19:03:44.561Z"
   },
   {
    "duration": 6,
    "start_time": "2021-10-20T19:03:44.567Z"
   },
   {
    "duration": 17,
    "start_time": "2021-10-20T19:03:44.575Z"
   },
   {
    "duration": 5,
    "start_time": "2021-10-20T19:03:44.594Z"
   },
   {
    "duration": 5,
    "start_time": "2021-10-20T19:03:44.601Z"
   },
   {
    "duration": 6,
    "start_time": "2021-10-20T19:03:44.607Z"
   },
   {
    "duration": 7,
    "start_time": "2021-10-20T19:03:44.614Z"
   },
   {
    "duration": 17,
    "start_time": "2021-10-20T19:03:44.622Z"
   },
   {
    "duration": 373,
    "start_time": "2021-10-20T19:03:44.641Z"
   },
   {
    "duration": 5,
    "start_time": "2021-10-20T19:03:45.015Z"
   },
   {
    "duration": 597,
    "start_time": "2021-10-20T19:03:45.022Z"
   },
   {
    "duration": 4,
    "start_time": "2021-10-20T19:03:45.621Z"
   },
   {
    "duration": 10,
    "start_time": "2021-10-20T19:03:45.626Z"
   },
   {
    "duration": 231,
    "start_time": "2021-10-20T19:03:45.637Z"
   },
   {
    "duration": 219,
    "start_time": "2021-10-20T19:03:45.870Z"
   },
   {
    "duration": 987,
    "start_time": "2021-10-20T19:10:26.879Z"
   },
   {
    "duration": 57,
    "start_time": "2021-10-20T19:10:27.867Z"
   },
   {
    "duration": 10,
    "start_time": "2021-10-20T19:10:27.926Z"
   },
   {
    "duration": 8,
    "start_time": "2021-10-20T19:10:27.938Z"
   },
   {
    "duration": 5,
    "start_time": "2021-10-20T19:10:27.947Z"
   },
   {
    "duration": 9,
    "start_time": "2021-10-20T19:10:27.954Z"
   },
   {
    "duration": 9,
    "start_time": "2021-10-20T19:10:27.964Z"
   },
   {
    "duration": 5,
    "start_time": "2021-10-20T19:10:27.975Z"
   },
   {
    "duration": 14,
    "start_time": "2021-10-20T19:10:27.982Z"
   },
   {
    "duration": 9,
    "start_time": "2021-10-20T19:10:27.998Z"
   },
   {
    "duration": 9,
    "start_time": "2021-10-20T19:10:28.008Z"
   },
   {
    "duration": 217,
    "start_time": "2021-10-20T19:10:28.018Z"
   },
   {
    "duration": 11,
    "start_time": "2021-10-20T19:10:28.237Z"
   },
   {
    "duration": 173,
    "start_time": "2021-10-20T19:10:28.249Z"
   },
   {
    "duration": 9,
    "start_time": "2021-10-20T19:10:28.424Z"
   },
   {
    "duration": 6,
    "start_time": "2021-10-20T19:10:28.434Z"
   },
   {
    "duration": 9,
    "start_time": "2021-10-20T19:10:28.441Z"
   },
   {
    "duration": 231,
    "start_time": "2021-10-20T19:10:28.451Z"
   },
   {
    "duration": 219,
    "start_time": "2021-10-20T19:10:28.683Z"
   },
   {
    "duration": 312,
    "start_time": "2021-10-20T19:10:28.904Z"
   },
   {
    "duration": 211,
    "start_time": "2021-10-20T19:10:29.217Z"
   },
   {
    "duration": 311,
    "start_time": "2021-10-20T19:10:29.430Z"
   },
   {
    "duration": 106,
    "start_time": "2021-10-20T19:10:29.744Z"
   },
   {
    "duration": 3,
    "start_time": "2021-10-20T19:10:29.852Z"
   },
   {
    "duration": 325,
    "start_time": "2021-10-20T19:10:29.857Z"
   },
   {
    "duration": 7,
    "start_time": "2021-10-20T19:10:30.191Z"
   },
   {
    "duration": 359,
    "start_time": "2021-10-20T19:10:30.200Z"
   },
   {
    "duration": 4,
    "start_time": "2021-10-20T19:10:30.561Z"
   },
   {
    "duration": 18,
    "start_time": "2021-10-20T19:10:30.567Z"
   },
   {
    "duration": 11,
    "start_time": "2021-10-20T19:10:30.586Z"
   },
   {
    "duration": 18,
    "start_time": "2021-10-20T19:10:30.598Z"
   },
   {
    "duration": 10,
    "start_time": "2021-10-20T19:10:30.618Z"
   },
   {
    "duration": 12,
    "start_time": "2021-10-20T19:10:30.630Z"
   },
   {
    "duration": 14,
    "start_time": "2021-10-20T19:10:30.643Z"
   },
   {
    "duration": 29,
    "start_time": "2021-10-20T19:10:30.659Z"
   },
   {
    "duration": 340,
    "start_time": "2021-10-20T19:10:30.690Z"
   },
   {
    "duration": 5,
    "start_time": "2021-10-20T19:10:31.031Z"
   },
   {
    "duration": 568,
    "start_time": "2021-10-20T19:10:31.037Z"
   },
   {
    "duration": 5,
    "start_time": "2021-10-20T19:10:31.606Z"
   },
   {
    "duration": 7,
    "start_time": "2021-10-20T19:10:31.612Z"
   },
   {
    "duration": 224,
    "start_time": "2021-10-20T19:10:31.621Z"
   },
   {
    "duration": 212,
    "start_time": "2021-10-20T19:10:31.847Z"
   },
   {
    "duration": 937,
    "start_time": "2021-10-20T19:11:09.330Z"
   },
   {
    "duration": 58,
    "start_time": "2021-10-20T19:11:10.269Z"
   },
   {
    "duration": 11,
    "start_time": "2021-10-20T19:11:10.330Z"
   },
   {
    "duration": 7,
    "start_time": "2021-10-20T19:11:10.343Z"
   },
   {
    "duration": 6,
    "start_time": "2021-10-20T19:11:10.351Z"
   },
   {
    "duration": 9,
    "start_time": "2021-10-20T19:11:10.358Z"
   },
   {
    "duration": 9,
    "start_time": "2021-10-20T19:11:10.369Z"
   },
   {
    "duration": 7,
    "start_time": "2021-10-20T19:11:10.380Z"
   },
   {
    "duration": 16,
    "start_time": "2021-10-20T19:11:10.388Z"
   },
   {
    "duration": 9,
    "start_time": "2021-10-20T19:11:10.405Z"
   },
   {
    "duration": 8,
    "start_time": "2021-10-20T19:11:10.416Z"
   },
   {
    "duration": 211,
    "start_time": "2021-10-20T19:11:10.425Z"
   },
   {
    "duration": 10,
    "start_time": "2021-10-20T19:11:10.637Z"
   },
   {
    "duration": 168,
    "start_time": "2021-10-20T19:11:10.649Z"
   },
   {
    "duration": 16,
    "start_time": "2021-10-20T19:11:10.820Z"
   },
   {
    "duration": 8,
    "start_time": "2021-10-20T19:11:10.838Z"
   },
   {
    "duration": 8,
    "start_time": "2021-10-20T19:11:10.848Z"
   },
   {
    "duration": 216,
    "start_time": "2021-10-20T19:11:10.857Z"
   },
   {
    "duration": 211,
    "start_time": "2021-10-20T19:11:11.075Z"
   },
   {
    "duration": 338,
    "start_time": "2021-10-20T19:11:11.288Z"
   },
   {
    "duration": 213,
    "start_time": "2021-10-20T19:11:11.628Z"
   },
   {
    "duration": 315,
    "start_time": "2021-10-20T19:11:11.843Z"
   },
   {
    "duration": 99,
    "start_time": "2021-10-20T19:11:12.161Z"
   },
   {
    "duration": 2,
    "start_time": "2021-10-20T19:11:12.262Z"
   },
   {
    "duration": 320,
    "start_time": "2021-10-20T19:11:12.266Z"
   },
   {
    "duration": 4,
    "start_time": "2021-10-20T19:11:12.592Z"
   },
   {
    "duration": 355,
    "start_time": "2021-10-20T19:11:12.597Z"
   },
   {
    "duration": 4,
    "start_time": "2021-10-20T19:11:12.954Z"
   },
   {
    "duration": 7,
    "start_time": "2021-10-20T19:11:12.959Z"
   },
   {
    "duration": 11,
    "start_time": "2021-10-20T19:11:12.968Z"
   },
   {
    "duration": 4,
    "start_time": "2021-10-20T19:11:12.991Z"
   },
   {
    "duration": 9,
    "start_time": "2021-10-20T19:11:12.996Z"
   },
   {
    "duration": 7,
    "start_time": "2021-10-20T19:11:13.007Z"
   },
   {
    "duration": 8,
    "start_time": "2021-10-20T19:11:13.015Z"
   },
   {
    "duration": 13,
    "start_time": "2021-10-20T19:11:13.025Z"
   },
   {
    "duration": 355,
    "start_time": "2021-10-20T19:11:13.039Z"
   },
   {
    "duration": 5,
    "start_time": "2021-10-20T19:11:13.396Z"
   },
   {
    "duration": 576,
    "start_time": "2021-10-20T19:11:13.402Z"
   },
   {
    "duration": 12,
    "start_time": "2021-10-20T19:11:13.980Z"
   },
   {
    "duration": 7,
    "start_time": "2021-10-20T19:11:13.994Z"
   },
   {
    "duration": 228,
    "start_time": "2021-10-20T19:11:14.003Z"
   },
   {
    "duration": 221,
    "start_time": "2021-10-20T19:11:14.233Z"
   },
   {
    "duration": 4607,
    "start_time": "2021-10-20T19:13:39.795Z"
   },
   {
    "duration": 13,
    "start_time": "2021-10-20T19:19:55.460Z"
   },
   {
    "duration": 182,
    "start_time": "2021-10-20T19:22:33.180Z"
   },
   {
    "duration": 8,
    "start_time": "2021-10-20T19:22:37.212Z"
   },
   {
    "duration": 8,
    "start_time": "2021-10-20T19:22:39.094Z"
   },
   {
    "duration": 6,
    "start_time": "2021-10-20T19:22:53.958Z"
   },
   {
    "duration": 7,
    "start_time": "2021-10-20T19:22:55.234Z"
   },
   {
    "duration": 9,
    "start_time": "2021-10-20T19:23:36.480Z"
   },
   {
    "duration": 2246,
    "start_time": "2021-10-20T19:24:08.451Z"
   },
   {
    "duration": 9,
    "start_time": "2021-10-20T19:24:22.553Z"
   },
   {
    "duration": 179,
    "start_time": "2021-10-20T19:24:54.234Z"
   },
   {
    "duration": 7,
    "start_time": "2021-10-20T19:29:30.473Z"
   },
   {
    "duration": 194,
    "start_time": "2021-10-20T19:29:35.388Z"
   },
   {
    "duration": 184,
    "start_time": "2021-10-20T19:30:13.908Z"
   },
   {
    "duration": 179,
    "start_time": "2021-10-20T19:30:25.501Z"
   },
   {
    "duration": 1055,
    "start_time": "2021-10-20T19:30:34.499Z"
   },
   {
    "duration": 59,
    "start_time": "2021-10-20T19:30:35.556Z"
   },
   {
    "duration": 11,
    "start_time": "2021-10-20T19:30:35.617Z"
   },
   {
    "duration": 13,
    "start_time": "2021-10-20T19:30:35.630Z"
   },
   {
    "duration": 5,
    "start_time": "2021-10-20T19:30:35.645Z"
   },
   {
    "duration": 11,
    "start_time": "2021-10-20T19:30:35.651Z"
   },
   {
    "duration": 15,
    "start_time": "2021-10-20T19:30:35.663Z"
   },
   {
    "duration": 258,
    "start_time": "2021-10-20T19:30:35.680Z"
   },
   {
    "duration": -109,
    "start_time": "2021-10-20T19:30:36.049Z"
   },
   {
    "duration": -114,
    "start_time": "2021-10-20T19:30:36.055Z"
   },
   {
    "duration": -117,
    "start_time": "2021-10-20T19:30:36.059Z"
   },
   {
    "duration": -121,
    "start_time": "2021-10-20T19:30:36.063Z"
   },
   {
    "duration": -123,
    "start_time": "2021-10-20T19:30:36.066Z"
   },
   {
    "duration": -131,
    "start_time": "2021-10-20T19:30:36.075Z"
   },
   {
    "duration": -136,
    "start_time": "2021-10-20T19:30:36.081Z"
   },
   {
    "duration": -139,
    "start_time": "2021-10-20T19:30:36.085Z"
   },
   {
    "duration": -143,
    "start_time": "2021-10-20T19:30:36.090Z"
   },
   {
    "duration": -146,
    "start_time": "2021-10-20T19:30:36.094Z"
   },
   {
    "duration": -150,
    "start_time": "2021-10-20T19:30:36.099Z"
   },
   {
    "duration": -156,
    "start_time": "2021-10-20T19:30:36.105Z"
   },
   {
    "duration": -158,
    "start_time": "2021-10-20T19:30:36.108Z"
   },
   {
    "duration": -161,
    "start_time": "2021-10-20T19:30:36.112Z"
   },
   {
    "duration": -163,
    "start_time": "2021-10-20T19:30:36.115Z"
   },
   {
    "duration": -167,
    "start_time": "2021-10-20T19:30:36.120Z"
   },
   {
    "duration": -169,
    "start_time": "2021-10-20T19:30:36.123Z"
   },
   {
    "duration": -171,
    "start_time": "2021-10-20T19:30:36.126Z"
   },
   {
    "duration": -173,
    "start_time": "2021-10-20T19:30:36.129Z"
   },
   {
    "duration": -176,
    "start_time": "2021-10-20T19:30:36.133Z"
   },
   {
    "duration": -180,
    "start_time": "2021-10-20T19:30:36.138Z"
   },
   {
    "duration": -183,
    "start_time": "2021-10-20T19:30:36.142Z"
   },
   {
    "duration": -185,
    "start_time": "2021-10-20T19:30:36.145Z"
   },
   {
    "duration": -187,
    "start_time": "2021-10-20T19:30:36.148Z"
   },
   {
    "duration": -211,
    "start_time": "2021-10-20T19:30:36.173Z"
   },
   {
    "duration": -214,
    "start_time": "2021-10-20T19:30:36.177Z"
   },
   {
    "duration": -218,
    "start_time": "2021-10-20T19:30:36.181Z"
   },
   {
    "duration": -224,
    "start_time": "2021-10-20T19:30:36.188Z"
   },
   {
    "duration": -227,
    "start_time": "2021-10-20T19:30:36.192Z"
   },
   {
    "duration": -244,
    "start_time": "2021-10-20T19:30:36.210Z"
   },
   {
    "duration": -264,
    "start_time": "2021-10-20T19:30:36.231Z"
   },
   {
    "duration": -266,
    "start_time": "2021-10-20T19:30:36.234Z"
   },
   {
    "duration": -269,
    "start_time": "2021-10-20T19:30:36.238Z"
   },
   {
    "duration": -286,
    "start_time": "2021-10-20T19:30:36.256Z"
   },
   {
    "duration": -296,
    "start_time": "2021-10-20T19:30:36.266Z"
   },
   {
    "duration": 191,
    "start_time": "2021-10-20T19:32:01.528Z"
   },
   {
    "duration": 955,
    "start_time": "2021-10-20T19:32:08.805Z"
   },
   {
    "duration": 58,
    "start_time": "2021-10-20T19:32:09.761Z"
   },
   {
    "duration": 11,
    "start_time": "2021-10-20T19:32:09.821Z"
   },
   {
    "duration": 8,
    "start_time": "2021-10-20T19:32:09.834Z"
   },
   {
    "duration": 6,
    "start_time": "2021-10-20T19:32:09.843Z"
   },
   {
    "duration": 10,
    "start_time": "2021-10-20T19:32:09.850Z"
   },
   {
    "duration": 6,
    "start_time": "2021-10-20T19:32:09.861Z"
   },
   {
    "duration": 15,
    "start_time": "2021-10-20T19:32:09.870Z"
   },
   {
    "duration": 9,
    "start_time": "2021-10-20T19:32:09.887Z"
   },
   {
    "duration": 10,
    "start_time": "2021-10-20T19:32:09.897Z"
   },
   {
    "duration": 10,
    "start_time": "2021-10-20T19:32:09.909Z"
   },
   {
    "duration": 11,
    "start_time": "2021-10-20T19:32:09.920Z"
   },
   {
    "duration": 225,
    "start_time": "2021-10-20T19:32:09.933Z"
   },
   {
    "duration": 10,
    "start_time": "2021-10-20T19:32:10.159Z"
   },
   {
    "duration": 157,
    "start_time": "2021-10-20T19:32:10.171Z"
   },
   {
    "duration": 5,
    "start_time": "2021-10-20T19:32:10.330Z"
   },
   {
    "duration": 5,
    "start_time": "2021-10-20T19:32:10.337Z"
   },
   {
    "duration": 9,
    "start_time": "2021-10-20T19:32:10.343Z"
   },
   {
    "duration": 222,
    "start_time": "2021-10-20T19:32:10.354Z"
   },
   {
    "duration": 215,
    "start_time": "2021-10-20T19:32:10.578Z"
   },
   {
    "duration": 320,
    "start_time": "2021-10-20T19:32:10.795Z"
   },
   {
    "duration": 204,
    "start_time": "2021-10-20T19:32:11.116Z"
   },
   {
    "duration": 307,
    "start_time": "2021-10-20T19:32:11.323Z"
   },
   {
    "duration": 110,
    "start_time": "2021-10-20T19:32:11.632Z"
   },
   {
    "duration": 3,
    "start_time": "2021-10-20T19:32:11.743Z"
   },
   {
    "duration": 272,
    "start_time": "2021-10-20T19:32:11.748Z"
   },
   {
    "duration": 4,
    "start_time": "2021-10-20T19:32:12.022Z"
   },
   {
    "duration": 340,
    "start_time": "2021-10-20T19:32:12.027Z"
   },
   {
    "duration": 4,
    "start_time": "2021-10-20T19:32:12.369Z"
   },
   {
    "duration": 17,
    "start_time": "2021-10-20T19:32:12.374Z"
   },
   {
    "duration": 4,
    "start_time": "2021-10-20T19:32:12.393Z"
   },
   {
    "duration": 8,
    "start_time": "2021-10-20T19:32:12.398Z"
   },
   {
    "duration": 6,
    "start_time": "2021-10-20T19:32:12.407Z"
   },
   {
    "duration": 6,
    "start_time": "2021-10-20T19:32:12.415Z"
   },
   {
    "duration": 9,
    "start_time": "2021-10-20T19:32:12.422Z"
   },
   {
    "duration": 14,
    "start_time": "2021-10-20T19:32:12.432Z"
   },
   {
    "duration": 359,
    "start_time": "2021-10-20T19:32:12.448Z"
   },
   {
    "duration": 5,
    "start_time": "2021-10-20T19:32:12.809Z"
   },
   {
    "duration": 553,
    "start_time": "2021-10-20T19:32:12.815Z"
   },
   {
    "duration": 4,
    "start_time": "2021-10-20T19:32:13.370Z"
   },
   {
    "duration": 18,
    "start_time": "2021-10-20T19:32:13.376Z"
   },
   {
    "duration": 210,
    "start_time": "2021-10-20T19:32:13.395Z"
   },
   {
    "duration": 207,
    "start_time": "2021-10-20T19:32:13.607Z"
   },
   {
    "duration": 15,
    "start_time": "2021-10-20T19:33:14.281Z"
   },
   {
    "duration": 14,
    "start_time": "2021-10-20T19:33:48.321Z"
   },
   {
    "duration": 5,
    "start_time": "2021-10-20T19:36:33.851Z"
   },
   {
    "duration": 971,
    "start_time": "2021-10-20T19:36:39.537Z"
   },
   {
    "duration": 58,
    "start_time": "2021-10-20T19:36:40.509Z"
   },
   {
    "duration": 12,
    "start_time": "2021-10-20T19:36:40.569Z"
   },
   {
    "duration": 7,
    "start_time": "2021-10-20T19:36:40.582Z"
   },
   {
    "duration": 6,
    "start_time": "2021-10-20T19:36:40.590Z"
   },
   {
    "duration": 14,
    "start_time": "2021-10-20T19:36:40.597Z"
   },
   {
    "duration": 6,
    "start_time": "2021-10-20T19:36:40.612Z"
   },
   {
    "duration": 25,
    "start_time": "2021-10-20T19:36:40.621Z"
   },
   {
    "duration": 5,
    "start_time": "2021-10-20T19:36:40.649Z"
   },
   {
    "duration": 8,
    "start_time": "2021-10-20T19:36:40.655Z"
   },
   {
    "duration": 13,
    "start_time": "2021-10-20T19:36:40.664Z"
   },
   {
    "duration": 10,
    "start_time": "2021-10-20T19:36:40.691Z"
   },
   {
    "duration": 8,
    "start_time": "2021-10-20T19:36:40.703Z"
   },
   {
    "duration": 220,
    "start_time": "2021-10-20T19:36:40.713Z"
   },
   {
    "duration": 10,
    "start_time": "2021-10-20T19:36:40.934Z"
   },
   {
    "duration": 161,
    "start_time": "2021-10-20T19:36:40.946Z"
   },
   {
    "duration": 5,
    "start_time": "2021-10-20T19:36:41.109Z"
   },
   {
    "duration": 5,
    "start_time": "2021-10-20T19:36:41.116Z"
   },
   {
    "duration": 9,
    "start_time": "2021-10-20T19:36:41.123Z"
   },
   {
    "duration": 223,
    "start_time": "2021-10-20T19:36:41.134Z"
   },
   {
    "duration": 222,
    "start_time": "2021-10-20T19:36:41.359Z"
   },
   {
    "duration": 320,
    "start_time": "2021-10-20T19:36:41.583Z"
   },
   {
    "duration": 223,
    "start_time": "2021-10-20T19:36:41.907Z"
   },
   {
    "duration": 327,
    "start_time": "2021-10-20T19:36:42.132Z"
   },
   {
    "duration": 96,
    "start_time": "2021-10-20T19:36:42.461Z"
   },
   {
    "duration": 3,
    "start_time": "2021-10-20T19:36:42.559Z"
   },
   {
    "duration": 345,
    "start_time": "2021-10-20T19:36:42.564Z"
   },
   {
    "duration": 5,
    "start_time": "2021-10-20T19:36:42.911Z"
   },
   {
    "duration": 345,
    "start_time": "2021-10-20T19:36:42.918Z"
   },
   {
    "duration": 5,
    "start_time": "2021-10-20T19:36:43.265Z"
   },
   {
    "duration": 20,
    "start_time": "2021-10-20T19:36:43.272Z"
   },
   {
    "duration": 4,
    "start_time": "2021-10-20T19:36:43.294Z"
   },
   {
    "duration": 6,
    "start_time": "2021-10-20T19:36:43.300Z"
   },
   {
    "duration": 10,
    "start_time": "2021-10-20T19:36:43.308Z"
   },
   {
    "duration": 7,
    "start_time": "2021-10-20T19:36:43.320Z"
   },
   {
    "duration": 10,
    "start_time": "2021-10-20T19:36:43.328Z"
   },
   {
    "duration": 16,
    "start_time": "2021-10-20T19:36:43.340Z"
   },
   {
    "duration": 388,
    "start_time": "2021-10-20T19:36:43.357Z"
   },
   {
    "duration": 6,
    "start_time": "2021-10-20T19:36:43.747Z"
   },
   {
    "duration": 603,
    "start_time": "2021-10-20T19:36:43.754Z"
   },
   {
    "duration": 5,
    "start_time": "2021-10-20T19:36:44.359Z"
   },
   {
    "duration": 8,
    "start_time": "2021-10-20T19:36:44.366Z"
   },
   {
    "duration": 224,
    "start_time": "2021-10-20T19:36:44.375Z"
   },
   {
    "duration": 225,
    "start_time": "2021-10-20T19:36:44.600Z"
   },
   {
    "duration": 1068,
    "start_time": "2021-10-20T19:37:33.286Z"
   },
   {
    "duration": 58,
    "start_time": "2021-10-20T19:37:34.356Z"
   },
   {
    "duration": 13,
    "start_time": "2021-10-20T19:37:34.416Z"
   },
   {
    "duration": 8,
    "start_time": "2021-10-20T19:37:34.431Z"
   },
   {
    "duration": 6,
    "start_time": "2021-10-20T19:37:34.440Z"
   },
   {
    "duration": 13,
    "start_time": "2021-10-20T19:37:34.448Z"
   },
   {
    "duration": 7,
    "start_time": "2021-10-20T19:37:34.463Z"
   },
   {
    "duration": 25,
    "start_time": "2021-10-20T19:37:34.473Z"
   },
   {
    "duration": 4,
    "start_time": "2021-10-20T19:37:34.500Z"
   },
   {
    "duration": 11,
    "start_time": "2021-10-20T19:37:34.506Z"
   },
   {
    "duration": 12,
    "start_time": "2021-10-20T19:37:34.519Z"
   },
   {
    "duration": 14,
    "start_time": "2021-10-20T19:37:34.532Z"
   },
   {
    "duration": 10,
    "start_time": "2021-10-20T19:37:34.547Z"
   },
   {
    "duration": 218,
    "start_time": "2021-10-20T19:37:34.558Z"
   },
   {
    "duration": 16,
    "start_time": "2021-10-20T19:37:34.777Z"
   },
   {
    "duration": 181,
    "start_time": "2021-10-20T19:37:34.795Z"
   },
   {
    "duration": 14,
    "start_time": "2021-10-20T19:37:34.978Z"
   },
   {
    "duration": 20,
    "start_time": "2021-10-20T19:37:34.994Z"
   },
   {
    "duration": 16,
    "start_time": "2021-10-20T19:37:35.016Z"
   },
   {
    "duration": 243,
    "start_time": "2021-10-20T19:37:35.035Z"
   },
   {
    "duration": 219,
    "start_time": "2021-10-20T19:37:35.280Z"
   },
   {
    "duration": 311,
    "start_time": "2021-10-20T19:37:35.501Z"
   },
   {
    "duration": 218,
    "start_time": "2021-10-20T19:37:35.815Z"
   },
   {
    "duration": 316,
    "start_time": "2021-10-20T19:37:36.035Z"
   },
   {
    "duration": 97,
    "start_time": "2021-10-20T19:37:36.353Z"
   },
   {
    "duration": 2,
    "start_time": "2021-10-20T19:37:36.452Z"
   },
   {
    "duration": 293,
    "start_time": "2021-10-20T19:37:36.455Z"
   },
   {
    "duration": 4,
    "start_time": "2021-10-20T19:37:36.750Z"
   },
   {
    "duration": 343,
    "start_time": "2021-10-20T19:37:36.755Z"
   },
   {
    "duration": 4,
    "start_time": "2021-10-20T19:37:37.100Z"
   },
   {
    "duration": 7,
    "start_time": "2021-10-20T19:37:37.106Z"
   },
   {
    "duration": 7,
    "start_time": "2021-10-20T19:37:37.115Z"
   },
   {
    "duration": 7,
    "start_time": "2021-10-20T19:37:37.123Z"
   },
   {
    "duration": 6,
    "start_time": "2021-10-20T19:37:37.131Z"
   },
   {
    "duration": 6,
    "start_time": "2021-10-20T19:37:37.139Z"
   },
   {
    "duration": 6,
    "start_time": "2021-10-20T19:37:37.147Z"
   },
   {
    "duration": 49,
    "start_time": "2021-10-20T19:37:37.154Z"
   },
   {
    "duration": 376,
    "start_time": "2021-10-20T19:37:37.205Z"
   },
   {
    "duration": 9,
    "start_time": "2021-10-20T19:37:37.583Z"
   },
   {
    "duration": 571,
    "start_time": "2021-10-20T19:37:37.593Z"
   },
   {
    "duration": 5,
    "start_time": "2021-10-20T19:37:38.166Z"
   },
   {
    "duration": 18,
    "start_time": "2021-10-20T19:37:38.173Z"
   },
   {
    "duration": 217,
    "start_time": "2021-10-20T19:37:38.193Z"
   },
   {
    "duration": 214,
    "start_time": "2021-10-20T19:37:38.411Z"
   },
   {
    "duration": 12,
    "start_time": "2021-10-20T19:38:05.777Z"
   },
   {
    "duration": 9,
    "start_time": "2021-10-20T19:38:21.111Z"
   },
   {
    "duration": 1062,
    "start_time": "2021-10-20T19:38:31.198Z"
   },
   {
    "duration": 57,
    "start_time": "2021-10-20T19:38:32.262Z"
   },
   {
    "duration": 15,
    "start_time": "2021-10-20T19:38:32.324Z"
   },
   {
    "duration": 18,
    "start_time": "2021-10-20T19:38:32.340Z"
   },
   {
    "duration": 20,
    "start_time": "2021-10-20T19:38:32.360Z"
   },
   {
    "duration": 26,
    "start_time": "2021-10-20T19:38:32.381Z"
   },
   {
    "duration": 16,
    "start_time": "2021-10-20T19:38:32.409Z"
   },
   {
    "duration": 41,
    "start_time": "2021-10-20T19:38:32.427Z"
   },
   {
    "duration": 3,
    "start_time": "2021-10-20T19:38:32.470Z"
   },
   {
    "duration": 31,
    "start_time": "2021-10-20T19:38:32.475Z"
   },
   {
    "duration": 15,
    "start_time": "2021-10-20T19:38:32.507Z"
   },
   {
    "duration": 21,
    "start_time": "2021-10-20T19:38:32.523Z"
   },
   {
    "duration": 9,
    "start_time": "2021-10-20T19:38:32.546Z"
   },
   {
    "duration": 10,
    "start_time": "2021-10-20T19:38:32.556Z"
   },
   {
    "duration": 194,
    "start_time": "2021-10-20T19:38:32.568Z"
   },
   {
    "duration": 10,
    "start_time": "2021-10-20T19:38:32.764Z"
   },
   {
    "duration": 162,
    "start_time": "2021-10-20T19:38:32.776Z"
   },
   {
    "duration": 6,
    "start_time": "2021-10-20T19:38:32.939Z"
   },
   {
    "duration": 10,
    "start_time": "2021-10-20T19:38:32.946Z"
   },
   {
    "duration": 14,
    "start_time": "2021-10-20T19:38:32.958Z"
   },
   {
    "duration": 213,
    "start_time": "2021-10-20T19:38:32.973Z"
   },
   {
    "duration": 209,
    "start_time": "2021-10-20T19:38:33.190Z"
   },
   {
    "duration": 309,
    "start_time": "2021-10-20T19:38:33.401Z"
   },
   {
    "duration": 224,
    "start_time": "2021-10-20T19:38:33.711Z"
   },
   {
    "duration": 300,
    "start_time": "2021-10-20T19:38:33.936Z"
   },
   {
    "duration": 103,
    "start_time": "2021-10-20T19:38:34.238Z"
   },
   {
    "duration": 2,
    "start_time": "2021-10-20T19:38:34.343Z"
   },
   {
    "duration": 280,
    "start_time": "2021-10-20T19:38:34.347Z"
   },
   {
    "duration": 4,
    "start_time": "2021-10-20T19:38:34.629Z"
   },
   {
    "duration": 320,
    "start_time": "2021-10-20T19:38:34.634Z"
   },
   {
    "duration": 4,
    "start_time": "2021-10-20T19:38:34.956Z"
   },
   {
    "duration": 8,
    "start_time": "2021-10-20T19:38:34.961Z"
   },
   {
    "duration": 8,
    "start_time": "2021-10-20T19:38:34.971Z"
   },
   {
    "duration": 13,
    "start_time": "2021-10-20T19:38:34.980Z"
   },
   {
    "duration": 7,
    "start_time": "2021-10-20T19:38:34.994Z"
   },
   {
    "duration": 7,
    "start_time": "2021-10-20T19:38:35.003Z"
   },
   {
    "duration": 7,
    "start_time": "2021-10-20T19:38:35.012Z"
   },
   {
    "duration": 16,
    "start_time": "2021-10-20T19:38:35.020Z"
   },
   {
    "duration": 359,
    "start_time": "2021-10-20T19:38:35.038Z"
   },
   {
    "duration": 4,
    "start_time": "2021-10-20T19:38:35.399Z"
   },
   {
    "duration": 559,
    "start_time": "2021-10-20T19:38:35.405Z"
   },
   {
    "duration": 4,
    "start_time": "2021-10-20T19:38:35.966Z"
   },
   {
    "duration": 9,
    "start_time": "2021-10-20T19:38:35.971Z"
   },
   {
    "duration": 214,
    "start_time": "2021-10-20T19:38:35.991Z"
   },
   {
    "duration": 215,
    "start_time": "2021-10-20T19:38:36.206Z"
   },
   {
    "duration": 5,
    "start_time": "2021-10-20T19:41:43.568Z"
   },
   {
    "duration": 5,
    "start_time": "2021-10-20T19:42:08.810Z"
   },
   {
    "duration": 1082,
    "start_time": "2021-10-20T19:42:19.679Z"
   },
   {
    "duration": 58,
    "start_time": "2021-10-20T19:42:20.763Z"
   },
   {
    "duration": 13,
    "start_time": "2021-10-20T19:42:20.824Z"
   },
   {
    "duration": 8,
    "start_time": "2021-10-20T19:42:20.838Z"
   },
   {
    "duration": 6,
    "start_time": "2021-10-20T19:42:20.848Z"
   },
   {
    "duration": 11,
    "start_time": "2021-10-20T19:42:20.856Z"
   },
   {
    "duration": 7,
    "start_time": "2021-10-20T19:42:20.868Z"
   },
   {
    "duration": 17,
    "start_time": "2021-10-20T19:42:20.877Z"
   },
   {
    "duration": 4,
    "start_time": "2021-10-20T19:42:20.896Z"
   },
   {
    "duration": 15,
    "start_time": "2021-10-20T19:42:20.901Z"
   },
   {
    "duration": 10,
    "start_time": "2021-10-20T19:42:20.918Z"
   },
   {
    "duration": 14,
    "start_time": "2021-10-20T19:42:20.930Z"
   },
   {
    "duration": 11,
    "start_time": "2021-10-20T19:42:20.945Z"
   },
   {
    "duration": 10,
    "start_time": "2021-10-20T19:42:20.957Z"
   },
   {
    "duration": 210,
    "start_time": "2021-10-20T19:42:20.968Z"
   },
   {
    "duration": 17,
    "start_time": "2021-10-20T19:42:21.179Z"
   },
   {
    "duration": 155,
    "start_time": "2021-10-20T19:42:21.197Z"
   },
   {
    "duration": 6,
    "start_time": "2021-10-20T19:42:21.353Z"
   },
   {
    "duration": 12,
    "start_time": "2021-10-20T19:42:21.360Z"
   },
   {
    "duration": 10,
    "start_time": "2021-10-20T19:42:21.374Z"
   },
   {
    "duration": 211,
    "start_time": "2021-10-20T19:42:21.385Z"
   },
   {
    "duration": 214,
    "start_time": "2021-10-20T19:42:21.597Z"
   },
   {
    "duration": 299,
    "start_time": "2021-10-20T19:42:21.813Z"
   },
   {
    "duration": 218,
    "start_time": "2021-10-20T19:42:22.114Z"
   },
   {
    "duration": 300,
    "start_time": "2021-10-20T19:42:22.333Z"
   },
   {
    "duration": 102,
    "start_time": "2021-10-20T19:42:22.634Z"
   },
   {
    "duration": 3,
    "start_time": "2021-10-20T19:42:22.739Z"
   },
   {
    "duration": 269,
    "start_time": "2021-10-20T19:42:22.744Z"
   },
   {
    "duration": 3,
    "start_time": "2021-10-20T19:42:23.015Z"
   },
   {
    "duration": 344,
    "start_time": "2021-10-20T19:42:23.020Z"
   },
   {
    "duration": 3,
    "start_time": "2021-10-20T19:42:23.366Z"
   },
   {
    "duration": 10,
    "start_time": "2021-10-20T19:42:23.371Z"
   },
   {
    "duration": 14,
    "start_time": "2021-10-20T19:42:23.391Z"
   },
   {
    "duration": 16,
    "start_time": "2021-10-20T19:42:23.406Z"
   },
   {
    "duration": 361,
    "start_time": "2021-10-20T19:42:23.423Z"
   },
   {
    "duration": -38,
    "start_time": "2021-10-20T19:42:23.824Z"
   },
   {
    "duration": -60,
    "start_time": "2021-10-20T19:42:23.847Z"
   },
   {
    "duration": -64,
    "start_time": "2021-10-20T19:42:23.852Z"
   },
   {
    "duration": -66,
    "start_time": "2021-10-20T19:42:23.855Z"
   },
   {
    "duration": -69,
    "start_time": "2021-10-20T19:42:23.859Z"
   },
   {
    "duration": -79,
    "start_time": "2021-10-20T19:42:23.870Z"
   },
   {
    "duration": -86,
    "start_time": "2021-10-20T19:42:23.878Z"
   },
   {
    "duration": -89,
    "start_time": "2021-10-20T19:42:23.882Z"
   },
   {
    "duration": -92,
    "start_time": "2021-10-20T19:42:23.886Z"
   },
   {
    "duration": -98,
    "start_time": "2021-10-20T19:42:23.892Z"
   },
   {
    "duration": 5,
    "start_time": "2021-10-20T19:42:48.621Z"
   },
   {
    "duration": 1197,
    "start_time": "2021-10-20T19:43:09.276Z"
   },
   {
    "duration": 59,
    "start_time": "2021-10-20T19:43:10.475Z"
   },
   {
    "duration": 11,
    "start_time": "2021-10-20T19:43:10.536Z"
   },
   {
    "duration": 8,
    "start_time": "2021-10-20T19:43:10.549Z"
   },
   {
    "duration": 5,
    "start_time": "2021-10-20T19:43:10.559Z"
   },
   {
    "duration": 12,
    "start_time": "2021-10-20T19:43:10.565Z"
   },
   {
    "duration": 6,
    "start_time": "2021-10-20T19:43:10.579Z"
   },
   {
    "duration": 17,
    "start_time": "2021-10-20T19:43:10.587Z"
   },
   {
    "duration": 4,
    "start_time": "2021-10-20T19:43:10.606Z"
   },
   {
    "duration": 13,
    "start_time": "2021-10-20T19:43:10.612Z"
   },
   {
    "duration": 9,
    "start_time": "2021-10-20T19:43:10.626Z"
   },
   {
    "duration": 10,
    "start_time": "2021-10-20T19:43:10.637Z"
   },
   {
    "duration": 12,
    "start_time": "2021-10-20T19:43:10.648Z"
   },
   {
    "duration": 31,
    "start_time": "2021-10-20T19:43:10.661Z"
   },
   {
    "duration": 204,
    "start_time": "2021-10-20T19:43:10.694Z"
   },
   {
    "duration": 11,
    "start_time": "2021-10-20T19:43:10.900Z"
   },
   {
    "duration": 179,
    "start_time": "2021-10-20T19:43:10.912Z"
   },
   {
    "duration": 11,
    "start_time": "2021-10-20T19:43:11.093Z"
   },
   {
    "duration": 6,
    "start_time": "2021-10-20T19:43:11.106Z"
   },
   {
    "duration": 8,
    "start_time": "2021-10-20T19:43:11.114Z"
   },
   {
    "duration": 224,
    "start_time": "2021-10-20T19:43:11.124Z"
   },
   {
    "duration": 225,
    "start_time": "2021-10-20T19:43:11.349Z"
   },
   {
    "duration": 342,
    "start_time": "2021-10-20T19:43:11.577Z"
   },
   {
    "duration": 217,
    "start_time": "2021-10-20T19:43:11.921Z"
   },
   {
    "duration": 318,
    "start_time": "2021-10-20T19:43:12.139Z"
   },
   {
    "duration": 104,
    "start_time": "2021-10-20T19:43:12.458Z"
   },
   {
    "duration": 2,
    "start_time": "2021-10-20T19:43:12.564Z"
   },
   {
    "duration": 326,
    "start_time": "2021-10-20T19:43:12.568Z"
   },
   {
    "duration": 5,
    "start_time": "2021-10-20T19:43:12.895Z"
   },
   {
    "duration": 357,
    "start_time": "2021-10-20T19:43:12.901Z"
   },
   {
    "duration": 4,
    "start_time": "2021-10-20T19:43:13.260Z"
   },
   {
    "duration": 6,
    "start_time": "2021-10-20T19:43:13.266Z"
   },
   {
    "duration": 19,
    "start_time": "2021-10-20T19:43:13.273Z"
   },
   {
    "duration": 6,
    "start_time": "2021-10-20T19:43:13.294Z"
   },
   {
    "duration": 6,
    "start_time": "2021-10-20T19:43:13.302Z"
   },
   {
    "duration": 6,
    "start_time": "2021-10-20T19:43:13.309Z"
   },
   {
    "duration": 8,
    "start_time": "2021-10-20T19:43:13.317Z"
   },
   {
    "duration": 14,
    "start_time": "2021-10-20T19:43:13.326Z"
   },
   {
    "duration": 388,
    "start_time": "2021-10-20T19:43:13.342Z"
   },
   {
    "duration": 4,
    "start_time": "2021-10-20T19:43:13.732Z"
   },
   {
    "duration": 565,
    "start_time": "2021-10-20T19:43:13.738Z"
   },
   {
    "duration": 4,
    "start_time": "2021-10-20T19:43:14.305Z"
   },
   {
    "duration": 7,
    "start_time": "2021-10-20T19:43:14.311Z"
   },
   {
    "duration": 217,
    "start_time": "2021-10-20T19:43:14.320Z"
   },
   {
    "duration": 207,
    "start_time": "2021-10-20T19:43:14.538Z"
   },
   {
    "duration": 5,
    "start_time": "2021-10-20T19:46:16.347Z"
   },
   {
    "duration": 5,
    "start_time": "2021-10-20T19:46:21.272Z"
   },
   {
    "duration": 6,
    "start_time": "2021-10-20T19:47:01.132Z"
   },
   {
    "duration": 5,
    "start_time": "2021-10-20T19:47:04.516Z"
   },
   {
    "duration": 1077,
    "start_time": "2021-10-20T19:47:18.275Z"
   },
   {
    "duration": 58,
    "start_time": "2021-10-20T19:47:19.354Z"
   },
   {
    "duration": 11,
    "start_time": "2021-10-20T19:47:19.415Z"
   },
   {
    "duration": 8,
    "start_time": "2021-10-20T19:47:19.428Z"
   },
   {
    "duration": 7,
    "start_time": "2021-10-20T19:47:19.437Z"
   },
   {
    "duration": 10,
    "start_time": "2021-10-20T19:47:19.445Z"
   },
   {
    "duration": 5,
    "start_time": "2021-10-20T19:47:19.457Z"
   },
   {
    "duration": 17,
    "start_time": "2021-10-20T19:47:19.464Z"
   },
   {
    "duration": 3,
    "start_time": "2021-10-20T19:47:19.482Z"
   },
   {
    "duration": 15,
    "start_time": "2021-10-20T19:47:19.492Z"
   },
   {
    "duration": 6,
    "start_time": "2021-10-20T19:47:19.508Z"
   },
   {
    "duration": 15,
    "start_time": "2021-10-20T19:47:19.515Z"
   },
   {
    "duration": 10,
    "start_time": "2021-10-20T19:47:19.531Z"
   },
   {
    "duration": 7,
    "start_time": "2021-10-20T19:47:19.542Z"
   },
   {
    "duration": 215,
    "start_time": "2021-10-20T19:47:19.551Z"
   },
   {
    "duration": 9,
    "start_time": "2021-10-20T19:47:19.768Z"
   },
   {
    "duration": 164,
    "start_time": "2021-10-20T19:47:19.779Z"
   },
   {
    "duration": 6,
    "start_time": "2021-10-20T19:47:19.944Z"
   },
   {
    "duration": 13,
    "start_time": "2021-10-20T19:47:19.951Z"
   },
   {
    "duration": 14,
    "start_time": "2021-10-20T19:47:19.965Z"
   },
   {
    "duration": 249,
    "start_time": "2021-10-20T19:47:19.981Z"
   },
   {
    "duration": 223,
    "start_time": "2021-10-20T19:47:20.234Z"
   },
   {
    "duration": 334,
    "start_time": "2021-10-20T19:47:20.459Z"
   },
   {
    "duration": 231,
    "start_time": "2021-10-20T19:47:20.795Z"
   },
   {
    "duration": 311,
    "start_time": "2021-10-20T19:47:21.028Z"
   },
   {
    "duration": 110,
    "start_time": "2021-10-20T19:47:21.340Z"
   },
   {
    "duration": 4,
    "start_time": "2021-10-20T19:47:21.451Z"
   },
   {
    "duration": 338,
    "start_time": "2021-10-20T19:47:21.456Z"
   },
   {
    "duration": 4,
    "start_time": "2021-10-20T19:47:21.796Z"
   },
   {
    "duration": 362,
    "start_time": "2021-10-20T19:47:21.801Z"
   },
   {
    "duration": 4,
    "start_time": "2021-10-20T19:47:22.165Z"
   },
   {
    "duration": 8,
    "start_time": "2021-10-20T19:47:22.171Z"
   },
   {
    "duration": 4,
    "start_time": "2021-10-20T19:47:22.191Z"
   },
   {
    "duration": 8,
    "start_time": "2021-10-20T19:47:22.197Z"
   },
   {
    "duration": 8,
    "start_time": "2021-10-20T19:47:22.206Z"
   },
   {
    "duration": 7,
    "start_time": "2021-10-20T19:47:22.215Z"
   },
   {
    "duration": 7,
    "start_time": "2021-10-20T19:47:22.223Z"
   },
   {
    "duration": 21,
    "start_time": "2021-10-20T19:47:22.232Z"
   },
   {
    "duration": 380,
    "start_time": "2021-10-20T19:47:22.255Z"
   },
   {
    "duration": 5,
    "start_time": "2021-10-20T19:47:22.637Z"
   },
   {
    "duration": 568,
    "start_time": "2021-10-20T19:47:22.643Z"
   },
   {
    "duration": 4,
    "start_time": "2021-10-20T19:47:23.212Z"
   },
   {
    "duration": 7,
    "start_time": "2021-10-20T19:47:23.218Z"
   },
   {
    "duration": 225,
    "start_time": "2021-10-20T19:47:23.226Z"
   },
   {
    "duration": 219,
    "start_time": "2021-10-20T19:47:23.452Z"
   },
   {
    "duration": 4,
    "start_time": "2021-10-20T19:49:30.781Z"
   },
   {
    "duration": 4,
    "start_time": "2021-10-20T19:49:40.321Z"
   },
   {
    "duration": 5,
    "start_time": "2021-10-20T19:51:54.265Z"
   },
   {
    "duration": 5,
    "start_time": "2021-10-20T19:52:03.704Z"
   },
   {
    "duration": 303,
    "start_time": "2021-10-20T19:55:19.376Z"
   },
   {
    "duration": 217,
    "start_time": "2021-10-20T19:55:45.883Z"
   },
   {
    "duration": 5,
    "start_time": "2021-10-20T19:56:18.633Z"
   },
   {
    "duration": 332,
    "start_time": "2021-10-20T19:56:53.970Z"
   },
   {
    "duration": 5,
    "start_time": "2021-10-20T19:57:12.450Z"
   },
   {
    "duration": 197,
    "start_time": "2021-10-20T19:57:27.439Z"
   },
   {
    "duration": 343,
    "start_time": "2021-10-20T19:57:35.829Z"
   },
   {
    "duration": 6,
    "start_time": "2021-10-20T19:57:41.194Z"
   },
   {
    "duration": 216,
    "start_time": "2021-10-20T19:57:51.165Z"
   },
   {
    "duration": 5,
    "start_time": "2021-10-20T19:57:57.295Z"
   },
   {
    "duration": 5,
    "start_time": "2021-10-20T19:58:27.072Z"
   },
   {
    "duration": 5,
    "start_time": "2021-10-20T19:58:50.982Z"
   },
   {
    "duration": 5,
    "start_time": "2021-10-20T19:58:57.269Z"
   },
   {
    "duration": 6,
    "start_time": "2021-10-20T19:59:42.146Z"
   },
   {
    "duration": 4,
    "start_time": "2021-10-20T20:00:00.912Z"
   },
   {
    "duration": 5,
    "start_time": "2021-10-20T20:05:24.869Z"
   },
   {
    "duration": 5,
    "start_time": "2021-10-20T20:05:35.948Z"
   },
   {
    "duration": 5,
    "start_time": "2021-10-20T20:05:59.536Z"
   },
   {
    "duration": 4,
    "start_time": "2021-10-20T20:07:05.425Z"
   },
   {
    "duration": 5,
    "start_time": "2021-10-20T20:07:36.012Z"
   },
   {
    "duration": 64,
    "start_time": "2021-10-20T20:10:45.743Z"
   },
   {
    "duration": 14,
    "start_time": "2021-10-20T20:10:51.010Z"
   },
   {
    "duration": 11,
    "start_time": "2021-10-20T20:11:11.901Z"
   },
   {
    "duration": 13,
    "start_time": "2021-10-20T20:11:43.345Z"
   },
   {
    "duration": 7,
    "start_time": "2021-10-20T20:12:20.336Z"
   },
   {
    "duration": 7,
    "start_time": "2021-10-20T20:12:29.761Z"
   },
   {
    "duration": 8,
    "start_time": "2021-10-20T20:13:11.750Z"
   },
   {
    "duration": 8,
    "start_time": "2021-10-20T20:15:06.740Z"
   },
   {
    "duration": 7,
    "start_time": "2021-10-20T20:18:20.731Z"
   },
   {
    "duration": 6,
    "start_time": "2021-10-20T20:19:05.699Z"
   },
   {
    "duration": 7,
    "start_time": "2021-10-20T20:19:33.058Z"
   },
   {
    "duration": 67,
    "start_time": "2021-10-20T20:19:58.826Z"
   },
   {
    "duration": 65,
    "start_time": "2021-10-20T20:20:59.022Z"
   },
   {
    "duration": 1062,
    "start_time": "2021-10-20T20:21:32.790Z"
   },
   {
    "duration": 102,
    "start_time": "2021-10-20T20:21:33.854Z"
   },
   {
    "duration": 14,
    "start_time": "2021-10-20T20:21:33.958Z"
   },
   {
    "duration": 7,
    "start_time": "2021-10-20T20:21:33.974Z"
   },
   {
    "duration": 4,
    "start_time": "2021-10-20T20:21:33.983Z"
   },
   {
    "duration": 10,
    "start_time": "2021-10-20T20:21:33.989Z"
   },
   {
    "duration": 8,
    "start_time": "2021-10-20T20:21:34.000Z"
   },
   {
    "duration": 16,
    "start_time": "2021-10-20T20:21:34.010Z"
   },
   {
    "duration": 4,
    "start_time": "2021-10-20T20:21:34.029Z"
   },
   {
    "duration": 12,
    "start_time": "2021-10-20T20:21:34.035Z"
   },
   {
    "duration": 8,
    "start_time": "2021-10-20T20:21:34.048Z"
   },
   {
    "duration": 48,
    "start_time": "2021-10-20T20:21:34.058Z"
   },
   {
    "duration": 12,
    "start_time": "2021-10-20T20:21:34.107Z"
   },
   {
    "duration": 9,
    "start_time": "2021-10-20T20:21:34.121Z"
   },
   {
    "duration": 213,
    "start_time": "2021-10-20T20:21:34.132Z"
   },
   {
    "duration": 12,
    "start_time": "2021-10-20T20:21:34.346Z"
   },
   {
    "duration": 170,
    "start_time": "2021-10-20T20:21:34.359Z"
   },
   {
    "duration": 7,
    "start_time": "2021-10-20T20:21:34.531Z"
   },
   {
    "duration": 9,
    "start_time": "2021-10-20T20:21:34.540Z"
   },
   {
    "duration": 12,
    "start_time": "2021-10-20T20:21:34.550Z"
   },
   {
    "duration": 219,
    "start_time": "2021-10-20T20:21:34.564Z"
   },
   {
    "duration": 215,
    "start_time": "2021-10-20T20:21:34.785Z"
   },
   {
    "duration": 307,
    "start_time": "2021-10-20T20:21:35.003Z"
   },
   {
    "duration": 210,
    "start_time": "2021-10-20T20:21:35.312Z"
   },
   {
    "duration": 312,
    "start_time": "2021-10-20T20:21:35.524Z"
   },
   {
    "duration": 105,
    "start_time": "2021-10-20T20:21:35.838Z"
   },
   {
    "duration": 3,
    "start_time": "2021-10-20T20:21:35.945Z"
   },
   {
    "duration": 275,
    "start_time": "2021-10-20T20:21:35.949Z"
   },
   {
    "duration": 4,
    "start_time": "2021-10-20T20:21:36.226Z"
   },
   {
    "duration": 328,
    "start_time": "2021-10-20T20:21:36.231Z"
   },
   {
    "duration": 5,
    "start_time": "2021-10-20T20:21:36.561Z"
   },
   {
    "duration": 11,
    "start_time": "2021-10-20T20:21:36.568Z"
   },
   {
    "duration": 6,
    "start_time": "2021-10-20T20:21:36.591Z"
   },
   {
    "duration": 11,
    "start_time": "2021-10-20T20:21:36.599Z"
   },
   {
    "duration": 6,
    "start_time": "2021-10-20T20:21:36.612Z"
   },
   {
    "duration": 6,
    "start_time": "2021-10-20T20:21:36.619Z"
   },
   {
    "duration": 7,
    "start_time": "2021-10-20T20:21:36.627Z"
   },
   {
    "duration": 15,
    "start_time": "2021-10-20T20:21:36.635Z"
   },
   {
    "duration": 374,
    "start_time": "2021-10-20T20:21:36.652Z"
   },
   {
    "duration": 6,
    "start_time": "2021-10-20T20:21:37.028Z"
   },
   {
    "duration": 576,
    "start_time": "2021-10-20T20:21:37.035Z"
   },
   {
    "duration": 5,
    "start_time": "2021-10-20T20:21:37.613Z"
   },
   {
    "duration": 9,
    "start_time": "2021-10-20T20:21:37.620Z"
   },
   {
    "duration": 224,
    "start_time": "2021-10-20T20:21:37.631Z"
   },
   {
    "duration": 213,
    "start_time": "2021-10-20T20:21:37.857Z"
   },
   {
    "duration": 177,
    "start_time": "2021-10-20T20:21:38.073Z"
   },
   {
    "duration": 64,
    "start_time": "2021-10-20T20:25:42.298Z"
   },
   {
    "duration": 8,
    "start_time": "2021-10-20T20:25:52.347Z"
   },
   {
    "duration": 74,
    "start_time": "2021-10-20T20:26:48.599Z"
   },
   {
    "duration": 96,
    "start_time": "2021-10-20T20:26:54.042Z"
   },
   {
    "duration": 64,
    "start_time": "2021-10-20T20:26:57.844Z"
   },
   {
    "duration": 7,
    "start_time": "2021-10-20T20:27:25.496Z"
   },
   {
    "duration": 7,
    "start_time": "2021-10-20T20:32:38.494Z"
   },
   {
    "duration": 261,
    "start_time": "2021-10-20T20:34:06.478Z"
   },
   {
    "duration": 259,
    "start_time": "2021-10-20T20:34:12.450Z"
   },
   {
    "duration": 184,
    "start_time": "2021-10-20T20:35:28.139Z"
   },
   {
    "duration": 186,
    "start_time": "2021-10-20T20:35:35.002Z"
   },
   {
    "duration": 259,
    "start_time": "2021-10-20T20:35:43.077Z"
   },
   {
    "duration": 8,
    "start_time": "2021-10-20T20:35:48.468Z"
   },
   {
    "duration": 439,
    "start_time": "2021-10-20T20:36:03.271Z"
   },
   {
    "duration": 7,
    "start_time": "2021-10-20T20:36:08.420Z"
   },
   {
    "duration": 240,
    "start_time": "2021-10-20T20:38:49.270Z"
   },
   {
    "duration": 212,
    "start_time": "2021-10-20T20:39:22.523Z"
   },
   {
    "duration": 333,
    "start_time": "2021-10-20T20:39:59.404Z"
   },
   {
    "duration": 224,
    "start_time": "2021-10-20T20:40:19.155Z"
   },
   {
    "duration": 343,
    "start_time": "2021-10-20T20:41:02.961Z"
   },
   {
    "duration": 279,
    "start_time": "2021-10-20T20:42:02.554Z"
   },
   {
    "duration": 379,
    "start_time": "2021-10-20T20:42:27.170Z"
   },
   {
    "duration": 351,
    "start_time": "2021-10-20T20:42:38.308Z"
   },
   {
    "duration": 1006,
    "start_time": "2021-10-20T20:42:43.364Z"
   },
   {
    "duration": 102,
    "start_time": "2021-10-20T20:42:44.372Z"
   },
   {
    "duration": 11,
    "start_time": "2021-10-20T20:42:44.476Z"
   },
   {
    "duration": 6,
    "start_time": "2021-10-20T20:42:44.489Z"
   },
   {
    "duration": 7,
    "start_time": "2021-10-20T20:42:44.497Z"
   },
   {
    "duration": 11,
    "start_time": "2021-10-20T20:42:44.505Z"
   },
   {
    "duration": 5,
    "start_time": "2021-10-20T20:42:44.518Z"
   },
   {
    "duration": 14,
    "start_time": "2021-10-20T20:42:44.526Z"
   },
   {
    "duration": 4,
    "start_time": "2021-10-20T20:42:44.542Z"
   },
   {
    "duration": 13,
    "start_time": "2021-10-20T20:42:44.547Z"
   },
   {
    "duration": 7,
    "start_time": "2021-10-20T20:42:44.561Z"
   },
   {
    "duration": 9,
    "start_time": "2021-10-20T20:42:44.591Z"
   },
   {
    "duration": 10,
    "start_time": "2021-10-20T20:42:44.602Z"
   },
   {
    "duration": 9,
    "start_time": "2021-10-20T20:42:44.614Z"
   },
   {
    "duration": 218,
    "start_time": "2021-10-20T20:42:44.625Z"
   },
   {
    "duration": 11,
    "start_time": "2021-10-20T20:42:44.845Z"
   },
   {
    "duration": 163,
    "start_time": "2021-10-20T20:42:44.858Z"
   },
   {
    "duration": 6,
    "start_time": "2021-10-20T20:42:45.023Z"
   },
   {
    "duration": 6,
    "start_time": "2021-10-20T20:42:45.031Z"
   },
   {
    "duration": 11,
    "start_time": "2021-10-20T20:42:45.038Z"
   },
   {
    "duration": 233,
    "start_time": "2021-10-20T20:42:45.051Z"
   },
   {
    "duration": 234,
    "start_time": "2021-10-20T20:42:45.286Z"
   },
   {
    "duration": 296,
    "start_time": "2021-10-20T20:42:45.524Z"
   },
   {
    "duration": 222,
    "start_time": "2021-10-20T20:42:45.823Z"
   },
   {
    "duration": 334,
    "start_time": "2021-10-20T20:42:46.047Z"
   },
   {
    "duration": 111,
    "start_time": "2021-10-20T20:42:46.383Z"
   },
   {
    "duration": 3,
    "start_time": "2021-10-20T20:42:46.495Z"
   },
   {
    "duration": 333,
    "start_time": "2021-10-20T20:42:46.500Z"
   },
   {
    "duration": 5,
    "start_time": "2021-10-20T20:42:46.835Z"
   },
   {
    "duration": 337,
    "start_time": "2021-10-20T20:42:46.841Z"
   },
   {
    "duration": 11,
    "start_time": "2021-10-20T20:42:47.180Z"
   },
   {
    "duration": 6,
    "start_time": "2021-10-20T20:42:47.193Z"
   },
   {
    "duration": 8,
    "start_time": "2021-10-20T20:42:47.201Z"
   },
   {
    "duration": 6,
    "start_time": "2021-10-20T20:42:47.210Z"
   },
   {
    "duration": 7,
    "start_time": "2021-10-20T20:42:47.218Z"
   },
   {
    "duration": 13,
    "start_time": "2021-10-20T20:42:47.226Z"
   },
   {
    "duration": 7,
    "start_time": "2021-10-20T20:42:47.240Z"
   },
   {
    "duration": 15,
    "start_time": "2021-10-20T20:42:47.248Z"
   },
   {
    "duration": 385,
    "start_time": "2021-10-20T20:42:47.264Z"
   },
   {
    "duration": 6,
    "start_time": "2021-10-20T20:42:47.650Z"
   },
   {
    "duration": 581,
    "start_time": "2021-10-20T20:42:47.657Z"
   },
   {
    "duration": 5,
    "start_time": "2021-10-20T20:42:48.240Z"
   },
   {
    "duration": 25,
    "start_time": "2021-10-20T20:42:48.246Z"
   },
   {
    "duration": 214,
    "start_time": "2021-10-20T20:42:48.272Z"
   },
   {
    "duration": 204,
    "start_time": "2021-10-20T20:42:48.491Z"
   },
   {
    "duration": 6,
    "start_time": "2021-10-20T20:42:48.697Z"
   },
   {
    "duration": 496,
    "start_time": "2021-10-20T20:43:59.223Z"
   },
   {
    "duration": 518,
    "start_time": "2021-10-20T20:44:18.013Z"
   },
   {
    "duration": 502,
    "start_time": "2021-10-20T20:44:34.336Z"
   },
   {
    "duration": 216,
    "start_time": "2021-10-20T20:45:08.977Z"
   },
   {
    "duration": 209,
    "start_time": "2021-10-20T20:45:33.184Z"
   },
   {
    "duration": 312,
    "start_time": "2021-10-20T20:47:33.065Z"
   },
   {
    "duration": 222,
    "start_time": "2021-10-20T20:48:02.632Z"
   },
   {
    "duration": 304,
    "start_time": "2021-10-20T20:49:34.760Z"
   },
   {
    "duration": 222,
    "start_time": "2021-10-20T20:50:00.107Z"
   },
   {
    "duration": 351,
    "start_time": "2021-10-20T20:50:16.180Z"
   },
   {
    "duration": 322,
    "start_time": "2021-10-20T20:54:08.174Z"
   },
   {
    "duration": 373,
    "start_time": "2021-10-20T20:55:02.684Z"
   },
   {
    "duration": 1044,
    "start_time": "2021-10-20T20:55:14.622Z"
   },
   {
    "duration": 95,
    "start_time": "2021-10-20T20:55:15.668Z"
   },
   {
    "duration": 10,
    "start_time": "2021-10-20T20:55:15.765Z"
   },
   {
    "duration": 13,
    "start_time": "2021-10-20T20:55:15.777Z"
   },
   {
    "duration": 7,
    "start_time": "2021-10-20T20:55:15.792Z"
   },
   {
    "duration": 19,
    "start_time": "2021-10-20T20:55:15.801Z"
   },
   {
    "duration": 6,
    "start_time": "2021-10-20T20:55:15.821Z"
   },
   {
    "duration": 16,
    "start_time": "2021-10-20T20:55:15.829Z"
   },
   {
    "duration": 4,
    "start_time": "2021-10-20T20:55:15.846Z"
   },
   {
    "duration": 12,
    "start_time": "2021-10-20T20:55:15.852Z"
   },
   {
    "duration": 7,
    "start_time": "2021-10-20T20:55:15.865Z"
   },
   {
    "duration": 25,
    "start_time": "2021-10-20T20:55:15.874Z"
   },
   {
    "duration": 13,
    "start_time": "2021-10-20T20:55:15.900Z"
   },
   {
    "duration": 9,
    "start_time": "2021-10-20T20:55:15.914Z"
   },
   {
    "duration": 211,
    "start_time": "2021-10-20T20:55:15.924Z"
   },
   {
    "duration": 10,
    "start_time": "2021-10-20T20:55:16.137Z"
   },
   {
    "duration": 175,
    "start_time": "2021-10-20T20:55:16.149Z"
   },
   {
    "duration": 6,
    "start_time": "2021-10-20T20:55:16.325Z"
   },
   {
    "duration": 6,
    "start_time": "2021-10-20T20:55:16.332Z"
   },
   {
    "duration": 8,
    "start_time": "2021-10-20T20:55:16.340Z"
   },
   {
    "duration": 232,
    "start_time": "2021-10-20T20:55:16.349Z"
   },
   {
    "duration": 223,
    "start_time": "2021-10-20T20:55:16.583Z"
   },
   {
    "duration": 312,
    "start_time": "2021-10-20T20:55:16.809Z"
   },
   {
    "duration": 230,
    "start_time": "2021-10-20T20:55:17.123Z"
   },
   {
    "duration": 366,
    "start_time": "2021-10-20T20:55:17.355Z"
   },
   {
    "duration": 103,
    "start_time": "2021-10-20T20:55:17.723Z"
   },
   {
    "duration": 2,
    "start_time": "2021-10-20T20:55:17.828Z"
   },
   {
    "duration": 310,
    "start_time": "2021-10-20T20:55:17.832Z"
   },
   {
    "duration": 4,
    "start_time": "2021-10-20T20:55:18.144Z"
   },
   {
    "duration": 360,
    "start_time": "2021-10-20T20:55:18.149Z"
   },
   {
    "duration": 4,
    "start_time": "2021-10-20T20:55:18.511Z"
   },
   {
    "duration": 10,
    "start_time": "2021-10-20T20:55:18.516Z"
   },
   {
    "duration": 12,
    "start_time": "2021-10-20T20:55:18.527Z"
   },
   {
    "duration": 6,
    "start_time": "2021-10-20T20:55:18.540Z"
   },
   {
    "duration": 6,
    "start_time": "2021-10-20T20:55:18.548Z"
   },
   {
    "duration": 6,
    "start_time": "2021-10-20T20:55:18.555Z"
   },
   {
    "duration": 6,
    "start_time": "2021-10-20T20:55:18.563Z"
   },
   {
    "duration": 15,
    "start_time": "2021-10-20T20:55:18.571Z"
   },
   {
    "duration": 353,
    "start_time": "2021-10-20T20:55:18.587Z"
   },
   {
    "duration": 54,
    "start_time": "2021-10-20T20:55:18.941Z"
   },
   {
    "duration": 643,
    "start_time": "2021-10-20T20:55:18.997Z"
   },
   {
    "duration": 5,
    "start_time": "2021-10-20T20:55:19.641Z"
   },
   {
    "duration": 10,
    "start_time": "2021-10-20T20:55:19.647Z"
   },
   {
    "duration": 219,
    "start_time": "2021-10-20T20:55:19.659Z"
   },
   {
    "duration": 227,
    "start_time": "2021-10-20T20:55:19.880Z"
   },
   {
    "duration": 7,
    "start_time": "2021-10-20T20:55:20.109Z"
   },
   {
    "duration": 5,
    "start_time": "2021-10-20T21:00:55.696Z"
   },
   {
    "duration": 5,
    "start_time": "2021-10-20T21:00:58.197Z"
   },
   {
    "duration": 1154,
    "start_time": "2021-10-20T21:03:10.312Z"
   },
   {
    "duration": 98,
    "start_time": "2021-10-20T21:03:11.468Z"
   },
   {
    "duration": 13,
    "start_time": "2021-10-20T21:03:11.568Z"
   },
   {
    "duration": 9,
    "start_time": "2021-10-20T21:03:11.583Z"
   },
   {
    "duration": 8,
    "start_time": "2021-10-20T21:03:11.594Z"
   },
   {
    "duration": 10,
    "start_time": "2021-10-20T21:03:11.603Z"
   },
   {
    "duration": 7,
    "start_time": "2021-10-20T21:03:11.615Z"
   },
   {
    "duration": 17,
    "start_time": "2021-10-20T21:03:11.625Z"
   },
   {
    "duration": 5,
    "start_time": "2021-10-20T21:03:11.644Z"
   },
   {
    "duration": 15,
    "start_time": "2021-10-20T21:03:11.650Z"
   },
   {
    "duration": 7,
    "start_time": "2021-10-20T21:03:11.690Z"
   },
   {
    "duration": 13,
    "start_time": "2021-10-20T21:03:11.699Z"
   },
   {
    "duration": 16,
    "start_time": "2021-10-20T21:03:11.713Z"
   },
   {
    "duration": 8,
    "start_time": "2021-10-20T21:03:11.731Z"
   },
   {
    "duration": 222,
    "start_time": "2021-10-20T21:03:11.740Z"
   },
   {
    "duration": 11,
    "start_time": "2021-10-20T21:03:11.964Z"
   },
   {
    "duration": 175,
    "start_time": "2021-10-20T21:03:11.977Z"
   },
   {
    "duration": 5,
    "start_time": "2021-10-20T21:03:12.154Z"
   },
   {
    "duration": 11,
    "start_time": "2021-10-20T21:03:12.161Z"
   },
   {
    "duration": 11,
    "start_time": "2021-10-20T21:03:12.173Z"
   },
   {
    "duration": 242,
    "start_time": "2021-10-20T21:03:12.185Z"
   },
   {
    "duration": 233,
    "start_time": "2021-10-20T21:03:12.429Z"
   },
   {
    "duration": 340,
    "start_time": "2021-10-20T21:03:12.665Z"
   },
   {
    "duration": 247,
    "start_time": "2021-10-20T21:03:13.006Z"
   },
   {
    "duration": 367,
    "start_time": "2021-10-20T21:03:13.254Z"
   },
   {
    "duration": 110,
    "start_time": "2021-10-20T21:03:13.622Z"
   },
   {
    "duration": 3,
    "start_time": "2021-10-20T21:03:13.733Z"
   },
   {
    "duration": 297,
    "start_time": "2021-10-20T21:03:13.738Z"
   },
   {
    "duration": 4,
    "start_time": "2021-10-20T21:03:14.037Z"
   },
   {
    "duration": 349,
    "start_time": "2021-10-20T21:03:14.042Z"
   },
   {
    "duration": 4,
    "start_time": "2021-10-20T21:03:14.392Z"
   },
   {
    "duration": 7,
    "start_time": "2021-10-20T21:03:14.398Z"
   },
   {
    "duration": 6,
    "start_time": "2021-10-20T21:03:14.407Z"
   },
   {
    "duration": 7,
    "start_time": "2021-10-20T21:03:14.414Z"
   },
   {
    "duration": 6,
    "start_time": "2021-10-20T21:03:14.423Z"
   },
   {
    "duration": 8,
    "start_time": "2021-10-20T21:03:14.431Z"
   },
   {
    "duration": 8,
    "start_time": "2021-10-20T21:03:14.441Z"
   },
   {
    "duration": 45,
    "start_time": "2021-10-20T21:03:14.451Z"
   },
   {
    "duration": 373,
    "start_time": "2021-10-20T21:03:14.499Z"
   },
   {
    "duration": 5,
    "start_time": "2021-10-20T21:03:14.874Z"
   },
   {
    "duration": 594,
    "start_time": "2021-10-20T21:03:14.891Z"
   },
   {
    "duration": 8,
    "start_time": "2021-10-20T21:03:15.486Z"
   },
   {
    "duration": 8,
    "start_time": "2021-10-20T21:03:15.496Z"
   },
   {
    "duration": 230,
    "start_time": "2021-10-20T21:03:15.506Z"
   },
   {
    "duration": 220,
    "start_time": "2021-10-20T21:03:15.737Z"
   },
   {
    "duration": 7,
    "start_time": "2021-10-20T21:03:15.959Z"
   },
   {
    "duration": 1381,
    "start_time": "2021-10-21T08:45:55.102Z"
   },
   {
    "duration": 83,
    "start_time": "2021-10-21T08:45:56.485Z"
   },
   {
    "duration": 18,
    "start_time": "2021-10-21T08:45:56.571Z"
   },
   {
    "duration": 13,
    "start_time": "2021-10-21T08:45:56.592Z"
   },
   {
    "duration": 11,
    "start_time": "2021-10-21T08:45:56.607Z"
   },
   {
    "duration": 21,
    "start_time": "2021-10-21T08:45:56.620Z"
   },
   {
    "duration": 14,
    "start_time": "2021-10-21T08:45:56.643Z"
   },
   {
    "duration": 32,
    "start_time": "2021-10-21T08:45:56.661Z"
   },
   {
    "duration": 5,
    "start_time": "2021-10-21T08:45:56.696Z"
   },
   {
    "duration": 24,
    "start_time": "2021-10-21T08:45:56.705Z"
   },
   {
    "duration": 8,
    "start_time": "2021-10-21T08:45:56.732Z"
   },
   {
    "duration": 25,
    "start_time": "2021-10-21T08:45:56.742Z"
   },
   {
    "duration": 17,
    "start_time": "2021-10-21T08:45:56.771Z"
   },
   {
    "duration": 39,
    "start_time": "2021-10-21T08:45:56.790Z"
   },
   {
    "duration": 348,
    "start_time": "2021-10-21T08:45:56.832Z"
   },
   {
    "duration": 14,
    "start_time": "2021-10-21T08:45:57.182Z"
   },
   {
    "duration": 293,
    "start_time": "2021-10-21T08:45:57.198Z"
   },
   {
    "duration": 8,
    "start_time": "2021-10-21T08:45:57.493Z"
   },
   {
    "duration": 18,
    "start_time": "2021-10-21T08:45:57.504Z"
   },
   {
    "duration": 15,
    "start_time": "2021-10-21T08:45:57.525Z"
   },
   {
    "duration": 382,
    "start_time": "2021-10-21T08:45:57.543Z"
   },
   {
    "duration": 390,
    "start_time": "2021-10-21T08:45:57.928Z"
   },
   {
    "duration": 452,
    "start_time": "2021-10-21T08:45:58.325Z"
   },
   {
    "duration": 475,
    "start_time": "2021-10-21T08:45:58.779Z"
   },
   {
    "duration": 456,
    "start_time": "2021-10-21T08:45:59.257Z"
   },
   {
    "duration": 194,
    "start_time": "2021-10-21T08:45:59.716Z"
   },
   {
    "duration": 10,
    "start_time": "2021-10-21T08:45:59.912Z"
   },
   {
    "duration": 419,
    "start_time": "2021-10-21T08:45:59.925Z"
   },
   {
    "duration": 6,
    "start_time": "2021-10-21T08:46:00.346Z"
   },
   {
    "duration": 517,
    "start_time": "2021-10-21T08:46:00.355Z"
   },
   {
    "duration": 6,
    "start_time": "2021-10-21T08:46:00.874Z"
   },
   {
    "duration": 21,
    "start_time": "2021-10-21T08:46:00.883Z"
   },
   {
    "duration": 17,
    "start_time": "2021-10-21T08:46:00.924Z"
   },
   {
    "duration": 27,
    "start_time": "2021-10-21T08:46:00.944Z"
   },
   {
    "duration": 20,
    "start_time": "2021-10-21T08:46:00.974Z"
   },
   {
    "duration": 32,
    "start_time": "2021-10-21T08:46:00.997Z"
   },
   {
    "duration": 32,
    "start_time": "2021-10-21T08:46:01.032Z"
   },
   {
    "duration": 47,
    "start_time": "2021-10-21T08:46:01.066Z"
   },
   {
    "duration": 622,
    "start_time": "2021-10-21T08:46:01.116Z"
   },
   {
    "duration": 9,
    "start_time": "2021-10-21T08:46:01.740Z"
   },
   {
    "duration": 934,
    "start_time": "2021-10-21T08:46:01.752Z"
   },
   {
    "duration": 8,
    "start_time": "2021-10-21T08:46:02.689Z"
   },
   {
    "duration": 26,
    "start_time": "2021-10-21T08:46:02.699Z"
   },
   {
    "duration": 373,
    "start_time": "2021-10-21T08:46:02.728Z"
   },
   {
    "duration": 346,
    "start_time": "2021-10-21T08:46:03.103Z"
   },
   {
    "duration": 10,
    "start_time": "2021-10-21T08:46:03.451Z"
   }
  ],
  "kernelspec": {
   "display_name": "Python 3",
   "language": "python",
   "name": "python3"
  },
  "language_info": {
   "codemirror_mode": {
    "name": "ipython",
    "version": 3
   },
   "file_extension": ".py",
   "mimetype": "text/x-python",
   "name": "python",
   "nbconvert_exporter": "python",
   "pygments_lexer": "ipython3",
   "version": "3.8.8"
  },
  "toc": {
   "base_numbering": 1,
   "nav_menu": {},
   "number_sections": true,
   "sideBar": true,
   "skip_h1_title": true,
   "title_cell": "Table of Contents",
   "title_sidebar": "Contents",
   "toc_cell": false,
   "toc_position": {},
   "toc_section_display": true,
   "toc_window_display": false
  }
 },
 "nbformat": 4,
 "nbformat_minor": 2
}
