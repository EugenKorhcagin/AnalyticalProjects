{
 "cells": [
  {
   "cell_type": "markdown",
   "metadata": {},
   "source": [
    "<h1>Содержание проекта по статистическому анализу данных<span class=\"tocSkip\"></span></h1>\n",
    "<div class=\"toc\"><ul class=\"toc-item\"><li><span><a href=\"#Изучение-данных-из-файла\" data-toc-modified-id=\"Изучение-данных-из-файла-1\"><span class=\"toc-item-num\">1&nbsp;&nbsp;</span>Изучение данных из файла</a></span><ul class=\"toc-item\"><li><span><a href=\"#Вывод\" data-toc-modified-id=\"Вывод-1.1\"><span class=\"toc-item-num\">1.1&nbsp;&nbsp;</span>Вывод</a></span></li></ul></li><li><span><a href=\"#Предобработка-данных\" data-toc-modified-id=\"Предобработка-данных-2\"><span class=\"toc-item-num\">2&nbsp;&nbsp;</span>Предобработка данных</a></span></li><li><span><a href=\"#Расчёты-и-добавление-результатов-в-таблицу\" data-toc-modified-id=\"Расчёты-и-добавление-результатов-в-таблицу-3\"><span class=\"toc-item-num\">3&nbsp;&nbsp;</span>Расчёты и добавление результатов в таблицу</a></span></li><li><span><a href=\"#Исследовательский-анализ-данных\" data-toc-modified-id=\"Исследовательский-анализ-данных-4\"><span class=\"toc-item-num\">4&nbsp;&nbsp;</span>Исследовательский анализ данных</a></span></li><li><span><a href=\"#Выдвижение-и-проверка-гипотез\" data-toc-modified-id=\"Выдвижение-и-проверка-гипотез-5\"><span class=\"toc-item-num\">5&nbsp;&nbsp;</span>Выдвижение и проверка гипотез</a></span></li><li><span><a href=\"#Общий-вывод\" data-toc-modified-id=\"Общий-вывод-6\"><span class=\"toc-item-num\">6&nbsp;&nbsp;</span>Общий вывод</a></span></li><li><span><a href=\"#Чек-лист-готовности-проекта\" data-toc-modified-id=\"Чек-лист-готовности-проекта-7\"><span class=\"toc-item-num\">7&nbsp;&nbsp;</span>Чек-лист готовности проекта</a></span></li></ul></div>\n"
   ]
  },
  {
   "cell_type": "markdown",
   "metadata": {},
   "source": [
    "# Исследование "
   ]
  },
  {
   "cell_type": "markdown",
   "metadata": {},
   "source": [
    "Исследование состоит в поиске наиболее прибыльного тарифа для телефонной компании \"Мегалайн\" в целях корректировки рекламного бюджета. \n",
    "- Цель исследования: корректировка рекламного бюджета в соответствии с прибыльностью тарифов\n",
    "- Задача: проанализировать поведение клиентов и сделать вывод — какой тариф предпочтительнее (как объект рекламы).\n",
    "- Методы:  исследовательский анализ,статистический анализ\n",
    "- Данные: тарифные планы для анализа: **«Смарт» и «Ультра»**, данные 500 пользователей «Мегалайна» с признаками: кто они, откуда, каким тарифом пользуются, сколько звонков и сообщений каждый отправил за 2018 год. \n",
    "\n",
    "датасеты:\n",
    "- /datasets/calls.csv -  информация о звонках\n",
    "- /datasets/internet.csv - информация об интернет-сессиях\n",
    "- /datasets/messages.csv -  информация о сообщениях\n",
    "- /datasets/tariffs.csv -  информация о тарифах\n",
    "- /datasets/users.csv - информация о пользователях"
   ]
  },
  {
   "cell_type": "markdown",
   "metadata": {},
   "source": [
    "Для исследования и достижения целей - изучим (в случае необходимости - скорректируем) типы данных, приведём таблицы к единому фрейму."
   ]
  },
  {
   "cell_type": "markdown",
   "metadata": {},
   "source": [
    "## Изучение данных из файла"
   ]
  },
  {
   "cell_type": "markdown",
   "metadata": {},
   "source": [
    "Импоритруем библиотеки для анализа данных:"
   ]
  },
  {
   "cell_type": "code",
   "execution_count": 1,
   "metadata": {},
   "outputs": [],
   "source": [
    "import pandas as pd \n",
    "import numpy as np\n",
    "import matplotlib.pyplot as plt\n",
    "import datetime \n",
    "from scipy import stats as st\n",
    "import math\n",
    "import warnings\n",
    "from scipy.stats import levene\n",
    "\n",
    "\n",
    "warnings.filterwarnings('ignore')\n"
   ]
  },
  {
   "cell_type": "markdown",
   "metadata": {},
   "source": [
    "Введём переменные в соответствии с исходными файлами/фреймами:"
   ]
  },
  {
   "cell_type": "code",
   "execution_count": 2,
   "metadata": {},
   "outputs": [
    {
     "name": "stdout",
     "output_type": "stream",
     "text": [
      "<class 'pandas.core.frame.DataFrame'>\n",
      "RangeIndex: 202607 entries, 0 to 202606\n",
      "Data columns (total 4 columns):\n",
      " #   Column     Non-Null Count   Dtype  \n",
      "---  ------     --------------   -----  \n",
      " 0   id         202607 non-null  object \n",
      " 1   call_date  202607 non-null  object \n",
      " 2   duration   202607 non-null  float64\n",
      " 3   user_id    202607 non-null  int64  \n",
      "dtypes: float64(1), int64(1), object(2)\n",
      "memory usage: 6.2+ MB\n",
      "____________________________________________\n",
      "<class 'pandas.core.frame.DataFrame'>\n",
      "Int64Index: 149396 entries, 0 to 149395\n",
      "Data columns (total 4 columns):\n",
      " #   Column        Non-Null Count   Dtype  \n",
      "---  ------        --------------   -----  \n",
      " 0   id            149396 non-null  object \n",
      " 1   mb_used       149396 non-null  float64\n",
      " 2   session_date  149396 non-null  object \n",
      " 3   user_id       149396 non-null  int64  \n",
      "dtypes: float64(1), int64(1), object(2)\n",
      "memory usage: 5.7+ MB\n",
      "____________________________________________\n",
      "<class 'pandas.core.frame.DataFrame'>\n",
      "RangeIndex: 123036 entries, 0 to 123035\n",
      "Data columns (total 3 columns):\n",
      " #   Column        Non-Null Count   Dtype \n",
      "---  ------        --------------   ----- \n",
      " 0   id            123036 non-null  object\n",
      " 1   message_date  123036 non-null  object\n",
      " 2   user_id       123036 non-null  int64 \n",
      "dtypes: int64(1), object(2)\n",
      "memory usage: 2.8+ MB\n",
      "____________________________________________\n",
      "<class 'pandas.core.frame.DataFrame'>\n",
      "RangeIndex: 2 entries, 0 to 1\n",
      "Data columns (total 8 columns):\n",
      " #   Column                 Non-Null Count  Dtype \n",
      "---  ------                 --------------  ----- \n",
      " 0   messages_included      2 non-null      int64 \n",
      " 1   mb_per_month_included  2 non-null      int64 \n",
      " 2   minutes_included       2 non-null      int64 \n",
      " 3   rub_monthly_fee        2 non-null      int64 \n",
      " 4   rub_per_gb             2 non-null      int64 \n",
      " 5   rub_per_message        2 non-null      int64 \n",
      " 6   rub_per_minute         2 non-null      int64 \n",
      " 7   tariff_name            2 non-null      object\n",
      "dtypes: int64(7), object(1)\n",
      "memory usage: 256.0+ bytes\n",
      "____________________________________________\n",
      "<class 'pandas.core.frame.DataFrame'>\n",
      "RangeIndex: 500 entries, 0 to 499\n",
      "Data columns (total 8 columns):\n",
      " #   Column      Non-Null Count  Dtype \n",
      "---  ------      --------------  ----- \n",
      " 0   user_id     500 non-null    int64 \n",
      " 1   age         500 non-null    int64 \n",
      " 2   churn_date  38 non-null     object\n",
      " 3   city        500 non-null    object\n",
      " 4   first_name  500 non-null    object\n",
      " 5   last_name   500 non-null    object\n",
      " 6   reg_date    500 non-null    object\n",
      " 7   tariff      500 non-null    object\n",
      "dtypes: int64(2), object(6)\n",
      "memory usage: 31.4+ KB\n"
     ]
    }
   ],
   "source": [
    "calls = pd.read_csv('https://www.dropbox.com/s/ki9d924ek7s8hjc/calls.csv?dl=1', decimal = '.') \n",
    "internet = pd.read_csv('https://www.dropbox.com/s/xbb857btuz6t4wf/internet.csv?dl=1', decimal = '.', index_col=0) #извлекаем данные без столбца 'Unnamed 0'\n",
    "messages = pd.read_csv('https://www.dropbox.com/s/xpdlviua9s3h2fh/messages.csv?dl=1', decimal = '.') \n",
    "tariffs = pd.read_csv('https://www.dropbox.com/s/opdpb0io8zkzhvh/tariffs.csv?dl=1', decimal = '.') \n",
    "users = pd.read_csv('https://www.dropbox.com/s/eazyawfmp4z4845/users.csv?dl=1', decimal = '.') \n",
    "\n",
    "#ознакомимся с данными из фреймов с помощью info()\n",
    "\n",
    "calls.info()\n",
    "print ('____________________________________________')\n",
    "internet.info()\n",
    "print ('____________________________________________')\n",
    "messages.info()\n",
    "print ('____________________________________________')\n",
    "tariffs.info()\n",
    "print ('____________________________________________')\n",
    "users.info()\n",
    "\n"
   ]
  },
  {
   "cell_type": "markdown",
   "metadata": {},
   "source": [
    "Рассмотрим формат данных более подробно с помощью метода head()."
   ]
  },
  {
   "cell_type": "code",
   "execution_count": 3,
   "metadata": {},
   "outputs": [
    {
     "data": {
      "text/html": [
       "<div>\n",
       "<style scoped>\n",
       "    .dataframe tbody tr th:only-of-type {\n",
       "        vertical-align: middle;\n",
       "    }\n",
       "\n",
       "    .dataframe tbody tr th {\n",
       "        vertical-align: top;\n",
       "    }\n",
       "\n",
       "    .dataframe thead th {\n",
       "        text-align: right;\n",
       "    }\n",
       "</style>\n",
       "<table border=\"1\" class=\"dataframe\">\n",
       "  <thead>\n",
       "    <tr style=\"text-align: right;\">\n",
       "      <th></th>\n",
       "      <th>id</th>\n",
       "      <th>call_date</th>\n",
       "      <th>duration</th>\n",
       "      <th>user_id</th>\n",
       "    </tr>\n",
       "  </thead>\n",
       "  <tbody>\n",
       "    <tr>\n",
       "      <th>0</th>\n",
       "      <td>1000_0</td>\n",
       "      <td>2018-07-25</td>\n",
       "      <td>0.00</td>\n",
       "      <td>1000</td>\n",
       "    </tr>\n",
       "    <tr>\n",
       "      <th>1</th>\n",
       "      <td>1000_1</td>\n",
       "      <td>2018-08-17</td>\n",
       "      <td>0.00</td>\n",
       "      <td>1000</td>\n",
       "    </tr>\n",
       "    <tr>\n",
       "      <th>2</th>\n",
       "      <td>1000_2</td>\n",
       "      <td>2018-06-11</td>\n",
       "      <td>2.85</td>\n",
       "      <td>1000</td>\n",
       "    </tr>\n",
       "    <tr>\n",
       "      <th>3</th>\n",
       "      <td>1000_3</td>\n",
       "      <td>2018-09-21</td>\n",
       "      <td>13.80</td>\n",
       "      <td>1000</td>\n",
       "    </tr>\n",
       "    <tr>\n",
       "      <th>4</th>\n",
       "      <td>1000_4</td>\n",
       "      <td>2018-12-15</td>\n",
       "      <td>5.18</td>\n",
       "      <td>1000</td>\n",
       "    </tr>\n",
       "    <tr>\n",
       "      <th>5</th>\n",
       "      <td>1000_5</td>\n",
       "      <td>2018-11-02</td>\n",
       "      <td>0.00</td>\n",
       "      <td>1000</td>\n",
       "    </tr>\n",
       "    <tr>\n",
       "      <th>6</th>\n",
       "      <td>1000_6</td>\n",
       "      <td>2018-10-18</td>\n",
       "      <td>0.00</td>\n",
       "      <td>1000</td>\n",
       "    </tr>\n",
       "    <tr>\n",
       "      <th>7</th>\n",
       "      <td>1000_7</td>\n",
       "      <td>2018-08-22</td>\n",
       "      <td>18.31</td>\n",
       "      <td>1000</td>\n",
       "    </tr>\n",
       "    <tr>\n",
       "      <th>8</th>\n",
       "      <td>1000_8</td>\n",
       "      <td>2018-09-15</td>\n",
       "      <td>18.44</td>\n",
       "      <td>1000</td>\n",
       "    </tr>\n",
       "    <tr>\n",
       "      <th>9</th>\n",
       "      <td>1000_9</td>\n",
       "      <td>2018-08-15</td>\n",
       "      <td>0.00</td>\n",
       "      <td>1000</td>\n",
       "    </tr>\n",
       "  </tbody>\n",
       "</table>\n",
       "</div>"
      ],
      "text/plain": [
       "       id   call_date  duration  user_id\n",
       "0  1000_0  2018-07-25      0.00     1000\n",
       "1  1000_1  2018-08-17      0.00     1000\n",
       "2  1000_2  2018-06-11      2.85     1000\n",
       "3  1000_3  2018-09-21     13.80     1000\n",
       "4  1000_4  2018-12-15      5.18     1000\n",
       "5  1000_5  2018-11-02      0.00     1000\n",
       "6  1000_6  2018-10-18      0.00     1000\n",
       "7  1000_7  2018-08-22     18.31     1000\n",
       "8  1000_8  2018-09-15     18.44     1000\n",
       "9  1000_9  2018-08-15      0.00     1000"
      ]
     },
     "metadata": {},
     "output_type": "display_data"
    },
    {
     "data": {
      "text/html": [
       "<div>\n",
       "<style scoped>\n",
       "    .dataframe tbody tr th:only-of-type {\n",
       "        vertical-align: middle;\n",
       "    }\n",
       "\n",
       "    .dataframe tbody tr th {\n",
       "        vertical-align: top;\n",
       "    }\n",
       "\n",
       "    .dataframe thead th {\n",
       "        text-align: right;\n",
       "    }\n",
       "</style>\n",
       "<table border=\"1\" class=\"dataframe\">\n",
       "  <thead>\n",
       "    <tr style=\"text-align: right;\">\n",
       "      <th></th>\n",
       "      <th>id</th>\n",
       "      <th>mb_used</th>\n",
       "      <th>session_date</th>\n",
       "      <th>user_id</th>\n",
       "    </tr>\n",
       "  </thead>\n",
       "  <tbody>\n",
       "    <tr>\n",
       "      <th>0</th>\n",
       "      <td>1000_0</td>\n",
       "      <td>112.95</td>\n",
       "      <td>2018-11-25</td>\n",
       "      <td>1000</td>\n",
       "    </tr>\n",
       "    <tr>\n",
       "      <th>1</th>\n",
       "      <td>1000_1</td>\n",
       "      <td>1052.81</td>\n",
       "      <td>2018-09-07</td>\n",
       "      <td>1000</td>\n",
       "    </tr>\n",
       "    <tr>\n",
       "      <th>2</th>\n",
       "      <td>1000_2</td>\n",
       "      <td>1197.26</td>\n",
       "      <td>2018-06-25</td>\n",
       "      <td>1000</td>\n",
       "    </tr>\n",
       "    <tr>\n",
       "      <th>3</th>\n",
       "      <td>1000_3</td>\n",
       "      <td>550.27</td>\n",
       "      <td>2018-08-22</td>\n",
       "      <td>1000</td>\n",
       "    </tr>\n",
       "    <tr>\n",
       "      <th>4</th>\n",
       "      <td>1000_4</td>\n",
       "      <td>302.56</td>\n",
       "      <td>2018-09-24</td>\n",
       "      <td>1000</td>\n",
       "    </tr>\n",
       "    <tr>\n",
       "      <th>5</th>\n",
       "      <td>1000_5</td>\n",
       "      <td>399.97</td>\n",
       "      <td>2018-10-02</td>\n",
       "      <td>1000</td>\n",
       "    </tr>\n",
       "    <tr>\n",
       "      <th>6</th>\n",
       "      <td>1000_6</td>\n",
       "      <td>540.08</td>\n",
       "      <td>2018-09-07</td>\n",
       "      <td>1000</td>\n",
       "    </tr>\n",
       "    <tr>\n",
       "      <th>7</th>\n",
       "      <td>1000_7</td>\n",
       "      <td>415.70</td>\n",
       "      <td>2018-07-11</td>\n",
       "      <td>1000</td>\n",
       "    </tr>\n",
       "    <tr>\n",
       "      <th>8</th>\n",
       "      <td>1000_8</td>\n",
       "      <td>505.40</td>\n",
       "      <td>2018-10-08</td>\n",
       "      <td>1000</td>\n",
       "    </tr>\n",
       "    <tr>\n",
       "      <th>9</th>\n",
       "      <td>1000_9</td>\n",
       "      <td>345.54</td>\n",
       "      <td>2018-09-03</td>\n",
       "      <td>1000</td>\n",
       "    </tr>\n",
       "  </tbody>\n",
       "</table>\n",
       "</div>"
      ],
      "text/plain": [
       "       id  mb_used session_date  user_id\n",
       "0  1000_0   112.95   2018-11-25     1000\n",
       "1  1000_1  1052.81   2018-09-07     1000\n",
       "2  1000_2  1197.26   2018-06-25     1000\n",
       "3  1000_3   550.27   2018-08-22     1000\n",
       "4  1000_4   302.56   2018-09-24     1000\n",
       "5  1000_5   399.97   2018-10-02     1000\n",
       "6  1000_6   540.08   2018-09-07     1000\n",
       "7  1000_7   415.70   2018-07-11     1000\n",
       "8  1000_8   505.40   2018-10-08     1000\n",
       "9  1000_9   345.54   2018-09-03     1000"
      ]
     },
     "metadata": {},
     "output_type": "display_data"
    },
    {
     "data": {
      "text/html": [
       "<div>\n",
       "<style scoped>\n",
       "    .dataframe tbody tr th:only-of-type {\n",
       "        vertical-align: middle;\n",
       "    }\n",
       "\n",
       "    .dataframe tbody tr th {\n",
       "        vertical-align: top;\n",
       "    }\n",
       "\n",
       "    .dataframe thead th {\n",
       "        text-align: right;\n",
       "    }\n",
       "</style>\n",
       "<table border=\"1\" class=\"dataframe\">\n",
       "  <thead>\n",
       "    <tr style=\"text-align: right;\">\n",
       "      <th></th>\n",
       "      <th>id</th>\n",
       "      <th>message_date</th>\n",
       "      <th>user_id</th>\n",
       "    </tr>\n",
       "  </thead>\n",
       "  <tbody>\n",
       "    <tr>\n",
       "      <th>0</th>\n",
       "      <td>1000_0</td>\n",
       "      <td>2018-06-27</td>\n",
       "      <td>1000</td>\n",
       "    </tr>\n",
       "    <tr>\n",
       "      <th>1</th>\n",
       "      <td>1000_1</td>\n",
       "      <td>2018-10-08</td>\n",
       "      <td>1000</td>\n",
       "    </tr>\n",
       "    <tr>\n",
       "      <th>2</th>\n",
       "      <td>1000_2</td>\n",
       "      <td>2018-08-04</td>\n",
       "      <td>1000</td>\n",
       "    </tr>\n",
       "    <tr>\n",
       "      <th>3</th>\n",
       "      <td>1000_3</td>\n",
       "      <td>2018-06-16</td>\n",
       "      <td>1000</td>\n",
       "    </tr>\n",
       "    <tr>\n",
       "      <th>4</th>\n",
       "      <td>1000_4</td>\n",
       "      <td>2018-12-05</td>\n",
       "      <td>1000</td>\n",
       "    </tr>\n",
       "    <tr>\n",
       "      <th>5</th>\n",
       "      <td>1000_5</td>\n",
       "      <td>2018-06-20</td>\n",
       "      <td>1000</td>\n",
       "    </tr>\n",
       "    <tr>\n",
       "      <th>6</th>\n",
       "      <td>1000_6</td>\n",
       "      <td>2018-11-19</td>\n",
       "      <td>1000</td>\n",
       "    </tr>\n",
       "    <tr>\n",
       "      <th>7</th>\n",
       "      <td>1000_7</td>\n",
       "      <td>2018-10-29</td>\n",
       "      <td>1000</td>\n",
       "    </tr>\n",
       "    <tr>\n",
       "      <th>8</th>\n",
       "      <td>1000_8</td>\n",
       "      <td>2018-06-25</td>\n",
       "      <td>1000</td>\n",
       "    </tr>\n",
       "    <tr>\n",
       "      <th>9</th>\n",
       "      <td>1000_9</td>\n",
       "      <td>2018-12-18</td>\n",
       "      <td>1000</td>\n",
       "    </tr>\n",
       "  </tbody>\n",
       "</table>\n",
       "</div>"
      ],
      "text/plain": [
       "       id message_date  user_id\n",
       "0  1000_0   2018-06-27     1000\n",
       "1  1000_1   2018-10-08     1000\n",
       "2  1000_2   2018-08-04     1000\n",
       "3  1000_3   2018-06-16     1000\n",
       "4  1000_4   2018-12-05     1000\n",
       "5  1000_5   2018-06-20     1000\n",
       "6  1000_6   2018-11-19     1000\n",
       "7  1000_7   2018-10-29     1000\n",
       "8  1000_8   2018-06-25     1000\n",
       "9  1000_9   2018-12-18     1000"
      ]
     },
     "metadata": {},
     "output_type": "display_data"
    },
    {
     "data": {
      "text/html": [
       "<div>\n",
       "<style scoped>\n",
       "    .dataframe tbody tr th:only-of-type {\n",
       "        vertical-align: middle;\n",
       "    }\n",
       "\n",
       "    .dataframe tbody tr th {\n",
       "        vertical-align: top;\n",
       "    }\n",
       "\n",
       "    .dataframe thead th {\n",
       "        text-align: right;\n",
       "    }\n",
       "</style>\n",
       "<table border=\"1\" class=\"dataframe\">\n",
       "  <thead>\n",
       "    <tr style=\"text-align: right;\">\n",
       "      <th></th>\n",
       "      <th>messages_included</th>\n",
       "      <th>mb_per_month_included</th>\n",
       "      <th>minutes_included</th>\n",
       "      <th>rub_monthly_fee</th>\n",
       "      <th>rub_per_gb</th>\n",
       "      <th>rub_per_message</th>\n",
       "      <th>rub_per_minute</th>\n",
       "      <th>tariff_name</th>\n",
       "    </tr>\n",
       "  </thead>\n",
       "  <tbody>\n",
       "    <tr>\n",
       "      <th>0</th>\n",
       "      <td>50</td>\n",
       "      <td>15360</td>\n",
       "      <td>500</td>\n",
       "      <td>550</td>\n",
       "      <td>200</td>\n",
       "      <td>3</td>\n",
       "      <td>3</td>\n",
       "      <td>smart</td>\n",
       "    </tr>\n",
       "    <tr>\n",
       "      <th>1</th>\n",
       "      <td>1000</td>\n",
       "      <td>30720</td>\n",
       "      <td>3000</td>\n",
       "      <td>1950</td>\n",
       "      <td>150</td>\n",
       "      <td>1</td>\n",
       "      <td>1</td>\n",
       "      <td>ultra</td>\n",
       "    </tr>\n",
       "  </tbody>\n",
       "</table>\n",
       "</div>"
      ],
      "text/plain": [
       "   messages_included  mb_per_month_included  minutes_included  \\\n",
       "0                 50                  15360               500   \n",
       "1               1000                  30720              3000   \n",
       "\n",
       "   rub_monthly_fee  rub_per_gb  rub_per_message  rub_per_minute tariff_name  \n",
       "0              550         200                3               3       smart  \n",
       "1             1950         150                1               1       ultra  "
      ]
     },
     "metadata": {},
     "output_type": "display_data"
    },
    {
     "data": {
      "text/html": [
       "<div>\n",
       "<style scoped>\n",
       "    .dataframe tbody tr th:only-of-type {\n",
       "        vertical-align: middle;\n",
       "    }\n",
       "\n",
       "    .dataframe tbody tr th {\n",
       "        vertical-align: top;\n",
       "    }\n",
       "\n",
       "    .dataframe thead th {\n",
       "        text-align: right;\n",
       "    }\n",
       "</style>\n",
       "<table border=\"1\" class=\"dataframe\">\n",
       "  <thead>\n",
       "    <tr style=\"text-align: right;\">\n",
       "      <th></th>\n",
       "      <th>user_id</th>\n",
       "      <th>age</th>\n",
       "      <th>churn_date</th>\n",
       "      <th>city</th>\n",
       "      <th>first_name</th>\n",
       "      <th>last_name</th>\n",
       "      <th>reg_date</th>\n",
       "      <th>tariff</th>\n",
       "    </tr>\n",
       "  </thead>\n",
       "  <tbody>\n",
       "    <tr>\n",
       "      <th>0</th>\n",
       "      <td>1000</td>\n",
       "      <td>52</td>\n",
       "      <td>NaN</td>\n",
       "      <td>Краснодар</td>\n",
       "      <td>Рафаил</td>\n",
       "      <td>Верещагин</td>\n",
       "      <td>2018-05-25</td>\n",
       "      <td>ultra</td>\n",
       "    </tr>\n",
       "    <tr>\n",
       "      <th>1</th>\n",
       "      <td>1001</td>\n",
       "      <td>41</td>\n",
       "      <td>NaN</td>\n",
       "      <td>Москва</td>\n",
       "      <td>Иван</td>\n",
       "      <td>Ежов</td>\n",
       "      <td>2018-11-01</td>\n",
       "      <td>smart</td>\n",
       "    </tr>\n",
       "    <tr>\n",
       "      <th>2</th>\n",
       "      <td>1002</td>\n",
       "      <td>59</td>\n",
       "      <td>NaN</td>\n",
       "      <td>Стерлитамак</td>\n",
       "      <td>Евгений</td>\n",
       "      <td>Абрамович</td>\n",
       "      <td>2018-06-17</td>\n",
       "      <td>smart</td>\n",
       "    </tr>\n",
       "    <tr>\n",
       "      <th>3</th>\n",
       "      <td>1003</td>\n",
       "      <td>23</td>\n",
       "      <td>NaN</td>\n",
       "      <td>Москва</td>\n",
       "      <td>Белла</td>\n",
       "      <td>Белякова</td>\n",
       "      <td>2018-08-17</td>\n",
       "      <td>ultra</td>\n",
       "    </tr>\n",
       "    <tr>\n",
       "      <th>4</th>\n",
       "      <td>1004</td>\n",
       "      <td>68</td>\n",
       "      <td>NaN</td>\n",
       "      <td>Новокузнецк</td>\n",
       "      <td>Татьяна</td>\n",
       "      <td>Авдеенко</td>\n",
       "      <td>2018-05-14</td>\n",
       "      <td>ultra</td>\n",
       "    </tr>\n",
       "    <tr>\n",
       "      <th>5</th>\n",
       "      <td>1005</td>\n",
       "      <td>67</td>\n",
       "      <td>NaN</td>\n",
       "      <td>Набережные Челны</td>\n",
       "      <td>Афанасий</td>\n",
       "      <td>Горлов</td>\n",
       "      <td>2018-01-25</td>\n",
       "      <td>smart</td>\n",
       "    </tr>\n",
       "    <tr>\n",
       "      <th>6</th>\n",
       "      <td>1006</td>\n",
       "      <td>21</td>\n",
       "      <td>NaN</td>\n",
       "      <td>Ульяновск</td>\n",
       "      <td>Леонид</td>\n",
       "      <td>Ермолаев</td>\n",
       "      <td>2018-02-26</td>\n",
       "      <td>smart</td>\n",
       "    </tr>\n",
       "    <tr>\n",
       "      <th>7</th>\n",
       "      <td>1007</td>\n",
       "      <td>65</td>\n",
       "      <td>NaN</td>\n",
       "      <td>Москва</td>\n",
       "      <td>Юна</td>\n",
       "      <td>Березина</td>\n",
       "      <td>2018-04-19</td>\n",
       "      <td>smart</td>\n",
       "    </tr>\n",
       "    <tr>\n",
       "      <th>8</th>\n",
       "      <td>1008</td>\n",
       "      <td>63</td>\n",
       "      <td>NaN</td>\n",
       "      <td>Челябинск</td>\n",
       "      <td>Рустэм</td>\n",
       "      <td>Пономарёв</td>\n",
       "      <td>2018-12-19</td>\n",
       "      <td>smart</td>\n",
       "    </tr>\n",
       "    <tr>\n",
       "      <th>9</th>\n",
       "      <td>1009</td>\n",
       "      <td>24</td>\n",
       "      <td>NaN</td>\n",
       "      <td>Пермь</td>\n",
       "      <td>Василиса</td>\n",
       "      <td>Блинова</td>\n",
       "      <td>2018-03-22</td>\n",
       "      <td>smart</td>\n",
       "    </tr>\n",
       "  </tbody>\n",
       "</table>\n",
       "</div>"
      ],
      "text/plain": [
       "   user_id  age churn_date              city first_name  last_name  \\\n",
       "0     1000   52        NaN         Краснодар     Рафаил  Верещагин   \n",
       "1     1001   41        NaN            Москва       Иван       Ежов   \n",
       "2     1002   59        NaN       Стерлитамак    Евгений  Абрамович   \n",
       "3     1003   23        NaN            Москва      Белла   Белякова   \n",
       "4     1004   68        NaN       Новокузнецк    Татьяна   Авдеенко   \n",
       "5     1005   67        NaN  Набережные Челны   Афанасий     Горлов   \n",
       "6     1006   21        NaN         Ульяновск     Леонид   Ермолаев   \n",
       "7     1007   65        NaN            Москва        Юна   Березина   \n",
       "8     1008   63        NaN         Челябинск     Рустэм  Пономарёв   \n",
       "9     1009   24        NaN             Пермь   Василиса    Блинова   \n",
       "\n",
       "     reg_date tariff  \n",
       "0  2018-05-25  ultra  \n",
       "1  2018-11-01  smart  \n",
       "2  2018-06-17  smart  \n",
       "3  2018-08-17  ultra  \n",
       "4  2018-05-14  ultra  \n",
       "5  2018-01-25  smart  \n",
       "6  2018-02-26  smart  \n",
       "7  2018-04-19  smart  \n",
       "8  2018-12-19  smart  \n",
       "9  2018-03-22  smart  "
      ]
     },
     "metadata": {},
     "output_type": "display_data"
    }
   ],
   "source": [
    "display (calls.head(10))\n",
    "display (internet.head(10))\n",
    "display (messages.head(10))\n",
    "display (tariffs.head(10))\n",
    "display (users.head(10))"
   ]
  },
  {
   "cell_type": "markdown",
   "metadata": {},
   "source": [
    "***Промежуточный вывод:*** Первичная оценка данных показала наличие пропущенных значений в столбце 'churn_date' фрейма **Users**"
   ]
  },
  {
   "cell_type": "markdown",
   "metadata": {},
   "source": [
    "Рассмотрим распределения и экстремумы данных более подробно данные столбцов с помощью метода describe()"
   ]
  },
  {
   "cell_type": "code",
   "execution_count": 4,
   "metadata": {},
   "outputs": [
    {
     "name": "stdout",
     "output_type": "stream",
     "text": [
      "            duration        user_id\n",
      "count  202607.000000  202607.000000\n",
      "mean        6.755887    1253.940619\n",
      "std         5.843365     144.722751\n",
      "min         0.000000    1000.000000\n",
      "25%         1.300000    1126.000000\n",
      "50%         6.000000    1260.000000\n",
      "75%        10.700000    1379.000000\n",
      "max        38.000000    1499.000000\n",
      "             mb_used        user_id\n",
      "count  149396.000000  149396.000000\n",
      "mean      370.192426    1252.099842\n",
      "std       278.300951     144.050823\n",
      "min         0.000000    1000.000000\n",
      "25%       138.187500    1130.000000\n",
      "50%       348.015000    1251.000000\n",
      "75%       559.552500    1380.000000\n",
      "max      1724.830000    1499.000000\n",
      "             user_id\n",
      "count  123036.000000\n",
      "mean     1256.989410\n",
      "std       143.523967\n",
      "min      1000.000000\n",
      "25%      1134.000000\n",
      "50%      1271.000000\n",
      "75%      1381.000000\n",
      "max      1499.000000\n",
      "       messages_included  mb_per_month_included  minutes_included  \\\n",
      "count           2.000000               2.000000          2.000000   \n",
      "mean          525.000000           23040.000000       1750.000000   \n",
      "std           671.751442           10861.160159       1767.766953   \n",
      "min            50.000000           15360.000000        500.000000   \n",
      "25%           287.500000           19200.000000       1125.000000   \n",
      "50%           525.000000           23040.000000       1750.000000   \n",
      "75%           762.500000           26880.000000       2375.000000   \n",
      "max          1000.000000           30720.000000       3000.000000   \n",
      "\n",
      "       rub_monthly_fee  rub_per_gb  rub_per_message  rub_per_minute  \n",
      "count         2.000000    2.000000         2.000000        2.000000  \n",
      "mean       1250.000000  175.000000         2.000000        2.000000  \n",
      "std         989.949494   35.355339         1.414214        1.414214  \n",
      "min         550.000000  150.000000         1.000000        1.000000  \n",
      "25%         900.000000  162.500000         1.500000        1.500000  \n",
      "50%        1250.000000  175.000000         2.000000        2.000000  \n",
      "75%        1600.000000  187.500000         2.500000        2.500000  \n",
      "max        1950.000000  200.000000         3.000000        3.000000  \n",
      "           user_id        age\n",
      "count   500.000000  500.00000\n",
      "mean   1249.500000   46.58800\n",
      "std     144.481833   16.66763\n",
      "min    1000.000000   18.00000\n",
      "25%    1124.750000   32.00000\n",
      "50%    1249.500000   46.00000\n",
      "75%    1374.250000   62.00000\n",
      "max    1499.000000   75.00000\n"
     ]
    }
   ],
   "source": [
    "print (calls.describe())\n",
    "print (internet.describe())\n",
    "print (messages.describe())\n",
    "print (tariffs.describe())\n",
    "print (users.describe())"
   ]
  },
  {
   "cell_type": "markdown",
   "metadata": {},
   "source": [
    "Проверим фрейм users (как наиболее полный в части id клиентов) на предмет дубликатов"
   ]
  },
  {
   "cell_type": "code",
   "execution_count": 5,
   "metadata": {},
   "outputs": [
    {
     "data": {
      "text/html": [
       "<div>\n",
       "<style scoped>\n",
       "    .dataframe tbody tr th:only-of-type {\n",
       "        vertical-align: middle;\n",
       "    }\n",
       "\n",
       "    .dataframe tbody tr th {\n",
       "        vertical-align: top;\n",
       "    }\n",
       "\n",
       "    .dataframe thead th {\n",
       "        text-align: right;\n",
       "    }\n",
       "</style>\n",
       "<table border=\"1\" class=\"dataframe\">\n",
       "  <thead>\n",
       "    <tr style=\"text-align: right;\">\n",
       "      <th></th>\n",
       "      <th>user_id</th>\n",
       "      <th>age</th>\n",
       "      <th>churn_date</th>\n",
       "      <th>city</th>\n",
       "      <th>first_name</th>\n",
       "      <th>last_name</th>\n",
       "      <th>reg_date</th>\n",
       "      <th>tariff</th>\n",
       "    </tr>\n",
       "  </thead>\n",
       "  <tbody>\n",
       "    <tr>\n",
       "      <th>0</th>\n",
       "      <td>1000</td>\n",
       "      <td>52</td>\n",
       "      <td>NaN</td>\n",
       "      <td>Краснодар</td>\n",
       "      <td>Рафаил</td>\n",
       "      <td>Верещагин</td>\n",
       "      <td>2018-05-25</td>\n",
       "      <td>ultra</td>\n",
       "    </tr>\n",
       "    <tr>\n",
       "      <th>1</th>\n",
       "      <td>1001</td>\n",
       "      <td>41</td>\n",
       "      <td>NaN</td>\n",
       "      <td>Москва</td>\n",
       "      <td>Иван</td>\n",
       "      <td>Ежов</td>\n",
       "      <td>2018-11-01</td>\n",
       "      <td>smart</td>\n",
       "    </tr>\n",
       "    <tr>\n",
       "      <th>2</th>\n",
       "      <td>1002</td>\n",
       "      <td>59</td>\n",
       "      <td>NaN</td>\n",
       "      <td>Стерлитамак</td>\n",
       "      <td>Евгений</td>\n",
       "      <td>Абрамович</td>\n",
       "      <td>2018-06-17</td>\n",
       "      <td>smart</td>\n",
       "    </tr>\n",
       "    <tr>\n",
       "      <th>3</th>\n",
       "      <td>1003</td>\n",
       "      <td>23</td>\n",
       "      <td>NaN</td>\n",
       "      <td>Москва</td>\n",
       "      <td>Белла</td>\n",
       "      <td>Белякова</td>\n",
       "      <td>2018-08-17</td>\n",
       "      <td>ultra</td>\n",
       "    </tr>\n",
       "    <tr>\n",
       "      <th>4</th>\n",
       "      <td>1004</td>\n",
       "      <td>68</td>\n",
       "      <td>NaN</td>\n",
       "      <td>Новокузнецк</td>\n",
       "      <td>Татьяна</td>\n",
       "      <td>Авдеенко</td>\n",
       "      <td>2018-05-14</td>\n",
       "      <td>ultra</td>\n",
       "    </tr>\n",
       "    <tr>\n",
       "      <th>...</th>\n",
       "      <td>...</td>\n",
       "      <td>...</td>\n",
       "      <td>...</td>\n",
       "      <td>...</td>\n",
       "      <td>...</td>\n",
       "      <td>...</td>\n",
       "      <td>...</td>\n",
       "      <td>...</td>\n",
       "    </tr>\n",
       "    <tr>\n",
       "      <th>495</th>\n",
       "      <td>1495</td>\n",
       "      <td>65</td>\n",
       "      <td>NaN</td>\n",
       "      <td>Иркутск</td>\n",
       "      <td>Авксентий</td>\n",
       "      <td>Фокин</td>\n",
       "      <td>2018-08-28</td>\n",
       "      <td>ultra</td>\n",
       "    </tr>\n",
       "    <tr>\n",
       "      <th>496</th>\n",
       "      <td>1496</td>\n",
       "      <td>36</td>\n",
       "      <td>NaN</td>\n",
       "      <td>Вологда</td>\n",
       "      <td>Трифон</td>\n",
       "      <td>Блохин</td>\n",
       "      <td>2018-01-27</td>\n",
       "      <td>smart</td>\n",
       "    </tr>\n",
       "    <tr>\n",
       "      <th>497</th>\n",
       "      <td>1497</td>\n",
       "      <td>32</td>\n",
       "      <td>NaN</td>\n",
       "      <td>Челябинск</td>\n",
       "      <td>Каролина</td>\n",
       "      <td>Агеева</td>\n",
       "      <td>2018-10-09</td>\n",
       "      <td>smart</td>\n",
       "    </tr>\n",
       "    <tr>\n",
       "      <th>498</th>\n",
       "      <td>1498</td>\n",
       "      <td>68</td>\n",
       "      <td>2018-10-25</td>\n",
       "      <td>Владикавказ</td>\n",
       "      <td>Всеволод</td>\n",
       "      <td>Акимчин</td>\n",
       "      <td>2018-07-19</td>\n",
       "      <td>smart</td>\n",
       "    </tr>\n",
       "    <tr>\n",
       "      <th>499</th>\n",
       "      <td>1499</td>\n",
       "      <td>35</td>\n",
       "      <td>NaN</td>\n",
       "      <td>Пермь</td>\n",
       "      <td>Гектор</td>\n",
       "      <td>Корнилов</td>\n",
       "      <td>2018-09-27</td>\n",
       "      <td>smart</td>\n",
       "    </tr>\n",
       "  </tbody>\n",
       "</table>\n",
       "<p>500 rows × 8 columns</p>\n",
       "</div>"
      ],
      "text/plain": [
       "     user_id  age  churn_date         city first_name  last_name    reg_date  \\\n",
       "0       1000   52         NaN    Краснодар     Рафаил  Верещагин  2018-05-25   \n",
       "1       1001   41         NaN       Москва       Иван       Ежов  2018-11-01   \n",
       "2       1002   59         NaN  Стерлитамак    Евгений  Абрамович  2018-06-17   \n",
       "3       1003   23         NaN       Москва      Белла   Белякова  2018-08-17   \n",
       "4       1004   68         NaN  Новокузнецк    Татьяна   Авдеенко  2018-05-14   \n",
       "..       ...  ...         ...          ...        ...        ...         ...   \n",
       "495     1495   65         NaN      Иркутск  Авксентий      Фокин  2018-08-28   \n",
       "496     1496   36         NaN      Вологда     Трифон     Блохин  2018-01-27   \n",
       "497     1497   32         NaN    Челябинск   Каролина     Агеева  2018-10-09   \n",
       "498     1498   68  2018-10-25  Владикавказ   Всеволод    Акимчин  2018-07-19   \n",
       "499     1499   35         NaN        Пермь     Гектор   Корнилов  2018-09-27   \n",
       "\n",
       "    tariff  \n",
       "0    ultra  \n",
       "1    smart  \n",
       "2    smart  \n",
       "3    ultra  \n",
       "4    ultra  \n",
       "..     ...  \n",
       "495  ultra  \n",
       "496  smart  \n",
       "497  smart  \n",
       "498  smart  \n",
       "499  smart  \n",
       "\n",
       "[500 rows x 8 columns]"
      ]
     },
     "execution_count": 5,
     "metadata": {},
     "output_type": "execute_result"
    }
   ],
   "source": [
    "users.drop_duplicates() #дубликатов не обнаружено"
   ]
  },
  {
   "cell_type": "markdown",
   "metadata": {},
   "source": [
    "***Промежуточные выводы*** по методу describe() \n",
    "- выявлен столбец 'Unnamed: 0' повторяющий последовательность(совпадение mean и median говорит именно об этом), информационную нагрузку не несёт, может быть удалён.\n",
    "- пропущенные значения массово содержатся churn_date (прекращение пользования тарифом);\n",
    "- первичный анализ других столбцов представленных таблиц ошибок не показал: максимальные значения без очевидных выбросов."
   ]
  },
  {
   "cell_type": "markdown",
   "metadata": {},
   "source": [
    "По условиям известно, что для исследования доступны данные 500 пользователей. Рассмотрим данные id пользователей в отдельных датафреймах на предмет уникальных значений."
   ]
  },
  {
   "cell_type": "code",
   "execution_count": 6,
   "metadata": {},
   "outputs": [
    {
     "name": "stdout",
     "output_type": "stream",
     "text": [
      "Звонки:\n",
      "1000    368\n",
      "1001    122\n",
      "1002    217\n",
      "1003    520\n",
      "1004    176\n",
      "       ... \n",
      "1495    565\n",
      "1496    828\n",
      "1497    201\n",
      "1498    180\n",
      "1499    220\n",
      "Name: user_id, Length: 492, dtype: int64\n",
      "Интернет сессии:\n",
      "1000    211\n",
      "1001     96\n",
      "1002    369\n",
      "1003    104\n",
      "1004    300\n",
      "       ... \n",
      "1495    254\n",
      "1496    834\n",
      "1497    121\n",
      "1498    232\n",
      "1499    157\n",
      "Name: user_id, Length: 497, dtype: int64\n",
      "Сообщения:\n",
      "1000     496\n",
      "1002      70\n",
      "1003     380\n",
      "1004    1192\n",
      "1005     552\n",
      "        ... \n",
      "1495     340\n",
      "1496     468\n",
      "1497      51\n",
      "1498     168\n",
      "1499     184\n",
      "Name: user_id, Length: 426, dtype: int64\n",
      "Пользователи:\n",
      "1000    1\n",
      "1001    1\n",
      "1002    1\n",
      "1003    1\n",
      "1004    1\n",
      "       ..\n",
      "1495    1\n",
      "1496    1\n",
      "1497    1\n",
      "1498    1\n",
      "1499    1\n",
      "Name: user_id, Length: 500, dtype: int64\n"
     ]
    }
   ],
   "source": [
    "print ('Звонки:')\n",
    "print (calls['user_id'].value_counts().sort_index())  #рассматриваем данные id пользователей на предмет уникальности таблицы 'calls'\n",
    "print ('Интернет сессии:')\n",
    "print (internet['user_id'].value_counts().sort_index())\n",
    "print ('Сообщения:')\n",
    "print (messages['user_id'].value_counts().sort_index())\n",
    "print ('Пользователи:')\n",
    "print (users['user_id'].value_counts().sort_index())"
   ]
  },
  {
   "cell_type": "markdown",
   "metadata": {},
   "source": [
    "- звонки 492 уникальных значения\n",
    "- интернет сессии 497 уникальных значения\n",
    "- сообщения 426 уникальных значений\n",
    "- пользователи 500 уникальных значений\n",
    "\n",
    "Как видно из данных, полученных с помощью метода value_counts, количество данных пользователей участвующих от фрейма к фрейму отличается. Столбец фрейма users, как отражающий наиболее полный список пользователей, может быть использован в качестве базового для осуществления сцепки таблиц в единый фрейм для анализа. "
   ]
  },
  {
   "cell_type": "markdown",
   "metadata": {},
   "source": [
    "### Вывод"
   ]
  },
  {
   "cell_type": "markdown",
   "metadata": {},
   "source": [
    " Анализ фреймов данных показал:\n",
    "- различные размеры фреймов - от 2 , до 202607 строк.\n",
    "- пропущенные значения (столбец churn_date)\n",
    "- различное число данных пользователей в столбцах user_id (предположительно не все пользователи прибегали к тем или иным возможностям тарифа, на что логично указывает в том числе 426 пользователей СМС сообщений);\n",
    "- столбцы с датами имеют тип object (требуется изменение на datetime)\n",
    "\n",
    "\n"
   ]
  },
  {
   "cell_type": "markdown",
   "metadata": {},
   "source": [
    "## Предобработка данных"
   ]
  },
  {
   "cell_type": "markdown",
   "metadata": {},
   "source": [
    "Заполним пустые значения в столбце с 'churn_date' на \"выбивающуюся\" дату в формате написания для дальнейшего преобразования."
   ]
  },
  {
   "cell_type": "code",
   "execution_count": 7,
   "metadata": {},
   "outputs": [],
   "source": [
    "#users.query('churn_date.isna() == False') #вызываем строки с заполненными данными для определения формата данных строки"
   ]
  },
  {
   "cell_type": "code",
   "execution_count": 8,
   "metadata": {},
   "outputs": [],
   "source": [
    "users['churn_date'] = users['churn_date'].fillna('2099-01-01') #заполняем пустые данные на заведомо выбивающееся значение (2022 г. 1 января)"
   ]
  },
  {
   "cell_type": "markdown",
   "metadata": {},
   "source": [
    "Пропущенные данные заполнены. Изменим типы данных в фреймах с датами (object в datetime):\n",
    "- calls\n",
    "- internet\n",
    "- messages\n",
    "- users"
   ]
  },
  {
   "cell_type": "code",
   "execution_count": 9,
   "metadata": {},
   "outputs": [
    {
     "name": "stdout",
     "output_type": "stream",
     "text": [
      "<class 'pandas.core.frame.DataFrame'>\n",
      "RangeIndex: 202607 entries, 0 to 202606\n",
      "Data columns (total 4 columns):\n",
      " #   Column     Non-Null Count   Dtype         \n",
      "---  ------     --------------   -----         \n",
      " 0   id         202607 non-null  object        \n",
      " 1   call_date  202607 non-null  datetime64[ns]\n",
      " 2   duration   202607 non-null  float64       \n",
      " 3   user_id    202607 non-null  int64         \n",
      "dtypes: datetime64[ns](1), float64(1), int64(1), object(1)\n",
      "memory usage: 6.2+ MB\n",
      "____________________________________________\n",
      "<class 'pandas.core.frame.DataFrame'>\n",
      "Int64Index: 149396 entries, 0 to 149395\n",
      "Data columns (total 4 columns):\n",
      " #   Column        Non-Null Count   Dtype         \n",
      "---  ------        --------------   -----         \n",
      " 0   id            149396 non-null  object        \n",
      " 1   mb_used       149396 non-null  float64       \n",
      " 2   session_date  149396 non-null  datetime64[ns]\n",
      " 3   user_id       149396 non-null  int64         \n",
      "dtypes: datetime64[ns](1), float64(1), int64(1), object(1)\n",
      "memory usage: 5.7+ MB\n",
      "____________________________________________\n",
      "<class 'pandas.core.frame.DataFrame'>\n",
      "RangeIndex: 123036 entries, 0 to 123035\n",
      "Data columns (total 3 columns):\n",
      " #   Column        Non-Null Count   Dtype         \n",
      "---  ------        --------------   -----         \n",
      " 0   id            123036 non-null  object        \n",
      " 1   message_date  123036 non-null  datetime64[ns]\n",
      " 2   user_id       123036 non-null  int64         \n",
      "dtypes: datetime64[ns](1), int64(1), object(1)\n",
      "memory usage: 2.8+ MB\n",
      "____________________________________________\n",
      "<class 'pandas.core.frame.DataFrame'>\n",
      "RangeIndex: 2 entries, 0 to 1\n",
      "Data columns (total 8 columns):\n",
      " #   Column                 Non-Null Count  Dtype \n",
      "---  ------                 --------------  ----- \n",
      " 0   messages_included      2 non-null      int64 \n",
      " 1   mb_per_month_included  2 non-null      int64 \n",
      " 2   minutes_included       2 non-null      int64 \n",
      " 3   rub_monthly_fee        2 non-null      int64 \n",
      " 4   rub_per_gb             2 non-null      int64 \n",
      " 5   rub_per_message        2 non-null      int64 \n",
      " 6   rub_per_minute         2 non-null      int64 \n",
      " 7   tariff_name            2 non-null      object\n",
      "dtypes: int64(7), object(1)\n",
      "memory usage: 256.0+ bytes\n",
      "____________________________________________\n",
      "<class 'pandas.core.frame.DataFrame'>\n",
      "RangeIndex: 500 entries, 0 to 499\n",
      "Data columns (total 8 columns):\n",
      " #   Column      Non-Null Count  Dtype         \n",
      "---  ------      --------------  -----         \n",
      " 0   user_id     500 non-null    int64         \n",
      " 1   age         500 non-null    int64         \n",
      " 2   churn_date  500 non-null    datetime64[ns]\n",
      " 3   city        500 non-null    object        \n",
      " 4   first_name  500 non-null    object        \n",
      " 5   last_name   500 non-null    object        \n",
      " 6   reg_date    500 non-null    datetime64[ns]\n",
      " 7   tariff      500 non-null    object        \n",
      "dtypes: datetime64[ns](2), int64(2), object(4)\n",
      "memory usage: 31.4+ KB\n"
     ]
    }
   ],
   "source": [
    "calls['call_date'] = pd.to_datetime(\n",
    "    calls['call_date'], format='%Y-%m-%d'\n",
    ")\n",
    "\n",
    "internet['session_date'] = pd.to_datetime(\n",
    "    internet['session_date'], format='%Y-%m-%d'\n",
    ")\n",
    "\n",
    "messages['message_date'] = pd.to_datetime(\n",
    "    messages['message_date'], format='%Y-%m-%d'\n",
    ")\n",
    "\n",
    "users['churn_date'] = pd.to_datetime(\n",
    "    users['churn_date'], format='%Y-%m-%d'\n",
    ")\n",
    "\n",
    "users['reg_date'] = pd.to_datetime(\n",
    "    users['reg_date'], format='%Y-%m-%d'\n",
    ")\n",
    "#ознакомимся в изменениях данных\n",
    "calls.info()\n",
    "print ('____________________________________________')\n",
    "internet.info()\n",
    "print ('____________________________________________')\n",
    "messages.info()\n",
    "print ('____________________________________________')\n",
    "tariffs.info()\n",
    "print ('____________________________________________')\n",
    "users.info()\n",
    "\n"
   ]
  },
  {
   "cell_type": "code",
   "execution_count": 10,
   "metadata": {},
   "outputs": [
    {
     "data": {
      "image/png": "[encoded data removed]",
      "text/plain": [
       "<Figure size 720x576 with 1 Axes>"
      ]
     },
     "metadata": {
      "needs_background": "light"
     },
     "output_type": "display_data"
    }
   ],
   "source": [
    "calls['duration'].hist(bins=80, figsize = (10,8))\n",
    "\n",
    "plt.show()"
   ]
  },
  {
   "cell_type": "code",
   "execution_count": 11,
   "metadata": {},
   "outputs": [
    {
     "data": {
      "image/png": "[encoded data removed]",
      "text/plain": [
       "<Figure size 720x576 with 1 Axes>"
      ]
     },
     "metadata": {
      "needs_background": "light"
     },
     "output_type": "display_data"
    }
   ],
   "source": [
    "internet['mb_used'].hist(bins=80, figsize = (10,8))\n",
    "plt.show()"
   ]
  },
  {
   "cell_type": "code",
   "execution_count": 12,
   "metadata": {},
   "outputs": [
    {
     "data": {
      "image/png": "[encoded data removed]",
      "text/plain": [
       "<Figure size 432x288 with 1 Axes>"
      ]
     },
     "metadata": {
      "needs_background": "light"
     },
     "output_type": "display_data"
    }
   ],
   "source": [
    "plt.boxplot(calls['duration'])\n",
    "plt.show()"
   ]
  },
  {
   "cell_type": "code",
   "execution_count": 13,
   "metadata": {},
   "outputs": [
    {
     "name": "stdout",
     "output_type": "stream",
     "text": [
      "до удаления________________________\n",
      "_________________________________\n",
      "<class 'pandas.core.frame.DataFrame'>\n",
      "Int64Index: 149396 entries, 0 to 149395\n",
      "Data columns (total 4 columns):\n",
      " #   Column        Non-Null Count   Dtype         \n",
      "---  ------        --------------   -----         \n",
      " 0   id            149396 non-null  object        \n",
      " 1   mb_used       149396 non-null  float64       \n",
      " 2   session_date  149396 non-null  datetime64[ns]\n",
      " 3   user_id       149396 non-null  int64         \n",
      "dtypes: datetime64[ns](1), float64(1), int64(1), object(1)\n",
      "memory usage: 5.7+ MB\n",
      "после удаления______________________\n",
      "_________________________________\n",
      "<class 'pandas.core.frame.DataFrame'>\n",
      "Int64Index: 129798 entries, 0 to 149395\n",
      "Data columns (total 4 columns):\n",
      " #   Column        Non-Null Count   Dtype         \n",
      "---  ------        --------------   -----         \n",
      " 0   id            129798 non-null  object        \n",
      " 1   mb_used       129798 non-null  float64       \n",
      " 2   session_date  129798 non-null  datetime64[ns]\n",
      " 3   user_id       129798 non-null  int64         \n",
      "dtypes: datetime64[ns](1), float64(1), int64(1), object(1)\n",
      "memory usage: 5.0+ MB\n"
     ]
    }
   ],
   "source": [
    "print ('до удаления________________________')\n",
    "print ('_________________________________')\n",
    "internet.info()\n",
    "internet = internet.drop(internet[internet.mb_used == 0].index)\n",
    "print ('после удаления______________________')\n",
    "print ('_________________________________')\n",
    "internet.info()"
   ]
  },
  {
   "cell_type": "markdown",
   "metadata": {},
   "source": [
    "Типы данных успешно изменены.\n",
    "\n",
    "Для решения задачи расчёта объема потреблённых услуг по месяцам, введём дополнительные столбцы в фреймах с соответствующим **месяцем**"
   ]
  },
  {
   "cell_type": "code",
   "execution_count": 14,
   "metadata": {},
   "outputs": [
    {
     "name": "stdout",
     "output_type": "stream",
     "text": [
      "<class 'pandas.core.frame.DataFrame'>\n",
      "Int64Index: 202607 entries, 0 to 202606\n",
      "Data columns (total 12 columns):\n",
      " #   Column      Non-Null Count   Dtype         \n",
      "---  ------      --------------   -----         \n",
      " 0   id          202607 non-null  object        \n",
      " 1   call_date   202607 non-null  datetime64[ns]\n",
      " 2   duration    202607 non-null  float64       \n",
      " 3   user_id     202607 non-null  int64         \n",
      " 4   month       202607 non-null  int64         \n",
      " 5   age         202607 non-null  int64         \n",
      " 6   churn_date  202607 non-null  datetime64[ns]\n",
      " 7   city        202607 non-null  object        \n",
      " 8   first_name  202607 non-null  object        \n",
      " 9   last_name   202607 non-null  object        \n",
      " 10  reg_date    202607 non-null  datetime64[ns]\n",
      " 11  tariff      202607 non-null  object        \n",
      "dtypes: datetime64[ns](3), float64(1), int64(3), object(5)\n",
      "memory usage: 20.1+ MB\n",
      "средняя величина длительности разговора до округления составляет 6.746559030042621\n"
     ]
    }
   ],
   "source": [
    "calls['month'] = calls['call_date'].dt.month\n",
    "internet['month'] = internet['session_date'].dt.month\n",
    "messages['month'] = messages['message_date'].dt.month\n",
    "\n",
    "\n",
    "#округлим значение столбца времени звонка с тарифом смарт (в соответствии с условиями тарифа для корректного расчёта)\n",
    "calls = pd.merge(calls, users, how = 'inner', on = 'user_id') #совместим таблицу calls и users для одновременного отображения\n",
    "calls.info()                                                  #тарифов и времени разговора\n",
    "print ('средняя величина длительности разговора до округления составляет', calls.query('tariff == \"smart\"')['duration'].mean())\n",
    "def round_ceil_duration (row): #вводим функцию округления длительности тарифов смарт для метода apply\n",
    "    duration_revenue = 0\n",
    "    tariff = row['tariff']\n",
    "    duration = row['duration']\n",
    "    if tariff == 'smart':\n",
    "        duration_revenue = math.ceil(duration) #для округления использовали модуль math и метод ceil\n",
    "        return duration_revenue\n",
    "    else: \n",
    "        return duration\n",
    "\n",
    "calls['duration'] = calls.apply(round_ceil_duration, axis = 1) #используем метод apply, c функцией округления\n",
    "\n",
    "    "
   ]
  },
  {
   "cell_type": "code",
   "execution_count": 15,
   "metadata": {},
   "outputs": [
    {
     "name": "stdout",
     "output_type": "stream",
     "text": [
      "mean before 7.014511838189173\n",
      "mean after 7.158197890497367\n"
     ]
    }
   ],
   "source": [
    "print ('mean before',calls['duration'].mean())\n",
    "calls['duration'] = np.ceil(calls['duration'])\n",
    "print ('mean after', calls['duration'].mean())"
   ]
  },
  {
   "cell_type": "code",
   "execution_count": 16,
   "metadata": {},
   "outputs": [
    {
     "name": "stdout",
     "output_type": "stream",
     "text": [
      "Среднее значение после округления 7.1486551816751716\n",
      "Общая длительность всех звонков в выборке 931577.0\n"
     ]
    }
   ],
   "source": [
    "print ('Среднее значение после округления', calls.query('tariff == \"smart\"')['duration'].mean())\n",
    "print ('Общая длительность всех звонков в выборке', calls.query('tariff == \"smart\"')['duration'].sum())\n",
    "#print(calls['duration'].sum())\n",
    "#print (calls['duration'].mean())"
   ]
  },
  {
   "cell_type": "markdown",
   "metadata": {},
   "source": [
    "***Промежуточный вывод*** Сумма всех ячеек столбца фрейма с длительностью звонков составляет целое число, что с большой вероятностью говорит об успешном округлении всех ячеек фрейма, средний показатель длительности звонков логично вырос. Ячейки готовы для расчёта показателей выручки."
   ]
  },
  {
   "cell_type": "markdown",
   "metadata": {},
   "source": [
    "Введём новый фрейм с агрегированными показателями **по каждому пользователю**, в т.ч. mean, count, sum. Для этого воспользуемся pivot таблицами. Методология дальнейшей работы с данными: по общим задачам - работаем со сводными таблицами и агрегированными показателями, в случае необходимости углубления в данные - вновь прибегаем к отдельным фреймам."
   ]
  },
  {
   "cell_type": "code",
   "execution_count": 17,
   "metadata": {},
   "outputs": [
    {
     "data": {
      "image/png": "[encoded data removed]",
      "text/plain": [
       "<Figure size 720x504 with 9 Axes>"
      ]
     },
     "metadata": {
      "needs_background": "light"
     },
     "output_type": "display_data"
    }
   ],
   "source": [
    "calls_pivot = calls.pivot_table(index='user_id', values='duration', aggfunc= ['sum','mean'])\n",
    "calls_pivot = calls_pivot.reset_index()\n",
    "calls_pivot.columns = ['user_id', 'duration_sum', 'duration_mean']\n",
    "\n",
    "internet_pivot = internet.pivot_table(index = 'user_id', values = 'mb_used', aggfunc = ['sum','mean'])\n",
    "internet_pivot = internet_pivot.reset_index()\n",
    "internet_pivot.columns = ['user_id', 'mb_used_sum', 'mb_used_mean']\n",
    "\n",
    "messages_pivot = messages.pivot_table(index = 'user_id', values = 'message_date', aggfunc = 'count')\n",
    "messages_pivot = messages_pivot.reset_index()\n",
    "messages_pivot.columns = ['user_id', 'messages_count']\n",
    "\n",
    "\n",
    "df_pivot = pd.merge (users, calls_pivot,   how='left', on='user_id')\n",
    "df_pivot = pd.merge (df_pivot, internet_pivot, how='left', on='user_id')\n",
    "df_pivot = pd.merge (df_pivot, messages_pivot, how='left', on='user_id')\n",
    "\n",
    "\n",
    "\n",
    "df_pivot.hist(bins = 40, figsize = (10,7)) #предварительно оценим распределение значений в столбцах\n",
    "plt.show()"
   ]
  },
  {
   "cell_type": "markdown",
   "metadata": {},
   "source": [
    "### Вывод"
   ]
  },
  {
   "cell_type": "markdown",
   "metadata": {},
   "source": [
    "Типы данных приведены в соответствие по фреймам, пропущенные значения заполнены, данные сведены в новый фрейм с агрегированными методами для первичного исследовательского анализа.\n",
    "\n",
    "Рассмотрение распределений сводной таблицы показало следующее:\n",
    "- age - равномерно распределённая вероятность\n",
    "- duration_mean - распределение нормальное, возможные подвыборки с длительностями разговора с большой долей вероятности будут распределены вокруг пика этого распределения;\n",
    "- duration_sum - общая длительность звонков, гистограмма имеет вид Пуассоновского распределения;\n",
    "- mb_used_mean - средний использованный траффик интернета. На граффике 2 распределения близких к нормальным - вероятно связано с различными лимитами тарифов;\n",
    "- mb_used_sum - сумма трафика по пользователям, вероятное наложение 2х подвыборок (с разными тарифами) имеет вид распределения близкий к Пуассоновскому;\n",
    "- messages_count - распределение по количеству отправленных сообщений, распределение Пуассоновское.\n",
    "\n",
    "Фреймы готовы для добавления результатов в таблицу, исследовательского и статистического анализа."
   ]
  },
  {
   "cell_type": "markdown",
   "metadata": {},
   "source": [
    "## Расчёты и добавление результатов в таблицу"
   ]
  },
  {
   "cell_type": "markdown",
   "metadata": {},
   "source": [
    "Добавим в сводную таблицу столбцы с агрегированными показателями с разбивкой по пользователям:\n",
    "- количества звонков по месяцам и их длительность\n",
    "- количества сообщений по месяцам \n",
    "- объём траффика и количество сессий интернета по месяцам \n",
    "- помесячная выручка\n",
    "\n",
    "Создадим сводные таблицы сразу по 2м индексам - user_id и месяцами. Затем в качестве величин определим:\n",
    "- для длительности звонков - сумму и количество звонков\n",
    "- для сообщений - количество сообщений\n",
    "- для интернета - количество сессий и сумму мегабайт"
   ]
  },
  {
   "cell_type": "code",
   "execution_count": 18,
   "metadata": {},
   "outputs": [],
   "source": [
    "calls_month = calls.pivot_table(index = ['user_id', 'month'], values = 'duration', aggfunc = ['sum','count']).reset_index()\n",
    "messages_month = messages.pivot_table(index = ['user_id', 'month'], values = 'message_date', aggfunc = 'count').reset_index()\n",
    "internet_month = internet.pivot_table(index = ['user_id', 'month'], values = 'mb_used', aggfunc = ['count', 'sum']).reset_index()"
   ]
  },
  {
   "cell_type": "markdown",
   "metadata": {},
   "source": [
    "Совместим три новых фрейма в единый по двум столбцам - месяц и id клиента для добавления новых данных (выручки) и помесячного анализа некоторых показателей."
   ]
  },
  {
   "cell_type": "code",
   "execution_count": 19,
   "metadata": {},
   "outputs": [
    {
     "data": {
      "text/html": [
       "<div>\n",
       "<style scoped>\n",
       "    .dataframe tbody tr th:only-of-type {\n",
       "        vertical-align: middle;\n",
       "    }\n",
       "\n",
       "    .dataframe tbody tr th {\n",
       "        vertical-align: top;\n",
       "    }\n",
       "\n",
       "    .dataframe thead th {\n",
       "        text-align: right;\n",
       "    }\n",
       "</style>\n",
       "<table border=\"1\" class=\"dataframe\">\n",
       "  <thead>\n",
       "    <tr style=\"text-align: right;\">\n",
       "      <th></th>\n",
       "      <th>month</th>\n",
       "      <th>user_id</th>\n",
       "      <th>call_duration</th>\n",
       "      <th>count_calls</th>\n",
       "      <th>count_message</th>\n",
       "      <th>internet_sessions</th>\n",
       "      <th>mb_used</th>\n",
       "    </tr>\n",
       "  </thead>\n",
       "  <tbody>\n",
       "    <tr>\n",
       "      <th>0</th>\n",
       "      <td>5</td>\n",
       "      <td>1000</td>\n",
       "      <td>159.0</td>\n",
       "      <td>22.0</td>\n",
       "      <td>22.0</td>\n",
       "      <td>4.0</td>\n",
       "      <td>2253.49</td>\n",
       "    </tr>\n",
       "    <tr>\n",
       "      <th>1</th>\n",
       "      <td>6</td>\n",
       "      <td>1000</td>\n",
       "      <td>172.0</td>\n",
       "      <td>43.0</td>\n",
       "      <td>60.0</td>\n",
       "      <td>44.0</td>\n",
       "      <td>23233.77</td>\n",
       "    </tr>\n",
       "    <tr>\n",
       "      <th>2</th>\n",
       "      <td>7</td>\n",
       "      <td>1000</td>\n",
       "      <td>340.0</td>\n",
       "      <td>47.0</td>\n",
       "      <td>75.0</td>\n",
       "      <td>28.0</td>\n",
       "      <td>14003.64</td>\n",
       "    </tr>\n",
       "    <tr>\n",
       "      <th>3</th>\n",
       "      <td>8</td>\n",
       "      <td>1000</td>\n",
       "      <td>408.0</td>\n",
       "      <td>52.0</td>\n",
       "      <td>81.0</td>\n",
       "      <td>27.0</td>\n",
       "      <td>14055.93</td>\n",
       "    </tr>\n",
       "    <tr>\n",
       "      <th>4</th>\n",
       "      <td>9</td>\n",
       "      <td>1000</td>\n",
       "      <td>466.0</td>\n",
       "      <td>58.0</td>\n",
       "      <td>57.0</td>\n",
       "      <td>25.0</td>\n",
       "      <td>14568.91</td>\n",
       "    </tr>\n",
       "    <tr>\n",
       "      <th>...</th>\n",
       "      <td>...</td>\n",
       "      <td>...</td>\n",
       "      <td>...</td>\n",
       "      <td>...</td>\n",
       "      <td>...</td>\n",
       "      <td>...</td>\n",
       "      <td>...</td>\n",
       "    </tr>\n",
       "    <tr>\n",
       "      <th>3209</th>\n",
       "      <td>9</td>\n",
       "      <td>1489</td>\n",
       "      <td>0.0</td>\n",
       "      <td>0.0</td>\n",
       "      <td>32.0</td>\n",
       "      <td>49.0</td>\n",
       "      <td>17206.30</td>\n",
       "    </tr>\n",
       "    <tr>\n",
       "      <th>3210</th>\n",
       "      <td>10</td>\n",
       "      <td>1489</td>\n",
       "      <td>0.0</td>\n",
       "      <td>0.0</td>\n",
       "      <td>21.0</td>\n",
       "      <td>52.0</td>\n",
       "      <td>19559.44</td>\n",
       "    </tr>\n",
       "    <tr>\n",
       "      <th>3211</th>\n",
       "      <td>11</td>\n",
       "      <td>1489</td>\n",
       "      <td>0.0</td>\n",
       "      <td>0.0</td>\n",
       "      <td>20.0</td>\n",
       "      <td>45.0</td>\n",
       "      <td>17491.56</td>\n",
       "    </tr>\n",
       "    <tr>\n",
       "      <th>3212</th>\n",
       "      <td>12</td>\n",
       "      <td>1489</td>\n",
       "      <td>0.0</td>\n",
       "      <td>0.0</td>\n",
       "      <td>35.0</td>\n",
       "      <td>43.0</td>\n",
       "      <td>17322.51</td>\n",
       "    </tr>\n",
       "    <tr>\n",
       "      <th>3213</th>\n",
       "      <td>4</td>\n",
       "      <td>1476</td>\n",
       "      <td>0.0</td>\n",
       "      <td>0.0</td>\n",
       "      <td>0.0</td>\n",
       "      <td>1.0</td>\n",
       "      <td>530.78</td>\n",
       "    </tr>\n",
       "  </tbody>\n",
       "</table>\n",
       "<p>3214 rows × 7 columns</p>\n",
       "</div>"
      ],
      "text/plain": [
       "      month  user_id  call_duration  count_calls  count_message  \\\n",
       "0         5     1000          159.0         22.0           22.0   \n",
       "1         6     1000          172.0         43.0           60.0   \n",
       "2         7     1000          340.0         47.0           75.0   \n",
       "3         8     1000          408.0         52.0           81.0   \n",
       "4         9     1000          466.0         58.0           57.0   \n",
       "...     ...      ...            ...          ...            ...   \n",
       "3209      9     1489            0.0          0.0           32.0   \n",
       "3210     10     1489            0.0          0.0           21.0   \n",
       "3211     11     1489            0.0          0.0           20.0   \n",
       "3212     12     1489            0.0          0.0           35.0   \n",
       "3213      4     1476            0.0          0.0            0.0   \n",
       "\n",
       "      internet_sessions   mb_used  \n",
       "0                   4.0   2253.49  \n",
       "1                  44.0  23233.77  \n",
       "2                  28.0  14003.64  \n",
       "3                  27.0  14055.93  \n",
       "4                  25.0  14568.91  \n",
       "...                 ...       ...  \n",
       "3209               49.0  17206.30  \n",
       "3210               52.0  19559.44  \n",
       "3211               45.0  17491.56  \n",
       "3212               43.0  17322.51  \n",
       "3213                1.0    530.78  \n",
       "\n",
       "[3214 rows x 7 columns]"
      ]
     },
     "execution_count": 19,
     "metadata": {},
     "output_type": "execute_result"
    }
   ],
   "source": [
    "\n",
    "df_month = pd.merge (calls_month, messages_month, how='outer', on=['month','user_id']) #используем merge соединяем по внешнему (с сохранением всех строк каждого фрейма)\n",
    "df_month = pd.merge (df_month,internet_month, how='outer', on=['month','user_id'] ) \n",
    "\n",
    "\n",
    "df_month.columns = ['month','user_id','user_id_2','month_2','call_duration','count_calls','count_message','internet_sessions','mb_used'] #переименовываем столбцы\n",
    "df_month = df_month.drop(['user_id_2'], axis = 1) #удаляем все дубликаты столбцов от сцепки\n",
    "df_month = df_month.drop(['month_2'], axis = 1)\n",
    "\n",
    "df_month.fillna(0) #пропущенные значения заполняем на нули\n"
   ]
  },
  {
   "cell_type": "code",
   "execution_count": 20,
   "metadata": {},
   "outputs": [
    {
     "data": {
      "text/html": [
       "<div>\n",
       "<style scoped>\n",
       "    .dataframe tbody tr th:only-of-type {\n",
       "        vertical-align: middle;\n",
       "    }\n",
       "\n",
       "    .dataframe tbody tr th {\n",
       "        vertical-align: top;\n",
       "    }\n",
       "\n",
       "    .dataframe thead th {\n",
       "        text-align: right;\n",
       "    }\n",
       "</style>\n",
       "<table border=\"1\" class=\"dataframe\">\n",
       "  <thead>\n",
       "    <tr style=\"text-align: right;\">\n",
       "      <th></th>\n",
       "      <th>month</th>\n",
       "      <th>user_id</th>\n",
       "      <th>call_duration</th>\n",
       "      <th>count_calls</th>\n",
       "      <th>count_message</th>\n",
       "      <th>internet_sessions</th>\n",
       "      <th>mb_used</th>\n",
       "      <th>age</th>\n",
       "      <th>churn_date</th>\n",
       "      <th>city</th>\n",
       "      <th>first_name</th>\n",
       "      <th>last_name</th>\n",
       "      <th>reg_date</th>\n",
       "      <th>tariff</th>\n",
       "    </tr>\n",
       "  </thead>\n",
       "  <tbody>\n",
       "    <tr>\n",
       "      <th>0</th>\n",
       "      <td>5.0</td>\n",
       "      <td>1000</td>\n",
       "      <td>159.0</td>\n",
       "      <td>22.0</td>\n",
       "      <td>22.0</td>\n",
       "      <td>4.0</td>\n",
       "      <td>2253.49</td>\n",
       "      <td>52</td>\n",
       "      <td>2099-01-01</td>\n",
       "      <td>Краснодар</td>\n",
       "      <td>Рафаил</td>\n",
       "      <td>Верещагин</td>\n",
       "      <td>2018-05-25</td>\n",
       "      <td>ultra</td>\n",
       "    </tr>\n",
       "    <tr>\n",
       "      <th>1</th>\n",
       "      <td>6.0</td>\n",
       "      <td>1000</td>\n",
       "      <td>172.0</td>\n",
       "      <td>43.0</td>\n",
       "      <td>60.0</td>\n",
       "      <td>44.0</td>\n",
       "      <td>23233.77</td>\n",
       "      <td>52</td>\n",
       "      <td>2099-01-01</td>\n",
       "      <td>Краснодар</td>\n",
       "      <td>Рафаил</td>\n",
       "      <td>Верещагин</td>\n",
       "      <td>2018-05-25</td>\n",
       "      <td>ultra</td>\n",
       "    </tr>\n",
       "    <tr>\n",
       "      <th>2</th>\n",
       "      <td>7.0</td>\n",
       "      <td>1000</td>\n",
       "      <td>340.0</td>\n",
       "      <td>47.0</td>\n",
       "      <td>75.0</td>\n",
       "      <td>28.0</td>\n",
       "      <td>14003.64</td>\n",
       "      <td>52</td>\n",
       "      <td>2099-01-01</td>\n",
       "      <td>Краснодар</td>\n",
       "      <td>Рафаил</td>\n",
       "      <td>Верещагин</td>\n",
       "      <td>2018-05-25</td>\n",
       "      <td>ultra</td>\n",
       "    </tr>\n",
       "    <tr>\n",
       "      <th>3</th>\n",
       "      <td>8.0</td>\n",
       "      <td>1000</td>\n",
       "      <td>408.0</td>\n",
       "      <td>52.0</td>\n",
       "      <td>81.0</td>\n",
       "      <td>27.0</td>\n",
       "      <td>14055.93</td>\n",
       "      <td>52</td>\n",
       "      <td>2099-01-01</td>\n",
       "      <td>Краснодар</td>\n",
       "      <td>Рафаил</td>\n",
       "      <td>Верещагин</td>\n",
       "      <td>2018-05-25</td>\n",
       "      <td>ultra</td>\n",
       "    </tr>\n",
       "    <tr>\n",
       "      <th>4</th>\n",
       "      <td>9.0</td>\n",
       "      <td>1000</td>\n",
       "      <td>466.0</td>\n",
       "      <td>58.0</td>\n",
       "      <td>57.0</td>\n",
       "      <td>25.0</td>\n",
       "      <td>14568.91</td>\n",
       "      <td>52</td>\n",
       "      <td>2099-01-01</td>\n",
       "      <td>Краснодар</td>\n",
       "      <td>Рафаил</td>\n",
       "      <td>Верещагин</td>\n",
       "      <td>2018-05-25</td>\n",
       "      <td>ultra</td>\n",
       "    </tr>\n",
       "    <tr>\n",
       "      <th>...</th>\n",
       "      <td>...</td>\n",
       "      <td>...</td>\n",
       "      <td>...</td>\n",
       "      <td>...</td>\n",
       "      <td>...</td>\n",
       "      <td>...</td>\n",
       "      <td>...</td>\n",
       "      <td>...</td>\n",
       "      <td>...</td>\n",
       "      <td>...</td>\n",
       "      <td>...</td>\n",
       "      <td>...</td>\n",
       "      <td>...</td>\n",
       "      <td>...</td>\n",
       "    </tr>\n",
       "    <tr>\n",
       "      <th>3211</th>\n",
       "      <td>10.0</td>\n",
       "      <td>1489</td>\n",
       "      <td>NaN</td>\n",
       "      <td>NaN</td>\n",
       "      <td>21.0</td>\n",
       "      <td>52.0</td>\n",
       "      <td>19559.44</td>\n",
       "      <td>35</td>\n",
       "      <td>2099-01-01</td>\n",
       "      <td>Санкт-Петербург</td>\n",
       "      <td>Павел</td>\n",
       "      <td>Гончаров</td>\n",
       "      <td>2018-08-15</td>\n",
       "      <td>smart</td>\n",
       "    </tr>\n",
       "    <tr>\n",
       "      <th>3212</th>\n",
       "      <td>11.0</td>\n",
       "      <td>1489</td>\n",
       "      <td>NaN</td>\n",
       "      <td>NaN</td>\n",
       "      <td>20.0</td>\n",
       "      <td>45.0</td>\n",
       "      <td>17491.56</td>\n",
       "      <td>35</td>\n",
       "      <td>2099-01-01</td>\n",
       "      <td>Санкт-Петербург</td>\n",
       "      <td>Павел</td>\n",
       "      <td>Гончаров</td>\n",
       "      <td>2018-08-15</td>\n",
       "      <td>smart</td>\n",
       "    </tr>\n",
       "    <tr>\n",
       "      <th>3213</th>\n",
       "      <td>12.0</td>\n",
       "      <td>1489</td>\n",
       "      <td>NaN</td>\n",
       "      <td>NaN</td>\n",
       "      <td>35.0</td>\n",
       "      <td>43.0</td>\n",
       "      <td>17322.51</td>\n",
       "      <td>35</td>\n",
       "      <td>2099-01-01</td>\n",
       "      <td>Санкт-Петербург</td>\n",
       "      <td>Павел</td>\n",
       "      <td>Гончаров</td>\n",
       "      <td>2018-08-15</td>\n",
       "      <td>smart</td>\n",
       "    </tr>\n",
       "    <tr>\n",
       "      <th>3214</th>\n",
       "      <td>NaN</td>\n",
       "      <td>1128</td>\n",
       "      <td>NaN</td>\n",
       "      <td>NaN</td>\n",
       "      <td>NaN</td>\n",
       "      <td>NaN</td>\n",
       "      <td>NaN</td>\n",
       "      <td>51</td>\n",
       "      <td>2018-12-23</td>\n",
       "      <td>Волжский</td>\n",
       "      <td>Ксения</td>\n",
       "      <td>Агаева</td>\n",
       "      <td>2018-12-15</td>\n",
       "      <td>ultra</td>\n",
       "    </tr>\n",
       "    <tr>\n",
       "      <th>3215</th>\n",
       "      <td>NaN</td>\n",
       "      <td>1371</td>\n",
       "      <td>NaN</td>\n",
       "      <td>NaN</td>\n",
       "      <td>NaN</td>\n",
       "      <td>NaN</td>\n",
       "      <td>NaN</td>\n",
       "      <td>50</td>\n",
       "      <td>2018-12-30</td>\n",
       "      <td>Омск</td>\n",
       "      <td>Ириней</td>\n",
       "      <td>Трофимов</td>\n",
       "      <td>2018-12-25</td>\n",
       "      <td>smart</td>\n",
       "    </tr>\n",
       "  </tbody>\n",
       "</table>\n",
       "<p>3216 rows × 14 columns</p>\n",
       "</div>"
      ],
      "text/plain": [
       "      month  user_id  call_duration  count_calls  count_message  \\\n",
       "0       5.0     1000          159.0         22.0           22.0   \n",
       "1       6.0     1000          172.0         43.0           60.0   \n",
       "2       7.0     1000          340.0         47.0           75.0   \n",
       "3       8.0     1000          408.0         52.0           81.0   \n",
       "4       9.0     1000          466.0         58.0           57.0   \n",
       "...     ...      ...            ...          ...            ...   \n",
       "3211   10.0     1489            NaN          NaN           21.0   \n",
       "3212   11.0     1489            NaN          NaN           20.0   \n",
       "3213   12.0     1489            NaN          NaN           35.0   \n",
       "3214    NaN     1128            NaN          NaN            NaN   \n",
       "3215    NaN     1371            NaN          NaN            NaN   \n",
       "\n",
       "      internet_sessions   mb_used  age churn_date             city first_name  \\\n",
       "0                   4.0   2253.49   52 2099-01-01        Краснодар     Рафаил   \n",
       "1                  44.0  23233.77   52 2099-01-01        Краснодар     Рафаил   \n",
       "2                  28.0  14003.64   52 2099-01-01        Краснодар     Рафаил   \n",
       "3                  27.0  14055.93   52 2099-01-01        Краснодар     Рафаил   \n",
       "4                  25.0  14568.91   52 2099-01-01        Краснодар     Рафаил   \n",
       "...                 ...       ...  ...        ...              ...        ...   \n",
       "3211               52.0  19559.44   35 2099-01-01  Санкт-Петербург      Павел   \n",
       "3212               45.0  17491.56   35 2099-01-01  Санкт-Петербург      Павел   \n",
       "3213               43.0  17322.51   35 2099-01-01  Санкт-Петербург      Павел   \n",
       "3214                NaN       NaN   51 2018-12-23         Волжский     Ксения   \n",
       "3215                NaN       NaN   50 2018-12-30             Омск     Ириней   \n",
       "\n",
       "      last_name   reg_date tariff  \n",
       "0     Верещагин 2018-05-25  ultra  \n",
       "1     Верещагин 2018-05-25  ultra  \n",
       "2     Верещагин 2018-05-25  ultra  \n",
       "3     Верещагин 2018-05-25  ultra  \n",
       "4     Верещагин 2018-05-25  ultra  \n",
       "...         ...        ...    ...  \n",
       "3211   Гончаров 2018-08-15  smart  \n",
       "3212   Гончаров 2018-08-15  smart  \n",
       "3213   Гончаров 2018-08-15  smart  \n",
       "3214     Агаева 2018-12-15  ultra  \n",
       "3215   Трофимов 2018-12-25  smart  \n",
       "\n",
       "[3216 rows x 14 columns]"
      ]
     },
     "execution_count": 20,
     "metadata": {},
     "output_type": "execute_result"
    }
   ],
   "source": [
    "#сцепляем фрейм с данными пользователей\n",
    "df_month = pd.merge(df_month, users, how = 'outer', on = 'user_id')\n",
    "df_month #проверяем результат сцепки"
   ]
  },
  {
   "cell_type": "markdown",
   "metadata": {},
   "source": [
    "Сцепка показала наличие 2х пользователей без сводных средних значений по месяцам, это пользователи с user_id  = 1128,1371 (разница между датой регистрации и датой отписки около 7 дней). Предположительно подписка была пробной или случайной.\n",
    "\n",
    "Добавим столбец с показателем выручки по месяцам в разрезе каждого пользователя. \n",
    "\n",
    "Заполнение строк осуществим через метод apply"
   ]
  },
  {
   "cell_type": "code",
   "execution_count": 21,
   "metadata": {},
   "outputs": [],
   "source": [
    "tariffs.columns = ['messages_included', 'mb_per_month_included', 'minutes_included',\n",
    "       'rub_monthly_fee', 'rub_per_gb', 'rub_per_message', 'rub_per_minute',\n",
    "       'tariff']  #меняем имя столбца с тарифами для сцепки двух фреймов по столбцу 'tariff'"
   ]
  },
  {
   "cell_type": "code",
   "execution_count": 22,
   "metadata": {},
   "outputs": [
    {
     "name": "stdout",
     "output_type": "stream",
     "text": [
      "<class 'pandas.core.frame.DataFrame'>\n",
      "Int64Index: 3216 entries, 0 to 3215\n",
      "Data columns (total 21 columns):\n",
      " #   Column                 Non-Null Count  Dtype         \n",
      "---  ------                 --------------  -----         \n",
      " 0   month                  3216 non-null   float64       \n",
      " 1   user_id                3216 non-null   int64         \n",
      " 2   call_duration          3216 non-null   float64       \n",
      " 3   count_calls            3216 non-null   float64       \n",
      " 4   count_message          3216 non-null   float64       \n",
      " 5   internet_sessions      3216 non-null   float64       \n",
      " 6   mb_used                3216 non-null   float64       \n",
      " 7   age                    3216 non-null   int64         \n",
      " 8   churn_date             3216 non-null   datetime64[ns]\n",
      " 9   city                   3216 non-null   object        \n",
      " 10  first_name             3216 non-null   object        \n",
      " 11  last_name              3216 non-null   object        \n",
      " 12  reg_date               3216 non-null   datetime64[ns]\n",
      " 13  tariff                 3216 non-null   object        \n",
      " 14  messages_included      3216 non-null   int64         \n",
      " 15  mb_per_month_included  3216 non-null   int64         \n",
      " 16  minutes_included       3216 non-null   int64         \n",
      " 17  rub_monthly_fee        3216 non-null   int64         \n",
      " 18  rub_per_gb             3216 non-null   int64         \n",
      " 19  rub_per_message        3216 non-null   int64         \n",
      " 20  rub_per_minute         3216 non-null   int64         \n",
      "dtypes: datetime64[ns](2), float64(6), int64(9), object(4)\n",
      "memory usage: 552.8+ KB\n"
     ]
    },
    {
     "data": {
      "text/plain": [
       "Index(['month', 'user_id', 'call_duration', 'count_calls', 'count_message',\n",
       "       'internet_sessions', 'mb_used', 'age', 'churn_date', 'city',\n",
       "       'first_name', 'last_name', 'reg_date', 'tariff', 'messages_included',\n",
       "       'mb_per_month_included', 'minutes_included', 'rub_monthly_fee',\n",
       "       'rub_per_gb', 'rub_per_message', 'rub_per_minute'],\n",
       "      dtype='object')"
      ]
     },
     "execution_count": 22,
     "metadata": {},
     "output_type": "execute_result"
    }
   ],
   "source": [
    "\n",
    "df_month = pd.merge(df_month, tariffs, how = 'left', on = 'tariff') #добавляем во фрейм данные соответствующего тарифа \n",
    "df_month = df_month.fillna(0)\n",
    "df_month.info() #проверяем корректность сцепки \n",
    "df_month.columns"
   ]
  },
  {
   "cell_type": "code",
   "execution_count": 23,
   "metadata": {},
   "outputs": [],
   "source": [
    "df_month['mb_used'] = df_month['mb_used']/1024                                             #преобразую в ГБты \n",
    "df_month['mb_per_month_included'] = df_month['mb_per_month_included']/1024\n",
    "\n",
    "df_month['mb_used'] = np.ceil(df_month['mb_used'])\n",
    "df_month['mb_per_month_included'] = np.ceil(df_month['mb_per_month_included'])\n",
    "\n",
    "df_month.columns = ['month', 'user_id', 'call_duration', 'count_calls', 'count_message',   #меняю название столбцов Мб в Гб\n",
    "       'internet_sessions', 'gb_used', 'age', 'churn_date', 'city',\n",
    "       'first_name', 'last_name', 'reg_date', 'tariff', 'messages_included',\n",
    "       'gb_per_month_included', 'minutes_included', 'rub_monthly_fee',\n",
    "       'rub_per_gb', 'rub_per_message', 'rub_per_minute']"
   ]
  },
  {
   "cell_type": "code",
   "execution_count": 24,
   "metadata": {},
   "outputs": [
    {
     "data": {
      "text/plain": [
       "49.0"
      ]
     },
     "execution_count": 24,
     "metadata": {},
     "output_type": "execute_result"
    }
   ],
   "source": [
    "df_month['gb_used'].max()"
   ]
  },
  {
   "cell_type": "markdown",
   "metadata": {},
   "source": [
    "Создаём логические/арифметические функции для подсчёта выручки по тарифу с помощью метода apply"
   ]
  },
  {
   "cell_type": "code",
   "execution_count": 25,
   "metadata": {},
   "outputs": [],
   "source": [
    "# создаём функции для поиска сверхлимита по различным ресурсам. Если ниже лимита - возвращаем 0, иначе - возвращаем разницу.\n",
    "\n",
    "def over_limit_minutes(row):\n",
    "    result = row['call_duration'] - row['minutes_included']\n",
    "    if result <= 0:\n",
    "        return 0\n",
    "    else:\n",
    "        return result\n",
    "df_month['min_over_limit'] = df_month.apply(over_limit_minutes, axis = 1)\n",
    "\n",
    "\n",
    "#тоже самое для интернет траффика\n",
    "def over_limit_gb(row):\n",
    "    result = row['gb_used'] - row['gb_per_month_included']\n",
    "    if result <= 0:\n",
    "        return 0\n",
    "    else:\n",
    "        return result\n",
    "df_month['gb_over_limit'] = df_month.apply(over_limit_gb, axis = 1)\n",
    "\n",
    "\n",
    "#тоже для сообщений\n",
    "def over_limit_messages(row):\n",
    "    result = row['count_message'] - row['messages_included']\n",
    "    if result <= 0:\n",
    "        return 0\n",
    "    else:\n",
    "        return result\n",
    "df_month['messages_over_limit'] = df_month.apply(over_limit_messages, axis = 1)\n",
    "\n",
    "\n",
    "\n"
   ]
  },
  {
   "cell_type": "code",
   "execution_count": 26,
   "metadata": {},
   "outputs": [
    {
     "data": {
      "text/plain": [
       "count    3216.000000\n",
       "mean     1528.902674\n",
       "std       798.224060\n",
       "min       550.000000\n",
       "25%       750.000000\n",
       "50%      1653.500000\n",
       "75%      1950.000000\n",
       "max      6770.000000\n",
       "Name: total_revenue, dtype: float64"
      ]
     },
     "execution_count": 26,
     "metadata": {},
     "output_type": "execute_result"
    }
   ],
   "source": [
    "def revenue_tariff(row):\n",
    "    \n",
    "    \n",
    "    revenue = 0   #переменная выручки, которую вернём в строку фрейма после всех логических операций\n",
    "    \n",
    "    tariff = row['tariff'] #локальная переменная с наименованием тарифа\n",
    "    \n",
    "    min_over_limit = row ['min_over_limit']\n",
    "    gb_over_limit = row['gb_over_limit']       #переменные с объёмами сверхлимитного потребления (в гигах)\n",
    "    messages_over_limit = row['messages_over_limit']\n",
    "    \n",
    "    rub_monthly_fee = row['rub_monthly_fee'] \n",
    "    rub_per_gb = row['rub_per_gb']\n",
    "    rub_per_message = row['rub_per_message']  #переменные с ценами абонентки и ценами за сверхлимиты\n",
    "    rub_per_minute = row['rub_per_minute']\n",
    "    \n",
    "    #выручка = абонентская плата + объёмы сверхлимитного * на цену услуги сверхлимитного потребления (значения тарифа смарт округлили заранее)\n",
    "    revenue = rub_monthly_fee + min_over_limit*rub_per_minute + gb_over_limit*rub_per_gb + messages_over_limit*rub_per_message\n",
    "    return revenue\n",
    "    \n",
    "    \n",
    "df_month['total_revenue'] = df_month.apply(revenue_tariff, axis = 1) #применям функцию для нового столбца\n",
    "df_month['total_revenue'].describe() #оценим столбец выручки в целом по выборке\n",
    "\n",
    "\n",
    "    "
   ]
  },
  {
   "cell_type": "markdown",
   "metadata": {},
   "source": [
    "### Вывод"
   ]
  },
  {
   "cell_type": "markdown",
   "metadata": {},
   "source": [
    "Добавление данных и предобработка для дальнейшего исследовательского и статистического анализа прошла успешно:\n",
    "- созданы фреймы для анализа (среднегодовые величины, ежемесячные величины);\n",
    "- расчитаны показатели выручки для анализа и подготовки рекоммендаций.\n",
    "- обнаружены всего 2 пустых строки клиента, что в целом не повлияет на результаты исследовательского анализа."
   ]
  },
  {
   "cell_type": "markdown",
   "metadata": {},
   "source": [
    "## Исследовательский и статистический анализ данных"
   ]
  },
  {
   "cell_type": "markdown",
   "metadata": {},
   "source": [
    "- Сколько минут разговора, сколько сообщений и какой объём интернет-трафика требуется пользователям каждого тарифа в месяц? \n",
    "- Посчитать среднее количество, дисперсию и стандартное отклонение. \n",
    "- Постройте гистограммы. "
   ]
  },
  {
   "cell_type": "code",
   "execution_count": 27,
   "metadata": {},
   "outputs": [
    {
     "name": "stdout",
     "output_type": "stream",
     "text": [
      "Описание столбца call_duration тарифа Смарт\n"
     ]
    },
    {
     "data": {
      "text/plain": [
       "count    2230.000000\n",
       "mean      417.747534\n",
       "std       190.476754\n",
       "min         0.000000\n",
       "25%       282.000000\n",
       "50%       421.500000\n",
       "75%       545.000000\n",
       "max      1435.000000\n",
       "Name: call_duration, dtype: float64"
      ]
     },
     "metadata": {},
     "output_type": "display_data"
    },
    {
     "name": "stdout",
     "output_type": "stream",
     "text": [
      "Описание столбца call_duration тарифа Ультра\n"
     ]
    },
    {
     "data": {
      "text/plain": [
       "count     986.000000\n",
       "mean      526.089249\n",
       "std       317.887549\n",
       "min         0.000000\n",
       "25%       282.500000\n",
       "50%       518.000000\n",
       "75%       751.750000\n",
       "max      1673.000000\n",
       "Name: call_duration, dtype: float64"
      ]
     },
     "metadata": {},
     "output_type": "display_data"
    },
    {
     "name": "stdout",
     "output_type": "stream",
     "text": [
      "____________________________________________________________________________________________\n",
      "Среднемесячная величина длительности звонков тарифа Смарт: 417.747533632287\n",
      "Среднемесячная величина длительности звонков тарифа Ультра: 526.0892494929006\n",
      "____________________________________________________________________________________________\n",
      "Среднемесячная дисперсия длительности звонков тарифа Смарт: 36281.393836444564\n",
      "Среднемесячная дисперсия длительности звонков тарифа Ультра: 101052.49354928375\n",
      "____________________________________________________________________________________________\n",
      "Среднее стандартное отклонение длит. звонков тарифа Смарт: 190.47675405792845\n",
      "Среднее стандартное отклонение длит. звонков тарифа Ультра: 317.88754859113897\n",
      "____________________________________________________________________________________________\n"
     ]
    }
   ],
   "source": [
    "#рассмотрение статистики по длительности звонков\n",
    "smart = df_month.query('tariff == \"smart\"') #создаём новый фрейм только с клиентами тарифа Смарт\n",
    "ultra = df_month.query('tariff == \"ultra\"') #создаём новый фрейм с клиентами тарифа Ultra\n",
    "print('Описание столбца call_duration тарифа Смарт')\n",
    "display (smart['call_duration'].describe())\n",
    "print('Описание столбца call_duration тарифа Ультра')\n",
    "display (ultra['call_duration'].describe())\n",
    "print('____________________________________________________________________________________________')\n",
    "print ('Среднемесячная величина длительности звонков тарифа Смарт:', smart['call_duration'].mean())\n",
    "print ('Среднемесячная величина длительности звонков тарифа Ультра:',ultra['call_duration'].mean())\n",
    "print('____________________________________________________________________________________________')\n",
    "print ('Среднемесячная дисперсия длительности звонков тарифа Смарт:', np.var(smart['call_duration'], ddof=1)) #дисперсия для выборки с параметром ddof = 1, в знаменателе формулы 'n-1'\n",
    "print ('Среднемесячная дисперсия длительности звонков тарифа Ультра:', np.var(ultra['call_duration'], ddof=1))\n",
    "print('____________________________________________________________________________________________')\n",
    "print ('Среднее стандартное отклонение длит. звонков тарифа Смарт:', smart['call_duration'].std())\n",
    "print ('Среднее стандартное отклонение длит. звонков тарифа Ультра:',ultra['call_duration'].std())\n",
    "print('____________________________________________________________________________________________')"
   ]
  },
  {
   "cell_type": "code",
   "execution_count": 28,
   "metadata": {},
   "outputs": [
    {
     "name": "stdout",
     "output_type": "stream",
     "text": [
      "Описание столбца gb_used тарифа Смарт\n"
     ]
    },
    {
     "data": {
      "text/plain": [
       "count    2230.000000\n",
       "mean       16.321525\n",
       "std         5.756167\n",
       "min         0.000000\n",
       "25%        13.000000\n",
       "50%        17.000000\n",
       "75%        20.000000\n",
       "max        38.000000\n",
       "Name: gb_used, dtype: float64"
      ]
     },
     "metadata": {},
     "output_type": "display_data"
    },
    {
     "name": "stdout",
     "output_type": "stream",
     "text": [
      "Описание столбца gb_used  тарифа Ультра\n"
     ]
    },
    {
     "data": {
      "text/plain": [
       "count    986.000000\n",
       "mean      19.474645\n",
       "std        9.868057\n",
       "min        0.000000\n",
       "25%       12.000000\n",
       "50%       19.000000\n",
       "75%       27.000000\n",
       "max       49.000000\n",
       "Name: gb_used, dtype: float64"
      ]
     },
     "metadata": {},
     "output_type": "display_data"
    },
    {
     "name": "stdout",
     "output_type": "stream",
     "text": [
      "____________________________________________________________________________________________\n",
      "Среднемесячная величина интернет-трафика тарифа Смарт: 16.32152466367713\n",
      "Среднемесячная величина интернет-трафика тарифа Ультра: 19.474645030425965\n",
      "____________________________________________________________________________________________\n",
      "Среднемесячная дисперсия интернет-трафика тарифа Смарт: 33.13345303550617\n",
      "Среднемесячная дисперсия интернет-трафика тарифа Ультра: 97.3785442901125\n",
      "____________________________________________________________________________________________\n",
      "Среднее стандартное отклонение трафика тарифа Смарт: 5.756166522565706\n",
      "Среднее стандартное отклонение трафика тарифа Ультра: 9.868056763624361\n",
      "____________________________________________________________________________________________\n"
     ]
    }
   ],
   "source": [
    "#рассмотрение статистики по интернет трафику\n",
    "print('Описание столбца gb_used тарифа Смарт')\n",
    "display (smart['gb_used'].describe())\n",
    "print('Описание столбца gb_used  тарифа Ультра')\n",
    "display (ultra['gb_used'].describe())\n",
    "print('____________________________________________________________________________________________')\n",
    "print ('Среднемесячная величина интернет-трафика тарифа Смарт:', smart['gb_used'].mean())\n",
    "print ('Среднемесячная величина интернет-трафика тарифа Ультра:',ultra['gb_used'].mean())\n",
    "print('____________________________________________________________________________________________')\n",
    "print ('Среднемесячная дисперсия интернет-трафика тарифа Смарт:',  np.var(smart['gb_used'], ddof=1)) #дисперсия для выборки с параметром ddof = 1, в знаменателе формулы 'n-1'\n",
    "print ('Среднемесячная дисперсия интернет-трафика тарифа Ультра:', np.var(ultra['gb_used'], ddof=1))\n",
    "print('____________________________________________________________________________________________')\n",
    "print ('Среднее стандартное отклонение трафика тарифа Смарт:', smart['gb_used'].std())\n",
    "print ('Среднее стандартное отклонение трафика тарифа Ультра:',ultra['gb_used'].std())\n",
    "print('____________________________________________________________________________________________')"
   ]
  },
  {
   "cell_type": "code",
   "execution_count": 29,
   "metadata": {},
   "outputs": [
    {
     "name": "stdout",
     "output_type": "stream",
     "text": [
      "Описание столбца count_message тарифа Смарт\n"
     ]
    },
    {
     "data": {
      "text/plain": [
       "count    2230.000000\n",
       "mean       33.369058\n",
       "std        28.230396\n",
       "min         0.000000\n",
       "25%        10.000000\n",
       "50%        28.000000\n",
       "75%        51.000000\n",
       "max       143.000000\n",
       "Name: count_message, dtype: float64"
      ]
     },
     "metadata": {},
     "output_type": "display_data"
    },
    {
     "name": "stdout",
     "output_type": "stream",
     "text": [
      "Описание столбца count_message  тарифа Ультра\n"
     ]
    },
    {
     "data": {
      "text/plain": [
       "count    986.000000\n",
       "mean      49.313387\n",
       "std       47.806040\n",
       "min        0.000000\n",
       "25%        6.000000\n",
       "50%       38.000000\n",
       "75%       78.750000\n",
       "max      224.000000\n",
       "Name: count_message, dtype: float64"
      ]
     },
     "metadata": {},
     "output_type": "display_data"
    },
    {
     "name": "stdout",
     "output_type": "stream",
     "text": [
      "____________________________________________________________________________________________\n",
      "Среднемесячная величина количества сообщений тарифа Смарт: 33.36905829596412\n",
      "Среднемесячная величина количества сообщений тарифа Ультра: 49.31338742393509\n",
      "____________________________________________________________________________________________\n",
      "Среднемесячная дисперсия количества сообщений тарифа Смарт: 796.9552557301104\n",
      "Среднемесячная дисперсия количества сообщений тарифа Ультра: 2285.417424655839\n",
      "____________________________________________________________________________________________\n",
      "Среднее стандартное отклонение количества сообщений тарифа Смарт: 28.230395954185806\n",
      "Среднее стандартное отклонение количества сообщений тарифа Ультра: 47.80603962530089\n",
      "____________________________________________________________________________________________\n"
     ]
    }
   ],
   "source": [
    "#рассмотрение статистики по сообщениям\n",
    "print('Описание столбца count_message тарифа Смарт')\n",
    "display (smart['count_message'].describe())\n",
    "print('Описание столбца count_message  тарифа Ультра')\n",
    "display (ultra['count_message'].describe())\n",
    "print('____________________________________________________________________________________________')\n",
    "print ('Среднемесячная величина количества сообщений тарифа Смарт:', smart['count_message'].mean())\n",
    "print ('Среднемесячная величина количества сообщений тарифа Ультра:',ultra['count_message'].mean())\n",
    "print('____________________________________________________________________________________________')\n",
    "print ('Среднемесячная дисперсия количества сообщений тарифа Смарт:', np.var(smart['count_message'], ddof=1)) #дисперсия для выборки с параметром ddof = 1, в знаменателе формулы 'n-1'\n",
    "print ('Среднемесячная дисперсия количества сообщений тарифа Ультра:', np.var(ultra['count_message'], ddof=1))\n",
    "print('____________________________________________________________________________________________')\n",
    "print ('Среднее стандартное отклонение количества сообщений тарифа Смарт:', smart['count_message'].std())\n",
    "print ('Среднее стандартное отклонение количества сообщений тарифа Ультра:',ultra['count_message'].std())\n",
    "print('____________________________________________________________________________________________')"
   ]
  },
  {
   "cell_type": "code",
   "execution_count": 30,
   "metadata": {},
   "outputs": [
    {
     "name": "stdout",
     "output_type": "stream",
     "text": [
      "Текущее соотношение выручки двух тарифов\n",
      "Выручка по выборке от тарифа Смарт: 2875901.00 рублей в год\n",
      "Выручка по выборке от тарифа Ультра: 2041050.00 рублей в год\n",
      "Выручка по тарифу Cмарт превышает ультра в 1.41 раз\n"
     ]
    }
   ],
   "source": [
    "\n",
    "smart_sum = df_month.query('tariff == \"smart\"')['total_revenue'].sum()\n",
    "ultra_sum = df_month.query('tariff == \"ultra\"')['total_revenue'].sum()\n",
    "print ('Текущее соотношение выручки двух тарифов')\n",
    "print ('Выручка по выборке от тарифа Смарт: {:.2f}'.format(smart_sum),'рублей в год')\n",
    "print ('Выручка по выборке от тарифа Ультра: {:.2f}'.format(ultra_sum),'рублей в год')\n",
    "print ('Выручка по тарифу Cмарт превышает ультра в {:.2f}'.format(smart_sum/ultra_sum),'раз')"
   ]
  },
  {
   "cell_type": "code",
   "execution_count": 31,
   "metadata": {},
   "outputs": [
    {
     "data": {
      "image/png": "[encoded data removed]",
      "text/plain": [
       "<Figure size 432x288 with 1 Axes>"
      ]
     },
     "metadata": {
      "needs_background": "light"
     },
     "output_type": "display_data"
    }
   ],
   "source": [
    "smart['call_duration'].hist(bins = 50, alpha = 0.4)\n",
    "ultra['call_duration'].hist(bins = 50, alpha = 0.4)\n",
    "plt.title(\"Histogram of call duration\")\n",
    "plt.xlabel('call_duration')\n",
    "plt.ylabel(\"count_users\")\n",
    "plt.legend(['smart', 'ultra'])\n",
    "\n",
    "plt.show()"
   ]
  },
  {
   "cell_type": "markdown",
   "metadata": {},
   "source": [
    "***Промежуточный вывод:*** График тарифа смарт с общей длительностью звонков имеет нормальное распределение, тариф ультра скошен влево и имеет большую долю с нулевым значением (что очевидно будет влиять на среднее), вместе с тем, средние значения находятся рядом."
   ]
  },
  {
   "cell_type": "code",
   "execution_count": 32,
   "metadata": {},
   "outputs": [
    {
     "data": {
      "image/png": "[encoded data removed]",
      "text/plain": [
       "<Figure size 432x288 with 1 Axes>"
      ]
     },
     "metadata": {
      "needs_background": "light"
     },
     "output_type": "display_data"
    }
   ],
   "source": [
    "smart['count_message'].hist(bins = 50, alpha = 0.4)\n",
    "ultra['count_message'].hist(bins = 50, alpha = 0.4)\n",
    "plt.title(\"Histogram of using sms\")\n",
    "plt.xlabel(\"count_message\")\n",
    "plt.ylabel(\"count_users\")\n",
    "plt.legend(['smart', 'ultra'])\n",
    "plt.show()"
   ]
  },
  {
   "cell_type": "markdown",
   "metadata": {},
   "source": [
    "Нулевые значения объясняются большим числом пользователей, не пользующихся сообщениями. Длинный хвост данных говорит о значительном числе пользователей редко пользующихся данной услугой. Среднее по тарифу ультра превышает то же значение тарифа смарт."
   ]
  },
  {
   "cell_type": "code",
   "execution_count": 33,
   "metadata": {},
   "outputs": [
    {
     "data": {
      "image/png": "[encoded data removed]",
      "text/plain": [
       "<Figure size 432x288 with 1 Axes>"
      ]
     },
     "metadata": {
      "needs_background": "light"
     },
     "output_type": "display_data"
    }
   ],
   "source": [
    "\n",
    "smart['gb_used'].hist(bins = 18, alpha = 0.4)\n",
    "ultra['gb_used'].hist(bins =  18, alpha = 0.4)\n",
    "plt.title(\"Histogram of internet traffic\")\n",
    "plt.xlabel(\"gb_used\")\n",
    "plt.ylabel(\"count_users\")\n",
    "plt.legend(['smart', 'ultra'])\n",
    "plt.show()"
   ]
  },
  {
   "cell_type": "markdown",
   "metadata": {},
   "source": [
    "Исследовательский анализ данных столбца по интернет траффику показал: \n",
    "- бОльшую плотность значений расхода траффика тарифа смарт\n",
    "- больший разброс (дисперсию) тарифа ультра"
   ]
  },
  {
   "cell_type": "markdown",
   "metadata": {},
   "source": [
    "Рассмотрим помесячную динамику средней выручки по тарифам"
   ]
  },
  {
   "cell_type": "code",
   "execution_count": 34,
   "metadata": {},
   "outputs": [
    {
     "data": {
      "image/png": "[encoded data removed]",
      "text/plain": [
       "<Figure size 720x432 with 1 Axes>"
      ]
     },
     "metadata": {
      "needs_background": "light"
     },
     "output_type": "display_data"
    }
   ],
   "source": [
    "\n",
    "month_mean_smart = smart.groupby('month')['total_revenue'].mean()\n",
    "month_count_smart = smart.groupby('month')['total_revenue'].count()\n",
    "month_mean_ultra = ultra.groupby('month')['total_revenue'].mean()\n",
    "month_count_ultra = ultra.groupby('month')['total_revenue'].count()\n",
    "\n",
    "month_mean_df_smart =  pd.DataFrame(month_mean_smart)\n",
    "month_mean_df_ultra =  pd.DataFrame(month_mean_ultra)\n",
    "plt.figure(figsize=(10, 6))\n",
    "\n",
    "plt.xlabel('month')\n",
    "plt.ylabel('rub_revenue')\n",
    "plt.plot(month_mean_df_smart.index, month_mean_df_smart['total_revenue'])\n",
    "plt.plot(month_mean_df_ultra.index, month_mean_df_ultra['total_revenue'])\n",
    "\n",
    "plt.show()\n"
   ]
  },
  {
   "cell_type": "markdown",
   "metadata": {},
   "source": [
    "Динамика по месяцам показывает более выраженный относительный рост выручки тарифа Smart. Тендеция  (конвергенция) позволяет строить предположение, что при прочих равных условиях и сохранении динамики средние показатели выручки могут стать сопоставимыми."
   ]
  },
  {
   "cell_type": "markdown",
   "metadata": {},
   "source": [
    "### Вывод"
   ]
  },
  {
   "cell_type": "markdown",
   "metadata": {},
   "source": [
    "Исследовательский (сравнительный) анализ гистограмм распределений показал нормальное распределение массива со средней выручкой, что открывает возможность проведения тестов на статистическую значимость гипотиз (t-тест Стьюдента). Средние значения длительности звонков и расхода трафика показывают неочевидные результаты, что требует проведения статистического анализа."
   ]
  },
  {
   "cell_type": "markdown",
   "metadata": {},
   "source": [
    "## Выдвижение и проверка гипотез"
   ]
  },
  {
   "cell_type": "markdown",
   "metadata": {},
   "source": [
    "Пара гипотез - равенства выручек тарифов/превышение выручки тарифа Ультра:\n",
    "H0 = средние значения выручки тарифов smart и ultra ***равны***\n",
    "H1 = средняя выручка пользователя с тарифом Ultra - выше\n",
    "\n",
    "примем уровень статистической значимости альфа = 0,05"
   ]
  },
  {
   "cell_type": "code",
   "execution_count": 35,
   "metadata": {},
   "outputs": [
    {
     "name": "stdout",
     "output_type": "stream",
     "text": [
      "669430.4361979977\n",
      "141244.31956107417\n",
      "LeveneResult(statistic=603.9341078123845, pvalue=2.3578651290079928e-122)\n"
     ]
    }
   ],
   "source": [
    "print(np.var(smart['total_revenue']))\n",
    "print(np.var(ultra['total_revenue']))\n",
    "\n",
    "levene_test = levene(smart['total_revenue'], ultra['total_revenue'])\n",
    "print(levene_test)"
   ]
  },
  {
   "cell_type": "markdown",
   "metadata": {},
   "source": [
    "P-value теста левене - исчезающе малая величина. Примем значение аргумента equal_var теста стьюдента, равное False"
   ]
  },
  {
   "cell_type": "code",
   "execution_count": 36,
   "metadata": {},
   "outputs": [
    {
     "name": "stdout",
     "output_type": "stream",
     "text": [
      "\n",
      "p-значение:  1.927011394420941e-250\n",
      "Отвергаем нулевую гипотезу, средняя выручка тарифа Ультра по выборке - выше в 1.6051205691359267 раз\n"
     ]
    }
   ],
   "source": [
    "alpha = 0.05\n",
    "print ()\n",
    "\n",
    "compare_smart_ultra = st.ttest_ind(smart['total_revenue'], ultra['total_revenue'], equal_var = False)\n",
    "\n",
    "print('p-значение: ', compare_smart_ultra.pvalue)\n",
    "\n",
    "if (compare_smart_ultra.pvalue < alpha) and (ultra['total_revenue'].mean() > smart['total_revenue'].mean()):\n",
    "    print(\"Отвергаем нулевую гипотезу, средняя выручка тарифа Ультра по выборке - выше в\", ultra['total_revenue'].mean()/smart['total_revenue'].mean(), 'раз')\n",
    "else:\n",
    "    print(\"Не получилось отвергнуть нулевую гипотезу, средние выручки могут быть сопоставимы\") "
   ]
  },
  {
   "cell_type": "code",
   "execution_count": null,
   "metadata": {},
   "outputs": [],
   "source": []
  },
  {
   "cell_type": "markdown",
   "metadata": {},
   "source": [
    "Пара гипотез - равенства выручек по Московским и иным/превышение выручки по Москвичам:\n",
    "H0 = средние значения выручки москвичей и немосквичей равны\n",
    "H1 = средняя выручка по москвичам выше чем по немосквичам\n",
    "\n",
    "примем уровень статистической значимости альфа = 0,05 (оставим переменную без изменения)\n",
    "сделаем запрос из общего датасета по москвичам."
   ]
  },
  {
   "cell_type": "code",
   "execution_count": 37,
   "metadata": {},
   "outputs": [
    {
     "name": "stdout",
     "output_type": "stream",
     "text": [
      "564710.7117467269\n",
      "653818.4925923563\n",
      "LeveneResult(statistic=6.04283195023284, pvalue=0.014015266770621706)\n"
     ]
    }
   ],
   "source": [
    "\n",
    "\n",
    "moscow = df_month.query('city == \"Москва\"')\n",
    "ne_moscow = df_month.query('city != \"Москва\"')                     \n",
    "\n",
    "print(np.var(moscow['total_revenue']))\n",
    "print(np.var(ne_moscow['total_revenue']))\n",
    "\n",
    "levene_test = levene(moscow['total_revenue'], ne_moscow['total_revenue'])\n",
    "print(levene_test)\n",
    "\n"
   ]
  },
  {
   "cell_type": "markdown",
   "metadata": {},
   "source": [
    "Дисперсии массивов разные, p - value теста Левене ниже 0,05. Примем значение equal_var равное False."
   ]
  },
  {
   "cell_type": "code",
   "execution_count": 38,
   "metadata": {},
   "outputs": [
    {
     "name": "stdout",
     "output_type": "stream",
     "text": [
      "1546.7135842880523 1524.7251439539348\n",
      "Фрейм разделён корректно =  True\n",
      "p-значение:  0.5216952110000279\n",
      "Не получилось отвергнуть нулевую гипотезу, средние выручки могут быть сопоставимы\n"
     ]
    }
   ],
   "source": [
    "print (moscow['total_revenue'].mean(),ne_moscow['total_revenue'].mean())\n",
    "\n",
    "print ('Фрейм разделён корректно = ', len(df_month) == len(moscow) +  len(ne_moscow))\n",
    "\n",
    "ttest_moscow_nemoscow = st.ttest_ind(moscow['total_revenue'], ne_moscow['total_revenue'], equal_var = False)\n",
    "\n",
    "print('p-значение: ', ttest_moscow_nemoscow.pvalue) #возвращаем p-value теста\n",
    "\n",
    "\n",
    "if (ttest_moscow_nemoscow.pvalue < alpha) and (moscow['total_revenue'].mean() > ne_moscow['total_revenue'].mean()):\n",
    "    print(\"Отвергаем нулевую гипотезу, средняя выручка тарифа Ультра по выборке - выше в\", moscow['total_revenue'].mean()/ne_moscow['total_revenue'].mean(), 'раз')\n",
    "else:\n",
    "    print(\"Не получилось отвергнуть нулевую гипотезу, средние выручки могут быть сопоставимы\") "
   ]
  },
  {
   "cell_type": "markdown",
   "metadata": {},
   "source": [
    "### Вывод"
   ]
  },
  {
   "cell_type": "markdown",
   "metadata": {},
   "source": [
    "Проверка нулевой гипотезы о равенстве средних показателей выручки генеральной совокупности - не нашла подтверждения. Средние выручки по тарифам с большой вероятностью (p-value стремится к нулю, уровень значимости 0,05) -  не совпадают."
   ]
  },
  {
   "cell_type": "markdown",
   "metadata": {},
   "source": [
    "Данные теста Стьюдента о равенстве средних показателей выручки генеральных совокупностей москвичей и немосквичей не противоречат нулевой гипотезе. С большой долей вероятности (p-value = 0,39, alpha = 0,05)"
   ]
  },
  {
   "cell_type": "markdown",
   "metadata": {},
   "source": [
    "## Общий вывод"
   ]
  },
  {
   "cell_type": "markdown",
   "metadata": {},
   "source": [
    "Данные исследованы, задачи решены, цели достигнуты. \n",
    "Интерпретация результатов для подготовки рекоммендаций по корректировке рекламного бюджета Мегалайн:\n",
    "\n",
    "- опровержение нулевой гипотезы о равенстве средних выручек  тарифов smart и ultra говорит о необходимости выбора тарифа ultra (альтернативная гипотеза) для рекламы при прочих равных условиях и издержках Мегалайн, связанных с предоставлением услуг по тарифам. При этом динамика роста выручки по тарифам показала конвергенцию при росте выручки сразу двух тарифов, где тариф Smart растёт быстрее. "
   ]
  },
  {
   "cell_type": "code",
   "execution_count": 39,
   "metadata": {},
   "outputs": [
    {
     "data": {
      "image/png": "[encoded data removed]",
      "text/plain": [
       "<Figure size 720x432 with 1 Axes>"
      ]
     },
     "metadata": {
      "needs_background": "light"
     },
     "output_type": "display_data"
    }
   ],
   "source": [
    "plt.figure(figsize=(10, 6))\n",
    "\n",
    "plt.xlabel('month')\n",
    "plt.ylabel('rub_revenue')\n",
    "plt.plot(month_mean_df_smart.index, month_mean_df_smart['total_revenue'])\n",
    "plt.plot(month_mean_df_ultra.index, month_mean_df_ultra['total_revenue'])\n",
    "\n",
    "plt.show()"
   ]
  },
  {
   "cell_type": "markdown",
   "metadata": {},
   "source": [
    "Такая динамика указывает на постепенное приближение показателей средней выручки Смарта к тарифу Ультра, что спустя время потребует дополнительного анализа и корректировки рекламного бюджета в сторону тарифа Smart.\n",
    "- гипотеза о равенстве средних выручек генеральных совокупностей тарифов Смарт и Ультра, напротив, нашла подтверждение. С большой долей вероятности средние показатели выручки по москвичам и немосквичам - равны, следовательно, если привлечение клиентов не в столице обходится дешевле (roi в Мск дороже), Мегалайн должен больше вкладывать средства в региональную рекламу. В противном случае - разницы в отдаче в рекламе на Москву и на \"неМоскву\" - нет."
   ]
  }
 ],
 "metadata": {
  "ExecuteTimeLog": [
   {
    "duration": 404,
    "start_time": "2021-08-02T09:26:07.736Z"
   },
   {
    "duration": 820,
    "start_time": "2021-08-02T09:26:12.733Z"
   },
   {
    "duration": 206,
    "start_time": "2021-08-02T09:26:13.981Z"
   },
   {
    "duration": 226,
    "start_time": "2021-08-02T09:26:30.606Z"
   },
   {
    "duration": 219,
    "start_time": "2021-08-02T09:26:44.517Z"
   },
   {
    "duration": 236,
    "start_time": "2021-08-02T10:37:25.925Z"
   },
   {
    "duration": 601,
    "start_time": "2021-08-02T10:37:42.874Z"
   },
   {
    "duration": 225,
    "start_time": "2021-08-02T10:37:55.226Z"
   },
   {
    "duration": 224,
    "start_time": "2021-08-02T10:38:24.906Z"
   },
   {
    "duration": 499,
    "start_time": "2021-08-02T10:40:44.031Z"
   },
   {
    "duration": 531,
    "start_time": "2021-08-02T10:40:54.278Z"
   },
   {
    "duration": 510,
    "start_time": "2021-08-02T10:41:10.354Z"
   },
   {
    "duration": 559,
    "start_time": "2021-08-02T10:57:29.447Z"
   },
   {
    "duration": 546,
    "start_time": "2021-08-02T11:00:00.001Z"
   },
   {
    "duration": 648,
    "start_time": "2021-08-02T11:01:56.941Z"
   },
   {
    "duration": 554,
    "start_time": "2021-08-02T11:02:08.613Z"
   },
   {
    "duration": 51,
    "start_time": "2021-08-02T11:02:15.466Z"
   },
   {
    "duration": 569,
    "start_time": "2021-08-02T11:02:18.810Z"
   },
   {
    "duration": 556,
    "start_time": "2021-08-02T11:02:49.138Z"
   },
   {
    "duration": 4,
    "start_time": "2021-08-02T11:57:55.935Z"
   },
   {
    "duration": 362,
    "start_time": "2021-08-02T12:24:35.348Z"
   },
   {
    "duration": 144,
    "start_time": "2021-08-02T12:24:47.148Z"
   },
   {
    "duration": 1018,
    "start_time": "2021-08-02T15:51:01.485Z"
   },
   {
    "duration": 428,
    "start_time": "2021-08-02T15:51:02.505Z"
   },
   {
    "duration": 36,
    "start_time": "2021-08-02T15:51:02.935Z"
   },
   {
    "duration": 101,
    "start_time": "2021-08-02T15:51:02.973Z"
   },
   {
    "duration": 10,
    "start_time": "2021-08-02T16:32:02.261Z"
   },
   {
    "duration": 478,
    "start_time": "2021-08-02T16:32:41.489Z"
   },
   {
    "duration": 20,
    "start_time": "2021-08-02T16:33:03.985Z"
   },
   {
    "duration": 326,
    "start_time": "2021-08-02T16:33:20.182Z"
   },
   {
    "duration": 83,
    "start_time": "2021-08-02T16:33:29.185Z"
   },
   {
    "duration": 17,
    "start_time": "2021-08-02T16:33:35.395Z"
   },
   {
    "duration": 276,
    "start_time": "2021-08-02T16:34:30.413Z"
   },
   {
    "duration": 9,
    "start_time": "2021-08-02T16:35:04.620Z"
   },
   {
    "duration": 7,
    "start_time": "2021-08-02T16:35:15.791Z"
   },
   {
    "duration": 105,
    "start_time": "2021-08-02T16:41:12.866Z"
   },
   {
    "duration": 14,
    "start_time": "2021-08-02T16:41:21.196Z"
   },
   {
    "duration": 16,
    "start_time": "2021-08-02T16:42:02.917Z"
   },
   {
    "duration": 241,
    "start_time": "2021-08-02T18:01:13.089Z"
   },
   {
    "duration": 15,
    "start_time": "2021-08-02T18:01:22.236Z"
   },
   {
    "duration": 444,
    "start_time": "2021-08-04T06:37:42.648Z"
   },
   {
    "duration": 2081,
    "start_time": "2021-08-04T06:37:51.441Z"
   },
   {
    "duration": 622,
    "start_time": "2021-08-04T06:37:53.526Z"
   },
   {
    "duration": 62,
    "start_time": "2021-08-04T06:37:54.151Z"
   },
   {
    "duration": 133,
    "start_time": "2021-08-04T06:37:54.449Z"
   },
   {
    "duration": 25,
    "start_time": "2021-08-04T06:37:54.850Z"
   },
   {
    "duration": 30,
    "start_time": "2021-08-04T06:37:56.153Z"
   },
   {
    "duration": 456,
    "start_time": "2021-08-04T06:39:27.487Z"
   },
   {
    "duration": 190,
    "start_time": "2021-08-04T06:40:34.447Z"
   },
   {
    "duration": 11,
    "start_time": "2021-08-04T06:40:49.590Z"
   },
   {
    "duration": 380,
    "start_time": "2021-08-04T06:41:00.010Z"
   },
   {
    "duration": 354,
    "start_time": "2021-08-04T06:41:27.518Z"
   },
   {
    "duration": 371,
    "start_time": "2021-08-04T06:41:38.293Z"
   },
   {
    "duration": 6,
    "start_time": "2021-08-04T06:42:02.757Z"
   },
   {
    "duration": 1343,
    "start_time": "2021-08-04T06:43:37.893Z"
   },
   {
    "duration": 582,
    "start_time": "2021-08-04T06:43:39.239Z"
   },
   {
    "duration": 68,
    "start_time": "2021-08-04T06:43:39.824Z"
   },
   {
    "duration": 154,
    "start_time": "2021-08-04T06:43:39.895Z"
   },
   {
    "duration": 32,
    "start_time": "2021-08-04T06:43:40.051Z"
   },
   {
    "duration": 30,
    "start_time": "2021-08-04T06:43:40.087Z"
   },
   {
    "duration": 47,
    "start_time": "2021-08-04T06:43:40.120Z"
   },
   {
    "duration": 495,
    "start_time": "2021-08-04T06:44:04.791Z"
   },
   {
    "duration": 16,
    "start_time": "2021-08-04T06:44:14.644Z"
   },
   {
    "duration": 328,
    "start_time": "2021-08-04T06:44:37.540Z"
   },
   {
    "duration": 1376,
    "start_time": "2021-08-04T06:48:40.659Z"
   },
   {
    "duration": 625,
    "start_time": "2021-08-04T06:48:42.038Z"
   },
   {
    "duration": 51,
    "start_time": "2021-08-04T06:48:42.666Z"
   },
   {
    "duration": 153,
    "start_time": "2021-08-04T06:48:42.720Z"
   },
   {
    "duration": 23,
    "start_time": "2021-08-04T06:48:42.876Z"
   },
   {
    "duration": 27,
    "start_time": "2021-08-04T06:48:42.902Z"
   },
   {
    "duration": 41,
    "start_time": "2021-08-04T06:48:42.931Z"
   },
   {
    "duration": 27,
    "start_time": "2021-08-04T07:19:32.501Z"
   },
   {
    "duration": 29,
    "start_time": "2021-08-04T07:19:47.628Z"
   },
   {
    "duration": 7,
    "start_time": "2021-08-04T07:20:45.387Z"
   },
   {
    "duration": 18,
    "start_time": "2021-08-04T07:21:05.930Z"
   },
   {
    "duration": 8,
    "start_time": "2021-08-04T07:21:16.899Z"
   },
   {
    "duration": 19,
    "start_time": "2021-08-04T07:21:19.859Z"
   },
   {
    "duration": 8,
    "start_time": "2021-08-04T07:21:32.858Z"
   },
   {
    "duration": 5,
    "start_time": "2021-08-04T07:21:38.570Z"
   },
   {
    "duration": 18,
    "start_time": "2021-08-04T07:21:41.107Z"
   },
   {
    "duration": 5,
    "start_time": "2021-08-04T07:23:23.361Z"
   },
   {
    "duration": 8880,
    "start_time": "2021-08-04T08:46:18.579Z"
   },
   {
    "duration": 146,
    "start_time": "2021-08-04T08:47:17.003Z"
   },
   {
    "duration": 149,
    "start_time": "2021-08-04T08:47:24.225Z"
   },
   {
    "duration": 156,
    "start_time": "2021-08-04T08:48:50.352Z"
   },
   {
    "duration": 71,
    "start_time": "2021-08-04T08:49:55.495Z"
   },
   {
    "duration": 448,
    "start_time": "2021-08-04T12:23:52.086Z"
   },
   {
    "duration": 1411,
    "start_time": "2021-08-04T12:23:57.724Z"
   },
   {
    "duration": 595,
    "start_time": "2021-08-04T12:23:59.138Z"
   },
   {
    "duration": 61,
    "start_time": "2021-08-04T12:23:59.736Z"
   },
   {
    "duration": 152,
    "start_time": "2021-08-04T12:23:59.799Z"
   },
   {
    "duration": 25,
    "start_time": "2021-08-04T12:23:59.961Z"
   },
   {
    "duration": 33,
    "start_time": "2021-08-04T12:23:59.989Z"
   },
   {
    "duration": 40,
    "start_time": "2021-08-04T12:24:00.025Z"
   },
   {
    "duration": 3,
    "start_time": "2021-08-04T12:24:00.068Z"
   },
   {
    "duration": 24,
    "start_time": "2021-08-04T12:24:00.074Z"
   },
   {
    "duration": 214,
    "start_time": "2021-08-04T12:24:00.100Z"
   },
   {
    "duration": 509,
    "start_time": "2021-08-04T12:24:00.317Z"
   },
   {
    "duration": 467,
    "start_time": "2021-08-04T12:24:11.938Z"
   },
   {
    "duration": 385,
    "start_time": "2021-08-04T12:25:57.754Z"
   },
   {
    "duration": 368,
    "start_time": "2021-08-04T12:26:45.650Z"
   },
   {
    "duration": 32,
    "start_time": "2021-08-04T12:27:13.592Z"
   },
   {
    "duration": 29,
    "start_time": "2021-08-04T12:28:32.200Z"
   },
   {
    "duration": 35,
    "start_time": "2021-08-04T12:28:45.105Z"
   },
   {
    "duration": 512,
    "start_time": "2021-08-04T12:29:55.487Z"
   },
   {
    "duration": 501,
    "start_time": "2021-08-04T12:30:33.717Z"
   },
   {
    "duration": 570,
    "start_time": "2021-08-04T12:31:02.541Z"
   },
   {
    "duration": 586,
    "start_time": "2021-08-04T12:34:29.321Z"
   },
   {
    "duration": 480,
    "start_time": "2021-08-04T12:41:40.604Z"
   },
   {
    "duration": 949,
    "start_time": "2021-08-04T12:41:49.587Z"
   },
   {
    "duration": 431,
    "start_time": "2021-08-04T12:43:47.289Z"
   },
   {
    "duration": 9280,
    "start_time": "2021-08-04T12:44:07.713Z"
   },
   {
    "duration": 575,
    "start_time": "2021-08-04T12:44:36.098Z"
   },
   {
    "duration": 30,
    "start_time": "2021-08-04T12:47:00.016Z"
   },
   {
    "duration": 57,
    "start_time": "2021-08-04T12:47:51.022Z"
   },
   {
    "duration": 60,
    "start_time": "2021-08-04T12:52:00.241Z"
   },
   {
    "duration": 172,
    "start_time": "2021-08-04T12:55:43.358Z"
   },
   {
    "duration": 10621,
    "start_time": "2021-08-04T12:56:13.597Z"
   },
   {
    "duration": 91,
    "start_time": "2021-08-04T12:56:58.391Z"
   },
   {
    "duration": 478,
    "start_time": "2021-08-04T13:02:27.015Z"
   },
   {
    "duration": 114,
    "start_time": "2021-08-04T13:02:38.311Z"
   },
   {
    "duration": 109,
    "start_time": "2021-08-04T13:03:22.774Z"
   },
   {
    "duration": 156,
    "start_time": "2021-08-04T13:10:50.007Z"
   },
   {
    "duration": 563,
    "start_time": "2021-08-04T13:10:59.863Z"
   },
   {
    "duration": 487,
    "start_time": "2021-08-04T13:11:10.304Z"
   },
   {
    "duration": 594,
    "start_time": "2021-08-04T13:11:22.887Z"
   },
   {
    "duration": 454,
    "start_time": "2021-08-04T13:11:28.216Z"
   },
   {
    "duration": 603,
    "start_time": "2021-08-04T13:11:35.471Z"
   },
   {
    "duration": 114,
    "start_time": "2021-08-04T13:12:43.264Z"
   },
   {
    "duration": 130,
    "start_time": "2021-08-04T13:15:35.380Z"
   },
   {
    "duration": 1909,
    "start_time": "2021-08-04T13:16:04.555Z"
   },
   {
    "duration": 1905,
    "start_time": "2021-08-04T13:27:27.760Z"
   },
   {
    "duration": 2262,
    "start_time": "2021-08-04T13:30:11.646Z"
   },
   {
    "duration": 2352,
    "start_time": "2021-08-04T13:46:29.671Z"
   },
   {
    "duration": 2198,
    "start_time": "2021-08-04T13:47:24.657Z"
   },
   {
    "duration": 226,
    "start_time": "2021-08-04T18:08:09.848Z"
   },
   {
    "duration": 1096,
    "start_time": "2021-08-04T18:08:17.398Z"
   },
   {
    "duration": 479,
    "start_time": "2021-08-04T18:08:18.499Z"
   },
   {
    "duration": 46,
    "start_time": "2021-08-04T18:08:18.980Z"
   },
   {
    "duration": 114,
    "start_time": "2021-08-04T18:08:19.027Z"
   },
   {
    "duration": 15,
    "start_time": "2021-08-04T18:08:19.144Z"
   },
   {
    "duration": 44,
    "start_time": "2021-08-04T18:08:19.161Z"
   },
   {
    "duration": 12,
    "start_time": "2021-08-04T18:08:19.208Z"
   },
   {
    "duration": 3,
    "start_time": "2021-08-04T18:08:19.223Z"
   },
   {
    "duration": 8,
    "start_time": "2021-08-04T18:08:19.228Z"
   },
   {
    "duration": 129,
    "start_time": "2021-08-04T18:08:19.238Z"
   },
   {
    "duration": 296,
    "start_time": "2021-08-04T18:08:19.369Z"
   },
   {
    "duration": 158,
    "start_time": "2021-08-04T18:08:19.509Z"
   },
   {
    "duration": 4468,
    "start_time": "2021-08-04T18:09:23.049Z"
   },
   {
    "duration": 243,
    "start_time": "2021-08-04T18:10:04.750Z"
   },
   {
    "duration": 71,
    "start_time": "2021-08-04T18:10:13.380Z"
   },
   {
    "duration": 52,
    "start_time": "2021-08-04T18:10:26.722Z"
   },
   {
    "duration": 1011,
    "start_time": "2021-08-04T18:19:37.055Z"
   },
   {
    "duration": 498,
    "start_time": "2021-08-04T18:19:38.067Z"
   },
   {
    "duration": 42,
    "start_time": "2021-08-04T18:19:38.567Z"
   },
   {
    "duration": 93,
    "start_time": "2021-08-04T18:19:38.614Z"
   },
   {
    "duration": 21,
    "start_time": "2021-08-04T18:19:38.709Z"
   },
   {
    "duration": 23,
    "start_time": "2021-08-04T18:19:38.732Z"
   },
   {
    "duration": 41,
    "start_time": "2021-08-04T18:19:38.757Z"
   },
   {
    "duration": 6,
    "start_time": "2021-08-04T18:19:38.801Z"
   },
   {
    "duration": 8,
    "start_time": "2021-08-04T18:19:38.809Z"
   },
   {
    "duration": 117,
    "start_time": "2021-08-04T18:19:38.819Z"
   },
   {
    "duration": 62,
    "start_time": "2021-08-04T18:19:38.938Z"
   },
   {
    "duration": 1453,
    "start_time": "2021-08-04T18:19:39.002Z"
   },
   {
    "duration": 1317,
    "start_time": "2021-08-05T06:48:37.201Z"
   },
   {
    "duration": 521,
    "start_time": "2021-08-05T06:48:38.521Z"
   },
   {
    "duration": 65,
    "start_time": "2021-08-05T06:48:39.046Z"
   },
   {
    "duration": 143,
    "start_time": "2021-08-05T06:48:39.114Z"
   },
   {
    "duration": 34,
    "start_time": "2021-08-05T06:48:39.259Z"
   },
   {
    "duration": 25,
    "start_time": "2021-08-05T06:48:39.295Z"
   },
   {
    "duration": 10,
    "start_time": "2021-08-05T06:48:39.322Z"
   },
   {
    "duration": 3,
    "start_time": "2021-08-05T06:48:39.336Z"
   },
   {
    "duration": 11,
    "start_time": "2021-08-05T06:48:39.341Z"
   },
   {
    "duration": 174,
    "start_time": "2021-08-05T06:48:39.354Z"
   },
   {
    "duration": 92,
    "start_time": "2021-08-05T06:48:39.531Z"
   },
   {
    "duration": 1934,
    "start_time": "2021-08-05T06:48:39.626Z"
   },
   {
    "duration": 80,
    "start_time": "2021-08-05T06:51:19.035Z"
   },
   {
    "duration": 78,
    "start_time": "2021-08-05T06:54:06.962Z"
   },
   {
    "duration": 126,
    "start_time": "2021-08-05T07:20:55.257Z"
   },
   {
    "duration": 149,
    "start_time": "2021-08-05T07:26:55.922Z"
   },
   {
    "duration": 194,
    "start_time": "2021-08-05T07:53:37.931Z"
   },
   {
    "duration": 186,
    "start_time": "2021-08-05T07:53:45.818Z"
   },
   {
    "duration": 164,
    "start_time": "2021-08-05T08:33:53.228Z"
   },
   {
    "duration": 131,
    "start_time": "2021-08-05T08:48:16.095Z"
   },
   {
    "duration": 174,
    "start_time": "2021-08-05T08:56:42.045Z"
   },
   {
    "duration": 237,
    "start_time": "2021-08-05T08:58:45.100Z"
   },
   {
    "duration": 213,
    "start_time": "2021-08-05T08:59:22.548Z"
   },
   {
    "duration": 181,
    "start_time": "2021-08-05T08:59:27.978Z"
   },
   {
    "duration": 251,
    "start_time": "2021-08-05T09:00:44.754Z"
   },
   {
    "duration": 180,
    "start_time": "2021-08-05T09:05:17.822Z"
   },
   {
    "duration": 163,
    "start_time": "2021-08-05T09:11:43.831Z"
   },
   {
    "duration": 187,
    "start_time": "2021-08-05T09:12:28.862Z"
   },
   {
    "duration": 628,
    "start_time": "2021-08-05T09:17:02.066Z"
   },
   {
    "duration": 192,
    "start_time": "2021-08-05T09:18:30.787Z"
   },
   {
    "duration": 873,
    "start_time": "2021-08-05T09:19:49.368Z"
   },
   {
    "duration": 538,
    "start_time": "2021-08-05T09:21:00.064Z"
   },
   {
    "duration": 180,
    "start_time": "2021-08-05T09:21:21.231Z"
   },
   {
    "duration": 179,
    "start_time": "2021-08-05T09:21:38.558Z"
   },
   {
    "duration": 176,
    "start_time": "2021-08-05T09:22:05.254Z"
   },
   {
    "duration": 180,
    "start_time": "2021-08-05T09:23:16.813Z"
   },
   {
    "duration": 539,
    "start_time": "2021-08-05T09:26:38.825Z"
   },
   {
    "duration": 597,
    "start_time": "2021-08-05T09:27:33.738Z"
   },
   {
    "duration": 542,
    "start_time": "2021-08-05T09:28:06.970Z"
   },
   {
    "duration": 559,
    "start_time": "2021-08-05T09:28:19.039Z"
   },
   {
    "duration": 183,
    "start_time": "2021-08-05T09:28:39.993Z"
   },
   {
    "duration": 175,
    "start_time": "2021-08-05T10:32:20.874Z"
   },
   {
    "duration": 1337,
    "start_time": "2021-08-05T10:33:12.288Z"
   },
   {
    "duration": 547,
    "start_time": "2021-08-05T10:33:13.628Z"
   },
   {
    "duration": 51,
    "start_time": "2021-08-05T10:33:14.178Z"
   },
   {
    "duration": 152,
    "start_time": "2021-08-05T10:33:14.231Z"
   },
   {
    "duration": 23,
    "start_time": "2021-08-05T10:33:14.385Z"
   },
   {
    "duration": 27,
    "start_time": "2021-08-05T10:33:14.410Z"
   },
   {
    "duration": 43,
    "start_time": "2021-08-05T10:33:14.440Z"
   },
   {
    "duration": 4,
    "start_time": "2021-08-05T10:33:14.486Z"
   },
   {
    "duration": 16,
    "start_time": "2021-08-05T10:33:14.492Z"
   },
   {
    "duration": 150,
    "start_time": "2021-08-05T10:33:14.510Z"
   },
   {
    "duration": 75,
    "start_time": "2021-08-05T10:33:14.663Z"
   },
   {
    "duration": 1968,
    "start_time": "2021-08-05T10:33:14.740Z"
   },
   {
    "duration": 190,
    "start_time": "2021-08-05T10:33:16.711Z"
   },
   {
    "duration": 170,
    "start_time": "2021-08-05T11:02:55.258Z"
   },
   {
    "duration": 1338,
    "start_time": "2021-08-05T11:03:29.195Z"
   },
   {
    "duration": 560,
    "start_time": "2021-08-05T11:03:30.536Z"
   },
   {
    "duration": 51,
    "start_time": "2021-08-05T11:03:31.099Z"
   },
   {
    "duration": 156,
    "start_time": "2021-08-05T11:03:31.153Z"
   },
   {
    "duration": 22,
    "start_time": "2021-08-05T11:03:31.312Z"
   },
   {
    "duration": 52,
    "start_time": "2021-08-05T11:03:31.337Z"
   },
   {
    "duration": 11,
    "start_time": "2021-08-05T11:03:31.391Z"
   },
   {
    "duration": 4,
    "start_time": "2021-08-05T11:03:31.406Z"
   },
   {
    "duration": 9,
    "start_time": "2021-08-05T11:03:31.412Z"
   },
   {
    "duration": 171,
    "start_time": "2021-08-05T11:03:31.423Z"
   },
   {
    "duration": 88,
    "start_time": "2021-08-05T11:03:31.597Z"
   },
   {
    "duration": 1948,
    "start_time": "2021-08-05T11:03:31.687Z"
   },
   {
    "duration": 184,
    "start_time": "2021-08-05T11:03:33.638Z"
   },
   {
    "duration": 182,
    "start_time": "2021-08-05T11:34:19.374Z"
   },
   {
    "duration": 170,
    "start_time": "2021-08-05T11:34:48.813Z"
   },
   {
    "duration": 189,
    "start_time": "2021-08-05T11:35:19.579Z"
   },
   {
    "duration": 1407,
    "start_time": "2021-08-05T11:38:24.282Z"
   },
   {
    "duration": 564,
    "start_time": "2021-08-05T11:38:25.692Z"
   },
   {
    "duration": 71,
    "start_time": "2021-08-05T11:38:26.259Z"
   },
   {
    "duration": 190,
    "start_time": "2021-08-05T11:38:26.333Z"
   },
   {
    "duration": 31,
    "start_time": "2021-08-05T11:38:26.527Z"
   },
   {
    "duration": 51,
    "start_time": "2021-08-05T11:38:26.561Z"
   },
   {
    "duration": 13,
    "start_time": "2021-08-05T11:38:26.615Z"
   },
   {
    "duration": 4,
    "start_time": "2021-08-05T11:38:26.633Z"
   },
   {
    "duration": 11,
    "start_time": "2021-08-05T11:38:26.639Z"
   },
   {
    "duration": 156,
    "start_time": "2021-08-05T11:38:26.683Z"
   },
   {
    "duration": 86,
    "start_time": "2021-08-05T11:38:26.841Z"
   },
   {
    "duration": 2052,
    "start_time": "2021-08-05T11:38:26.930Z"
   },
   {
    "duration": 192,
    "start_time": "2021-08-05T11:38:28.985Z"
   },
   {
    "duration": 9,
    "start_time": "2021-08-05T11:41:40.617Z"
   },
   {
    "duration": 505,
    "start_time": "2021-08-05T11:57:20.916Z"
   },
   {
    "duration": 12,
    "start_time": "2021-08-05T11:58:55.667Z"
   },
   {
    "duration": 67,
    "start_time": "2021-08-05T11:59:05.514Z"
   },
   {
    "duration": 3873,
    "start_time": "2021-08-05T13:21:08.620Z"
   },
   {
    "duration": 5,
    "start_time": "2021-08-05T13:27:07.311Z"
   },
   {
    "duration": 15576,
    "start_time": "2021-08-05T13:27:55.894Z"
   },
   {
    "duration": 626,
    "start_time": "2021-08-05T13:28:45.390Z"
   },
   {
    "duration": 9781,
    "start_time": "2021-08-05T13:30:00.141Z"
   },
   {
    "duration": 12473,
    "start_time": "2021-08-05T13:31:53.778Z"
   },
   {
    "duration": 18256,
    "start_time": "2021-08-05T13:32:12.274Z"
   },
   {
    "duration": 1932,
    "start_time": "2021-08-05T13:32:50.409Z"
   },
   {
    "duration": 19093,
    "start_time": "2021-08-05T13:33:38.378Z"
   },
   {
    "duration": 21790,
    "start_time": "2021-08-05T13:36:08.974Z"
   },
   {
    "duration": 23468,
    "start_time": "2021-08-05T13:36:52.861Z"
   },
   {
    "duration": 3712,
    "start_time": "2021-08-05T13:42:11.024Z"
   },
   {
    "duration": 1241,
    "start_time": "2021-08-05T13:42:48.398Z"
   },
   {
    "duration": 517,
    "start_time": "2021-08-05T13:42:49.642Z"
   },
   {
    "duration": 51,
    "start_time": "2021-08-05T13:42:50.162Z"
   },
   {
    "duration": 141,
    "start_time": "2021-08-05T13:42:50.216Z"
   },
   {
    "duration": 36,
    "start_time": "2021-08-05T13:42:50.359Z"
   },
   {
    "duration": 28,
    "start_time": "2021-08-05T13:42:50.397Z"
   },
   {
    "duration": 13,
    "start_time": "2021-08-05T13:42:50.427Z"
   },
   {
    "duration": 39,
    "start_time": "2021-08-05T13:42:50.443Z"
   },
   {
    "duration": 7,
    "start_time": "2021-08-05T13:42:50.485Z"
   },
   {
    "duration": 168,
    "start_time": "2021-08-05T13:42:50.495Z"
   },
   {
    "duration": 187,
    "start_time": "2021-08-05T13:42:50.666Z"
   },
   {
    "duration": 2174,
    "start_time": "2021-08-05T13:42:50.855Z"
   },
   {
    "duration": 168,
    "start_time": "2021-08-05T13:42:53.031Z"
   },
   {
    "duration": 42,
    "start_time": "2021-08-05T13:42:53.202Z"
   },
   {
    "duration": 120,
    "start_time": "2021-08-05T13:42:53.246Z"
   },
   {
    "duration": 246,
    "start_time": "2021-08-05T13:43:41.272Z"
   },
   {
    "duration": 12358,
    "start_time": "2021-08-05T13:43:50.520Z"
   },
   {
    "duration": 1448,
    "start_time": "2021-08-05T13:57:57.871Z"
   },
   {
    "duration": 647,
    "start_time": "2021-08-05T13:57:59.322Z"
   },
   {
    "duration": 53,
    "start_time": "2021-08-05T13:57:59.972Z"
   },
   {
    "duration": 160,
    "start_time": "2021-08-05T13:58:00.028Z"
   },
   {
    "duration": 24,
    "start_time": "2021-08-05T13:58:00.190Z"
   },
   {
    "duration": 29,
    "start_time": "2021-08-05T13:58:00.217Z"
   },
   {
    "duration": 45,
    "start_time": "2021-08-05T13:58:00.248Z"
   },
   {
    "duration": 8,
    "start_time": "2021-08-05T13:58:00.296Z"
   },
   {
    "duration": 9,
    "start_time": "2021-08-05T13:58:00.307Z"
   },
   {
    "duration": 169,
    "start_time": "2021-08-05T13:58:00.319Z"
   },
   {
    "duration": 14133,
    "start_time": "2021-08-05T13:58:00.490Z"
   },
   {
    "duration": -242,
    "start_time": "2021-08-05T13:58:14.868Z"
   },
   {
    "duration": -244,
    "start_time": "2021-08-05T13:58:14.872Z"
   },
   {
    "duration": -246,
    "start_time": "2021-08-05T13:58:14.875Z"
   },
   {
    "duration": -250,
    "start_time": "2021-08-05T13:58:14.880Z"
   },
   {
    "duration": 537,
    "start_time": "2021-08-05T13:59:49.871Z"
   },
   {
    "duration": 1313,
    "start_time": "2021-08-05T14:00:12.907Z"
   },
   {
    "duration": 543,
    "start_time": "2021-08-05T14:00:14.222Z"
   },
   {
    "duration": 52,
    "start_time": "2021-08-05T14:00:14.768Z"
   },
   {
    "duration": 146,
    "start_time": "2021-08-05T14:00:14.823Z"
   },
   {
    "duration": 41,
    "start_time": "2021-08-05T14:00:14.972Z"
   },
   {
    "duration": 30,
    "start_time": "2021-08-05T14:00:15.016Z"
   },
   {
    "duration": 37,
    "start_time": "2021-08-05T14:00:15.050Z"
   },
   {
    "duration": 6,
    "start_time": "2021-08-05T14:00:15.092Z"
   },
   {
    "duration": 17,
    "start_time": "2021-08-05T14:00:15.101Z"
   },
   {
    "duration": 161,
    "start_time": "2021-08-05T14:00:15.121Z"
   },
   {
    "duration": 14795,
    "start_time": "2021-08-05T14:00:15.285Z"
   },
   {
    "duration": -218,
    "start_time": "2021-08-05T14:00:30.301Z"
   },
   {
    "duration": -223,
    "start_time": "2021-08-05T14:00:30.307Z"
   },
   {
    "duration": -229,
    "start_time": "2021-08-05T14:00:30.315Z"
   },
   {
    "duration": -231,
    "start_time": "2021-08-05T14:00:30.318Z"
   },
   {
    "duration": 702,
    "start_time": "2021-08-05T14:01:01.714Z"
   },
   {
    "duration": 11862,
    "start_time": "2021-08-05T14:01:35.252Z"
   },
   {
    "duration": 4680,
    "start_time": "2021-08-05T14:02:40.320Z"
   },
   {
    "duration": 1310,
    "start_time": "2021-08-05T14:03:19.322Z"
   },
   {
    "duration": 530,
    "start_time": "2021-08-05T14:03:20.635Z"
   },
   {
    "duration": 50,
    "start_time": "2021-08-05T14:03:21.168Z"
   },
   {
    "duration": 142,
    "start_time": "2021-08-05T14:03:21.221Z"
   },
   {
    "duration": 32,
    "start_time": "2021-08-05T14:03:21.365Z"
   },
   {
    "duration": 26,
    "start_time": "2021-08-05T14:03:21.400Z"
   },
   {
    "duration": 11,
    "start_time": "2021-08-05T14:03:21.428Z"
   },
   {
    "duration": 3,
    "start_time": "2021-08-05T14:03:21.442Z"
   },
   {
    "duration": 6,
    "start_time": "2021-08-05T14:03:21.482Z"
   },
   {
    "duration": 145,
    "start_time": "2021-08-05T14:03:21.490Z"
   },
   {
    "duration": 259,
    "start_time": "2021-08-05T14:03:21.637Z"
   },
   {
    "duration": 2020,
    "start_time": "2021-08-05T14:03:21.899Z"
   },
   {
    "duration": 168,
    "start_time": "2021-08-05T14:03:23.921Z"
   },
   {
    "duration": 43,
    "start_time": "2021-08-05T14:03:24.091Z"
   },
   {
    "duration": 134,
    "start_time": "2021-08-05T14:03:24.137Z"
   },
   {
    "duration": 1310,
    "start_time": "2021-08-05T14:07:34.520Z"
   },
   {
    "duration": 565,
    "start_time": "2021-08-05T14:07:35.833Z"
   },
   {
    "duration": 53,
    "start_time": "2021-08-05T14:07:36.401Z"
   },
   {
    "duration": 128,
    "start_time": "2021-08-05T14:07:36.483Z"
   },
   {
    "duration": 25,
    "start_time": "2021-08-05T14:07:36.613Z"
   },
   {
    "duration": 60,
    "start_time": "2021-08-05T14:07:36.640Z"
   },
   {
    "duration": 12,
    "start_time": "2021-08-05T14:07:36.702Z"
   },
   {
    "duration": 3,
    "start_time": "2021-08-05T14:07:36.717Z"
   },
   {
    "duration": 12,
    "start_time": "2021-08-05T14:07:36.723Z"
   },
   {
    "duration": 161,
    "start_time": "2021-08-05T14:07:36.737Z"
   },
   {
    "duration": 8481,
    "start_time": "2021-08-05T14:07:36.901Z"
   },
   {
    "duration": 2007,
    "start_time": "2021-08-05T14:07:45.385Z"
   },
   {
    "duration": 310,
    "start_time": "2021-08-05T14:07:47.395Z"
   },
   {
    "duration": 78,
    "start_time": "2021-08-05T14:07:47.708Z"
   },
   {
    "duration": 106,
    "start_time": "2021-08-05T14:07:47.789Z"
   },
   {
    "duration": 7,
    "start_time": "2021-08-05T14:08:33.894Z"
   },
   {
    "duration": 6,
    "start_time": "2021-08-05T14:09:15.103Z"
   },
   {
    "duration": 7,
    "start_time": "2021-08-05T14:09:50.407Z"
   },
   {
    "duration": 7,
    "start_time": "2021-08-05T14:10:08.462Z"
   },
   {
    "duration": 419,
    "start_time": "2021-08-05T16:17:38.282Z"
   },
   {
    "duration": 1351,
    "start_time": "2021-08-05T16:17:44.120Z"
   },
   {
    "duration": 536,
    "start_time": "2021-08-05T16:17:45.474Z"
   },
   {
    "duration": 50,
    "start_time": "2021-08-05T16:17:46.013Z"
   },
   {
    "duration": 133,
    "start_time": "2021-08-05T16:17:46.066Z"
   },
   {
    "duration": 21,
    "start_time": "2021-08-05T16:17:46.201Z"
   },
   {
    "duration": 25,
    "start_time": "2021-08-05T16:17:46.225Z"
   },
   {
    "duration": 10,
    "start_time": "2021-08-05T16:17:46.253Z"
   },
   {
    "duration": 16,
    "start_time": "2021-08-05T16:17:46.267Z"
   },
   {
    "duration": 9,
    "start_time": "2021-08-05T16:17:46.286Z"
   },
   {
    "duration": 152,
    "start_time": "2021-08-05T16:17:46.298Z"
   },
   {
    "duration": 8433,
    "start_time": "2021-08-05T16:17:46.452Z"
   },
   {
    "duration": 7,
    "start_time": "2021-08-05T16:17:54.887Z"
   },
   {
    "duration": 1894,
    "start_time": "2021-08-05T16:17:54.896Z"
   },
   {
    "duration": 225,
    "start_time": "2021-08-05T16:17:56.792Z"
   },
   {
    "duration": 66,
    "start_time": "2021-08-05T16:17:57.020Z"
   },
   {
    "duration": 6,
    "start_time": "2021-08-05T16:17:57.089Z"
   },
   {
    "duration": 122,
    "start_time": "2021-08-05T16:17:57.098Z"
   },
   {
    "duration": 5,
    "start_time": "2021-08-05T16:18:24.605Z"
   },
   {
    "duration": 12,
    "start_time": "2021-08-05T16:18:43.294Z"
   },
   {
    "duration": 52,
    "start_time": "2021-08-05T16:18:49.988Z"
   },
   {
    "duration": 12,
    "start_time": "2021-08-05T16:21:53.844Z"
   },
   {
    "duration": 116,
    "start_time": "2021-08-05T16:37:14.210Z"
   },
   {
    "duration": 45,
    "start_time": "2021-08-05T16:38:11.435Z"
   },
   {
    "duration": 54,
    "start_time": "2021-08-05T16:38:40.009Z"
   },
   {
    "duration": 660,
    "start_time": "2021-08-05T16:38:53.093Z"
   },
   {
    "duration": 35,
    "start_time": "2021-08-05T16:39:01.769Z"
   },
   {
    "duration": 1242,
    "start_time": "2021-08-05T16:39:51.071Z"
   },
   {
    "duration": 523,
    "start_time": "2021-08-05T16:39:52.316Z"
   },
   {
    "duration": 67,
    "start_time": "2021-08-05T16:39:52.843Z"
   },
   {
    "duration": 137,
    "start_time": "2021-08-05T16:39:52.913Z"
   },
   {
    "duration": 37,
    "start_time": "2021-08-05T16:39:53.053Z"
   },
   {
    "duration": 27,
    "start_time": "2021-08-05T16:39:53.092Z"
   },
   {
    "duration": 10,
    "start_time": "2021-08-05T16:39:53.121Z"
   },
   {
    "duration": 3,
    "start_time": "2021-08-05T16:39:53.135Z"
   },
   {
    "duration": 41,
    "start_time": "2021-08-05T16:39:53.141Z"
   },
   {
    "duration": 139,
    "start_time": "2021-08-05T16:39:53.184Z"
   },
   {
    "duration": 17476,
    "start_time": "2021-08-05T16:39:53.325Z"
   },
   {
    "duration": 7,
    "start_time": "2021-08-05T16:40:10.803Z"
   },
   {
    "duration": 1978,
    "start_time": "2021-08-05T16:40:10.812Z"
   },
   {
    "duration": 219,
    "start_time": "2021-08-05T16:40:12.792Z"
   },
   {
    "duration": 42,
    "start_time": "2021-08-05T16:40:13.014Z"
   },
   {
    "duration": 25,
    "start_time": "2021-08-05T16:40:13.058Z"
   },
   {
    "duration": 25,
    "start_time": "2021-08-05T16:40:13.086Z"
   },
   {
    "duration": 255,
    "start_time": "2021-08-05T16:40:13.114Z"
   },
   {
    "duration": 133,
    "start_time": "2021-08-05T17:38:42.006Z"
   },
   {
    "duration": 743,
    "start_time": "2021-08-05T17:39:04.199Z"
   },
   {
    "duration": 154,
    "start_time": "2021-08-05T17:39:13.242Z"
   },
   {
    "duration": 130,
    "start_time": "2021-08-05T17:41:10.135Z"
   },
   {
    "duration": 268,
    "start_time": "2021-08-05T17:43:54.265Z"
   },
   {
    "duration": 406,
    "start_time": "2021-08-05T18:08:15.150Z"
   },
   {
    "duration": 668,
    "start_time": "2021-08-05T18:23:02.043Z"
   },
   {
    "duration": 2346,
    "start_time": "2021-08-05T18:23:19.766Z"
   },
   {
    "duration": 543,
    "start_time": "2021-08-05T18:23:22.115Z"
   },
   {
    "duration": 60,
    "start_time": "2021-08-05T18:23:22.661Z"
   },
   {
    "duration": 163,
    "start_time": "2021-08-05T18:23:22.723Z"
   },
   {
    "duration": 27,
    "start_time": "2021-08-05T18:23:22.895Z"
   },
   {
    "duration": 27,
    "start_time": "2021-08-05T18:23:22.925Z"
   },
   {
    "duration": 31,
    "start_time": "2021-08-05T18:23:22.955Z"
   },
   {
    "duration": 4,
    "start_time": "2021-08-05T18:23:22.992Z"
   },
   {
    "duration": 8,
    "start_time": "2021-08-05T18:23:23.000Z"
   },
   {
    "duration": 199,
    "start_time": "2021-08-05T18:23:23.010Z"
   },
   {
    "duration": 9052,
    "start_time": "2021-08-05T18:23:23.212Z"
   },
   {
    "duration": 17,
    "start_time": "2021-08-05T18:23:32.266Z"
   },
   {
    "duration": 2201,
    "start_time": "2021-08-05T18:23:32.286Z"
   },
   {
    "duration": 247,
    "start_time": "2021-08-05T18:23:34.490Z"
   },
   {
    "duration": 62,
    "start_time": "2021-08-05T18:23:34.739Z"
   },
   {
    "duration": 3,
    "start_time": "2021-08-05T18:23:34.804Z"
   },
   {
    "duration": 24,
    "start_time": "2021-08-05T18:23:34.810Z"
   },
   {
    "duration": 408,
    "start_time": "2021-08-05T18:23:34.836Z"
   },
   {
    "duration": 974,
    "start_time": "2021-08-05T18:23:35.246Z"
   },
   {
    "duration": 758,
    "start_time": "2021-08-05T18:24:32.394Z"
   },
   {
    "duration": 337,
    "start_time": "2021-08-05T18:25:25.302Z"
   },
   {
    "duration": 504,
    "start_time": "2021-08-05T18:25:48.097Z"
   },
   {
    "duration": 2479,
    "start_time": "2021-08-05T18:53:19.178Z"
   },
   {
    "duration": 2653,
    "start_time": "2021-08-05T18:53:53.847Z"
   },
   {
    "duration": 3394,
    "start_time": "2021-08-05T18:55:50.529Z"
   },
   {
    "duration": 77,
    "start_time": "2021-08-05T18:57:19.776Z"
   },
   {
    "duration": 416,
    "start_time": "2021-08-05T19:00:57.224Z"
   },
   {
    "duration": 1292,
    "start_time": "2021-08-05T19:01:36.935Z"
   },
   {
    "duration": 550,
    "start_time": "2021-08-05T19:01:38.230Z"
   },
   {
    "duration": 54,
    "start_time": "2021-08-05T19:01:38.784Z"
   },
   {
    "duration": 146,
    "start_time": "2021-08-05T19:01:38.841Z"
   },
   {
    "duration": 25,
    "start_time": "2021-08-05T19:01:38.991Z"
   },
   {
    "duration": 25,
    "start_time": "2021-08-05T19:01:39.019Z"
   },
   {
    "duration": 45,
    "start_time": "2021-08-05T19:01:39.047Z"
   },
   {
    "duration": 4,
    "start_time": "2021-08-05T19:01:39.096Z"
   },
   {
    "duration": 6,
    "start_time": "2021-08-05T19:01:39.103Z"
   },
   {
    "duration": 168,
    "start_time": "2021-08-05T19:01:39.112Z"
   },
   {
    "duration": 9393,
    "start_time": "2021-08-05T19:01:39.282Z"
   },
   {
    "duration": 11,
    "start_time": "2021-08-05T19:01:48.678Z"
   },
   {
    "duration": 2129,
    "start_time": "2021-08-05T19:01:48.695Z"
   },
   {
    "duration": 251,
    "start_time": "2021-08-05T19:01:50.827Z"
   },
   {
    "duration": 49,
    "start_time": "2021-08-05T19:01:51.081Z"
   },
   {
    "duration": 5,
    "start_time": "2021-08-05T19:01:51.133Z"
   },
   {
    "duration": 66,
    "start_time": "2021-08-05T19:01:51.141Z"
   },
   {
    "duration": 389,
    "start_time": "2021-08-05T19:01:51.210Z"
   },
   {
    "duration": 334,
    "start_time": "2021-08-05T19:01:51.602Z"
   },
   {
    "duration": 9460,
    "start_time": "2021-08-05T19:01:51.938Z"
   },
   {
    "duration": 15,
    "start_time": "2021-08-05T19:02:34.354Z"
   },
   {
    "duration": 385,
    "start_time": "2021-08-05T19:03:20.603Z"
   },
   {
    "duration": 14,
    "start_time": "2021-08-05T19:03:37.661Z"
   },
   {
    "duration": 21,
    "start_time": "2021-08-05T19:03:47.175Z"
   },
   {
    "duration": 19,
    "start_time": "2021-08-05T19:05:04.929Z"
   },
   {
    "duration": 19,
    "start_time": "2021-08-05T19:23:16.020Z"
   },
   {
    "duration": 63,
    "start_time": "2021-08-05T19:23:51.233Z"
   },
   {
    "duration": 130,
    "start_time": "2021-08-05T19:24:25.752Z"
   },
   {
    "duration": 26,
    "start_time": "2021-08-05T19:24:31.169Z"
   },
   {
    "duration": 1309,
    "start_time": "2021-08-05T19:25:27.427Z"
   },
   {
    "duration": 579,
    "start_time": "2021-08-05T19:25:28.739Z"
   },
   {
    "duration": 71,
    "start_time": "2021-08-05T19:25:29.321Z"
   },
   {
    "duration": 135,
    "start_time": "2021-08-05T19:25:29.396Z"
   },
   {
    "duration": 23,
    "start_time": "2021-08-05T19:25:29.533Z"
   },
   {
    "duration": 50,
    "start_time": "2021-08-05T19:25:29.558Z"
   },
   {
    "duration": 12,
    "start_time": "2021-08-05T19:25:29.611Z"
   },
   {
    "duration": 3,
    "start_time": "2021-08-05T19:25:29.626Z"
   },
   {
    "duration": 4,
    "start_time": "2021-08-05T19:25:29.635Z"
   },
   {
    "duration": 154,
    "start_time": "2021-08-05T19:25:29.682Z"
   },
   {
    "duration": 8984,
    "start_time": "2021-08-05T19:25:29.838Z"
   },
   {
    "duration": 7,
    "start_time": "2021-08-05T19:25:38.824Z"
   },
   {
    "duration": 2328,
    "start_time": "2021-08-05T19:25:38.833Z"
   },
   {
    "duration": 252,
    "start_time": "2021-08-05T19:25:41.163Z"
   },
   {
    "duration": 42,
    "start_time": "2021-08-05T19:25:41.417Z"
   },
   {
    "duration": 4,
    "start_time": "2021-08-05T19:25:41.461Z"
   },
   {
    "duration": 27,
    "start_time": "2021-08-05T19:25:41.484Z"
   },
   {
    "duration": 417,
    "start_time": "2021-08-05T19:25:41.513Z"
   },
   {
    "duration": 338,
    "start_time": "2021-08-05T19:25:41.932Z"
   },
   {
    "duration": 36,
    "start_time": "2021-08-05T19:25:42.272Z"
   },
   {
    "duration": 13,
    "start_time": "2021-08-05T19:25:42.310Z"
   },
   {
    "duration": 1487,
    "start_time": "2021-08-06T06:48:54.442Z"
   },
   {
    "duration": 601,
    "start_time": "2021-08-06T06:48:55.932Z"
   },
   {
    "duration": 51,
    "start_time": "2021-08-06T06:49:03.476Z"
   },
   {
    "duration": 116,
    "start_time": "2021-08-06T06:49:51.323Z"
   },
   {
    "duration": 24,
    "start_time": "2021-08-06T06:49:59.771Z"
   },
   {
    "duration": 29,
    "start_time": "2021-08-06T06:50:31.314Z"
   },
   {
    "duration": 394,
    "start_time": "2021-08-06T07:02:42.743Z"
   },
   {
    "duration": 1212,
    "start_time": "2021-08-06T07:02:50.894Z"
   },
   {
    "duration": 649,
    "start_time": "2021-08-06T07:02:52.113Z"
   },
   {
    "duration": 50,
    "start_time": "2021-08-06T07:02:52.764Z"
   },
   {
    "duration": 158,
    "start_time": "2021-08-06T07:02:52.816Z"
   },
   {
    "duration": 23,
    "start_time": "2021-08-06T07:02:52.976Z"
   },
   {
    "duration": 29,
    "start_time": "2021-08-06T07:02:53.001Z"
   },
   {
    "duration": 32,
    "start_time": "2021-08-06T07:02:53.033Z"
   },
   {
    "duration": 3,
    "start_time": "2021-08-06T07:02:53.068Z"
   },
   {
    "duration": 7,
    "start_time": "2021-08-06T07:02:53.074Z"
   },
   {
    "duration": 172,
    "start_time": "2021-08-06T07:02:53.084Z"
   },
   {
    "duration": 9058,
    "start_time": "2021-08-06T07:02:53.258Z"
   },
   {
    "duration": 7,
    "start_time": "2021-08-06T07:03:02.318Z"
   },
   {
    "duration": 2246,
    "start_time": "2021-08-06T07:03:02.327Z"
   },
   {
    "duration": 324,
    "start_time": "2021-08-06T07:03:04.576Z"
   },
   {
    "duration": 65,
    "start_time": "2021-08-06T07:03:04.902Z"
   },
   {
    "duration": 5,
    "start_time": "2021-08-06T07:03:04.970Z"
   },
   {
    "duration": 24,
    "start_time": "2021-08-06T07:03:04.978Z"
   },
   {
    "duration": 396,
    "start_time": "2021-08-06T07:03:05.005Z"
   },
   {
    "duration": 328,
    "start_time": "2021-08-06T07:03:05.404Z"
   },
   {
    "duration": 37,
    "start_time": "2021-08-06T07:03:05.735Z"
   },
   {
    "duration": 15,
    "start_time": "2021-08-06T07:03:05.776Z"
   },
   {
    "duration": 433,
    "start_time": "2021-08-06T07:05:28.316Z"
   },
   {
    "duration": 333,
    "start_time": "2021-08-06T07:05:45.964Z"
   },
   {
    "duration": 1229,
    "start_time": "2021-08-06T07:07:28.668Z"
   },
   {
    "duration": 597,
    "start_time": "2021-08-06T07:07:29.900Z"
   },
   {
    "duration": 75,
    "start_time": "2021-08-06T07:07:30.501Z"
   },
   {
    "duration": 147,
    "start_time": "2021-08-06T07:07:30.579Z"
   },
   {
    "duration": 41,
    "start_time": "2021-08-06T07:07:30.729Z"
   },
   {
    "duration": 31,
    "start_time": "2021-08-06T07:07:30.773Z"
   },
   {
    "duration": 12,
    "start_time": "2021-08-06T07:07:30.807Z"
   },
   {
    "duration": 3,
    "start_time": "2021-08-06T07:07:30.856Z"
   },
   {
    "duration": 11,
    "start_time": "2021-08-06T07:07:30.862Z"
   },
   {
    "duration": 158,
    "start_time": "2021-08-06T07:07:30.875Z"
   },
   {
    "duration": 8628,
    "start_time": "2021-08-06T07:07:31.036Z"
   },
   {
    "duration": 406,
    "start_time": "2021-08-06T07:07:39.667Z"
   },
   {
    "duration": -108,
    "start_time": "2021-08-06T07:07:40.184Z"
   },
   {
    "duration": -112,
    "start_time": "2021-08-06T07:07:40.189Z"
   },
   {
    "duration": -114,
    "start_time": "2021-08-06T07:07:40.192Z"
   },
   {
    "duration": -115,
    "start_time": "2021-08-06T07:07:40.195Z"
   },
   {
    "duration": -116,
    "start_time": "2021-08-06T07:07:40.197Z"
   },
   {
    "duration": -118,
    "start_time": "2021-08-06T07:07:40.200Z"
   },
   {
    "duration": -121,
    "start_time": "2021-08-06T07:07:40.204Z"
   },
   {
    "duration": -123,
    "start_time": "2021-08-06T07:07:40.208Z"
   },
   {
    "duration": -125,
    "start_time": "2021-08-06T07:07:40.211Z"
   },
   {
    "duration": 34,
    "start_time": "2021-08-06T07:08:11.080Z"
   },
   {
    "duration": 23,
    "start_time": "2021-08-06T07:08:25.110Z"
   },
   {
    "duration": 24,
    "start_time": "2021-08-06T07:08:37.023Z"
   },
   {
    "duration": 34,
    "start_time": "2021-08-06T07:08:44.565Z"
   },
   {
    "duration": 58,
    "start_time": "2021-08-06T07:12:23.826Z"
   },
   {
    "duration": 58,
    "start_time": "2021-08-06T07:12:39.218Z"
   },
   {
    "duration": 55,
    "start_time": "2021-08-06T07:14:24.201Z"
   },
   {
    "duration": 2144,
    "start_time": "2021-08-06T07:15:25.968Z"
   },
   {
    "duration": 177,
    "start_time": "2021-08-06T07:21:02.716Z"
   },
   {
    "duration": 66,
    "start_time": "2021-08-06T07:21:02.896Z"
   },
   {
    "duration": 42,
    "start_time": "2021-08-06T07:21:02.965Z"
   },
   {
    "duration": 4,
    "start_time": "2021-08-06T07:21:03.010Z"
   },
   {
    "duration": 48,
    "start_time": "2021-08-06T07:21:03.017Z"
   },
   {
    "duration": 369,
    "start_time": "2021-08-06T07:21:03.068Z"
   },
   {
    "duration": 345,
    "start_time": "2021-08-06T07:21:03.440Z"
   },
   {
    "duration": 26,
    "start_time": "2021-08-06T07:21:03.789Z"
   },
   {
    "duration": 12,
    "start_time": "2021-08-06T07:21:03.818Z"
   },
   {
    "duration": 19,
    "start_time": "2021-08-06T07:21:20.313Z"
   },
   {
    "duration": 25,
    "start_time": "2021-08-06T07:55:13.714Z"
   },
   {
    "duration": 26,
    "start_time": "2021-08-06T07:56:18.816Z"
   },
   {
    "duration": 27,
    "start_time": "2021-08-06T07:56:32.463Z"
   },
   {
    "duration": 34,
    "start_time": "2021-08-06T07:58:21.783Z"
   },
   {
    "duration": 38,
    "start_time": "2021-08-06T07:59:31.373Z"
   },
   {
    "duration": 44,
    "start_time": "2021-08-06T08:04:15.886Z"
   },
   {
    "duration": 30,
    "start_time": "2021-08-06T08:07:02.997Z"
   },
   {
    "duration": 27,
    "start_time": "2021-08-06T08:07:21.460Z"
   },
   {
    "duration": 14,
    "start_time": "2021-08-06T08:29:16.923Z"
   },
   {
    "duration": 30,
    "start_time": "2021-08-06T08:30:12.951Z"
   },
   {
    "duration": 29,
    "start_time": "2021-08-06T08:32:10.645Z"
   },
   {
    "duration": 982,
    "start_time": "2021-08-07T08:52:22.298Z"
   },
   {
    "duration": 425,
    "start_time": "2021-08-07T08:52:23.282Z"
   },
   {
    "duration": 47,
    "start_time": "2021-08-07T08:52:23.709Z"
   },
   {
    "duration": 135,
    "start_time": "2021-08-07T08:52:23.758Z"
   },
   {
    "duration": 24,
    "start_time": "2021-08-07T08:52:23.895Z"
   },
   {
    "duration": 39,
    "start_time": "2021-08-07T08:52:23.921Z"
   },
   {
    "duration": 10,
    "start_time": "2021-08-07T08:52:23.962Z"
   },
   {
    "duration": 3,
    "start_time": "2021-08-07T08:52:23.975Z"
   },
   {
    "duration": 6,
    "start_time": "2021-08-07T08:52:23.980Z"
   },
   {
    "duration": 115,
    "start_time": "2021-08-07T08:52:23.987Z"
   },
   {
    "duration": 5239,
    "start_time": "2021-08-07T08:52:24.104Z"
   },
   {
    "duration": 37,
    "start_time": "2021-08-07T08:52:29.345Z"
   },
   {
    "duration": 1307,
    "start_time": "2021-08-07T08:52:29.383Z"
   },
   {
    "duration": 141,
    "start_time": "2021-08-07T08:52:30.692Z"
   },
   {
    "duration": 39,
    "start_time": "2021-08-07T08:52:30.835Z"
   },
   {
    "duration": 28,
    "start_time": "2021-08-07T08:52:30.876Z"
   },
   {
    "duration": 3,
    "start_time": "2021-08-07T08:52:30.907Z"
   },
   {
    "duration": 51,
    "start_time": "2021-08-07T08:52:30.912Z"
   },
   {
    "duration": 361,
    "start_time": "2021-08-07T08:52:30.966Z"
   },
   {
    "duration": 313,
    "start_time": "2021-08-07T08:52:31.329Z"
   },
   {
    "duration": 29,
    "start_time": "2021-08-07T08:52:31.644Z"
   },
   {
    "duration": 18,
    "start_time": "2021-08-07T08:52:31.675Z"
   },
   {
    "duration": 55,
    "start_time": "2021-08-07T08:52:31.696Z"
   },
   {
    "duration": 8,
    "start_time": "2021-08-07T08:52:31.753Z"
   },
   {
    "duration": 1325,
    "start_time": "2021-08-09T12:44:52.433Z"
   },
   {
    "duration": 557,
    "start_time": "2021-08-09T12:44:53.761Z"
   },
   {
    "duration": 50,
    "start_time": "2021-08-09T12:44:54.321Z"
   },
   {
    "duration": 129,
    "start_time": "2021-08-09T12:44:54.402Z"
   },
   {
    "duration": 24,
    "start_time": "2021-08-09T12:44:54.533Z"
   },
   {
    "duration": 51,
    "start_time": "2021-08-09T12:44:54.559Z"
   },
   {
    "duration": 14,
    "start_time": "2021-08-09T12:44:54.612Z"
   },
   {
    "duration": 3,
    "start_time": "2021-08-09T12:44:54.631Z"
   },
   {
    "duration": 7,
    "start_time": "2021-08-09T12:44:54.637Z"
   },
   {
    "duration": 172,
    "start_time": "2021-08-09T12:44:54.646Z"
   },
   {
    "duration": 8575,
    "start_time": "2021-08-09T12:44:54.820Z"
   },
   {
    "duration": 63,
    "start_time": "2021-08-09T12:45:03.401Z"
   },
   {
    "duration": 2157,
    "start_time": "2021-08-09T12:45:03.466Z"
   },
   {
    "duration": 192,
    "start_time": "2021-08-09T12:45:05.626Z"
   },
   {
    "duration": 56,
    "start_time": "2021-08-09T12:45:05.821Z"
   },
   {
    "duration": 61,
    "start_time": "2021-08-09T12:45:05.880Z"
   },
   {
    "duration": 4,
    "start_time": "2021-08-09T12:45:05.943Z"
   },
   {
    "duration": 37,
    "start_time": "2021-08-09T12:45:05.950Z"
   },
   {
    "duration": 440,
    "start_time": "2021-08-09T12:45:06.001Z"
   },
   {
    "duration": 324,
    "start_time": "2021-08-09T12:45:06.444Z"
   },
   {
    "duration": 47,
    "start_time": "2021-08-09T12:45:06.771Z"
   },
   {
    "duration": 27,
    "start_time": "2021-08-09T12:45:06.820Z"
   },
   {
    "duration": 70,
    "start_time": "2021-08-09T12:45:06.852Z"
   },
   {
    "duration": 15,
    "start_time": "2021-08-09T12:45:06.924Z"
   },
   {
    "duration": 34,
    "start_time": "2021-08-09T12:45:16.532Z"
   },
   {
    "duration": 1343,
    "start_time": "2021-08-09T12:48:33.518Z"
   },
   {
    "duration": 590,
    "start_time": "2021-08-09T12:48:34.864Z"
   },
   {
    "duration": 69,
    "start_time": "2021-08-09T12:48:35.457Z"
   },
   {
    "duration": 146,
    "start_time": "2021-08-09T12:48:35.529Z"
   },
   {
    "duration": 36,
    "start_time": "2021-08-09T12:48:35.678Z"
   },
   {
    "duration": 27,
    "start_time": "2021-08-09T12:48:35.717Z"
   },
   {
    "duration": 12,
    "start_time": "2021-08-09T12:48:35.746Z"
   },
   {
    "duration": 3,
    "start_time": "2021-08-09T12:48:35.762Z"
   },
   {
    "duration": 5,
    "start_time": "2021-08-09T12:48:35.802Z"
   },
   {
    "duration": 256,
    "start_time": "2021-08-09T12:48:35.809Z"
   },
   {
    "duration": 9338,
    "start_time": "2021-08-09T12:48:36.068Z"
   },
   {
    "duration": 60,
    "start_time": "2021-08-09T12:48:45.408Z"
   },
   {
    "duration": 2173,
    "start_time": "2021-08-09T12:48:45.470Z"
   },
   {
    "duration": 188,
    "start_time": "2021-08-09T12:48:47.645Z"
   },
   {
    "duration": 68,
    "start_time": "2021-08-09T12:48:47.835Z"
   },
   {
    "duration": 45,
    "start_time": "2021-08-09T12:48:47.906Z"
   },
   {
    "duration": 4,
    "start_time": "2021-08-09T12:48:47.955Z"
   },
   {
    "duration": 54,
    "start_time": "2021-08-09T12:48:47.962Z"
   },
   {
    "duration": 381,
    "start_time": "2021-08-09T12:48:48.019Z"
   },
   {
    "duration": 326,
    "start_time": "2021-08-09T12:48:48.403Z"
   },
   {
    "duration": 70,
    "start_time": "2021-08-09T12:48:48.733Z"
   },
   {
    "duration": 32,
    "start_time": "2021-08-09T12:48:48.805Z"
   },
   {
    "duration": 71,
    "start_time": "2021-08-09T12:48:48.842Z"
   },
   {
    "duration": 14,
    "start_time": "2021-08-09T12:48:48.916Z"
   },
   {
    "duration": 30,
    "start_time": "2021-08-09T12:49:34.759Z"
   },
   {
    "duration": 1358,
    "start_time": "2021-08-09T16:52:55.361Z"
   },
   {
    "duration": 606,
    "start_time": "2021-08-09T16:52:56.722Z"
   },
   {
    "duration": 73,
    "start_time": "2021-08-09T16:52:57.331Z"
   },
   {
    "duration": 141,
    "start_time": "2021-08-09T16:52:57.407Z"
   },
   {
    "duration": 24,
    "start_time": "2021-08-09T16:52:57.551Z"
   },
   {
    "duration": 27,
    "start_time": "2021-08-09T16:52:57.601Z"
   },
   {
    "duration": 11,
    "start_time": "2021-08-09T16:52:57.631Z"
   },
   {
    "duration": 3,
    "start_time": "2021-08-09T16:52:57.645Z"
   },
   {
    "duration": 50,
    "start_time": "2021-08-09T16:52:57.651Z"
   },
   {
    "duration": 169,
    "start_time": "2021-08-09T16:52:57.704Z"
   },
   {
    "duration": 8632,
    "start_time": "2021-08-09T16:52:57.876Z"
   },
   {
    "duration": 60,
    "start_time": "2021-08-09T16:53:06.511Z"
   },
   {
    "duration": 2375,
    "start_time": "2021-08-09T16:53:06.574Z"
   },
   {
    "duration": 205,
    "start_time": "2021-08-09T16:53:08.952Z"
   },
   {
    "duration": 76,
    "start_time": "2021-08-09T16:53:09.159Z"
   },
   {
    "duration": 64,
    "start_time": "2021-08-09T16:53:09.238Z"
   },
   {
    "duration": 4,
    "start_time": "2021-08-09T16:53:09.304Z"
   },
   {
    "duration": 24,
    "start_time": "2021-08-09T16:53:09.311Z"
   },
   {
    "duration": 399,
    "start_time": "2021-08-09T16:53:09.337Z"
   },
   {
    "duration": 337,
    "start_time": "2021-08-09T16:53:09.738Z"
   },
   {
    "duration": 57,
    "start_time": "2021-08-09T16:53:10.078Z"
   },
   {
    "duration": 81,
    "start_time": "2021-08-09T16:53:10.138Z"
   },
   {
    "duration": 78,
    "start_time": "2021-08-09T16:53:10.224Z"
   },
   {
    "duration": 14,
    "start_time": "2021-08-09T16:53:10.305Z"
   },
   {
    "duration": 1294,
    "start_time": "2021-08-09T16:58:20.949Z"
   },
   {
    "duration": 587,
    "start_time": "2021-08-09T16:58:22.246Z"
   },
   {
    "duration": 89,
    "start_time": "2021-08-09T16:58:22.842Z"
   },
   {
    "duration": 153,
    "start_time": "2021-08-09T16:58:22.934Z"
   },
   {
    "duration": 33,
    "start_time": "2021-08-09T16:58:23.091Z"
   },
   {
    "duration": 29,
    "start_time": "2021-08-09T16:58:23.127Z"
   },
   {
    "duration": 15,
    "start_time": "2021-08-09T16:58:23.202Z"
   },
   {
    "duration": 3,
    "start_time": "2021-08-09T16:58:23.220Z"
   },
   {
    "duration": 7,
    "start_time": "2021-08-09T16:58:23.226Z"
   },
   {
    "duration": 200,
    "start_time": "2021-08-09T16:58:23.237Z"
   },
   {
    "duration": 8982,
    "start_time": "2021-08-09T16:58:23.440Z"
   },
   {
    "duration": 77,
    "start_time": "2021-08-09T16:58:32.425Z"
   },
   {
    "duration": 2273,
    "start_time": "2021-08-09T16:58:32.505Z"
   },
   {
    "duration": 201,
    "start_time": "2021-08-09T16:58:34.781Z"
   },
   {
    "duration": 63,
    "start_time": "2021-08-09T16:58:34.985Z"
   },
   {
    "duration": 68,
    "start_time": "2021-08-09T16:58:35.051Z"
   },
   {
    "duration": 3,
    "start_time": "2021-08-09T16:58:35.122Z"
   },
   {
    "duration": 26,
    "start_time": "2021-08-09T16:58:35.127Z"
   },
   {
    "duration": 389,
    "start_time": "2021-08-09T16:58:35.155Z"
   },
   {
    "duration": 330,
    "start_time": "2021-08-09T16:58:35.547Z"
   },
   {
    "duration": 45,
    "start_time": "2021-08-09T16:58:35.880Z"
   },
   {
    "duration": 79,
    "start_time": "2021-08-09T16:58:35.930Z"
   },
   {
    "duration": 28,
    "start_time": "2021-08-09T16:58:36.011Z"
   },
   {
    "duration": 63,
    "start_time": "2021-08-09T16:58:36.042Z"
   },
   {
    "duration": 30,
    "start_time": "2021-08-09T17:03:47.367Z"
   },
   {
    "duration": 1438,
    "start_time": "2021-08-10T19:45:46.178Z"
   },
   {
    "duration": 589,
    "start_time": "2021-08-10T19:45:47.619Z"
   },
   {
    "duration": 71,
    "start_time": "2021-08-10T19:45:48.212Z"
   },
   {
    "duration": 146,
    "start_time": "2021-08-10T19:45:48.286Z"
   },
   {
    "duration": 32,
    "start_time": "2021-08-10T19:45:48.434Z"
   },
   {
    "duration": 30,
    "start_time": "2021-08-10T19:45:48.468Z"
   },
   {
    "duration": 12,
    "start_time": "2021-08-10T19:45:48.500Z"
   },
   {
    "duration": 3,
    "start_time": "2021-08-10T19:45:48.516Z"
   },
   {
    "duration": 5,
    "start_time": "2021-08-10T19:45:48.556Z"
   },
   {
    "duration": 164,
    "start_time": "2021-08-10T19:45:48.563Z"
   },
   {
    "duration": 9038,
    "start_time": "2021-08-10T19:45:48.729Z"
   },
   {
    "duration": 60,
    "start_time": "2021-08-10T19:45:57.769Z"
   },
   {
    "duration": 2391,
    "start_time": "2021-08-10T19:45:57.832Z"
   },
   {
    "duration": 206,
    "start_time": "2021-08-10T19:46:00.226Z"
   },
   {
    "duration": 59,
    "start_time": "2021-08-10T19:46:00.434Z"
   },
   {
    "duration": 64,
    "start_time": "2021-08-10T19:46:00.495Z"
   },
   {
    "duration": 4,
    "start_time": "2021-08-10T19:46:00.561Z"
   },
   {
    "duration": 39,
    "start_time": "2021-08-10T19:46:00.567Z"
   },
   {
    "duration": 385,
    "start_time": "2021-08-10T19:46:00.609Z"
   },
   {
    "duration": 337,
    "start_time": "2021-08-10T19:46:00.996Z"
   },
   {
    "duration": 49,
    "start_time": "2021-08-10T19:46:01.335Z"
   },
   {
    "duration": 44,
    "start_time": "2021-08-10T19:46:01.386Z"
   },
   {
    "duration": 30,
    "start_time": "2021-08-10T19:46:01.457Z"
   },
   {
    "duration": 23,
    "start_time": "2021-08-10T19:46:01.489Z"
   },
   {
    "duration": 1368,
    "start_time": "2021-08-10T20:18:34.051Z"
   },
   {
    "duration": 597,
    "start_time": "2021-08-10T20:18:35.422Z"
   },
   {
    "duration": 67,
    "start_time": "2021-08-10T20:18:36.022Z"
   },
   {
    "duration": 152,
    "start_time": "2021-08-10T20:18:36.092Z"
   },
   {
    "duration": 29,
    "start_time": "2021-08-10T20:18:36.247Z"
   },
   {
    "duration": 29,
    "start_time": "2021-08-10T20:18:36.279Z"
   },
   {
    "duration": 45,
    "start_time": "2021-08-10T20:18:36.311Z"
   },
   {
    "duration": 3,
    "start_time": "2021-08-10T20:18:36.360Z"
   },
   {
    "duration": 7,
    "start_time": "2021-08-10T20:18:36.367Z"
   },
   {
    "duration": 166,
    "start_time": "2021-08-10T20:18:36.377Z"
   },
   {
    "duration": 8948,
    "start_time": "2021-08-10T20:18:36.546Z"
   },
   {
    "duration": 72,
    "start_time": "2021-08-10T20:18:45.496Z"
   },
   {
    "duration": 2213,
    "start_time": "2021-08-10T20:18:45.571Z"
   },
   {
    "duration": 200,
    "start_time": "2021-08-10T20:18:47.786Z"
   },
   {
    "duration": 51,
    "start_time": "2021-08-10T20:18:47.988Z"
   },
   {
    "duration": 44,
    "start_time": "2021-08-10T20:18:48.054Z"
   },
   {
    "duration": 4,
    "start_time": "2021-08-10T20:18:48.101Z"
   },
   {
    "duration": 53,
    "start_time": "2021-08-10T20:18:48.108Z"
   },
   {
    "duration": 392,
    "start_time": "2021-08-10T20:18:48.164Z"
   },
   {
    "duration": 337,
    "start_time": "2021-08-10T20:18:48.558Z"
   },
   {
    "duration": 68,
    "start_time": "2021-08-10T20:18:48.898Z"
   },
   {
    "duration": 33,
    "start_time": "2021-08-10T20:18:48.968Z"
   },
   {
    "duration": 76,
    "start_time": "2021-08-10T20:18:49.005Z"
   },
   {
    "duration": 14,
    "start_time": "2021-08-10T20:18:49.085Z"
   },
   {
    "duration": 4747,
    "start_time": "2021-08-10T20:18:49.102Z"
   },
   {
    "duration": 330,
    "start_time": "2021-08-10T20:19:42.697Z"
   },
   {
    "duration": 346,
    "start_time": "2021-08-10T20:20:07.074Z"
   },
   {
    "duration": 425,
    "start_time": "2021-08-10T20:20:30.410Z"
   },
   {
    "duration": 689,
    "start_time": "2021-08-10T20:21:32.251Z"
   },
   {
    "duration": 418,
    "start_time": "2021-08-10T20:21:38.550Z"
   },
   {
    "duration": 533,
    "start_time": "2021-08-10T20:21:47.304Z"
   },
   {
    "duration": 524,
    "start_time": "2021-08-10T20:22:07.296Z"
   },
   {
    "duration": 414,
    "start_time": "2021-08-10T20:22:13.718Z"
   },
   {
    "duration": 686,
    "start_time": "2021-08-10T20:24:06.950Z"
   },
   {
    "duration": 808,
    "start_time": "2021-08-10T20:25:52.287Z"
   },
   {
    "duration": 432,
    "start_time": "2021-08-10T20:26:26.197Z"
   },
   {
    "duration": 490,
    "start_time": "2021-08-10T20:27:27.654Z"
   },
   {
    "duration": 499,
    "start_time": "2021-08-10T20:27:49.220Z"
   },
   {
    "duration": 740,
    "start_time": "2021-08-10T20:27:58.284Z"
   },
   {
    "duration": 841,
    "start_time": "2021-08-10T20:28:08.376Z"
   },
   {
    "duration": 494,
    "start_time": "2021-08-10T20:28:18.870Z"
   },
   {
    "duration": 481,
    "start_time": "2021-08-10T20:29:05.812Z"
   },
   {
    "duration": 465,
    "start_time": "2021-08-10T20:32:01.783Z"
   },
   {
    "duration": 488,
    "start_time": "2021-08-10T20:33:11.061Z"
   },
   {
    "duration": 485,
    "start_time": "2021-08-10T20:33:28.216Z"
   },
   {
    "duration": 481,
    "start_time": "2021-08-10T20:34:11.975Z"
   },
   {
    "duration": 485,
    "start_time": "2021-08-10T20:35:33.289Z"
   },
   {
    "duration": 803,
    "start_time": "2021-08-10T20:36:50.136Z"
   },
   {
    "duration": 679,
    "start_time": "2021-08-10T20:44:30.580Z"
   },
   {
    "duration": 2664,
    "start_time": "2021-08-10T20:45:19.137Z"
   },
   {
    "duration": 3454,
    "start_time": "2021-08-10T20:46:15.105Z"
   },
   {
    "duration": 4339,
    "start_time": "2021-08-10T20:46:31.218Z"
   },
   {
    "duration": 1449,
    "start_time": "2021-08-10T20:46:45.222Z"
   },
   {
    "duration": 1384,
    "start_time": "2021-08-10T20:48:44.032Z"
   },
   {
    "duration": 589,
    "start_time": "2021-08-10T20:48:45.419Z"
   },
   {
    "duration": 69,
    "start_time": "2021-08-10T20:48:46.011Z"
   },
   {
    "duration": 146,
    "start_time": "2021-08-10T20:48:46.084Z"
   },
   {
    "duration": 35,
    "start_time": "2021-08-10T20:48:46.233Z"
   },
   {
    "duration": 28,
    "start_time": "2021-08-10T20:48:46.270Z"
   },
   {
    "duration": 12,
    "start_time": "2021-08-10T20:48:46.300Z"
   },
   {
    "duration": 40,
    "start_time": "2021-08-10T20:48:46.317Z"
   },
   {
    "duration": 14,
    "start_time": "2021-08-10T20:48:46.360Z"
   },
   {
    "duration": 158,
    "start_time": "2021-08-10T20:48:46.376Z"
   },
   {
    "duration": 9259,
    "start_time": "2021-08-10T20:48:46.536Z"
   },
   {
    "duration": 71,
    "start_time": "2021-08-10T20:48:55.798Z"
   },
   {
    "duration": 2271,
    "start_time": "2021-08-10T20:48:55.871Z"
   },
   {
    "duration": 197,
    "start_time": "2021-08-10T20:48:58.145Z"
   },
   {
    "duration": 63,
    "start_time": "2021-08-10T20:48:58.344Z"
   },
   {
    "duration": 75,
    "start_time": "2021-08-10T20:48:58.409Z"
   },
   {
    "duration": 4,
    "start_time": "2021-08-10T20:48:58.486Z"
   },
   {
    "duration": 34,
    "start_time": "2021-08-10T20:48:58.493Z"
   },
   {
    "duration": 383,
    "start_time": "2021-08-10T20:48:58.530Z"
   },
   {
    "duration": 350,
    "start_time": "2021-08-10T20:48:58.916Z"
   },
   {
    "duration": 39,
    "start_time": "2021-08-10T20:48:59.269Z"
   },
   {
    "duration": 63,
    "start_time": "2021-08-10T20:48:59.311Z"
   },
   {
    "duration": 87,
    "start_time": "2021-08-10T20:48:59.379Z"
   },
   {
    "duration": 14,
    "start_time": "2021-08-10T20:48:59.470Z"
   },
   {
    "duration": 190,
    "start_time": "2021-08-10T20:48:59.487Z"
   },
   {
    "duration": -232,
    "start_time": "2021-08-10T20:48:59.911Z"
   },
   {
    "duration": -232,
    "start_time": "2021-08-10T20:48:59.913Z"
   },
   {
    "duration": -235,
    "start_time": "2021-08-10T20:48:59.917Z"
   },
   {
    "duration": 664,
    "start_time": "2021-08-10T20:50:42.266Z"
   },
   {
    "duration": 631,
    "start_time": "2021-08-10T20:50:49.104Z"
   },
   {
    "duration": 727,
    "start_time": "2021-08-10T20:50:53.867Z"
   },
   {
    "duration": 5757,
    "start_time": "2021-08-10T20:50:59.697Z"
   },
   {
    "duration": 4600,
    "start_time": "2021-08-10T20:51:26.357Z"
   },
   {
    "duration": 1023,
    "start_time": "2021-08-10T20:52:10.192Z"
   },
   {
    "duration": 769,
    "start_time": "2021-08-10T20:52:30.627Z"
   },
   {
    "duration": 10,
    "start_time": "2021-08-10T20:53:07.852Z"
   },
   {
    "duration": 310,
    "start_time": "2021-08-10T20:53:33.147Z"
   },
   {
    "duration": 1708,
    "start_time": "2021-08-11T16:17:12.968Z"
   },
   {
    "duration": 845,
    "start_time": "2021-08-11T16:17:14.679Z"
   },
   {
    "duration": 94,
    "start_time": "2021-08-11T16:17:15.528Z"
   },
   {
    "duration": 192,
    "start_time": "2021-08-11T16:17:15.626Z"
   },
   {
    "duration": 52,
    "start_time": "2021-08-11T16:17:15.821Z"
   },
   {
    "duration": 38,
    "start_time": "2021-08-11T16:17:15.876Z"
   },
   {
    "duration": 45,
    "start_time": "2021-08-11T16:17:15.917Z"
   },
   {
    "duration": 4,
    "start_time": "2021-08-11T16:17:15.967Z"
   },
   {
    "duration": 11,
    "start_time": "2021-08-11T16:17:15.975Z"
   },
   {
    "duration": 252,
    "start_time": "2021-08-11T16:17:15.989Z"
   },
   {
    "duration": 9251,
    "start_time": "2021-08-11T16:17:16.244Z"
   },
   {
    "duration": 75,
    "start_time": "2021-08-11T16:17:25.498Z"
   },
   {
    "duration": 2282,
    "start_time": "2021-08-11T16:17:25.576Z"
   },
   {
    "duration": 195,
    "start_time": "2021-08-11T16:17:27.863Z"
   },
   {
    "duration": 56,
    "start_time": "2021-08-11T16:17:28.060Z"
   },
   {
    "duration": 72,
    "start_time": "2021-08-11T16:17:28.119Z"
   },
   {
    "duration": 4,
    "start_time": "2021-08-11T16:17:28.194Z"
   },
   {
    "duration": 25,
    "start_time": "2021-08-11T16:17:28.202Z"
   },
   {
    "duration": 664,
    "start_time": "2021-08-11T16:17:28.230Z"
   },
   {
    "duration": 538,
    "start_time": "2021-08-11T16:17:28.897Z"
   },
   {
    "duration": 61,
    "start_time": "2021-08-11T16:17:29.438Z"
   },
   {
    "duration": 72,
    "start_time": "2021-08-11T16:17:29.502Z"
   },
   {
    "duration": 38,
    "start_time": "2021-08-11T16:17:29.580Z"
   },
   {
    "duration": 56,
    "start_time": "2021-08-11T16:17:29.622Z"
   },
   {
    "duration": 726,
    "start_time": "2021-08-11T16:17:29.681Z"
   },
   {
    "duration": 654,
    "start_time": "2021-08-11T16:17:30.410Z"
   },
   {
    "duration": 708,
    "start_time": "2021-08-11T16:17:31.068Z"
   },
   {
    "duration": 499,
    "start_time": "2021-08-11T16:17:31.778Z"
   },
   {
    "duration": 356,
    "start_time": "2021-08-11T16:18:26.359Z"
   },
   {
    "duration": 15,
    "start_time": "2021-08-11T16:18:41.673Z"
   },
   {
    "duration": 296,
    "start_time": "2021-08-11T16:18:53.139Z"
   },
   {
    "duration": 11,
    "start_time": "2021-08-11T16:19:12.497Z"
   },
   {
    "duration": 302,
    "start_time": "2021-08-11T16:22:35.431Z"
   },
   {
    "duration": 11,
    "start_time": "2021-08-11T16:32:39.743Z"
   },
   {
    "duration": 312,
    "start_time": "2021-08-11T16:33:44.263Z"
   },
   {
    "duration": 8183,
    "start_time": "2021-08-11T16:34:24.487Z"
   },
   {
    "duration": 1980,
    "start_time": "2021-08-11T16:34:39.490Z"
   },
   {
    "duration": 1330,
    "start_time": "2021-08-11T16:35:11.681Z"
   },
   {
    "duration": 581,
    "start_time": "2021-08-11T16:35:13.014Z"
   },
   {
    "duration": 72,
    "start_time": "2021-08-11T16:35:13.599Z"
   },
   {
    "duration": 137,
    "start_time": "2021-08-11T16:35:13.674Z"
   },
   {
    "duration": 24,
    "start_time": "2021-08-11T16:35:13.814Z"
   },
   {
    "duration": 46,
    "start_time": "2021-08-11T16:35:13.841Z"
   },
   {
    "duration": 12,
    "start_time": "2021-08-11T16:35:13.890Z"
   },
   {
    "duration": 3,
    "start_time": "2021-08-11T16:35:13.906Z"
   },
   {
    "duration": 7,
    "start_time": "2021-08-11T16:35:13.913Z"
   },
   {
    "duration": 267,
    "start_time": "2021-08-11T16:35:13.923Z"
   },
   {
    "duration": 14754,
    "start_time": "2021-08-11T16:35:14.193Z"
   },
   {
    "duration": 88,
    "start_time": "2021-08-11T16:35:28.950Z"
   },
   {
    "duration": 2528,
    "start_time": "2021-08-11T16:35:29.041Z"
   },
   {
    "duration": 206,
    "start_time": "2021-08-11T16:35:31.572Z"
   },
   {
    "duration": 55,
    "start_time": "2021-08-11T16:35:31.780Z"
   },
   {
    "duration": 60,
    "start_time": "2021-08-11T16:35:31.843Z"
   },
   {
    "duration": 4,
    "start_time": "2021-08-11T16:35:31.906Z"
   },
   {
    "duration": 53,
    "start_time": "2021-08-11T16:35:31.913Z"
   },
   {
    "duration": 378,
    "start_time": "2021-08-11T16:35:31.968Z"
   },
   {
    "duration": 327,
    "start_time": "2021-08-11T16:35:32.348Z"
   },
   {
    "duration": 44,
    "start_time": "2021-08-11T16:35:32.678Z"
   },
   {
    "duration": 62,
    "start_time": "2021-08-11T16:35:32.724Z"
   },
   {
    "duration": 74,
    "start_time": "2021-08-11T16:35:32.790Z"
   },
   {
    "duration": 14,
    "start_time": "2021-08-11T16:35:32.867Z"
   },
   {
    "duration": 1071,
    "start_time": "2021-08-11T16:35:32.885Z"
   },
   {
    "duration": 1021,
    "start_time": "2021-08-11T16:35:33.963Z"
   },
   {
    "duration": 751,
    "start_time": "2021-08-11T16:35:34.988Z"
   },
   {
    "duration": 484,
    "start_time": "2021-08-11T16:35:35.742Z"
   },
   {
    "duration": 319,
    "start_time": "2021-08-11T16:37:28.381Z"
   },
   {
    "duration": 10444,
    "start_time": "2021-08-11T16:37:40.583Z"
   },
   {
    "duration": 251,
    "start_time": "2021-08-11T16:38:07.933Z"
   },
   {
    "duration": 284,
    "start_time": "2021-08-11T16:40:01.823Z"
   },
   {
    "duration": 386,
    "start_time": "2021-08-11T16:41:51.847Z"
   },
   {
    "duration": 296,
    "start_time": "2021-08-11T16:42:32.078Z"
   },
   {
    "duration": 614,
    "start_time": "2021-08-11T16:43:18.870Z"
   },
   {
    "duration": 625,
    "start_time": "2021-08-11T16:43:29.094Z"
   },
   {
    "duration": 284,
    "start_time": "2021-08-11T16:43:57.015Z"
   },
   {
    "duration": 298,
    "start_time": "2021-08-11T16:45:33.964Z"
   },
   {
    "duration": 286,
    "start_time": "2021-08-11T16:45:51.309Z"
   },
   {
    "duration": 289,
    "start_time": "2021-08-11T16:47:58.190Z"
   },
   {
    "duration": 730,
    "start_time": "2021-08-11T16:48:12.082Z"
   },
   {
    "duration": 435,
    "start_time": "2021-08-11T16:48:36.717Z"
   },
   {
    "duration": 424,
    "start_time": "2021-08-11T16:48:46.661Z"
   },
   {
    "duration": 431,
    "start_time": "2021-08-11T16:50:19.747Z"
   },
   {
    "duration": 355,
    "start_time": "2021-08-11T16:50:46.195Z"
   },
   {
    "duration": 423,
    "start_time": "2021-08-11T16:52:27.401Z"
   },
   {
    "duration": 402,
    "start_time": "2021-08-11T16:53:44.474Z"
   },
   {
    "duration": 340,
    "start_time": "2021-08-11T16:55:54.374Z"
   },
   {
    "duration": 374,
    "start_time": "2021-08-11T16:56:10.381Z"
   },
   {
    "duration": 348,
    "start_time": "2021-08-11T16:56:17.490Z"
   },
   {
    "duration": 39,
    "start_time": "2021-08-11T17:11:06.987Z"
   },
   {
    "duration": 129,
    "start_time": "2021-08-11T17:16:42.594Z"
   },
   {
    "duration": 398,
    "start_time": "2021-08-11T17:17:42.131Z"
   },
   {
    "duration": 9,
    "start_time": "2021-08-11T17:17:53.074Z"
   },
   {
    "duration": 9,
    "start_time": "2021-08-11T17:18:09.524Z"
   },
   {
    "duration": 10,
    "start_time": "2021-08-11T17:18:47.590Z"
   },
   {
    "duration": 10,
    "start_time": "2021-08-11T17:19:04.924Z"
   },
   {
    "duration": 12,
    "start_time": "2021-08-11T17:19:17.683Z"
   },
   {
    "duration": 13,
    "start_time": "2021-08-11T17:19:26.223Z"
   },
   {
    "duration": 10,
    "start_time": "2021-08-11T17:19:45.576Z"
   },
   {
    "duration": 132,
    "start_time": "2021-08-11T17:20:22.279Z"
   },
   {
    "duration": 8,
    "start_time": "2021-08-11T17:20:27.805Z"
   },
   {
    "duration": 9,
    "start_time": "2021-08-11T17:20:49.541Z"
   },
   {
    "duration": 10,
    "start_time": "2021-08-11T17:20:58.321Z"
   },
   {
    "duration": 11,
    "start_time": "2021-08-11T17:21:54.750Z"
   },
   {
    "duration": 15,
    "start_time": "2021-08-11T17:24:20.913Z"
   },
   {
    "duration": 12,
    "start_time": "2021-08-11T17:24:39.181Z"
   },
   {
    "duration": 10,
    "start_time": "2021-08-11T17:25:38.062Z"
   },
   {
    "duration": 18,
    "start_time": "2021-08-11T18:09:02.327Z"
   },
   {
    "duration": 17,
    "start_time": "2021-08-11T18:09:31.903Z"
   },
   {
    "duration": 18,
    "start_time": "2021-08-11T18:10:06.735Z"
   },
   {
    "duration": 26,
    "start_time": "2021-08-11T18:10:15.760Z"
   },
   {
    "duration": 23,
    "start_time": "2021-08-11T18:14:34.100Z"
   },
   {
    "duration": 25,
    "start_time": "2021-08-11T18:18:17.896Z"
   },
   {
    "duration": 487,
    "start_time": "2021-08-11T21:33:51.710Z"
   },
   {
    "duration": 1402,
    "start_time": "2021-08-11T21:36:30.125Z"
   },
   {
    "duration": 607,
    "start_time": "2021-08-11T21:36:31.530Z"
   },
   {
    "duration": 61,
    "start_time": "2021-08-11T21:36:32.140Z"
   },
   {
    "duration": 157,
    "start_time": "2021-08-11T21:36:32.205Z"
   },
   {
    "duration": 23,
    "start_time": "2021-08-11T21:36:32.365Z"
   },
   {
    "duration": 28,
    "start_time": "2021-08-11T21:36:32.390Z"
   },
   {
    "duration": 45,
    "start_time": "2021-08-11T21:36:32.420Z"
   },
   {
    "duration": 3,
    "start_time": "2021-08-11T21:36:32.469Z"
   },
   {
    "duration": 8,
    "start_time": "2021-08-11T21:36:32.485Z"
   },
   {
    "duration": 167,
    "start_time": "2021-08-11T21:36:32.496Z"
   },
   {
    "duration": 9019,
    "start_time": "2021-08-11T21:36:32.665Z"
   },
   {
    "duration": 77,
    "start_time": "2021-08-11T21:36:41.687Z"
   },
   {
    "duration": 2332,
    "start_time": "2021-08-11T21:36:41.766Z"
   },
   {
    "duration": 204,
    "start_time": "2021-08-11T21:36:44.100Z"
   },
   {
    "duration": 65,
    "start_time": "2021-08-11T21:36:44.306Z"
   },
   {
    "duration": 46,
    "start_time": "2021-08-11T21:36:44.375Z"
   },
   {
    "duration": 4,
    "start_time": "2021-08-11T21:36:44.424Z"
   },
   {
    "duration": 50,
    "start_time": "2021-08-11T21:36:44.430Z"
   },
   {
    "duration": 384,
    "start_time": "2021-08-11T21:36:44.482Z"
   },
   {
    "duration": 331,
    "start_time": "2021-08-11T21:36:44.868Z"
   },
   {
    "duration": 60,
    "start_time": "2021-08-11T21:36:45.202Z"
   },
   {
    "duration": 29,
    "start_time": "2021-08-11T21:36:45.264Z"
   },
   {
    "duration": 75,
    "start_time": "2021-08-11T21:36:45.298Z"
   },
   {
    "duration": 15,
    "start_time": "2021-08-11T21:36:45.376Z"
   },
   {
    "duration": 720,
    "start_time": "2021-08-11T21:36:45.394Z"
   },
   {
    "duration": 661,
    "start_time": "2021-08-11T21:36:46.116Z"
   },
   {
    "duration": 694,
    "start_time": "2021-08-11T21:36:46.780Z"
   },
   {
    "duration": 798,
    "start_time": "2021-08-11T21:36:47.476Z"
   },
   {
    "duration": -2,
    "start_time": "2021-08-11T21:36:48.278Z"
   },
   {
    "duration": -5,
    "start_time": "2021-08-11T21:36:48.282Z"
   },
   {
    "duration": -5,
    "start_time": "2021-08-11T21:36:48.284Z"
   },
   {
    "duration": 1799,
    "start_time": "2021-08-11T21:37:52.742Z"
   },
   {
    "duration": 829,
    "start_time": "2021-08-11T21:37:54.544Z"
   },
   {
    "duration": 59,
    "start_time": "2021-08-11T21:37:55.377Z"
   },
   {
    "duration": 137,
    "start_time": "2021-08-11T21:37:55.463Z"
   },
   {
    "duration": 28,
    "start_time": "2021-08-11T21:37:55.603Z"
   },
   {
    "duration": 47,
    "start_time": "2021-08-11T21:37:55.634Z"
   },
   {
    "duration": 12,
    "start_time": "2021-08-11T21:37:55.684Z"
   },
   {
    "duration": 4,
    "start_time": "2021-08-11T21:37:55.700Z"
   },
   {
    "duration": 7,
    "start_time": "2021-08-11T21:37:55.707Z"
   },
   {
    "duration": 188,
    "start_time": "2021-08-11T21:37:55.717Z"
   },
   {
    "duration": 9377,
    "start_time": "2021-08-11T21:37:55.908Z"
   },
   {
    "duration": 75,
    "start_time": "2021-08-11T21:38:05.287Z"
   },
   {
    "duration": 2434,
    "start_time": "2021-08-11T21:38:05.364Z"
   },
   {
    "duration": 214,
    "start_time": "2021-08-11T21:38:07.800Z"
   },
   {
    "duration": 65,
    "start_time": "2021-08-11T21:38:08.017Z"
   },
   {
    "duration": 47,
    "start_time": "2021-08-11T21:38:08.085Z"
   },
   {
    "duration": 28,
    "start_time": "2021-08-11T21:38:08.135Z"
   },
   {
    "duration": 27,
    "start_time": "2021-08-11T21:38:08.166Z"
   },
   {
    "duration": 381,
    "start_time": "2021-08-11T21:38:08.196Z"
   },
   {
    "duration": 332,
    "start_time": "2021-08-11T21:38:08.579Z"
   },
   {
    "duration": 62,
    "start_time": "2021-08-11T21:38:08.914Z"
   },
   {
    "duration": 32,
    "start_time": "2021-08-11T21:38:08.978Z"
   },
   {
    "duration": 77,
    "start_time": "2021-08-11T21:38:09.015Z"
   },
   {
    "duration": 15,
    "start_time": "2021-08-11T21:38:09.095Z"
   },
   {
    "duration": 738,
    "start_time": "2021-08-11T21:38:09.113Z"
   },
   {
    "duration": 645,
    "start_time": "2021-08-11T21:38:09.862Z"
   },
   {
    "duration": 667,
    "start_time": "2021-08-11T21:38:10.510Z"
   },
   {
    "duration": 970,
    "start_time": "2021-08-11T21:38:11.180Z"
   },
   {
    "duration": -163,
    "start_time": "2021-08-11T21:38:12.323Z"
   },
   {
    "duration": -165,
    "start_time": "2021-08-11T21:38:12.327Z"
   },
   {
    "duration": -166,
    "start_time": "2021-08-11T21:38:12.330Z"
   },
   {
    "duration": 351,
    "start_time": "2021-08-11T21:38:48.330Z"
   },
   {
    "duration": 716,
    "start_time": "2021-08-11T21:38:55.892Z"
   },
   {
    "duration": 342,
    "start_time": "2021-08-11T21:39:13.047Z"
   },
   {
    "duration": 15,
    "start_time": "2021-08-11T21:44:47.052Z"
   },
   {
    "duration": 16,
    "start_time": "2021-08-11T21:45:30.693Z"
   },
   {
    "duration": 16,
    "start_time": "2021-08-11T21:45:56.773Z"
   },
   {
    "duration": 1329,
    "start_time": "2021-08-12T08:13:54.513Z"
   },
   {
    "duration": 594,
    "start_time": "2021-08-12T08:13:55.845Z"
   },
   {
    "duration": 57,
    "start_time": "2021-08-12T08:13:56.441Z"
   },
   {
    "duration": 138,
    "start_time": "2021-08-12T08:13:56.501Z"
   },
   {
    "duration": 22,
    "start_time": "2021-08-12T08:13:56.641Z"
   },
   {
    "duration": 27,
    "start_time": "2021-08-12T08:13:56.685Z"
   },
   {
    "duration": 11,
    "start_time": "2021-08-12T08:13:56.715Z"
   },
   {
    "duration": 3,
    "start_time": "2021-08-12T08:13:56.730Z"
   },
   {
    "duration": 7,
    "start_time": "2021-08-12T08:13:56.736Z"
   },
   {
    "duration": 183,
    "start_time": "2021-08-12T08:13:56.745Z"
   },
   {
    "duration": 9136,
    "start_time": "2021-08-12T08:13:56.930Z"
   },
   {
    "duration": 67,
    "start_time": "2021-08-12T08:14:06.068Z"
   },
   {
    "duration": 2239,
    "start_time": "2021-08-12T08:14:06.137Z"
   },
   {
    "duration": 185,
    "start_time": "2021-08-12T08:14:08.385Z"
   },
   {
    "duration": 57,
    "start_time": "2021-08-12T08:14:08.573Z"
   },
   {
    "duration": 61,
    "start_time": "2021-08-12T08:14:08.633Z"
   },
   {
    "duration": 4,
    "start_time": "2021-08-12T08:14:08.697Z"
   },
   {
    "duration": 38,
    "start_time": "2021-08-12T08:14:08.703Z"
   },
   {
    "duration": 407,
    "start_time": "2021-08-12T08:14:08.743Z"
   },
   {
    "duration": 328,
    "start_time": "2021-08-12T08:14:09.152Z"
   },
   {
    "duration": 41,
    "start_time": "2021-08-12T08:14:09.486Z"
   },
   {
    "duration": 63,
    "start_time": "2021-08-12T08:14:09.529Z"
   },
   {
    "duration": 31,
    "start_time": "2021-08-12T08:14:09.599Z"
   },
   {
    "duration": 66,
    "start_time": "2021-08-12T08:14:09.634Z"
   },
   {
    "duration": 714,
    "start_time": "2021-08-12T08:14:09.703Z"
   },
   {
    "duration": 750,
    "start_time": "2021-08-12T08:14:10.421Z"
   },
   {
    "duration": 674,
    "start_time": "2021-08-12T08:14:11.174Z"
   },
   {
    "duration": 367,
    "start_time": "2021-08-12T08:14:11.851Z"
   },
   {
    "duration": 12,
    "start_time": "2021-08-12T08:14:12.220Z"
   },
   {
    "duration": 36,
    "start_time": "2021-08-12T08:14:12.234Z"
   },
   {
    "duration": 400,
    "start_time": "2021-08-12T08:14:12.273Z"
   },
   {
    "duration": 8,
    "start_time": "2021-08-12T08:41:34.812Z"
   },
   {
    "duration": 33,
    "start_time": "2021-08-12T08:41:41.011Z"
   },
   {
    "duration": 45,
    "start_time": "2021-08-12T08:49:57.966Z"
   },
   {
    "duration": 48,
    "start_time": "2021-08-12T08:51:40.107Z"
   },
   {
    "duration": 4,
    "start_time": "2021-08-12T08:51:52.551Z"
   },
   {
    "duration": 2671,
    "start_time": "2021-08-12T08:51:53.241Z"
   },
   {
    "duration": 120,
    "start_time": "2021-08-12T08:52:45.630Z"
   },
   {
    "duration": 96,
    "start_time": "2021-08-12T15:28:36.679Z"
   },
   {
    "duration": 332,
    "start_time": "2021-08-12T17:55:38.822Z"
   },
   {
    "duration": 1344,
    "start_time": "2021-08-12T17:55:44.064Z"
   },
   {
    "duration": 597,
    "start_time": "2021-08-12T17:55:45.511Z"
   },
   {
    "duration": 49,
    "start_time": "2021-08-12T17:55:51.103Z"
   },
   {
    "duration": 1303,
    "start_time": "2021-08-12T18:01:32.914Z"
   },
   {
    "duration": 624,
    "start_time": "2021-08-12T18:01:34.220Z"
   },
   {
    "duration": 57,
    "start_time": "2021-08-12T18:01:34.848Z"
   },
   {
    "duration": 156,
    "start_time": "2021-08-12T18:01:34.907Z"
   },
   {
    "duration": 23,
    "start_time": "2021-08-12T18:01:35.071Z"
   },
   {
    "duration": 26,
    "start_time": "2021-08-12T18:01:35.097Z"
   },
   {
    "duration": 3,
    "start_time": "2021-08-12T18:01:35.125Z"
   },
   {
    "duration": 27,
    "start_time": "2021-08-12T18:01:35.132Z"
   },
   {
    "duration": 5480,
    "start_time": "2021-08-12T18:01:35.164Z"
   },
   {
    "duration": -20,
    "start_time": "2021-08-12T18:01:40.667Z"
   },
   {
    "duration": -23,
    "start_time": "2021-08-12T18:01:40.671Z"
   },
   {
    "duration": -25,
    "start_time": "2021-08-12T18:01:40.675Z"
   },
   {
    "duration": -29,
    "start_time": "2021-08-12T18:01:40.680Z"
   },
   {
    "duration": -31,
    "start_time": "2021-08-12T18:01:40.683Z"
   },
   {
    "duration": -32,
    "start_time": "2021-08-12T18:01:40.686Z"
   },
   {
    "duration": -35,
    "start_time": "2021-08-12T18:01:40.690Z"
   },
   {
    "duration": -35,
    "start_time": "2021-08-12T18:01:40.694Z"
   },
   {
    "duration": -36,
    "start_time": "2021-08-12T18:01:40.697Z"
   },
   {
    "duration": -37,
    "start_time": "2021-08-12T18:01:40.700Z"
   },
   {
    "duration": -37,
    "start_time": "2021-08-12T18:01:40.703Z"
   },
   {
    "duration": -42,
    "start_time": "2021-08-12T18:01:40.709Z"
   },
   {
    "duration": -49,
    "start_time": "2021-08-12T18:01:40.717Z"
   },
   {
    "duration": -52,
    "start_time": "2021-08-12T18:01:40.722Z"
   },
   {
    "duration": -53,
    "start_time": "2021-08-12T18:01:40.725Z"
   },
   {
    "duration": -54,
    "start_time": "2021-08-12T18:01:40.728Z"
   },
   {
    "duration": -62,
    "start_time": "2021-08-12T18:01:40.737Z"
   },
   {
    "duration": -66,
    "start_time": "2021-08-12T18:01:40.743Z"
   },
   {
    "duration": -67,
    "start_time": "2021-08-12T18:01:40.746Z"
   },
   {
    "duration": -69,
    "start_time": "2021-08-12T18:01:40.749Z"
   },
   {
    "duration": -71,
    "start_time": "2021-08-12T18:01:40.752Z"
   },
   {
    "duration": 5,
    "start_time": "2021-08-12T18:04:09.878Z"
   },
   {
    "duration": 5121,
    "start_time": "2021-08-12T18:04:14.726Z"
   },
   {
    "duration": 5,
    "start_time": "2021-08-12T18:04:49.331Z"
   },
   {
    "duration": 5608,
    "start_time": "2021-08-12T18:04:51.823Z"
   },
   {
    "duration": 1314,
    "start_time": "2021-08-12T18:07:26.913Z"
   },
   {
    "duration": 616,
    "start_time": "2021-08-12T18:07:28.230Z"
   },
   {
    "duration": 50,
    "start_time": "2021-08-12T18:07:28.849Z"
   },
   {
    "duration": 154,
    "start_time": "2021-08-12T18:07:28.902Z"
   },
   {
    "duration": 23,
    "start_time": "2021-08-12T18:07:29.058Z"
   },
   {
    "duration": 27,
    "start_time": "2021-08-12T18:07:29.083Z"
   },
   {
    "duration": 3,
    "start_time": "2021-08-12T18:07:29.112Z"
   },
   {
    "duration": 5,
    "start_time": "2021-08-12T18:07:29.156Z"
   },
   {
    "duration": 160,
    "start_time": "2021-08-12T18:07:29.165Z"
   },
   {
    "duration": 9103,
    "start_time": "2021-08-12T18:07:29.328Z"
   },
   {
    "duration": 74,
    "start_time": "2021-08-12T18:07:38.434Z"
   },
   {
    "duration": 2303,
    "start_time": "2021-08-12T18:07:38.511Z"
   },
   {
    "duration": 279,
    "start_time": "2021-08-12T18:07:40.818Z"
   },
   {
    "duration": 70,
    "start_time": "2021-08-12T18:07:41.100Z"
   },
   {
    "duration": 44,
    "start_time": "2021-08-12T18:07:41.174Z"
   },
   {
    "duration": 4,
    "start_time": "2021-08-12T18:07:41.222Z"
   },
   {
    "duration": 26,
    "start_time": "2021-08-12T18:07:41.257Z"
   },
   {
    "duration": 390,
    "start_time": "2021-08-12T18:07:41.285Z"
   },
   {
    "duration": 331,
    "start_time": "2021-08-12T18:07:41.677Z"
   },
   {
    "duration": 57,
    "start_time": "2021-08-12T18:07:42.011Z"
   },
   {
    "duration": 41,
    "start_time": "2021-08-12T18:07:42.070Z"
   },
   {
    "duration": 67,
    "start_time": "2021-08-12T18:07:42.114Z"
   },
   {
    "duration": 16,
    "start_time": "2021-08-12T18:07:42.185Z"
   },
   {
    "duration": 774,
    "start_time": "2021-08-12T18:07:42.204Z"
   },
   {
    "duration": 643,
    "start_time": "2021-08-12T18:07:42.980Z"
   },
   {
    "duration": 659,
    "start_time": "2021-08-12T18:07:43.625Z"
   },
   {
    "duration": 358,
    "start_time": "2021-08-12T18:07:44.286Z"
   },
   {
    "duration": 14,
    "start_time": "2021-08-12T18:07:44.646Z"
   },
   {
    "duration": 23,
    "start_time": "2021-08-12T18:07:44.662Z"
   },
   {
    "duration": 368,
    "start_time": "2021-08-12T18:07:44.688Z"
   },
   {
    "duration": 112,
    "start_time": "2021-08-12T18:08:48.485Z"
   },
   {
    "duration": 4,
    "start_time": "2021-08-12T18:09:44.707Z"
   },
   {
    "duration": 194,
    "start_time": "2021-08-12T18:09:46.975Z"
   },
   {
    "duration": 320,
    "start_time": "2021-08-12T18:12:07.186Z"
   },
   {
    "duration": 311,
    "start_time": "2021-08-12T18:12:19.294Z"
   },
   {
    "duration": 424,
    "start_time": "2021-08-12T18:12:41.940Z"
   },
   {
    "duration": 1749,
    "start_time": "2021-08-12T18:13:00.712Z"
   },
   {
    "duration": 674,
    "start_time": "2021-08-12T18:13:30.559Z"
   },
   {
    "duration": 1350,
    "start_time": "2021-08-12T18:14:59.878Z"
   },
   {
    "duration": 609,
    "start_time": "2021-08-12T18:15:01.231Z"
   },
   {
    "duration": 53,
    "start_time": "2021-08-12T18:15:01.843Z"
   },
   {
    "duration": 145,
    "start_time": "2021-08-12T18:15:01.898Z"
   },
   {
    "duration": 23,
    "start_time": "2021-08-12T18:15:02.055Z"
   },
   {
    "duration": 42,
    "start_time": "2021-08-12T18:15:02.080Z"
   },
   {
    "duration": 11,
    "start_time": "2021-08-12T18:15:02.125Z"
   },
   {
    "duration": 44,
    "start_time": "2021-08-12T18:15:02.138Z"
   },
   {
    "duration": 185,
    "start_time": "2021-08-12T18:15:02.186Z"
   },
   {
    "duration": 673,
    "start_time": "2021-08-12T18:15:02.374Z"
   },
   {
    "duration": 9033,
    "start_time": "2021-08-12T18:15:03.049Z"
   },
   {
    "duration": 74,
    "start_time": "2021-08-12T18:15:12.084Z"
   },
   {
    "duration": 2318,
    "start_time": "2021-08-12T18:15:12.160Z"
   },
   {
    "duration": 125,
    "start_time": "2021-08-12T18:15:14.480Z"
   },
   {
    "duration": 62,
    "start_time": "2021-08-12T18:15:14.608Z"
   },
   {
    "duration": 44,
    "start_time": "2021-08-12T18:15:14.672Z"
   },
   {
    "duration": 4,
    "start_time": "2021-08-12T18:15:14.718Z"
   },
   {
    "duration": 56,
    "start_time": "2021-08-12T18:15:14.724Z"
   },
   {
    "duration": 359,
    "start_time": "2021-08-12T18:15:14.782Z"
   },
   {
    "duration": 319,
    "start_time": "2021-08-12T18:15:15.144Z"
   },
   {
    "duration": 35,
    "start_time": "2021-08-12T18:15:15.466Z"
   },
   {
    "duration": 59,
    "start_time": "2021-08-12T18:15:15.504Z"
   },
   {
    "duration": 26,
    "start_time": "2021-08-12T18:15:15.566Z"
   },
   {
    "duration": 14,
    "start_time": "2021-08-12T18:15:15.595Z"
   },
   {
    "duration": 735,
    "start_time": "2021-08-12T18:15:15.611Z"
   },
   {
    "duration": 651,
    "start_time": "2021-08-12T18:15:16.356Z"
   },
   {
    "duration": 671,
    "start_time": "2021-08-12T18:15:17.011Z"
   },
   {
    "duration": 373,
    "start_time": "2021-08-12T18:15:17.685Z"
   },
   {
    "duration": 10,
    "start_time": "2021-08-12T18:15:18.061Z"
   },
   {
    "duration": 21,
    "start_time": "2021-08-12T18:15:18.074Z"
   },
   {
    "duration": 377,
    "start_time": "2021-08-12T18:15:18.098Z"
   },
   {
    "duration": 607,
    "start_time": "2021-08-12T18:16:03.719Z"
   },
   {
    "duration": 1342,
    "start_time": "2021-08-12T18:16:42.707Z"
   },
   {
    "duration": 639,
    "start_time": "2021-08-12T18:16:44.051Z"
   },
   {
    "duration": 78,
    "start_time": "2021-08-12T18:16:44.693Z"
   },
   {
    "duration": 136,
    "start_time": "2021-08-12T18:16:44.773Z"
   },
   {
    "duration": 24,
    "start_time": "2021-08-12T18:16:44.912Z"
   },
   {
    "duration": 28,
    "start_time": "2021-08-12T18:16:44.955Z"
   },
   {
    "duration": 3,
    "start_time": "2021-08-12T18:16:44.985Z"
   },
   {
    "duration": 19,
    "start_time": "2021-08-12T18:16:44.992Z"
   },
   {
    "duration": 168,
    "start_time": "2021-08-12T18:16:45.015Z"
   },
   {
    "duration": 601,
    "start_time": "2021-08-12T18:16:45.185Z"
   },
   {
    "duration": 8992,
    "start_time": "2021-08-12T18:16:45.789Z"
   },
   {
    "duration": 76,
    "start_time": "2021-08-12T18:16:54.783Z"
   },
   {
    "duration": 2327,
    "start_time": "2021-08-12T18:16:54.862Z"
   },
   {
    "duration": 157,
    "start_time": "2021-08-12T18:16:57.192Z"
   },
   {
    "duration": 54,
    "start_time": "2021-08-12T18:16:57.351Z"
   },
   {
    "duration": 55,
    "start_time": "2021-08-12T18:16:57.407Z"
   },
   {
    "duration": 4,
    "start_time": "2021-08-12T18:16:57.464Z"
   },
   {
    "duration": 28,
    "start_time": "2021-08-12T18:16:57.470Z"
   },
   {
    "duration": 518,
    "start_time": "2021-08-12T18:16:57.501Z"
   },
   {
    "duration": 344,
    "start_time": "2021-08-12T18:16:58.021Z"
   },
   {
    "duration": 40,
    "start_time": "2021-08-12T18:16:58.368Z"
   },
   {
    "duration": 65,
    "start_time": "2021-08-12T18:16:58.411Z"
   },
   {
    "duration": 32,
    "start_time": "2021-08-12T18:16:58.481Z"
   },
   {
    "duration": 14,
    "start_time": "2021-08-12T18:16:58.557Z"
   },
   {
    "duration": 813,
    "start_time": "2021-08-12T18:16:58.589Z"
   },
   {
    "duration": 657,
    "start_time": "2021-08-12T18:16:59.404Z"
   },
   {
    "duration": 686,
    "start_time": "2021-08-12T18:17:00.064Z"
   },
   {
    "duration": 365,
    "start_time": "2021-08-12T18:17:00.756Z"
   },
   {
    "duration": 10,
    "start_time": "2021-08-12T18:17:01.124Z"
   },
   {
    "duration": 30,
    "start_time": "2021-08-12T18:17:01.136Z"
   },
   {
    "duration": 371,
    "start_time": "2021-08-12T18:17:01.168Z"
   },
   {
    "duration": 571,
    "start_time": "2021-08-12T18:18:11.232Z"
   },
   {
    "duration": 1487,
    "start_time": "2021-08-13T06:50:00.084Z"
   },
   {
    "duration": 650,
    "start_time": "2021-08-13T06:50:01.574Z"
   },
   {
    "duration": 79,
    "start_time": "2021-08-13T06:50:02.228Z"
   },
   {
    "duration": 136,
    "start_time": "2021-08-13T06:50:02.310Z"
   },
   {
    "duration": 23,
    "start_time": "2021-08-13T06:50:02.448Z"
   },
   {
    "duration": 45,
    "start_time": "2021-08-13T06:50:02.473Z"
   },
   {
    "duration": 3,
    "start_time": "2021-08-13T06:50:02.521Z"
   },
   {
    "duration": 17,
    "start_time": "2021-08-13T06:50:02.529Z"
   },
   {
    "duration": 184,
    "start_time": "2021-08-13T06:50:02.549Z"
   },
   {
    "duration": 616,
    "start_time": "2021-08-13T06:50:02.735Z"
   },
   {
    "duration": 656,
    "start_time": "2021-08-13T06:50:03.353Z"
   },
   {
    "duration": 9458,
    "start_time": "2021-08-13T06:50:04.011Z"
   },
   {
    "duration": 66,
    "start_time": "2021-08-13T06:50:13.472Z"
   },
   {
    "duration": 2318,
    "start_time": "2021-08-13T06:50:13.541Z"
   },
   {
    "duration": 134,
    "start_time": "2021-08-13T06:50:15.862Z"
   },
   {
    "duration": 77,
    "start_time": "2021-08-13T06:50:16.000Z"
   },
   {
    "duration": 75,
    "start_time": "2021-08-13T06:50:16.080Z"
   },
   {
    "duration": 5,
    "start_time": "2021-08-13T06:50:16.159Z"
   },
   {
    "duration": 56,
    "start_time": "2021-08-13T06:50:16.167Z"
   },
   {
    "duration": 450,
    "start_time": "2021-08-13T06:50:16.226Z"
   },
   {
    "duration": 359,
    "start_time": "2021-08-13T06:50:16.678Z"
   },
   {
    "duration": 70,
    "start_time": "2021-08-13T06:50:17.040Z"
   },
   {
    "duration": 32,
    "start_time": "2021-08-13T06:50:17.116Z"
   },
   {
    "duration": 80,
    "start_time": "2021-08-13T06:50:17.151Z"
   },
   {
    "duration": 24,
    "start_time": "2021-08-13T06:50:17.235Z"
   },
   {
    "duration": 758,
    "start_time": "2021-08-13T06:50:17.262Z"
   },
   {
    "duration": 668,
    "start_time": "2021-08-13T06:50:18.023Z"
   },
   {
    "duration": 666,
    "start_time": "2021-08-13T06:50:18.693Z"
   },
   {
    "duration": 376,
    "start_time": "2021-08-13T06:50:19.362Z"
   },
   {
    "duration": 10,
    "start_time": "2021-08-13T06:50:19.740Z"
   },
   {
    "duration": 18,
    "start_time": "2021-08-13T06:50:19.752Z"
   },
   {
    "duration": 362,
    "start_time": "2021-08-13T06:50:19.801Z"
   },
   {
    "duration": 1215,
    "start_time": "2021-08-13T07:43:22.941Z"
   },
   {
    "duration": 598,
    "start_time": "2021-08-13T07:43:24.158Z"
   },
   {
    "duration": 64,
    "start_time": "2021-08-13T07:43:24.759Z"
   },
   {
    "duration": 139,
    "start_time": "2021-08-13T07:43:24.826Z"
   },
   {
    "duration": 40,
    "start_time": "2021-08-13T07:43:24.968Z"
   },
   {
    "duration": 29,
    "start_time": "2021-08-13T07:43:25.010Z"
   },
   {
    "duration": 4,
    "start_time": "2021-08-13T07:43:25.041Z"
   },
   {
    "duration": 9,
    "start_time": "2021-08-13T07:43:25.048Z"
   },
   {
    "duration": 185,
    "start_time": "2021-08-13T07:43:25.060Z"
   },
   {
    "duration": 591,
    "start_time": "2021-08-13T07:43:25.248Z"
   },
   {
    "duration": 696,
    "start_time": "2021-08-13T07:43:25.842Z"
   },
   {
    "duration": 8935,
    "start_time": "2021-08-13T07:43:26.540Z"
   },
   {
    "duration": 65,
    "start_time": "2021-08-13T07:43:35.478Z"
   },
   {
    "duration": 2150,
    "start_time": "2021-08-13T07:43:35.545Z"
   },
   {
    "duration": 118,
    "start_time": "2021-08-13T07:43:37.700Z"
   },
   {
    "duration": 50,
    "start_time": "2021-08-13T07:43:37.821Z"
   },
   {
    "duration": 66,
    "start_time": "2021-08-13T07:43:37.874Z"
   },
   {
    "duration": 4,
    "start_time": "2021-08-13T07:43:37.942Z"
   },
   {
    "duration": 25,
    "start_time": "2021-08-13T07:43:37.948Z"
   },
   {
    "duration": 409,
    "start_time": "2021-08-13T07:43:37.976Z"
   },
   {
    "duration": 315,
    "start_time": "2021-08-13T07:43:38.387Z"
   },
   {
    "duration": 37,
    "start_time": "2021-08-13T07:43:38.705Z"
   },
   {
    "duration": 72,
    "start_time": "2021-08-13T07:43:38.747Z"
   },
   {
    "duration": 28,
    "start_time": "2021-08-13T07:43:38.822Z"
   },
   {
    "duration": 57,
    "start_time": "2021-08-13T07:43:38.852Z"
   },
   {
    "duration": 784,
    "start_time": "2021-08-13T07:43:38.912Z"
   },
   {
    "duration": 692,
    "start_time": "2021-08-13T07:43:39.704Z"
   },
   {
    "duration": 641,
    "start_time": "2021-08-13T07:43:40.401Z"
   },
   {
    "duration": 475,
    "start_time": "2021-08-13T07:43:41.044Z"
   },
   {
    "duration": 12,
    "start_time": "2021-08-13T07:43:41.522Z"
   },
   {
    "duration": 22,
    "start_time": "2021-08-13T07:43:41.537Z"
   },
   {
    "duration": 387,
    "start_time": "2021-08-13T07:43:41.562Z"
   },
   {
    "duration": 32,
    "start_time": "2021-08-13T08:53:43.569Z"
   },
   {
    "duration": 826,
    "start_time": "2021-08-13T08:53:58.777Z"
   },
   {
    "duration": 464,
    "start_time": "2021-08-13T08:54:49.761Z"
   },
   {
    "duration": 299,
    "start_time": "2021-08-13T08:54:53.745Z"
   },
   {
    "duration": 782,
    "start_time": "2021-08-13T09:11:12.825Z"
   },
   {
    "duration": 18,
    "start_time": "2021-08-13T09:12:05.865Z"
   },
   {
    "duration": 336,
    "start_time": "2021-08-13T09:12:31.259Z"
   },
   {
    "duration": 48,
    "start_time": "2021-08-13T09:12:42.319Z"
   },
   {
    "duration": 22,
    "start_time": "2021-08-13T09:13:24.151Z"
   },
   {
    "duration": 24,
    "start_time": "2021-08-13T09:13:46.967Z"
   },
   {
    "duration": 25,
    "start_time": "2021-08-13T09:13:58.079Z"
   },
   {
    "duration": 421,
    "start_time": "2021-08-13T09:15:25.069Z"
   },
   {
    "duration": 415,
    "start_time": "2021-08-13T09:15:45.421Z"
   },
   {
    "duration": 668,
    "start_time": "2021-08-13T09:18:00.142Z"
   },
   {
    "duration": 94,
    "start_time": "2021-08-13T09:18:44.042Z"
   },
   {
    "duration": 352,
    "start_time": "2021-08-13T09:18:49.634Z"
   },
   {
    "duration": 392,
    "start_time": "2021-08-13T09:19:01.329Z"
   },
   {
    "duration": 1034,
    "start_time": "2021-08-13T09:26:02.123Z"
   },
   {
    "duration": 857,
    "start_time": "2021-08-13T09:26:28.066Z"
   },
   {
    "duration": 869,
    "start_time": "2021-08-13T09:26:35.074Z"
   },
   {
    "duration": 516,
    "start_time": "2021-08-13T09:27:54.808Z"
   },
   {
    "duration": 217,
    "start_time": "2021-08-13T09:28:14.824Z"
   },
   {
    "duration": 217,
    "start_time": "2021-08-13T09:28:31.193Z"
   },
   {
    "duration": 1314,
    "start_time": "2021-08-13T11:53:19.462Z"
   },
   {
    "duration": 630,
    "start_time": "2021-08-13T11:53:20.779Z"
   },
   {
    "duration": 57,
    "start_time": "2021-08-13T11:53:21.413Z"
   },
   {
    "duration": 139,
    "start_time": "2021-08-13T11:53:21.500Z"
   },
   {
    "duration": 22,
    "start_time": "2021-08-13T11:53:21.642Z"
   },
   {
    "duration": 52,
    "start_time": "2021-08-13T11:53:21.667Z"
   },
   {
    "duration": 4,
    "start_time": "2021-08-13T11:53:21.722Z"
   },
   {
    "duration": 6,
    "start_time": "2021-08-13T11:53:21.733Z"
   },
   {
    "duration": 191,
    "start_time": "2021-08-13T11:53:21.743Z"
   },
   {
    "duration": 614,
    "start_time": "2021-08-13T11:53:21.937Z"
   },
   {
    "duration": 689,
    "start_time": "2021-08-13T11:53:22.553Z"
   },
   {
    "duration": 238,
    "start_time": "2021-08-13T11:53:23.245Z"
   },
   {
    "duration": 9380,
    "start_time": "2021-08-13T11:53:23.485Z"
   },
   {
    "duration": 76,
    "start_time": "2021-08-13T11:53:32.868Z"
   },
   {
    "duration": 2239,
    "start_time": "2021-08-13T11:53:32.946Z"
   },
   {
    "duration": 138,
    "start_time": "2021-08-13T11:53:35.187Z"
   },
   {
    "duration": 53,
    "start_time": "2021-08-13T11:53:35.327Z"
   },
   {
    "duration": 69,
    "start_time": "2021-08-13T11:53:35.382Z"
   },
   {
    "duration": 4,
    "start_time": "2021-08-13T11:53:35.454Z"
   },
   {
    "duration": 42,
    "start_time": "2021-08-13T11:53:35.460Z"
   },
   {
    "duration": 500,
    "start_time": "2021-08-13T11:53:35.506Z"
   },
   {
    "duration": 350,
    "start_time": "2021-08-13T11:53:36.010Z"
   },
   {
    "duration": 60,
    "start_time": "2021-08-13T11:53:36.365Z"
   },
   {
    "duration": 74,
    "start_time": "2021-08-13T11:53:36.428Z"
   },
   {
    "duration": 36,
    "start_time": "2021-08-13T11:53:36.506Z"
   },
   {
    "duration": 57,
    "start_time": "2021-08-13T11:53:36.545Z"
   },
   {
    "duration": 699,
    "start_time": "2021-08-13T11:53:36.606Z"
   },
   {
    "duration": 679,
    "start_time": "2021-08-13T11:53:37.307Z"
   },
   {
    "duration": 695,
    "start_time": "2021-08-13T11:53:37.989Z"
   },
   {
    "duration": 390,
    "start_time": "2021-08-13T11:53:38.686Z"
   },
   {
    "duration": 22,
    "start_time": "2021-08-13T11:53:39.079Z"
   },
   {
    "duration": 21,
    "start_time": "2021-08-13T11:53:39.105Z"
   },
   {
    "duration": 397,
    "start_time": "2021-08-13T11:53:39.129Z"
   },
   {
    "duration": 47,
    "start_time": "2021-08-13T12:21:40.475Z"
   },
   {
    "duration": 490,
    "start_time": "2021-08-13T12:22:12.250Z"
   },
   {
    "duration": 315,
    "start_time": "2021-08-13T12:22:38.545Z"
   },
   {
    "duration": 537,
    "start_time": "2021-08-13T12:22:59.994Z"
   },
   {
    "duration": 282,
    "start_time": "2021-08-13T12:24:06.984Z"
   },
   {
    "duration": 7,
    "start_time": "2021-08-13T12:39:32.345Z"
   },
   {
    "duration": 89,
    "start_time": "2021-08-13T12:39:40.609Z"
   },
   {
    "duration": 313,
    "start_time": "2021-08-13T12:40:25.313Z"
   },
   {
    "duration": 15,
    "start_time": "2021-08-13T12:40:48.945Z"
   },
   {
    "duration": 14,
    "start_time": "2021-08-13T12:40:55.456Z"
   },
   {
    "duration": 283,
    "start_time": "2021-08-13T12:48:30.522Z"
   },
   {
    "duration": 15,
    "start_time": "2021-08-13T12:49:02.377Z"
   },
   {
    "duration": 25,
    "start_time": "2021-08-13T12:49:28.552Z"
   },
   {
    "duration": 24,
    "start_time": "2021-08-13T12:50:51.343Z"
   },
   {
    "duration": 992,
    "start_time": "2021-08-14T11:25:08.288Z"
   },
   {
    "duration": 448,
    "start_time": "2021-08-14T11:25:09.281Z"
   },
   {
    "duration": 29,
    "start_time": "2021-08-14T11:25:09.731Z"
   },
   {
    "duration": 112,
    "start_time": "2021-08-14T11:25:09.761Z"
   },
   {
    "duration": 28,
    "start_time": "2021-08-14T11:25:09.875Z"
   },
   {
    "duration": 22,
    "start_time": "2021-08-14T11:25:09.905Z"
   },
   {
    "duration": 2,
    "start_time": "2021-08-14T11:25:09.929Z"
   },
   {
    "duration": 18,
    "start_time": "2021-08-14T11:25:09.934Z"
   },
   {
    "duration": 158,
    "start_time": "2021-08-14T11:25:09.955Z"
   },
   {
    "duration": 325,
    "start_time": "2021-08-14T11:25:10.114Z"
   },
   {
    "duration": 322,
    "start_time": "2021-08-14T11:25:10.440Z"
   },
   {
    "duration": 118,
    "start_time": "2021-08-14T11:25:10.764Z"
   },
   {
    "duration": 83,
    "start_time": "2021-08-14T11:25:10.884Z"
   },
   {
    "duration": -110,
    "start_time": "2021-08-14T11:25:11.080Z"
   },
   {
    "duration": -112,
    "start_time": "2021-08-14T11:25:11.083Z"
   },
   {
    "duration": -113,
    "start_time": "2021-08-14T11:25:11.086Z"
   },
   {
    "duration": -115,
    "start_time": "2021-08-14T11:25:11.089Z"
   },
   {
    "duration": -117,
    "start_time": "2021-08-14T11:25:11.092Z"
   },
   {
    "duration": -120,
    "start_time": "2021-08-14T11:25:11.097Z"
   },
   {
    "duration": -124,
    "start_time": "2021-08-14T11:25:11.102Z"
   },
   {
    "duration": -126,
    "start_time": "2021-08-14T11:25:11.105Z"
   },
   {
    "duration": -132,
    "start_time": "2021-08-14T11:25:11.112Z"
   },
   {
    "duration": -134,
    "start_time": "2021-08-14T11:25:11.116Z"
   },
   {
    "duration": -136,
    "start_time": "2021-08-14T11:25:11.119Z"
   },
   {
    "duration": -138,
    "start_time": "2021-08-14T11:25:11.122Z"
   },
   {
    "duration": -139,
    "start_time": "2021-08-14T11:25:11.125Z"
   },
   {
    "duration": -140,
    "start_time": "2021-08-14T11:25:11.127Z"
   },
   {
    "duration": -142,
    "start_time": "2021-08-14T11:25:11.130Z"
   },
   {
    "duration": -144,
    "start_time": "2021-08-14T11:25:11.133Z"
   },
   {
    "duration": -162,
    "start_time": "2021-08-14T11:25:11.153Z"
   },
   {
    "duration": -166,
    "start_time": "2021-08-14T11:25:11.157Z"
   },
   {
    "duration": -167,
    "start_time": "2021-08-14T11:25:11.159Z"
   },
   {
    "duration": -169,
    "start_time": "2021-08-14T11:25:11.162Z"
   },
   {
    "duration": -170,
    "start_time": "2021-08-14T11:25:11.165Z"
   },
   {
    "duration": 310,
    "start_time": "2021-08-14T11:53:59.284Z"
   },
   {
    "duration": 226,
    "start_time": "2021-08-14T11:54:29.536Z"
   },
   {
    "duration": 5992,
    "start_time": "2021-08-14T11:54:41.049Z"
   },
   {
    "duration": 18,
    "start_time": "2021-08-14T11:55:58.644Z"
   },
   {
    "duration": 913,
    "start_time": "2021-08-14T11:57:20.944Z"
   },
   {
    "duration": 402,
    "start_time": "2021-08-14T11:57:21.859Z"
   },
   {
    "duration": 31,
    "start_time": "2021-08-14T11:57:22.263Z"
   },
   {
    "duration": 69,
    "start_time": "2021-08-14T11:57:22.296Z"
   },
   {
    "duration": 12,
    "start_time": "2021-08-14T11:57:22.367Z"
   },
   {
    "duration": 15,
    "start_time": "2021-08-14T11:57:22.391Z"
   },
   {
    "duration": 2,
    "start_time": "2021-08-14T11:57:22.407Z"
   },
   {
    "duration": 4,
    "start_time": "2021-08-14T11:57:22.411Z"
   },
   {
    "duration": 109,
    "start_time": "2021-08-14T11:57:22.417Z"
   },
   {
    "duration": 301,
    "start_time": "2021-08-14T11:57:22.527Z"
   },
   {
    "duration": 300,
    "start_time": "2021-08-14T11:57:22.830Z"
   },
   {
    "duration": 119,
    "start_time": "2021-08-14T11:57:23.131Z"
   },
   {
    "duration": 49,
    "start_time": "2021-08-14T11:57:23.252Z"
   },
   {
    "duration": 5078,
    "start_time": "2021-08-14T11:57:23.303Z"
   },
   {
    "duration": 40,
    "start_time": "2021-08-14T11:57:28.383Z"
   },
   {
    "duration": 1150,
    "start_time": "2021-08-14T11:57:28.424Z"
   },
   {
    "duration": 79,
    "start_time": "2021-08-14T11:57:29.576Z"
   },
   {
    "duration": 40,
    "start_time": "2021-08-14T11:57:29.657Z"
   },
   {
    "duration": 26,
    "start_time": "2021-08-14T11:57:29.699Z"
   },
   {
    "duration": 3,
    "start_time": "2021-08-14T11:57:29.726Z"
   },
   {
    "duration": 15,
    "start_time": "2021-08-14T11:57:29.731Z"
   },
   {
    "duration": 227,
    "start_time": "2021-08-14T11:57:29.747Z"
   },
   {
    "duration": 175,
    "start_time": "2021-08-14T11:57:29.977Z"
   },
   {
    "duration": 41,
    "start_time": "2021-08-14T11:57:30.154Z"
   },
   {
    "duration": 19,
    "start_time": "2021-08-14T11:57:30.196Z"
   },
   {
    "duration": 18,
    "start_time": "2021-08-14T11:57:30.217Z"
   },
   {
    "duration": 10,
    "start_time": "2021-08-14T11:57:30.237Z"
   },
   {
    "duration": 411,
    "start_time": "2021-08-14T11:57:30.248Z"
   },
   {
    "duration": 363,
    "start_time": "2021-08-14T11:57:30.661Z"
   },
   {
    "duration": 357,
    "start_time": "2021-08-14T11:57:31.025Z"
   },
   {
    "duration": 205,
    "start_time": "2021-08-14T11:57:31.384Z"
   },
   {
    "duration": 7,
    "start_time": "2021-08-14T11:57:31.592Z"
   },
   {
    "duration": 21,
    "start_time": "2021-08-14T11:57:31.600Z"
   },
   {
    "duration": 232,
    "start_time": "2021-08-14T11:57:31.623Z"
   },
   {
    "duration": 49,
    "start_time": "2021-08-14T11:59:41.342Z"
   },
   {
    "duration": 37,
    "start_time": "2021-08-14T12:00:33.812Z"
   },
   {
    "duration": 38,
    "start_time": "2021-08-14T12:00:48.798Z"
   },
   {
    "duration": 956,
    "start_time": "2021-08-14T12:00:55.812Z"
   },
   {
    "duration": 426,
    "start_time": "2021-08-14T12:00:56.770Z"
   },
   {
    "duration": 32,
    "start_time": "2021-08-14T12:00:57.198Z"
   },
   {
    "duration": 91,
    "start_time": "2021-08-14T12:00:57.232Z"
   },
   {
    "duration": 14,
    "start_time": "2021-08-14T12:00:57.325Z"
   },
   {
    "duration": 17,
    "start_time": "2021-08-14T12:00:57.341Z"
   },
   {
    "duration": 3,
    "start_time": "2021-08-14T12:00:57.360Z"
   },
   {
    "duration": 28,
    "start_time": "2021-08-14T12:00:57.365Z"
   },
   {
    "duration": 104,
    "start_time": "2021-08-14T12:00:57.396Z"
   },
   {
    "duration": 318,
    "start_time": "2021-08-14T12:00:57.502Z"
   },
   {
    "duration": 307,
    "start_time": "2021-08-14T12:00:57.822Z"
   },
   {
    "duration": 125,
    "start_time": "2021-08-14T12:00:58.131Z"
   },
   {
    "duration": 45,
    "start_time": "2021-08-14T12:00:58.258Z"
   },
   {
    "duration": 5738,
    "start_time": "2021-08-14T12:00:58.304Z"
   },
   {
    "duration": 47,
    "start_time": "2021-08-14T12:01:04.044Z"
   },
   {
    "duration": 1201,
    "start_time": "2021-08-14T12:01:04.093Z"
   },
   {
    "duration": 72,
    "start_time": "2021-08-14T12:01:05.296Z"
   },
   {
    "duration": 43,
    "start_time": "2021-08-14T12:01:05.370Z"
   },
   {
    "duration": 25,
    "start_time": "2021-08-14T12:01:05.415Z"
   },
   {
    "duration": 2,
    "start_time": "2021-08-14T12:01:05.442Z"
   },
   {
    "duration": 22,
    "start_time": "2021-08-14T12:01:05.446Z"
   },
   {
    "duration": 221,
    "start_time": "2021-08-14T12:01:05.469Z"
   },
   {
    "duration": 177,
    "start_time": "2021-08-14T12:01:05.693Z"
   },
   {
    "duration": 27,
    "start_time": "2021-08-14T12:01:05.872Z"
   },
   {
    "duration": 15,
    "start_time": "2021-08-14T12:01:05.901Z"
   },
   {
    "duration": 16,
    "start_time": "2021-08-14T12:01:05.918Z"
   },
   {
    "duration": 8,
    "start_time": "2021-08-14T12:01:05.935Z"
   },
   {
    "duration": 409,
    "start_time": "2021-08-14T12:01:05.944Z"
   },
   {
    "duration": 345,
    "start_time": "2021-08-14T12:01:06.355Z"
   },
   {
    "duration": 358,
    "start_time": "2021-08-14T12:01:06.702Z"
   },
   {
    "duration": 201,
    "start_time": "2021-08-14T12:01:07.062Z"
   },
   {
    "duration": 7,
    "start_time": "2021-08-14T12:01:07.264Z"
   },
   {
    "duration": 24,
    "start_time": "2021-08-14T12:01:07.272Z"
   },
   {
    "duration": 193,
    "start_time": "2021-08-14T12:01:07.298Z"
   },
   {
    "duration": 8,
    "start_time": "2021-08-14T12:11:33.407Z"
   },
   {
    "duration": 7,
    "start_time": "2021-08-14T12:13:08.358Z"
   },
   {
    "duration": 20,
    "start_time": "2021-08-14T13:35:03.244Z"
   },
   {
    "duration": 19,
    "start_time": "2021-08-14T13:36:54.845Z"
   },
   {
    "duration": 995,
    "start_time": "2021-08-14T13:37:06.766Z"
   },
   {
    "duration": 415,
    "start_time": "2021-08-14T13:37:07.763Z"
   },
   {
    "duration": 29,
    "start_time": "2021-08-14T13:37:08.180Z"
   },
   {
    "duration": 72,
    "start_time": "2021-08-14T13:37:08.210Z"
   },
   {
    "duration": 20,
    "start_time": "2021-08-14T13:37:08.283Z"
   },
   {
    "duration": 16,
    "start_time": "2021-08-14T13:37:08.304Z"
   },
   {
    "duration": 2,
    "start_time": "2021-08-14T13:37:08.321Z"
   },
   {
    "duration": 5,
    "start_time": "2021-08-14T13:37:08.325Z"
   },
   {
    "duration": 120,
    "start_time": "2021-08-14T13:37:08.332Z"
   },
   {
    "duration": 308,
    "start_time": "2021-08-14T13:37:08.454Z"
   },
   {
    "duration": 305,
    "start_time": "2021-08-14T13:37:08.764Z"
   },
   {
    "duration": 121,
    "start_time": "2021-08-14T13:37:09.071Z"
   },
   {
    "duration": 39,
    "start_time": "2021-08-14T13:37:09.194Z"
   },
   {
    "duration": 5175,
    "start_time": "2021-08-14T13:37:09.235Z"
   },
   {
    "duration": 6,
    "start_time": "2021-08-14T13:37:14.412Z"
   },
   {
    "duration": 39,
    "start_time": "2021-08-14T13:37:14.420Z"
   },
   {
    "duration": 1177,
    "start_time": "2021-08-14T13:37:14.460Z"
   },
   {
    "duration": 78,
    "start_time": "2021-08-14T13:37:15.638Z"
   },
   {
    "duration": 29,
    "start_time": "2021-08-14T13:37:15.718Z"
   },
   {
    "duration": 24,
    "start_time": "2021-08-14T13:37:15.748Z"
   },
   {
    "duration": 19,
    "start_time": "2021-08-14T13:37:15.773Z"
   },
   {
    "duration": 18,
    "start_time": "2021-08-14T13:37:15.794Z"
   },
   {
    "duration": 5898,
    "start_time": "2021-08-14T13:37:15.814Z"
   },
   {
    "duration": -147,
    "start_time": "2021-08-14T13:37:21.861Z"
   },
   {
    "duration": -150,
    "start_time": "2021-08-14T13:37:21.865Z"
   },
   {
    "duration": -153,
    "start_time": "2021-08-14T13:37:21.869Z"
   },
   {
    "duration": -155,
    "start_time": "2021-08-14T13:37:21.873Z"
   },
   {
    "duration": -158,
    "start_time": "2021-08-14T13:37:21.877Z"
   },
   {
    "duration": -162,
    "start_time": "2021-08-14T13:37:21.881Z"
   },
   {
    "duration": -164,
    "start_time": "2021-08-14T13:37:21.884Z"
   },
   {
    "duration": -167,
    "start_time": "2021-08-14T13:37:21.888Z"
   },
   {
    "duration": -169,
    "start_time": "2021-08-14T13:37:21.891Z"
   },
   {
    "duration": -172,
    "start_time": "2021-08-14T13:37:21.895Z"
   },
   {
    "duration": -174,
    "start_time": "2021-08-14T13:37:21.898Z"
   },
   {
    "duration": -179,
    "start_time": "2021-08-14T13:37:21.904Z"
   },
   {
    "duration": -189,
    "start_time": "2021-08-14T13:37:21.915Z"
   },
   {
    "duration": 960,
    "start_time": "2021-08-14T13:40:55.421Z"
   },
   {
    "duration": 427,
    "start_time": "2021-08-14T13:40:56.382Z"
   },
   {
    "duration": 30,
    "start_time": "2021-08-14T13:40:56.811Z"
   },
   {
    "duration": 90,
    "start_time": "2021-08-14T13:40:56.843Z"
   },
   {
    "duration": 15,
    "start_time": "2021-08-14T13:40:56.935Z"
   },
   {
    "duration": 16,
    "start_time": "2021-08-14T13:40:56.951Z"
   },
   {
    "duration": 22,
    "start_time": "2021-08-14T13:40:56.969Z"
   },
   {
    "duration": 3,
    "start_time": "2021-08-14T13:40:56.994Z"
   },
   {
    "duration": 105,
    "start_time": "2021-08-14T13:40:56.999Z"
   },
   {
    "duration": 315,
    "start_time": "2021-08-14T13:40:57.106Z"
   },
   {
    "duration": 307,
    "start_time": "2021-08-14T13:40:57.422Z"
   },
   {
    "duration": 126,
    "start_time": "2021-08-14T13:40:57.731Z"
   },
   {
    "duration": 45,
    "start_time": "2021-08-14T13:40:57.859Z"
   },
   {
    "duration": 5319,
    "start_time": "2021-08-14T13:40:57.905Z"
   },
   {
    "duration": 8,
    "start_time": "2021-08-14T13:41:03.226Z"
   },
   {
    "duration": 36,
    "start_time": "2021-08-14T13:41:03.236Z"
   },
   {
    "duration": 1158,
    "start_time": "2021-08-14T13:41:03.291Z"
   },
   {
    "duration": 78,
    "start_time": "2021-08-14T13:41:04.451Z"
   },
   {
    "duration": 30,
    "start_time": "2021-08-14T13:41:04.531Z"
   },
   {
    "duration": 40,
    "start_time": "2021-08-14T13:41:04.563Z"
   },
   {
    "duration": 3,
    "start_time": "2021-08-14T13:41:04.605Z"
   },
   {
    "duration": 22,
    "start_time": "2021-08-14T13:41:04.609Z"
   },
   {
    "duration": 7,
    "start_time": "2021-08-14T13:41:04.634Z"
   },
   {
    "duration": 6344,
    "start_time": "2021-08-14T13:41:04.643Z"
   },
   {
    "duration": 53,
    "start_time": "2021-08-14T13:41:10.936Z"
   },
   {
    "duration": 49,
    "start_time": "2021-08-14T13:41:10.941Z"
   },
   {
    "duration": 45,
    "start_time": "2021-08-14T13:41:10.945Z"
   },
   {
    "duration": 42,
    "start_time": "2021-08-14T13:41:10.949Z"
   },
   {
    "duration": 39,
    "start_time": "2021-08-14T13:41:10.953Z"
   },
   {
    "duration": 36,
    "start_time": "2021-08-14T13:41:10.957Z"
   },
   {
    "duration": 32,
    "start_time": "2021-08-14T13:41:10.962Z"
   },
   {
    "duration": 29,
    "start_time": "2021-08-14T13:41:10.966Z"
   },
   {
    "duration": 20,
    "start_time": "2021-08-14T13:41:10.975Z"
   },
   {
    "duration": 17,
    "start_time": "2021-08-14T13:41:10.979Z"
   },
   {
    "duration": 14,
    "start_time": "2021-08-14T13:41:10.983Z"
   },
   {
    "duration": 10,
    "start_time": "2021-08-14T13:41:10.988Z"
   },
   {
    "duration": 1036,
    "start_time": "2021-08-14T13:46:59.966Z"
   },
   {
    "duration": 448,
    "start_time": "2021-08-14T13:47:01.004Z"
   },
   {
    "duration": 29,
    "start_time": "2021-08-14T13:47:01.455Z"
   },
   {
    "duration": 71,
    "start_time": "2021-08-14T13:47:01.485Z"
   },
   {
    "duration": 12,
    "start_time": "2021-08-14T13:47:01.558Z"
   },
   {
    "duration": 28,
    "start_time": "2021-08-14T13:47:01.572Z"
   },
   {
    "duration": 2,
    "start_time": "2021-08-14T13:47:01.601Z"
   },
   {
    "duration": 6,
    "start_time": "2021-08-14T13:47:01.606Z"
   },
   {
    "duration": 112,
    "start_time": "2021-08-14T13:47:01.613Z"
   },
   {
    "duration": 412,
    "start_time": "2021-08-14T13:47:01.726Z"
   },
   {
    "duration": 308,
    "start_time": "2021-08-14T13:47:02.139Z"
   },
   {
    "duration": 139,
    "start_time": "2021-08-14T13:47:02.449Z"
   },
   {
    "duration": 45,
    "start_time": "2021-08-14T13:47:02.591Z"
   },
   {
    "duration": 5780,
    "start_time": "2021-08-14T13:47:02.638Z"
   },
   {
    "duration": 6,
    "start_time": "2021-08-14T13:47:08.419Z"
   },
   {
    "duration": 45,
    "start_time": "2021-08-14T13:47:08.427Z"
   },
   {
    "duration": 1158,
    "start_time": "2021-08-14T13:47:08.474Z"
   },
   {
    "duration": 80,
    "start_time": "2021-08-14T13:47:09.633Z"
   },
   {
    "duration": 29,
    "start_time": "2021-08-14T13:47:09.715Z"
   },
   {
    "duration": 25,
    "start_time": "2021-08-14T13:47:09.745Z"
   },
   {
    "duration": 3,
    "start_time": "2021-08-14T13:47:09.771Z"
   },
   {
    "duration": 18,
    "start_time": "2021-08-14T13:47:09.790Z"
   },
   {
    "duration": 5,
    "start_time": "2021-08-14T13:47:09.811Z"
   },
   {
    "duration": 213,
    "start_time": "2021-08-14T13:47:09.818Z"
   },
   {
    "duration": 6967,
    "start_time": "2021-08-14T13:47:10.033Z"
   },
   {
    "duration": 57,
    "start_time": "2021-08-14T13:47:16.945Z"
   },
   {
    "duration": 55,
    "start_time": "2021-08-14T13:47:16.948Z"
   },
   {
    "duration": 16,
    "start_time": "2021-08-14T13:47:16.988Z"
   },
   {
    "duration": -1,
    "start_time": "2021-08-14T13:47:17.006Z"
   },
   {
    "duration": -4,
    "start_time": "2021-08-14T13:47:17.010Z"
   },
   {
    "duration": -9,
    "start_time": "2021-08-14T13:47:17.015Z"
   },
   {
    "duration": -16,
    "start_time": "2021-08-14T13:47:17.023Z"
   },
   {
    "duration": -18,
    "start_time": "2021-08-14T13:47:17.026Z"
   },
   {
    "duration": -22,
    "start_time": "2021-08-14T13:47:17.030Z"
   },
   {
    "duration": -39,
    "start_time": "2021-08-14T13:47:17.048Z"
   },
   {
    "duration": -44,
    "start_time": "2021-08-14T13:47:17.054Z"
   },
   {
    "duration": 173,
    "start_time": "2021-08-14T13:48:24.733Z"
   },
   {
    "duration": 966,
    "start_time": "2021-08-14T13:49:06.902Z"
   },
   {
    "duration": 431,
    "start_time": "2021-08-14T13:49:07.869Z"
   },
   {
    "duration": 28,
    "start_time": "2021-08-14T13:49:08.302Z"
   },
   {
    "duration": 84,
    "start_time": "2021-08-14T13:49:08.331Z"
   },
   {
    "duration": 12,
    "start_time": "2021-08-14T13:49:08.417Z"
   },
   {
    "duration": 15,
    "start_time": "2021-08-14T13:49:08.431Z"
   },
   {
    "duration": 2,
    "start_time": "2021-08-14T13:49:08.447Z"
   },
   {
    "duration": 4,
    "start_time": "2021-08-14T13:49:08.452Z"
   },
   {
    "duration": 119,
    "start_time": "2021-08-14T13:49:08.458Z"
   },
   {
    "duration": 313,
    "start_time": "2021-08-14T13:49:08.578Z"
   },
   {
    "duration": 306,
    "start_time": "2021-08-14T13:49:08.892Z"
   },
   {
    "duration": 114,
    "start_time": "2021-08-14T13:49:09.200Z"
   },
   {
    "duration": 40,
    "start_time": "2021-08-14T13:49:09.315Z"
   },
   {
    "duration": 5408,
    "start_time": "2021-08-14T13:49:09.356Z"
   },
   {
    "duration": 6,
    "start_time": "2021-08-14T13:49:14.766Z"
   },
   {
    "duration": 50,
    "start_time": "2021-08-14T13:49:14.773Z"
   },
   {
    "duration": 1162,
    "start_time": "2021-08-14T13:49:14.824Z"
   },
   {
    "duration": 69,
    "start_time": "2021-08-14T13:49:15.991Z"
   },
   {
    "duration": 42,
    "start_time": "2021-08-14T13:49:16.062Z"
   },
   {
    "duration": 24,
    "start_time": "2021-08-14T13:49:16.105Z"
   },
   {
    "duration": 2,
    "start_time": "2021-08-14T13:49:16.131Z"
   },
   {
    "duration": 32,
    "start_time": "2021-08-14T13:49:16.134Z"
   },
   {
    "duration": 6,
    "start_time": "2021-08-14T13:49:16.169Z"
   },
   {
    "duration": 205,
    "start_time": "2021-08-14T13:49:16.176Z"
   },
   {
    "duration": 167,
    "start_time": "2021-08-14T13:49:16.383Z"
   },
   {
    "duration": 41,
    "start_time": "2021-08-14T13:49:16.551Z"
   },
   {
    "duration": 6471,
    "start_time": "2021-08-14T13:49:16.593Z"
   },
   {
    "duration": 98,
    "start_time": "2021-08-14T13:49:22.967Z"
   },
   {
    "duration": 94,
    "start_time": "2021-08-14T13:49:22.972Z"
   },
   {
    "duration": 91,
    "start_time": "2021-08-14T13:49:22.976Z"
   },
   {
    "duration": 90,
    "start_time": "2021-08-14T13:49:22.979Z"
   },
   {
    "duration": 82,
    "start_time": "2021-08-14T13:49:22.988Z"
   },
   {
    "duration": 77,
    "start_time": "2021-08-14T13:49:22.994Z"
   },
   {
    "duration": 75,
    "start_time": "2021-08-14T13:49:22.998Z"
   },
   {
    "duration": 71,
    "start_time": "2021-08-14T13:49:23.003Z"
   },
   {
    "duration": 69,
    "start_time": "2021-08-14T13:49:23.006Z"
   },
   {
    "duration": 926,
    "start_time": "2021-08-14T13:55:14.732Z"
   },
   {
    "duration": 419,
    "start_time": "2021-08-14T13:55:15.660Z"
   },
   {
    "duration": 27,
    "start_time": "2021-08-14T13:55:16.081Z"
   },
   {
    "duration": 72,
    "start_time": "2021-08-14T13:55:16.110Z"
   },
   {
    "duration": 13,
    "start_time": "2021-08-14T13:55:16.191Z"
   },
   {
    "duration": 15,
    "start_time": "2021-08-14T13:55:16.205Z"
   },
   {
    "duration": 2,
    "start_time": "2021-08-14T13:55:16.222Z"
   },
   {
    "duration": 5,
    "start_time": "2021-08-14T13:55:16.225Z"
   },
   {
    "duration": 115,
    "start_time": "2021-08-14T13:55:16.233Z"
   },
   {
    "duration": 312,
    "start_time": "2021-08-14T13:55:16.349Z"
   },
   {
    "duration": 305,
    "start_time": "2021-08-14T13:55:16.662Z"
   },
   {
    "duration": 116,
    "start_time": "2021-08-14T13:55:16.969Z"
   },
   {
    "duration": 44,
    "start_time": "2021-08-14T13:55:17.086Z"
   },
   {
    "duration": 5195,
    "start_time": "2021-08-14T13:55:17.132Z"
   },
   {
    "duration": 8,
    "start_time": "2021-08-14T13:55:22.329Z"
   },
   {
    "duration": 55,
    "start_time": "2021-08-14T13:55:22.338Z"
   },
   {
    "duration": 1172,
    "start_time": "2021-08-14T13:55:22.395Z"
   },
   {
    "duration": 79,
    "start_time": "2021-08-14T13:55:23.569Z"
   },
   {
    "duration": 30,
    "start_time": "2021-08-14T13:55:23.650Z"
   },
   {
    "duration": 25,
    "start_time": "2021-08-14T13:55:23.691Z"
   },
   {
    "duration": 3,
    "start_time": "2021-08-14T13:55:23.718Z"
   },
   {
    "duration": 17,
    "start_time": "2021-08-14T13:55:23.722Z"
   },
   {
    "duration": 7,
    "start_time": "2021-08-14T13:55:23.740Z"
   },
   {
    "duration": 235,
    "start_time": "2021-08-14T13:55:23.749Z"
   },
   {
    "duration": 178,
    "start_time": "2021-08-14T13:55:23.986Z"
   },
   {
    "duration": 34,
    "start_time": "2021-08-14T13:55:24.166Z"
   },
   {
    "duration": 17,
    "start_time": "2021-08-14T13:55:24.204Z"
   },
   {
    "duration": 16,
    "start_time": "2021-08-14T13:55:24.223Z"
   },
   {
    "duration": 50,
    "start_time": "2021-08-14T13:55:24.241Z"
   },
   {
    "duration": 361,
    "start_time": "2021-08-14T13:55:24.293Z"
   },
   {
    "duration": 339,
    "start_time": "2021-08-14T13:55:24.656Z"
   },
   {
    "duration": 342,
    "start_time": "2021-08-14T13:55:24.997Z"
   },
   {
    "duration": 195,
    "start_time": "2021-08-14T13:55:25.340Z"
   },
   {
    "duration": 6,
    "start_time": "2021-08-14T13:55:25.537Z"
   },
   {
    "duration": 13,
    "start_time": "2021-08-14T13:55:25.545Z"
   },
   {
    "duration": 206,
    "start_time": "2021-08-14T13:55:25.559Z"
   },
   {
    "duration": 302,
    "start_time": "2021-08-14T13:56:34.474Z"
   },
   {
    "duration": 7,
    "start_time": "2021-08-14T13:59:23.638Z"
   },
   {
    "duration": 7,
    "start_time": "2021-08-14T13:59:56.040Z"
   },
   {
    "duration": 6,
    "start_time": "2021-08-14T14:00:16.067Z"
   },
   {
    "duration": 4,
    "start_time": "2021-08-14T14:00:30.581Z"
   },
   {
    "duration": 959,
    "start_time": "2021-08-14T14:06:49.306Z"
   },
   {
    "duration": 420,
    "start_time": "2021-08-14T14:06:50.267Z"
   },
   {
    "duration": 28,
    "start_time": "2021-08-14T14:06:50.689Z"
   },
   {
    "duration": 82,
    "start_time": "2021-08-14T14:06:50.719Z"
   },
   {
    "duration": 14,
    "start_time": "2021-08-14T14:06:50.802Z"
   },
   {
    "duration": 17,
    "start_time": "2021-08-14T14:06:50.817Z"
   },
   {
    "duration": 2,
    "start_time": "2021-08-14T14:06:50.835Z"
   },
   {
    "duration": 5,
    "start_time": "2021-08-14T14:06:50.840Z"
   },
   {
    "duration": 123,
    "start_time": "2021-08-14T14:06:50.847Z"
   },
   {
    "duration": 309,
    "start_time": "2021-08-14T14:06:50.972Z"
   },
   {
    "duration": 303,
    "start_time": "2021-08-14T14:06:51.282Z"
   },
   {
    "duration": 116,
    "start_time": "2021-08-14T14:06:51.591Z"
   },
   {
    "duration": 39,
    "start_time": "2021-08-14T14:06:51.709Z"
   },
   {
    "duration": 5164,
    "start_time": "2021-08-14T14:06:51.750Z"
   },
   {
    "duration": 7,
    "start_time": "2021-08-14T14:06:56.916Z"
   },
   {
    "duration": 39,
    "start_time": "2021-08-14T14:06:56.924Z"
   },
   {
    "duration": 1171,
    "start_time": "2021-08-14T14:06:56.965Z"
   },
   {
    "duration": 79,
    "start_time": "2021-08-14T14:06:58.138Z"
   },
   {
    "duration": 30,
    "start_time": "2021-08-14T14:06:58.219Z"
   },
   {
    "duration": 41,
    "start_time": "2021-08-14T14:06:58.251Z"
   },
   {
    "duration": 2,
    "start_time": "2021-08-14T14:06:58.294Z"
   },
   {
    "duration": 18,
    "start_time": "2021-08-14T14:06:58.298Z"
   },
   {
    "duration": 5,
    "start_time": "2021-08-14T14:06:58.319Z"
   },
   {
    "duration": 6,
    "start_time": "2021-08-14T14:06:58.326Z"
   },
   {
    "duration": 218,
    "start_time": "2021-08-14T14:06:58.333Z"
   },
   {
    "duration": 182,
    "start_time": "2021-08-14T14:06:58.553Z"
   },
   {
    "duration": 22,
    "start_time": "2021-08-14T14:06:58.736Z"
   },
   {
    "duration": 37,
    "start_time": "2021-08-14T14:06:58.759Z"
   },
   {
    "duration": 16,
    "start_time": "2021-08-14T14:06:58.797Z"
   },
   {
    "duration": 8,
    "start_time": "2021-08-14T14:06:58.815Z"
   },
   {
    "duration": 404,
    "start_time": "2021-08-14T14:06:58.825Z"
   },
   {
    "duration": 351,
    "start_time": "2021-08-14T14:06:59.230Z"
   },
   {
    "duration": 319,
    "start_time": "2021-08-14T14:06:59.583Z"
   },
   {
    "duration": 232,
    "start_time": "2021-08-14T14:06:59.903Z"
   },
   {
    "duration": 6,
    "start_time": "2021-08-14T14:07:00.137Z"
   },
   {
    "duration": 17,
    "start_time": "2021-08-14T14:07:00.145Z"
   },
   {
    "duration": 199,
    "start_time": "2021-08-14T14:07:00.163Z"
   },
   {
    "duration": 234,
    "start_time": "2021-08-14T14:07:33.497Z"
   },
   {
    "duration": 242,
    "start_time": "2021-08-14T14:10:41.095Z"
   },
   {
    "duration": 6125,
    "start_time": "2021-08-14T14:13:48.800Z"
   },
   {
    "duration": 73,
    "start_time": "2021-08-14T14:54:21.845Z"
   },
   {
    "duration": 73,
    "start_time": "2021-08-14T14:54:28.841Z"
   },
   {
    "duration": 4,
    "start_time": "2021-08-14T14:54:40.551Z"
   },
   {
    "duration": 181,
    "start_time": "2021-08-14T15:00:11.594Z"
   },
   {
    "duration": 235,
    "start_time": "2021-08-14T15:01:31.426Z"
   },
   {
    "duration": 913,
    "start_time": "2021-08-14T15:02:26.644Z"
   },
   {
    "duration": 414,
    "start_time": "2021-08-14T15:02:27.559Z"
   },
   {
    "duration": 29,
    "start_time": "2021-08-14T15:02:27.975Z"
   },
   {
    "duration": 70,
    "start_time": "2021-08-14T15:02:28.006Z"
   },
   {
    "duration": 24,
    "start_time": "2021-08-14T15:02:28.078Z"
   },
   {
    "duration": 15,
    "start_time": "2021-08-14T15:02:28.103Z"
   },
   {
    "duration": 2,
    "start_time": "2021-08-14T15:02:28.119Z"
   },
   {
    "duration": 6,
    "start_time": "2021-08-14T15:02:28.123Z"
   },
   {
    "duration": 111,
    "start_time": "2021-08-14T15:02:28.131Z"
   },
   {
    "duration": 312,
    "start_time": "2021-08-14T15:02:28.243Z"
   },
   {
    "duration": 298,
    "start_time": "2021-08-14T15:02:28.556Z"
   },
   {
    "duration": 121,
    "start_time": "2021-08-14T15:02:28.856Z"
   },
   {
    "duration": 46,
    "start_time": "2021-08-14T15:02:28.979Z"
   },
   {
    "duration": 5082,
    "start_time": "2021-08-14T15:02:29.026Z"
   },
   {
    "duration": 7,
    "start_time": "2021-08-14T15:02:34.109Z"
   },
   {
    "duration": 38,
    "start_time": "2021-08-14T15:02:34.118Z"
   },
   {
    "duration": 1193,
    "start_time": "2021-08-14T15:02:34.157Z"
   },
   {
    "duration": 75,
    "start_time": "2021-08-14T15:02:35.352Z"
   },
   {
    "duration": 30,
    "start_time": "2021-08-14T15:02:35.429Z"
   },
   {
    "duration": 40,
    "start_time": "2021-08-14T15:02:35.461Z"
   },
   {
    "duration": 2,
    "start_time": "2021-08-14T15:02:35.503Z"
   },
   {
    "duration": 20,
    "start_time": "2021-08-14T15:02:35.506Z"
   },
   {
    "duration": 6,
    "start_time": "2021-08-14T15:02:35.530Z"
   },
   {
    "duration": 9,
    "start_time": "2021-08-14T15:02:35.537Z"
   },
   {
    "duration": 207,
    "start_time": "2021-08-14T15:02:35.547Z"
   },
   {
    "duration": 172,
    "start_time": "2021-08-14T15:02:35.755Z"
   },
   {
    "duration": 21,
    "start_time": "2021-08-14T15:02:35.929Z"
   },
   {
    "duration": 40,
    "start_time": "2021-08-14T15:02:35.952Z"
   },
   {
    "duration": 16,
    "start_time": "2021-08-14T15:02:35.993Z"
   },
   {
    "duration": 15,
    "start_time": "2021-08-14T15:02:36.010Z"
   },
   {
    "duration": 372,
    "start_time": "2021-08-14T15:02:36.026Z"
   },
   {
    "duration": 340,
    "start_time": "2021-08-14T15:02:36.400Z"
   },
   {
    "duration": 239,
    "start_time": "2021-08-14T15:02:36.741Z"
   },
   {
    "duration": 194,
    "start_time": "2021-08-14T15:02:36.982Z"
   },
   {
    "duration": 15,
    "start_time": "2021-08-14T15:02:37.177Z"
   },
   {
    "duration": 11,
    "start_time": "2021-08-14T15:02:37.193Z"
   },
   {
    "duration": 5,
    "start_time": "2021-08-14T15:02:37.206Z"
   },
   {
    "duration": 200,
    "start_time": "2021-08-14T15:02:37.212Z"
   },
   {
    "duration": 331,
    "start_time": "2021-08-14T15:10:39.101Z"
   },
   {
    "duration": 12,
    "start_time": "2021-08-14T15:13:02.425Z"
   },
   {
    "duration": 237,
    "start_time": "2021-08-14T15:13:32.705Z"
   },
   {
    "duration": 13,
    "start_time": "2021-08-14T15:13:45.815Z"
   },
   {
    "duration": 252,
    "start_time": "2021-08-14T15:17:37.416Z"
   },
   {
    "duration": 12,
    "start_time": "2021-08-14T15:17:49.832Z"
   },
   {
    "duration": 940,
    "start_time": "2021-08-14T15:18:39.825Z"
   },
   {
    "duration": 427,
    "start_time": "2021-08-14T15:18:40.767Z"
   },
   {
    "duration": 29,
    "start_time": "2021-08-14T15:18:41.195Z"
   },
   {
    "duration": 93,
    "start_time": "2021-08-14T15:18:41.225Z"
   },
   {
    "duration": 17,
    "start_time": "2021-08-14T15:18:41.320Z"
   },
   {
    "duration": 15,
    "start_time": "2021-08-14T15:18:41.339Z"
   },
   {
    "duration": 2,
    "start_time": "2021-08-14T15:18:41.355Z"
   },
   {
    "duration": 5,
    "start_time": "2021-08-14T15:18:41.359Z"
   },
   {
    "duration": 103,
    "start_time": "2021-08-14T15:18:41.392Z"
   },
   {
    "duration": 314,
    "start_time": "2021-08-14T15:18:41.496Z"
   },
   {
    "duration": 311,
    "start_time": "2021-08-14T15:18:41.811Z"
   },
   {
    "duration": 127,
    "start_time": "2021-08-14T15:18:42.124Z"
   },
   {
    "duration": 47,
    "start_time": "2021-08-14T15:18:42.252Z"
   },
   {
    "duration": 5339,
    "start_time": "2021-08-14T15:18:42.301Z"
   },
   {
    "duration": 7,
    "start_time": "2021-08-14T15:18:47.641Z"
   },
   {
    "duration": 50,
    "start_time": "2021-08-14T15:18:47.649Z"
   },
   {
    "duration": 1271,
    "start_time": "2021-08-14T15:18:47.701Z"
   },
   {
    "duration": 76,
    "start_time": "2021-08-14T15:18:48.974Z"
   },
   {
    "duration": 31,
    "start_time": "2021-08-14T15:18:49.052Z"
   },
   {
    "duration": 25,
    "start_time": "2021-08-14T15:18:49.091Z"
   },
   {
    "duration": 2,
    "start_time": "2021-08-14T15:18:49.118Z"
   },
   {
    "duration": 17,
    "start_time": "2021-08-14T15:18:49.121Z"
   },
   {
    "duration": 6,
    "start_time": "2021-08-14T15:18:49.140Z"
   },
   {
    "duration": 6,
    "start_time": "2021-08-14T15:18:49.148Z"
   },
   {
    "duration": 219,
    "start_time": "2021-08-14T15:18:49.155Z"
   },
   {
    "duration": 183,
    "start_time": "2021-08-14T15:18:49.376Z"
   },
   {
    "duration": 38,
    "start_time": "2021-08-14T15:18:49.561Z"
   },
   {
    "duration": 19,
    "start_time": "2021-08-14T15:18:49.600Z"
   },
   {
    "duration": 18,
    "start_time": "2021-08-14T15:18:49.621Z"
   },
   {
    "duration": 15,
    "start_time": "2021-08-14T15:18:49.640Z"
   },
   {
    "duration": 424,
    "start_time": "2021-08-14T15:18:49.656Z"
   },
   {
    "duration": 353,
    "start_time": "2021-08-14T15:18:50.082Z"
   },
   {
    "duration": 245,
    "start_time": "2021-08-14T15:18:50.437Z"
   },
   {
    "duration": 196,
    "start_time": "2021-08-14T15:18:50.683Z"
   },
   {
    "duration": 12,
    "start_time": "2021-08-14T15:18:50.881Z"
   },
   {
    "duration": 14,
    "start_time": "2021-08-14T15:18:50.894Z"
   },
   {
    "duration": 10,
    "start_time": "2021-08-14T15:18:50.909Z"
   },
   {
    "duration": 192,
    "start_time": "2021-08-14T15:18:50.920Z"
   },
   {
    "duration": 13,
    "start_time": "2021-08-14T15:19:34.692Z"
   },
   {
    "duration": 13,
    "start_time": "2021-08-14T15:25:07.781Z"
   },
   {
    "duration": 12,
    "start_time": "2021-08-14T15:26:57.852Z"
   },
   {
    "duration": 6,
    "start_time": "2021-08-14T15:35:14.074Z"
   },
   {
    "duration": 12,
    "start_time": "2021-08-14T15:35:14.082Z"
   },
   {
    "duration": 184,
    "start_time": "2021-08-14T15:35:14.096Z"
   },
   {
    "duration": 7,
    "start_time": "2021-08-14T15:38:06.851Z"
   },
   {
    "duration": 6,
    "start_time": "2021-08-14T15:38:24.679Z"
   },
   {
    "duration": 971,
    "start_time": "2021-08-14T15:44:34.296Z"
   },
   {
    "duration": 438,
    "start_time": "2021-08-14T15:44:35.269Z"
   },
   {
    "duration": 29,
    "start_time": "2021-08-14T15:44:35.709Z"
   },
   {
    "duration": 90,
    "start_time": "2021-08-14T15:44:35.740Z"
   },
   {
    "duration": 13,
    "start_time": "2021-08-14T15:44:35.832Z"
   },
   {
    "duration": 16,
    "start_time": "2021-08-14T15:44:35.846Z"
   },
   {
    "duration": 2,
    "start_time": "2021-08-14T15:44:35.864Z"
   },
   {
    "duration": 3,
    "start_time": "2021-08-14T15:44:35.891Z"
   },
   {
    "duration": 106,
    "start_time": "2021-08-14T15:44:35.897Z"
   },
   {
    "duration": 310,
    "start_time": "2021-08-14T15:44:36.006Z"
   },
   {
    "duration": 310,
    "start_time": "2021-08-14T15:44:36.318Z"
   },
   {
    "duration": 127,
    "start_time": "2021-08-14T15:44:36.630Z"
   },
   {
    "duration": 48,
    "start_time": "2021-08-14T15:44:36.759Z"
   },
   {
    "duration": 5062,
    "start_time": "2021-08-14T15:44:36.808Z"
   },
   {
    "duration": 6,
    "start_time": "2021-08-14T15:44:41.872Z"
   },
   {
    "duration": 42,
    "start_time": "2021-08-14T15:44:41.880Z"
   },
   {
    "duration": 1167,
    "start_time": "2021-08-14T15:44:41.924Z"
   },
   {
    "duration": 73,
    "start_time": "2021-08-14T15:44:43.092Z"
   },
   {
    "duration": 42,
    "start_time": "2021-08-14T15:44:43.166Z"
   },
   {
    "duration": 24,
    "start_time": "2021-08-14T15:44:43.209Z"
   },
   {
    "duration": 2,
    "start_time": "2021-08-14T15:44:43.235Z"
   },
   {
    "duration": 16,
    "start_time": "2021-08-14T15:44:43.239Z"
   },
   {
    "duration": 6,
    "start_time": "2021-08-14T15:44:43.256Z"
   },
   {
    "duration": 29,
    "start_time": "2021-08-14T15:44:43.263Z"
   },
   {
    "duration": 197,
    "start_time": "2021-08-14T15:44:43.294Z"
   },
   {
    "duration": 179,
    "start_time": "2021-08-14T15:44:43.493Z"
   },
   {
    "duration": 25,
    "start_time": "2021-08-14T15:44:43.676Z"
   },
   {
    "duration": 15,
    "start_time": "2021-08-14T15:44:43.703Z"
   },
   {
    "duration": 15,
    "start_time": "2021-08-14T15:44:43.720Z"
   },
   {
    "duration": 8,
    "start_time": "2021-08-14T15:44:43.736Z"
   },
   {
    "duration": 387,
    "start_time": "2021-08-14T15:44:43.745Z"
   },
   {
    "duration": 337,
    "start_time": "2021-08-14T15:44:44.133Z"
   },
   {
    "duration": 242,
    "start_time": "2021-08-14T15:44:44.471Z"
   },
   {
    "duration": 199,
    "start_time": "2021-08-14T15:44:44.714Z"
   },
   {
    "duration": 5,
    "start_time": "2021-08-14T15:44:44.915Z"
   },
   {
    "duration": 10,
    "start_time": "2021-08-14T15:44:44.922Z"
   },
   {
    "duration": 287,
    "start_time": "2021-08-14T15:44:44.933Z"
   },
   {
    "duration": -117,
    "start_time": "2021-08-14T15:44:45.339Z"
   },
   {
    "duration": -151,
    "start_time": "2021-08-14T15:44:45.374Z"
   },
   {
    "duration": 11,
    "start_time": "2021-08-14T15:48:04.552Z"
   },
   {
    "duration": 1000,
    "start_time": "2021-08-14T15:48:42.848Z"
   },
   {
    "duration": 410,
    "start_time": "2021-08-14T15:48:43.850Z"
   },
   {
    "duration": 29,
    "start_time": "2021-08-14T15:48:44.262Z"
   },
   {
    "duration": 70,
    "start_time": "2021-08-14T15:48:44.292Z"
   },
   {
    "duration": 13,
    "start_time": "2021-08-14T15:48:44.364Z"
   },
   {
    "duration": 15,
    "start_time": "2021-08-14T15:48:44.391Z"
   },
   {
    "duration": 2,
    "start_time": "2021-08-14T15:48:44.408Z"
   },
   {
    "duration": 5,
    "start_time": "2021-08-14T15:48:44.412Z"
   },
   {
    "duration": 113,
    "start_time": "2021-08-14T15:48:44.419Z"
   },
   {
    "duration": 318,
    "start_time": "2021-08-14T15:48:44.534Z"
   },
   {
    "duration": 304,
    "start_time": "2021-08-14T15:48:44.854Z"
   },
   {
    "duration": 119,
    "start_time": "2021-08-14T15:48:45.159Z"
   },
   {
    "duration": 49,
    "start_time": "2021-08-14T15:48:45.279Z"
   },
   {
    "duration": 5825,
    "start_time": "2021-08-14T15:48:45.329Z"
   },
   {
    "duration": 7,
    "start_time": "2021-08-14T15:48:51.155Z"
   },
   {
    "duration": 50,
    "start_time": "2021-08-14T15:48:51.163Z"
   },
   {
    "duration": 1395,
    "start_time": "2021-08-14T15:48:51.215Z"
   },
   {
    "duration": 69,
    "start_time": "2021-08-14T15:48:52.612Z"
   },
   {
    "duration": 29,
    "start_time": "2021-08-14T15:48:52.691Z"
   },
   {
    "duration": 26,
    "start_time": "2021-08-14T15:48:52.722Z"
   },
   {
    "duration": 2,
    "start_time": "2021-08-14T15:48:52.750Z"
   },
   {
    "duration": 18,
    "start_time": "2021-08-14T15:48:52.754Z"
   },
   {
    "duration": 6,
    "start_time": "2021-08-14T15:48:52.793Z"
   },
   {
    "duration": 21,
    "start_time": "2021-08-14T15:48:52.801Z"
   },
   {
    "duration": 198,
    "start_time": "2021-08-14T15:48:52.824Z"
   },
   {
    "duration": 184,
    "start_time": "2021-08-14T15:48:53.024Z"
   },
   {
    "duration": 23,
    "start_time": "2021-08-14T15:48:53.210Z"
   },
   {
    "duration": 18,
    "start_time": "2021-08-14T15:48:53.235Z"
   },
   {
    "duration": 48,
    "start_time": "2021-08-14T15:48:53.254Z"
   },
   {
    "duration": 10,
    "start_time": "2021-08-14T15:48:53.304Z"
   },
   {
    "duration": 571,
    "start_time": "2021-08-14T15:48:53.315Z"
   },
   {
    "duration": 470,
    "start_time": "2021-08-14T15:48:53.891Z"
   },
   {
    "duration": 258,
    "start_time": "2021-08-14T15:48:54.363Z"
   },
   {
    "duration": 209,
    "start_time": "2021-08-14T15:48:54.623Z"
   },
   {
    "duration": 6,
    "start_time": "2021-08-14T15:48:54.834Z"
   },
   {
    "duration": 18,
    "start_time": "2021-08-14T15:48:54.841Z"
   },
   {
    "duration": 17,
    "start_time": "2021-08-14T15:48:54.861Z"
   },
   {
    "duration": 15,
    "start_time": "2021-08-14T15:48:54.880Z"
   },
   {
    "duration": 197,
    "start_time": "2021-08-14T15:48:54.897Z"
   },
   {
    "duration": 332,
    "start_time": "2021-08-14T16:02:27.552Z"
   },
   {
    "duration": 327,
    "start_time": "2021-08-14T16:02:32.503Z"
   },
   {
    "duration": 224,
    "start_time": "2021-08-14T16:02:36.171Z"
   },
   {
    "duration": 182,
    "start_time": "2021-08-14T16:02:39.779Z"
   },
   {
    "duration": 1009,
    "start_time": "2021-08-15T07:44:43.462Z"
   },
   {
    "duration": 505,
    "start_time": "2021-08-15T07:44:44.473Z"
   },
   {
    "duration": 34,
    "start_time": "2021-08-15T07:44:44.980Z"
   },
   {
    "duration": 107,
    "start_time": "2021-08-15T07:44:45.016Z"
   },
   {
    "duration": 15,
    "start_time": "2021-08-15T07:44:45.125Z"
   },
   {
    "duration": 19,
    "start_time": "2021-08-15T07:44:45.141Z"
   },
   {
    "duration": 2,
    "start_time": "2021-08-15T07:44:45.185Z"
   },
   {
    "duration": 5,
    "start_time": "2021-08-15T07:44:45.190Z"
   },
   {
    "duration": 117,
    "start_time": "2021-08-15T07:44:45.197Z"
   },
   {
    "duration": 370,
    "start_time": "2021-08-15T07:44:45.316Z"
   },
   {
    "duration": 366,
    "start_time": "2021-08-15T07:44:45.688Z"
   },
   {
    "duration": 139,
    "start_time": "2021-08-15T07:44:46.055Z"
   },
   {
    "duration": 41,
    "start_time": "2021-08-15T07:44:46.196Z"
   },
   {
    "duration": 5554,
    "start_time": "2021-08-15T07:44:46.239Z"
   },
   {
    "duration": 7,
    "start_time": "2021-08-15T07:44:51.794Z"
   },
   {
    "duration": 44,
    "start_time": "2021-08-15T07:44:51.803Z"
   },
   {
    "duration": 1385,
    "start_time": "2021-08-15T07:44:51.848Z"
   },
   {
    "duration": 83,
    "start_time": "2021-08-15T07:44:53.235Z"
   },
   {
    "duration": 32,
    "start_time": "2021-08-15T07:44:53.319Z"
   },
   {
    "duration": 44,
    "start_time": "2021-08-15T07:44:53.352Z"
   },
   {
    "duration": 3,
    "start_time": "2021-08-15T07:44:53.397Z"
   },
   {
    "duration": 23,
    "start_time": "2021-08-15T07:44:53.402Z"
   },
   {
    "duration": 6,
    "start_time": "2021-08-15T07:44:53.428Z"
   },
   {
    "duration": 8,
    "start_time": "2021-08-15T07:44:53.436Z"
   },
   {
    "duration": 235,
    "start_time": "2021-08-15T07:44:53.445Z"
   },
   {
    "duration": 195,
    "start_time": "2021-08-15T07:44:53.682Z"
   },
   {
    "duration": 29,
    "start_time": "2021-08-15T07:44:53.878Z"
   },
   {
    "duration": 19,
    "start_time": "2021-08-15T07:44:53.908Z"
   },
   {
    "duration": 58,
    "start_time": "2021-08-15T07:44:53.928Z"
   },
   {
    "duration": 10,
    "start_time": "2021-08-15T07:44:53.987Z"
   },
   {
    "duration": 431,
    "start_time": "2021-08-15T07:44:53.999Z"
   },
   {
    "duration": 410,
    "start_time": "2021-08-15T07:44:54.432Z"
   },
   {
    "duration": 284,
    "start_time": "2021-08-15T07:44:54.844Z"
   },
   {
    "duration": 228,
    "start_time": "2021-08-15T07:44:55.130Z"
   },
   {
    "duration": 6,
    "start_time": "2021-08-15T07:44:55.360Z"
   },
   {
    "duration": 32,
    "start_time": "2021-08-15T07:44:55.367Z"
   },
   {
    "duration": 12,
    "start_time": "2021-08-15T07:44:55.401Z"
   },
   {
    "duration": 8,
    "start_time": "2021-08-15T07:44:55.414Z"
   },
   {
    "duration": 229,
    "start_time": "2021-08-15T07:44:55.424Z"
   },
   {
    "duration": 6,
    "start_time": "2021-08-15T07:51:28.260Z"
   },
   {
    "duration": 32,
    "start_time": "2021-08-15T07:55:15.478Z"
   },
   {
    "duration": 440,
    "start_time": "2021-08-19T20:14:09.708Z"
   },
   {
    "duration": 1495,
    "start_time": "2021-08-19T20:14:15.142Z"
   },
   {
    "duration": 633,
    "start_time": "2021-08-19T20:14:16.641Z"
   },
   {
    "duration": 51,
    "start_time": "2021-08-19T20:14:17.277Z"
   },
   {
    "duration": 161,
    "start_time": "2021-08-19T20:14:17.331Z"
   },
   {
    "duration": 25,
    "start_time": "2021-08-19T20:14:17.494Z"
   },
   {
    "duration": 64,
    "start_time": "2021-08-19T20:14:17.521Z"
   },
   {
    "duration": 3,
    "start_time": "2021-08-19T20:14:17.588Z"
   },
   {
    "duration": 8,
    "start_time": "2021-08-19T20:14:17.595Z"
   },
   {
    "duration": 180,
    "start_time": "2021-08-19T20:14:17.606Z"
   },
   {
    "duration": 609,
    "start_time": "2021-08-19T20:14:17.788Z"
   },
   {
    "duration": 603,
    "start_time": "2021-08-19T20:14:18.399Z"
   },
   {
    "duration": 228,
    "start_time": "2021-08-19T20:14:19.004Z"
   },
   {
    "duration": 78,
    "start_time": "2021-08-19T20:14:19.234Z"
   },
   {
    "duration": 8957,
    "start_time": "2021-08-19T20:14:19.314Z"
   },
   {
    "duration": 12,
    "start_time": "2021-08-19T20:14:28.274Z"
   },
   {
    "duration": 98,
    "start_time": "2021-08-19T20:14:28.289Z"
   },
   {
    "duration": 2251,
    "start_time": "2021-08-19T20:14:28.390Z"
   },
   {
    "duration": 128,
    "start_time": "2021-08-19T20:14:30.644Z"
   },
   {
    "duration": 57,
    "start_time": "2021-08-19T20:14:30.774Z"
   },
   {
    "duration": 70,
    "start_time": "2021-08-19T20:14:30.834Z"
   },
   {
    "duration": 4,
    "start_time": "2021-08-19T20:14:30.907Z"
   },
   {
    "duration": 55,
    "start_time": "2021-08-19T20:14:30.914Z"
   },
   {
    "duration": 10,
    "start_time": "2021-08-19T20:14:30.974Z"
   },
   {
    "duration": 23,
    "start_time": "2021-08-19T20:14:30.987Z"
   },
   {
    "duration": 406,
    "start_time": "2021-08-19T20:14:31.012Z"
   },
   {
    "duration": 340,
    "start_time": "2021-08-19T20:14:31.421Z"
   },
   {
    "duration": 45,
    "start_time": "2021-08-19T20:14:31.767Z"
   },
   {
    "duration": 72,
    "start_time": "2021-08-19T20:14:31.815Z"
   },
   {
    "duration": 83,
    "start_time": "2021-08-19T20:14:31.889Z"
   },
   {
    "duration": 17,
    "start_time": "2021-08-19T20:14:31.975Z"
   },
   {
    "duration": 708,
    "start_time": "2021-08-19T20:14:31.994Z"
   },
   {
    "duration": 672,
    "start_time": "2021-08-19T20:14:32.704Z"
   },
   {
    "duration": 460,
    "start_time": "2021-08-19T20:14:33.378Z"
   },
   {
    "duration": 371,
    "start_time": "2021-08-19T20:14:33.840Z"
   },
   {
    "duration": 10,
    "start_time": "2021-08-19T20:14:34.214Z"
   },
   {
    "duration": 44,
    "start_time": "2021-08-19T20:14:34.227Z"
   },
   {
    "duration": 19,
    "start_time": "2021-08-19T20:14:34.274Z"
   },
   {
    "duration": 12,
    "start_time": "2021-08-19T20:14:34.297Z"
   },
   {
    "duration": 410,
    "start_time": "2021-08-19T20:14:34.312Z"
   }
  ],
  "kernelspec": {
   "display_name": "Python 3",
   "language": "python",
   "name": "python3"
  },
  "language_info": {
   "codemirror_mode": {
    "name": "ipython",
    "version": 3
   },
   "file_extension": ".py",
   "mimetype": "text/x-python",
   "name": "python",
   "nbconvert_exporter": "python",
   "pygments_lexer": "ipython3",
   "version": "3.8.8"
  },
  "toc": {
   "base_numbering": 1,
   "nav_menu": {
    "height": "186px",
    "width": "387px"
   },
   "number_sections": true,
   "sideBar": true,
   "skip_h1_title": true,
   "title_cell": "Table of Contents",
   "title_sidebar": "Contents",
   "toc_cell": false,
   "toc_position": {},
   "toc_section_display": true,
   "toc_window_display": false
  }
 },
 "nbformat": 4,
 "nbformat_minor": 2
}
