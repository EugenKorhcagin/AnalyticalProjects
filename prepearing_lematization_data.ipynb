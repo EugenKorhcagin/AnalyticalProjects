{
 "cells": [
  {
   "cell_type": "markdown",
   "metadata": {},
   "source": [
    "# Исследование надёжности заёмщиков\n",
    "\n",
    "Заказчик — кредитный отдел банка. Нужно разобраться, влияет ли семейное положение и количество детей клиента на факт погашения кредита в срок. Входные данные от банка — статистика о платёжеспособности клиентов.\n",
    "\n",
    "Результаты исследования будут учтены при построении модели **кредитного скоринга** — специальной системы, которая оценивает способность потенциального заёмщика вернуть кредит банку."
   ]
  },
  {
   "cell_type": "markdown",
   "metadata": {},
   "source": [
    "## Шаг 1. Откройте файл с данными и изучите общую информацию"
   ]
  },
  {
   "cell_type": "code",
   "execution_count": 1,
   "metadata": {},
   "outputs": [
    {
     "name": "stdout",
     "output_type": "stream",
     "text": [
      "Requirement already satisfied: pymystem3 in /Users/evgenijkorcagin/opt/anaconda3/lib/python3.8/site-packages (0.2.0)\n",
      "Requirement already satisfied: requests in /Users/evgenijkorcagin/opt/anaconda3/lib/python3.8/site-packages (from pymystem3) (2.25.1)\n",
      "Requirement already satisfied: certifi>=2017.4.17 in /Users/evgenijkorcagin/opt/anaconda3/lib/python3.8/site-packages (from requests->pymystem3) (2020.12.5)\n",
      "Requirement already satisfied: chardet<5,>=3.0.2 in /Users/evgenijkorcagin/opt/anaconda3/lib/python3.8/site-packages (from requests->pymystem3) (4.0.0)\n",
      "Requirement already satisfied: urllib3<1.27,>=1.21.1 in /Users/evgenijkorcagin/opt/anaconda3/lib/python3.8/site-packages (from requests->pymystem3) (1.26.4)\n",
      "Requirement already satisfied: idna<3,>=2.5 in /Users/evgenijkorcagin/opt/anaconda3/lib/python3.8/site-packages (from requests->pymystem3) (2.10)\n",
      "\u001b[31mERROR: Could not find a version that satisfies the requirement collections\u001b[0m\n",
      "\u001b[31mERROR: No matching distribution found for collections\u001b[0m\n"
     ]
    }
   ],
   "source": [
    "import sys\n",
    "!{sys.executable} -m pip install pymystem3\n",
    "!{sys.executable} -m pip install collections"
   ]
  },
  {
   "cell_type": "code",
   "execution_count": 2,
   "metadata": {},
   "outputs": [
    {
     "name": "stdout",
     "output_type": "stream",
     "text": [
      "<class 'pandas.core.frame.DataFrame'>\n",
      "RangeIndex: 21525 entries, 0 to 21524\n",
      "Data columns (total 12 columns):\n",
      " #   Column            Non-Null Count  Dtype  \n",
      "---  ------            --------------  -----  \n",
      " 0   children          21525 non-null  int64  \n",
      " 1   days_employed     19351 non-null  float64\n",
      " 2   dob_years         21525 non-null  int64  \n",
      " 3   education         21525 non-null  object \n",
      " 4   education_id      21525 non-null  int64  \n",
      " 5   family_status     21525 non-null  object \n",
      " 6   family_status_id  21525 non-null  int64  \n",
      " 7   gender            21525 non-null  object \n",
      " 8   income_type       21525 non-null  object \n",
      " 9   debt              21525 non-null  int64  \n",
      " 10  total_income      19351 non-null  float64\n",
      " 11  purpose           21525 non-null  object \n",
      "dtypes: float64(2), int64(5), object(5)\n",
      "memory usage: 2.0+ MB\n",
      "None\n"
     ]
    }
   ],
   "source": [
    "import pandas as pd\n",
    "import numpy as np\n",
    "\n",
    "from pymystem3 import Mystem\n",
    "m = Mystem()\n",
    "from collections import Counter\n",
    "\n",
    "df = pd.read_csv('https://www.dropbox.com/s/n8cclxygfj4i5gr/data_prepearing.csv?dl=1')\n",
    "print (df.info())"
   ]
  },
  {
   "cell_type": "markdown",
   "metadata": {},
   "source": [
    "Выведем первые и последние 10 строк таблицы для первичной оценки форматов и однородности данных"
   ]
  },
  {
   "cell_type": "code",
   "execution_count": 3,
   "metadata": {
    "scrolled": true
   },
   "outputs": [
    {
     "data": {
      "text/html": [
       "<div>\n",
       "<style scoped>\n",
       "    .dataframe tbody tr th:only-of-type {\n",
       "        vertical-align: middle;\n",
       "    }\n",
       "\n",
       "    .dataframe tbody tr th {\n",
       "        vertical-align: top;\n",
       "    }\n",
       "\n",
       "    .dataframe thead th {\n",
       "        text-align: right;\n",
       "    }\n",
       "</style>\n",
       "<table border=\"1\" class=\"dataframe\">\n",
       "  <thead>\n",
       "    <tr style=\"text-align: right;\">\n",
       "      <th></th>\n",
       "      <th>children</th>\n",
       "      <th>days_employed</th>\n",
       "      <th>dob_years</th>\n",
       "      <th>education</th>\n",
       "      <th>education_id</th>\n",
       "      <th>family_status</th>\n",
       "      <th>family_status_id</th>\n",
       "      <th>gender</th>\n",
       "      <th>income_type</th>\n",
       "      <th>debt</th>\n",
       "      <th>total_income</th>\n",
       "      <th>purpose</th>\n",
       "    </tr>\n",
       "  </thead>\n",
       "  <tbody>\n",
       "    <tr>\n",
       "      <th>0</th>\n",
       "      <td>1</td>\n",
       "      <td>-8437.673028</td>\n",
       "      <td>42</td>\n",
       "      <td>высшее</td>\n",
       "      <td>0</td>\n",
       "      <td>женат / замужем</td>\n",
       "      <td>0</td>\n",
       "      <td>F</td>\n",
       "      <td>сотрудник</td>\n",
       "      <td>0</td>\n",
       "      <td>253875.639453</td>\n",
       "      <td>покупка жилья</td>\n",
       "    </tr>\n",
       "    <tr>\n",
       "      <th>1</th>\n",
       "      <td>1</td>\n",
       "      <td>-4024.803754</td>\n",
       "      <td>36</td>\n",
       "      <td>среднее</td>\n",
       "      <td>1</td>\n",
       "      <td>женат / замужем</td>\n",
       "      <td>0</td>\n",
       "      <td>F</td>\n",
       "      <td>сотрудник</td>\n",
       "      <td>0</td>\n",
       "      <td>112080.014102</td>\n",
       "      <td>приобретение автомобиля</td>\n",
       "    </tr>\n",
       "    <tr>\n",
       "      <th>2</th>\n",
       "      <td>0</td>\n",
       "      <td>-5623.422610</td>\n",
       "      <td>33</td>\n",
       "      <td>Среднее</td>\n",
       "      <td>1</td>\n",
       "      <td>женат / замужем</td>\n",
       "      <td>0</td>\n",
       "      <td>M</td>\n",
       "      <td>сотрудник</td>\n",
       "      <td>0</td>\n",
       "      <td>145885.952297</td>\n",
       "      <td>покупка жилья</td>\n",
       "    </tr>\n",
       "    <tr>\n",
       "      <th>3</th>\n",
       "      <td>3</td>\n",
       "      <td>-4124.747207</td>\n",
       "      <td>32</td>\n",
       "      <td>среднее</td>\n",
       "      <td>1</td>\n",
       "      <td>женат / замужем</td>\n",
       "      <td>0</td>\n",
       "      <td>M</td>\n",
       "      <td>сотрудник</td>\n",
       "      <td>0</td>\n",
       "      <td>267628.550329</td>\n",
       "      <td>дополнительное образование</td>\n",
       "    </tr>\n",
       "    <tr>\n",
       "      <th>4</th>\n",
       "      <td>0</td>\n",
       "      <td>340266.072047</td>\n",
       "      <td>53</td>\n",
       "      <td>среднее</td>\n",
       "      <td>1</td>\n",
       "      <td>гражданский брак</td>\n",
       "      <td>1</td>\n",
       "      <td>F</td>\n",
       "      <td>пенсионер</td>\n",
       "      <td>0</td>\n",
       "      <td>158616.077870</td>\n",
       "      <td>сыграть свадьбу</td>\n",
       "    </tr>\n",
       "    <tr>\n",
       "      <th>5</th>\n",
       "      <td>0</td>\n",
       "      <td>-926.185831</td>\n",
       "      <td>27</td>\n",
       "      <td>высшее</td>\n",
       "      <td>0</td>\n",
       "      <td>гражданский брак</td>\n",
       "      <td>1</td>\n",
       "      <td>M</td>\n",
       "      <td>компаньон</td>\n",
       "      <td>0</td>\n",
       "      <td>255763.565419</td>\n",
       "      <td>покупка жилья</td>\n",
       "    </tr>\n",
       "    <tr>\n",
       "      <th>6</th>\n",
       "      <td>0</td>\n",
       "      <td>-2879.202052</td>\n",
       "      <td>43</td>\n",
       "      <td>высшее</td>\n",
       "      <td>0</td>\n",
       "      <td>женат / замужем</td>\n",
       "      <td>0</td>\n",
       "      <td>F</td>\n",
       "      <td>компаньон</td>\n",
       "      <td>0</td>\n",
       "      <td>240525.971920</td>\n",
       "      <td>операции с жильем</td>\n",
       "    </tr>\n",
       "    <tr>\n",
       "      <th>7</th>\n",
       "      <td>0</td>\n",
       "      <td>-152.779569</td>\n",
       "      <td>50</td>\n",
       "      <td>СРЕДНЕЕ</td>\n",
       "      <td>1</td>\n",
       "      <td>женат / замужем</td>\n",
       "      <td>0</td>\n",
       "      <td>M</td>\n",
       "      <td>сотрудник</td>\n",
       "      <td>0</td>\n",
       "      <td>135823.934197</td>\n",
       "      <td>образование</td>\n",
       "    </tr>\n",
       "    <tr>\n",
       "      <th>8</th>\n",
       "      <td>2</td>\n",
       "      <td>-6929.865299</td>\n",
       "      <td>35</td>\n",
       "      <td>ВЫСШЕЕ</td>\n",
       "      <td>0</td>\n",
       "      <td>гражданский брак</td>\n",
       "      <td>1</td>\n",
       "      <td>F</td>\n",
       "      <td>сотрудник</td>\n",
       "      <td>0</td>\n",
       "      <td>95856.832424</td>\n",
       "      <td>на проведение свадьбы</td>\n",
       "    </tr>\n",
       "    <tr>\n",
       "      <th>9</th>\n",
       "      <td>0</td>\n",
       "      <td>-2188.756445</td>\n",
       "      <td>41</td>\n",
       "      <td>среднее</td>\n",
       "      <td>1</td>\n",
       "      <td>женат / замужем</td>\n",
       "      <td>0</td>\n",
       "      <td>M</td>\n",
       "      <td>сотрудник</td>\n",
       "      <td>0</td>\n",
       "      <td>144425.938277</td>\n",
       "      <td>покупка жилья для семьи</td>\n",
       "    </tr>\n",
       "  </tbody>\n",
       "</table>\n",
       "</div>"
      ],
      "text/plain": [
       "   children  days_employed  dob_years education  education_id  \\\n",
       "0         1   -8437.673028         42    высшее             0   \n",
       "1         1   -4024.803754         36   среднее             1   \n",
       "2         0   -5623.422610         33   Среднее             1   \n",
       "3         3   -4124.747207         32   среднее             1   \n",
       "4         0  340266.072047         53   среднее             1   \n",
       "5         0    -926.185831         27    высшее             0   \n",
       "6         0   -2879.202052         43    высшее             0   \n",
       "7         0    -152.779569         50   СРЕДНЕЕ             1   \n",
       "8         2   -6929.865299         35    ВЫСШЕЕ             0   \n",
       "9         0   -2188.756445         41   среднее             1   \n",
       "\n",
       "      family_status  family_status_id gender income_type  debt   total_income  \\\n",
       "0   женат / замужем                 0      F   сотрудник     0  253875.639453   \n",
       "1   женат / замужем                 0      F   сотрудник     0  112080.014102   \n",
       "2   женат / замужем                 0      M   сотрудник     0  145885.952297   \n",
       "3   женат / замужем                 0      M   сотрудник     0  267628.550329   \n",
       "4  гражданский брак                 1      F   пенсионер     0  158616.077870   \n",
       "5  гражданский брак                 1      M   компаньон     0  255763.565419   \n",
       "6   женат / замужем                 0      F   компаньон     0  240525.971920   \n",
       "7   женат / замужем                 0      M   сотрудник     0  135823.934197   \n",
       "8  гражданский брак                 1      F   сотрудник     0   95856.832424   \n",
       "9   женат / замужем                 0      M   сотрудник     0  144425.938277   \n",
       "\n",
       "                      purpose  \n",
       "0               покупка жилья  \n",
       "1     приобретение автомобиля  \n",
       "2               покупка жилья  \n",
       "3  дополнительное образование  \n",
       "4             сыграть свадьбу  \n",
       "5               покупка жилья  \n",
       "6           операции с жильем  \n",
       "7                 образование  \n",
       "8       на проведение свадьбы  \n",
       "9     покупка жилья для семьи  "
      ]
     },
     "metadata": {},
     "output_type": "display_data"
    },
    {
     "data": {
      "text/html": [
       "<div>\n",
       "<style scoped>\n",
       "    .dataframe tbody tr th:only-of-type {\n",
       "        vertical-align: middle;\n",
       "    }\n",
       "\n",
       "    .dataframe tbody tr th {\n",
       "        vertical-align: top;\n",
       "    }\n",
       "\n",
       "    .dataframe thead th {\n",
       "        text-align: right;\n",
       "    }\n",
       "</style>\n",
       "<table border=\"1\" class=\"dataframe\">\n",
       "  <thead>\n",
       "    <tr style=\"text-align: right;\">\n",
       "      <th></th>\n",
       "      <th>children</th>\n",
       "      <th>days_employed</th>\n",
       "      <th>dob_years</th>\n",
       "      <th>education</th>\n",
       "      <th>education_id</th>\n",
       "      <th>family_status</th>\n",
       "      <th>family_status_id</th>\n",
       "      <th>gender</th>\n",
       "      <th>income_type</th>\n",
       "      <th>debt</th>\n",
       "      <th>total_income</th>\n",
       "      <th>purpose</th>\n",
       "    </tr>\n",
       "  </thead>\n",
       "  <tbody>\n",
       "    <tr>\n",
       "      <th>21515</th>\n",
       "      <td>1</td>\n",
       "      <td>-467.685130</td>\n",
       "      <td>28</td>\n",
       "      <td>среднее</td>\n",
       "      <td>1</td>\n",
       "      <td>женат / замужем</td>\n",
       "      <td>0</td>\n",
       "      <td>F</td>\n",
       "      <td>сотрудник</td>\n",
       "      <td>1</td>\n",
       "      <td>109486.327999</td>\n",
       "      <td>заняться образованием</td>\n",
       "    </tr>\n",
       "    <tr>\n",
       "      <th>21516</th>\n",
       "      <td>0</td>\n",
       "      <td>-914.391429</td>\n",
       "      <td>42</td>\n",
       "      <td>высшее</td>\n",
       "      <td>0</td>\n",
       "      <td>женат / замужем</td>\n",
       "      <td>0</td>\n",
       "      <td>F</td>\n",
       "      <td>компаньон</td>\n",
       "      <td>0</td>\n",
       "      <td>322807.776603</td>\n",
       "      <td>покупка своего жилья</td>\n",
       "    </tr>\n",
       "    <tr>\n",
       "      <th>21517</th>\n",
       "      <td>0</td>\n",
       "      <td>-404.679034</td>\n",
       "      <td>42</td>\n",
       "      <td>высшее</td>\n",
       "      <td>0</td>\n",
       "      <td>гражданский брак</td>\n",
       "      <td>1</td>\n",
       "      <td>F</td>\n",
       "      <td>компаньон</td>\n",
       "      <td>0</td>\n",
       "      <td>178059.553491</td>\n",
       "      <td>на покупку своего автомобиля</td>\n",
       "    </tr>\n",
       "    <tr>\n",
       "      <th>21518</th>\n",
       "      <td>0</td>\n",
       "      <td>373995.710838</td>\n",
       "      <td>59</td>\n",
       "      <td>СРЕДНЕЕ</td>\n",
       "      <td>1</td>\n",
       "      <td>женат / замужем</td>\n",
       "      <td>0</td>\n",
       "      <td>F</td>\n",
       "      <td>пенсионер</td>\n",
       "      <td>0</td>\n",
       "      <td>153864.650328</td>\n",
       "      <td>сделка с автомобилем</td>\n",
       "    </tr>\n",
       "    <tr>\n",
       "      <th>21519</th>\n",
       "      <td>1</td>\n",
       "      <td>-2351.431934</td>\n",
       "      <td>37</td>\n",
       "      <td>ученая степень</td>\n",
       "      <td>4</td>\n",
       "      <td>в разводе</td>\n",
       "      <td>3</td>\n",
       "      <td>M</td>\n",
       "      <td>сотрудник</td>\n",
       "      <td>0</td>\n",
       "      <td>115949.039788</td>\n",
       "      <td>покупка коммерческой недвижимости</td>\n",
       "    </tr>\n",
       "    <tr>\n",
       "      <th>21520</th>\n",
       "      <td>1</td>\n",
       "      <td>-4529.316663</td>\n",
       "      <td>43</td>\n",
       "      <td>среднее</td>\n",
       "      <td>1</td>\n",
       "      <td>гражданский брак</td>\n",
       "      <td>1</td>\n",
       "      <td>F</td>\n",
       "      <td>компаньон</td>\n",
       "      <td>0</td>\n",
       "      <td>224791.862382</td>\n",
       "      <td>операции с жильем</td>\n",
       "    </tr>\n",
       "    <tr>\n",
       "      <th>21521</th>\n",
       "      <td>0</td>\n",
       "      <td>343937.404131</td>\n",
       "      <td>67</td>\n",
       "      <td>среднее</td>\n",
       "      <td>1</td>\n",
       "      <td>женат / замужем</td>\n",
       "      <td>0</td>\n",
       "      <td>F</td>\n",
       "      <td>пенсионер</td>\n",
       "      <td>0</td>\n",
       "      <td>155999.806512</td>\n",
       "      <td>сделка с автомобилем</td>\n",
       "    </tr>\n",
       "    <tr>\n",
       "      <th>21522</th>\n",
       "      <td>1</td>\n",
       "      <td>-2113.346888</td>\n",
       "      <td>38</td>\n",
       "      <td>среднее</td>\n",
       "      <td>1</td>\n",
       "      <td>гражданский брак</td>\n",
       "      <td>1</td>\n",
       "      <td>M</td>\n",
       "      <td>сотрудник</td>\n",
       "      <td>1</td>\n",
       "      <td>89672.561153</td>\n",
       "      <td>недвижимость</td>\n",
       "    </tr>\n",
       "    <tr>\n",
       "      <th>21523</th>\n",
       "      <td>3</td>\n",
       "      <td>-3112.481705</td>\n",
       "      <td>38</td>\n",
       "      <td>среднее</td>\n",
       "      <td>1</td>\n",
       "      <td>женат / замужем</td>\n",
       "      <td>0</td>\n",
       "      <td>M</td>\n",
       "      <td>сотрудник</td>\n",
       "      <td>1</td>\n",
       "      <td>244093.050500</td>\n",
       "      <td>на покупку своего автомобиля</td>\n",
       "    </tr>\n",
       "    <tr>\n",
       "      <th>21524</th>\n",
       "      <td>2</td>\n",
       "      <td>-1984.507589</td>\n",
       "      <td>40</td>\n",
       "      <td>среднее</td>\n",
       "      <td>1</td>\n",
       "      <td>женат / замужем</td>\n",
       "      <td>0</td>\n",
       "      <td>F</td>\n",
       "      <td>сотрудник</td>\n",
       "      <td>0</td>\n",
       "      <td>82047.418899</td>\n",
       "      <td>на покупку автомобиля</td>\n",
       "    </tr>\n",
       "  </tbody>\n",
       "</table>\n",
       "</div>"
      ],
      "text/plain": [
       "       children  days_employed  dob_years       education  education_id  \\\n",
       "21515         1    -467.685130         28         среднее             1   \n",
       "21516         0    -914.391429         42          высшее             0   \n",
       "21517         0    -404.679034         42          высшее             0   \n",
       "21518         0  373995.710838         59         СРЕДНЕЕ             1   \n",
       "21519         1   -2351.431934         37  ученая степень             4   \n",
       "21520         1   -4529.316663         43         среднее             1   \n",
       "21521         0  343937.404131         67         среднее             1   \n",
       "21522         1   -2113.346888         38         среднее             1   \n",
       "21523         3   -3112.481705         38         среднее             1   \n",
       "21524         2   -1984.507589         40         среднее             1   \n",
       "\n",
       "          family_status  family_status_id gender income_type  debt  \\\n",
       "21515   женат / замужем                 0      F   сотрудник     1   \n",
       "21516   женат / замужем                 0      F   компаньон     0   \n",
       "21517  гражданский брак                 1      F   компаньон     0   \n",
       "21518   женат / замужем                 0      F   пенсионер     0   \n",
       "21519         в разводе                 3      M   сотрудник     0   \n",
       "21520  гражданский брак                 1      F   компаньон     0   \n",
       "21521   женат / замужем                 0      F   пенсионер     0   \n",
       "21522  гражданский брак                 1      M   сотрудник     1   \n",
       "21523   женат / замужем                 0      M   сотрудник     1   \n",
       "21524   женат / замужем                 0      F   сотрудник     0   \n",
       "\n",
       "        total_income                            purpose  \n",
       "21515  109486.327999              заняться образованием  \n",
       "21516  322807.776603               покупка своего жилья  \n",
       "21517  178059.553491       на покупку своего автомобиля  \n",
       "21518  153864.650328               сделка с автомобилем  \n",
       "21519  115949.039788  покупка коммерческой недвижимости  \n",
       "21520  224791.862382                  операции с жильем  \n",
       "21521  155999.806512               сделка с автомобилем  \n",
       "21522   89672.561153                       недвижимость  \n",
       "21523  244093.050500       на покупку своего автомобиля  \n",
       "21524   82047.418899              на покупку автомобиля  "
      ]
     },
     "metadata": {},
     "output_type": "display_data"
    }
   ],
   "source": [
    "display (df.head(10))\n",
    "display (df.tail(10))\n"
   ]
  },
  {
   "cell_type": "markdown",
   "metadata": {},
   "source": [
    "оценим строки с нулевыми значениями, согласно данным из метода .info() в столбцах с доходом и стажем"
   ]
  },
  {
   "cell_type": "code",
   "execution_count": 4,
   "metadata": {
    "scrolled": true
   },
   "outputs": [
    {
     "name": "stdout",
     "output_type": "stream",
     "text": [
      "пропущенных значений в столбце income - 2174\n",
      "пропущенных значений в столбце days_employe - 2174\n"
     ]
    }
   ],
   "source": [
    "\n",
    "df['nana_income'] = df['total_income'].isnull() #column for counting NaN objects for creating new DataFrame by attribute\n",
    "df['nana_days'] = df['days_employed'].isnull() #column for counting NaN objects for creating new DataFrame by attribute\n",
    "skipped_values_income = df[df['nana_income'] == True] #creating new DataFrame by attribute NaN in clmn 'total income'\n",
    "skipped_values_days = df[df['nana_days'] == True] #creating new DataFrame by attribute NaN in clmn 'days'\n",
    "print ('пропущенных значений в столбце income -', len (skipped_values_income)) #counter number of NaN obj at column income\n",
    "print ('пропущенных значений в столбце days_employe -', len (skipped_values_days)) #counter number of NaN obj at column days_employe\n",
    "#print (skipped_values.head(30))\n",
    "#print (skipped_values.tail(30))\n",
    "\n",
    "#print (df)\n",
    "skipped_income_types = skipped_values_days['income_type'].value_counts()\n"
   ]
  },
  {
   "cell_type": "markdown",
   "metadata": {},
   "source": [
    "**Вывод** \n",
    " Пропущенные значения в строках 'total_income' и 'days_employe' встречаются одновременно, их число одинаково что может говорить о неслучайности пропусков, и возможной технической причине невозможности заполнить эти поля клиентами. Столбцы с доходом и отработанными днями - количественные, их значение может быть заменено средними или медианными величинами (доход - может соответствовать медиане по группе)."
   ]
  },
  {
   "cell_type": "markdown",
   "metadata": {},
   "source": [
    "В информации всего 12 признаков по каждому заёмщику. Таблица содержит пропущенные значения в столбцах 'days_employed' и 'total_income'. Первичная оценка показывает визуальную неоднородность и некорректность некоторых данных (разные регистры, отрицательные значения в трудовом стаже)"
   ]
  },
  {
   "cell_type": "markdown",
   "metadata": {},
   "source": [
    "## Шаг 2. Предобработка данных"
   ]
  },
  {
   "cell_type": "markdown",
   "metadata": {},
   "source": [
    "### Обработка пропусков"
   ]
  },
  {
   "cell_type": "markdown",
   "metadata": {},
   "source": [
    "***2.1.1 Анализ и заполнение столбца days_employed.***\n",
    "\n",
    "Для заполнения пропущенных значений используем два показателя: **среднее арифм**. значение либо **медианное** по группировкам (профессия, возраст) 'days_employed'. \n",
    "\n",
    "Для первичного анализа проверим средние и медианные значения по всему столбцу days_employed:"
   ]
  },
  {
   "cell_type": "code",
   "execution_count": 5,
   "metadata": {
    "scrolled": true
   },
   "outputs": [
    {
     "name": "stdout",
     "output_type": "stream",
     "text": [
      "Среднее арифметическое по столбцу \"трудовой стаж\": 63046 дней, или 172 года.\n",
      "Медианное значение по столбцу \"трудовой стаж\": -1203 дней, или -3 года.\n"
     ]
    }
   ],
   "source": [
    "print ('Среднее арифметическое по столбцу \"трудовой стаж\":', int(df['days_employed'].mean()), \n",
    "       'дней, или', int(df['days_employed'].mean()/365.25), 'года.' )\n",
    "print ('Медианное значение по столбцу \"трудовой стаж\":', int(df['days_employed'].median()), \n",
    "       'дней, или', int(df['days_employed'].median()/365.25), 'года.' )"
   ]
  },
  {
   "cell_type": "markdown",
   "metadata": {},
   "source": [
    "Из полученных данных очевидно, что указанные **данные по столбцу** - **неоднородны и (или) некорректны** по своему формату или значению: \n",
    "\n",
    "1. в первом случае среднее арифм. значение превышающее возраст любого человека, живущего на Земле - 172 года;   \n",
    "2. во втором случае стаж имеет отрицательное значение) -  (-3) года.  "
   ]
  },
  {
   "cell_type": "markdown",
   "metadata": {},
   "source": [
    "заменим все отрицательные значения на противоположные по знаку:"
   ]
  },
  {
   "cell_type": "code",
   "execution_count": 6,
   "metadata": {},
   "outputs": [],
   "source": [
    "def negative(days):\n",
    "    if days < 0:\n",
    "        positive = - days\n",
    "        return positive\n",
    "    else:\n",
    "        positive = float(days)\n",
    "        return positive\n",
    "    \n",
    "    \n",
    "df['days_employed'] = df['days_employed'].apply(negative)"
   ]
  },
  {
   "cell_type": "markdown",
   "metadata": {},
   "source": [
    "Вычислим и заменим экстремальные значения столбца 'days_employed'медианными. Для этого необходимо сравнить значение столбца с максимально возможным стажем (в днях). Для начала необходимо найти трудовой стаж. Для этого вычтем из возраста клиента минимально возможный легальный возраст начала трудовой деятельности - 14 лет. Умножим полученное значение на среднее количество дней в году (365,25). \n",
    "\n",
    "Сначала создадим столбец с максимально возможным легальным трудовым стажем"
   ]
  },
  {
   "cell_type": "code",
   "execution_count": 7,
   "metadata": {},
   "outputs": [],
   "source": [
    "df['days_employed_max'] = (df['dob_years'] - 14)*365.25\n",
    "df = df.astype({'days_employed_max': \"float64\"})\n",
    "#df.info()\n"
   ]
  },
  {
   "cell_type": "markdown",
   "metadata": {},
   "source": [
    "Оценим количество некорректных данных в столбце стажа 'days_employed', превышающих максимальные величины."
   ]
  },
  {
   "cell_type": "code",
   "execution_count": 8,
   "metadata": {},
   "outputs": [
    {
     "name": "stdout",
     "output_type": "stream",
     "text": [
      "Количество строк с превышение макс. возможного трудового стажа: 3534\n"
     ]
    }
   ],
   "source": [
    "days_employed_uncorrect = df[df['days_employed'] > df['days_employed_max']]['days_employed'].count()\n",
    "print ('Количество строк с превышение макс. возможного трудового стажа:', days_employed_uncorrect) \n"
   ]
  },
  {
   "cell_type": "markdown",
   "metadata": {},
   "source": [
    "3534 некорректных значений против 21525 строк всего (меньше половины) позволяет использовать медианное значение для замещения некорректных значений."
   ]
  },
  {
   "cell_type": "code",
   "execution_count": 9,
   "metadata": {},
   "outputs": [
    {
     "name": "stdout",
     "output_type": "stream",
     "text": [
      "Медиана по трудовому стажу - 2194 дней\n",
      "Cредняя по трудовому стажу - 66914 дней\n",
      "Максимально возможный стаж самого взрослого клиента 22280 дней\n"
     ]
    }
   ],
   "source": [
    "median_employed = df['days_employed'].median()\n",
    "mean_employed = df['days_employed'].mean()\n",
    "max_days_employed_oldest_client = df['days_employed_max'].max()\n",
    "print ('Медиана по трудовому стажу -', int(median_employed), 'дней')\n",
    "print ('Cредняя по трудовому стажу -', int(mean_employed), 'дней')\n",
    "print ('Максимально возможный стаж самого взрослого клиента', int(max_days_employed_oldest_client), 'дней')"
   ]
  },
  {
   "cell_type": "markdown",
   "metadata": {},
   "source": [
    "Как видно средняя величина по стажу показывает наличие экстремальных значений. Заменим экстремальные значения на медианные"
   ]
  },
  {
   "cell_type": "code",
   "execution_count": 10,
   "metadata": {},
   "outputs": [],
   "source": [
    "\n",
    "def extremal_days(row):\n",
    "    days_employed = row['days_employed'] \n",
    "    days_employed_max = row['days_employed_max']  #предварительно создал столбец с максимально возможным стажем в днях \n",
    "    if days_employed > days_employed_max:\n",
    "        return median_employed #возвращаю медиану если завышено значение\n",
    "    else:\n",
    "        return days_employed #возвращаю нормальное значение\n",
    "\n",
    "df['days_employed'] = df.apply(extremal_days, axis = 1)\n",
    "\n",
    "#print (df.head(10))\n",
    "\n"
   ]
  },
  {
   "cell_type": "markdown",
   "metadata": {},
   "source": [
    "После замены экстремальных величин, медианные и средние значения стажа показывают следующие значения"
   ]
  },
  {
   "cell_type": "code",
   "execution_count": 11,
   "metadata": {},
   "outputs": [
    {
     "name": "stdout",
     "output_type": "stream",
     "text": [
      "Медиана по трудовому стажу - 2194 дней\n",
      "Cредняя по трудовому стажу - 2317 дней\n"
     ]
    }
   ],
   "source": [
    "median_employed = df['days_employed'].median()\n",
    "mean_employed = df['days_employed'].mean()\n",
    "print ('Медиана по трудовому стажу -', int(median_employed), 'дней')\n",
    "print ('Cредняя по трудовому стажу -', int(mean_employed), 'дней')"
   ]
  },
  {
   "cell_type": "markdown",
   "metadata": {},
   "source": [
    "Заменим отсутствующие значения медианными **по группе занятости.**\n",
    "\n",
    "Для начала определим медианные значения по группам занятости:"
   ]
  },
  {
   "cell_type": "code",
   "execution_count": 12,
   "metadata": {},
   "outputs": [
    {
     "name": "stdout",
     "output_type": "stream",
     "text": [
      "2194.220566878695 1586.8763788059773\n"
     ]
    }
   ],
   "source": [
    "median_employee_days = df[df['income_type'] == 'сотрудник']['days_employed'].median()\n",
    "median_companion_days = df[df['income_type'] == 'компаньон']['days_employed'].median()\n",
    "median_retiree_days = df[df['income_type'] == 'пенсионер']['days_employed'].median()\n",
    "median_gov_days = df[df['income_type'] == 'госслужащий']['days_employed'].median()\n",
    "median_entrepreneur_days = df[df['income_type'] == 'предприниматель']['days_employed'].median()\n",
    "\n",
    "print (median_retiree_days, median_employee_days)"
   ]
  },
  {
   "cell_type": "code",
   "execution_count": 13,
   "metadata": {},
   "outputs": [
    {
     "name": "stdout",
     "output_type": "stream",
     "text": [
      "2261.6785176953963\n",
      "2010.6944743939828\n"
     ]
    }
   ],
   "source": [
    "def filling_nan_days(row):\n",
    "    daysemployed = row['days_employed']\n",
    "    incometype = row['income_type']\n",
    "    isnull_days = row['nana_days']\n",
    "    \n",
    "    if incometype == 'сотрудник' and isnull_days == True:\n",
    "        return median_employee_days\n",
    "    elif incometype == 'компаньон' and isnull_days == True:\n",
    "        return median_companion_days\n",
    "    elif incometype == 'пенсионер' and isnull_days == True:\n",
    "        return median_retiree_days\n",
    "    elif incometype == 'госслужащий' and isnull_days == True:\n",
    "        return median_gov_days\n",
    "    elif incometype == 'предприниматель' and isnull_days == True:\n",
    "        return median_entrepreneur_days\n",
    "    else:\n",
    "        return daysemployed\n",
    "\n",
    "df['days_employed'] = df.apply(filling_nan_days, axis = 1)\n",
    "\n",
    "#df.info()\n",
    "print (df['days_employed'].mean())\n",
    "print (df['days_employed'].median())"
   ]
  },
  {
   "cell_type": "markdown",
   "metadata": {},
   "source": [
    "**Вывод** по столбцу 'days_employed'\n",
    "\n",
    "Данные по группам заменены, медиана и средняя показывают сопоставимые значения, замена критических значений стажа прошла успешно. Столбец 'days_employed' пригоден для дальнейшего анализа.\n"
   ]
  },
  {
   "cell_type": "code",
   "execution_count": 14,
   "metadata": {},
   "outputs": [],
   "source": [
    "#df[df['income_type'] == 'сотрудник']['days_employed'].fillna(median_employee_days, inplace = True)\n",
    "#df[df['income_type'] == 'пенсионер']['days_employed'].fillna(median_retiree_days, inplace = True)\n",
    "#df[df['income_type'] == 'госслужащий']['days_employed'].fillna(median_gov_days, inplace = True)\n",
    "#df[df['income_type'] == 'предприниматель']['days_employed'].fillna(median_entrepreneur_days, inplace = True)\n",
    "#df[df['income_type'] == 'компаньон']['days_employed'].fillna(median_companion_days, inplace = True)\n",
    "\n",
    "#ничего не заполнялось в df, хотя вроде inplace = True. Возможно я неправильно понимаю смысл этого метода или применяю не так"
   ]
  },
  {
   "cell_type": "markdown",
   "metadata": {},
   "source": [
    "***2.1.2 Анализ столбца total_income.***"
   ]
  },
  {
   "cell_type": "markdown",
   "metadata": {},
   "source": [
    "Оценим медианные и средние значения по доходу"
   ]
  },
  {
   "cell_type": "code",
   "execution_count": 15,
   "metadata": {},
   "outputs": [
    {
     "name": "stdout",
     "output_type": "stream",
     "text": [
      "145017.93753253992\n",
      "167422.3022081719\n"
     ]
    }
   ],
   "source": [
    "print (df['total_income'].median())\n",
    "print (df['total_income'].mean())"
   ]
  },
  {
   "cell_type": "markdown",
   "metadata": {},
   "source": [
    "Заменим пропущенные значения медианными, соответствующими виду занятости. Ранее объявляли переменную skipped_income_type, отображающую вид занятости клиентов с пропущенными значениями"
   ]
  },
  {
   "cell_type": "code",
   "execution_count": 16,
   "metadata": {},
   "outputs": [
    {
     "name": "stdout",
     "output_type": "stream",
     "text": [
      "сотрудник          1105\n",
      "компаньон           508\n",
      "пенсионер           413\n",
      "госслужащий         147\n",
      "предприниматель       1\n",
      "Name: income_type, dtype: int64\n"
     ]
    }
   ],
   "source": [
    "print (skipped_income_types)"
   ]
  },
  {
   "cell_type": "markdown",
   "metadata": {},
   "source": [
    "Создаём переменные - медианные значения дохода по видам деятельности. И далее создаём функцию для замены пропущенных значений. Ранее был создан столбец 'nana_income' - в котором содержатся булевы значения: TRUE - если строка содержит NaN в столбце total_income."
   ]
  },
  {
   "cell_type": "code",
   "execution_count": 17,
   "metadata": {},
   "outputs": [],
   "source": [
    "median_employee = df[df['income_type'] == 'сотрудник']['total_income'].median()\n",
    "median_companion = df[df['income_type'] == 'компаньон']['total_income'].median()\n",
    "median_retiree = df[df['income_type'] == 'пенсионер']['total_income'].median()\n",
    "median_gov = df[df['income_type'] == 'госслужащий']['total_income'].median()\n",
    "median_entrepreneur = df[df['income_type'] == 'предприниматель']['total_income'].median()\n",
    "\n",
    "def income_median(rowd):\n",
    "    income_type = rowd['income_type']\n",
    "    nana_income = rowd['nana_income']\n",
    "    income = rowd['total_income']\n",
    "    \n",
    "    if (nana_income == True) and (income_type == 'сотрудник'):\n",
    "        return median_employee\n",
    "    elif (nana_income == True) and (income_type == 'компаньон'):\n",
    "        return median_companion\n",
    "    elif (nana_income == True) and (income_type == 'пенсионер'):\n",
    "        return median_retiree\n",
    "    elif (nana_income == True) and (income_type == 'госслужащий'):\n",
    "        return median_gov\n",
    "    elif (nana_income == True) and (income_type == 'предприниматель'):\n",
    "        return median_entrepreneur\n",
    "    else:\n",
    "        return income\n",
    "        \n",
    "df['total_income_right'] = df.apply(income_median, axis = 1)\n",
    "\n",
    "    \n",
    "df = df.drop(['nana_income', 'nana_days', 'days_employed_max'], axis = 1) #deleting extracolumns   \n"
   ]
  },
  {
   "cell_type": "code",
   "execution_count": 18,
   "metadata": {},
   "outputs": [],
   "source": [
    "#print (df.info())"
   ]
  },
  {
   "cell_type": "code",
   "execution_count": 19,
   "metadata": {},
   "outputs": [],
   "source": [
    "df['total_income'] = df['total_income_right']\n",
    "df = df.drop(['total_income_right'], axis = 1) #deleting extracolumns   \n",
    "#df.info() #cheking non-null objects"
   ]
  },
  {
   "cell_type": "markdown",
   "metadata": {},
   "source": [
    "***2.1.3 Столбец 'children'***\n",
    "Оценим столбец 'children' на некорректные значения"
   ]
  },
  {
   "cell_type": "code",
   "execution_count": 20,
   "metadata": {},
   "outputs": [
    {
     "name": "stdout",
     "output_type": "stream",
     "text": [
      "before\n",
      " 0     14149\n",
      " 1      4818\n",
      " 2      2055\n",
      " 3       330\n",
      " 20       76\n",
      "-1        47\n",
      " 4        41\n",
      " 5         9\n",
      "Name: children, dtype: int64\n"
     ]
    }
   ],
   "source": [
    "print ('before')\n",
    "print (df['children'].value_counts())"
   ]
  },
  {
   "cell_type": "markdown",
   "metadata": {},
   "source": [
    "Заменим отрицательные значения столбца 'children' на положительные, а также показатель 20 приведем  к значению 2 ввиду явной недостоверности. выведем результат"
   ]
  },
  {
   "cell_type": "code",
   "execution_count": 21,
   "metadata": {},
   "outputs": [
    {
     "name": "stdout",
     "output_type": "stream",
     "text": [
      "after\n",
      "0    14149\n",
      "1     4865\n",
      "2     2131\n",
      "3      330\n",
      "4       41\n",
      "5        9\n",
      "Name: children, dtype: int64\n"
     ]
    }
   ],
   "source": [
    "def children_negative (row):\n",
    "    if row['children'] < 0:\n",
    "        row['children'] = - row['children']\n",
    "        return row['children']\n",
    "    elif  row['children'] == 20:\n",
    "        row['children'] = 2\n",
    "        return row['children']\n",
    "    else:\n",
    "        return row['children']\n",
    "print ('after')\n",
    "df['children'] = df.apply(children_negative, axis = 1)\n",
    "print (df['children'].value_counts())"
   ]
  },
  {
   "cell_type": "markdown",
   "metadata": {},
   "source": [
    "**Вывод** пропущенные данные заполнены, таблица пригодна к дальнейшему анализу."
   ]
  },
  {
   "cell_type": "markdown",
   "metadata": {},
   "source": [
    "***2.1.4 анализ столбца 'dob_years'***"
   ]
  },
  {
   "cell_type": "markdown",
   "metadata": {},
   "source": [
    "Проверим список уникальных значений столбца dob_years (возраст)"
   ]
  },
  {
   "cell_type": "code",
   "execution_count": 22,
   "metadata": {},
   "outputs": [
    {
     "data": {
      "text/plain": [
       "0     101\n",
       "19     14\n",
       "20     51\n",
       "21    111\n",
       "22    183\n",
       "Name: dob_years, dtype: int64"
      ]
     },
     "execution_count": 22,
     "metadata": {},
     "output_type": "execute_result"
    }
   ],
   "source": [
    "unique_years_old = df['dob_years'].value_counts()\n",
    "unique_years_old.sort_index (axis = 0).head(5)"
   ]
  },
  {
   "cell_type": "code",
   "execution_count": 23,
   "metadata": {},
   "outputs": [
    {
     "name": "stdout",
     "output_type": "stream",
     "text": [
      "Всего нулей 101\n",
      "Пенсионеров с нулевым возрастом 20\n"
     ]
    }
   ],
   "source": [
    "\n",
    "print ('Всего нулей', df[df['dob_years'] == 0]['dob_years'].count())\n",
    "\n",
    "print ('Пенсионеров с нулевым возрастом', df[(df['dob_years'] == 0) & (df['income_type'] == 'пенсионер')]['dob_years'].count())"
   ]
  },
  {
   "cell_type": "markdown",
   "metadata": {},
   "source": [
    "Выявлено: 101 новорожденный заёмщик, из которых 20 родились пенсионерами. Меняем значения согласно среднему возрасту по группе семейное положение и типу занятости (пенсионер). **Логика следующая: если непенсионер  - применяем среднюю по возрасту согласно семейному положению, если пенсионер - средняя по пенсионерам.**"
   ]
  },
  {
   "cell_type": "code",
   "execution_count": 24,
   "metadata": {},
   "outputs": [
    {
     "name": "stdout",
     "output_type": "stream",
     "text": [
      "женат / замужем          12380\n",
      "гражданский брак          4177\n",
      "Не женат / не замужем     2813\n",
      "в разводе                 1195\n",
      "вдовец / вдова             960\n",
      "Name: family_status, dtype: int64\n",
      "0    12380\n",
      "1     4177\n",
      "4     2813\n",
      "3     1195\n",
      "2      960\n",
      "Name: family_status_id, dtype: int64\n"
     ]
    }
   ],
   "source": [
    "print (df['family_status'].value_counts())\n",
    "print (df['family_status_id'].value_counts())"
   ]
  },
  {
   "cell_type": "code",
   "execution_count": 25,
   "metadata": {},
   "outputs": [
    {
     "name": "stdout",
     "output_type": "stream",
     "text": [
      "[42 36 33 32 53 27 43 50 35 41 40 65 54 56 26 48 24 21 57 67 28 63 62 47\n",
      " 34 68 25 31 30 20 49 37 45 61 64 44 52 46 23 38 39 51 59 29 60 55 58 71\n",
      " 22 73 66 69 19 72 70 74 75]\n"
     ]
    }
   ],
   "source": [
    "#print (df[df['dob_years'] == 0]['income_type'].value_counts() )\n",
    "#print (df[df['dob_years'] == 0]['gender'].value_counts() )\n",
    "#print (df[df['dob_years'] == 0]['children'].value_counts() )\n",
    "#print (df[df['dob_years'] == 0]['family_status'].value_counts() )\n",
    "mean_years_not_married = df[df['family_status_id'] == 4]['dob_years'].mean()\n",
    "mean_years_married = df[df['family_status_id'] == 0]['dob_years'].mean()\n",
    "mean_years_divorced = df[df['family_status_id'] == 3]['dob_years'].mean()\n",
    "mean_years_widow = df[df['family_status_id'] == 2]['dob_years'].mean()\n",
    "mean_years_inlaw = df[df['family_status_id'] == 1]['dob_years'].mean()\n",
    "mean_years_retire  = df[df['income_type'] == 'пенсионер']['dob_years'].mean()\n",
    "\n",
    "def zero_years_replace(row):\n",
    "    years_old  = row['dob_years']\n",
    "    family_status_id = row['family_status_id']\n",
    "    if (row['dob_years'] == 0) & (row['income_type'] != 'пенсионер') & (family_status_id == 0):\n",
    "        return int(mean_years_married)\n",
    "    elif (row['dob_years'] == 0) & (row['income_type'] != 'пенсионер') & (family_status_id == 1):\n",
    "        return int(mean_years_inlaw)\n",
    "    elif (row['dob_years'] == 0) & (row['income_type'] != 'пенсионер') & (family_status_id == 2):\n",
    "        return int(mean_years_widow)\n",
    "    elif (row['dob_years'] == 0) & (row['income_type'] != 'пенсионер') & (family_status_id == 3):\n",
    "        return int(mean_years_divorced)\n",
    "    elif (row['dob_years'] == 0) & (row['income_type'] != 'пенсионер') & (family_status_id == 4):\n",
    "        return int(mean_years_not_married)\n",
    "    elif (row['dob_years'] == 0) & (row['income_type'] == 'пенсионер'):\n",
    "        return int(mean_years_retire)\n",
    "    else: \n",
    "        return years_old\n",
    "        \n",
    "df['dob_years'] = df.apply(zero_years_replace, axis = 1)\n",
    "\n",
    "print (df['dob_years'].unique())"
   ]
  },
  {
   "cell_type": "markdown",
   "metadata": {},
   "source": [
    "### Замена типа данных"
   ]
  },
  {
   "cell_type": "markdown",
   "metadata": {},
   "source": [
    "Тип данных float встречается в двух столбцах 'days_employed' и 'total_income' и 'dob_years'. Изменим их типы данных."
   ]
  },
  {
   "cell_type": "code",
   "execution_count": 26,
   "metadata": {},
   "outputs": [
    {
     "name": "stdout",
     "output_type": "stream",
     "text": [
      "<class 'pandas.core.frame.DataFrame'>\n",
      "RangeIndex: 21525 entries, 0 to 21524\n",
      "Data columns (total 12 columns):\n",
      " #   Column            Non-Null Count  Dtype \n",
      "---  ------            --------------  ----- \n",
      " 0   children          21525 non-null  int64 \n",
      " 1   days_employed     21525 non-null  int64 \n",
      " 2   dob_years         21525 non-null  int64 \n",
      " 3   education         21525 non-null  object\n",
      " 4   education_id      21525 non-null  int64 \n",
      " 5   family_status     21525 non-null  object\n",
      " 6   family_status_id  21525 non-null  int64 \n",
      " 7   gender            21525 non-null  object\n",
      " 8   income_type       21525 non-null  object\n",
      " 9   debt              21525 non-null  int64 \n",
      " 10  total_income      21525 non-null  int64 \n",
      " 11  purpose           21525 non-null  object\n",
      "dtypes: int64(7), object(5)\n",
      "memory usage: 2.0+ MB\n"
     ]
    }
   ],
   "source": [
    "df['days_employed'] = df['days_employed'].astype('int')\n",
    "df['total_income'] = df['total_income'].astype('int')\n",
    "df ['dob_years'] = df['dob_years'].astype('int')\n",
    "df.info()"
   ]
  },
  {
   "cell_type": "markdown",
   "metadata": {},
   "source": [
    "**Вывод**"
   ]
  },
  {
   "cell_type": "markdown",
   "metadata": {},
   "source": [
    "Вещественные данные в датафрейме были заменены в столбцах 'days_employed' и 'total_income'. Замену производили с помощью метода astype() без предварительного округления. Дробная часть числа отработанных дней и доход составляет малую величину, не влияющую на общую картину исследования."
   ]
  },
  {
   "cell_type": "markdown",
   "metadata": {},
   "source": [
    "### Обработка дубликатов"
   ]
  },
  {
   "cell_type": "markdown",
   "metadata": {},
   "source": [
    "При первичной оценке формата таблицы в столбце 'education' были замечены разные регистры. Приведём разнородные регистры к нижнему."
   ]
  },
  {
   "cell_type": "code",
   "execution_count": 27,
   "metadata": {},
   "outputs": [],
   "source": [
    "df['education'] = df['education'].str.lower() #set from uppercase to lowercase\n",
    "df = df.drop_duplicates() \n",
    "#df.info()\n",
    "#df['purpose'].value_counts()"
   ]
  },
  {
   "cell_type": "markdown",
   "metadata": {},
   "source": [
    "**Вывод** дубликаты составили 71 единицы или 0,32% от числа строк. Исчезающе-малая величина в рамках задачи. Часть дубликатов выявлена после приведения регистра в нижний, что говорит о возможном повторном введении данных в датафрейм в ручном режиме (возможно со стороны клиента)"
   ]
  },
  {
   "cell_type": "markdown",
   "metadata": {},
   "source": [
    "### Лемматизация"
   ]
  },
  {
   "cell_type": "markdown",
   "metadata": {},
   "source": [
    "Приведём ячейку с целями кредита каждой строки к лемме, выведем леммы в отдельный столбец 'purpose_ex'. Используем функцию для строки и метод apply."
   ]
  },
  {
   "cell_type": "code",
   "execution_count": 28,
   "metadata": {},
   "outputs": [
    {
     "data": {
      "text/plain": [
       "Counter({' ': 55021,\n",
       "         'покупка': 5897,\n",
       "         'жилье': 4460,\n",
       "         'приобретение': 461,\n",
       "         'автомобиль': 4306,\n",
       "         'дополнительный': 906,\n",
       "         'образование': 4013,\n",
       "         'сыграть': 765,\n",
       "         'свадьба': 2323,\n",
       "         'операция': 2604,\n",
       "         'с': 2918,\n",
       "         'на': 2221,\n",
       "         'проведение': 767,\n",
       "         'для': 1289,\n",
       "         'семья': 638,\n",
       "         'недвижимость': 6351,\n",
       "         'коммерческий': 1311,\n",
       "         'жилой': 1230,\n",
       "         'строительство': 1878,\n",
       "         'собственный': 635,\n",
       "         'подержать': 853,\n",
       "         'свой': 2230,\n",
       "         'со': 627,\n",
       "         'заниматься': 904,\n",
       "         'сделка': 941,\n",
       "         'получение': 1314,\n",
       "         'высокий': 1374,\n",
       "         'подержанный': 111,\n",
       "         'профильный': 436,\n",
       "         'сдача': 651,\n",
       "         'ремонт': 607,\n",
       "         ' \\n': 1})"
      ]
     },
     "metadata": {},
     "output_type": "display_data"
    }
   ],
   "source": [
    "purpose = df['purpose']\n",
    "#print (purpose)\n",
    "summary_purpose = str(' ')\n",
    "\n",
    "\n",
    "def text_maker_purpose ():\n",
    "    summary_purpose = str(' ')\n",
    "    for row in purpose:\n",
    "        summary_purpose = summary_purpose + row + ' '\n",
    "    return summary_purpose\n",
    "\n",
    "\n",
    "text_purpose = text_maker_purpose()\n",
    "lemmas = m.lemmatize (text_purpose)\n",
    " \n",
    "counter_lemmas = Counter(lemmas)\n",
    "display (counter_lemmas)"
   ]
  },
  {
   "cell_type": "markdown",
   "metadata": {},
   "source": [
    "**Вывод** После проведённой лемматизации возможно визуально оценить основные группы (категории) целей займов. Всего 4 основные группы (по убыванию количества упоминаний): **недвижимость (жильё), автомобиль, образование, свадьба.**"
   ]
  },
  {
   "cell_type": "markdown",
   "metadata": {},
   "source": [
    "### Категоризация данных"
   ]
  },
  {
   "cell_type": "markdown",
   "metadata": {},
   "source": [
    "Для категоризации заёмщиков по целям, необходимо разбить их на укрупнённые группы. Воспользуемся массивом найденных лемм.\n",
    "Для проверки частоты упоминаний различных целей займов воспользуемся счётчиком:"
   ]
  },
  {
   "cell_type": "code",
   "execution_count": 29,
   "metadata": {},
   "outputs": [
    {
     "name": "stdout",
     "output_type": "stream",
     "text": [
      "0                             [покупка,  , жилье, \\n]\n",
      "1                   [приобретение,  , автомобиль, \\n]\n",
      "2                             [покупка,  , жилье, \\n]\n",
      "3                [дополнительный,  , образование, \\n]\n",
      "4                           [сыграть,  , свадьба, \\n]\n",
      "                             ...                     \n",
      "21520                  [операция,  , с,  , жилье, \\n]\n",
      "21521               [сделка,  , с,  , автомобиль, \\n]\n",
      "21522                              [недвижимость, \\n]\n",
      "21523    [на,  , покупка,  , свой,  , автомобиль, \\n]\n",
      "21524             [на,  , покупка,  , автомобиль, \\n]\n",
      "Name: subcategory_lemm, Length: 21453, dtype: object\n"
     ]
    }
   ],
   "source": [
    "def subcategory_lemm (row):\n",
    "    purpose_column = row['purpose']\n",
    "    lemma_column = m.lemmatize(purpose_column)\n",
    "    return lemma_column\n",
    "df['subcategory_lemm']= df.apply(subcategory_lemm, axis = 1)\n",
    "print (df['subcategory_lemm'])\n"
   ]
  },
  {
   "cell_type": "markdown",
   "metadata": {},
   "source": [
    "**свадьба - 2348.0    \n",
    "недвижимость и жильё - 10840.0** из них коммерческая и под сдачу 1968.0, ремонт 612.0\n",
    "\n",
    "**автокредит - 4315.0** и **образование - 4022.0**\n"
   ]
  },
  {
   "cell_type": "markdown",
   "metadata": {},
   "source": [
    "Добавим столбец с укрупнёнными категориями целей займа"
   ]
  },
  {
   "cell_type": "markdown",
   "metadata": {},
   "source": []
  },
  {
   "cell_type": "code",
   "execution_count": 30,
   "metadata": {},
   "outputs": [
    {
     "name": "stdout",
     "output_type": "stream",
     "text": [
      "0                      недвижимость\n",
      "1                        автокредит\n",
      "2                      недвижимость\n",
      "3        образование дополнительное\n",
      "4                           свадьба\n",
      "                    ...            \n",
      "21520                  недвижимость\n",
      "21521                    автокредит\n",
      "21522                  недвижимость\n",
      "21523                    автокредит\n",
      "21524                    автокредит\n",
      "Name: purpose_category, Length: 21453, dtype: object\n"
     ]
    }
   ],
   "source": [
    "def purpose_cat(row):\n",
    "    purpose = row['subcategory_lemm']\n",
    "    if ('недвижимость' or 'жилье') and ('коммерческий' or 'сдача') in purpose:\n",
    "        return 'недвижимость коммерческая'\n",
    "    elif ('автомобиль') in purpose:\n",
    "        return ('автокредит')\n",
    "    elif ('ремонт') in purpose:\n",
    "        return ('ремонт жилья')\n",
    "    elif ('свадьба') in purpose:\n",
    "        return ('свадьба')\n",
    "    elif ('дополнительный') in purpose:\n",
    "        return ('образование дополнительное')\n",
    "    elif ('высокий') in purpose:\n",
    "        return ('высшее образование')\n",
    "    elif ('образование') in purpose:\n",
    "        return ('образование')\n",
    "       \n",
    "    else:\n",
    "        return ('недвижимость')\n",
    "    \n",
    "df['purpose_category'] = df.apply(purpose_cat, axis = 1)\n",
    "print (df['purpose_category'])"
   ]
  },
  {
   "cell_type": "markdown",
   "metadata": {},
   "source": [
    "**Вывод** Датафрейм получил дополнительный столбец с укрупнёной категорией по целям займа. Данные готовы для решения задач."
   ]
  },
  {
   "cell_type": "markdown",
   "metadata": {},
   "source": [
    "## Шаг 3. Ответьте на вопросы"
   ]
  },
  {
   "cell_type": "markdown",
   "metadata": {},
   "source": [
    "- Есть ли зависимость между наличием детей и возвратом кредита в срок?"
   ]
  },
  {
   "cell_type": "markdown",
   "metadata": {},
   "source": [
    "Оценим долю лиц имевших просрочки к общему числу соответствующей группы"
   ]
  },
  {
   "cell_type": "code",
   "execution_count": 31,
   "metadata": {},
   "outputs": [
    {
     "name": "stdout",
     "output_type": "stream",
     "text": [
      "Доля лиц с просрочками в зависимости от числа детей\n",
      "children\n",
      "0    0.075444\n",
      "1    0.091658\n",
      "2    0.094925\n",
      "3    0.081818\n",
      "4    0.097561\n",
      "5    0.000000\n",
      "Name: debt, dtype: float64\n"
     ]
    }
   ],
   "source": [
    "print ('Доля лиц с просрочками в зависимости от числа детей')\n",
    "print (df.groupby('children')['debt'].sum() / df.groupby('children')['debt'].count())"
   ]
  },
  {
   "cell_type": "markdown",
   "metadata": {},
   "source": [
    "Как видно, зависимость есть, однако наличие детей у лиц старшего и младшего возраста может влиять на просрочки по-разному. Проверим эту гипотезу. Для этого определим медианный возраст, затем определим долю лиц с просрочками с возрастом ниже и выше медианного. Просрочки у лиц, чьё число детей составляет 20 - вероятно говорит о присутствии заведомо ложной информации, представленной в кредитное учреждение."
   ]
  },
  {
   "cell_type": "code",
   "execution_count": 32,
   "metadata": {},
   "outputs": [
    {
     "name": "stdout",
     "output_type": "stream",
     "text": [
      "Медианный возраст (лет) 43.0\n",
      "Доля клиентов с просрочками в возрасте ниже медианного:\n",
      "children\n",
      "0    0.096072\n",
      "1    0.100825\n",
      "2    0.098536\n",
      "3    0.090253\n",
      "4    0.058824\n",
      "5    0.000000\n",
      "Name: debt, dtype: float64\n",
      "________________________________________________\n",
      "Доля клиентов с просрочками в возрасте выше медианного:\n",
      "children\n",
      "0    0.062806\n",
      "1    0.067424\n",
      "2    0.066434\n",
      "3    0.051282\n",
      "4    0.285714\n",
      "5    0.000000\n",
      "Name: debt, dtype: float64\n"
     ]
    }
   ],
   "source": [
    "print ('Медианный возраст (лет)', df['dob_years'].median())\n",
    "\n",
    "print ('Доля клиентов с просрочками в возрасте ниже медианного:')\n",
    "df_lower_median_dob = df[df['dob_years'] < 43.0]\n",
    "print (df_lower_median_dob.groupby('children')['debt'].sum() / df_lower_median_dob.groupby('children')['debt'].count())\n",
    "print ('________________________________________________')\n",
    "print ('Доля клиентов с просрочками в возрасте выше медианного:')\n",
    "df_upper_median_dob = df[df['dob_years'] > 43.0]\n",
    "print (df_upper_median_dob.groupby('children')['debt'].sum() / df_upper_median_dob.groupby('children')['debt'].count())"
   ]
  },
  {
   "cell_type": "markdown",
   "metadata": {},
   "source": [
    "Как видно, старшая возрастная категория с 4мя детьми обладает крайне высокими значениями. Оценим отдельно эту категорию заёмщиков."
   ]
  },
  {
   "cell_type": "code",
   "execution_count": 33,
   "metadata": {},
   "outputs": [
    {
     "data": {
      "text/plain": [
       "на покупку автомобиля                     2\n",
       "строительство собственной недвижимости    1\n",
       "покупка жилой недвижимости                1\n",
       "свой автомобиль                           1\n",
       "заняться высшим образованием              1\n",
       "получение дополнительного образования     1\n",
       "Name: purpose, dtype: int64"
      ]
     },
     "execution_count": 33,
     "metadata": {},
     "output_type": "execute_result"
    }
   ],
   "source": [
    "children_four_old = df[(df['children'] == 4) & (df['dob_years'] > 42)]\n",
    "children_four_old['purpose'].value_counts()"
   ]
  },
  {
   "cell_type": "markdown",
   "metadata": {},
   "source": [
    "**Вывод** наличие детей влияет на процент просрочек, но в меньшей степени на старшую возрастную категорию, что вероятно обусловлено недостоверной информацией. Среди реальных групп наибольшее число просрочек наблюдается у группы с **четырьмя детьми**, причём у старшей возрастной категории доля невозвратов составляет 28,57% против 8 - 10% в остальных категориях, что может быть обусловлено как **малой выборкой так и социально-экономическим профилем заёмщиков этой категории**."
   ]
  },
  {
   "cell_type": "markdown",
   "metadata": {},
   "source": [
    "- Есть ли зависимость между семейным положением и возвратом кредита в срок?"
   ]
  },
  {
   "cell_type": "markdown",
   "metadata": {},
   "source": []
  },
  {
   "cell_type": "code",
   "execution_count": 34,
   "metadata": {},
   "outputs": [
    {
     "name": "stdout",
     "output_type": "stream",
     "text": [
      "Доля клиентов с просрочками в возрасте выше медианного:\n",
      "family_status\n",
      "Не женат / не замужем    0.097509\n",
      "в разводе                0.071130\n",
      "вдовец / вдова           0.065693\n",
      "гражданский брак         0.093494\n",
      "женат / замужем          0.075452\n",
      "Name: debt, dtype: float64\n",
      "family_status\n",
      "Не женат / не замужем    38.609964\n",
      "в разводе                45.917992\n",
      "вдовец / вдова           56.811262\n",
      "гражданский брак         42.286024\n",
      "женат / замужем          43.728260\n",
      "Name: dob_years, dtype: float64\n"
     ]
    }
   ],
   "source": [
    "print ('Доля клиентов с просрочками в возрасте выше медианного:')\n",
    "print (df.groupby('family_status')['debt'].sum() / df.groupby('family_status')['debt'].count())\n",
    "print (df.groupby('family_status')['dob_years'].mean())"
   ]
  },
  {
   "cell_type": "markdown",
   "metadata": {},
   "source": [
    "**Вывод** Очевидно, чем чаще человек посещает ЗАГС, и чем он старше тем ниже вероятность просрочки по кредиту. \n",
    "Снижение доли просрочек после вступления в брак может быть объяснено созданием общего семейного бюджета. "
   ]
  },
  {
   "cell_type": "markdown",
   "metadata": {},
   "source": [
    "<div class=\"alert alert-success\">\n",
    "<b>Комментарий ревьюера: </b> Интересная интерпретация! :) </div>"
   ]
  },
  {
   "cell_type": "markdown",
   "metadata": {},
   "source": [
    "- Есть ли зависимость между уровнем дохода и возвратом кредита в срок?"
   ]
  },
  {
   "cell_type": "markdown",
   "metadata": {},
   "source": [
    "Рассмотрим средние доходы по видам занятости. "
   ]
  },
  {
   "cell_type": "code",
   "execution_count": 35,
   "metadata": {},
   "outputs": [
    {
     "data": {
      "text/plain": [
       "income_type\n",
       "в декрете           53829.000000\n",
       "студент             98201.000000\n",
       "безработный        131339.000000\n",
       "пенсионер          135250.604597\n",
       "сотрудник          159567.794280\n",
       "госслужащий        168862.543583\n",
       "компаньон          199451.225089\n",
       "предприниматель    499163.000000\n",
       "Name: total_income, dtype: float64"
      ]
     },
     "execution_count": 35,
     "metadata": {},
     "output_type": "execute_result"
    }
   ],
   "source": [
    "df.groupby('income_type')['total_income'].mean().sort_values(axis = 0, ascending = True)\n",
    "\n"
   ]
  },
  {
   "cell_type": "markdown",
   "metadata": {},
   "source": [
    "Виды занятости - определяющим образом влияют на уровень дохода. Проверим гипотезу зависимости возврата кредита в срок и вида занятости."
   ]
  },
  {
   "cell_type": "code",
   "execution_count": 36,
   "metadata": {},
   "outputs": [
    {
     "name": "stdout",
     "output_type": "stream",
     "text": [
      "сотрудник          11083\n",
      "компаньон           5078\n",
      "пенсионер           3829\n",
      "госслужащий         1457\n",
      "предприниматель        2\n",
      "безработный            2\n",
      "в декрете              1\n",
      "студент                1\n",
      "Name: income_type, dtype: int64\n",
      "________________________________________________________________\n",
      "Доля клиентов с просрочками в зависимости от типа занятости (уровня дохода):\n",
      "income_type\n",
      "безработный        0.500000\n",
      "в декрете          1.000000\n",
      "госслужащий        0.059025\n",
      "компаньон          0.074045\n",
      "пенсионер          0.056412\n",
      "предприниматель    0.000000\n",
      "сотрудник          0.095732\n",
      "студент            0.000000\n",
      "Name: debt, dtype: float64\n"
     ]
    }
   ],
   "source": [
    "print (df['income_type'].value_counts())\n",
    "\n",
    "print ('________________________________________________________________')\n",
    "print ('Доля клиентов с просрочками в зависимости от типа занятости (уровня дохода):')\n",
    "part_debt_negative = df.groupby('income_type')['debt'].sum() / df.groupby('income_type')['debt'].count()\n",
    "#print (part_debt_negative.sort_values(axis = 0, ascending = True))\n",
    "print (part_debt_negative)"
   ]
  },
  {
   "cell_type": "markdown",
   "metadata": {},
   "source": [
    "Как видно - выборка по предпринимателям, безработным, студентам, и декретным - крайне мала и не репрезентативна. Введём новый столбец, с градацией дохода: 'низкий', 'ниже среднего', 'выше среднего', 'высокий' с границами по процентилям 25, 50, 75."
   ]
  },
  {
   "cell_type": "code",
   "execution_count": 37,
   "metadata": {},
   "outputs": [],
   "source": [
    "#mean_income_total = int(df['total_income'].mean())\n",
    "#print (df['total_income'].describe())\n",
    "\n",
    "def range_income(row):\n",
    "    total_income_r = row['total_income']\n",
    "    if total_income_r > 195820:    \n",
    "        return 'высокий доход'\n",
    "    elif 142594 < total_income_r < 195820:\n",
    "        return 'доход выше среднего'\n",
    "    elif 107623 < total_income_r < 142594:\n",
    "        return 'доход ниже среднего'\n",
    "    else:\n",
    "        return 'низкий доход'\n",
    "    \n",
    "df['category_of_income'] = df.apply(range_income, axis = 1)\n"
   ]
  },
  {
   "cell_type": "markdown",
   "metadata": {},
   "source": [
    "Распечатаем долю клиентов с просрочками в зависимости от уровня дохода."
   ]
  },
  {
   "cell_type": "code",
   "execution_count": 38,
   "metadata": {},
   "outputs": [
    {
     "name": "stdout",
     "output_type": "stream",
     "text": [
      "Доля клиентов с просрочками в зависимости от уровня дохода:\n",
      "category_of_income\n",
      "высокий доход          0.071402\n",
      "доход выше среднего    0.085382\n",
      "доход ниже среднего    0.087321\n",
      "низкий доход           0.081610\n",
      "Name: debt, dtype: float64\n"
     ]
    }
   ],
   "source": [
    "print ('Доля клиентов с просрочками в зависимости от уровня дохода:')\n",
    "print (df.groupby('category_of_income')['debt'].sum() / df.groupby('category_of_income')['debt'].count())"
   ]
  },
  {
   "cell_type": "markdown",
   "metadata": {},
   "source": [
    "**Вывод** Оценка зависимости уровня дохода от просрочек показала незначительное влияние уровня дохода от доли клиентов с просрочками. ***При этом клиенты с высоким доходом реже отдают кредиты с просрочками (показатель меньше на 1.4%).***"
   ]
  },
  {
   "cell_type": "markdown",
   "metadata": {},
   "source": [
    "- Как разные цели кредита влияют на его возврат в срок?"
   ]
  },
  {
   "cell_type": "code",
   "execution_count": 39,
   "metadata": {},
   "outputs": [
    {
     "name": "stdout",
     "output_type": "stream",
     "text": [
      "Доля просрочек в зависимости от целей кредита:\n"
     ]
    },
    {
     "data": {
      "text/plain": [
       "purpose_category\n",
       "автокредит                    0.093590\n",
       "высшее образование            0.093886\n",
       "недвижимость                  0.072866\n",
       "недвижимость коммерческая     0.075515\n",
       "образование                   0.087709\n",
       "образование дополнительное    0.098234\n",
       "ремонт жилья                  0.057661\n",
       "свадьба                       0.080069\n",
       "Name: debt, dtype: float64"
      ]
     },
     "execution_count": 39,
     "metadata": {},
     "output_type": "execute_result"
    }
   ],
   "source": [
    "print ('Доля просрочек в зависимости от целей кредита:')\n",
    "df.groupby('purpose_category')['debt'].sum() / df.groupby('purpose_category')['debt'].count()"
   ]
  },
  {
   "cell_type": "markdown",
   "metadata": {},
   "source": [
    "**Вывод** \n",
    "Наименьшая вероятность просрочки возникает при кредитах под ремонт недвижимости. Максимальная вероятность - получение дополнительного образования.\n",
    "\n",
    "Цель кредита для операций с коммерческой недвижимостью или жильём под сдачу в меньшей степени влияет на возврат кредита в срок по причине более вероятного возникновения дополнительного источника дохода в виде ренты."
   ]
  },
  {
   "cell_type": "markdown",
   "metadata": {},
   "source": [
    "## Шаг 4. Общий вывод"
   ]
  },
  {
   "cell_type": "markdown",
   "metadata": {},
   "source": [
    "Наличие детей влияет на просрочки по кредитам в большей степени в молодой категории заёмщиков, при этом в старшей возрастной категории группа с 4мя детьми показывает экстремальный результат, это может быть вызвано малой выборкой а также профилем дохода многодетных семей с взрослыми родителями. Бездетные заёмщики обеспечивают самые низкие показатели просрочек - 7,5%, следом идут заёмщики с 3 мя детьми 8,2%, заёмщики с 5ю детьми исходя из данных просрочек не имеют, что вероятно обусловлено малым числом выборки (всего 9 заёмщиков). \n",
    "<ul>\n",
    "<li>0  детей   7,5% просрочек</li>\n",
    "<li>1 ребёнок 9,17% просрочек</li>\n",
    "<li>2 ребёнка 9,5% просрочек</li>\n",
    "<li>3 ребёнка 8,2% просрочек</li>\n",
    "<li>4 ребёнка 9,8% просрочек</li>\n",
    "\n",
    "</ul>\n",
    "\n",
    "Что касается семейного положения - его влияние на процент просрочек более очевидно:\n",
    "\n",
    "\n",
    "<ul>\n",
    "<li>вдовец / вдова 6,5%</li>\n",
    "<li>в разводе 7,1%</li>\n",
    "<li>женат / замужем  7,5%</li>\n",
    "<li>гражданский брак 9,3%</li>\n",
    "<li>Не женат / не замужем 9,7%</li>\n",
    "\n",
    "</ul>\n",
    "\n",
    "Наиболее добросовестными заёмщиками являются вдовы и вдовцы, менее добросовестными - холостые. Этот критерий в большей степени подходит для расчёта скоринга.\n",
    "\n",
    "\n",
    "\n",
    "\n",
    "Вид занятости также отражается на процессе погашения кредита: наилучшими показателями обладают госслужащие и пенсионеры, что вероятнее всего обусловлено большей предсказуемостью их дохода по сравнению с иными категориями.\n",
    "\n",
    "<ul>\n",
    "<li>пенсионер     5,6% просрочек</li>\n",
    "<li>госслужащий   5,9% просрочек</li>\n",
    "<li>компаньон    7,4% просрочек</li>\n",
    "<li>сотрудник     9,5% просрочек</li>\n",
    "</ul>\n",
    "\n",
    "\n",
    "Анализ просрочек по целям кредита позволяет заметить следующее:\n",
    "\n",
    "<ul>\n",
    "<li>ремонт жилья                  5,8%</li>\n",
    "<li>недвижимость жилая            7,3%</li>\n",
    "<li>недвижимость коммерческая     7,6%</li>\n",
    "<li>свадьба                       8,0%</li>\n",
    "<li>образование                   8,8%</li>\n",
    "<li>автокредит                    9,4%</li>\n",
    "<li>высшее образование            9,4%</li>\n",
    "<li>образование дополнительное    9,8%</li>\n",
    "</ul>\n",
    "\n",
    "\n",
    "Недвижимость (покупка, ремонт) является одной из самых \"надёжных целей\" получения кредита, что вероятнее во много связано с изменением семейного положения заёмщика.\n"
   ]
  }
 ],
 "metadata": {
  "ExecuteTimeLog": [
   {
    "duration": 815,
    "start_time": "2021-07-02T07:48:41.081Z"
   },
   {
    "duration": 62,
    "start_time": "2021-07-02T07:49:01.397Z"
   },
   {
    "duration": 54,
    "start_time": "2021-07-02T07:50:47.645Z"
   },
   {
    "duration": 315,
    "start_time": "2021-07-03T10:35:50.820Z"
   },
   {
    "duration": 598,
    "start_time": "2021-07-03T10:35:55.909Z"
   },
   {
    "duration": 284,
    "start_time": "2021-07-03T10:36:01.237Z"
   },
   {
    "duration": 9,
    "start_time": "2021-07-03T10:36:14.458Z"
   },
   {
    "duration": 50,
    "start_time": "2021-07-03T10:36:37.623Z"
   },
   {
    "duration": 3,
    "start_time": "2021-07-03T10:37:46.128Z"
   },
   {
    "duration": 5,
    "start_time": "2021-07-03T10:39:21.964Z"
   },
   {
    "duration": 70,
    "start_time": "2021-07-03T10:39:47.908Z"
   },
   {
    "duration": 71,
    "start_time": "2021-07-03T10:39:52.911Z"
   },
   {
    "duration": 4,
    "start_time": "2021-07-03T10:39:58.348Z"
   },
   {
    "duration": 8,
    "start_time": "2021-07-03T10:41:19.622Z"
   },
   {
    "duration": 8,
    "start_time": "2021-07-03T10:43:34.085Z"
   },
   {
    "duration": 3,
    "start_time": "2021-07-03T10:43:47.624Z"
   },
   {
    "duration": 3,
    "start_time": "2021-07-03T10:43:50.256Z"
   },
   {
    "duration": 2,
    "start_time": "2021-07-03T10:43:57.775Z"
   },
   {
    "duration": 271,
    "start_time": "2021-07-03T10:44:03.409Z"
   },
   {
    "duration": 3,
    "start_time": "2021-07-03T10:44:06.559Z"
   },
   {
    "duration": 223,
    "start_time": "2021-07-03T10:44:11.270Z"
   },
   {
    "duration": 235,
    "start_time": "2021-07-03T10:44:23.073Z"
   },
   {
    "duration": 216,
    "start_time": "2021-07-03T10:44:35.857Z"
   },
   {
    "duration": 332,
    "start_time": "2021-07-03T10:44:41.536Z"
   },
   {
    "duration": 278,
    "start_time": "2021-07-03T10:44:54.012Z"
   },
   {
    "duration": 624,
    "start_time": "2021-07-03T10:45:33.778Z"
   },
   {
    "duration": 8,
    "start_time": "2021-07-03T10:45:41.058Z"
   },
   {
    "duration": 7,
    "start_time": "2021-07-03T10:45:49.018Z"
   },
   {
    "duration": 11,
    "start_time": "2021-07-03T10:47:48.361Z"
   },
   {
    "duration": 69,
    "start_time": "2021-07-03T11:42:58.602Z"
   },
   {
    "duration": 70,
    "start_time": "2021-07-03T11:43:21.843Z"
   },
   {
    "duration": 4,
    "start_time": "2021-07-03T11:56:56.329Z"
   },
   {
    "duration": 4,
    "start_time": "2021-07-03T11:57:57.921Z"
   },
   {
    "duration": 6,
    "start_time": "2021-07-03T12:02:32.491Z"
   },
   {
    "duration": 5,
    "start_time": "2021-07-03T12:02:39.927Z"
   },
   {
    "duration": 107,
    "start_time": "2021-07-03T12:02:39.933Z"
   },
   {
    "duration": -34,
    "start_time": "2021-07-03T12:02:40.076Z"
   },
   {
    "duration": 81,
    "start_time": "2021-07-03T12:05:02.253Z"
   },
   {
    "duration": 5,
    "start_time": "2021-07-03T12:05:12.545Z"
   },
   {
    "duration": 6,
    "start_time": "2021-07-03T12:07:09.199Z"
   },
   {
    "duration": 6,
    "start_time": "2021-07-03T12:07:37.428Z"
   },
   {
    "duration": 6,
    "start_time": "2021-07-03T12:08:12.209Z"
   },
   {
    "duration": 7,
    "start_time": "2021-07-03T12:08:53.453Z"
   },
   {
    "duration": 50,
    "start_time": "2021-07-03T12:34:22.100Z"
   },
   {
    "duration": 6,
    "start_time": "2021-07-03T12:34:22.152Z"
   },
   {
    "duration": 62,
    "start_time": "2021-07-03T12:34:34.499Z"
   },
   {
    "duration": 8,
    "start_time": "2021-07-03T12:34:34.563Z"
   },
   {
    "duration": 11,
    "start_time": "2021-07-03T12:39:18.552Z"
   },
   {
    "duration": 8,
    "start_time": "2021-07-03T12:45:19.307Z"
   },
   {
    "duration": 7,
    "start_time": "2021-07-03T12:46:36.313Z"
   },
   {
    "duration": 95,
    "start_time": "2021-07-03T13:06:33.480Z"
   },
   {
    "duration": 71,
    "start_time": "2021-07-03T13:06:46.902Z"
   },
   {
    "duration": 77,
    "start_time": "2021-07-03T13:07:31.935Z"
   },
   {
    "duration": 75,
    "start_time": "2021-07-03T13:07:42.703Z"
   },
   {
    "duration": 78,
    "start_time": "2021-07-03T13:08:34.435Z"
   },
   {
    "duration": 3,
    "start_time": "2021-07-03T13:09:12.063Z"
   },
   {
    "duration": 3,
    "start_time": "2021-07-03T13:09:19.161Z"
   },
   {
    "duration": 4,
    "start_time": "2021-07-03T13:09:47.771Z"
   },
   {
    "duration": 9,
    "start_time": "2021-07-03T13:41:38.916Z"
   },
   {
    "duration": 77,
    "start_time": "2021-07-03T13:42:05.116Z"
   },
   {
    "duration": 13,
    "start_time": "2021-07-03T13:42:13.101Z"
   },
   {
    "duration": 1049,
    "start_time": "2021-07-03T13:42:32.737Z"
   },
   {
    "duration": 137,
    "start_time": "2021-07-03T13:44:09.578Z"
   },
   {
    "duration": 978,
    "start_time": "2021-07-03T13:51:09.421Z"
   },
   {
    "duration": 51,
    "start_time": "2021-07-03T13:51:20.388Z"
   },
   {
    "duration": 11,
    "start_time": "2021-07-03T13:51:21.108Z"
   },
   {
    "duration": 8,
    "start_time": "2021-07-03T13:51:25.293Z"
   },
   {
    "duration": 13,
    "start_time": "2021-07-03T13:51:30.689Z"
   },
   {
    "duration": 13,
    "start_time": "2021-07-03T13:52:18.698Z"
   },
   {
    "duration": 12,
    "start_time": "2021-07-03T13:54:00.649Z"
   },
   {
    "duration": 14,
    "start_time": "2021-07-03T13:57:11.295Z"
   },
   {
    "duration": 12,
    "start_time": "2021-07-03T13:57:33.124Z"
   },
   {
    "duration": 56,
    "start_time": "2021-07-03T13:57:38.368Z"
   },
   {
    "duration": 11,
    "start_time": "2021-07-03T13:57:40.822Z"
   },
   {
    "duration": 11,
    "start_time": "2021-07-03T13:57:59.564Z"
   },
   {
    "duration": 7,
    "start_time": "2021-07-03T13:58:07.843Z"
   },
   {
    "duration": 13,
    "start_time": "2021-07-03T13:58:15.790Z"
   },
   {
    "duration": 18,
    "start_time": "2021-07-03T13:58:51.821Z"
   },
   {
    "duration": 9,
    "start_time": "2021-07-03T14:00:20.392Z"
   },
   {
    "duration": 9,
    "start_time": "2021-07-03T14:00:23.880Z"
   },
   {
    "duration": 5317,
    "start_time": "2021-07-03T14:14:04.073Z"
   },
   {
    "duration": 2,
    "start_time": "2021-07-03T14:14:23.871Z"
   },
   {
    "duration": 2,
    "start_time": "2021-07-03T14:14:26.020Z"
   },
   {
    "duration": 9,
    "start_time": "2021-07-03T14:17:52.816Z"
   },
   {
    "duration": 14,
    "start_time": "2021-07-03T14:17:58.993Z"
   },
   {
    "duration": 2,
    "start_time": "2021-07-03T14:20:42.067Z"
   },
   {
    "duration": 13,
    "start_time": "2021-07-03T14:22:10.028Z"
   },
   {
    "duration": 7,
    "start_time": "2021-07-03T14:22:45.545Z"
   },
   {
    "duration": 72,
    "start_time": "2021-07-03T14:23:38.468Z"
   },
   {
    "duration": 8,
    "start_time": "2021-07-03T14:23:52.381Z"
   },
   {
    "duration": 7,
    "start_time": "2021-07-03T14:24:03.025Z"
   },
   {
    "duration": 6,
    "start_time": "2021-07-03T14:24:42.107Z"
   },
   {
    "duration": 6,
    "start_time": "2021-07-03T14:25:00.466Z"
   },
   {
    "duration": 4,
    "start_time": "2021-07-03T14:27:54.899Z"
   },
   {
    "duration": 5,
    "start_time": "2021-07-03T14:27:56.148Z"
   },
   {
    "duration": 4,
    "start_time": "2021-07-03T14:28:48.260Z"
   },
   {
    "duration": 4,
    "start_time": "2021-07-03T14:30:12.850Z"
   },
   {
    "duration": 83,
    "start_time": "2021-07-03T14:30:23.153Z"
   },
   {
    "duration": 4,
    "start_time": "2021-07-03T14:30:29.284Z"
   },
   {
    "duration": 4,
    "start_time": "2021-07-03T14:30:39.692Z"
   },
   {
    "duration": 5,
    "start_time": "2021-07-03T14:30:47.747Z"
   },
   {
    "duration": 5,
    "start_time": "2021-07-03T14:33:42.518Z"
   },
   {
    "duration": 5,
    "start_time": "2021-07-03T14:33:51.325Z"
   },
   {
    "duration": 8,
    "start_time": "2021-07-03T14:36:25.126Z"
   },
   {
    "duration": 1160,
    "start_time": "2021-07-03T14:38:07.263Z"
   },
   {
    "duration": 1234,
    "start_time": "2021-07-03T14:42:00.276Z"
   },
   {
    "duration": 1006,
    "start_time": "2021-07-03T14:43:22.177Z"
   },
   {
    "duration": 7,
    "start_time": "2021-07-03T14:43:26.305Z"
   },
   {
    "duration": 1620,
    "start_time": "2021-07-03T14:43:29.189Z"
   },
   {
    "duration": 55,
    "start_time": "2021-07-03T14:43:34.351Z"
   },
   {
    "duration": 11,
    "start_time": "2021-07-03T14:43:35.338Z"
   },
   {
    "duration": 7,
    "start_time": "2021-07-03T14:43:37.410Z"
   },
   {
    "duration": 8,
    "start_time": "2021-07-03T14:43:38.039Z"
   },
   {
    "duration": 4,
    "start_time": "2021-07-03T14:43:39.220Z"
   },
   {
    "duration": 6,
    "start_time": "2021-07-03T14:43:41.050Z"
   },
   {
    "duration": 6,
    "start_time": "2021-07-03T14:43:43.721Z"
   },
   {
    "duration": 1103,
    "start_time": "2021-07-03T14:43:58.885Z"
   },
   {
    "duration": 76,
    "start_time": "2021-07-03T14:44:36.036Z"
   },
   {
    "duration": 79,
    "start_time": "2021-07-03T14:44:52.438Z"
   },
   {
    "duration": 72,
    "start_time": "2021-07-03T14:45:02.844Z"
   },
   {
    "duration": 74,
    "start_time": "2021-07-03T14:45:50.577Z"
   },
   {
    "duration": 1090,
    "start_time": "2021-07-03T14:45:58.936Z"
   },
   {
    "duration": 7,
    "start_time": "2021-07-03T14:47:00.564Z"
   },
   {
    "duration": 7,
    "start_time": "2021-07-03T14:47:03.730Z"
   },
   {
    "duration": 12,
    "start_time": "2021-07-03T14:47:18.353Z"
   },
   {
    "duration": 51,
    "start_time": "2021-07-03T14:47:31.661Z"
   },
   {
    "duration": 11,
    "start_time": "2021-07-03T14:47:32.592Z"
   },
   {
    "duration": 8,
    "start_time": "2021-07-03T14:47:34.067Z"
   },
   {
    "duration": 9,
    "start_time": "2021-07-03T14:47:34.640Z"
   },
   {
    "duration": 5,
    "start_time": "2021-07-03T14:47:35.541Z"
   },
   {
    "duration": 7,
    "start_time": "2021-07-03T14:47:38.456Z"
   },
   {
    "duration": 7,
    "start_time": "2021-07-03T14:47:42.694Z"
   },
   {
    "duration": 99,
    "start_time": "2021-07-03T14:49:06.006Z"
   },
   {
    "duration": 1021,
    "start_time": "2021-07-03T14:49:18.628Z"
   },
   {
    "duration": 1039,
    "start_time": "2021-07-03T14:50:26.735Z"
   },
   {
    "duration": 993,
    "start_time": "2021-07-03T14:50:28.760Z"
   },
   {
    "duration": 1013,
    "start_time": "2021-07-03T14:51:24.697Z"
   },
   {
    "duration": 1027,
    "start_time": "2021-07-03T14:53:17.758Z"
   },
   {
    "duration": 989,
    "start_time": "2021-07-03T14:54:44.064Z"
   },
   {
    "duration": 825,
    "start_time": "2021-07-04T08:03:20.623Z"
   },
   {
    "duration": 18,
    "start_time": "2021-07-04T08:03:21.451Z"
   },
   {
    "duration": 10,
    "start_time": "2021-07-04T08:03:21.974Z"
   },
   {
    "duration": 14,
    "start_time": "2021-07-04T08:03:23.009Z"
   },
   {
    "duration": 11,
    "start_time": "2021-07-04T08:03:23.503Z"
   },
   {
    "duration": 10,
    "start_time": "2021-07-04T08:03:24.977Z"
   },
   {
    "duration": 19,
    "start_time": "2021-07-04T08:03:26.011Z"
   },
   {
    "duration": 1373,
    "start_time": "2021-07-04T08:03:46.999Z"
   },
   {
    "duration": 1311,
    "start_time": "2021-07-04T08:04:50.205Z"
   },
   {
    "duration": 1405,
    "start_time": "2021-07-04T08:09:01.221Z"
   },
   {
    "duration": 1191,
    "start_time": "2021-07-04T08:09:26.534Z"
   },
   {
    "duration": 19,
    "start_time": "2021-07-04T08:40:42.036Z"
   },
   {
    "duration": 18,
    "start_time": "2021-07-04T08:41:00.503Z"
   },
   {
    "duration": 32,
    "start_time": "2021-07-04T08:41:10.004Z"
   },
   {
    "duration": 8,
    "start_time": "2021-07-04T08:41:54.828Z"
   },
   {
    "duration": 269,
    "start_time": "2021-07-04T08:43:23.464Z"
   },
   {
    "duration": 5,
    "start_time": "2021-07-04T08:45:58.739Z"
   },
   {
    "duration": 89,
    "start_time": "2021-07-04T08:46:26.754Z"
   },
   {
    "duration": 16,
    "start_time": "2021-07-04T08:48:17.563Z"
   },
   {
    "duration": 25,
    "start_time": "2021-07-04T08:48:36.577Z"
   },
   {
    "duration": 1230,
    "start_time": "2021-07-04T09:07:41.722Z"
   },
   {
    "duration": 1318,
    "start_time": "2021-07-04T09:08:14.192Z"
   },
   {
    "duration": 5,
    "start_time": "2021-07-04T09:08:50.633Z"
   },
   {
    "duration": 16,
    "start_time": "2021-07-04T09:09:10.646Z"
   },
   {
    "duration": 87,
    "start_time": "2021-07-04T09:09:39.356Z"
   },
   {
    "duration": 22,
    "start_time": "2021-07-04T09:09:39.658Z"
   },
   {
    "duration": 10,
    "start_time": "2021-07-04T09:09:40.728Z"
   },
   {
    "duration": 14,
    "start_time": "2021-07-04T09:09:41.223Z"
   },
   {
    "duration": 23,
    "start_time": "2021-07-04T09:09:41.562Z"
   },
   {
    "duration": 8,
    "start_time": "2021-07-04T09:09:42.945Z"
   },
   {
    "duration": 9,
    "start_time": "2021-07-04T09:09:44.092Z"
   },
   {
    "duration": 13,
    "start_time": "2021-07-04T09:09:59.819Z"
   },
   {
    "duration": 443,
    "start_time": "2021-07-04T09:13:15.999Z"
   },
   {
    "duration": 443,
    "start_time": "2021-07-04T09:16:50.630Z"
   },
   {
    "duration": 79,
    "start_time": "2021-07-04T09:31:05.414Z"
   },
   {
    "duration": 1221,
    "start_time": "2021-07-04T09:31:29.208Z"
   },
   {
    "duration": 1096,
    "start_time": "2021-07-04T09:37:47.985Z"
   },
   {
    "duration": 1094,
    "start_time": "2021-07-04T09:37:52.777Z"
   },
   {
    "duration": 1534,
    "start_time": "2021-07-04T09:38:10.937Z"
   },
   {
    "duration": 5,
    "start_time": "2021-07-04T09:38:49.411Z"
   },
   {
    "duration": 6760,
    "start_time": "2021-07-04T09:45:42.818Z"
   },
   {
    "duration": 1227,
    "start_time": "2021-07-04T09:49:42.705Z"
   },
   {
    "duration": 80,
    "start_time": "2021-07-04T09:51:04.537Z"
   },
   {
    "duration": 84,
    "start_time": "2021-07-04T09:51:08.101Z"
   },
   {
    "duration": 80,
    "start_time": "2021-07-04T09:51:26.687Z"
   },
   {
    "duration": 95,
    "start_time": "2021-07-04T09:51:58.627Z"
   },
   {
    "duration": 8,
    "start_time": "2021-07-04T09:53:10.179Z"
   },
   {
    "duration": 8,
    "start_time": "2021-07-04T09:53:33.871Z"
   },
   {
    "duration": 91,
    "start_time": "2021-07-04T09:54:34.474Z"
   },
   {
    "duration": 91,
    "start_time": "2021-07-04T09:54:44.735Z"
   },
   {
    "duration": 9,
    "start_time": "2021-07-04T09:54:51.329Z"
   },
   {
    "duration": 96,
    "start_time": "2021-07-04T09:55:03.063Z"
   },
   {
    "duration": 15,
    "start_time": "2021-07-04T09:58:03.842Z"
   },
   {
    "duration": 7,
    "start_time": "2021-07-04T09:58:17.866Z"
   },
   {
    "duration": 85,
    "start_time": "2021-07-04T09:58:33.696Z"
   },
   {
    "duration": 15,
    "start_time": "2021-07-04T09:58:47.512Z"
   },
   {
    "duration": 10,
    "start_time": "2021-07-04T10:00:22.317Z"
   },
   {
    "duration": 9,
    "start_time": "2021-07-04T10:00:35.716Z"
   },
   {
    "duration": 10,
    "start_time": "2021-07-04T10:01:26.261Z"
   },
   {
    "duration": 10,
    "start_time": "2021-07-04T10:01:42.261Z"
   },
   {
    "duration": 73,
    "start_time": "2021-07-04T10:02:01.070Z"
   },
   {
    "duration": 19,
    "start_time": "2021-07-04T10:02:01.566Z"
   },
   {
    "duration": 10,
    "start_time": "2021-07-04T10:02:02.712Z"
   },
   {
    "duration": 13,
    "start_time": "2021-07-04T10:02:03.229Z"
   },
   {
    "duration": 25,
    "start_time": "2021-07-04T10:02:03.590Z"
   },
   {
    "duration": 8,
    "start_time": "2021-07-04T10:02:03.937Z"
   },
   {
    "duration": 8,
    "start_time": "2021-07-04T10:02:04.297Z"
   },
   {
    "duration": 14,
    "start_time": "2021-07-04T10:02:04.861Z"
   },
   {
    "duration": 9,
    "start_time": "2021-07-04T10:02:05.051Z"
   },
   {
    "duration": 6,
    "start_time": "2021-07-04T10:05:25.702Z"
   },
   {
    "duration": 19,
    "start_time": "2021-07-04T10:05:29.411Z"
   },
   {
    "duration": 5,
    "start_time": "2021-07-04T10:05:30.480Z"
   },
   {
    "duration": 75,
    "start_time": "2021-07-04T10:05:52.653Z"
   },
   {
    "duration": 18,
    "start_time": "2021-07-04T10:05:53.024Z"
   },
   {
    "duration": 11,
    "start_time": "2021-07-04T10:05:54.137Z"
   },
   {
    "duration": 13,
    "start_time": "2021-07-04T10:05:54.679Z"
   },
   {
    "duration": 26,
    "start_time": "2021-07-04T10:05:55.037Z"
   },
   {
    "duration": 9,
    "start_time": "2021-07-04T10:05:55.386Z"
   },
   {
    "duration": 10,
    "start_time": "2021-07-04T10:05:55.761Z"
   },
   {
    "duration": 12,
    "start_time": "2021-07-04T10:05:57.167Z"
   },
   {
    "duration": 7,
    "start_time": "2021-07-04T10:05:58.267Z"
   },
   {
    "duration": 21,
    "start_time": "2021-07-04T10:07:04.079Z"
   },
   {
    "duration": 8,
    "start_time": "2021-07-04T10:07:46.438Z"
   },
   {
    "duration": 96,
    "start_time": "2021-07-04T10:15:50.272Z"
   },
   {
    "duration": 93,
    "start_time": "2021-07-04T10:15:56.683Z"
   },
   {
    "duration": 90,
    "start_time": "2021-07-04T10:16:12.398Z"
   },
   {
    "duration": 8,
    "start_time": "2021-07-04T10:16:25.266Z"
   },
   {
    "duration": 7,
    "start_time": "2021-07-04T10:16:34.604Z"
   },
   {
    "duration": 5,
    "start_time": "2021-07-04T10:16:51.810Z"
   },
   {
    "duration": 263,
    "start_time": "2021-07-04T10:17:20.709Z"
   },
   {
    "duration": 85,
    "start_time": "2021-07-04T10:18:20.829Z"
   },
   {
    "duration": 13,
    "start_time": "2021-07-04T10:18:28.011Z"
   },
   {
    "duration": 24,
    "start_time": "2021-07-04T10:19:52.248Z"
   },
   {
    "duration": 21,
    "start_time": "2021-07-04T10:21:05.205Z"
   },
   {
    "duration": 6,
    "start_time": "2021-07-04T10:22:02.683Z"
   },
   {
    "duration": 21,
    "start_time": "2021-07-04T10:23:36.014Z"
   },
   {
    "duration": 589,
    "start_time": "2021-07-04T12:00:42.660Z"
   },
   {
    "duration": 11,
    "start_time": "2021-07-04T12:02:04.483Z"
   },
   {
    "duration": 974,
    "start_time": "2021-07-04T12:02:22.786Z"
   },
   {
    "duration": 1082,
    "start_time": "2021-07-04T12:02:32.608Z"
   },
   {
    "duration": 9,
    "start_time": "2021-07-04T12:02:41.652Z"
   },
   {
    "duration": 75,
    "start_time": "2021-07-04T12:02:57.864Z"
   },
   {
    "duration": 19,
    "start_time": "2021-07-04T12:02:58.247Z"
   },
   {
    "duration": 21,
    "start_time": "2021-07-04T12:02:58.787Z"
   },
   {
    "duration": 12,
    "start_time": "2021-07-04T12:03:00.418Z"
   },
   {
    "duration": 13,
    "start_time": "2021-07-04T12:03:01.396Z"
   },
   {
    "duration": 26,
    "start_time": "2021-07-04T12:03:01.892Z"
   },
   {
    "duration": 8,
    "start_time": "2021-07-04T12:03:02.600Z"
   },
   {
    "duration": 19,
    "start_time": "2021-07-04T12:03:11.046Z"
   },
   {
    "duration": 636,
    "start_time": "2021-07-04T12:03:25.619Z"
   },
   {
    "duration": 574,
    "start_time": "2021-07-04T12:07:42.255Z"
   },
   {
    "duration": 601,
    "start_time": "2021-07-04T12:08:44.548Z"
   },
   {
    "duration": 8,
    "start_time": "2021-07-04T12:08:50.926Z"
   },
   {
    "duration": 7,
    "start_time": "2021-07-04T12:16:28.883Z"
   },
   {
    "duration": 20,
    "start_time": "2021-07-04T12:23:03.075Z"
   },
   {
    "duration": 283,
    "start_time": "2021-07-04T12:23:26.137Z"
   },
   {
    "duration": 34,
    "start_time": "2021-07-04T12:25:58.432Z"
   },
   {
    "duration": 281,
    "start_time": "2021-07-04T12:27:33.788Z"
   },
   {
    "duration": 1196,
    "start_time": "2021-07-04T12:27:40.448Z"
   },
   {
    "duration": 53,
    "start_time": "2021-07-04T12:29:34.861Z"
   },
   {
    "duration": 65,
    "start_time": "2021-07-04T12:30:23.709Z"
   },
   {
    "duration": 29,
    "start_time": "2021-07-04T12:31:04.107Z"
   },
   {
    "duration": 52,
    "start_time": "2021-07-04T12:31:15.291Z"
   },
   {
    "duration": 37,
    "start_time": "2021-07-04T12:31:53.160Z"
   },
   {
    "duration": 14,
    "start_time": "2021-07-04T12:32:42.243Z"
   },
   {
    "duration": 26,
    "start_time": "2021-07-04T12:35:21.488Z"
   },
   {
    "duration": 27,
    "start_time": "2021-07-04T12:35:32.322Z"
   },
   {
    "duration": 285,
    "start_time": "2021-07-04T12:36:18.503Z"
   },
   {
    "duration": 272,
    "start_time": "2021-07-04T12:36:27.289Z"
   },
   {
    "duration": 295,
    "start_time": "2021-07-04T12:38:11.579Z"
   },
   {
    "duration": 277,
    "start_time": "2021-07-04T12:38:39.680Z"
   },
   {
    "duration": 109,
    "start_time": "2021-07-04T12:39:31.634Z"
   },
   {
    "duration": 108,
    "start_time": "2021-07-04T12:39:40.511Z"
   },
   {
    "duration": 28,
    "start_time": "2021-07-04T12:39:53.594Z"
   },
   {
    "duration": 295,
    "start_time": "2021-07-04T12:40:03.708Z"
   },
   {
    "duration": 90,
    "start_time": "2021-07-04T12:40:16.950Z"
   },
   {
    "duration": 26,
    "start_time": "2021-07-04T12:40:23.529Z"
   },
   {
    "duration": 92,
    "start_time": "2021-07-04T12:54:29.721Z"
   },
   {
    "duration": 248,
    "start_time": "2021-07-04T12:54:35.313Z"
   },
   {
    "duration": 267,
    "start_time": "2021-07-04T12:55:31.236Z"
   },
   {
    "duration": 257,
    "start_time": "2021-07-04T12:55:40.798Z"
   },
   {
    "duration": 276,
    "start_time": "2021-07-04T12:56:04.199Z"
   },
   {
    "duration": 6454,
    "start_time": "2021-07-04T12:56:12.820Z"
   },
   {
    "duration": 21,
    "start_time": "2021-07-04T12:56:30.739Z"
   },
   {
    "duration": 73,
    "start_time": "2021-07-04T12:56:41.493Z"
   },
   {
    "duration": 21,
    "start_time": "2021-07-04T12:56:42.189Z"
   },
   {
    "duration": 22,
    "start_time": "2021-07-04T12:56:43.079Z"
   },
   {
    "duration": 33,
    "start_time": "2021-07-04T12:56:44.428Z"
   },
   {
    "duration": 26,
    "start_time": "2021-07-04T13:04:14.572Z"
   },
   {
    "duration": 37,
    "start_time": "2021-07-04T13:04:29.507Z"
   },
   {
    "duration": 28,
    "start_time": "2021-07-04T13:04:50.651Z"
   },
   {
    "duration": 271,
    "start_time": "2021-07-04T13:06:05.876Z"
   },
   {
    "duration": 260,
    "start_time": "2021-07-04T13:06:10.626Z"
   },
   {
    "duration": 87,
    "start_time": "2021-07-04T13:06:40.594Z"
   },
   {
    "duration": 24,
    "start_time": "2021-07-04T13:06:51.585Z"
   },
   {
    "duration": 258,
    "start_time": "2021-07-04T13:07:16.380Z"
   },
   {
    "duration": 259,
    "start_time": "2021-07-04T13:07:21.983Z"
   },
   {
    "duration": 16,
    "start_time": "2021-07-04T13:07:37.375Z"
   },
   {
    "duration": 40,
    "start_time": "2021-07-04T13:08:14.568Z"
   },
   {
    "duration": 10,
    "start_time": "2021-07-04T13:11:35.583Z"
   },
   {
    "duration": 11,
    "start_time": "2021-07-04T13:11:56.768Z"
   },
   {
    "duration": 30,
    "start_time": "2021-07-04T13:14:06.019Z"
   },
   {
    "duration": 9,
    "start_time": "2021-07-04T13:26:21.899Z"
   },
   {
    "duration": 11,
    "start_time": "2021-07-04T13:26:36.669Z"
   },
   {
    "duration": 11099,
    "start_time": "2021-07-04T13:27:33.124Z"
   },
   {
    "duration": 10,
    "start_time": "2021-07-04T13:27:53.295Z"
   },
   {
    "duration": 93,
    "start_time": "2021-07-04T13:29:03.879Z"
   },
   {
    "duration": 347,
    "start_time": "2021-07-04T13:30:00.207Z"
   },
   {
    "duration": 12,
    "start_time": "2021-07-04T13:30:11.783Z"
   },
   {
    "duration": 11,
    "start_time": "2021-07-04T13:30:52.858Z"
   },
   {
    "duration": 305,
    "start_time": "2021-07-04T13:34:15.562Z"
   },
   {
    "duration": 68,
    "start_time": "2021-07-04T13:34:35.576Z"
   },
   {
    "duration": 44,
    "start_time": "2021-07-04T13:36:26.951Z"
   },
   {
    "duration": 33,
    "start_time": "2021-07-04T13:37:02.818Z"
   },
   {
    "duration": 29,
    "start_time": "2021-07-04T13:37:14.135Z"
   },
   {
    "duration": 81,
    "start_time": "2021-07-04T13:37:30.414Z"
   },
   {
    "duration": 19,
    "start_time": "2021-07-04T13:37:31.268Z"
   },
   {
    "duration": 20,
    "start_time": "2021-07-04T13:37:32.318Z"
   },
   {
    "duration": 32,
    "start_time": "2021-07-04T13:37:32.820Z"
   },
   {
    "duration": 18,
    "start_time": "2021-07-04T13:43:48.539Z"
   },
   {
    "duration": 35,
    "start_time": "2021-07-04T13:45:21.214Z"
   },
   {
    "duration": 28,
    "start_time": "2021-07-04T13:45:38.714Z"
   },
   {
    "duration": 24,
    "start_time": "2021-07-04T13:46:17.436Z"
   },
   {
    "duration": 25,
    "start_time": "2021-07-04T13:46:51.119Z"
   },
   {
    "duration": 22,
    "start_time": "2021-07-04T13:48:40.538Z"
   },
   {
    "duration": 87,
    "start_time": "2021-07-04T13:57:38.469Z"
   },
   {
    "duration": 7621,
    "start_time": "2021-07-04T14:02:27.487Z"
   },
   {
    "duration": 78,
    "start_time": "2021-07-04T14:03:08.538Z"
   },
   {
    "duration": 20,
    "start_time": "2021-07-04T14:03:09.583Z"
   },
   {
    "duration": 23,
    "start_time": "2021-07-04T14:03:13.703Z"
   },
   {
    "duration": 15,
    "start_time": "2021-07-04T14:03:19.606Z"
   },
   {
    "duration": 14,
    "start_time": "2021-07-04T14:03:24.389Z"
   },
   {
    "duration": 24,
    "start_time": "2021-07-04T14:03:27.381Z"
   },
   {
    "duration": 7,
    "start_time": "2021-07-04T14:03:32.037Z"
   },
   {
    "duration": 9,
    "start_time": "2021-07-04T14:03:39.779Z"
   },
   {
    "duration": 637,
    "start_time": "2021-07-04T14:03:42.861Z"
   },
   {
    "duration": 9,
    "start_time": "2021-07-04T14:03:48.079Z"
   },
   {
    "duration": 17,
    "start_time": "2021-07-04T14:14:16.658Z"
   },
   {
    "duration": 9,
    "start_time": "2021-07-04T14:15:06.926Z"
   },
   {
    "duration": 9,
    "start_time": "2021-07-04T14:15:24.474Z"
   },
   {
    "duration": 12,
    "start_time": "2021-07-04T14:17:18.515Z"
   },
   {
    "duration": 16,
    "start_time": "2021-07-04T14:17:32.826Z"
   },
   {
    "duration": 18,
    "start_time": "2021-07-04T14:18:00.705Z"
   },
   {
    "duration": 25,
    "start_time": "2021-07-04T14:21:12.363Z"
   },
   {
    "duration": 89,
    "start_time": "2021-07-04T14:21:31.577Z"
   },
   {
    "duration": 20,
    "start_time": "2021-07-04T14:21:32.520Z"
   },
   {
    "duration": 25,
    "start_time": "2021-07-04T14:21:33.547Z"
   },
   {
    "duration": 13,
    "start_time": "2021-07-04T14:21:36.670Z"
   },
   {
    "duration": 23,
    "start_time": "2021-07-04T14:21:38.482Z"
   },
   {
    "duration": 40,
    "start_time": "2021-07-04T14:21:40.193Z"
   },
   {
    "duration": 10,
    "start_time": "2021-07-04T14:21:41.530Z"
   },
   {
    "duration": 11,
    "start_time": "2021-07-04T14:21:42.566Z"
   },
   {
    "duration": 1334,
    "start_time": "2021-07-04T14:21:43.842Z"
   },
   {
    "duration": 10,
    "start_time": "2021-07-04T14:21:45.180Z"
   },
   {
    "duration": 19,
    "start_time": "2021-07-04T14:21:45.964Z"
   },
   {
    "duration": 7,
    "start_time": "2021-07-04T14:21:58.734Z"
   },
   {
    "duration": 25,
    "start_time": "2021-07-04T14:21:59.969Z"
   },
   {
    "duration": 308,
    "start_time": "2021-07-04T14:22:13.258Z"
   },
   {
    "duration": 9,
    "start_time": "2021-07-04T14:22:17.667Z"
   },
   {
    "duration": 29,
    "start_time": "2021-07-04T14:28:34.296Z"
   },
   {
    "duration": 16,
    "start_time": "2021-07-04T15:54:08.229Z"
   },
   {
    "duration": 11,
    "start_time": "2021-07-04T15:55:38.184Z"
   },
   {
    "duration": 26,
    "start_time": "2021-07-04T16:07:30.861Z"
   },
   {
    "duration": 87,
    "start_time": "2021-07-04T16:07:41.877Z"
   },
   {
    "duration": 26,
    "start_time": "2021-07-04T16:07:42.249Z"
   },
   {
    "duration": 20,
    "start_time": "2021-07-04T16:07:42.610Z"
   },
   {
    "duration": 11,
    "start_time": "2021-07-04T16:07:44.015Z"
   },
   {
    "duration": 14,
    "start_time": "2021-07-04T16:07:45.524Z"
   },
   {
    "duration": 25,
    "start_time": "2021-07-04T16:07:46.334Z"
   },
   {
    "duration": 10,
    "start_time": "2021-07-04T16:07:47.088Z"
   },
   {
    "duration": 9,
    "start_time": "2021-07-04T16:07:47.539Z"
   },
   {
    "duration": 599,
    "start_time": "2021-07-04T16:07:47.932Z"
   },
   {
    "duration": 19,
    "start_time": "2021-07-04T16:07:48.534Z"
   },
   {
    "duration": 20,
    "start_time": "2021-07-04T16:07:48.829Z"
   },
   {
    "duration": 7,
    "start_time": "2021-07-04T16:07:53.567Z"
   },
   {
    "duration": 6,
    "start_time": "2021-07-04T16:07:54.962Z"
   },
   {
    "duration": 21,
    "start_time": "2021-07-04T16:08:27.188Z"
   },
   {
    "duration": 10,
    "start_time": "2021-07-04T16:31:29.200Z"
   },
   {
    "duration": 10,
    "start_time": "2021-07-04T16:31:55.177Z"
   },
   {
    "duration": 319,
    "start_time": "2021-07-04T16:35:41.359Z"
   },
   {
    "duration": 25,
    "start_time": "2021-07-04T16:37:00.809Z"
   },
   {
    "duration": 454,
    "start_time": "2021-07-04T16:38:09.370Z"
   },
   {
    "duration": 280,
    "start_time": "2021-07-04T16:39:21.875Z"
   },
   {
    "duration": 25,
    "start_time": "2021-07-04T16:40:34.177Z"
   },
   {
    "duration": 27,
    "start_time": "2021-07-04T16:43:42.012Z"
   },
   {
    "duration": 78,
    "start_time": "2021-07-04T17:05:47.174Z"
   },
   {
    "duration": 19,
    "start_time": "2021-07-04T17:05:47.643Z"
   },
   {
    "duration": 19,
    "start_time": "2021-07-04T17:05:48.039Z"
   },
   {
    "duration": 11,
    "start_time": "2021-07-04T17:05:49.204Z"
   },
   {
    "duration": 14,
    "start_time": "2021-07-04T17:05:49.869Z"
   },
   {
    "duration": 26,
    "start_time": "2021-07-04T17:05:50.268Z"
   },
   {
    "duration": 8,
    "start_time": "2021-07-04T17:05:50.675Z"
   },
   {
    "duration": 9,
    "start_time": "2021-07-04T17:05:52.741Z"
   },
   {
    "duration": 603,
    "start_time": "2021-07-04T17:05:54.516Z"
   },
   {
    "duration": 8,
    "start_time": "2021-07-04T17:05:55.122Z"
   },
   {
    "duration": 23,
    "start_time": "2021-07-04T17:05:55.630Z"
   },
   {
    "duration": 8,
    "start_time": "2021-07-04T17:05:57.655Z"
   },
   {
    "duration": 5,
    "start_time": "2021-07-04T17:06:07.402Z"
   },
   {
    "duration": 92,
    "start_time": "2021-07-04T17:20:30.922Z"
   },
   {
    "duration": 101,
    "start_time": "2021-07-04T17:20:49.329Z"
   },
   {
    "duration": 97,
    "start_time": "2021-07-04T17:21:19.026Z"
   },
   {
    "duration": 78,
    "start_time": "2021-07-04T17:21:45.984Z"
   },
   {
    "duration": 19,
    "start_time": "2021-07-04T17:21:47.001Z"
   },
   {
    "duration": 15,
    "start_time": "2021-07-04T17:21:48.095Z"
   },
   {
    "duration": 12,
    "start_time": "2021-07-04T17:21:50.994Z"
   },
   {
    "duration": 17,
    "start_time": "2021-07-04T17:21:51.850Z"
   },
   {
    "duration": 26,
    "start_time": "2021-07-04T17:21:52.706Z"
   },
   {
    "duration": 10,
    "start_time": "2021-07-04T17:21:53.572Z"
   },
   {
    "duration": 10,
    "start_time": "2021-07-04T17:21:54.847Z"
   },
   {
    "duration": 756,
    "start_time": "2021-07-04T17:21:55.317Z"
   },
   {
    "duration": 8,
    "start_time": "2021-07-04T17:21:56.384Z"
   },
   {
    "duration": 21,
    "start_time": "2021-07-04T17:21:57.272Z"
   },
   {
    "duration": 7,
    "start_time": "2021-07-04T17:22:00.614Z"
   },
   {
    "duration": 5,
    "start_time": "2021-07-04T17:22:08.207Z"
   },
   {
    "duration": 89,
    "start_time": "2021-07-04T17:22:16.918Z"
   },
   {
    "duration": 90,
    "start_time": "2021-07-04T17:22:35.266Z"
   },
   {
    "duration": 98,
    "start_time": "2021-07-04T17:23:04.891Z"
   },
   {
    "duration": 92,
    "start_time": "2021-07-04T17:23:18.747Z"
   },
   {
    "duration": 86,
    "start_time": "2021-07-04T17:25:07.608Z"
   },
   {
    "duration": 111,
    "start_time": "2021-07-04T17:25:23.882Z"
   },
   {
    "duration": 101,
    "start_time": "2021-07-04T17:26:52.994Z"
   },
   {
    "duration": 7692,
    "start_time": "2021-07-04T17:27:15.803Z"
   },
   {
    "duration": 7266,
    "start_time": "2021-07-04T17:29:55.900Z"
   },
   {
    "duration": 7683,
    "start_time": "2021-07-04T17:30:13.026Z"
   },
   {
    "duration": 22,
    "start_time": "2021-07-04T17:30:44.443Z"
   },
   {
    "duration": 8014,
    "start_time": "2021-07-04T17:33:49.531Z"
   },
   {
    "duration": 473,
    "start_time": "2021-07-04T17:40:16.088Z"
   },
   {
    "duration": 480,
    "start_time": "2021-07-04T17:41:48.079Z"
   },
   {
    "duration": 610,
    "start_time": "2021-07-04T17:43:36.944Z"
   },
   {
    "duration": -25,
    "start_time": "2021-07-04T17:44:46.512Z"
   },
   {
    "duration": 8919,
    "start_time": "2021-07-04T17:45:02.109Z"
   },
   {
    "duration": -11,
    "start_time": "2021-07-04T17:45:11.043Z"
   },
   {
    "duration": -13,
    "start_time": "2021-07-04T17:45:11.046Z"
   },
   {
    "duration": -14,
    "start_time": "2021-07-04T17:45:11.049Z"
   },
   {
    "duration": -16,
    "start_time": "2021-07-04T17:45:11.052Z"
   },
   {
    "duration": -16,
    "start_time": "2021-07-04T17:45:11.054Z"
   },
   {
    "duration": -17,
    "start_time": "2021-07-04T17:45:11.057Z"
   },
   {
    "duration": -29,
    "start_time": "2021-07-04T17:45:11.070Z"
   },
   {
    "duration": 6651,
    "start_time": "2021-07-04T17:45:11.104Z"
   },
   {
    "duration": 33,
    "start_time": "2021-07-04T17:45:17.726Z"
   },
   {
    "duration": 33,
    "start_time": "2021-07-04T17:45:17.729Z"
   },
   {
    "duration": 31,
    "start_time": "2021-07-04T17:45:17.733Z"
   },
   {
    "duration": 31,
    "start_time": "2021-07-04T17:45:17.735Z"
   },
   {
    "duration": 30,
    "start_time": "2021-07-04T17:45:17.738Z"
   },
   {
    "duration": 28,
    "start_time": "2021-07-04T17:45:17.742Z"
   },
   {
    "duration": 7401,
    "start_time": "2021-07-04T17:45:34.247Z"
   },
   {
    "duration": 7915,
    "start_time": "2021-07-04T17:48:02.505Z"
   },
   {
    "duration": 77,
    "start_time": "2021-07-04T17:52:38.185Z"
   },
   {
    "duration": 20,
    "start_time": "2021-07-04T17:52:40.275Z"
   },
   {
    "duration": 17,
    "start_time": "2021-07-04T17:52:41.356Z"
   },
   {
    "duration": 12,
    "start_time": "2021-07-04T17:52:45.126Z"
   },
   {
    "duration": 23,
    "start_time": "2021-07-04T17:52:46.859Z"
   },
   {
    "duration": 31,
    "start_time": "2021-07-04T17:52:48.131Z"
   },
   {
    "duration": 10,
    "start_time": "2021-07-04T17:52:49.996Z"
   },
   {
    "duration": 10,
    "start_time": "2021-07-04T17:52:53.631Z"
   },
   {
    "duration": 597,
    "start_time": "2021-07-04T17:52:55.499Z"
   },
   {
    "duration": 9,
    "start_time": "2021-07-04T17:53:01.754Z"
   },
   {
    "duration": 19,
    "start_time": "2021-07-04T17:53:05.950Z"
   },
   {
    "duration": 6,
    "start_time": "2021-07-04T17:53:08.018Z"
   },
   {
    "duration": 21,
    "start_time": "2021-07-04T17:53:42.501Z"
   },
   {
    "duration": 809,
    "start_time": "2021-07-04T18:01:19.945Z"
   },
   {
    "duration": 16,
    "start_time": "2021-07-04T18:02:09.792Z"
   },
   {
    "duration": 7657,
    "start_time": "2021-07-04T18:03:19.126Z"
   },
   {
    "duration": 1,
    "start_time": "2021-07-04T18:03:26.785Z"
   },
   {
    "duration": 7814,
    "start_time": "2021-07-04T18:03:52.542Z"
   },
   {
    "duration": 1,
    "start_time": "2021-07-04T18:04:00.358Z"
   },
   {
    "duration": -1,
    "start_time": "2021-07-04T18:04:00.361Z"
   },
   {
    "duration": 76,
    "start_time": "2021-07-04T18:04:01.775Z"
   },
   {
    "duration": 19,
    "start_time": "2021-07-04T18:04:03.047Z"
   },
   {
    "duration": 18,
    "start_time": "2021-07-04T18:04:04.169Z"
   },
   {
    "duration": 10,
    "start_time": "2021-07-04T18:04:07.555Z"
   },
   {
    "duration": 14,
    "start_time": "2021-07-04T18:04:09.188Z"
   },
   {
    "duration": 24,
    "start_time": "2021-07-04T18:04:11.505Z"
   },
   {
    "duration": 9,
    "start_time": "2021-07-04T18:04:13.654Z"
   },
   {
    "duration": 11,
    "start_time": "2021-07-04T18:04:14.892Z"
   },
   {
    "duration": 580,
    "start_time": "2021-07-04T18:04:16.320Z"
   },
   {
    "duration": 9,
    "start_time": "2021-07-04T18:04:17.897Z"
   },
   {
    "duration": 23,
    "start_time": "2021-07-04T18:04:19.223Z"
   },
   {
    "duration": 7,
    "start_time": "2021-07-04T18:04:21.811Z"
   },
   {
    "duration": 23,
    "start_time": "2021-07-04T18:04:22.777Z"
   },
   {
    "duration": 811,
    "start_time": "2021-07-04T18:04:33.465Z"
   },
   {
    "duration": 17,
    "start_time": "2021-07-04T18:04:43.681Z"
   },
   {
    "duration": 5,
    "start_time": "2021-07-04T18:05:20.378Z"
   },
   {
    "duration": 277,
    "start_time": "2021-07-04T18:06:11.275Z"
   },
   {
    "duration": 101,
    "start_time": "2021-07-04T18:06:29.816Z"
   },
   {
    "duration": 86,
    "start_time": "2021-07-04T18:06:41.606Z"
   },
   {
    "duration": 258,
    "start_time": "2021-07-04T18:06:54.453Z"
   },
   {
    "duration": 254,
    "start_time": "2021-07-04T18:08:24.939Z"
   },
   {
    "duration": 250,
    "start_time": "2021-07-04T18:08:42.196Z"
   },
   {
    "duration": 75,
    "start_time": "2021-07-04T18:08:48.350Z"
   },
   {
    "duration": 18,
    "start_time": "2021-07-04T18:08:50.957Z"
   },
   {
    "duration": 16,
    "start_time": "2021-07-04T18:08:53.164Z"
   },
   {
    "duration": 12,
    "start_time": "2021-07-04T18:09:17.260Z"
   },
   {
    "duration": 13,
    "start_time": "2021-07-04T18:09:19.983Z"
   },
   {
    "duration": 27,
    "start_time": "2021-07-04T18:09:22.039Z"
   },
   {
    "duration": 9,
    "start_time": "2021-07-04T18:09:24.325Z"
   },
   {
    "duration": 9,
    "start_time": "2021-07-04T18:09:26.609Z"
   },
   {
    "duration": 1012,
    "start_time": "2021-07-04T18:09:28.379Z"
   },
   {
    "duration": 11,
    "start_time": "2021-07-04T18:09:30.660Z"
   },
   {
    "duration": 30,
    "start_time": "2021-07-04T18:09:34.721Z"
   },
   {
    "duration": 9,
    "start_time": "2021-07-04T18:09:39.536Z"
   },
   {
    "duration": 31,
    "start_time": "2021-07-04T18:09:41.920Z"
   },
   {
    "duration": 809,
    "start_time": "2021-07-04T18:09:42.596Z"
   },
   {
    "duration": 18,
    "start_time": "2021-07-04T18:09:44.171Z"
   },
   {
    "duration": 20,
    "start_time": "2021-07-04T18:11:29.878Z"
   },
   {
    "duration": 5,
    "start_time": "2021-07-04T18:12:16.487Z"
   },
   {
    "duration": 6082,
    "start_time": "2021-07-04T18:19:20.291Z"
   },
   {
    "duration": 76,
    "start_time": "2021-07-04T18:20:12.918Z"
   },
   {
    "duration": 19,
    "start_time": "2021-07-04T18:20:13.931Z"
   },
   {
    "duration": 16,
    "start_time": "2021-07-04T18:20:15.321Z"
   },
   {
    "duration": 12,
    "start_time": "2021-07-04T18:20:18.902Z"
   },
   {
    "duration": 15,
    "start_time": "2021-07-04T18:20:20.736Z"
   },
   {
    "duration": 24,
    "start_time": "2021-07-04T18:20:21.917Z"
   },
   {
    "duration": 9,
    "start_time": "2021-07-04T18:20:23.399Z"
   },
   {
    "duration": 11,
    "start_time": "2021-07-04T18:20:24.437Z"
   },
   {
    "duration": 591,
    "start_time": "2021-07-04T18:20:25.505Z"
   },
   {
    "duration": 8,
    "start_time": "2021-07-04T18:20:26.584Z"
   },
   {
    "duration": 20,
    "start_time": "2021-07-04T18:20:27.834Z"
   },
   {
    "duration": 8,
    "start_time": "2021-07-04T18:20:30.443Z"
   },
   {
    "duration": 5,
    "start_time": "2021-07-04T18:20:32.020Z"
   },
   {
    "duration": 807,
    "start_time": "2021-07-04T18:20:33.957Z"
   },
   {
    "duration": 15,
    "start_time": "2021-07-04T18:20:34.964Z"
   },
   {
    "duration": 18,
    "start_time": "2021-07-04T18:20:36.012Z"
   },
   {
    "duration": 6586,
    "start_time": "2021-07-04T19:39:52.477Z"
   },
   {
    "duration": 18,
    "start_time": "2021-07-04T19:41:06.691Z"
   },
   {
    "duration": 35,
    "start_time": "2021-07-04T19:49:03.764Z"
   },
   {
    "duration": 21,
    "start_time": "2021-07-04T19:49:18.106Z"
   },
   {
    "duration": 267,
    "start_time": "2021-07-04T19:51:47.731Z"
   },
   {
    "duration": 7,
    "start_time": "2021-07-04T19:51:59.072Z"
   },
   {
    "duration": 264,
    "start_time": "2021-07-04T19:52:39.122Z"
   },
   {
    "duration": 9,
    "start_time": "2021-07-04T19:53:05.718Z"
   },
   {
    "duration": 22,
    "start_time": "2021-07-04T19:55:32.093Z"
   },
   {
    "duration": 33,
    "start_time": "2021-07-04T19:55:45.467Z"
   },
   {
    "duration": 75,
    "start_time": "2021-07-04T20:22:35.686Z"
   },
   {
    "duration": 18,
    "start_time": "2021-07-04T20:22:36.972Z"
   },
   {
    "duration": 15,
    "start_time": "2021-07-04T20:22:38.261Z"
   },
   {
    "duration": 10,
    "start_time": "2021-07-04T20:22:41.692Z"
   },
   {
    "duration": 23,
    "start_time": "2021-07-04T20:22:43.336Z"
   },
   {
    "duration": 19,
    "start_time": "2021-07-04T20:22:44.512Z"
   },
   {
    "duration": 9,
    "start_time": "2021-07-04T20:22:45.631Z"
   },
   {
    "duration": 9,
    "start_time": "2021-07-04T20:22:46.744Z"
   },
   {
    "duration": 568,
    "start_time": "2021-07-04T20:22:48.043Z"
   },
   {
    "duration": 8,
    "start_time": "2021-07-04T20:22:49.152Z"
   },
   {
    "duration": 21,
    "start_time": "2021-07-04T20:22:50.366Z"
   },
   {
    "duration": 77,
    "start_time": "2021-07-04T20:24:44.012Z"
   },
   {
    "duration": 18,
    "start_time": "2021-07-04T20:24:45.296Z"
   },
   {
    "duration": 16,
    "start_time": "2021-07-04T20:24:46.399Z"
   },
   {
    "duration": 10,
    "start_time": "2021-07-04T20:24:49.460Z"
   },
   {
    "duration": 14,
    "start_time": "2021-07-04T20:24:50.968Z"
   },
   {
    "duration": 14,
    "start_time": "2021-07-04T20:24:52.003Z"
   },
   {
    "duration": 9,
    "start_time": "2021-07-04T20:24:52.958Z"
   },
   {
    "duration": 9,
    "start_time": "2021-07-04T20:24:53.904Z"
   },
   {
    "duration": 565,
    "start_time": "2021-07-04T20:24:55.129Z"
   },
   {
    "duration": 8,
    "start_time": "2021-07-04T20:24:56.186Z"
   },
   {
    "duration": 20,
    "start_time": "2021-07-04T20:24:57.358Z"
   },
   {
    "duration": 6,
    "start_time": "2021-07-04T20:24:59.112Z"
   },
   {
    "duration": 6,
    "start_time": "2021-07-04T20:25:00.237Z"
   },
   {
    "duration": 800,
    "start_time": "2021-07-04T20:25:01.509Z"
   },
   {
    "duration": 4,
    "start_time": "2021-07-04T20:25:02.312Z"
   },
   {
    "duration": 8,
    "start_time": "2021-07-04T20:25:02.814Z"
   },
   {
    "duration": 10,
    "start_time": "2021-07-04T20:25:04.939Z"
   },
   {
    "duration": 24,
    "start_time": "2021-07-04T20:25:11.543Z"
   },
   {
    "duration": 48,
    "start_time": "2021-07-04T20:27:10.819Z"
   },
   {
    "duration": 44,
    "start_time": "2021-07-04T20:34:04.235Z"
   },
   {
    "duration": 314,
    "start_time": "2021-07-04T20:34:19.127Z"
   },
   {
    "duration": 300,
    "start_time": "2021-07-04T20:34:37.937Z"
   },
   {
    "duration": 287,
    "start_time": "2021-07-04T20:34:56.393Z"
   },
   {
    "duration": 47,
    "start_time": "2021-07-04T20:35:15.057Z"
   },
   {
    "duration": 47,
    "start_time": "2021-07-04T20:36:16.121Z"
   },
   {
    "duration": 42,
    "start_time": "2021-07-04T20:38:23.506Z"
   },
   {
    "duration": 48,
    "start_time": "2021-07-04T20:39:06.862Z"
   },
   {
    "duration": 378,
    "start_time": "2021-07-05T14:55:06.043Z"
   },
   {
    "duration": 952,
    "start_time": "2021-07-05T15:02:08.186Z"
   },
   {
    "duration": 24,
    "start_time": "2021-07-05T15:02:09.140Z"
   },
   {
    "duration": 23,
    "start_time": "2021-07-05T15:02:09.727Z"
   },
   {
    "duration": 11,
    "start_time": "2021-07-05T15:02:11.730Z"
   },
   {
    "duration": 14,
    "start_time": "2021-07-05T15:02:12.869Z"
   },
   {
    "duration": 20,
    "start_time": "2021-07-05T15:02:13.362Z"
   },
   {
    "duration": 10,
    "start_time": "2021-07-05T15:02:13.991Z"
   },
   {
    "duration": 10,
    "start_time": "2021-07-05T15:02:14.689Z"
   },
   {
    "duration": 644,
    "start_time": "2021-07-05T15:02:15.310Z"
   },
   {
    "duration": 8,
    "start_time": "2021-07-05T15:02:15.956Z"
   },
   {
    "duration": 21,
    "start_time": "2021-07-05T15:02:16.560Z"
   },
   {
    "duration": 8,
    "start_time": "2021-07-05T15:02:17.591Z"
   },
   {
    "duration": 5,
    "start_time": "2021-07-05T15:02:18.312Z"
   },
   {
    "duration": 908,
    "start_time": "2021-07-05T15:02:19.068Z"
   },
   {
    "duration": 3,
    "start_time": "2021-07-05T15:02:19.978Z"
   },
   {
    "duration": 35,
    "start_time": "2021-07-05T15:02:19.984Z"
   },
   {
    "duration": 8,
    "start_time": "2021-07-05T15:02:20.698Z"
   },
   {
    "duration": 36,
    "start_time": "2021-07-05T15:02:22.324Z"
   },
   {
    "duration": 4,
    "start_time": "2021-07-05T15:03:06.713Z"
   },
   {
    "duration": 401,
    "start_time": "2021-07-05T16:16:41.388Z"
   },
   {
    "duration": 84,
    "start_time": "2021-07-05T16:16:46.821Z"
   },
   {
    "duration": 1306,
    "start_time": "2021-07-05T16:16:57.119Z"
   },
   {
    "duration": 7,
    "start_time": "2021-07-05T16:17:46.019Z"
   },
   {
    "duration": 157,
    "start_time": "2021-07-05T17:10:10.807Z"
   },
   {
    "duration": 19,
    "start_time": "2021-07-05T17:10:14.465Z"
   },
   {
    "duration": 17,
    "start_time": "2021-07-05T17:10:14.972Z"
   },
   {
    "duration": 15,
    "start_time": "2021-07-05T17:10:17.545Z"
   },
   {
    "duration": 28,
    "start_time": "2021-07-05T17:10:18.886Z"
   },
   {
    "duration": 20,
    "start_time": "2021-07-05T17:10:19.876Z"
   },
   {
    "duration": 11,
    "start_time": "2021-07-05T17:10:20.809Z"
   },
   {
    "duration": 11,
    "start_time": "2021-07-05T17:10:21.350Z"
   },
   {
    "duration": 992,
    "start_time": "2021-07-05T17:10:22.352Z"
   },
   {
    "duration": 11,
    "start_time": "2021-07-05T17:10:23.348Z"
   },
   {
    "duration": 31,
    "start_time": "2021-07-05T17:10:23.859Z"
   },
   {
    "duration": 7,
    "start_time": "2021-07-05T17:10:25.072Z"
   },
   {
    "duration": 6,
    "start_time": "2021-07-05T17:10:25.872Z"
   },
   {
    "duration": 1139,
    "start_time": "2021-07-05T17:10:26.704Z"
   },
   {
    "duration": 4,
    "start_time": "2021-07-05T17:10:28.146Z"
   },
   {
    "duration": 12,
    "start_time": "2021-07-05T17:10:28.885Z"
   },
   {
    "duration": 9,
    "start_time": "2021-07-05T17:10:30.778Z"
   },
   {
    "duration": 75,
    "start_time": "2021-07-05T17:10:32.701Z"
   },
   {
    "duration": 3845,
    "start_time": "2021-07-05T17:36:55.055Z"
   },
   {
    "duration": 7573,
    "start_time": "2021-07-05T17:39:05.181Z"
   },
   {
    "duration": 6226,
    "start_time": "2021-07-05T17:39:25.209Z"
   },
   {
    "duration": 6333,
    "start_time": "2021-07-05T17:46:11.224Z"
   },
   {
    "duration": 6604,
    "start_time": "2021-07-05T17:46:26.646Z"
   },
   {
    "duration": 121,
    "start_time": "2021-07-05T17:52:04.352Z"
   },
   {
    "duration": 7079,
    "start_time": "2021-07-05T17:53:29.764Z"
   },
   {
    "duration": 90,
    "start_time": "2021-07-05T18:47:49.253Z"
   },
   {
    "duration": 23,
    "start_time": "2021-07-05T18:47:49.893Z"
   },
   {
    "duration": 22,
    "start_time": "2021-07-05T18:47:50.489Z"
   },
   {
    "duration": 12,
    "start_time": "2021-07-05T18:47:51.953Z"
   },
   {
    "duration": 13,
    "start_time": "2021-07-05T18:47:52.548Z"
   },
   {
    "duration": 15,
    "start_time": "2021-07-05T18:47:52.976Z"
   },
   {
    "duration": 13,
    "start_time": "2021-07-05T18:47:53.406Z"
   },
   {
    "duration": 10,
    "start_time": "2021-07-05T18:47:53.842Z"
   },
   {
    "duration": 650,
    "start_time": "2021-07-05T18:47:54.268Z"
   },
   {
    "duration": 11,
    "start_time": "2021-07-05T18:47:54.921Z"
   },
   {
    "duration": 24,
    "start_time": "2021-07-05T18:47:55.170Z"
   },
   {
    "duration": 7,
    "start_time": "2021-07-05T18:47:55.844Z"
   },
   {
    "duration": 7,
    "start_time": "2021-07-05T18:47:56.611Z"
   },
   {
    "duration": 1003,
    "start_time": "2021-07-05T18:47:57.104Z"
   },
   {
    "duration": 4,
    "start_time": "2021-07-05T18:47:58.110Z"
   },
   {
    "duration": 12,
    "start_time": "2021-07-05T18:47:58.117Z"
   },
   {
    "duration": 9,
    "start_time": "2021-07-05T18:47:58.605Z"
   },
   {
    "duration": 46,
    "start_time": "2021-07-05T18:48:00.219Z"
   },
   {
    "duration": 7001,
    "start_time": "2021-07-05T18:48:01.851Z"
   },
   {
    "duration": 515,
    "start_time": "2021-07-05T18:48:08.856Z"
   },
   {
    "duration": 495,
    "start_time": "2021-07-05T18:50:42.012Z"
   },
   {
    "duration": 810,
    "start_time": "2021-07-05T18:51:04.061Z"
   },
   {
    "duration": 431,
    "start_time": "2021-07-05T18:52:01.189Z"
   },
   {
    "duration": 418,
    "start_time": "2021-07-05T18:53:07.686Z"
   },
   {
    "duration": 455,
    "start_time": "2021-07-05T18:57:51.628Z"
   },
   {
    "duration": 4,
    "start_time": "2021-07-05T19:23:56.062Z"
   },
   {
    "duration": 5,
    "start_time": "2021-07-05T19:24:10.025Z"
   },
   {
    "duration": 7,
    "start_time": "2021-07-05T19:24:17.912Z"
   },
   {
    "duration": 5,
    "start_time": "2021-07-05T19:24:23.762Z"
   },
   {
    "duration": 5281,
    "start_time": "2021-07-05T19:33:44.589Z"
   },
   {
    "duration": 5505,
    "start_time": "2021-07-05T19:35:24.354Z"
   },
   {
    "duration": 112,
    "start_time": "2021-07-05T20:08:08.337Z"
   },
   {
    "duration": 98,
    "start_time": "2021-07-05T20:08:27.455Z"
   },
   {
    "duration": 500,
    "start_time": "2021-07-05T20:08:46.141Z"
   },
   {
    "duration": 577,
    "start_time": "2021-07-05T20:08:54.430Z"
   },
   {
    "duration": 522,
    "start_time": "2021-07-05T20:10:22.271Z"
   },
   {
    "duration": 637,
    "start_time": "2021-07-05T20:10:53.403Z"
   },
   {
    "duration": 389,
    "start_time": "2021-07-05T20:11:43.328Z"
   },
   {
    "duration": 1014,
    "start_time": "2021-07-05T20:11:49.078Z"
   },
   {
    "duration": 19,
    "start_time": "2021-07-05T20:11:50.240Z"
   },
   {
    "duration": 16,
    "start_time": "2021-07-05T20:11:51.835Z"
   },
   {
    "duration": 12,
    "start_time": "2021-07-05T20:11:56.425Z"
   },
   {
    "duration": 15,
    "start_time": "2021-07-05T20:11:58.326Z"
   },
   {
    "duration": 24,
    "start_time": "2021-07-05T20:12:04.960Z"
   },
   {
    "duration": 11,
    "start_time": "2021-07-05T20:12:06.258Z"
   },
   {
    "duration": 9,
    "start_time": "2021-07-05T20:12:07.952Z"
   },
   {
    "duration": 685,
    "start_time": "2021-07-05T20:12:09.716Z"
   },
   {
    "duration": 12,
    "start_time": "2021-07-05T20:12:11.297Z"
   },
   {
    "duration": 30,
    "start_time": "2021-07-05T20:12:12.797Z"
   },
   {
    "duration": 22,
    "start_time": "2021-07-05T20:12:15.505Z"
   },
   {
    "duration": 5,
    "start_time": "2021-07-05T20:12:17.968Z"
   },
   {
    "duration": 1026,
    "start_time": "2021-07-05T20:12:19.589Z"
   },
   {
    "duration": 10,
    "start_time": "2021-07-05T20:12:20.618Z"
   },
   {
    "duration": 9,
    "start_time": "2021-07-05T20:12:27.869Z"
   },
   {
    "duration": 6,
    "start_time": "2021-07-05T20:12:30.345Z"
   },
   {
    "duration": 37,
    "start_time": "2021-07-05T20:12:33.643Z"
   },
   {
    "duration": 6974,
    "start_time": "2021-07-05T20:12:35.902Z"
   },
   {
    "duration": 539,
    "start_time": "2021-07-05T20:12:42.879Z"
   },
   {
    "duration": 439,
    "start_time": "2021-07-05T20:14:52.152Z"
   },
   {
    "duration": 607,
    "start_time": "2021-07-05T20:17:11.023Z"
   },
   {
    "duration": 464,
    "start_time": "2021-07-05T20:17:30.804Z"
   },
   {
    "duration": 462,
    "start_time": "2021-07-05T20:17:38.944Z"
   },
   {
    "duration": 471,
    "start_time": "2021-07-05T20:17:47.073Z"
   },
   {
    "duration": 534,
    "start_time": "2021-07-05T20:17:56.900Z"
   },
   {
    "duration": 460,
    "start_time": "2021-07-05T20:18:03.195Z"
   },
   {
    "duration": 488,
    "start_time": "2021-07-05T20:19:46.778Z"
   },
   {
    "duration": 463,
    "start_time": "2021-07-05T20:19:56.180Z"
   },
   {
    "duration": 435,
    "start_time": "2021-07-05T20:21:09.043Z"
   },
   {
    "duration": 435,
    "start_time": "2021-07-05T20:21:33.406Z"
   },
   {
    "duration": 431,
    "start_time": "2021-07-05T20:21:46.642Z"
   },
   {
    "duration": 94,
    "start_time": "2021-07-05T20:22:52.931Z"
   },
   {
    "duration": 432,
    "start_time": "2021-07-05T20:23:07.108Z"
   },
   {
    "duration": 424,
    "start_time": "2021-07-05T20:23:43.528Z"
   },
   {
    "duration": 306,
    "start_time": "2021-07-05T20:29:35.285Z"
   },
   {
    "duration": 300,
    "start_time": "2021-07-05T20:29:53.025Z"
   },
   {
    "duration": 302,
    "start_time": "2021-07-05T20:30:01.861Z"
   },
   {
    "duration": 383,
    "start_time": "2021-07-05T20:30:24.032Z"
   },
   {
    "duration": 276,
    "start_time": "2021-07-05T20:30:46.445Z"
   },
   {
    "duration": 275,
    "start_time": "2021-07-05T20:31:17.556Z"
   },
   {
    "duration": 6,
    "start_time": "2021-07-05T20:31:29.757Z"
   },
   {
    "duration": 5324,
    "start_time": "2021-07-05T20:31:48.413Z"
   },
   {
    "duration": 8,
    "start_time": "2021-07-05T20:31:54.520Z"
   },
   {
    "duration": 7,
    "start_time": "2021-07-05T20:31:57.614Z"
   },
   {
    "duration": 98,
    "start_time": "2021-07-05T20:32:04.277Z"
   },
   {
    "duration": 20,
    "start_time": "2021-07-05T20:32:05.880Z"
   },
   {
    "duration": 16,
    "start_time": "2021-07-05T20:32:07.473Z"
   },
   {
    "duration": 15,
    "start_time": "2021-07-05T20:32:11.912Z"
   },
   {
    "duration": 13,
    "start_time": "2021-07-05T20:32:14.139Z"
   },
   {
    "duration": 14,
    "start_time": "2021-07-05T20:32:15.447Z"
   },
   {
    "duration": 9,
    "start_time": "2021-07-05T20:32:16.839Z"
   },
   {
    "duration": 11,
    "start_time": "2021-07-05T20:32:18.129Z"
   },
   {
    "duration": 699,
    "start_time": "2021-07-05T20:32:20.077Z"
   },
   {
    "duration": 10,
    "start_time": "2021-07-05T20:32:20.977Z"
   },
   {
    "duration": 23,
    "start_time": "2021-07-05T20:32:22.430Z"
   },
   {
    "duration": 10,
    "start_time": "2021-07-05T20:32:24.713Z"
   },
   {
    "duration": 9,
    "start_time": "2021-07-05T20:32:26.118Z"
   },
   {
    "duration": 970,
    "start_time": "2021-07-05T20:32:27.804Z"
   },
   {
    "duration": 3,
    "start_time": "2021-07-05T20:32:28.776Z"
   },
   {
    "duration": 8,
    "start_time": "2021-07-05T20:32:29.337Z"
   },
   {
    "duration": 7,
    "start_time": "2021-07-05T20:32:31.559Z"
   },
   {
    "duration": 51,
    "start_time": "2021-07-05T20:32:34.481Z"
   },
   {
    "duration": 7008,
    "start_time": "2021-07-05T20:32:37.417Z"
   },
   {
    "duration": 105,
    "start_time": "2021-07-05T20:32:44.433Z"
   },
   {
    "duration": -8,
    "start_time": "2021-07-05T20:32:44.549Z"
   },
   {
    "duration": 7,
    "start_time": "2021-07-05T20:32:57.474Z"
   },
   {
    "duration": 10,
    "start_time": "2021-07-05T20:33:11.600Z"
   },
   {
    "duration": 542,
    "start_time": "2021-07-05T20:33:18.943Z"
   },
   {
    "duration": 525,
    "start_time": "2021-07-05T20:33:27.020Z"
   },
   {
    "duration": 492,
    "start_time": "2021-07-05T20:34:35.070Z"
   },
   {
    "duration": 449,
    "start_time": "2021-07-05T20:34:43.220Z"
   },
   {
    "duration": 442,
    "start_time": "2021-07-05T20:34:59.268Z"
   },
   {
    "duration": 529,
    "start_time": "2021-07-05T20:35:45.151Z"
   },
   {
    "duration": 454,
    "start_time": "2021-07-05T20:35:57.686Z"
   },
   {
    "duration": 474,
    "start_time": "2021-07-05T20:49:58.638Z"
   },
   {
    "duration": 479,
    "start_time": "2021-07-05T20:50:08.940Z"
   },
   {
    "duration": 462,
    "start_time": "2021-07-05T20:50:49.083Z"
   },
   {
    "duration": 516,
    "start_time": "2021-07-05T20:51:37.495Z"
   },
   {
    "duration": 483,
    "start_time": "2021-07-05T20:53:32.880Z"
   },
   {
    "duration": 485,
    "start_time": "2021-07-05T20:55:07.072Z"
   },
   {
    "duration": 573,
    "start_time": "2021-07-05T20:56:26.039Z"
   },
   {
    "duration": 133,
    "start_time": "2021-07-05T21:22:42.827Z"
   },
   {
    "duration": 502,
    "start_time": "2021-07-05T21:22:59.064Z"
   },
   {
    "duration": 483,
    "start_time": "2021-07-05T21:23:14.500Z"
   },
   {
    "duration": 472,
    "start_time": "2021-07-05T21:23:58.732Z"
   },
   {
    "duration": 498,
    "start_time": "2021-07-05T21:24:21.932Z"
   },
   {
    "duration": 496,
    "start_time": "2021-07-05T21:25:05.068Z"
   },
   {
    "duration": 523,
    "start_time": "2021-07-05T21:27:01.043Z"
   },
   {
    "duration": 504,
    "start_time": "2021-07-05T21:27:24.673Z"
   },
   {
    "duration": 105,
    "start_time": "2021-07-05T21:28:04.801Z"
   },
   {
    "duration": 577,
    "start_time": "2021-07-05T21:28:10.987Z"
   },
   {
    "duration": 503,
    "start_time": "2021-07-05T21:29:15.492Z"
   },
   {
    "duration": 10,
    "start_time": "2021-07-05T21:33:29.816Z"
   },
   {
    "duration": 13,
    "start_time": "2021-07-05T21:36:02.711Z"
   },
   {
    "duration": 13,
    "start_time": "2021-07-05T21:37:19.641Z"
   },
   {
    "duration": 13,
    "start_time": "2021-07-05T21:37:34.390Z"
   },
   {
    "duration": 113,
    "start_time": "2021-07-05T21:37:58.791Z"
   },
   {
    "duration": 10,
    "start_time": "2021-07-05T21:38:08.760Z"
   },
   {
    "duration": 282,
    "start_time": "2021-07-05T21:52:09.472Z"
   },
   {
    "duration": 7,
    "start_time": "2021-07-05T21:52:33.419Z"
   },
   {
    "duration": 21,
    "start_time": "2021-07-05T21:54:38.286Z"
   },
   {
    "duration": 46,
    "start_time": "2021-07-05T21:55:52.698Z"
   },
   {
    "duration": 50,
    "start_time": "2021-07-05T21:56:17.410Z"
   },
   {
    "duration": 33,
    "start_time": "2021-07-05T21:56:32.422Z"
   },
   {
    "duration": 32,
    "start_time": "2021-07-05T21:56:52.736Z"
   },
   {
    "duration": 25,
    "start_time": "2021-07-05T21:59:41.756Z"
   },
   {
    "duration": 31,
    "start_time": "2021-07-05T22:00:12.716Z"
   },
   {
    "duration": 21,
    "start_time": "2021-07-05T22:08:35.911Z"
   },
   {
    "duration": 11,
    "start_time": "2021-07-05T22:09:00.787Z"
   },
   {
    "duration": 17,
    "start_time": "2021-07-05T22:09:16.992Z"
   },
   {
    "duration": 84,
    "start_time": "2021-07-05T22:10:04.468Z"
   },
   {
    "duration": 8,
    "start_time": "2021-07-05T22:10:13.258Z"
   },
   {
    "duration": 11,
    "start_time": "2021-07-05T22:10:52.578Z"
   },
   {
    "duration": 14,
    "start_time": "2021-07-05T22:11:19.657Z"
   },
   {
    "duration": 33,
    "start_time": "2021-07-05T22:23:49.951Z"
   },
   {
    "duration": 304,
    "start_time": "2021-07-05T22:24:03.632Z"
   },
   {
    "duration": 14,
    "start_time": "2021-07-05T22:24:45.348Z"
   },
   {
    "duration": 425,
    "start_time": "2021-07-05T22:28:28.432Z"
   },
   {
    "duration": 15,
    "start_time": "2021-07-05T22:28:33.130Z"
   },
   {
    "duration": 17,
    "start_time": "2021-07-05T22:29:09.038Z"
   },
   {
    "duration": 12,
    "start_time": "2021-07-05T22:29:22.799Z"
   },
   {
    "duration": 161,
    "start_time": "2021-07-05T22:29:37.472Z"
   },
   {
    "duration": 38,
    "start_time": "2021-07-05T22:29:38.587Z"
   },
   {
    "duration": 20,
    "start_time": "2021-07-05T22:29:39.925Z"
   },
   {
    "duration": 16,
    "start_time": "2021-07-05T22:29:50.378Z"
   },
   {
    "duration": 23,
    "start_time": "2021-07-05T22:29:52.368Z"
   },
   {
    "duration": 22,
    "start_time": "2021-07-05T22:29:53.492Z"
   },
   {
    "duration": 14,
    "start_time": "2021-07-05T22:29:54.495Z"
   },
   {
    "duration": 13,
    "start_time": "2021-07-05T22:29:55.384Z"
   },
   {
    "duration": 692,
    "start_time": "2021-07-05T22:29:56.618Z"
   },
   {
    "duration": 13,
    "start_time": "2021-07-05T22:30:04.621Z"
   },
   {
    "duration": 21,
    "start_time": "2021-07-05T22:30:06.453Z"
   },
   {
    "duration": 9,
    "start_time": "2021-07-05T22:30:09.602Z"
   },
   {
    "duration": 16,
    "start_time": "2021-07-05T22:30:10.705Z"
   },
   {
    "duration": 937,
    "start_time": "2021-07-05T22:30:11.763Z"
   },
   {
    "duration": 3,
    "start_time": "2021-07-05T22:30:12.704Z"
   },
   {
    "duration": 10,
    "start_time": "2021-07-05T22:30:12.829Z"
   },
   {
    "duration": 6,
    "start_time": "2021-07-05T22:30:14.056Z"
   },
   {
    "duration": 57,
    "start_time": "2021-07-05T22:30:16.004Z"
   },
   {
    "duration": 6652,
    "start_time": "2021-07-05T22:30:18.941Z"
   },
   {
    "duration": 462,
    "start_time": "2021-07-05T22:30:27.593Z"
   },
   {
    "duration": 441,
    "start_time": "2021-07-05T22:32:12.309Z"
   },
   {
    "duration": 440,
    "start_time": "2021-07-05T22:32:33.585Z"
   },
   {
    "duration": 9,
    "start_time": "2021-07-05T22:32:38.892Z"
   },
   {
    "duration": 378,
    "start_time": "2021-07-05T22:35:56.636Z"
   },
   {
    "duration": 9,
    "start_time": "2021-07-05T22:36:04.023Z"
   },
   {
    "duration": 717,
    "start_time": "2021-07-05T22:36:18.185Z"
   },
   {
    "duration": 12,
    "start_time": "2021-07-05T22:36:25.518Z"
   },
   {
    "duration": 31,
    "start_time": "2021-07-05T22:36:26.762Z"
   },
   {
    "duration": 14,
    "start_time": "2021-07-05T22:36:29.937Z"
   },
   {
    "duration": 10,
    "start_time": "2021-07-05T22:36:34.751Z"
   },
   {
    "duration": 415,
    "start_time": "2021-07-05T22:37:46.436Z"
   },
   {
    "duration": 9,
    "start_time": "2021-07-05T22:38:06.171Z"
   },
   {
    "duration": 25,
    "start_time": "2021-07-05T22:38:55.703Z"
   },
   {
    "duration": 22,
    "start_time": "2021-07-05T22:45:02.059Z"
   },
   {
    "duration": 5281,
    "start_time": "2021-07-05T22:48:04.159Z"
   },
   {
    "duration": 12,
    "start_time": "2021-07-05T22:52:25.572Z"
   },
   {
    "duration": 273,
    "start_time": "2021-07-05T22:53:49.990Z"
   },
   {
    "duration": 273,
    "start_time": "2021-07-05T22:54:00.742Z"
   },
   {
    "duration": 89,
    "start_time": "2021-07-05T22:54:14.638Z"
   },
   {
    "duration": 13,
    "start_time": "2021-07-05T22:54:27.430Z"
   },
   {
    "duration": 356,
    "start_time": "2021-07-05T22:57:55.698Z"
   },
   {
    "duration": 12,
    "start_time": "2021-07-05T22:59:15.331Z"
   },
   {
    "duration": 14,
    "start_time": "2021-07-05T23:03:57.057Z"
   },
   {
    "duration": 115,
    "start_time": "2021-07-05T23:04:16.612Z"
   },
   {
    "duration": 13,
    "start_time": "2021-07-05T23:04:33.777Z"
   },
   {
    "duration": 15,
    "start_time": "2021-07-05T23:05:45.280Z"
   },
   {
    "duration": 17,
    "start_time": "2021-07-05T23:05:58.293Z"
   },
   {
    "duration": 19,
    "start_time": "2021-07-05T23:07:14.119Z"
   },
   {
    "duration": 26,
    "start_time": "2021-07-05T23:09:00.084Z"
   },
   {
    "duration": 25,
    "start_time": "2021-07-05T23:09:50.630Z"
   },
   {
    "duration": 91,
    "start_time": "2021-07-05T23:21:10.795Z"
   },
   {
    "duration": 264,
    "start_time": "2021-07-05T23:21:24.654Z"
   },
   {
    "duration": 288,
    "start_time": "2021-07-05T23:24:01.397Z"
   },
   {
    "duration": 288,
    "start_time": "2021-07-05T23:24:27.236Z"
   },
   {
    "duration": 281,
    "start_time": "2021-07-05T23:24:58.742Z"
   },
   {
    "duration": 393,
    "start_time": "2021-07-05T23:25:36.963Z"
   },
   {
    "duration": 20,
    "start_time": "2021-07-05T23:27:40.521Z"
   },
   {
    "duration": 371,
    "start_time": "2021-07-05T23:28:19.812Z"
   },
   {
    "duration": 15,
    "start_time": "2021-07-05T23:28:25.581Z"
   },
   {
    "duration": 355,
    "start_time": "2021-07-05T23:29:07.710Z"
   },
   {
    "duration": 444,
    "start_time": "2021-07-05T23:29:34.709Z"
   },
   {
    "duration": 16,
    "start_time": "2021-07-05T23:29:38.911Z"
   },
   {
    "duration": 389,
    "start_time": "2021-07-05T23:30:02.174Z"
   },
   {
    "duration": 19,
    "start_time": "2021-07-05T23:30:02.870Z"
   },
   {
    "duration": 15,
    "start_time": "2021-07-05T23:31:01.001Z"
   },
   {
    "duration": 13,
    "start_time": "2021-07-05T23:31:18.009Z"
   },
   {
    "duration": 89,
    "start_time": "2021-07-05T23:49:43.126Z"
   },
   {
    "duration": 352,
    "start_time": "2021-07-05T23:50:03.667Z"
   },
   {
    "duration": 934,
    "start_time": "2021-07-06T08:50:58.591Z"
   },
   {
    "duration": 28,
    "start_time": "2021-07-06T08:51:00.446Z"
   },
   {
    "duration": 21,
    "start_time": "2021-07-06T08:51:01.795Z"
   },
   {
    "duration": 15,
    "start_time": "2021-07-06T08:51:05.177Z"
   },
   {
    "duration": 16,
    "start_time": "2021-07-06T08:51:06.644Z"
   },
   {
    "duration": 20,
    "start_time": "2021-07-06T08:51:07.701Z"
   },
   {
    "duration": 11,
    "start_time": "2021-07-06T08:51:08.872Z"
   },
   {
    "duration": 16,
    "start_time": "2021-07-06T08:51:09.977Z"
   },
   {
    "duration": 722,
    "start_time": "2021-07-06T08:51:11.144Z"
   },
   {
    "duration": 18,
    "start_time": "2021-07-06T08:51:12.259Z"
   },
   {
    "duration": 35,
    "start_time": "2021-07-06T08:51:13.271Z"
   },
   {
    "duration": 8,
    "start_time": "2021-07-06T08:51:14.913Z"
   },
   {
    "duration": 7,
    "start_time": "2021-07-06T08:51:16.017Z"
   },
   {
    "duration": 1028,
    "start_time": "2021-07-06T08:51:17.321Z"
   },
   {
    "duration": 14,
    "start_time": "2021-07-06T08:51:18.352Z"
   },
   {
    "duration": 9,
    "start_time": "2021-07-06T08:51:18.989Z"
   },
   {
    "duration": 6,
    "start_time": "2021-07-06T08:51:20.717Z"
   },
   {
    "duration": 41,
    "start_time": "2021-07-06T08:51:22.879Z"
   },
   {
    "duration": 7037,
    "start_time": "2021-07-06T08:51:25.335Z"
   },
   {
    "duration": 495,
    "start_time": "2021-07-06T08:51:32.374Z"
   },
   {
    "duration": 466,
    "start_time": "2021-07-06T08:51:32.872Z"
   },
   {
    "duration": 21,
    "start_time": "2021-07-06T08:51:49.834Z"
   },
   {
    "duration": 41,
    "start_time": "2021-07-06T08:51:52.129Z"
   },
   {
    "duration": 26,
    "start_time": "2021-07-06T08:51:55.753Z"
   },
   {
    "duration": 30,
    "start_time": "2021-07-06T08:51:58.654Z"
   },
   {
    "duration": 18,
    "start_time": "2021-07-06T08:52:00.004Z"
   },
   {
    "duration": 517,
    "start_time": "2021-07-06T08:52:31.740Z"
   },
   {
    "duration": 19,
    "start_time": "2021-07-06T08:52:33.022Z"
   },
   {
    "duration": 17,
    "start_time": "2021-07-06T08:53:05.503Z"
   },
   {
    "duration": 8,
    "start_time": "2021-07-06T08:57:41.033Z"
   },
   {
    "duration": 1090,
    "start_time": "2021-07-06T09:05:08.066Z"
   },
   {
    "duration": 29,
    "start_time": "2021-07-06T09:05:11.064Z"
   },
   {
    "duration": 17,
    "start_time": "2021-07-06T09:05:12.943Z"
   },
   {
    "duration": 13,
    "start_time": "2021-07-06T09:05:17.865Z"
   },
   {
    "duration": 24,
    "start_time": "2021-07-06T09:05:21.304Z"
   },
   {
    "duration": 29,
    "start_time": "2021-07-06T09:05:30.377Z"
   },
   {
    "duration": 12,
    "start_time": "2021-07-06T09:05:31.952Z"
   },
   {
    "duration": 13,
    "start_time": "2021-07-06T09:05:37.737Z"
   },
   {
    "duration": 1233,
    "start_time": "2021-07-06T09:05:41.122Z"
   },
   {
    "duration": 11,
    "start_time": "2021-07-06T09:05:44.057Z"
   },
   {
    "duration": 31,
    "start_time": "2021-07-06T09:05:45.695Z"
   },
   {
    "duration": 8,
    "start_time": "2021-07-06T09:05:48.412Z"
   },
   {
    "duration": 7,
    "start_time": "2021-07-06T09:05:49.794Z"
   },
   {
    "duration": 1709,
    "start_time": "2021-07-06T09:05:51.698Z"
   },
   {
    "duration": 3,
    "start_time": "2021-07-06T09:05:53.411Z"
   },
   {
    "duration": 9,
    "start_time": "2021-07-06T09:05:53.464Z"
   },
   {
    "duration": 851,
    "start_time": "2021-07-06T09:05:54.574Z"
   },
   {
    "duration": 888,
    "start_time": "2021-07-06T09:06:20.366Z"
   },
   {
    "duration": 828,
    "start_time": "2021-07-06T09:07:34.205Z"
   },
   {
    "duration": 1257,
    "start_time": "2021-07-06T09:08:22.937Z"
   },
   {
    "duration": 7,
    "start_time": "2021-07-06T09:09:40.809Z"
   },
   {
    "duration": 906,
    "start_time": "2021-07-06T09:13:23.522Z"
   },
   {
    "duration": 20,
    "start_time": "2021-07-06T09:13:28.235Z"
   },
   {
    "duration": 18,
    "start_time": "2021-07-06T09:13:33.027Z"
   },
   {
    "duration": 15,
    "start_time": "2021-07-06T09:13:51.164Z"
   },
   {
    "duration": 29,
    "start_time": "2021-07-06T09:13:56.765Z"
   },
   {
    "duration": 22,
    "start_time": "2021-07-06T09:13:58.452Z"
   },
   {
    "duration": 9,
    "start_time": "2021-07-06T09:14:00.131Z"
   },
   {
    "duration": 13,
    "start_time": "2021-07-06T09:14:11.053Z"
   },
   {
    "duration": 675,
    "start_time": "2021-07-06T09:14:12.796Z"
   },
   {
    "duration": 10,
    "start_time": "2021-07-06T09:14:22.937Z"
   },
   {
    "duration": 35,
    "start_time": "2021-07-06T09:14:25.541Z"
   },
   {
    "duration": 923,
    "start_time": "2021-07-06T09:16:16.607Z"
   },
   {
    "duration": 4,
    "start_time": "2021-07-06T09:16:17.532Z"
   },
   {
    "duration": 8,
    "start_time": "2021-07-06T09:16:18.270Z"
   },
   {
    "duration": 9,
    "start_time": "2021-07-06T09:16:27.683Z"
   },
   {
    "duration": 872,
    "start_time": "2021-07-06T09:16:42.092Z"
   },
   {
    "duration": 8,
    "start_time": "2021-07-06T09:16:54.876Z"
   },
   {
    "duration": 48,
    "start_time": "2021-07-06T09:17:00.838Z"
   },
   {
    "duration": 7219,
    "start_time": "2021-07-06T09:17:10.392Z"
   },
   {
    "duration": 677,
    "start_time": "2021-07-06T09:17:39.810Z"
   },
   {
    "duration": 418,
    "start_time": "2021-07-06T09:19:13.905Z"
   },
   {
    "duration": 14,
    "start_time": "2021-07-06T09:19:25.730Z"
   },
   {
    "duration": 40,
    "start_time": "2021-07-06T09:19:56.428Z"
   },
   {
    "duration": 14,
    "start_time": "2021-07-06T09:20:07.793Z"
   },
   {
    "duration": 73,
    "start_time": "2021-07-06T09:21:39.190Z"
   },
   {
    "duration": 48,
    "start_time": "2021-07-06T09:23:28.675Z"
   },
   {
    "duration": 47,
    "start_time": "2021-07-06T09:23:37.351Z"
   },
   {
    "duration": 50,
    "start_time": "2021-07-06T09:23:39.992Z"
   },
   {
    "duration": 109,
    "start_time": "2021-07-06T09:23:44.133Z"
   },
   {
    "duration": 39,
    "start_time": "2021-07-06T09:23:46.374Z"
   },
   {
    "duration": 21,
    "start_time": "2021-07-06T09:23:48.464Z"
   },
   {
    "duration": 12,
    "start_time": "2021-07-06T09:23:52.693Z"
   },
   {
    "duration": 19,
    "start_time": "2021-07-06T09:23:54.764Z"
   },
   {
    "duration": 17,
    "start_time": "2021-07-06T09:23:56.115Z"
   },
   {
    "duration": 11,
    "start_time": "2021-07-06T09:23:57.555Z"
   },
   {
    "duration": 10,
    "start_time": "2021-07-06T09:23:59.040Z"
   },
   {
    "duration": 1012,
    "start_time": "2021-07-06T09:24:00.473Z"
   },
   {
    "duration": 9,
    "start_time": "2021-07-06T09:24:01.771Z"
   },
   {
    "duration": 30,
    "start_time": "2021-07-06T09:24:03.149Z"
   },
   {
    "duration": 7,
    "start_time": "2021-07-06T09:24:06.262Z"
   },
   {
    "duration": 17,
    "start_time": "2021-07-06T09:24:07.468Z"
   },
   {
    "duration": 1003,
    "start_time": "2021-07-06T09:24:08.895Z"
   },
   {
    "duration": 5,
    "start_time": "2021-07-06T09:24:09.901Z"
   },
   {
    "duration": 8,
    "start_time": "2021-07-06T09:24:10.245Z"
   },
   {
    "duration": 15,
    "start_time": "2021-07-06T09:24:11.596Z"
   },
   {
    "duration": 684,
    "start_time": "2021-07-06T09:24:13.588Z"
   },
   {
    "duration": 22,
    "start_time": "2021-07-06T09:24:17.581Z"
   },
   {
    "duration": 70,
    "start_time": "2021-07-06T09:24:22.987Z"
   },
   {
    "duration": 6983,
    "start_time": "2021-07-06T09:24:26.364Z"
   },
   {
    "duration": 494,
    "start_time": "2021-07-06T09:24:34.669Z"
   },
   {
    "duration": 453,
    "start_time": "2021-07-06T09:24:42.518Z"
   },
   {
    "duration": 19,
    "start_time": "2021-07-06T09:24:48.822Z"
   },
   {
    "duration": 38,
    "start_time": "2021-07-06T09:24:50.543Z"
   },
   {
    "duration": 16,
    "start_time": "2021-07-06T09:24:54.849Z"
   },
   {
    "duration": 17,
    "start_time": "2021-07-06T09:24:58.157Z"
   },
   {
    "duration": 25,
    "start_time": "2021-07-06T09:25:02.490Z"
   },
   {
    "duration": 435,
    "start_time": "2021-07-06T09:25:05.536Z"
   },
   {
    "duration": 23,
    "start_time": "2021-07-06T09:25:06.687Z"
   },
   {
    "duration": 40,
    "start_time": "2021-07-06T09:25:18.364Z"
   },
   {
    "duration": 522,
    "start_time": "2021-07-06T09:44:49.001Z"
   },
   {
    "duration": 9,
    "start_time": "2021-07-06T09:45:05.814Z"
   },
   {
    "duration": 12,
    "start_time": "2021-07-06T09:45:29.250Z"
   },
   {
    "duration": 14,
    "start_time": "2021-07-06T09:49:07.096Z"
   },
   {
    "duration": 100,
    "start_time": "2021-07-06T10:36:32.607Z"
   },
   {
    "duration": 25,
    "start_time": "2021-07-06T10:36:37.217Z"
   },
   {
    "duration": 97,
    "start_time": "2021-07-06T10:40:23.965Z"
   },
   {
    "duration": 28,
    "start_time": "2021-07-06T10:40:37.154Z"
   },
   {
    "duration": 320,
    "start_time": "2021-07-06T10:41:24.991Z"
   },
   {
    "duration": 20,
    "start_time": "2021-07-06T10:41:39.151Z"
   },
   {
    "duration": 100,
    "start_time": "2021-07-06T11:07:19.687Z"
   },
   {
    "duration": 18,
    "start_time": "2021-07-06T11:07:28.052Z"
   },
   {
    "duration": 10,
    "start_time": "2021-07-06T11:09:30.249Z"
   },
   {
    "duration": 15,
    "start_time": "2021-07-06T11:09:56.741Z"
   },
   {
    "duration": 14,
    "start_time": "2021-07-06T11:11:28.850Z"
   },
   {
    "duration": 9,
    "start_time": "2021-07-06T11:11:43.054Z"
   },
   {
    "duration": 74,
    "start_time": "2021-07-06T11:14:42.191Z"
   },
   {
    "duration": 18,
    "start_time": "2021-07-06T11:14:42.268Z"
   },
   {
    "duration": 17,
    "start_time": "2021-07-06T11:14:42.289Z"
   },
   {
    "duration": 21,
    "start_time": "2021-07-06T11:14:42.309Z"
   },
   {
    "duration": 41,
    "start_time": "2021-07-06T11:14:42.332Z"
   },
   {
    "duration": 29,
    "start_time": "2021-07-06T11:14:42.375Z"
   },
   {
    "duration": 9,
    "start_time": "2021-07-06T11:14:42.407Z"
   },
   {
    "duration": 16,
    "start_time": "2021-07-06T11:14:42.419Z"
   },
   {
    "duration": 652,
    "start_time": "2021-07-06T11:14:42.438Z"
   },
   {
    "duration": 7,
    "start_time": "2021-07-06T11:14:43.092Z"
   },
   {
    "duration": 20,
    "start_time": "2021-07-06T11:14:43.102Z"
   },
   {
    "duration": 40,
    "start_time": "2021-07-06T11:19:55.686Z"
   },
   {
    "duration": 9282,
    "start_time": "2021-07-06T11:20:45.095Z"
   },
   {
    "duration": 9482,
    "start_time": "2021-07-06T11:22:10.940Z"
   },
   {
    "duration": 75,
    "start_time": "2021-07-06T11:22:31.648Z"
   },
   {
    "duration": 20,
    "start_time": "2021-07-06T11:22:35.955Z"
   },
   {
    "duration": 19,
    "start_time": "2021-07-06T11:22:38.282Z"
   },
   {
    "duration": 11,
    "start_time": "2021-07-06T11:22:43.875Z"
   },
   {
    "duration": 15,
    "start_time": "2021-07-06T11:22:47.263Z"
   },
   {
    "duration": 14,
    "start_time": "2021-07-06T11:22:49.951Z"
   },
   {
    "duration": 9,
    "start_time": "2021-07-06T11:22:52.281Z"
   },
   {
    "duration": 9,
    "start_time": "2021-07-06T11:22:54.679Z"
   },
   {
    "duration": 719,
    "start_time": "2021-07-06T11:22:57.217Z"
   },
   {
    "duration": 8,
    "start_time": "2021-07-06T11:22:59.683Z"
   },
   {
    "duration": 22,
    "start_time": "2021-07-06T11:23:01.944Z"
   },
   {
    "duration": 8,
    "start_time": "2021-07-06T11:23:06.376Z"
   },
   {
    "duration": 5,
    "start_time": "2021-07-06T11:23:08.447Z"
   },
   {
    "duration": 852,
    "start_time": "2021-07-06T11:23:10.358Z"
   },
   {
    "duration": 3,
    "start_time": "2021-07-06T11:23:11.822Z"
   },
   {
    "duration": 8,
    "start_time": "2021-07-06T11:23:13.025Z"
   },
   {
    "duration": 9,
    "start_time": "2021-07-06T11:23:15.241Z"
   },
   {
    "duration": 608,
    "start_time": "2021-07-06T11:23:17.491Z"
   },
   {
    "duration": 6,
    "start_time": "2021-07-06T11:23:23.297Z"
   },
   {
    "duration": 40,
    "start_time": "2021-07-06T11:23:28.662Z"
   },
   {
    "duration": 6360,
    "start_time": "2021-07-06T11:23:33.288Z"
   },
   {
    "duration": 401,
    "start_time": "2021-07-06T11:23:39.663Z"
   },
   {
    "duration": 387,
    "start_time": "2021-07-06T11:27:32.476Z"
   },
   {
    "duration": 393,
    "start_time": "2021-07-06T11:27:35.671Z"
   },
   {
    "duration": 15,
    "start_time": "2021-07-06T11:27:54.639Z"
   },
   {
    "duration": 31,
    "start_time": "2021-07-06T11:27:56.540Z"
   },
   {
    "duration": 13,
    "start_time": "2021-07-06T11:27:58.320Z"
   },
   {
    "duration": 18,
    "start_time": "2021-07-06T11:28:01.861Z"
   },
   {
    "duration": 11,
    "start_time": "2021-07-06T11:28:05.428Z"
   },
   {
    "duration": 18,
    "start_time": "2021-07-06T11:28:06.822Z"
   },
   {
    "duration": 385,
    "start_time": "2021-07-06T11:28:08.116Z"
   },
   {
    "duration": 18,
    "start_time": "2021-07-06T11:28:09.547Z"
   },
   {
    "duration": 16,
    "start_time": "2021-07-06T11:28:11.939Z"
   },
   {
    "duration": 100,
    "start_time": "2021-07-06T14:39:22.380Z"
   },
   {
    "duration": 361,
    "start_time": "2021-07-06T14:39:22.123Z"
   },
   {
    "duration": 360,
    "start_time": "2021-07-06T14:39:22.126Z"
   },
   {
    "duration": 360,
    "start_time": "2021-07-06T14:39:22.128Z"
   },
   {
    "duration": 359,
    "start_time": "2021-07-06T14:39:22.131Z"
   },
   {
    "duration": 356,
    "start_time": "2021-07-06T14:39:22.136Z"
   },
   {
    "duration": 357,
    "start_time": "2021-07-06T14:39:22.137Z"
   },
   {
    "duration": 357,
    "start_time": "2021-07-06T14:39:22.139Z"
   },
   {
    "duration": 357,
    "start_time": "2021-07-06T14:39:22.141Z"
   },
   {
    "duration": 359,
    "start_time": "2021-07-06T14:39:22.142Z"
   },
   {
    "duration": 359,
    "start_time": "2021-07-06T14:39:22.144Z"
   },
   {
    "duration": 360,
    "start_time": "2021-07-06T14:39:22.146Z"
   },
   {
    "duration": 360,
    "start_time": "2021-07-06T14:39:22.148Z"
   },
   {
    "duration": 326,
    "start_time": "2021-07-06T14:39:22.184Z"
   },
   {
    "duration": 324,
    "start_time": "2021-07-06T14:39:22.188Z"
   },
   {
    "duration": 323,
    "start_time": "2021-07-06T14:39:22.191Z"
   },
   {
    "duration": 322,
    "start_time": "2021-07-06T14:39:22.194Z"
   },
   {
    "duration": 323,
    "start_time": "2021-07-06T14:39:22.196Z"
   },
   {
    "duration": 318,
    "start_time": "2021-07-06T14:39:22.203Z"
   },
   {
    "duration": 315,
    "start_time": "2021-07-06T14:39:22.207Z"
   },
   {
    "duration": 312,
    "start_time": "2021-07-06T14:39:22.211Z"
   },
   {
    "duration": 307,
    "start_time": "2021-07-06T14:39:22.217Z"
   },
   {
    "duration": 305,
    "start_time": "2021-07-06T14:39:22.220Z"
   },
   {
    "duration": 343,
    "start_time": "2021-07-06T14:39:22.224Z"
   },
   {
    "duration": 338,
    "start_time": "2021-07-06T14:39:22.230Z"
   },
   {
    "duration": 336,
    "start_time": "2021-07-06T14:39:22.234Z"
   },
   {
    "duration": 333,
    "start_time": "2021-07-06T14:39:22.238Z"
   },
   {
    "duration": 330,
    "start_time": "2021-07-06T14:39:22.242Z"
   },
   {
    "duration": 319,
    "start_time": "2021-07-06T14:39:22.255Z"
   },
   {
    "duration": 313,
    "start_time": "2021-07-06T14:39:22.262Z"
   },
   {
    "duration": 314,
    "start_time": "2021-07-06T14:39:22.263Z"
   },
   {
    "duration": 313,
    "start_time": "2021-07-06T14:39:22.265Z"
   },
   {
    "duration": 312,
    "start_time": "2021-07-06T14:39:22.267Z"
   },
   {
    "duration": 872,
    "start_time": "2021-07-06T14:39:33.242Z"
   },
   {
    "duration": 20,
    "start_time": "2021-07-06T14:39:34.116Z"
   },
   {
    "duration": 33,
    "start_time": "2021-07-06T14:39:34.139Z"
   },
   {
    "duration": 9,
    "start_time": "2021-07-06T14:39:34.175Z"
   },
   {
    "duration": 15,
    "start_time": "2021-07-06T14:39:34.186Z"
   },
   {
    "duration": 21,
    "start_time": "2021-07-06T14:39:34.204Z"
   },
   {
    "duration": 8,
    "start_time": "2021-07-06T14:39:34.227Z"
   },
   {
    "duration": 10,
    "start_time": "2021-07-06T14:39:34.267Z"
   },
   {
    "duration": 640,
    "start_time": "2021-07-06T14:39:34.282Z"
   },
   {
    "duration": 8,
    "start_time": "2021-07-06T14:39:34.925Z"
   },
   {
    "duration": 41,
    "start_time": "2021-07-06T14:39:34.935Z"
   },
   {
    "duration": 6,
    "start_time": "2021-07-06T14:39:34.979Z"
   },
   {
    "duration": 5,
    "start_time": "2021-07-06T14:39:34.988Z"
   },
   {
    "duration": 866,
    "start_time": "2021-07-06T14:39:34.996Z"
   },
   {
    "duration": 3,
    "start_time": "2021-07-06T14:39:35.864Z"
   },
   {
    "duration": 14,
    "start_time": "2021-07-06T14:39:35.870Z"
   },
   {
    "duration": 9,
    "start_time": "2021-07-06T14:39:35.886Z"
   },
   {
    "duration": 629,
    "start_time": "2021-07-06T14:39:35.897Z"
   },
   {
    "duration": 7,
    "start_time": "2021-07-06T14:39:36.528Z"
   },
   {
    "duration": 58,
    "start_time": "2021-07-06T14:39:36.538Z"
   },
   {
    "duration": 5578,
    "start_time": "2021-07-06T14:39:36.598Z"
   },
   {
    "duration": 430,
    "start_time": "2021-07-06T14:39:42.179Z"
   },
   {
    "duration": 440,
    "start_time": "2021-07-06T14:39:42.613Z"
   },
   {
    "duration": 27,
    "start_time": "2021-07-06T14:39:43.056Z"
   },
   {
    "duration": 23,
    "start_time": "2021-07-06T14:39:43.085Z"
   },
   {
    "duration": 11,
    "start_time": "2021-07-06T14:39:43.111Z"
   },
   {
    "duration": 56,
    "start_time": "2021-07-06T14:39:43.129Z"
   },
   {
    "duration": 14,
    "start_time": "2021-07-06T14:39:43.188Z"
   },
   {
    "duration": 18,
    "start_time": "2021-07-06T14:39:43.204Z"
   },
   {
    "duration": 459,
    "start_time": "2021-07-06T14:39:43.226Z"
   },
   {
    "duration": 22,
    "start_time": "2021-07-06T14:39:43.687Z"
   },
   {
    "duration": 13,
    "start_time": "2021-07-06T14:39:43.711Z"
   },
   {
    "duration": 137,
    "start_time": "2021-07-06T18:21:43.287Z"
   },
   {
    "duration": 130,
    "start_time": "2021-07-06T20:10:45.334Z"
   },
   {
    "duration": 450,
    "start_time": "2021-07-07T08:49:07.183Z"
   },
   {
    "duration": 816,
    "start_time": "2021-07-07T08:49:11.188Z"
   },
   {
    "duration": 44,
    "start_time": "2021-07-07T08:49:15.081Z"
   },
   {
    "duration": 99,
    "start_time": "2021-07-07T08:57:20.555Z"
   },
   {
    "duration": 112,
    "start_time": "2021-07-07T08:57:28.534Z"
   },
   {
    "duration": 447,
    "start_time": "2021-07-07T08:58:57.600Z"
   },
   {
    "duration": 96,
    "start_time": "2021-07-07T08:59:27.763Z"
   },
   {
    "duration": 315,
    "start_time": "2021-07-07T08:59:34.990Z"
   },
   {
    "duration": 310,
    "start_time": "2021-07-07T08:59:51.081Z"
   },
   {
    "duration": 543,
    "start_time": "2021-07-07T09:00:46.704Z"
   },
   {
    "duration": 335,
    "start_time": "2021-07-07T09:01:02.667Z"
   },
   {
    "duration": 79,
    "start_time": "2021-07-07T09:01:43.676Z"
   },
   {
    "duration": 299,
    "start_time": "2021-07-07T09:01:49.557Z"
   },
   {
    "duration": 337,
    "start_time": "2021-07-07T09:03:13.145Z"
   },
   {
    "duration": 14,
    "start_time": "2021-07-07T09:03:19.277Z"
   },
   {
    "duration": 356,
    "start_time": "2021-07-07T09:03:40.484Z"
   },
   {
    "duration": 371,
    "start_time": "2021-07-07T09:03:50.283Z"
   },
   {
    "duration": 37,
    "start_time": "2021-07-07T09:04:06.518Z"
   },
   {
    "duration": 300,
    "start_time": "2021-07-07T09:04:47.298Z"
   },
   {
    "duration": 39,
    "start_time": "2021-07-07T09:05:14.781Z"
   },
   {
    "duration": 39,
    "start_time": "2021-07-07T09:06:14.440Z"
   },
   {
    "duration": 19,
    "start_time": "2021-07-07T09:54:33.242Z"
   },
   {
    "duration": 9,
    "start_time": "2021-07-07T09:54:35.040Z"
   },
   {
    "duration": 9,
    "start_time": "2021-07-07T09:54:36.894Z"
   },
   {
    "duration": 613,
    "start_time": "2021-07-07T09:54:38.672Z"
   },
   {
    "duration": 8,
    "start_time": "2021-07-07T09:54:40.375Z"
   },
   {
    "duration": 22,
    "start_time": "2021-07-07T09:54:42.363Z"
   },
   {
    "duration": 17,
    "start_time": "2021-07-07T09:55:05.651Z"
   },
   {
    "duration": 79,
    "start_time": "2021-07-07T09:55:18.176Z"
   },
   {
    "duration": 35,
    "start_time": "2021-07-07T09:55:20.546Z"
   },
   {
    "duration": 16,
    "start_time": "2021-07-07T09:55:26.509Z"
   },
   {
    "duration": 51,
    "start_time": "2021-07-07T09:55:55.060Z"
   },
   {
    "duration": 12,
    "start_time": "2021-07-07T09:56:04.040Z"
   },
   {
    "duration": 15,
    "start_time": "2021-07-07T09:56:22.118Z"
   },
   {
    "duration": 15,
    "start_time": "2021-07-07T09:57:00.785Z"
   },
   {
    "duration": 8,
    "start_time": "2021-07-07T09:57:11.517Z"
   },
   {
    "duration": 11,
    "start_time": "2021-07-07T09:57:20.551Z"
   },
   {
    "duration": 736,
    "start_time": "2021-07-07T09:57:31.238Z"
   },
   {
    "duration": 8,
    "start_time": "2021-07-07T09:57:37.279Z"
   },
   {
    "duration": 19,
    "start_time": "2021-07-07T09:57:45.604Z"
   },
   {
    "duration": 5,
    "start_time": "2021-07-07T10:24:20.582Z"
   },
   {
    "duration": 8362,
    "start_time": "2021-07-07T10:53:25.635Z"
   },
   {
    "duration": -130,
    "start_time": "2021-07-07T10:53:34.130Z"
   },
   {
    "duration": 40,
    "start_time": "2021-07-07T10:53:35.521Z"
   },
   {
    "duration": 15,
    "start_time": "2021-07-07T10:53:39.651Z"
   },
   {
    "duration": 20,
    "start_time": "2021-07-07T10:53:42.608Z"
   },
   {
    "duration": 11,
    "start_time": "2021-07-07T10:53:45.756Z"
   },
   {
    "duration": 15,
    "start_time": "2021-07-07T10:53:47.432Z"
   },
   {
    "duration": 15,
    "start_time": "2021-07-07T10:53:48.580Z"
   },
   {
    "duration": 9,
    "start_time": "2021-07-07T10:53:50.010Z"
   },
   {
    "duration": 820,
    "start_time": "2021-07-07T10:54:46.709Z"
   },
   {
    "duration": 45,
    "start_time": "2021-07-07T10:54:47.686Z"
   },
   {
    "duration": 18,
    "start_time": "2021-07-07T10:54:52.321Z"
   },
   {
    "duration": 49,
    "start_time": "2021-07-07T10:54:55.023Z"
   },
   {
    "duration": 11,
    "start_time": "2021-07-07T10:54:58.689Z"
   },
   {
    "duration": 16,
    "start_time": "2021-07-07T10:55:01.640Z"
   },
   {
    "duration": 17,
    "start_time": "2021-07-07T10:55:03.011Z"
   },
   {
    "duration": 13,
    "start_time": "2021-07-07T10:55:05.047Z"
   },
   {
    "duration": 37,
    "start_time": "2021-07-07T11:01:04.083Z"
   },
   {
    "duration": 25,
    "start_time": "2021-07-07T11:03:41.220Z"
   },
   {
    "duration": 77,
    "start_time": "2021-07-07T11:04:33.095Z"
   },
   {
    "duration": 36,
    "start_time": "2021-07-07T11:04:34.300Z"
   },
   {
    "duration": 17,
    "start_time": "2021-07-07T11:04:37.043Z"
   },
   {
    "duration": 46,
    "start_time": "2021-07-07T11:04:39.404Z"
   },
   {
    "duration": 12,
    "start_time": "2021-07-07T11:04:43.554Z"
   },
   {
    "duration": 14,
    "start_time": "2021-07-07T11:04:46.389Z"
   },
   {
    "duration": 15,
    "start_time": "2021-07-07T11:04:47.784Z"
   },
   {
    "duration": 9,
    "start_time": "2021-07-07T11:04:49.280Z"
   },
   {
    "duration": 9,
    "start_time": "2021-07-07T11:04:50.856Z"
   },
   {
    "duration": 588,
    "start_time": "2021-07-07T11:04:52.487Z"
   },
   {
    "duration": 8,
    "start_time": "2021-07-07T11:04:54.251Z"
   },
   {
    "duration": 26,
    "start_time": "2021-07-07T11:04:56.412Z"
   },
   {
    "duration": 50,
    "start_time": "2021-07-07T11:09:46.608Z"
   },
   {
    "duration": 459,
    "start_time": "2021-07-07T11:10:30.337Z"
   },
   {
    "duration": 348,
    "start_time": "2021-07-07T11:10:57.740Z"
   },
   {
    "duration": 48,
    "start_time": "2021-07-07T11:11:16.654Z"
   },
   {
    "duration": 46,
    "start_time": "2021-07-07T11:11:28.173Z"
   },
   {
    "duration": 45,
    "start_time": "2021-07-07T11:11:39.444Z"
   },
   {
    "duration": 45,
    "start_time": "2021-07-07T11:11:52.349Z"
   },
   {
    "duration": 44,
    "start_time": "2021-07-07T11:11:57.444Z"
   },
   {
    "duration": 48,
    "start_time": "2021-07-07T11:12:05.343Z"
   },
   {
    "duration": 309,
    "start_time": "2021-07-07T11:12:50.838Z"
   },
   {
    "duration": 466,
    "start_time": "2021-07-07T11:14:41.214Z"
   },
   {
    "duration": 75,
    "start_time": "2021-07-07T11:14:53.846Z"
   },
   {
    "duration": 38,
    "start_time": "2021-07-07T11:14:55.040Z"
   },
   {
    "duration": 17,
    "start_time": "2021-07-07T11:14:57.390Z"
   },
   {
    "duration": 44,
    "start_time": "2021-07-07T11:14:59.931Z"
   },
   {
    "duration": 12,
    "start_time": "2021-07-07T11:15:01.712Z"
   },
   {
    "duration": 14,
    "start_time": "2021-07-07T11:15:03.156Z"
   },
   {
    "duration": 16,
    "start_time": "2021-07-07T11:15:04.163Z"
   },
   {
    "duration": 8,
    "start_time": "2021-07-07T11:15:05.445Z"
   },
   {
    "duration": 10,
    "start_time": "2021-07-07T11:15:06.463Z"
   },
   {
    "duration": 571,
    "start_time": "2021-07-07T11:15:10.843Z"
   },
   {
    "duration": 8,
    "start_time": "2021-07-07T11:15:11.802Z"
   },
   {
    "duration": 27,
    "start_time": "2021-07-07T11:15:14.366Z"
   },
   {
    "duration": 47,
    "start_time": "2021-07-07T11:15:17.594Z"
   },
   {
    "duration": 336,
    "start_time": "2021-07-07T11:17:16.275Z"
   },
   {
    "duration": 290,
    "start_time": "2021-07-07T11:17:50.384Z"
   },
   {
    "duration": 75,
    "start_time": "2021-07-07T11:18:51.336Z"
   },
   {
    "duration": 35,
    "start_time": "2021-07-07T11:18:52.798Z"
   },
   {
    "duration": 16,
    "start_time": "2021-07-07T11:18:55.363Z"
   },
   {
    "duration": 58,
    "start_time": "2021-07-07T11:18:58.913Z"
   },
   {
    "duration": 10,
    "start_time": "2021-07-07T11:19:02.540Z"
   },
   {
    "duration": 14,
    "start_time": "2021-07-07T11:19:04.373Z"
   },
   {
    "duration": 15,
    "start_time": "2021-07-07T11:19:05.735Z"
   },
   {
    "duration": 9,
    "start_time": "2021-07-07T11:19:07.299Z"
   },
   {
    "duration": 9,
    "start_time": "2021-07-07T11:19:08.493Z"
   },
   {
    "duration": 662,
    "start_time": "2021-07-07T11:19:10.123Z"
   },
   {
    "duration": 7,
    "start_time": "2021-07-07T11:19:11.239Z"
   },
   {
    "duration": 27,
    "start_time": "2021-07-07T11:19:12.981Z"
   },
   {
    "duration": 33,
    "start_time": "2021-07-07T11:19:15.435Z"
   },
   {
    "duration": 34,
    "start_time": "2021-07-07T11:19:33.671Z"
   },
   {
    "duration": 29,
    "start_time": "2021-07-07T11:19:56.543Z"
   },
   {
    "duration": 75,
    "start_time": "2021-07-07T11:20:36.793Z"
   },
   {
    "duration": 35,
    "start_time": "2021-07-07T11:20:37.855Z"
   },
   {
    "duration": 23,
    "start_time": "2021-07-07T11:20:40.035Z"
   },
   {
    "duration": 41,
    "start_time": "2021-07-07T11:20:42.289Z"
   },
   {
    "duration": 11,
    "start_time": "2021-07-07T11:20:45.085Z"
   },
   {
    "duration": 15,
    "start_time": "2021-07-07T11:20:47.131Z"
   },
   {
    "duration": 13,
    "start_time": "2021-07-07T11:20:48.323Z"
   },
   {
    "duration": 8,
    "start_time": "2021-07-07T11:20:49.484Z"
   },
   {
    "duration": 9,
    "start_time": "2021-07-07T11:20:50.722Z"
   },
   {
    "duration": 599,
    "start_time": "2021-07-07T11:20:51.994Z"
   },
   {
    "duration": 7,
    "start_time": "2021-07-07T11:20:53.107Z"
   },
   {
    "duration": 28,
    "start_time": "2021-07-07T11:20:54.449Z"
   },
   {
    "duration": 45,
    "start_time": "2021-07-07T11:21:15.933Z"
   },
   {
    "duration": 77,
    "start_time": "2021-07-07T11:21:46.236Z"
   },
   {
    "duration": 35,
    "start_time": "2021-07-07T11:21:47.448Z"
   },
   {
    "duration": 16,
    "start_time": "2021-07-07T11:21:49.730Z"
   },
   {
    "duration": 43,
    "start_time": "2021-07-07T11:21:52.689Z"
   },
   {
    "duration": 10,
    "start_time": "2021-07-07T11:21:56.040Z"
   },
   {
    "duration": 14,
    "start_time": "2021-07-07T11:21:58.077Z"
   },
   {
    "duration": 16,
    "start_time": "2021-07-07T11:21:59.954Z"
   },
   {
    "duration": 9,
    "start_time": "2021-07-07T11:22:02.003Z"
   },
   {
    "duration": 9,
    "start_time": "2021-07-07T11:22:03.307Z"
   },
   {
    "duration": 600,
    "start_time": "2021-07-07T11:22:05.276Z"
   },
   {
    "duration": 17,
    "start_time": "2021-07-07T11:22:06.550Z"
   },
   {
    "duration": 37,
    "start_time": "2021-07-07T11:22:31.330Z"
   },
   {
    "duration": 34,
    "start_time": "2021-07-07T11:22:52.369Z"
   },
   {
    "duration": 29,
    "start_time": "2021-07-07T11:25:04.468Z"
   },
   {
    "duration": 14,
    "start_time": "2021-07-07T11:29:35.350Z"
   },
   {
    "duration": 217,
    "start_time": "2021-07-07T11:35:19.216Z"
   },
   {
    "duration": 812,
    "start_time": "2021-07-07T11:35:48.244Z"
   },
   {
    "duration": 883,
    "start_time": "2021-07-07T11:37:36.147Z"
   },
   {
    "duration": 801,
    "start_time": "2021-07-07T11:38:17.510Z"
   },
   {
    "duration": 3,
    "start_time": "2021-07-07T11:45:33.009Z"
   },
   {
    "duration": 3,
    "start_time": "2021-07-07T11:46:58.950Z"
   },
   {
    "duration": 377,
    "start_time": "2021-07-07T11:51:25.653Z"
   },
   {
    "duration": 34,
    "start_time": "2021-07-07T11:51:25.999Z"
   },
   {
    "duration": 32,
    "start_time": "2021-07-07T11:51:26.003Z"
   },
   {
    "duration": 26,
    "start_time": "2021-07-07T11:51:26.010Z"
   },
   {
    "duration": 21,
    "start_time": "2021-07-07T11:51:26.017Z"
   },
   {
    "duration": 16,
    "start_time": "2021-07-07T11:51:26.023Z"
   },
   {
    "duration": 13,
    "start_time": "2021-07-07T11:51:26.028Z"
   },
   {
    "duration": 10,
    "start_time": "2021-07-07T11:51:26.032Z"
   },
   {
    "duration": 9,
    "start_time": "2021-07-07T11:51:26.035Z"
   },
   {
    "duration": 7,
    "start_time": "2021-07-07T11:51:26.038Z"
   },
   {
    "duration": 5,
    "start_time": "2021-07-07T11:51:26.041Z"
   },
   {
    "duration": 2,
    "start_time": "2021-07-07T11:51:26.046Z"
   },
   {
    "duration": -1,
    "start_time": "2021-07-07T11:51:26.050Z"
   },
   {
    "duration": -2,
    "start_time": "2021-07-07T11:51:26.053Z"
   },
   {
    "duration": 9,
    "start_time": "2021-07-07T11:55:42.505Z"
   },
   {
    "duration": 10,
    "start_time": "2021-07-07T11:56:26.282Z"
   },
   {
    "duration": 108,
    "start_time": "2021-07-07T11:57:17.526Z"
   },
   {
    "duration": 377,
    "start_time": "2021-07-07T11:57:21.557Z"
   },
   {
    "duration": 9,
    "start_time": "2021-07-07T11:57:55.959Z"
   },
   {
    "duration": 9,
    "start_time": "2021-07-07T11:58:13.811Z"
   },
   {
    "duration": 9,
    "start_time": "2021-07-07T11:58:59.544Z"
   },
   {
    "duration": 302,
    "start_time": "2021-07-07T12:01:25.030Z"
   },
   {
    "duration": 1175,
    "start_time": "2021-07-07T12:01:39.396Z"
   },
   {
    "duration": 36,
    "start_time": "2021-07-07T12:01:53.896Z"
   },
   {
    "duration": 171,
    "start_time": "2021-07-07T12:03:11.443Z"
   },
   {
    "duration": 10,
    "start_time": "2021-07-07T12:03:17.653Z"
   },
   {
    "duration": 159,
    "start_time": "2021-07-07T12:08:05.000Z"
   },
   {
    "duration": 109,
    "start_time": "2021-07-07T12:08:27.731Z"
   },
   {
    "duration": 104,
    "start_time": "2021-07-07T12:08:34.984Z"
   },
   {
    "duration": 99,
    "start_time": "2021-07-07T12:09:09.783Z"
   },
   {
    "duration": 95,
    "start_time": "2021-07-07T12:09:30.224Z"
   },
   {
    "duration": 127,
    "start_time": "2021-07-07T12:10:01.038Z"
   },
   {
    "duration": 336,
    "start_time": "2021-07-07T12:10:19.219Z"
   },
   {
    "duration": 97,
    "start_time": "2021-07-07T12:10:24.314Z"
   },
   {
    "duration": 99,
    "start_time": "2021-07-07T12:10:45.768Z"
   },
   {
    "duration": 75,
    "start_time": "2021-07-07T12:10:57.377Z"
   },
   {
    "duration": 39,
    "start_time": "2021-07-07T12:10:58.978Z"
   },
   {
    "duration": 17,
    "start_time": "2021-07-07T12:11:02.237Z"
   },
   {
    "duration": 43,
    "start_time": "2021-07-07T12:11:05.355Z"
   },
   {
    "duration": 10,
    "start_time": "2021-07-07T12:11:08.661Z"
   },
   {
    "duration": 14,
    "start_time": "2021-07-07T12:11:10.528Z"
   },
   {
    "duration": 14,
    "start_time": "2021-07-07T12:11:11.677Z"
   },
   {
    "duration": 8,
    "start_time": "2021-07-07T12:11:12.904Z"
   },
   {
    "duration": 11,
    "start_time": "2021-07-07T12:11:14.139Z"
   },
   {
    "duration": 587,
    "start_time": "2021-07-07T12:11:15.388Z"
   },
   {
    "duration": 8,
    "start_time": "2021-07-07T12:11:16.580Z"
   },
   {
    "duration": 27,
    "start_time": "2021-07-07T12:11:17.976Z"
   },
   {
    "duration": 787,
    "start_time": "2021-07-07T12:11:18.718Z"
   },
   {
    "duration": 3,
    "start_time": "2021-07-07T12:11:29.126Z"
   },
   {
    "duration": 8,
    "start_time": "2021-07-07T12:11:43.964Z"
   },
   {
    "duration": 5,
    "start_time": "2021-07-07T12:11:46.270Z"
   },
   {
    "duration": 13,
    "start_time": "2021-07-07T12:13:30.942Z"
   },
   {
    "duration": 298,
    "start_time": "2021-07-07T12:13:51.046Z"
   },
   {
    "duration": 18,
    "start_time": "2021-07-07T12:13:57.108Z"
   },
   {
    "duration": 107,
    "start_time": "2021-07-07T12:14:36.406Z"
   },
   {
    "duration": 12,
    "start_time": "2021-07-07T12:14:42.764Z"
   },
   {
    "duration": 9,
    "start_time": "2021-07-07T12:20:11.255Z"
   },
   {
    "duration": 95,
    "start_time": "2021-07-07T12:20:54.319Z"
   },
   {
    "duration": 40,
    "start_time": "2021-07-07T12:21:01.362Z"
   },
   {
    "duration": 115,
    "start_time": "2021-07-07T12:21:48.195Z"
   },
   {
    "duration": 356,
    "start_time": "2021-07-07T12:21:54.980Z"
   },
   {
    "duration": 10,
    "start_time": "2021-07-07T12:22:02.350Z"
   },
   {
    "duration": 306,
    "start_time": "2021-07-07T12:22:35.075Z"
   },
   {
    "duration": 66,
    "start_time": "2021-07-07T12:23:07.948Z"
   },
   {
    "duration": 8120,
    "start_time": "2021-07-07T12:23:11.808Z"
   },
   {
    "duration": 8,
    "start_time": "2021-07-07T12:23:28.008Z"
   },
   {
    "duration": 21,
    "start_time": "2021-07-07T12:25:34.942Z"
   },
   {
    "duration": 10,
    "start_time": "2021-07-07T12:40:57.354Z"
   },
   {
    "duration": 11,
    "start_time": "2021-07-07T12:41:46.714Z"
   },
   {
    "duration": 853,
    "start_time": "2021-07-07T19:04:32.065Z"
   },
   {
    "duration": 46,
    "start_time": "2021-07-07T19:04:34.262Z"
   },
   {
    "duration": 23,
    "start_time": "2021-07-07T19:04:37.442Z"
   },
   {
    "duration": 73,
    "start_time": "2021-07-07T19:04:41.011Z"
   },
   {
    "duration": 12,
    "start_time": "2021-07-07T19:04:45.196Z"
   },
   {
    "duration": 14,
    "start_time": "2021-07-07T19:04:47.365Z"
   },
   {
    "duration": 17,
    "start_time": "2021-07-07T19:04:48.663Z"
   },
   {
    "duration": 9,
    "start_time": "2021-07-07T19:04:49.909Z"
   },
   {
    "duration": 10,
    "start_time": "2021-07-07T19:04:51.188Z"
   },
   {
    "duration": 591,
    "start_time": "2021-07-07T19:04:52.509Z"
   },
   {
    "duration": 9,
    "start_time": "2021-07-07T19:04:53.767Z"
   },
   {
    "duration": 26,
    "start_time": "2021-07-07T19:04:54.997Z"
   },
   {
    "duration": 817,
    "start_time": "2021-07-07T19:04:55.726Z"
   },
   {
    "duration": 3,
    "start_time": "2021-07-07T19:04:58.819Z"
   },
   {
    "duration": 6,
    "start_time": "2021-07-07T19:05:00.710Z"
   },
   {
    "duration": 5,
    "start_time": "2021-07-07T19:05:02.126Z"
   },
   {
    "duration": 930,
    "start_time": "2021-07-07T19:05:03.996Z"
   },
   {
    "duration": 4,
    "start_time": "2021-07-07T19:05:08.709Z"
   },
   {
    "duration": 8,
    "start_time": "2021-07-07T19:05:09.663Z"
   },
   {
    "duration": 7,
    "start_time": "2021-07-07T19:05:12.195Z"
   },
   {
    "duration": 577,
    "start_time": "2021-07-07T19:05:13.825Z"
   },
   {
    "duration": 11,
    "start_time": "2021-07-07T19:05:36.090Z"
   },
   {
    "duration": 12,
    "start_time": "2021-07-07T19:05:36.868Z"
   },
   {
    "duration": 13,
    "start_time": "2021-07-07T19:05:40.849Z"
   },
   {
    "duration": 88,
    "start_time": "2021-07-07T19:05:45.867Z"
   },
   {
    "duration": 95,
    "start_time": "2021-07-07T19:06:07.817Z"
   },
   {
    "duration": 86,
    "start_time": "2021-07-07T19:08:31.119Z"
   },
   {
    "duration": 3225,
    "start_time": "2021-07-07T19:08:38.764Z"
   },
   {
    "duration": 80,
    "start_time": "2021-07-07T19:09:49.780Z"
   },
   {
    "duration": 37,
    "start_time": "2021-07-07T19:09:51.110Z"
   },
   {
    "duration": 17,
    "start_time": "2021-07-07T19:09:53.584Z"
   },
   {
    "duration": 40,
    "start_time": "2021-07-07T19:09:55.979Z"
   },
   {
    "duration": 11,
    "start_time": "2021-07-07T19:09:58.994Z"
   },
   {
    "duration": 14,
    "start_time": "2021-07-07T19:10:00.613Z"
   },
   {
    "duration": 18,
    "start_time": "2021-07-07T19:10:01.660Z"
   },
   {
    "duration": 8,
    "start_time": "2021-07-07T19:10:02.672Z"
   },
   {
    "duration": 9,
    "start_time": "2021-07-07T19:10:03.718Z"
   },
   {
    "duration": 623,
    "start_time": "2021-07-07T19:10:04.775Z"
   },
   {
    "duration": 8,
    "start_time": "2021-07-07T19:10:05.742Z"
   },
   {
    "duration": 26,
    "start_time": "2021-07-07T19:10:06.799Z"
   },
   {
    "duration": 907,
    "start_time": "2021-07-07T19:10:07.643Z"
   },
   {
    "duration": 3,
    "start_time": "2021-07-07T19:10:10.231Z"
   },
   {
    "duration": 10,
    "start_time": "2021-07-07T19:10:11.965Z"
   },
   {
    "duration": 5,
    "start_time": "2021-07-07T19:10:13.214Z"
   },
   {
    "duration": 870,
    "start_time": "2021-07-07T19:10:16.004Z"
   },
   {
    "duration": 4,
    "start_time": "2021-07-07T19:10:17.995Z"
   },
   {
    "duration": 9,
    "start_time": "2021-07-07T19:10:18.418Z"
   },
   {
    "duration": 10,
    "start_time": "2021-07-07T19:10:22.854Z"
   },
   {
    "duration": 631,
    "start_time": "2021-07-07T19:10:24.259Z"
   },
   {
    "duration": 9,
    "start_time": "2021-07-07T19:10:31.485Z"
   },
   {
    "duration": 13,
    "start_time": "2021-07-07T19:10:32.439Z"
   },
   {
    "duration": 13,
    "start_time": "2021-07-07T19:10:34.251Z"
   },
   {
    "duration": 3307,
    "start_time": "2021-07-07T19:10:35.511Z"
   },
   {
    "duration": 3235,
    "start_time": "2021-07-07T19:11:04.076Z"
   },
   {
    "duration": 3389,
    "start_time": "2021-07-07T19:11:20.006Z"
   },
   {
    "duration": 4620,
    "start_time": "2021-07-07T19:11:33.679Z"
   },
   {
    "duration": 21,
    "start_time": "2021-07-07T19:12:30.508Z"
   },
   {
    "duration": 3505,
    "start_time": "2021-07-07T19:12:40.093Z"
   },
   {
    "duration": -48,
    "start_time": "2021-07-07T19:12:43.649Z"
   },
   {
    "duration": -57,
    "start_time": "2021-07-07T19:12:43.660Z"
   },
   {
    "duration": -64,
    "start_time": "2021-07-07T19:12:43.669Z"
   },
   {
    "duration": -65,
    "start_time": "2021-07-07T19:12:43.673Z"
   },
   {
    "duration": -66,
    "start_time": "2021-07-07T19:12:43.676Z"
   },
   {
    "duration": -67,
    "start_time": "2021-07-07T19:12:43.679Z"
   },
   {
    "duration": -69,
    "start_time": "2021-07-07T19:12:43.683Z"
   },
   {
    "duration": -73,
    "start_time": "2021-07-07T19:12:43.689Z"
   },
   {
    "duration": -82,
    "start_time": "2021-07-07T19:12:43.700Z"
   },
   {
    "duration": -84,
    "start_time": "2021-07-07T19:12:43.704Z"
   },
   {
    "duration": -90,
    "start_time": "2021-07-07T19:12:43.712Z"
   },
   {
    "duration": -92,
    "start_time": "2021-07-07T19:12:43.716Z"
   },
   {
    "duration": -93,
    "start_time": "2021-07-07T19:12:43.719Z"
   },
   {
    "duration": -94,
    "start_time": "2021-07-07T19:12:43.723Z"
   },
   {
    "duration": 3682,
    "start_time": "2021-07-07T19:13:12.385Z"
   },
   {
    "duration": 19,
    "start_time": "2021-07-07T19:15:07.643Z"
   },
   {
    "duration": 5612,
    "start_time": "2021-07-07T19:17:29.258Z"
   },
   {
    "duration": 395,
    "start_time": "2021-07-07T19:38:31.939Z"
   },
   {
    "duration": 472,
    "start_time": "2021-07-07T19:38:47.126Z"
   },
   {
    "duration": 514,
    "start_time": "2021-07-07T19:38:55.309Z"
   },
   {
    "duration": 2171,
    "start_time": "2021-07-07T19:40:20.035Z"
   },
   {
    "duration": 7,
    "start_time": "2021-07-07T19:41:39.990Z"
   },
   {
    "duration": 394,
    "start_time": "2021-07-07T19:42:08.415Z"
   },
   {
    "duration": 402,
    "start_time": "2021-07-07T19:43:42.191Z"
   },
   {
    "duration": 7,
    "start_time": "2021-07-07T19:43:48.721Z"
   },
   {
    "duration": 8,
    "start_time": "2021-07-07T19:44:14.268Z"
   },
   {
    "duration": 8,
    "start_time": "2021-07-07T19:44:37.901Z"
   },
   {
    "duration": 397,
    "start_time": "2021-07-07T19:44:56.260Z"
   },
   {
    "duration": 95,
    "start_time": "2021-07-07T19:45:06.924Z"
   },
   {
    "duration": 424,
    "start_time": "2021-07-07T19:45:44.273Z"
   },
   {
    "duration": 115,
    "start_time": "2021-07-07T19:45:53.142Z"
   },
   {
    "duration": 416,
    "start_time": "2021-07-07T19:46:42.843Z"
   },
   {
    "duration": 413,
    "start_time": "2021-07-07T19:47:06.434Z"
   },
   {
    "duration": 105,
    "start_time": "2021-07-07T19:47:10.744Z"
   },
   {
    "duration": 391,
    "start_time": "2021-07-07T19:48:18.133Z"
   },
   {
    "duration": 93,
    "start_time": "2021-07-07T19:49:32.067Z"
   },
   {
    "duration": 88,
    "start_time": "2021-07-07T19:49:41.900Z"
   },
   {
    "duration": 9,
    "start_time": "2021-07-07T19:50:14.733Z"
   },
   {
    "duration": 445,
    "start_time": "2021-07-07T19:52:07.318Z"
   },
   {
    "duration": 780,
    "start_time": "2021-07-07T19:52:32.720Z"
   },
   {
    "duration": 32,
    "start_time": "2021-07-07T19:54:22.184Z"
   },
   {
    "duration": 981,
    "start_time": "2021-07-07T19:54:40.298Z"
   },
   {
    "duration": 1327,
    "start_time": "2021-07-07T19:56:50.811Z"
   },
   {
    "duration": 4263,
    "start_time": "2021-07-07T19:57:17.720Z"
   },
   {
    "duration": 3719,
    "start_time": "2021-07-07T19:58:34.570Z"
   },
   {
    "duration": 3489,
    "start_time": "2021-07-07T19:59:02.313Z"
   },
   {
    "duration": 3487,
    "start_time": "2021-07-07T19:59:33.349Z"
   },
   {
    "duration": 3295,
    "start_time": "2021-07-07T19:59:42.707Z"
   },
   {
    "duration": 3582,
    "start_time": "2021-07-07T20:00:03.041Z"
   },
   {
    "duration": 409,
    "start_time": "2021-07-07T20:06:11.579Z"
   },
   {
    "duration": 12,
    "start_time": "2021-07-07T20:13:41.101Z"
   },
   {
    "duration": 3339,
    "start_time": "2021-07-07T20:13:57.740Z"
   },
   {
    "duration": 20,
    "start_time": "2021-07-07T20:14:02.093Z"
   },
   {
    "duration": 52,
    "start_time": "2021-07-07T20:14:07.944Z"
   },
   {
    "duration": 3673,
    "start_time": "2021-07-07T20:14:12.083Z"
   },
   {
    "duration": 618,
    "start_time": "2021-07-07T20:14:28.518Z"
   },
   {
    "duration": 699,
    "start_time": "2021-07-07T20:14:31.619Z"
   },
   {
    "duration": 12,
    "start_time": "2021-07-07T20:14:44.650Z"
   },
   {
    "duration": 38,
    "start_time": "2021-07-07T20:14:53.586Z"
   },
   {
    "duration": 14,
    "start_time": "2021-07-07T20:14:55.723Z"
   },
   {
    "duration": 25,
    "start_time": "2021-07-07T20:15:11.224Z"
   },
   {
    "duration": 15,
    "start_time": "2021-07-07T20:15:38.090Z"
   },
   {
    "duration": 24,
    "start_time": "2021-07-07T20:15:42.309Z"
   },
   {
    "duration": 14,
    "start_time": "2021-07-07T20:15:48.193Z"
   },
   {
    "duration": 12,
    "start_time": "2021-07-07T20:16:26.034Z"
   },
   {
    "duration": 10,
    "start_time": "2021-07-07T20:16:44.669Z"
   },
   {
    "duration": 10,
    "start_time": "2021-07-07T20:17:21.467Z"
   },
   {
    "duration": 11,
    "start_time": "2021-07-07T20:17:32.606Z"
   },
   {
    "duration": 386,
    "start_time": "2021-07-07T20:25:21.357Z"
   },
   {
    "duration": 17,
    "start_time": "2021-07-07T20:26:03.432Z"
   },
   {
    "duration": 389,
    "start_time": "2021-07-07T20:29:17.819Z"
   },
   {
    "duration": 19,
    "start_time": "2021-07-07T20:32:01.194Z"
   },
   {
    "duration": 11,
    "start_time": "2021-07-07T20:32:01.216Z"
   },
   {
    "duration": 21,
    "start_time": "2021-07-07T20:32:01.231Z"
   },
   {
    "duration": 402,
    "start_time": "2021-07-07T20:32:01.256Z"
   },
   {
    "duration": 15,
    "start_time": "2021-07-07T20:32:01.661Z"
   },
   {
    "duration": 20,
    "start_time": "2021-07-07T20:32:01.679Z"
   },
   {
    "duration": 628,
    "start_time": "2021-07-08T10:04:40.558Z"
   },
   {
    "duration": 27,
    "start_time": "2021-07-08T10:04:42.495Z"
   },
   {
    "duration": 11,
    "start_time": "2021-07-08T10:04:44.981Z"
   },
   {
    "duration": 31,
    "start_time": "2021-07-08T10:04:47.406Z"
   },
   {
    "duration": 7,
    "start_time": "2021-07-08T10:04:50.725Z"
   },
   {
    "duration": 11,
    "start_time": "2021-07-08T10:04:52.788Z"
   },
   {
    "duration": 12,
    "start_time": "2021-07-08T10:04:53.925Z"
   },
   {
    "duration": 6,
    "start_time": "2021-07-08T10:04:55.253Z"
   },
   {
    "duration": 6,
    "start_time": "2021-07-08T10:04:56.349Z"
   },
   {
    "duration": 299,
    "start_time": "2021-07-08T10:04:57.485Z"
   },
   {
    "duration": 6,
    "start_time": "2021-07-08T10:04:58.501Z"
   },
   {
    "duration": 16,
    "start_time": "2021-07-08T10:04:59.557Z"
   },
   {
    "duration": 514,
    "start_time": "2021-07-08T10:05:00.086Z"
   },
   {
    "duration": 3,
    "start_time": "2021-07-08T10:05:02.205Z"
   },
   {
    "duration": 6,
    "start_time": "2021-07-08T10:05:04.028Z"
   },
   {
    "duration": 3,
    "start_time": "2021-07-08T10:05:05.093Z"
   },
   {
    "duration": 425,
    "start_time": "2021-07-08T10:05:06.325Z"
   },
   {
    "duration": 2,
    "start_time": "2021-07-08T10:05:07.117Z"
   },
   {
    "duration": 6,
    "start_time": "2021-07-08T10:05:07.806Z"
   },
   {
    "duration": 5,
    "start_time": "2021-07-08T10:05:09.421Z"
   },
   {
    "duration": 416,
    "start_time": "2021-07-08T10:05:12.439Z"
   },
   {
    "duration": 6,
    "start_time": "2021-07-08T10:05:23.845Z"
   },
   {
    "duration": 9,
    "start_time": "2021-07-08T10:05:24.437Z"
   },
   {
    "duration": 7,
    "start_time": "2021-07-08T10:05:25.524Z"
   },
   {
    "duration": 1599,
    "start_time": "2021-07-08T10:05:26.125Z"
   },
   {
    "duration": 12,
    "start_time": "2021-07-08T10:05:28.365Z"
   },
   {
    "duration": 24,
    "start_time": "2021-07-08T10:05:31.652Z"
   },
   {
    "duration": 2737,
    "start_time": "2021-07-08T10:05:34.396Z"
   },
   {
    "duration": 8640,
    "start_time": "2021-07-08T10:05:38.333Z"
   },
   {
    "duration": -156,
    "start_time": "2021-07-08T10:05:47.131Z"
   },
   {
    "duration": -160,
    "start_time": "2021-07-08T10:05:47.136Z"
   },
   {
    "duration": 21,
    "start_time": "2021-07-08T10:06:02.117Z"
   },
   {
    "duration": 8,
    "start_time": "2021-07-08T10:06:15.268Z"
   },
   {
    "duration": 15,
    "start_time": "2021-07-08T10:06:16.932Z"
   },
   {
    "duration": 8,
    "start_time": "2021-07-08T10:06:20.268Z"
   },
   {
    "duration": 13,
    "start_time": "2021-07-08T10:13:44.317Z"
   },
   {
    "duration": 12,
    "start_time": "2021-07-08T10:15:42.051Z"
   },
   {
    "duration": 70,
    "start_time": "2021-07-08T10:15:58.036Z"
   },
   {
    "duration": 12,
    "start_time": "2021-07-08T10:16:08.787Z"
   },
   {
    "duration": 242,
    "start_time": "2021-07-08T10:18:44.033Z"
   },
   {
    "duration": 13,
    "start_time": "2021-07-08T10:21:17.127Z"
   },
   {
    "duration": 230,
    "start_time": "2021-07-08T10:21:55.343Z"
   },
   {
    "duration": 220,
    "start_time": "2021-07-08T10:23:07.628Z"
   },
   {
    "duration": 13,
    "start_time": "2021-07-08T10:23:20.615Z"
   },
   {
    "duration": 14,
    "start_time": "2021-07-08T10:23:48.828Z"
   },
   {
    "duration": 71,
    "start_time": "2021-07-08T10:27:01.562Z"
   },
   {
    "duration": 337,
    "start_time": "2021-07-08T10:27:11.305Z"
   },
   {
    "duration": 12,
    "start_time": "2021-07-08T10:27:28.416Z"
   },
   {
    "duration": 249,
    "start_time": "2021-07-08T10:28:45.711Z"
   },
   {
    "duration": 12,
    "start_time": "2021-07-08T10:31:17.494Z"
   },
   {
    "duration": 15,
    "start_time": "2021-07-08T10:31:52.253Z"
   },
   {
    "duration": 248,
    "start_time": "2021-07-08T10:32:17.316Z"
   },
   {
    "duration": 91,
    "start_time": "2021-07-08T10:32:37.122Z"
   },
   {
    "duration": 22,
    "start_time": "2021-07-08T10:32:37.891Z"
   },
   {
    "duration": 11,
    "start_time": "2021-07-08T10:32:39.843Z"
   },
   {
    "duration": 24,
    "start_time": "2021-07-08T10:32:41.587Z"
   },
   {
    "duration": 7,
    "start_time": "2021-07-08T10:32:43.586Z"
   },
   {
    "duration": 9,
    "start_time": "2021-07-08T10:32:44.874Z"
   },
   {
    "duration": 11,
    "start_time": "2021-07-08T10:32:45.778Z"
   },
   {
    "duration": 6,
    "start_time": "2021-07-08T10:32:46.611Z"
   },
   {
    "duration": 7,
    "start_time": "2021-07-08T10:32:47.425Z"
   },
   {
    "duration": 346,
    "start_time": "2021-07-08T10:32:48.266Z"
   },
   {
    "duration": 5,
    "start_time": "2021-07-08T10:32:49.018Z"
   },
   {
    "duration": 18,
    "start_time": "2021-07-08T10:32:49.778Z"
   },
   {
    "duration": 416,
    "start_time": "2021-07-08T10:32:50.187Z"
   },
   {
    "duration": 2,
    "start_time": "2021-07-08T10:32:51.995Z"
   },
   {
    "duration": 5,
    "start_time": "2021-07-08T10:32:53.238Z"
   },
   {
    "duration": 4,
    "start_time": "2021-07-08T10:32:54.138Z"
   },
   {
    "duration": 487,
    "start_time": "2021-07-08T10:32:54.938Z"
   },
   {
    "duration": 2,
    "start_time": "2021-07-08T10:32:55.427Z"
   },
   {
    "duration": 6,
    "start_time": "2021-07-08T10:32:55.738Z"
   },
   {
    "duration": 5,
    "start_time": "2021-07-08T10:32:56.970Z"
   },
   {
    "duration": 554,
    "start_time": "2021-07-08T10:32:57.898Z"
   },
   {
    "duration": 6,
    "start_time": "2021-07-08T10:33:01.137Z"
   },
   {
    "duration": 8,
    "start_time": "2021-07-08T10:33:01.610Z"
   },
   {
    "duration": 7,
    "start_time": "2021-07-08T10:33:02.562Z"
   },
   {
    "duration": 1580,
    "start_time": "2021-07-08T10:33:03.027Z"
   },
   {
    "duration": 12,
    "start_time": "2021-07-08T10:33:04.810Z"
   },
   {
    "duration": 66,
    "start_time": "2021-07-08T14:55:33.074Z"
   },
   {
    "duration": 22,
    "start_time": "2021-07-08T14:55:34.215Z"
   },
   {
    "duration": 22,
    "start_time": "2021-07-08T14:55:36.594Z"
   },
   {
    "duration": 27,
    "start_time": "2021-07-08T14:55:38.813Z"
   },
   {
    "duration": 7,
    "start_time": "2021-07-08T14:55:41.568Z"
   },
   {
    "duration": 9,
    "start_time": "2021-07-08T14:55:43.174Z"
   },
   {
    "duration": 10,
    "start_time": "2021-07-08T14:55:44.227Z"
   },
   {
    "duration": 11,
    "start_time": "2021-07-08T14:55:45.292Z"
   },
   {
    "duration": 8,
    "start_time": "2021-07-08T14:55:46.295Z"
   },
   {
    "duration": 361,
    "start_time": "2021-07-08T14:55:47.339Z"
   },
   {
    "duration": 6,
    "start_time": "2021-07-08T14:55:48.358Z"
   },
   {
    "duration": 38,
    "start_time": "2021-07-08T14:55:49.455Z"
   },
   {
    "duration": 558,
    "start_time": "2021-07-08T14:55:49.985Z"
   },
   {
    "duration": 3,
    "start_time": "2021-07-08T14:55:52.039Z"
   },
   {
    "duration": 9,
    "start_time": "2021-07-08T14:55:53.599Z"
   },
   {
    "duration": 6,
    "start_time": "2021-07-08T14:55:54.613Z"
   },
   {
    "duration": 798,
    "start_time": "2021-07-08T14:55:55.608Z"
   },
   {
    "duration": 4,
    "start_time": "2021-07-08T14:55:56.409Z"
   },
   {
    "duration": 7,
    "start_time": "2021-07-08T14:55:56.669Z"
   },
   {
    "duration": 7,
    "start_time": "2021-07-08T14:55:58.173Z"
   },
   {
    "duration": 474,
    "start_time": "2021-07-08T14:55:59.197Z"
   },
   {
    "duration": 6,
    "start_time": "2021-07-08T14:56:05.629Z"
   },
   {
    "duration": 9,
    "start_time": "2021-07-08T14:56:06.244Z"
   },
   {
    "duration": 11,
    "start_time": "2021-07-08T14:56:07.401Z"
   },
   {
    "duration": 1835,
    "start_time": "2021-07-08T14:56:07.987Z"
   },
   {
    "duration": 13,
    "start_time": "2021-07-08T14:56:10.613Z"
   },
   {
    "duration": 25,
    "start_time": "2021-07-08T14:56:14.359Z"
   },
   {
    "duration": 3152,
    "start_time": "2021-07-08T14:56:17.389Z"
   },
   {
    "duration": 7092,
    "start_time": "2021-07-08T14:56:25.124Z"
   },
   {
    "duration": 71,
    "start_time": "2021-07-08T15:40:57.580Z"
   },
   {
    "duration": 4135,
    "start_time": "2021-07-08T15:41:21.301Z"
   },
   {
    "duration": 3938,
    "start_time": "2021-07-08T15:41:37.279Z"
   },
   {
    "duration": 3689,
    "start_time": "2021-07-08T15:42:29.002Z"
   },
   {
    "duration": 3777,
    "start_time": "2021-07-08T15:42:36.394Z"
   },
   {
    "duration": 3131,
    "start_time": "2021-07-08T15:43:23.643Z"
   },
   {
    "duration": 275,
    "start_time": "2021-07-08T15:43:54.299Z"
   },
   {
    "duration": 58,
    "start_time": "2021-07-08T15:45:09.538Z"
   },
   {
    "duration": 20,
    "start_time": "2021-07-08T15:45:11.050Z"
   },
   {
    "duration": 11,
    "start_time": "2021-07-08T15:45:13.737Z"
   },
   {
    "duration": 24,
    "start_time": "2021-07-08T15:45:16.311Z"
   },
   {
    "duration": 7,
    "start_time": "2021-07-08T15:45:19.819Z"
   },
   {
    "duration": 8,
    "start_time": "2021-07-08T15:45:21.553Z"
   },
   {
    "duration": 10,
    "start_time": "2021-07-08T15:45:22.705Z"
   },
   {
    "duration": 6,
    "start_time": "2021-07-08T15:45:23.762Z"
   },
   {
    "duration": 6,
    "start_time": "2021-07-08T15:45:24.963Z"
   },
   {
    "duration": 321,
    "start_time": "2021-07-08T15:45:26.043Z"
   },
   {
    "duration": 6,
    "start_time": "2021-07-08T15:45:27.077Z"
   },
   {
    "duration": 18,
    "start_time": "2021-07-08T15:45:28.303Z"
   },
   {
    "duration": 404,
    "start_time": "2021-07-08T15:45:29.004Z"
   },
   {
    "duration": 2,
    "start_time": "2021-07-08T15:45:31.242Z"
   },
   {
    "duration": 5,
    "start_time": "2021-07-08T15:45:32.917Z"
   },
   {
    "duration": 4,
    "start_time": "2021-07-08T15:45:34.075Z"
   },
   {
    "duration": 425,
    "start_time": "2021-07-08T15:45:35.236Z"
   },
   {
    "duration": 2,
    "start_time": "2021-07-08T15:45:35.863Z"
   },
   {
    "duration": 6,
    "start_time": "2021-07-08T15:45:40.476Z"
   },
   {
    "duration": 6,
    "start_time": "2021-07-08T15:45:42.478Z"
   },
   {
    "duration": 522,
    "start_time": "2021-07-08T15:45:43.716Z"
   },
   {
    "duration": 7,
    "start_time": "2021-07-08T15:45:52.356Z"
   },
   {
    "duration": 8,
    "start_time": "2021-07-08T15:45:53.021Z"
   },
   {
    "duration": 9,
    "start_time": "2021-07-08T15:45:54.293Z"
   },
   {
    "duration": 1656,
    "start_time": "2021-07-08T15:45:57.995Z"
   },
   {
    "duration": 12,
    "start_time": "2021-07-08T15:46:03.266Z"
   },
   {
    "duration": 24,
    "start_time": "2021-07-08T15:47:20.015Z"
   },
   {
    "duration": 3031,
    "start_time": "2021-07-08T15:47:34.398Z"
   },
   {
    "duration": 3367,
    "start_time": "2021-07-08T15:47:39.482Z"
   },
   {
    "duration": 290,
    "start_time": "2021-07-08T15:47:43.765Z"
   },
   {
    "duration": 11,
    "start_time": "2021-07-08T15:49:44.909Z"
   },
   {
    "duration": 18,
    "start_time": "2021-07-08T15:49:48.713Z"
   },
   {
    "duration": 8,
    "start_time": "2021-07-08T15:50:05.416Z"
   },
   {
    "duration": 15,
    "start_time": "2021-07-08T15:50:17.454Z"
   },
   {
    "duration": 13,
    "start_time": "2021-07-08T15:50:58.007Z"
   },
   {
    "duration": 14,
    "start_time": "2021-07-08T15:51:40.970Z"
   },
   {
    "duration": 231,
    "start_time": "2021-07-08T15:51:50.843Z"
   },
   {
    "duration": 74,
    "start_time": "2021-07-08T15:51:57.099Z"
   },
   {
    "duration": 15,
    "start_time": "2021-07-08T15:52:00.740Z"
   },
   {
    "duration": 89,
    "start_time": "2021-07-08T15:52:57.037Z"
   },
   {
    "duration": 21,
    "start_time": "2021-07-08T15:52:58.140Z"
   },
   {
    "duration": 12,
    "start_time": "2021-07-08T15:53:00.346Z"
   },
   {
    "duration": 25,
    "start_time": "2021-07-08T15:53:02.373Z"
   },
   {
    "duration": 8,
    "start_time": "2021-07-08T15:53:05.227Z"
   },
   {
    "duration": 10,
    "start_time": "2021-07-08T15:53:06.903Z"
   },
   {
    "duration": 12,
    "start_time": "2021-07-08T15:53:07.893Z"
   },
   {
    "duration": 7,
    "start_time": "2021-07-08T15:53:08.930Z"
   },
   {
    "duration": 7,
    "start_time": "2021-07-08T15:53:09.951Z"
   },
   {
    "duration": 302,
    "start_time": "2021-07-08T15:53:10.931Z"
   },
   {
    "duration": 6,
    "start_time": "2021-07-08T15:53:11.908Z"
   },
   {
    "duration": 19,
    "start_time": "2021-07-08T15:53:12.912Z"
   },
   {
    "duration": 415,
    "start_time": "2021-07-08T15:53:13.349Z"
   },
   {
    "duration": 3,
    "start_time": "2021-07-08T15:53:15.443Z"
   },
   {
    "duration": 6,
    "start_time": "2021-07-08T15:53:16.939Z"
   },
   {
    "duration": 3,
    "start_time": "2021-07-08T15:53:17.903Z"
   },
   {
    "duration": 423,
    "start_time": "2021-07-08T15:53:18.954Z"
   },
   {
    "duration": 2,
    "start_time": "2021-07-08T15:53:19.515Z"
   },
   {
    "duration": 6,
    "start_time": "2021-07-08T15:53:20.021Z"
   },
   {
    "duration": 5,
    "start_time": "2021-07-08T15:53:21.552Z"
   },
   {
    "duration": 424,
    "start_time": "2021-07-08T15:53:22.622Z"
   },
   {
    "duration": 6,
    "start_time": "2021-07-08T15:53:26.109Z"
   },
   {
    "duration": 8,
    "start_time": "2021-07-08T15:53:26.682Z"
   },
   {
    "duration": 8,
    "start_time": "2021-07-08T15:53:27.716Z"
   },
   {
    "duration": 1581,
    "start_time": "2021-07-08T15:53:28.292Z"
   },
   {
    "duration": 13,
    "start_time": "2021-07-08T15:53:30.191Z"
   },
   {
    "duration": 25,
    "start_time": "2021-07-08T15:53:33.228Z"
   },
   {
    "duration": 2808,
    "start_time": "2021-07-08T15:53:35.917Z"
   },
   {
    "duration": 3165,
    "start_time": "2021-07-08T15:53:43.554Z"
   },
   {
    "duration": 270,
    "start_time": "2021-07-08T15:53:49.553Z"
   },
   {
    "duration": 11,
    "start_time": "2021-07-08T15:54:01.163Z"
   },
   {
    "duration": 27,
    "start_time": "2021-07-08T15:54:03.166Z"
   },
   {
    "duration": 9,
    "start_time": "2021-07-08T15:54:08.566Z"
   },
   {
    "duration": 13,
    "start_time": "2021-07-08T15:54:21.302Z"
   },
   {
    "duration": 13,
    "start_time": "2021-07-08T15:56:35.676Z"
   },
   {
    "duration": 19,
    "start_time": "2021-07-08T15:56:39.706Z"
   },
   {
    "duration": 13,
    "start_time": "2021-07-08T15:57:43.277Z"
   },
   {
    "duration": 672,
    "start_time": "2021-07-08T15:57:59.465Z"
   },
   {
    "duration": 13,
    "start_time": "2021-07-08T15:58:36.804Z"
   },
   {
    "duration": 14,
    "start_time": "2021-07-08T15:58:46.746Z"
   },
   {
    "duration": 14,
    "start_time": "2021-07-08T15:59:15.214Z"
   },
   {
    "duration": 11,
    "start_time": "2021-07-08T17:13:48.126Z"
   },
   {
    "duration": 11,
    "start_time": "2021-07-08T17:16:37.124Z"
   },
   {
    "duration": 85,
    "start_time": "2021-07-08T17:18:23.626Z"
   },
   {
    "duration": 19,
    "start_time": "2021-07-08T17:18:24.955Z"
   },
   {
    "duration": 11,
    "start_time": "2021-07-08T17:18:27.306Z"
   },
   {
    "duration": 25,
    "start_time": "2021-07-08T17:18:29.757Z"
   },
   {
    "duration": 8,
    "start_time": "2021-07-08T17:18:32.676Z"
   },
   {
    "duration": 9,
    "start_time": "2021-07-08T17:18:34.403Z"
   },
   {
    "duration": 10,
    "start_time": "2021-07-08T17:18:35.553Z"
   },
   {
    "duration": 5,
    "start_time": "2021-07-08T17:18:36.767Z"
   },
   {
    "duration": 6,
    "start_time": "2021-07-08T17:18:37.906Z"
   },
   {
    "duration": 304,
    "start_time": "2021-07-08T17:18:39.060Z"
   },
   {
    "duration": 6,
    "start_time": "2021-07-08T17:18:40.222Z"
   },
   {
    "duration": 17,
    "start_time": "2021-07-08T17:18:41.391Z"
   },
   {
    "duration": 408,
    "start_time": "2021-07-08T17:18:42.031Z"
   },
   {
    "duration": 2,
    "start_time": "2021-07-08T17:18:44.719Z"
   },
   {
    "duration": 6,
    "start_time": "2021-07-08T17:18:46.452Z"
   },
   {
    "duration": 3,
    "start_time": "2021-07-08T17:18:47.545Z"
   },
   {
    "duration": 421,
    "start_time": "2021-07-08T17:18:48.660Z"
   },
   {
    "duration": 2,
    "start_time": "2021-07-08T17:18:49.220Z"
   },
   {
    "duration": 5,
    "start_time": "2021-07-08T17:18:49.763Z"
   },
   {
    "duration": 5,
    "start_time": "2021-07-08T17:18:51.436Z"
   },
   {
    "duration": 409,
    "start_time": "2021-07-08T17:18:52.563Z"
   },
   {
    "duration": 6,
    "start_time": "2021-07-08T17:18:56.399Z"
   },
   {
    "duration": 8,
    "start_time": "2021-07-08T17:18:57.007Z"
   },
   {
    "duration": 7,
    "start_time": "2021-07-08T17:18:58.143Z"
   },
   {
    "duration": 1578,
    "start_time": "2021-07-08T17:18:58.875Z"
   },
   {
    "duration": 13,
    "start_time": "2021-07-08T17:19:01.285Z"
   },
   {
    "duration": 28,
    "start_time": "2021-07-08T17:19:04.545Z"
   },
   {
    "duration": 2683,
    "start_time": "2021-07-08T17:19:07.777Z"
   },
   {
    "duration": 3510,
    "start_time": "2021-07-08T17:19:14.685Z"
   },
   {
    "duration": 274,
    "start_time": "2021-07-08T17:19:18.323Z"
   },
   {
    "duration": 11,
    "start_time": "2021-07-08T17:19:23.353Z"
   },
   {
    "duration": 26,
    "start_time": "2021-07-08T17:19:24.716Z"
   },
   {
    "duration": 8,
    "start_time": "2021-07-08T17:19:26.210Z"
   },
   {
    "duration": 14,
    "start_time": "2021-07-08T17:19:28.316Z"
   },
   {
    "duration": 12,
    "start_time": "2021-07-08T17:19:31.127Z"
   },
   {
    "duration": 8,
    "start_time": "2021-07-08T17:19:34.715Z"
   },
   {
    "duration": 11,
    "start_time": "2021-07-08T17:19:35.953Z"
   },
   {
    "duration": 196,
    "start_time": "2021-07-08T17:19:37.295Z"
   },
   {
    "duration": 13,
    "start_time": "2021-07-08T17:19:40.713Z"
   },
   {
    "duration": 10,
    "start_time": "2021-07-08T17:19:43.258Z"
   },
   {
    "duration": 87,
    "start_time": "2021-07-09T11:55:12.776Z"
   },
   {
    "duration": 792,
    "start_time": "2021-07-09T12:04:43.130Z"
   },
   {
    "duration": 52,
    "start_time": "2021-07-09T12:04:43.924Z"
   },
   {
    "duration": 17,
    "start_time": "2021-07-09T12:04:43.979Z"
   },
   {
    "duration": 67,
    "start_time": "2021-07-09T12:04:43.998Z"
   },
   {
    "duration": 10,
    "start_time": "2021-07-09T12:04:44.067Z"
   },
   {
    "duration": 23,
    "start_time": "2021-07-09T12:04:44.079Z"
   },
   {
    "duration": 24,
    "start_time": "2021-07-09T12:04:44.104Z"
   },
   {
    "duration": 25,
    "start_time": "2021-07-09T12:04:44.132Z"
   },
   {
    "duration": 11,
    "start_time": "2021-07-09T12:04:44.160Z"
   },
   {
    "duration": 686,
    "start_time": "2021-07-09T12:04:44.173Z"
   },
   {
    "duration": 8,
    "start_time": "2021-07-09T12:04:44.861Z"
   },
   {
    "duration": 29,
    "start_time": "2021-07-09T12:04:44.871Z"
   },
   {
    "duration": 12,
    "start_time": "2021-07-09T12:04:44.903Z"
   },
   {
    "duration": 923,
    "start_time": "2021-07-09T12:04:44.917Z"
   },
   {
    "duration": 3,
    "start_time": "2021-07-09T12:04:45.843Z"
   },
   {
    "duration": 14,
    "start_time": "2021-07-09T12:04:45.856Z"
   },
   {
    "duration": 17,
    "start_time": "2021-07-09T12:04:45.873Z"
   },
   {
    "duration": 872,
    "start_time": "2021-07-09T12:04:45.893Z"
   },
   {
    "duration": 4,
    "start_time": "2021-07-09T12:04:46.767Z"
   },
   {
    "duration": 10,
    "start_time": "2021-07-09T12:04:46.773Z"
   },
   {
    "duration": 11,
    "start_time": "2021-07-09T12:04:46.785Z"
   },
   {
    "duration": 818,
    "start_time": "2021-07-09T12:04:46.798Z"
   },
   {
    "duration": 8,
    "start_time": "2021-07-09T12:04:47.621Z"
   },
   {
    "duration": 29,
    "start_time": "2021-07-09T12:04:47.632Z"
   },
   {
    "duration": 12,
    "start_time": "2021-07-09T12:04:47.664Z"
   },
   {
    "duration": 3101,
    "start_time": "2021-07-09T12:04:47.679Z"
   },
   {
    "duration": 17,
    "start_time": "2021-07-09T12:04:50.782Z"
   },
   {
    "duration": 58,
    "start_time": "2021-07-09T12:04:50.801Z"
   },
   {
    "duration": 3989,
    "start_time": "2021-07-09T12:04:50.861Z"
   },
   {
    "duration": 5071,
    "start_time": "2021-07-09T12:04:54.856Z"
   },
   {
    "duration": 518,
    "start_time": "2021-07-09T12:04:59.929Z"
   },
   {
    "duration": 18,
    "start_time": "2021-07-09T12:05:00.449Z"
   },
   {
    "duration": 26,
    "start_time": "2021-07-09T12:05:00.469Z"
   },
   {
    "duration": 20,
    "start_time": "2021-07-09T12:05:00.498Z"
   },
   {
    "duration": 41,
    "start_time": "2021-07-09T12:05:00.521Z"
   },
   {
    "duration": 17,
    "start_time": "2021-07-09T12:05:00.565Z"
   },
   {
    "duration": 23,
    "start_time": "2021-07-09T12:05:00.585Z"
   },
   {
    "duration": 37,
    "start_time": "2021-07-09T12:05:00.611Z"
   },
   {
    "duration": 382,
    "start_time": "2021-07-09T12:05:00.656Z"
   },
   {
    "duration": 25,
    "start_time": "2021-07-09T12:05:01.040Z"
   },
   {
    "duration": 14,
    "start_time": "2021-07-09T12:05:01.067Z"
   },
   {
    "duration": 823,
    "start_time": "2021-07-09T12:06:40.634Z"
   },
   {
    "duration": 46,
    "start_time": "2021-07-09T12:06:41.460Z"
   },
   {
    "duration": 15,
    "start_time": "2021-07-09T12:06:41.509Z"
   },
   {
    "duration": 48,
    "start_time": "2021-07-09T12:06:41.556Z"
   },
   {
    "duration": 10,
    "start_time": "2021-07-09T12:06:41.606Z"
   },
   {
    "duration": 50,
    "start_time": "2021-07-09T12:06:41.618Z"
   },
   {
    "duration": 26,
    "start_time": "2021-07-09T12:06:41.671Z"
   },
   {
    "duration": 12,
    "start_time": "2021-07-09T12:06:41.702Z"
   },
   {
    "duration": 16,
    "start_time": "2021-07-09T12:06:41.717Z"
   },
   {
    "duration": 627,
    "start_time": "2021-07-09T12:06:41.736Z"
   },
   {
    "duration": 9,
    "start_time": "2021-07-09T12:06:42.366Z"
   },
   {
    "duration": 30,
    "start_time": "2021-07-09T12:06:42.377Z"
   },
   {
    "duration": 49,
    "start_time": "2021-07-09T12:06:42.409Z"
   },
   {
    "duration": 852,
    "start_time": "2021-07-09T12:06:42.462Z"
   },
   {
    "duration": 3,
    "start_time": "2021-07-09T12:06:43.317Z"
   },
   {
    "duration": 20,
    "start_time": "2021-07-09T12:06:43.323Z"
   },
   {
    "duration": 15,
    "start_time": "2021-07-09T12:06:43.345Z"
   },
   {
    "duration": 876,
    "start_time": "2021-07-09T12:06:43.363Z"
   },
   {
    "duration": 14,
    "start_time": "2021-07-09T12:06:44.242Z"
   },
   {
    "duration": 21,
    "start_time": "2021-07-09T12:06:44.259Z"
   },
   {
    "duration": 10,
    "start_time": "2021-07-09T12:06:44.283Z"
   },
   {
    "duration": 837,
    "start_time": "2021-07-09T12:06:44.296Z"
   },
   {
    "duration": 21,
    "start_time": "2021-07-09T12:06:45.139Z"
   },
   {
    "duration": 30,
    "start_time": "2021-07-09T12:06:45.163Z"
   },
   {
    "duration": 15,
    "start_time": "2021-07-09T12:06:45.196Z"
   },
   {
    "duration": 3318,
    "start_time": "2021-07-09T12:06:45.213Z"
   },
   {
    "duration": 39,
    "start_time": "2021-07-09T12:06:48.533Z"
   },
   {
    "duration": 33,
    "start_time": "2021-07-09T12:06:48.575Z"
   },
   {
    "duration": 4198,
    "start_time": "2021-07-09T12:06:48.611Z"
   },
   {
    "duration": 5160,
    "start_time": "2021-07-09T12:06:52.811Z"
   },
   {
    "duration": 670,
    "start_time": "2021-07-09T12:06:57.974Z"
   },
   {
    "duration": 23,
    "start_time": "2021-07-09T12:06:58.646Z"
   },
   {
    "duration": 24,
    "start_time": "2021-07-09T12:06:58.673Z"
   },
   {
    "duration": 18,
    "start_time": "2021-07-09T12:06:58.700Z"
   },
   {
    "duration": 26,
    "start_time": "2021-07-09T12:06:58.758Z"
   },
   {
    "duration": 19,
    "start_time": "2021-07-09T12:06:58.786Z"
   },
   {
    "duration": 10,
    "start_time": "2021-07-09T12:06:58.807Z"
   },
   {
    "duration": 56,
    "start_time": "2021-07-09T12:06:58.820Z"
   },
   {
    "duration": 422,
    "start_time": "2021-07-09T12:06:58.879Z"
   },
   {
    "duration": 19,
    "start_time": "2021-07-09T12:06:59.303Z"
   },
   {
    "duration": 45,
    "start_time": "2021-07-09T12:06:59.325Z"
   },
   {
    "duration": 861,
    "start_time": "2021-07-09T12:07:30.259Z"
   },
   {
    "duration": 53,
    "start_time": "2021-07-09T12:07:31.123Z"
   },
   {
    "duration": 17,
    "start_time": "2021-07-09T12:07:31.179Z"
   },
   {
    "duration": 91,
    "start_time": "2021-07-09T12:07:31.199Z"
   },
   {
    "duration": 9,
    "start_time": "2021-07-09T12:07:31.292Z"
   },
   {
    "duration": 21,
    "start_time": "2021-07-09T12:07:31.303Z"
   },
   {
    "duration": 22,
    "start_time": "2021-07-09T12:07:31.327Z"
   },
   {
    "duration": 12,
    "start_time": "2021-07-09T12:07:31.354Z"
   },
   {
    "duration": 17,
    "start_time": "2021-07-09T12:07:31.370Z"
   },
   {
    "duration": 618,
    "start_time": "2021-07-09T12:07:31.389Z"
   },
   {
    "duration": 7,
    "start_time": "2021-07-09T12:07:32.010Z"
   },
   {
    "duration": 40,
    "start_time": "2021-07-09T12:07:32.019Z"
   },
   {
    "duration": 23,
    "start_time": "2021-07-09T12:07:32.061Z"
   },
   {
    "duration": 1173,
    "start_time": "2021-07-09T12:07:32.087Z"
   },
   {
    "duration": 3,
    "start_time": "2021-07-09T12:07:33.263Z"
   },
   {
    "duration": 15,
    "start_time": "2021-07-09T12:07:33.269Z"
   },
   {
    "duration": 8,
    "start_time": "2021-07-09T12:07:33.286Z"
   },
   {
    "duration": 855,
    "start_time": "2021-07-09T12:07:33.296Z"
   },
   {
    "duration": 3,
    "start_time": "2021-07-09T12:07:34.153Z"
   },
   {
    "duration": 16,
    "start_time": "2021-07-09T12:07:34.159Z"
   },
   {
    "duration": 8,
    "start_time": "2021-07-09T12:07:34.177Z"
   },
   {
    "duration": 837,
    "start_time": "2021-07-09T12:07:34.187Z"
   },
   {
    "duration": 9,
    "start_time": "2021-07-09T12:07:35.030Z"
   },
   {
    "duration": 16,
    "start_time": "2021-07-09T12:07:35.058Z"
   },
   {
    "duration": 20,
    "start_time": "2021-07-09T12:07:35.077Z"
   },
   {
    "duration": 3153,
    "start_time": "2021-07-09T12:07:35.099Z"
   },
   {
    "duration": 24,
    "start_time": "2021-07-09T12:07:38.257Z"
   },
   {
    "duration": 35,
    "start_time": "2021-07-09T12:07:38.283Z"
   },
   {
    "duration": 4269,
    "start_time": "2021-07-09T12:07:38.320Z"
   },
   {
    "duration": 5022,
    "start_time": "2021-07-09T12:07:42.592Z"
   },
   {
    "duration": 559,
    "start_time": "2021-07-09T12:07:47.616Z"
   },
   {
    "duration": 15,
    "start_time": "2021-07-09T12:07:48.177Z"
   },
   {
    "duration": 23,
    "start_time": "2021-07-09T12:07:48.194Z"
   },
   {
    "duration": 43,
    "start_time": "2021-07-09T12:07:48.219Z"
   },
   {
    "duration": 23,
    "start_time": "2021-07-09T12:07:48.267Z"
   },
   {
    "duration": 19,
    "start_time": "2021-07-09T12:07:48.292Z"
   },
   {
    "duration": 52,
    "start_time": "2021-07-09T12:07:48.314Z"
   },
   {
    "duration": 21,
    "start_time": "2021-07-09T12:07:48.369Z"
   },
   {
    "duration": 431,
    "start_time": "2021-07-09T12:07:48.392Z"
   },
   {
    "duration": 16,
    "start_time": "2021-07-09T12:07:48.825Z"
   },
   {
    "duration": 21,
    "start_time": "2021-07-09T12:07:48.856Z"
   },
   {
    "duration": 23,
    "start_time": "2021-07-09T12:10:33.473Z"
   },
   {
    "duration": 846,
    "start_time": "2021-07-09T12:10:44.583Z"
   },
   {
    "duration": 50,
    "start_time": "2021-07-09T12:10:45.432Z"
   },
   {
    "duration": 16,
    "start_time": "2021-07-09T12:10:45.484Z"
   },
   {
    "duration": 73,
    "start_time": "2021-07-09T12:10:45.503Z"
   },
   {
    "duration": 10,
    "start_time": "2021-07-09T12:10:45.578Z"
   },
   {
    "duration": 14,
    "start_time": "2021-07-09T12:10:45.590Z"
   },
   {
    "duration": 49,
    "start_time": "2021-07-09T12:10:45.607Z"
   },
   {
    "duration": 12,
    "start_time": "2021-07-09T12:10:45.662Z"
   },
   {
    "duration": 9,
    "start_time": "2021-07-09T12:10:45.678Z"
   },
   {
    "duration": 657,
    "start_time": "2021-07-09T12:10:45.689Z"
   },
   {
    "duration": 13,
    "start_time": "2021-07-09T12:10:46.348Z"
   },
   {
    "duration": 33,
    "start_time": "2021-07-09T12:10:46.364Z"
   },
   {
    "duration": 21,
    "start_time": "2021-07-09T12:10:46.400Z"
   },
   {
    "duration": 927,
    "start_time": "2021-07-09T12:10:46.423Z"
   },
   {
    "duration": 8,
    "start_time": "2021-07-09T12:10:47.356Z"
   },
   {
    "duration": 19,
    "start_time": "2021-07-09T12:10:47.367Z"
   },
   {
    "duration": 5,
    "start_time": "2021-07-09T12:10:47.389Z"
   },
   {
    "duration": 922,
    "start_time": "2021-07-09T12:10:47.397Z"
   },
   {
    "duration": 3,
    "start_time": "2021-07-09T12:10:48.321Z"
   },
   {
    "duration": 10,
    "start_time": "2021-07-09T12:10:48.326Z"
   },
   {
    "duration": 22,
    "start_time": "2021-07-09T12:10:48.338Z"
   },
   {
    "duration": 901,
    "start_time": "2021-07-09T12:10:48.363Z"
   },
   {
    "duration": 10,
    "start_time": "2021-07-09T12:10:49.272Z"
   },
   {
    "duration": 17,
    "start_time": "2021-07-09T12:10:49.285Z"
   },
   {
    "duration": 11,
    "start_time": "2021-07-09T12:10:49.305Z"
   },
   {
    "duration": 3406,
    "start_time": "2021-07-09T12:10:49.318Z"
   },
   {
    "duration": 31,
    "start_time": "2021-07-09T12:10:52.727Z"
   },
   {
    "duration": 41,
    "start_time": "2021-07-09T12:10:52.761Z"
   },
   {
    "duration": 4533,
    "start_time": "2021-07-09T12:10:52.804Z"
   },
   {
    "duration": 5363,
    "start_time": "2021-07-09T12:10:57.339Z"
   },
   {
    "duration": 599,
    "start_time": "2021-07-09T12:11:02.705Z"
   },
   {
    "duration": 14,
    "start_time": "2021-07-09T12:11:03.306Z"
   },
   {
    "duration": 57,
    "start_time": "2021-07-09T12:11:03.323Z"
   },
   {
    "duration": 11,
    "start_time": "2021-07-09T12:11:03.382Z"
   },
   {
    "duration": 20,
    "start_time": "2021-07-09T12:11:03.396Z"
   },
   {
    "duration": 50,
    "start_time": "2021-07-09T12:11:03.418Z"
   },
   {
    "duration": 11,
    "start_time": "2021-07-09T12:11:03.471Z"
   },
   {
    "duration": 17,
    "start_time": "2021-07-09T12:11:03.484Z"
   },
   {
    "duration": 463,
    "start_time": "2021-07-09T12:11:03.503Z"
   },
   {
    "duration": 19,
    "start_time": "2021-07-09T12:11:03.968Z"
   },
   {
    "duration": 17,
    "start_time": "2021-07-09T12:11:03.990Z"
   },
   {
    "duration": 822,
    "start_time": "2021-07-09T12:11:49.143Z"
   },
   {
    "duration": 45,
    "start_time": "2021-07-09T12:11:49.969Z"
   },
   {
    "duration": 16,
    "start_time": "2021-07-09T12:11:50.016Z"
   },
   {
    "duration": 48,
    "start_time": "2021-07-09T12:11:50.057Z"
   },
   {
    "duration": 10,
    "start_time": "2021-07-09T12:11:50.108Z"
   },
   {
    "duration": 39,
    "start_time": "2021-07-09T12:11:50.120Z"
   },
   {
    "duration": 23,
    "start_time": "2021-07-09T12:11:50.162Z"
   },
   {
    "duration": 9,
    "start_time": "2021-07-09T12:11:50.188Z"
   },
   {
    "duration": 13,
    "start_time": "2021-07-09T12:11:50.200Z"
   },
   {
    "duration": 646,
    "start_time": "2021-07-09T12:11:50.216Z"
   },
   {
    "duration": 10,
    "start_time": "2021-07-09T12:11:50.866Z"
   },
   {
    "duration": 34,
    "start_time": "2021-07-09T12:11:50.878Z"
   },
   {
    "duration": 46,
    "start_time": "2021-07-09T12:11:50.915Z"
   },
   {
    "duration": 846,
    "start_time": "2021-07-09T12:11:50.964Z"
   },
   {
    "duration": 3,
    "start_time": "2021-07-09T12:11:51.813Z"
   },
   {
    "duration": 28,
    "start_time": "2021-07-09T12:11:51.819Z"
   },
   {
    "duration": 15,
    "start_time": "2021-07-09T12:11:51.849Z"
   },
   {
    "duration": 956,
    "start_time": "2021-07-09T12:11:51.867Z"
   },
   {
    "duration": 4,
    "start_time": "2021-07-09T12:11:52.825Z"
   },
   {
    "duration": 30,
    "start_time": "2021-07-09T12:11:52.832Z"
   },
   {
    "duration": 12,
    "start_time": "2021-07-09T12:11:52.865Z"
   },
   {
    "duration": 828,
    "start_time": "2021-07-09T12:11:52.879Z"
   },
   {
    "duration": 10,
    "start_time": "2021-07-09T12:11:53.711Z"
   },
   {
    "duration": 35,
    "start_time": "2021-07-09T12:11:53.724Z"
   },
   {
    "duration": 17,
    "start_time": "2021-07-09T12:11:53.761Z"
   },
   {
    "duration": 3193,
    "start_time": "2021-07-09T12:11:53.781Z"
   },
   {
    "duration": 20,
    "start_time": "2021-07-09T12:11:56.977Z"
   },
   {
    "duration": 57,
    "start_time": "2021-07-09T12:11:56.999Z"
   },
   {
    "duration": 4350,
    "start_time": "2021-07-09T12:11:57.059Z"
   },
   {
    "duration": 5032,
    "start_time": "2021-07-09T12:12:01.412Z"
   },
   {
    "duration": 576,
    "start_time": "2021-07-09T12:12:06.446Z"
   },
   {
    "duration": 12,
    "start_time": "2021-07-09T12:12:07.024Z"
   },
   {
    "duration": 41,
    "start_time": "2021-07-09T12:12:07.038Z"
   },
   {
    "duration": 22,
    "start_time": "2021-07-09T12:12:07.082Z"
   },
   {
    "duration": 51,
    "start_time": "2021-07-09T12:12:07.107Z"
   },
   {
    "duration": 24,
    "start_time": "2021-07-09T12:12:07.161Z"
   },
   {
    "duration": 12,
    "start_time": "2021-07-09T12:12:07.187Z"
   },
   {
    "duration": 17,
    "start_time": "2021-07-09T12:12:07.201Z"
   },
   {
    "duration": 504,
    "start_time": "2021-07-09T12:12:07.257Z"
   },
   {
    "duration": 20,
    "start_time": "2021-07-09T12:12:07.763Z"
   },
   {
    "duration": 13,
    "start_time": "2021-07-09T12:12:07.787Z"
   },
   {
    "duration": 6,
    "start_time": "2021-07-09T12:14:30.585Z"
   },
   {
    "duration": 793,
    "start_time": "2021-07-09T12:17:24.280Z"
   },
   {
    "duration": 43,
    "start_time": "2021-07-09T12:17:25.076Z"
   },
   {
    "duration": 37,
    "start_time": "2021-07-09T12:17:25.123Z"
   },
   {
    "duration": 43,
    "start_time": "2021-07-09T12:17:25.164Z"
   },
   {
    "duration": 9,
    "start_time": "2021-07-09T12:17:25.210Z"
   },
   {
    "duration": 53,
    "start_time": "2021-07-09T12:17:25.222Z"
   },
   {
    "duration": 17,
    "start_time": "2021-07-09T12:17:25.278Z"
   },
   {
    "duration": 9,
    "start_time": "2021-07-09T12:17:25.298Z"
   },
   {
    "duration": 14,
    "start_time": "2021-07-09T12:17:25.311Z"
   },
   {
    "duration": 683,
    "start_time": "2021-07-09T12:17:25.356Z"
   },
   {
    "duration": 7,
    "start_time": "2021-07-09T12:17:26.042Z"
   },
   {
    "duration": 32,
    "start_time": "2021-07-09T12:17:26.057Z"
   },
   {
    "duration": 685,
    "start_time": "2021-07-09T12:17:26.092Z"
   },
   {
    "duration": -461,
    "start_time": "2021-07-09T12:17:27.242Z"
   },
   {
    "duration": -467,
    "start_time": "2021-07-09T12:17:27.250Z"
   },
   {
    "duration": -474,
    "start_time": "2021-07-09T12:17:27.259Z"
   },
   {
    "duration": -489,
    "start_time": "2021-07-09T12:17:27.277Z"
   },
   {
    "duration": -492,
    "start_time": "2021-07-09T12:17:27.282Z"
   },
   {
    "duration": -495,
    "start_time": "2021-07-09T12:17:27.287Z"
   },
   {
    "duration": -500,
    "start_time": "2021-07-09T12:17:27.293Z"
   },
   {
    "duration": -517,
    "start_time": "2021-07-09T12:17:27.312Z"
   },
   {
    "duration": -521,
    "start_time": "2021-07-09T12:17:27.318Z"
   },
   {
    "duration": -527,
    "start_time": "2021-07-09T12:17:27.325Z"
   },
   {
    "duration": -545,
    "start_time": "2021-07-09T12:17:27.345Z"
   },
   {
    "duration": -549,
    "start_time": "2021-07-09T12:17:27.350Z"
   },
   {
    "duration": -553,
    "start_time": "2021-07-09T12:17:27.356Z"
   },
   {
    "duration": -559,
    "start_time": "2021-07-09T12:17:27.364Z"
   },
   {
    "duration": -563,
    "start_time": "2021-07-09T12:17:27.370Z"
   },
   {
    "duration": -567,
    "start_time": "2021-07-09T12:17:27.376Z"
   },
   {
    "duration": -587,
    "start_time": "2021-07-09T12:17:27.398Z"
   },
   {
    "duration": -590,
    "start_time": "2021-07-09T12:17:27.404Z"
   },
   {
    "duration": -594,
    "start_time": "2021-07-09T12:17:27.410Z"
   },
   {
    "duration": -600,
    "start_time": "2021-07-09T12:17:27.418Z"
   },
   {
    "duration": -568,
    "start_time": "2021-07-09T12:17:27.424Z"
   },
   {
    "duration": -574,
    "start_time": "2021-07-09T12:17:27.431Z"
   },
   {
    "duration": -593,
    "start_time": "2021-07-09T12:17:27.453Z"
   },
   {
    "duration": -600,
    "start_time": "2021-07-09T12:17:27.461Z"
   },
   {
    "duration": -610,
    "start_time": "2021-07-09T12:17:27.473Z"
   },
   {
    "duration": -616,
    "start_time": "2021-07-09T12:17:27.480Z"
   },
   {
    "duration": -619,
    "start_time": "2021-07-09T12:17:27.485Z"
   },
   {
    "duration": -621,
    "start_time": "2021-07-09T12:17:27.489Z"
   },
   {
    "duration": 21,
    "start_time": "2021-07-09T12:20:03.318Z"
   },
   {
    "duration": 23,
    "start_time": "2021-07-09T12:21:29.662Z"
   },
   {
    "duration": 802,
    "start_time": "2021-07-09T12:32:46.186Z"
   },
   {
    "duration": 45,
    "start_time": "2021-07-09T12:32:46.992Z"
   },
   {
    "duration": 35,
    "start_time": "2021-07-09T12:32:47.041Z"
   },
   {
    "duration": 47,
    "start_time": "2021-07-09T12:32:47.079Z"
   },
   {
    "duration": 38,
    "start_time": "2021-07-09T12:32:47.128Z"
   },
   {
    "duration": 15,
    "start_time": "2021-07-09T12:32:47.170Z"
   },
   {
    "duration": 20,
    "start_time": "2021-07-09T12:32:47.188Z"
   },
   {
    "duration": 8,
    "start_time": "2021-07-09T12:32:47.212Z"
   },
   {
    "duration": 42,
    "start_time": "2021-07-09T12:32:47.223Z"
   },
   {
    "duration": 1118,
    "start_time": "2021-07-09T12:32:47.269Z"
   },
   {
    "duration": 7,
    "start_time": "2021-07-09T12:32:48.389Z"
   },
   {
    "duration": 25,
    "start_time": "2021-07-09T12:32:48.399Z"
   },
   {
    "duration": 943,
    "start_time": "2021-07-09T12:32:48.427Z"
   },
   {
    "duration": 4,
    "start_time": "2021-07-09T12:32:49.373Z"
   },
   {
    "duration": 17,
    "start_time": "2021-07-09T12:32:49.380Z"
   },
   {
    "duration": 7,
    "start_time": "2021-07-09T12:32:49.400Z"
   },
   {
    "duration": 874,
    "start_time": "2021-07-09T12:32:49.410Z"
   },
   {
    "duration": 3,
    "start_time": "2021-07-09T12:32:50.287Z"
   },
   {
    "duration": 16,
    "start_time": "2021-07-09T12:32:50.292Z"
   },
   {
    "duration": 8,
    "start_time": "2021-07-09T12:32:50.310Z"
   },
   {
    "duration": 820,
    "start_time": "2021-07-09T12:32:50.320Z"
   },
   {
    "duration": 21,
    "start_time": "2021-07-09T12:32:51.142Z"
   },
   {
    "duration": 15,
    "start_time": "2021-07-09T12:32:51.170Z"
   },
   {
    "duration": 12,
    "start_time": "2021-07-09T12:32:51.187Z"
   },
   {
    "duration": 3138,
    "start_time": "2021-07-09T12:32:51.201Z"
   },
   {
    "duration": 28,
    "start_time": "2021-07-09T12:32:54.341Z"
   },
   {
    "duration": 48,
    "start_time": "2021-07-09T12:32:54.371Z"
   },
   {
    "duration": 4358,
    "start_time": "2021-07-09T12:32:54.421Z"
   },
   {
    "duration": 5075,
    "start_time": "2021-07-09T12:32:58.781Z"
   },
   {
    "duration": 578,
    "start_time": "2021-07-09T12:33:03.859Z"
   },
   {
    "duration": 27,
    "start_time": "2021-07-09T12:33:04.440Z"
   },
   {
    "duration": 25,
    "start_time": "2021-07-09T12:33:04.470Z"
   },
   {
    "duration": 10,
    "start_time": "2021-07-09T12:33:04.498Z"
   },
   {
    "duration": 61,
    "start_time": "2021-07-09T12:33:04.511Z"
   },
   {
    "duration": 16,
    "start_time": "2021-07-09T12:33:04.574Z"
   },
   {
    "duration": 18,
    "start_time": "2021-07-09T12:33:04.593Z"
   },
   {
    "duration": 21,
    "start_time": "2021-07-09T12:33:04.613Z"
   },
   {
    "duration": 428,
    "start_time": "2021-07-09T12:33:04.656Z"
   },
   {
    "duration": 17,
    "start_time": "2021-07-09T12:33:05.087Z"
   },
   {
    "duration": 19,
    "start_time": "2021-07-09T12:33:05.107Z"
   },
   {
    "duration": 901,
    "start_time": "2021-07-20T15:43:57.944Z"
   },
   {
    "duration": 44,
    "start_time": "2021-07-20T15:43:59.813Z"
   },
   {
    "duration": 16,
    "start_time": "2021-07-20T15:44:04.479Z"
   }
  ],
  "kernelspec": {
   "display_name": "Python 3",
   "language": "python",
   "name": "python3"
  },
  "language_info": {
   "codemirror_mode": {
    "name": "ipython",
    "version": 3
   },
   "file_extension": ".py",
   "mimetype": "text/x-python",
   "name": "python",
   "nbconvert_exporter": "python",
   "pygments_lexer": "ipython3",
   "version": "3.8.8"
  },
  "toc": {
   "base_numbering": 1,
   "nav_menu": {},
   "number_sections": true,
   "sideBar": true,
   "skip_h1_title": true,
   "title_cell": "Table of Contents",
   "title_sidebar": "Contents",
   "toc_cell": false,
   "toc_position": {},
   "toc_section_display": true,
   "toc_window_display": true
  }
 },
 "nbformat": 4,
 "nbformat_minor": 2
}
