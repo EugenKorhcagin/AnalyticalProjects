{
 "cells": [
  {
   "cell_type": "markdown",
   "metadata": {},
   "source": [
    "<h1>Содержание сборного проекта по анализу приложения рынка общественного питания<span class=\"tocSkip\"></span></h1>\n",
    "<div class=\"toc\"><ul class=\"toc-item\"><li><span><a href=\"#Изучение-данных-из-файла\" data-toc-modified-id=\"Изучение-данных-из-файла-1\"><span class=\"toc-item-num\">1&nbsp;&nbsp;</span>Изучение данных из файла</a></span><ul class=\"toc-item\"><li><span><a href=\"#Вывод\" data-toc-modified-id=\"Вывод-1.1\"><span class=\"toc-item-num\">1.1&nbsp;&nbsp;</span>Вывод</a></span></li></ul></li><li><span><a href=\"#Предобработка-данных\" data-toc-modified-id=\"Предобработка-данных-2\"><span class=\"toc-item-num\">2&nbsp;&nbsp;</span>Предобработка данных</a></span></li><li><span><a href=\"#Расчёты-и-добавление-результатов-в-таблицу\" data-toc-modified-id=\"Расчёты-и-добавление-результатов-в-таблицу-3\"><span class=\"toc-item-num\">3&nbsp;&nbsp;</span>Расчёты и добавление результатов в таблицу</a></span></li><li><span><a href=\"#Исследовательский-анализ-данных\" data-toc-modified-id=\"Исследовательский-анализ-данных-4\"><span class=\"toc-item-num\">4&nbsp;&nbsp;</span>Исследовательский анализ данных</a></span></li><li><span><a href=\"#Выдвижение-и-проверка-гипотез\" data-toc-modified-id=\"Выдвижение-и-проверка-гипотез-5\"><span class=\"toc-item-num\">5&nbsp;&nbsp;</span>Выдвижение и проверка гипотез</a></span></li><li><span><a href=\"#Общий-вывод\" data-toc-modified-id=\"Общий-вывод-6\"><span class=\"toc-item-num\">6&nbsp;&nbsp;</span>Общий вывод</a></span></li><li><span><a href=\"#Чек-лист-готовности-проекта\" data-toc-modified-id=\"Чек-лист-готовности-проекта-7\"><span class=\"toc-item-num\">7&nbsp;&nbsp;</span>Чек-лист готовности проекта</a></span></li></ul></div>"
   ]
  },
  {
   "cell_type": "markdown",
   "metadata": {},
   "source": [
    "# Исследование "
   ]
  },
  {
   "cell_type": "markdown",
   "metadata": {},
   "source": [
    "Определить целесообразность и возможность изменить шрифт в приложении на основе выделенных 3х групп данных, выраженных в логах действий."
   ]
  },
  {
   "cell_type": "markdown",
   "metadata": {},
   "source": [
    "- Цель: \n",
    " доказать или опровергнуть необходимость (возможность) изменить шрифт для приложения\n",
    "- Задачи: \n",
    "1. Изучить и подготовить данные \n",
    "2. Исследовать воронку событий \n",
    "3. Изучить результаты экспериментов \n",
    "4. Проверить гипотезы "
   ]
  },
  {
   "cell_type": "markdown",
   "metadata": {},
   "source": []
  },
  {
   "cell_type": "markdown",
   "metadata": {},
   "source": [
    "## Изучение данных из файла"
   ]
  },
  {
   "cell_type": "markdown",
   "metadata": {},
   "source": [
    "Импортируем библиотеки"
   ]
  },
  {
   "cell_type": "code",
   "execution_count": 1,
   "metadata": {},
   "outputs": [
    {
     "name": "stdout",
     "output_type": "stream",
     "text": [
      "Requirement already satisfied: plotly in ./opt/anaconda3/lib/python3.8/site-packages (5.3.1)\r\n",
      "Requirement already satisfied: tenacity>=6.2.0 in ./opt/anaconda3/lib/python3.8/site-packages (from plotly) (8.0.1)\r\n",
      "Requirement already satisfied: six in ./opt/anaconda3/lib/python3.8/site-packages (from plotly) (1.15.0)\r\n"
     ]
    },
    {
     "data": {
      "text/html": [
       "        <script type=\"text/javascript\">\n",
       "        window.PlotlyConfig = {MathJaxConfig: 'local'};\n",
       "        if (window.MathJax) {MathJax.Hub.Config({SVG: {font: \"STIX-Web\"}});}\n",
       "        if (typeof require !== 'undefined') {\n",
       "        require.undef(\"plotly\");\n",
       "        requirejs.config({\n",
       "            paths: {\n",
       "                'plotly': ['https://cdn.plot.ly/plotly-2.4.2.min']\n",
       "            }\n",
       "        });\n",
       "        require(['plotly'], function(Plotly) {\n",
       "            window._Plotly = Plotly;\n",
       "        });\n",
       "        }\n",
       "        </script>\n",
       "        "
      ]
     },
     "metadata": {},
     "output_type": "display_data"
    }
   ],
   "source": [
    "import pandas as pd \n",
    "import numpy as np\n",
    "import matplotlib.pyplot as plt\n",
    "import datetime \n",
    "from scipy import stats as st\n",
    "import math\n",
    "import warnings\n",
    "from scipy.stats import levene\n",
    "import seaborn as sns\n",
    "from numpy import median\n",
    "import sys\n",
    "!{sys.executable} -m pip install plotly\n",
    "import plotly.graph_objs as go\n",
    "from plotly import __version__\n",
    "from plotly.offline import download_plotlyjs, init_notebook_mode, plot, iplot\n",
    "init_notebook_mode(connected=True)\n",
    "import plotly.express as px\n",
    "import plotly as pl\n",
    "from plotly import graph_objects as go\n",
    "from random import randint\n",
    "from statsmodels.stats import weightstats as stests\n",
    "warnings.filterwarnings('ignore')"
   ]
  },
  {
   "cell_type": "markdown",
   "metadata": {},
   "source": []
  },
  {
   "cell_type": "code",
   "execution_count": 2,
   "metadata": {},
   "outputs": [],
   "source": [
    "df = pd.read_csv('https://www.dropbox.com/s/mugls4thvy3q719/logs_exp.csv?dl=1', sep = '\\t',skiprows = 0)"
   ]
  },
  {
   "cell_type": "markdown",
   "metadata": {},
   "source": [
    "рассмотрим первые 10 строк данных."
   ]
  },
  {
   "cell_type": "code",
   "execution_count": 3,
   "metadata": {},
   "outputs": [
    {
     "data": {
      "text/html": [
       "<div>\n",
       "<style scoped>\n",
       "    .dataframe tbody tr th:only-of-type {\n",
       "        vertical-align: middle;\n",
       "    }\n",
       "\n",
       "    .dataframe tbody tr th {\n",
       "        vertical-align: top;\n",
       "    }\n",
       "\n",
       "    .dataframe thead th {\n",
       "        text-align: right;\n",
       "    }\n",
       "</style>\n",
       "<table border=\"1\" class=\"dataframe\">\n",
       "  <thead>\n",
       "    <tr style=\"text-align: right;\">\n",
       "      <th></th>\n",
       "      <th>EventName</th>\n",
       "      <th>DeviceIDHash</th>\n",
       "      <th>EventTimestamp</th>\n",
       "      <th>ExpId</th>\n",
       "    </tr>\n",
       "  </thead>\n",
       "  <tbody>\n",
       "    <tr>\n",
       "      <th>0</th>\n",
       "      <td>MainScreenAppear</td>\n",
       "      <td>4575588528974610257</td>\n",
       "      <td>1564029816</td>\n",
       "      <td>246</td>\n",
       "    </tr>\n",
       "    <tr>\n",
       "      <th>1</th>\n",
       "      <td>MainScreenAppear</td>\n",
       "      <td>7416695313311560658</td>\n",
       "      <td>1564053102</td>\n",
       "      <td>246</td>\n",
       "    </tr>\n",
       "    <tr>\n",
       "      <th>2</th>\n",
       "      <td>PaymentScreenSuccessful</td>\n",
       "      <td>3518123091307005509</td>\n",
       "      <td>1564054127</td>\n",
       "      <td>248</td>\n",
       "    </tr>\n",
       "    <tr>\n",
       "      <th>3</th>\n",
       "      <td>CartScreenAppear</td>\n",
       "      <td>3518123091307005509</td>\n",
       "      <td>1564054127</td>\n",
       "      <td>248</td>\n",
       "    </tr>\n",
       "    <tr>\n",
       "      <th>4</th>\n",
       "      <td>PaymentScreenSuccessful</td>\n",
       "      <td>6217807653094995999</td>\n",
       "      <td>1564055322</td>\n",
       "      <td>248</td>\n",
       "    </tr>\n",
       "  </tbody>\n",
       "</table>\n",
       "</div>"
      ],
      "text/plain": [
       "                 EventName         DeviceIDHash  EventTimestamp  ExpId\n",
       "0         MainScreenAppear  4575588528974610257      1564029816    246\n",
       "1         MainScreenAppear  7416695313311560658      1564053102    246\n",
       "2  PaymentScreenSuccessful  3518123091307005509      1564054127    248\n",
       "3         CartScreenAppear  3518123091307005509      1564054127    248\n",
       "4  PaymentScreenSuccessful  6217807653094995999      1564055322    248"
      ]
     },
     "metadata": {},
     "output_type": "display_data"
    }
   ],
   "source": [
    "display(df.head(5))"
   ]
  },
  {
   "cell_type": "markdown",
   "metadata": {},
   "source": [
    "данные \"слиплись\". Разделим с помощью аттрибута sep."
   ]
  },
  {
   "cell_type": "markdown",
   "metadata": {},
   "source": [
    "рассмотрим информацию о датасете\n"
   ]
  },
  {
   "cell_type": "code",
   "execution_count": 4,
   "metadata": {},
   "outputs": [
    {
     "name": "stdout",
     "output_type": "stream",
     "text": [
      "<class 'pandas.core.frame.DataFrame'>\n",
      "RangeIndex: 244126 entries, 0 to 244125\n",
      "Data columns (total 4 columns):\n",
      " #   Column          Non-Null Count   Dtype \n",
      "---  ------          --------------   ----- \n",
      " 0   EventName       244126 non-null  object\n",
      " 1   DeviceIDHash    244126 non-null  int64 \n",
      " 2   EventTimestamp  244126 non-null  int64 \n",
      " 3   ExpId           244126 non-null  int64 \n",
      "dtypes: int64(3), object(1)\n",
      "memory usage: 7.5+ MB\n"
     ]
    }
   ],
   "source": [
    "df.info()"
   ]
  },
  {
   "cell_type": "markdown",
   "metadata": {},
   "source": [
    "### Вывод"
   ]
  },
  {
   "cell_type": "markdown",
   "metadata": {},
   "source": [
    "Фрейм с 4мя полями. Типы данных = object, int64. Поле Timedelta предположительно в unix формате"
   ]
  },
  {
   "cell_type": "markdown",
   "metadata": {},
   "source": [
    "## Предобработка данных"
   ]
  },
  {
   "cell_type": "markdown",
   "metadata": {},
   "source": [
    "Пропущенных значений нет. Теперь заменим названия столбцов."
   ]
  },
  {
   "cell_type": "code",
   "execution_count": 5,
   "metadata": {},
   "outputs": [],
   "source": [
    "df.rename(columns={'EventName': 'event_name', 'DeviceIDHash':'user_id', 'EventTimestamp':'event_time', 'ExpId':'experiment_group'}, inplace = True)\n"
   ]
  },
  {
   "cell_type": "markdown",
   "metadata": {},
   "source": [
    "проверим фрейм на пропуски"
   ]
  },
  {
   "cell_type": "code",
   "execution_count": 6,
   "metadata": {},
   "outputs": [
    {
     "name": "stdout",
     "output_type": "stream",
     "text": [
      "в данных 0 пропусков\n"
     ]
    }
   ],
   "source": [
    "print('в данных', df.isna().sum(axis=1).sum(), 'пропусков')"
   ]
  },
  {
   "cell_type": "markdown",
   "metadata": {},
   "source": [
    "проверим поля данных на корректность:"
   ]
  },
  {
   "cell_type": "code",
   "execution_count": 7,
   "metadata": {
    "scrolled": true
   },
   "outputs": [
    {
     "name": "stdout",
     "output_type": "stream",
     "text": [
      "MainScreenAppear           119205\n",
      "OffersScreenAppear          46825\n",
      "CartScreenAppear            42731\n",
      "PaymentScreenSuccessful     34313\n",
      "Tutorial                     1052\n",
      "Name: event_name, dtype: int64\n",
      "6304868067479728361    2308\n",
      "197027893265565660     2003\n",
      "4623191541214045580    1771\n",
      "6932517045703054087    1448\n",
      "1754140665440434215    1222\n",
      "                       ... \n",
      "8188293597840107588       1\n",
      "1616856457908967248       1\n",
      "732356052255400077        1\n",
      "6671109879025379318       1\n",
      "2275878174127603404       1\n",
      "Name: user_id, Length: 7551, dtype: int64\n",
      "248    85747\n",
      "246    80304\n",
      "247    78075\n",
      "Name: experiment_group, dtype: int64\n",
      "count    2.441260e+05\n",
      "mean     1.564914e+09\n",
      "std      1.771343e+05\n",
      "min      1.564030e+09\n",
      "25%      1.564757e+09\n",
      "50%      1.564919e+09\n",
      "75%      1.565075e+09\n",
      "max      1.565213e+09\n",
      "Name: event_time, dtype: float64\n"
     ]
    }
   ],
   "source": [
    "print(df['event_name'].value_counts()) #оценим возможные исследуемые события\n",
    "\n",
    "print(df['user_id'].value_counts()) #оценим число уникальных пользователей\n",
    "\n",
    "print(df['experiment_group'].value_counts()) #ищем иные, кроме 246, 247,248 группы\n",
    "\n",
    "print(df['event_time'].describe()) #смотрим минимальные и максимальные значения\n"
   ]
  },
  {
   "cell_type": "markdown",
   "metadata": {},
   "source": [
    "Удалим дубликаты "
   ]
  },
  {
   "cell_type": "code",
   "execution_count": 8,
   "metadata": {},
   "outputs": [],
   "source": [
    "df = df.drop_duplicates()"
   ]
  },
  {
   "cell_type": "markdown",
   "metadata": {},
   "source": [
    "### Вывод"
   ]
  },
  {
   "cell_type": "markdown",
   "metadata": {},
   "source": [
    "Данные адекватны, дубликаты удалены. Можно добавлять поля и менять типы данных в поле Timestamp. Unix преобразуем в привычный вид даты\n"
   ]
  },
  {
   "cell_type": "markdown",
   "metadata": {},
   "source": [
    "## Расчёты и добавление результатов в таблицу"
   ]
  },
  {
   "cell_type": "markdown",
   "metadata": {},
   "source": [
    "Добавляем столбцы с форматами: дата с временем, чистая дата"
   ]
  },
  {
   "cell_type": "code",
   "execution_count": 9,
   "metadata": {},
   "outputs": [],
   "source": [
    "df['event_time_dt'] = pd.to_datetime(df['event_time'], unit='s', origin='unix') \n",
    "df['event_date'] = df['event_time_dt'].dt.date #добавляем дату\n",
    "\n",
    " #меняем unix на дату с временем"
   ]
  },
  {
   "cell_type": "markdown",
   "metadata": {},
   "source": [
    "Исследуем количество событий в логе"
   ]
  },
  {
   "cell_type": "code",
   "execution_count": 10,
   "metadata": {},
   "outputs": [
    {
     "name": "stdout",
     "output_type": "stream",
     "text": [
      "Всего в логе 243713 событий\n"
     ]
    }
   ],
   "source": [
    "print('Всего в логе', df.count()[1], 'событий')"
   ]
  },
  {
   "cell_type": "markdown",
   "metadata": {},
   "source": [
    "Определим число пользователей в логе"
   ]
  },
  {
   "cell_type": "code",
   "execution_count": 11,
   "metadata": {},
   "outputs": [
    {
     "name": "stdout",
     "output_type": "stream",
     "text": [
      "всего в логе 7551 пользователей\n"
     ]
    }
   ],
   "source": [
    "print('всего в логе', df['user_id'].nunique(), 'пользователей')"
   ]
  },
  {
   "cell_type": "markdown",
   "metadata": {},
   "source": [
    "Рассчитаем среднее количество событий на опльзователя"
   ]
  },
  {
   "cell_type": "code",
   "execution_count": 12,
   "metadata": {},
   "outputs": [
    {
     "name": "stdout",
     "output_type": "stream",
     "text": [
      "в среднем на одного пользователя 32.28 событий\n"
     ]
    }
   ],
   "source": [
    "print('в среднем на одного пользователя', '{:.2f}'.format(df.count()[1]/df['user_id'].nunique()), 'событий')"
   ]
  },
  {
   "cell_type": "markdown",
   "metadata": {},
   "source": [
    "Определим период, за который мы располагаем данными"
   ]
  },
  {
   "cell_type": "code",
   "execution_count": 13,
   "metadata": {},
   "outputs": [
    {
     "data": {
      "text/plain": [
       "Timedelta('13 days 16:31:41')"
      ]
     },
     "execution_count": 13,
     "metadata": {},
     "output_type": "execute_result"
    }
   ],
   "source": [
    "df['event_time_dt'].max() - df['event_time_dt'].min()"
   ]
  },
  {
   "cell_type": "markdown",
   "metadata": {},
   "source": [
    "Исходя из первичной проверки, в нашем распоряжении данные за 13 дней, 16 часов, 31 минута и 41 секунда. Построим гистограмму"
   ]
  },
  {
   "cell_type": "code",
   "execution_count": 14,
   "metadata": {},
   "outputs": [
    {
     "data": {
      "image/png": "[encoded data removed]",
      "text/plain": [
       "<Figure size 1080x216 with 1 Axes>"
      ]
     },
     "metadata": {
      "needs_background": "light"
     },
     "output_type": "display_data"
    }
   ],
   "source": [
    "plt.figure(figsize = (15,3))\n",
    "df['event_time_dt'].hist(bins = 100, color = 'green')\n",
    "plt.title('активность событий по времени')\n",
    "plt.xlabel(\"дата\")    \n",
    "plt.ylabel(\"количество событий\") \n",
    "plt.show()"
   ]
  },
  {
   "cell_type": "markdown",
   "metadata": {},
   "source": [
    "Очевидно, что основная активность начинается с 1 го августа 2019 года. Видим, что срезан хвост у последнего пика активности. Однако данные нужно обрезать. Примем за начало активности 1е августа, за окончание 7е включительно, проверим это с помощью поля с датами."
   ]
  },
  {
   "cell_type": "code",
   "execution_count": 15,
   "metadata": {},
   "outputs": [
    {
     "data": {
      "text/plain": [
       "2019-08-01    36141\n",
       "2019-08-05    36058\n",
       "2019-08-06    35788\n",
       "2019-08-02    35554\n",
       "2019-08-03    33282\n",
       "2019-08-04    32968\n",
       "2019-08-07    31096\n",
       "2019-07-31     2030\n",
       "2019-07-30      412\n",
       "2019-07-29      184\n",
       "2019-07-28      105\n",
       "2019-07-27       55\n",
       "2019-07-26       31\n",
       "2019-07-25        9\n",
       "Name: event_date, dtype: int64"
      ]
     },
     "execution_count": 15,
     "metadata": {},
     "output_type": "execute_result"
    }
   ],
   "source": [
    "df['event_date'].value_counts()"
   ]
  },
  {
   "cell_type": "markdown",
   "metadata": {},
   "source": [
    "Фактически мы обладаем данными за неделю. Фрейм наполовину пуст, или наполовину полон. Определим количество и процент потерянных событий и польозвателей."
   ]
  },
  {
   "cell_type": "code",
   "execution_count": 16,
   "metadata": {},
   "outputs": [],
   "source": [
    "df_lost = df[df['event_date']<pd.Timestamp(2019,7,31)]\n",
    "df = df[df['event_date']>pd.Timestamp(2019,7,31)]"
   ]
  },
  {
   "cell_type": "code",
   "execution_count": 17,
   "metadata": {},
   "outputs": [
    {
     "name": "stdout",
     "output_type": "stream",
     "text": [
      "Всего потеряли 796 событий и 555 пользователей\n"
     ]
    }
   ],
   "source": [
    "print('Всего потеряли', df_lost.count()[1], 'событий и', df_lost['user_id'].nunique(), 'пользователей')"
   ]
  },
  {
   "cell_type": "markdown",
   "metadata": {},
   "source": [
    "Проверим, остались ли пользователи всех трёх исследуемых групп экспериментов"
   ]
  },
  {
   "cell_type": "code",
   "execution_count": 18,
   "metadata": {},
   "outputs": [
    {
     "data": {
      "text/plain": [
       "experiment_group\n",
       "246    2484\n",
       "247    2513\n",
       "248    2537\n",
       "Name: user_id, dtype: int64"
      ]
     },
     "execution_count": 18,
     "metadata": {},
     "output_type": "execute_result"
    }
   ],
   "source": [
    "df.groupby('experiment_group')['user_id'].nunique()"
   ]
  },
  {
   "cell_type": "code",
   "execution_count": 19,
   "metadata": {},
   "outputs": [
    {
     "data": {
      "text/plain": [
       "experiment_group\n",
       "246    185\n",
       "247    182\n",
       "248    188\n",
       "Name: user_id, dtype: int64"
      ]
     },
     "execution_count": 19,
     "metadata": {},
     "output_type": "execute_result"
    }
   ],
   "source": [
    "df_lost.groupby('experiment_group')['user_id'].nunique() #рассмотрим отброшенных уникальных юзеров"
   ]
  },
  {
   "cell_type": "markdown",
   "metadata": {},
   "source": [
    "в целом - все пользователи остались. Пользователи равномерно отвалились от всех трёх групп."
   ]
  },
  {
   "cell_type": "markdown",
   "metadata": {},
   "source": [
    "### Вывод"
   ]
  },
  {
   "cell_type": "markdown",
   "metadata": {},
   "source": [
    "Данные отфильтрованы и готовы к анализу. В масштабах данных, потеряли относительно небольшую часть, что позволяет провести полноценный анализ. Визуализация частоты событий по времени после фильтрации представлена на графике (ниже)"
   ]
  },
  {
   "cell_type": "code",
   "execution_count": 20,
   "metadata": {},
   "outputs": [
    {
     "data": {
      "image/png": "[encoded data removed]",
      "text/plain": [
       "<Figure size 576x216 with 1 Axes>"
      ]
     },
     "metadata": {
      "needs_background": "light"
     },
     "output_type": "display_data"
    }
   ],
   "source": [
    "plt.figure(figsize = (8,3))\n",
    "df['event_time_dt'].hist(bins = 100, color = 'green')\n",
    "plt.title('активность событий по времени после фильтрации')\n",
    "plt.xlabel(\"дата\")    \n",
    "plt.ylabel(\"количество событий\")\n",
    "plt.xticks(rotation=-45, horizontalalignment='left')\n",
    "plt.show()"
   ]
  },
  {
   "cell_type": "markdown",
   "metadata": {},
   "source": [
    "## Исследовательский и статистический анализ данных"
   ]
  },
  {
   "cell_type": "markdown",
   "metadata": {},
   "source": [
    "Рассмотрим варианты событий в логах с сортировкой. Для этого вызовем метод value_counts "
   ]
  },
  {
   "cell_type": "code",
   "execution_count": 21,
   "metadata": {},
   "outputs": [],
   "source": [
    "funn = df.groupby('event_name')['user_id'].nunique()\n",
    "funn = funn[funn.index != 'Tutorial']"
   ]
  },
  {
   "cell_type": "markdown",
   "metadata": {},
   "source": [
    "Итак, события исходя из фрейма могут быть следующими: \n",
    "1. Появление главного экрана\n",
    "2. Скрин оффера\n",
    "3. Появление скрина оплаты\n",
    "4. Скрин успешной оплаты\n",
    "5. Туториал"
   ]
  },
  {
   "cell_type": "markdown",
   "metadata": {},
   "source": [
    "Судя по сортировке - всё выстраивается в классическую воронку за исключением Туториала, очевидно это ответвление от воронки. Возможно данные по Туториалу пригодятся для расчёта других метрик, но к воронке отношения не имеют. Поэтому воронка будет выглядеть следующим образом:\n"
   ]
  },
  {
   "cell_type": "code",
   "execution_count": 22,
   "metadata": {},
   "outputs": [],
   "source": [
    "funn = funn.to_frame().reset_index().sort_values(by= 'user_id', ascending = False)\n"
   ]
  },
  {
   "cell_type": "code",
   "execution_count": 23,
   "metadata": {},
   "outputs": [
    {
     "data": {
      "text/html": [
       "<div>\n",
       "<style scoped>\n",
       "    .dataframe tbody tr th:only-of-type {\n",
       "        vertical-align: middle;\n",
       "    }\n",
       "\n",
       "    .dataframe tbody tr th {\n",
       "        vertical-align: top;\n",
       "    }\n",
       "\n",
       "    .dataframe thead th {\n",
       "        text-align: right;\n",
       "    }\n",
       "</style>\n",
       "<table border=\"1\" class=\"dataframe\">\n",
       "  <thead>\n",
       "    <tr style=\"text-align: right;\">\n",
       "      <th></th>\n",
       "      <th>event_name</th>\n",
       "      <th>user_id</th>\n",
       "    </tr>\n",
       "  </thead>\n",
       "  <tbody>\n",
       "    <tr>\n",
       "      <th>1</th>\n",
       "      <td>MainScreenAppear</td>\n",
       "      <td>7419</td>\n",
       "    </tr>\n",
       "    <tr>\n",
       "      <th>2</th>\n",
       "      <td>OffersScreenAppear</td>\n",
       "      <td>4593</td>\n",
       "    </tr>\n",
       "    <tr>\n",
       "      <th>0</th>\n",
       "      <td>CartScreenAppear</td>\n",
       "      <td>3734</td>\n",
       "    </tr>\n",
       "    <tr>\n",
       "      <th>3</th>\n",
       "      <td>PaymentScreenSuccessful</td>\n",
       "      <td>3539</td>\n",
       "    </tr>\n",
       "  </tbody>\n",
       "</table>\n",
       "</div>"
      ],
      "text/plain": [
       "                event_name  user_id\n",
       "1         MainScreenAppear     7419\n",
       "2       OffersScreenAppear     4593\n",
       "0         CartScreenAppear     3734\n",
       "3  PaymentScreenSuccessful     3539"
      ]
     },
     "execution_count": 23,
     "metadata": {},
     "output_type": "execute_result"
    }
   ],
   "source": [
    "funn "
   ]
  },
  {
   "cell_type": "code",
   "execution_count": 24,
   "metadata": {},
   "outputs": [
    {
     "data": {
      "application/vnd.plotly.v1+json": {
       "config": {
        "plotlyServerURL": "https://plot.ly"
       },
       "data": [
        {
         "type": "funnel",
         "x": [
          7419,
          4593,
          3734,
          3539
         ],
         "y": [
          "Появление главного экрана",
          "Скрин оффера",
          "Появление скрина оплаты",
          "Скрин успешной оплаты"
         ]
        }
       ],
       "layout": {
        "template": {
         "data": {
          "bar": [
           {
            "error_x": {
             "color": "#2a3f5f"
            },
            "error_y": {
             "color": "#2a3f5f"
            },
            "marker": {
             "line": {
              "color": "#E5ECF6",
              "width": 0.5
             },
             "pattern": {
              "fillmode": "overlay",
              "size": 10,
              "solidity": 0.2
             }
            },
            "type": "bar"
           }
          ],
          "barpolar": [
           {
            "marker": {
             "line": {
              "color": "#E5ECF6",
              "width": 0.5
             },
             "pattern": {
              "fillmode": "overlay",
              "size": 10,
              "solidity": 0.2
             }
            },
            "type": "barpolar"
           }
          ],
          "carpet": [
           {
            "aaxis": {
             "endlinecolor": "#2a3f5f",
             "gridcolor": "white",
             "linecolor": "white",
             "minorgridcolor": "white",
             "startlinecolor": "#2a3f5f"
            },
            "baxis": {
             "endlinecolor": "#2a3f5f",
             "gridcolor": "white",
             "linecolor": "white",
             "minorgridcolor": "white",
             "startlinecolor": "#2a3f5f"
            },
            "type": "carpet"
           }
          ],
          "choropleth": [
           {
            "colorbar": {
             "outlinewidth": 0,
             "ticks": ""
            },
            "type": "choropleth"
           }
          ],
          "contour": [
           {
            "colorbar": {
             "outlinewidth": 0,
             "ticks": ""
            },
            "colorscale": [
             [
              0,
              "#0d0887"
             ],
             [
              0.1111111111111111,
              "#46039f"
             ],
             [
              0.2222222222222222,
              "#7201a8"
             ],
             [
              0.3333333333333333,
              "#9c179e"
             ],
             [
              0.4444444444444444,
              "#bd3786"
             ],
             [
              0.5555555555555556,
              "#d8576b"
             ],
             [
              0.6666666666666666,
              "#ed7953"
             ],
             [
              0.7777777777777778,
              "#fb9f3a"
             ],
             [
              0.8888888888888888,
              "#fdca26"
             ],
             [
              1,
              "#f0f921"
             ]
            ],
            "type": "contour"
           }
          ],
          "contourcarpet": [
           {
            "colorbar": {
             "outlinewidth": 0,
             "ticks": ""
            },
            "type": "contourcarpet"
           }
          ],
          "heatmap": [
           {
            "colorbar": {
             "outlinewidth": 0,
             "ticks": ""
            },
            "colorscale": [
             [
              0,
              "#0d0887"
             ],
             [
              0.1111111111111111,
              "#46039f"
             ],
             [
              0.2222222222222222,
              "#7201a8"
             ],
             [
              0.3333333333333333,
              "#9c179e"
             ],
             [
              0.4444444444444444,
              "#bd3786"
             ],
             [
              0.5555555555555556,
              "#d8576b"
             ],
             [
              0.6666666666666666,
              "#ed7953"
             ],
             [
              0.7777777777777778,
              "#fb9f3a"
             ],
             [
              0.8888888888888888,
              "#fdca26"
             ],
             [
              1,
              "#f0f921"
             ]
            ],
            "type": "heatmap"
           }
          ],
          "heatmapgl": [
           {
            "colorbar": {
             "outlinewidth": 0,
             "ticks": ""
            },
            "colorscale": [
             [
              0,
              "#0d0887"
             ],
             [
              0.1111111111111111,
              "#46039f"
             ],
             [
              0.2222222222222222,
              "#7201a8"
             ],
             [
              0.3333333333333333,
              "#9c179e"
             ],
             [
              0.4444444444444444,
              "#bd3786"
             ],
             [
              0.5555555555555556,
              "#d8576b"
             ],
             [
              0.6666666666666666,
              "#ed7953"
             ],
             [
              0.7777777777777778,
              "#fb9f3a"
             ],
             [
              0.8888888888888888,
              "#fdca26"
             ],
             [
              1,
              "#f0f921"
             ]
            ],
            "type": "heatmapgl"
           }
          ],
          "histogram": [
           {
            "marker": {
             "pattern": {
              "fillmode": "overlay",
              "size": 10,
              "solidity": 0.2
             }
            },
            "type": "histogram"
           }
          ],
          "histogram2d": [
           {
            "colorbar": {
             "outlinewidth": 0,
             "ticks": ""
            },
            "colorscale": [
             [
              0,
              "#0d0887"
             ],
             [
              0.1111111111111111,
              "#46039f"
             ],
             [
              0.2222222222222222,
              "#7201a8"
             ],
             [
              0.3333333333333333,
              "#9c179e"
             ],
             [
              0.4444444444444444,
              "#bd3786"
             ],
             [
              0.5555555555555556,
              "#d8576b"
             ],
             [
              0.6666666666666666,
              "#ed7953"
             ],
             [
              0.7777777777777778,
              "#fb9f3a"
             ],
             [
              0.8888888888888888,
              "#fdca26"
             ],
             [
              1,
              "#f0f921"
             ]
            ],
            "type": "histogram2d"
           }
          ],
          "histogram2dcontour": [
           {
            "colorbar": {
             "outlinewidth": 0,
             "ticks": ""
            },
            "colorscale": [
             [
              0,
              "#0d0887"
             ],
             [
              0.1111111111111111,
              "#46039f"
             ],
             [
              0.2222222222222222,
              "#7201a8"
             ],
             [
              0.3333333333333333,
              "#9c179e"
             ],
             [
              0.4444444444444444,
              "#bd3786"
             ],
             [
              0.5555555555555556,
              "#d8576b"
             ],
             [
              0.6666666666666666,
              "#ed7953"
             ],
             [
              0.7777777777777778,
              "#fb9f3a"
             ],
             [
              0.8888888888888888,
              "#fdca26"
             ],
             [
              1,
              "#f0f921"
             ]
            ],
            "type": "histogram2dcontour"
           }
          ],
          "mesh3d": [
           {
            "colorbar": {
             "outlinewidth": 0,
             "ticks": ""
            },
            "type": "mesh3d"
           }
          ],
          "parcoords": [
           {
            "line": {
             "colorbar": {
              "outlinewidth": 0,
              "ticks": ""
             }
            },
            "type": "parcoords"
           }
          ],
          "pie": [
           {
            "automargin": true,
            "type": "pie"
           }
          ],
          "scatter": [
           {
            "marker": {
             "colorbar": {
              "outlinewidth": 0,
              "ticks": ""
             }
            },
            "type": "scatter"
           }
          ],
          "scatter3d": [
           {
            "line": {
             "colorbar": {
              "outlinewidth": 0,
              "ticks": ""
             }
            },
            "marker": {
             "colorbar": {
              "outlinewidth": 0,
              "ticks": ""
             }
            },
            "type": "scatter3d"
           }
          ],
          "scattercarpet": [
           {
            "marker": {
             "colorbar": {
              "outlinewidth": 0,
              "ticks": ""
             }
            },
            "type": "scattercarpet"
           }
          ],
          "scattergeo": [
           {
            "marker": {
             "colorbar": {
              "outlinewidth": 0,
              "ticks": ""
             }
            },
            "type": "scattergeo"
           }
          ],
          "scattergl": [
           {
            "marker": {
             "colorbar": {
              "outlinewidth": 0,
              "ticks": ""
             }
            },
            "type": "scattergl"
           }
          ],
          "scattermapbox": [
           {
            "marker": {
             "colorbar": {
              "outlinewidth": 0,
              "ticks": ""
             }
            },
            "type": "scattermapbox"
           }
          ],
          "scatterpolar": [
           {
            "marker": {
             "colorbar": {
              "outlinewidth": 0,
              "ticks": ""
             }
            },
            "type": "scatterpolar"
           }
          ],
          "scatterpolargl": [
           {
            "marker": {
             "colorbar": {
              "outlinewidth": 0,
              "ticks": ""
             }
            },
            "type": "scatterpolargl"
           }
          ],
          "scatterternary": [
           {
            "marker": {
             "colorbar": {
              "outlinewidth": 0,
              "ticks": ""
             }
            },
            "type": "scatterternary"
           }
          ],
          "surface": [
           {
            "colorbar": {
             "outlinewidth": 0,
             "ticks": ""
            },
            "colorscale": [
             [
              0,
              "#0d0887"
             ],
             [
              0.1111111111111111,
              "#46039f"
             ],
             [
              0.2222222222222222,
              "#7201a8"
             ],
             [
              0.3333333333333333,
              "#9c179e"
             ],
             [
              0.4444444444444444,
              "#bd3786"
             ],
             [
              0.5555555555555556,
              "#d8576b"
             ],
             [
              0.6666666666666666,
              "#ed7953"
             ],
             [
              0.7777777777777778,
              "#fb9f3a"
             ],
             [
              0.8888888888888888,
              "#fdca26"
             ],
             [
              1,
              "#f0f921"
             ]
            ],
            "type": "surface"
           }
          ],
          "table": [
           {
            "cells": {
             "fill": {
              "color": "#EBF0F8"
             },
             "line": {
              "color": "white"
             }
            },
            "header": {
             "fill": {
              "color": "#C8D4E3"
             },
             "line": {
              "color": "white"
             }
            },
            "type": "table"
           }
          ]
         },
         "layout": {
          "annotationdefaults": {
           "arrowcolor": "#2a3f5f",
           "arrowhead": 0,
           "arrowwidth": 1
          },
          "autotypenumbers": "strict",
          "coloraxis": {
           "colorbar": {
            "outlinewidth": 0,
            "ticks": ""
           }
          },
          "colorscale": {
           "diverging": [
            [
             0,
             "#8e0152"
            ],
            [
             0.1,
             "#c51b7d"
            ],
            [
             0.2,
             "#de77ae"
            ],
            [
             0.3,
             "#f1b6da"
            ],
            [
             0.4,
             "#fde0ef"
            ],
            [
             0.5,
             "#f7f7f7"
            ],
            [
             0.6,
             "#e6f5d0"
            ],
            [
             0.7,
             "#b8e186"
            ],
            [
             0.8,
             "#7fbc41"
            ],
            [
             0.9,
             "#4d9221"
            ],
            [
             1,
             "#276419"
            ]
           ],
           "sequential": [
            [
             0,
             "#0d0887"
            ],
            [
             0.1111111111111111,
             "#46039f"
            ],
            [
             0.2222222222222222,
             "#7201a8"
            ],
            [
             0.3333333333333333,
             "#9c179e"
            ],
            [
             0.4444444444444444,
             "#bd3786"
            ],
            [
             0.5555555555555556,
             "#d8576b"
            ],
            [
             0.6666666666666666,
             "#ed7953"
            ],
            [
             0.7777777777777778,
             "#fb9f3a"
            ],
            [
             0.8888888888888888,
             "#fdca26"
            ],
            [
             1,
             "#f0f921"
            ]
           ],
           "sequentialminus": [
            [
             0,
             "#0d0887"
            ],
            [
             0.1111111111111111,
             "#46039f"
            ],
            [
             0.2222222222222222,
             "#7201a8"
            ],
            [
             0.3333333333333333,
             "#9c179e"
            ],
            [
             0.4444444444444444,
             "#bd3786"
            ],
            [
             0.5555555555555556,
             "#d8576b"
            ],
            [
             0.6666666666666666,
             "#ed7953"
            ],
            [
             0.7777777777777778,
             "#fb9f3a"
            ],
            [
             0.8888888888888888,
             "#fdca26"
            ],
            [
             1,
             "#f0f921"
            ]
           ]
          },
          "colorway": [
           "#636efa",
           "#EF553B",
           "#00cc96",
           "#ab63fa",
           "#FFA15A",
           "#19d3f3",
           "#FF6692",
           "#B6E880",
           "#FF97FF",
           "#FECB52"
          ],
          "font": {
           "color": "#2a3f5f"
          },
          "geo": {
           "bgcolor": "white",
           "lakecolor": "white",
           "landcolor": "#E5ECF6",
           "showlakes": true,
           "showland": true,
           "subunitcolor": "white"
          },
          "hoverlabel": {
           "align": "left"
          },
          "hovermode": "closest",
          "mapbox": {
           "style": "light"
          },
          "paper_bgcolor": "white",
          "plot_bgcolor": "#E5ECF6",
          "polar": {
           "angularaxis": {
            "gridcolor": "white",
            "linecolor": "white",
            "ticks": ""
           },
           "bgcolor": "#E5ECF6",
           "radialaxis": {
            "gridcolor": "white",
            "linecolor": "white",
            "ticks": ""
           }
          },
          "scene": {
           "xaxis": {
            "backgroundcolor": "#E5ECF6",
            "gridcolor": "white",
            "gridwidth": 2,
            "linecolor": "white",
            "showbackground": true,
            "ticks": "",
            "zerolinecolor": "white"
           },
           "yaxis": {
            "backgroundcolor": "#E5ECF6",
            "gridcolor": "white",
            "gridwidth": 2,
            "linecolor": "white",
            "showbackground": true,
            "ticks": "",
            "zerolinecolor": "white"
           },
           "zaxis": {
            "backgroundcolor": "#E5ECF6",
            "gridcolor": "white",
            "gridwidth": 2,
            "linecolor": "white",
            "showbackground": true,
            "ticks": "",
            "zerolinecolor": "white"
           }
          },
          "shapedefaults": {
           "line": {
            "color": "#2a3f5f"
           }
          },
          "ternary": {
           "aaxis": {
            "gridcolor": "white",
            "linecolor": "white",
            "ticks": ""
           },
           "baxis": {
            "gridcolor": "white",
            "linecolor": "white",
            "ticks": ""
           },
           "bgcolor": "#E5ECF6",
           "caxis": {
            "gridcolor": "white",
            "linecolor": "white",
            "ticks": ""
           }
          },
          "title": {
           "x": 0.05
          },
          "xaxis": {
           "automargin": true,
           "gridcolor": "white",
           "linecolor": "white",
           "ticks": "",
           "title": {
            "standoff": 15
           },
           "zerolinecolor": "white",
           "zerolinewidth": 2
          },
          "yaxis": {
           "automargin": true,
           "gridcolor": "white",
           "linecolor": "white",
           "ticks": "",
           "title": {
            "standoff": 15
           },
           "zerolinecolor": "white",
           "zerolinewidth": 2
          }
         }
        }
       }
      },
      "text/html": [
       "<div>                            <div id=\"f43e9f91-7d35-43ea-af9d-7b9133bb3150\" class=\"plotly-graph-div\" style=\"height:525px; width:100%;\"></div>            <script type=\"text/javascript\">                require([\"plotly\"], function(Plotly) {                    window.PLOTLYENV=window.PLOTLYENV || {};                                    if (document.getElementById(\"f43e9f91-7d35-43ea-af9d-7b9133bb3150\")) {                    Plotly.newPlot(                        \"f43e9f91-7d35-43ea-af9d-7b9133bb3150\",                        [{\"type\":\"funnel\",\"x\":[7419,4593,3734,3539],\"y\":[\"\\u041f\\u043e\\u044f\\u0432\\u043b\\u0435\\u043d\\u0438\\u0435 \\u0433\\u043b\\u0430\\u0432\\u043d\\u043e\\u0433\\u043e \\u044d\\u043a\\u0440\\u0430\\u043d\\u0430\",\"\\u0421\\u043a\\u0440\\u0438\\u043d \\u043e\\u0444\\u0444\\u0435\\u0440\\u0430\",\"\\u041f\\u043e\\u044f\\u0432\\u043b\\u0435\\u043d\\u0438\\u0435 \\u0441\\u043a\\u0440\\u0438\\u043d\\u0430 \\u043e\\u043f\\u043b\\u0430\\u0442\\u044b\",\"\\u0421\\u043a\\u0440\\u0438\\u043d \\u0443\\u0441\\u043f\\u0435\\u0448\\u043d\\u043e\\u0439 \\u043e\\u043f\\u043b\\u0430\\u0442\\u044b\"]}],                        {\"template\":{\"data\":{\"bar\":[{\"error_x\":{\"color\":\"#2a3f5f\"},\"error_y\":{\"color\":\"#2a3f5f\"},\"marker\":{\"line\":{\"color\":\"#E5ECF6\",\"width\":0.5},\"pattern\":{\"fillmode\":\"overlay\",\"size\":10,\"solidity\":0.2}},\"type\":\"bar\"}],\"barpolar\":[{\"marker\":{\"line\":{\"color\":\"#E5ECF6\",\"width\":0.5},\"pattern\":{\"fillmode\":\"overlay\",\"size\":10,\"solidity\":0.2}},\"type\":\"barpolar\"}],\"carpet\":[{\"aaxis\":{\"endlinecolor\":\"#2a3f5f\",\"gridcolor\":\"white\",\"linecolor\":\"white\",\"minorgridcolor\":\"white\",\"startlinecolor\":\"#2a3f5f\"},\"baxis\":{\"endlinecolor\":\"#2a3f5f\",\"gridcolor\":\"white\",\"linecolor\":\"white\",\"minorgridcolor\":\"white\",\"startlinecolor\":\"#2a3f5f\"},\"type\":\"carpet\"}],\"choropleth\":[{\"colorbar\":{\"outlinewidth\":0,\"ticks\":\"\"},\"type\":\"choropleth\"}],\"contour\":[{\"colorbar\":{\"outlinewidth\":0,\"ticks\":\"\"},\"colorscale\":[[0.0,\"#0d0887\"],[0.1111111111111111,\"#46039f\"],[0.2222222222222222,\"#7201a8\"],[0.3333333333333333,\"#9c179e\"],[0.4444444444444444,\"#bd3786\"],[0.5555555555555556,\"#d8576b\"],[0.6666666666666666,\"#ed7953\"],[0.7777777777777778,\"#fb9f3a\"],[0.8888888888888888,\"#fdca26\"],[1.0,\"#f0f921\"]],\"type\":\"contour\"}],\"contourcarpet\":[{\"colorbar\":{\"outlinewidth\":0,\"ticks\":\"\"},\"type\":\"contourcarpet\"}],\"heatmap\":[{\"colorbar\":{\"outlinewidth\":0,\"ticks\":\"\"},\"colorscale\":[[0.0,\"#0d0887\"],[0.1111111111111111,\"#46039f\"],[0.2222222222222222,\"#7201a8\"],[0.3333333333333333,\"#9c179e\"],[0.4444444444444444,\"#bd3786\"],[0.5555555555555556,\"#d8576b\"],[0.6666666666666666,\"#ed7953\"],[0.7777777777777778,\"#fb9f3a\"],[0.8888888888888888,\"#fdca26\"],[1.0,\"#f0f921\"]],\"type\":\"heatmap\"}],\"heatmapgl\":[{\"colorbar\":{\"outlinewidth\":0,\"ticks\":\"\"},\"colorscale\":[[0.0,\"#0d0887\"],[0.1111111111111111,\"#46039f\"],[0.2222222222222222,\"#7201a8\"],[0.3333333333333333,\"#9c179e\"],[0.4444444444444444,\"#bd3786\"],[0.5555555555555556,\"#d8576b\"],[0.6666666666666666,\"#ed7953\"],[0.7777777777777778,\"#fb9f3a\"],[0.8888888888888888,\"#fdca26\"],[1.0,\"#f0f921\"]],\"type\":\"heatmapgl\"}],\"histogram\":[{\"marker\":{\"pattern\":{\"fillmode\":\"overlay\",\"size\":10,\"solidity\":0.2}},\"type\":\"histogram\"}],\"histogram2d\":[{\"colorbar\":{\"outlinewidth\":0,\"ticks\":\"\"},\"colorscale\":[[0.0,\"#0d0887\"],[0.1111111111111111,\"#46039f\"],[0.2222222222222222,\"#7201a8\"],[0.3333333333333333,\"#9c179e\"],[0.4444444444444444,\"#bd3786\"],[0.5555555555555556,\"#d8576b\"],[0.6666666666666666,\"#ed7953\"],[0.7777777777777778,\"#fb9f3a\"],[0.8888888888888888,\"#fdca26\"],[1.0,\"#f0f921\"]],\"type\":\"histogram2d\"}],\"histogram2dcontour\":[{\"colorbar\":{\"outlinewidth\":0,\"ticks\":\"\"},\"colorscale\":[[0.0,\"#0d0887\"],[0.1111111111111111,\"#46039f\"],[0.2222222222222222,\"#7201a8\"],[0.3333333333333333,\"#9c179e\"],[0.4444444444444444,\"#bd3786\"],[0.5555555555555556,\"#d8576b\"],[0.6666666666666666,\"#ed7953\"],[0.7777777777777778,\"#fb9f3a\"],[0.8888888888888888,\"#fdca26\"],[1.0,\"#f0f921\"]],\"type\":\"histogram2dcontour\"}],\"mesh3d\":[{\"colorbar\":{\"outlinewidth\":0,\"ticks\":\"\"},\"type\":\"mesh3d\"}],\"parcoords\":[{\"line\":{\"colorbar\":{\"outlinewidth\":0,\"ticks\":\"\"}},\"type\":\"parcoords\"}],\"pie\":[{\"automargin\":true,\"type\":\"pie\"}],\"scatter\":[{\"marker\":{\"colorbar\":{\"outlinewidth\":0,\"ticks\":\"\"}},\"type\":\"scatter\"}],\"scatter3d\":[{\"line\":{\"colorbar\":{\"outlinewidth\":0,\"ticks\":\"\"}},\"marker\":{\"colorbar\":{\"outlinewidth\":0,\"ticks\":\"\"}},\"type\":\"scatter3d\"}],\"scattercarpet\":[{\"marker\":{\"colorbar\":{\"outlinewidth\":0,\"ticks\":\"\"}},\"type\":\"scattercarpet\"}],\"scattergeo\":[{\"marker\":{\"colorbar\":{\"outlinewidth\":0,\"ticks\":\"\"}},\"type\":\"scattergeo\"}],\"scattergl\":[{\"marker\":{\"colorbar\":{\"outlinewidth\":0,\"ticks\":\"\"}},\"type\":\"scattergl\"}],\"scattermapbox\":[{\"marker\":{\"colorbar\":{\"outlinewidth\":0,\"ticks\":\"\"}},\"type\":\"scattermapbox\"}],\"scatterpolar\":[{\"marker\":{\"colorbar\":{\"outlinewidth\":0,\"ticks\":\"\"}},\"type\":\"scatterpolar\"}],\"scatterpolargl\":[{\"marker\":{\"colorbar\":{\"outlinewidth\":0,\"ticks\":\"\"}},\"type\":\"scatterpolargl\"}],\"scatterternary\":[{\"marker\":{\"colorbar\":{\"outlinewidth\":0,\"ticks\":\"\"}},\"type\":\"scatterternary\"}],\"surface\":[{\"colorbar\":{\"outlinewidth\":0,\"ticks\":\"\"},\"colorscale\":[[0.0,\"#0d0887\"],[0.1111111111111111,\"#46039f\"],[0.2222222222222222,\"#7201a8\"],[0.3333333333333333,\"#9c179e\"],[0.4444444444444444,\"#bd3786\"],[0.5555555555555556,\"#d8576b\"],[0.6666666666666666,\"#ed7953\"],[0.7777777777777778,\"#fb9f3a\"],[0.8888888888888888,\"#fdca26\"],[1.0,\"#f0f921\"]],\"type\":\"surface\"}],\"table\":[{\"cells\":{\"fill\":{\"color\":\"#EBF0F8\"},\"line\":{\"color\":\"white\"}},\"header\":{\"fill\":{\"color\":\"#C8D4E3\"},\"line\":{\"color\":\"white\"}},\"type\":\"table\"}]},\"layout\":{\"annotationdefaults\":{\"arrowcolor\":\"#2a3f5f\",\"arrowhead\":0,\"arrowwidth\":1},\"autotypenumbers\":\"strict\",\"coloraxis\":{\"colorbar\":{\"outlinewidth\":0,\"ticks\":\"\"}},\"colorscale\":{\"diverging\":[[0,\"#8e0152\"],[0.1,\"#c51b7d\"],[0.2,\"#de77ae\"],[0.3,\"#f1b6da\"],[0.4,\"#fde0ef\"],[0.5,\"#f7f7f7\"],[0.6,\"#e6f5d0\"],[0.7,\"#b8e186\"],[0.8,\"#7fbc41\"],[0.9,\"#4d9221\"],[1,\"#276419\"]],\"sequential\":[[0.0,\"#0d0887\"],[0.1111111111111111,\"#46039f\"],[0.2222222222222222,\"#7201a8\"],[0.3333333333333333,\"#9c179e\"],[0.4444444444444444,\"#bd3786\"],[0.5555555555555556,\"#d8576b\"],[0.6666666666666666,\"#ed7953\"],[0.7777777777777778,\"#fb9f3a\"],[0.8888888888888888,\"#fdca26\"],[1.0,\"#f0f921\"]],\"sequentialminus\":[[0.0,\"#0d0887\"],[0.1111111111111111,\"#46039f\"],[0.2222222222222222,\"#7201a8\"],[0.3333333333333333,\"#9c179e\"],[0.4444444444444444,\"#bd3786\"],[0.5555555555555556,\"#d8576b\"],[0.6666666666666666,\"#ed7953\"],[0.7777777777777778,\"#fb9f3a\"],[0.8888888888888888,\"#fdca26\"],[1.0,\"#f0f921\"]]},\"colorway\":[\"#636efa\",\"#EF553B\",\"#00cc96\",\"#ab63fa\",\"#FFA15A\",\"#19d3f3\",\"#FF6692\",\"#B6E880\",\"#FF97FF\",\"#FECB52\"],\"font\":{\"color\":\"#2a3f5f\"},\"geo\":{\"bgcolor\":\"white\",\"lakecolor\":\"white\",\"landcolor\":\"#E5ECF6\",\"showlakes\":true,\"showland\":true,\"subunitcolor\":\"white\"},\"hoverlabel\":{\"align\":\"left\"},\"hovermode\":\"closest\",\"mapbox\":{\"style\":\"light\"},\"paper_bgcolor\":\"white\",\"plot_bgcolor\":\"#E5ECF6\",\"polar\":{\"angularaxis\":{\"gridcolor\":\"white\",\"linecolor\":\"white\",\"ticks\":\"\"},\"bgcolor\":\"#E5ECF6\",\"radialaxis\":{\"gridcolor\":\"white\",\"linecolor\":\"white\",\"ticks\":\"\"}},\"scene\":{\"xaxis\":{\"backgroundcolor\":\"#E5ECF6\",\"gridcolor\":\"white\",\"gridwidth\":2,\"linecolor\":\"white\",\"showbackground\":true,\"ticks\":\"\",\"zerolinecolor\":\"white\"},\"yaxis\":{\"backgroundcolor\":\"#E5ECF6\",\"gridcolor\":\"white\",\"gridwidth\":2,\"linecolor\":\"white\",\"showbackground\":true,\"ticks\":\"\",\"zerolinecolor\":\"white\"},\"zaxis\":{\"backgroundcolor\":\"#E5ECF6\",\"gridcolor\":\"white\",\"gridwidth\":2,\"linecolor\":\"white\",\"showbackground\":true,\"ticks\":\"\",\"zerolinecolor\":\"white\"}},\"shapedefaults\":{\"line\":{\"color\":\"#2a3f5f\"}},\"ternary\":{\"aaxis\":{\"gridcolor\":\"white\",\"linecolor\":\"white\",\"ticks\":\"\"},\"baxis\":{\"gridcolor\":\"white\",\"linecolor\":\"white\",\"ticks\":\"\"},\"bgcolor\":\"#E5ECF6\",\"caxis\":{\"gridcolor\":\"white\",\"linecolor\":\"white\",\"ticks\":\"\"}},\"title\":{\"x\":0.05},\"xaxis\":{\"automargin\":true,\"gridcolor\":\"white\",\"linecolor\":\"white\",\"ticks\":\"\",\"title\":{\"standoff\":15},\"zerolinecolor\":\"white\",\"zerolinewidth\":2},\"yaxis\":{\"automargin\":true,\"gridcolor\":\"white\",\"linecolor\":\"white\",\"ticks\":\"\",\"title\":{\"standoff\":15},\"zerolinecolor\":\"white\",\"zerolinewidth\":2}}}},                        {\"responsive\": true}                    ).then(function(){\n",
       "                            \n",
       "var gd = document.getElementById('f43e9f91-7d35-43ea-af9d-7b9133bb3150');\n",
       "var x = new MutationObserver(function (mutations, observer) {{\n",
       "        var display = window.getComputedStyle(gd).display;\n",
       "        if (!display || display === 'none') {{\n",
       "            console.log([gd, 'removed!']);\n",
       "            Plotly.purge(gd);\n",
       "            observer.disconnect();\n",
       "        }}\n",
       "}});\n",
       "\n",
       "// Listen for the removal of the full notebook cells\n",
       "var notebookContainer = gd.closest('#notebook-container');\n",
       "if (notebookContainer) {{\n",
       "    x.observe(notebookContainer, {childList: true});\n",
       "}}\n",
       "\n",
       "// Listen for the clearing of the current output cell\n",
       "var outputEl = gd.closest('.output');\n",
       "if (outputEl) {{\n",
       "    x.observe(outputEl, {childList: true});\n",
       "}}\n",
       "\n",
       "                        })                };                });            </script>        </div>"
      ]
     },
     "metadata": {},
     "output_type": "display_data"
    },
    {
     "data": {
      "text/plain": [
       "<Figure size 288x144 with 0 Axes>"
      ]
     },
     "metadata": {},
     "output_type": "display_data"
    }
   ],
   "source": [
    "plt.figure(figsize = (4,2))\n",
    "\n",
    "fig = go.Figure(\n",
    "    go.Funnel(\n",
    "        y=['Появление главного экрана','Скрин оффера','Появление скрина оплаты','Скрин успешной оплаты'],\n",
    "        x=funn['user_id']))\n",
    "\n",
    "fig.show() "
   ]
  },
  {
   "cell_type": "markdown",
   "metadata": {},
   "source": [
    "***Из графика видно (при наведении на соответствующий блок)***, что больше всего теряется на этапе перехода от главного экрана на скрин оффера (отваливаются более 60%), однако до оплаты доходят 28,9% от увидевших главный экран."
   ]
  },
  {
   "cell_type": "markdown",
   "metadata": {},
   "source": [
    "Перед проведением А/A тестирования убедимся, что число объектов исследования в контрольных группах 246 и 247 отличается не больше чем на 1 %"
   ]
  },
  {
   "cell_type": "code",
   "execution_count": 25,
   "metadata": {},
   "outputs": [
    {
     "data": {
      "text/plain": [
       "0.9884600079586152"
      ]
     },
     "execution_count": 25,
     "metadata": {},
     "output_type": "execute_result"
    }
   ],
   "source": [
    "df.groupby('experiment_group')['user_id'].nunique()[[246]].to_list()[0] / df.groupby('experiment_group')['user_id'].nunique()[[247]].to_list()[0] "
   ]
  },
  {
   "cell_type": "markdown",
   "metadata": {},
   "source": [
    "число объектов в данных отличается более чем на 1%. Для приведенные в соответствие удалим случайные строки из группы 247. Для этого необходимо удалить 5 пользователей, случайным образом"
   ]
  },
  {
   "cell_type": "code",
   "execution_count": 26,
   "metadata": {},
   "outputs": [
    {
     "name": "stdout",
     "output_type": "stream",
     "text": [
      "0.45800365566122925\n",
      "принимаем нулевую гипотезу, оснований считать выборки разными - нет\n"
     ]
    }
   ],
   "source": [
    "#проводим z тест на определение вероятности тождества двух выборок\n",
    "\n",
    "df_old_font_246 = df[df['experiment_group'] == 246].groupby('experiment_group')['user_id'].value_counts()\n",
    "df_old_font_247 = df[df['experiment_group'] == 247].groupby('experiment_group')['user_id'].value_counts()\n",
    "\n",
    "ztest ,pval1 = stests.ztest(df_old_font_246, df_old_font_247)\n",
    "print(float(pval1))\n",
    "\n",
    "if pval1<0.05:\n",
    "    print(\"отклоняем нулевую гипотезу, выборки не равны\")\n",
    "else:\n",
    "    print(\"принимаем нулевую гипотезу, оснований считать выборки разными - нет\")"
   ]
  },
  {
   "cell_type": "code",
   "execution_count": 27,
   "metadata": {},
   "outputs": [
    {
     "data": {
      "text/html": [
       "<div>\n",
       "<style scoped>\n",
       "    .dataframe tbody tr th:only-of-type {\n",
       "        vertical-align: middle;\n",
       "    }\n",
       "\n",
       "    .dataframe tbody tr th {\n",
       "        vertical-align: top;\n",
       "    }\n",
       "\n",
       "    .dataframe thead th {\n",
       "        text-align: right;\n",
       "    }\n",
       "</style>\n",
       "<table border=\"1\" class=\"dataframe\">\n",
       "  <thead>\n",
       "    <tr style=\"text-align: right;\">\n",
       "      <th></th>\n",
       "      <th>index</th>\n",
       "      <th>user_id</th>\n",
       "    </tr>\n",
       "  </thead>\n",
       "  <tbody>\n",
       "    <tr>\n",
       "      <th>0</th>\n",
       "      <td>4623191541214045580</td>\n",
       "      <td>1768</td>\n",
       "    </tr>\n",
       "    <tr>\n",
       "      <th>1</th>\n",
       "      <td>1754140665440434215</td>\n",
       "      <td>1221</td>\n",
       "    </tr>\n",
       "    <tr>\n",
       "      <th>2</th>\n",
       "      <td>1989685320445148348</td>\n",
       "      <td>728</td>\n",
       "    </tr>\n",
       "    <tr>\n",
       "      <th>3</th>\n",
       "      <td>2768580714092136945</td>\n",
       "      <td>523</td>\n",
       "    </tr>\n",
       "    <tr>\n",
       "      <th>4</th>\n",
       "      <td>4257848154605915902</td>\n",
       "      <td>378</td>\n",
       "    </tr>\n",
       "    <tr>\n",
       "      <th>...</th>\n",
       "      <td>...</td>\n",
       "      <td>...</td>\n",
       "    </tr>\n",
       "    <tr>\n",
       "      <th>2508</th>\n",
       "      <td>8306004969579731119</td>\n",
       "      <td>1</td>\n",
       "    </tr>\n",
       "    <tr>\n",
       "      <th>2509</th>\n",
       "      <td>5141711951908649896</td>\n",
       "      <td>1</td>\n",
       "    </tr>\n",
       "    <tr>\n",
       "      <th>2510</th>\n",
       "      <td>3392497839822650859</td>\n",
       "      <td>1</td>\n",
       "    </tr>\n",
       "    <tr>\n",
       "      <th>2511</th>\n",
       "      <td>8839027056358412603</td>\n",
       "      <td>1</td>\n",
       "    </tr>\n",
       "    <tr>\n",
       "      <th>2512</th>\n",
       "      <td>8174721104118843005</td>\n",
       "      <td>1</td>\n",
       "    </tr>\n",
       "  </tbody>\n",
       "</table>\n",
       "<p>2513 rows × 2 columns</p>\n",
       "</div>"
      ],
      "text/plain": [
       "                    index  user_id\n",
       "0     4623191541214045580     1768\n",
       "1     1754140665440434215     1221\n",
       "2     1989685320445148348      728\n",
       "3     2768580714092136945      523\n",
       "4     4257848154605915902      378\n",
       "...                   ...      ...\n",
       "2508  8306004969579731119        1\n",
       "2509  5141711951908649896        1\n",
       "2510  3392497839822650859        1\n",
       "2511  8839027056358412603        1\n",
       "2512  8174721104118843005        1\n",
       "\n",
       "[2513 rows x 2 columns]"
      ]
     },
     "execution_count": 27,
     "metadata": {},
     "output_type": "execute_result"
    }
   ],
   "source": [
    "random_delete_list = df[df['experiment_group'] == 247]['user_id'].value_counts().to_frame().reset_index()\n",
    "random_delete_list"
   ]
  },
  {
   "cell_type": "code",
   "execution_count": 28,
   "metadata": {},
   "outputs": [
    {
     "data": {
      "text/plain": [
       "2513"
      ]
     },
     "execution_count": 28,
     "metadata": {},
     "output_type": "execute_result"
    }
   ],
   "source": [
    "df[df['experiment_group'] == 247]['user_id'].value_counts().count()"
   ]
  },
  {
   "cell_type": "code",
   "execution_count": 29,
   "metadata": {},
   "outputs": [],
   "source": [
    "#вызовем рандомные числа в диапазоне по числу пользователей из группы 247\n",
    "\n",
    "indexes = []\n",
    "for i in range(5):\n",
    "    indexes.append(randint(0, df[df['experiment_group'] == 247]['user_id'].value_counts().count())) #генерим случайные порядковые числа\n",
    "    \n",
    "\n",
    "\n",
    "random_delete_list = random_delete_list[random_delete_list.index.isin(indexes)]['index'].to_list()"
   ]
  },
  {
   "cell_type": "code",
   "execution_count": 30,
   "metadata": {},
   "outputs": [
    {
     "data": {
      "text/plain": [
       "[5816289132615219593,\n",
       " 5651236485847140272,\n",
       " 4932168936604091905,\n",
       " 4264669332280703345,\n",
       " 1155270440642450625]"
      ]
     },
     "execution_count": 30,
     "metadata": {},
     "output_type": "execute_result"
    }
   ],
   "source": [
    "random_delete_list"
   ]
  },
  {
   "cell_type": "code",
   "execution_count": 31,
   "metadata": {},
   "outputs": [],
   "source": [
    "df = df[df['user_id'].isin(random_delete_list) == False] #удалим 5 х рандомных пользователей"
   ]
  },
  {
   "cell_type": "code",
   "execution_count": 32,
   "metadata": {},
   "outputs": [
    {
     "data": {
      "text/plain": [
       "0.9904306220095693"
      ]
     },
     "execution_count": 32,
     "metadata": {},
     "output_type": "execute_result"
    }
   ],
   "source": [
    "df.groupby('experiment_group')['user_id'].nunique()[[246]].to_list()[0] / df.groupby('experiment_group')['user_id'].nunique()[[247]].to_list()[0] "
   ]
  },
  {
   "cell_type": "markdown",
   "metadata": {},
   "source": [
    "Отличия в количестве юзеров не превышает 1%, данные готовы к А/А анализу."
   ]
  },
  {
   "cell_type": "markdown",
   "metadata": {},
   "source": [
    "рассмотрим срезы данных по группам в аспекте целевых действий воронки:"
   ]
  },
  {
   "cell_type": "code",
   "execution_count": 33,
   "metadata": {},
   "outputs": [
    {
     "data": {
      "image/png": "[encoded data removed]",
      "text/plain": [
       "<Figure size 1080x216 with 1 Axes>"
      ]
     },
     "metadata": {
      "needs_background": "light"
     },
     "output_type": "display_data"
    }
   ],
   "source": [
    "#появление главного экрана\n",
    "plt.figure(figsize = (15,3))\n",
    "plt.title('число появлений основного экрана по группам и пользователям')\n",
    "plt.xlabel(\"число юзеров\")    \n",
    "plt.ylabel(\"количество действий\")\n",
    "\n",
    "\n",
    "df[(df.experiment_group == 246) & (df.event_name == 'MainScreenAppear')]['user_id'].value_counts().hist(bins = 150, color = 'green', alpha = 0.4,label='246')\n",
    "df[(df.experiment_group == 247) & (df.event_name == 'MainScreenAppear')]['user_id'].value_counts().hist(bins = 150, color = 'orange', alpha = 0.4, label='247')\n",
    "df[(df.experiment_group == 248) & (df.event_name == 'MainScreenAppear')]['user_id'].value_counts().hist(bins = 150, color = 'black', alpha = 0.2, label='248')\n",
    "\n",
    "plt.legend()\n",
    "\n",
    "plt.show()"
   ]
  },
  {
   "cell_type": "code",
   "execution_count": 34,
   "metadata": {},
   "outputs": [
    {
     "data": {
      "image/png": "[encoded data removed]",
      "text/plain": [
       "<Figure size 1080x216 with 1 Axes>"
      ]
     },
     "metadata": {
      "needs_background": "light"
     },
     "output_type": "display_data"
    }
   ],
   "source": [
    "#появление скрина оффера\n",
    "plt.figure(figsize = (15,3))\n",
    "plt.title('число появлений экрана оффера по группам и пользователям')\n",
    "plt.xlabel(\"число юзеров\")    \n",
    "plt.ylabel(\"количество действий\")\n",
    "df[(df.experiment_group == 246) & (df.event_name == 'OffersScreenAppear')]['user_id'].value_counts().hist(bins = 150, color = 'green', alpha = 0.4, label='246')\n",
    "df[(df.experiment_group == 247) & (df.event_name == 'OffersScreenAppear')]['user_id'].value_counts().hist(bins = 150, color = 'orange', alpha = 0.4,label='247')\n",
    "df[(df.experiment_group == 248) & (df.event_name == 'OffersScreenAppear')]['user_id'].value_counts().hist(bins = 150, color = 'black', alpha = 0.2,label='248')\n",
    "plt.legend()\n",
    "plt.show()"
   ]
  },
  {
   "cell_type": "code",
   "execution_count": 35,
   "metadata": {},
   "outputs": [
    {
     "data": {
      "image/png": "[encoded data removed]",
      "text/plain": [
       "<Figure size 1080x216 with 1 Axes>"
      ]
     },
     "metadata": {
      "needs_background": "light"
     },
     "output_type": "display_data"
    }
   ],
   "source": [
    "#скрин: \"платёж успешен\"\n",
    "plt.figure(figsize = (15,3))\n",
    "plt.title('число появлений экрана успешного платежа по группам и пользователям')\n",
    "plt.xlabel(\"число юзеров\")    \n",
    "plt.ylabel(\"количество действий\")\n",
    "df[(df.experiment_group == 246) & (df.event_name == 'PaymentScreenSuccessful')]['user_id'].value_counts().hist(bins = 150, color = 'green', alpha = 0.4,label='246')\n",
    "df[(df.experiment_group == 247) & (df.event_name == 'PaymentScreenSuccessful')]['user_id'].value_counts().hist(bins = 150, color = 'orange', alpha = 0.4,label='247')\n",
    "df[(df.experiment_group == 248) & (df.event_name == 'PaymentScreenSuccessful')]['user_id'].value_counts().hist(bins = 150, color = 'black', alpha = 0.2,label='248')\n",
    "plt.legend()\n",
    "plt.show()"
   ]
  },
  {
   "cell_type": "code",
   "execution_count": 36,
   "metadata": {},
   "outputs": [
    {
     "data": {
      "image/png": "[encoded data removed]",
      "text/plain": [
       "<Figure size 1080x216 with 1 Axes>"
      ]
     },
     "metadata": {
      "needs_background": "light"
     },
     "output_type": "display_data"
    }
   ],
   "source": [
    "#скрин с указанием карточки платежа\n",
    "plt.figure(figsize = (15,3))\n",
    "plt.title('число появлений экрана карточки платежа по группам и пользователям')\n",
    "plt.xlabel(\"число юзеров\")    \n",
    "plt.ylabel(\"количество действий\")\n",
    "df[(df.experiment_group == 246) & (df.event_name == 'CartScreenAppear')]['user_id'].value_counts().hist(bins = 150, color = 'green', alpha = 0.4,label='246')\n",
    "df[(df.experiment_group == 247) & (df.event_name == 'CartScreenAppear')]['user_id'].value_counts().hist(bins = 150, color = 'orange', alpha = 0.4,label='247')\n",
    "df[(df.experiment_group == 248) & (df.event_name == 'CartScreenAppear')]['user_id'].value_counts().hist(bins = 150, color = 'black', alpha = 0.2,label='248')\n",
    "plt.legend()\n",
    "plt.show()"
   ]
  },
  {
   "cell_type": "markdown",
   "metadata": {},
   "source": [
    "Визуально, данные в различных группах имеют очень близкий характер распределения. Для определения разницы в группах воспользуемся статистическими критериями."
   ]
  },
  {
   "cell_type": "markdown",
   "metadata": {},
   "source": [
    "### Вывод"
   ]
  },
  {
   "cell_type": "markdown",
   "metadata": {},
   "source": [
    "Фрейм очищен от лишних данных по времени фактического начала эксперимента 1 августа. Строки с данными готовы тестам на критерии и проверке гипотез."
   ]
  },
  {
   "cell_type": "markdown",
   "metadata": {},
   "source": [
    "## Тесты, выдвижение и проверка гипотез"
   ]
  },
  {
   "cell_type": "markdown",
   "metadata": {},
   "source": [
    "Определим: находят ли статистические критерии разницу между выборками 246 и 247."
   ]
  },
  {
   "cell_type": "markdown",
   "metadata": {},
   "source": [
    "Хоть визуально, данные распределений по целевым действиям и группам откровенно ненормальные, убедимся в этом с помощью статистических критериев. Для этого протестируем данные в группах на нормальлность с помощью критерия Шапиро-Уилка. Упакуем проверку на нормальность в функцию для дальнейшего стремительно мгновенного применения."
   ]
  },
  {
   "cell_type": "code",
   "execution_count": 37,
   "metadata": {},
   "outputs": [],
   "source": [
    "def shapiro_fork(array,alph_stat): #передаём функции 2 параметра - массив и уровень значимости критерия\n",
    "\n",
    "    alpha = alph_stat  # критический уровень статистической значимости\n",
    "\n",
    "    results = st.shapiro(array)\n",
    "    p_value = results[1]  \n",
    "\n",
    "    print('p-значение: ', p_value)\n",
    "\n",
    "    if p_value < alpha:\n",
    "        print('Отвергаем нулевую гипотезу: распределение не нормально')\n",
    "    else:\n",
    "        print('Не получилось отвергнуть нулевую гипотезу, всё нормально') "
   ]
  },
  {
   "cell_type": "markdown",
   "metadata": {},
   "source": [
    "H0 - распределение нормально, H1 - распределение не нормально. Критерий возьмём равным 5%."
   ]
  },
  {
   "cell_type": "code",
   "execution_count": 38,
   "metadata": {},
   "outputs": [
    {
     "name": "stdout",
     "output_type": "stream",
     "text": [
      "проверяем на нормальность распределение по появлению главного экрана:\n",
      "p-значение:  0.0\n",
      "Отвергаем нулевую гипотезу: распределение не нормально\n",
      "_____________________________________________________________________________\n",
      "проверяем на нормальность распределение по появлению экрана оффера:\n",
      "p-значение:  0.0\n",
      "Отвергаем нулевую гипотезу: распределение не нормально\n",
      "_____________________________________________________________________________\n",
      "проверяем на нормальность распределение по появлению экрана с платёжной картой:\n",
      "p-значение:  0.0\n",
      "Отвергаем нулевую гипотезу: распределение не нормально\n",
      "_____________________________________________________________________________\n",
      "проверяем на нормальность распределение по появлению экрана успешного платежа:\n",
      "p-значение:  0.0\n",
      "Отвергаем нулевую гипотезу: распределение не нормально\n"
     ]
    }
   ],
   "source": [
    "print('проверяем на нормальность распределение по появлению главного экрана:')\n",
    "shapiro_fork(df[df.event_name == 'MainScreenAppear']['user_id'].value_counts(),0.05)\n",
    "print('_____________________________________________________________________________')\n",
    "print('проверяем на нормальность распределение по появлению экрана оффера:')\n",
    "shapiro_fork(df[df.event_name == 'OffersScreenAppear']['user_id'].value_counts(),0.05)\n",
    "print('_____________________________________________________________________________')\n",
    "print('проверяем на нормальность распределение по появлению экрана с платёжной картой:')\n",
    "shapiro_fork(df[df.event_name == 'CartScreenAppear']['user_id'].value_counts(),0.05)\n",
    "print('_____________________________________________________________________________')\n",
    "print('проверяем на нормальность распределение по появлению экрана успешного платежа:')\n",
    "shapiro_fork(df[df.event_name == 'PaymentScreenSuccessful']['user_id'].value_counts(),0.05)"
   ]
  },
  {
   "cell_type": "markdown",
   "metadata": {},
   "source": [
    "Данные распределения числа действий каждого пользователя ненормальны, распределение имеет вид близкого к Пуассоновскому. Для исследования статистических различий (сходства) воспользуемся непараметрическим тестом Манна-Уитни - односторонний по характеру распределения."
   ]
  },
  {
   "cell_type": "markdown",
   "metadata": {},
   "source": [
    "аналогично упакуем тест в функцию c 3мя параметрами: проверяемые массивы (2 штуки) и уровень стат значимости"
   ]
  },
  {
   "cell_type": "code",
   "execution_count": 39,
   "metadata": {},
   "outputs": [],
   "source": [
    "def man_witney_will_cock(array1,array2,alpha_stat):\n",
    "    alpha = alpha_stat\n",
    "    results = st.mannwhitneyu(array1, array2)\n",
    "    print('p-значение: ', results.pvalue)\n",
    "    if results.pvalue < alpha:\n",
    "        print('Отвергаем нулевую гипотезу: разница статистически значима')\n",
    "    else:\n",
    "        print('Не получилось отвергнуть нулевую гипотезу, вывод о различии сделать нельзя') "
   ]
  },
  {
   "cell_type": "code",
   "execution_count": 40,
   "metadata": {},
   "outputs": [],
   "source": [
    "bonferroni_alpha = 0.05 / 4"
   ]
  },
  {
   "cell_type": "markdown",
   "metadata": {},
   "source": [
    "Проверим (по очереди) данные по группам 246 и 247 для определения корректности данных в группах. H0 - массивы не имеют статистически значимых различий. H1 -  статистически важные различия присутствуют. Уровень альфа - 5% (в следующих проверках аналогично)."
   ]
  },
  {
   "cell_type": "code",
   "execution_count": 41,
   "metadata": {},
   "outputs": [
    {
     "name": "stdout",
     "output_type": "stream",
     "text": [
      "проверяем на статиистически значимые отличия распределения по группам 246, 247 в срезе появления главного экрана:\n",
      "p-значение:  0.3152185241813237\n",
      "Не получилось отвергнуть нулевую гипотезу, вывод о различии сделать нельзя\n",
      "_____________________________________________________________________________________________________________\n",
      "проверяем на статиистически значимые отличия распределения по группам 246, 247 в срезе появления экрана оффера:\n",
      "p-значение:  0.4203669449608323\n",
      "Не получилось отвергнуть нулевую гипотезу, вывод о различии сделать нельзя\n",
      "_____________________________________________________________________________________________________________\n",
      "проверяем на статиистически значимые отличия распределения по группам 246, 247 в срезе появления экрана карточки:\n",
      "p-значение:  0.22492761815009388\n",
      "Не получилось отвергнуть нулевую гипотезу, вывод о различии сделать нельзя\n",
      "_____________________________________________________________________________________________________________\n",
      "проверяем на статиистически значимые отличия распределения по группам 246, 247 в срезе появления экрана платежа:\n",
      "p-значение:  0.20032677512794372\n",
      "Не получилось отвергнуть нулевую гипотезу, вывод о различии сделать нельзя\n"
     ]
    }
   ],
   "source": [
    "print('проверяем на статиистически значимые отличия распределения по группам 246, 247 в срезе появления главного экрана:')\n",
    "man_witney_will_cock(df[(df.experiment_group == 246) & (df.event_name == 'MainScreenAppear')]['user_id'].value_counts(),\n",
    "                    df[(df.experiment_group == 247) & (df.event_name == 'MainScreenAppear')]['user_id'].value_counts(),\n",
    "                    bonferroni_alpha)\n",
    "print('_____________________________________________________________________________________________________________')\n",
    "print('проверяем на статиистически значимые отличия распределения по группам 246, 247 в срезе появления экрана оффера:')\n",
    "man_witney_will_cock(df[(df.experiment_group == 246) & (df.event_name == 'OffersScreenAppear')]['user_id'].value_counts(),\n",
    "                    df[(df.experiment_group == 247) & (df.event_name == 'OffersScreenAppear')]['user_id'].value_counts(),\n",
    "                    bonferroni_alpha)\n",
    "print('_____________________________________________________________________________________________________________')\n",
    "print('проверяем на статиистически значимые отличия распределения по группам 246, 247 в срезе появления экрана карточки:')\n",
    "man_witney_will_cock(df[(df.experiment_group == 246) & (df.event_name == 'CartScreenAppear')]['user_id'].value_counts(),\n",
    "                    df[(df.experiment_group == 247) & (df.event_name == 'CartScreenAppear')]['user_id'].value_counts(),\n",
    "                    bonferroni_alpha)\n",
    "print('_____________________________________________________________________________________________________________')\n",
    "print('проверяем на статиистически значимые отличия распределения по группам 246, 247 в срезе появления экрана платежа:')\n",
    "man_witney_will_cock(df[(df.experiment_group == 246) & (df.event_name == 'PaymentScreenSuccessful')]['user_id'].value_counts(),\n",
    "                    df[(df.experiment_group == 247) & (df.event_name == 'PaymentScreenSuccessful')]['user_id'].value_counts(),\n",
    "                    bonferroni_alpha)\n",
    "\n"
   ]
  },
  {
   "cell_type": "markdown",
   "metadata": {},
   "source": [
    "***Промежуточный вывод: Данные по группам 246, 247 и по отдельным срезам не имеют статистически значимых различий. A - группа подобрана корректно.***"
   ]
  },
  {
   "cell_type": "markdown",
   "metadata": {},
   "source": [
    "Теперь проверим данные по группам A/B, 246 и 248. H0 - массивы не имеют статистически значимых различий. H1 -  статистически важные различия присутствуют."
   ]
  },
  {
   "cell_type": "code",
   "execution_count": 42,
   "metadata": {},
   "outputs": [
    {
     "name": "stdout",
     "output_type": "stream",
     "text": [
      "проверяем на статиистически значимые отличия распределения по группам 246, 248 в срезе появления главного экрана:\n",
      "p-значение:  0.04772774912436444\n",
      "Не получилось отвергнуть нулевую гипотезу, вывод о различии сделать нельзя\n",
      "_____________________________________________________________________________________________________________\n",
      "проверяем на статиистически значимые отличия распределения по группам 246, 248 в срезе появления экрана оффера:\n",
      "p-значение:  0.36127590073525373\n",
      "Не получилось отвергнуть нулевую гипотезу, вывод о различии сделать нельзя\n",
      "_____________________________________________________________________________________________________________\n",
      "проверяем на статиистически значимые отличия распределения по группам 246, 248 в срезе появления экрана карточки:\n",
      "p-значение:  0.04744500848786426\n",
      "Не получилось отвергнуть нулевую гипотезу, вывод о различии сделать нельзя\n",
      "_____________________________________________________________________________________________________________\n",
      "проверяем на статиистически значимые отличия распределения по группам 246, 248 в срезе появления экрана платежа:\n",
      "p-значение:  0.283124519463138\n",
      "Не получилось отвергнуть нулевую гипотезу, вывод о различии сделать нельзя\n"
     ]
    }
   ],
   "source": [
    "print('проверяем на статиистически значимые отличия распределения по группам 246, 248 в срезе появления главного экрана:')\n",
    "man_witney_will_cock(df[(df.experiment_group == 246) & (df.event_name == 'MainScreenAppear')]['user_id'].value_counts(),\n",
    "                    df[(df.experiment_group == 248) & (df.event_name == 'MainScreenAppear')]['user_id'].value_counts(),\n",
    "                    bonferroni_alpha)\n",
    "print('_____________________________________________________________________________________________________________')\n",
    "print('проверяем на статиистически значимые отличия распределения по группам 246, 248 в срезе появления экрана оффера:')\n",
    "man_witney_will_cock(df[(df.experiment_group == 246) & (df.event_name == 'OffersScreenAppear')]['user_id'].value_counts(),\n",
    "                    df[(df.experiment_group == 248) & (df.event_name == 'OffersScreenAppear')]['user_id'].value_counts(),\n",
    "                    bonferroni_alpha)\n",
    "print('_____________________________________________________________________________________________________________')\n",
    "print('проверяем на статиистически значимые отличия распределения по группам 246, 248 в срезе появления экрана карточки:')\n",
    "man_witney_will_cock(df[(df.experiment_group == 246) & (df.event_name == 'CartScreenAppear')]['user_id'].value_counts(),\n",
    "                    df[(df.experiment_group == 248) & (df.event_name == 'CartScreenAppear')]['user_id'].value_counts(),\n",
    "                    bonferroni_alpha)\n",
    "print('_____________________________________________________________________________________________________________')\n",
    "print('проверяем на статиистически значимые отличия распределения по группам 246, 248 в срезе появления экрана платежа:')\n",
    "man_witney_will_cock(df[(df.experiment_group == 246) & (df.event_name == 'PaymentScreenSuccessful')]['user_id'].value_counts(),\n",
    "                    df[(df.experiment_group == 248) & (df.event_name == 'PaymentScreenSuccessful')]['user_id'].value_counts(),\n",
    "                    bonferroni_alpha)"
   ]
  },
  {
   "cell_type": "markdown",
   "metadata": {},
   "source": [
    "***Промежуточный вывод: Данные по группам 246, 248  по срезам \"появление экрана оффера\", \"появление экрана платежа\" не имеют статистически значимых различий. ***"
   ]
  },
  {
   "cell_type": "markdown",
   "metadata": {},
   "source": [
    "Теперь исследуем срезы по группам 247 и 248 на тот же предмет. H0 - массивы не имеют статистически значимых различий. H1 -  статистически важные различия присутствуют."
   ]
  },
  {
   "cell_type": "code",
   "execution_count": 43,
   "metadata": {},
   "outputs": [
    {
     "name": "stdout",
     "output_type": "stream",
     "text": [
      "проверяем на статиистически значимые отличия распределения по группам 247, 248 в срезе появления главного экрана:\n",
      "p-значение:  0.12272818692719328\n",
      "Не получилось отвергнуть нулевую гипотезу, вывод о различии сделать нельзя\n",
      "_____________________________________________________________________________________________________________\n",
      "проверяем на статиистически значимые отличия распределения по группам 247, 248 в срезе появления экрана оффера:\n",
      "p-значение:  0.44403120484144143\n",
      "Не получилось отвергнуть нулевую гипотезу, вывод о различии сделать нельзя\n",
      "_____________________________________________________________________________________________________________\n",
      "проверяем на статиистически значимые отличия распределения по группам 247, 248 в срезе появления экрана карточки:\n",
      "p-значение:  0.006561357941209559\n",
      "Отвергаем нулевую гипотезу: разница статистически значима\n",
      "_____________________________________________________________________________________________________________\n",
      "проверяем на статиистически значимые отличия распределения по группам 247, 248 в срезе появления экрана платежа:\n",
      "p-значение:  0.07480852321799702\n",
      "Не получилось отвергнуть нулевую гипотезу, вывод о различии сделать нельзя\n"
     ]
    }
   ],
   "source": [
    "print('проверяем на статиистически значимые отличия распределения по группам 247, 248 в срезе появления главного экрана:')\n",
    "man_witney_will_cock(df[(df.experiment_group == 247) & (df.event_name == 'MainScreenAppear')]['user_id'].value_counts(),\n",
    "                    df[(df.experiment_group == 248) & (df.event_name == 'MainScreenAppear')]['user_id'].value_counts(),\n",
    "                    bonferroni_alpha)\n",
    "print('_____________________________________________________________________________________________________________')\n",
    "print('проверяем на статиистически значимые отличия распределения по группам 247, 248 в срезе появления экрана оффера:')\n",
    "man_witney_will_cock(df[(df.experiment_group == 247) & (df.event_name == 'OffersScreenAppear')]['user_id'].value_counts(),\n",
    "                    df[(df.experiment_group == 248) & (df.event_name == 'OffersScreenAppear')]['user_id'].value_counts(),\n",
    "                    bonferroni_alpha)\n",
    "print('_____________________________________________________________________________________________________________')\n",
    "print('проверяем на статиистически значимые отличия распределения по группам 247, 248 в срезе появления экрана карточки:')\n",
    "man_witney_will_cock(df[(df.experiment_group == 247) & (df.event_name == 'CartScreenAppear')]['user_id'].value_counts(),\n",
    "                    df[(df.experiment_group == 248) & (df.event_name == 'CartScreenAppear')]['user_id'].value_counts(),\n",
    "                    bonferroni_alpha)\n",
    "print('_____________________________________________________________________________________________________________')\n",
    "print('проверяем на статиистически значимые отличия распределения по группам 247, 248 в срезе появления экрана платежа:')\n",
    "man_witney_will_cock(df[(df.experiment_group == 247) & (df.event_name == 'PaymentScreenSuccessful')]['user_id'].value_counts(),\n",
    "                    df[(df.experiment_group == 248) & (df.event_name == 'PaymentScreenSuccessful')]['user_id'].value_counts(),\n",
    "                    bonferroni_alpha)"
   ]
  },
  {
   "cell_type": "markdown",
   "metadata": {},
   "source": [
    "Промежуточный вывод: Данные по группам 247, 248 по срезу \"появление экрана платежа\" не имеют статистически значимых различий."
   ]
  },
  {
   "cell_type": "markdown",
   "metadata": {},
   "source": [
    "***Тесты Манна_Уитни показали сходство двух тестовых групп в части появления статистически значимых различий в появлении экрана с картой оплаты.***"
   ]
  },
  {
   "cell_type": "markdown",
   "metadata": {},
   "source": [
    "Создадим поле font_new, где объединим контрольные группы в единый массив. Булево значение True - будет означать принадлежность к группе с новым шрифтом. False - напротив: к группам 246,247 - со старыми шрифтами"
   ]
  },
  {
   "cell_type": "code",
   "execution_count": 44,
   "metadata": {},
   "outputs": [],
   "source": [
    "groups_numbers = [246,247]\n",
    "df['font_new'] = df['experiment_group'].isin(groups_numbers) != True"
   ]
  },
  {
   "cell_type": "code",
   "execution_count": 45,
   "metadata": {},
   "outputs": [
    {
     "data": {
      "text/html": [
       "<div>\n",
       "<style scoped>\n",
       "    .dataframe tbody tr th:only-of-type {\n",
       "        vertical-align: middle;\n",
       "    }\n",
       "\n",
       "    .dataframe tbody tr th {\n",
       "        vertical-align: top;\n",
       "    }\n",
       "\n",
       "    .dataframe thead th {\n",
       "        text-align: right;\n",
       "    }\n",
       "</style>\n",
       "<table border=\"1\" class=\"dataframe\">\n",
       "  <thead>\n",
       "    <tr style=\"text-align: right;\">\n",
       "      <th></th>\n",
       "      <th>event_name</th>\n",
       "      <th>user_id</th>\n",
       "      <th>event_time</th>\n",
       "      <th>experiment_group</th>\n",
       "      <th>event_time_dt</th>\n",
       "      <th>event_date</th>\n",
       "      <th>font_new</th>\n",
       "    </tr>\n",
       "  </thead>\n",
       "  <tbody>\n",
       "    <tr>\n",
       "      <th>2844</th>\n",
       "      <td>MainScreenAppear</td>\n",
       "      <td>4613461174774205834</td>\n",
       "      <td>1564618471</td>\n",
       "      <td>248</td>\n",
       "      <td>2019-08-01 00:14:31</td>\n",
       "      <td>2019-08-01</td>\n",
       "      <td>True</td>\n",
       "    </tr>\n",
       "    <tr>\n",
       "      <th>2845</th>\n",
       "      <td>MainScreenAppear</td>\n",
       "      <td>4613461174774205834</td>\n",
       "      <td>1564618474</td>\n",
       "      <td>248</td>\n",
       "      <td>2019-08-01 00:14:34</td>\n",
       "      <td>2019-08-01</td>\n",
       "      <td>True</td>\n",
       "    </tr>\n",
       "    <tr>\n",
       "      <th>2846</th>\n",
       "      <td>CartScreenAppear</td>\n",
       "      <td>4613461174774205834</td>\n",
       "      <td>1564618474</td>\n",
       "      <td>248</td>\n",
       "      <td>2019-08-01 00:14:34</td>\n",
       "      <td>2019-08-01</td>\n",
       "      <td>True</td>\n",
       "    </tr>\n",
       "    <tr>\n",
       "      <th>2847</th>\n",
       "      <td>PaymentScreenSuccessful</td>\n",
       "      <td>4613461174774205834</td>\n",
       "      <td>1564618483</td>\n",
       "      <td>248</td>\n",
       "      <td>2019-08-01 00:14:43</td>\n",
       "      <td>2019-08-01</td>\n",
       "      <td>True</td>\n",
       "    </tr>\n",
       "    <tr>\n",
       "      <th>2848</th>\n",
       "      <td>OffersScreenAppear</td>\n",
       "      <td>4613461174774205834</td>\n",
       "      <td>1564618491</td>\n",
       "      <td>248</td>\n",
       "      <td>2019-08-01 00:14:51</td>\n",
       "      <td>2019-08-01</td>\n",
       "      <td>True</td>\n",
       "    </tr>\n",
       "    <tr>\n",
       "      <th>...</th>\n",
       "      <td>...</td>\n",
       "      <td>...</td>\n",
       "      <td>...</td>\n",
       "      <td>...</td>\n",
       "      <td>...</td>\n",
       "      <td>...</td>\n",
       "      <td>...</td>\n",
       "    </tr>\n",
       "    <tr>\n",
       "      <th>244082</th>\n",
       "      <td>MainScreenAppear</td>\n",
       "      <td>8249271441488197538</td>\n",
       "      <td>1565211813</td>\n",
       "      <td>248</td>\n",
       "      <td>2019-08-07 21:03:33</td>\n",
       "      <td>2019-08-07</td>\n",
       "      <td>True</td>\n",
       "    </tr>\n",
       "    <tr>\n",
       "      <th>244084</th>\n",
       "      <td>OffersScreenAppear</td>\n",
       "      <td>8249271441488197538</td>\n",
       "      <td>1565211823</td>\n",
       "      <td>248</td>\n",
       "      <td>2019-08-07 21:03:43</td>\n",
       "      <td>2019-08-07</td>\n",
       "      <td>True</td>\n",
       "    </tr>\n",
       "    <tr>\n",
       "      <th>244109</th>\n",
       "      <td>MainScreenAppear</td>\n",
       "      <td>5317814261427487562</td>\n",
       "      <td>1565212162</td>\n",
       "      <td>248</td>\n",
       "      <td>2019-08-07 21:09:22</td>\n",
       "      <td>2019-08-07</td>\n",
       "      <td>True</td>\n",
       "    </tr>\n",
       "    <tr>\n",
       "      <th>244110</th>\n",
       "      <td>OffersScreenAppear</td>\n",
       "      <td>5317814261427487562</td>\n",
       "      <td>1565212167</td>\n",
       "      <td>248</td>\n",
       "      <td>2019-08-07 21:09:27</td>\n",
       "      <td>2019-08-07</td>\n",
       "      <td>True</td>\n",
       "    </tr>\n",
       "    <tr>\n",
       "      <th>244115</th>\n",
       "      <td>OffersScreenAppear</td>\n",
       "      <td>5317814261427487562</td>\n",
       "      <td>1565212208</td>\n",
       "      <td>248</td>\n",
       "      <td>2019-08-07 21:10:08</td>\n",
       "      <td>2019-08-07</td>\n",
       "      <td>True</td>\n",
       "    </tr>\n",
       "  </tbody>\n",
       "</table>\n",
       "<p>84563 rows × 7 columns</p>\n",
       "</div>"
      ],
      "text/plain": [
       "                     event_name              user_id  event_time  \\\n",
       "2844           MainScreenAppear  4613461174774205834  1564618471   \n",
       "2845           MainScreenAppear  4613461174774205834  1564618474   \n",
       "2846           CartScreenAppear  4613461174774205834  1564618474   \n",
       "2847    PaymentScreenSuccessful  4613461174774205834  1564618483   \n",
       "2848         OffersScreenAppear  4613461174774205834  1564618491   \n",
       "...                         ...                  ...         ...   \n",
       "244082         MainScreenAppear  8249271441488197538  1565211813   \n",
       "244084       OffersScreenAppear  8249271441488197538  1565211823   \n",
       "244109         MainScreenAppear  5317814261427487562  1565212162   \n",
       "244110       OffersScreenAppear  5317814261427487562  1565212167   \n",
       "244115       OffersScreenAppear  5317814261427487562  1565212208   \n",
       "\n",
       "        experiment_group       event_time_dt  event_date  font_new  \n",
       "2844                 248 2019-08-01 00:14:31  2019-08-01      True  \n",
       "2845                 248 2019-08-01 00:14:34  2019-08-01      True  \n",
       "2846                 248 2019-08-01 00:14:34  2019-08-01      True  \n",
       "2847                 248 2019-08-01 00:14:43  2019-08-01      True  \n",
       "2848                 248 2019-08-01 00:14:51  2019-08-01      True  \n",
       "...                  ...                 ...         ...       ...  \n",
       "244082               248 2019-08-07 21:03:33  2019-08-07      True  \n",
       "244084               248 2019-08-07 21:03:43  2019-08-07      True  \n",
       "244109               248 2019-08-07 21:09:22  2019-08-07      True  \n",
       "244110               248 2019-08-07 21:09:27  2019-08-07      True  \n",
       "244115               248 2019-08-07 21:10:08  2019-08-07      True  \n",
       "\n",
       "[84563 rows x 7 columns]"
      ]
     },
     "execution_count": 45,
     "metadata": {},
     "output_type": "execute_result"
    }
   ],
   "source": [
    "df.query('experiment_group == 248') #проверяем данные"
   ]
  },
  {
   "cell_type": "code",
   "execution_count": 46,
   "metadata": {},
   "outputs": [
    {
     "name": "stdout",
     "output_type": "stream",
     "text": [
      "проверяем на статиистически значимые отличия распределения по группам с изменениями шрифта и без в срезе появления главного экрана:\n",
      "p-значение:  0.05111875716621501\n",
      "Не получилось отвергнуть нулевую гипотезу, вывод о различии сделать нельзя\n",
      "_____________________________________________________________________________________________________________\n",
      "проверяем на статиистически значимые отличия распределения по группам с изменениями шрифта и без в срезе появления экрана оффера:\n",
      "p-значение:  0.38706756774279616\n",
      "Не получилось отвергнуть нулевую гипотезу, вывод о различии сделать нельзя\n",
      "_____________________________________________________________________________________________________________\n",
      "проверяем на статиистически значимые отличия распределения по группам с изменениями шрифта и без в срезе появления экрана карточки:\n",
      "p-значение:  0.008442386613539781\n",
      "Отвергаем нулевую гипотезу: разница статистически значима\n",
      "_____________________________________________________________________________________________________________\n",
      "проверяем на статиистически значимые отличия распределения по группам с изменениями шрифта и без в срезе появления экрана платежа:\n",
      "p-значение:  0.12373438961314182\n",
      "Не получилось отвергнуть нулевую гипотезу, вывод о различии сделать нельзя\n"
     ]
    }
   ],
   "source": [
    "print('проверяем на статиистически значимые отличия распределения по группам с изменениями шрифта и без в срезе появления главного экрана:')\n",
    "man_witney_will_cock(df[(df.font_new == False) & (df.event_name == 'MainScreenAppear')]['user_id'].value_counts(),\n",
    "                    df[(df.font_new == True) & (df.event_name == 'MainScreenAppear')]['user_id'].value_counts(),\n",
    "                    bonferroni_alpha)\n",
    "print('_____________________________________________________________________________________________________________')\n",
    "print('проверяем на статиистически значимые отличия распределения по группам с изменениями шрифта и без в срезе появления экрана оффера:')\n",
    "man_witney_will_cock(df[(df.font_new == False) & (df.event_name == 'OffersScreenAppear')]['user_id'].value_counts(),\n",
    "                    df[(df.font_new == True) & (df.event_name == 'OffersScreenAppear')]['user_id'].value_counts(),\n",
    "                    bonferroni_alpha)\n",
    "print('_____________________________________________________________________________________________________________')\n",
    "print('проверяем на статиистически значимые отличия распределения по группам с изменениями шрифта и без в срезе появления экрана карточки:')\n",
    "man_witney_will_cock(df[(df.font_new == False) & (df.event_name == 'CartScreenAppear')]['user_id'].value_counts(),\n",
    "                    df[(df.font_new == True) & (df.event_name == 'CartScreenAppear')]['user_id'].value_counts(),\n",
    "                    bonferroni_alpha)\n",
    "print('_____________________________________________________________________________________________________________')\n",
    "print('проверяем на статиистически значимые отличия распределения по группам с изменениями шрифта и без в срезе появления экрана платежа:')\n",
    "man_witney_will_cock(df[(df.font_new == False) & (df.event_name == 'PaymentScreenSuccessful')]['user_id'].value_counts(),\n",
    "                    df[(df.font_new == True) & (df.event_name == 'PaymentScreenSuccessful')]['user_id'].value_counts(),\n",
    "                    bonferroni_alpha)"
   ]
  },
  {
   "cell_type": "markdown",
   "metadata": {},
   "source": [
    "В целом альфа значение критерия в 5% даёт читаемые результаты при полученных p-значениях. Изменение альфы, например, до 13% внесёт больше грязи, хотя сделает статистически важной разницу в срезе по появлению экрана успешного платежа."
   ]
  },
  {
   "cell_type": "markdown",
   "metadata": {},
   "source": [
    "***Промежуточные выводы:*** Видны различия в срезе по действию появления первоначального (главного) экрана и появления экрана карты (на оплату)"
   ]
  },
  {
   "cell_type": "markdown",
   "metadata": {},
   "source": [
    "### Вывод"
   ]
  },
  {
   "cell_type": "code",
   "execution_count": 47,
   "metadata": {},
   "outputs": [
    {
     "name": "stdout",
     "output_type": "stream",
     "text": [
      "доля пользователей группы, увидевших первый экран со старым шрифтом группа 246: 0.9863123993558777\n",
      "доля пользователей группы, увидевших первый экран со старым шрифтом группа 247: 0.9852472089314195\n",
      "доля пользователей группы, увидевших первый экран  с  новым шрифтом группа 248: 0.9826566811194324\n"
     ]
    }
   ],
   "source": [
    "print('доля пользователей группы, увидевших первый экран со старым шрифтом группа 246:',(df[(df.experiment_group == 246) & (df.event_name == 'MainScreenAppear')]['user_id'].value_counts().size \n",
    "                                                    / df[df.experiment_group == 246]['user_id'].value_counts().size))\n",
    "\n",
    "print('доля пользователей группы, увидевших первый экран со старым шрифтом группа 247:',(df[(df.experiment_group == 247) & (df.event_name == 'MainScreenAppear')]['user_id'].value_counts().size \n",
    "                                                    / df[df.experiment_group == 247]['user_id'].value_counts().size))                   \n",
    "\n",
    "print('доля пользователей группы, увидевших первый экран  с  новым шрифтом группа 248:',(df[(df.experiment_group == 248) & (df.event_name == 'MainScreenAppear')]['user_id'].value_counts().size \n",
    "                                                    / df[df.experiment_group == 248]['user_id'].value_counts().size))                     \n",
    "                     "
   ]
  },
  {
   "cell_type": "markdown",
   "metadata": {},
   "source": [
    "Исходя из анализа данных доли пользователей, первоначально увидевших заглавный экран, доля из экспериментальной группы с новым шрифтом на 0,3 процентных пункта ниже, нежели из групп со старыми шрифтами. И эта разница статистически значима. Однако рассмотрим воронки: с новыми и старыми шрифтами:"
   ]
  },
  {
   "cell_type": "code",
   "execution_count": 48,
   "metadata": {},
   "outputs": [
    {
     "data": {
      "application/vnd.plotly.v1+json": {
       "config": {
        "plotlyServerURL": "https://plot.ly"
       },
       "data": [
        {
         "type": "funnel",
         "x": [
          4921,
          3061,
          2503,
          2357
         ],
         "y": [
          "Появление главного экрана",
          "Скрин оффера",
          "Появление скрина оплаты",
          "Скрин успешной оплаты"
         ]
        }
       ],
       "layout": {
        "template": {
         "data": {
          "bar": [
           {
            "error_x": {
             "color": "#2a3f5f"
            },
            "error_y": {
             "color": "#2a3f5f"
            },
            "marker": {
             "line": {
              "color": "#E5ECF6",
              "width": 0.5
             },
             "pattern": {
              "fillmode": "overlay",
              "size": 10,
              "solidity": 0.2
             }
            },
            "type": "bar"
           }
          ],
          "barpolar": [
           {
            "marker": {
             "line": {
              "color": "#E5ECF6",
              "width": 0.5
             },
             "pattern": {
              "fillmode": "overlay",
              "size": 10,
              "solidity": 0.2
             }
            },
            "type": "barpolar"
           }
          ],
          "carpet": [
           {
            "aaxis": {
             "endlinecolor": "#2a3f5f",
             "gridcolor": "white",
             "linecolor": "white",
             "minorgridcolor": "white",
             "startlinecolor": "#2a3f5f"
            },
            "baxis": {
             "endlinecolor": "#2a3f5f",
             "gridcolor": "white",
             "linecolor": "white",
             "minorgridcolor": "white",
             "startlinecolor": "#2a3f5f"
            },
            "type": "carpet"
           }
          ],
          "choropleth": [
           {
            "colorbar": {
             "outlinewidth": 0,
             "ticks": ""
            },
            "type": "choropleth"
           }
          ],
          "contour": [
           {
            "colorbar": {
             "outlinewidth": 0,
             "ticks": ""
            },
            "colorscale": [
             [
              0,
              "#0d0887"
             ],
             [
              0.1111111111111111,
              "#46039f"
             ],
             [
              0.2222222222222222,
              "#7201a8"
             ],
             [
              0.3333333333333333,
              "#9c179e"
             ],
             [
              0.4444444444444444,
              "#bd3786"
             ],
             [
              0.5555555555555556,
              "#d8576b"
             ],
             [
              0.6666666666666666,
              "#ed7953"
             ],
             [
              0.7777777777777778,
              "#fb9f3a"
             ],
             [
              0.8888888888888888,
              "#fdca26"
             ],
             [
              1,
              "#f0f921"
             ]
            ],
            "type": "contour"
           }
          ],
          "contourcarpet": [
           {
            "colorbar": {
             "outlinewidth": 0,
             "ticks": ""
            },
            "type": "contourcarpet"
           }
          ],
          "heatmap": [
           {
            "colorbar": {
             "outlinewidth": 0,
             "ticks": ""
            },
            "colorscale": [
             [
              0,
              "#0d0887"
             ],
             [
              0.1111111111111111,
              "#46039f"
             ],
             [
              0.2222222222222222,
              "#7201a8"
             ],
             [
              0.3333333333333333,
              "#9c179e"
             ],
             [
              0.4444444444444444,
              "#bd3786"
             ],
             [
              0.5555555555555556,
              "#d8576b"
             ],
             [
              0.6666666666666666,
              "#ed7953"
             ],
             [
              0.7777777777777778,
              "#fb9f3a"
             ],
             [
              0.8888888888888888,
              "#fdca26"
             ],
             [
              1,
              "#f0f921"
             ]
            ],
            "type": "heatmap"
           }
          ],
          "heatmapgl": [
           {
            "colorbar": {
             "outlinewidth": 0,
             "ticks": ""
            },
            "colorscale": [
             [
              0,
              "#0d0887"
             ],
             [
              0.1111111111111111,
              "#46039f"
             ],
             [
              0.2222222222222222,
              "#7201a8"
             ],
             [
              0.3333333333333333,
              "#9c179e"
             ],
             [
              0.4444444444444444,
              "#bd3786"
             ],
             [
              0.5555555555555556,
              "#d8576b"
             ],
             [
              0.6666666666666666,
              "#ed7953"
             ],
             [
              0.7777777777777778,
              "#fb9f3a"
             ],
             [
              0.8888888888888888,
              "#fdca26"
             ],
             [
              1,
              "#f0f921"
             ]
            ],
            "type": "heatmapgl"
           }
          ],
          "histogram": [
           {
            "marker": {
             "pattern": {
              "fillmode": "overlay",
              "size": 10,
              "solidity": 0.2
             }
            },
            "type": "histogram"
           }
          ],
          "histogram2d": [
           {
            "colorbar": {
             "outlinewidth": 0,
             "ticks": ""
            },
            "colorscale": [
             [
              0,
              "#0d0887"
             ],
             [
              0.1111111111111111,
              "#46039f"
             ],
             [
              0.2222222222222222,
              "#7201a8"
             ],
             [
              0.3333333333333333,
              "#9c179e"
             ],
             [
              0.4444444444444444,
              "#bd3786"
             ],
             [
              0.5555555555555556,
              "#d8576b"
             ],
             [
              0.6666666666666666,
              "#ed7953"
             ],
             [
              0.7777777777777778,
              "#fb9f3a"
             ],
             [
              0.8888888888888888,
              "#fdca26"
             ],
             [
              1,
              "#f0f921"
             ]
            ],
            "type": "histogram2d"
           }
          ],
          "histogram2dcontour": [
           {
            "colorbar": {
             "outlinewidth": 0,
             "ticks": ""
            },
            "colorscale": [
             [
              0,
              "#0d0887"
             ],
             [
              0.1111111111111111,
              "#46039f"
             ],
             [
              0.2222222222222222,
              "#7201a8"
             ],
             [
              0.3333333333333333,
              "#9c179e"
             ],
             [
              0.4444444444444444,
              "#bd3786"
             ],
             [
              0.5555555555555556,
              "#d8576b"
             ],
             [
              0.6666666666666666,
              "#ed7953"
             ],
             [
              0.7777777777777778,
              "#fb9f3a"
             ],
             [
              0.8888888888888888,
              "#fdca26"
             ],
             [
              1,
              "#f0f921"
             ]
            ],
            "type": "histogram2dcontour"
           }
          ],
          "mesh3d": [
           {
            "colorbar": {
             "outlinewidth": 0,
             "ticks": ""
            },
            "type": "mesh3d"
           }
          ],
          "parcoords": [
           {
            "line": {
             "colorbar": {
              "outlinewidth": 0,
              "ticks": ""
             }
            },
            "type": "parcoords"
           }
          ],
          "pie": [
           {
            "automargin": true,
            "type": "pie"
           }
          ],
          "scatter": [
           {
            "marker": {
             "colorbar": {
              "outlinewidth": 0,
              "ticks": ""
             }
            },
            "type": "scatter"
           }
          ],
          "scatter3d": [
           {
            "line": {
             "colorbar": {
              "outlinewidth": 0,
              "ticks": ""
             }
            },
            "marker": {
             "colorbar": {
              "outlinewidth": 0,
              "ticks": ""
             }
            },
            "type": "scatter3d"
           }
          ],
          "scattercarpet": [
           {
            "marker": {
             "colorbar": {
              "outlinewidth": 0,
              "ticks": ""
             }
            },
            "type": "scattercarpet"
           }
          ],
          "scattergeo": [
           {
            "marker": {
             "colorbar": {
              "outlinewidth": 0,
              "ticks": ""
             }
            },
            "type": "scattergeo"
           }
          ],
          "scattergl": [
           {
            "marker": {
             "colorbar": {
              "outlinewidth": 0,
              "ticks": ""
             }
            },
            "type": "scattergl"
           }
          ],
          "scattermapbox": [
           {
            "marker": {
             "colorbar": {
              "outlinewidth": 0,
              "ticks": ""
             }
            },
            "type": "scattermapbox"
           }
          ],
          "scatterpolar": [
           {
            "marker": {
             "colorbar": {
              "outlinewidth": 0,
              "ticks": ""
             }
            },
            "type": "scatterpolar"
           }
          ],
          "scatterpolargl": [
           {
            "marker": {
             "colorbar": {
              "outlinewidth": 0,
              "ticks": ""
             }
            },
            "type": "scatterpolargl"
           }
          ],
          "scatterternary": [
           {
            "marker": {
             "colorbar": {
              "outlinewidth": 0,
              "ticks": ""
             }
            },
            "type": "scatterternary"
           }
          ],
          "surface": [
           {
            "colorbar": {
             "outlinewidth": 0,
             "ticks": ""
            },
            "colorscale": [
             [
              0,
              "#0d0887"
             ],
             [
              0.1111111111111111,
              "#46039f"
             ],
             [
              0.2222222222222222,
              "#7201a8"
             ],
             [
              0.3333333333333333,
              "#9c179e"
             ],
             [
              0.4444444444444444,
              "#bd3786"
             ],
             [
              0.5555555555555556,
              "#d8576b"
             ],
             [
              0.6666666666666666,
              "#ed7953"
             ],
             [
              0.7777777777777778,
              "#fb9f3a"
             ],
             [
              0.8888888888888888,
              "#fdca26"
             ],
             [
              1,
              "#f0f921"
             ]
            ],
            "type": "surface"
           }
          ],
          "table": [
           {
            "cells": {
             "fill": {
              "color": "#EBF0F8"
             },
             "line": {
              "color": "white"
             }
            },
            "header": {
             "fill": {
              "color": "#C8D4E3"
             },
             "line": {
              "color": "white"
             }
            },
            "type": "table"
           }
          ]
         },
         "layout": {
          "annotationdefaults": {
           "arrowcolor": "#2a3f5f",
           "arrowhead": 0,
           "arrowwidth": 1
          },
          "autotypenumbers": "strict",
          "coloraxis": {
           "colorbar": {
            "outlinewidth": 0,
            "ticks": ""
           }
          },
          "colorscale": {
           "diverging": [
            [
             0,
             "#8e0152"
            ],
            [
             0.1,
             "#c51b7d"
            ],
            [
             0.2,
             "#de77ae"
            ],
            [
             0.3,
             "#f1b6da"
            ],
            [
             0.4,
             "#fde0ef"
            ],
            [
             0.5,
             "#f7f7f7"
            ],
            [
             0.6,
             "#e6f5d0"
            ],
            [
             0.7,
             "#b8e186"
            ],
            [
             0.8,
             "#7fbc41"
            ],
            [
             0.9,
             "#4d9221"
            ],
            [
             1,
             "#276419"
            ]
           ],
           "sequential": [
            [
             0,
             "#0d0887"
            ],
            [
             0.1111111111111111,
             "#46039f"
            ],
            [
             0.2222222222222222,
             "#7201a8"
            ],
            [
             0.3333333333333333,
             "#9c179e"
            ],
            [
             0.4444444444444444,
             "#bd3786"
            ],
            [
             0.5555555555555556,
             "#d8576b"
            ],
            [
             0.6666666666666666,
             "#ed7953"
            ],
            [
             0.7777777777777778,
             "#fb9f3a"
            ],
            [
             0.8888888888888888,
             "#fdca26"
            ],
            [
             1,
             "#f0f921"
            ]
           ],
           "sequentialminus": [
            [
             0,
             "#0d0887"
            ],
            [
             0.1111111111111111,
             "#46039f"
            ],
            [
             0.2222222222222222,
             "#7201a8"
            ],
            [
             0.3333333333333333,
             "#9c179e"
            ],
            [
             0.4444444444444444,
             "#bd3786"
            ],
            [
             0.5555555555555556,
             "#d8576b"
            ],
            [
             0.6666666666666666,
             "#ed7953"
            ],
            [
             0.7777777777777778,
             "#fb9f3a"
            ],
            [
             0.8888888888888888,
             "#fdca26"
            ],
            [
             1,
             "#f0f921"
            ]
           ]
          },
          "colorway": [
           "#636efa",
           "#EF553B",
           "#00cc96",
           "#ab63fa",
           "#FFA15A",
           "#19d3f3",
           "#FF6692",
           "#B6E880",
           "#FF97FF",
           "#FECB52"
          ],
          "font": {
           "color": "#2a3f5f"
          },
          "geo": {
           "bgcolor": "white",
           "lakecolor": "white",
           "landcolor": "#E5ECF6",
           "showlakes": true,
           "showland": true,
           "subunitcolor": "white"
          },
          "hoverlabel": {
           "align": "left"
          },
          "hovermode": "closest",
          "mapbox": {
           "style": "light"
          },
          "paper_bgcolor": "white",
          "plot_bgcolor": "#E5ECF6",
          "polar": {
           "angularaxis": {
            "gridcolor": "white",
            "linecolor": "white",
            "ticks": ""
           },
           "bgcolor": "#E5ECF6",
           "radialaxis": {
            "gridcolor": "white",
            "linecolor": "white",
            "ticks": ""
           }
          },
          "scene": {
           "xaxis": {
            "backgroundcolor": "#E5ECF6",
            "gridcolor": "white",
            "gridwidth": 2,
            "linecolor": "white",
            "showbackground": true,
            "ticks": "",
            "zerolinecolor": "white"
           },
           "yaxis": {
            "backgroundcolor": "#E5ECF6",
            "gridcolor": "white",
            "gridwidth": 2,
            "linecolor": "white",
            "showbackground": true,
            "ticks": "",
            "zerolinecolor": "white"
           },
           "zaxis": {
            "backgroundcolor": "#E5ECF6",
            "gridcolor": "white",
            "gridwidth": 2,
            "linecolor": "white",
            "showbackground": true,
            "ticks": "",
            "zerolinecolor": "white"
           }
          },
          "shapedefaults": {
           "line": {
            "color": "#2a3f5f"
           }
          },
          "ternary": {
           "aaxis": {
            "gridcolor": "white",
            "linecolor": "white",
            "ticks": ""
           },
           "baxis": {
            "gridcolor": "white",
            "linecolor": "white",
            "ticks": ""
           },
           "bgcolor": "#E5ECF6",
           "caxis": {
            "gridcolor": "white",
            "linecolor": "white",
            "ticks": ""
           }
          },
          "title": {
           "x": 0.05
          },
          "xaxis": {
           "automargin": true,
           "gridcolor": "white",
           "linecolor": "white",
           "ticks": "",
           "title": {
            "standoff": 15
           },
           "zerolinecolor": "white",
           "zerolinewidth": 2
          },
          "yaxis": {
           "automargin": true,
           "gridcolor": "white",
           "linecolor": "white",
           "ticks": "",
           "title": {
            "standoff": 15
           },
           "zerolinecolor": "white",
           "zerolinewidth": 2
          }
         }
        }
       }
      },
      "text/html": [
       "<div>                            <div id=\"eacd9600-0159-4f7d-9c9f-4f6fbb4460ce\" class=\"plotly-graph-div\" style=\"height:525px; width:100%;\"></div>            <script type=\"text/javascript\">                require([\"plotly\"], function(Plotly) {                    window.PLOTLYENV=window.PLOTLYENV || {};                                    if (document.getElementById(\"eacd9600-0159-4f7d-9c9f-4f6fbb4460ce\")) {                    Plotly.newPlot(                        \"eacd9600-0159-4f7d-9c9f-4f6fbb4460ce\",                        [{\"type\":\"funnel\",\"x\":[4921,3061,2503,2357],\"y\":[\"\\u041f\\u043e\\u044f\\u0432\\u043b\\u0435\\u043d\\u0438\\u0435 \\u0433\\u043b\\u0430\\u0432\\u043d\\u043e\\u0433\\u043e \\u044d\\u043a\\u0440\\u0430\\u043d\\u0430\",\"\\u0421\\u043a\\u0440\\u0438\\u043d \\u043e\\u0444\\u0444\\u0435\\u0440\\u0430\",\"\\u041f\\u043e\\u044f\\u0432\\u043b\\u0435\\u043d\\u0438\\u0435 \\u0441\\u043a\\u0440\\u0438\\u043d\\u0430 \\u043e\\u043f\\u043b\\u0430\\u0442\\u044b\",\"\\u0421\\u043a\\u0440\\u0438\\u043d \\u0443\\u0441\\u043f\\u0435\\u0448\\u043d\\u043e\\u0439 \\u043e\\u043f\\u043b\\u0430\\u0442\\u044b\"]}],                        {\"template\":{\"data\":{\"bar\":[{\"error_x\":{\"color\":\"#2a3f5f\"},\"error_y\":{\"color\":\"#2a3f5f\"},\"marker\":{\"line\":{\"color\":\"#E5ECF6\",\"width\":0.5},\"pattern\":{\"fillmode\":\"overlay\",\"size\":10,\"solidity\":0.2}},\"type\":\"bar\"}],\"barpolar\":[{\"marker\":{\"line\":{\"color\":\"#E5ECF6\",\"width\":0.5},\"pattern\":{\"fillmode\":\"overlay\",\"size\":10,\"solidity\":0.2}},\"type\":\"barpolar\"}],\"carpet\":[{\"aaxis\":{\"endlinecolor\":\"#2a3f5f\",\"gridcolor\":\"white\",\"linecolor\":\"white\",\"minorgridcolor\":\"white\",\"startlinecolor\":\"#2a3f5f\"},\"baxis\":{\"endlinecolor\":\"#2a3f5f\",\"gridcolor\":\"white\",\"linecolor\":\"white\",\"minorgridcolor\":\"white\",\"startlinecolor\":\"#2a3f5f\"},\"type\":\"carpet\"}],\"choropleth\":[{\"colorbar\":{\"outlinewidth\":0,\"ticks\":\"\"},\"type\":\"choropleth\"}],\"contour\":[{\"colorbar\":{\"outlinewidth\":0,\"ticks\":\"\"},\"colorscale\":[[0.0,\"#0d0887\"],[0.1111111111111111,\"#46039f\"],[0.2222222222222222,\"#7201a8\"],[0.3333333333333333,\"#9c179e\"],[0.4444444444444444,\"#bd3786\"],[0.5555555555555556,\"#d8576b\"],[0.6666666666666666,\"#ed7953\"],[0.7777777777777778,\"#fb9f3a\"],[0.8888888888888888,\"#fdca26\"],[1.0,\"#f0f921\"]],\"type\":\"contour\"}],\"contourcarpet\":[{\"colorbar\":{\"outlinewidth\":0,\"ticks\":\"\"},\"type\":\"contourcarpet\"}],\"heatmap\":[{\"colorbar\":{\"outlinewidth\":0,\"ticks\":\"\"},\"colorscale\":[[0.0,\"#0d0887\"],[0.1111111111111111,\"#46039f\"],[0.2222222222222222,\"#7201a8\"],[0.3333333333333333,\"#9c179e\"],[0.4444444444444444,\"#bd3786\"],[0.5555555555555556,\"#d8576b\"],[0.6666666666666666,\"#ed7953\"],[0.7777777777777778,\"#fb9f3a\"],[0.8888888888888888,\"#fdca26\"],[1.0,\"#f0f921\"]],\"type\":\"heatmap\"}],\"heatmapgl\":[{\"colorbar\":{\"outlinewidth\":0,\"ticks\":\"\"},\"colorscale\":[[0.0,\"#0d0887\"],[0.1111111111111111,\"#46039f\"],[0.2222222222222222,\"#7201a8\"],[0.3333333333333333,\"#9c179e\"],[0.4444444444444444,\"#bd3786\"],[0.5555555555555556,\"#d8576b\"],[0.6666666666666666,\"#ed7953\"],[0.7777777777777778,\"#fb9f3a\"],[0.8888888888888888,\"#fdca26\"],[1.0,\"#f0f921\"]],\"type\":\"heatmapgl\"}],\"histogram\":[{\"marker\":{\"pattern\":{\"fillmode\":\"overlay\",\"size\":10,\"solidity\":0.2}},\"type\":\"histogram\"}],\"histogram2d\":[{\"colorbar\":{\"outlinewidth\":0,\"ticks\":\"\"},\"colorscale\":[[0.0,\"#0d0887\"],[0.1111111111111111,\"#46039f\"],[0.2222222222222222,\"#7201a8\"],[0.3333333333333333,\"#9c179e\"],[0.4444444444444444,\"#bd3786\"],[0.5555555555555556,\"#d8576b\"],[0.6666666666666666,\"#ed7953\"],[0.7777777777777778,\"#fb9f3a\"],[0.8888888888888888,\"#fdca26\"],[1.0,\"#f0f921\"]],\"type\":\"histogram2d\"}],\"histogram2dcontour\":[{\"colorbar\":{\"outlinewidth\":0,\"ticks\":\"\"},\"colorscale\":[[0.0,\"#0d0887\"],[0.1111111111111111,\"#46039f\"],[0.2222222222222222,\"#7201a8\"],[0.3333333333333333,\"#9c179e\"],[0.4444444444444444,\"#bd3786\"],[0.5555555555555556,\"#d8576b\"],[0.6666666666666666,\"#ed7953\"],[0.7777777777777778,\"#fb9f3a\"],[0.8888888888888888,\"#fdca26\"],[1.0,\"#f0f921\"]],\"type\":\"histogram2dcontour\"}],\"mesh3d\":[{\"colorbar\":{\"outlinewidth\":0,\"ticks\":\"\"},\"type\":\"mesh3d\"}],\"parcoords\":[{\"line\":{\"colorbar\":{\"outlinewidth\":0,\"ticks\":\"\"}},\"type\":\"parcoords\"}],\"pie\":[{\"automargin\":true,\"type\":\"pie\"}],\"scatter\":[{\"marker\":{\"colorbar\":{\"outlinewidth\":0,\"ticks\":\"\"}},\"type\":\"scatter\"}],\"scatter3d\":[{\"line\":{\"colorbar\":{\"outlinewidth\":0,\"ticks\":\"\"}},\"marker\":{\"colorbar\":{\"outlinewidth\":0,\"ticks\":\"\"}},\"type\":\"scatter3d\"}],\"scattercarpet\":[{\"marker\":{\"colorbar\":{\"outlinewidth\":0,\"ticks\":\"\"}},\"type\":\"scattercarpet\"}],\"scattergeo\":[{\"marker\":{\"colorbar\":{\"outlinewidth\":0,\"ticks\":\"\"}},\"type\":\"scattergeo\"}],\"scattergl\":[{\"marker\":{\"colorbar\":{\"outlinewidth\":0,\"ticks\":\"\"}},\"type\":\"scattergl\"}],\"scattermapbox\":[{\"marker\":{\"colorbar\":{\"outlinewidth\":0,\"ticks\":\"\"}},\"type\":\"scattermapbox\"}],\"scatterpolar\":[{\"marker\":{\"colorbar\":{\"outlinewidth\":0,\"ticks\":\"\"}},\"type\":\"scatterpolar\"}],\"scatterpolargl\":[{\"marker\":{\"colorbar\":{\"outlinewidth\":0,\"ticks\":\"\"}},\"type\":\"scatterpolargl\"}],\"scatterternary\":[{\"marker\":{\"colorbar\":{\"outlinewidth\":0,\"ticks\":\"\"}},\"type\":\"scatterternary\"}],\"surface\":[{\"colorbar\":{\"outlinewidth\":0,\"ticks\":\"\"},\"colorscale\":[[0.0,\"#0d0887\"],[0.1111111111111111,\"#46039f\"],[0.2222222222222222,\"#7201a8\"],[0.3333333333333333,\"#9c179e\"],[0.4444444444444444,\"#bd3786\"],[0.5555555555555556,\"#d8576b\"],[0.6666666666666666,\"#ed7953\"],[0.7777777777777778,\"#fb9f3a\"],[0.8888888888888888,\"#fdca26\"],[1.0,\"#f0f921\"]],\"type\":\"surface\"}],\"table\":[{\"cells\":{\"fill\":{\"color\":\"#EBF0F8\"},\"line\":{\"color\":\"white\"}},\"header\":{\"fill\":{\"color\":\"#C8D4E3\"},\"line\":{\"color\":\"white\"}},\"type\":\"table\"}]},\"layout\":{\"annotationdefaults\":{\"arrowcolor\":\"#2a3f5f\",\"arrowhead\":0,\"arrowwidth\":1},\"autotypenumbers\":\"strict\",\"coloraxis\":{\"colorbar\":{\"outlinewidth\":0,\"ticks\":\"\"}},\"colorscale\":{\"diverging\":[[0,\"#8e0152\"],[0.1,\"#c51b7d\"],[0.2,\"#de77ae\"],[0.3,\"#f1b6da\"],[0.4,\"#fde0ef\"],[0.5,\"#f7f7f7\"],[0.6,\"#e6f5d0\"],[0.7,\"#b8e186\"],[0.8,\"#7fbc41\"],[0.9,\"#4d9221\"],[1,\"#276419\"]],\"sequential\":[[0.0,\"#0d0887\"],[0.1111111111111111,\"#46039f\"],[0.2222222222222222,\"#7201a8\"],[0.3333333333333333,\"#9c179e\"],[0.4444444444444444,\"#bd3786\"],[0.5555555555555556,\"#d8576b\"],[0.6666666666666666,\"#ed7953\"],[0.7777777777777778,\"#fb9f3a\"],[0.8888888888888888,\"#fdca26\"],[1.0,\"#f0f921\"]],\"sequentialminus\":[[0.0,\"#0d0887\"],[0.1111111111111111,\"#46039f\"],[0.2222222222222222,\"#7201a8\"],[0.3333333333333333,\"#9c179e\"],[0.4444444444444444,\"#bd3786\"],[0.5555555555555556,\"#d8576b\"],[0.6666666666666666,\"#ed7953\"],[0.7777777777777778,\"#fb9f3a\"],[0.8888888888888888,\"#fdca26\"],[1.0,\"#f0f921\"]]},\"colorway\":[\"#636efa\",\"#EF553B\",\"#00cc96\",\"#ab63fa\",\"#FFA15A\",\"#19d3f3\",\"#FF6692\",\"#B6E880\",\"#FF97FF\",\"#FECB52\"],\"font\":{\"color\":\"#2a3f5f\"},\"geo\":{\"bgcolor\":\"white\",\"lakecolor\":\"white\",\"landcolor\":\"#E5ECF6\",\"showlakes\":true,\"showland\":true,\"subunitcolor\":\"white\"},\"hoverlabel\":{\"align\":\"left\"},\"hovermode\":\"closest\",\"mapbox\":{\"style\":\"light\"},\"paper_bgcolor\":\"white\",\"plot_bgcolor\":\"#E5ECF6\",\"polar\":{\"angularaxis\":{\"gridcolor\":\"white\",\"linecolor\":\"white\",\"ticks\":\"\"},\"bgcolor\":\"#E5ECF6\",\"radialaxis\":{\"gridcolor\":\"white\",\"linecolor\":\"white\",\"ticks\":\"\"}},\"scene\":{\"xaxis\":{\"backgroundcolor\":\"#E5ECF6\",\"gridcolor\":\"white\",\"gridwidth\":2,\"linecolor\":\"white\",\"showbackground\":true,\"ticks\":\"\",\"zerolinecolor\":\"white\"},\"yaxis\":{\"backgroundcolor\":\"#E5ECF6\",\"gridcolor\":\"white\",\"gridwidth\":2,\"linecolor\":\"white\",\"showbackground\":true,\"ticks\":\"\",\"zerolinecolor\":\"white\"},\"zaxis\":{\"backgroundcolor\":\"#E5ECF6\",\"gridcolor\":\"white\",\"gridwidth\":2,\"linecolor\":\"white\",\"showbackground\":true,\"ticks\":\"\",\"zerolinecolor\":\"white\"}},\"shapedefaults\":{\"line\":{\"color\":\"#2a3f5f\"}},\"ternary\":{\"aaxis\":{\"gridcolor\":\"white\",\"linecolor\":\"white\",\"ticks\":\"\"},\"baxis\":{\"gridcolor\":\"white\",\"linecolor\":\"white\",\"ticks\":\"\"},\"bgcolor\":\"#E5ECF6\",\"caxis\":{\"gridcolor\":\"white\",\"linecolor\":\"white\",\"ticks\":\"\"}},\"title\":{\"x\":0.05},\"xaxis\":{\"automargin\":true,\"gridcolor\":\"white\",\"linecolor\":\"white\",\"ticks\":\"\",\"title\":{\"standoff\":15},\"zerolinecolor\":\"white\",\"zerolinewidth\":2},\"yaxis\":{\"automargin\":true,\"gridcolor\":\"white\",\"linecolor\":\"white\",\"ticks\":\"\",\"title\":{\"standoff\":15},\"zerolinecolor\":\"white\",\"zerolinewidth\":2}}}},                        {\"responsive\": true}                    ).then(function(){\n",
       "                            \n",
       "var gd = document.getElementById('eacd9600-0159-4f7d-9c9f-4f6fbb4460ce');\n",
       "var x = new MutationObserver(function (mutations, observer) {{\n",
       "        var display = window.getComputedStyle(gd).display;\n",
       "        if (!display || display === 'none') {{\n",
       "            console.log([gd, 'removed!']);\n",
       "            Plotly.purge(gd);\n",
       "            observer.disconnect();\n",
       "        }}\n",
       "}});\n",
       "\n",
       "// Listen for the removal of the full notebook cells\n",
       "var notebookContainer = gd.closest('#notebook-container');\n",
       "if (notebookContainer) {{\n",
       "    x.observe(notebookContainer, {childList: true});\n",
       "}}\n",
       "\n",
       "// Listen for the clearing of the current output cell\n",
       "var outputEl = gd.closest('.output');\n",
       "if (outputEl) {{\n",
       "    x.observe(outputEl, {childList: true});\n",
       "}}\n",
       "\n",
       "                        })                };                });            </script>        </div>"
      ]
     },
     "metadata": {},
     "output_type": "display_data"
    },
    {
     "data": {
      "text/plain": [
       "<Figure size 288x144 with 0 Axes>"
      ]
     },
     "metadata": {},
     "output_type": "display_data"
    }
   ],
   "source": [
    "funn = df[df['font_new'] ==  False].groupby('event_name')['user_id'].nunique() #срез по полю \"font_new\" с значением False - старый шрифт\n",
    "funn = funn[funn.index != 'Tutorial'].reset_index().sort_values(by = 'user_id', ascending = False)\n",
    "plt.figure(figsize = (4,2))\n",
    "fig = go.Figure(\n",
    "    go.Funnel(\n",
    "        y=['Появление главного экрана','Скрин оффера','Появление скрина оплаты','Скрин успешной оплаты'],\n",
    "        x=funn['user_id']))\n",
    "\n",
    "fig.show() "
   ]
  },
  {
   "cell_type": "code",
   "execution_count": 49,
   "metadata": {},
   "outputs": [
    {
     "data": {
      "text/html": [
       "<div>\n",
       "<style scoped>\n",
       "    .dataframe tbody tr th:only-of-type {\n",
       "        vertical-align: middle;\n",
       "    }\n",
       "\n",
       "    .dataframe tbody tr th {\n",
       "        vertical-align: top;\n",
       "    }\n",
       "\n",
       "    .dataframe thead th {\n",
       "        text-align: right;\n",
       "    }\n",
       "</style>\n",
       "<table border=\"1\" class=\"dataframe\">\n",
       "  <thead>\n",
       "    <tr style=\"text-align: right;\">\n",
       "      <th></th>\n",
       "      <th>event_name</th>\n",
       "      <th>user_id</th>\n",
       "    </tr>\n",
       "  </thead>\n",
       "  <tbody>\n",
       "    <tr>\n",
       "      <th>1</th>\n",
       "      <td>MainScreenAppear</td>\n",
       "      <td>4921</td>\n",
       "    </tr>\n",
       "    <tr>\n",
       "      <th>2</th>\n",
       "      <td>OffersScreenAppear</td>\n",
       "      <td>3061</td>\n",
       "    </tr>\n",
       "    <tr>\n",
       "      <th>0</th>\n",
       "      <td>CartScreenAppear</td>\n",
       "      <td>2503</td>\n",
       "    </tr>\n",
       "    <tr>\n",
       "      <th>3</th>\n",
       "      <td>PaymentScreenSuccessful</td>\n",
       "      <td>2357</td>\n",
       "    </tr>\n",
       "  </tbody>\n",
       "</table>\n",
       "</div>"
      ],
      "text/plain": [
       "                event_name  user_id\n",
       "1         MainScreenAppear     4921\n",
       "2       OffersScreenAppear     3061\n",
       "0         CartScreenAppear     2503\n",
       "3  PaymentScreenSuccessful     2357"
      ]
     },
     "execution_count": 49,
     "metadata": {},
     "output_type": "execute_result"
    }
   ],
   "source": [
    "funn"
   ]
  },
  {
   "cell_type": "code",
   "execution_count": 50,
   "metadata": {},
   "outputs": [
    {
     "data": {
      "application/vnd.plotly.v1+json": {
       "config": {
        "plotlyServerURL": "https://plot.ly"
       },
       "data": [
        {
         "type": "funnel",
         "x": [
          2493,
          1531,
          1230,
          1181
         ],
         "y": [
          "Появление главного экрана",
          "Скрин оффера",
          "Появление скрина оплаты",
          "Скрин успешной оплаты"
         ]
        }
       ],
       "layout": {
        "template": {
         "data": {
          "bar": [
           {
            "error_x": {
             "color": "#2a3f5f"
            },
            "error_y": {
             "color": "#2a3f5f"
            },
            "marker": {
             "line": {
              "color": "#E5ECF6",
              "width": 0.5
             },
             "pattern": {
              "fillmode": "overlay",
              "size": 10,
              "solidity": 0.2
             }
            },
            "type": "bar"
           }
          ],
          "barpolar": [
           {
            "marker": {
             "line": {
              "color": "#E5ECF6",
              "width": 0.5
             },
             "pattern": {
              "fillmode": "overlay",
              "size": 10,
              "solidity": 0.2
             }
            },
            "type": "barpolar"
           }
          ],
          "carpet": [
           {
            "aaxis": {
             "endlinecolor": "#2a3f5f",
             "gridcolor": "white",
             "linecolor": "white",
             "minorgridcolor": "white",
             "startlinecolor": "#2a3f5f"
            },
            "baxis": {
             "endlinecolor": "#2a3f5f",
             "gridcolor": "white",
             "linecolor": "white",
             "minorgridcolor": "white",
             "startlinecolor": "#2a3f5f"
            },
            "type": "carpet"
           }
          ],
          "choropleth": [
           {
            "colorbar": {
             "outlinewidth": 0,
             "ticks": ""
            },
            "type": "choropleth"
           }
          ],
          "contour": [
           {
            "colorbar": {
             "outlinewidth": 0,
             "ticks": ""
            },
            "colorscale": [
             [
              0,
              "#0d0887"
             ],
             [
              0.1111111111111111,
              "#46039f"
             ],
             [
              0.2222222222222222,
              "#7201a8"
             ],
             [
              0.3333333333333333,
              "#9c179e"
             ],
             [
              0.4444444444444444,
              "#bd3786"
             ],
             [
              0.5555555555555556,
              "#d8576b"
             ],
             [
              0.6666666666666666,
              "#ed7953"
             ],
             [
              0.7777777777777778,
              "#fb9f3a"
             ],
             [
              0.8888888888888888,
              "#fdca26"
             ],
             [
              1,
              "#f0f921"
             ]
            ],
            "type": "contour"
           }
          ],
          "contourcarpet": [
           {
            "colorbar": {
             "outlinewidth": 0,
             "ticks": ""
            },
            "type": "contourcarpet"
           }
          ],
          "heatmap": [
           {
            "colorbar": {
             "outlinewidth": 0,
             "ticks": ""
            },
            "colorscale": [
             [
              0,
              "#0d0887"
             ],
             [
              0.1111111111111111,
              "#46039f"
             ],
             [
              0.2222222222222222,
              "#7201a8"
             ],
             [
              0.3333333333333333,
              "#9c179e"
             ],
             [
              0.4444444444444444,
              "#bd3786"
             ],
             [
              0.5555555555555556,
              "#d8576b"
             ],
             [
              0.6666666666666666,
              "#ed7953"
             ],
             [
              0.7777777777777778,
              "#fb9f3a"
             ],
             [
              0.8888888888888888,
              "#fdca26"
             ],
             [
              1,
              "#f0f921"
             ]
            ],
            "type": "heatmap"
           }
          ],
          "heatmapgl": [
           {
            "colorbar": {
             "outlinewidth": 0,
             "ticks": ""
            },
            "colorscale": [
             [
              0,
              "#0d0887"
             ],
             [
              0.1111111111111111,
              "#46039f"
             ],
             [
              0.2222222222222222,
              "#7201a8"
             ],
             [
              0.3333333333333333,
              "#9c179e"
             ],
             [
              0.4444444444444444,
              "#bd3786"
             ],
             [
              0.5555555555555556,
              "#d8576b"
             ],
             [
              0.6666666666666666,
              "#ed7953"
             ],
             [
              0.7777777777777778,
              "#fb9f3a"
             ],
             [
              0.8888888888888888,
              "#fdca26"
             ],
             [
              1,
              "#f0f921"
             ]
            ],
            "type": "heatmapgl"
           }
          ],
          "histogram": [
           {
            "marker": {
             "pattern": {
              "fillmode": "overlay",
              "size": 10,
              "solidity": 0.2
             }
            },
            "type": "histogram"
           }
          ],
          "histogram2d": [
           {
            "colorbar": {
             "outlinewidth": 0,
             "ticks": ""
            },
            "colorscale": [
             [
              0,
              "#0d0887"
             ],
             [
              0.1111111111111111,
              "#46039f"
             ],
             [
              0.2222222222222222,
              "#7201a8"
             ],
             [
              0.3333333333333333,
              "#9c179e"
             ],
             [
              0.4444444444444444,
              "#bd3786"
             ],
             [
              0.5555555555555556,
              "#d8576b"
             ],
             [
              0.6666666666666666,
              "#ed7953"
             ],
             [
              0.7777777777777778,
              "#fb9f3a"
             ],
             [
              0.8888888888888888,
              "#fdca26"
             ],
             [
              1,
              "#f0f921"
             ]
            ],
            "type": "histogram2d"
           }
          ],
          "histogram2dcontour": [
           {
            "colorbar": {
             "outlinewidth": 0,
             "ticks": ""
            },
            "colorscale": [
             [
              0,
              "#0d0887"
             ],
             [
              0.1111111111111111,
              "#46039f"
             ],
             [
              0.2222222222222222,
              "#7201a8"
             ],
             [
              0.3333333333333333,
              "#9c179e"
             ],
             [
              0.4444444444444444,
              "#bd3786"
             ],
             [
              0.5555555555555556,
              "#d8576b"
             ],
             [
              0.6666666666666666,
              "#ed7953"
             ],
             [
              0.7777777777777778,
              "#fb9f3a"
             ],
             [
              0.8888888888888888,
              "#fdca26"
             ],
             [
              1,
              "#f0f921"
             ]
            ],
            "type": "histogram2dcontour"
           }
          ],
          "mesh3d": [
           {
            "colorbar": {
             "outlinewidth": 0,
             "ticks": ""
            },
            "type": "mesh3d"
           }
          ],
          "parcoords": [
           {
            "line": {
             "colorbar": {
              "outlinewidth": 0,
              "ticks": ""
             }
            },
            "type": "parcoords"
           }
          ],
          "pie": [
           {
            "automargin": true,
            "type": "pie"
           }
          ],
          "scatter": [
           {
            "marker": {
             "colorbar": {
              "outlinewidth": 0,
              "ticks": ""
             }
            },
            "type": "scatter"
           }
          ],
          "scatter3d": [
           {
            "line": {
             "colorbar": {
              "outlinewidth": 0,
              "ticks": ""
             }
            },
            "marker": {
             "colorbar": {
              "outlinewidth": 0,
              "ticks": ""
             }
            },
            "type": "scatter3d"
           }
          ],
          "scattercarpet": [
           {
            "marker": {
             "colorbar": {
              "outlinewidth": 0,
              "ticks": ""
             }
            },
            "type": "scattercarpet"
           }
          ],
          "scattergeo": [
           {
            "marker": {
             "colorbar": {
              "outlinewidth": 0,
              "ticks": ""
             }
            },
            "type": "scattergeo"
           }
          ],
          "scattergl": [
           {
            "marker": {
             "colorbar": {
              "outlinewidth": 0,
              "ticks": ""
             }
            },
            "type": "scattergl"
           }
          ],
          "scattermapbox": [
           {
            "marker": {
             "colorbar": {
              "outlinewidth": 0,
              "ticks": ""
             }
            },
            "type": "scattermapbox"
           }
          ],
          "scatterpolar": [
           {
            "marker": {
             "colorbar": {
              "outlinewidth": 0,
              "ticks": ""
             }
            },
            "type": "scatterpolar"
           }
          ],
          "scatterpolargl": [
           {
            "marker": {
             "colorbar": {
              "outlinewidth": 0,
              "ticks": ""
             }
            },
            "type": "scatterpolargl"
           }
          ],
          "scatterternary": [
           {
            "marker": {
             "colorbar": {
              "outlinewidth": 0,
              "ticks": ""
             }
            },
            "type": "scatterternary"
           }
          ],
          "surface": [
           {
            "colorbar": {
             "outlinewidth": 0,
             "ticks": ""
            },
            "colorscale": [
             [
              0,
              "#0d0887"
             ],
             [
              0.1111111111111111,
              "#46039f"
             ],
             [
              0.2222222222222222,
              "#7201a8"
             ],
             [
              0.3333333333333333,
              "#9c179e"
             ],
             [
              0.4444444444444444,
              "#bd3786"
             ],
             [
              0.5555555555555556,
              "#d8576b"
             ],
             [
              0.6666666666666666,
              "#ed7953"
             ],
             [
              0.7777777777777778,
              "#fb9f3a"
             ],
             [
              0.8888888888888888,
              "#fdca26"
             ],
             [
              1,
              "#f0f921"
             ]
            ],
            "type": "surface"
           }
          ],
          "table": [
           {
            "cells": {
             "fill": {
              "color": "#EBF0F8"
             },
             "line": {
              "color": "white"
             }
            },
            "header": {
             "fill": {
              "color": "#C8D4E3"
             },
             "line": {
              "color": "white"
             }
            },
            "type": "table"
           }
          ]
         },
         "layout": {
          "annotationdefaults": {
           "arrowcolor": "#2a3f5f",
           "arrowhead": 0,
           "arrowwidth": 1
          },
          "autotypenumbers": "strict",
          "coloraxis": {
           "colorbar": {
            "outlinewidth": 0,
            "ticks": ""
           }
          },
          "colorscale": {
           "diverging": [
            [
             0,
             "#8e0152"
            ],
            [
             0.1,
             "#c51b7d"
            ],
            [
             0.2,
             "#de77ae"
            ],
            [
             0.3,
             "#f1b6da"
            ],
            [
             0.4,
             "#fde0ef"
            ],
            [
             0.5,
             "#f7f7f7"
            ],
            [
             0.6,
             "#e6f5d0"
            ],
            [
             0.7,
             "#b8e186"
            ],
            [
             0.8,
             "#7fbc41"
            ],
            [
             0.9,
             "#4d9221"
            ],
            [
             1,
             "#276419"
            ]
           ],
           "sequential": [
            [
             0,
             "#0d0887"
            ],
            [
             0.1111111111111111,
             "#46039f"
            ],
            [
             0.2222222222222222,
             "#7201a8"
            ],
            [
             0.3333333333333333,
             "#9c179e"
            ],
            [
             0.4444444444444444,
             "#bd3786"
            ],
            [
             0.5555555555555556,
             "#d8576b"
            ],
            [
             0.6666666666666666,
             "#ed7953"
            ],
            [
             0.7777777777777778,
             "#fb9f3a"
            ],
            [
             0.8888888888888888,
             "#fdca26"
            ],
            [
             1,
             "#f0f921"
            ]
           ],
           "sequentialminus": [
            [
             0,
             "#0d0887"
            ],
            [
             0.1111111111111111,
             "#46039f"
            ],
            [
             0.2222222222222222,
             "#7201a8"
            ],
            [
             0.3333333333333333,
             "#9c179e"
            ],
            [
             0.4444444444444444,
             "#bd3786"
            ],
            [
             0.5555555555555556,
             "#d8576b"
            ],
            [
             0.6666666666666666,
             "#ed7953"
            ],
            [
             0.7777777777777778,
             "#fb9f3a"
            ],
            [
             0.8888888888888888,
             "#fdca26"
            ],
            [
             1,
             "#f0f921"
            ]
           ]
          },
          "colorway": [
           "#636efa",
           "#EF553B",
           "#00cc96",
           "#ab63fa",
           "#FFA15A",
           "#19d3f3",
           "#FF6692",
           "#B6E880",
           "#FF97FF",
           "#FECB52"
          ],
          "font": {
           "color": "#2a3f5f"
          },
          "geo": {
           "bgcolor": "white",
           "lakecolor": "white",
           "landcolor": "#E5ECF6",
           "showlakes": true,
           "showland": true,
           "subunitcolor": "white"
          },
          "hoverlabel": {
           "align": "left"
          },
          "hovermode": "closest",
          "mapbox": {
           "style": "light"
          },
          "paper_bgcolor": "white",
          "plot_bgcolor": "#E5ECF6",
          "polar": {
           "angularaxis": {
            "gridcolor": "white",
            "linecolor": "white",
            "ticks": ""
           },
           "bgcolor": "#E5ECF6",
           "radialaxis": {
            "gridcolor": "white",
            "linecolor": "white",
            "ticks": ""
           }
          },
          "scene": {
           "xaxis": {
            "backgroundcolor": "#E5ECF6",
            "gridcolor": "white",
            "gridwidth": 2,
            "linecolor": "white",
            "showbackground": true,
            "ticks": "",
            "zerolinecolor": "white"
           },
           "yaxis": {
            "backgroundcolor": "#E5ECF6",
            "gridcolor": "white",
            "gridwidth": 2,
            "linecolor": "white",
            "showbackground": true,
            "ticks": "",
            "zerolinecolor": "white"
           },
           "zaxis": {
            "backgroundcolor": "#E5ECF6",
            "gridcolor": "white",
            "gridwidth": 2,
            "linecolor": "white",
            "showbackground": true,
            "ticks": "",
            "zerolinecolor": "white"
           }
          },
          "shapedefaults": {
           "line": {
            "color": "#2a3f5f"
           }
          },
          "ternary": {
           "aaxis": {
            "gridcolor": "white",
            "linecolor": "white",
            "ticks": ""
           },
           "baxis": {
            "gridcolor": "white",
            "linecolor": "white",
            "ticks": ""
           },
           "bgcolor": "#E5ECF6",
           "caxis": {
            "gridcolor": "white",
            "linecolor": "white",
            "ticks": ""
           }
          },
          "title": {
           "x": 0.05
          },
          "xaxis": {
           "automargin": true,
           "gridcolor": "white",
           "linecolor": "white",
           "ticks": "",
           "title": {
            "standoff": 15
           },
           "zerolinecolor": "white",
           "zerolinewidth": 2
          },
          "yaxis": {
           "automargin": true,
           "gridcolor": "white",
           "linecolor": "white",
           "ticks": "",
           "title": {
            "standoff": 15
           },
           "zerolinecolor": "white",
           "zerolinewidth": 2
          }
         }
        }
       }
      },
      "text/html": [
       "<div>                            <div id=\"97c0cf56-830d-4cfb-ad93-3958a1b399fa\" class=\"plotly-graph-div\" style=\"height:525px; width:100%;\"></div>            <script type=\"text/javascript\">                require([\"plotly\"], function(Plotly) {                    window.PLOTLYENV=window.PLOTLYENV || {};                                    if (document.getElementById(\"97c0cf56-830d-4cfb-ad93-3958a1b399fa\")) {                    Plotly.newPlot(                        \"97c0cf56-830d-4cfb-ad93-3958a1b399fa\",                        [{\"type\":\"funnel\",\"x\":[2493,1531,1230,1181],\"y\":[\"\\u041f\\u043e\\u044f\\u0432\\u043b\\u0435\\u043d\\u0438\\u0435 \\u0433\\u043b\\u0430\\u0432\\u043d\\u043e\\u0433\\u043e \\u044d\\u043a\\u0440\\u0430\\u043d\\u0430\",\"\\u0421\\u043a\\u0440\\u0438\\u043d \\u043e\\u0444\\u0444\\u0435\\u0440\\u0430\",\"\\u041f\\u043e\\u044f\\u0432\\u043b\\u0435\\u043d\\u0438\\u0435 \\u0441\\u043a\\u0440\\u0438\\u043d\\u0430 \\u043e\\u043f\\u043b\\u0430\\u0442\\u044b\",\"\\u0421\\u043a\\u0440\\u0438\\u043d \\u0443\\u0441\\u043f\\u0435\\u0448\\u043d\\u043e\\u0439 \\u043e\\u043f\\u043b\\u0430\\u0442\\u044b\"]}],                        {\"template\":{\"data\":{\"bar\":[{\"error_x\":{\"color\":\"#2a3f5f\"},\"error_y\":{\"color\":\"#2a3f5f\"},\"marker\":{\"line\":{\"color\":\"#E5ECF6\",\"width\":0.5},\"pattern\":{\"fillmode\":\"overlay\",\"size\":10,\"solidity\":0.2}},\"type\":\"bar\"}],\"barpolar\":[{\"marker\":{\"line\":{\"color\":\"#E5ECF6\",\"width\":0.5},\"pattern\":{\"fillmode\":\"overlay\",\"size\":10,\"solidity\":0.2}},\"type\":\"barpolar\"}],\"carpet\":[{\"aaxis\":{\"endlinecolor\":\"#2a3f5f\",\"gridcolor\":\"white\",\"linecolor\":\"white\",\"minorgridcolor\":\"white\",\"startlinecolor\":\"#2a3f5f\"},\"baxis\":{\"endlinecolor\":\"#2a3f5f\",\"gridcolor\":\"white\",\"linecolor\":\"white\",\"minorgridcolor\":\"white\",\"startlinecolor\":\"#2a3f5f\"},\"type\":\"carpet\"}],\"choropleth\":[{\"colorbar\":{\"outlinewidth\":0,\"ticks\":\"\"},\"type\":\"choropleth\"}],\"contour\":[{\"colorbar\":{\"outlinewidth\":0,\"ticks\":\"\"},\"colorscale\":[[0.0,\"#0d0887\"],[0.1111111111111111,\"#46039f\"],[0.2222222222222222,\"#7201a8\"],[0.3333333333333333,\"#9c179e\"],[0.4444444444444444,\"#bd3786\"],[0.5555555555555556,\"#d8576b\"],[0.6666666666666666,\"#ed7953\"],[0.7777777777777778,\"#fb9f3a\"],[0.8888888888888888,\"#fdca26\"],[1.0,\"#f0f921\"]],\"type\":\"contour\"}],\"contourcarpet\":[{\"colorbar\":{\"outlinewidth\":0,\"ticks\":\"\"},\"type\":\"contourcarpet\"}],\"heatmap\":[{\"colorbar\":{\"outlinewidth\":0,\"ticks\":\"\"},\"colorscale\":[[0.0,\"#0d0887\"],[0.1111111111111111,\"#46039f\"],[0.2222222222222222,\"#7201a8\"],[0.3333333333333333,\"#9c179e\"],[0.4444444444444444,\"#bd3786\"],[0.5555555555555556,\"#d8576b\"],[0.6666666666666666,\"#ed7953\"],[0.7777777777777778,\"#fb9f3a\"],[0.8888888888888888,\"#fdca26\"],[1.0,\"#f0f921\"]],\"type\":\"heatmap\"}],\"heatmapgl\":[{\"colorbar\":{\"outlinewidth\":0,\"ticks\":\"\"},\"colorscale\":[[0.0,\"#0d0887\"],[0.1111111111111111,\"#46039f\"],[0.2222222222222222,\"#7201a8\"],[0.3333333333333333,\"#9c179e\"],[0.4444444444444444,\"#bd3786\"],[0.5555555555555556,\"#d8576b\"],[0.6666666666666666,\"#ed7953\"],[0.7777777777777778,\"#fb9f3a\"],[0.8888888888888888,\"#fdca26\"],[1.0,\"#f0f921\"]],\"type\":\"heatmapgl\"}],\"histogram\":[{\"marker\":{\"pattern\":{\"fillmode\":\"overlay\",\"size\":10,\"solidity\":0.2}},\"type\":\"histogram\"}],\"histogram2d\":[{\"colorbar\":{\"outlinewidth\":0,\"ticks\":\"\"},\"colorscale\":[[0.0,\"#0d0887\"],[0.1111111111111111,\"#46039f\"],[0.2222222222222222,\"#7201a8\"],[0.3333333333333333,\"#9c179e\"],[0.4444444444444444,\"#bd3786\"],[0.5555555555555556,\"#d8576b\"],[0.6666666666666666,\"#ed7953\"],[0.7777777777777778,\"#fb9f3a\"],[0.8888888888888888,\"#fdca26\"],[1.0,\"#f0f921\"]],\"type\":\"histogram2d\"}],\"histogram2dcontour\":[{\"colorbar\":{\"outlinewidth\":0,\"ticks\":\"\"},\"colorscale\":[[0.0,\"#0d0887\"],[0.1111111111111111,\"#46039f\"],[0.2222222222222222,\"#7201a8\"],[0.3333333333333333,\"#9c179e\"],[0.4444444444444444,\"#bd3786\"],[0.5555555555555556,\"#d8576b\"],[0.6666666666666666,\"#ed7953\"],[0.7777777777777778,\"#fb9f3a\"],[0.8888888888888888,\"#fdca26\"],[1.0,\"#f0f921\"]],\"type\":\"histogram2dcontour\"}],\"mesh3d\":[{\"colorbar\":{\"outlinewidth\":0,\"ticks\":\"\"},\"type\":\"mesh3d\"}],\"parcoords\":[{\"line\":{\"colorbar\":{\"outlinewidth\":0,\"ticks\":\"\"}},\"type\":\"parcoords\"}],\"pie\":[{\"automargin\":true,\"type\":\"pie\"}],\"scatter\":[{\"marker\":{\"colorbar\":{\"outlinewidth\":0,\"ticks\":\"\"}},\"type\":\"scatter\"}],\"scatter3d\":[{\"line\":{\"colorbar\":{\"outlinewidth\":0,\"ticks\":\"\"}},\"marker\":{\"colorbar\":{\"outlinewidth\":0,\"ticks\":\"\"}},\"type\":\"scatter3d\"}],\"scattercarpet\":[{\"marker\":{\"colorbar\":{\"outlinewidth\":0,\"ticks\":\"\"}},\"type\":\"scattercarpet\"}],\"scattergeo\":[{\"marker\":{\"colorbar\":{\"outlinewidth\":0,\"ticks\":\"\"}},\"type\":\"scattergeo\"}],\"scattergl\":[{\"marker\":{\"colorbar\":{\"outlinewidth\":0,\"ticks\":\"\"}},\"type\":\"scattergl\"}],\"scattermapbox\":[{\"marker\":{\"colorbar\":{\"outlinewidth\":0,\"ticks\":\"\"}},\"type\":\"scattermapbox\"}],\"scatterpolar\":[{\"marker\":{\"colorbar\":{\"outlinewidth\":0,\"ticks\":\"\"}},\"type\":\"scatterpolar\"}],\"scatterpolargl\":[{\"marker\":{\"colorbar\":{\"outlinewidth\":0,\"ticks\":\"\"}},\"type\":\"scatterpolargl\"}],\"scatterternary\":[{\"marker\":{\"colorbar\":{\"outlinewidth\":0,\"ticks\":\"\"}},\"type\":\"scatterternary\"}],\"surface\":[{\"colorbar\":{\"outlinewidth\":0,\"ticks\":\"\"},\"colorscale\":[[0.0,\"#0d0887\"],[0.1111111111111111,\"#46039f\"],[0.2222222222222222,\"#7201a8\"],[0.3333333333333333,\"#9c179e\"],[0.4444444444444444,\"#bd3786\"],[0.5555555555555556,\"#d8576b\"],[0.6666666666666666,\"#ed7953\"],[0.7777777777777778,\"#fb9f3a\"],[0.8888888888888888,\"#fdca26\"],[1.0,\"#f0f921\"]],\"type\":\"surface\"}],\"table\":[{\"cells\":{\"fill\":{\"color\":\"#EBF0F8\"},\"line\":{\"color\":\"white\"}},\"header\":{\"fill\":{\"color\":\"#C8D4E3\"},\"line\":{\"color\":\"white\"}},\"type\":\"table\"}]},\"layout\":{\"annotationdefaults\":{\"arrowcolor\":\"#2a3f5f\",\"arrowhead\":0,\"arrowwidth\":1},\"autotypenumbers\":\"strict\",\"coloraxis\":{\"colorbar\":{\"outlinewidth\":0,\"ticks\":\"\"}},\"colorscale\":{\"diverging\":[[0,\"#8e0152\"],[0.1,\"#c51b7d\"],[0.2,\"#de77ae\"],[0.3,\"#f1b6da\"],[0.4,\"#fde0ef\"],[0.5,\"#f7f7f7\"],[0.6,\"#e6f5d0\"],[0.7,\"#b8e186\"],[0.8,\"#7fbc41\"],[0.9,\"#4d9221\"],[1,\"#276419\"]],\"sequential\":[[0.0,\"#0d0887\"],[0.1111111111111111,\"#46039f\"],[0.2222222222222222,\"#7201a8\"],[0.3333333333333333,\"#9c179e\"],[0.4444444444444444,\"#bd3786\"],[0.5555555555555556,\"#d8576b\"],[0.6666666666666666,\"#ed7953\"],[0.7777777777777778,\"#fb9f3a\"],[0.8888888888888888,\"#fdca26\"],[1.0,\"#f0f921\"]],\"sequentialminus\":[[0.0,\"#0d0887\"],[0.1111111111111111,\"#46039f\"],[0.2222222222222222,\"#7201a8\"],[0.3333333333333333,\"#9c179e\"],[0.4444444444444444,\"#bd3786\"],[0.5555555555555556,\"#d8576b\"],[0.6666666666666666,\"#ed7953\"],[0.7777777777777778,\"#fb9f3a\"],[0.8888888888888888,\"#fdca26\"],[1.0,\"#f0f921\"]]},\"colorway\":[\"#636efa\",\"#EF553B\",\"#00cc96\",\"#ab63fa\",\"#FFA15A\",\"#19d3f3\",\"#FF6692\",\"#B6E880\",\"#FF97FF\",\"#FECB52\"],\"font\":{\"color\":\"#2a3f5f\"},\"geo\":{\"bgcolor\":\"white\",\"lakecolor\":\"white\",\"landcolor\":\"#E5ECF6\",\"showlakes\":true,\"showland\":true,\"subunitcolor\":\"white\"},\"hoverlabel\":{\"align\":\"left\"},\"hovermode\":\"closest\",\"mapbox\":{\"style\":\"light\"},\"paper_bgcolor\":\"white\",\"plot_bgcolor\":\"#E5ECF6\",\"polar\":{\"angularaxis\":{\"gridcolor\":\"white\",\"linecolor\":\"white\",\"ticks\":\"\"},\"bgcolor\":\"#E5ECF6\",\"radialaxis\":{\"gridcolor\":\"white\",\"linecolor\":\"white\",\"ticks\":\"\"}},\"scene\":{\"xaxis\":{\"backgroundcolor\":\"#E5ECF6\",\"gridcolor\":\"white\",\"gridwidth\":2,\"linecolor\":\"white\",\"showbackground\":true,\"ticks\":\"\",\"zerolinecolor\":\"white\"},\"yaxis\":{\"backgroundcolor\":\"#E5ECF6\",\"gridcolor\":\"white\",\"gridwidth\":2,\"linecolor\":\"white\",\"showbackground\":true,\"ticks\":\"\",\"zerolinecolor\":\"white\"},\"zaxis\":{\"backgroundcolor\":\"#E5ECF6\",\"gridcolor\":\"white\",\"gridwidth\":2,\"linecolor\":\"white\",\"showbackground\":true,\"ticks\":\"\",\"zerolinecolor\":\"white\"}},\"shapedefaults\":{\"line\":{\"color\":\"#2a3f5f\"}},\"ternary\":{\"aaxis\":{\"gridcolor\":\"white\",\"linecolor\":\"white\",\"ticks\":\"\"},\"baxis\":{\"gridcolor\":\"white\",\"linecolor\":\"white\",\"ticks\":\"\"},\"bgcolor\":\"#E5ECF6\",\"caxis\":{\"gridcolor\":\"white\",\"linecolor\":\"white\",\"ticks\":\"\"}},\"title\":{\"x\":0.05},\"xaxis\":{\"automargin\":true,\"gridcolor\":\"white\",\"linecolor\":\"white\",\"ticks\":\"\",\"title\":{\"standoff\":15},\"zerolinecolor\":\"white\",\"zerolinewidth\":2},\"yaxis\":{\"automargin\":true,\"gridcolor\":\"white\",\"linecolor\":\"white\",\"ticks\":\"\",\"title\":{\"standoff\":15},\"zerolinecolor\":\"white\",\"zerolinewidth\":2}}}},                        {\"responsive\": true}                    ).then(function(){\n",
       "                            \n",
       "var gd = document.getElementById('97c0cf56-830d-4cfb-ad93-3958a1b399fa');\n",
       "var x = new MutationObserver(function (mutations, observer) {{\n",
       "        var display = window.getComputedStyle(gd).display;\n",
       "        if (!display || display === 'none') {{\n",
       "            console.log([gd, 'removed!']);\n",
       "            Plotly.purge(gd);\n",
       "            observer.disconnect();\n",
       "        }}\n",
       "}});\n",
       "\n",
       "// Listen for the removal of the full notebook cells\n",
       "var notebookContainer = gd.closest('#notebook-container');\n",
       "if (notebookContainer) {{\n",
       "    x.observe(notebookContainer, {childList: true});\n",
       "}}\n",
       "\n",
       "// Listen for the clearing of the current output cell\n",
       "var outputEl = gd.closest('.output');\n",
       "if (outputEl) {{\n",
       "    x.observe(outputEl, {childList: true});\n",
       "}}\n",
       "\n",
       "                        })                };                });            </script>        </div>"
      ]
     },
     "metadata": {},
     "output_type": "display_data"
    },
    {
     "data": {
      "text/plain": [
       "<Figure size 288x144 with 0 Axes>"
      ]
     },
     "metadata": {},
     "output_type": "display_data"
    }
   ],
   "source": [
    "funn = df[df['font_new'] ==  True].groupby('event_name')['user_id'].nunique() #срез по полю \"font_new\" с значением False - старый шрифт\n",
    "funn = funn[funn.index != 'Tutorial'].reset_index().sort_values(by = 'user_id', ascending = False)\n",
    "plt.figure(figsize = (4,2))\n",
    "fig = go.Figure(\n",
    "    go.Funnel(\n",
    "        y=['Появление главного экрана','Скрин оффера','Появление скрина оплаты','Скрин успешной оплаты'],\n",
    "        x=funn['user_id']))\n",
    "\n",
    "fig.show() "
   ]
  },
  {
   "cell_type": "markdown",
   "metadata": {},
   "source": [
    "На этапе появления скрина оплаты мы видим разницу, при том, что доля перешедших по воронке от оффера к оплате и от главного экрана к оплате (initial) выросла на 2%, при том, что эта разница статистически значима."
   ]
  },
  {
   "cell_type": "markdown",
   "metadata": {},
   "source": [
    "## Общий вывод"
   ]
  },
  {
   "cell_type": "markdown",
   "metadata": {},
   "source": [
    "В ходе работы проверили 20 (4 семейства) гипотез.\n",
    "Изменение шрифта приведёт к следующим изменениям.\n",
    "- доля юзеров, которые посмотрят заглавный экран уменьшится на 0,3 процентных пункта\n",
    "- вместе с тем, эти изменения окупаются на 3м шаге воронки, увеличивая долю на 2 процентных пункта.\n",
    "Итоговый скрин оплаты не показывает статистически важных различий, что требует дополнительных изменений для экспериментов. Очевидно, что новый шрифт при прочих равных условиях даёт прирост к итоговой конверсии.\n"
   ]
  },
  {
   "cell_type": "markdown",
   "metadata": {},
   "source": [
    "По итогу мы получаем 1,7 процентных пункта неопровергнутого гипотетического роста конверсии после изменения шрифта. Теперь вопросы только к среднему чеку."
   ]
  }
 ],
 "metadata": {
  "ExecuteTimeLog": [
   {
    "duration": 327,
    "start_time": "2021-10-28T16:28:09.680Z"
   },
   {
    "duration": 1934,
    "start_time": "2021-10-28T16:28:13.958Z"
   },
   {
    "duration": 427,
    "start_time": "2021-10-28T16:28:15.894Z"
   },
   {
    "duration": 14,
    "start_time": "2021-10-28T16:28:43.641Z"
   },
   {
    "duration": 9,
    "start_time": "2021-10-28T16:29:43.948Z"
   },
   {
    "duration": 170,
    "start_time": "2021-10-28T16:31:17.715Z"
   },
   {
    "duration": 10,
    "start_time": "2021-10-28T16:31:19.089Z"
   },
   {
    "duration": 22,
    "start_time": "2021-10-28T16:34:37.382Z"
   },
   {
    "duration": 9,
    "start_time": "2021-10-28T16:50:43.049Z"
   },
   {
    "duration": 18,
    "start_time": "2021-10-28T16:52:09.515Z"
   },
   {
    "duration": 19,
    "start_time": "2021-10-28T16:54:15.719Z"
   },
   {
    "duration": 30,
    "start_time": "2021-10-28T16:54:33.461Z"
   },
   {
    "duration": 13,
    "start_time": "2021-10-28T16:54:47.653Z"
   },
   {
    "duration": 30,
    "start_time": "2021-10-28T16:54:58.082Z"
   },
   {
    "duration": 5,
    "start_time": "2021-10-28T16:55:12.834Z"
   },
   {
    "duration": 6,
    "start_time": "2021-10-28T16:55:17.716Z"
   },
   {
    "duration": 96,
    "start_time": "2021-10-28T16:57:21.111Z"
   },
   {
    "duration": 42,
    "start_time": "2021-10-28T16:57:33.557Z"
   },
   {
    "duration": 48,
    "start_time": "2021-10-28T16:58:00.306Z"
   },
   {
    "duration": 13,
    "start_time": "2021-10-28T17:04:57.895Z"
   },
   {
    "duration": 8,
    "start_time": "2021-10-28T17:05:10.050Z"
   },
   {
    "duration": 1901,
    "start_time": "2021-10-28T17:07:24.680Z"
   },
   {
    "duration": 160,
    "start_time": "2021-10-28T17:07:26.583Z"
   },
   {
    "duration": 15,
    "start_time": "2021-10-28T17:07:26.746Z"
   },
   {
    "duration": 169,
    "start_time": "2021-10-28T17:07:26.763Z"
   },
   {
    "duration": 21,
    "start_time": "2021-10-28T17:07:26.934Z"
   },
   {
    "duration": 29,
    "start_time": "2021-10-28T17:07:26.958Z"
   },
   {
    "duration": 20,
    "start_time": "2021-10-28T17:07:26.990Z"
   },
   {
    "duration": 72,
    "start_time": "2021-10-28T17:07:27.013Z"
   },
   {
    "duration": 10,
    "start_time": "2021-10-28T17:07:27.088Z"
   },
   {
    "duration": 7571,
    "start_time": "2021-10-28T17:08:54.298Z"
   },
   {
    "duration": 45,
    "start_time": "2021-10-28T17:09:24.069Z"
   },
   {
    "duration": 9,
    "start_time": "2021-10-28T17:09:30.655Z"
   },
   {
    "duration": 3057,
    "start_time": "2021-10-28T17:10:24.680Z"
   },
   {
    "duration": 167,
    "start_time": "2021-10-28T17:10:27.741Z"
   },
   {
    "duration": 16,
    "start_time": "2021-10-28T17:10:27.911Z"
   },
   {
    "duration": 173,
    "start_time": "2021-10-28T17:10:27.930Z"
   },
   {
    "duration": 32,
    "start_time": "2021-10-28T17:10:28.106Z"
   },
   {
    "duration": 11,
    "start_time": "2021-10-28T17:10:28.141Z"
   },
   {
    "duration": 54,
    "start_time": "2021-10-28T17:10:28.156Z"
   },
   {
    "duration": 105,
    "start_time": "2021-10-28T17:10:28.215Z"
   },
   {
    "duration": 14,
    "start_time": "2021-10-28T17:10:28.323Z"
   },
   {
    "duration": 19,
    "start_time": "2021-10-28T17:10:28.341Z"
   },
   {
    "duration": 28,
    "start_time": "2021-10-28T17:10:28.363Z"
   },
   {
    "duration": 657,
    "start_time": "2021-10-28T17:10:38.740Z"
   },
   {
    "duration": 28,
    "start_time": "2021-10-28T17:10:39.374Z"
   },
   {
    "duration": 7,
    "start_time": "2021-10-28T17:11:37.663Z"
   },
   {
    "duration": 1101,
    "start_time": "2021-10-28T17:12:52.219Z"
   },
   {
    "duration": 8,
    "start_time": "2021-10-28T17:12:53.705Z"
   },
   {
    "duration": 2603,
    "start_time": "2021-10-28T17:13:00.063Z"
   },
   {
    "duration": 174,
    "start_time": "2021-10-28T17:13:02.669Z"
   },
   {
    "duration": 18,
    "start_time": "2021-10-28T17:13:02.847Z"
   },
   {
    "duration": 160,
    "start_time": "2021-10-28T17:13:02.885Z"
   },
   {
    "duration": 35,
    "start_time": "2021-10-28T17:13:03.047Z"
   },
   {
    "duration": 8,
    "start_time": "2021-10-28T17:13:03.085Z"
   },
   {
    "duration": 25,
    "start_time": "2021-10-28T17:13:03.096Z"
   },
   {
    "duration": 85,
    "start_time": "2021-10-28T17:13:03.123Z"
   },
   {
    "duration": 1637,
    "start_time": "2021-10-28T17:13:03.211Z"
   },
   {
    "duration": -69,
    "start_time": "2021-10-28T17:13:04.920Z"
   },
   {
    "duration": 9,
    "start_time": "2021-10-28T17:13:13.260Z"
   },
   {
    "duration": 1140,
    "start_time": "2021-10-28T17:13:24.186Z"
   },
   {
    "duration": 8,
    "start_time": "2021-10-28T17:14:36.334Z"
   },
   {
    "duration": 109,
    "start_time": "2021-10-28T17:14:58.536Z"
   },
   {
    "duration": 7,
    "start_time": "2021-10-28T17:15:00.234Z"
   },
   {
    "duration": 8,
    "start_time": "2021-10-28T17:15:15.957Z"
   },
   {
    "duration": 119,
    "start_time": "2021-10-28T17:15:22.784Z"
   },
   {
    "duration": 7,
    "start_time": "2021-10-28T17:15:23.739Z"
   },
   {
    "duration": 6,
    "start_time": "2021-10-28T17:15:33.540Z"
   },
   {
    "duration": 118,
    "start_time": "2021-10-28T17:17:42.047Z"
   },
   {
    "duration": 165,
    "start_time": "2021-10-28T17:19:11.338Z"
   },
   {
    "duration": 137,
    "start_time": "2021-10-28T17:19:42.546Z"
   },
   {
    "duration": 31,
    "start_time": "2021-10-28T17:35:13.163Z"
   },
   {
    "duration": 30,
    "start_time": "2021-10-28T17:35:23.130Z"
   },
   {
    "duration": 31,
    "start_time": "2021-10-28T17:36:02.012Z"
   },
   {
    "duration": 1977,
    "start_time": "2021-10-28T17:36:13.197Z"
   },
   {
    "duration": 162,
    "start_time": "2021-10-28T17:36:15.176Z"
   },
   {
    "duration": 15,
    "start_time": "2021-10-28T17:36:15.341Z"
   },
   {
    "duration": 162,
    "start_time": "2021-10-28T17:36:15.359Z"
   },
   {
    "duration": 21,
    "start_time": "2021-10-28T17:36:15.523Z"
   },
   {
    "duration": 9,
    "start_time": "2021-10-28T17:36:15.546Z"
   },
   {
    "duration": 19,
    "start_time": "2021-10-28T17:36:15.582Z"
   },
   {
    "duration": 49,
    "start_time": "2021-10-28T17:36:15.605Z"
   },
   {
    "duration": 110,
    "start_time": "2021-10-28T17:36:15.657Z"
   },
   {
    "duration": 6946,
    "start_time": "2021-10-28T17:36:15.782Z"
   },
   {
    "duration": -91,
    "start_time": "2021-10-28T17:36:22.821Z"
   },
   {
    "duration": 123,
    "start_time": "2021-10-28T17:36:44.889Z"
   },
   {
    "duration": 48,
    "start_time": "2021-10-28T17:36:46.123Z"
   },
   {
    "duration": 129,
    "start_time": "2021-10-28T17:37:04.330Z"
   },
   {
    "duration": 1859,
    "start_time": "2021-10-28T17:37:09.315Z"
   },
   {
    "duration": 172,
    "start_time": "2021-10-28T17:37:11.177Z"
   },
   {
    "duration": 15,
    "start_time": "2021-10-28T17:37:11.352Z"
   },
   {
    "duration": 167,
    "start_time": "2021-10-28T17:37:11.370Z"
   },
   {
    "duration": 20,
    "start_time": "2021-10-28T17:37:11.540Z"
   },
   {
    "duration": 22,
    "start_time": "2021-10-28T17:37:11.563Z"
   },
   {
    "duration": 18,
    "start_time": "2021-10-28T17:37:11.587Z"
   },
   {
    "duration": 75,
    "start_time": "2021-10-28T17:37:11.609Z"
   },
   {
    "duration": 96,
    "start_time": "2021-10-28T17:37:11.686Z"
   },
   {
    "duration": 119,
    "start_time": "2021-10-28T17:37:11.784Z"
   },
   {
    "duration": 43,
    "start_time": "2021-10-28T17:37:11.905Z"
   },
   {
    "duration": 8,
    "start_time": "2021-10-28T17:38:07.637Z"
   },
   {
    "duration": 32,
    "start_time": "2021-10-28T17:41:20.634Z"
   },
   {
    "duration": 104,
    "start_time": "2021-10-28T17:42:04.245Z"
   },
   {
    "duration": 126,
    "start_time": "2021-10-28T17:42:12.440Z"
   },
   {
    "duration": 94,
    "start_time": "2021-10-28T17:43:02.243Z"
   },
   {
    "duration": 109,
    "start_time": "2021-10-28T17:43:55.254Z"
   },
   {
    "duration": 34,
    "start_time": "2021-10-28T17:46:12.527Z"
   },
   {
    "duration": 34,
    "start_time": "2021-10-28T17:46:20.244Z"
   },
   {
    "duration": 9,
    "start_time": "2021-10-28T18:03:18.832Z"
   },
   {
    "duration": 469,
    "start_time": "2021-10-28T18:03:25.430Z"
   },
   {
    "duration": 313,
    "start_time": "2021-10-28T18:03:39.109Z"
   },
   {
    "duration": 301,
    "start_time": "2021-10-28T18:03:43.416Z"
   },
   {
    "duration": 9,
    "start_time": "2021-10-28T18:03:54.518Z"
   },
   {
    "duration": 300,
    "start_time": "2021-10-28T18:05:40.723Z"
   },
   {
    "duration": 548,
    "start_time": "2021-10-28T18:05:52.435Z"
   },
   {
    "duration": 613,
    "start_time": "2021-10-28T18:07:39.305Z"
   },
   {
    "duration": 724,
    "start_time": "2021-10-28T18:07:48.289Z"
   },
   {
    "duration": 674,
    "start_time": "2021-10-28T18:08:18.057Z"
   },
   {
    "duration": 1058,
    "start_time": "2021-10-28T18:08:27.501Z"
   },
   {
    "duration": 552,
    "start_time": "2021-10-28T18:08:35.389Z"
   },
   {
    "duration": 577,
    "start_time": "2021-10-28T18:08:59.726Z"
   },
   {
    "duration": 7,
    "start_time": "2021-10-28T18:12:57.064Z"
   },
   {
    "duration": 40,
    "start_time": "2021-10-28T18:14:01.265Z"
   },
   {
    "duration": 335,
    "start_time": "2021-10-28T18:15:00.233Z"
   },
   {
    "duration": 33,
    "start_time": "2021-10-28T18:15:10.900Z"
   },
   {
    "duration": 276,
    "start_time": "2021-10-28T18:21:21.597Z"
   },
   {
    "duration": 1268,
    "start_time": "2021-10-28T18:21:44.559Z"
   },
   {
    "duration": 280,
    "start_time": "2021-10-28T18:29:27.084Z"
   },
   {
    "duration": 1104,
    "start_time": "2021-10-28T18:29:53.976Z"
   },
   {
    "duration": 115,
    "start_time": "2021-10-28T18:33:48.043Z"
   },
   {
    "duration": 35,
    "start_time": "2021-10-28T18:35:09.121Z"
   },
   {
    "duration": 125,
    "start_time": "2021-10-28T18:35:17.507Z"
   },
   {
    "duration": 8,
    "start_time": "2021-10-28T18:35:17.811Z"
   },
   {
    "duration": 8,
    "start_time": "2021-10-28T18:36:00.982Z"
   },
   {
    "duration": 212,
    "start_time": "2021-10-28T18:37:41.274Z"
   },
   {
    "duration": 10,
    "start_time": "2021-10-28T18:38:53.045Z"
   },
   {
    "duration": 2269,
    "start_time": "2021-10-28T18:39:01.564Z"
   },
   {
    "duration": 167,
    "start_time": "2021-10-28T18:39:03.835Z"
   },
   {
    "duration": 15,
    "start_time": "2021-10-28T18:39:04.005Z"
   },
   {
    "duration": 160,
    "start_time": "2021-10-28T18:39:04.022Z"
   },
   {
    "duration": 21,
    "start_time": "2021-10-28T18:39:04.184Z"
   },
   {
    "duration": 9,
    "start_time": "2021-10-28T18:39:04.207Z"
   },
   {
    "duration": 22,
    "start_time": "2021-10-28T18:39:04.218Z"
   },
   {
    "duration": 88,
    "start_time": "2021-10-28T18:39:04.244Z"
   },
   {
    "duration": 157,
    "start_time": "2021-10-28T18:39:04.335Z"
   },
   {
    "duration": 125,
    "start_time": "2021-10-28T18:39:04.494Z"
   },
   {
    "duration": 43,
    "start_time": "2021-10-28T18:39:04.622Z"
   },
   {
    "duration": 19,
    "start_time": "2021-10-28T18:39:04.667Z"
   },
   {
    "duration": 32,
    "start_time": "2021-10-28T18:39:04.689Z"
   },
   {
    "duration": 8,
    "start_time": "2021-10-28T18:39:04.724Z"
   },
   {
    "duration": 625,
    "start_time": "2021-10-28T18:39:04.734Z"
   },
   {
    "duration": 46,
    "start_time": "2021-10-28T18:39:05.361Z"
   },
   {
    "duration": 233,
    "start_time": "2021-10-28T18:39:05.409Z"
   },
   {
    "duration": 9,
    "start_time": "2021-10-28T18:39:05.645Z"
   },
   {
    "duration": 28,
    "start_time": "2021-10-28T18:39:05.657Z"
   },
   {
    "duration": 38,
    "start_time": "2021-10-28T18:40:38.453Z"
   },
   {
    "duration": 8,
    "start_time": "2021-10-28T18:41:28.039Z"
   },
   {
    "duration": 554,
    "start_time": "2021-10-28T18:44:17.798Z"
   },
   {
    "duration": 548,
    "start_time": "2021-10-28T18:44:57.291Z"
   },
   {
    "duration": 664,
    "start_time": "2021-10-28T18:45:38.328Z"
   },
   {
    "duration": 30,
    "start_time": "2021-10-28T18:49:16.082Z"
   },
   {
    "duration": 9821,
    "start_time": "2021-10-28T18:57:52.057Z"
   },
   {
    "duration": 27,
    "start_time": "2021-10-28T18:58:05.467Z"
   },
   {
    "duration": 5,
    "start_time": "2021-10-28T18:58:19.492Z"
   },
   {
    "duration": 7599,
    "start_time": "2021-10-28T18:58:23.891Z"
   },
   {
    "duration": 27,
    "start_time": "2021-10-28T18:58:41.487Z"
   },
   {
    "duration": 6,
    "start_time": "2021-10-28T18:58:45.327Z"
   },
   {
    "duration": 8486,
    "start_time": "2021-10-28T18:58:56.328Z"
   },
   {
    "duration": 27,
    "start_time": "2021-10-28T18:59:07.494Z"
   },
   {
    "duration": 7,
    "start_time": "2021-10-28T18:59:09.829Z"
   },
   {
    "duration": 30,
    "start_time": "2021-10-28T19:00:53.588Z"
   },
   {
    "duration": 7,
    "start_time": "2021-10-28T19:00:57.031Z"
   },
   {
    "duration": 10,
    "start_time": "2021-10-28T19:04:26.052Z"
   },
   {
    "duration": 12,
    "start_time": "2021-10-28T19:04:36.289Z"
   },
   {
    "duration": 315,
    "start_time": "2021-10-28T19:05:05.650Z"
   },
   {
    "duration": 5,
    "start_time": "2021-10-28T19:06:08.792Z"
   },
   {
    "duration": 280,
    "start_time": "2021-10-28T19:06:09.649Z"
   },
   {
    "duration": 393,
    "start_time": "2021-10-28T19:08:50.008Z"
   },
   {
    "duration": 298,
    "start_time": "2021-10-28T19:09:16.705Z"
   },
   {
    "duration": 9,
    "start_time": "2021-10-28T19:09:17.042Z"
   },
   {
    "duration": 277,
    "start_time": "2021-10-28T19:09:21.373Z"
   },
   {
    "duration": 280,
    "start_time": "2021-10-28T19:09:23.848Z"
   },
   {
    "duration": 1916,
    "start_time": "2021-10-28T19:09:41.252Z"
   },
   {
    "duration": 172,
    "start_time": "2021-10-28T19:09:43.171Z"
   },
   {
    "duration": 17,
    "start_time": "2021-10-28T19:09:43.347Z"
   },
   {
    "duration": 159,
    "start_time": "2021-10-28T19:09:43.383Z"
   },
   {
    "duration": 22,
    "start_time": "2021-10-28T19:09:43.545Z"
   },
   {
    "duration": 10,
    "start_time": "2021-10-28T19:09:43.583Z"
   },
   {
    "duration": 23,
    "start_time": "2021-10-28T19:09:43.595Z"
   },
   {
    "duration": 81,
    "start_time": "2021-10-28T19:09:43.622Z"
   },
   {
    "duration": 98,
    "start_time": "2021-10-28T19:09:43.706Z"
   },
   {
    "duration": 152,
    "start_time": "2021-10-28T19:09:43.806Z"
   },
   {
    "duration": 52,
    "start_time": "2021-10-28T19:09:43.961Z"
   },
   {
    "duration": 9,
    "start_time": "2021-10-28T19:09:44.015Z"
   },
   {
    "duration": 57,
    "start_time": "2021-10-28T19:09:44.026Z"
   },
   {
    "duration": 9,
    "start_time": "2021-10-28T19:09:44.086Z"
   },
   {
    "duration": 607,
    "start_time": "2021-10-28T19:09:44.098Z"
   },
   {
    "duration": 42,
    "start_time": "2021-10-28T19:09:44.707Z"
   },
   {
    "duration": 239,
    "start_time": "2021-10-28T19:09:44.751Z"
   },
   {
    "duration": 8,
    "start_time": "2021-10-28T19:09:44.992Z"
   },
   {
    "duration": 42,
    "start_time": "2021-10-28T19:09:45.003Z"
   },
   {
    "duration": 8,
    "start_time": "2021-10-28T19:09:45.047Z"
   },
   {
    "duration": 598,
    "start_time": "2021-10-28T19:09:45.082Z"
   },
   {
    "duration": 463,
    "start_time": "2021-10-28T19:09:45.682Z"
   },
   {
    "duration": -21,
    "start_time": "2021-10-28T19:09:46.168Z"
   },
   {
    "duration": -23,
    "start_time": "2021-10-28T19:09:46.172Z"
   },
   {
    "duration": -24,
    "start_time": "2021-10-28T19:09:46.174Z"
   },
   {
    "duration": 32,
    "start_time": "2021-10-28T19:10:02.353Z"
   },
   {
    "duration": 277,
    "start_time": "2021-10-28T19:10:04.503Z"
   },
   {
    "duration": 7,
    "start_time": "2021-10-28T19:10:11.220Z"
   },
   {
    "duration": 283,
    "start_time": "2021-10-28T19:10:12.682Z"
   },
   {
    "duration": 267,
    "start_time": "2021-10-28T19:11:50.570Z"
   },
   {
    "duration": 5,
    "start_time": "2021-10-28T19:11:59.233Z"
   },
   {
    "duration": 589,
    "start_time": "2021-10-28T19:12:09.254Z"
   },
   {
    "duration": 277,
    "start_time": "2021-10-28T19:13:19.533Z"
   },
   {
    "duration": 288,
    "start_time": "2021-10-28T19:15:59.356Z"
   },
   {
    "duration": 8,
    "start_time": "2021-10-28T19:16:20.526Z"
   },
   {
    "duration": 1238,
    "start_time": "2021-10-28T19:16:26.545Z"
   },
   {
    "duration": 398,
    "start_time": "2021-10-28T19:17:05.254Z"
   },
   {
    "duration": 181,
    "start_time": "2021-10-28T19:17:15.425Z"
   },
   {
    "duration": 176,
    "start_time": "2021-10-28T19:17:39.022Z"
   },
   {
    "duration": 297,
    "start_time": "2021-10-28T19:19:06.881Z"
   },
   {
    "duration": 1861,
    "start_time": "2021-10-28T19:19:15.928Z"
   },
   {
    "duration": 166,
    "start_time": "2021-10-28T19:19:17.791Z"
   },
   {
    "duration": 23,
    "start_time": "2021-10-28T19:19:17.960Z"
   },
   {
    "duration": 154,
    "start_time": "2021-10-28T19:19:17.986Z"
   },
   {
    "duration": 19,
    "start_time": "2021-10-28T19:19:18.143Z"
   },
   {
    "duration": 24,
    "start_time": "2021-10-28T19:19:18.165Z"
   },
   {
    "duration": 19,
    "start_time": "2021-10-28T19:19:18.192Z"
   },
   {
    "duration": 76,
    "start_time": "2021-10-28T19:19:18.213Z"
   },
   {
    "duration": 95,
    "start_time": "2021-10-28T19:19:18.292Z"
   },
   {
    "duration": 126,
    "start_time": "2021-10-28T19:19:18.390Z"
   },
   {
    "duration": 45,
    "start_time": "2021-10-28T19:19:18.518Z"
   },
   {
    "duration": 20,
    "start_time": "2021-10-28T19:19:18.566Z"
   },
   {
    "duration": 35,
    "start_time": "2021-10-28T19:19:18.589Z"
   },
   {
    "duration": 8,
    "start_time": "2021-10-28T19:19:18.627Z"
   },
   {
    "duration": 618,
    "start_time": "2021-10-28T19:19:18.638Z"
   },
   {
    "duration": 49,
    "start_time": "2021-10-28T19:19:19.258Z"
   },
   {
    "duration": 224,
    "start_time": "2021-10-28T19:19:19.309Z"
   },
   {
    "duration": 8,
    "start_time": "2021-10-28T19:19:19.535Z"
   },
   {
    "duration": 57,
    "start_time": "2021-10-28T19:19:19.546Z"
   },
   {
    "duration": 8,
    "start_time": "2021-10-28T19:19:19.605Z"
   },
   {
    "duration": 575,
    "start_time": "2021-10-28T19:19:19.616Z"
   },
   {
    "duration": 30,
    "start_time": "2021-10-28T19:19:20.193Z"
   },
   {
    "duration": 11,
    "start_time": "2021-10-28T19:19:20.225Z"
   },
   {
    "duration": 7071,
    "start_time": "2021-10-28T19:19:20.238Z"
   },
   {
    "duration": 830,
    "start_time": "2021-10-28T19:19:50.710Z"
   },
   {
    "duration": 187,
    "start_time": "2021-10-28T19:19:59.262Z"
   },
   {
    "duration": 180,
    "start_time": "2021-10-28T19:20:04.223Z"
   },
   {
    "duration": 175,
    "start_time": "2021-10-28T19:20:40.787Z"
   },
   {
    "duration": 366,
    "start_time": "2021-10-28T19:58:59.011Z"
   },
   {
    "duration": 671,
    "start_time": "2021-10-28T19:59:11.333Z"
   },
   {
    "duration": 293,
    "start_time": "2021-10-28T20:01:27.097Z"
   },
   {
    "duration": 555,
    "start_time": "2021-10-28T20:01:49.054Z"
   },
   {
    "duration": 924,
    "start_time": "2021-10-28T20:02:28.881Z"
   },
   {
    "duration": 1076,
    "start_time": "2021-10-28T20:02:37.980Z"
   },
   {
    "duration": 955,
    "start_time": "2021-10-28T20:03:10.359Z"
   },
   {
    "duration": 862,
    "start_time": "2021-10-28T20:05:05.940Z"
   },
   {
    "duration": 874,
    "start_time": "2021-10-28T20:05:14.217Z"
   },
   {
    "duration": 1286,
    "start_time": "2021-10-28T20:05:42.499Z"
   },
   {
    "duration": 1167,
    "start_time": "2021-10-28T20:08:24.400Z"
   },
   {
    "duration": 1152,
    "start_time": "2021-10-28T20:08:48.067Z"
   },
   {
    "duration": 1918,
    "start_time": "2021-10-28T20:09:32.404Z"
   },
   {
    "duration": 1618,
    "start_time": "2021-10-28T20:09:57.535Z"
   },
   {
    "duration": 2015,
    "start_time": "2021-10-28T20:10:29.542Z"
   },
   {
    "duration": 1982,
    "start_time": "2021-10-29T18:36:49.958Z"
   },
   {
    "duration": 161,
    "start_time": "2021-10-29T18:36:51.946Z"
   },
   {
    "duration": 14,
    "start_time": "2021-10-29T18:36:52.110Z"
   },
   {
    "duration": 172,
    "start_time": "2021-10-29T18:36:52.127Z"
   },
   {
    "duration": 21,
    "start_time": "2021-10-29T18:36:52.302Z"
   },
   {
    "duration": 10,
    "start_time": "2021-10-29T18:36:52.326Z"
   },
   {
    "duration": 43,
    "start_time": "2021-10-29T18:36:52.340Z"
   },
   {
    "duration": 51,
    "start_time": "2021-10-29T18:36:52.386Z"
   },
   {
    "duration": 103,
    "start_time": "2021-10-29T18:36:52.439Z"
   },
   {
    "duration": 122,
    "start_time": "2021-10-29T18:36:52.545Z"
   },
   {
    "duration": 47,
    "start_time": "2021-10-29T18:36:52.670Z"
   },
   {
    "duration": 7,
    "start_time": "2021-10-29T18:36:52.719Z"
   },
   {
    "duration": 58,
    "start_time": "2021-10-29T18:36:52.728Z"
   },
   {
    "duration": 9,
    "start_time": "2021-10-29T18:36:52.788Z"
   },
   {
    "duration": 591,
    "start_time": "2021-10-29T18:36:52.799Z"
   },
   {
    "duration": 40,
    "start_time": "2021-10-29T18:36:53.393Z"
   },
   {
    "duration": 246,
    "start_time": "2021-10-29T18:36:53.436Z"
   },
   {
    "duration": 9,
    "start_time": "2021-10-29T18:36:53.684Z"
   },
   {
    "duration": 37,
    "start_time": "2021-10-29T18:36:53.696Z"
   },
   {
    "duration": 8,
    "start_time": "2021-10-29T18:36:53.736Z"
   },
   {
    "duration": 652,
    "start_time": "2021-10-29T18:36:53.746Z"
   },
   {
    "duration": 30,
    "start_time": "2021-10-29T18:36:54.402Z"
   },
   {
    "duration": 8,
    "start_time": "2021-10-29T18:36:54.434Z"
   },
   {
    "duration": 871,
    "start_time": "2021-10-29T18:36:54.444Z"
   },
   {
    "duration": 1893,
    "start_time": "2021-10-29T18:36:55.319Z"
   },
   {
    "duration": 36,
    "start_time": "2021-10-29T18:43:27.671Z"
   },
   {
    "duration": 4575,
    "start_time": "2021-10-29T18:43:35.454Z"
   },
   {
    "duration": 4689,
    "start_time": "2021-10-29T18:43:45.310Z"
   },
   {
    "duration": 38,
    "start_time": "2021-10-29T18:46:28.909Z"
   },
   {
    "duration": 4174,
    "start_time": "2021-10-29T18:46:46.712Z"
   },
   {
    "duration": 308,
    "start_time": "2021-10-29T18:47:14.517Z"
   },
   {
    "duration": 37,
    "start_time": "2021-10-29T18:47:19.839Z"
   },
   {
    "duration": 442,
    "start_time": "2021-10-29T18:47:41.496Z"
   },
   {
    "duration": 325,
    "start_time": "2021-10-29T18:47:49.280Z"
   },
   {
    "duration": 36,
    "start_time": "2021-10-29T18:48:09.823Z"
   },
   {
    "duration": 349,
    "start_time": "2021-10-29T18:49:16.671Z"
   },
   {
    "duration": 42,
    "start_time": "2021-10-29T18:49:21.509Z"
   },
   {
    "duration": 109,
    "start_time": "2021-10-29T18:49:41.414Z"
   },
   {
    "duration": 107,
    "start_time": "2021-10-29T18:49:51.907Z"
   },
   {
    "duration": -116,
    "start_time": "2021-10-29T18:50:10.110Z"
   },
   {
    "duration": 38,
    "start_time": "2021-10-29T18:50:12.201Z"
   },
   {
    "duration": 37,
    "start_time": "2021-10-29T18:50:33.500Z"
   },
   {
    "duration": 340,
    "start_time": "2021-10-29T18:51:56.263Z"
   },
   {
    "duration": 327,
    "start_time": "2021-10-29T18:53:03.079Z"
   },
   {
    "duration": 315,
    "start_time": "2021-10-29T18:54:11.289Z"
   },
   {
    "duration": 314,
    "start_time": "2021-10-29T18:54:35.243Z"
   },
   {
    "duration": 310,
    "start_time": "2021-10-29T18:54:42.326Z"
   },
   {
    "duration": 40,
    "start_time": "2021-10-29T18:54:59.971Z"
   },
   {
    "duration": 67,
    "start_time": "2021-10-29T18:55:11.679Z"
   },
   {
    "duration": 12,
    "start_time": "2021-10-29T19:00:14.538Z"
   },
   {
    "duration": 24,
    "start_time": "2021-10-29T19:32:38.990Z"
   },
   {
    "duration": 20,
    "start_time": "2021-10-29T19:32:49.955Z"
   },
   {
    "duration": 13,
    "start_time": "2021-10-29T19:33:28.628Z"
   },
   {
    "duration": 14,
    "start_time": "2021-10-29T19:33:43.680Z"
   },
   {
    "duration": 14,
    "start_time": "2021-10-29T19:34:03.254Z"
   },
   {
    "duration": 13,
    "start_time": "2021-10-29T19:34:10.127Z"
   },
   {
    "duration": 333,
    "start_time": "2021-10-29T19:34:14.619Z"
   },
   {
    "duration": 312,
    "start_time": "2021-10-29T19:34:33.438Z"
   },
   {
    "duration": 14,
    "start_time": "2021-10-29T19:34:37.713Z"
   },
   {
    "duration": 20,
    "start_time": "2021-10-29T19:34:45.629Z"
   },
   {
    "duration": 5,
    "start_time": "2021-10-29T19:36:43.204Z"
   },
   {
    "duration": 5,
    "start_time": "2021-10-29T20:00:07.859Z"
   },
   {
    "duration": 14,
    "start_time": "2021-10-29T20:00:37.794Z"
   },
   {
    "duration": 20,
    "start_time": "2021-10-29T20:00:48.718Z"
   },
   {
    "duration": 13,
    "start_time": "2021-10-29T20:01:49.046Z"
   },
   {
    "duration": 14,
    "start_time": "2021-10-29T20:01:57.050Z"
   },
   {
    "duration": 319,
    "start_time": "2021-10-29T20:07:10.535Z"
   },
   {
    "duration": 292,
    "start_time": "2021-10-29T20:07:20.010Z"
   },
   {
    "duration": 6,
    "start_time": "2021-10-29T20:07:45.095Z"
   },
   {
    "duration": 6,
    "start_time": "2021-10-29T20:07:51.721Z"
   },
   {
    "duration": 6,
    "start_time": "2021-10-29T20:07:57.480Z"
   },
   {
    "duration": 12,
    "start_time": "2021-10-29T20:09:12.362Z"
   },
   {
    "duration": 11,
    "start_time": "2021-10-29T20:09:19.764Z"
   },
   {
    "duration": 6,
    "start_time": "2021-10-29T20:10:28.766Z"
   },
   {
    "duration": 12,
    "start_time": "2021-10-29T20:10:40.026Z"
   },
   {
    "duration": 89,
    "start_time": "2021-10-29T20:13:36.732Z"
   },
   {
    "duration": 13,
    "start_time": "2021-10-29T20:13:46.335Z"
   },
   {
    "duration": 22,
    "start_time": "2021-10-29T20:13:52.849Z"
   },
   {
    "duration": 8,
    "start_time": "2021-10-29T20:15:27.587Z"
   },
   {
    "duration": 27,
    "start_time": "2021-10-29T20:15:45.336Z"
   },
   {
    "duration": 581,
    "start_time": "2021-10-29T20:16:05.105Z"
   },
   {
    "duration": 288,
    "start_time": "2021-10-29T20:18:23.090Z"
   },
   {
    "duration": 19,
    "start_time": "2021-10-29T20:18:46.740Z"
   },
   {
    "duration": 19,
    "start_time": "2021-10-29T20:18:56.247Z"
   },
   {
    "duration": 22,
    "start_time": "2021-10-29T20:19:00.207Z"
   },
   {
    "duration": 26,
    "start_time": "2021-10-29T20:19:31.152Z"
   },
   {
    "duration": 6,
    "start_time": "2021-10-29T20:19:33.432Z"
   },
   {
    "duration": 351,
    "start_time": "2021-10-29T20:20:14.837Z"
   },
   {
    "duration": 295,
    "start_time": "2021-10-29T20:20:35.635Z"
   },
   {
    "duration": 327,
    "start_time": "2021-10-29T20:20:45.985Z"
   },
   {
    "duration": 275,
    "start_time": "2021-10-29T20:20:49.014Z"
   },
   {
    "duration": 6,
    "start_time": "2021-10-29T20:20:57.789Z"
   },
   {
    "duration": 25,
    "start_time": "2021-10-29T20:21:09.343Z"
   },
   {
    "duration": 14,
    "start_time": "2021-10-29T20:22:10.056Z"
   },
   {
    "duration": 19,
    "start_time": "2021-10-29T20:22:30.739Z"
   },
   {
    "duration": 59,
    "start_time": "2021-10-29T20:22:44.183Z"
   },
   {
    "duration": 357,
    "start_time": "2021-10-29T20:23:18.270Z"
   },
   {
    "duration": 5,
    "start_time": "2021-10-29T20:23:19.054Z"
   },
   {
    "duration": 61,
    "start_time": "2021-10-29T20:24:32.227Z"
   },
   {
    "duration": 5,
    "start_time": "2021-10-29T20:24:44.175Z"
   },
   {
    "duration": 656,
    "start_time": "2021-10-29T20:26:12.520Z"
   },
   {
    "duration": 7,
    "start_time": "2021-10-29T20:27:02.560Z"
   },
   {
    "duration": 286,
    "start_time": "2021-10-29T20:27:07.960Z"
   },
   {
    "duration": 6,
    "start_time": "2021-10-29T20:27:13.364Z"
   },
   {
    "duration": 5,
    "start_time": "2021-10-29T20:27:27.309Z"
   },
   {
    "duration": 1881,
    "start_time": "2021-10-29T20:27:41.550Z"
   },
   {
    "duration": 166,
    "start_time": "2021-10-29T20:27:43.434Z"
   },
   {
    "duration": 14,
    "start_time": "2021-10-29T20:27:43.603Z"
   },
   {
    "duration": 164,
    "start_time": "2021-10-29T20:27:43.620Z"
   },
   {
    "duration": 21,
    "start_time": "2021-10-29T20:27:43.787Z"
   },
   {
    "duration": 10,
    "start_time": "2021-10-29T20:27:43.810Z"
   },
   {
    "duration": 21,
    "start_time": "2021-10-29T20:27:43.823Z"
   },
   {
    "duration": 88,
    "start_time": "2021-10-29T20:27:43.847Z"
   },
   {
    "duration": 114,
    "start_time": "2021-10-29T20:27:43.938Z"
   },
   {
    "duration": 129,
    "start_time": "2021-10-29T20:27:44.055Z"
   },
   {
    "duration": 44,
    "start_time": "2021-10-29T20:27:44.187Z"
   },
   {
    "duration": 10,
    "start_time": "2021-10-29T20:27:44.234Z"
   },
   {
    "duration": 66,
    "start_time": "2021-10-29T20:27:44.247Z"
   },
   {
    "duration": 11,
    "start_time": "2021-10-29T20:27:44.315Z"
   },
   {
    "duration": 616,
    "start_time": "2021-10-29T20:27:44.329Z"
   },
   {
    "duration": 45,
    "start_time": "2021-10-29T20:27:44.947Z"
   },
   {
    "duration": 227,
    "start_time": "2021-10-29T20:27:44.994Z"
   },
   {
    "duration": 9,
    "start_time": "2021-10-29T20:27:45.223Z"
   },
   {
    "duration": 59,
    "start_time": "2021-10-29T20:27:45.235Z"
   },
   {
    "duration": 7,
    "start_time": "2021-10-29T20:27:45.296Z"
   },
   {
    "duration": 588,
    "start_time": "2021-10-29T20:27:45.305Z"
   },
   {
    "duration": 30,
    "start_time": "2021-10-29T20:27:45.896Z"
   },
   {
    "duration": 8,
    "start_time": "2021-10-29T20:27:45.932Z"
   },
   {
    "duration": 857,
    "start_time": "2021-10-29T20:27:45.943Z"
   },
   {
    "duration": 1788,
    "start_time": "2021-10-29T20:27:46.803Z"
   },
   {
    "duration": 68,
    "start_time": "2021-10-29T20:27:48.593Z"
   },
   {
    "duration": 41,
    "start_time": "2021-10-29T20:27:48.663Z"
   },
   {
    "duration": 17,
    "start_time": "2021-10-29T20:27:48.706Z"
   },
   {
    "duration": 87,
    "start_time": "2021-10-29T20:27:48.725Z"
   },
   {
    "duration": 13,
    "start_time": "2021-10-29T20:27:48.814Z"
   },
   {
    "duration": 15,
    "start_time": "2021-10-29T20:27:48.829Z"
   },
   {
    "duration": 61,
    "start_time": "2021-10-29T20:28:10.904Z"
   },
   {
    "duration": 5,
    "start_time": "2021-10-29T20:28:25.643Z"
   },
   {
    "duration": 31,
    "start_time": "2021-10-29T20:31:09.392Z"
   },
   {
    "duration": 28,
    "start_time": "2021-10-29T20:31:53.012Z"
   },
   {
    "duration": 31,
    "start_time": "2021-10-29T20:32:02.013Z"
   },
   {
    "duration": 70,
    "start_time": "2021-10-29T20:34:12.660Z"
   },
   {
    "duration": 1478,
    "start_time": "2021-10-30T08:56:47.698Z"
   },
   {
    "duration": 123,
    "start_time": "2021-10-30T08:56:49.178Z"
   },
   {
    "duration": 10,
    "start_time": "2021-10-30T08:56:49.303Z"
   },
   {
    "duration": 115,
    "start_time": "2021-10-30T08:56:49.315Z"
   },
   {
    "duration": 16,
    "start_time": "2021-10-30T08:56:49.431Z"
   },
   {
    "duration": 6,
    "start_time": "2021-10-30T08:56:49.449Z"
   },
   {
    "duration": 30,
    "start_time": "2021-10-30T08:56:49.457Z"
   },
   {
    "duration": 40,
    "start_time": "2021-10-30T08:56:49.490Z"
   },
   {
    "duration": 76,
    "start_time": "2021-10-30T08:56:49.532Z"
   },
   {
    "duration": 82,
    "start_time": "2021-10-30T08:56:49.610Z"
   },
   {
    "duration": 32,
    "start_time": "2021-10-30T08:56:49.693Z"
   },
   {
    "duration": 5,
    "start_time": "2021-10-30T08:56:49.727Z"
   },
   {
    "duration": 45,
    "start_time": "2021-10-30T08:56:49.734Z"
   },
   {
    "duration": 8,
    "start_time": "2021-10-30T08:56:49.781Z"
   },
   {
    "duration": 370,
    "start_time": "2021-10-30T08:56:49.790Z"
   },
   {
    "duration": 33,
    "start_time": "2021-10-30T08:56:50.162Z"
   },
   {
    "duration": 149,
    "start_time": "2021-10-30T08:56:50.197Z"
   },
   {
    "duration": 5,
    "start_time": "2021-10-30T08:56:50.348Z"
   },
   {
    "duration": 38,
    "start_time": "2021-10-30T08:56:50.355Z"
   },
   {
    "duration": 5,
    "start_time": "2021-10-30T08:56:50.395Z"
   },
   {
    "duration": 352,
    "start_time": "2021-10-30T08:56:50.402Z"
   },
   {
    "duration": 32,
    "start_time": "2021-10-30T08:56:50.755Z"
   },
   {
    "duration": 5,
    "start_time": "2021-10-30T08:56:50.790Z"
   },
   {
    "duration": 611,
    "start_time": "2021-10-30T08:56:50.797Z"
   },
   {
    "duration": 1181,
    "start_time": "2021-10-30T08:56:51.410Z"
   },
   {
    "duration": 58,
    "start_time": "2021-10-30T08:56:52.594Z"
   },
   {
    "duration": 39,
    "start_time": "2021-10-30T08:56:52.654Z"
   },
   {
    "duration": 15,
    "start_time": "2021-10-30T08:56:52.696Z"
   },
   {
    "duration": 72,
    "start_time": "2021-10-30T08:56:52.713Z"
   },
   {
    "duration": 5,
    "start_time": "2021-10-30T08:56:52.787Z"
   },
   {
    "duration": 20,
    "start_time": "2021-10-30T08:56:52.794Z"
   },
   {
    "duration": 78,
    "start_time": "2021-10-30T08:56:52.815Z"
   },
   {
    "duration": 1102,
    "start_time": "2021-10-30T08:58:13.535Z"
   },
   {
    "duration": 23,
    "start_time": "2021-10-30T09:00:04.371Z"
   },
   {
    "duration": 939,
    "start_time": "2021-10-30T09:00:55.762Z"
   },
   {
    "duration": 927,
    "start_time": "2021-10-30T09:01:09.228Z"
   },
   {
    "duration": 1141,
    "start_time": "2021-10-30T09:01:10.158Z"
   },
   {
    "duration": 904,
    "start_time": "2021-10-30T09:01:11.532Z"
   },
   {
    "duration": 30,
    "start_time": "2021-10-30T09:01:12.502Z"
   },
   {
    "duration": 1234,
    "start_time": "2021-10-30T09:01:44.036Z"
   },
   {
    "duration": 919,
    "start_time": "2021-10-30T09:01:45.643Z"
   },
   {
    "duration": 1082,
    "start_time": "2021-10-30T09:01:47.691Z"
   },
   {
    "duration": 938,
    "start_time": "2021-10-30T09:01:48.938Z"
   },
   {
    "duration": 1117,
    "start_time": "2021-10-30T09:07:30.394Z"
   },
   {
    "duration": 924,
    "start_time": "2021-10-30T09:07:31.513Z"
   },
   {
    "duration": 1086,
    "start_time": "2021-10-30T09:07:32.440Z"
   },
   {
    "duration": 940,
    "start_time": "2021-10-30T09:07:33.528Z"
   },
   {
    "duration": 30,
    "start_time": "2021-10-30T09:07:34.470Z"
   },
   {
    "duration": 26,
    "start_time": "2021-10-30T09:22:04.143Z"
   },
   {
    "duration": 1022,
    "start_time": "2021-10-30T09:27:33.254Z"
   },
   {
    "duration": 908,
    "start_time": "2021-10-30T09:27:41.111Z"
   },
   {
    "duration": 3,
    "start_time": "2021-10-30T09:27:50.445Z"
   },
   {
    "duration": 285,
    "start_time": "2021-10-30T09:28:19.524Z"
   },
   {
    "duration": 369,
    "start_time": "2021-10-30T09:29:16.856Z"
   },
   {
    "duration": 84,
    "start_time": "2021-10-30T09:30:29.834Z"
   },
   {
    "duration": 84,
    "start_time": "2021-10-30T09:33:15.664Z"
   },
   {
    "duration": 86,
    "start_time": "2021-10-30T09:33:33.445Z"
   },
   {
    "duration": 81,
    "start_time": "2021-10-30T09:35:21.867Z"
   },
   {
    "duration": 81,
    "start_time": "2021-10-30T09:35:53.006Z"
   },
   {
    "duration": 4,
    "start_time": "2021-10-30T10:02:29.990Z"
   },
   {
    "duration": 86,
    "start_time": "2021-10-30T10:02:30.682Z"
   },
   {
    "duration": 111,
    "start_time": "2021-10-30T10:02:36.366Z"
   },
   {
    "duration": 5,
    "start_time": "2021-10-30T10:02:48.538Z"
   },
   {
    "duration": 340,
    "start_time": "2021-10-30T10:32:40.933Z"
   },
   {
    "duration": 44,
    "start_time": "2021-10-30T10:36:40.724Z"
   },
   {
    "duration": 149,
    "start_time": "2021-10-30T10:37:46.040Z"
   },
   {
    "duration": 248,
    "start_time": "2021-10-30T10:47:17.764Z"
   },
   {
    "duration": 165,
    "start_time": "2021-10-30T10:47:52.198Z"
   },
   {
    "duration": 152,
    "start_time": "2021-10-30T10:48:05.186Z"
   },
   {
    "duration": 155,
    "start_time": "2021-10-30T10:48:50.452Z"
   },
   {
    "duration": 147,
    "start_time": "2021-10-30T11:05:22.359Z"
   },
   {
    "duration": 25,
    "start_time": "2021-10-30T11:05:39.905Z"
   },
   {
    "duration": 32,
    "start_time": "2021-10-30T11:06:28.489Z"
   },
   {
    "duration": 36,
    "start_time": "2021-10-30T11:06:40.565Z"
   },
   {
    "duration": 34,
    "start_time": "2021-10-30T11:06:55.234Z"
   },
   {
    "duration": 384,
    "start_time": "2021-10-30T11:08:04.077Z"
   },
   {
    "duration": 423,
    "start_time": "2021-10-30T11:08:15.634Z"
   },
   {
    "duration": 383,
    "start_time": "2021-10-30T11:08:20.913Z"
   },
   {
    "duration": 624,
    "start_time": "2021-10-30T11:08:27.934Z"
   },
   {
    "duration": 53,
    "start_time": "2021-10-30T11:09:01.989Z"
   },
   {
    "duration": 49,
    "start_time": "2021-10-30T11:09:14.353Z"
   },
   {
    "duration": 31,
    "start_time": "2021-10-30T11:10:42.689Z"
   },
   {
    "duration": 62,
    "start_time": "2021-10-30T11:11:18.834Z"
   },
   {
    "duration": 144,
    "start_time": "2021-10-30T11:26:45.918Z"
   },
   {
    "duration": 153,
    "start_time": "2021-10-30T11:53:39.880Z"
   },
   {
    "duration": 184,
    "start_time": "2021-10-30T11:58:32.125Z"
   },
   {
    "duration": 153,
    "start_time": "2021-10-30T12:02:39.659Z"
   },
   {
    "duration": 128,
    "start_time": "2021-10-30T12:10:02.235Z"
   },
   {
    "duration": 116,
    "start_time": "2021-10-30T12:10:47.790Z"
   },
   {
    "duration": 111,
    "start_time": "2021-10-30T12:11:39.921Z"
   },
   {
    "duration": 381,
    "start_time": "2021-10-30T12:14:29.274Z"
   },
   {
    "duration": 358,
    "start_time": "2021-10-30T12:15:00.996Z"
   },
   {
    "duration": 5,
    "start_time": "2021-10-30T12:15:05.985Z"
   },
   {
    "duration": 359,
    "start_time": "2021-10-30T12:15:16.475Z"
   },
   {
    "duration": 6,
    "start_time": "2021-10-30T12:17:13.034Z"
   },
   {
    "duration": 6,
    "start_time": "2021-10-30T12:17:38.296Z"
   },
   {
    "duration": 4,
    "start_time": "2021-10-30T12:17:39.159Z"
   },
   {
    "duration": 15,
    "start_time": "2021-10-30T12:17:42.598Z"
   },
   {
    "duration": 26,
    "start_time": "2021-10-30T12:18:13.139Z"
   },
   {
    "duration": 352,
    "start_time": "2021-10-30T15:39:11.373Z"
   },
   {
    "duration": 1989,
    "start_time": "2021-10-30T15:39:17.517Z"
   },
   {
    "duration": 159,
    "start_time": "2021-10-30T15:39:19.508Z"
   },
   {
    "duration": 14,
    "start_time": "2021-10-30T15:39:19.670Z"
   },
   {
    "duration": 163,
    "start_time": "2021-10-30T15:39:19.687Z"
   },
   {
    "duration": 19,
    "start_time": "2021-10-30T15:39:19.853Z"
   },
   {
    "duration": 9,
    "start_time": "2021-10-30T15:39:19.875Z"
   },
   {
    "duration": 48,
    "start_time": "2021-10-30T15:39:19.887Z"
   },
   {
    "duration": 55,
    "start_time": "2021-10-30T15:39:19.940Z"
   },
   {
    "duration": 107,
    "start_time": "2021-10-30T15:39:19.999Z"
   },
   {
    "duration": 122,
    "start_time": "2021-10-30T15:39:20.122Z"
   },
   {
    "duration": 41,
    "start_time": "2021-10-30T15:39:20.246Z"
   },
   {
    "duration": 6,
    "start_time": "2021-10-30T15:39:20.290Z"
   },
   {
    "duration": 32,
    "start_time": "2021-10-30T15:39:20.322Z"
   },
   {
    "duration": 16,
    "start_time": "2021-10-30T15:39:20.356Z"
   },
   {
    "duration": 626,
    "start_time": "2021-10-30T15:39:20.374Z"
   },
   {
    "duration": 45,
    "start_time": "2021-10-30T15:39:21.002Z"
   },
   {
    "duration": 229,
    "start_time": "2021-10-30T15:39:21.050Z"
   },
   {
    "duration": 8,
    "start_time": "2021-10-30T15:39:21.282Z"
   },
   {
    "duration": 61,
    "start_time": "2021-10-30T15:39:21.293Z"
   },
   {
    "duration": 10,
    "start_time": "2021-10-30T15:39:21.357Z"
   },
   {
    "duration": 585,
    "start_time": "2021-10-30T15:39:21.370Z"
   },
   {
    "duration": 31,
    "start_time": "2021-10-30T15:39:21.958Z"
   },
   {
    "duration": 32,
    "start_time": "2021-10-30T15:39:21.996Z"
   },
   {
    "duration": 819,
    "start_time": "2021-10-30T15:39:22.031Z"
   },
   {
    "duration": 1743,
    "start_time": "2021-10-30T15:39:22.853Z"
   },
   {
    "duration": 80,
    "start_time": "2021-10-30T15:39:24.599Z"
   },
   {
    "duration": 24,
    "start_time": "2021-10-30T15:39:24.681Z"
   },
   {
    "duration": 17,
    "start_time": "2021-10-30T15:39:24.722Z"
   },
   {
    "duration": 57,
    "start_time": "2021-10-30T15:39:24.741Z"
   },
   {
    "duration": 25,
    "start_time": "2021-10-30T15:39:24.801Z"
   },
   {
    "duration": 26,
    "start_time": "2021-10-30T15:39:24.829Z"
   },
   {
    "duration": 103,
    "start_time": "2021-10-30T15:39:24.857Z"
   },
   {
    "duration": 1954,
    "start_time": "2021-10-30T15:39:24.962Z"
   },
   {
    "duration": 1939,
    "start_time": "2021-10-30T15:39:26.922Z"
   },
   {
    "duration": 1726,
    "start_time": "2021-10-30T15:39:28.864Z"
   },
   {
    "duration": 1926,
    "start_time": "2021-10-30T15:39:30.593Z"
   },
   {
    "duration": 4,
    "start_time": "2021-10-30T15:39:32.523Z"
   },
   {
    "duration": 130,
    "start_time": "2021-10-30T15:39:32.531Z"
   },
   {
    "duration": 6,
    "start_time": "2021-10-30T15:39:32.664Z"
   },
   {
    "duration": 365,
    "start_time": "2021-10-30T15:39:32.673Z"
   },
   {
    "duration": 138,
    "start_time": "2021-10-30T15:39:33.042Z"
   },
   {
    "duration": 344,
    "start_time": "2021-10-30T15:39:33.183Z"
   },
   {
    "duration": 216,
    "start_time": "2021-10-30T15:39:33.530Z"
   },
   {
    "duration": 8,
    "start_time": "2021-10-30T15:39:33.749Z"
   },
   {
    "duration": 38,
    "start_time": "2021-10-30T15:39:33.759Z"
   },
   {
    "duration": 8,
    "start_time": "2021-10-30T15:40:59.595Z"
   },
   {
    "duration": 31,
    "start_time": "2021-10-30T15:40:59.962Z"
   },
   {
    "duration": 209,
    "start_time": "2021-10-30T16:10:39.518Z"
   },
   {
    "duration": 221,
    "start_time": "2021-10-30T16:11:44.961Z"
   },
   {
    "duration": 10439,
    "start_time": "2021-10-30T16:47:37.263Z"
   },
   {
    "duration": 1838,
    "start_time": "2021-10-30T16:49:38.974Z"
   },
   {
    "duration": 164,
    "start_time": "2021-10-30T16:49:40.815Z"
   },
   {
    "duration": 15,
    "start_time": "2021-10-30T16:49:40.985Z"
   },
   {
    "duration": 195,
    "start_time": "2021-10-30T16:49:41.002Z"
   },
   {
    "duration": 28,
    "start_time": "2021-10-30T16:49:41.200Z"
   },
   {
    "duration": 9,
    "start_time": "2021-10-30T16:49:41.231Z"
   },
   {
    "duration": 18,
    "start_time": "2021-10-30T16:49:41.244Z"
   },
   {
    "duration": 81,
    "start_time": "2021-10-30T16:49:41.265Z"
   },
   {
    "duration": 97,
    "start_time": "2021-10-30T16:49:41.348Z"
   },
   {
    "duration": 119,
    "start_time": "2021-10-30T16:49:41.447Z"
   },
   {
    "duration": 53,
    "start_time": "2021-10-30T16:49:41.569Z"
   },
   {
    "duration": 8,
    "start_time": "2021-10-30T16:49:41.625Z"
   },
   {
    "duration": 34,
    "start_time": "2021-10-30T16:49:41.635Z"
   },
   {
    "duration": 10,
    "start_time": "2021-10-30T16:49:41.671Z"
   },
   {
    "duration": 621,
    "start_time": "2021-10-30T16:49:41.683Z"
   },
   {
    "duration": 47,
    "start_time": "2021-10-30T16:49:42.306Z"
   },
   {
    "duration": 217,
    "start_time": "2021-10-30T16:49:42.356Z"
   },
   {
    "duration": 8,
    "start_time": "2021-10-30T16:49:42.575Z"
   },
   {
    "duration": 56,
    "start_time": "2021-10-30T16:49:42.586Z"
   },
   {
    "duration": 8,
    "start_time": "2021-10-30T16:49:42.644Z"
   },
   {
    "duration": 668,
    "start_time": "2021-10-30T16:49:42.654Z"
   },
   {
    "duration": 30,
    "start_time": "2021-10-30T16:49:43.327Z"
   },
   {
    "duration": 6,
    "start_time": "2021-10-30T16:49:43.361Z"
   },
   {
    "duration": 853,
    "start_time": "2021-10-30T16:49:43.369Z"
   },
   {
    "duration": 1698,
    "start_time": "2021-10-30T16:49:44.225Z"
   },
   {
    "duration": 67,
    "start_time": "2021-10-30T16:49:45.925Z"
   },
   {
    "duration": 51,
    "start_time": "2021-10-30T16:49:45.995Z"
   },
   {
    "duration": 21,
    "start_time": "2021-10-30T16:49:46.049Z"
   },
   {
    "duration": 99,
    "start_time": "2021-10-30T16:49:46.072Z"
   },
   {
    "duration": 7,
    "start_time": "2021-10-30T16:49:46.174Z"
   },
   {
    "duration": 48,
    "start_time": "2021-10-30T16:49:46.184Z"
   },
   {
    "duration": 69,
    "start_time": "2021-10-30T16:49:46.234Z"
   },
   {
    "duration": 1844,
    "start_time": "2021-10-30T16:49:46.306Z"
   },
   {
    "duration": 1650,
    "start_time": "2021-10-30T16:49:48.153Z"
   },
   {
    "duration": 1546,
    "start_time": "2021-10-30T16:49:49.806Z"
   },
   {
    "duration": 1826,
    "start_time": "2021-10-30T16:49:51.355Z"
   },
   {
    "duration": 4,
    "start_time": "2021-10-30T16:49:53.184Z"
   },
   {
    "duration": 124,
    "start_time": "2021-10-30T16:49:53.191Z"
   },
   {
    "duration": 4,
    "start_time": "2021-10-30T16:49:53.323Z"
   },
   {
    "duration": 219,
    "start_time": "2021-10-30T16:49:53.330Z"
   },
   {
    "duration": 89,
    "start_time": "2021-10-30T16:49:53.552Z"
   },
   {
    "duration": 216,
    "start_time": "2021-10-30T16:49:53.643Z"
   },
   {
    "duration": 209,
    "start_time": "2021-10-30T16:49:53.862Z"
   },
   {
    "duration": 8,
    "start_time": "2021-10-30T16:49:54.074Z"
   },
   {
    "duration": 56,
    "start_time": "2021-10-30T16:49:54.084Z"
   },
   {
    "duration": 223,
    "start_time": "2021-10-30T16:49:54.143Z"
   },
   {
    "duration": 8685,
    "start_time": "2021-10-30T16:49:54.368Z"
   },
   {
    "duration": 35,
    "start_time": "2021-10-30T16:50:23.510Z"
   },
   {
    "duration": 34,
    "start_time": "2021-10-30T16:50:35.331Z"
   },
   {
    "duration": 38,
    "start_time": "2021-10-30T16:50:42.362Z"
   },
   {
    "duration": 8440,
    "start_time": "2021-10-30T16:50:59.427Z"
   },
   {
    "duration": 244,
    "start_time": "2021-10-30T16:51:58.583Z"
   },
   {
    "duration": 334,
    "start_time": "2021-10-30T16:53:08.196Z"
   },
   {
    "duration": 2105,
    "start_time": "2021-10-30T17:06:18.001Z"
   },
   {
    "duration": 268,
    "start_time": "2021-10-30T17:06:20.109Z"
   },
   {
    "duration": 22,
    "start_time": "2021-10-30T17:06:20.381Z"
   },
   {
    "duration": 263,
    "start_time": "2021-10-30T17:06:20.406Z"
   },
   {
    "duration": 20,
    "start_time": "2021-10-30T17:06:20.672Z"
   },
   {
    "duration": 30,
    "start_time": "2021-10-30T17:06:20.695Z"
   },
   {
    "duration": 20,
    "start_time": "2021-10-30T17:06:20.727Z"
   },
   {
    "duration": 78,
    "start_time": "2021-10-30T17:06:20.757Z"
   },
   {
    "duration": 119,
    "start_time": "2021-10-30T17:06:20.839Z"
   },
   {
    "duration": 204,
    "start_time": "2021-10-30T17:06:20.960Z"
   },
   {
    "duration": 57,
    "start_time": "2021-10-30T17:06:21.167Z"
   },
   {
    "duration": 7,
    "start_time": "2021-10-30T17:06:21.227Z"
   },
   {
    "duration": 33,
    "start_time": "2021-10-30T17:06:21.237Z"
   },
   {
    "duration": 10,
    "start_time": "2021-10-30T17:06:21.272Z"
   },
   {
    "duration": 617,
    "start_time": "2021-10-30T17:06:21.324Z"
   },
   {
    "duration": 42,
    "start_time": "2021-10-30T17:06:21.943Z"
   },
   {
    "duration": 242,
    "start_time": "2021-10-30T17:06:21.989Z"
   },
   {
    "duration": 8,
    "start_time": "2021-10-30T17:06:22.234Z"
   },
   {
    "duration": 54,
    "start_time": "2021-10-30T17:06:22.246Z"
   },
   {
    "duration": 11,
    "start_time": "2021-10-30T17:06:22.323Z"
   },
   {
    "duration": 596,
    "start_time": "2021-10-30T17:06:22.337Z"
   },
   {
    "duration": 30,
    "start_time": "2021-10-30T17:06:22.936Z"
   },
   {
    "duration": 6,
    "start_time": "2021-10-30T17:06:22.971Z"
   },
   {
    "duration": 1290,
    "start_time": "2021-10-30T17:06:22.982Z"
   },
   {
    "duration": 2262,
    "start_time": "2021-10-30T17:06:24.275Z"
   },
   {
    "duration": 89,
    "start_time": "2021-10-30T17:06:26.540Z"
   },
   {
    "duration": 26,
    "start_time": "2021-10-30T17:06:26.632Z"
   },
   {
    "duration": 24,
    "start_time": "2021-10-30T17:06:26.661Z"
   },
   {
    "duration": 93,
    "start_time": "2021-10-30T17:06:26.688Z"
   },
   {
    "duration": 6,
    "start_time": "2021-10-30T17:06:26.783Z"
   },
   {
    "duration": 52,
    "start_time": "2021-10-30T17:06:26.792Z"
   },
   {
    "duration": 85,
    "start_time": "2021-10-30T17:06:26.847Z"
   },
   {
    "duration": 1877,
    "start_time": "2021-10-30T17:06:26.935Z"
   },
   {
    "duration": 1708,
    "start_time": "2021-10-30T17:06:28.814Z"
   },
   {
    "duration": 1563,
    "start_time": "2021-10-30T17:06:30.525Z"
   },
   {
    "duration": 1892,
    "start_time": "2021-10-30T17:06:32.091Z"
   },
   {
    "duration": 6,
    "start_time": "2021-10-30T17:06:33.985Z"
   },
   {
    "duration": 135,
    "start_time": "2021-10-30T17:06:33.993Z"
   },
   {
    "duration": 4,
    "start_time": "2021-10-30T17:06:34.131Z"
   },
   {
    "duration": 212,
    "start_time": "2021-10-30T17:06:34.138Z"
   },
   {
    "duration": 94,
    "start_time": "2021-10-30T17:06:34.353Z"
   },
   {
    "duration": 216,
    "start_time": "2021-10-30T17:06:34.449Z"
   },
   {
    "duration": 216,
    "start_time": "2021-10-30T17:06:34.667Z"
   },
   {
    "duration": 8,
    "start_time": "2021-10-30T17:06:34.885Z"
   },
   {
    "duration": 48,
    "start_time": "2021-10-30T17:06:34.896Z"
   },
   {
    "duration": 232,
    "start_time": "2021-10-30T17:06:34.946Z"
   },
   {
    "duration": 216,
    "start_time": "2021-10-30T17:06:35.180Z"
   },
   {
    "duration": 357,
    "start_time": "2021-10-30T17:06:35.398Z"
   },
   {
    "duration": 117,
    "start_time": "2021-10-30T17:07:46.359Z"
   },
   {
    "duration": 116,
    "start_time": "2021-10-30T17:08:41.944Z"
   },
   {
    "duration": 123,
    "start_time": "2021-10-30T17:22:52.163Z"
   },
   {
    "duration": 122,
    "start_time": "2021-10-30T17:23:05.248Z"
   },
   {
    "duration": 121,
    "start_time": "2021-10-30T17:23:11.741Z"
   },
   {
    "duration": 120,
    "start_time": "2021-10-30T17:23:19.656Z"
   },
   {
    "duration": 168,
    "start_time": "2021-10-30T17:23:27.779Z"
   },
   {
    "duration": 122,
    "start_time": "2021-10-30T17:23:40.768Z"
   },
   {
    "duration": 199,
    "start_time": "2021-10-30T17:33:39.578Z"
   },
   {
    "duration": 608,
    "start_time": "2021-10-30T17:59:35.661Z"
   },
   {
    "duration": 9973,
    "start_time": "2021-10-30T18:00:41.288Z"
   },
   {
    "duration": 1990,
    "start_time": "2021-10-30T18:01:01.298Z"
   },
   {
    "duration": 183,
    "start_time": "2021-10-30T18:01:03.291Z"
   },
   {
    "duration": 14,
    "start_time": "2021-10-30T18:01:03.477Z"
   },
   {
    "duration": 172,
    "start_time": "2021-10-30T18:01:03.494Z"
   },
   {
    "duration": 21,
    "start_time": "2021-10-30T18:01:03.668Z"
   },
   {
    "duration": 9,
    "start_time": "2021-10-30T18:01:03.692Z"
   },
   {
    "duration": 27,
    "start_time": "2021-10-30T18:01:03.723Z"
   },
   {
    "duration": 71,
    "start_time": "2021-10-30T18:01:03.753Z"
   },
   {
    "duration": 98,
    "start_time": "2021-10-30T18:01:03.831Z"
   },
   {
    "duration": 134,
    "start_time": "2021-10-30T18:01:03.932Z"
   },
   {
    "duration": 57,
    "start_time": "2021-10-30T18:01:04.068Z"
   },
   {
    "duration": 14,
    "start_time": "2021-10-30T18:01:04.128Z"
   },
   {
    "duration": 34,
    "start_time": "2021-10-30T18:01:04.145Z"
   },
   {
    "duration": 42,
    "start_time": "2021-10-30T18:01:04.181Z"
   },
   {
    "duration": 639,
    "start_time": "2021-10-30T18:01:04.225Z"
   },
   {
    "duration": 55,
    "start_time": "2021-10-30T18:01:04.867Z"
   },
   {
    "duration": 248,
    "start_time": "2021-10-30T18:01:04.924Z"
   },
   {
    "duration": 9,
    "start_time": "2021-10-30T18:01:05.174Z"
   },
   {
    "duration": 65,
    "start_time": "2021-10-30T18:01:05.186Z"
   },
   {
    "duration": 8,
    "start_time": "2021-10-30T18:01:05.253Z"
   },
   {
    "duration": 612,
    "start_time": "2021-10-30T18:01:05.264Z"
   },
   {
    "duration": 28,
    "start_time": "2021-10-30T18:01:05.878Z"
   },
   {
    "duration": 16,
    "start_time": "2021-10-30T18:01:05.911Z"
   },
   {
    "duration": 1272,
    "start_time": "2021-10-30T18:01:05.933Z"
   },
   {
    "duration": 1746,
    "start_time": "2021-10-30T18:01:07.223Z"
   },
   {
    "duration": 87,
    "start_time": "2021-10-30T18:01:08.972Z"
   },
   {
    "duration": 24,
    "start_time": "2021-10-30T18:01:09.062Z"
   },
   {
    "duration": 39,
    "start_time": "2021-10-30T18:01:09.089Z"
   },
   {
    "duration": 68,
    "start_time": "2021-10-30T18:01:09.131Z"
   },
   {
    "duration": 23,
    "start_time": "2021-10-30T18:01:09.201Z"
   },
   {
    "duration": 32,
    "start_time": "2021-10-30T18:01:09.228Z"
   },
   {
    "duration": 104,
    "start_time": "2021-10-30T18:01:09.262Z"
   },
   {
    "duration": 1937,
    "start_time": "2021-10-30T18:01:09.368Z"
   },
   {
    "duration": 1704,
    "start_time": "2021-10-30T18:01:11.308Z"
   },
   {
    "duration": 1759,
    "start_time": "2021-10-30T18:01:13.014Z"
   },
   {
    "duration": 1908,
    "start_time": "2021-10-30T18:01:14.775Z"
   },
   {
    "duration": 4,
    "start_time": "2021-10-30T18:01:16.686Z"
   },
   {
    "duration": 140,
    "start_time": "2021-10-30T18:01:16.693Z"
   },
   {
    "duration": 5,
    "start_time": "2021-10-30T18:01:16.836Z"
   },
   {
    "duration": 229,
    "start_time": "2021-10-30T18:01:16.844Z"
   },
   {
    "duration": 228,
    "start_time": "2021-10-30T18:01:17.076Z"
   },
   {
    "duration": 232,
    "start_time": "2021-10-30T18:01:17.306Z"
   },
   {
    "duration": 10,
    "start_time": "2021-10-30T18:01:17.541Z"
   },
   {
    "duration": 37,
    "start_time": "2021-10-30T18:01:17.554Z"
   },
   {
    "duration": 278,
    "start_time": "2021-10-30T18:01:17.594Z"
   },
   {
    "duration": 140,
    "start_time": "2021-10-30T18:01:17.875Z"
   },
   {
    "duration": 237,
    "start_time": "2021-10-30T18:01:18.024Z"
   },
   {
    "duration": 362,
    "start_time": "2021-10-30T18:01:18.264Z"
   },
   {
    "duration": 2070,
    "start_time": "2021-10-30T18:05:16.813Z"
   },
   {
    "duration": 177,
    "start_time": "2021-10-30T18:05:18.885Z"
   },
   {
    "duration": 15,
    "start_time": "2021-10-30T18:05:19.064Z"
   },
   {
    "duration": 166,
    "start_time": "2021-10-30T18:05:19.082Z"
   },
   {
    "duration": 20,
    "start_time": "2021-10-30T18:05:19.251Z"
   },
   {
    "duration": 9,
    "start_time": "2021-10-30T18:05:19.274Z"
   },
   {
    "duration": 43,
    "start_time": "2021-10-30T18:05:19.286Z"
   },
   {
    "duration": 52,
    "start_time": "2021-10-30T18:05:19.336Z"
   },
   {
    "duration": 105,
    "start_time": "2021-10-30T18:05:19.391Z"
   },
   {
    "duration": 149,
    "start_time": "2021-10-30T18:05:19.499Z"
   },
   {
    "duration": 44,
    "start_time": "2021-10-30T18:05:19.650Z"
   },
   {
    "duration": 7,
    "start_time": "2021-10-30T18:05:19.696Z"
   },
   {
    "duration": 40,
    "start_time": "2021-10-30T18:05:19.724Z"
   },
   {
    "duration": 18,
    "start_time": "2021-10-30T18:05:19.767Z"
   },
   {
    "duration": 648,
    "start_time": "2021-10-30T18:05:19.787Z"
   },
   {
    "duration": 41,
    "start_time": "2021-10-30T18:05:20.438Z"
   },
   {
    "duration": 253,
    "start_time": "2021-10-30T18:05:20.482Z"
   },
   {
    "duration": 10,
    "start_time": "2021-10-30T18:05:20.737Z"
   },
   {
    "duration": 43,
    "start_time": "2021-10-30T18:05:20.749Z"
   },
   {
    "duration": 33,
    "start_time": "2021-10-30T18:05:20.795Z"
   },
   {
    "duration": 626,
    "start_time": "2021-10-30T18:05:20.832Z"
   },
   {
    "duration": 27,
    "start_time": "2021-10-30T18:05:21.461Z"
   },
   {
    "duration": 24,
    "start_time": "2021-10-30T18:05:21.493Z"
   },
   {
    "duration": 878,
    "start_time": "2021-10-30T18:05:21.520Z"
   },
   {
    "duration": 1892,
    "start_time": "2021-10-30T18:05:22.401Z"
   },
   {
    "duration": 89,
    "start_time": "2021-10-30T18:05:24.296Z"
   },
   {
    "duration": 37,
    "start_time": "2021-10-30T18:05:24.387Z"
   },
   {
    "duration": 23,
    "start_time": "2021-10-30T18:05:24.428Z"
   },
   {
    "duration": 92,
    "start_time": "2021-10-30T18:05:24.453Z"
   },
   {
    "duration": 6,
    "start_time": "2021-10-30T18:05:24.547Z"
   },
   {
    "duration": 34,
    "start_time": "2021-10-30T18:05:24.555Z"
   },
   {
    "duration": 92,
    "start_time": "2021-10-30T18:05:24.591Z"
   },
   {
    "duration": 1869,
    "start_time": "2021-10-30T18:05:24.686Z"
   },
   {
    "duration": 1665,
    "start_time": "2021-10-30T18:05:26.558Z"
   },
   {
    "duration": 1821,
    "start_time": "2021-10-30T18:05:28.229Z"
   },
   {
    "duration": 1893,
    "start_time": "2021-10-30T18:05:30.053Z"
   },
   {
    "duration": 5,
    "start_time": "2021-10-30T18:05:31.948Z"
   },
   {
    "duration": 139,
    "start_time": "2021-10-30T18:05:31.955Z"
   },
   {
    "duration": 4,
    "start_time": "2021-10-30T18:05:32.097Z"
   },
   {
    "duration": 250,
    "start_time": "2021-10-30T18:05:32.104Z"
   },
   {
    "duration": 214,
    "start_time": "2021-10-30T18:05:32.357Z"
   },
   {
    "duration": 242,
    "start_time": "2021-10-30T18:05:32.574Z"
   },
   {
    "duration": 13,
    "start_time": "2021-10-30T18:05:32.823Z"
   },
   {
    "duration": 46,
    "start_time": "2021-10-30T18:05:32.840Z"
   },
   {
    "duration": 275,
    "start_time": "2021-10-30T18:05:32.889Z"
   },
   {
    "duration": 158,
    "start_time": "2021-10-30T18:05:33.168Z"
   },
   {
    "duration": 229,
    "start_time": "2021-10-30T18:05:33.329Z"
   },
   {
    "duration": 377,
    "start_time": "2021-10-30T18:05:33.561Z"
   },
   {
    "duration": 1904,
    "start_time": "2021-10-30T18:05:48.272Z"
   },
   {
    "duration": 181,
    "start_time": "2021-10-30T18:05:50.178Z"
   },
   {
    "duration": 14,
    "start_time": "2021-10-30T18:05:50.362Z"
   },
   {
    "duration": 167,
    "start_time": "2021-10-30T18:05:50.379Z"
   },
   {
    "duration": 21,
    "start_time": "2021-10-30T18:05:50.548Z"
   },
   {
    "duration": 12,
    "start_time": "2021-10-30T18:05:50.571Z"
   },
   {
    "duration": 40,
    "start_time": "2021-10-30T18:05:50.585Z"
   },
   {
    "duration": 57,
    "start_time": "2021-10-30T18:05:50.629Z"
   },
   {
    "duration": 106,
    "start_time": "2021-10-30T18:05:50.689Z"
   },
   {
    "duration": 141,
    "start_time": "2021-10-30T18:05:50.798Z"
   },
   {
    "duration": 42,
    "start_time": "2021-10-30T18:05:50.942Z"
   },
   {
    "duration": 7,
    "start_time": "2021-10-30T18:05:50.986Z"
   },
   {
    "duration": 75,
    "start_time": "2021-10-30T18:05:50.995Z"
   },
   {
    "duration": 9,
    "start_time": "2021-10-30T18:05:51.073Z"
   },
   {
    "duration": 647,
    "start_time": "2021-10-30T18:05:51.084Z"
   },
   {
    "duration": 40,
    "start_time": "2021-10-30T18:05:51.734Z"
   },
   {
    "duration": 259,
    "start_time": "2021-10-30T18:05:51.776Z"
   },
   {
    "duration": 8,
    "start_time": "2021-10-30T18:05:52.038Z"
   },
   {
    "duration": 43,
    "start_time": "2021-10-30T18:05:52.048Z"
   },
   {
    "duration": 8,
    "start_time": "2021-10-30T18:05:52.093Z"
   },
   {
    "duration": 637,
    "start_time": "2021-10-30T18:05:52.103Z"
   },
   {
    "duration": 32,
    "start_time": "2021-10-30T18:05:52.743Z"
   },
   {
    "duration": 9,
    "start_time": "2021-10-30T18:05:52.782Z"
   },
   {
    "duration": 1306,
    "start_time": "2021-10-30T18:05:52.795Z"
   },
   {
    "duration": 1713,
    "start_time": "2021-10-30T18:05:54.103Z"
   },
   {
    "duration": 72,
    "start_time": "2021-10-30T18:05:55.822Z"
   },
   {
    "duration": 47,
    "start_time": "2021-10-30T18:05:55.897Z"
   },
   {
    "duration": 18,
    "start_time": "2021-10-30T18:05:55.947Z"
   },
   {
    "duration": 101,
    "start_time": "2021-10-30T18:05:55.967Z"
   },
   {
    "duration": 5,
    "start_time": "2021-10-30T18:05:56.071Z"
   },
   {
    "duration": 45,
    "start_time": "2021-10-30T18:05:56.078Z"
   },
   {
    "duration": 74,
    "start_time": "2021-10-30T18:05:56.127Z"
   },
   {
    "duration": 2097,
    "start_time": "2021-10-30T18:05:56.203Z"
   },
   {
    "duration": 1755,
    "start_time": "2021-10-30T18:05:58.303Z"
   },
   {
    "duration": 1648,
    "start_time": "2021-10-30T18:06:00.061Z"
   },
   {
    "duration": 1860,
    "start_time": "2021-10-30T18:06:01.711Z"
   },
   {
    "duration": 5,
    "start_time": "2021-10-30T18:06:03.573Z"
   },
   {
    "duration": 158,
    "start_time": "2021-10-30T18:06:03.581Z"
   },
   {
    "duration": 4,
    "start_time": "2021-10-30T18:06:03.742Z"
   },
   {
    "duration": 247,
    "start_time": "2021-10-30T18:06:03.749Z"
   },
   {
    "duration": 239,
    "start_time": "2021-10-30T18:06:03.998Z"
   },
   {
    "duration": 241,
    "start_time": "2021-10-30T18:06:04.241Z"
   },
   {
    "duration": 8,
    "start_time": "2021-10-30T18:06:04.485Z"
   },
   {
    "duration": 68,
    "start_time": "2021-10-30T18:06:04.495Z"
   },
   {
    "duration": 226,
    "start_time": "2021-10-30T18:06:04.565Z"
   },
   {
    "duration": 154,
    "start_time": "2021-10-30T18:06:04.794Z"
   },
   {
    "duration": 227,
    "start_time": "2021-10-30T18:06:04.951Z"
   },
   {
    "duration": 384,
    "start_time": "2021-10-30T18:06:05.182Z"
   },
   {
    "duration": 1969,
    "start_time": "2021-10-30T18:06:27.379Z"
   },
   {
    "duration": 173,
    "start_time": "2021-10-30T18:06:29.350Z"
   },
   {
    "duration": 19,
    "start_time": "2021-10-30T18:06:29.527Z"
   },
   {
    "duration": 172,
    "start_time": "2021-10-30T18:06:29.549Z"
   },
   {
    "duration": 27,
    "start_time": "2021-10-30T18:06:29.725Z"
   },
   {
    "duration": 8,
    "start_time": "2021-10-30T18:06:29.755Z"
   },
   {
    "duration": 21,
    "start_time": "2021-10-30T18:06:29.766Z"
   },
   {
    "duration": 88,
    "start_time": "2021-10-30T18:06:29.790Z"
   },
   {
    "duration": 110,
    "start_time": "2021-10-30T18:06:29.881Z"
   },
   {
    "duration": 149,
    "start_time": "2021-10-30T18:06:29.994Z"
   },
   {
    "duration": 44,
    "start_time": "2021-10-30T18:06:30.146Z"
   },
   {
    "duration": 7,
    "start_time": "2021-10-30T18:06:30.192Z"
   },
   {
    "duration": 59,
    "start_time": "2021-10-30T18:06:30.201Z"
   },
   {
    "duration": 10,
    "start_time": "2021-10-30T18:06:30.262Z"
   },
   {
    "duration": 648,
    "start_time": "2021-10-30T18:06:30.274Z"
   },
   {
    "duration": 45,
    "start_time": "2021-10-30T18:06:30.926Z"
   },
   {
    "duration": 243,
    "start_time": "2021-10-30T18:06:30.973Z"
   },
   {
    "duration": 8,
    "start_time": "2021-10-30T18:06:31.222Z"
   },
   {
    "duration": 51,
    "start_time": "2021-10-30T18:06:31.232Z"
   },
   {
    "duration": 7,
    "start_time": "2021-10-30T18:06:31.286Z"
   },
   {
    "duration": 650,
    "start_time": "2021-10-30T18:06:31.296Z"
   },
   {
    "duration": 26,
    "start_time": "2021-10-30T18:06:31.949Z"
   },
   {
    "duration": 10,
    "start_time": "2021-10-30T18:06:31.980Z"
   },
   {
    "duration": 934,
    "start_time": "2021-10-30T18:06:31.992Z"
   },
   {
    "duration": 1874,
    "start_time": "2021-10-30T18:06:32.929Z"
   },
   {
    "duration": 82,
    "start_time": "2021-10-30T18:06:34.806Z"
   },
   {
    "duration": 46,
    "start_time": "2021-10-30T18:06:34.891Z"
   },
   {
    "duration": 21,
    "start_time": "2021-10-30T18:06:34.940Z"
   },
   {
    "duration": 90,
    "start_time": "2021-10-30T18:06:34.964Z"
   },
   {
    "duration": 5,
    "start_time": "2021-10-30T18:06:35.057Z"
   },
   {
    "duration": 32,
    "start_time": "2021-10-30T18:06:35.064Z"
   },
   {
    "duration": 86,
    "start_time": "2021-10-30T18:06:35.099Z"
   },
   {
    "duration": 1886,
    "start_time": "2021-10-30T18:06:35.187Z"
   },
   {
    "duration": 1722,
    "start_time": "2021-10-30T18:06:37.075Z"
   },
   {
    "duration": 1675,
    "start_time": "2021-10-30T18:06:38.799Z"
   },
   {
    "duration": 2053,
    "start_time": "2021-10-30T18:06:40.476Z"
   },
   {
    "duration": 6,
    "start_time": "2021-10-30T18:06:42.533Z"
   },
   {
    "duration": 152,
    "start_time": "2021-10-30T18:06:42.543Z"
   },
   {
    "duration": 5,
    "start_time": "2021-10-30T18:06:42.697Z"
   },
   {
    "duration": 250,
    "start_time": "2021-10-30T18:06:42.704Z"
   },
   {
    "duration": 222,
    "start_time": "2021-10-30T18:06:42.956Z"
   },
   {
    "duration": 230,
    "start_time": "2021-10-30T18:06:43.180Z"
   },
   {
    "duration": 17,
    "start_time": "2021-10-30T18:06:43.413Z"
   },
   {
    "duration": 40,
    "start_time": "2021-10-30T18:06:43.433Z"
   },
   {
    "duration": 263,
    "start_time": "2021-10-30T18:06:43.476Z"
   },
   {
    "duration": 133,
    "start_time": "2021-10-30T18:06:43.742Z"
   },
   {
    "duration": 227,
    "start_time": "2021-10-30T18:06:43.877Z"
   },
   {
    "duration": 375,
    "start_time": "2021-10-30T18:06:44.107Z"
   },
   {
    "duration": 2094,
    "start_time": "2021-10-30T18:09:19.128Z"
   },
   {
    "duration": 2676,
    "start_time": "2021-10-30T18:09:29.314Z"
   },
   {
    "duration": 2074,
    "start_time": "2021-10-30T18:12:40.342Z"
   },
   {
    "duration": 181,
    "start_time": "2021-10-30T18:12:42.419Z"
   },
   {
    "duration": 23,
    "start_time": "2021-10-30T18:12:42.602Z"
   },
   {
    "duration": 174,
    "start_time": "2021-10-30T18:12:42.632Z"
   },
   {
    "duration": 34,
    "start_time": "2021-10-30T18:12:42.808Z"
   },
   {
    "duration": 11,
    "start_time": "2021-10-30T18:12:42.846Z"
   },
   {
    "duration": 23,
    "start_time": "2021-10-30T18:12:42.859Z"
   },
   {
    "duration": 97,
    "start_time": "2021-10-30T18:12:42.886Z"
   },
   {
    "duration": 118,
    "start_time": "2021-10-30T18:12:42.987Z"
   },
   {
    "duration": 141,
    "start_time": "2021-10-30T18:12:43.107Z"
   },
   {
    "duration": 46,
    "start_time": "2021-10-30T18:12:43.250Z"
   },
   {
    "duration": 13,
    "start_time": "2021-10-30T18:12:43.316Z"
   },
   {
    "duration": 38,
    "start_time": "2021-10-30T18:12:43.333Z"
   },
   {
    "duration": 48,
    "start_time": "2021-10-30T18:12:43.374Z"
   },
   {
    "duration": 651,
    "start_time": "2021-10-30T18:12:43.424Z"
   },
   {
    "duration": 61,
    "start_time": "2021-10-30T18:12:44.078Z"
   },
   {
    "duration": 261,
    "start_time": "2021-10-30T18:12:44.142Z"
   },
   {
    "duration": 16,
    "start_time": "2021-10-30T18:12:44.406Z"
   },
   {
    "duration": 46,
    "start_time": "2021-10-30T18:12:44.425Z"
   },
   {
    "duration": 9,
    "start_time": "2021-10-30T18:12:44.474Z"
   },
   {
    "duration": 668,
    "start_time": "2021-10-30T18:12:44.486Z"
   },
   {
    "duration": 29,
    "start_time": "2021-10-30T18:12:45.156Z"
   },
   {
    "duration": 33,
    "start_time": "2021-10-30T18:12:45.190Z"
   },
   {
    "duration": 903,
    "start_time": "2021-10-30T18:12:45.228Z"
   },
   {
    "duration": 2197,
    "start_time": "2021-10-30T18:12:46.134Z"
   },
   {
    "duration": 73,
    "start_time": "2021-10-30T18:12:48.335Z"
   },
   {
    "duration": 41,
    "start_time": "2021-10-30T18:12:48.410Z"
   },
   {
    "duration": 21,
    "start_time": "2021-10-30T18:12:48.455Z"
   },
   {
    "duration": 74,
    "start_time": "2021-10-30T18:12:48.478Z"
   },
   {
    "duration": 5,
    "start_time": "2021-10-30T18:12:48.554Z"
   },
   {
    "duration": 30,
    "start_time": "2021-10-30T18:12:48.561Z"
   },
   {
    "duration": 98,
    "start_time": "2021-10-30T18:12:48.594Z"
   },
   {
    "duration": 2150,
    "start_time": "2021-10-30T18:12:48.695Z"
   },
   {
    "duration": 1721,
    "start_time": "2021-10-30T18:12:50.847Z"
   },
   {
    "duration": 1746,
    "start_time": "2021-10-30T18:12:52.571Z"
   },
   {
    "duration": 2263,
    "start_time": "2021-10-30T18:12:54.323Z"
   },
   {
    "duration": 5,
    "start_time": "2021-10-30T18:12:56.588Z"
   },
   {
    "duration": 139,
    "start_time": "2021-10-30T18:12:56.596Z"
   },
   {
    "duration": 4,
    "start_time": "2021-10-30T18:12:56.740Z"
   },
   {
    "duration": 233,
    "start_time": "2021-10-30T18:12:56.747Z"
   },
   {
    "duration": 240,
    "start_time": "2021-10-30T18:12:56.982Z"
   },
   {
    "duration": 230,
    "start_time": "2021-10-30T18:12:57.225Z"
   },
   {
    "duration": 8,
    "start_time": "2021-10-30T18:12:57.458Z"
   },
   {
    "duration": 60,
    "start_time": "2021-10-30T18:12:57.469Z"
   },
   {
    "duration": 246,
    "start_time": "2021-10-30T18:12:57.533Z"
   },
   {
    "duration": 163,
    "start_time": "2021-10-30T18:12:57.781Z"
   },
   {
    "duration": 226,
    "start_time": "2021-10-30T18:12:57.946Z"
   },
   {
    "duration": 371,
    "start_time": "2021-10-30T18:12:58.174Z"
   },
   {
    "duration": 2048,
    "start_time": "2021-10-30T18:19:10.859Z"
   },
   {
    "duration": 182,
    "start_time": "2021-10-30T18:19:12.910Z"
   },
   {
    "duration": 16,
    "start_time": "2021-10-30T18:19:13.095Z"
   },
   {
    "duration": 174,
    "start_time": "2021-10-30T18:19:13.124Z"
   },
   {
    "duration": 27,
    "start_time": "2021-10-30T18:19:13.300Z"
   },
   {
    "duration": 13,
    "start_time": "2021-10-30T18:19:13.330Z"
   },
   {
    "duration": 20,
    "start_time": "2021-10-30T18:19:13.346Z"
   },
   {
    "duration": 94,
    "start_time": "2021-10-30T18:19:13.370Z"
   },
   {
    "duration": 112,
    "start_time": "2021-10-30T18:19:13.467Z"
   },
   {
    "duration": 179,
    "start_time": "2021-10-30T18:19:13.582Z"
   },
   {
    "duration": 69,
    "start_time": "2021-10-30T18:19:13.764Z"
   },
   {
    "duration": 9,
    "start_time": "2021-10-30T18:19:13.837Z"
   },
   {
    "duration": 61,
    "start_time": "2021-10-30T18:19:13.848Z"
   },
   {
    "duration": 17,
    "start_time": "2021-10-30T18:19:13.912Z"
   },
   {
    "duration": 654,
    "start_time": "2021-10-30T18:19:13.932Z"
   },
   {
    "duration": 57,
    "start_time": "2021-10-30T18:19:14.588Z"
   },
   {
    "duration": 243,
    "start_time": "2021-10-30T18:19:14.647Z"
   },
   {
    "duration": 7,
    "start_time": "2021-10-30T18:19:14.893Z"
   },
   {
    "duration": 59,
    "start_time": "2021-10-30T18:19:14.902Z"
   },
   {
    "duration": 8,
    "start_time": "2021-10-30T18:19:14.964Z"
   },
   {
    "duration": 634,
    "start_time": "2021-10-30T18:19:14.975Z"
   },
   {
    "duration": 42,
    "start_time": "2021-10-30T18:19:15.611Z"
   },
   {
    "duration": 12,
    "start_time": "2021-10-30T18:19:15.658Z"
   },
   {
    "duration": 902,
    "start_time": "2021-10-30T18:19:15.673Z"
   },
   {
    "duration": 158,
    "start_time": "2021-10-30T18:19:16.578Z"
   },
   {
    "duration": 26,
    "start_time": "2021-10-30T18:19:16.740Z"
   },
   {
    "duration": 26,
    "start_time": "2021-10-30T18:19:16.824Z"
   },
   {
    "duration": 122,
    "start_time": "2021-10-30T18:19:16.853Z"
   },
   {
    "duration": 5,
    "start_time": "2021-10-30T18:19:16.978Z"
   },
   {
    "duration": 53,
    "start_time": "2021-10-30T18:19:16.985Z"
   },
   {
    "duration": 84,
    "start_time": "2021-10-30T18:19:17.041Z"
   },
   {
    "duration": 1794,
    "start_time": "2021-10-30T18:19:17.129Z"
   },
   {
    "duration": 1914,
    "start_time": "2021-10-30T18:19:18.926Z"
   },
   {
    "duration": 1713,
    "start_time": "2021-10-30T18:19:20.842Z"
   },
   {
    "duration": 1736,
    "start_time": "2021-10-30T18:19:22.557Z"
   },
   {
    "duration": 5,
    "start_time": "2021-10-30T18:19:24.295Z"
   },
   {
    "duration": 131,
    "start_time": "2021-10-30T18:19:24.302Z"
   },
   {
    "duration": 4,
    "start_time": "2021-10-30T18:19:24.436Z"
   },
   {
    "duration": 433,
    "start_time": "2021-10-30T18:19:24.443Z"
   },
   {
    "duration": 226,
    "start_time": "2021-10-30T18:19:24.879Z"
   },
   {
    "duration": 245,
    "start_time": "2021-10-30T18:19:25.107Z"
   },
   {
    "duration": 8,
    "start_time": "2021-10-30T18:19:25.354Z"
   },
   {
    "duration": 36,
    "start_time": "2021-10-30T18:19:25.364Z"
   },
   {
    "duration": 249,
    "start_time": "2021-10-30T18:19:25.402Z"
   },
   {
    "duration": 146,
    "start_time": "2021-10-30T18:19:25.653Z"
   },
   {
    "duration": 354,
    "start_time": "2021-10-30T18:19:25.801Z"
   },
   {
    "duration": 217,
    "start_time": "2021-10-30T18:19:26.158Z"
   },
   {
    "duration": 32022,
    "start_time": "2021-10-31T11:25:37.874Z"
   },
   {
    "duration": 165,
    "start_time": "2021-10-31T11:26:09.898Z"
   },
   {
    "duration": 15,
    "start_time": "2021-10-31T11:26:10.066Z"
   },
   {
    "duration": 163,
    "start_time": "2021-10-31T11:26:10.084Z"
   },
   {
    "duration": 21,
    "start_time": "2021-10-31T11:26:10.250Z"
   },
   {
    "duration": 8,
    "start_time": "2021-10-31T11:26:10.274Z"
   },
   {
    "duration": 47,
    "start_time": "2021-10-31T11:26:10.285Z"
   },
   {
    "duration": 53,
    "start_time": "2021-10-31T11:26:10.336Z"
   },
   {
    "duration": 112,
    "start_time": "2021-10-31T11:26:10.392Z"
   },
   {
    "duration": 136,
    "start_time": "2021-10-31T11:26:10.507Z"
   },
   {
    "duration": 43,
    "start_time": "2021-10-31T11:26:10.646Z"
   },
   {
    "duration": 32,
    "start_time": "2021-10-31T11:26:10.691Z"
   },
   {
    "duration": 33,
    "start_time": "2021-10-31T11:26:10.725Z"
   },
   {
    "duration": 9,
    "start_time": "2021-10-31T11:26:10.760Z"
   },
   {
    "duration": 659,
    "start_time": "2021-10-31T11:26:10.771Z"
   },
   {
    "duration": 40,
    "start_time": "2021-10-31T11:26:11.433Z"
   },
   {
    "duration": 231,
    "start_time": "2021-10-31T11:26:11.476Z"
   },
   {
    "duration": 13,
    "start_time": "2021-10-31T11:26:11.711Z"
   },
   {
    "duration": 39,
    "start_time": "2021-10-31T11:26:11.727Z"
   },
   {
    "duration": 8,
    "start_time": "2021-10-31T11:26:11.768Z"
   },
   {
    "duration": 613,
    "start_time": "2021-10-31T11:26:11.778Z"
   },
   {
    "duration": 33,
    "start_time": "2021-10-31T11:26:12.394Z"
   },
   {
    "duration": 12,
    "start_time": "2021-10-31T11:26:12.434Z"
   },
   {
    "duration": 948,
    "start_time": "2021-10-31T11:26:12.450Z"
   },
   {
    "duration": 165,
    "start_time": "2021-10-31T11:26:13.401Z"
   },
   {
    "duration": 33,
    "start_time": "2021-10-31T11:26:13.624Z"
   },
   {
    "duration": 68,
    "start_time": "2021-10-31T11:26:13.660Z"
   },
   {
    "duration": 112,
    "start_time": "2021-10-31T11:26:13.731Z"
   },
   {
    "duration": 5,
    "start_time": "2021-10-31T11:26:13.846Z"
   },
   {
    "duration": 26,
    "start_time": "2021-10-31T11:26:13.853Z"
   },
   {
    "duration": 99,
    "start_time": "2021-10-31T11:26:13.881Z"
   },
   {
    "duration": 1670,
    "start_time": "2021-10-31T11:26:13.982Z"
   },
   {
    "duration": 1796,
    "start_time": "2021-10-31T11:26:15.655Z"
   },
   {
    "duration": 1620,
    "start_time": "2021-10-31T11:26:17.454Z"
   },
   {
    "duration": 1653,
    "start_time": "2021-10-31T11:26:19.077Z"
   },
   {
    "duration": 4,
    "start_time": "2021-10-31T11:26:20.733Z"
   },
   {
    "duration": 134,
    "start_time": "2021-10-31T11:26:20.740Z"
   },
   {
    "duration": 6,
    "start_time": "2021-10-31T11:26:20.877Z"
   },
   {
    "duration": 483,
    "start_time": "2021-10-31T11:26:20.886Z"
   },
   {
    "duration": 210,
    "start_time": "2021-10-31T11:26:21.371Z"
   },
   {
    "duration": 200,
    "start_time": "2021-10-31T11:26:21.584Z"
   },
   {
    "duration": 9,
    "start_time": "2021-10-31T11:26:21.787Z"
   },
   {
    "duration": 51,
    "start_time": "2021-10-31T11:26:21.798Z"
   },
   {
    "duration": 215,
    "start_time": "2021-10-31T11:26:21.852Z"
   },
   {
    "duration": 133,
    "start_time": "2021-10-31T11:26:22.070Z"
   },
   {
    "duration": 209,
    "start_time": "2021-10-31T11:26:22.206Z"
   },
   {
    "duration": 204,
    "start_time": "2021-10-31T11:26:22.421Z"
   },
   {
    "duration": 34,
    "start_time": "2021-10-31T12:02:13.667Z"
   },
   {
    "duration": 534,
    "start_time": "2021-10-31T12:02:46.284Z"
   },
   {
    "duration": 30,
    "start_time": "2021-10-31T12:02:50.735Z"
   },
   {
    "duration": 31,
    "start_time": "2021-10-31T12:03:05.060Z"
   },
   {
    "duration": 572,
    "start_time": "2021-10-31T12:05:05.730Z"
   },
   {
    "duration": 34,
    "start_time": "2021-10-31T12:05:41.306Z"
   },
   {
    "duration": 32,
    "start_time": "2021-10-31T12:05:49.287Z"
   },
   {
    "duration": 2058,
    "start_time": "2021-10-31T17:25:56.943Z"
   },
   {
    "duration": 168,
    "start_time": "2021-10-31T17:25:59.004Z"
   },
   {
    "duration": 14,
    "start_time": "2021-10-31T17:25:59.175Z"
   },
   {
    "duration": 175,
    "start_time": "2021-10-31T17:25:59.192Z"
   },
   {
    "duration": 20,
    "start_time": "2021-10-31T17:25:59.369Z"
   },
   {
    "duration": 9,
    "start_time": "2021-10-31T17:25:59.400Z"
   },
   {
    "duration": 18,
    "start_time": "2021-10-31T17:25:59.412Z"
   },
   {
    "duration": 81,
    "start_time": "2021-10-31T17:25:59.434Z"
   },
   {
    "duration": 97,
    "start_time": "2021-10-31T17:25:59.518Z"
   },
   {
    "duration": 123,
    "start_time": "2021-10-31T17:25:59.617Z"
   },
   {
    "duration": 58,
    "start_time": "2021-10-31T17:25:59.742Z"
   },
   {
    "duration": 8,
    "start_time": "2021-10-31T17:25:59.802Z"
   },
   {
    "duration": 32,
    "start_time": "2021-10-31T17:25:59.812Z"
   },
   {
    "duration": 13,
    "start_time": "2021-10-31T17:25:59.847Z"
   },
   {
    "duration": 693,
    "start_time": "2021-10-31T17:25:59.862Z"
   },
   {
    "duration": 50,
    "start_time": "2021-10-31T17:26:00.557Z"
   },
   {
    "duration": 233,
    "start_time": "2021-10-31T17:26:00.610Z"
   },
   {
    "duration": 7,
    "start_time": "2021-10-31T17:26:00.846Z"
   },
   {
    "duration": 66,
    "start_time": "2021-10-31T17:26:00.856Z"
   },
   {
    "duration": 11,
    "start_time": "2021-10-31T17:26:00.925Z"
   },
   {
    "duration": 647,
    "start_time": "2021-10-31T17:26:00.939Z"
   },
   {
    "duration": 38,
    "start_time": "2021-10-31T17:26:01.590Z"
   },
   {
    "duration": 9,
    "start_time": "2021-10-31T17:26:01.636Z"
   },
   {
    "duration": 894,
    "start_time": "2021-10-31T17:26:01.648Z"
   },
   {
    "duration": 160,
    "start_time": "2021-10-31T17:26:02.544Z"
   },
   {
    "duration": 26,
    "start_time": "2021-10-31T17:26:02.706Z"
   },
   {
    "duration": 85,
    "start_time": "2021-10-31T17:26:02.734Z"
   },
   {
    "duration": 88,
    "start_time": "2021-10-31T17:26:02.828Z"
   },
   {
    "duration": 7,
    "start_time": "2021-10-31T17:26:02.919Z"
   },
   {
    "duration": 41,
    "start_time": "2021-10-31T17:26:02.929Z"
   },
   {
    "duration": 107,
    "start_time": "2021-10-31T17:26:02.973Z"
   },
   {
    "duration": 1731,
    "start_time": "2021-10-31T17:26:03.082Z"
   },
   {
    "duration": 1834,
    "start_time": "2021-10-31T17:26:04.815Z"
   },
   {
    "duration": 1752,
    "start_time": "2021-10-31T17:26:06.651Z"
   },
   {
    "duration": 1670,
    "start_time": "2021-10-31T17:26:08.405Z"
   },
   {
    "duration": 4,
    "start_time": "2021-10-31T17:26:10.078Z"
   },
   {
    "duration": 133,
    "start_time": "2021-10-31T17:26:10.085Z"
   },
   {
    "duration": 4,
    "start_time": "2021-10-31T17:26:10.221Z"
   },
   {
    "duration": 419,
    "start_time": "2021-10-31T17:26:10.228Z"
   },
   {
    "duration": 223,
    "start_time": "2021-10-31T17:26:10.650Z"
   },
   {
    "duration": 219,
    "start_time": "2021-10-31T17:26:10.876Z"
   },
   {
    "duration": 8,
    "start_time": "2021-10-31T17:26:11.101Z"
   },
   {
    "duration": 37,
    "start_time": "2021-10-31T17:26:11.112Z"
   },
   {
    "duration": 234,
    "start_time": "2021-10-31T17:26:11.152Z"
   },
   {
    "duration": 143,
    "start_time": "2021-10-31T17:26:11.388Z"
   },
   {
    "duration": 222,
    "start_time": "2021-10-31T17:26:11.533Z"
   },
   {
    "duration": 209,
    "start_time": "2021-10-31T17:26:11.757Z"
   },
   {
    "duration": 2019,
    "start_time": "2021-10-31T17:41:02.651Z"
   },
   {
    "duration": 201,
    "start_time": "2021-10-31T17:41:04.672Z"
   },
   {
    "duration": 24,
    "start_time": "2021-10-31T17:41:04.877Z"
   },
   {
    "duration": 174,
    "start_time": "2021-10-31T17:41:04.904Z"
   },
   {
    "duration": 27,
    "start_time": "2021-10-31T17:41:05.081Z"
   },
   {
    "duration": 11,
    "start_time": "2021-10-31T17:41:05.111Z"
   },
   {
    "duration": 25,
    "start_time": "2021-10-31T17:41:05.125Z"
   },
   {
    "duration": 91,
    "start_time": "2021-10-31T17:41:05.156Z"
   },
   {
    "duration": 111,
    "start_time": "2021-10-31T17:41:05.250Z"
   },
   {
    "duration": 145,
    "start_time": "2021-10-31T17:41:05.364Z"
   },
   {
    "duration": 49,
    "start_time": "2021-10-31T17:41:05.512Z"
   },
   {
    "duration": 8,
    "start_time": "2021-10-31T17:41:05.564Z"
   },
   {
    "duration": 55,
    "start_time": "2021-10-31T17:41:05.574Z"
   },
   {
    "duration": 9,
    "start_time": "2021-10-31T17:41:05.631Z"
   },
   {
    "duration": 638,
    "start_time": "2021-10-31T17:41:05.644Z"
   },
   {
    "duration": 56,
    "start_time": "2021-10-31T17:41:06.285Z"
   },
   {
    "duration": 232,
    "start_time": "2021-10-31T17:41:06.343Z"
   },
   {
    "duration": 8,
    "start_time": "2021-10-31T17:41:06.577Z"
   },
   {
    "duration": 58,
    "start_time": "2021-10-31T17:41:06.587Z"
   },
   {
    "duration": 8,
    "start_time": "2021-10-31T17:41:06.648Z"
   },
   {
    "duration": 617,
    "start_time": "2021-10-31T17:41:06.658Z"
   },
   {
    "duration": 36,
    "start_time": "2021-10-31T17:41:07.277Z"
   },
   {
    "duration": 5,
    "start_time": "2021-10-31T17:41:07.318Z"
   },
   {
    "duration": 880,
    "start_time": "2021-10-31T17:41:07.326Z"
   },
   {
    "duration": 128,
    "start_time": "2021-10-31T17:41:08.208Z"
   },
   {
    "duration": 78,
    "start_time": "2021-10-31T17:41:08.338Z"
   },
   {
    "duration": 19,
    "start_time": "2021-10-31T17:41:08.418Z"
   },
   {
    "duration": 119,
    "start_time": "2021-10-31T17:41:08.439Z"
   },
   {
    "duration": 6,
    "start_time": "2021-10-31T17:41:08.560Z"
   },
   {
    "duration": 45,
    "start_time": "2021-10-31T17:41:08.568Z"
   },
   {
    "duration": 69,
    "start_time": "2021-10-31T17:41:08.616Z"
   },
   {
    "duration": 1666,
    "start_time": "2021-10-31T17:41:08.700Z"
   },
   {
    "duration": 1803,
    "start_time": "2021-10-31T17:41:10.368Z"
   },
   {
    "duration": 1627,
    "start_time": "2021-10-31T17:41:12.173Z"
   },
   {
    "duration": 1616,
    "start_time": "2021-10-31T17:41:13.802Z"
   },
   {
    "duration": 5,
    "start_time": "2021-10-31T17:41:15.420Z"
   },
   {
    "duration": 126,
    "start_time": "2021-10-31T17:41:15.427Z"
   },
   {
    "duration": 4,
    "start_time": "2021-10-31T17:41:15.556Z"
   },
   {
    "duration": 427,
    "start_time": "2021-10-31T17:41:15.563Z"
   },
   {
    "duration": 212,
    "start_time": "2021-10-31T17:41:15.992Z"
   },
   {
    "duration": 222,
    "start_time": "2021-10-31T17:41:16.206Z"
   },
   {
    "duration": 8,
    "start_time": "2021-10-31T17:41:16.431Z"
   },
   {
    "duration": 57,
    "start_time": "2021-10-31T17:41:16.441Z"
   },
   {
    "duration": 228,
    "start_time": "2021-10-31T17:41:16.501Z"
   },
   {
    "duration": 143,
    "start_time": "2021-10-31T17:41:16.732Z"
   },
   {
    "duration": 225,
    "start_time": "2021-10-31T17:41:16.877Z"
   },
   {
    "duration": 211,
    "start_time": "2021-10-31T17:41:17.104Z"
   },
   {
    "duration": 1967,
    "start_time": "2021-10-31T17:42:23.179Z"
   },
   {
    "duration": 173,
    "start_time": "2021-10-31T17:42:25.149Z"
   },
   {
    "duration": 16,
    "start_time": "2021-10-31T17:42:25.325Z"
   },
   {
    "duration": 172,
    "start_time": "2021-10-31T17:42:25.343Z"
   },
   {
    "duration": 21,
    "start_time": "2021-10-31T17:42:25.518Z"
   },
   {
    "duration": 8,
    "start_time": "2021-10-31T17:42:25.542Z"
   },
   {
    "duration": 48,
    "start_time": "2021-10-31T17:42:25.553Z"
   },
   {
    "duration": 52,
    "start_time": "2021-10-31T17:42:25.605Z"
   },
   {
    "duration": 107,
    "start_time": "2021-10-31T17:42:25.660Z"
   },
   {
    "duration": 125,
    "start_time": "2021-10-31T17:42:25.769Z"
   },
   {
    "duration": 49,
    "start_time": "2021-10-31T17:42:25.897Z"
   },
   {
    "duration": 11,
    "start_time": "2021-10-31T17:42:25.949Z"
   },
   {
    "duration": 70,
    "start_time": "2021-10-31T17:42:25.962Z"
   },
   {
    "duration": 10,
    "start_time": "2021-10-31T17:42:26.035Z"
   },
   {
    "duration": 738,
    "start_time": "2021-10-31T17:42:26.048Z"
   },
   {
    "duration": 47,
    "start_time": "2021-10-31T17:42:26.789Z"
   },
   {
    "duration": 245,
    "start_time": "2021-10-31T17:42:26.838Z"
   },
   {
    "duration": 16,
    "start_time": "2021-10-31T17:42:27.086Z"
   },
   {
    "duration": 41,
    "start_time": "2021-10-31T17:42:27.105Z"
   },
   {
    "duration": 8,
    "start_time": "2021-10-31T17:42:27.149Z"
   },
   {
    "duration": 607,
    "start_time": "2021-10-31T17:42:27.160Z"
   },
   {
    "duration": 37,
    "start_time": "2021-10-31T17:42:27.770Z"
   },
   {
    "duration": 6,
    "start_time": "2021-10-31T17:42:27.813Z"
   },
   {
    "duration": 896,
    "start_time": "2021-10-31T17:42:27.822Z"
   },
   {
    "duration": 119,
    "start_time": "2021-10-31T17:42:28.721Z"
   },
   {
    "duration": 81,
    "start_time": "2021-10-31T17:42:28.842Z"
   },
   {
    "duration": 17,
    "start_time": "2021-10-31T17:42:28.925Z"
   },
   {
    "duration": 113,
    "start_time": "2021-10-31T17:42:28.945Z"
   },
   {
    "duration": 40,
    "start_time": "2021-10-31T17:42:29.060Z"
   },
   {
    "duration": 28,
    "start_time": "2021-10-31T17:42:29.103Z"
   },
   {
    "duration": 91,
    "start_time": "2021-10-31T17:42:29.134Z"
   },
   {
    "duration": 1820,
    "start_time": "2021-10-31T17:42:29.228Z"
   },
   {
    "duration": 1847,
    "start_time": "2021-10-31T17:42:31.050Z"
   },
   {
    "duration": 1637,
    "start_time": "2021-10-31T17:42:32.901Z"
   },
   {
    "duration": 1760,
    "start_time": "2021-10-31T17:42:34.540Z"
   },
   {
    "duration": 4,
    "start_time": "2021-10-31T17:42:36.303Z"
   },
   {
    "duration": 135,
    "start_time": "2021-10-31T17:42:36.310Z"
   },
   {
    "duration": 5,
    "start_time": "2021-10-31T17:42:36.447Z"
   },
   {
    "duration": 454,
    "start_time": "2021-10-31T17:42:36.454Z"
   },
   {
    "duration": 241,
    "start_time": "2021-10-31T17:42:36.911Z"
   },
   {
    "duration": 260,
    "start_time": "2021-10-31T17:42:37.155Z"
   },
   {
    "duration": 8,
    "start_time": "2021-10-31T17:42:37.418Z"
   },
   {
    "duration": 42,
    "start_time": "2021-10-31T17:42:37.428Z"
   },
   {
    "duration": 275,
    "start_time": "2021-10-31T17:42:37.474Z"
   },
   {
    "duration": 142,
    "start_time": "2021-10-31T17:42:37.752Z"
   },
   {
    "duration": 231,
    "start_time": "2021-10-31T17:42:37.901Z"
   },
   {
    "duration": 310,
    "start_time": "2021-10-31T17:42:38.135Z"
   },
   {
    "duration": 2175,
    "start_time": "2021-10-31T17:42:57.994Z"
   },
   {
    "duration": 2025,
    "start_time": "2021-10-31T17:43:28.180Z"
   },
   {
    "duration": 2134,
    "start_time": "2021-10-31T17:45:43.391Z"
   },
   {
    "duration": 2096,
    "start_time": "2021-10-31T17:47:16.508Z"
   },
   {
    "duration": 2374,
    "start_time": "2021-10-31T17:47:37.726Z"
   },
   {
    "duration": 2694,
    "start_time": "2021-10-31T17:49:34.671Z"
   },
   {
    "duration": 2165,
    "start_time": "2021-10-31T17:49:54.765Z"
   },
   {
    "duration": 2036,
    "start_time": "2021-10-31T17:56:52.853Z"
   },
   {
    "duration": 925,
    "start_time": "2021-10-31T17:58:26.648Z"
   },
   {
    "duration": 2050,
    "start_time": "2021-10-31T17:59:26.289Z"
   },
   {
    "duration": 723,
    "start_time": "2021-10-31T18:00:02.665Z"
   },
   {
    "duration": 2482,
    "start_time": "2021-10-31T18:00:20.690Z"
   },
   {
    "duration": 123,
    "start_time": "2021-10-31T18:08:01.416Z"
   },
   {
    "duration": 2302,
    "start_time": "2021-10-31T18:08:12.728Z"
   },
   {
    "duration": 2055,
    "start_time": "2021-10-31T18:08:24.398Z"
   },
   {
    "duration": 2520,
    "start_time": "2021-10-31T18:08:31.436Z"
   },
   {
    "duration": 1968,
    "start_time": "2021-10-31T18:09:15.362Z"
   },
   {
    "duration": 2392,
    "start_time": "2021-10-31T18:11:14.880Z"
   },
   {
    "duration": 1627,
    "start_time": "2021-10-31T18:11:17.275Z"
   },
   {
    "duration": 15,
    "start_time": "2021-10-31T18:11:18.910Z"
   },
   {
    "duration": 183,
    "start_time": "2021-10-31T18:11:18.927Z"
   },
   {
    "duration": 20,
    "start_time": "2021-10-31T18:11:19.112Z"
   },
   {
    "duration": 8,
    "start_time": "2021-10-31T18:11:19.134Z"
   },
   {
    "duration": 18,
    "start_time": "2021-10-31T18:11:19.146Z"
   },
   {
    "duration": 80,
    "start_time": "2021-10-31T18:11:19.168Z"
   },
   {
    "duration": 114,
    "start_time": "2021-10-31T18:11:19.250Z"
   },
   {
    "duration": 125,
    "start_time": "2021-10-31T18:11:19.367Z"
   },
   {
    "duration": 47,
    "start_time": "2021-10-31T18:11:19.495Z"
   },
   {
    "duration": 8,
    "start_time": "2021-10-31T18:11:19.545Z"
   },
   {
    "duration": 64,
    "start_time": "2021-10-31T18:11:19.555Z"
   },
   {
    "duration": 10,
    "start_time": "2021-10-31T18:11:19.621Z"
   },
   {
    "duration": 647,
    "start_time": "2021-10-31T18:11:19.634Z"
   },
   {
    "duration": 52,
    "start_time": "2021-10-31T18:11:20.284Z"
   },
   {
    "duration": 237,
    "start_time": "2021-10-31T18:11:20.339Z"
   },
   {
    "duration": 22,
    "start_time": "2021-10-31T18:11:20.579Z"
   },
   {
    "duration": 40,
    "start_time": "2021-10-31T18:11:20.604Z"
   },
   {
    "duration": 9,
    "start_time": "2021-10-31T18:11:20.647Z"
   },
   {
    "duration": 668,
    "start_time": "2021-10-31T18:11:20.659Z"
   },
   {
    "duration": 30,
    "start_time": "2021-10-31T18:11:21.332Z"
   },
   {
    "duration": 9,
    "start_time": "2021-10-31T18:11:21.366Z"
   },
   {
    "duration": 889,
    "start_time": "2021-10-31T18:11:21.377Z"
   },
   {
    "duration": 171,
    "start_time": "2021-10-31T18:11:22.269Z"
   },
   {
    "duration": 89,
    "start_time": "2021-10-31T18:11:22.443Z"
   },
   {
    "duration": 74,
    "start_time": "2021-10-31T18:11:22.534Z"
   },
   {
    "duration": 129,
    "start_time": "2021-10-31T18:11:22.612Z"
   },
   {
    "duration": 5,
    "start_time": "2021-10-31T18:11:22.744Z"
   },
   {
    "duration": 65,
    "start_time": "2021-10-31T18:11:22.752Z"
   },
   {
    "duration": 69,
    "start_time": "2021-10-31T18:11:22.820Z"
   },
   {
    "duration": 1972,
    "start_time": "2021-10-31T18:11:22.901Z"
   },
   {
    "duration": 1831,
    "start_time": "2021-10-31T18:11:24.875Z"
   },
   {
    "duration": 1753,
    "start_time": "2021-10-31T18:11:26.708Z"
   },
   {
    "duration": 1845,
    "start_time": "2021-10-31T18:11:28.464Z"
   },
   {
    "duration": 5,
    "start_time": "2021-10-31T18:11:30.312Z"
   },
   {
    "duration": 137,
    "start_time": "2021-10-31T18:11:30.320Z"
   },
   {
    "duration": 5,
    "start_time": "2021-10-31T18:11:30.460Z"
   },
   {
    "duration": 236,
    "start_time": "2021-10-31T18:11:30.467Z"
   },
   {
    "duration": 230,
    "start_time": "2021-10-31T18:11:30.705Z"
   },
   {
    "duration": 224,
    "start_time": "2021-10-31T18:11:30.938Z"
   },
   {
    "duration": 8,
    "start_time": "2021-10-31T18:11:31.164Z"
   },
   {
    "duration": 54,
    "start_time": "2021-10-31T18:11:31.175Z"
   },
   {
    "duration": 235,
    "start_time": "2021-10-31T18:11:31.232Z"
   },
   {
    "duration": 145,
    "start_time": "2021-10-31T18:11:31.469Z"
   },
   {
    "duration": 224,
    "start_time": "2021-10-31T18:11:31.617Z"
   },
   {
    "duration": 218,
    "start_time": "2021-10-31T18:11:31.844Z"
   },
   {
    "duration": 2245,
    "start_time": "2021-10-31T18:12:07.810Z"
   },
   {
    "duration": 1704,
    "start_time": "2021-10-31T18:14:09.273Z"
   },
   {
    "duration": 1343,
    "start_time": "2021-10-31T18:18:10.084Z"
   },
   {
    "duration": 1984,
    "start_time": "2021-10-31T18:20:37.889Z"
   },
   {
    "duration": 173,
    "start_time": "2021-10-31T18:20:39.876Z"
   },
   {
    "duration": 15,
    "start_time": "2021-10-31T18:20:40.052Z"
   },
   {
    "duration": 168,
    "start_time": "2021-10-31T18:20:40.070Z"
   },
   {
    "duration": 22,
    "start_time": "2021-10-31T18:20:40.241Z"
   },
   {
    "duration": 35,
    "start_time": "2021-10-31T18:20:40.265Z"
   },
   {
    "duration": 22,
    "start_time": "2021-10-31T18:20:40.303Z"
   },
   {
    "duration": 76,
    "start_time": "2021-10-31T18:20:40.329Z"
   },
   {
    "duration": 98,
    "start_time": "2021-10-31T18:20:40.409Z"
   },
   {
    "duration": 128,
    "start_time": "2021-10-31T18:20:40.509Z"
   },
   {
    "duration": 46,
    "start_time": "2021-10-31T18:20:40.639Z"
   },
   {
    "duration": 16,
    "start_time": "2021-10-31T18:20:40.688Z"
   },
   {
    "duration": 34,
    "start_time": "2021-10-31T18:20:40.707Z"
   },
   {
    "duration": 10,
    "start_time": "2021-10-31T18:20:40.743Z"
   },
   {
    "duration": 649,
    "start_time": "2021-10-31T18:20:40.756Z"
   },
   {
    "duration": 41,
    "start_time": "2021-10-31T18:20:41.407Z"
   },
   {
    "duration": 244,
    "start_time": "2021-10-31T18:20:41.450Z"
   },
   {
    "duration": 9,
    "start_time": "2021-10-31T18:20:41.696Z"
   },
   {
    "duration": 40,
    "start_time": "2021-10-31T18:20:41.708Z"
   },
   {
    "duration": 10,
    "start_time": "2021-10-31T18:20:41.751Z"
   },
   {
    "duration": 611,
    "start_time": "2021-10-31T18:20:41.800Z"
   },
   {
    "duration": 30,
    "start_time": "2021-10-31T18:20:42.413Z"
   },
   {
    "duration": 6,
    "start_time": "2021-10-31T18:20:42.448Z"
   },
   {
    "duration": 878,
    "start_time": "2021-10-31T18:20:42.457Z"
   },
   {
    "duration": 164,
    "start_time": "2021-10-31T18:20:43.337Z"
   },
   {
    "duration": 25,
    "start_time": "2021-10-31T18:20:43.504Z"
   },
   {
    "duration": 74,
    "start_time": "2021-10-31T18:20:43.532Z"
   },
   {
    "duration": 91,
    "start_time": "2021-10-31T18:20:43.609Z"
   },
   {
    "duration": 5,
    "start_time": "2021-10-31T18:20:43.703Z"
   },
   {
    "duration": 35,
    "start_time": "2021-10-31T18:20:43.710Z"
   },
   {
    "duration": 92,
    "start_time": "2021-10-31T18:20:43.747Z"
   },
   {
    "duration": 1395,
    "start_time": "2021-10-31T18:20:43.841Z"
   },
   {
    "duration": -3743,
    "start_time": "2021-10-31T18:20:48.982Z"
   },
   {
    "duration": -3745,
    "start_time": "2021-10-31T18:20:48.986Z"
   },
   {
    "duration": -3748,
    "start_time": "2021-10-31T18:20:48.990Z"
   },
   {
    "duration": -3748,
    "start_time": "2021-10-31T18:20:48.992Z"
   },
   {
    "duration": -3749,
    "start_time": "2021-10-31T18:20:48.995Z"
   },
   {
    "duration": -3751,
    "start_time": "2021-10-31T18:20:48.998Z"
   },
   {
    "duration": -3753,
    "start_time": "2021-10-31T18:20:49.002Z"
   },
   {
    "duration": -3756,
    "start_time": "2021-10-31T18:20:49.006Z"
   },
   {
    "duration": -3757,
    "start_time": "2021-10-31T18:20:49.009Z"
   },
   {
    "duration": -3758,
    "start_time": "2021-10-31T18:20:49.012Z"
   },
   {
    "duration": -3760,
    "start_time": "2021-10-31T18:20:49.015Z"
   },
   {
    "duration": -3761,
    "start_time": "2021-10-31T18:20:49.018Z"
   },
   {
    "duration": -3764,
    "start_time": "2021-10-31T18:20:49.022Z"
   },
   {
    "duration": -3764,
    "start_time": "2021-10-31T18:20:49.024Z"
   },
   {
    "duration": -3727,
    "start_time": "2021-10-31T18:20:49.027Z"
   },
   {
    "duration": 2003,
    "start_time": "2021-10-31T18:27:34.443Z"
   },
   {
    "duration": 174,
    "start_time": "2021-10-31T18:27:36.449Z"
   },
   {
    "duration": 15,
    "start_time": "2021-10-31T18:27:36.626Z"
   },
   {
    "duration": 171,
    "start_time": "2021-10-31T18:27:36.643Z"
   },
   {
    "duration": 20,
    "start_time": "2021-10-31T18:27:36.817Z"
   },
   {
    "duration": 8,
    "start_time": "2021-10-31T18:27:36.840Z"
   },
   {
    "duration": 50,
    "start_time": "2021-10-31T18:27:36.851Z"
   },
   {
    "duration": 53,
    "start_time": "2021-10-31T18:27:36.904Z"
   },
   {
    "duration": 110,
    "start_time": "2021-10-31T18:27:36.963Z"
   },
   {
    "duration": 136,
    "start_time": "2021-10-31T18:27:37.076Z"
   },
   {
    "duration": 48,
    "start_time": "2021-10-31T18:27:37.215Z"
   },
   {
    "duration": 35,
    "start_time": "2021-10-31T18:27:37.266Z"
   },
   {
    "duration": 36,
    "start_time": "2021-10-31T18:27:37.304Z"
   },
   {
    "duration": 12,
    "start_time": "2021-10-31T18:27:37.343Z"
   },
   {
    "duration": 656,
    "start_time": "2021-10-31T18:27:37.358Z"
   },
   {
    "duration": 43,
    "start_time": "2021-10-31T18:27:38.017Z"
   },
   {
    "duration": 242,
    "start_time": "2021-10-31T18:27:38.062Z"
   },
   {
    "duration": 8,
    "start_time": "2021-10-31T18:27:38.306Z"
   },
   {
    "duration": 38,
    "start_time": "2021-10-31T18:27:38.317Z"
   },
   {
    "duration": 9,
    "start_time": "2021-10-31T18:27:38.357Z"
   },
   {
    "duration": 589,
    "start_time": "2021-10-31T18:27:38.400Z"
   },
   {
    "duration": 33,
    "start_time": "2021-10-31T18:27:38.991Z"
   },
   {
    "duration": 10,
    "start_time": "2021-10-31T18:27:39.027Z"
   },
   {
    "duration": 896,
    "start_time": "2021-10-31T18:27:39.039Z"
   },
   {
    "duration": 165,
    "start_time": "2021-10-31T18:27:39.937Z"
   },
   {
    "duration": 26,
    "start_time": "2021-10-31T18:27:40.104Z"
   },
   {
    "duration": 72,
    "start_time": "2021-10-31T18:27:40.135Z"
   },
   {
    "duration": 94,
    "start_time": "2021-10-31T18:27:40.210Z"
   },
   {
    "duration": 5,
    "start_time": "2021-10-31T18:27:40.306Z"
   },
   {
    "duration": 29,
    "start_time": "2021-10-31T18:27:40.313Z"
   },
   {
    "duration": 95,
    "start_time": "2021-10-31T18:27:40.345Z"
   },
   {
    "duration": 2282,
    "start_time": "2021-10-31T18:29:03.236Z"
   },
   {
    "duration": 1672,
    "start_time": "2021-10-31T18:29:05.521Z"
   },
   {
    "duration": 1709,
    "start_time": "2021-10-31T18:29:07.199Z"
   },
   {
    "duration": 5,
    "start_time": "2021-10-31T18:29:08.910Z"
   },
   {
    "duration": 135,
    "start_time": "2021-10-31T18:29:08.917Z"
   },
   {
    "duration": 5,
    "start_time": "2021-10-31T18:29:09.054Z"
   },
   {
    "duration": 228,
    "start_time": "2021-10-31T18:29:09.061Z"
   },
   {
    "duration": 213,
    "start_time": "2021-10-31T18:29:09.291Z"
   },
   {
    "duration": 219,
    "start_time": "2021-10-31T18:29:09.506Z"
   },
   {
    "duration": 8,
    "start_time": "2021-10-31T18:29:09.728Z"
   },
   {
    "duration": 38,
    "start_time": "2021-10-31T18:29:09.739Z"
   },
   {
    "duration": 252,
    "start_time": "2021-10-31T18:29:09.800Z"
   },
   {
    "duration": 146,
    "start_time": "2021-10-31T18:29:10.054Z"
   },
   {
    "duration": 233,
    "start_time": "2021-10-31T18:29:10.203Z"
   },
   {
    "duration": 229,
    "start_time": "2021-10-31T18:29:10.440Z"
   },
   {
    "duration": 973,
    "start_time": "2021-10-31T18:29:10.674Z"
   },
   {
    "duration": 700,
    "start_time": "2021-10-31T18:29:11.987Z"
   },
   {
    "duration": 1812,
    "start_time": "2021-10-31T18:31:57.396Z"
   },
   {
    "duration": 2359,
    "start_time": "2021-10-31T18:32:15.371Z"
   },
   {
    "duration": 1875,
    "start_time": "2021-10-31T18:32:43.641Z"
   },
   {
    "duration": 1730,
    "start_time": "2021-10-31T18:33:05.778Z"
   },
   {
    "duration": 1707,
    "start_time": "2021-10-31T18:33:26.444Z"
   },
   {
    "duration": 2004,
    "start_time": "2021-10-31T18:33:38.655Z"
   },
   {
    "duration": 186,
    "start_time": "2021-10-31T18:33:40.662Z"
   },
   {
    "duration": 16,
    "start_time": "2021-10-31T18:33:40.851Z"
   },
   {
    "duration": 173,
    "start_time": "2021-10-31T18:33:40.870Z"
   },
   {
    "duration": 22,
    "start_time": "2021-10-31T18:33:41.046Z"
   },
   {
    "duration": 31,
    "start_time": "2021-10-31T18:33:41.070Z"
   },
   {
    "duration": 22,
    "start_time": "2021-10-31T18:33:41.103Z"
   },
   {
    "duration": 79,
    "start_time": "2021-10-31T18:33:41.129Z"
   },
   {
    "duration": 95,
    "start_time": "2021-10-31T18:33:41.211Z"
   },
   {
    "duration": 127,
    "start_time": "2021-10-31T18:33:41.308Z"
   },
   {
    "duration": 47,
    "start_time": "2021-10-31T18:33:41.438Z"
   },
   {
    "duration": 8,
    "start_time": "2021-10-31T18:33:41.500Z"
   },
   {
    "duration": 33,
    "start_time": "2021-10-31T18:33:41.511Z"
   },
   {
    "duration": 10,
    "start_time": "2021-10-31T18:33:41.547Z"
   },
   {
    "duration": 650,
    "start_time": "2021-10-31T18:33:41.559Z"
   },
   {
    "duration": 41,
    "start_time": "2021-10-31T18:33:42.212Z"
   },
   {
    "duration": 244,
    "start_time": "2021-10-31T18:33:42.256Z"
   },
   {
    "duration": 9,
    "start_time": "2021-10-31T18:33:42.503Z"
   },
   {
    "duration": 40,
    "start_time": "2021-10-31T18:33:42.515Z"
   },
   {
    "duration": 8,
    "start_time": "2021-10-31T18:33:42.557Z"
   },
   {
    "duration": 626,
    "start_time": "2021-10-31T18:33:42.567Z"
   },
   {
    "duration": 29,
    "start_time": "2021-10-31T18:33:43.195Z"
   },
   {
    "duration": 15,
    "start_time": "2021-10-31T18:33:43.230Z"
   },
   {
    "duration": 956,
    "start_time": "2021-10-31T18:33:43.248Z"
   },
   {
    "duration": 122,
    "start_time": "2021-10-31T18:33:44.207Z"
   },
   {
    "duration": 78,
    "start_time": "2021-10-31T18:33:44.331Z"
   },
   {
    "duration": 19,
    "start_time": "2021-10-31T18:33:44.411Z"
   },
   {
    "duration": 119,
    "start_time": "2021-10-31T18:33:44.432Z"
   },
   {
    "duration": 5,
    "start_time": "2021-10-31T18:33:44.553Z"
   },
   {
    "duration": 62,
    "start_time": "2021-10-31T18:33:44.561Z"
   },
   {
    "duration": 86,
    "start_time": "2021-10-31T18:33:44.625Z"
   },
   {
    "duration": 1701,
    "start_time": "2021-10-31T18:33:44.714Z"
   },
   {
    "duration": 1997,
    "start_time": "2021-10-31T18:33:46.418Z"
   },
   {
    "duration": 1630,
    "start_time": "2021-10-31T18:33:48.418Z"
   },
   {
    "duration": 1650,
    "start_time": "2021-10-31T18:33:50.050Z"
   },
   {
    "duration": 5,
    "start_time": "2021-10-31T18:33:51.703Z"
   },
   {
    "duration": 133,
    "start_time": "2021-10-31T18:33:51.711Z"
   },
   {
    "duration": 5,
    "start_time": "2021-10-31T18:33:51.848Z"
   },
   {
    "duration": 436,
    "start_time": "2021-10-31T18:33:51.856Z"
   },
   {
    "duration": 226,
    "start_time": "2021-10-31T18:33:52.294Z"
   },
   {
    "duration": 218,
    "start_time": "2021-10-31T18:33:52.522Z"
   },
   {
    "duration": 9,
    "start_time": "2021-10-31T18:33:52.742Z"
   },
   {
    "duration": 56,
    "start_time": "2021-10-31T18:33:52.754Z"
   },
   {
    "duration": 240,
    "start_time": "2021-10-31T18:33:52.812Z"
   },
   {
    "duration": 133,
    "start_time": "2021-10-31T18:33:53.055Z"
   },
   {
    "duration": 227,
    "start_time": "2021-10-31T18:33:53.190Z"
   },
   {
    "duration": 211,
    "start_time": "2021-10-31T18:33:53.419Z"
   },
   {
    "duration": 137,
    "start_time": "2021-10-31T18:34:19.576Z"
   },
   {
    "duration": 979,
    "start_time": "2021-10-31T18:35:20.727Z"
   },
   {
    "duration": 954,
    "start_time": "2021-10-31T18:35:44.613Z"
   },
   {
    "duration": 3878,
    "start_time": "2021-10-31T18:36:05.697Z"
   },
   {
    "duration": 172,
    "start_time": "2021-10-31T18:36:09.577Z"
   },
   {
    "duration": 17,
    "start_time": "2021-10-31T18:36:09.752Z"
   },
   {
    "duration": 167,
    "start_time": "2021-10-31T18:36:09.772Z"
   },
   {
    "duration": 23,
    "start_time": "2021-10-31T18:36:09.941Z"
   },
   {
    "duration": 8,
    "start_time": "2021-10-31T18:36:09.967Z"
   },
   {
    "duration": 41,
    "start_time": "2021-10-31T18:36:09.977Z"
   },
   {
    "duration": 54,
    "start_time": "2021-10-31T18:36:10.022Z"
   },
   {
    "duration": 106,
    "start_time": "2021-10-31T18:36:10.078Z"
   },
   {
    "duration": 138,
    "start_time": "2021-10-31T18:36:10.186Z"
   },
   {
    "duration": 45,
    "start_time": "2021-10-31T18:36:10.327Z"
   },
   {
    "duration": 8,
    "start_time": "2021-10-31T18:36:10.374Z"
   },
   {
    "duration": 47,
    "start_time": "2021-10-31T18:36:10.384Z"
   },
   {
    "duration": 10,
    "start_time": "2021-10-31T18:36:10.433Z"
   },
   {
    "duration": 628,
    "start_time": "2021-10-31T18:36:10.445Z"
   },
   {
    "duration": 49,
    "start_time": "2021-10-31T18:36:11.076Z"
   },
   {
    "duration": 240,
    "start_time": "2021-10-31T18:36:11.128Z"
   },
   {
    "duration": 8,
    "start_time": "2021-10-31T18:36:11.370Z"
   },
   {
    "duration": 52,
    "start_time": "2021-10-31T18:36:11.380Z"
   },
   {
    "duration": 8,
    "start_time": "2021-10-31T18:36:11.434Z"
   },
   {
    "duration": 690,
    "start_time": "2021-10-31T18:36:11.445Z"
   },
   {
    "duration": 27,
    "start_time": "2021-10-31T18:36:12.138Z"
   },
   {
    "duration": 7,
    "start_time": "2021-10-31T18:36:12.170Z"
   },
   {
    "duration": 887,
    "start_time": "2021-10-31T18:36:12.180Z"
   },
   {
    "duration": 143,
    "start_time": "2021-10-31T18:36:13.069Z"
   },
   {
    "duration": 26,
    "start_time": "2021-10-31T18:36:13.215Z"
   },
   {
    "duration": 72,
    "start_time": "2021-10-31T18:36:13.244Z"
   },
   {
    "duration": 113,
    "start_time": "2021-10-31T18:36:13.319Z"
   },
   {
    "duration": 6,
    "start_time": "2021-10-31T18:36:13.435Z"
   },
   {
    "duration": 29,
    "start_time": "2021-10-31T18:36:13.444Z"
   },
   {
    "duration": 102,
    "start_time": "2021-10-31T18:36:13.475Z"
   },
   {
    "duration": 1125,
    "start_time": "2021-10-31T18:36:13.579Z"
   },
   {
    "duration": -4266,
    "start_time": "2021-10-31T18:36:18.973Z"
   },
   {
    "duration": -4268,
    "start_time": "2021-10-31T18:36:18.976Z"
   },
   {
    "duration": -4269,
    "start_time": "2021-10-31T18:36:18.979Z"
   },
   {
    "duration": -4272,
    "start_time": "2021-10-31T18:36:18.983Z"
   },
   {
    "duration": -4274,
    "start_time": "2021-10-31T18:36:18.986Z"
   },
   {
    "duration": -4276,
    "start_time": "2021-10-31T18:36:18.990Z"
   },
   {
    "duration": -4277,
    "start_time": "2021-10-31T18:36:18.993Z"
   },
   {
    "duration": -4279,
    "start_time": "2021-10-31T18:36:18.996Z"
   },
   {
    "duration": -4281,
    "start_time": "2021-10-31T18:36:18.999Z"
   },
   {
    "duration": -4282,
    "start_time": "2021-10-31T18:36:19.002Z"
   },
   {
    "duration": -4284,
    "start_time": "2021-10-31T18:36:19.005Z"
   },
   {
    "duration": -4287,
    "start_time": "2021-10-31T18:36:19.009Z"
   },
   {
    "duration": -4289,
    "start_time": "2021-10-31T18:36:19.013Z"
   },
   {
    "duration": -4291,
    "start_time": "2021-10-31T18:36:19.016Z"
   },
   {
    "duration": -4292,
    "start_time": "2021-10-31T18:36:19.019Z"
   },
   {
    "duration": 1941,
    "start_time": "2021-10-31T18:37:46.163Z"
   },
   {
    "duration": 1991,
    "start_time": "2021-10-31T18:38:05.064Z"
   },
   {
    "duration": 176,
    "start_time": "2021-10-31T18:38:07.058Z"
   },
   {
    "duration": 16,
    "start_time": "2021-10-31T18:38:07.237Z"
   },
   {
    "duration": 174,
    "start_time": "2021-10-31T18:38:07.256Z"
   },
   {
    "duration": 21,
    "start_time": "2021-10-31T18:38:07.433Z"
   },
   {
    "duration": 9,
    "start_time": "2021-10-31T18:38:07.457Z"
   },
   {
    "duration": 44,
    "start_time": "2021-10-31T18:38:07.469Z"
   },
   {
    "duration": 55,
    "start_time": "2021-10-31T18:38:07.517Z"
   },
   {
    "duration": 88,
    "start_time": "2021-10-31T18:38:07.600Z"
   },
   {
    "duration": 139,
    "start_time": "2021-10-31T18:38:07.691Z"
   },
   {
    "duration": 47,
    "start_time": "2021-10-31T18:38:07.833Z"
   },
   {
    "duration": 24,
    "start_time": "2021-10-31T18:38:07.882Z"
   },
   {
    "duration": 36,
    "start_time": "2021-10-31T18:38:07.909Z"
   },
   {
    "duration": 11,
    "start_time": "2021-10-31T18:38:07.948Z"
   },
   {
    "duration": 651,
    "start_time": "2021-10-31T18:38:07.962Z"
   },
   {
    "duration": 42,
    "start_time": "2021-10-31T18:38:08.616Z"
   },
   {
    "duration": 244,
    "start_time": "2021-10-31T18:38:08.660Z"
   },
   {
    "duration": 9,
    "start_time": "2021-10-31T18:38:08.907Z"
   },
   {
    "duration": 41,
    "start_time": "2021-10-31T18:38:08.918Z"
   },
   {
    "duration": 9,
    "start_time": "2021-10-31T18:38:08.961Z"
   },
   {
    "duration": 629,
    "start_time": "2021-10-31T18:38:08.972Z"
   },
   {
    "duration": 31,
    "start_time": "2021-10-31T18:38:09.604Z"
   },
   {
    "duration": 5,
    "start_time": "2021-10-31T18:38:09.643Z"
   },
   {
    "duration": 915,
    "start_time": "2021-10-31T18:38:09.652Z"
   },
   {
    "duration": 173,
    "start_time": "2021-10-31T18:38:10.570Z"
   },
   {
    "duration": 33,
    "start_time": "2021-10-31T18:38:10.801Z"
   },
   {
    "duration": 69,
    "start_time": "2021-10-31T18:38:10.838Z"
   },
   {
    "duration": 133,
    "start_time": "2021-10-31T18:38:10.910Z"
   },
   {
    "duration": 6,
    "start_time": "2021-10-31T18:38:11.045Z"
   },
   {
    "duration": 69,
    "start_time": "2021-10-31T18:38:11.055Z"
   },
   {
    "duration": 85,
    "start_time": "2021-10-31T18:38:11.127Z"
   },
   {
    "duration": 1691,
    "start_time": "2021-10-31T18:38:11.215Z"
   },
   {
    "duration": 1846,
    "start_time": "2021-10-31T18:38:12.910Z"
   },
   {
    "duration": 1660,
    "start_time": "2021-10-31T18:38:14.759Z"
   },
   {
    "duration": 1755,
    "start_time": "2021-10-31T18:38:16.422Z"
   },
   {
    "duration": 5,
    "start_time": "2021-10-31T18:38:18.180Z"
   },
   {
    "duration": 135,
    "start_time": "2021-10-31T18:38:18.187Z"
   },
   {
    "duration": 5,
    "start_time": "2021-10-31T18:38:18.324Z"
   },
   {
    "duration": 442,
    "start_time": "2021-10-31T18:38:18.331Z"
   },
   {
    "duration": 235,
    "start_time": "2021-10-31T18:38:18.776Z"
   },
   {
    "duration": 225,
    "start_time": "2021-10-31T18:38:19.013Z"
   },
   {
    "duration": 9,
    "start_time": "2021-10-31T18:38:19.240Z"
   },
   {
    "duration": 54,
    "start_time": "2021-10-31T18:38:19.251Z"
   },
   {
    "duration": 236,
    "start_time": "2021-10-31T18:38:19.308Z"
   },
   {
    "duration": 146,
    "start_time": "2021-10-31T18:38:19.547Z"
   },
   {
    "duration": 222,
    "start_time": "2021-10-31T18:38:19.701Z"
   },
   {
    "duration": 321,
    "start_time": "2021-10-31T18:38:19.926Z"
   },
   {
    "duration": 1629,
    "start_time": "2021-10-31T18:41:44.616Z"
   },
   {
    "duration": 1816,
    "start_time": "2021-10-31T18:45:50.645Z"
   },
   {
    "duration": 1319,
    "start_time": "2021-10-31T18:46:10.271Z"
   },
   {
    "duration": 1979,
    "start_time": "2021-10-31T18:47:55.048Z"
   },
   {
    "duration": 2193,
    "start_time": "2021-10-31T18:49:10.849Z"
   },
   {
    "duration": 1759,
    "start_time": "2021-10-31T18:52:36.704Z"
   },
   {
    "duration": 2021,
    "start_time": "2021-10-31T18:55:28.556Z"
   },
   {
    "duration": 1697,
    "start_time": "2021-10-31T18:56:01.514Z"
   },
   {
    "duration": 2141,
    "start_time": "2021-10-31T18:56:12.673Z"
   },
   {
    "duration": 1666,
    "start_time": "2021-10-31T18:57:04.934Z"
   },
   {
    "duration": 2212,
    "start_time": "2021-10-31T18:57:17.988Z"
   },
   {
    "duration": 2110,
    "start_time": "2021-10-31T18:57:28.572Z"
   },
   {
    "duration": 2258,
    "start_time": "2021-10-31T18:57:53.860Z"
   },
   {
    "duration": 1713,
    "start_time": "2021-10-31T18:58:17.159Z"
   },
   {
    "duration": 2194,
    "start_time": "2021-10-31T18:58:38.268Z"
   },
   {
    "duration": 1912,
    "start_time": "2021-10-31T18:58:40.465Z"
   },
   {
    "duration": 2077,
    "start_time": "2021-10-31T18:58:42.380Z"
   },
   {
    "duration": 1994,
    "start_time": "2021-10-31T19:36:18.063Z"
   },
   {
    "duration": 172,
    "start_time": "2021-10-31T19:36:20.060Z"
   },
   {
    "duration": 15,
    "start_time": "2021-10-31T19:36:20.235Z"
   },
   {
    "duration": 173,
    "start_time": "2021-10-31T19:36:20.252Z"
   },
   {
    "duration": 21,
    "start_time": "2021-10-31T19:36:20.427Z"
   },
   {
    "duration": 23,
    "start_time": "2021-10-31T19:36:20.450Z"
   },
   {
    "duration": 34,
    "start_time": "2021-10-31T19:36:20.476Z"
   },
   {
    "duration": 55,
    "start_time": "2021-10-31T19:36:20.514Z"
   },
   {
    "duration": 105,
    "start_time": "2021-10-31T19:36:20.572Z"
   },
   {
    "duration": 129,
    "start_time": "2021-10-31T19:36:20.680Z"
   },
   {
    "duration": 46,
    "start_time": "2021-10-31T19:36:20.812Z"
   },
   {
    "duration": 7,
    "start_time": "2021-10-31T19:36:20.861Z"
   },
   {
    "duration": 58,
    "start_time": "2021-10-31T19:36:20.871Z"
   },
   {
    "duration": 9,
    "start_time": "2021-10-31T19:36:20.932Z"
   },
   {
    "duration": 631,
    "start_time": "2021-10-31T19:36:20.944Z"
   },
   {
    "duration": 47,
    "start_time": "2021-10-31T19:36:21.577Z"
   },
   {
    "duration": 234,
    "start_time": "2021-10-31T19:36:21.626Z"
   },
   {
    "duration": 9,
    "start_time": "2021-10-31T19:36:21.863Z"
   },
   {
    "duration": 60,
    "start_time": "2021-10-31T19:36:21.874Z"
   },
   {
    "duration": 8,
    "start_time": "2021-10-31T19:36:21.937Z"
   },
   {
    "duration": 613,
    "start_time": "2021-10-31T19:36:21.948Z"
   },
   {
    "duration": 37,
    "start_time": "2021-10-31T19:36:22.564Z"
   },
   {
    "duration": 5,
    "start_time": "2021-10-31T19:36:22.604Z"
   },
   {
    "duration": 898,
    "start_time": "2021-10-31T19:36:22.611Z"
   },
   {
    "duration": 125,
    "start_time": "2021-10-31T19:36:23.512Z"
   },
   {
    "duration": 79,
    "start_time": "2021-10-31T19:36:23.642Z"
   },
   {
    "duration": 74,
    "start_time": "2021-10-31T19:36:23.726Z"
   },
   {
    "duration": 63,
    "start_time": "2021-10-31T19:36:23.803Z"
   },
   {
    "duration": 5,
    "start_time": "2021-10-31T19:36:23.869Z"
   },
   {
    "duration": 50,
    "start_time": "2021-10-31T19:36:23.877Z"
   },
   {
    "duration": 97,
    "start_time": "2021-10-31T19:36:23.929Z"
   },
   {
    "duration": 1979,
    "start_time": "2021-10-31T19:36:24.029Z"
   },
   {
    "duration": 2079,
    "start_time": "2021-10-31T19:36:26.011Z"
   },
   {
    "duration": 1908,
    "start_time": "2021-10-31T19:36:28.093Z"
   },
   {
    "duration": 2123,
    "start_time": "2021-10-31T19:36:30.003Z"
   },
   {
    "duration": 5,
    "start_time": "2021-10-31T19:36:32.128Z"
   },
   {
    "duration": 135,
    "start_time": "2021-10-31T19:36:32.135Z"
   },
   {
    "duration": 5,
    "start_time": "2021-10-31T19:36:32.272Z"
   },
   {
    "duration": 222,
    "start_time": "2021-10-31T19:36:32.279Z"
   },
   {
    "duration": 217,
    "start_time": "2021-10-31T19:36:32.504Z"
   },
   {
    "duration": 246,
    "start_time": "2021-10-31T19:36:32.724Z"
   },
   {
    "duration": 10,
    "start_time": "2021-10-31T19:36:32.973Z"
   },
   {
    "duration": 37,
    "start_time": "2021-10-31T19:36:33.001Z"
   },
   {
    "duration": 236,
    "start_time": "2021-10-31T19:36:33.041Z"
   },
   {
    "duration": 142,
    "start_time": "2021-10-31T19:36:33.280Z"
   },
   {
    "duration": 221,
    "start_time": "2021-10-31T19:36:33.424Z"
   },
   {
    "duration": 218,
    "start_time": "2021-10-31T19:36:33.647Z"
   },
   {
    "duration": 7,
    "start_time": "2021-10-31T19:58:19.948Z"
   },
   {
    "duration": 121,
    "start_time": "2021-10-31T19:59:08.335Z"
   },
   {
    "duration": 656,
    "start_time": "2021-10-31T19:59:38.347Z"
   },
   {
    "duration": 5,
    "start_time": "2021-10-31T20:00:16.047Z"
   },
   {
    "duration": 512,
    "start_time": "2021-10-31T20:00:20.690Z"
   },
   {
    "duration": 815,
    "start_time": "2021-10-31T20:00:45.766Z"
   },
   {
    "duration": 1050,
    "start_time": "2021-10-31T20:01:15.783Z"
   },
   {
    "duration": 625,
    "start_time": "2021-10-31T20:04:54.480Z"
   },
   {
    "duration": 91,
    "start_time": "2021-10-31T20:06:01.268Z"
   },
   {
    "duration": 89,
    "start_time": "2021-10-31T20:07:24.616Z"
   },
   {
    "duration": 86,
    "start_time": "2021-10-31T20:07:59.292Z"
   },
   {
    "duration": 87,
    "start_time": "2021-10-31T20:08:18.271Z"
   },
   {
    "duration": 44,
    "start_time": "2021-10-31T20:08:39.937Z"
   },
   {
    "duration": 46,
    "start_time": "2021-10-31T20:08:53.424Z"
   },
   {
    "duration": 85,
    "start_time": "2021-10-31T20:09:21.299Z"
   },
   {
    "duration": 88,
    "start_time": "2021-10-31T20:09:33.676Z"
   },
   {
    "duration": 68,
    "start_time": "2021-10-31T20:10:49.834Z"
   },
   {
    "duration": 50,
    "start_time": "2021-10-31T20:11:17.860Z"
   },
   {
    "duration": 53,
    "start_time": "2021-10-31T20:11:26.794Z"
   },
   {
    "duration": 53,
    "start_time": "2021-10-31T20:11:34.383Z"
   },
   {
    "duration": 52,
    "start_time": "2021-10-31T20:11:52.399Z"
   },
   {
    "duration": 49,
    "start_time": "2021-10-31T20:12:11.198Z"
   },
   {
    "duration": 548,
    "start_time": "2021-10-31T20:12:22.661Z"
   },
   {
    "duration": 48,
    "start_time": "2021-10-31T20:12:37.403Z"
   },
   {
    "duration": 51,
    "start_time": "2021-10-31T20:13:12.583Z"
   },
   {
    "duration": 53,
    "start_time": "2021-10-31T20:13:47.000Z"
   },
   {
    "duration": 57,
    "start_time": "2021-10-31T20:13:56.758Z"
   },
   {
    "duration": 49,
    "start_time": "2021-10-31T20:14:05.232Z"
   },
   {
    "duration": 51,
    "start_time": "2021-10-31T20:15:15.245Z"
   },
   {
    "duration": 6,
    "start_time": "2021-10-31T20:17:17.222Z"
   },
   {
    "duration": 58,
    "start_time": "2021-10-31T20:18:43.170Z"
   },
   {
    "duration": 6,
    "start_time": "2021-10-31T20:18:46.042Z"
   },
   {
    "duration": 180,
    "start_time": "2021-10-31T20:18:48.439Z"
   },
   {
    "duration": 10,
    "start_time": "2021-10-31T20:18:58.197Z"
   },
   {
    "duration": 181,
    "start_time": "2021-10-31T20:19:11.795Z"
   },
   {
    "duration": 49,
    "start_time": "2021-10-31T20:23:46.365Z"
   },
   {
    "duration": 693,
    "start_time": "2021-10-31T20:25:47.431Z"
   },
   {
    "duration": -113,
    "start_time": "2021-10-31T20:25:48.240Z"
   },
   {
    "duration": 1923,
    "start_time": "2021-10-31T20:26:44.314Z"
   },
   {
    "duration": 176,
    "start_time": "2021-10-31T20:26:46.240Z"
   },
   {
    "duration": 15,
    "start_time": "2021-10-31T20:26:46.419Z"
   },
   {
    "duration": 175,
    "start_time": "2021-10-31T20:26:46.436Z"
   },
   {
    "duration": 22,
    "start_time": "2021-10-31T20:26:46.614Z"
   },
   {
    "duration": 16,
    "start_time": "2021-10-31T20:26:46.639Z"
   },
   {
    "duration": 28,
    "start_time": "2021-10-31T20:26:46.658Z"
   },
   {
    "duration": 52,
    "start_time": "2021-10-31T20:26:46.701Z"
   },
   {
    "duration": 117,
    "start_time": "2021-10-31T20:26:46.756Z"
   },
   {
    "duration": 127,
    "start_time": "2021-10-31T20:26:46.876Z"
   },
   {
    "duration": 40,
    "start_time": "2021-10-31T20:26:47.005Z"
   },
   {
    "duration": 7,
    "start_time": "2021-10-31T20:26:47.048Z"
   },
   {
    "duration": 60,
    "start_time": "2021-10-31T20:26:47.057Z"
   },
   {
    "duration": 8,
    "start_time": "2021-10-31T20:26:47.120Z"
   },
   {
    "duration": 626,
    "start_time": "2021-10-31T20:26:47.131Z"
   },
   {
    "duration": 50,
    "start_time": "2021-10-31T20:26:47.760Z"
   },
   {
    "duration": 255,
    "start_time": "2021-10-31T20:26:47.813Z"
   },
   {
    "duration": 8,
    "start_time": "2021-10-31T20:26:48.070Z"
   },
   {
    "duration": 51,
    "start_time": "2021-10-31T20:26:48.080Z"
   },
   {
    "duration": 8,
    "start_time": "2021-10-31T20:26:48.133Z"
   },
   {
    "duration": 603,
    "start_time": "2021-10-31T20:26:48.143Z"
   },
   {
    "duration": 71,
    "start_time": "2021-10-31T20:26:48.749Z"
   },
   {
    "duration": 5,
    "start_time": "2021-10-31T20:26:48.826Z"
   },
   {
    "duration": 15,
    "start_time": "2021-10-31T20:26:48.834Z"
   },
   {
    "duration": 885,
    "start_time": "2021-10-31T20:26:48.851Z"
   },
   {
    "duration": 164,
    "start_time": "2021-10-31T20:26:49.738Z"
   },
   {
    "duration": 96,
    "start_time": "2021-10-31T20:26:49.905Z"
   },
   {
    "duration": 35,
    "start_time": "2021-10-31T20:26:50.005Z"
   },
   {
    "duration": 18,
    "start_time": "2021-10-31T20:26:50.042Z"
   },
   {
    "duration": 63,
    "start_time": "2021-10-31T20:26:50.101Z"
   },
   {
    "duration": 6,
    "start_time": "2021-10-31T20:26:50.166Z"
   },
   {
    "duration": 51,
    "start_time": "2021-10-31T20:26:50.175Z"
   },
   {
    "duration": 93,
    "start_time": "2021-10-31T20:26:50.228Z"
   },
   {
    "duration": 2003,
    "start_time": "2021-10-31T20:26:50.324Z"
   },
   {
    "duration": 2214,
    "start_time": "2021-10-31T20:26:52.330Z"
   },
   {
    "duration": 1913,
    "start_time": "2021-10-31T20:26:54.547Z"
   },
   {
    "duration": 2114,
    "start_time": "2021-10-31T20:26:56.463Z"
   },
   {
    "duration": 5,
    "start_time": "2021-10-31T20:26:58.580Z"
   },
   {
    "duration": 134,
    "start_time": "2021-10-31T20:26:58.587Z"
   },
   {
    "duration": 4,
    "start_time": "2021-10-31T20:26:58.724Z"
   },
   {
    "duration": 228,
    "start_time": "2021-10-31T20:26:58.731Z"
   },
   {
    "duration": 219,
    "start_time": "2021-10-31T20:26:58.962Z"
   },
   {
    "duration": 225,
    "start_time": "2021-10-31T20:26:59.183Z"
   },
   {
    "duration": 8,
    "start_time": "2021-10-31T20:26:59.411Z"
   },
   {
    "duration": 36,
    "start_time": "2021-10-31T20:26:59.422Z"
   },
   {
    "duration": 260,
    "start_time": "2021-10-31T20:26:59.461Z"
   },
   {
    "duration": 143,
    "start_time": "2021-10-31T20:26:59.723Z"
   },
   {
    "duration": 958,
    "start_time": "2021-10-31T20:26:59.869Z"
   },
   {
    "duration": -90,
    "start_time": "2021-10-31T20:27:00.920Z"
   },
   {
    "duration": 231,
    "start_time": "2021-10-31T20:28:09.336Z"
   },
   {
    "duration": 208,
    "start_time": "2021-10-31T20:30:11.296Z"
   },
   {
    "duration": 1928,
    "start_time": "2021-11-01T08:53:08.556Z"
   },
   {
    "duration": 165,
    "start_time": "2021-11-01T08:53:10.486Z"
   },
   {
    "duration": 15,
    "start_time": "2021-11-01T08:53:10.653Z"
   },
   {
    "duration": 161,
    "start_time": "2021-11-01T08:53:10.682Z"
   },
   {
    "duration": 20,
    "start_time": "2021-11-01T08:53:10.845Z"
   },
   {
    "duration": 20,
    "start_time": "2021-11-01T08:53:10.867Z"
   },
   {
    "duration": 18,
    "start_time": "2021-11-01T08:53:10.891Z"
   },
   {
    "duration": 80,
    "start_time": "2021-11-01T08:53:10.914Z"
   },
   {
    "duration": 96,
    "start_time": "2021-11-01T08:53:10.998Z"
   },
   {
    "duration": 131,
    "start_time": "2021-11-01T08:53:11.096Z"
   },
   {
    "duration": 54,
    "start_time": "2021-11-01T08:53:11.230Z"
   },
   {
    "duration": 7,
    "start_time": "2021-11-01T08:53:11.286Z"
   },
   {
    "duration": 33,
    "start_time": "2021-11-01T08:53:11.296Z"
   },
   {
    "duration": 8,
    "start_time": "2021-11-01T08:53:11.331Z"
   },
   {
    "duration": 649,
    "start_time": "2021-11-01T08:53:11.341Z"
   },
   {
    "duration": 41,
    "start_time": "2021-11-01T08:53:11.993Z"
   },
   {
    "duration": 232,
    "start_time": "2021-11-01T08:53:12.037Z"
   },
   {
    "duration": 15,
    "start_time": "2021-11-01T08:53:12.272Z"
   },
   {
    "duration": 38,
    "start_time": "2021-11-01T08:53:12.289Z"
   },
   {
    "duration": 8,
    "start_time": "2021-11-01T08:53:12.330Z"
   },
   {
    "duration": 598,
    "start_time": "2021-11-01T08:53:12.341Z"
   },
   {
    "duration": 68,
    "start_time": "2021-11-01T08:53:12.942Z"
   },
   {
    "duration": 6,
    "start_time": "2021-11-01T08:53:13.015Z"
   },
   {
    "duration": 11,
    "start_time": "2021-11-01T08:53:13.024Z"
   },
   {
    "duration": 853,
    "start_time": "2021-11-01T08:53:13.037Z"
   },
   {
    "duration": 127,
    "start_time": "2021-11-01T08:53:13.892Z"
   },
   {
    "duration": 100,
    "start_time": "2021-11-01T08:53:14.021Z"
   },
   {
    "duration": 65,
    "start_time": "2021-11-01T08:53:14.123Z"
   },
   {
    "duration": 17,
    "start_time": "2021-11-01T08:53:14.190Z"
   },
   {
    "duration": 86,
    "start_time": "2021-11-01T08:53:14.210Z"
   },
   {
    "duration": 5,
    "start_time": "2021-11-01T08:53:14.299Z"
   },
   {
    "duration": 27,
    "start_time": "2021-11-01T08:53:14.306Z"
   },
   {
    "duration": 91,
    "start_time": "2021-11-01T08:53:14.335Z"
   },
   {
    "duration": 1888,
    "start_time": "2021-11-01T08:53:14.429Z"
   },
   {
    "duration": 2039,
    "start_time": "2021-11-01T08:53:16.319Z"
   },
   {
    "duration": 1940,
    "start_time": "2021-11-01T08:53:18.360Z"
   },
   {
    "duration": 2095,
    "start_time": "2021-11-01T08:53:20.303Z"
   },
   {
    "duration": 5,
    "start_time": "2021-11-01T08:53:22.401Z"
   },
   {
    "duration": 128,
    "start_time": "2021-11-01T08:53:22.409Z"
   },
   {
    "duration": 4,
    "start_time": "2021-11-01T08:53:22.540Z"
   },
   {
    "duration": 216,
    "start_time": "2021-11-01T08:53:22.547Z"
   },
   {
    "duration": 203,
    "start_time": "2021-11-01T08:53:22.766Z"
   },
   {
    "duration": 204,
    "start_time": "2021-11-01T08:53:22.982Z"
   },
   {
    "duration": 8,
    "start_time": "2021-11-01T08:53:23.188Z"
   },
   {
    "duration": 33,
    "start_time": "2021-11-01T08:53:23.198Z"
   },
   {
    "duration": 233,
    "start_time": "2021-11-01T08:53:23.234Z"
   },
   {
    "duration": 139,
    "start_time": "2021-11-01T08:53:23.469Z"
   },
   {
    "duration": 248,
    "start_time": "2021-11-01T08:53:23.610Z"
   },
   {
    "duration": 216,
    "start_time": "2021-11-01T08:53:23.861Z"
   },
   {
    "duration": 1922,
    "start_time": "2021-11-01T12:14:59.262Z"
   },
   {
    "duration": 165,
    "start_time": "2021-11-01T12:15:01.187Z"
   },
   {
    "duration": 14,
    "start_time": "2021-11-01T12:15:01.355Z"
   },
   {
    "duration": 158,
    "start_time": "2021-11-01T12:15:01.382Z"
   },
   {
    "duration": 21,
    "start_time": "2021-11-01T12:15:01.543Z"
   },
   {
    "duration": 22,
    "start_time": "2021-11-01T12:15:01.567Z"
   },
   {
    "duration": 37,
    "start_time": "2021-11-01T12:15:01.592Z"
   },
   {
    "duration": 58,
    "start_time": "2021-11-01T12:15:01.633Z"
   },
   {
    "duration": 104,
    "start_time": "2021-11-01T12:15:01.694Z"
   },
   {
    "duration": 126,
    "start_time": "2021-11-01T12:15:01.800Z"
   },
   {
    "duration": 39,
    "start_time": "2021-11-01T12:15:01.928Z"
   },
   {
    "duration": 7,
    "start_time": "2021-11-01T12:15:01.983Z"
   },
   {
    "duration": 55,
    "start_time": "2021-11-01T12:15:01.993Z"
   },
   {
    "duration": 8,
    "start_time": "2021-11-01T12:15:02.051Z"
   },
   {
    "duration": 743,
    "start_time": "2021-11-01T12:15:02.061Z"
   },
   {
    "duration": 44,
    "start_time": "2021-11-01T12:15:02.806Z"
   },
   {
    "duration": 248,
    "start_time": "2021-11-01T12:15:02.852Z"
   },
   {
    "duration": 8,
    "start_time": "2021-11-01T12:15:03.102Z"
   },
   {
    "duration": 41,
    "start_time": "2021-11-01T12:15:03.113Z"
   },
   {
    "duration": 31,
    "start_time": "2021-11-01T12:15:03.156Z"
   },
   {
    "duration": 584,
    "start_time": "2021-11-01T12:15:03.190Z"
   },
   {
    "duration": 59,
    "start_time": "2021-11-01T12:15:03.782Z"
   },
   {
    "duration": 6,
    "start_time": "2021-11-01T12:15:03.848Z"
   },
   {
    "duration": 28,
    "start_time": "2021-11-01T12:15:03.857Z"
   },
   {
    "duration": 863,
    "start_time": "2021-11-01T12:15:03.888Z"
   },
   {
    "duration": 151,
    "start_time": "2021-11-01T12:15:04.754Z"
   },
   {
    "duration": 98,
    "start_time": "2021-11-01T12:15:04.907Z"
   },
   {
    "duration": 31,
    "start_time": "2021-11-01T12:15:05.008Z"
   },
   {
    "duration": 19,
    "start_time": "2021-11-01T12:15:05.082Z"
   },
   {
    "duration": 87,
    "start_time": "2021-11-01T12:15:05.104Z"
   },
   {
    "duration": 7,
    "start_time": "2021-11-01T12:15:05.194Z"
   },
   {
    "duration": 30,
    "start_time": "2021-11-01T12:15:05.204Z"
   },
   {
    "duration": 103,
    "start_time": "2021-11-01T12:15:05.237Z"
   },
   {
    "duration": 1971,
    "start_time": "2021-11-01T12:15:05.343Z"
   },
   {
    "duration": 2351,
    "start_time": "2021-11-01T12:15:07.317Z"
   },
   {
    "duration": 1852,
    "start_time": "2021-11-01T12:15:09.681Z"
   },
   {
    "duration": 2050,
    "start_time": "2021-11-01T12:15:11.536Z"
   },
   {
    "duration": 6,
    "start_time": "2021-11-01T12:15:13.589Z"
   },
   {
    "duration": 138,
    "start_time": "2021-11-01T12:15:13.598Z"
   },
   {
    "duration": 4,
    "start_time": "2021-11-01T12:15:13.739Z"
   },
   {
    "duration": 10,
    "start_time": "2021-11-01T12:15:13.745Z"
   },
   {
    "duration": 226,
    "start_time": "2021-11-01T12:15:13.758Z"
   },
   {
    "duration": 201,
    "start_time": "2021-11-01T12:15:13.987Z"
   },
   {
    "duration": 209,
    "start_time": "2021-11-01T12:15:14.190Z"
   },
   {
    "duration": 8,
    "start_time": "2021-11-01T12:15:14.402Z"
   },
   {
    "duration": 34,
    "start_time": "2021-11-01T12:15:14.413Z"
   },
   {
    "duration": 227,
    "start_time": "2021-11-01T12:15:14.450Z"
   },
   {
    "duration": 131,
    "start_time": "2021-11-01T12:15:14.682Z"
   },
   {
    "duration": 238,
    "start_time": "2021-11-01T12:15:14.815Z"
   },
   {
    "duration": 226,
    "start_time": "2021-11-01T12:15:15.056Z"
   },
   {
    "duration": 1548,
    "start_time": "2021-11-02T07:07:01.620Z"
   },
   {
    "duration": 116,
    "start_time": "2021-11-02T07:07:03.170Z"
   },
   {
    "duration": 11,
    "start_time": "2021-11-02T07:07:03.288Z"
   },
   {
    "duration": 114,
    "start_time": "2021-11-02T07:07:03.301Z"
   },
   {
    "duration": 14,
    "start_time": "2021-11-02T07:07:03.417Z"
   },
   {
    "duration": 7,
    "start_time": "2021-11-02T07:07:03.433Z"
   },
   {
    "duration": 16,
    "start_time": "2021-11-02T07:07:03.441Z"
   },
   {
    "duration": 55,
    "start_time": "2021-11-02T07:07:03.460Z"
   },
   {
    "duration": 50,
    "start_time": "2021-11-02T07:07:03.517Z"
   },
   {
    "duration": 88,
    "start_time": "2021-11-02T07:07:03.569Z"
   },
   {
    "duration": 32,
    "start_time": "2021-11-02T07:07:03.659Z"
   },
   {
    "duration": 5,
    "start_time": "2021-11-02T07:07:03.693Z"
   },
   {
    "duration": 24,
    "start_time": "2021-11-02T07:07:03.699Z"
   },
   {
    "duration": 6,
    "start_time": "2021-11-02T07:07:03.724Z"
   },
   {
    "duration": 371,
    "start_time": "2021-11-02T07:07:03.732Z"
   },
   {
    "duration": 27,
    "start_time": "2021-11-02T07:07:04.104Z"
   },
   {
    "duration": 141,
    "start_time": "2021-11-02T07:07:04.132Z"
   },
   {
    "duration": 6,
    "start_time": "2021-11-02T07:07:04.275Z"
   },
   {
    "duration": 27,
    "start_time": "2021-11-02T07:07:04.291Z"
   },
   {
    "duration": 6,
    "start_time": "2021-11-02T07:07:04.320Z"
   },
   {
    "duration": 343,
    "start_time": "2021-11-02T07:07:04.327Z"
   },
   {
    "duration": 48,
    "start_time": "2021-11-02T07:07:04.672Z"
   },
   {
    "duration": 4,
    "start_time": "2021-11-02T07:07:04.723Z"
   },
   {
    "duration": 8,
    "start_time": "2021-11-02T07:07:04.729Z"
   },
   {
    "duration": 579,
    "start_time": "2021-11-02T07:07:04.738Z"
   },
   {
    "duration": 93,
    "start_time": "2021-11-02T07:07:05.319Z"
   },
   {
    "duration": 80,
    "start_time": "2021-11-02T07:07:05.413Z"
   },
   {
    "duration": 17,
    "start_time": "2021-11-02T07:07:05.494Z"
   },
   {
    "duration": 11,
    "start_time": "2021-11-02T07:07:05.512Z"
   },
   {
    "duration": 68,
    "start_time": "2021-11-02T07:07:05.525Z"
   },
   {
    "duration": 3,
    "start_time": "2021-11-02T07:07:05.595Z"
   },
   {
    "duration": 19,
    "start_time": "2021-11-02T07:07:05.600Z"
   },
   {
    "duration": 47,
    "start_time": "2021-11-02T07:07:05.621Z"
   },
   {
    "duration": 1128,
    "start_time": "2021-11-02T07:07:05.670Z"
   },
   {
    "duration": 1220,
    "start_time": "2021-11-02T07:07:06.799Z"
   },
   {
    "duration": 1089,
    "start_time": "2021-11-02T07:07:08.021Z"
   },
   {
    "duration": 1232,
    "start_time": "2021-11-02T07:07:09.112Z"
   },
   {
    "duration": 4,
    "start_time": "2021-11-02T07:07:10.345Z"
   },
   {
    "duration": 88,
    "start_time": "2021-11-02T07:07:10.350Z"
   },
   {
    "duration": 3,
    "start_time": "2021-11-02T07:07:10.439Z"
   },
   {
    "duration": 8,
    "start_time": "2021-11-02T07:07:10.444Z"
   },
   {
    "duration": 138,
    "start_time": "2021-11-02T07:07:10.453Z"
   },
   {
    "duration": 136,
    "start_time": "2021-11-02T07:07:10.593Z"
   },
   {
    "duration": 144,
    "start_time": "2021-11-02T07:07:10.731Z"
   },
   {
    "duration": 15,
    "start_time": "2021-11-02T07:07:10.876Z"
   },
   {
    "duration": 20,
    "start_time": "2021-11-02T07:07:10.893Z"
   },
   {
    "duration": 155,
    "start_time": "2021-11-02T07:07:10.915Z"
   },
   {
    "duration": 86,
    "start_time": "2021-11-02T07:07:11.071Z"
   },
   {
    "duration": 150,
    "start_time": "2021-11-02T07:07:11.159Z"
   },
   {
    "duration": 133,
    "start_time": "2021-11-02T07:07:11.311Z"
   },
   {
    "duration": 1345,
    "start_time": "2021-11-02T08:29:22.397Z"
   },
   {
    "duration": 130,
    "start_time": "2021-11-02T08:29:23.745Z"
   },
   {
    "duration": 15,
    "start_time": "2021-11-02T08:29:23.877Z"
   },
   {
    "duration": 112,
    "start_time": "2021-11-02T08:29:23.894Z"
   },
   {
    "duration": 15,
    "start_time": "2021-11-02T08:29:24.007Z"
   },
   {
    "duration": 6,
    "start_time": "2021-11-02T08:29:24.024Z"
   },
   {
    "duration": 14,
    "start_time": "2021-11-02T08:29:24.032Z"
   },
   {
    "duration": 56,
    "start_time": "2021-11-02T08:29:24.048Z"
   },
   {
    "duration": 52,
    "start_time": "2021-11-02T08:29:24.106Z"
   },
   {
    "duration": 97,
    "start_time": "2021-11-02T08:29:24.159Z"
   },
   {
    "duration": 35,
    "start_time": "2021-11-02T08:29:24.257Z"
   },
   {
    "duration": 5,
    "start_time": "2021-11-02T08:29:24.294Z"
   },
   {
    "duration": 25,
    "start_time": "2021-11-02T08:29:24.301Z"
   },
   {
    "duration": 7,
    "start_time": "2021-11-02T08:29:24.328Z"
   },
   {
    "duration": 385,
    "start_time": "2021-11-02T08:29:24.337Z"
   },
   {
    "duration": 27,
    "start_time": "2021-11-02T08:29:24.724Z"
   },
   {
    "duration": 151,
    "start_time": "2021-11-02T08:29:24.753Z"
   },
   {
    "duration": 5,
    "start_time": "2021-11-02T08:29:24.906Z"
   },
   {
    "duration": 40,
    "start_time": "2021-11-02T08:29:24.913Z"
   },
   {
    "duration": 6,
    "start_time": "2021-11-02T08:29:24.955Z"
   },
   {
    "duration": 374,
    "start_time": "2021-11-02T08:29:24.963Z"
   },
   {
    "duration": 41,
    "start_time": "2021-11-02T08:29:25.339Z"
   },
   {
    "duration": 4,
    "start_time": "2021-11-02T08:29:25.392Z"
   },
   {
    "duration": 8,
    "start_time": "2021-11-02T08:29:25.398Z"
   },
   {
    "duration": 583,
    "start_time": "2021-11-02T08:29:25.408Z"
   },
   {
    "duration": 100,
    "start_time": "2021-11-02T08:29:25.993Z"
   },
   {
    "duration": 32,
    "start_time": "2021-11-02T08:29:26.095Z"
   },
   {
    "duration": 69,
    "start_time": "2021-11-02T08:29:26.129Z"
   },
   {
    "duration": 12,
    "start_time": "2021-11-02T08:29:26.200Z"
   },
   {
    "duration": 40,
    "start_time": "2021-11-02T08:29:26.214Z"
   },
   {
    "duration": 35,
    "start_time": "2021-11-02T08:29:26.256Z"
   },
   {
    "duration": 18,
    "start_time": "2021-11-02T08:29:26.293Z"
   },
   {
    "duration": 50,
    "start_time": "2021-11-02T08:29:26.312Z"
   },
   {
    "duration": 1198,
    "start_time": "2021-11-02T08:29:26.364Z"
   },
   {
    "duration": 1249,
    "start_time": "2021-11-02T08:29:27.564Z"
   },
   {
    "duration": 1127,
    "start_time": "2021-11-02T08:29:28.815Z"
   },
   {
    "duration": 1307,
    "start_time": "2021-11-02T08:29:29.944Z"
   },
   {
    "duration": 4,
    "start_time": "2021-11-02T08:29:31.254Z"
   },
   {
    "duration": 94,
    "start_time": "2021-11-02T08:29:31.259Z"
   },
   {
    "duration": 3,
    "start_time": "2021-11-02T08:29:31.355Z"
   },
   {
    "duration": 13,
    "start_time": "2021-11-02T08:29:31.359Z"
   },
   {
    "duration": 143,
    "start_time": "2021-11-02T08:29:31.373Z"
   },
   {
    "duration": 141,
    "start_time": "2021-11-02T08:29:31.518Z"
   },
   {
    "duration": 158,
    "start_time": "2021-11-02T08:29:31.661Z"
   },
   {
    "duration": 7,
    "start_time": "2021-11-02T08:29:31.821Z"
   },
   {
    "duration": 26,
    "start_time": "2021-11-02T08:29:31.829Z"
   },
   {
    "duration": 167,
    "start_time": "2021-11-02T08:29:31.856Z"
   },
   {
    "duration": 98,
    "start_time": "2021-11-02T08:29:32.025Z"
   },
   {
    "duration": 158,
    "start_time": "2021-11-02T08:29:32.124Z"
   },
   {
    "duration": 134,
    "start_time": "2021-11-02T08:29:32.283Z"
   },
   {
    "duration": 312,
    "start_time": "2021-11-02T08:29:57.218Z"
   },
   {
    "duration": 5,
    "start_time": "2021-11-02T08:30:28.499Z"
   },
   {
    "duration": 7,
    "start_time": "2021-11-02T08:30:30.735Z"
   },
   {
    "duration": 251,
    "start_time": "2021-11-02T08:30:35.765Z"
   },
   {
    "duration": 181,
    "start_time": "2021-11-02T08:30:49.220Z"
   },
   {
    "duration": 8,
    "start_time": "2021-11-02T08:30:50.120Z"
   },
   {
    "duration": 1389,
    "start_time": "2021-11-02T08:31:23.885Z"
   },
   {
    "duration": 122,
    "start_time": "2021-11-02T08:31:25.276Z"
   },
   {
    "duration": 10,
    "start_time": "2021-11-02T08:31:25.402Z"
   },
   {
    "duration": 113,
    "start_time": "2021-11-02T08:31:25.413Z"
   },
   {
    "duration": 15,
    "start_time": "2021-11-02T08:31:25.528Z"
   },
   {
    "duration": 8,
    "start_time": "2021-11-02T08:31:25.544Z"
   },
   {
    "duration": 19,
    "start_time": "2021-11-02T08:31:25.554Z"
   },
   {
    "duration": 46,
    "start_time": "2021-11-02T08:31:25.575Z"
   },
   {
    "duration": 68,
    "start_time": "2021-11-02T08:31:25.623Z"
   },
   {
    "duration": 75,
    "start_time": "2021-11-02T08:31:25.693Z"
   },
   {
    "duration": 42,
    "start_time": "2021-11-02T08:31:25.770Z"
   },
   {
    "duration": 5,
    "start_time": "2021-11-02T08:31:25.814Z"
   },
   {
    "duration": 25,
    "start_time": "2021-11-02T08:31:25.821Z"
   },
   {
    "duration": 6,
    "start_time": "2021-11-02T08:31:25.848Z"
   },
   {
    "duration": 385,
    "start_time": "2021-11-02T08:31:25.856Z"
   },
   {
    "duration": 29,
    "start_time": "2021-11-02T08:31:26.243Z"
   },
   {
    "duration": 162,
    "start_time": "2021-11-02T08:31:26.274Z"
   },
   {
    "duration": 7,
    "start_time": "2021-11-02T08:31:26.438Z"
   },
   {
    "duration": 45,
    "start_time": "2021-11-02T08:31:26.446Z"
   },
   {
    "duration": 7,
    "start_time": "2021-11-02T08:31:26.493Z"
   },
   {
    "duration": 369,
    "start_time": "2021-11-02T08:31:26.501Z"
   },
   {
    "duration": 49,
    "start_time": "2021-11-02T08:31:26.875Z"
   },
   {
    "duration": 5,
    "start_time": "2021-11-02T08:31:26.927Z"
   },
   {
    "duration": 12,
    "start_time": "2021-11-02T08:31:26.933Z"
   },
   {
    "duration": 579,
    "start_time": "2021-11-02T08:31:26.946Z"
   },
   {
    "duration": 93,
    "start_time": "2021-11-02T08:31:27.527Z"
   },
   {
    "duration": 87,
    "start_time": "2021-11-02T08:31:27.622Z"
   },
   {
    "duration": 17,
    "start_time": "2021-11-02T08:31:27.711Z"
   },
   {
    "duration": 11,
    "start_time": "2021-11-02T08:31:27.729Z"
   },
   {
    "duration": 70,
    "start_time": "2021-11-02T08:31:27.742Z"
   },
   {
    "duration": 3,
    "start_time": "2021-11-02T08:31:27.814Z"
   },
   {
    "duration": 38,
    "start_time": "2021-11-02T08:31:27.819Z"
   },
   {
    "duration": 60,
    "start_time": "2021-11-02T08:31:27.859Z"
   },
   {
    "duration": 1163,
    "start_time": "2021-11-02T08:31:27.921Z"
   },
   {
    "duration": 1265,
    "start_time": "2021-11-02T08:31:29.085Z"
   },
   {
    "duration": 1109,
    "start_time": "2021-11-02T08:31:30.352Z"
   },
   {
    "duration": 1261,
    "start_time": "2021-11-02T08:31:31.463Z"
   },
   {
    "duration": 3,
    "start_time": "2021-11-02T08:31:32.726Z"
   },
   {
    "duration": 91,
    "start_time": "2021-11-02T08:31:32.730Z"
   },
   {
    "duration": 3,
    "start_time": "2021-11-02T08:31:32.822Z"
   },
   {
    "duration": 6,
    "start_time": "2021-11-02T08:31:32.827Z"
   },
   {
    "duration": 144,
    "start_time": "2021-11-02T08:31:32.834Z"
   },
   {
    "duration": 145,
    "start_time": "2021-11-02T08:31:32.980Z"
   },
   {
    "duration": 142,
    "start_time": "2021-11-02T08:31:33.127Z"
   },
   {
    "duration": 5,
    "start_time": "2021-11-02T08:31:33.271Z"
   },
   {
    "duration": 33,
    "start_time": "2021-11-02T08:31:33.277Z"
   },
   {
    "duration": 155,
    "start_time": "2021-11-02T08:31:33.312Z"
   },
   {
    "duration": 86,
    "start_time": "2021-11-02T08:31:33.469Z"
   },
   {
    "duration": 149,
    "start_time": "2021-11-02T08:31:33.557Z"
   },
   {
    "duration": 137,
    "start_time": "2021-11-02T08:31:33.708Z"
   },
   {
    "duration": 353,
    "start_time": "2021-11-02T08:33:13.492Z"
   },
   {
    "duration": 1262,
    "start_time": "2021-11-02T08:33:32.910Z"
   },
   {
    "duration": 115,
    "start_time": "2021-11-02T08:33:34.174Z"
   },
   {
    "duration": 10,
    "start_time": "2021-11-02T08:33:34.290Z"
   },
   {
    "duration": 113,
    "start_time": "2021-11-02T08:33:34.302Z"
   },
   {
    "duration": 14,
    "start_time": "2021-11-02T08:33:34.416Z"
   },
   {
    "duration": 6,
    "start_time": "2021-11-02T08:33:34.432Z"
   },
   {
    "duration": 14,
    "start_time": "2021-11-02T08:33:34.440Z"
   },
   {
    "duration": 59,
    "start_time": "2021-11-02T08:33:34.458Z"
   },
   {
    "duration": 52,
    "start_time": "2021-11-02T08:33:34.519Z"
   },
   {
    "duration": 93,
    "start_time": "2021-11-02T08:33:34.572Z"
   },
   {
    "duration": 44,
    "start_time": "2021-11-02T08:33:34.667Z"
   },
   {
    "duration": 7,
    "start_time": "2021-11-02T08:33:34.713Z"
   },
   {
    "duration": 24,
    "start_time": "2021-11-02T08:33:34.721Z"
   },
   {
    "duration": 7,
    "start_time": "2021-11-02T08:33:34.747Z"
   },
   {
    "duration": 418,
    "start_time": "2021-11-02T08:33:34.756Z"
   },
   {
    "duration": 36,
    "start_time": "2021-11-02T08:33:35.176Z"
   },
   {
    "duration": 143,
    "start_time": "2021-11-02T08:33:35.214Z"
   },
   {
    "duration": 5,
    "start_time": "2021-11-02T08:33:35.359Z"
   },
   {
    "duration": 41,
    "start_time": "2021-11-02T08:33:35.366Z"
   },
   {
    "duration": 5,
    "start_time": "2021-11-02T08:33:35.409Z"
   },
   {
    "duration": 346,
    "start_time": "2021-11-02T08:33:35.416Z"
   },
   {
    "duration": 48,
    "start_time": "2021-11-02T08:33:35.763Z"
   },
   {
    "duration": 5,
    "start_time": "2021-11-02T08:33:35.814Z"
   },
   {
    "duration": 10,
    "start_time": "2021-11-02T08:33:35.821Z"
   },
   {
    "duration": 568,
    "start_time": "2021-11-02T08:33:35.832Z"
   },
   {
    "duration": 101,
    "start_time": "2021-11-02T08:33:36.401Z"
   },
   {
    "duration": 33,
    "start_time": "2021-11-02T08:33:36.504Z"
   },
   {
    "duration": 70,
    "start_time": "2021-11-02T08:33:36.538Z"
   },
   {
    "duration": 12,
    "start_time": "2021-11-02T08:33:36.610Z"
   },
   {
    "duration": 70,
    "start_time": "2021-11-02T08:33:36.624Z"
   },
   {
    "duration": 3,
    "start_time": "2021-11-02T08:33:36.696Z"
   },
   {
    "duration": 27,
    "start_time": "2021-11-02T08:33:36.701Z"
   },
   {
    "duration": 51,
    "start_time": "2021-11-02T08:33:36.730Z"
   },
   {
    "duration": 1163,
    "start_time": "2021-11-02T08:33:36.782Z"
   },
   {
    "duration": 1242,
    "start_time": "2021-11-02T08:33:37.947Z"
   },
   {
    "duration": 1084,
    "start_time": "2021-11-02T08:33:39.191Z"
   },
   {
    "duration": 1237,
    "start_time": "2021-11-02T08:33:40.278Z"
   },
   {
    "duration": 4,
    "start_time": "2021-11-02T08:33:41.517Z"
   },
   {
    "duration": 90,
    "start_time": "2021-11-02T08:33:41.523Z"
   },
   {
    "duration": 3,
    "start_time": "2021-11-02T08:33:41.615Z"
   },
   {
    "duration": 9,
    "start_time": "2021-11-02T08:33:41.620Z"
   },
   {
    "duration": 147,
    "start_time": "2021-11-02T08:33:41.631Z"
   },
   {
    "duration": 145,
    "start_time": "2021-11-02T08:33:41.780Z"
   },
   {
    "duration": 148,
    "start_time": "2021-11-02T08:33:41.926Z"
   },
   {
    "duration": 17,
    "start_time": "2021-11-02T08:33:42.075Z"
   },
   {
    "duration": 19,
    "start_time": "2021-11-02T08:33:42.094Z"
   },
   {
    "duration": 150,
    "start_time": "2021-11-02T08:33:42.115Z"
   },
   {
    "duration": 87,
    "start_time": "2021-11-02T08:33:42.267Z"
   },
   {
    "duration": 369,
    "start_time": "2021-11-02T08:33:42.356Z"
   },
   {
    "duration": 1282,
    "start_time": "2021-11-02T08:33:41.445Z"
   },
   {
    "duration": 4,
    "start_time": "2021-11-02T08:34:40.969Z"
   },
   {
    "duration": 136,
    "start_time": "2021-11-02T08:34:55.044Z"
   },
   {
    "duration": 6,
    "start_time": "2021-11-02T08:35:11.990Z"
   },
   {
    "duration": 192,
    "start_time": "2021-11-02T08:35:35.724Z"
   },
   {
    "duration": 1324,
    "start_time": "2021-11-02T08:36:14.488Z"
   },
   {
    "duration": 116,
    "start_time": "2021-11-02T08:36:15.814Z"
   },
   {
    "duration": 11,
    "start_time": "2021-11-02T08:36:15.932Z"
   },
   {
    "duration": 111,
    "start_time": "2021-11-02T08:36:15.945Z"
   },
   {
    "duration": 16,
    "start_time": "2021-11-02T08:36:16.058Z"
   },
   {
    "duration": 17,
    "start_time": "2021-11-02T08:36:16.076Z"
   },
   {
    "duration": 16,
    "start_time": "2021-11-02T08:36:16.095Z"
   },
   {
    "duration": 34,
    "start_time": "2021-11-02T08:36:16.113Z"
   },
   {
    "duration": 78,
    "start_time": "2021-11-02T08:36:16.150Z"
   },
   {
    "duration": 87,
    "start_time": "2021-11-02T08:36:16.231Z"
   },
   {
    "duration": 28,
    "start_time": "2021-11-02T08:36:16.320Z"
   },
   {
    "duration": 7,
    "start_time": "2021-11-02T08:36:16.350Z"
   },
   {
    "duration": 44,
    "start_time": "2021-11-02T08:36:16.359Z"
   },
   {
    "duration": 8,
    "start_time": "2021-11-02T08:36:16.405Z"
   },
   {
    "duration": 371,
    "start_time": "2021-11-02T08:36:16.414Z"
   },
   {
    "duration": 31,
    "start_time": "2021-11-02T08:36:16.786Z"
   },
   {
    "duration": 147,
    "start_time": "2021-11-02T08:36:16.818Z"
   },
   {
    "duration": 6,
    "start_time": "2021-11-02T08:36:16.967Z"
   },
   {
    "duration": 37,
    "start_time": "2021-11-02T08:36:16.975Z"
   },
   {
    "duration": 5,
    "start_time": "2021-11-02T08:36:17.014Z"
   },
   {
    "duration": 363,
    "start_time": "2021-11-02T08:36:17.021Z"
   },
   {
    "duration": 46,
    "start_time": "2021-11-02T08:36:17.386Z"
   },
   {
    "duration": 6,
    "start_time": "2021-11-02T08:36:17.433Z"
   },
   {
    "duration": 12,
    "start_time": "2021-11-02T08:36:17.441Z"
   },
   {
    "duration": 566,
    "start_time": "2021-11-02T08:36:17.454Z"
   },
   {
    "duration": 95,
    "start_time": "2021-11-02T08:36:18.022Z"
   },
   {
    "duration": 86,
    "start_time": "2021-11-02T08:36:18.120Z"
   },
   {
    "duration": 18,
    "start_time": "2021-11-02T08:36:18.209Z"
   },
   {
    "duration": 13,
    "start_time": "2021-11-02T08:36:18.229Z"
   },
   {
    "duration": 82,
    "start_time": "2021-11-02T08:36:18.244Z"
   },
   {
    "duration": 4,
    "start_time": "2021-11-02T08:36:18.328Z"
   },
   {
    "duration": 21,
    "start_time": "2021-11-02T08:36:18.333Z"
   },
   {
    "duration": 70,
    "start_time": "2021-11-02T08:36:18.355Z"
   },
   {
    "duration": 1132,
    "start_time": "2021-11-02T08:36:18.427Z"
   },
   {
    "duration": 1297,
    "start_time": "2021-11-02T08:36:19.561Z"
   },
   {
    "duration": 1105,
    "start_time": "2021-11-02T08:36:20.860Z"
   },
   {
    "duration": 1278,
    "start_time": "2021-11-02T08:36:21.967Z"
   },
   {
    "duration": 3,
    "start_time": "2021-11-02T08:36:23.246Z"
   },
   {
    "duration": 90,
    "start_time": "2021-11-02T08:36:23.250Z"
   },
   {
    "duration": 5,
    "start_time": "2021-11-02T08:36:23.342Z"
   },
   {
    "duration": 13,
    "start_time": "2021-11-02T08:36:23.348Z"
   },
   {
    "duration": 146,
    "start_time": "2021-11-02T08:36:23.363Z"
   },
   {
    "duration": 138,
    "start_time": "2021-11-02T08:36:23.511Z"
   },
   {
    "duration": 154,
    "start_time": "2021-11-02T08:36:23.651Z"
   },
   {
    "duration": 6,
    "start_time": "2021-11-02T08:36:23.807Z"
   },
   {
    "duration": 26,
    "start_time": "2021-11-02T08:36:23.815Z"
   },
   {
    "duration": 171,
    "start_time": "2021-11-02T08:36:23.843Z"
   },
   {
    "duration": 96,
    "start_time": "2021-11-02T08:36:24.015Z"
   },
   {
    "duration": 150,
    "start_time": "2021-11-02T08:36:24.113Z"
   },
   {
    "duration": 6,
    "start_time": "2021-11-02T08:36:24.265Z"
   },
   {
    "duration": 143,
    "start_time": "2021-11-02T08:36:24.272Z"
   },
   {
    "duration": 1274,
    "start_time": "2021-11-02T08:37:09.298Z"
   },
   {
    "duration": 114,
    "start_time": "2021-11-02T08:37:10.574Z"
   },
   {
    "duration": 9,
    "start_time": "2021-11-02T08:37:10.690Z"
   },
   {
    "duration": 113,
    "start_time": "2021-11-02T08:37:10.701Z"
   },
   {
    "duration": 14,
    "start_time": "2021-11-02T08:37:10.816Z"
   },
   {
    "duration": 6,
    "start_time": "2021-11-02T08:37:10.832Z"
   },
   {
    "duration": 14,
    "start_time": "2021-11-02T08:37:10.839Z"
   },
   {
    "duration": 53,
    "start_time": "2021-11-02T08:37:10.855Z"
   },
   {
    "duration": 50,
    "start_time": "2021-11-02T08:37:10.910Z"
   },
   {
    "duration": 86,
    "start_time": "2021-11-02T08:37:10.961Z"
   },
   {
    "duration": 26,
    "start_time": "2021-11-02T08:37:11.049Z"
   },
   {
    "duration": 16,
    "start_time": "2021-11-02T08:37:11.076Z"
   },
   {
    "duration": 22,
    "start_time": "2021-11-02T08:37:11.093Z"
   },
   {
    "duration": 6,
    "start_time": "2021-11-02T08:37:11.117Z"
   },
   {
    "duration": 369,
    "start_time": "2021-11-02T08:37:11.124Z"
   },
   {
    "duration": 27,
    "start_time": "2021-11-02T08:37:11.495Z"
   },
   {
    "duration": 145,
    "start_time": "2021-11-02T08:37:11.523Z"
   },
   {
    "duration": 6,
    "start_time": "2021-11-02T08:37:11.669Z"
   },
   {
    "duration": 36,
    "start_time": "2021-11-02T08:37:11.677Z"
   },
   {
    "duration": 5,
    "start_time": "2021-11-02T08:37:11.715Z"
   },
   {
    "duration": 357,
    "start_time": "2021-11-02T08:37:11.722Z"
   },
   {
    "duration": 44,
    "start_time": "2021-11-02T08:37:12.080Z"
   },
   {
    "duration": 5,
    "start_time": "2021-11-02T08:37:12.127Z"
   },
   {
    "duration": 9,
    "start_time": "2021-11-02T08:37:12.133Z"
   },
   {
    "duration": 571,
    "start_time": "2021-11-02T08:37:12.144Z"
   },
   {
    "duration": 90,
    "start_time": "2021-11-02T08:37:12.717Z"
   },
   {
    "duration": 84,
    "start_time": "2021-11-02T08:37:12.809Z"
   },
   {
    "duration": 17,
    "start_time": "2021-11-02T08:37:12.894Z"
   },
   {
    "duration": 11,
    "start_time": "2021-11-02T08:37:12.912Z"
   },
   {
    "duration": 72,
    "start_time": "2021-11-02T08:37:12.924Z"
   },
   {
    "duration": 3,
    "start_time": "2021-11-02T08:37:12.997Z"
   },
   {
    "duration": 20,
    "start_time": "2021-11-02T08:37:13.002Z"
   },
   {
    "duration": 47,
    "start_time": "2021-11-02T08:37:13.024Z"
   },
   {
    "duration": 1160,
    "start_time": "2021-11-02T08:37:13.073Z"
   },
   {
    "duration": 1241,
    "start_time": "2021-11-02T08:37:14.235Z"
   },
   {
    "duration": 1104,
    "start_time": "2021-11-02T08:37:15.478Z"
   },
   {
    "duration": 1296,
    "start_time": "2021-11-02T08:37:16.591Z"
   },
   {
    "duration": 3,
    "start_time": "2021-11-02T08:37:17.889Z"
   },
   {
    "duration": 85,
    "start_time": "2021-11-02T08:37:17.893Z"
   },
   {
    "duration": 3,
    "start_time": "2021-11-02T08:37:17.991Z"
   },
   {
    "duration": 8,
    "start_time": "2021-11-02T08:37:17.997Z"
   },
   {
    "duration": 151,
    "start_time": "2021-11-02T08:37:18.007Z"
   },
   {
    "duration": 175,
    "start_time": "2021-11-02T08:37:18.160Z"
   },
   {
    "duration": 156,
    "start_time": "2021-11-02T08:37:18.336Z"
   },
   {
    "duration": 5,
    "start_time": "2021-11-02T08:37:18.494Z"
   },
   {
    "duration": 24,
    "start_time": "2021-11-02T08:37:18.501Z"
   },
   {
    "duration": 166,
    "start_time": "2021-11-02T08:37:18.527Z"
   },
   {
    "duration": 78,
    "start_time": "2021-11-02T08:37:18.695Z"
   },
   {
    "duration": 160,
    "start_time": "2021-11-02T08:37:18.774Z"
   },
   {
    "duration": 6,
    "start_time": "2021-11-02T08:37:18.935Z"
   },
   {
    "duration": 140,
    "start_time": "2021-11-02T08:37:18.942Z"
   }
  ],
  "kernelspec": {
   "display_name": "Python 3",
   "language": "python",
   "name": "python3"
  },
  "language_info": {
   "codemirror_mode": {
    "name": "ipython",
    "version": 3
   },
   "file_extension": ".py",
   "mimetype": "text/x-python",
   "name": "python",
   "nbconvert_exporter": "python",
   "pygments_lexer": "ipython3",
   "version": "3.8.8"
  },
  "toc": {
   "base_numbering": 1,
   "nav_menu": {},
   "number_sections": true,
   "sideBar": true,
   "skip_h1_title": true,
   "title_cell": "Table of Contents",
   "title_sidebar": "Contents",
   "toc_cell": false,
   "toc_position": {},
   "toc_section_display": true,
   "toc_window_display": false
  }
 },
 "nbformat": 4,
 "nbformat_minor": 2
}
