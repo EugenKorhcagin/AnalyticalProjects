{
 "cells": [
  {
   "cell_type": "markdown",
   "metadata": {},
   "source": [
    "# Исследование "
   ]
  },
  {
   "cell_type": "markdown",
   "metadata": {},
   "source": [
    "- Цель - изучить спрос пассажиров на авиабилеты в города, где проходят крупнейшие фестивали. \n",
    "- Данные: ***база данных об авиаперевозках в 2х фреймах csv.***\n",
    "- Задачи: исследовать данные, показать зависимости: модели самолётов и количество рейсов, города и количества рейсов, топ 10 городов и количество рейсов, пояснить зависимости по каждому графику. "
   ]
  },
  {
   "cell_type": "markdown",
   "metadata": {},
   "source": [
    "Импортируем библиотеки"
   ]
  },
  {
   "cell_type": "code",
   "execution_count": 1,
   "metadata": {},
   "outputs": [],
   "source": [
    "import pandas as pd\n",
    "import numpy as np\n",
    "import matplotlib.pyplot as plt\n",
    "import seaborn as sns"
   ]
  },
  {
   "cell_type": "markdown",
   "metadata": {},
   "source": [
    "## Изучение данных из файла"
   ]
  },
  {
   "cell_type": "markdown",
   "metadata": {},
   "source": [
    "Открываем датафреймы и исследуем данные с помощью метода info() и describe()"
   ]
  },
  {
   "cell_type": "code",
   "execution_count": 2,
   "metadata": {},
   "outputs": [
    {
     "name": "stdout",
     "output_type": "stream",
     "text": [
      "<class 'pandas.core.frame.DataFrame'>\n",
      "RangeIndex: 8 entries, 0 to 7\n",
      "Data columns (total 2 columns):\n",
      " #   Column          Non-Null Count  Dtype \n",
      "---  ------          --------------  ----- \n",
      " 0   model           8 non-null      object\n",
      " 1   flights_amount  8 non-null      int64 \n",
      "dtypes: int64(1), object(1)\n",
      "memory usage: 256.0+ bytes\n"
     ]
    },
    {
     "data": {
      "text/plain": [
       "None"
      ]
     },
     "metadata": {},
     "output_type": "display_data"
    },
    {
     "data": {
      "text/html": [
       "<div>\n",
       "<style scoped>\n",
       "    .dataframe tbody tr th:only-of-type {\n",
       "        vertical-align: middle;\n",
       "    }\n",
       "\n",
       "    .dataframe tbody tr th {\n",
       "        vertical-align: top;\n",
       "    }\n",
       "\n",
       "    .dataframe thead th {\n",
       "        text-align: right;\n",
       "    }\n",
       "</style>\n",
       "<table border=\"1\" class=\"dataframe\">\n",
       "  <thead>\n",
       "    <tr style=\"text-align: right;\">\n",
       "      <th></th>\n",
       "      <th>flights_amount</th>\n",
       "    </tr>\n",
       "  </thead>\n",
       "  <tbody>\n",
       "    <tr>\n",
       "      <th>count</th>\n",
       "      <td>8.000000</td>\n",
       "    </tr>\n",
       "    <tr>\n",
       "      <th>mean</th>\n",
       "      <td>2035.625000</td>\n",
       "    </tr>\n",
       "    <tr>\n",
       "      <th>std</th>\n",
       "      <td>1965.203947</td>\n",
       "    </tr>\n",
       "    <tr>\n",
       "      <th>min</th>\n",
       "      <td>300.000000</td>\n",
       "    </tr>\n",
       "    <tr>\n",
       "      <th>25%</th>\n",
       "      <td>605.250000</td>\n",
       "    </tr>\n",
       "    <tr>\n",
       "      <th>50%</th>\n",
       "      <td>795.000000</td>\n",
       "    </tr>\n",
       "    <tr>\n",
       "      <th>75%</th>\n",
       "      <td>4250.250000</td>\n",
       "    </tr>\n",
       "    <tr>\n",
       "      <th>max</th>\n",
       "      <td>4557.000000</td>\n",
       "    </tr>\n",
       "  </tbody>\n",
       "</table>\n",
       "</div>"
      ],
      "text/plain": [
       "       flights_amount\n",
       "count        8.000000\n",
       "mean      2035.625000\n",
       "std       1965.203947\n",
       "min        300.000000\n",
       "25%        605.250000\n",
       "50%        795.000000\n",
       "75%       4250.250000\n",
       "max       4557.000000"
      ]
     },
     "metadata": {},
     "output_type": "display_data"
    }
   ],
   "source": [
    "models = pd.read_csv('https://www.dropbox.com/s/i2x19oogzilhoij/query_1.csv?dl=1')\n",
    "display(models.info())\n",
    "display(models.describe())"
   ]
  },
  {
   "cell_type": "markdown",
   "metadata": {},
   "source": [
    "Тоже самое второго датафрейма:"
   ]
  },
  {
   "cell_type": "code",
   "execution_count": 3,
   "metadata": {},
   "outputs": [
    {
     "name": "stdout",
     "output_type": "stream",
     "text": [
      "<class 'pandas.core.frame.DataFrame'>\n",
      "RangeIndex: 101 entries, 0 to 100\n",
      "Data columns (total 2 columns):\n",
      " #   Column           Non-Null Count  Dtype  \n",
      "---  ------           --------------  -----  \n",
      " 0   city             101 non-null    object \n",
      " 1   average_flights  101 non-null    float64\n",
      "dtypes: float64(1), object(1)\n",
      "memory usage: 1.7+ KB\n"
     ]
    },
    {
     "data": {
      "text/plain": [
       "None"
      ]
     },
     "metadata": {},
     "output_type": "display_data"
    },
    {
     "data": {
      "text/html": [
       "<div>\n",
       "<style scoped>\n",
       "    .dataframe tbody tr th:only-of-type {\n",
       "        vertical-align: middle;\n",
       "    }\n",
       "\n",
       "    .dataframe tbody tr th {\n",
       "        vertical-align: top;\n",
       "    }\n",
       "\n",
       "    .dataframe thead th {\n",
       "        text-align: right;\n",
       "    }\n",
       "</style>\n",
       "<table border=\"1\" class=\"dataframe\">\n",
       "  <thead>\n",
       "    <tr style=\"text-align: right;\">\n",
       "      <th></th>\n",
       "      <th>average_flights</th>\n",
       "    </tr>\n",
       "  </thead>\n",
       "  <tbody>\n",
       "    <tr>\n",
       "      <th>count</th>\n",
       "      <td>101.000000</td>\n",
       "    </tr>\n",
       "    <tr>\n",
       "      <th>mean</th>\n",
       "      <td>5.494189</td>\n",
       "    </tr>\n",
       "    <tr>\n",
       "      <th>std</th>\n",
       "      <td>13.119790</td>\n",
       "    </tr>\n",
       "    <tr>\n",
       "      <th>min</th>\n",
       "      <td>1.000000</td>\n",
       "    </tr>\n",
       "    <tr>\n",
       "      <th>25%</th>\n",
       "      <td>2.000000</td>\n",
       "    </tr>\n",
       "    <tr>\n",
       "      <th>50%</th>\n",
       "      <td>3.000000</td>\n",
       "    </tr>\n",
       "    <tr>\n",
       "      <th>75%</th>\n",
       "      <td>5.870968</td>\n",
       "    </tr>\n",
       "    <tr>\n",
       "      <th>max</th>\n",
       "      <td>129.774194</td>\n",
       "    </tr>\n",
       "  </tbody>\n",
       "</table>\n",
       "</div>"
      ],
      "text/plain": [
       "       average_flights\n",
       "count       101.000000\n",
       "mean          5.494189\n",
       "std          13.119790\n",
       "min           1.000000\n",
       "25%           2.000000\n",
       "50%           3.000000\n",
       "75%           5.870968\n",
       "max         129.774194"
      ]
     },
     "metadata": {},
     "output_type": "display_data"
    }
   ],
   "source": [
    "cities = pd.read_csv('https://www.dropbox.com/s/9slcsx31yvffueg/query_3.csv?dl=1')\n",
    "display(cities.info())\n",
    "display(cities.describe())"
   ]
  },
  {
   "cell_type": "markdown",
   "metadata": {},
   "source": [
    "### Вывод"
   ]
  },
  {
   "cell_type": "markdown",
   "metadata": {},
   "source": [
    "Пропуски в данных отсутствуют. Аномалии явно прослеживаются в таблице с моделями бортов (большая разница между средним и медианным). "
   ]
  },
  {
   "cell_type": "markdown",
   "metadata": {},
   "source": [
    "Рассмотрим 10 наиболее активных направлений/отправных точек."
   ]
  },
  {
   "cell_type": "code",
   "execution_count": 4,
   "metadata": {},
   "outputs": [
    {
     "data": {
      "text/html": [
       "<div>\n",
       "<style scoped>\n",
       "    .dataframe tbody tr th:only-of-type {\n",
       "        vertical-align: middle;\n",
       "    }\n",
       "\n",
       "    .dataframe tbody tr th {\n",
       "        vertical-align: top;\n",
       "    }\n",
       "\n",
       "    .dataframe thead th {\n",
       "        text-align: right;\n",
       "    }\n",
       "</style>\n",
       "<table border=\"1\" class=\"dataframe\">\n",
       "  <thead>\n",
       "    <tr style=\"text-align: right;\">\n",
       "      <th></th>\n",
       "      <th>city</th>\n",
       "      <th>average_flights</th>\n",
       "    </tr>\n",
       "  </thead>\n",
       "  <tbody>\n",
       "    <tr>\n",
       "      <th>43</th>\n",
       "      <td>Москва</td>\n",
       "      <td>129.774194</td>\n",
       "    </tr>\n",
       "    <tr>\n",
       "      <th>70</th>\n",
       "      <td>Санкт-Петербург</td>\n",
       "      <td>31.161290</td>\n",
       "    </tr>\n",
       "    <tr>\n",
       "      <th>54</th>\n",
       "      <td>Новосибирск</td>\n",
       "      <td>17.322581</td>\n",
       "    </tr>\n",
       "    <tr>\n",
       "      <th>33</th>\n",
       "      <td>Красноярск</td>\n",
       "      <td>11.580645</td>\n",
       "    </tr>\n",
       "    <tr>\n",
       "      <th>20</th>\n",
       "      <td>Екатеринбург</td>\n",
       "      <td>11.322581</td>\n",
       "    </tr>\n",
       "    <tr>\n",
       "      <th>67</th>\n",
       "      <td>Ростов-на-Дону</td>\n",
       "      <td>10.193548</td>\n",
       "    </tr>\n",
       "    <tr>\n",
       "      <th>63</th>\n",
       "      <td>Пермь</td>\n",
       "      <td>10.129032</td>\n",
       "    </tr>\n",
       "    <tr>\n",
       "      <th>10</th>\n",
       "      <td>Брянск</td>\n",
       "      <td>10.000000</td>\n",
       "    </tr>\n",
       "    <tr>\n",
       "      <th>74</th>\n",
       "      <td>Сочи</td>\n",
       "      <td>9.612903</td>\n",
       "    </tr>\n",
       "    <tr>\n",
       "      <th>84</th>\n",
       "      <td>Ульяновск</td>\n",
       "      <td>9.580645</td>\n",
       "    </tr>\n",
       "  </tbody>\n",
       "</table>\n",
       "</div>"
      ],
      "text/plain": [
       "               city  average_flights\n",
       "43           Москва       129.774194\n",
       "70  Санкт-Петербург        31.161290\n",
       "54      Новосибирск        17.322581\n",
       "33       Красноярск        11.580645\n",
       "20     Екатеринбург        11.322581\n",
       "67   Ростов-на-Дону        10.193548\n",
       "63            Пермь        10.129032\n",
       "10           Брянск        10.000000\n",
       "74             Сочи         9.612903\n",
       "84        Ульяновск         9.580645"
      ]
     },
     "execution_count": 4,
     "metadata": {},
     "output_type": "execute_result"
    }
   ],
   "source": [
    "cities = cities.sort_values(by = 'average_flights', ascending = False)\n",
    "cities.head(10)"
   ]
  },
  {
   "cell_type": "code",
   "execution_count": 5,
   "metadata": {},
   "outputs": [
    {
     "data": {
      "image/png": "[encoded data removed]",
      "text/plain": [
       "<Figure size 432x432 with 1 Axes>"
      ]
     },
     "metadata": {},
     "output_type": "display_data"
    }
   ],
   "source": [
    "plt.figure(figsize=(6,6))\n",
    "plt.pie(cities.average_flights.head(10), labels = cities.city.head(10))\n",
    "plt.show()"
   ]
  },
  {
   "cell_type": "markdown",
   "metadata": {},
   "source": [
    "Десятка аэропортов с самыми многочисленными полётами замыкается г. Ульяновск."
   ]
  },
  {
   "cell_type": "code",
   "execution_count": 6,
   "metadata": {},
   "outputs": [
    {
     "data": {
      "image/png": "[encoded data removed]",
      "text/plain": [
       "<Figure size 1440x432 with 1 Axes>"
      ]
     },
     "metadata": {
      "needs_background": "light"
     },
     "output_type": "display_data"
    }
   ],
   "source": [
    "plt.figure(figsize=(20,6))\n",
    "\n",
    "plt.bar(cities.city.head(20), cities.average_flights.head(20))\n",
    "plt.xticks(rotation = 45,fontsize=12)\n",
    "plt.title(\"Зависимость числа отправлений по городам\", fontsize=15)\n",
    "plt.ylabel('Среднее количество полётов в день',fontsize=12)\n",
    "plt.show()"
   ]
  },
  {
   "cell_type": "markdown",
   "metadata": {},
   "source": [
    "Данные по полётам из аэропортов различных городов предсказуемо говорят о лидерстве Москвы и СПб в количестве отправлений. Остальные города составляют незначительные величины в сравнении с этими 2мя. После Ульяновска, замыкающего десятку самых многочисленных, идёт монотонное снижение числа отправлений."
   ]
  },
  {
   "cell_type": "markdown",
   "metadata": {},
   "source": [
    "Исследование данных из файла с моделям самолётов показали подозрительно разнящиеся данные по средним и медианным величинам. Рассмотрим данные первого фрейма подробнее."
   ]
  },
  {
   "cell_type": "code",
   "execution_count": 7,
   "metadata": {},
   "outputs": [
    {
     "data": {
      "text/html": [
       "<div>\n",
       "<style scoped>\n",
       "    .dataframe tbody tr th:only-of-type {\n",
       "        vertical-align: middle;\n",
       "    }\n",
       "\n",
       "    .dataframe tbody tr th {\n",
       "        vertical-align: top;\n",
       "    }\n",
       "\n",
       "    .dataframe thead th {\n",
       "        text-align: right;\n",
       "    }\n",
       "</style>\n",
       "<table border=\"1\" class=\"dataframe\">\n",
       "  <thead>\n",
       "    <tr style=\"text-align: right;\">\n",
       "      <th></th>\n",
       "      <th>model</th>\n",
       "      <th>flights_amount</th>\n",
       "    </tr>\n",
       "  </thead>\n",
       "  <tbody>\n",
       "    <tr>\n",
       "      <th>0</th>\n",
       "      <td>Airbus A319-100</td>\n",
       "      <td>607</td>\n",
       "    </tr>\n",
       "    <tr>\n",
       "      <th>1</th>\n",
       "      <td>Airbus A321-200</td>\n",
       "      <td>960</td>\n",
       "    </tr>\n",
       "    <tr>\n",
       "      <th>2</th>\n",
       "      <td>Boeing 737-300</td>\n",
       "      <td>630</td>\n",
       "    </tr>\n",
       "    <tr>\n",
       "      <th>3</th>\n",
       "      <td>Boeing 767-300</td>\n",
       "      <td>600</td>\n",
       "    </tr>\n",
       "    <tr>\n",
       "      <th>4</th>\n",
       "      <td>Boeing 777-300</td>\n",
       "      <td>300</td>\n",
       "    </tr>\n",
       "    <tr>\n",
       "      <th>5</th>\n",
       "      <td>Bombardier CRJ-200</td>\n",
       "      <td>4446</td>\n",
       "    </tr>\n",
       "    <tr>\n",
       "      <th>6</th>\n",
       "      <td>Cessna 208 Caravan</td>\n",
       "      <td>4557</td>\n",
       "    </tr>\n",
       "    <tr>\n",
       "      <th>7</th>\n",
       "      <td>Sukhoi SuperJet-100</td>\n",
       "      <td>4185</td>\n",
       "    </tr>\n",
       "  </tbody>\n",
       "</table>\n",
       "</div>"
      ],
      "text/plain": [
       "                 model  flights_amount\n",
       "0      Airbus A319-100             607\n",
       "1      Airbus A321-200             960\n",
       "2       Boeing 737-300             630\n",
       "3       Boeing 767-300             600\n",
       "4       Boeing 777-300             300\n",
       "5   Bombardier CRJ-200            4446\n",
       "6   Cessna 208 Caravan            4557\n",
       "7  Sukhoi SuperJet-100            4185"
      ]
     },
     "metadata": {},
     "output_type": "display_data"
    }
   ],
   "source": [
    "display(models)"
   ]
  },
  {
   "cell_type": "markdown",
   "metadata": {},
   "source": [
    "Аномальные значения 3х самолётов Bombardier CRJ-200, Cessna 208 Caravan, Sukhoi SuperJet-100 предположительно составляют годовую величину. Заменим значения на предположительную среднемесячную."
   ]
  },
  {
   "cell_type": "code",
   "execution_count": 8,
   "metadata": {},
   "outputs": [
    {
     "data": {
      "text/html": [
       "<div>\n",
       "<style scoped>\n",
       "    .dataframe tbody tr th:only-of-type {\n",
       "        vertical-align: middle;\n",
       "    }\n",
       "\n",
       "    .dataframe tbody tr th {\n",
       "        vertical-align: top;\n",
       "    }\n",
       "\n",
       "    .dataframe thead th {\n",
       "        text-align: right;\n",
       "    }\n",
       "</style>\n",
       "<table border=\"1\" class=\"dataframe\">\n",
       "  <thead>\n",
       "    <tr style=\"text-align: right;\">\n",
       "      <th></th>\n",
       "      <th>model</th>\n",
       "      <th>flights_amount</th>\n",
       "    </tr>\n",
       "  </thead>\n",
       "  <tbody>\n",
       "    <tr>\n",
       "      <th>0</th>\n",
       "      <td>Airbus A319-100</td>\n",
       "      <td>607.00</td>\n",
       "    </tr>\n",
       "    <tr>\n",
       "      <th>1</th>\n",
       "      <td>Airbus A321-200</td>\n",
       "      <td>960.00</td>\n",
       "    </tr>\n",
       "    <tr>\n",
       "      <th>2</th>\n",
       "      <td>Boeing 737-300</td>\n",
       "      <td>630.00</td>\n",
       "    </tr>\n",
       "    <tr>\n",
       "      <th>3</th>\n",
       "      <td>Boeing 767-300</td>\n",
       "      <td>600.00</td>\n",
       "    </tr>\n",
       "    <tr>\n",
       "      <th>4</th>\n",
       "      <td>Boeing 777-300</td>\n",
       "      <td>300.00</td>\n",
       "    </tr>\n",
       "    <tr>\n",
       "      <th>5</th>\n",
       "      <td>Bombardier CRJ-200</td>\n",
       "      <td>370.50</td>\n",
       "    </tr>\n",
       "    <tr>\n",
       "      <th>6</th>\n",
       "      <td>Cessna 208 Caravan</td>\n",
       "      <td>379.75</td>\n",
       "    </tr>\n",
       "    <tr>\n",
       "      <th>7</th>\n",
       "      <td>Sukhoi SuperJet-100</td>\n",
       "      <td>348.75</td>\n",
       "    </tr>\n",
       "  </tbody>\n",
       "</table>\n",
       "</div>"
      ],
      "text/plain": [
       "                 model  flights_amount\n",
       "0      Airbus A319-100          607.00\n",
       "1      Airbus A321-200          960.00\n",
       "2       Boeing 737-300          630.00\n",
       "3       Boeing 767-300          600.00\n",
       "4       Boeing 777-300          300.00\n",
       "5   Bombardier CRJ-200          370.50\n",
       "6   Cessna 208 Caravan          379.75\n",
       "7  Sukhoi SuperJet-100          348.75"
      ]
     },
     "metadata": {},
     "output_type": "display_data"
    }
   ],
   "source": [
    "models.flights_amount = np.where(models.flights_amount > 1000, models.flights_amount/12, models.flights_amount )\n",
    "display(models)"
   ]
  },
  {
   "cell_type": "code",
   "execution_count": 9,
   "metadata": {},
   "outputs": [
    {
     "data": {
      "image/png": "[encoded data removed]",
      "text/plain": [
       "<Figure size 432x432 with 1 Axes>"
      ]
     },
     "metadata": {},
     "output_type": "display_data"
    }
   ],
   "source": [
    "plt.figure(figsize=(6,6))\n",
    "plt.pie(models.flights_amount, labels = models.model)\n",
    "plt.show()"
   ]
  },
  {
   "cell_type": "markdown",
   "metadata": {},
   "source": [
    "Как видно из графика - основные марки бортов - Boeing и Airbus"
   ]
  },
  {
   "cell_type": "markdown",
   "metadata": {},
   "source": [
    "### Вывод"
   ]
  },
  {
   "cell_type": "markdown",
   "metadata": {},
   "source": [
    "Анализ показал ожидаемые результаты по лидерству среднего количества рейсов в МСК и СПб. Аномалии по моделям бортов предположительно возникшие в результате ошибочного указания годовых значений заменены на среднемесячные. Борт-лидер по перевозкам - AirbusA321."
   ]
  },
  {
   "cell_type": "markdown",
   "metadata": {},
   "source": [
    "## Общий вывод"
   ]
  },
  {
   "cell_type": "markdown",
   "metadata": {},
   "source": [
    "- Компания Airbus - является наиболее предпочтительной для Российских пассажиров, поскольку является лидером среди бортов по числу перелётов. \n",
    "- При этом наибольшая численность перелётов приходится на Москву и СПб. \n",
    "- Анализ недельных данных по перелётам (SQL) показал слабую зависимость недельного числа перелётов от проводимых в МСК фестов., что говорит о низкой роли авиаперевозок в целевой категории \"участники Москвоских фестов\" в исследуемый период."
   ]
  }
 ],
 "metadata": {
  "ExecuteTimeLog": [
   {
    "duration": 1323,
    "start_time": "2021-08-29T17:51:16.031Z"
   },
   {
    "duration": 18,
    "start_time": "2021-08-29T17:51:18.244Z"
   },
   {
    "duration": 856,
    "start_time": "2021-08-29T17:51:29.598Z"
   },
   {
    "duration": 17,
    "start_time": "2021-08-29T17:51:32.658Z"
   },
   {
    "duration": 29,
    "start_time": "2021-08-29T17:51:37.822Z"
   },
   {
    "duration": 16,
    "start_time": "2021-08-29T17:52:38.741Z"
   },
   {
    "duration": 25,
    "start_time": "2021-08-29T17:52:46.844Z"
   },
   {
    "duration": 312,
    "start_time": "2021-08-30T11:56:33.305Z"
   },
   {
    "duration": 1520,
    "start_time": "2021-08-30T11:56:43.304Z"
   },
   {
    "duration": 27,
    "start_time": "2021-08-30T11:56:44.826Z"
   },
   {
    "duration": 32,
    "start_time": "2021-08-30T11:56:44.856Z"
   },
   {
    "duration": 318,
    "start_time": "2021-08-30T11:56:44.991Z"
   },
   {
    "duration": 16,
    "start_time": "2021-08-30T11:56:55.448Z"
   },
   {
    "duration": 279,
    "start_time": "2021-08-30T11:57:10.327Z"
   },
   {
    "duration": 13,
    "start_time": "2021-08-30T11:57:16.463Z"
   },
   {
    "duration": 12,
    "start_time": "2021-08-30T11:57:28.104Z"
   },
   {
    "duration": 23,
    "start_time": "2021-08-30T12:01:08.236Z"
   },
   {
    "duration": 21,
    "start_time": "2021-08-30T12:01:13.668Z"
   },
   {
    "duration": 41,
    "start_time": "2021-08-30T12:04:00.842Z"
   },
   {
    "duration": 36,
    "start_time": "2021-08-30T12:06:21.977Z"
   },
   {
    "duration": 9,
    "start_time": "2021-08-30T12:12:30.336Z"
   },
   {
    "duration": 275,
    "start_time": "2021-08-30T12:29:21.425Z"
   },
   {
    "duration": 4,
    "start_time": "2021-08-30T12:29:43.111Z"
   },
   {
    "duration": 11,
    "start_time": "2021-08-30T12:29:46.664Z"
   },
   {
    "duration": 12,
    "start_time": "2021-08-30T12:30:05.807Z"
   },
   {
    "duration": 308,
    "start_time": "2021-08-30T12:31:58.510Z"
   },
   {
    "duration": 447,
    "start_time": "2021-08-30T12:32:20.061Z"
   },
   {
    "duration": 265,
    "start_time": "2021-08-30T12:32:27.733Z"
   },
   {
    "duration": 11,
    "start_time": "2021-08-30T12:32:58.341Z"
   },
   {
    "duration": 301,
    "start_time": "2021-08-30T12:45:27.868Z"
   },
   {
    "duration": 4,
    "start_time": "2021-08-30T12:46:17.298Z"
   },
   {
    "duration": 817,
    "start_time": "2021-08-30T12:46:23.015Z"
   },
   {
    "duration": 119,
    "start_time": "2021-08-30T12:47:01.550Z"
   },
   {
    "duration": 143,
    "start_time": "2021-08-30T12:47:11.550Z"
   },
   {
    "duration": 6,
    "start_time": "2021-08-30T12:47:49.302Z"
   },
   {
    "duration": 13,
    "start_time": "2021-08-30T12:47:59.029Z"
   },
   {
    "duration": 141,
    "start_time": "2021-08-30T12:48:05.765Z"
   },
   {
    "duration": 175,
    "start_time": "2021-08-30T12:48:31.940Z"
   },
   {
    "duration": 233,
    "start_time": "2021-08-30T12:50:21.707Z"
   },
   {
    "duration": 675,
    "start_time": "2021-08-30T12:50:45.323Z"
   },
   {
    "duration": 164,
    "start_time": "2021-08-30T12:50:53.284Z"
   },
   {
    "duration": 775,
    "start_time": "2021-08-30T12:52:07.073Z"
   },
   {
    "duration": 520,
    "start_time": "2021-08-30T12:52:22.978Z"
   },
   {
    "duration": 165,
    "start_time": "2021-08-30T12:52:35.634Z"
   },
   {
    "duration": 1625,
    "start_time": "2021-08-30T17:41:53.484Z"
   },
   {
    "duration": 49,
    "start_time": "2021-08-30T17:41:55.112Z"
   },
   {
    "duration": 39,
    "start_time": "2021-08-30T17:41:55.165Z"
   },
   {
    "duration": 2302,
    "start_time": "2021-08-30T17:41:55.207Z"
   },
   {
    "duration": 15,
    "start_time": "2021-08-30T17:41:57.511Z"
   },
   {
    "duration": 196,
    "start_time": "2021-08-30T17:41:57.529Z"
   },
   {
    "duration": 9,
    "start_time": "2021-08-30T17:41:57.728Z"
   },
   {
    "duration": 30,
    "start_time": "2021-08-30T17:41:57.740Z"
   },
   {
    "duration": 202,
    "start_time": "2021-08-30T17:41:57.773Z"
   },
   {
    "duration": 3511,
    "start_time": "2021-08-30T17:43:06.783Z"
   },
   {
    "duration": 2541,
    "start_time": "2021-08-30T17:43:20.485Z"
   },
   {
    "duration": 2347,
    "start_time": "2021-08-30T17:44:22.661Z"
   },
   {
    "duration": 2393,
    "start_time": "2021-08-30T17:45:43.412Z"
   },
   {
    "duration": 2434,
    "start_time": "2021-08-30T17:45:52.437Z"
   },
   {
    "duration": 1528,
    "start_time": "2021-08-30T17:46:12.097Z"
   },
   {
    "duration": 45,
    "start_time": "2021-08-30T17:46:13.628Z"
   },
   {
    "duration": 47,
    "start_time": "2021-08-30T17:46:13.676Z"
   },
   {
    "duration": 2436,
    "start_time": "2021-08-30T17:46:13.726Z"
   },
   {
    "duration": 15,
    "start_time": "2021-08-30T17:46:16.165Z"
   },
   {
    "duration": 198,
    "start_time": "2021-08-30T17:46:16.183Z"
   },
   {
    "duration": 12,
    "start_time": "2021-08-30T17:46:16.384Z"
   },
   {
    "duration": 26,
    "start_time": "2021-08-30T17:46:16.399Z"
   },
   {
    "duration": 191,
    "start_time": "2021-08-30T17:46:16.427Z"
   },
   {
    "duration": 2386,
    "start_time": "2021-08-30T17:46:31.759Z"
   },
   {
    "duration": 1468,
    "start_time": "2021-08-30T17:46:45.145Z"
   },
   {
    "duration": 51,
    "start_time": "2021-08-30T17:46:46.616Z"
   },
   {
    "duration": 37,
    "start_time": "2021-08-30T17:46:46.670Z"
   },
   {
    "duration": 2422,
    "start_time": "2021-08-30T17:46:46.710Z"
   },
   {
    "duration": 12,
    "start_time": "2021-08-30T17:46:49.135Z"
   },
   {
    "duration": 185,
    "start_time": "2021-08-30T17:46:49.167Z"
   },
   {
    "duration": 13,
    "start_time": "2021-08-30T17:46:49.359Z"
   },
   {
    "duration": 19,
    "start_time": "2021-08-30T17:46:49.375Z"
   },
   {
    "duration": 196,
    "start_time": "2021-08-30T17:46:49.397Z"
   },
   {
    "duration": 2508,
    "start_time": "2021-08-30T17:47:11.099Z"
   },
   {
    "duration": 2552,
    "start_time": "2021-08-30T17:47:23.331Z"
   },
   {
    "duration": 1012,
    "start_time": "2021-08-30T17:48:11.119Z"
   },
   {
    "duration": 3023,
    "start_time": "2021-08-30T17:48:37.677Z"
   },
   {
    "duration": 2924,
    "start_time": "2021-08-30T17:49:15.477Z"
   },
   {
    "duration": 1404,
    "start_time": "2021-08-30T17:50:21.579Z"
   },
   {
    "duration": 626,
    "start_time": "2021-08-30T17:50:33.210Z"
   },
   {
    "duration": 1459,
    "start_time": "2021-08-30T17:50:49.974Z"
   },
   {
    "duration": 599,
    "start_time": "2021-08-30T17:52:11.854Z"
   },
   {
    "duration": 2814,
    "start_time": "2021-08-30T17:52:47.081Z"
   },
   {
    "duration": 2643,
    "start_time": "2021-08-30T17:56:03.687Z"
   },
   {
    "duration": 2703,
    "start_time": "2021-08-30T17:56:54.980Z"
   },
   {
    "duration": 2471,
    "start_time": "2021-08-30T17:58:22.120Z"
   },
   {
    "duration": 2465,
    "start_time": "2021-08-30T17:59:03.055Z"
   },
   {
    "duration": 2500,
    "start_time": "2021-08-30T17:59:25.812Z"
   },
   {
    "duration": 696,
    "start_time": "2021-08-30T18:00:04.789Z"
   },
   {
    "duration": 2657,
    "start_time": "2021-08-30T18:01:59.407Z"
   },
   {
    "duration": 2595,
    "start_time": "2021-08-30T18:03:54.195Z"
   },
   {
    "duration": 626,
    "start_time": "2021-08-30T18:04:35.216Z"
   },
   {
    "duration": 530,
    "start_time": "2021-08-30T18:04:46.430Z"
   },
   {
    "duration": 519,
    "start_time": "2021-08-30T18:07:45.496Z"
   },
   {
    "duration": 523,
    "start_time": "2021-08-30T18:08:09.558Z"
   },
   {
    "duration": 522,
    "start_time": "2021-08-30T18:12:09.017Z"
   },
   {
    "duration": 539,
    "start_time": "2021-08-30T18:14:43.429Z"
   },
   {
    "duration": 645,
    "start_time": "2021-08-30T18:15:37.224Z"
   },
   {
    "duration": 542,
    "start_time": "2021-08-30T18:16:11.165Z"
   },
   {
    "duration": 500,
    "start_time": "2021-08-30T18:16:22.000Z"
   },
   {
    "duration": 800,
    "start_time": "2021-08-30T18:16:34.498Z"
   },
   {
    "duration": 540,
    "start_time": "2021-08-30T18:16:41.034Z"
   },
   {
    "duration": 537,
    "start_time": "2021-08-30T18:16:51.845Z"
   },
   {
    "duration": 526,
    "start_time": "2021-08-30T18:17:25.022Z"
   },
   {
    "duration": 525,
    "start_time": "2021-08-30T18:17:52.562Z"
   },
   {
    "duration": 552,
    "start_time": "2021-08-30T18:19:39.481Z"
   },
   {
    "duration": 541,
    "start_time": "2021-08-30T18:19:46.807Z"
   },
   {
    "duration": 693,
    "start_time": "2021-08-30T18:20:01.500Z"
   },
   {
    "duration": 601,
    "start_time": "2021-08-30T18:20:19.532Z"
   },
   {
    "duration": 548,
    "start_time": "2021-08-30T18:20:32.358Z"
   },
   {
    "duration": 56,
    "start_time": "2021-08-30T19:40:35.255Z"
   }
  ],
  "kernelspec": {
   "display_name": "Python 3",
   "language": "python",
   "name": "python3"
  },
  "language_info": {
   "codemirror_mode": {
    "name": "ipython",
    "version": 3
   },
   "file_extension": ".py",
   "mimetype": "text/x-python",
   "name": "python",
   "nbconvert_exporter": "python",
   "pygments_lexer": "ipython3",
   "version": "3.8.8"
  },
  "toc": {
   "base_numbering": 1,
   "nav_menu": {},
   "number_sections": true,
   "sideBar": true,
   "skip_h1_title": true,
   "title_cell": "Table of Contents",
   "title_sidebar": "Contents",
   "toc_cell": false,
   "toc_position": {},
   "toc_section_display": true,
   "toc_window_display": false
  }
 },
 "nbformat": 4,
 "nbformat_minor": 2
}
